{
 "cells": [
  {
   "cell_type": "markdown",
   "metadata": {},
   "source": [
    "### Imports and configuration"
   ]
  },
  {
   "cell_type": "code",
   "execution_count": 7,
   "metadata": {
    "ExecuteTime": {
     "end_time": "2020-06-24T23:37:40.616379Z",
     "start_time": "2020-06-24T23:37:40.611647Z"
    }
   },
   "outputs": [],
   "source": [
    "# setup variables\n",
    "\n",
    "import os\n",
    "import json\n",
    "import tqdm\n",
    "from s2orc.config import CURRENT_VERSION\n",
    "\n",
    "LOCAL_S2ORC_DIR = 's2orc-data'\n",
    "local_manifest_file = os.path.join(LOCAL_S2ORC_DIR, CURRENT_VERSION, 'manifest.json')\n"
   ]
  },
  {
   "cell_type": "markdown",
   "metadata": {},
   "source": [
    "### Filter psychology papers"
   ]
  },
  {
   "cell_type": "code",
   "execution_count": 8,
   "metadata": {
    "ExecuteTime": {
     "end_time": "2020-06-24T23:37:40.624477Z",
     "start_time": "2020-06-24T23:37:40.619189Z"
    }
   },
   "outputs": [],
   "source": [
    "# ---- CONFIG ----- #\n",
    "\n",
    "# jsonlines https://jsonlines.readthedocs.io/en/latest/#api\n",
    "import jsonlines\n",
    "import gzip\n",
    "\n",
    "paper_dir = os.path.join(LOCAL_S2ORC_DIR, CURRENT_VERSION, 'papers')\n",
    "\n",
    "psychology_paper_dir = os.path.join(LOCAL_S2ORC_DIR, CURRENT_VERSION, 'psychology')\n",
    "psychology_paper_suffix = 'psych.text.jsonl'\n"
   ]
  },
  {
   "cell_type": "markdown",
   "metadata": {},
   "source": [
    "### Extract list of journals meeting our criteria"
   ]
  },
  {
   "cell_type": "code",
   "execution_count": 3,
   "metadata": {
    "ExecuteTime": {
     "end_time": "2020-06-24T23:36:50.480744Z",
     "start_time": "2020-06-24T23:36:48.085436Z"
    },
    "deletable": false,
    "editable": false,
    "run_control": {
     "frozen": true
    },
    "scrolled": true
   },
   "outputs": [
    {
     "name": "stderr",
     "output_type": "stream",
     "text": [
      "  0%|          | 0/100 [00:02<?, ?it/s]\n"
     ]
    },
    {
     "ename": "NameError",
     "evalue": "name 're' is not defined",
     "output_type": "error",
     "traceback": [
      "\u001b[0;31m---------------------------------------------------------------------------\u001b[0m",
      "\u001b[0;31mNameError\u001b[0m                                 Traceback (most recent call last)",
      "\u001b[0;32m<ipython-input-3-a469c888406e>\u001b[0m in \u001b[0;36m<module>\u001b[0;34m\u001b[0m\n\u001b[1;32m     12\u001b[0m         \u001b[0;32mfor\u001b[0m \u001b[0mpaper\u001b[0m \u001b[0;32min\u001b[0m \u001b[0mpapers\u001b[0m\u001b[0;34m:\u001b[0m\u001b[0;34m\u001b[0m\u001b[0;34m\u001b[0m\u001b[0m\n\u001b[1;32m     13\u001b[0m             \u001b[0mjournal\u001b[0m \u001b[0;34m=\u001b[0m \u001b[0mpaper\u001b[0m\u001b[0;34m[\u001b[0m\u001b[0;34m'metadata'\u001b[0m\u001b[0;34m]\u001b[0m\u001b[0;34m[\u001b[0m\u001b[0;34m'journal'\u001b[0m\u001b[0;34m]\u001b[0m\u001b[0;34m\u001b[0m\u001b[0;34m\u001b[0m\u001b[0m\n\u001b[0;32m---> 14\u001b[0;31m             \u001b[0;32mif\u001b[0m \u001b[0mjournal\u001b[0m \u001b[0;32mis\u001b[0m \u001b[0;32mnot\u001b[0m \u001b[0;32mNone\u001b[0m \u001b[0;32mand\u001b[0m \u001b[0mre\u001b[0m\u001b[0;34m.\u001b[0m\u001b[0msearch\u001b[0m\u001b[0;34m(\u001b[0m\u001b[0mpsych_journal_re\u001b[0m\u001b[0;34m,\u001b[0m \u001b[0mjournal\u001b[0m\u001b[0;34m,\u001b[0m \u001b[0mre\u001b[0m\u001b[0;34m.\u001b[0m\u001b[0mI\u001b[0m\u001b[0;34m)\u001b[0m \u001b[0;32mis\u001b[0m \u001b[0;32mnot\u001b[0m \u001b[0;32mNone\u001b[0m\u001b[0;34m:\u001b[0m\u001b[0;34m\u001b[0m\u001b[0;34m\u001b[0m\u001b[0m\n\u001b[0m\u001b[1;32m     15\u001b[0m                 \u001b[0mpsych_journals\u001b[0m\u001b[0;34m.\u001b[0m\u001b[0madd\u001b[0m\u001b[0;34m(\u001b[0m\u001b[0mjournal\u001b[0m\u001b[0;34m)\u001b[0m\u001b[0;34m\u001b[0m\u001b[0;34m\u001b[0m\u001b[0m\n",
      "\u001b[0;31mNameError\u001b[0m: name 're' is not defined"
     ]
    }
   ],
   "source": [
    "import re\n",
    "start = 0\n",
    "span = 100\n",
    "\n",
    "psych_journal_re = r'(\\s|^)psycho'\n",
    "psych_journals = set()\n",
    "\n",
    "batch_files = sorted(os.listdir(paper_dir), key=lambda f: int(f.split('.')[0]))[start:(start+span)]\n",
    "for batch_file in tqdm.tqdm(batch_files):\n",
    "    batch_number = batch_file.split('.')[0]\n",
    "    with gzip.open(os.path.join(paper_dir, batch_file), 'rb') as f_in:\n",
    "        papers = list(jsonlines.Reader(f_in))\n",
    "        for paper in papers:\n",
    "            journal = paper['metadata']['journal']\n",
    "            if journal is not None and re.search(psych_journal_re, journal, re.I) is not None:\n",
    "                psych_journals.add(journal)\n"
   ]
  },
  {
   "cell_type": "markdown",
   "metadata": {},
   "source": [
    "### Save to disk a clean set of full-grobid-parse psychology papers"
   ]
  },
  {
   "cell_type": "code",
   "execution_count": 9,
   "metadata": {
    "ExecuteTime": {
     "end_time": "2020-06-25T02:17:57.095170Z",
     "start_time": "2020-06-24T23:37:40.627896Z"
    },
    "scrolled": false
   },
   "outputs": [
    {
     "name": "stderr",
     "output_type": "stream",
     "text": [
      "28295 papers found: 100%|██████████| 1700/1700 [2:40:16<00:00,  5.66s/it]  \n"
     ]
    }
   ],
   "source": [
    "import collections\n",
    "import re\n",
    "start = 0\n",
    "span = 1700\n",
    "\n",
    "# output\n",
    "ids_in_batch = collections.defaultdict(set)\n",
    "\n",
    "count = 0\n",
    "os.makedirs(psychology_paper_dir, exist_ok=True)\n",
    "batch_files = sorted(os.listdir(paper_dir), key=lambda f: int(f.split('.')[0]))[start:(start+span)]\n",
    "bar = tqdm.tqdm(batch_files)\n",
    "for batch_file in bar:\n",
    "    batch_number = batch_file.split('.')[0]\n",
    "    filtered_papers = []\n",
    "    with gzip.open(os.path.join(paper_dir, batch_file), 'rb') as f_in:\n",
    "        papers = list(jsonlines.Reader(f_in))\n",
    "        for paper in papers:\n",
    "#             if paper.get('grobid_parse') is not None and paper['metadata']['journal'] in psych_journals:\n",
    "            if paper.get('grobid_parse') is not None and re.search(psych_journal_re, paper['metadata']['journal'] or '', re.I) is not None: \n",
    "                filtered_papers.append(paper)\n",
    "                ids_in_batch[batch_number].add(paper['paper_id'])\n",
    "    count += len(filtered_papers)\n",
    "    bar.set_description(f'{count} papers found')\n",
    "    out_filename = '.'.join([batch_number, psychology_paper_suffix, 'gz'])\n",
    "    with gzip.open(os.path.join(psychology_paper_dir, out_filename), mode='w') as f_out:\n",
    "        jsonlines.Writer(f_out).write_all(filtered_papers)\n",
    "                "
   ]
  },
  {
   "cell_type": "markdown",
   "metadata": {},
   "source": [
    "### Find links"
   ]
  },
  {
   "cell_type": "code",
   "execution_count": 10,
   "metadata": {
    "ExecuteTime": {
     "end_time": "2020-06-25T02:17:57.130428Z",
     "start_time": "2020-06-25T02:17:57.115488Z"
    }
   },
   "outputs": [],
   "source": [
    "links_dir = os.path.join(LOCAL_S2ORC_DIR, CURRENT_VERSION, 'psych_links')\n",
    "links_suffix = 'psych.text.link.jsonl'"
   ]
  },
  {
   "cell_type": "code",
   "execution_count": 14,
   "metadata": {
    "ExecuteTime": {
     "end_time": "2020-06-25T05:51:55.844460Z",
     "start_time": "2020-06-25T05:51:55.678067Z"
    }
   },
   "outputs": [],
   "source": [
    "%load_ext autoreload\n"
   ]
  },
  {
   "cell_type": "code",
   "execution_count": null,
   "metadata": {},
   "outputs": [],
   "source": []
  },
  {
   "cell_type": "code",
   "execution_count": 15,
   "metadata": {
    "ExecuteTime": {
     "end_time": "2020-06-25T06:13:01.230493Z",
     "start_time": "2020-06-25T05:53:01.678069Z"
    }
   },
   "outputs": [
    {
     "name": "stderr",
     "output_type": "stream",
     "text": [
      "8599 links found: 100%|██████████| 1700/1700 [19:53<00:00,  1.42it/s]\n"
     ]
    }
   ],
   "source": [
    "\n",
    "# token context \n",
    "import functools\n",
    "from s2orc.get_citation_contexts import get_citation_contexts\n",
    "\n",
    "start = 0\n",
    "span = 1700\n",
    "min_context_size=40\n",
    "\n",
    "all_psych_ids = functools.reduce(lambda a,b: a.union(b), ids_in_batch.values())\n",
    "\n",
    "def make_links(papers_to_search, citing_paper, citation_contexts, relevant_paper_ids):\n",
    "    new_links = []\n",
    "    for this_batch_match_id in relevant_paper_ids:\n",
    "        this_batch_match = next(paper for paper in papers_to_search if paper['paper_id'] == this_batch_match_id)\n",
    "        citation_context = next(context for context in citation_contexts if context['cited_paper_id'] == this_batch_match_id)\n",
    "        new_links.append({\n",
    "            'citing_paper': citing_paper,\n",
    "            'citation_context': citation_context,\n",
    "            'cited_paper': this_batch_match,\n",
    "        })\n",
    "    return new_links\n",
    "\n",
    "count = 0\n",
    "os.makedirs(links_dir, exist_ok=True)\n",
    "batch_files = sorted(os.listdir(psychology_paper_dir), key=lambda f: int(f.split('.')[0]))[start:(start+span)]\n",
    "bar = tqdm.tqdm(batch_files)\n",
    "for batch_file in bar:\n",
    "    links = []\n",
    "    batch_number = batch_file.split('.')[0]\n",
    "    filtered_papers = []\n",
    "    with gzip.open(os.path.join(psychology_paper_dir, batch_file), 'rb') as f_in:\n",
    "        papers = list(jsonlines.Reader(f_in))\n",
    "        for citing_paper in papers:\n",
    "            citation_contexts = get_citation_contexts(citing_paper, toks_in_context=min_context_size)\n",
    "            cited_paper_ids = set(item['cited_paper_id'] for item in citation_contexts if item['cited_paper_id'] in all_psych_ids)\n",
    "            # find chunks where these cited papers can be found\n",
    "            \n",
    "            for relevant_batch, batch_paper_ids in ids_in_batch.items():\n",
    "                relevant_paper_ids = cited_paper_ids.intersection(batch_paper_ids)\n",
    "                if len(relevant_paper_ids) > 0:\n",
    "                    # the paper can be found here\n",
    "                    if relevant_batch == batch_number:\n",
    "                        links.extend(\n",
    "                            make_links(papers, citing_paper, citation_contexts, relevant_paper_ids)\n",
    "                        )\n",
    "                        \n",
    "                    else:\n",
    "                        with gzip.open(os.path.join(psychology_paper_dir, '.'.join([relevant_batch, psychology_paper_suffix, 'gz'])), 'rb') as f_relevant:\n",
    "#                             print(relevant_paper_ids)\n",
    "#                             print(ids_in_batch[relevant_batch])\n",
    "                            papers_in_batch = list(jsonlines.Reader(f_relevant))\n",
    "                            links.extend(\n",
    "                                make_links(papers_in_batch, citing_paper, citation_contexts, relevant_paper_ids)\n",
    "                            )\n",
    "    \n",
    "    count += len(links)\n",
    "    bar.set_description(f'{count} links found')\n",
    "    out_filename = '.'.join([batch_number, links_suffix, 'gz'])\n",
    "    with gzip.open(os.path.join(links_dir, out_filename), mode='w') as f_out:\n",
    "        jsonlines.Writer(f_out).write_all(links)\n",
    "        "
   ]
  },
  {
   "cell_type": "code",
   "execution_count": 17,
   "metadata": {
    "ExecuteTime": {
     "end_time": "2020-06-25T10:00:39.762976Z",
     "start_time": "2020-06-25T10:00:39.579937Z"
    },
    "scrolled": false
   },
   "outputs": [
    {
     "name": "stdout",
     "output_type": "stream",
     "text": [
      "{'abstract': 'Pain serves as a signal to elicit care from others. In turn, '\n",
      "             'displaying pain might be attractive because of the benefits it '\n",
      "             'might bring. Additionally, displaying pain is easy, because '\n",
      "             'helpers distinguish poorly between genuine pain and faked pain. '\n",
      "             'Hence, helpers face the problem of distinguishing true sufferers '\n",
      "             'from free riders, while sufferers face the problem of '\n",
      "             'communicating need convincingly. This article will propose '\n",
      "             'solutions to these adaptive problems. Based on theoretical '\n",
      "             'arguments and on empirical insights from lie detection research, '\n",
      "             'it will be argued that the credibility of pain signals cannot be '\n",
      "             'found in features of the signal itself, but in its context. '\n",
      "             'Namely, pain is obviously credible when the context features '\n",
      "             'unforgeable cues, such as an open wound or the enlarged abdomen '\n",
      "             'of a pregnant woman, but also external cues such as the ice '\n",
      "             'water in cold pressor tasks. In absence of such cues, pain can '\n",
      "             'become credible through costly consequences, such as refraining '\n",
      "             'from rewarding behaviors for a significant period. However, '\n",
      "             'these adaptive mechanisms for communicating need may not be '\n",
      "             'shaped for modern circumstances such as experimental settings '\n",
      "             'and therapeutic encounters.',\n",
      " 'acl_id': None,\n",
      " 'arxiv_id': None,\n",
      " 'authors': [{'first': 'Leander',\n",
      "              'last': 'Steinkopf',\n",
      "              'middle': [],\n",
      "              'suffix': ''}],\n",
      " 'doi': '10.1177/1474704916653964',\n",
      " 'journal': 'Evolutionary Psychology',\n",
      " 'pmc_id': None,\n",
      " 'pubmed_id': None,\n",
      " 'title': 'An Evolutionary Perspective on Pain Communication',\n",
      " 'venue': 'Evolutionary Psychology',\n",
      " 'year': '2016'}\n",
      "{'cite_end': 251,\n",
      " 'cite_start': 229,\n",
      " 'cite_str': '(DePaulo et al., 2003)',\n",
      " 'cited_paper_id': '2628630',\n",
      " 'context_string': '(DePaulo et al., 2003)',\n",
      " 'paper_id': '55684679',\n",
      " 'post_context': ' , as it is difficult to find markers of honest and faked '\n",
      "                 'pain (Bartlett et al., 2014) . Accordingly, it is hard to '\n",
      "                 'distinguish people in pain from people faking pain (Bartlett '\n",
      "                 'et al., 2014; H. D. Hadjistavropoulos et',\n",
      " 'pre_context': 'behavior and expression to judge whether the sender is lying '\n",
      "                'or telling the truth, or faking pain, as the case may '\n",
      "                'be.Third, both lines of research yield similar results. It is '\n",
      "                'hard to find behavioral markers of verbal deception '}\n",
      "{'abstract': 'Do people behave differently when they are lying compared with '\n",
      "             'when they are telling the truth? The combined results of 1,338 '\n",
      "             'estimates of 158 cues to deception are reported. Results show '\n",
      "             'that in some ways, liars are less forthcoming than truth '\n",
      "             'tellers, and they tell less compelling tales. They also make a '\n",
      "             'more negative impression and are more tense. Their stories '\n",
      "             'include fewer ordinary imperfections and unusual contents. '\n",
      "             'However, many behaviors showed no discernible links, or only '\n",
      "             'weak links, to deceit. Cues to deception were more pronounced '\n",
      "             'when people were motivated to succeed, especially when the '\n",
      "             'motivations were identity relevant rather than monetary or '\n",
      "             'material. Cues to deception were also stronger when lies were '\n",
      "             'about transgressions.',\n",
      " 'acl_id': None,\n",
      " 'arxiv_id': None,\n",
      " 'authors': [{'first': 'Bella',\n",
      "              'last': 'DePaulo',\n",
      "              'middle': ['M'],\n",
      "              'suffix': ''},\n",
      "             {'first': 'James',\n",
      "              'last': 'Lindsay',\n",
      "              'middle': ['J'],\n",
      "              'suffix': ''},\n",
      "             {'first': 'Brian',\n",
      "              'last': 'Malone',\n",
      "              'middle': ['E'],\n",
      "              'suffix': ''},\n",
      "             {'first': 'Laura',\n",
      "              'last': 'Muhlenbruck',\n",
      "              'middle': [],\n",
      "              'suffix': ''},\n",
      "             {'first': 'Kelly', 'last': 'Charlton', 'middle': [], 'suffix': ''},\n",
      "             {'first': 'Harris', 'last': 'Cooper', 'middle': [], 'suffix': ''}],\n",
      " 'doi': '10.1037/0033-2909.129.1.74',\n",
      " 'journal': 'Psychological bulletin',\n",
      " 'pmc_id': None,\n",
      " 'pubmed_id': '12555795',\n",
      " 'title': 'Cues to deception',\n",
      " 'venue': 'Psychological Bulletin',\n",
      " 'year': '2003'}\n"
     ]
    }
   ],
   "source": [
    "with gzip.open(os.path.join(links_dir, '1000.psych.text.link.jsonl.gz'), 'rb') as f_in:\n",
    "    links = list(jsonlines.Reader(f_in))\n",
    "import pprint\n",
    "pp = pprint.PrettyPrinter(indent=1)\n",
    "i = 1\n",
    "pp.pprint(links[i]['citing_paper']['metadata'])\n",
    "pp.pprint(links[i]['citation_context'])\n",
    "pp.pprint(links[i]['cited_paper']['metadata'])"
   ]
  }
 ],
 "metadata": {
  "kernelspec": {
   "display_name": "cogsci_python",
   "language": "python",
   "name": "cogsci_python"
  },
  "language_info": {
   "codemirror_mode": {
    "name": "ipython",
    "version": 3
   },
   "file_extension": ".py",
   "mimetype": "text/x-python",
   "name": "python",
   "nbconvert_exporter": "python",
   "pygments_lexer": "ipython3",
   "version": "3.8.2"
  }
 },
 "nbformat": 4,
 "nbformat_minor": 4
}
