{
 "cells": [
  {
   "cell_type": "markdown",
   "metadata": {},
   "source": [
    "### Imports and configuration"
   ]
  },
  {
   "cell_type": "code",
   "execution_count": 1,
   "metadata": {
    "ExecuteTime": {
     "end_time": "2020-05-11T13:03:12.184672Z",
     "start_time": "2020-05-11T13:03:11.670890Z"
    }
   },
   "outputs": [],
   "source": [
    "# setup variables\n",
    "\n",
    "import os\n",
    "import json\n",
    "import boto3\n",
    "import tqdm\n",
    "from s2orc.config import S3_BUCKET_NAME, CURRENT_VERSION\n",
    "from s2orc.api.s3_utils import download_from_s3\n",
    "\n",
    "LOCAL_S2ORC_DIR = 's2orc-data'\n",
    "s3_manifest_file = f'{CURRENT_VERSION}/manifest.json'\n",
    "local_manifest_file = os.path.join(LOCAL_S2ORC_DIR, CURRENT_VERSION, 'manifest.json')\n",
    "\n",
    "\n",
    "s3 = boto3.resource('s3')\n",
    "bucket = s3.Bucket(S3_BUCKET_NAME)\n"
   ]
  },
  {
   "cell_type": "markdown",
   "metadata": {},
   "source": [
    "### Try to filter psychology papers by using paper metadata tsv venue field"
   ]
  },
  {
   "cell_type": "code",
   "execution_count": 4,
   "metadata": {
    "ExecuteTime": {
     "end_time": "2020-05-11T13:04:44.470223Z",
     "start_time": "2020-05-11T13:04:44.156308Z"
    }
   },
   "outputs": [
    {
     "name": "stderr",
     "output_type": "stream",
     "text": [
      "100%|██████████| 1/1 [00:00<00:00,  5.34it/s]\n"
     ]
    }
   ],
   "source": [
    "# overview of metadata\n",
    "import pandas as pd\n",
    "from collections import Counter\n",
    "\n",
    "# read manifest file\n",
    "with open(local_manifest_file, 'r') as f:\n",
    "    manifest = json.load(f)\n",
    "\n",
    "start = 0\n",
    "span = 1\n",
    "\n",
    "\n",
    "entries = sorted(manifest['files'], key=lambda x: x['seq_num'])[start:(start + span)]\n",
    "counter = Counter()\n",
    "for entry in tqdm.tqdm(entries[start:(start + span)]):\n",
    "    local_metadata_path = os.path.join(LOCAL_S2ORC_DIR, entry['metadata'])\n",
    "    metadata = pd.read_csv(local_metadata_path, sep='\\t')\n",
    "    venues = metadata['venue'].astype(str).str.strip()\n",
    "    counter.update(venues)\n"
   ]
  },
  {
   "cell_type": "code",
   "execution_count": 5,
   "metadata": {
    "ExecuteTime": {
     "end_time": "2020-05-11T13:04:47.402222Z",
     "start_time": "2020-05-11T13:04:47.298639Z"
    }
   },
   "outputs": [
    {
     "data": {
      "text/plain": [
       "8259"
      ]
     },
     "execution_count": 5,
     "metadata": {},
     "output_type": "execute_result"
    },
    {
     "data": {
      "text/plain": [
       "66"
      ]
     },
     "execution_count": 5,
     "metadata": {},
     "output_type": "execute_result"
    }
   ],
   "source": [
    "import re\n",
    "import numpy as np\n",
    "\n",
    "m = re.findall(r'^.*psycho.*$', '\\n'.join(counter.keys()), flags=re.IGNORECASE | re.MULTILINE)\n",
    "\n",
    "names = np.array(list(counter.keys()))\n",
    "counts = np.array(list(counter.values()))\n",
    "mask = np.isin(names, m)\n",
    "\n",
    "all_values = sum(counter.values())\n",
    "all_values\n",
    "psycho_venues_count = sum(counts[mask])\n",
    "psycho_venues_count\n"
   ]
  },
  {
   "cell_type": "code",
   "execution_count": 6,
   "metadata": {
    "ExecuteTime": {
     "end_time": "2020-05-11T13:04:47.911497Z",
     "start_time": "2020-05-11T13:04:47.908318Z"
    }
   },
   "outputs": [],
   "source": [
    "# from matplotlib import pyplot as plt\n",
    "# import numpy as np\n",
    "# from collections import Counter\n",
    "# # metadata.dtypes\n",
    "# sorted(Counter()[::-1]\n",
    "# len(metadata)"
   ]
  },
  {
   "cell_type": "code",
   "execution_count": null,
   "metadata": {},
   "outputs": [],
   "source": []
  }
 ],
 "metadata": {
  "kernelspec": {
   "display_name": "cogsci_python",
   "language": "python",
   "name": "cogsci_python"
  },
  "language_info": {
   "codemirror_mode": {
    "name": "ipython",
    "version": 3
   },
   "file_extension": ".py",
   "mimetype": "text/x-python",
   "name": "python",
   "nbconvert_exporter": "python",
   "pygments_lexer": "ipython3",
   "version": "3.8.2"
  }
 },
 "nbformat": 4,
 "nbformat_minor": 4
}
