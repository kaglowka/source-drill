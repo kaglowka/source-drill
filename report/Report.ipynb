{
 "cells": [
  {
   "cell_type": "markdown",
   "metadata": {},
   "source": [
    "# SourceDrill – Project Report\n",
    "#### Krzysztof Główka, Katarzyna Koprowska"
   ]
  },
  {
   "cell_type": "markdown",
   "metadata": {},
   "source": [
    "The project idea was to automatically find the content of cited scientific article related the most to the citation context. We used [corpus] with annotated pairs of papers, narrowing it down to only one field: psychology."
   ]
  },
  {
   "cell_type": "markdown",
   "metadata": {},
   "source": [
    "## Data"
   ]
  },
  {
   "cell_type": "markdown",
   "metadata": {},
   "source": [
    "## Analysis"
   ]
  },
  {
   "cell_type": "markdown",
   "metadata": {},
   "source": [
    "### GloVe"
   ]
  },
  {
   "cell_type": "code",
   "execution_count": 6,
   "metadata": {
    "hide_input": true
   },
   "outputs": [],
   "source": [
    "import ipyplot"
   ]
  },
  {
   "cell_type": "markdown",
   "metadata": {
    "hide_input": true
   },
   "source": [
    "We started by calculating cosine distance between embedding representing citation context and embeddings of cited text chunks. Displayed below is cosine distance and 1-cosine distance on single sentences."
   ]
  },
  {
   "cell_type": "code",
   "execution_count": 5,
   "metadata": {
    "hide_input": true
   },
   "outputs": [
    {
     "data": {
      "text/html": [
       "<div style=\"display: inline-block; width: 320px; vertical-align: top; text-align: center;\"><h4 style=\"font-size: 12px\">0</h4><h4 style=\"font-size: 9px; padding-left: 10px; padding-right: 10px; width: 90%; word-wrap: break-word; white-space: normal;\">figures/sentence_0.png</h4><img src=\"figures/sentence_0.png\" style=\"margin: 1px; width: 300px; border: 2px solid #ddd;\"/></div><div style=\"display: inline-block; width: 320px; vertical-align: top; text-align: center;\"><h4 style=\"font-size: 12px\">1</h4><h4 style=\"font-size: 9px; padding-left: 10px; padding-right: 10px; width: 90%; word-wrap: break-word; white-space: normal;\">figures/sentence_1.png</h4><img src=\"figures/sentence_1.png\" style=\"margin: 1px; width: 300px; border: 2px solid #ddd;\"/></div><div style=\"display: inline-block; width: 320px; vertical-align: top; text-align: center;\"><h4 style=\"font-size: 12px\">2</h4><h4 style=\"font-size: 9px; padding-left: 10px; padding-right: 10px; width: 90%; word-wrap: break-word; white-space: normal;\">figures/sentence_2.png</h4><img src=\"figures/sentence_2.png\" style=\"margin: 1px; width: 300px; border: 2px solid #ddd;\"/></div>"
      ],
      "text/plain": [
       "<IPython.core.display.HTML object>"
      ]
     },
     "metadata": {},
     "output_type": "display_data"
    }
   ],
   "source": [
    "images_list = [\"figures/sentence_\"+str(i)+\".png\" for i in range(3)]\n",
    "ipyplot.plot_images(images_list, max_images=3, img_width=300)"
   ]
  },
  {
   "cell_type": "markdown",
   "metadata": {},
   "source": [
    "#### We tried to compare it with different chunk sizes."
   ]
  },
  {
   "cell_type": "markdown",
   "metadata": {},
   "source": [
    "Whole sections:"
   ]
  },
  {
   "cell_type": "code",
   "execution_count": 4,
   "metadata": {
    "hide_input": true,
    "scrolled": true
   },
   "outputs": [
    {
     "data": {
      "text/html": [
       "<div style=\"display: inline-block; width: 320px; vertical-align: top; text-align: center;\"><h4 style=\"font-size: 12px\">0</h4><h4 style=\"font-size: 9px; padding-left: 10px; padding-right: 10px; width: 90%; word-wrap: break-word; white-space: normal;\">figures/section_0.png</h4><img src=\"figures/section_0.png\" style=\"margin: 1px; width: 300px; border: 2px solid #ddd;\"/></div><div style=\"display: inline-block; width: 320px; vertical-align: top; text-align: center;\"><h4 style=\"font-size: 12px\">1</h4><h4 style=\"font-size: 9px; padding-left: 10px; padding-right: 10px; width: 90%; word-wrap: break-word; white-space: normal;\">figures/section_1.png</h4><img src=\"figures/section_1.png\" style=\"margin: 1px; width: 300px; border: 2px solid #ddd;\"/></div><div style=\"display: inline-block; width: 320px; vertical-align: top; text-align: center;\"><h4 style=\"font-size: 12px\">2</h4><h4 style=\"font-size: 9px; padding-left: 10px; padding-right: 10px; width: 90%; word-wrap: break-word; white-space: normal;\">figures/section_2.png</h4><img src=\"figures/section_2.png\" style=\"margin: 1px; width: 300px; border: 2px solid #ddd;\"/></div>"
      ],
      "text/plain": [
       "<IPython.core.display.HTML object>"
      ]
     },
     "metadata": {},
     "output_type": "display_data"
    }
   ],
   "source": [
    "images_list = [\"figures/section_\"+str(i)+\".png\" for i in range(3)]\n",
    "ipyplot.plot_images(images_list, max_images=3, img_width=300)"
   ]
  },
  {
   "cell_type": "markdown",
   "metadata": {},
   "source": [
    "3 sentences per chunk:"
   ]
  },
  {
   "cell_type": "code",
   "execution_count": 8,
   "metadata": {},
   "outputs": [
    {
     "data": {
      "text/html": [
       "<div style=\"display: inline-block; width: 320px; vertical-align: top; text-align: center;\"><h4 style=\"font-size: 12px\">0</h4><h4 style=\"font-size: 9px; padding-left: 10px; padding-right: 10px; width: 90%; word-wrap: break-word; white-space: normal;\">figures/3_sent_0.png</h4><img src=\"figures/3_sent_0.png\" style=\"margin: 1px; width: 300px; border: 2px solid #ddd;\"/></div><div style=\"display: inline-block; width: 320px; vertical-align: top; text-align: center;\"><h4 style=\"font-size: 12px\">1</h4><h4 style=\"font-size: 9px; padding-left: 10px; padding-right: 10px; width: 90%; word-wrap: break-word; white-space: normal;\">figures/3_sent_1.png</h4><img src=\"figures/3_sent_1.png\" style=\"margin: 1px; width: 300px; border: 2px solid #ddd;\"/></div><div style=\"display: inline-block; width: 320px; vertical-align: top; text-align: center;\"><h4 style=\"font-size: 12px\">2</h4><h4 style=\"font-size: 9px; padding-left: 10px; padding-right: 10px; width: 90%; word-wrap: break-word; white-space: normal;\">figures/3_sent_2.png</h4><img src=\"figures/3_sent_2.png\" style=\"margin: 1px; width: 300px; border: 2px solid #ddd;\"/></div>"
      ],
      "text/plain": [
       "<IPython.core.display.HTML object>"
      ]
     },
     "metadata": {},
     "output_type": "display_data"
    }
   ],
   "source": [
    "images_list = [\"figures/3_sent_\"+str(i)+\".png\" for i in range(3)]\n",
    "ipyplot.plot_images(images_list, max_images=3, img_width=300)"
   ]
  },
  {
   "cell_type": "markdown",
   "metadata": {},
   "source": [
    "## Conclusions"
   ]
  },
  {
   "cell_type": "code",
   "execution_count": null,
   "metadata": {},
   "outputs": [],
   "source": []
  }
 ],
 "metadata": {
  "kernelspec": {
   "display_name": "Python 3",
   "language": "python",
   "name": "python3"
  },
  "language_info": {
   "codemirror_mode": {
    "name": "ipython",
    "version": 3
   },
   "file_extension": ".py",
   "mimetype": "text/x-python",
   "name": "python",
   "nbconvert_exporter": "python",
   "pygments_lexer": "ipython3",
   "version": "3.6.8"
  }
 },
 "nbformat": 4,
 "nbformat_minor": 4
}
