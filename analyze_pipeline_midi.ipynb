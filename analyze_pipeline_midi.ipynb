{
 "cells": [
  {
   "cell_type": "code",
   "execution_count": 66,
   "metadata": {
    "ExecuteTime": {
     "end_time": "2020-08-31T13:06:20.504942Z",
     "start_time": "2020-08-31T13:06:20.501011Z"
    }
   },
   "outputs": [],
   "source": [
    "### Imports and configuration\n",
    "\n",
    "# setup variables\n",
    "\n",
    "import os\n",
    "import json\n",
    "import tqdm\n",
    "from s2orc.config import CURRENT_VERSION\n",
    "\n",
    "# jsonlines https://jsonlines.readthedocs.io/en/latest/#api\n",
    "import jsonlines\n",
    "import gzip\n",
    "import numpy as np\n",
    "import pandas as pd\n",
    "import matplotlib.pyplot as plt\n",
    "import hiplot\n",
    "\n",
    "LOCAL_S2ORC_DIR = 's2orc-data'\n",
    "\n",
    "psychology_paper_dir = os.path.join(LOCAL_S2ORC_DIR, CURRENT_VERSION, 'psychology')\n",
    "psychology_paper_suffix = 'psych.text.jsonl'\n",
    "\n",
    "links_dir = os.path.join(LOCAL_S2ORC_DIR, CURRENT_VERSION, 'psych_links')\n",
    "links_suffix = 'psych.text.link.jsonl'\n"
   ]
  },
  {
   "cell_type": "code",
   "execution_count": 67,
   "metadata": {
    "ExecuteTime": {
     "end_time": "2020-08-31T13:06:22.831864Z",
     "start_time": "2020-08-31T13:06:20.507787Z"
    }
   },
   "outputs": [
    {
     "name": "stderr",
     "output_type": "stream",
     "text": [
      "100%|██████████| 100/100 [00:02<00:00, 43.46it/s]\n"
     ]
    }
   ],
   "source": [
    "## Get corpus into memory\n",
    "\n",
    "start = 0\n",
    "span = 100 # all: 1700\n",
    "\n",
    "links = []\n",
    "\n",
    "links_files = sorted(os.listdir(links_dir), key=lambda f: int(f.split('.')[0]))[start:(start+span)]\n",
    "for link_file in tqdm.tqdm(links_files):\n",
    "    with gzip.open(os.path.join(links_dir, link_file), 'rb') as f_in:\n",
    "        batch_links = list(jsonlines.Reader(f_in))\n",
    "        for link in batch_links:\n",
    "            if link['citing_paper']['grobid_parse'].get('body_text') is not None and link['cited_paper']['grobid_parse'].get('body_text') is not None:\n",
    "                links.append(link)\n",
    "\n",
    "np.random.seed(2134234)\n",
    "links = np.array(links)\n",
    "np.random.shuffle(links)"
   ]
  },
  {
   "cell_type": "markdown",
   "metadata": {},
   "source": [
    "# work on the data"
   ]
  },
  {
   "cell_type": "code",
   "execution_count": 68,
   "metadata": {
    "ExecuteTime": {
     "end_time": "2020-08-31T13:06:22.838571Z",
     "start_time": "2020-08-31T13:06:22.834856Z"
    }
   },
   "outputs": [],
   "source": [
    "from flair.embeddings import WordEmbeddings, DocumentPoolEmbeddings, TransformerDocumentEmbeddings\n",
    "from flair.data import Sentence"
   ]
  },
  {
   "cell_type": "code",
   "execution_count": 69,
   "metadata": {
    "ExecuteTime": {
     "end_time": "2020-08-31T13:06:22.853740Z",
     "start_time": "2020-08-31T13:06:22.841371Z"
    }
   },
   "outputs": [],
   "source": [
    "import regex\n",
    "from syntok.segmenter import split\n",
    "from syntok.tokenizer import Tokenizer\n",
    "\n",
    "token_filter_re = r'^\\p{L}(\\p{L}|\\.|[0-9])+$'\n",
    "science_blacklist = {'et', 'al', 'al.'} # remove words specific for scientific papers without any importance for the task\n",
    "\n",
    "def filter_tokens(tokens):\n",
    "    # Filter out non-common-word/non-real-world-entity tokens\n",
    "    return [\n",
    "        token for token in tokens if \n",
    "            regex.match(token_filter_re, token.text) \n",
    "            and token.text not in science_blacklist \n",
    "    ]\n",
    "\n",
    "author_re = r'(((de|De|van|Van|von|Von)\\s+(\\p{Ll}+\\s+)?)?\\p{Lu}(\\p{Ll}|-)+)'\n",
    "\n",
    "citation_re = (\n",
    "               r'([(;,]|\\s)'\n",
    "            + author_re +\n",
    "               r'(\\s?((([&,]|and|\\s)+\\s?' + author_re + r')|(et al\\.?)))?' # alternative second author\n",
    "               r'('\n",
    "                 r'([;,]|\\s)+'\n",
    "                 r'\\s*[0-9]{4}\\p{Ll}?\\s*' # year\n",
    "               r')+'\n",
    "               r'([);,]|\\s)'\n",
    "              )\n",
    "\n",
    "in_text_citation_re = (\n",
    "    author_re + r'\\s*\\((\\s*[0-9]{4}\\p{Ll}?\\s*,?)\\)'\n",
    ")\n",
    "def filter_citations(text):\n",
    "    n_subs_made = 1\n",
    "    while n_subs_made > 0:\n",
    "        text, n_subs_made = regex.subn(citation_re, ';', text)\n",
    "        text, n_subs_made2 = regex.subn(citation_re, ';', text)\n",
    "        n_subs_made += n_subs_made2\n",
    "    return text\n",
    "\n",
    "def process_section_to_chunks(text):\n",
    "    chunksize = 1\n",
    "    tokenized_sents = list(split(Tokenizer().tokenize(text)))\n",
    "    sents = [' '.join(str(token) for token in sent) for sent in tokenized_sents]\n",
    "    sents = [' '.join(sents[i:i+chunksize]) for i in range(len(sents)-chunksize)]\n",
    "    sentences = []\n",
    "    for sent in sents:\n",
    "        sent = text_to_sentence(sent)\n",
    "        if sent is not None:\n",
    "            sentences.append(sent)\n",
    "    return sentences\n",
    "\n",
    "def text_to_sentence(text):\n",
    "    text = filter_citations(text) \n",
    "    s = Sentence(text, use_tokenizer=True)\n",
    "    s.tokens = filter_tokens(s.tokens)\n",
    "    if len(s.tokens) > 0:\n",
    "        return s\n",
    "    else:\n",
    "        return None"
   ]
  },
  {
   "cell_type": "code",
   "execution_count": null,
   "metadata": {},
   "outputs": [],
   "source": []
  },
  {
   "cell_type": "code",
   "execution_count": 144,
   "metadata": {
    "ExecuteTime": {
     "end_time": "2020-08-31T14:33:00.827075Z",
     "start_time": "2020-08-31T14:33:00.822054Z"
    }
   },
   "outputs": [],
   "source": [
    "# extract the important information from the original S2ORC corpus format\n",
    "def process_link(link, process_section):\n",
    "    context = link['citation_context']\n",
    "    citing_paper = link['citing_paper']\n",
    "    cited_paper = link['cited_paper']\n",
    "    \n",
    "    parts = []\n",
    "    for text_chunk in cited_paper['grobid_parse']['body_text']:\n",
    "        text = text_chunk.get('text')\n",
    "        if text is not None:\n",
    "            chunk_parts = process_section(text)\n",
    "            parts.extend(chunk_parts)\n",
    "    citing_string = ''.join([context['pre_context'], context['context_string'], context['post_context']])\n",
    "    return {\n",
    "        'citing_str': context['context_string'],\n",
    "        'citing_context': citing_string,\n",
    "        'citing_context_part': text_to_sentence(citing_string),\n",
    "        'cited_text_parts': parts,\n",
    "    }\n"
   ]
  },
  {
   "cell_type": "code",
   "execution_count": 145,
   "metadata": {
    "ExecuteTime": {
     "end_time": "2020-08-31T14:33:02.601562Z",
     "start_time": "2020-08-31T14:33:02.034791Z"
    }
   },
   "outputs": [
    {
     "name": "stderr",
     "output_type": "stream",
     "text": [
      "/home/krz-glowka/cogsci_venv/lib/python3.8/site-packages/spacy/util.py:275: UserWarning:\n",
      "\n",
      "[W031] Model 'en_core_web_sm' (2.2.5) requires spaCy v2.2 and is incompatible with the current spaCy version (2.3.2). This may lead to unexpected results or runtime errors. To resolve this, download a newer compatible model or retrain your custom model with the current spaCy version. For more details and available updates, run: python -m spacy validate\n",
      "\n"
     ]
    }
   ],
   "source": [
    "import spacy\n",
    "spacy_stopwords = spacy.load('en_core_web_sm').Defaults.stop_words\n",
    "\n",
    "\n",
    "def calc_embedding_scores(link, metrics, embedding_name, embedding):\n",
    "    all_sim = {}\n",
    "    \n",
    "    s = link['citing_context_part']\n",
    "    s.tokens = [token for token in s if token.text not in spacy_stopwords]\n",
    "\n",
    "    embedding.embed(s)\n",
    "    citation_embedding = s.embedding.detach().numpy()\n",
    "\n",
    "    sentences = link['cited_text_parts']\n",
    "    for sentence in sentences:\n",
    "        embedding.embed(sentence)\n",
    "        all_sim[sentence.to_plain_string()] = {}\n",
    "        for name, metric in metrics.items():\n",
    "            sim = metric(sentence.embedding.detach().numpy(), citation_embedding)\n",
    "            full_name = '_'.join([embedding_name, name])\n",
    "            all_sim[sentence.to_plain_string()][full_name] = sim\n",
    "        sentence.clear_embeddings()\n",
    "    s.clear_embeddings()\n",
    "    \n",
    "    return pd.DataFrame(all_sim).T\n"
   ]
  },
  {
   "cell_type": "markdown",
   "metadata": {},
   "source": [
    "### Bag of words weighted by Inverse Term Frequency (with lemmatization)"
   ]
  },
  {
   "cell_type": "code",
   "execution_count": 146,
   "metadata": {
    "ExecuteTime": {
     "end_time": "2020-08-31T14:33:05.004933Z",
     "start_time": "2020-08-31T14:33:04.997220Z"
    }
   },
   "outputs": [],
   "source": [
    "from wordfreq import word_frequency\n",
    "from collections import defaultdict\n",
    "from nltk.stem import WordNetLemmatizer \n",
    "import skfuzzy as fuzz\n",
    "\n",
    "def get_length_penalty(sent_len):\n",
    "    # 0.5 value for len=2\n",
    "    # quickly raising to 1 at ~10 words\n",
    "    return fuzz.sigmf(sent_len, 2, 0.5)\n",
    "\n",
    "def get_word_itf(string_tokens):\n",
    "    min_val = 10e-7\n",
    "    return [1./max(min_val, word_frequency(token, 'en')) for token in string_tokens]\n",
    "\n",
    "def transform_tokens(string_tokens, lemmatizer):\n",
    "    return [lemmatizer.lemmatize(token.lower()) for token in string_tokens]\n",
    "\n",
    "def calc_bow_itf_score(link, name):\n",
    "    \"\"\"\n",
    "    Score using term frequency\n",
    "    \"\"\"\n",
    "    lemmatizer = WordNetLemmatizer()\n",
    "    scores = []\n",
    "    s = link['citing_context_part']\n",
    "    s_tokens = [token.text for token in s.tokens]\n",
    "    context_token_set = set(transform_tokens(s_tokens, lemmatizer=lemmatizer))\n",
    "    sentences = link['cited_text_parts']\n",
    "    for sentence in sentences:\n",
    "        sent_tokens = [token.text for token in sentence.tokens]\n",
    "        sent_token_set = set(transform_tokens(sent_tokens, lemmatizer))\n",
    "        if len(sent_token_set) == 0:\n",
    "            scores.append(0)\n",
    "            continue\n",
    "        matching_tokens = sent_token_set.intersection(context_token_set)\n",
    "        all_tokens = sent_token_set.union(context_token_set)\n",
    "        raw_score = np.sum(get_word_itf(matching_tokens)) / np.sum(get_word_itf(all_tokens))\n",
    "        # Eliminate artifacts by penalizing extremely short matches\n",
    "        raw_score *= get_length_penalty(len(sent_token_set))\n",
    "        if np.isclose(raw_score, 0):\n",
    "            score = 0.\n",
    "        else:\n",
    "            score = 1./-np.log(raw_score)\n",
    "        scores.append(score)\n",
    "    return pd.DataFrame({\n",
    "        name: scores\n",
    "    }, index=[sent.to_plain_string() for sent in sentences])\n"
   ]
  },
  {
   "cell_type": "markdown",
   "metadata": {},
   "source": [
    "###  TS SS distance metric"
   ]
  },
  {
   "cell_type": "code",
   "execution_count": 147,
   "metadata": {
    "ExecuteTime": {
     "end_time": "2020-08-31T14:33:06.659677Z",
     "start_time": "2020-08-31T14:33:06.649452Z"
    }
   },
   "outputs": [],
   "source": [
    "from scipy.spatial import distance\n",
    "from scipy.linalg import norm\n",
    "from Vector_Similarity import *\n",
    "\n",
    "def TS_SS(vec1, vec2) :\n",
    "    val = Triangle(vec1, vec2) * Sector(vec1, vec2)\n",
    "    return 1/(1 + val)\n",
    "\n",
    "def Triangle(vec1, vec2) :\n",
    "    theta = math.radians(Theta(vec1,vec2))\n",
    "    return (norm(vec1) * norm(vec2) * math.sin(theta)) / 2\n",
    "\n",
    "def Theta(vec1, vec2) :\n",
    "    return math.acos(1 - distance.cosine(vec1, vec2)) + math.radians(10)\n",
    "\n",
    "def Magnitude_Difference(vec1, vec2) :\n",
    "    return abs(norm(vec1) - norm(vec2))\n",
    "\n",
    "def Sector(vec1, vec2) :\n",
    "    ED = distance.euclidean(vec1, vec2)\n",
    "    MD = Magnitude_Difference(vec1, vec2)\n",
    "    theta = Theta(vec1, vec2)\n",
    "    return math.pi * math.pow((ED+MD),2) * theta/360"
   ]
  },
  {
   "cell_type": "markdown",
   "metadata": {},
   "source": [
    "### Prepare data"
   ]
  },
  {
   "cell_type": "code",
   "execution_count": 74,
   "metadata": {
    "ExecuteTime": {
     "end_time": "2020-08-31T13:06:46.772037Z",
     "start_time": "2020-08-31T13:06:23.469643Z"
    }
   },
   "outputs": [],
   "source": [
    "bert_embedding = TransformerDocumentEmbeddings('bert-base-uncased', fine_tune=False)\n",
    "roberta_embedding = TransformerDocumentEmbeddings('roberta-base', fine_tune=False)\n",
    "glove_embedding = DocumentPoolEmbeddings([WordEmbeddings('glove')])"
   ]
  },
  {
   "cell_type": "code",
   "execution_count": 75,
   "metadata": {
    "ExecuteTime": {
     "end_time": "2020-08-31T13:06:46.788605Z",
     "start_time": "2020-08-31T13:06:46.781101Z"
    }
   },
   "outputs": [],
   "source": [
    "n_train_links = int(0.5 * len(links))\n",
    "n_validation_links = int(0.2 * len(links))\n",
    "n_test_links = len(links) - n_train_links - n_validation_links\n",
    "train_links = links[:15]\n",
    "validation_links = links[15:45]\n",
    "test_links = links[-n_test_links:]\n",
    "#links = None"
   ]
  },
  {
   "cell_type": "code",
   "execution_count": 148,
   "metadata": {
    "ExecuteTime": {
     "end_time": "2020-08-31T14:33:12.517131Z",
     "start_time": "2020-08-31T14:33:12.512741Z"
    }
   },
   "outputs": [],
   "source": [
    "import copy\n",
    "def prepare_link_and_val(link, val_links):\n",
    "    result = {\"original\" : process_link(link, process_section_to_chunks)}\n",
    "    if val_links is None:\n",
    "        val_links = []\n",
    "    for i in range(len(val_links)):\n",
    "        val_link = copy.deepcopy(val_links[i])\n",
    "        val_link2 = copy.deepcopy(link)\n",
    "        val_link2['citation_context'] = val_link['citation_context']\n",
    "        val_link['citation_context'] = link['citation_context']\n",
    "        result.update({\n",
    "            \"val_orig_context_\"+str(i) : process_link(val_link, process_section_to_chunks),\n",
    "            \"val_orig_paper_\"+str(i) : process_link(val_link2, process_section_to_chunks)\n",
    "        })\n",
    "    return result"
   ]
  },
  {
   "cell_type": "markdown",
   "metadata": {},
   "source": [
    "### Score pipeline"
   ]
  },
  {
   "cell_type": "code",
   "execution_count": 234,
   "metadata": {
    "ExecuteTime": {
     "end_time": "2020-08-31T19:43:26.563075Z",
     "start_time": "2020-08-31T19:43:26.554025Z"
    },
    "scrolled": false
   },
   "outputs": [],
   "source": [
    "from plot_text_sim import plot_text_sim \n",
    "from scipy.spatial import distance\n",
    "import itertools\n",
    "# metrics = {\"cos\" : lambda x, y: 1 - distance.cosine(x, y), \"ts_ss\" : TS_SS}\n",
    "metrics = {\"ts_ss\" : TS_SS}\n",
    "\n",
    "# do it in a function to prevent memory leaks\n",
    "def calculate_similarities(train_links, validation_links):   \n",
    "    results = []\n",
    "    for link, val_links in tqdm.tqdm(list(itertools.zip_longest(train_links, validation_links))):\n",
    "        preprocessed = prepare_link_and_val(link, val_links)\n",
    "        bow_itf = {name: calc_bow_itf_score(link, name='bow_itf_'+name) for name, link in preprocessed.items()}\n",
    "        \n",
    "        bert = {name: calc_embedding_scores(link, metrics, embedding_name='bert_'+name, embedding = bert_embedding) for name, link in preprocessed.items()}\n",
    "        \n",
    "        data = {name : pd.merge(bert[name], bow_itf[name], left_index = True, right_index = True) for name, link in preprocessed.items()}\n",
    "#         data = {name : bow_itf[name] for name, link in preprocessed.items()}\n",
    "#         df['comb_bow_itf_bert_ts_ss'] = [np.sqrt(bow_itf['bow_itf_'+name]*bert['bert_'+name]) for name, link in preprocessed.items()]\n",
    "#         df['comb_bow_itf_bert_ts_ss'] = np.sqrt(df['bow_itf_original'] * df['bert_original_ts_ss'])\n",
    "        results.append({\n",
    "                'citing_str': preprocessed['original']['citing_str'],\n",
    "                'citing_context': preprocessed['original']['citing_context'],\n",
    "                'data': data,\n",
    "            })\n",
    "\n",
    "    return results, preprocessed\n"
   ]
  },
  {
   "cell_type": "code",
   "execution_count": 178,
   "metadata": {
    "ExecuteTime": {
     "end_time": "2020-08-31T17:00:48.315588Z",
     "start_time": "2020-08-31T16:58:59.596387Z"
    },
    "scrolled": false
   },
   "outputs": [
    {
     "name": "stderr",
     "output_type": "stream",
     "text": [
      "100%|██████████| 1/1 [01:48<00:00, 108.71s/it]\n"
     ]
    }
   ],
   "source": [
    "\n",
    "start = 12\n",
    "span = 1\n",
    "val_span = 2\n",
    "val = np.split(validation_links[start:start+val_span*span], span)\n",
    "train = train_links[start:start+span]\n",
    "results, preprocessed = calculate_similarities(train, val)"
   ]
  },
  {
   "cell_type": "code",
   "execution_count": null,
   "metadata": {},
   "outputs": [],
   "source": []
  },
  {
   "cell_type": "code",
   "execution_count": 180,
   "metadata": {
    "ExecuteTime": {
     "end_time": "2020-08-31T17:01:51.703773Z",
     "start_time": "2020-08-31T17:01:51.693453Z"
    }
   },
   "outputs": [],
   "source": [
    "processed_results = copy.deepcopy(results)\n",
    "\n",
    "for result in processed_results:\n",
    "    df = result['data']['original']\n",
    "#     df['bert_original_cos_ampl'] = df['bert_original_cos']**6\n",
    "#     df['comb_bow_itf_bert_cos'] = np.sqrt(df['bow_itf_original'] * df['bert_original_cos_ampl'])\n",
    "    df['comb_bow_itf_bert_ts_ss'] = np.sqrt(df['bow_itf_original'] * df['bert_original_ts_ss'])\n",
    "    # derive weighted moving average\n"
   ]
  },
  {
   "cell_type": "code",
   "execution_count": null,
   "metadata": {
    "ExecuteTime": {
     "end_time": "2020-08-31T17:00:48.483749Z",
     "start_time": "2020-08-31T16:58:59.605Z"
    }
   },
   "outputs": [],
   "source": [
    "processed_results[0]['data'].keys()"
   ]
  },
  {
   "cell_type": "code",
   "execution_count": null,
   "metadata": {
    "ExecuteTime": {
     "end_time": "2020-08-30T17:08:10.858357Z",
     "start_time": "2020-08-30T17:07:41.156Z"
    },
    "deletable": false,
    "editable": false,
    "run_control": {
     "frozen": true
    }
   },
   "outputs": [],
   "source": [
    "processed_results = copy.deepcopy(results)\n",
    "\n",
    "for result in processed_results:\n",
    "    df = result['data']['original']\n",
    "    df['comb_bow_itf_bert'] = np.sqrt(df['bow_itf_original'] * (1 - df['bert_original_cos'])**4)\n",
    "    df['comb_bow_itf_glove'] = np.sqrt(df['bow_itf_original'] * (1 - df['glove_original_cos'])**4)\n",
    "    df['comb_bow_itf_roberta'] = np.sqrt(df['bow_itf_original'] * (1 - df['roberta_original_cos'])**4)\n",
    "    # derive weighted moving average\n",
    "    for column in df.columns:\n",
    "        df[f'{column}_rolling'] = df[column].rolling(4, center=True, win_type='gaussian').mean(std=2)"
   ]
  },
  {
   "cell_type": "code",
   "execution_count": 181,
   "metadata": {
    "ExecuteTime": {
     "end_time": "2020-08-31T17:01:58.537261Z",
     "start_time": "2020-08-31T17:01:58.533048Z"
    }
   },
   "outputs": [],
   "source": [
    "import pickle\n",
    "with open(\"results_emb_bow.p\", \"wb\") as file:\n",
    "    pickle.dump(processed_results, file)"
   ]
  },
  {
   "cell_type": "code",
   "execution_count": 182,
   "metadata": {
    "ExecuteTime": {
     "end_time": "2020-08-31T17:01:59.303480Z",
     "start_time": "2020-08-31T17:01:59.245286Z"
    }
   },
   "outputs": [],
   "source": [
    "with open(\"preprocessed_.p\", \"wb\") as file:\n",
    "    pickle.dump(preprocessed, file)"
   ]
  },
  {
   "cell_type": "code",
   "execution_count": 183,
   "metadata": {
    "ExecuteTime": {
     "end_time": "2020-08-31T17:02:00.280604Z",
     "start_time": "2020-08-31T17:02:00.272661Z"
    }
   },
   "outputs": [],
   "source": [
    "def mean_results(results):\n",
    "    return{\n",
    "        name : {\n",
    "            column : np.mean(df[column]) for column in df.columns if df[column].dtype == float\n",
    "        } for name, df in results.items()\n",
    "    }"
   ]
  },
  {
   "cell_type": "code",
   "execution_count": 184,
   "metadata": {
    "ExecuteTime": {
     "end_time": "2020-08-31T17:02:00.674790Z",
     "start_time": "2020-08-31T17:02:00.668010Z"
    }
   },
   "outputs": [],
   "source": [
    "mean_res = mean_results(results[0][\"data\"])"
   ]
  },
  {
   "cell_type": "code",
   "execution_count": 186,
   "metadata": {
    "ExecuteTime": {
     "end_time": "2020-08-31T17:03:23.541438Z",
     "start_time": "2020-08-31T17:03:23.508194Z"
    }
   },
   "outputs": [
    {
     "data": {
      "text/plain": [
       "{'original':                                                     bert_original_ts_ss  \\\n",
       " Many individuals first experiment with alcohol ...             0.495288   \n",
       " Nearly half of graders have tried marijuana and...             0.380258   \n",
       " Adolescence is also period of continued neurode...             0.485464   \n",
       " The influence of marijuana use on these maturat...             0.437991   \n",
       " Adults with heavy marijuana use histories have ...             0.569165   \n",
       " ...                                                                 ...   \n",
       " Altered inhibitory processing may make adolesce...             0.367891   \n",
       " The indication of extra neural effort required ...             0.480752   \n",
       " Demands for inhibitory control increases substa...             0.336424   \n",
       " Consequently youth required to exert extra neur...             0.402991   \n",
       " Additionally it may be harder for these youth t...             0.573097   \n",
       " \n",
       "                                                     bow_itf_original  \n",
       " Many individuals first experiment with alcohol ...          0.118208  \n",
       " Nearly half of graders have tried marijuana and...          0.098297  \n",
       " Adolescence is also period of continued neurode...          0.145580  \n",
       " The influence of marijuana use on these maturat...          0.111666  \n",
       " Adults with heavy marijuana use histories have ...          0.094397  \n",
       " ...                                                              ...  \n",
       " Altered inhibitory processing may make adolesce...          0.232759  \n",
       " The indication of extra neural effort required ...          0.317459  \n",
       " Demands for inhibitory control increases substa...          0.134859  \n",
       " Consequently youth required to exert extra neur...          0.155604  \n",
       " Additionally it may be harder for these youth t...          0.117817  \n",
       " \n",
       " [155 rows x 2 columns],\n",
       " 'val_orig_context_0':                                                     bert_val_orig_context_0_ts_ss  \\\n",
       " An alternative to frequentist tests is provided...                       0.437776   \n",
       " Analogously to the correlation example one is F...                       0.511372   \n",
       " Another way to conceptualize the Bayes factor i...                       0.556654   \n",
       " As before the resulting Bayes factor BF quantif...                       0.501345   \n",
       " As increases so does the importance of                                   0.362236   \n",
       " ...                                                                           ...   \n",
       " where is the intercept is the regression coeffi...                       0.326872   \n",
       " yields Bayes factor BF indicating that the data...                       0.542228   \n",
       " À1 pðg Þdg pðg À3Àn ð10ÞFrom this mathematicall...                       0.441491   \n",
       " À1 ð9ÞNote that the information in the data abo...                       0.340856   \n",
       " θj Þdθð6ÞBecause the posterior model probabilit...                       0.464283   \n",
       " \n",
       "                                                     bow_itf_val_orig_context_0  \n",
       " An alternative to frequentist tests is provided...                    0.097724  \n",
       " Analogously to the correlation example one is F...                    0.086874  \n",
       " Another way to conceptualize the Bayes factor i...                    0.097058  \n",
       " As before the resulting Bayes factor BF quantif...                    0.092329  \n",
       " As increases so does the importance of                                0.091029  \n",
       " ...                                                                        ...  \n",
       " where is the intercept is the regression coeffi...                    0.078033  \n",
       " yields Bayes factor BF indicating that the data...                    0.219326  \n",
       " À1 pðg Þdg pðg À3Àn ð10ÞFrom this mathematicall...                    0.150300  \n",
       " À1 ð9ÞNote that the information in the data abo...                    0.094583  \n",
       " θj Þdθð6ÞBecause the posterior model probabilit...                    0.096263  \n",
       " \n",
       " [146 rows x 2 columns],\n",
       " 'val_orig_paper_0':                                                     bert_val_orig_paper_0_ts_ss  \\\n",
       " Many individuals first experiment with alcohol ...                     0.519614   \n",
       " Nearly half of graders have tried marijuana and...                     0.385979   \n",
       " Adolescence is also period of continued neurode...                     0.367416   \n",
       " The influence of marijuana use on these maturat...                     0.441535   \n",
       " Adults with heavy marijuana use histories have ...                     0.550505   \n",
       " ...                                                                         ...   \n",
       " Altered inhibitory processing may make adolesce...                     0.299267   \n",
       " The indication of extra neural effort required ...                     0.404626   \n",
       " Demands for inhibitory control increases substa...                     0.257798   \n",
       " Consequently youth required to exert extra neur...                     0.378376   \n",
       " Additionally it may be harder for these youth t...                     0.493566   \n",
       " \n",
       "                                                     bow_itf_val_orig_paper_0  \n",
       " Many individuals first experiment with alcohol ...                  0.179753  \n",
       " Nearly half of graders have tried marijuana and...                  0.084569  \n",
       " Adolescence is also period of continued neurode...                  0.086165  \n",
       " The influence of marijuana use on these maturat...                  0.084862  \n",
       " Adults with heavy marijuana use histories have ...                  0.085355  \n",
       " ...                                                                      ...  \n",
       " Altered inhibitory processing may make adolesce...                  0.106931  \n",
       " The indication of extra neural effort required ...                  0.093041  \n",
       " Demands for inhibitory control increases substa...                  0.093450  \n",
       " Consequently youth required to exert extra neur...                  0.089681  \n",
       " Additionally it may be harder for these youth t...                  0.093253  \n",
       " \n",
       " [155 rows x 2 columns],\n",
       " 'val_orig_context_1':                                                     bert_val_orig_context_1_ts_ss  \\\n",
       " According to Dalton and Hughes the use of speed...                       0.585390   \n",
       " According to the duplex mechanism account of au...                       0.532590   \n",
       " According to this account auditory distraction ...                       0.422892   \n",
       " According to this account then one would expect...                       0.495591   \n",
       " According to this account verbal deviant should...                       0.536865   \n",
       " ...                                                                           ...   \n",
       " e.g same presentation rate same timings of the ...                       0.403247   \n",
       " e.g to deviation from sound pattern                                      0.362449   \n",
       " key auditory distraction phenomenon that has tr...                       0.379036   \n",
       " left panel of Figure The centers of any pair of...                       0.319010   \n",
       " see Figure Participants had to click on the sti...                       0.576084   \n",
       " \n",
       "                                                     bow_itf_val_orig_context_1  \n",
       " According to Dalton and Hughes the use of speed...                    0.170205  \n",
       " According to the duplex mechanism account of au...                    0.180197  \n",
       " According to this account auditory distraction ...                    0.163863  \n",
       " According to this account then one would expect...                    0.175424  \n",
       " According to this account verbal deviant should...                    0.190955  \n",
       " ...                                                                        ...  \n",
       " e.g same presentation rate same timings of the ...                    0.163760  \n",
       " e.g to deviation from sound pattern                                   0.083083  \n",
       " key auditory distraction phenomenon that has tr...                    0.156147  \n",
       " left panel of Figure The centers of any pair of...                    0.154723  \n",
       " see Figure Participants had to click on the sti...                    0.162900  \n",
       " \n",
       " [335 rows x 2 columns],\n",
       " 'val_orig_paper_1':                                                     bert_val_orig_paper_1_ts_ss  \\\n",
       " Many individuals first experiment with alcohol ...                     0.326864   \n",
       " Nearly half of graders have tried marijuana and...                     0.307600   \n",
       " Adolescence is also period of continued neurode...                     0.457913   \n",
       " The influence of marijuana use on these maturat...                     0.383820   \n",
       " Adults with heavy marijuana use histories have ...                     0.428585   \n",
       " ...                                                                         ...   \n",
       " Altered inhibitory processing may make adolesce...                     0.369495   \n",
       " The indication of extra neural effort required ...                     0.327165   \n",
       " Demands for inhibitory control increases substa...                     0.324939   \n",
       " Consequently youth required to exert extra neur...                     0.333541   \n",
       " Additionally it may be harder for these youth t...                     0.381750   \n",
       " \n",
       "                                                     bow_itf_val_orig_paper_1  \n",
       " Many individuals first experiment with alcohol ...                  0.120119  \n",
       " Nearly half of graders have tried marijuana and...                  0.088824  \n",
       " Adolescence is also period of continued neurode...                  0.091536  \n",
       " The influence of marijuana use on these maturat...                  0.093791  \n",
       " Adults with heavy marijuana use histories have ...                  0.083985  \n",
       " ...                                                                      ...  \n",
       " Altered inhibitory processing may make adolesce...                  0.087663  \n",
       " The indication of extra neural effort required ...                  0.092757  \n",
       " Demands for inhibitory control increases substa...                  0.089728  \n",
       " Consequently youth required to exert extra neur...                  0.090439  \n",
       " Additionally it may be harder for these youth t...                  0.089340  \n",
       " \n",
       " [155 rows x 2 columns]}"
      ]
     },
     "execution_count": 186,
     "metadata": {},
     "output_type": "execute_result"
    }
   ],
   "source": [
    "results[0][\"data\"]"
   ]
  },
  {
   "cell_type": "code",
   "execution_count": 187,
   "metadata": {
    "ExecuteTime": {
     "end_time": "2020-08-31T17:03:40.994259Z",
     "start_time": "2020-08-31T17:03:40.990034Z"
    }
   },
   "outputs": [],
   "source": [
    "with open(\"results_mean.p\", \"wb\") as file:\n",
    "    pickle.dump(mean_res, file)"
   ]
  },
  {
   "cell_type": "code",
   "execution_count": null,
   "metadata": {
    "ExecuteTime": {
     "end_time": "2020-08-31T17:00:48.492128Z",
     "start_time": "2020-08-31T16:58:59.630Z"
    }
   },
   "outputs": [],
   "source": [
    "process_link(train_links[start], process_section_to_chunks)['citing_str'] "
   ]
  },
  {
   "cell_type": "code",
   "execution_count": null,
   "metadata": {
    "ExecuteTime": {
     "end_time": "2020-08-31T17:00:48.493622Z",
     "start_time": "2020-08-31T16:58:59.636Z"
    },
    "scrolled": false
   },
   "outputs": [],
   "source": [
    "import hiplot as hip\n",
    "result_df = results[0]['data']['original'].assign(text_beginning = lambda df: df.index.str[:10])\n",
    "exp = hip.Experiment.from_dataframe(result_df)\n",
    "displayed_exp = exp.display()"
   ]
  },
  {
   "cell_type": "markdown",
   "metadata": {},
   "source": [
    "### Slightly wider manual comparison"
   ]
  },
  {
   "cell_type": "code",
   "execution_count": 236,
   "metadata": {
    "ExecuteTime": {
     "end_time": "2020-08-31T19:45:17.072119Z",
     "start_time": "2020-08-31T19:44:36.001804Z"
    }
   },
   "outputs": [
    {
     "name": "stderr",
     "output_type": "stream",
     "text": [
      "100%|██████████| 2/2 [00:41<00:00, 20.52s/it]\n"
     ]
    }
   ],
   "source": [
    "start = 4\n",
    "span = 2 #10\n",
    "test = test_links[start:start+span]\n",
    "\n",
    "test_results, test_preprocessed = calculate_similarities(test, [])\n",
    "\n",
    "processed_test_results = copy.deepcopy(test_results)\n",
    "\n",
    "for result in processed_test_results:\n",
    "    df = result['data']['original']\n",
    "#     df['bert_original_cos_ampl'] = df['bert_original_cos']**6\n",
    "#     df['comb_bow_itf_bert_cos'] = np.sqrt(df['bow_itf_original'] * df['bert_original_cos_ampl'])\n",
    "    df['comb_bow_itf_bert_ts_ss'] = np.sqrt(df['bow_itf_original'] * df['bert_original_ts_ss'])\n"
   ]
  },
  {
   "cell_type": "code",
   "execution_count": 221,
   "metadata": {
    "ExecuteTime": {
     "end_time": "2020-08-31T19:38:12.066414Z",
     "start_time": "2020-08-31T19:38:11.991262Z"
    },
    "scrolled": true
   },
   "outputs": [
    {
     "data": {
      "text/plain": [
       "{'paper_id': '935175',\n",
       " 'metadata': {'title': 'Discriminative and locomotor effects of five synthetic cathinones in rats and mice',\n",
       "  'authors': [{'first': 'Michael',\n",
       "    'middle': ['B.'],\n",
       "    'last': 'Gatch',\n",
       "    'suffix': ''},\n",
       "   {'first': 'Margaret', 'middle': ['A.'], 'last': 'Rutledge', 'suffix': ''},\n",
       "   {'first': 'Michael', 'middle': ['J.'], 'last': 'Forster', 'suffix': ''}],\n",
       "  'abstract': 'Synthetic cathinones continue to be sold as “legal” alternatives to methamphetamine or cocaine. As these marginally legal compounds become controlled, suppliers move to other, unregulated compounds. The purpose of these experiments was to determine whether several temporarily controlled cathinone compounds, which are currently abused on the street, stimulate motor activity and have discriminative stimulus effects similar to cocaine and/or methamphetamine. Methcathinone, pentedrone, pentylone, 3-fluoromethcathinone (3-FMC), and 4-methylethcathinone (4-MEC) were tested for locomotor stimulant effects in mice and subsequently for substitution in rats trained to discriminate cocaine (10 mg/kg, i.p.) or methamphetamine (1 mg/kg, i.p.) from saline. Methcathinone, pentedrone, and pentylone produced locomotor stimulant effects which lasted up to 6 h. In addition, pentylone produced convulsions and lethality at 100 mg/kg. 4-MEC produced locomotor stimulant effects which lasted up to 2 h. Methcathinone, pentedrone, pentylone, 3-FMC, and 4-MEC each produced discriminative stimulus effects similar to those of cocaine and methamphetamine. All of the tested compounds produce discriminative stimulus effects similar to either those of cocaine, methamphetamine, or both, which suggests that these compounds are likely to have similar abuse liability to cocaine and/or methamphetamine. Pentylone may be more dangerous on the street, as it produced adverse effects at doses that produced maximal stimulant-like effects.',\n",
       "  'year': '2014',\n",
       "  'arxiv_id': None,\n",
       "  'acl_id': None,\n",
       "  'pmc_id': 'PMC4361374',\n",
       "  'pubmed_id': '25281225',\n",
       "  'doi': '10.1007/s00213-014-3755-3',\n",
       "  'venue': 'Psychopharmacology',\n",
       "  'journal': 'Psychopharmacology'},\n",
       " 's2_pdf_hash': 'c0795b0a134cd929d730dfd5b1619a6383d40c46',\n",
       " 'grobid_parse': {'abstract': [{'text': 'AbstractRationale Synthetic cathinones continue to be sold as \"legal\" alternatives to methamphetamine or cocaine. As these marginally legal compounds become controlled, suppliers move to other, unregulated compounds. Objectives The purpose of these experiments was to determine whether several temporarily controlled cathinone compounds, which are currently abused on the street, stimulate motor activity and have discriminative stimulus effects similar to cocaine and/or methamphetamine. Methods Methcathinone, pentedrone, pentylone, 3-fluoromethcathinone (3-FMC), and 4-methylethcathinone (4-MEC) were tested for locomotor stimulant effects in mice and subsequently for substitution in rats trained to discriminate cocaine (10 mg/kg, i.p.) or methamphetamine (1 mg/kg, i.p.) from saline. Results Methcathinone, pentedrone, and pentylone produced locomotor stimulant effects which lasted up to 6 h. In addition, pentylone produced convulsions and lethality at 100 mg/kg. 4-MEC produced locomotor stimulant effects which lasted up to 2 h. Methcathinone, pentedrone, pentylone, 3-FMC, and 4-MEC each produced discriminative stimulus effects similar to those of cocaine and methamphetamine. Conclusions All of the tested compounds produce discriminative stimulus effects similar to either those of cocaine, methamphetamine, or both, which suggests that these compounds are likely to have similar abuse liability to cocaine and/or methamphetamine. Pentylone may be more dangerous on the street, as it produced adverse effects at doses that produced maximal stimulant-like effects.',\n",
       "    'cite_spans': [],\n",
       "    'ref_spans': [],\n",
       "    'eq_spans': [],\n",
       "    'section': 'Abstract'}],\n",
       "  'body_text': [{'text': 'Since the synthetic cathinones marketed as \"bath salts\" or \"legal highs\" that have recently emerged (UNODC 2013) have been controlled in the USA and other countries, other compounds have replaced them in gray market preparations. Several of the more commonly used compounds are structurally based on methcathinone, which is a well-known congener of cathinone that was widely abused in Europe (Calkins et al. 1995; Emerson and Cisek 1993) . Its molecular and behavioral effects have been well characterized. Methcathinone acts at monoamine transporters where it produces release of DA and NET, and less potently, 5-HT (Cozzi et al. 2013; Eshleman et al. 2013; Glennon et al. 1987) . It produces discriminative stimulus effects comparable to that of other psychostimulants, fully substituting for amphetamine (Glennon et al. 1987; Schechter 1997b ) and cocaine (Kohut et al. 2013; Li et al. 2006; Schechter 1997a) . Similarly, methamphetamine, amphetamine, and cocaine substitute in methcathinone-trained rats (Young and Glennon 1998) . Further, methcathinone maintains self-administration in baboons (Kaminski and Griffiths 1994) and facilitates ICSS in rats (Bonano et al. 2014) .Four of these synthetic compounds, including 4-methylethcathinone (4-MEC), 3-fluoromethcathinone (3-FMC), pentedrone, and pentylone, have been temporarily scheduled as schedule I compounds (Drug Enforcement Administration 2014). Use of 3-FMC has been seen in Israel and Germany since 2009 (Meyer et al. 2012) . 4-MEC, 3-FMC, pentylone, pentedrone, and MDAI have been found in samples of \"bath salts\" or in blood samples of users increasingly over the past 4 years (Elliott and Evans 2014; Gil et al. 2013; Marinetti and Antonides 2013; Uralets et al. 2014) .Further, there is increasing evidence of possible harm of these substances. Hepatoxicity of \"legal high\" packages with synthetic cathinones including pentedrone and 4-MEC has been reported (Araújo et al. 2014) .Identification of abuse liability is based on several factors, including chemical structures, pharmacological mechanisms, and behavioral effects similar to known drugs of abuse. The present compounds are chemically related to known, controlled substances of abuse such as methamphetamine and methcathinone. A recent study examined the effects of some of these cathinones on monoamine transporters and receptors (Simmler et al. 2014) . 4-MEC and pentylone inhibited uptake of DA, NE, and 5-HT, whereas 3-FMC inhibited uptake of only NE and DA. 4-MEC and pentylone also caused 5-HT release, whereas 3-FMC produced DA and NE release. In contrast, pentedrone inhibited uptake of NE and DA, but did not produce release of DA, NE, or 5-HT. None of these three cathinones showed significant levels of binding to monoamine receptors (Simmler et al. 2014) .Behavioral studies of the abuse liability of potential psychostimulants include locomotor activity, discriminative stimulus effects similar to controlled substances such as cocaine or methamphetamine, conditioned place preference, and finally, the ability to maintain drug seeking behavior in a selfadministration test. The behavioral effects of methcathinone have been well characterized. One study reported that 3-FMC increased locomotor activity and decreased performance on the rotarod and produced ataxia in mice (Marusich et al. 2012) . Other cathinone compounds, including mephedrone, methylone, butylone, mephedrone, 3,4-methylenedioxypyrovalerone (MDPV), and 4-FMC, have been reported to produce increases in locomotor activity (see review by Glennon 2014) , and fully substitute for the discriminative stimulus effects of cocaine, amphetamine, and methamphetamine (Dal Cason et al. 1997; Gatch et al. 2013) . Further, methamphetamine and MDMA fully substituted in MDPV-trained rats (Fantegrossi et al. 2013) .In order to provide evidence regarding potential abuse liability, the current study examines the behavioral effects of methcathinone and four structurally related compounds found on the street, 4-methylethcathinone (4-MEC), 3-fluoromethcathinone (3-FMC), pentedrone, and pentylone. The ability of these compounds to alter locomotor activity in mice was tested, as well as their ability to substitute for the discriminative stimulus effects of cocaine and/or methamphetamine. As mentioned previously, the abuse liability of methcathinone has been well-established. The extent to which the other cathinones produce behavioral effects similar to those of methcathinone (in locomotor activity) and cocaine or methamphetamine (in drug discrimination) will provide support for the hypothesis that the four test compounds have abuse liability comparable to cocaine, methamphetamine, and/or methcathinone.',\n",
       "    'cite_spans': [{'start': 100,\n",
       "      'end': 112,\n",
       "      'text': '(UNODC 2013)',\n",
       "      'latex': None,\n",
       "      'ref_id': None},\n",
       "     {'start': 392,\n",
       "      'end': 413,\n",
       "      'text': '(Calkins et al. 1995;',\n",
       "      'latex': None,\n",
       "      'ref_id': 'BIBREF2'},\n",
       "     {'start': 414,\n",
       "      'end': 437,\n",
       "      'text': 'Emerson and Cisek 1993)',\n",
       "      'latex': None,\n",
       "      'ref_id': 'BIBREF8'},\n",
       "     {'start': 617,\n",
       "      'end': 636,\n",
       "      'text': '(Cozzi et al. 2013;',\n",
       "      'latex': None,\n",
       "      'ref_id': 'BIBREF4'},\n",
       "     {'start': 637,\n",
       "      'end': 658,\n",
       "      'text': 'Eshleman et al. 2013;',\n",
       "      'latex': None,\n",
       "      'ref_id': 'BIBREF9'},\n",
       "     {'start': 659,\n",
       "      'end': 679,\n",
       "      'text': 'Glennon et al. 1987)',\n",
       "      'latex': None,\n",
       "      'ref_id': 'BIBREF13'},\n",
       "     {'start': 807,\n",
       "      'end': 828,\n",
       "      'text': '(Glennon et al. 1987;',\n",
       "      'latex': None,\n",
       "      'ref_id': 'BIBREF13'},\n",
       "     {'start': 829,\n",
       "      'end': 844,\n",
       "      'text': 'Schechter 1997b',\n",
       "      'latex': None,\n",
       "      'ref_id': 'BIBREF23'},\n",
       "     {'start': 859,\n",
       "      'end': 878,\n",
       "      'text': '(Kohut et al. 2013;',\n",
       "      'latex': None,\n",
       "      'ref_id': 'BIBREF16'},\n",
       "     {'start': 879,\n",
       "      'end': 894,\n",
       "      'text': 'Li et al. 2006;',\n",
       "      'latex': None,\n",
       "      'ref_id': 'BIBREF17'},\n",
       "     {'start': 895,\n",
       "      'end': 911,\n",
       "      'text': 'Schechter 1997a)',\n",
       "      'latex': None,\n",
       "      'ref_id': None},\n",
       "     {'start': 1008,\n",
       "      'end': 1032,\n",
       "      'text': '(Young and Glennon 1998)',\n",
       "      'latex': None,\n",
       "      'ref_id': 'BIBREF29'},\n",
       "     {'start': 1099,\n",
       "      'end': 1128,\n",
       "      'text': '(Kaminski and Griffiths 1994)',\n",
       "      'latex': None,\n",
       "      'ref_id': 'BIBREF14'},\n",
       "     {'start': 1158,\n",
       "      'end': 1178,\n",
       "      'text': '(Bonano et al. 2014)',\n",
       "      'latex': None,\n",
       "      'ref_id': None},\n",
       "     {'start': 1469,\n",
       "      'end': 1488,\n",
       "      'text': '(Meyer et al. 2012)',\n",
       "      'latex': None,\n",
       "      'ref_id': 'BIBREF21'},\n",
       "     {'start': 1644,\n",
       "      'end': 1668,\n",
       "      'text': '(Elliott and Evans 2014;',\n",
       "      'latex': None,\n",
       "      'ref_id': 'BIBREF7'},\n",
       "     {'start': 1669,\n",
       "      'end': 1685,\n",
       "      'text': 'Gil et al. 2013;',\n",
       "      'latex': None,\n",
       "      'ref_id': 'BIBREF12'},\n",
       "     {'start': 1686,\n",
       "      'end': 1715,\n",
       "      'text': 'Marinetti and Antonides 2013;',\n",
       "      'latex': None,\n",
       "      'ref_id': 'BIBREF19'},\n",
       "     {'start': 1716,\n",
       "      'end': 1736,\n",
       "      'text': 'Uralets et al. 2014)',\n",
       "      'latex': None,\n",
       "      'ref_id': 'BIBREF26'},\n",
       "     {'start': 1927,\n",
       "      'end': 1947,\n",
       "      'text': '(Araújo et al. 2014)',\n",
       "      'latex': None,\n",
       "      'ref_id': 'BIBREF0'},\n",
       "     {'start': 2360,\n",
       "      'end': 2381,\n",
       "      'text': '(Simmler et al. 2014)',\n",
       "      'latex': None,\n",
       "      'ref_id': 'BIBREF24'},\n",
       "     {'start': 2774,\n",
       "      'end': 2795,\n",
       "      'text': '(Simmler et al. 2014)',\n",
       "      'latex': None,\n",
       "      'ref_id': 'BIBREF24'},\n",
       "     {'start': 3315,\n",
       "      'end': 3337,\n",
       "      'text': '(Marusich et al. 2012)',\n",
       "      'latex': None,\n",
       "      'ref_id': 'BIBREF20'},\n",
       "     {'start': 3549,\n",
       "      'end': 3562,\n",
       "      'text': 'Glennon 2014)',\n",
       "      'latex': None,\n",
       "      'ref_id': None},\n",
       "     {'start': 3671,\n",
       "      'end': 3694,\n",
       "      'text': '(Dal Cason et al. 1997;',\n",
       "      'latex': None,\n",
       "      'ref_id': 'BIBREF5'},\n",
       "     {'start': 3695,\n",
       "      'end': 3713,\n",
       "      'text': 'Gatch et al. 2013)',\n",
       "      'latex': None,\n",
       "      'ref_id': 'BIBREF11'},\n",
       "     {'start': 3789,\n",
       "      'end': 3814,\n",
       "      'text': '(Fantegrossi et al. 2013)',\n",
       "      'latex': None,\n",
       "      'ref_id': None}],\n",
       "    'ref_spans': [],\n",
       "    'eq_spans': [],\n",
       "    'section': None},\n",
       "   {'text': 'Male Swiss-Webster mice were obtained from Harlan (Indianapolis, IN) at approximately 8 weeks of age and tested at approximately 10 weeks of age. Mice were group housed (3-4 per cage) on a 12:12-h light/dark cycle and were allowed free access to food and water in the home cages. Male Sprague-Dawley rats were obtained from Harlan-Sprague Dawley (Indianapolis, IN). All rats were housed individually and were maintained on a 12:12-h light/dark cycle (lights on at 7:00 AM). Body weights were maintained at 320-350 g by limiting food to 20 g/day which included the food received during discrimination training sessions. Water was readily available in the home cages. All housing and procedures were in accordance with the Guidelines for the Care and Use of Laboratory Animals (National Research Council 2011) and were approved by the University of North Texas Health Science Center Animal Care and Use Committee.',\n",
       "    'cite_spans': [],\n",
       "    'ref_spans': [],\n",
       "    'eq_spans': [],\n",
       "    'section': None},\n",
       "   {'text': 'The study was conducted using 40 Digiscan (model RXYZCM, Omnitech Electronics, Columbus, OH) locomotor activity testing chambers (40.5×40.5×30.5 cm) housed within sound-attenuating chambers in sets of two. A panel of infrared beams (16 beams) and corresponding photodetectors were located in the horizontal direction along the sides of each activity chamber. A 7.5-W incandescent light above each chamber provided dim illumination and fans provided an 80-dB ambient noise level within the chamber.Separate groups of 8 mice were injected with either vehicle (0.9 % saline) or a test compound: methcathinone, 3-FMC (0.3, 1, 3, 10 or 30 mg/kg); pentylone, 4-MEC (3, 10, 30 or 100 mg/kg); or pentedrone (1, 2.5, 5, 10 or 25 mg/kg), immediately prior to locomotor activity testing. In all studies, horizontal activity (interruption of photocell beams) was measured for 8 h within 10-min periods, beginning at 0800 hours (1 h after lights on). Behavioral observations were recorded on each mouse during the test sessions at 30, 120, and 480 min following 25 mg/kg (pentedrone), 30 mg/kg (methcathinone, 3-FMC), or 100 mg/kg (pentylone, 4-MEC).',\n",
       "    'cite_spans': [],\n",
       "    'ref_spans': [],\n",
       "    'eq_spans': [],\n",
       "    'section': None},\n",
       "   {'text': 'Standard behavior-testing chambers (Coulbourn Instruments, Allentown, PA) were connected to IBM-PC compatible computers via LVB interfaces (Med Associates, East Fairfield, VT). The computers were programmed in Med-PC for Windows, version IV (Med Associates, East Fairfield, VT) for the operation of the chambers and collection of data.Using a two-lever choice methodology, a pool of 34 rats previously trained to discriminate methamphetamine (1 mg/kg) and a pool of 27 rats previously trained to discriminate cocaine (10 mg/kg) from saline were tested as previously described (Gatch et al. 2011) . Rats received an injection of either saline or drug and were subsequently placed in the behavior-testing chambers, where food (45 mg food pellets; Bio-Serve, Frenchtown, NJ) was available as a reinforcer for every ten responses on a designated injection-appropriate lever. The pretreatment time was 10 min. Each training session lasted a maximum of 10 min, and the rats could earn up to 20 food pellets. The rats received approximately 60 of these sessions before they were used in tests for substitution of the experimental compounds. Rats were used in testing once they had achieved 9 of 10 sessions at 85 % injection-appropriate responding for both the first reinforcer and total session. The training sessions occurred on separate days in a double alternating fashion (drug-drug-saline-saline-drug, etc.) until the training phase was complete, after which substitution tests were introduced into the training schedule such that at least 1 saline and 1 drug session occurred between each test (drug-saline-test-saline-drug-test-drug, etc.). The substitution tests occurred only if the rats had achieved 85 % injection-appropriate responding on the two prior training sessions.Test sessions lasted for a maximum of 20 min. In contrast with training sessions, both levers were active, such that 10 consecutive responses on either lever led to reinforcement. Data were collected until the first reinforcer was obtained, or for a maximum of 20 min. Each compound was tested in groups of six rats. A repeated-measures design was used, such that each rat was tested at all doses of a given drug. Pretreatment times were based on peak stimulant activity in the locomotor activity testing. Intraperitoneal injections (1 ml/kg) of saline, methcathinone (0.1-1 mg/kg), pentedrone (0.5-5 mg/kg), pentylone (1-10 mg/kg), or 3-FMC (0.25-2.5 mg/kg) occurred 15 min prior to the start of the test session. 4-MEC (1-50 mg/kg) was administered 30 min prior to the start of the test session. Drugs (−)-Cocaine hydrochloride, (+)-methamphetamine hydrochloride, (d,l)-N-methcathinone hydrochloride, pentedrone hydrochloride (2-(methylamino)-1-phenylpentan-1-one), pentylone hydrochloride (β-keto-methylbenzodioxolyl-pentanamine), 4-MEC hydrochloride (4-methylethcathinone), and 3-FMC hydrochloride (3-fluoromethcathinone) were provided by the National Institute on Drug Abuse Drug Supply Program. All drugs were dissolved in 0.9 % saline and were administered i.p. in a volume of 1 ml/kg.',\n",
       "    'cite_spans': [{'start': 576,\n",
       "      'end': 595,\n",
       "      'text': '(Gatch et al. 2011)',\n",
       "      'latex': None,\n",
       "      'ref_id': 'BIBREF10'}],\n",
       "    'ref_spans': [],\n",
       "    'eq_spans': [],\n",
       "    'section': None},\n",
       "   {'text': \"Locomotor activity data were expressed as the mean number of photocell counts in the horizontal plane (ambulation counts) during each 10-min period of testing. A 30-min period, beginning when maximal stimulation of locomotor activity first appeared as a function of dose, was used for analysis of dose-response data and calculation of ED50 values. TableCurve 2D was used to estimate the peak ambulation following administration of each cathinone analog. The ED50 values and the standard error of the mean were then calculated by estimating the dose producing ½ of the peak ambulation from the ascending linear portion of the doseresponse curve. A two-way repeated measures analysis of variance (treatment×time period) was conducted on horizontal activity counts/10 min interval. A one-way ANOVA was conducted on horizontal activity counts for the 30-min period of maximal effect, and planned comparisons were conducted for each dose against saline control using single degree-of-freedom F tests. A one-way ANOVA was conducted on peak ambulation (percent of vehicle control) for the five test compounds.Drug discrimination data are expressed as the mean percentage of drug-appropriate responses occurring in each test period. Rates of responding were expressed as a function of the number of responses made divided by the total session time. Graphs for percent drugappropriate responding and response rate were plotted as a function of dose of test compound (log scale). Percent drug-appropriate responding was shown only if at least three rats completed the first fixed ratio. Full substitution was defined as >80 % drug-appropriate responding and not statistically different from the training drug.The potencies of methcathinone, pentedrone, pentylone, 4-MEC, and 3-FMC were calculated by fitting straight lines to the dose-response data for each compound by means of Origin (OriginGraph, Northhampton, MA). Straight lines were fitted to the linear portion of doseeffect curves, including not more than one dose producing <20 % of the maximal effect and not more than one dose producing >80 % of the maximal effect. Other doses were excluded from the analyses. Differences among ED50 values were tested by one-way ANOVA followed by Tukey's test to compare individual means. Rates of responding were expressed as a function of the number of responses made divided by the total session time. Response rate data was analyzed by one-way repeated measures analysis of variance. Effects of individual doses were compared to the vehicle control value using a priori contrasts. The criterion for significance was set a priori at p<0.05. Figure 1 shows average horizontal activity counts/10 min as a function of time (0-8 h) and dose of each test compound. The two-way analysis of variance performed on data for each compound except 4-MEC yielded a significant main effect of treatment, as well as a treatment×time period interaction (all ps <0.05). Figure 2 shows dose-effect curves generated from the time of peak effect (from shaded area in Fig. 1) for each compound. The one-way analysis of variance for maximal effect yielded a significant effect for each compound (all ps <0.05). In addition, methcathinone produced a larger peak effect than the other four cathinones [F(4,115)=3.673, p=0.007]. The peak effects produced by pentedrone, pentylone, 4-MEC, and 3-FMC were not different (p>0.05).\",\n",
       "    'cite_spans': [],\n",
       "    'ref_spans': [{'start': 2630,\n",
       "      'end': 2638,\n",
       "      'text': 'Figure 1',\n",
       "      'latex': None,\n",
       "      'ref_id': 'FIGREF1'},\n",
       "     {'start': 2942,\n",
       "      'end': 2950,\n",
       "      'text': 'Figure 2',\n",
       "      'latex': None,\n",
       "      'ref_id': None},\n",
       "     {'start': 3036,\n",
       "      'end': 3043,\n",
       "      'text': 'Fig. 1)',\n",
       "      'latex': None,\n",
       "      'ref_id': 'FIGREF1'}],\n",
       "    'eq_spans': [],\n",
       "    'section': None},\n",
       "   {'text': 'Treatment with methcathinone resulted in time-and dosedependent stimulation of locomotor activity in doses from 1 to 30 mg/kg. Stimulant effects of 1 to 10 mg/kg occurred within 10 min following injection and lasted 100 to 180 min. Methcathinone depressed locomotor activity between 10 and 60 min following administration of 30 mg/kg. A dose effect curve generated from the time of peak effect shows a dosedependent increase in locomotor activity (ED 50 =1.39± 0.09 mg/kg) followed by a sharp decrease in locomotor activity, since stimulant effects of 30 mg/kg did not occur until 90 to 270 min after administration. During the period of peak effect (0-30 min), locomotor activity increased to a peak of 267±20 % of vehicle control following 10 mg/kg.Pentedrone produced time-and dose-dependent stimulation of locomotor activity in doses from 2.5 to 25 mg/kg (ED 50 = 4.70 ± 0.10 mg/kg). Stimulant effects of 2.5 to 10 mg/kg occurred within 10 min following injection and lasted 90 to 140 min (Fig. 1) . During the period of peak effect (0-30 min), locomotor activity increased to a peak of 196± 11 % of vehicle control following 10 mg/kg (Fig. 2) . Treatment with 3-FMC produced time-and dose-dependent stimulation of locomotor activity in doses from 1 to 30 mg/kg (ED 50 =2.14±0.06 mg/kg). Stimulant effects of 1 to 10 mg/kg occurred within 10 min following injection and lasted 40 to 170 min. Stimulant effects were delayed following 30 mg/kg. During the period of peak effect (0-30 min), locomotor activity increased to a peak of 204±17 % of vehicle control following 10 mg/kg.Treatment with pentylone resulted in time-and dosedependent stimulation of locomotor activity in doses from 10 to 100 mg/kg (ED 50 =11.54±0.08 mg/kg). Stimulant effects of 10 and 30 mg/kg occurred within 10 min following injection and lasted 120 to 170 min (Fig. 1) . Stimulant effects of 100 mg/kg did not occur until 2 to 6 h after administration. During the period of peak effect (0-30 min), locomotor activity increased to a peak of 207±16 % of vehicle control following 10 mg/kg (Fig. 2) . Lethality occurred in 1/8 mice within the 30-40 min time bin following 100 mg/kg pentylone. Clonic convulsions were observed in 3/7 mice at 8 h following 100 mg/kg pentylone. 4-MEC produced timeand dose-dependent stimulation of locomotor activity in doses from 30 to 100 mg/kg (ED 50 =21.09±0.09 mg/kg). Stimulant effects occurred within 30 min following injection and lasted 110 min. During the period of peak effect (30-60 min), locomotor activity increased to a peak of 190±12 % of vehicle control following 10 mg/kg. Discrimination Methcathinone, pentedrone, pentylone, 3-FMC, and 4-MEC fully substituted for the discriminative stimulus effects of methamphetamine and cocaine (Figs. 3  and 4) . ED50 values are shown in Table 1 . There were no differences in the potency of the test compounds in cocaineand methamphetamine-trained rats (p>0.05). Pentylone decreased rate of responding in methamphetamine-trained rats [F(4,20) =4.87, p=0.007], whereas 4-MEC decreased rate of responding in cocaine-trained rats [F(4,20) =4.81, p=0.007]. The other cathinone compounds produced no effect on rate of responding.',\n",
       "    'cite_spans': [{'start': 2997,\n",
       "      'end': 3005,\n",
       "      'text': '[F(4,20)',\n",
       "      'latex': None,\n",
       "      'ref_id': None},\n",
       "     {'start': 3090,\n",
       "      'end': 3098,\n",
       "      'text': '[F(4,20)',\n",
       "      'latex': None,\n",
       "      'ref_id': None}],\n",
       "    'ref_spans': [{'start': 993,\n",
       "      'end': 1001,\n",
       "      'text': '(Fig. 1)',\n",
       "      'latex': None,\n",
       "      'ref_id': 'FIGREF1'},\n",
       "     {'start': 1139,\n",
       "      'end': 1147,\n",
       "      'text': '(Fig. 2)',\n",
       "      'latex': None,\n",
       "      'ref_id': None},\n",
       "     {'start': 1838,\n",
       "      'end': 1846,\n",
       "      'text': '(Fig. 1)',\n",
       "      'latex': None,\n",
       "      'ref_id': 'FIGREF1'},\n",
       "     {'start': 2065,\n",
       "      'end': 2073,\n",
       "      'text': '(Fig. 2)',\n",
       "      'latex': None,\n",
       "      'ref_id': None},\n",
       "     {'start': 2756,\n",
       "      'end': 2772,\n",
       "      'text': '(Figs. 3  and 4)',\n",
       "      'latex': None,\n",
       "      'ref_id': 'FIGREF2'},\n",
       "     {'start': 2800,\n",
       "      'end': 2807,\n",
       "      'text': 'Table 1',\n",
       "      'latex': None,\n",
       "      'ref_id': None}],\n",
       "    'eq_spans': [],\n",
       "    'section': None},\n",
       "   {'text': 'Ten compounds were recently temporarily placed into Schedule I, including 4-MEC, 4-MePPP, α-PVP, butylone, pentedrone, pentylone, 4-FMC, 3-FMC, naphyrone, and α-PBP (Drug Enforcement Administration 2014). Behavioral data on three of these compounds (butylone, 4-FMC and naphyrone) have been published previously (Gatch et al. 2013; López-Arnau et al. 2012) . In the present study, methcathinone, pentedrone, pentylone, 4-MEC and 3-FMC stimulated locomotor activity, producing a range of effects from 2.5 to 6 h duration. These findings agree with earlier studies that methcathinone and 3-FMC stimulate motor activity (van der Schoot et al. 1962; Glennon et al. 1987; Marusich et al. 2012) . In fact, several cathinone compounds, including mephedrone, methylone, butylone, mephedrone, MDPV, and 4-FMC, have been reported to produce increases in locomotor activity by several laboratories, which is not surprising as they all act at monoamine transporters like classic psychostimulants such as cocaine and amphetamines (see review by Glennon 2014) .All of the compounds but 4-MEC produced inverted Ushaped dose effect curves similar to that of methcathinone, a well-characterized compound of abuse. Methcathinone was the most efficacious compound, producing the biggest peak effect relative to control. The peak effects produced by the other compound were not statistically different from each other. The stimulant effects of 4-MEC had a slower onset than for the other compounds (30-60 min vs. 0-30 min). The decrease in locomotor activity seen in the other compounds did occur at the highest dose of 4-MEC (100 mg/kg), but occurred at a time range earlier than that of the peak stimulant effects, and therefore was not seen in the dose-effect curve. Delayed effects were seen following large doses of methcathinone, 3-FMC, and pentylone, similar to those reported previously for methamphetamine, MDPV, and naphyrone (Gatch et al. 2013 ). This effect is seen most strongly in those compounds that produce sharply biphasic doseeffect curves, and may be observed when metabolism of the test compounds reduces concentrations to levels that are associated with larger behavioral effects. All of the test compounds fully substituted for the discriminative stimulus effects of cocaine, although substantial rate depression was seen for 4-MEC. Similarly, all of the test compounds fully substituted for the discriminative stimulus effects of methamphetamine in the present study. All of the compounds had comparable potencies when tested in methamphetamine-or in cocaine-trained rats. Despite the physiological differences between the species, mouse locomotor activity data have been excellent at predicting dose ranges and pretreatment times for cocaine and methamphetamine drug discrimination in rats in the present study, as well as in prior studies (Carroll et al. 2009; Katz et al. 2001; Gatch et al. 2013) .Methcathinone has been shown to fully substitute in both methamphetamine-and cocaine-trained subjects (Bondareva et al. 2002; Kohut et al. 2013; Schechter 1997a) , and cocaine fully substitutes in S(−)-methcathinone-trained rats (Young and Glennon 1998) . However, there have been no previous reports on the discriminative stimulus effects of pentedrone, pentylone, 4-MEC, or 3-FMC. Given these four compounds have similar chemical structures as methamphetamine and methcathinone, and inhibit the uptake of dopamine and other monoamines similar to abused psychostimulants such as cocaine (Simmler et al. 2014) , it is not surprising that these compounds shared discriminative stimulus effects with psychostimulants such as methamphetamine and cocaine. These findings are in agreement with earlier findings that several abused cathinones fully substituted for the discriminative stimulus effects of cocaine, amphetamine, and methamphetamine (Dal Cason et al. 1997; Gatch et al. 2013) and that methamphetamine and MDMA fully substitute in rats trained to discriminate MDPV (Fantegrossi et al. 2013 ). These compounds do not produce identical effects, as only MDMA fully substituted in mephedrone-trained rats (Varner et al. 2012) . In that study, methamphetamine and cocaine produced significant, but submaximal amounts of mephedrone-appropriate responding, as did fenfluramine, which suggests that mephedrone may be a more serotonergic compound than many of the other cathinones. Given that these compounds have similar chemical structures and similar molecular mechanisms of action as known drugs of abuse, produce psychostimulant effects, and produce discriminative stimulus effects similar to those of cocaine and methamphetamine, it is likely that these compounds share the abuse liability of cocaine, methamphetamine, and methcathinone. Only pentylone produced adverse effects in the present experiments; no adverse effects were observed following the other test compounds at the doses tested. Pentylone produced convulsions and lethality at 100 mg/kg in mice. Adverse effects of pentylone were not observed in rats, but only 10 mg/kg was needed to produce full substitution. Whether or not pentylone will produce toxic effects in humans remains to be seen. Confirmation of the abuse liability of these compounds will require study of their reward effects (e.g., conditioned place preference) and their ability to maintain self-administration.',\n",
       "    'cite_spans': [{'start': 312,\n",
       "      'end': 331,\n",
       "      'text': '(Gatch et al. 2013;',\n",
       "      'latex': None,\n",
       "      'ref_id': 'BIBREF11'},\n",
       "     {'start': 332,\n",
       "      'end': 356,\n",
       "      'text': 'López-Arnau et al. 2012)',\n",
       "      'latex': None,\n",
       "      'ref_id': 'BIBREF18'},\n",
       "     {'start': 617,\n",
       "      'end': 645,\n",
       "      'text': '(van der Schoot et al. 1962;',\n",
       "      'latex': None,\n",
       "      'ref_id': 'BIBREF27'},\n",
       "     {'start': 646,\n",
       "      'end': 666,\n",
       "      'text': 'Glennon et al. 1987;',\n",
       "      'latex': None,\n",
       "      'ref_id': 'BIBREF13'},\n",
       "     {'start': 667,\n",
       "      'end': 688,\n",
       "      'text': 'Marusich et al. 2012)',\n",
       "      'latex': None,\n",
       "      'ref_id': 'BIBREF20'},\n",
       "     {'start': 1032,\n",
       "      'end': 1045,\n",
       "      'text': 'Glennon 2014)',\n",
       "      'latex': None,\n",
       "      'ref_id': None},\n",
       "     {'start': 1916,\n",
       "      'end': 1934,\n",
       "      'text': '(Gatch et al. 2013',\n",
       "      'latex': None,\n",
       "      'ref_id': 'BIBREF11'},\n",
       "     {'start': 2845,\n",
       "      'end': 2866,\n",
       "      'text': '(Carroll et al. 2009;',\n",
       "      'latex': None,\n",
       "      'ref_id': 'BIBREF3'},\n",
       "     {'start': 2867,\n",
       "      'end': 2884,\n",
       "      'text': 'Katz et al. 2001;',\n",
       "      'latex': None,\n",
       "      'ref_id': 'BIBREF15'},\n",
       "     {'start': 2885,\n",
       "      'end': 2903,\n",
       "      'text': 'Gatch et al. 2013)',\n",
       "      'latex': None,\n",
       "      'ref_id': 'BIBREF11'},\n",
       "     {'start': 3007,\n",
       "      'end': 3030,\n",
       "      'text': '(Bondareva et al. 2002;',\n",
       "      'latex': None,\n",
       "      'ref_id': 'BIBREF1'},\n",
       "     {'start': 3031,\n",
       "      'end': 3049,\n",
       "      'text': 'Kohut et al. 2013;',\n",
       "      'latex': None,\n",
       "      'ref_id': 'BIBREF16'},\n",
       "     {'start': 3050,\n",
       "      'end': 3066,\n",
       "      'text': 'Schechter 1997a)',\n",
       "      'latex': None,\n",
       "      'ref_id': None},\n",
       "     {'start': 3134,\n",
       "      'end': 3158,\n",
       "      'text': '(Young and Glennon 1998)',\n",
       "      'latex': None,\n",
       "      'ref_id': 'BIBREF29'},\n",
       "     {'start': 3493,\n",
       "      'end': 3514,\n",
       "      'text': '(Simmler et al. 2014)',\n",
       "      'latex': None,\n",
       "      'ref_id': 'BIBREF24'},\n",
       "     {'start': 3845,\n",
       "      'end': 3868,\n",
       "      'text': '(Dal Cason et al. 1997;',\n",
       "      'latex': None,\n",
       "      'ref_id': 'BIBREF5'},\n",
       "     {'start': 3869,\n",
       "      'end': 3887,\n",
       "      'text': 'Gatch et al. 2013)',\n",
       "      'latex': None,\n",
       "      'ref_id': 'BIBREF11'},\n",
       "     {'start': 3976,\n",
       "      'end': 4000,\n",
       "      'text': '(Fantegrossi et al. 2013',\n",
       "      'latex': None,\n",
       "      'ref_id': None},\n",
       "     {'start': 4112,\n",
       "      'end': 4132,\n",
       "      'text': '(Varner et al. 2012)',\n",
       "      'latex': None,\n",
       "      'ref_id': 'BIBREF28'}],\n",
       "    'ref_spans': [],\n",
       "    'eq_spans': [],\n",
       "    'section': None}],\n",
       "  'ref_entries': {'FIGREF1': {'text': 'Fig. 1 Time course of locomotor stimulant effects. Average horizontal activity counts/10 min (ambulation counts) as a function of time and dose for methcathinone, pentedrone, 3-FMC, pentylone, and 4-MEC. Each',\n",
       "    'latex': None,\n",
       "    'type': 'figure'},\n",
       "   'FIGREF2': {'text': 'Fig. 3 Substitution for the discriminative stimulus effects of cocaine: Top, percentage of total responses made on the drugappropriate lever. Bottom, rate of responding in responses per second (r/s). All of the cathinones fully substituted for the discriminative stimulus effects of cocaine (>80 % drug-appropriate responding); n=6 for each compound',\n",
       "    'latex': None,\n",
       "    'type': 'figure'},\n",
       "   'TABREF0': {'text': 'Responses per Second Percent Drug-Appropriate Responding Fig. 4 Substitution for the discriminative stimulus effects of methamphetamine: Top, percentage of total responses made on the drug-appropriate lever. Bottom, rate of responding in responses per second (r/s). All of the cathinones fully substituted for the discriminative stimulus effects of methamphetamine (>80 % drug-appropriate responding); n=6 for each compound except where noted Table 1 ED50 values (mg/kg) for discriminative stimulus effects of cathinones in cocaine-and methamphetamine-trained rats. Data shown are the mean ±standard error of the mean. N=6 rats',\n",
       "    'latex': None,\n",
       "    'type': 'table'}},\n",
       "  'bib_entries': {'BIBREF0': {'ref_id': 'b0',\n",
       "    'title': 'Abuse-related and abuse-limiting effects of methcathinone and the synthetic \"bath salts\" cathinone analogs methylenedioxypyrovalerone (MDPV), methylone and mephedrone on intracranial self-stimulation in rats',\n",
       "    'authors': [{'first': 'A',\n",
       "      'middle': ['M'],\n",
       "      'last': 'Araújo',\n",
       "      'suffix': ''},\n",
       "     {'first': 'M', 'middle': ['J'], 'last': 'Valente', 'suffix': ''},\n",
       "     {'first': 'M', 'middle': [], 'last': 'Carvalho', 'suffix': ''},\n",
       "     {'first': 'D', 'middle': [], 'last': 'Dias Da Silva', 'suffix': ''},\n",
       "     {'first': 'H', 'middle': [], 'last': 'Gaspar', 'suffix': ''},\n",
       "     {'first': 'F', 'middle': [], 'last': 'Carvalho', 'suffix': ''},\n",
       "     {'first': 'Lourdes', 'middle': [], 'last': 'De', 'suffix': ''},\n",
       "     {'first': 'M', 'middle': [], 'last': 'Bastos', 'suffix': ''},\n",
       "     {'first': 'Guedes', 'middle': [], 'last': 'De Pinho', 'suffix': ''},\n",
       "     {'first': 'P', 'middle': [], 'last': '', 'suffix': ''}],\n",
       "    'year': 2014,\n",
       "    'venue': 'Psychopharmacology (Berlin)',\n",
       "    'volume': '231',\n",
       "    'issn': '',\n",
       "    'pages': '199--207',\n",
       "    'other_ids': {},\n",
       "    'links': '18739227'},\n",
       "   'BIBREF1': {'ref_id': 'b1',\n",
       "    'title': 'Asymmetric generalization between (−)ephedrine and S(+)methamphetamine',\n",
       "    'authors': [{'first': 'T',\n",
       "      'middle': ['S'],\n",
       "      'last': 'Bondareva',\n",
       "      'suffix': ''},\n",
       "     {'first': 'R', 'middle': [], 'last': 'Young', 'suffix': ''},\n",
       "     {'first': 'R', 'middle': ['A'], 'last': 'Glennon', 'suffix': ''}],\n",
       "    'year': 2002,\n",
       "    'venue': 'Pharmacol Biochem Behav',\n",
       "    'volume': '74',\n",
       "    'issn': '',\n",
       "    'pages': '157--162',\n",
       "    'other_ids': {},\n",
       "    'links': None},\n",
       "   'BIBREF2': {'ref_id': 'b2',\n",
       "    'title': 'Methcathinone: the next illicit stimulant epidemic?',\n",
       "    'authors': [{'first': 'R',\n",
       "      'middle': ['F'],\n",
       "      'last': 'Calkins',\n",
       "      'suffix': ''},\n",
       "     {'first': 'G', 'middle': ['B'], 'last': 'Aktan', 'suffix': ''},\n",
       "     {'first': 'K', 'middle': ['L'], 'last': 'Hussain', 'suffix': ''}],\n",
       "    'year': 1995,\n",
       "    'venue': 'J Psychoactive Drugs',\n",
       "    'volume': '27',\n",
       "    'issn': '',\n",
       "    'pages': '277--285',\n",
       "    'other_ids': {},\n",
       "    'links': None},\n",
       "   'BIBREF3': {'ref_id': 'b3',\n",
       "    'title': 'Synthesis and biological evaluation of bupropion analogues as potential pharmacotherapies for cocaine addiction',\n",
       "    'authors': [{'first': 'F',\n",
       "      'middle': ['I'],\n",
       "      'last': 'Carroll',\n",
       "      'suffix': ''},\n",
       "     {'first': 'B', 'middle': ['E'], 'last': 'Blough', 'suffix': ''},\n",
       "     {'first': 'P', 'middle': [], 'last': 'Abraham', 'suffix': ''},\n",
       "     {'first': 'A', 'middle': ['C'], 'last': 'Mills', 'suffix': ''},\n",
       "     {'first': 'J', 'middle': ['A'], 'last': 'Holleman', 'suffix': ''},\n",
       "     {'first': 'S', 'middle': ['A'], 'last': 'Wolckenhauer', 'suffix': ''},\n",
       "     {'first': 'A', 'middle': ['M'], 'last': 'Decker', 'suffix': ''},\n",
       "     {'first': 'A', 'middle': [], 'last': 'Landavazo', 'suffix': ''},\n",
       "     {'first': 'K', 'middle': ['T'], 'last': 'Mcelroy', 'suffix': ''},\n",
       "     {'first': 'H', 'middle': ['A'], 'last': 'Navarro', 'suffix': ''},\n",
       "     {'first': 'M', 'middle': ['B'], 'last': 'Gatch', 'suffix': ''},\n",
       "     {'first': 'M', 'middle': ['J'], 'last': 'Forster', 'suffix': ''}],\n",
       "    'year': 2009,\n",
       "    'venue': 'J Med Chem',\n",
       "    'volume': '52',\n",
       "    'issn': '',\n",
       "    'pages': '6768--6781',\n",
       "    'other_ids': {},\n",
       "    'links': '9603717'},\n",
       "   'BIBREF4': {'ref_id': 'b4',\n",
       "    'title': 'Pharmacological examination of trifluoromethyl ring-substituted methcathinone analogs',\n",
       "    'authors': [{'first': 'N', 'middle': ['V'], 'last': 'Cozzi', 'suffix': ''},\n",
       "     {'first': 'S', 'middle': ['D'], 'last': 'Brandt', 'suffix': ''},\n",
       "     {'first': 'P', 'middle': ['F'], 'last': 'Daley', 'suffix': ''},\n",
       "     {'first': 'J', 'middle': ['S'], 'last': 'Partilla', 'suffix': ''},\n",
       "     {'first': 'R', 'middle': ['B'], 'last': 'Rothman', 'suffix': ''},\n",
       "     {'first': 'A', 'middle': [], 'last': 'Tulzer', 'suffix': ''},\n",
       "     {'first': 'H', 'middle': ['H'], 'last': 'Sitte', 'suffix': ''},\n",
       "     {'first': 'M', 'middle': ['H'], 'last': 'Baumann', 'suffix': ''}],\n",
       "    'year': 2013,\n",
       "    'venue': 'Eur J Pharmacol',\n",
       "    'volume': '699',\n",
       "    'issn': '',\n",
       "    'pages': '180--187',\n",
       "    'other_ids': {},\n",
       "    'links': '17229715'},\n",
       "   'BIBREF5': {'ref_id': 'b5',\n",
       "    'title': 'Cathinone: an investigation of several N-alkyl and methylenedioxy analogs',\n",
       "    'authors': [{'first': 'T',\n",
       "      'middle': ['A'],\n",
       "      'last': 'Dal Cason',\n",
       "      'suffix': ''},\n",
       "     {'first': 'R', 'middle': [], 'last': 'Young', 'suffix': ''},\n",
       "     {'first': 'R', 'middle': ['A'], 'last': 'Glennon', 'suffix': ''}],\n",
       "    'year': 1997,\n",
       "    'venue': 'Pharmacol Biochem Behav',\n",
       "    'volume': '58',\n",
       "    'issn': '',\n",
       "    'pages': '1109--1116',\n",
       "    'other_ids': {},\n",
       "    'links': None},\n",
       "   'BIBREF6': {'ref_id': 'b6',\n",
       "    'title': 'Schedules of controlled substances: temporary placement of 10 synthetic cathinones into Schedule I. Final order',\n",
       "    'authors': [],\n",
       "    'year': 2014,\n",
       "    'venue': 'Drug Enforcement Administration DJ',\n",
       "    'volume': '79',\n",
       "    'issn': '',\n",
       "    'pages': '12938--12943',\n",
       "    'other_ids': {},\n",
       "    'links': '21522126'},\n",
       "   'BIBREF7': {'ref_id': 'b7',\n",
       "    'title': 'A 3-year review of new psychoactive substances in casework',\n",
       "    'authors': [{'first': 'S', 'middle': [], 'last': 'Elliott', 'suffix': ''},\n",
       "     {'first': 'J', 'middle': [], 'last': 'Evans', 'suffix': ''}],\n",
       "    'year': 2014,\n",
       "    'venue': 'Forensic Sci Int',\n",
       "    'volume': '243',\n",
       "    'issn': '',\n",
       "    'pages': '55--60',\n",
       "    'other_ids': {},\n",
       "    'links': '39759700'},\n",
       "   'BIBREF8': {'ref_id': 'b8',\n",
       "    'title': 'Methcathinone: a Russian designer amphetamine infiltrates the rural midwest',\n",
       "    'authors': [{'first': 'T',\n",
       "      'middle': ['S'],\n",
       "      'last': 'Emerson',\n",
       "      'suffix': ''},\n",
       "     {'first': 'J', 'middle': ['E'], 'last': 'Cisek', 'suffix': ''}],\n",
       "    'year': 1993,\n",
       "    'venue': 'Ann Emerg Med',\n",
       "    'volume': '22',\n",
       "    'issn': '',\n",
       "    'pages': '1897--1903',\n",
       "    'other_ids': {},\n",
       "    'links': '13389709'},\n",
       "   'BIBREF9': {'ref_id': 'b9',\n",
       "    'title': \"In vivo effects of abused 'bath salt' constituent 3,4-methylenedioxypyrovalerone (MDPV) in mice: drug discrimination, thermoregulation, and locomotor activity\",\n",
       "    'authors': [{'first': 'A',\n",
       "      'middle': ['J'],\n",
       "      'last': 'Eshleman',\n",
       "      'suffix': ''},\n",
       "     {'first': 'K', 'middle': ['M'], 'last': 'Wolfrum', 'suffix': ''},\n",
       "     {'first': 'M', 'middle': ['G'], 'last': 'Hatfield', 'suffix': ''},\n",
       "     {'first': 'R', 'middle': ['A'], 'last': 'Johnson', 'suffix': ''},\n",
       "     {'first': 'K', 'middle': ['V'], 'last': 'Murphy', 'suffix': ''},\n",
       "     {'first': 'A', 'middle': [], 'last': 'Janowsky', 'suffix': ''},\n",
       "     {'first': 'B', 'middle': ['M'], 'last': 'Gannon', 'suffix': ''},\n",
       "     {'first': 'S', 'middle': ['M'], 'last': 'Zimmerman', 'suffix': ''},\n",
       "     {'first': 'K', 'middle': ['C'], 'last': 'Rice', 'suffix': ''}],\n",
       "    'year': 2013,\n",
       "    'venue': 'Biochem Pharmacol Fantegrossi WE',\n",
       "    'volume': '38',\n",
       "    'issn': '',\n",
       "    'pages': '563--573',\n",
       "    'other_ids': {},\n",
       "    'links': None},\n",
       "   'BIBREF10': {'ref_id': 'b10',\n",
       "    'title': 'Abuse liability profile of three substituted tryptamines',\n",
       "    'authors': [{'first': 'M', 'middle': ['B'], 'last': 'Gatch', 'suffix': ''},\n",
       "     {'first': 'M', 'middle': ['J'], 'last': 'Forster', 'suffix': ''},\n",
       "     {'first': 'A', 'middle': [], 'last': 'Janowsky', 'suffix': ''},\n",
       "     {'first': 'A', 'middle': ['J'], 'last': 'Eshleman', 'suffix': ''}],\n",
       "    'year': 2011,\n",
       "    'venue': 'J Pharmacol Exp Ther',\n",
       "    'volume': '338',\n",
       "    'issn': '',\n",
       "    'pages': '280--289',\n",
       "    'other_ids': {},\n",
       "    'links': '28370664'},\n",
       "   'BIBREF11': {'ref_id': 'b11',\n",
       "    'title': \"Locomotor stimulant and discriminative stimulus effects of 'bath salt' cathinones\",\n",
       "    'authors': [{'first': 'M', 'middle': ['B'], 'last': 'Gatch', 'suffix': ''},\n",
       "     {'first': 'C', 'middle': ['M'], 'last': 'Taylor', 'suffix': ''},\n",
       "     {'first': 'M', 'middle': ['J'], 'last': 'Forster', 'suffix': ''}],\n",
       "    'year': 2013,\n",
       "    'venue': 'Behav Pharmacol',\n",
       "    'volume': '24',\n",
       "    'issn': '',\n",
       "    'pages': '437--447',\n",
       "    'other_ids': {},\n",
       "    'links': '585889'},\n",
       "   'BIBREF12': {'ref_id': 'b12',\n",
       "    'title': 'e , a n d methylenedioxypyrovalerone as emerging illicit drugs that will need targeted therapeutic intervention',\n",
       "    'authors': [{'first': 'D', 'middle': [], 'last': 'Gil', 'suffix': ''},\n",
       "     {'first': 'P', 'middle': [], 'last': 'Adamowicz', 'suffix': ''},\n",
       "     {'first': 'A', 'middle': [], 'last': 'Skulska', 'suffix': ''},\n",
       "     {'first': 'B', 'middle': [], 'last': 'Tokarczyk', 'suffix': ''},\n",
       "     {'first': 'R', 'middle': [], 'last': 'Stanaszek', 'suffix': ''}],\n",
       "    'year': 2013,\n",
       "    'venue': 'Forensic Sci Int',\n",
       "    'volume': '228',\n",
       "    'issn': '',\n",
       "    'pages': '581--620',\n",
       "    'other_ids': {},\n",
       "    'links': None},\n",
       "   'BIBREF13': {'ref_id': 'b13',\n",
       "    'title': 'Methcathinone: a new and potent amphetamine-like agent',\n",
       "    'authors': [{'first': 'R',\n",
       "      'middle': ['A'],\n",
       "      'last': 'Glennon',\n",
       "      'suffix': ''},\n",
       "     {'first': 'M', 'middle': [], 'last': 'Yousif', 'suffix': ''},\n",
       "     {'first': 'N', 'middle': [], 'last': 'Naiman', 'suffix': ''},\n",
       "     {'first': 'P', 'middle': [], 'last': 'Kalix', 'suffix': ''}],\n",
       "    'year': 1987,\n",
       "    'venue': 'Pharmacol Biochem Behav',\n",
       "    'volume': '26',\n",
       "    'issn': '',\n",
       "    'pages': '547--551',\n",
       "    'other_ids': {},\n",
       "    'links': '5890314'},\n",
       "   'BIBREF14': {'ref_id': 'b14',\n",
       "    'title': 'Intravenous self-injection of methcathinone in the baboon',\n",
       "    'authors': [{'first': 'B',\n",
       "      'middle': ['J'],\n",
       "      'last': 'Kaminski',\n",
       "      'suffix': ''},\n",
       "     {'first': 'R', 'middle': ['R'], 'last': 'Griffiths', 'suffix': ''}],\n",
       "    'year': 1994,\n",
       "    'venue': 'Pharmacol Biochem Behav',\n",
       "    'volume': '47',\n",
       "    'issn': '',\n",
       "    'pages': '981--983',\n",
       "    'other_ids': {},\n",
       "    'links': '40584010'},\n",
       "   'BIBREF15': {'ref_id': 'b15',\n",
       "    'title': 'Dopamine transporter binding without cocaine-like behavioral effects: synthesis and evaluation of benztropine analogs alone and in combination with cocaine in rodents',\n",
       "    'authors': [{'first': 'J', 'middle': ['L'], 'last': 'Katz', 'suffix': ''},\n",
       "     {'first': 'G', 'middle': ['E'], 'last': 'Agoston', 'suffix': ''},\n",
       "     {'first': 'K', 'middle': ['L'], 'last': 'Alling', 'suffix': ''},\n",
       "     {'first': 'R', 'middle': ['H'], 'last': 'Kline', 'suffix': ''},\n",
       "     {'first': 'M', 'middle': ['J'], 'last': 'Forster', 'suffix': ''},\n",
       "     {'first': 'W', 'middle': ['L'], 'last': 'Woolverton', 'suffix': ''},\n",
       "     {'first': 'T', 'middle': ['A'], 'last': 'Kopajtic', 'suffix': ''},\n",
       "     {'first': 'A', 'middle': ['H'], 'last': 'Newman', 'suffix': ''}],\n",
       "    'year': 2001,\n",
       "    'venue': 'Psychopharmacology (Berl)',\n",
       "    'volume': '154',\n",
       "    'issn': '',\n",
       "    'pages': '362--374',\n",
       "    'other_ids': {},\n",
       "    'links': '24894745'},\n",
       "   'BIBREF16': {'ref_id': 'b16',\n",
       "    'title': 'Effects of methcathinone and 3-Cl-methcathinone (PAL-434) in cocaine discrimination or self-administration in rhesus monkeys',\n",
       "    'authors': [{'first': 'S', 'middle': ['J'], 'last': 'Kohut', 'suffix': ''},\n",
       "     {'first': 'P', 'middle': ['A'], 'last': 'Fivel', 'suffix': ''},\n",
       "     {'first': 'B', 'middle': ['E'], 'last': 'Blough', 'suffix': ''},\n",
       "     {'first': 'R', 'middle': ['B'], 'last': 'Rothman', 'suffix': ''},\n",
       "     {'first': 'N', 'middle': ['K'], 'last': 'Mello', 'suffix': ''}],\n",
       "    'year': 2013,\n",
       "    'venue': 'Int J Neuropsychopharmacol',\n",
       "    'volume': '16',\n",
       "    'issn': '',\n",
       "    'pages': '1985--1998',\n",
       "    'other_ids': {},\n",
       "    'links': '16524075'},\n",
       "   'BIBREF17': {'ref_id': 'b17',\n",
       "    'title': 'Interactions of cocaine with dopamine uptake inhibitors or dopamine releasers in rats discriminating cocaine',\n",
       "    'authors': [{'first': 'S', 'middle': ['M'], 'last': 'Li', 'suffix': ''},\n",
       "     {'first': 'B', 'middle': ['L'], 'last': 'Campbell', 'suffix': ''},\n",
       "     {'first': 'J', 'middle': ['L'], 'last': 'Katz', 'suffix': ''}],\n",
       "    'year': 2006,\n",
       "    'venue': 'J Pharmacol Exp Ther',\n",
       "    'volume': '317',\n",
       "    'issn': '',\n",
       "    'pages': '1088--1096',\n",
       "    'other_ids': {},\n",
       "    'links': '28919339'},\n",
       "   'BIBREF18': {'ref_id': 'b18',\n",
       "    'title': 'Comparative neuropharmacology of three psychostimulant cathinone derivatives: butylone, mephedrone and methylone',\n",
       "    'authors': [{'first': 'R',\n",
       "      'middle': [],\n",
       "      'last': 'López-Arnau',\n",
       "      'suffix': ''},\n",
       "     {'first': 'J', 'middle': [], 'last': 'Martínez-Clemente', 'suffix': ''},\n",
       "     {'first': 'D', 'middle': [], 'last': 'Pubill', 'suffix': ''},\n",
       "     {'first': 'E', 'middle': [], 'last': 'Escubedo', 'suffix': ''},\n",
       "     {'first': 'J', 'middle': [], 'last': 'Camarasa', 'suffix': ''}],\n",
       "    'year': 2012,\n",
       "    'venue': 'Br J Pharmacol',\n",
       "    'volume': '167',\n",
       "    'issn': '',\n",
       "    'pages': '407--420',\n",
       "    'other_ids': {},\n",
       "    'links': '6158084'},\n",
       "   'BIBREF19': {'ref_id': 'b19',\n",
       "    'title': 'Analysis of synthetic cathinones commonly found in bath salts in human performance and postmortem toxicology: method development, drug distribution and interpretation of results',\n",
       "    'authors': [{'first': 'L',\n",
       "      'middle': ['J'],\n",
       "      'last': 'Marinetti',\n",
       "      'suffix': ''},\n",
       "     {'first': 'H', 'middle': ['M'], 'last': 'Antonides', 'suffix': ''}],\n",
       "    'year': 2013,\n",
       "    'venue': 'J Anal Toxicol',\n",
       "    'volume': '37',\n",
       "    'issn': '',\n",
       "    'pages': '135--146',\n",
       "    'other_ids': {},\n",
       "    'links': '42671485'},\n",
       "   'BIBREF20': {'ref_id': 'b20',\n",
       "    'title': 'Effects of synthetic cathinones contained in \"bath salts\" on motor behavior and a functional observational battery in mice',\n",
       "    'authors': [{'first': 'J',\n",
       "      'middle': ['A'],\n",
       "      'last': 'Marusich',\n",
       "      'suffix': ''},\n",
       "     {'first': 'K', 'middle': ['R'], 'last': 'Grant', 'suffix': ''},\n",
       "     {'first': 'B', 'middle': ['E'], 'last': 'Blough', 'suffix': ''},\n",
       "     {'first': 'J', 'middle': ['L'], 'last': 'Wiley', 'suffix': ''}],\n",
       "    'year': 2012,\n",
       "    'venue': 'Neurotoxicology',\n",
       "    'volume': '33',\n",
       "    'issn': '',\n",
       "    'pages': '1305--1313',\n",
       "    'other_ids': {},\n",
       "    'links': '20107238'},\n",
       "   'BIBREF21': {'ref_id': 'b21',\n",
       "    'title': 'New cathinone-derived designer drugs 3-bromomethcathinone and 3-fluoromethcathinone: studies on their metabolism in rat urine and human liver microsomes using GC-MS and LC-high-resolution MS and their detectability in urine',\n",
       "    'authors': [{'first': 'M', 'middle': ['R'], 'last': 'Meyer', 'suffix': ''},\n",
       "     {'first': 'C', 'middle': [], 'last': 'Vollmar', 'suffix': ''},\n",
       "     {'first': 'A', 'middle': ['E'], 'last': 'Schwaninger', 'suffix': ''},\n",
       "     {'first': 'E', 'middle': [], 'last': 'Wolf', 'suffix': ''},\n",
       "     {'first': 'H', 'middle': ['H'], 'last': 'Maurer', 'suffix': ''}],\n",
       "    'year': 2012,\n",
       "    'venue': 'J Mass Spectrom',\n",
       "    'volume': '47',\n",
       "    'issn': '',\n",
       "    'pages': '253--262',\n",
       "    'other_ids': {},\n",
       "    'links': '27762298'},\n",
       "   'BIBREF22': {'ref_id': 'b22',\n",
       "    'title': 'Discriminative characteristics of high and low cocaine administration: effect of other psychostimulants',\n",
       "    'authors': [],\n",
       "    'year': 1997,\n",
       "    'venue': 'Pharmacol Biochem Behav',\n",
       "    'volume': '56',\n",
       "    'issn': '',\n",
       "    'pages': '457--463',\n",
       "    'other_ids': {},\n",
       "    'links': None},\n",
       "   'BIBREF23': {'ref_id': 'b23',\n",
       "    'title': 'Drug-drug discrimination: stimulus properties of drugs of abuse upon a serotonergic-dopaminergic continuum',\n",
       "    'authors': [{'first': 'M',\n",
       "      'middle': ['D'],\n",
       "      'last': 'Schechter',\n",
       "      'suffix': ''}],\n",
       "    'year': 1997,\n",
       "    'venue': 'Pharmacol Biochem Behav',\n",
       "    'volume': '56',\n",
       "    'issn': '',\n",
       "    'pages': '89--96',\n",
       "    'other_ids': {},\n",
       "    'links': '17197553'},\n",
       "   'BIBREF24': {'ref_id': 'b24',\n",
       "    'title': 'Monoamine transporter and receptor interaction profiles of a new series of designer cathinones',\n",
       "    'authors': [{'first': 'L',\n",
       "      'middle': ['D'],\n",
       "      'last': 'Simmler',\n",
       "      'suffix': ''},\n",
       "     {'first': 'A', 'middle': [], 'last': 'Rickli', 'suffix': ''},\n",
       "     {'first': 'M', 'middle': ['C'], 'last': 'Hoener', 'suffix': ''},\n",
       "     {'first': 'M', 'middle': ['E'], 'last': 'Liechti', 'suffix': ''}],\n",
       "    'year': 2014,\n",
       "    'venue': 'Neuropharmacology',\n",
       "    'volume': '79',\n",
       "    'issn': '',\n",
       "    'pages': '152--160',\n",
       "    'other_ids': {},\n",
       "    'links': '25259854'},\n",
       "   'BIBREF25': {'ref_id': 'b25',\n",
       "    'title': 'The challenge of new psychoactive substances',\n",
       "    'authors': [],\n",
       "    'year': 2013,\n",
       "    'venue': 'UNODC',\n",
       "    'volume': '',\n",
       "    'issn': '',\n",
       "    'pages': '20131--108',\n",
       "    'other_ids': {},\n",
       "    'links': None},\n",
       "   'BIBREF26': {'ref_id': 'b26',\n",
       "    'title': 'Testing for designer stimulants: metabolic profiles of 16 synthetic cathinones excreted free in human urine',\n",
       "    'authors': [{'first': 'V', 'middle': [], 'last': 'Uralets', 'suffix': ''},\n",
       "     {'first': 'Rana', 'middle': ['S'], 'last': 'Morgan', 'suffix': ''},\n",
       "     {'first': 'S', 'middle': [], 'last': 'Ross', 'suffix': ''},\n",
       "     {'first': 'W', 'middle': [], 'last': '', 'suffix': ''}],\n",
       "    'year': 2014,\n",
       "    'venue': 'J Anal Toxicol',\n",
       "    'volume': '38',\n",
       "    'issn': '',\n",
       "    'pages': '233--241',\n",
       "    'other_ids': {},\n",
       "    'links': '14254902'},\n",
       "   'BIBREF27': {'ref_id': 'b27',\n",
       "    'title': 'Phenylisopropylamine derivatives, structure and action',\n",
       "    'authors': [{'first': 'J',\n",
       "      'middle': ['B'],\n",
       "      'last': 'Van Der Schoot',\n",
       "      'suffix': ''},\n",
       "     {'first': 'E', 'middle': ['J'], 'last': 'Ariens', 'suffix': ''},\n",
       "     {'first': 'J', 'middle': ['M'], 'last': 'Van Rossum', 'suffix': ''},\n",
       "     {'first': 'Jatm', 'middle': [], 'last': 'Hurkmans', 'suffix': ''}],\n",
       "    'year': 1962,\n",
       "    'venue': 'Arznemittel-Forschung',\n",
       "    'volume': '12',\n",
       "    'issn': '',\n",
       "    'pages': '902--907',\n",
       "    'other_ids': {},\n",
       "    'links': None},\n",
       "   'BIBREF28': {'ref_id': 'b28',\n",
       "    'title': 'Comparison of the behavioral and cardiovascular effects of mephedrone with other drugs of abuse in rats',\n",
       "    'authors': [{'first': 'K',\n",
       "      'middle': ['J'],\n",
       "      'last': 'Varner',\n",
       "      'suffix': ''},\n",
       "     {'first': 'K', 'middle': [], 'last': 'Daigle', 'suffix': ''},\n",
       "     {'first': 'P', 'middle': ['F'], 'last': 'Weed', 'suffix': ''},\n",
       "     {'first': 'P', 'middle': ['B'], 'last': 'Lewis', 'suffix': ''},\n",
       "     {'first': 'S', 'middle': ['E'], 'last': 'Mahne', 'suffix': ''},\n",
       "     {'first': 'A', 'middle': [], 'last': 'Sankaranarayanan', 'suffix': ''},\n",
       "     {'first': 'P', 'middle': ['J'], 'last': 'Winsauer', 'suffix': ''}],\n",
       "    'year': 2012,\n",
       "    'venue': 'Psychopharmacology (Berlin)',\n",
       "    'volume': '225',\n",
       "    'issn': '',\n",
       "    'pages': '675--685',\n",
       "    'other_ids': {},\n",
       "    'links': '15192198'},\n",
       "   'BIBREF29': {'ref_id': 'b29',\n",
       "    'title': 'Discriminative stimulus effects of S(−)-methcathinone (CAT): a potent stimulant drug of abuse',\n",
       "    'authors': [{'first': 'R', 'middle': [], 'last': 'Young', 'suffix': ''},\n",
       "     {'first': 'R', 'middle': ['A'], 'last': 'Glennon', 'suffix': ''}],\n",
       "    'year': 1998,\n",
       "    'venue': 'Psychopharmacology (Berl)',\n",
       "    'volume': '140',\n",
       "    'issn': '',\n",
       "    'pages': '250--256',\n",
       "    'other_ids': {},\n",
       "    'links': '10268519'}}},\n",
       " 'latex_parse': None}"
      ]
     },
     "execution_count": 221,
     "metadata": {},
     "output_type": "execute_result"
    }
   ],
   "source": []
  },
  {
   "cell_type": "code",
   "execution_count": 173,
   "metadata": {
    "ExecuteTime": {
     "end_time": "2020-08-31T14:54:35.744797Z",
     "start_time": "2020-08-31T14:54:35.737149Z"
    }
   },
   "outputs": [],
   "source": [
    "import pickle\n",
    "with open(\"results_emb_bow_test.p\", \"wb\") as file:\n",
    "    pickle.dump(processed_test_results, file)"
   ]
  },
  {
   "cell_type": "code",
   "execution_count": 174,
   "metadata": {
    "ExecuteTime": {
     "end_time": "2020-08-31T14:54:35.759814Z",
     "start_time": "2020-08-31T14:54:35.747302Z"
    }
   },
   "outputs": [
    {
     "data": {
      "text/plain": [
       "SpearmanrResult(correlation=0.9863336892407512, pvalue=7.906099763724449e-187)"
      ]
     },
     "execution_count": 174,
     "metadata": {},
     "output_type": "execute_result"
    }
   ],
   "source": [
    "from scipy import stats\n",
    "stats.spearmanr(df['bert_original_cos_ampl'],df['bert_original_ts_ss'] )"
   ]
  },
  {
   "cell_type": "code",
   "execution_count": 175,
   "metadata": {
    "ExecuteTime": {
     "end_time": "2020-08-31T14:54:35.800291Z",
     "start_time": "2020-08-31T14:54:35.763762Z"
    },
    "scrolled": true
   },
   "outputs": [
    {
     "data": {
      "text/plain": [
       "'Gick & Holyoak, 1983;'"
      ]
     },
     "execution_count": 175,
     "metadata": {},
     "output_type": "execute_result"
    },
    {
     "data": {
      "text/plain": [
       "'that motivated our hypothesis is that researchers have demonstrated that learning can be improved by studying two items of the same category simultaneously, as opposed to one at a time (Catrambone & Holyoak, 1989; Gentner, Loewenstein, & Thompson, 2003; Gick & Holyoak, 1983; Hammer, Diesendruck, Weinshall, & The data from the studies presented in this article are publicly available from: https://osf.io/vh7pn.'"
      ]
     },
     "execution_count": 175,
     "metadata": {},
     "output_type": "execute_result"
    },
    {
     "name": "stdout",
     "output_type": "stream",
     "text": [
      "\n",
      "-- BOW_ITF_ORIGINAL --\n",
      "1: \"For example Gentner and Gentner in press have demonstrated that alternative analogies known by subjects prior to the experiment produce systematically varying patterns of difficulty among types of electricity problems\"\n",
      "2: \"However the present study provides evidence against this hypothesis\"\n",
      "3: \"More generally the function of an analogy is to derive new solution hypothesis or prediction this is done by finding an initial partial mapping between the two analogs and then extending the mapping by retrieving or creating additional knowledge about the analog that was initially less well understood\"\n",
      "4: \"This pattern is in accord with our hypothesis regarding analog similarity while dissimilar analogs have greater potential to yield optimal schemas they are also more likely to fail to produce any useful schema\"\n",
      "5: \"Experiment thus yielded no support for the hypothesis that augmenting the story analog with verbal principle would increase analogical transfer\"\n",
      "\n",
      "-- BERT_ORIGINAL_TS_SS --\n",
      "1: \"Studies of perceptual category learning have often found that training with relatively diverse examples leads to superior transfer performance Fried Holyoak Note comparable effects have been demonstrated with artificial semantic concepts Nitsch Note\"\n",
      "2: \"Table presents data regarding the relationship between schema quality and transfer performance\"\n",
      "3: \"On the other hand perceptual categories are learned more slowly when the training exemplars are highly variable Fried Holyoak Note and when the number of initial exemplars is very small high variability can actually impair transfer performance Peterson Meagher\"\n",
      "4: \"To make our discussion more concrete we present in Table an informal description of the mapping relations between the military story and the radiation problem\"\n",
      "5: \"Thus fully of subjects scored as having good schemas generated the convergence solution Mithout hint none Poor Note\"\n",
      "\n",
      "-- COMB_BOW_ITF_BERT_TS_SS --\n",
      "1: \"For example Gentner and Gentner in press have demonstrated that alternative analogies known by subjects prior to the experiment produce systematically varying patterns of difficulty among types of electricity problems\"\n",
      "2: \"Studies of perceptual category learning have often found that training with relatively diverse examples leads to superior transfer performance Fried Holyoak Note comparable effects have been demonstrated with artificial semantic concepts Nitsch Note\"\n",
      "3: \"Those in the analog only condition read The General those in the analog plus principle condition read the same story except that the following sentence was added as final paragraph The genera1 attributed his success to an important principle If you need large force to accomplish some purpose but are prevented from applying such force directly many smaller forces applied simultaneously from different directions may work just as well\"\n",
      "4: \"On the other hand perceptual categories are learned more slowly when the training exemplars are highly variable Fried Holyoak Note and when the number of initial exemplars is very small high variability can actually impair transfer performance Peterson Meagher\"\n",
      "5: \"However the present study provides evidence against this hypothesis\"\n"
     ]
    },
    {
     "data": {
      "text/plain": [
       "'Bardo and Bevins, 2000;'"
      ]
     },
     "execution_count": 175,
     "metadata": {},
     "output_type": "execute_result"
    },
    {
     "data": {
      "text/plain": [
       "'decision making task, similar to the conditioned place preference (CPP) paradigm widely applied to the study of addiction in animal models. CPP has been commonly used to measure the reward value of different drugs of abuse (for reviews, see Bardo and Bevins, 2000; Tzschentke, 2007) . Here, drug-free subjects (typically rodents), are first allowed to explore an apparatus consisting of at least two distinct interconnected chambers to measure initial preference (i.e., by comparing time spent in each context). In subsequent conditioning sessions,'"
      ]
     },
     "execution_count": 175,
     "metadata": {},
     "output_type": "execute_result"
    },
    {
     "name": "stdout",
     "output_type": "stream",
     "text": [
      "\n",
      "-- BOW_ITF_ORIGINAL --\n",
      "1: \"The purpose of this review is to provide an evaluation of conditioned place preference CPP as an experimental protocol for measuring drug reward in laboratory animals\"\n",
      "2: \"Another limitation of CPP stems from the tendency of animals to prefer one of the two distinct contexts of the apparatus before conditioning occurs\"\n",
      "3: \"Since it is not clear what class of behaviors are reinforced during CPP conditioning trials the term reward seems more appropriate to describe drug induced CPP\"\n",
      "4: \"Despite this advantage it has been argued that CPP is not particularly sensitive to changes in drug dose\"\n",
      "5: \"Since the early there has been some disagreement about whether drug CPP and self administration represent two alternative methods for measuring common reward process\"\n",
      "\n",
      "-- BERT_ORIGINAL_TS_SS --\n",
      "1: \"Intermixed with these context US pairings is similar exposure to the other context without the US.Following conditioning is choice test in which animals receive unrestricted exposure to both contexts in the absence of the US\"\n",
      "2: \"In that study rats received single IV morphine infusion in one distinct context second distinct context was equally experienced but was not paired with drug before the preference test\"\n",
      "3: \"For example handling and transport procedures injection ritual time of day location of apparatus and experimenter tend to be consistent\"\n",
      "4: \"Following this demonstration of CPP using discrete trial choice procedure Rossi and Reid published report of morphine CPP in which the duration of time spent in morphine paired context relative to saline paired context was used as the index of preference\"\n",
      "5: \"Regardless of whether self administration was measured on fixed ratio FR or progressive ratio PR schedule of reinforcement we found that individual differences in the magnitude of amphetamine CPP and the rate of amphetamine self administration were not correlated\"\n",
      "\n",
      "-- COMB_BOW_ITF_BERT_TS_SS --\n",
      "1: \"Since it is not clear what class of behaviors are reinforced during CPP conditioning trials the term reward seems more appropriate to describe drug induced CPP\"\n",
      "2: \"While our discussion has focused on the context CS paired with the drug US CXT CPP experiments are typically successive discrimination task in which animals also receive equal exposure to second distinct context not paired with the drug US CXT\"\n",
      "3: \"In CPP experiments there tends to be perfect predictive relation between the context CS and drug administration the drug US and context CS always co occur\"\n",
      "4: \"Following this demonstration of CPP using discrete trial choice procedure Rossi and Reid published report of morphine CPP in which the duration of time spent in morphine paired context relative to saline paired context was used as the index of preference\"\n",
      "5: \"The CPP protocol seems well suited to investigate the temporal profile of reward and the necessary contiguous relation between this profile and the context CS for acquisition of conditioned association\"\n"
     ]
    }
   ],
   "source": [
    "\n",
    "def display_best(df, column):\n",
    "    print(f'\\n-- {column.upper()} --')\n",
    "    print(*[f'{i+1}: \"{chunk}\"' \n",
    "            for i, chunk in enumerate(df[column].sort_values(ascending=False).index.values.tolist()[:5])\n",
    "           ],\n",
    "          sep='\\n'\n",
    "         )\n",
    "\n",
    "for result in processed_test_results:\n",
    "    result['citing_str']\n",
    "    result['citing_context']\n",
    "    df = result['data']['original']\n",
    "    display_best(df, 'bow_itf_original')\n",
    "    display_best(df, 'bert_original_ts_ss')\n",
    "    display_best(df, 'comb_bow_itf_bert_ts_ss')\n"
   ]
  },
  {
   "cell_type": "code",
   "execution_count": 246,
   "metadata": {
    "ExecuteTime": {
     "end_time": "2020-08-31T20:08:32.774609Z",
     "start_time": "2020-08-31T20:08:32.761991Z"
    }
   },
   "outputs": [],
   "source": [
    "import plotly.graph_objects as go\n",
    "import textwrap\n",
    "import numpy as np\n",
    "\n",
    "def plot_text_sim(similarities: list, texts: list, title=''):\n",
    "    plt_texts = []\n",
    "    shorten_width = 1000 # characters\n",
    "    line_width = 60\n",
    "    for text in texts:\n",
    "        # first add \"[...]\" for very long texts\n",
    "        text = textwrap.shorten(text, width=shorten_width)\n",
    "        # wrap\n",
    "        lines = textwrap.wrap(text, width=line_width)\n",
    "        plt_texts.append('<br>'.join(lines))\n",
    "        \n",
    "    \n",
    "    fig = go.Figure(\n",
    "        data = [\n",
    "            go.Bar(\n",
    "                x=np.arange(0, len(similarities)), \n",
    "                y=similarities, \n",
    "                hovertext=plt_texts,\n",
    "            )\n",
    "        ],\n",
    "    )\n",
    "    fig.update_layout(\n",
    "        width=400, height=280,\n",
    "        margin=dict(l=5, r=5, t=5, b=5),\n",
    "        title=title,\n",
    "        xaxis = go.XAxis(\n",
    "            title = '',\n",
    "            showticklabels=False),\n",
    "        yaxis_title=\"Similarity to context\",\n",
    "        hoverlabel=dict(\n",
    "            bgcolor=\"white\", \n",
    "            font_size=13, \n",
    "            font_family=\"Rockwell\"\n",
    "        ),)\n",
    "    _ = fig.show()\n",
    "    return fig"
   ]
  },
  {
   "cell_type": "code",
   "execution_count": 247,
   "metadata": {
    "ExecuteTime": {
     "end_time": "2020-08-31T20:08:43.876564Z",
     "start_time": "2020-08-31T20:08:43.557271Z"
    },
    "scrolled": false
   },
   "outputs": [
    {
     "data": {
      "text/plain": [
       "'Rangaswamy et al., 2007)'"
      ]
     },
     "execution_count": 247,
     "metadata": {},
     "output_type": "execute_result"
    },
    {
     "data": {
      "text/plain": [
       "'TF measures of ERP activity. Recent studies, for example, have revealed an association between P3-related delta and theta and alcoholism. Power in these frequency ranges was lower in adult alcoholics and in high-risk adolescent and adult offspring of alcoholics Rangaswamy et al., 2007) . Delta and theta bands were also shown to provide unique information to discriminate between alcoholic and control groups . Further, significant associations between event-related activity in these bands and genes implicated in alcohol dependence and related disorders have'"
      ]
     },
     "execution_count": 247,
     "metadata": {},
     "output_type": "execute_result"
    },
    {
     "name": "stderr",
     "output_type": "stream",
     "text": [
      "/home/krz-glowka/cogsci_venv/lib/python3.8/site-packages/plotly/graph_objs/_deprecations.py:544: DeprecationWarning:\n",
      "\n",
      "plotly.graph_objs.XAxis is deprecated.\n",
      "Please replace it with one of the following more specific types\n",
      "  - plotly.graph_objs.layout.XAxis\n",
      "  - plotly.graph_objs.layout.scene.XAxis\n",
      "\n",
      "\n"
     ]
    },
    {
     "data": {
      "application/vnd.plotly.v1+json": {
       "config": {
        "plotlyServerURL": "https://plot.ly"
       },
       "data": [
        {
         "hovertext": [
          "Age was not used in the model since preliminary analysis<br>revealed near zero correlation with the total and evoked<br>power data and the groups had narrow age range and no<br>significant mean age difference see Table for mean age for<br>the two groups",
          "Alcoholic probands were recruited from inpatient and<br>outpatient treatment facilities and they and their first<br>degree relatives were interviewed with the SSAGA Semi<br>Structured Assessment of Genetics of Alcoholism semi<br>structured diagnostic psychiatric interview schedule<br>designed by COGA investigators Bucholz Hesselbrock",
          "All six collaborating sites used identical experimental<br>procedures and EEG acquisition hardware and software",
          "Alternatively the differences may arise due to altered<br>topography of the cognitive potentials in younger versus the<br>older subjects",
          "Although an enhancement of EEG power is thought to<br>correspond to an activation of larger number of neural<br>assemblies Lopes da the interpretation of increased<br>intertrial phase locking is more difficult to define",
          "Although there are no significant gender effects analyzing<br>both genders as one sample could increase the variability of<br>P300 amplitudes observed here",
          "Although there are no studies that report developmental<br>changes in the visual modality one could speculate that the<br>changes could be of similar nature to the one reported for<br>auditory modality",
          "An interesting issue that is highlighted by the genetic<br>studies of theta and delta oscillations is that these<br>measures have provided significant clues to associations<br>with transmitter related genes GABA receptor gene and<br>resting EEG beta band Porjesz",
          "Another study reported increased coupling of theta<br>oscillations between prefrontal and parietal cortices during<br>the retention interval of memory tasks Sarnthein",
          "As discussed earlier there is much evidence in the<br>literature on lowered P300 in adolescents associated with<br>family history of alcoholism",
          "Basar",
          "Basar",
          "Basar Eroglu",
          "Basar Eroglu",
          "Basar Eroglu",
          "Basar Eroglu",
          "Basar Eroglu and",
          "Basar Eroglu and",
          "Based on the indications of most past research studies on<br>visual P300 in alcoholism and risk the ERP component of<br>interest in this study was the parietal P300 Porjesz",
          "Begleiter",
          "Benegal",
          "Berman",
          "CHRM2 and theta and delta band for oddball targets",
          "Cohen",
          "Connor Connor",
          "Control families were recruited from HMOs drivers license<br>records and dental clinics with the objective of being<br>representative of the general population at each site",
          "Courchesne",
          "Demiralp",
          "Demiralp",
          "Developmental changes in the event related theta response<br>have been reported by one study for the auditory stimulus<br>response in children between the ages of to years and adults<br>between the ages of and years",
          "During actual retrieval however theta oscillations were<br>reversed and spread from posterior to anterior sites",
          "EEG segments from channels F3 Fz F4 C3 Cz C4 P3 Pz and P4<br>were used in order to assess topographic aspects of the ERO<br>measures",
          "EEG theta power was reported to increase when information is<br>encoded Klimesch or retrieved Klimesch from long term memory",
          "Each subject wore fitted electrode cap Electro Cap<br>International Inc Eaton OH using the channel montage as<br>specified according to the International system FP1 FP2 F7<br>F3 Fz F4 F8 T7 C3 Cz C4 T8 P7 P3 Pz P4 P8 O1 and O2",
          "Ehlers Ehlers",
          "Electrode impedances were always maintained below Electrical<br>activity was amplified times by Sensorium EPA<br>Electrophysiology amplifiers Charlotte VT with band pass<br>between Hz and Hz and digitized on computer Concurrent<br>Computer Corp Atlanta GA",
          "Electrooculogram EOG was recorded from electrodes placed<br>supraorbitally and at the outer canthus of the left eye",
          "Evidence suggests that ERP features arise from<br>superpositioned neuroelectric oscillations modulated or<br>produced by sensory and cognitive processes set into the<br>dynamics of ongoing EEG rhythms",
          "Evoked delta power on the other hand revealed highly<br>significant group differences overall",
          "Evoked power which highlights the phase locked oscillatory<br>components revealed no significant differences between the<br>groups for the theta band although it was observed that the<br>HR had lower values than LR",
          "Evoked theta power was not significantly different between<br>the two groups although few electrode locations in central<br>and parietal regions showed weakly significant differences",
          "Families in which the proband and two additional first<br>degree relatives met lifetime criteria for alcohol<br>dependence by both Feighner and DSM IIIR criteria were<br>designated Stage II and extended family members were also<br>interviewed",
          "Finally the authors also report on increasing phase locking<br>capabilities with age and suggest that the capacity to<br>produce stable enhanced theta responses probably reaches<br>maturity well beyond the age of years",
          "From the Stage II family members blood was drawn for<br>establishing lymphoblastoid cell lines and biochemical<br>analyses and neurophysiological and neuropsychological<br>assessments were conducted",
          "Functionally authors have proposed that the delta response<br>is mainly related to signal detection and decision making",
          "Furthermore these identified genetic locations also have<br>significant associations with the diagnoses of alcohol<br>dependence Wang In addition recent studies suggested that<br>GABRA2 is significantly associated with childhood conduct<br>disorder symptoms as well as with marijuana dependence and<br>illicit drug dependence Agrawal",
          "Gender main effect and Group Gender interaction effect were<br>not significant Table",
          "Hence the EEG segments for the target case only were used<br>for the time frequency analysis and only the parietal leads<br>P3 Pz and P4 were used for P300 amplitude measurements",
          "Hill and colleagues in their studies on developmental<br>patterns of P300 in children and adolescents postulated that<br>developmental delay resulted in the lowered amplitudes of<br>P300 seen in highrisk children Hill",
          "However many studies have established robust visual P300<br>differences in young adult high risk subjects Porjesz",
          "However significant Group main effect was present only for<br>delta band",
          "However the maximal amplitudes of theta in both time windows<br>were always higher for children when compared to the adults",
          "However the topographic locus of group differences between<br>the high risk and their controls in the present study and<br>the alcoholics and controls as reported in the study of<br>Jones were not similar",
          "However these studies have clearly demonstrated that ERP<br>characteristics change substantially from children to adults",
          "However with more difficult visual paradigms the effect<br>sizes for the two age groups converged",
          "In addition our study using logistic regression procedures<br>suggests that each band theta and delta provides unique<br>information and as composite variable effectively<br>discriminates between control and alcohol dependent subjects",
          "In another study the external stimulus processing produced<br>transient highly ordered microstate that did not depend on<br>stimulus modality",
          "In contrast to the theta band the evoked delta power<br>differences were as strong as or marginally stronger than<br>the total power in the delta band",
          "In effect the transform is method of spectral localization<br>with similarities to the continuous wavelet transform except<br>using the concept of frequency instead of scale",
          "In follow up study on adult high risk offspring the same<br>authors report strongly reduced delta band power in the<br>parietal regions only for the Go condition",
          "In the Go condition strong delta band total ERO deficits for<br>alcoholics were observed over frontal parietal and occipital<br>locations however no theta band differences were noted in<br>alcoholics when compared to the controls Kamarajan",
          "In the high risk adult population the results for the same<br>task revealed parietal delta and theta band total power<br>reductions for the Go condition Kamarajan",
          "In the instances where group effect was significant<br>secondary analysis included tests as post hoc analysis for<br>group differences at each electrode position",
          "In the present study HR adolescents show power deficiencies<br>in both delta and theta bands however theta band differences<br>were stronger using the total power measure while delta<br>differences were marginally better for the evoked power<br>measure",
          "In the present study the delta band differences between the<br>HR and LR subjects closely correspond to P300 differences<br>reported in alcoholics and high risk subjects",
          "In the same genetic study mentioned earlier for the theta<br>band we have also reported significant linkage<br>disequilibrium between target case parietal delta band in<br>visual evoked brain oscillations and cholinergic muscarinic<br>receptor gene CHRM2 SNPs on chromosome",
          "In these studies the go trials closely resemble the target<br>trial used in the present study",
          "It has been suggested by Basar that diffuse and distributed<br>theta system exists in the brain",
          "It has been suggested that delta activity is generated by<br>cortico cortical interactions with some subcortical<br>contributions",
          "It has been suggested that the muscarinic autoreceptor M2<br>controls the cortical excitability by influencing<br>cholinergic and glutamatergic neurotransmission Alcantara<br>Mrzljak",
          "Jones have reported significant linkage and linkage<br>disequilibrium between target case frontal theta band in<br>visual evoked brain oscillations and single nucleotide<br>polymorphism SNP from the cholinergic muscarinic receptor<br>gene CHRM2 on chromosome",
          "Kamarajan",
          "Kamarajan",
          "Kamarajan",
          "Kamarajan in study of oscillations in adult high risk<br>offspring in Go No Go P300 paradigm also report strongly<br>reduced theta band power only in the parietal regions for<br>the Go condition",
          "Kamarajan reported study of oscillations in adult alcoholics<br>in Go No Go P300 paradigm",
          "Karakas",
          "Karakas consider the P300 component to be composed of<br>superimposed delta and theta oscillations",
          "Karakas hypothesized that the delta response represents<br>degrees of consciousness involved during conscious stimulus<br>evaluation and memory updating and that the theta<br>oscillation represents different levels and forms of<br>attention",
          "Klimesch",
          "Klimesch",
          "Klimesch and selective attention and shortterm memory Basar<br>Eroglu Basar",
          "LR control subjects had higher total band power for delta<br>and theta bands in all electrodes when compared to the HR<br>offspring of alcoholics",
          "LR subjects had higher mean evoked band power for delta and<br>theta bands in all electrodes when compared to the HR<br>offspring of alcoholics",
          "Lowered total theta power had frontal focus in adult<br>alcoholics while adolescent high risk subjects manifested<br>centroparietal focus",
          "Many of the same risk factors underlie these common<br>psychiatric disorders and can be explained by small number<br>of underlying factors Kendler",
          "Mean values for both total and evoked power were calculated<br>from the respective TFR amplitude envelope within time<br>frequency regions of interest TFROIs Lachaux specified by<br>frequency band ranges and time intervals",
          "Modality independent transient theta dominated state may<br>reflect processing stage that is obligatory for stimulus<br>evaluation Yordanova",
          "Moreover Hill also report gender differences in the P300<br>growth trajectories",
          "Moreover no significant differences were seen in absolute<br>power of theta band when the resting EEG of the HR and LR<br>subjects were examined Rangaswamy unpublished data and we<br>have previously observed and reported theta power<br>differences in the resting EEG only in alcohol dependent<br>subjects Rangaswamy",
          "On the other hand eventrelated theta oscillations are<br>believed to be related to frontolimbic interactions Basar<br>Karakas Miller and are associated with complex set of<br>cognitive processes including alertness arousal or readiness<br>Basar memory related processes episodic encoding and<br>retrieval processes as revealed by event related<br>desynchronizationsynchronization",
          "One of the important criteria for an endophenotype is that<br>in addition to the affected individuals the trait must also<br>be present in the unaffected relatives and children of the<br>International Journal of Psychophysiology<br>www.elsevier.comlocateijpsycho affected individuals at rate<br>higher than the general population",
          "One possible interpretation of the theta band findings could<br>be related to slight trial to trial temporal jitter<br>variation",
          "Previously published and ongoing studies from our group have<br>examined theta and delta oscillations in adult populations<br>both alcohol dependent and high risk for the standard visual<br>oddball and Go No Go tasks Kamarajan Kamarajan",
          "Ramachandran",
          "Ratsma",
          "Regression analysis suggested that this age related decrease<br>in amplitude resulted from developmental decrease of<br>baseline theta amplitudes in the ongoing EEG theta activity",
          "Results from visual targets in the case control study in<br>adult controls and alcohol dependent subjects revealed that<br>total theta band power and evoked delta band power at the<br>frontal locus Fz best predicts the status of alcohol<br>dependence in an adult population",
          "Robust longitudinal studies of normal developmental changes<br>in P300 are lacking",
          "Rodriguez Holguin",
          "Schurmann",
          "Since the proposal by Stampfer and Basar the importance of<br>the underlying delta and theta brain oscillations in the<br>production of the P300 potential to rare target stimulus has<br>been extensively examined Basar",
          "Some authors believe that delta response may be generated by<br>cortico cortical interactions",
          "Some authors have also shown that evoked theta oscillations<br>spread from anterior to posterior regions during combined<br>short and long term memory task Sauseng",
          "Some early studies have indicated that the main portion of<br>P300 power is not within the theta band but within sub delta<br>and delta bands especially as P300 is virtually abolished<br>with high pass setting at Hz Duncanor Hz",
          "Some studies indicate that event related theta activity may<br>not only contribute directly to P300 waveform expression but<br>may also modify P300 via other processes in the theta<br>frequency channel of the EEG Kolev",
          "Specification of the time windows and further sub windowing<br>of the frequency bands was based on visual inspection of<br>grand mean TFR data and the spatial distribution of grand<br>mean ERO estimates over the scalp",
          "Specification of the time windows for the frequency bands<br>was based on peak latency of the P300 ERP response in the<br>target trials",
          "Studies exploring the time course of oscillatory changes<br>underlying the target stimulus response suggest that delta<br>oscillations contribute considerably and mainly to the P300<br>component Basar Eroglu Demiralp Kolev",
          "Studies on normal individuals indicated that the delta<br>response is possibly related to signal detection and<br>decision making generated by distributed network system",
          "Studies relating to externalizing disorders have shown that<br>general vulnerability is what is passed on to the next<br>generation with each disorder representing different<br>expression of this general vulnerability Hicks Slutske<br>Krueger Jacobson Kendler",
          "Studies suggest that separate analysis of event related<br>power and phase locking changes in cognitive tasks might<br>reveal specific insights into the mechanisms underlying<br>different cognitive functions Fell Shah",
          "Subjects responded with button press to the rare target<br>stimulus the responding hand was alternated across subjects<br>to counterbalance any laterality effects due to responding",
          "Subjects under the age of years were administered the<br>childadolescent version of SSAGA called the CSSAGA",
          "Subjects were participants in the ongoing Collaborative<br>Study on the Genetics of Alcoholism COGA multisite multi<br>stage national consortium designed to study the genetics of<br>alcoholism",
          "Subjects were seated comfortably in dimly lit sound<br>attenuated temperature regulated booth Industrial Acoustics<br>Company Bronx NY and instructed to remain relaxed and<br>respond to the target stimulus with button press with their<br>dominant hand",
          "The Bonferroni correction for multiple comparisons retained<br>significance at all three parietal and two central leads",
          "The HR group had parental diagnosis of alcoholism for either<br>or both parents",
          "The High Risk HR group comprised adolescent offspring of<br>alcoholics males and females from COGA families",
          "The LR sample was controlled for alcoholism and substance<br>useabuse and the base rate of other co occurring conditions<br>in the LR and HR sample was maintained",
          "The Low Risk LR group comprised adolescents males and<br>females from control families in which there were no first<br>degree relatives with diagnosis of DSM IIIR alcohol<br>dependence by direct interview",
          "The No Go condition also revealed strong delta and theta<br>band ERO differences",
          "The P300 amplitude decrements do not recover with abstinence<br>therefore suggesting that reduced P300 amplitude antecedes<br>the development of alcoholism",
          "The P300 amplitude in the parietal leads P3 Pz and P4 was<br>also significantly lower in the HR adolescents when analyzed<br>using multivariate model",
          "The P300 amplitude reduction has been replicated under<br>different experimental conditions with and without alcohol<br>administration in both older and younger subjects at risk in<br>male and female offspring and in subjects of different<br>ethnicities",
          "The P300 amplitudes are also reduced in these subjects but<br>the differences are not as strong as seen for the<br>oscillations thus making case for the oscillations as more<br>stable endophenotype in the study of alcoholism and related<br>disorders",
          "The P300 component is positive going wave that occurs<br>between and ms after significant or rare stimulus and is not<br>related to its physical features",
          "The P300 has been proposed to reflect attentional allocation<br>and context updating processes of working memory cognitive<br>closure and is probably associated with activation of<br>inhibitory processes over widespread cortical areas<br>Birbaumer Rockstroh",
          "The P300 or P3b component of the visual event related<br>potential ERP has proved to be successful endophenotype in<br>the study of alcoholism and an associated spectrum of<br>externalizing disorders Iacono Porjesz",
          "The Visual oddball task consisted of the presentation of<br>three types of visual stimuli non target target and novel<br>each stimulus with ms duration and subtending visual angle<br>of",
          "The age range of subjects in the present study spans mid to<br>late adolescence",
          "The amplitude envelope of the complex valued transform TFR<br>is calculated by taking the absolute value",
          "The amplitude of P300 reflects inhibitory processes of<br>irrelevant stimuli Birbaumer Klimesch while its time of<br>occurrence latency reflects mental processing speed the<br>earlier and larger the P300 the easier the processing",
          "The amplitudes of visual P300 have been reported to decrease<br>with age in children and adolescents",
          "The authors also suggested that the visual P300 amplitudes<br>had theoretical point of convergence around the age of for<br>high risk and low risk subjects",
          "The authors have reported robust P300 amplitude reductions<br>in the parietal region of the alcoholic sample for the Go<br>trials Kamarajan",
          "The authors observed significant developmental decreases in<br>theta response amplitudes in the early ms and late ms time<br>windows of the passive non target and target related epochs",
          "The authors speculate that concentrationdependent mechanism<br>in the cholinergic system may underlie the theta and delta<br>oscillations the latter being generated at lower muscarinic<br>activities",
          "The average peak latency of the P300 for all subjects was ms<br>Total and evoked band power in the theta and delta band in<br>channels F3 Fz F4 C3 Cz C4 P3 Pz and P4 were logtransformed<br>and group differences were evaluated using full factorial<br>multivariate design MANOVA SPSS with group and gender main<br>and interaction effects",
          "The cholinergic M2 autoreceptor is preferentially localized<br>to forebrain striatal and hippocampal regions and the<br>function of this receptor is to provide negative feedback<br>limiting the release of acetylcholine",
          "The clinical details of the year olds is tabulated in the<br>Table",
          "The collaborative sites are located at SUNYDownstate Medical<br>Center at Brooklyn University of Connecticut Health Center<br>Washington University School of Medicine in St Louis<br>University of California at San Diego University of Iowa and<br>Indiana University School of Medicine",
          "The control families were interviewed with the SSAGA CSSAGA<br>and underwent the full Stage II protocol",
          "The debate is ongoing however it is likely that both aspects<br>event related activation of neural assemblies and phase<br>resetting of ongoing activity are involved in the generation<br>of late ERP components",
          "The delta band differences reported in alcoholics Kamarajan<br>Jones and offspring of alcoholics and in the present study<br>closely corresponds to P300 differences reported in<br>alcoholics and highrisk subjects",
          "The delta band differences were again widespread whereas the<br>theta band differences were focused in frontal electrode<br>positions",
          "The developmental changes in P300 amplitude and topography<br>have been explored by very few cross sectional normative<br>studies in the visual modality",
          "The developmental increase in phase locking may probably be<br>related to lack of group difference in evoked theta power<br>noted in the present study sample that comprised of<br>adolescent HR",
          "The effect of age is critical in uncovering P300 amplitude<br>differences by alcoholism risk status as suggested by<br>metaanalysis study Polich",
          "The electrophysiological data used in the analysis were<br>derived from visual oddball trials for target cases since<br>our major objective was to compare high risk and controls<br>during target stimulus processing",
          "The evoked response ERO EVK enhances events which are phase<br>locked to the stimulus and reduces all other energy<br>including events which are subject to trial to trial<br>temporal jitter",
          "The exclusion criteria for neurophysiological assessment<br>were as follows Subjects were excluded if breath analyzer<br>test was positive for alcohol hepatic<br>encephalopathycirrhosis of the liver or acutechronic illness<br>were present significant history of head injury seizures or<br>neurosurgical procedures was present uncorrected sensory<br>deficits were manifested tested positive for HIV they were<br>on medication affectinginfluencing brain functioning or had<br>used any psychoactive substances in the past days history or<br>symptom of psychoses was reported symptoms of current<br>depression was present",
          "The finding of low voltage P300 amplitudes in prepubescent<br>sons of alcoholic fathers compared to boys without first or<br>second degree alcoholic relatives in experiments without the<br>administration of alcohol or placebo was first reported by<br>Begleiter",
          "The grand mean waveforms are shown in Fig",
          "The instantaneous amplitude amplitude envelope of the<br>complex valued transform TFR may be calculated by taking the<br>absolute value ST the transform power is the square of the<br>amplitude while the absolutely referenced local phase<br>information can be obtained using arctanð STðt STðt ÞÞ.The<br>transform derived measures used in the analysis presented<br>here were obtained from the single trial and trialaveraged<br>response",
          "The institutional review board at each site approved the<br>research procedures in the COGA study and written consent<br>was obtained from each individual prior to participation",
          "The interstimulus interval was",
          "The largest effect sizes observed were between high and low<br>risk subjects under years old",
          "The lowered P300 amplitude observed in clinical samples of<br>alcoholics has also been established in community samples",
          "The mean P300 amplitudes at P3 and Pz electrode positions<br>were higher in LR individuals when compared to the HR<br>individuals and almost equal at P4",
          "The nose served as reference and the forehead was the ground<br>electrode",
          "The post hoc comparisons test at each electrode revealed<br>interesting differences for delta and theta bands Tables and",
          "The present study strongly indicates adolescent offspring of<br>alcoholics HR appear to have weaker or possibly less<br>organized theta system than the control LR subjects and<br>reduced post stimulus theta power may be strong<br>endophenotype for alcoholism and related disorders",
          "The primary purpose of the present study was to assess if<br>the low theta and delta band power seen previously in the<br>alcohol dependent subjects were trait markers for alcoholism",
          "The protocol of determining and establishing an<br>endophenotype has also been refined in the process Porjesz",
          "The reduction in total power was most prominent for the<br>theta band and the topography was centroparietal the delta<br>band changes were less robust but significant and largely<br>parietal in location",
          "The responses to task unrelated rare stimulus produces the<br>P3a which is more pronounced frontally while the responses<br>to the task related rare stimulus target produces the P3b<br>which has parietal maxima",
          "The responses to the Go condition had reduced delta band<br>power in the parietal occipital and frontal regions",
          "The responses to the Go condition in this task are similar<br>to the oddball target condition although the stimuli used in<br>the task are different",
          "The results from those studies strongly support the present<br>study that extends similar findings into HR adolescent<br>population",
          "The samples were matched for age but not matched on drug use<br>and other Axis conditions since the reported rates for some<br>conditions in subjects with family history of alcoholism are<br>elevated over normal population levels Cuijpers Nurnberger<br>Sher",
          "The sampling rate was Hz",
          "The similar results from our laboratory across two paradigms<br>indicate that the ERO measures are stable and consistent<br>across the two age groups adults and adolescents in<br>discriminating the affected and risk states",
          "The stimulus locked theta state may reflect processing stage<br>during which interfering activations from other frequency<br>networks are minimized Yordanova",
          "The study results show that HR adolescents have reduced<br>total theta Hz and delta Hz power in the to ms time window<br>after the target stimulus",
          "The time window was based on the temporal extent of the P300<br>component in the event related waveform for targets see Figs<br>and",
          "The topography of reduced theta power as reported for<br>alcoholics involves topographically frontal component<br>Kamarajan",
          "The topography of the group differences between HR and LR<br>adolescents in the present study was strongly central and<br>parietal for the total theta power",
          "The total TFR distribution was acquired by calculating an<br>average of each TFR distribution of individual target trials<br>after they were baseline corrected to remove DC shifts",
          "The total TFR representation when compared to the evoked TFR<br>data show greater amounts of energy occurring throughout the<br>trial period at both high and low frequencies",
          "The total epoch length used for analysis was ms this<br>included ms pre stimulus baseline",
          "The total power response ERO TOT enhances events that occur<br>in similar time range as related to the stimulus onset and<br>irrespective of their phase relations",
          "The transform TFR is computed by shifting the window<br>function down the signal in time across range of frequencies",
          "The transform TFR is computed by shifting the window<br>function down the signal in time across range of frequencies",
          "The transform generates time frequency representation TFR of<br>signal by integrating the signal at each time point with<br>series of windowed harmonics of various frequencies",
          "The transform is generalization of the Gabor transform and<br>an extension to the continuous wavelet transform",
          "The transition in the ERP waveform occurs in the midteens<br>and was suggested to reflect differences in the way children<br>and adults categorize events",
          "The trial averaged data for target cases were used to obtain<br>the evoked TFR",
          "The underlying mechanism of impaired organization may<br>involve the cholinergic systems",
          "The usual manifestation of alcoholism is as part of class of<br>disinhibitory disorders which includes co occurring<br>substance abuse and psychiatric disorders",
          "The window function is Gaussian and scales in width<br>according to the examined frequency",
          "The window function is Gaussian with variance and scales in<br>width according to the examined frequency",
          "There is considerable debate if these frequency bands are<br>independent functional entities from the P300 component",
          "There is convincing evidence that EEG oscillations in the<br>theta frequency range about Hz are related to working memory<br>tasks for an extensive review see",
          "Therefore individuals with suppressed delta and theta<br>responses are likely to show deficits in cognitive functions<br>that are mediated by these oscillatory processes",
          "These findings were not observed for the equivalent non<br>target case data suggesting role for the CHRM2 gene in<br>higher cognitive processing in humans",
          "These findings were not observed for the equivalent<br>nontarget case data",
          "These frequency windows theta and delta have been selected<br>based on the well known natural frequencies of brain rhythms<br>i.e delta theta alpha beta and gamma which have been related<br>in the literature to various cognitive functions and brain<br>states",
          "These neuroelectric oscillations when analyzed in the<br>context of stimulus related brain function can be termed<br>event related oscillations or EROs",
          "Theta band differences were stronger and significant at the<br>three central C3 Cz C4 and parietal P3 Pz P4 electrodes",
          "They observe lower starting amplitudes and slower decrease<br>in visual P300 amplitudes with age in high risk boys and<br>faster growth rate and higher amplitudes of P300 in high<br>risk girls in contrast to the respective low risk groups",
          "This implies that it is the oscillations theta and delta<br>rather than the event related potentials P300 that reflect<br>closer association with CNS structure and function<br>associated with the underlying vulnerability i2pf ds where<br>is the time domain signal is frequency is translation<br>parameter the first exponential is the window function and<br>the second exponential is the harmonic function",
          "This inverse dependence of the width of the Gaussian window<br>with frequency provides the frequency dependent resolution",
          "This inverse dependence of the width of the Gaussian window<br>with frequency provides the frequency dependent resolution<br>multiresolution",
          "This issue is underscored by another study from our group<br>when similar analyses were conducted on an adult population<br>significant evoked theta differences were noted",
          "This method has been previously described in genetic linkage<br>study of delta and theta EROs during the same visual oddball<br>paradigm employed in the present study see Appendix",
          "This phasic power enhancement is related to memory<br>performance Klimesch Klimesch as well as to task load Gevins",
          "This reflects the inclusion of energy which is not phase<br>locked to the stimulus onset in the ERO TOT measure total<br>power response",
          "This reflects the inclusion of energy which is not phase<br>locked to the stimulus onset in the total power response",
          "This state was consistently determined by synchronized theta<br>oscillations and had specific anterior distribution",
          "This study focused on TFROI corresponding to the theta Hz<br>and delta Hz frequency band in the to ms time window",
          "This study was designed to evaluate the neural oscillatory<br>activity in the theta and delta frequency ranges within the<br>temporal window of the P300 response to the visual target in<br>adolescent offspring of alcoholics who are considered at<br>high risk for developing alcoholism",
          "This suggests that time locked frequencies in the delta band<br>may contribute strongly to group differences and explain the<br>association with the P300 component",
          "This temporal jitter is less likely to affect the averaging<br>of the lower frequency delta band oscillations due to the<br>lower temporal resolution therefore the evoked power measure<br>may adequately represent the delta EROs",
          "To obtain an estimate of event related phase locked power<br>response ERO EVK the Stransform TFR power matrix was<br>calculated for the averaged event related response single<br>trial data averaged after alignment to the stimulus onset<br>per individual",
          "To obtain an estimate of event related total power response<br>ERO TOT stimulus onset phase locked plus non phase locked<br>oscillations the squared instantaneous amplitudes power of<br>the transform TFR were averaged across single trials for<br>each individual",
          "To obtain estimates of localized power of<br>nonstationaryevoked potential time series we employed<br>recently developed time frequency representation method the<br>transform Stockwell",
          "To summarize the theta and delta post stimulus oscillations<br>are remarkably reduced in adolescent offspring of alcoholics",
          "Total power time frequency distributions for theta and delta<br>band and their topographic spread is illustrated in Figs and",
          "Trial averaging of the ERP waveform will diminish<br>imperfectly phase locked theta band oscillations in the<br>evoked power measure while the total power measure will<br>retain this energy and therefore provide better estimate of<br>evoked theta EROs",
          "Two competing theories have tried to explain the genesis of<br>averaged eventrelated potential ERP features and dominate<br>the current literature Evoked model that ERPs originate from<br>an event related activation of neural assemblies distinct<br>from background dynamics and Phase reset model that ERPs are<br>produced by phase resetting of ongoing oscillatory activity<br>Makeig Tallon Baudry",
          "Two groups of subjects in the age range of years were<br>selected from the COGA and Control families",
          "Two types of time frequency response TFR distributions were<br>created using the transform",
          "Using Go No Go tasks several studies from our laboratory<br>have shown P300 delta and theta power differences in<br>alcoholics and high risk individuals",
          "Using electrophysiological measures as endophenotypes is<br>proving to be very useful tool in the study of psychiatric<br>genetics",
          "Van der Stelt",
          "We have attempted to examine phase locked frequency band<br>changes by examining evoked power in these bands in order to<br>assess nonphase locked contributions which is difficult to<br>quantify we have opted to compare total power which includes<br>both types in these bands",
          "We have previously demonstrated that power in theta and<br>delta bands in the ms window were significantly lower in<br>adult alcoholics when compared with age matched controls",
          "detailed description of the COGA recruitment procedure has<br>been described previously Begleiter",
          "meta analysis concluded that low P300 may have predictive<br>value as an index of vulnerability for alcoholism Polich"
         ],
         "type": "bar",
         "x": [
          0,
          1,
          2,
          3,
          4,
          5,
          6,
          7,
          8,
          9,
          10,
          11,
          12,
          13,
          14,
          15,
          16,
          17,
          18,
          19,
          20,
          21,
          22,
          23,
          24,
          25,
          26,
          27,
          28,
          29,
          30,
          31,
          32,
          33,
          34,
          35,
          36,
          37,
          38,
          39,
          40,
          41,
          42,
          43,
          44,
          45,
          46,
          47,
          48,
          49,
          50,
          51,
          52,
          53,
          54,
          55,
          56,
          57,
          58,
          59,
          60,
          61,
          62,
          63,
          64,
          65,
          66,
          67,
          68,
          69,
          70,
          71,
          72,
          73,
          74,
          75,
          76,
          77,
          78,
          79,
          80,
          81,
          82,
          83,
          84,
          85,
          86,
          87,
          88,
          89,
          90,
          91,
          92,
          93,
          94,
          95,
          96,
          97,
          98,
          99,
          100,
          101,
          102,
          103,
          104,
          105,
          106,
          107,
          108,
          109,
          110,
          111,
          112,
          113,
          114,
          115,
          116,
          117,
          118,
          119,
          120,
          121,
          122,
          123,
          124,
          125,
          126,
          127,
          128,
          129,
          130,
          131,
          132,
          133,
          134,
          135,
          136,
          137,
          138,
          139,
          140,
          141,
          142,
          143,
          144,
          145,
          146,
          147,
          148,
          149,
          150,
          151,
          152,
          153,
          154,
          155,
          156,
          157,
          158,
          159,
          160,
          161,
          162,
          163,
          164,
          165,
          166,
          167,
          168,
          169,
          170,
          171,
          172,
          173,
          174,
          175,
          176,
          177,
          178,
          179,
          180,
          181,
          182,
          183,
          184,
          185,
          186,
          187,
          188,
          189,
          190,
          191,
          192,
          193,
          194,
          195,
          196,
          197,
          198,
          199,
          200,
          201,
          202,
          203,
          204,
          205,
          206,
          207,
          208,
          209,
          210,
          211,
          212,
          213,
          214,
          215,
          216,
          217,
          218,
          219,
          220,
          221,
          222,
          223,
          224,
          225,
          226,
          227,
          228,
          229
         ],
         "y": [
          0.2629063557502316,
          0.3126434764533096,
          0.08343539062099889,
          0.09329586493005557,
          0.12685620340797368,
          0.15549196442191277,
          0.14021431594822747,
          0.45289180180985406,
          0.4101549610779561,
          0.4736646961387926,
          0,
          0,
          0,
          0,
          0,
          0,
          0.07995611594499284,
          0.07995611594499284,
          0.625852602633657,
          0,
          0,
          0,
          0.499782596252473,
          0,
          0,
          0.13851672256190659,
          0,
          0,
          0,
          0.5435440851300869,
          0.47146583056059505,
          0.1492316083336609,
          0.4803062148558469,
          0.0787788847402538,
          0,
          0.21082814352220555,
          0.20957019166441723,
          0.4302907323617119,
          0.2655678397399426,
          0.48849130701314114,
          0.46847087335278503,
          0.26918146895313194,
          0.5447898562802819,
          0.21480934510011276,
          0.24634120457347924,
          0.3099032216201802,
          0.1695288827730164,
          0.177265447491345,
          0.2927033925776702,
          0.17823567955349268,
          0.3131649507087312,
          0.5112334289939539,
          0.2619525147820824,
          0.6464256630232036,
          0.12957933977257594,
          0.5064661309515267,
          0.13800997613307717,
          0.5421711282195428,
          0.1905366460830457,
          0.33340388376773533,
          0.4659717174434131,
          0.5209461437450563,
          0.24300614518485628,
          0.6192883117219192,
          0.30195472651499283,
          0.3931300463137635,
          0.14956135454512015,
          0.49848759740364645,
          0.22886839492841463,
          0.12208735121093689,
          0.3653952910709287,
          0,
          0,
          0,
          0.4777425836076789,
          0.2565123274168205,
          0,
          0.4584543882948265,
          0.4595077925654099,
          0,
          0,
          0.08085748307368966,
          0.6088857153047541,
          0.5694594297101202,
          0.610099360693245,
          0.20434739581546404,
          0.19800390059353246,
          0.45207866045931244,
          0.11133041941598915,
          0.44535603475115887,
          0.34700545279002204,
          0.11097763019131515,
          0.513421574329567,
          0.4791044491837888,
          0,
          0,
          0.4728532565809501,
          0.5290648631438339,
          0.14245875178743042,
          0,
          0,
          0.44912587039624374,
          0.22928790838701948,
          0.4409338362130978,
          0.5355939446517011,
          0.44875618906022513,
          0.24097138234545473,
          0.6065021674822229,
          0.2064020379432101,
          0.2569521633975635,
          0.19745111618554037,
          0.17270152916544662,
          0.21748541599040436,
          0.30935343804566595,
          0.3372000043593763,
          0.1042222061607372,
          0.09243239825446205,
          0.38948151146368243,
          0.4237418639100857,
          0.39061505503859006,
          0.36307909174707015,
          0.5653696720683951,
          0.32106523740184645,
          0.2926831331426968,
          0.27775761637880825,
          0.3479506935024512,
          0.1786830143848917,
          0.08699309110698761,
          0.5088118606354292,
          0.08728435643613693,
          0.16691506761500138,
          0.08241057679921962,
          0.08486745844156564,
          0.3243469598002925,
          0.1119981578814379,
          0.24200939347338074,
          0.5115662510057496,
          0.4225930627704465,
          0.33558997195937607,
          0.13510510618997082,
          0.0901257555252254,
          0.09250168127358768,
          0.13559215004710706,
          0.554642258017756,
          0.3405538171188257,
          0.549269368625888,
          0.13519281464384322,
          0.5946945303779871,
          0.3183748161399191,
          0.2266751943969342,
          0.08529616946777153,
          0.2022844272126296,
          0.27920333087377147,
          0.162100248762324,
          0.1640556183606889,
          0.23608524260561298,
          0.21802702337274202,
          0.12887639977951212,
          0.2603059743408931,
          0.1017918924321954,
          0.23528688192774064,
          0.5645269471021209,
          0.7434481225938052,
          0.788662180325969,
          0.11359435188568161,
          0.5092023373890534,
          0.14270200950054365,
          0.2361784589596165,
          0.09017710884849076,
          0.3467101387374852,
          0.3267888591399968,
          0.22886392738107328,
          0.32121129919826386,
          0.48106829935844214,
          0.6733655215848574,
          0.23186021851592808,
          0.48711294483826134,
          0.5590554349435246,
          0.22936431967188187,
          0.19374963398369902,
          0.23705097593574811,
          0.16710542010053533,
          0.20234795361167715,
          0.20234795361167715,
          0.1874920187886456,
          0.10173561404921434,
          0.5130476208951579,
          0.10678270274835491,
          0.08307956786649852,
          0.3717420508156155,
          0.19839809141200968,
          0.19649809361236636,
          0.21467531144020585,
          0.47813957354934833,
          0.5117158386200668,
          0.21042177471596235,
          0.12028766410537903,
          0.5928694080178851,
          0.14723320129031295,
          0.3834604168883486,
          0.15612272964262974,
          0.4356120745684241,
          0.30296684924495615,
          0.28988058973704206,
          0.5020206048574166,
          0.4761884516566859,
          0.1525171532982535,
          0.17455079477986085,
          0.13488216904067288,
          0.5006931813757141,
          0.5450483010902831,
          0.8191922457799811,
          0.2799258679514507,
          0.24963878335054465,
          0.21504460514956772,
          0.14693240809203653,
          0.1928213481170995,
          0.6820623763293089,
          0.5564126837438835,
          0.5960495593769904,
          0.3812466156472617,
          0.16802327202922068,
          0.19920735751417148,
          0.6370233928957173,
          0.17659500850239712,
          0,
          0.2024867827927505,
          0.6762158417998644,
          0.08219315509591435,
          0.3407813472148997
         ]
        }
       ],
       "layout": {
        "height": 280,
        "hoverlabel": {
         "bgcolor": "white",
         "font": {
          "family": "Rockwell",
          "size": 13
         }
        },
        "margin": {
         "b": 5,
         "l": 5,
         "r": 5,
         "t": 5
        },
        "template": {
         "data": {
          "bar": [
           {
            "error_x": {
             "color": "#2a3f5f"
            },
            "error_y": {
             "color": "#2a3f5f"
            },
            "marker": {
             "line": {
              "color": "#E5ECF6",
              "width": 0.5
             }
            },
            "type": "bar"
           }
          ],
          "barpolar": [
           {
            "marker": {
             "line": {
              "color": "#E5ECF6",
              "width": 0.5
             }
            },
            "type": "barpolar"
           }
          ],
          "carpet": [
           {
            "aaxis": {
             "endlinecolor": "#2a3f5f",
             "gridcolor": "white",
             "linecolor": "white",
             "minorgridcolor": "white",
             "startlinecolor": "#2a3f5f"
            },
            "baxis": {
             "endlinecolor": "#2a3f5f",
             "gridcolor": "white",
             "linecolor": "white",
             "minorgridcolor": "white",
             "startlinecolor": "#2a3f5f"
            },
            "type": "carpet"
           }
          ],
          "choropleth": [
           {
            "colorbar": {
             "outlinewidth": 0,
             "ticks": ""
            },
            "type": "choropleth"
           }
          ],
          "contour": [
           {
            "colorbar": {
             "outlinewidth": 0,
             "ticks": ""
            },
            "colorscale": [
             [
              0,
              "#0d0887"
             ],
             [
              0.1111111111111111,
              "#46039f"
             ],
             [
              0.2222222222222222,
              "#7201a8"
             ],
             [
              0.3333333333333333,
              "#9c179e"
             ],
             [
              0.4444444444444444,
              "#bd3786"
             ],
             [
              0.5555555555555556,
              "#d8576b"
             ],
             [
              0.6666666666666666,
              "#ed7953"
             ],
             [
              0.7777777777777778,
              "#fb9f3a"
             ],
             [
              0.8888888888888888,
              "#fdca26"
             ],
             [
              1,
              "#f0f921"
             ]
            ],
            "type": "contour"
           }
          ],
          "contourcarpet": [
           {
            "colorbar": {
             "outlinewidth": 0,
             "ticks": ""
            },
            "type": "contourcarpet"
           }
          ],
          "heatmap": [
           {
            "colorbar": {
             "outlinewidth": 0,
             "ticks": ""
            },
            "colorscale": [
             [
              0,
              "#0d0887"
             ],
             [
              0.1111111111111111,
              "#46039f"
             ],
             [
              0.2222222222222222,
              "#7201a8"
             ],
             [
              0.3333333333333333,
              "#9c179e"
             ],
             [
              0.4444444444444444,
              "#bd3786"
             ],
             [
              0.5555555555555556,
              "#d8576b"
             ],
             [
              0.6666666666666666,
              "#ed7953"
             ],
             [
              0.7777777777777778,
              "#fb9f3a"
             ],
             [
              0.8888888888888888,
              "#fdca26"
             ],
             [
              1,
              "#f0f921"
             ]
            ],
            "type": "heatmap"
           }
          ],
          "heatmapgl": [
           {
            "colorbar": {
             "outlinewidth": 0,
             "ticks": ""
            },
            "colorscale": [
             [
              0,
              "#0d0887"
             ],
             [
              0.1111111111111111,
              "#46039f"
             ],
             [
              0.2222222222222222,
              "#7201a8"
             ],
             [
              0.3333333333333333,
              "#9c179e"
             ],
             [
              0.4444444444444444,
              "#bd3786"
             ],
             [
              0.5555555555555556,
              "#d8576b"
             ],
             [
              0.6666666666666666,
              "#ed7953"
             ],
             [
              0.7777777777777778,
              "#fb9f3a"
             ],
             [
              0.8888888888888888,
              "#fdca26"
             ],
             [
              1,
              "#f0f921"
             ]
            ],
            "type": "heatmapgl"
           }
          ],
          "histogram": [
           {
            "marker": {
             "colorbar": {
              "outlinewidth": 0,
              "ticks": ""
             }
            },
            "type": "histogram"
           }
          ],
          "histogram2d": [
           {
            "colorbar": {
             "outlinewidth": 0,
             "ticks": ""
            },
            "colorscale": [
             [
              0,
              "#0d0887"
             ],
             [
              0.1111111111111111,
              "#46039f"
             ],
             [
              0.2222222222222222,
              "#7201a8"
             ],
             [
              0.3333333333333333,
              "#9c179e"
             ],
             [
              0.4444444444444444,
              "#bd3786"
             ],
             [
              0.5555555555555556,
              "#d8576b"
             ],
             [
              0.6666666666666666,
              "#ed7953"
             ],
             [
              0.7777777777777778,
              "#fb9f3a"
             ],
             [
              0.8888888888888888,
              "#fdca26"
             ],
             [
              1,
              "#f0f921"
             ]
            ],
            "type": "histogram2d"
           }
          ],
          "histogram2dcontour": [
           {
            "colorbar": {
             "outlinewidth": 0,
             "ticks": ""
            },
            "colorscale": [
             [
              0,
              "#0d0887"
             ],
             [
              0.1111111111111111,
              "#46039f"
             ],
             [
              0.2222222222222222,
              "#7201a8"
             ],
             [
              0.3333333333333333,
              "#9c179e"
             ],
             [
              0.4444444444444444,
              "#bd3786"
             ],
             [
              0.5555555555555556,
              "#d8576b"
             ],
             [
              0.6666666666666666,
              "#ed7953"
             ],
             [
              0.7777777777777778,
              "#fb9f3a"
             ],
             [
              0.8888888888888888,
              "#fdca26"
             ],
             [
              1,
              "#f0f921"
             ]
            ],
            "type": "histogram2dcontour"
           }
          ],
          "mesh3d": [
           {
            "colorbar": {
             "outlinewidth": 0,
             "ticks": ""
            },
            "type": "mesh3d"
           }
          ],
          "parcoords": [
           {
            "line": {
             "colorbar": {
              "outlinewidth": 0,
              "ticks": ""
             }
            },
            "type": "parcoords"
           }
          ],
          "pie": [
           {
            "automargin": true,
            "type": "pie"
           }
          ],
          "scatter": [
           {
            "marker": {
             "colorbar": {
              "outlinewidth": 0,
              "ticks": ""
             }
            },
            "type": "scatter"
           }
          ],
          "scatter3d": [
           {
            "line": {
             "colorbar": {
              "outlinewidth": 0,
              "ticks": ""
             }
            },
            "marker": {
             "colorbar": {
              "outlinewidth": 0,
              "ticks": ""
             }
            },
            "type": "scatter3d"
           }
          ],
          "scattercarpet": [
           {
            "marker": {
             "colorbar": {
              "outlinewidth": 0,
              "ticks": ""
             }
            },
            "type": "scattercarpet"
           }
          ],
          "scattergeo": [
           {
            "marker": {
             "colorbar": {
              "outlinewidth": 0,
              "ticks": ""
             }
            },
            "type": "scattergeo"
           }
          ],
          "scattergl": [
           {
            "marker": {
             "colorbar": {
              "outlinewidth": 0,
              "ticks": ""
             }
            },
            "type": "scattergl"
           }
          ],
          "scattermapbox": [
           {
            "marker": {
             "colorbar": {
              "outlinewidth": 0,
              "ticks": ""
             }
            },
            "type": "scattermapbox"
           }
          ],
          "scatterpolar": [
           {
            "marker": {
             "colorbar": {
              "outlinewidth": 0,
              "ticks": ""
             }
            },
            "type": "scatterpolar"
           }
          ],
          "scatterpolargl": [
           {
            "marker": {
             "colorbar": {
              "outlinewidth": 0,
              "ticks": ""
             }
            },
            "type": "scatterpolargl"
           }
          ],
          "scatterternary": [
           {
            "marker": {
             "colorbar": {
              "outlinewidth": 0,
              "ticks": ""
             }
            },
            "type": "scatterternary"
           }
          ],
          "surface": [
           {
            "colorbar": {
             "outlinewidth": 0,
             "ticks": ""
            },
            "colorscale": [
             [
              0,
              "#0d0887"
             ],
             [
              0.1111111111111111,
              "#46039f"
             ],
             [
              0.2222222222222222,
              "#7201a8"
             ],
             [
              0.3333333333333333,
              "#9c179e"
             ],
             [
              0.4444444444444444,
              "#bd3786"
             ],
             [
              0.5555555555555556,
              "#d8576b"
             ],
             [
              0.6666666666666666,
              "#ed7953"
             ],
             [
              0.7777777777777778,
              "#fb9f3a"
             ],
             [
              0.8888888888888888,
              "#fdca26"
             ],
             [
              1,
              "#f0f921"
             ]
            ],
            "type": "surface"
           }
          ],
          "table": [
           {
            "cells": {
             "fill": {
              "color": "#EBF0F8"
             },
             "line": {
              "color": "white"
             }
            },
            "header": {
             "fill": {
              "color": "#C8D4E3"
             },
             "line": {
              "color": "white"
             }
            },
            "type": "table"
           }
          ]
         },
         "layout": {
          "annotationdefaults": {
           "arrowcolor": "#2a3f5f",
           "arrowhead": 0,
           "arrowwidth": 1
          },
          "coloraxis": {
           "colorbar": {
            "outlinewidth": 0,
            "ticks": ""
           }
          },
          "colorscale": {
           "diverging": [
            [
             0,
             "#8e0152"
            ],
            [
             0.1,
             "#c51b7d"
            ],
            [
             0.2,
             "#de77ae"
            ],
            [
             0.3,
             "#f1b6da"
            ],
            [
             0.4,
             "#fde0ef"
            ],
            [
             0.5,
             "#f7f7f7"
            ],
            [
             0.6,
             "#e6f5d0"
            ],
            [
             0.7,
             "#b8e186"
            ],
            [
             0.8,
             "#7fbc41"
            ],
            [
             0.9,
             "#4d9221"
            ],
            [
             1,
             "#276419"
            ]
           ],
           "sequential": [
            [
             0,
             "#0d0887"
            ],
            [
             0.1111111111111111,
             "#46039f"
            ],
            [
             0.2222222222222222,
             "#7201a8"
            ],
            [
             0.3333333333333333,
             "#9c179e"
            ],
            [
             0.4444444444444444,
             "#bd3786"
            ],
            [
             0.5555555555555556,
             "#d8576b"
            ],
            [
             0.6666666666666666,
             "#ed7953"
            ],
            [
             0.7777777777777778,
             "#fb9f3a"
            ],
            [
             0.8888888888888888,
             "#fdca26"
            ],
            [
             1,
             "#f0f921"
            ]
           ],
           "sequentialminus": [
            [
             0,
             "#0d0887"
            ],
            [
             0.1111111111111111,
             "#46039f"
            ],
            [
             0.2222222222222222,
             "#7201a8"
            ],
            [
             0.3333333333333333,
             "#9c179e"
            ],
            [
             0.4444444444444444,
             "#bd3786"
            ],
            [
             0.5555555555555556,
             "#d8576b"
            ],
            [
             0.6666666666666666,
             "#ed7953"
            ],
            [
             0.7777777777777778,
             "#fb9f3a"
            ],
            [
             0.8888888888888888,
             "#fdca26"
            ],
            [
             1,
             "#f0f921"
            ]
           ]
          },
          "colorway": [
           "#636efa",
           "#EF553B",
           "#00cc96",
           "#ab63fa",
           "#FFA15A",
           "#19d3f3",
           "#FF6692",
           "#B6E880",
           "#FF97FF",
           "#FECB52"
          ],
          "font": {
           "color": "#2a3f5f"
          },
          "geo": {
           "bgcolor": "white",
           "lakecolor": "white",
           "landcolor": "#E5ECF6",
           "showlakes": true,
           "showland": true,
           "subunitcolor": "white"
          },
          "hoverlabel": {
           "align": "left"
          },
          "hovermode": "closest",
          "mapbox": {
           "style": "light"
          },
          "paper_bgcolor": "white",
          "plot_bgcolor": "#E5ECF6",
          "polar": {
           "angularaxis": {
            "gridcolor": "white",
            "linecolor": "white",
            "ticks": ""
           },
           "bgcolor": "#E5ECF6",
           "radialaxis": {
            "gridcolor": "white",
            "linecolor": "white",
            "ticks": ""
           }
          },
          "scene": {
           "xaxis": {
            "backgroundcolor": "#E5ECF6",
            "gridcolor": "white",
            "gridwidth": 2,
            "linecolor": "white",
            "showbackground": true,
            "ticks": "",
            "zerolinecolor": "white"
           },
           "yaxis": {
            "backgroundcolor": "#E5ECF6",
            "gridcolor": "white",
            "gridwidth": 2,
            "linecolor": "white",
            "showbackground": true,
            "ticks": "",
            "zerolinecolor": "white"
           },
           "zaxis": {
            "backgroundcolor": "#E5ECF6",
            "gridcolor": "white",
            "gridwidth": 2,
            "linecolor": "white",
            "showbackground": true,
            "ticks": "",
            "zerolinecolor": "white"
           }
          },
          "shapedefaults": {
           "line": {
            "color": "#2a3f5f"
           }
          },
          "ternary": {
           "aaxis": {
            "gridcolor": "white",
            "linecolor": "white",
            "ticks": ""
           },
           "baxis": {
            "gridcolor": "white",
            "linecolor": "white",
            "ticks": ""
           },
           "bgcolor": "#E5ECF6",
           "caxis": {
            "gridcolor": "white",
            "linecolor": "white",
            "ticks": ""
           }
          },
          "title": {
           "x": 0.05
          },
          "xaxis": {
           "automargin": true,
           "gridcolor": "white",
           "linecolor": "white",
           "ticks": "",
           "title": {
            "standoff": 15
           },
           "zerolinecolor": "white",
           "zerolinewidth": 2
          },
          "yaxis": {
           "automargin": true,
           "gridcolor": "white",
           "linecolor": "white",
           "ticks": "",
           "title": {
            "standoff": 15
           },
           "zerolinecolor": "white",
           "zerolinewidth": 2
          }
         }
        },
        "title": {
         "text": ""
        },
        "width": 400,
        "xaxis": {
         "showticklabels": false,
         "title": {
          "text": ""
         }
        },
        "yaxis": {
         "title": {
          "text": "Similarity to context"
         }
        }
       }
      },
      "text/html": [
       "<div>\n",
       "        \n",
       "        \n",
       "            <div id=\"4ac9ebea-8752-4b50-866a-7e20782df1fc\" class=\"plotly-graph-div\" style=\"height:280px; width:400px;\"></div>\n",
       "            <script type=\"text/javascript\">\n",
       "                require([\"plotly\"], function(Plotly) {\n",
       "                    window.PLOTLYENV=window.PLOTLYENV || {};\n",
       "                    \n",
       "                if (document.getElementById(\"4ac9ebea-8752-4b50-866a-7e20782df1fc\")) {\n",
       "                    Plotly.newPlot(\n",
       "                        '4ac9ebea-8752-4b50-866a-7e20782df1fc',\n",
       "                        [{\"hovertext\": [\"Age was not used in the model since preliminary analysis<br>revealed near zero correlation with the total and evoked<br>power data and the groups had narrow age range and no<br>significant mean age difference see Table for mean age for<br>the two groups\", \"Alcoholic probands were recruited from inpatient and<br>outpatient treatment facilities and they and their first<br>degree relatives were interviewed with the SSAGA Semi<br>Structured Assessment of Genetics of Alcoholism semi<br>structured diagnostic psychiatric interview schedule<br>designed by COGA investigators Bucholz Hesselbrock\", \"All six collaborating sites used identical experimental<br>procedures and EEG acquisition hardware and software\", \"Alternatively the differences may arise due to altered<br>topography of the cognitive potentials in younger versus the<br>older subjects\", \"Although an enhancement of EEG power is thought to<br>correspond to an activation of larger number of neural<br>assemblies Lopes da the interpretation of increased<br>intertrial phase locking is more difficult to define\", \"Although there are no significant gender effects analyzing<br>both genders as one sample could increase the variability of<br>P300 amplitudes observed here\", \"Although there are no studies that report developmental<br>changes in the visual modality one could speculate that the<br>changes could be of similar nature to the one reported for<br>auditory modality\", \"An interesting issue that is highlighted by the genetic<br>studies of theta and delta oscillations is that these<br>measures have provided significant clues to associations<br>with transmitter related genes GABA receptor gene and<br>resting EEG beta band Porjesz\", \"Another study reported increased coupling of theta<br>oscillations between prefrontal and parietal cortices during<br>the retention interval of memory tasks Sarnthein\", \"As discussed earlier there is much evidence in the<br>literature on lowered P300 in adolescents associated with<br>family history of alcoholism\", \"Basar\", \"Basar\", \"Basar Eroglu\", \"Basar Eroglu\", \"Basar Eroglu\", \"Basar Eroglu\", \"Basar Eroglu and\", \"Basar Eroglu and\", \"Based on the indications of most past research studies on<br>visual P300 in alcoholism and risk the ERP component of<br>interest in this study was the parietal P300 Porjesz\", \"Begleiter\", \"Benegal\", \"Berman\", \"CHRM2 and theta and delta band for oddball targets\", \"Cohen\", \"Connor Connor\", \"Control families were recruited from HMOs drivers license<br>records and dental clinics with the objective of being<br>representative of the general population at each site\", \"Courchesne\", \"Demiralp\", \"Demiralp\", \"Developmental changes in the event related theta response<br>have been reported by one study for the auditory stimulus<br>response in children between the ages of to years and adults<br>between the ages of and years\", \"During actual retrieval however theta oscillations were<br>reversed and spread from posterior to anterior sites\", \"EEG segments from channels F3 Fz F4 C3 Cz C4 P3 Pz and P4<br>were used in order to assess topographic aspects of the ERO<br>measures\", \"EEG theta power was reported to increase when information is<br>encoded Klimesch or retrieved Klimesch from long term memory\", \"Each subject wore fitted electrode cap Electro Cap<br>International Inc Eaton OH using the channel montage as<br>specified according to the International system FP1 FP2 F7<br>F3 Fz F4 F8 T7 C3 Cz C4 T8 P7 P3 Pz P4 P8 O1 and O2\", \"Ehlers Ehlers\", \"Electrode impedances were always maintained below Electrical<br>activity was amplified times by Sensorium EPA<br>Electrophysiology amplifiers Charlotte VT with band pass<br>between Hz and Hz and digitized on computer Concurrent<br>Computer Corp Atlanta GA\", \"Electrooculogram EOG was recorded from electrodes placed<br>supraorbitally and at the outer canthus of the left eye\", \"Evidence suggests that ERP features arise from<br>superpositioned neuroelectric oscillations modulated or<br>produced by sensory and cognitive processes set into the<br>dynamics of ongoing EEG rhythms\", \"Evoked delta power on the other hand revealed highly<br>significant group differences overall\", \"Evoked power which highlights the phase locked oscillatory<br>components revealed no significant differences between the<br>groups for the theta band although it was observed that the<br>HR had lower values than LR\", \"Evoked theta power was not significantly different between<br>the two groups although few electrode locations in central<br>and parietal regions showed weakly significant differences\", \"Families in which the proband and two additional first<br>degree relatives met lifetime criteria for alcohol<br>dependence by both Feighner and DSM IIIR criteria were<br>designated Stage II and extended family members were also<br>interviewed\", \"Finally the authors also report on increasing phase locking<br>capabilities with age and suggest that the capacity to<br>produce stable enhanced theta responses probably reaches<br>maturity well beyond the age of years\", \"From the Stage II family members blood was drawn for<br>establishing lymphoblastoid cell lines and biochemical<br>analyses and neurophysiological and neuropsychological<br>assessments were conducted\", \"Functionally authors have proposed that the delta response<br>is mainly related to signal detection and decision making\", \"Furthermore these identified genetic locations also have<br>significant associations with the diagnoses of alcohol<br>dependence Wang In addition recent studies suggested that<br>GABRA2 is significantly associated with childhood conduct<br>disorder symptoms as well as with marijuana dependence and<br>illicit drug dependence Agrawal\", \"Gender main effect and Group Gender interaction effect were<br>not significant Table\", \"Hence the EEG segments for the target case only were used<br>for the time frequency analysis and only the parietal leads<br>P3 Pz and P4 were used for P300 amplitude measurements\", \"Hill and colleagues in their studies on developmental<br>patterns of P300 in children and adolescents postulated that<br>developmental delay resulted in the lowered amplitudes of<br>P300 seen in highrisk children Hill\", \"However many studies have established robust visual P300<br>differences in young adult high risk subjects Porjesz\", \"However significant Group main effect was present only for<br>delta band\", \"However the maximal amplitudes of theta in both time windows<br>were always higher for children when compared to the adults\", \"However the topographic locus of group differences between<br>the high risk and their controls in the present study and<br>the alcoholics and controls as reported in the study of<br>Jones were not similar\", \"However these studies have clearly demonstrated that ERP<br>characteristics change substantially from children to adults\", \"However with more difficult visual paradigms the effect<br>sizes for the two age groups converged\", \"In addition our study using logistic regression procedures<br>suggests that each band theta and delta provides unique<br>information and as composite variable effectively<br>discriminates between control and alcohol dependent subjects\", \"In another study the external stimulus processing produced<br>transient highly ordered microstate that did not depend on<br>stimulus modality\", \"In contrast to the theta band the evoked delta power<br>differences were as strong as or marginally stronger than<br>the total power in the delta band\", \"In effect the transform is method of spectral localization<br>with similarities to the continuous wavelet transform except<br>using the concept of frequency instead of scale\", \"In follow up study on adult high risk offspring the same<br>authors report strongly reduced delta band power in the<br>parietal regions only for the Go condition\", \"In the Go condition strong delta band total ERO deficits for<br>alcoholics were observed over frontal parietal and occipital<br>locations however no theta band differences were noted in<br>alcoholics when compared to the controls Kamarajan\", \"In the high risk adult population the results for the same<br>task revealed parietal delta and theta band total power<br>reductions for the Go condition Kamarajan\", \"In the instances where group effect was significant<br>secondary analysis included tests as post hoc analysis for<br>group differences at each electrode position\", \"In the present study HR adolescents show power deficiencies<br>in both delta and theta bands however theta band differences<br>were stronger using the total power measure while delta<br>differences were marginally better for the evoked power<br>measure\", \"In the present study the delta band differences between the<br>HR and LR subjects closely correspond to P300 differences<br>reported in alcoholics and high risk subjects\", \"In the same genetic study mentioned earlier for the theta<br>band we have also reported significant linkage<br>disequilibrium between target case parietal delta band in<br>visual evoked brain oscillations and cholinergic muscarinic<br>receptor gene CHRM2 SNPs on chromosome\", \"In these studies the go trials closely resemble the target<br>trial used in the present study\", \"It has been suggested by Basar that diffuse and distributed<br>theta system exists in the brain\", \"It has been suggested that delta activity is generated by<br>cortico cortical interactions with some subcortical<br>contributions\", \"It has been suggested that the muscarinic autoreceptor M2<br>controls the cortical excitability by influencing<br>cholinergic and glutamatergic neurotransmission Alcantara<br>Mrzljak\", \"Jones have reported significant linkage and linkage<br>disequilibrium between target case frontal theta band in<br>visual evoked brain oscillations and single nucleotide<br>polymorphism SNP from the cholinergic muscarinic receptor<br>gene CHRM2 on chromosome\", \"Kamarajan\", \"Kamarajan\", \"Kamarajan\", \"Kamarajan in study of oscillations in adult high risk<br>offspring in Go No Go P300 paradigm also report strongly<br>reduced theta band power only in the parietal regions for<br>the Go condition\", \"Kamarajan reported study of oscillations in adult alcoholics<br>in Go No Go P300 paradigm\", \"Karakas\", \"Karakas consider the P300 component to be composed of<br>superimposed delta and theta oscillations\", \"Karakas hypothesized that the delta response represents<br>degrees of consciousness involved during conscious stimulus<br>evaluation and memory updating and that the theta<br>oscillation represents different levels and forms of<br>attention\", \"Klimesch\", \"Klimesch\", \"Klimesch and selective attention and shortterm memory Basar<br>Eroglu Basar\", \"LR control subjects had higher total band power for delta<br>and theta bands in all electrodes when compared to the HR<br>offspring of alcoholics\", \"LR subjects had higher mean evoked band power for delta and<br>theta bands in all electrodes when compared to the HR<br>offspring of alcoholics\", \"Lowered total theta power had frontal focus in adult<br>alcoholics while adolescent high risk subjects manifested<br>centroparietal focus\", \"Many of the same risk factors underlie these common<br>psychiatric disorders and can be explained by small number<br>of underlying factors Kendler\", \"Mean values for both total and evoked power were calculated<br>from the respective TFR amplitude envelope within time<br>frequency regions of interest TFROIs Lachaux specified by<br>frequency band ranges and time intervals\", \"Modality independent transient theta dominated state may<br>reflect processing stage that is obligatory for stimulus<br>evaluation Yordanova\", \"Moreover Hill also report gender differences in the P300<br>growth trajectories\", \"Moreover no significant differences were seen in absolute<br>power of theta band when the resting EEG of the HR and LR<br>subjects were examined Rangaswamy unpublished data and we<br>have previously observed and reported theta power<br>differences in the resting EEG only in alcohol dependent<br>subjects Rangaswamy\", \"On the other hand eventrelated theta oscillations are<br>believed to be related to frontolimbic interactions Basar<br>Karakas Miller and are associated with complex set of<br>cognitive processes including alertness arousal or readiness<br>Basar memory related processes episodic encoding and<br>retrieval processes as revealed by event related<br>desynchronizationsynchronization\", \"One of the important criteria for an endophenotype is that<br>in addition to the affected individuals the trait must also<br>be present in the unaffected relatives and children of the<br>International Journal of Psychophysiology<br>www.elsevier.comlocateijpsycho affected individuals at rate<br>higher than the general population\", \"One possible interpretation of the theta band findings could<br>be related to slight trial to trial temporal jitter<br>variation\", \"Previously published and ongoing studies from our group have<br>examined theta and delta oscillations in adult populations<br>both alcohol dependent and high risk for the standard visual<br>oddball and Go No Go tasks Kamarajan Kamarajan\", \"Ramachandran\", \"Ratsma\", \"Regression analysis suggested that this age related decrease<br>in amplitude resulted from developmental decrease of<br>baseline theta amplitudes in the ongoing EEG theta activity\", \"Results from visual targets in the case control study in<br>adult controls and alcohol dependent subjects revealed that<br>total theta band power and evoked delta band power at the<br>frontal locus Fz best predicts the status of alcohol<br>dependence in an adult population\", \"Robust longitudinal studies of normal developmental changes<br>in P300 are lacking\", \"Rodriguez Holguin\", \"Schurmann\", \"Since the proposal by Stampfer and Basar the importance of<br>the underlying delta and theta brain oscillations in the<br>production of the P300 potential to rare target stimulus has<br>been extensively examined Basar\", \"Some authors believe that delta response may be generated by<br>cortico cortical interactions\", \"Some authors have also shown that evoked theta oscillations<br>spread from anterior to posterior regions during combined<br>short and long term memory task Sauseng\", \"Some early studies have indicated that the main portion of<br>P300 power is not within the theta band but within sub delta<br>and delta bands especially as P300 is virtually abolished<br>with high pass setting at Hz Duncanor Hz\", \"Some studies indicate that event related theta activity may<br>not only contribute directly to P300 waveform expression but<br>may also modify P300 via other processes in the theta<br>frequency channel of the EEG Kolev\", \"Specification of the time windows and further sub windowing<br>of the frequency bands was based on visual inspection of<br>grand mean TFR data and the spatial distribution of grand<br>mean ERO estimates over the scalp\", \"Specification of the time windows for the frequency bands<br>was based on peak latency of the P300 ERP response in the<br>target trials\", \"Studies exploring the time course of oscillatory changes<br>underlying the target stimulus response suggest that delta<br>oscillations contribute considerably and mainly to the P300<br>component Basar Eroglu Demiralp Kolev\", \"Studies on normal individuals indicated that the delta<br>response is possibly related to signal detection and<br>decision making generated by distributed network system\", \"Studies relating to externalizing disorders have shown that<br>general vulnerability is what is passed on to the next<br>generation with each disorder representing different<br>expression of this general vulnerability Hicks Slutske<br>Krueger Jacobson Kendler\", \"Studies suggest that separate analysis of event related<br>power and phase locking changes in cognitive tasks might<br>reveal specific insights into the mechanisms underlying<br>different cognitive functions Fell Shah\", \"Subjects responded with button press to the rare target<br>stimulus the responding hand was alternated across subjects<br>to counterbalance any laterality effects due to responding\", \"Subjects under the age of years were administered the<br>childadolescent version of SSAGA called the CSSAGA\", \"Subjects were participants in the ongoing Collaborative<br>Study on the Genetics of Alcoholism COGA multisite multi<br>stage national consortium designed to study the genetics of<br>alcoholism\", \"Subjects were seated comfortably in dimly lit sound<br>attenuated temperature regulated booth Industrial Acoustics<br>Company Bronx NY and instructed to remain relaxed and<br>respond to the target stimulus with button press with their<br>dominant hand\", \"The Bonferroni correction for multiple comparisons retained<br>significance at all three parietal and two central leads\", \"The HR group had parental diagnosis of alcoholism for either<br>or both parents\", \"The High Risk HR group comprised adolescent offspring of<br>alcoholics males and females from COGA families\", \"The LR sample was controlled for alcoholism and substance<br>useabuse and the base rate of other co occurring conditions<br>in the LR and HR sample was maintained\", \"The Low Risk LR group comprised adolescents males and<br>females from control families in which there were no first<br>degree relatives with diagnosis of DSM IIIR alcohol<br>dependence by direct interview\", \"The No Go condition also revealed strong delta and theta<br>band ERO differences\", \"The P300 amplitude decrements do not recover with abstinence<br>therefore suggesting that reduced P300 amplitude antecedes<br>the development of alcoholism\", \"The P300 amplitude in the parietal leads P3 Pz and P4 was<br>also significantly lower in the HR adolescents when analyzed<br>using multivariate model\", \"The P300 amplitude reduction has been replicated under<br>different experimental conditions with and without alcohol<br>administration in both older and younger subjects at risk in<br>male and female offspring and in subjects of different<br>ethnicities\", \"The P300 amplitudes are also reduced in these subjects but<br>the differences are not as strong as seen for the<br>oscillations thus making case for the oscillations as more<br>stable endophenotype in the study of alcoholism and related<br>disorders\", \"The P300 component is positive going wave that occurs<br>between and ms after significant or rare stimulus and is not<br>related to its physical features\", \"The P300 has been proposed to reflect attentional allocation<br>and context updating processes of working memory cognitive<br>closure and is probably associated with activation of<br>inhibitory processes over widespread cortical areas<br>Birbaumer Rockstroh\", \"The P300 or P3b component of the visual event related<br>potential ERP has proved to be successful endophenotype in<br>the study of alcoholism and an associated spectrum of<br>externalizing disorders Iacono Porjesz\", \"The Visual oddball task consisted of the presentation of<br>three types of visual stimuli non target target and novel<br>each stimulus with ms duration and subtending visual angle<br>of\", \"The age range of subjects in the present study spans mid to<br>late adolescence\", \"The amplitude envelope of the complex valued transform TFR<br>is calculated by taking the absolute value\", \"The amplitude of P300 reflects inhibitory processes of<br>irrelevant stimuli Birbaumer Klimesch while its time of<br>occurrence latency reflects mental processing speed the<br>earlier and larger the P300 the easier the processing\", \"The amplitudes of visual P300 have been reported to decrease<br>with age in children and adolescents\", \"The authors also suggested that the visual P300 amplitudes<br>had theoretical point of convergence around the age of for<br>high risk and low risk subjects\", \"The authors have reported robust P300 amplitude reductions<br>in the parietal region of the alcoholic sample for the Go<br>trials Kamarajan\", \"The authors observed significant developmental decreases in<br>theta response amplitudes in the early ms and late ms time<br>windows of the passive non target and target related epochs\", \"The authors speculate that concentrationdependent mechanism<br>in the cholinergic system may underlie the theta and delta<br>oscillations the latter being generated at lower muscarinic<br>activities\", \"The average peak latency of the P300 for all subjects was ms<br>Total and evoked band power in the theta and delta band in<br>channels F3 Fz F4 C3 Cz C4 P3 Pz and P4 were logtransformed<br>and group differences were evaluated using full factorial<br>multivariate design MANOVA SPSS with group and gender main<br>and interaction effects\", \"The cholinergic M2 autoreceptor is preferentially localized<br>to forebrain striatal and hippocampal regions and the<br>function of this receptor is to provide negative feedback<br>limiting the release of acetylcholine\", \"The clinical details of the year olds is tabulated in the<br>Table\", \"The collaborative sites are located at SUNYDownstate Medical<br>Center at Brooklyn University of Connecticut Health Center<br>Washington University School of Medicine in St Louis<br>University of California at San Diego University of Iowa and<br>Indiana University School of Medicine\", \"The control families were interviewed with the SSAGA CSSAGA<br>and underwent the full Stage II protocol\", \"The debate is ongoing however it is likely that both aspects<br>event related activation of neural assemblies and phase<br>resetting of ongoing activity are involved in the generation<br>of late ERP components\", \"The delta band differences reported in alcoholics Kamarajan<br>Jones and offspring of alcoholics and in the present study<br>closely corresponds to P300 differences reported in<br>alcoholics and highrisk subjects\", \"The delta band differences were again widespread whereas the<br>theta band differences were focused in frontal electrode<br>positions\", \"The developmental changes in P300 amplitude and topography<br>have been explored by very few cross sectional normative<br>studies in the visual modality\", \"The developmental increase in phase locking may probably be<br>related to lack of group difference in evoked theta power<br>noted in the present study sample that comprised of<br>adolescent HR\", \"The effect of age is critical in uncovering P300 amplitude<br>differences by alcoholism risk status as suggested by<br>metaanalysis study Polich\", \"The electrophysiological data used in the analysis were<br>derived from visual oddball trials for target cases since<br>our major objective was to compare high risk and controls<br>during target stimulus processing\", \"The evoked response ERO EVK enhances events which are phase<br>locked to the stimulus and reduces all other energy<br>including events which are subject to trial to trial<br>temporal jitter\", \"The exclusion criteria for neurophysiological assessment<br>were as follows Subjects were excluded if breath analyzer<br>test was positive for alcohol hepatic<br>encephalopathycirrhosis of the liver or acutechronic illness<br>were present significant history of head injury seizures or<br>neurosurgical procedures was present uncorrected sensory<br>deficits were manifested tested positive for HIV they were<br>on medication affectinginfluencing brain functioning or had<br>used any psychoactive substances in the past days history or<br>symptom of psychoses was reported symptoms of current<br>depression was present\", \"The finding of low voltage P300 amplitudes in prepubescent<br>sons of alcoholic fathers compared to boys without first or<br>second degree alcoholic relatives in experiments without the<br>administration of alcohol or placebo was first reported by<br>Begleiter\", \"The grand mean waveforms are shown in Fig\", \"The instantaneous amplitude amplitude envelope of the<br>complex valued transform TFR may be calculated by taking the<br>absolute value ST the transform power is the square of the<br>amplitude while the absolutely referenced local phase<br>information can be obtained using arctan\\u00f0 ST\\u00f0t ST\\u00f0t \\u00de\\u00de.The<br>transform derived measures used in the analysis presented<br>here were obtained from the single trial and trialaveraged<br>response\", \"The institutional review board at each site approved the<br>research procedures in the COGA study and written consent<br>was obtained from each individual prior to participation\", \"The interstimulus interval was\", \"The largest effect sizes observed were between high and low<br>risk subjects under years old\", \"The lowered P300 amplitude observed in clinical samples of<br>alcoholics has also been established in community samples\", \"The mean P300 amplitudes at P3 and Pz electrode positions<br>were higher in LR individuals when compared to the HR<br>individuals and almost equal at P4\", \"The nose served as reference and the forehead was the ground<br>electrode\", \"The post hoc comparisons test at each electrode revealed<br>interesting differences for delta and theta bands Tables and\", \"The present study strongly indicates adolescent offspring of<br>alcoholics HR appear to have weaker or possibly less<br>organized theta system than the control LR subjects and<br>reduced post stimulus theta power may be strong<br>endophenotype for alcoholism and related disorders\", \"The primary purpose of the present study was to assess if<br>the low theta and delta band power seen previously in the<br>alcohol dependent subjects were trait markers for alcoholism\", \"The protocol of determining and establishing an<br>endophenotype has also been refined in the process Porjesz\", \"The reduction in total power was most prominent for the<br>theta band and the topography was centroparietal the delta<br>band changes were less robust but significant and largely<br>parietal in location\", \"The responses to task unrelated rare stimulus produces the<br>P3a which is more pronounced frontally while the responses<br>to the task related rare stimulus target produces the P3b<br>which has parietal maxima\", \"The responses to the Go condition had reduced delta band<br>power in the parietal occipital and frontal regions\", \"The responses to the Go condition in this task are similar<br>to the oddball target condition although the stimuli used in<br>the task are different\", \"The results from those studies strongly support the present<br>study that extends similar findings into HR adolescent<br>population\", \"The samples were matched for age but not matched on drug use<br>and other Axis conditions since the reported rates for some<br>conditions in subjects with family history of alcoholism are<br>elevated over normal population levels Cuijpers Nurnberger<br>Sher\", \"The sampling rate was Hz\", \"The similar results from our laboratory across two paradigms<br>indicate that the ERO measures are stable and consistent<br>across the two age groups adults and adolescents in<br>discriminating the affected and risk states\", \"The stimulus locked theta state may reflect processing stage<br>during which interfering activations from other frequency<br>networks are minimized Yordanova\", \"The study results show that HR adolescents have reduced<br>total theta Hz and delta Hz power in the to ms time window<br>after the target stimulus\", \"The time window was based on the temporal extent of the P300<br>component in the event related waveform for targets see Figs<br>and\", \"The topography of reduced theta power as reported for<br>alcoholics involves topographically frontal component<br>Kamarajan\", \"The topography of the group differences between HR and LR<br>adolescents in the present study was strongly central and<br>parietal for the total theta power\", \"The total TFR distribution was acquired by calculating an<br>average of each TFR distribution of individual target trials<br>after they were baseline corrected to remove DC shifts\", \"The total TFR representation when compared to the evoked TFR<br>data show greater amounts of energy occurring throughout the<br>trial period at both high and low frequencies\", \"The total epoch length used for analysis was ms this<br>included ms pre stimulus baseline\", \"The total power response ERO TOT enhances events that occur<br>in similar time range as related to the stimulus onset and<br>irrespective of their phase relations\", \"The transform TFR is computed by shifting the window<br>function down the signal in time across range of frequencies\", \"The transform TFR is computed by shifting the window<br>function down the signal in time across range of frequencies\", \"The transform generates time frequency representation TFR of<br>signal by integrating the signal at each time point with<br>series of windowed harmonics of various frequencies\", \"The transform is generalization of the Gabor transform and<br>an extension to the continuous wavelet transform\", \"The transition in the ERP waveform occurs in the midteens<br>and was suggested to reflect differences in the way children<br>and adults categorize events\", \"The trial averaged data for target cases were used to obtain<br>the evoked TFR\", \"The underlying mechanism of impaired organization may<br>involve the cholinergic systems\", \"The usual manifestation of alcoholism is as part of class of<br>disinhibitory disorders which includes co occurring<br>substance abuse and psychiatric disorders\", \"The window function is Gaussian and scales in width<br>according to the examined frequency\", \"The window function is Gaussian with variance and scales in<br>width according to the examined frequency\", \"There is considerable debate if these frequency bands are<br>independent functional entities from the P300 component\", \"There is convincing evidence that EEG oscillations in the<br>theta frequency range about Hz are related to working memory<br>tasks for an extensive review see\", \"Therefore individuals with suppressed delta and theta<br>responses are likely to show deficits in cognitive functions<br>that are mediated by these oscillatory processes\", \"These findings were not observed for the equivalent non<br>target case data suggesting role for the CHRM2 gene in<br>higher cognitive processing in humans\", \"These findings were not observed for the equivalent<br>nontarget case data\", \"These frequency windows theta and delta have been selected<br>based on the well known natural frequencies of brain rhythms<br>i.e delta theta alpha beta and gamma which have been related<br>in the literature to various cognitive functions and brain<br>states\", \"These neuroelectric oscillations when analyzed in the<br>context of stimulus related brain function can be termed<br>event related oscillations or EROs\", \"Theta band differences were stronger and significant at the<br>three central C3 Cz C4 and parietal P3 Pz P4 electrodes\", \"They observe lower starting amplitudes and slower decrease<br>in visual P300 amplitudes with age in high risk boys and<br>faster growth rate and higher amplitudes of P300 in high<br>risk girls in contrast to the respective low risk groups\", \"This implies that it is the oscillations theta and delta<br>rather than the event related potentials P300 that reflect<br>closer association with CNS structure and function<br>associated with the underlying vulnerability i2pf ds where<br>is the time domain signal is frequency is translation<br>parameter the first exponential is the window function and<br>the second exponential is the harmonic function\", \"This inverse dependence of the width of the Gaussian window<br>with frequency provides the frequency dependent resolution\", \"This inverse dependence of the width of the Gaussian window<br>with frequency provides the frequency dependent resolution<br>multiresolution\", \"This issue is underscored by another study from our group<br>when similar analyses were conducted on an adult population<br>significant evoked theta differences were noted\", \"This method has been previously described in genetic linkage<br>study of delta and theta EROs during the same visual oddball<br>paradigm employed in the present study see Appendix\", \"This phasic power enhancement is related to memory<br>performance Klimesch Klimesch as well as to task load Gevins\", \"This reflects the inclusion of energy which is not phase<br>locked to the stimulus onset in the ERO TOT measure total<br>power response\", \"This reflects the inclusion of energy which is not phase<br>locked to the stimulus onset in the total power response\", \"This state was consistently determined by synchronized theta<br>oscillations and had specific anterior distribution\", \"This study focused on TFROI corresponding to the theta Hz<br>and delta Hz frequency band in the to ms time window\", \"This study was designed to evaluate the neural oscillatory<br>activity in the theta and delta frequency ranges within the<br>temporal window of the P300 response to the visual target in<br>adolescent offspring of alcoholics who are considered at<br>high risk for developing alcoholism\", \"This suggests that time locked frequencies in the delta band<br>may contribute strongly to group differences and explain the<br>association with the P300 component\", \"This temporal jitter is less likely to affect the averaging<br>of the lower frequency delta band oscillations due to the<br>lower temporal resolution therefore the evoked power measure<br>may adequately represent the delta EROs\", \"To obtain an estimate of event related phase locked power<br>response ERO EVK the Stransform TFR power matrix was<br>calculated for the averaged event related response single<br>trial data averaged after alignment to the stimulus onset<br>per individual\", \"To obtain an estimate of event related total power response<br>ERO TOT stimulus onset phase locked plus non phase locked<br>oscillations the squared instantaneous amplitudes power of<br>the transform TFR were averaged across single trials for<br>each individual\", \"To obtain estimates of localized power of<br>nonstationaryevoked potential time series we employed<br>recently developed time frequency representation method the<br>transform Stockwell\", \"To summarize the theta and delta post stimulus oscillations<br>are remarkably reduced in adolescent offspring of alcoholics\", \"Total power time frequency distributions for theta and delta<br>band and their topographic spread is illustrated in Figs and\", \"Trial averaging of the ERP waveform will diminish<br>imperfectly phase locked theta band oscillations in the<br>evoked power measure while the total power measure will<br>retain this energy and therefore provide better estimate of<br>evoked theta EROs\", \"Two competing theories have tried to explain the genesis of<br>averaged eventrelated potential ERP features and dominate<br>the current literature Evoked model that ERPs originate from<br>an event related activation of neural assemblies distinct<br>from background dynamics and Phase reset model that ERPs are<br>produced by phase resetting of ongoing oscillatory activity<br>Makeig Tallon Baudry\", \"Two groups of subjects in the age range of years were<br>selected from the COGA and Control families\", \"Two types of time frequency response TFR distributions were<br>created using the transform\", \"Using Go No Go tasks several studies from our laboratory<br>have shown P300 delta and theta power differences in<br>alcoholics and high risk individuals\", \"Using electrophysiological measures as endophenotypes is<br>proving to be very useful tool in the study of psychiatric<br>genetics\", \"Van der Stelt\", \"We have attempted to examine phase locked frequency band<br>changes by examining evoked power in these bands in order to<br>assess nonphase locked contributions which is difficult to<br>quantify we have opted to compare total power which includes<br>both types in these bands\", \"We have previously demonstrated that power in theta and<br>delta bands in the ms window were significantly lower in<br>adult alcoholics when compared with age matched controls\", \"detailed description of the COGA recruitment procedure has<br>been described previously Begleiter\", \"meta analysis concluded that low P300 may have predictive<br>value as an index of vulnerability for alcoholism Polich\"], \"type\": \"bar\", \"x\": [0, 1, 2, 3, 4, 5, 6, 7, 8, 9, 10, 11, 12, 13, 14, 15, 16, 17, 18, 19, 20, 21, 22, 23, 24, 25, 26, 27, 28, 29, 30, 31, 32, 33, 34, 35, 36, 37, 38, 39, 40, 41, 42, 43, 44, 45, 46, 47, 48, 49, 50, 51, 52, 53, 54, 55, 56, 57, 58, 59, 60, 61, 62, 63, 64, 65, 66, 67, 68, 69, 70, 71, 72, 73, 74, 75, 76, 77, 78, 79, 80, 81, 82, 83, 84, 85, 86, 87, 88, 89, 90, 91, 92, 93, 94, 95, 96, 97, 98, 99, 100, 101, 102, 103, 104, 105, 106, 107, 108, 109, 110, 111, 112, 113, 114, 115, 116, 117, 118, 119, 120, 121, 122, 123, 124, 125, 126, 127, 128, 129, 130, 131, 132, 133, 134, 135, 136, 137, 138, 139, 140, 141, 142, 143, 144, 145, 146, 147, 148, 149, 150, 151, 152, 153, 154, 155, 156, 157, 158, 159, 160, 161, 162, 163, 164, 165, 166, 167, 168, 169, 170, 171, 172, 173, 174, 175, 176, 177, 178, 179, 180, 181, 182, 183, 184, 185, 186, 187, 188, 189, 190, 191, 192, 193, 194, 195, 196, 197, 198, 199, 200, 201, 202, 203, 204, 205, 206, 207, 208, 209, 210, 211, 212, 213, 214, 215, 216, 217, 218, 219, 220, 221, 222, 223, 224, 225, 226, 227, 228, 229], \"y\": [0.2629063557502316, 0.3126434764533096, 0.08343539062099889, 0.09329586493005557, 0.12685620340797368, 0.15549196442191277, 0.14021431594822747, 0.45289180180985406, 0.4101549610779561, 0.4736646961387926, 0.0, 0.0, 0.0, 0.0, 0.0, 0.0, 0.07995611594499284, 0.07995611594499284, 0.625852602633657, 0.0, 0.0, 0.0, 0.499782596252473, 0.0, 0.0, 0.13851672256190659, 0.0, 0.0, 0.0, 0.5435440851300869, 0.47146583056059505, 0.1492316083336609, 0.4803062148558469, 0.0787788847402538, 0.0, 0.21082814352220555, 0.20957019166441723, 0.4302907323617119, 0.2655678397399426, 0.48849130701314114, 0.46847087335278503, 0.26918146895313194, 0.5447898562802819, 0.21480934510011276, 0.24634120457347924, 0.3099032216201802, 0.1695288827730164, 0.177265447491345, 0.2927033925776702, 0.17823567955349268, 0.3131649507087312, 0.5112334289939539, 0.2619525147820824, 0.6464256630232036, 0.12957933977257594, 0.5064661309515267, 0.13800997613307717, 0.5421711282195428, 0.1905366460830457, 0.33340388376773533, 0.4659717174434131, 0.5209461437450563, 0.24300614518485628, 0.6192883117219192, 0.30195472651499283, 0.3931300463137635, 0.14956135454512015, 0.49848759740364645, 0.22886839492841463, 0.12208735121093689, 0.3653952910709287, 0.0, 0.0, 0.0, 0.4777425836076789, 0.2565123274168205, 0.0, 0.4584543882948265, 0.4595077925654099, 0.0, 0.0, 0.08085748307368966, 0.6088857153047541, 0.5694594297101202, 0.610099360693245, 0.20434739581546404, 0.19800390059353246, 0.45207866045931244, 0.11133041941598915, 0.44535603475115887, 0.34700545279002204, 0.11097763019131515, 0.513421574329567, 0.4791044491837888, 0.0, 0.0, 0.4728532565809501, 0.5290648631438339, 0.14245875178743042, 0.0, 0.0, 0.44912587039624374, 0.22928790838701948, 0.4409338362130978, 0.5355939446517011, 0.44875618906022513, 0.24097138234545473, 0.6065021674822229, 0.2064020379432101, 0.2569521633975635, 0.19745111618554037, 0.17270152916544662, 0.21748541599040436, 0.30935343804566595, 0.3372000043593763, 0.1042222061607372, 0.09243239825446205, 0.38948151146368243, 0.4237418639100857, 0.39061505503859006, 0.36307909174707015, 0.5653696720683951, 0.32106523740184645, 0.2926831331426968, 0.27775761637880825, 0.3479506935024512, 0.1786830143848917, 0.08699309110698761, 0.5088118606354292, 0.08728435643613693, 0.16691506761500138, 0.08241057679921962, 0.08486745844156564, 0.3243469598002925, 0.1119981578814379, 0.24200939347338074, 0.5115662510057496, 0.4225930627704465, 0.33558997195937607, 0.13510510618997082, 0.0901257555252254, 0.09250168127358768, 0.13559215004710706, 0.554642258017756, 0.3405538171188257, 0.549269368625888, 0.13519281464384322, 0.5946945303779871, 0.3183748161399191, 0.2266751943969342, 0.08529616946777153, 0.2022844272126296, 0.27920333087377147, 0.162100248762324, 0.1640556183606889, 0.23608524260561298, 0.21802702337274202, 0.12887639977951212, 0.2603059743408931, 0.1017918924321954, 0.23528688192774064, 0.5645269471021209, 0.7434481225938052, 0.788662180325969, 0.11359435188568161, 0.5092023373890534, 0.14270200950054365, 0.2361784589596165, 0.09017710884849076, 0.3467101387374852, 0.3267888591399968, 0.22886392738107328, 0.32121129919826386, 0.48106829935844214, 0.6733655215848574, 0.23186021851592808, 0.48711294483826134, 0.5590554349435246, 0.22936431967188187, 0.19374963398369902, 0.23705097593574811, 0.16710542010053533, 0.20234795361167715, 0.20234795361167715, 0.1874920187886456, 0.10173561404921434, 0.5130476208951579, 0.10678270274835491, 0.08307956786649852, 0.3717420508156155, 0.19839809141200968, 0.19649809361236636, 0.21467531144020585, 0.47813957354934833, 0.5117158386200668, 0.21042177471596235, 0.12028766410537903, 0.5928694080178851, 0.14723320129031295, 0.3834604168883486, 0.15612272964262974, 0.4356120745684241, 0.30296684924495615, 0.28988058973704206, 0.5020206048574166, 0.4761884516566859, 0.1525171532982535, 0.17455079477986085, 0.13488216904067288, 0.5006931813757141, 0.5450483010902831, 0.8191922457799811, 0.2799258679514507, 0.24963878335054465, 0.21504460514956772, 0.14693240809203653, 0.1928213481170995, 0.6820623763293089, 0.5564126837438835, 0.5960495593769904, 0.3812466156472617, 0.16802327202922068, 0.19920735751417148, 0.6370233928957173, 0.17659500850239712, 0.0, 0.2024867827927505, 0.6762158417998644, 0.08219315509591435, 0.3407813472148997]}],\n",
       "                        {\"height\": 280, \"hoverlabel\": {\"bgcolor\": \"white\", \"font\": {\"family\": \"Rockwell\", \"size\": 13}}, \"margin\": {\"b\": 5, \"l\": 5, \"r\": 5, \"t\": 5}, \"template\": {\"data\": {\"bar\": [{\"error_x\": {\"color\": \"#2a3f5f\"}, \"error_y\": {\"color\": \"#2a3f5f\"}, \"marker\": {\"line\": {\"color\": \"#E5ECF6\", \"width\": 0.5}}, \"type\": \"bar\"}], \"barpolar\": [{\"marker\": {\"line\": {\"color\": \"#E5ECF6\", \"width\": 0.5}}, \"type\": \"barpolar\"}], \"carpet\": [{\"aaxis\": {\"endlinecolor\": \"#2a3f5f\", \"gridcolor\": \"white\", \"linecolor\": \"white\", \"minorgridcolor\": \"white\", \"startlinecolor\": \"#2a3f5f\"}, \"baxis\": {\"endlinecolor\": \"#2a3f5f\", \"gridcolor\": \"white\", \"linecolor\": \"white\", \"minorgridcolor\": \"white\", \"startlinecolor\": \"#2a3f5f\"}, \"type\": \"carpet\"}], \"choropleth\": [{\"colorbar\": {\"outlinewidth\": 0, \"ticks\": \"\"}, \"type\": \"choropleth\"}], \"contour\": [{\"colorbar\": {\"outlinewidth\": 0, \"ticks\": \"\"}, \"colorscale\": [[0.0, \"#0d0887\"], [0.1111111111111111, \"#46039f\"], [0.2222222222222222, \"#7201a8\"], [0.3333333333333333, \"#9c179e\"], [0.4444444444444444, \"#bd3786\"], [0.5555555555555556, \"#d8576b\"], [0.6666666666666666, \"#ed7953\"], [0.7777777777777778, \"#fb9f3a\"], [0.8888888888888888, \"#fdca26\"], [1.0, \"#f0f921\"]], \"type\": \"contour\"}], \"contourcarpet\": [{\"colorbar\": {\"outlinewidth\": 0, \"ticks\": \"\"}, \"type\": \"contourcarpet\"}], \"heatmap\": [{\"colorbar\": {\"outlinewidth\": 0, \"ticks\": \"\"}, \"colorscale\": [[0.0, \"#0d0887\"], [0.1111111111111111, \"#46039f\"], [0.2222222222222222, \"#7201a8\"], [0.3333333333333333, \"#9c179e\"], [0.4444444444444444, \"#bd3786\"], [0.5555555555555556, \"#d8576b\"], [0.6666666666666666, \"#ed7953\"], [0.7777777777777778, \"#fb9f3a\"], [0.8888888888888888, \"#fdca26\"], [1.0, \"#f0f921\"]], \"type\": \"heatmap\"}], \"heatmapgl\": [{\"colorbar\": {\"outlinewidth\": 0, \"ticks\": \"\"}, \"colorscale\": [[0.0, \"#0d0887\"], [0.1111111111111111, \"#46039f\"], [0.2222222222222222, \"#7201a8\"], [0.3333333333333333, \"#9c179e\"], [0.4444444444444444, \"#bd3786\"], [0.5555555555555556, \"#d8576b\"], [0.6666666666666666, \"#ed7953\"], [0.7777777777777778, \"#fb9f3a\"], [0.8888888888888888, \"#fdca26\"], [1.0, \"#f0f921\"]], \"type\": \"heatmapgl\"}], \"histogram\": [{\"marker\": {\"colorbar\": {\"outlinewidth\": 0, \"ticks\": \"\"}}, \"type\": \"histogram\"}], \"histogram2d\": [{\"colorbar\": {\"outlinewidth\": 0, \"ticks\": \"\"}, \"colorscale\": [[0.0, \"#0d0887\"], [0.1111111111111111, \"#46039f\"], [0.2222222222222222, \"#7201a8\"], [0.3333333333333333, \"#9c179e\"], [0.4444444444444444, \"#bd3786\"], [0.5555555555555556, \"#d8576b\"], [0.6666666666666666, \"#ed7953\"], [0.7777777777777778, \"#fb9f3a\"], [0.8888888888888888, \"#fdca26\"], [1.0, \"#f0f921\"]], \"type\": \"histogram2d\"}], \"histogram2dcontour\": [{\"colorbar\": {\"outlinewidth\": 0, \"ticks\": \"\"}, \"colorscale\": [[0.0, \"#0d0887\"], [0.1111111111111111, \"#46039f\"], [0.2222222222222222, \"#7201a8\"], [0.3333333333333333, \"#9c179e\"], [0.4444444444444444, \"#bd3786\"], [0.5555555555555556, \"#d8576b\"], [0.6666666666666666, \"#ed7953\"], [0.7777777777777778, \"#fb9f3a\"], [0.8888888888888888, \"#fdca26\"], [1.0, \"#f0f921\"]], \"type\": \"histogram2dcontour\"}], \"mesh3d\": [{\"colorbar\": {\"outlinewidth\": 0, \"ticks\": \"\"}, \"type\": \"mesh3d\"}], \"parcoords\": [{\"line\": {\"colorbar\": {\"outlinewidth\": 0, \"ticks\": \"\"}}, \"type\": \"parcoords\"}], \"pie\": [{\"automargin\": true, \"type\": \"pie\"}], \"scatter\": [{\"marker\": {\"colorbar\": {\"outlinewidth\": 0, \"ticks\": \"\"}}, \"type\": \"scatter\"}], \"scatter3d\": [{\"line\": {\"colorbar\": {\"outlinewidth\": 0, \"ticks\": \"\"}}, \"marker\": {\"colorbar\": {\"outlinewidth\": 0, \"ticks\": \"\"}}, \"type\": \"scatter3d\"}], \"scattercarpet\": [{\"marker\": {\"colorbar\": {\"outlinewidth\": 0, \"ticks\": \"\"}}, \"type\": \"scattercarpet\"}], \"scattergeo\": [{\"marker\": {\"colorbar\": {\"outlinewidth\": 0, \"ticks\": \"\"}}, \"type\": \"scattergeo\"}], \"scattergl\": [{\"marker\": {\"colorbar\": {\"outlinewidth\": 0, \"ticks\": \"\"}}, \"type\": \"scattergl\"}], \"scattermapbox\": [{\"marker\": {\"colorbar\": {\"outlinewidth\": 0, \"ticks\": \"\"}}, \"type\": \"scattermapbox\"}], \"scatterpolar\": [{\"marker\": {\"colorbar\": {\"outlinewidth\": 0, \"ticks\": \"\"}}, \"type\": \"scatterpolar\"}], \"scatterpolargl\": [{\"marker\": {\"colorbar\": {\"outlinewidth\": 0, \"ticks\": \"\"}}, \"type\": \"scatterpolargl\"}], \"scatterternary\": [{\"marker\": {\"colorbar\": {\"outlinewidth\": 0, \"ticks\": \"\"}}, \"type\": \"scatterternary\"}], \"surface\": [{\"colorbar\": {\"outlinewidth\": 0, \"ticks\": \"\"}, \"colorscale\": [[0.0, \"#0d0887\"], [0.1111111111111111, \"#46039f\"], [0.2222222222222222, \"#7201a8\"], [0.3333333333333333, \"#9c179e\"], [0.4444444444444444, \"#bd3786\"], [0.5555555555555556, \"#d8576b\"], [0.6666666666666666, \"#ed7953\"], [0.7777777777777778, \"#fb9f3a\"], [0.8888888888888888, \"#fdca26\"], [1.0, \"#f0f921\"]], \"type\": \"surface\"}], \"table\": [{\"cells\": {\"fill\": {\"color\": \"#EBF0F8\"}, \"line\": {\"color\": \"white\"}}, \"header\": {\"fill\": {\"color\": \"#C8D4E3\"}, \"line\": {\"color\": \"white\"}}, \"type\": \"table\"}]}, \"layout\": {\"annotationdefaults\": {\"arrowcolor\": \"#2a3f5f\", \"arrowhead\": 0, \"arrowwidth\": 1}, \"coloraxis\": {\"colorbar\": {\"outlinewidth\": 0, \"ticks\": \"\"}}, \"colorscale\": {\"diverging\": [[0, \"#8e0152\"], [0.1, \"#c51b7d\"], [0.2, \"#de77ae\"], [0.3, \"#f1b6da\"], [0.4, \"#fde0ef\"], [0.5, \"#f7f7f7\"], [0.6, \"#e6f5d0\"], [0.7, \"#b8e186\"], [0.8, \"#7fbc41\"], [0.9, \"#4d9221\"], [1, \"#276419\"]], \"sequential\": [[0.0, \"#0d0887\"], [0.1111111111111111, \"#46039f\"], [0.2222222222222222, \"#7201a8\"], [0.3333333333333333, \"#9c179e\"], [0.4444444444444444, \"#bd3786\"], [0.5555555555555556, \"#d8576b\"], [0.6666666666666666, \"#ed7953\"], [0.7777777777777778, \"#fb9f3a\"], [0.8888888888888888, \"#fdca26\"], [1.0, \"#f0f921\"]], \"sequentialminus\": [[0.0, \"#0d0887\"], [0.1111111111111111, \"#46039f\"], [0.2222222222222222, \"#7201a8\"], [0.3333333333333333, \"#9c179e\"], [0.4444444444444444, \"#bd3786\"], [0.5555555555555556, \"#d8576b\"], [0.6666666666666666, \"#ed7953\"], [0.7777777777777778, \"#fb9f3a\"], [0.8888888888888888, \"#fdca26\"], [1.0, \"#f0f921\"]]}, \"colorway\": [\"#636efa\", \"#EF553B\", \"#00cc96\", \"#ab63fa\", \"#FFA15A\", \"#19d3f3\", \"#FF6692\", \"#B6E880\", \"#FF97FF\", \"#FECB52\"], \"font\": {\"color\": \"#2a3f5f\"}, \"geo\": {\"bgcolor\": \"white\", \"lakecolor\": \"white\", \"landcolor\": \"#E5ECF6\", \"showlakes\": true, \"showland\": true, \"subunitcolor\": \"white\"}, \"hoverlabel\": {\"align\": \"left\"}, \"hovermode\": \"closest\", \"mapbox\": {\"style\": \"light\"}, \"paper_bgcolor\": \"white\", \"plot_bgcolor\": \"#E5ECF6\", \"polar\": {\"angularaxis\": {\"gridcolor\": \"white\", \"linecolor\": \"white\", \"ticks\": \"\"}, \"bgcolor\": \"#E5ECF6\", \"radialaxis\": {\"gridcolor\": \"white\", \"linecolor\": \"white\", \"ticks\": \"\"}}, \"scene\": {\"xaxis\": {\"backgroundcolor\": \"#E5ECF6\", \"gridcolor\": \"white\", \"gridwidth\": 2, \"linecolor\": \"white\", \"showbackground\": true, \"ticks\": \"\", \"zerolinecolor\": \"white\"}, \"yaxis\": {\"backgroundcolor\": \"#E5ECF6\", \"gridcolor\": \"white\", \"gridwidth\": 2, \"linecolor\": \"white\", \"showbackground\": true, \"ticks\": \"\", \"zerolinecolor\": \"white\"}, \"zaxis\": {\"backgroundcolor\": \"#E5ECF6\", \"gridcolor\": \"white\", \"gridwidth\": 2, \"linecolor\": \"white\", \"showbackground\": true, \"ticks\": \"\", \"zerolinecolor\": \"white\"}}, \"shapedefaults\": {\"line\": {\"color\": \"#2a3f5f\"}}, \"ternary\": {\"aaxis\": {\"gridcolor\": \"white\", \"linecolor\": \"white\", \"ticks\": \"\"}, \"baxis\": {\"gridcolor\": \"white\", \"linecolor\": \"white\", \"ticks\": \"\"}, \"bgcolor\": \"#E5ECF6\", \"caxis\": {\"gridcolor\": \"white\", \"linecolor\": \"white\", \"ticks\": \"\"}}, \"title\": {\"x\": 0.05}, \"xaxis\": {\"automargin\": true, \"gridcolor\": \"white\", \"linecolor\": \"white\", \"ticks\": \"\", \"title\": {\"standoff\": 15}, \"zerolinecolor\": \"white\", \"zerolinewidth\": 2}, \"yaxis\": {\"automargin\": true, \"gridcolor\": \"white\", \"linecolor\": \"white\", \"ticks\": \"\", \"title\": {\"standoff\": 15}, \"zerolinecolor\": \"white\", \"zerolinewidth\": 2}}}, \"title\": {\"text\": \"\"}, \"width\": 400, \"xaxis\": {\"showticklabels\": false, \"title\": {\"text\": \"\"}}, \"yaxis\": {\"title\": {\"text\": \"Similarity to context\"}}},\n",
       "                        {\"responsive\": true}\n",
       "                    ).then(function(){\n",
       "                            \n",
       "var gd = document.getElementById('4ac9ebea-8752-4b50-866a-7e20782df1fc');\n",
       "var x = new MutationObserver(function (mutations, observer) {{\n",
       "        var display = window.getComputedStyle(gd).display;\n",
       "        if (!display || display === 'none') {{\n",
       "            console.log([gd, 'removed!']);\n",
       "            Plotly.purge(gd);\n",
       "            observer.disconnect();\n",
       "        }}\n",
       "}});\n",
       "\n",
       "// Listen for the removal of the full notebook cells\n",
       "var notebookContainer = gd.closest('#notebook-container');\n",
       "if (notebookContainer) {{\n",
       "    x.observe(notebookContainer, {childList: true});\n",
       "}}\n",
       "\n",
       "// Listen for the clearing of the current output cell\n",
       "var outputEl = gd.closest('.output');\n",
       "if (outputEl) {{\n",
       "    x.observe(outputEl, {childList: true});\n",
       "}}\n",
       "\n",
       "                        })\n",
       "                };\n",
       "                });\n",
       "            </script>\n",
       "        </div>"
      ]
     },
     "metadata": {},
     "output_type": "display_data"
    },
    {
     "data": {
      "application/vnd.plotly.v1+json": {
       "config": {
        "plotlyServerURL": "https://plot.ly"
       },
       "data": [
        {
         "hovertext": [
          "Age was not used in the model since preliminary analysis<br>revealed near zero correlation with the total and evoked<br>power data and the groups had narrow age range and no<br>significant mean age difference see Table for mean age for<br>the two groups",
          "Alcoholic probands were recruited from inpatient and<br>outpatient treatment facilities and they and their first<br>degree relatives were interviewed with the SSAGA Semi<br>Structured Assessment of Genetics of Alcoholism semi<br>structured diagnostic psychiatric interview schedule<br>designed by COGA investigators Bucholz Hesselbrock",
          "All six collaborating sites used identical experimental<br>procedures and EEG acquisition hardware and software",
          "Alternatively the differences may arise due to altered<br>topography of the cognitive potentials in younger versus the<br>older subjects",
          "Although an enhancement of EEG power is thought to<br>correspond to an activation of larger number of neural<br>assemblies Lopes da the interpretation of increased<br>intertrial phase locking is more difficult to define",
          "Although there are no significant gender effects analyzing<br>both genders as one sample could increase the variability of<br>P300 amplitudes observed here",
          "Although there are no studies that report developmental<br>changes in the visual modality one could speculate that the<br>changes could be of similar nature to the one reported for<br>auditory modality",
          "An interesting issue that is highlighted by the genetic<br>studies of theta and delta oscillations is that these<br>measures have provided significant clues to associations<br>with transmitter related genes GABA receptor gene and<br>resting EEG beta band Porjesz",
          "Another study reported increased coupling of theta<br>oscillations between prefrontal and parietal cortices during<br>the retention interval of memory tasks Sarnthein",
          "As discussed earlier there is much evidence in the<br>literature on lowered P300 in adolescents associated with<br>family history of alcoholism",
          "Basar",
          "Basar",
          "Basar Eroglu",
          "Basar Eroglu",
          "Basar Eroglu",
          "Basar Eroglu",
          "Basar Eroglu and",
          "Basar Eroglu and",
          "Based on the indications of most past research studies on<br>visual P300 in alcoholism and risk the ERP component of<br>interest in this study was the parietal P300 Porjesz",
          "Begleiter",
          "Benegal",
          "Berman",
          "CHRM2 and theta and delta band for oddball targets",
          "Cohen",
          "Connor Connor",
          "Control families were recruited from HMOs drivers license<br>records and dental clinics with the objective of being<br>representative of the general population at each site",
          "Courchesne",
          "Demiralp",
          "Demiralp",
          "Developmental changes in the event related theta response<br>have been reported by one study for the auditory stimulus<br>response in children between the ages of to years and adults<br>between the ages of and years",
          "During actual retrieval however theta oscillations were<br>reversed and spread from posterior to anterior sites",
          "EEG segments from channels F3 Fz F4 C3 Cz C4 P3 Pz and P4<br>were used in order to assess topographic aspects of the ERO<br>measures",
          "EEG theta power was reported to increase when information is<br>encoded Klimesch or retrieved Klimesch from long term memory",
          "Each subject wore fitted electrode cap Electro Cap<br>International Inc Eaton OH using the channel montage as<br>specified according to the International system FP1 FP2 F7<br>F3 Fz F4 F8 T7 C3 Cz C4 T8 P7 P3 Pz P4 P8 O1 and O2",
          "Ehlers Ehlers",
          "Electrode impedances were always maintained below Electrical<br>activity was amplified times by Sensorium EPA<br>Electrophysiology amplifiers Charlotte VT with band pass<br>between Hz and Hz and digitized on computer Concurrent<br>Computer Corp Atlanta GA",
          "Electrooculogram EOG was recorded from electrodes placed<br>supraorbitally and at the outer canthus of the left eye",
          "Evidence suggests that ERP features arise from<br>superpositioned neuroelectric oscillations modulated or<br>produced by sensory and cognitive processes set into the<br>dynamics of ongoing EEG rhythms",
          "Evoked delta power on the other hand revealed highly<br>significant group differences overall",
          "Evoked power which highlights the phase locked oscillatory<br>components revealed no significant differences between the<br>groups for the theta band although it was observed that the<br>HR had lower values than LR",
          "Evoked theta power was not significantly different between<br>the two groups although few electrode locations in central<br>and parietal regions showed weakly significant differences",
          "Families in which the proband and two additional first<br>degree relatives met lifetime criteria for alcohol<br>dependence by both Feighner and DSM IIIR criteria were<br>designated Stage II and extended family members were also<br>interviewed",
          "Finally the authors also report on increasing phase locking<br>capabilities with age and suggest that the capacity to<br>produce stable enhanced theta responses probably reaches<br>maturity well beyond the age of years",
          "From the Stage II family members blood was drawn for<br>establishing lymphoblastoid cell lines and biochemical<br>analyses and neurophysiological and neuropsychological<br>assessments were conducted",
          "Functionally authors have proposed that the delta response<br>is mainly related to signal detection and decision making",
          "Furthermore these identified genetic locations also have<br>significant associations with the diagnoses of alcohol<br>dependence Wang In addition recent studies suggested that<br>GABRA2 is significantly associated with childhood conduct<br>disorder symptoms as well as with marijuana dependence and<br>illicit drug dependence Agrawal",
          "Gender main effect and Group Gender interaction effect were<br>not significant Table",
          "Hence the EEG segments for the target case only were used<br>for the time frequency analysis and only the parietal leads<br>P3 Pz and P4 were used for P300 amplitude measurements",
          "Hill and colleagues in their studies on developmental<br>patterns of P300 in children and adolescents postulated that<br>developmental delay resulted in the lowered amplitudes of<br>P300 seen in highrisk children Hill",
          "However many studies have established robust visual P300<br>differences in young adult high risk subjects Porjesz",
          "However significant Group main effect was present only for<br>delta band",
          "However the maximal amplitudes of theta in both time windows<br>were always higher for children when compared to the adults",
          "However the topographic locus of group differences between<br>the high risk and their controls in the present study and<br>the alcoholics and controls as reported in the study of<br>Jones were not similar",
          "However these studies have clearly demonstrated that ERP<br>characteristics change substantially from children to adults",
          "However with more difficult visual paradigms the effect<br>sizes for the two age groups converged",
          "In addition our study using logistic regression procedures<br>suggests that each band theta and delta provides unique<br>information and as composite variable effectively<br>discriminates between control and alcohol dependent subjects",
          "In another study the external stimulus processing produced<br>transient highly ordered microstate that did not depend on<br>stimulus modality",
          "In contrast to the theta band the evoked delta power<br>differences were as strong as or marginally stronger than<br>the total power in the delta band",
          "In effect the transform is method of spectral localization<br>with similarities to the continuous wavelet transform except<br>using the concept of frequency instead of scale",
          "In follow up study on adult high risk offspring the same<br>authors report strongly reduced delta band power in the<br>parietal regions only for the Go condition",
          "In the Go condition strong delta band total ERO deficits for<br>alcoholics were observed over frontal parietal and occipital<br>locations however no theta band differences were noted in<br>alcoholics when compared to the controls Kamarajan",
          "In the high risk adult population the results for the same<br>task revealed parietal delta and theta band total power<br>reductions for the Go condition Kamarajan",
          "In the instances where group effect was significant<br>secondary analysis included tests as post hoc analysis for<br>group differences at each electrode position",
          "In the present study HR adolescents show power deficiencies<br>in both delta and theta bands however theta band differences<br>were stronger using the total power measure while delta<br>differences were marginally better for the evoked power<br>measure",
          "In the present study the delta band differences between the<br>HR and LR subjects closely correspond to P300 differences<br>reported in alcoholics and high risk subjects",
          "In the same genetic study mentioned earlier for the theta<br>band we have also reported significant linkage<br>disequilibrium between target case parietal delta band in<br>visual evoked brain oscillations and cholinergic muscarinic<br>receptor gene CHRM2 SNPs on chromosome",
          "In these studies the go trials closely resemble the target<br>trial used in the present study",
          "It has been suggested by Basar that diffuse and distributed<br>theta system exists in the brain",
          "It has been suggested that delta activity is generated by<br>cortico cortical interactions with some subcortical<br>contributions",
          "It has been suggested that the muscarinic autoreceptor M2<br>controls the cortical excitability by influencing<br>cholinergic and glutamatergic neurotransmission Alcantara<br>Mrzljak",
          "Jones have reported significant linkage and linkage<br>disequilibrium between target case frontal theta band in<br>visual evoked brain oscillations and single nucleotide<br>polymorphism SNP from the cholinergic muscarinic receptor<br>gene CHRM2 on chromosome",
          "Kamarajan",
          "Kamarajan",
          "Kamarajan",
          "Kamarajan in study of oscillations in adult high risk<br>offspring in Go No Go P300 paradigm also report strongly<br>reduced theta band power only in the parietal regions for<br>the Go condition",
          "Kamarajan reported study of oscillations in adult alcoholics<br>in Go No Go P300 paradigm",
          "Karakas",
          "Karakas consider the P300 component to be composed of<br>superimposed delta and theta oscillations",
          "Karakas hypothesized that the delta response represents<br>degrees of consciousness involved during conscious stimulus<br>evaluation and memory updating and that the theta<br>oscillation represents different levels and forms of<br>attention",
          "Klimesch",
          "Klimesch",
          "Klimesch and selective attention and shortterm memory Basar<br>Eroglu Basar",
          "LR control subjects had higher total band power for delta<br>and theta bands in all electrodes when compared to the HR<br>offspring of alcoholics",
          "LR subjects had higher mean evoked band power for delta and<br>theta bands in all electrodes when compared to the HR<br>offspring of alcoholics",
          "Lowered total theta power had frontal focus in adult<br>alcoholics while adolescent high risk subjects manifested<br>centroparietal focus",
          "Many of the same risk factors underlie these common<br>psychiatric disorders and can be explained by small number<br>of underlying factors Kendler",
          "Mean values for both total and evoked power were calculated<br>from the respective TFR amplitude envelope within time<br>frequency regions of interest TFROIs Lachaux specified by<br>frequency band ranges and time intervals",
          "Modality independent transient theta dominated state may<br>reflect processing stage that is obligatory for stimulus<br>evaluation Yordanova",
          "Moreover Hill also report gender differences in the P300<br>growth trajectories",
          "Moreover no significant differences were seen in absolute<br>power of theta band when the resting EEG of the HR and LR<br>subjects were examined Rangaswamy unpublished data and we<br>have previously observed and reported theta power<br>differences in the resting EEG only in alcohol dependent<br>subjects Rangaswamy",
          "On the other hand eventrelated theta oscillations are<br>believed to be related to frontolimbic interactions Basar<br>Karakas Miller and are associated with complex set of<br>cognitive processes including alertness arousal or readiness<br>Basar memory related processes episodic encoding and<br>retrieval processes as revealed by event related<br>desynchronizationsynchronization",
          "One of the important criteria for an endophenotype is that<br>in addition to the affected individuals the trait must also<br>be present in the unaffected relatives and children of the<br>International Journal of Psychophysiology<br>www.elsevier.comlocateijpsycho affected individuals at rate<br>higher than the general population",
          "One possible interpretation of the theta band findings could<br>be related to slight trial to trial temporal jitter<br>variation",
          "Previously published and ongoing studies from our group have<br>examined theta and delta oscillations in adult populations<br>both alcohol dependent and high risk for the standard visual<br>oddball and Go No Go tasks Kamarajan Kamarajan",
          "Ramachandran",
          "Ratsma",
          "Regression analysis suggested that this age related decrease<br>in amplitude resulted from developmental decrease of<br>baseline theta amplitudes in the ongoing EEG theta activity",
          "Results from visual targets in the case control study in<br>adult controls and alcohol dependent subjects revealed that<br>total theta band power and evoked delta band power at the<br>frontal locus Fz best predicts the status of alcohol<br>dependence in an adult population",
          "Robust longitudinal studies of normal developmental changes<br>in P300 are lacking",
          "Rodriguez Holguin",
          "Schurmann",
          "Since the proposal by Stampfer and Basar the importance of<br>the underlying delta and theta brain oscillations in the<br>production of the P300 potential to rare target stimulus has<br>been extensively examined Basar",
          "Some authors believe that delta response may be generated by<br>cortico cortical interactions",
          "Some authors have also shown that evoked theta oscillations<br>spread from anterior to posterior regions during combined<br>short and long term memory task Sauseng",
          "Some early studies have indicated that the main portion of<br>P300 power is not within the theta band but within sub delta<br>and delta bands especially as P300 is virtually abolished<br>with high pass setting at Hz Duncanor Hz",
          "Some studies indicate that event related theta activity may<br>not only contribute directly to P300 waveform expression but<br>may also modify P300 via other processes in the theta<br>frequency channel of the EEG Kolev",
          "Specification of the time windows and further sub windowing<br>of the frequency bands was based on visual inspection of<br>grand mean TFR data and the spatial distribution of grand<br>mean ERO estimates over the scalp",
          "Specification of the time windows for the frequency bands<br>was based on peak latency of the P300 ERP response in the<br>target trials",
          "Studies exploring the time course of oscillatory changes<br>underlying the target stimulus response suggest that delta<br>oscillations contribute considerably and mainly to the P300<br>component Basar Eroglu Demiralp Kolev",
          "Studies on normal individuals indicated that the delta<br>response is possibly related to signal detection and<br>decision making generated by distributed network system",
          "Studies relating to externalizing disorders have shown that<br>general vulnerability is what is passed on to the next<br>generation with each disorder representing different<br>expression of this general vulnerability Hicks Slutske<br>Krueger Jacobson Kendler",
          "Studies suggest that separate analysis of event related<br>power and phase locking changes in cognitive tasks might<br>reveal specific insights into the mechanisms underlying<br>different cognitive functions Fell Shah",
          "Subjects responded with button press to the rare target<br>stimulus the responding hand was alternated across subjects<br>to counterbalance any laterality effects due to responding",
          "Subjects under the age of years were administered the<br>childadolescent version of SSAGA called the CSSAGA",
          "Subjects were participants in the ongoing Collaborative<br>Study on the Genetics of Alcoholism COGA multisite multi<br>stage national consortium designed to study the genetics of<br>alcoholism",
          "Subjects were seated comfortably in dimly lit sound<br>attenuated temperature regulated booth Industrial Acoustics<br>Company Bronx NY and instructed to remain relaxed and<br>respond to the target stimulus with button press with their<br>dominant hand",
          "The Bonferroni correction for multiple comparisons retained<br>significance at all three parietal and two central leads",
          "The HR group had parental diagnosis of alcoholism for either<br>or both parents",
          "The High Risk HR group comprised adolescent offspring of<br>alcoholics males and females from COGA families",
          "The LR sample was controlled for alcoholism and substance<br>useabuse and the base rate of other co occurring conditions<br>in the LR and HR sample was maintained",
          "The Low Risk LR group comprised adolescents males and<br>females from control families in which there were no first<br>degree relatives with diagnosis of DSM IIIR alcohol<br>dependence by direct interview",
          "The No Go condition also revealed strong delta and theta<br>band ERO differences",
          "The P300 amplitude decrements do not recover with abstinence<br>therefore suggesting that reduced P300 amplitude antecedes<br>the development of alcoholism",
          "The P300 amplitude in the parietal leads P3 Pz and P4 was<br>also significantly lower in the HR adolescents when analyzed<br>using multivariate model",
          "The P300 amplitude reduction has been replicated under<br>different experimental conditions with and without alcohol<br>administration in both older and younger subjects at risk in<br>male and female offspring and in subjects of different<br>ethnicities",
          "The P300 amplitudes are also reduced in these subjects but<br>the differences are not as strong as seen for the<br>oscillations thus making case for the oscillations as more<br>stable endophenotype in the study of alcoholism and related<br>disorders",
          "The P300 component is positive going wave that occurs<br>between and ms after significant or rare stimulus and is not<br>related to its physical features",
          "The P300 has been proposed to reflect attentional allocation<br>and context updating processes of working memory cognitive<br>closure and is probably associated with activation of<br>inhibitory processes over widespread cortical areas<br>Birbaumer Rockstroh",
          "The P300 or P3b component of the visual event related<br>potential ERP has proved to be successful endophenotype in<br>the study of alcoholism and an associated spectrum of<br>externalizing disorders Iacono Porjesz",
          "The Visual oddball task consisted of the presentation of<br>three types of visual stimuli non target target and novel<br>each stimulus with ms duration and subtending visual angle<br>of",
          "The age range of subjects in the present study spans mid to<br>late adolescence",
          "The amplitude envelope of the complex valued transform TFR<br>is calculated by taking the absolute value",
          "The amplitude of P300 reflects inhibitory processes of<br>irrelevant stimuli Birbaumer Klimesch while its time of<br>occurrence latency reflects mental processing speed the<br>earlier and larger the P300 the easier the processing",
          "The amplitudes of visual P300 have been reported to decrease<br>with age in children and adolescents",
          "The authors also suggested that the visual P300 amplitudes<br>had theoretical point of convergence around the age of for<br>high risk and low risk subjects",
          "The authors have reported robust P300 amplitude reductions<br>in the parietal region of the alcoholic sample for the Go<br>trials Kamarajan",
          "The authors observed significant developmental decreases in<br>theta response amplitudes in the early ms and late ms time<br>windows of the passive non target and target related epochs",
          "The authors speculate that concentrationdependent mechanism<br>in the cholinergic system may underlie the theta and delta<br>oscillations the latter being generated at lower muscarinic<br>activities",
          "The average peak latency of the P300 for all subjects was ms<br>Total and evoked band power in the theta and delta band in<br>channels F3 Fz F4 C3 Cz C4 P3 Pz and P4 were logtransformed<br>and group differences were evaluated using full factorial<br>multivariate design MANOVA SPSS with group and gender main<br>and interaction effects",
          "The cholinergic M2 autoreceptor is preferentially localized<br>to forebrain striatal and hippocampal regions and the<br>function of this receptor is to provide negative feedback<br>limiting the release of acetylcholine",
          "The clinical details of the year olds is tabulated in the<br>Table",
          "The collaborative sites are located at SUNYDownstate Medical<br>Center at Brooklyn University of Connecticut Health Center<br>Washington University School of Medicine in St Louis<br>University of California at San Diego University of Iowa and<br>Indiana University School of Medicine",
          "The control families were interviewed with the SSAGA CSSAGA<br>and underwent the full Stage II protocol",
          "The debate is ongoing however it is likely that both aspects<br>event related activation of neural assemblies and phase<br>resetting of ongoing activity are involved in the generation<br>of late ERP components",
          "The delta band differences reported in alcoholics Kamarajan<br>Jones and offspring of alcoholics and in the present study<br>closely corresponds to P300 differences reported in<br>alcoholics and highrisk subjects",
          "The delta band differences were again widespread whereas the<br>theta band differences were focused in frontal electrode<br>positions",
          "The developmental changes in P300 amplitude and topography<br>have been explored by very few cross sectional normative<br>studies in the visual modality",
          "The developmental increase in phase locking may probably be<br>related to lack of group difference in evoked theta power<br>noted in the present study sample that comprised of<br>adolescent HR",
          "The effect of age is critical in uncovering P300 amplitude<br>differences by alcoholism risk status as suggested by<br>metaanalysis study Polich",
          "The electrophysiological data used in the analysis were<br>derived from visual oddball trials for target cases since<br>our major objective was to compare high risk and controls<br>during target stimulus processing",
          "The evoked response ERO EVK enhances events which are phase<br>locked to the stimulus and reduces all other energy<br>including events which are subject to trial to trial<br>temporal jitter",
          "The exclusion criteria for neurophysiological assessment<br>were as follows Subjects were excluded if breath analyzer<br>test was positive for alcohol hepatic<br>encephalopathycirrhosis of the liver or acutechronic illness<br>were present significant history of head injury seizures or<br>neurosurgical procedures was present uncorrected sensory<br>deficits were manifested tested positive for HIV they were<br>on medication affectinginfluencing brain functioning or had<br>used any psychoactive substances in the past days history or<br>symptom of psychoses was reported symptoms of current<br>depression was present",
          "The finding of low voltage P300 amplitudes in prepubescent<br>sons of alcoholic fathers compared to boys without first or<br>second degree alcoholic relatives in experiments without the<br>administration of alcohol or placebo was first reported by<br>Begleiter",
          "The grand mean waveforms are shown in Fig",
          "The instantaneous amplitude amplitude envelope of the<br>complex valued transform TFR may be calculated by taking the<br>absolute value ST the transform power is the square of the<br>amplitude while the absolutely referenced local phase<br>information can be obtained using arctanð STðt STðt ÞÞ.The<br>transform derived measures used in the analysis presented<br>here were obtained from the single trial and trialaveraged<br>response",
          "The institutional review board at each site approved the<br>research procedures in the COGA study and written consent<br>was obtained from each individual prior to participation",
          "The interstimulus interval was",
          "The largest effect sizes observed were between high and low<br>risk subjects under years old",
          "The lowered P300 amplitude observed in clinical samples of<br>alcoholics has also been established in community samples",
          "The mean P300 amplitudes at P3 and Pz electrode positions<br>were higher in LR individuals when compared to the HR<br>individuals and almost equal at P4",
          "The nose served as reference and the forehead was the ground<br>electrode",
          "The post hoc comparisons test at each electrode revealed<br>interesting differences for delta and theta bands Tables and",
          "The present study strongly indicates adolescent offspring of<br>alcoholics HR appear to have weaker or possibly less<br>organized theta system than the control LR subjects and<br>reduced post stimulus theta power may be strong<br>endophenotype for alcoholism and related disorders",
          "The primary purpose of the present study was to assess if<br>the low theta and delta band power seen previously in the<br>alcohol dependent subjects were trait markers for alcoholism",
          "The protocol of determining and establishing an<br>endophenotype has also been refined in the process Porjesz",
          "The reduction in total power was most prominent for the<br>theta band and the topography was centroparietal the delta<br>band changes were less robust but significant and largely<br>parietal in location",
          "The responses to task unrelated rare stimulus produces the<br>P3a which is more pronounced frontally while the responses<br>to the task related rare stimulus target produces the P3b<br>which has parietal maxima",
          "The responses to the Go condition had reduced delta band<br>power in the parietal occipital and frontal regions",
          "The responses to the Go condition in this task are similar<br>to the oddball target condition although the stimuli used in<br>the task are different",
          "The results from those studies strongly support the present<br>study that extends similar findings into HR adolescent<br>population",
          "The samples were matched for age but not matched on drug use<br>and other Axis conditions since the reported rates for some<br>conditions in subjects with family history of alcoholism are<br>elevated over normal population levels Cuijpers Nurnberger<br>Sher",
          "The sampling rate was Hz",
          "The similar results from our laboratory across two paradigms<br>indicate that the ERO measures are stable and consistent<br>across the two age groups adults and adolescents in<br>discriminating the affected and risk states",
          "The stimulus locked theta state may reflect processing stage<br>during which interfering activations from other frequency<br>networks are minimized Yordanova",
          "The study results show that HR adolescents have reduced<br>total theta Hz and delta Hz power in the to ms time window<br>after the target stimulus",
          "The time window was based on the temporal extent of the P300<br>component in the event related waveform for targets see Figs<br>and",
          "The topography of reduced theta power as reported for<br>alcoholics involves topographically frontal component<br>Kamarajan",
          "The topography of the group differences between HR and LR<br>adolescents in the present study was strongly central and<br>parietal for the total theta power",
          "The total TFR distribution was acquired by calculating an<br>average of each TFR distribution of individual target trials<br>after they were baseline corrected to remove DC shifts",
          "The total TFR representation when compared to the evoked TFR<br>data show greater amounts of energy occurring throughout the<br>trial period at both high and low frequencies",
          "The total epoch length used for analysis was ms this<br>included ms pre stimulus baseline",
          "The total power response ERO TOT enhances events that occur<br>in similar time range as related to the stimulus onset and<br>irrespective of their phase relations",
          "The transform TFR is computed by shifting the window<br>function down the signal in time across range of frequencies",
          "The transform TFR is computed by shifting the window<br>function down the signal in time across range of frequencies",
          "The transform generates time frequency representation TFR of<br>signal by integrating the signal at each time point with<br>series of windowed harmonics of various frequencies",
          "The transform is generalization of the Gabor transform and<br>an extension to the continuous wavelet transform",
          "The transition in the ERP waveform occurs in the midteens<br>and was suggested to reflect differences in the way children<br>and adults categorize events",
          "The trial averaged data for target cases were used to obtain<br>the evoked TFR",
          "The underlying mechanism of impaired organization may<br>involve the cholinergic systems",
          "The usual manifestation of alcoholism is as part of class of<br>disinhibitory disorders which includes co occurring<br>substance abuse and psychiatric disorders",
          "The window function is Gaussian and scales in width<br>according to the examined frequency",
          "The window function is Gaussian with variance and scales in<br>width according to the examined frequency",
          "There is considerable debate if these frequency bands are<br>independent functional entities from the P300 component",
          "There is convincing evidence that EEG oscillations in the<br>theta frequency range about Hz are related to working memory<br>tasks for an extensive review see",
          "Therefore individuals with suppressed delta and theta<br>responses are likely to show deficits in cognitive functions<br>that are mediated by these oscillatory processes",
          "These findings were not observed for the equivalent non<br>target case data suggesting role for the CHRM2 gene in<br>higher cognitive processing in humans",
          "These findings were not observed for the equivalent<br>nontarget case data",
          "These frequency windows theta and delta have been selected<br>based on the well known natural frequencies of brain rhythms<br>i.e delta theta alpha beta and gamma which have been related<br>in the literature to various cognitive functions and brain<br>states",
          "These neuroelectric oscillations when analyzed in the<br>context of stimulus related brain function can be termed<br>event related oscillations or EROs",
          "Theta band differences were stronger and significant at the<br>three central C3 Cz C4 and parietal P3 Pz P4 electrodes",
          "They observe lower starting amplitudes and slower decrease<br>in visual P300 amplitudes with age in high risk boys and<br>faster growth rate and higher amplitudes of P300 in high<br>risk girls in contrast to the respective low risk groups",
          "This implies that it is the oscillations theta and delta<br>rather than the event related potentials P300 that reflect<br>closer association with CNS structure and function<br>associated with the underlying vulnerability i2pf ds where<br>is the time domain signal is frequency is translation<br>parameter the first exponential is the window function and<br>the second exponential is the harmonic function",
          "This inverse dependence of the width of the Gaussian window<br>with frequency provides the frequency dependent resolution",
          "This inverse dependence of the width of the Gaussian window<br>with frequency provides the frequency dependent resolution<br>multiresolution",
          "This issue is underscored by another study from our group<br>when similar analyses were conducted on an adult population<br>significant evoked theta differences were noted",
          "This method has been previously described in genetic linkage<br>study of delta and theta EROs during the same visual oddball<br>paradigm employed in the present study see Appendix",
          "This phasic power enhancement is related to memory<br>performance Klimesch Klimesch as well as to task load Gevins",
          "This reflects the inclusion of energy which is not phase<br>locked to the stimulus onset in the ERO TOT measure total<br>power response",
          "This reflects the inclusion of energy which is not phase<br>locked to the stimulus onset in the total power response",
          "This state was consistently determined by synchronized theta<br>oscillations and had specific anterior distribution",
          "This study focused on TFROI corresponding to the theta Hz<br>and delta Hz frequency band in the to ms time window",
          "This study was designed to evaluate the neural oscillatory<br>activity in the theta and delta frequency ranges within the<br>temporal window of the P300 response to the visual target in<br>adolescent offspring of alcoholics who are considered at<br>high risk for developing alcoholism",
          "This suggests that time locked frequencies in the delta band<br>may contribute strongly to group differences and explain the<br>association with the P300 component",
          "This temporal jitter is less likely to affect the averaging<br>of the lower frequency delta band oscillations due to the<br>lower temporal resolution therefore the evoked power measure<br>may adequately represent the delta EROs",
          "To obtain an estimate of event related phase locked power<br>response ERO EVK the Stransform TFR power matrix was<br>calculated for the averaged event related response single<br>trial data averaged after alignment to the stimulus onset<br>per individual",
          "To obtain an estimate of event related total power response<br>ERO TOT stimulus onset phase locked plus non phase locked<br>oscillations the squared instantaneous amplitudes power of<br>the transform TFR were averaged across single trials for<br>each individual",
          "To obtain estimates of localized power of<br>nonstationaryevoked potential time series we employed<br>recently developed time frequency representation method the<br>transform Stockwell",
          "To summarize the theta and delta post stimulus oscillations<br>are remarkably reduced in adolescent offspring of alcoholics",
          "Total power time frequency distributions for theta and delta<br>band and their topographic spread is illustrated in Figs and",
          "Trial averaging of the ERP waveform will diminish<br>imperfectly phase locked theta band oscillations in the<br>evoked power measure while the total power measure will<br>retain this energy and therefore provide better estimate of<br>evoked theta EROs",
          "Two competing theories have tried to explain the genesis of<br>averaged eventrelated potential ERP features and dominate<br>the current literature Evoked model that ERPs originate from<br>an event related activation of neural assemblies distinct<br>from background dynamics and Phase reset model that ERPs are<br>produced by phase resetting of ongoing oscillatory activity<br>Makeig Tallon Baudry",
          "Two groups of subjects in the age range of years were<br>selected from the COGA and Control families",
          "Two types of time frequency response TFR distributions were<br>created using the transform",
          "Using Go No Go tasks several studies from our laboratory<br>have shown P300 delta and theta power differences in<br>alcoholics and high risk individuals",
          "Using electrophysiological measures as endophenotypes is<br>proving to be very useful tool in the study of psychiatric<br>genetics",
          "Van der Stelt",
          "We have attempted to examine phase locked frequency band<br>changes by examining evoked power in these bands in order to<br>assess nonphase locked contributions which is difficult to<br>quantify we have opted to compare total power which includes<br>both types in these bands",
          "We have previously demonstrated that power in theta and<br>delta bands in the ms window were significantly lower in<br>adult alcoholics when compared with age matched controls",
          "detailed description of the COGA recruitment procedure has<br>been described previously Begleiter",
          "meta analysis concluded that low P300 may have predictive<br>value as an index of vulnerability for alcoholism Polich"
         ],
         "type": "bar",
         "x": [
          0,
          1,
          2,
          3,
          4,
          5,
          6,
          7,
          8,
          9,
          10,
          11,
          12,
          13,
          14,
          15,
          16,
          17,
          18,
          19,
          20,
          21,
          22,
          23,
          24,
          25,
          26,
          27,
          28,
          29,
          30,
          31,
          32,
          33,
          34,
          35,
          36,
          37,
          38,
          39,
          40,
          41,
          42,
          43,
          44,
          45,
          46,
          47,
          48,
          49,
          50,
          51,
          52,
          53,
          54,
          55,
          56,
          57,
          58,
          59,
          60,
          61,
          62,
          63,
          64,
          65,
          66,
          67,
          68,
          69,
          70,
          71,
          72,
          73,
          74,
          75,
          76,
          77,
          78,
          79,
          80,
          81,
          82,
          83,
          84,
          85,
          86,
          87,
          88,
          89,
          90,
          91,
          92,
          93,
          94,
          95,
          96,
          97,
          98,
          99,
          100,
          101,
          102,
          103,
          104,
          105,
          106,
          107,
          108,
          109,
          110,
          111,
          112,
          113,
          114,
          115,
          116,
          117,
          118,
          119,
          120,
          121,
          122,
          123,
          124,
          125,
          126,
          127,
          128,
          129,
          130,
          131,
          132,
          133,
          134,
          135,
          136,
          137,
          138,
          139,
          140,
          141,
          142,
          143,
          144,
          145,
          146,
          147,
          148,
          149,
          150,
          151,
          152,
          153,
          154,
          155,
          156,
          157,
          158,
          159,
          160,
          161,
          162,
          163,
          164,
          165,
          166,
          167,
          168,
          169,
          170,
          171,
          172,
          173,
          174,
          175,
          176,
          177,
          178,
          179,
          180,
          181,
          182,
          183,
          184,
          185,
          186,
          187,
          188,
          189,
          190,
          191,
          192,
          193,
          194,
          195,
          196,
          197,
          198,
          199,
          200,
          201,
          202,
          203,
          204,
          205,
          206,
          207,
          208,
          209,
          210,
          211,
          212,
          213,
          214,
          215,
          216,
          217,
          218,
          219,
          220,
          221,
          222,
          223,
          224,
          225,
          226,
          227,
          228,
          229
         ],
         "y": [
          0.43528860889270227,
          0.47289203610713065,
          0.31394032446413206,
          0.4632278885527533,
          0.4458669188705896,
          0.47938027938181554,
          0.5397120507262413,
          0.547372870205931,
          0.5599178124770764,
          0.5989662588964273,
          0.2909707070290932,
          0.2909707070290932,
          0.2709013388603957,
          0.2709013388603957,
          0.2709013388603957,
          0.2709013388603957,
          0.24431200202350475,
          0.24431200202350475,
          0.4368124634325827,
          0.29451588038470966,
          0.285639623745637,
          0.2813615010840749,
          0.35700288974507516,
          0.2817762509769028,
          0.3178888980924773,
          0.35199082842876545,
          0.2864860001824926,
          0.27869227605881897,
          0.27869227605881897,
          0.5590109831462575,
          0.429416963261542,
          0.3474053650266819,
          0.4865388526207229,
          0.4108520851588347,
          0.25476939847116636,
          0.4515259934312344,
          0.3400129922949361,
          0.4124556908496875,
          0.4046441527216939,
          0.35976099882517737,
          0.5099480955529199,
          0.3592020850154853,
          0.3846295747530697,
          0.35812988174952476,
          0.471646522270333,
          0.457163416629215,
          0.43717027397613656,
          0.28313044251845,
          0.39631077878943266,
          0.4404204111063394,
          0.41323941102623385,
          0.3971618597620196,
          0.38230345532959353,
          0.5110397833226219,
          0.41091323457897144,
          0.43192198184020003,
          0.39612785253875615,
          0.3728208933907614,
          0.2514831843087719,
          0.42414400714620404,
          0.4828991356806967,
          0.4275265705267557,
          0.4564949378046349,
          0.4329244950274734,
          0.4497373949164102,
          0.5045875660262938,
          0.406126069252264,
          0.46753594525570613,
          0.4751088931531566,
          0.5039803778777188,
          0.4740639250226863,
          0.2778362882140507,
          0.2778362882140507,
          0.2778362882140507,
          0.443484524436267,
          0.39229798898549,
          0.3018705599794488,
          0.31404484072329947,
          0.3332396215596752,
          0.2641300138218903,
          0.2641300138218903,
          0.44316209464051537,
          0.5034945240874402,
          0.49096434235363684,
          0.5718983320656408,
          0.5900536884953655,
          0.420266699805722,
          0.5122859548652516,
          0.39088194446169594,
          0.4737589820185785,
          0.575682570681998,
          0.5436749220697713,
          0.44897369070782456,
          0.5141425094924972,
          0.24689763366390235,
          0.3321627399142146,
          0.437561733019303,
          0.5484984652196869,
          0.470718748026135,
          0.2765448746284333,
          0.30200555777263466,
          0.49781081510608355,
          0.45659844006097666,
          0.4560329060165346,
          0.24009516920388252,
          0.46554295834483966,
          0.3422107905388541,
          0.349351247315782,
          0.5239129835267393,
          0.5059184198151384,
          0.6759242085004444,
          0.498111470941252,
          0.39504556812091723,
          0.40191032018571243,
          0.5930011895596251,
          0.37483151808989373,
          0.3856907147780044,
          0.4285714089083902,
          0.5308491448053086,
          0.4215445232408173,
          0.4547616366729876,
          0.41782337396152786,
          0.49219646288650226,
          0.4561783409408891,
          0.4186001091650843,
          0.5261770691707338,
          0.4154165646121788,
          0.594161472711469,
          0.4807151851859205,
          0.35310316910930056,
          0.35982233729729757,
          0.28850858348003683,
          0.5724584756258664,
          0.3626078293815575,
          0.43170185170541064,
          0.39610852996621454,
          0.35341378598829165,
          0.47793159612087993,
          0.5744344780018015,
          0.4655713715291813,
          0.39904343590073005,
          0.3927219208374444,
          0.3440282995069462,
          0.5036089908697765,
          0.4324573210211137,
          0.3920906936957953,
          0.44682076617030875,
          0.439953145489249,
          0.5641013254475941,
          0.3594398065247439,
          0.455102913873292,
          0.5487700550758741,
          0.5077798148027016,
          0.4080098822478852,
          0.30596486558902025,
          0.33582201652904065,
          0.27896090133696294,
          0.4673643029355785,
          0.5103260775604301,
          0.393852934865568,
          0.29529096807345817,
          0.4057502527714821,
          0.7190380497515356,
          0.4809994997904069,
          0.31597510941782203,
          0.45492669696821175,
          0.4248937339223764,
          0.44807620895969064,
          0.3247545157019014,
          0.43183904655655875,
          0.49635690636127,
          0.2801965253706446,
          0.4206956737042978,
          0.45025574620614395,
          0.3536207508330041,
          0.38840611557148025,
          0.4495321727114678,
          0.4601951115070264,
          0.31923253346455627,
          0.37258797692241985,
          0.37625267219010433,
          0.41783409463988774,
          0.28949698353096487,
          0.28949698353096487,
          0.2856611168282384,
          0.26344872842268513,
          0.3798064293272023,
          0.40454178091775117,
          0.49074734960195515,
          0.5830847712497372,
          0.3174728955472029,
          0.3063067905447932,
          0.34614274867964884,
          0.5296594702282179,
          0.4860236610532537,
          0.5309627842272843,
          0.4002100621187237,
          0.49492918069426706,
          0.4035090001018189,
          0.4369003590766799,
          0.48089855959860073,
          0.3306754628700427,
          0.2856656704491479,
          0.2986991418162588,
          0.43260283870176397,
          0.45360678238924956,
          0.3808303066705345,
          0.38117310780410046,
          0.32423367179159895,
          0.47772887470172865,
          0.4128539110054562,
          0.5307966680950621,
          0.42739626644069373,
          0.3202660539913371,
          0.41737103806076137,
          0.30193292878075295,
          0.3637699893048987,
          0.5884066311400352,
          0.2919141246948964,
          0.3031418709591178,
          0.5887460610741663,
          0.3819694239385883,
          0.323482888111986,
          0.4525817499829267,
          0.4920109045510774,
          0.27140336366768036,
          0.39525523735733287,
          0.4479309504482182,
          0.4475591746366254,
          0.5234959039505238
         ]
        }
       ],
       "layout": {
        "height": 280,
        "hoverlabel": {
         "bgcolor": "white",
         "font": {
          "family": "Rockwell",
          "size": 13
         }
        },
        "margin": {
         "b": 5,
         "l": 5,
         "r": 5,
         "t": 5
        },
        "template": {
         "data": {
          "bar": [
           {
            "error_x": {
             "color": "#2a3f5f"
            },
            "error_y": {
             "color": "#2a3f5f"
            },
            "marker": {
             "line": {
              "color": "#E5ECF6",
              "width": 0.5
             }
            },
            "type": "bar"
           }
          ],
          "barpolar": [
           {
            "marker": {
             "line": {
              "color": "#E5ECF6",
              "width": 0.5
             }
            },
            "type": "barpolar"
           }
          ],
          "carpet": [
           {
            "aaxis": {
             "endlinecolor": "#2a3f5f",
             "gridcolor": "white",
             "linecolor": "white",
             "minorgridcolor": "white",
             "startlinecolor": "#2a3f5f"
            },
            "baxis": {
             "endlinecolor": "#2a3f5f",
             "gridcolor": "white",
             "linecolor": "white",
             "minorgridcolor": "white",
             "startlinecolor": "#2a3f5f"
            },
            "type": "carpet"
           }
          ],
          "choropleth": [
           {
            "colorbar": {
             "outlinewidth": 0,
             "ticks": ""
            },
            "type": "choropleth"
           }
          ],
          "contour": [
           {
            "colorbar": {
             "outlinewidth": 0,
             "ticks": ""
            },
            "colorscale": [
             [
              0,
              "#0d0887"
             ],
             [
              0.1111111111111111,
              "#46039f"
             ],
             [
              0.2222222222222222,
              "#7201a8"
             ],
             [
              0.3333333333333333,
              "#9c179e"
             ],
             [
              0.4444444444444444,
              "#bd3786"
             ],
             [
              0.5555555555555556,
              "#d8576b"
             ],
             [
              0.6666666666666666,
              "#ed7953"
             ],
             [
              0.7777777777777778,
              "#fb9f3a"
             ],
             [
              0.8888888888888888,
              "#fdca26"
             ],
             [
              1,
              "#f0f921"
             ]
            ],
            "type": "contour"
           }
          ],
          "contourcarpet": [
           {
            "colorbar": {
             "outlinewidth": 0,
             "ticks": ""
            },
            "type": "contourcarpet"
           }
          ],
          "heatmap": [
           {
            "colorbar": {
             "outlinewidth": 0,
             "ticks": ""
            },
            "colorscale": [
             [
              0,
              "#0d0887"
             ],
             [
              0.1111111111111111,
              "#46039f"
             ],
             [
              0.2222222222222222,
              "#7201a8"
             ],
             [
              0.3333333333333333,
              "#9c179e"
             ],
             [
              0.4444444444444444,
              "#bd3786"
             ],
             [
              0.5555555555555556,
              "#d8576b"
             ],
             [
              0.6666666666666666,
              "#ed7953"
             ],
             [
              0.7777777777777778,
              "#fb9f3a"
             ],
             [
              0.8888888888888888,
              "#fdca26"
             ],
             [
              1,
              "#f0f921"
             ]
            ],
            "type": "heatmap"
           }
          ],
          "heatmapgl": [
           {
            "colorbar": {
             "outlinewidth": 0,
             "ticks": ""
            },
            "colorscale": [
             [
              0,
              "#0d0887"
             ],
             [
              0.1111111111111111,
              "#46039f"
             ],
             [
              0.2222222222222222,
              "#7201a8"
             ],
             [
              0.3333333333333333,
              "#9c179e"
             ],
             [
              0.4444444444444444,
              "#bd3786"
             ],
             [
              0.5555555555555556,
              "#d8576b"
             ],
             [
              0.6666666666666666,
              "#ed7953"
             ],
             [
              0.7777777777777778,
              "#fb9f3a"
             ],
             [
              0.8888888888888888,
              "#fdca26"
             ],
             [
              1,
              "#f0f921"
             ]
            ],
            "type": "heatmapgl"
           }
          ],
          "histogram": [
           {
            "marker": {
             "colorbar": {
              "outlinewidth": 0,
              "ticks": ""
             }
            },
            "type": "histogram"
           }
          ],
          "histogram2d": [
           {
            "colorbar": {
             "outlinewidth": 0,
             "ticks": ""
            },
            "colorscale": [
             [
              0,
              "#0d0887"
             ],
             [
              0.1111111111111111,
              "#46039f"
             ],
             [
              0.2222222222222222,
              "#7201a8"
             ],
             [
              0.3333333333333333,
              "#9c179e"
             ],
             [
              0.4444444444444444,
              "#bd3786"
             ],
             [
              0.5555555555555556,
              "#d8576b"
             ],
             [
              0.6666666666666666,
              "#ed7953"
             ],
             [
              0.7777777777777778,
              "#fb9f3a"
             ],
             [
              0.8888888888888888,
              "#fdca26"
             ],
             [
              1,
              "#f0f921"
             ]
            ],
            "type": "histogram2d"
           }
          ],
          "histogram2dcontour": [
           {
            "colorbar": {
             "outlinewidth": 0,
             "ticks": ""
            },
            "colorscale": [
             [
              0,
              "#0d0887"
             ],
             [
              0.1111111111111111,
              "#46039f"
             ],
             [
              0.2222222222222222,
              "#7201a8"
             ],
             [
              0.3333333333333333,
              "#9c179e"
             ],
             [
              0.4444444444444444,
              "#bd3786"
             ],
             [
              0.5555555555555556,
              "#d8576b"
             ],
             [
              0.6666666666666666,
              "#ed7953"
             ],
             [
              0.7777777777777778,
              "#fb9f3a"
             ],
             [
              0.8888888888888888,
              "#fdca26"
             ],
             [
              1,
              "#f0f921"
             ]
            ],
            "type": "histogram2dcontour"
           }
          ],
          "mesh3d": [
           {
            "colorbar": {
             "outlinewidth": 0,
             "ticks": ""
            },
            "type": "mesh3d"
           }
          ],
          "parcoords": [
           {
            "line": {
             "colorbar": {
              "outlinewidth": 0,
              "ticks": ""
             }
            },
            "type": "parcoords"
           }
          ],
          "pie": [
           {
            "automargin": true,
            "type": "pie"
           }
          ],
          "scatter": [
           {
            "marker": {
             "colorbar": {
              "outlinewidth": 0,
              "ticks": ""
             }
            },
            "type": "scatter"
           }
          ],
          "scatter3d": [
           {
            "line": {
             "colorbar": {
              "outlinewidth": 0,
              "ticks": ""
             }
            },
            "marker": {
             "colorbar": {
              "outlinewidth": 0,
              "ticks": ""
             }
            },
            "type": "scatter3d"
           }
          ],
          "scattercarpet": [
           {
            "marker": {
             "colorbar": {
              "outlinewidth": 0,
              "ticks": ""
             }
            },
            "type": "scattercarpet"
           }
          ],
          "scattergeo": [
           {
            "marker": {
             "colorbar": {
              "outlinewidth": 0,
              "ticks": ""
             }
            },
            "type": "scattergeo"
           }
          ],
          "scattergl": [
           {
            "marker": {
             "colorbar": {
              "outlinewidth": 0,
              "ticks": ""
             }
            },
            "type": "scattergl"
           }
          ],
          "scattermapbox": [
           {
            "marker": {
             "colorbar": {
              "outlinewidth": 0,
              "ticks": ""
             }
            },
            "type": "scattermapbox"
           }
          ],
          "scatterpolar": [
           {
            "marker": {
             "colorbar": {
              "outlinewidth": 0,
              "ticks": ""
             }
            },
            "type": "scatterpolar"
           }
          ],
          "scatterpolargl": [
           {
            "marker": {
             "colorbar": {
              "outlinewidth": 0,
              "ticks": ""
             }
            },
            "type": "scatterpolargl"
           }
          ],
          "scatterternary": [
           {
            "marker": {
             "colorbar": {
              "outlinewidth": 0,
              "ticks": ""
             }
            },
            "type": "scatterternary"
           }
          ],
          "surface": [
           {
            "colorbar": {
             "outlinewidth": 0,
             "ticks": ""
            },
            "colorscale": [
             [
              0,
              "#0d0887"
             ],
             [
              0.1111111111111111,
              "#46039f"
             ],
             [
              0.2222222222222222,
              "#7201a8"
             ],
             [
              0.3333333333333333,
              "#9c179e"
             ],
             [
              0.4444444444444444,
              "#bd3786"
             ],
             [
              0.5555555555555556,
              "#d8576b"
             ],
             [
              0.6666666666666666,
              "#ed7953"
             ],
             [
              0.7777777777777778,
              "#fb9f3a"
             ],
             [
              0.8888888888888888,
              "#fdca26"
             ],
             [
              1,
              "#f0f921"
             ]
            ],
            "type": "surface"
           }
          ],
          "table": [
           {
            "cells": {
             "fill": {
              "color": "#EBF0F8"
             },
             "line": {
              "color": "white"
             }
            },
            "header": {
             "fill": {
              "color": "#C8D4E3"
             },
             "line": {
              "color": "white"
             }
            },
            "type": "table"
           }
          ]
         },
         "layout": {
          "annotationdefaults": {
           "arrowcolor": "#2a3f5f",
           "arrowhead": 0,
           "arrowwidth": 1
          },
          "coloraxis": {
           "colorbar": {
            "outlinewidth": 0,
            "ticks": ""
           }
          },
          "colorscale": {
           "diverging": [
            [
             0,
             "#8e0152"
            ],
            [
             0.1,
             "#c51b7d"
            ],
            [
             0.2,
             "#de77ae"
            ],
            [
             0.3,
             "#f1b6da"
            ],
            [
             0.4,
             "#fde0ef"
            ],
            [
             0.5,
             "#f7f7f7"
            ],
            [
             0.6,
             "#e6f5d0"
            ],
            [
             0.7,
             "#b8e186"
            ],
            [
             0.8,
             "#7fbc41"
            ],
            [
             0.9,
             "#4d9221"
            ],
            [
             1,
             "#276419"
            ]
           ],
           "sequential": [
            [
             0,
             "#0d0887"
            ],
            [
             0.1111111111111111,
             "#46039f"
            ],
            [
             0.2222222222222222,
             "#7201a8"
            ],
            [
             0.3333333333333333,
             "#9c179e"
            ],
            [
             0.4444444444444444,
             "#bd3786"
            ],
            [
             0.5555555555555556,
             "#d8576b"
            ],
            [
             0.6666666666666666,
             "#ed7953"
            ],
            [
             0.7777777777777778,
             "#fb9f3a"
            ],
            [
             0.8888888888888888,
             "#fdca26"
            ],
            [
             1,
             "#f0f921"
            ]
           ],
           "sequentialminus": [
            [
             0,
             "#0d0887"
            ],
            [
             0.1111111111111111,
             "#46039f"
            ],
            [
             0.2222222222222222,
             "#7201a8"
            ],
            [
             0.3333333333333333,
             "#9c179e"
            ],
            [
             0.4444444444444444,
             "#bd3786"
            ],
            [
             0.5555555555555556,
             "#d8576b"
            ],
            [
             0.6666666666666666,
             "#ed7953"
            ],
            [
             0.7777777777777778,
             "#fb9f3a"
            ],
            [
             0.8888888888888888,
             "#fdca26"
            ],
            [
             1,
             "#f0f921"
            ]
           ]
          },
          "colorway": [
           "#636efa",
           "#EF553B",
           "#00cc96",
           "#ab63fa",
           "#FFA15A",
           "#19d3f3",
           "#FF6692",
           "#B6E880",
           "#FF97FF",
           "#FECB52"
          ],
          "font": {
           "color": "#2a3f5f"
          },
          "geo": {
           "bgcolor": "white",
           "lakecolor": "white",
           "landcolor": "#E5ECF6",
           "showlakes": true,
           "showland": true,
           "subunitcolor": "white"
          },
          "hoverlabel": {
           "align": "left"
          },
          "hovermode": "closest",
          "mapbox": {
           "style": "light"
          },
          "paper_bgcolor": "white",
          "plot_bgcolor": "#E5ECF6",
          "polar": {
           "angularaxis": {
            "gridcolor": "white",
            "linecolor": "white",
            "ticks": ""
           },
           "bgcolor": "#E5ECF6",
           "radialaxis": {
            "gridcolor": "white",
            "linecolor": "white",
            "ticks": ""
           }
          },
          "scene": {
           "xaxis": {
            "backgroundcolor": "#E5ECF6",
            "gridcolor": "white",
            "gridwidth": 2,
            "linecolor": "white",
            "showbackground": true,
            "ticks": "",
            "zerolinecolor": "white"
           },
           "yaxis": {
            "backgroundcolor": "#E5ECF6",
            "gridcolor": "white",
            "gridwidth": 2,
            "linecolor": "white",
            "showbackground": true,
            "ticks": "",
            "zerolinecolor": "white"
           },
           "zaxis": {
            "backgroundcolor": "#E5ECF6",
            "gridcolor": "white",
            "gridwidth": 2,
            "linecolor": "white",
            "showbackground": true,
            "ticks": "",
            "zerolinecolor": "white"
           }
          },
          "shapedefaults": {
           "line": {
            "color": "#2a3f5f"
           }
          },
          "ternary": {
           "aaxis": {
            "gridcolor": "white",
            "linecolor": "white",
            "ticks": ""
           },
           "baxis": {
            "gridcolor": "white",
            "linecolor": "white",
            "ticks": ""
           },
           "bgcolor": "#E5ECF6",
           "caxis": {
            "gridcolor": "white",
            "linecolor": "white",
            "ticks": ""
           }
          },
          "title": {
           "x": 0.05
          },
          "xaxis": {
           "automargin": true,
           "gridcolor": "white",
           "linecolor": "white",
           "ticks": "",
           "title": {
            "standoff": 15
           },
           "zerolinecolor": "white",
           "zerolinewidth": 2
          },
          "yaxis": {
           "automargin": true,
           "gridcolor": "white",
           "linecolor": "white",
           "ticks": "",
           "title": {
            "standoff": 15
           },
           "zerolinecolor": "white",
           "zerolinewidth": 2
          }
         }
        },
        "title": {
         "text": ""
        },
        "width": 400,
        "xaxis": {
         "showticklabels": false,
         "title": {
          "text": ""
         }
        },
        "yaxis": {
         "title": {
          "text": "Similarity to context"
         }
        }
       }
      },
      "text/html": [
       "<div>\n",
       "        \n",
       "        \n",
       "            <div id=\"4f1cf592-2dff-4171-b23f-270bb668c7cd\" class=\"plotly-graph-div\" style=\"height:280px; width:400px;\"></div>\n",
       "            <script type=\"text/javascript\">\n",
       "                require([\"plotly\"], function(Plotly) {\n",
       "                    window.PLOTLYENV=window.PLOTLYENV || {};\n",
       "                    \n",
       "                if (document.getElementById(\"4f1cf592-2dff-4171-b23f-270bb668c7cd\")) {\n",
       "                    Plotly.newPlot(\n",
       "                        '4f1cf592-2dff-4171-b23f-270bb668c7cd',\n",
       "                        [{\"hovertext\": [\"Age was not used in the model since preliminary analysis<br>revealed near zero correlation with the total and evoked<br>power data and the groups had narrow age range and no<br>significant mean age difference see Table for mean age for<br>the two groups\", \"Alcoholic probands were recruited from inpatient and<br>outpatient treatment facilities and they and their first<br>degree relatives were interviewed with the SSAGA Semi<br>Structured Assessment of Genetics of Alcoholism semi<br>structured diagnostic psychiatric interview schedule<br>designed by COGA investigators Bucholz Hesselbrock\", \"All six collaborating sites used identical experimental<br>procedures and EEG acquisition hardware and software\", \"Alternatively the differences may arise due to altered<br>topography of the cognitive potentials in younger versus the<br>older subjects\", \"Although an enhancement of EEG power is thought to<br>correspond to an activation of larger number of neural<br>assemblies Lopes da the interpretation of increased<br>intertrial phase locking is more difficult to define\", \"Although there are no significant gender effects analyzing<br>both genders as one sample could increase the variability of<br>P300 amplitudes observed here\", \"Although there are no studies that report developmental<br>changes in the visual modality one could speculate that the<br>changes could be of similar nature to the one reported for<br>auditory modality\", \"An interesting issue that is highlighted by the genetic<br>studies of theta and delta oscillations is that these<br>measures have provided significant clues to associations<br>with transmitter related genes GABA receptor gene and<br>resting EEG beta band Porjesz\", \"Another study reported increased coupling of theta<br>oscillations between prefrontal and parietal cortices during<br>the retention interval of memory tasks Sarnthein\", \"As discussed earlier there is much evidence in the<br>literature on lowered P300 in adolescents associated with<br>family history of alcoholism\", \"Basar\", \"Basar\", \"Basar Eroglu\", \"Basar Eroglu\", \"Basar Eroglu\", \"Basar Eroglu\", \"Basar Eroglu and\", \"Basar Eroglu and\", \"Based on the indications of most past research studies on<br>visual P300 in alcoholism and risk the ERP component of<br>interest in this study was the parietal P300 Porjesz\", \"Begleiter\", \"Benegal\", \"Berman\", \"CHRM2 and theta and delta band for oddball targets\", \"Cohen\", \"Connor Connor\", \"Control families were recruited from HMOs drivers license<br>records and dental clinics with the objective of being<br>representative of the general population at each site\", \"Courchesne\", \"Demiralp\", \"Demiralp\", \"Developmental changes in the event related theta response<br>have been reported by one study for the auditory stimulus<br>response in children between the ages of to years and adults<br>between the ages of and years\", \"During actual retrieval however theta oscillations were<br>reversed and spread from posterior to anterior sites\", \"EEG segments from channels F3 Fz F4 C3 Cz C4 P3 Pz and P4<br>were used in order to assess topographic aspects of the ERO<br>measures\", \"EEG theta power was reported to increase when information is<br>encoded Klimesch or retrieved Klimesch from long term memory\", \"Each subject wore fitted electrode cap Electro Cap<br>International Inc Eaton OH using the channel montage as<br>specified according to the International system FP1 FP2 F7<br>F3 Fz F4 F8 T7 C3 Cz C4 T8 P7 P3 Pz P4 P8 O1 and O2\", \"Ehlers Ehlers\", \"Electrode impedances were always maintained below Electrical<br>activity was amplified times by Sensorium EPA<br>Electrophysiology amplifiers Charlotte VT with band pass<br>between Hz and Hz and digitized on computer Concurrent<br>Computer Corp Atlanta GA\", \"Electrooculogram EOG was recorded from electrodes placed<br>supraorbitally and at the outer canthus of the left eye\", \"Evidence suggests that ERP features arise from<br>superpositioned neuroelectric oscillations modulated or<br>produced by sensory and cognitive processes set into the<br>dynamics of ongoing EEG rhythms\", \"Evoked delta power on the other hand revealed highly<br>significant group differences overall\", \"Evoked power which highlights the phase locked oscillatory<br>components revealed no significant differences between the<br>groups for the theta band although it was observed that the<br>HR had lower values than LR\", \"Evoked theta power was not significantly different between<br>the two groups although few electrode locations in central<br>and parietal regions showed weakly significant differences\", \"Families in which the proband and two additional first<br>degree relatives met lifetime criteria for alcohol<br>dependence by both Feighner and DSM IIIR criteria were<br>designated Stage II and extended family members were also<br>interviewed\", \"Finally the authors also report on increasing phase locking<br>capabilities with age and suggest that the capacity to<br>produce stable enhanced theta responses probably reaches<br>maturity well beyond the age of years\", \"From the Stage II family members blood was drawn for<br>establishing lymphoblastoid cell lines and biochemical<br>analyses and neurophysiological and neuropsychological<br>assessments were conducted\", \"Functionally authors have proposed that the delta response<br>is mainly related to signal detection and decision making\", \"Furthermore these identified genetic locations also have<br>significant associations with the diagnoses of alcohol<br>dependence Wang In addition recent studies suggested that<br>GABRA2 is significantly associated with childhood conduct<br>disorder symptoms as well as with marijuana dependence and<br>illicit drug dependence Agrawal\", \"Gender main effect and Group Gender interaction effect were<br>not significant Table\", \"Hence the EEG segments for the target case only were used<br>for the time frequency analysis and only the parietal leads<br>P3 Pz and P4 were used for P300 amplitude measurements\", \"Hill and colleagues in their studies on developmental<br>patterns of P300 in children and adolescents postulated that<br>developmental delay resulted in the lowered amplitudes of<br>P300 seen in highrisk children Hill\", \"However many studies have established robust visual P300<br>differences in young adult high risk subjects Porjesz\", \"However significant Group main effect was present only for<br>delta band\", \"However the maximal amplitudes of theta in both time windows<br>were always higher for children when compared to the adults\", \"However the topographic locus of group differences between<br>the high risk and their controls in the present study and<br>the alcoholics and controls as reported in the study of<br>Jones were not similar\", \"However these studies have clearly demonstrated that ERP<br>characteristics change substantially from children to adults\", \"However with more difficult visual paradigms the effect<br>sizes for the two age groups converged\", \"In addition our study using logistic regression procedures<br>suggests that each band theta and delta provides unique<br>information and as composite variable effectively<br>discriminates between control and alcohol dependent subjects\", \"In another study the external stimulus processing produced<br>transient highly ordered microstate that did not depend on<br>stimulus modality\", \"In contrast to the theta band the evoked delta power<br>differences were as strong as or marginally stronger than<br>the total power in the delta band\", \"In effect the transform is method of spectral localization<br>with similarities to the continuous wavelet transform except<br>using the concept of frequency instead of scale\", \"In follow up study on adult high risk offspring the same<br>authors report strongly reduced delta band power in the<br>parietal regions only for the Go condition\", \"In the Go condition strong delta band total ERO deficits for<br>alcoholics were observed over frontal parietal and occipital<br>locations however no theta band differences were noted in<br>alcoholics when compared to the controls Kamarajan\", \"In the high risk adult population the results for the same<br>task revealed parietal delta and theta band total power<br>reductions for the Go condition Kamarajan\", \"In the instances where group effect was significant<br>secondary analysis included tests as post hoc analysis for<br>group differences at each electrode position\", \"In the present study HR adolescents show power deficiencies<br>in both delta and theta bands however theta band differences<br>were stronger using the total power measure while delta<br>differences were marginally better for the evoked power<br>measure\", \"In the present study the delta band differences between the<br>HR and LR subjects closely correspond to P300 differences<br>reported in alcoholics and high risk subjects\", \"In the same genetic study mentioned earlier for the theta<br>band we have also reported significant linkage<br>disequilibrium between target case parietal delta band in<br>visual evoked brain oscillations and cholinergic muscarinic<br>receptor gene CHRM2 SNPs on chromosome\", \"In these studies the go trials closely resemble the target<br>trial used in the present study\", \"It has been suggested by Basar that diffuse and distributed<br>theta system exists in the brain\", \"It has been suggested that delta activity is generated by<br>cortico cortical interactions with some subcortical<br>contributions\", \"It has been suggested that the muscarinic autoreceptor M2<br>controls the cortical excitability by influencing<br>cholinergic and glutamatergic neurotransmission Alcantara<br>Mrzljak\", \"Jones have reported significant linkage and linkage<br>disequilibrium between target case frontal theta band in<br>visual evoked brain oscillations and single nucleotide<br>polymorphism SNP from the cholinergic muscarinic receptor<br>gene CHRM2 on chromosome\", \"Kamarajan\", \"Kamarajan\", \"Kamarajan\", \"Kamarajan in study of oscillations in adult high risk<br>offspring in Go No Go P300 paradigm also report strongly<br>reduced theta band power only in the parietal regions for<br>the Go condition\", \"Kamarajan reported study of oscillations in adult alcoholics<br>in Go No Go P300 paradigm\", \"Karakas\", \"Karakas consider the P300 component to be composed of<br>superimposed delta and theta oscillations\", \"Karakas hypothesized that the delta response represents<br>degrees of consciousness involved during conscious stimulus<br>evaluation and memory updating and that the theta<br>oscillation represents different levels and forms of<br>attention\", \"Klimesch\", \"Klimesch\", \"Klimesch and selective attention and shortterm memory Basar<br>Eroglu Basar\", \"LR control subjects had higher total band power for delta<br>and theta bands in all electrodes when compared to the HR<br>offspring of alcoholics\", \"LR subjects had higher mean evoked band power for delta and<br>theta bands in all electrodes when compared to the HR<br>offspring of alcoholics\", \"Lowered total theta power had frontal focus in adult<br>alcoholics while adolescent high risk subjects manifested<br>centroparietal focus\", \"Many of the same risk factors underlie these common<br>psychiatric disorders and can be explained by small number<br>of underlying factors Kendler\", \"Mean values for both total and evoked power were calculated<br>from the respective TFR amplitude envelope within time<br>frequency regions of interest TFROIs Lachaux specified by<br>frequency band ranges and time intervals\", \"Modality independent transient theta dominated state may<br>reflect processing stage that is obligatory for stimulus<br>evaluation Yordanova\", \"Moreover Hill also report gender differences in the P300<br>growth trajectories\", \"Moreover no significant differences were seen in absolute<br>power of theta band when the resting EEG of the HR and LR<br>subjects were examined Rangaswamy unpublished data and we<br>have previously observed and reported theta power<br>differences in the resting EEG only in alcohol dependent<br>subjects Rangaswamy\", \"On the other hand eventrelated theta oscillations are<br>believed to be related to frontolimbic interactions Basar<br>Karakas Miller and are associated with complex set of<br>cognitive processes including alertness arousal or readiness<br>Basar memory related processes episodic encoding and<br>retrieval processes as revealed by event related<br>desynchronizationsynchronization\", \"One of the important criteria for an endophenotype is that<br>in addition to the affected individuals the trait must also<br>be present in the unaffected relatives and children of the<br>International Journal of Psychophysiology<br>www.elsevier.comlocateijpsycho affected individuals at rate<br>higher than the general population\", \"One possible interpretation of the theta band findings could<br>be related to slight trial to trial temporal jitter<br>variation\", \"Previously published and ongoing studies from our group have<br>examined theta and delta oscillations in adult populations<br>both alcohol dependent and high risk for the standard visual<br>oddball and Go No Go tasks Kamarajan Kamarajan\", \"Ramachandran\", \"Ratsma\", \"Regression analysis suggested that this age related decrease<br>in amplitude resulted from developmental decrease of<br>baseline theta amplitudes in the ongoing EEG theta activity\", \"Results from visual targets in the case control study in<br>adult controls and alcohol dependent subjects revealed that<br>total theta band power and evoked delta band power at the<br>frontal locus Fz best predicts the status of alcohol<br>dependence in an adult population\", \"Robust longitudinal studies of normal developmental changes<br>in P300 are lacking\", \"Rodriguez Holguin\", \"Schurmann\", \"Since the proposal by Stampfer and Basar the importance of<br>the underlying delta and theta brain oscillations in the<br>production of the P300 potential to rare target stimulus has<br>been extensively examined Basar\", \"Some authors believe that delta response may be generated by<br>cortico cortical interactions\", \"Some authors have also shown that evoked theta oscillations<br>spread from anterior to posterior regions during combined<br>short and long term memory task Sauseng\", \"Some early studies have indicated that the main portion of<br>P300 power is not within the theta band but within sub delta<br>and delta bands especially as P300 is virtually abolished<br>with high pass setting at Hz Duncanor Hz\", \"Some studies indicate that event related theta activity may<br>not only contribute directly to P300 waveform expression but<br>may also modify P300 via other processes in the theta<br>frequency channel of the EEG Kolev\", \"Specification of the time windows and further sub windowing<br>of the frequency bands was based on visual inspection of<br>grand mean TFR data and the spatial distribution of grand<br>mean ERO estimates over the scalp\", \"Specification of the time windows for the frequency bands<br>was based on peak latency of the P300 ERP response in the<br>target trials\", \"Studies exploring the time course of oscillatory changes<br>underlying the target stimulus response suggest that delta<br>oscillations contribute considerably and mainly to the P300<br>component Basar Eroglu Demiralp Kolev\", \"Studies on normal individuals indicated that the delta<br>response is possibly related to signal detection and<br>decision making generated by distributed network system\", \"Studies relating to externalizing disorders have shown that<br>general vulnerability is what is passed on to the next<br>generation with each disorder representing different<br>expression of this general vulnerability Hicks Slutske<br>Krueger Jacobson Kendler\", \"Studies suggest that separate analysis of event related<br>power and phase locking changes in cognitive tasks might<br>reveal specific insights into the mechanisms underlying<br>different cognitive functions Fell Shah\", \"Subjects responded with button press to the rare target<br>stimulus the responding hand was alternated across subjects<br>to counterbalance any laterality effects due to responding\", \"Subjects under the age of years were administered the<br>childadolescent version of SSAGA called the CSSAGA\", \"Subjects were participants in the ongoing Collaborative<br>Study on the Genetics of Alcoholism COGA multisite multi<br>stage national consortium designed to study the genetics of<br>alcoholism\", \"Subjects were seated comfortably in dimly lit sound<br>attenuated temperature regulated booth Industrial Acoustics<br>Company Bronx NY and instructed to remain relaxed and<br>respond to the target stimulus with button press with their<br>dominant hand\", \"The Bonferroni correction for multiple comparisons retained<br>significance at all three parietal and two central leads\", \"The HR group had parental diagnosis of alcoholism for either<br>or both parents\", \"The High Risk HR group comprised adolescent offspring of<br>alcoholics males and females from COGA families\", \"The LR sample was controlled for alcoholism and substance<br>useabuse and the base rate of other co occurring conditions<br>in the LR and HR sample was maintained\", \"The Low Risk LR group comprised adolescents males and<br>females from control families in which there were no first<br>degree relatives with diagnosis of DSM IIIR alcohol<br>dependence by direct interview\", \"The No Go condition also revealed strong delta and theta<br>band ERO differences\", \"The P300 amplitude decrements do not recover with abstinence<br>therefore suggesting that reduced P300 amplitude antecedes<br>the development of alcoholism\", \"The P300 amplitude in the parietal leads P3 Pz and P4 was<br>also significantly lower in the HR adolescents when analyzed<br>using multivariate model\", \"The P300 amplitude reduction has been replicated under<br>different experimental conditions with and without alcohol<br>administration in both older and younger subjects at risk in<br>male and female offspring and in subjects of different<br>ethnicities\", \"The P300 amplitudes are also reduced in these subjects but<br>the differences are not as strong as seen for the<br>oscillations thus making case for the oscillations as more<br>stable endophenotype in the study of alcoholism and related<br>disorders\", \"The P300 component is positive going wave that occurs<br>between and ms after significant or rare stimulus and is not<br>related to its physical features\", \"The P300 has been proposed to reflect attentional allocation<br>and context updating processes of working memory cognitive<br>closure and is probably associated with activation of<br>inhibitory processes over widespread cortical areas<br>Birbaumer Rockstroh\", \"The P300 or P3b component of the visual event related<br>potential ERP has proved to be successful endophenotype in<br>the study of alcoholism and an associated spectrum of<br>externalizing disorders Iacono Porjesz\", \"The Visual oddball task consisted of the presentation of<br>three types of visual stimuli non target target and novel<br>each stimulus with ms duration and subtending visual angle<br>of\", \"The age range of subjects in the present study spans mid to<br>late adolescence\", \"The amplitude envelope of the complex valued transform TFR<br>is calculated by taking the absolute value\", \"The amplitude of P300 reflects inhibitory processes of<br>irrelevant stimuli Birbaumer Klimesch while its time of<br>occurrence latency reflects mental processing speed the<br>earlier and larger the P300 the easier the processing\", \"The amplitudes of visual P300 have been reported to decrease<br>with age in children and adolescents\", \"The authors also suggested that the visual P300 amplitudes<br>had theoretical point of convergence around the age of for<br>high risk and low risk subjects\", \"The authors have reported robust P300 amplitude reductions<br>in the parietal region of the alcoholic sample for the Go<br>trials Kamarajan\", \"The authors observed significant developmental decreases in<br>theta response amplitudes in the early ms and late ms time<br>windows of the passive non target and target related epochs\", \"The authors speculate that concentrationdependent mechanism<br>in the cholinergic system may underlie the theta and delta<br>oscillations the latter being generated at lower muscarinic<br>activities\", \"The average peak latency of the P300 for all subjects was ms<br>Total and evoked band power in the theta and delta band in<br>channels F3 Fz F4 C3 Cz C4 P3 Pz and P4 were logtransformed<br>and group differences were evaluated using full factorial<br>multivariate design MANOVA SPSS with group and gender main<br>and interaction effects\", \"The cholinergic M2 autoreceptor is preferentially localized<br>to forebrain striatal and hippocampal regions and the<br>function of this receptor is to provide negative feedback<br>limiting the release of acetylcholine\", \"The clinical details of the year olds is tabulated in the<br>Table\", \"The collaborative sites are located at SUNYDownstate Medical<br>Center at Brooklyn University of Connecticut Health Center<br>Washington University School of Medicine in St Louis<br>University of California at San Diego University of Iowa and<br>Indiana University School of Medicine\", \"The control families were interviewed with the SSAGA CSSAGA<br>and underwent the full Stage II protocol\", \"The debate is ongoing however it is likely that both aspects<br>event related activation of neural assemblies and phase<br>resetting of ongoing activity are involved in the generation<br>of late ERP components\", \"The delta band differences reported in alcoholics Kamarajan<br>Jones and offspring of alcoholics and in the present study<br>closely corresponds to P300 differences reported in<br>alcoholics and highrisk subjects\", \"The delta band differences were again widespread whereas the<br>theta band differences were focused in frontal electrode<br>positions\", \"The developmental changes in P300 amplitude and topography<br>have been explored by very few cross sectional normative<br>studies in the visual modality\", \"The developmental increase in phase locking may probably be<br>related to lack of group difference in evoked theta power<br>noted in the present study sample that comprised of<br>adolescent HR\", \"The effect of age is critical in uncovering P300 amplitude<br>differences by alcoholism risk status as suggested by<br>metaanalysis study Polich\", \"The electrophysiological data used in the analysis were<br>derived from visual oddball trials for target cases since<br>our major objective was to compare high risk and controls<br>during target stimulus processing\", \"The evoked response ERO EVK enhances events which are phase<br>locked to the stimulus and reduces all other energy<br>including events which are subject to trial to trial<br>temporal jitter\", \"The exclusion criteria for neurophysiological assessment<br>were as follows Subjects were excluded if breath analyzer<br>test was positive for alcohol hepatic<br>encephalopathycirrhosis of the liver or acutechronic illness<br>were present significant history of head injury seizures or<br>neurosurgical procedures was present uncorrected sensory<br>deficits were manifested tested positive for HIV they were<br>on medication affectinginfluencing brain functioning or had<br>used any psychoactive substances in the past days history or<br>symptom of psychoses was reported symptoms of current<br>depression was present\", \"The finding of low voltage P300 amplitudes in prepubescent<br>sons of alcoholic fathers compared to boys without first or<br>second degree alcoholic relatives in experiments without the<br>administration of alcohol or placebo was first reported by<br>Begleiter\", \"The grand mean waveforms are shown in Fig\", \"The instantaneous amplitude amplitude envelope of the<br>complex valued transform TFR may be calculated by taking the<br>absolute value ST the transform power is the square of the<br>amplitude while the absolutely referenced local phase<br>information can be obtained using arctan\\u00f0 ST\\u00f0t ST\\u00f0t \\u00de\\u00de.The<br>transform derived measures used in the analysis presented<br>here were obtained from the single trial and trialaveraged<br>response\", \"The institutional review board at each site approved the<br>research procedures in the COGA study and written consent<br>was obtained from each individual prior to participation\", \"The interstimulus interval was\", \"The largest effect sizes observed were between high and low<br>risk subjects under years old\", \"The lowered P300 amplitude observed in clinical samples of<br>alcoholics has also been established in community samples\", \"The mean P300 amplitudes at P3 and Pz electrode positions<br>were higher in LR individuals when compared to the HR<br>individuals and almost equal at P4\", \"The nose served as reference and the forehead was the ground<br>electrode\", \"The post hoc comparisons test at each electrode revealed<br>interesting differences for delta and theta bands Tables and\", \"The present study strongly indicates adolescent offspring of<br>alcoholics HR appear to have weaker or possibly less<br>organized theta system than the control LR subjects and<br>reduced post stimulus theta power may be strong<br>endophenotype for alcoholism and related disorders\", \"The primary purpose of the present study was to assess if<br>the low theta and delta band power seen previously in the<br>alcohol dependent subjects were trait markers for alcoholism\", \"The protocol of determining and establishing an<br>endophenotype has also been refined in the process Porjesz\", \"The reduction in total power was most prominent for the<br>theta band and the topography was centroparietal the delta<br>band changes were less robust but significant and largely<br>parietal in location\", \"The responses to task unrelated rare stimulus produces the<br>P3a which is more pronounced frontally while the responses<br>to the task related rare stimulus target produces the P3b<br>which has parietal maxima\", \"The responses to the Go condition had reduced delta band<br>power in the parietal occipital and frontal regions\", \"The responses to the Go condition in this task are similar<br>to the oddball target condition although the stimuli used in<br>the task are different\", \"The results from those studies strongly support the present<br>study that extends similar findings into HR adolescent<br>population\", \"The samples were matched for age but not matched on drug use<br>and other Axis conditions since the reported rates for some<br>conditions in subjects with family history of alcoholism are<br>elevated over normal population levels Cuijpers Nurnberger<br>Sher\", \"The sampling rate was Hz\", \"The similar results from our laboratory across two paradigms<br>indicate that the ERO measures are stable and consistent<br>across the two age groups adults and adolescents in<br>discriminating the affected and risk states\", \"The stimulus locked theta state may reflect processing stage<br>during which interfering activations from other frequency<br>networks are minimized Yordanova\", \"The study results show that HR adolescents have reduced<br>total theta Hz and delta Hz power in the to ms time window<br>after the target stimulus\", \"The time window was based on the temporal extent of the P300<br>component in the event related waveform for targets see Figs<br>and\", \"The topography of reduced theta power as reported for<br>alcoholics involves topographically frontal component<br>Kamarajan\", \"The topography of the group differences between HR and LR<br>adolescents in the present study was strongly central and<br>parietal for the total theta power\", \"The total TFR distribution was acquired by calculating an<br>average of each TFR distribution of individual target trials<br>after they were baseline corrected to remove DC shifts\", \"The total TFR representation when compared to the evoked TFR<br>data show greater amounts of energy occurring throughout the<br>trial period at both high and low frequencies\", \"The total epoch length used for analysis was ms this<br>included ms pre stimulus baseline\", \"The total power response ERO TOT enhances events that occur<br>in similar time range as related to the stimulus onset and<br>irrespective of their phase relations\", \"The transform TFR is computed by shifting the window<br>function down the signal in time across range of frequencies\", \"The transform TFR is computed by shifting the window<br>function down the signal in time across range of frequencies\", \"The transform generates time frequency representation TFR of<br>signal by integrating the signal at each time point with<br>series of windowed harmonics of various frequencies\", \"The transform is generalization of the Gabor transform and<br>an extension to the continuous wavelet transform\", \"The transition in the ERP waveform occurs in the midteens<br>and was suggested to reflect differences in the way children<br>and adults categorize events\", \"The trial averaged data for target cases were used to obtain<br>the evoked TFR\", \"The underlying mechanism of impaired organization may<br>involve the cholinergic systems\", \"The usual manifestation of alcoholism is as part of class of<br>disinhibitory disorders which includes co occurring<br>substance abuse and psychiatric disorders\", \"The window function is Gaussian and scales in width<br>according to the examined frequency\", \"The window function is Gaussian with variance and scales in<br>width according to the examined frequency\", \"There is considerable debate if these frequency bands are<br>independent functional entities from the P300 component\", \"There is convincing evidence that EEG oscillations in the<br>theta frequency range about Hz are related to working memory<br>tasks for an extensive review see\", \"Therefore individuals with suppressed delta and theta<br>responses are likely to show deficits in cognitive functions<br>that are mediated by these oscillatory processes\", \"These findings were not observed for the equivalent non<br>target case data suggesting role for the CHRM2 gene in<br>higher cognitive processing in humans\", \"These findings were not observed for the equivalent<br>nontarget case data\", \"These frequency windows theta and delta have been selected<br>based on the well known natural frequencies of brain rhythms<br>i.e delta theta alpha beta and gamma which have been related<br>in the literature to various cognitive functions and brain<br>states\", \"These neuroelectric oscillations when analyzed in the<br>context of stimulus related brain function can be termed<br>event related oscillations or EROs\", \"Theta band differences were stronger and significant at the<br>three central C3 Cz C4 and parietal P3 Pz P4 electrodes\", \"They observe lower starting amplitudes and slower decrease<br>in visual P300 amplitudes with age in high risk boys and<br>faster growth rate and higher amplitudes of P300 in high<br>risk girls in contrast to the respective low risk groups\", \"This implies that it is the oscillations theta and delta<br>rather than the event related potentials P300 that reflect<br>closer association with CNS structure and function<br>associated with the underlying vulnerability i2pf ds where<br>is the time domain signal is frequency is translation<br>parameter the first exponential is the window function and<br>the second exponential is the harmonic function\", \"This inverse dependence of the width of the Gaussian window<br>with frequency provides the frequency dependent resolution\", \"This inverse dependence of the width of the Gaussian window<br>with frequency provides the frequency dependent resolution<br>multiresolution\", \"This issue is underscored by another study from our group<br>when similar analyses were conducted on an adult population<br>significant evoked theta differences were noted\", \"This method has been previously described in genetic linkage<br>study of delta and theta EROs during the same visual oddball<br>paradigm employed in the present study see Appendix\", \"This phasic power enhancement is related to memory<br>performance Klimesch Klimesch as well as to task load Gevins\", \"This reflects the inclusion of energy which is not phase<br>locked to the stimulus onset in the ERO TOT measure total<br>power response\", \"This reflects the inclusion of energy which is not phase<br>locked to the stimulus onset in the total power response\", \"This state was consistently determined by synchronized theta<br>oscillations and had specific anterior distribution\", \"This study focused on TFROI corresponding to the theta Hz<br>and delta Hz frequency band in the to ms time window\", \"This study was designed to evaluate the neural oscillatory<br>activity in the theta and delta frequency ranges within the<br>temporal window of the P300 response to the visual target in<br>adolescent offspring of alcoholics who are considered at<br>high risk for developing alcoholism\", \"This suggests that time locked frequencies in the delta band<br>may contribute strongly to group differences and explain the<br>association with the P300 component\", \"This temporal jitter is less likely to affect the averaging<br>of the lower frequency delta band oscillations due to the<br>lower temporal resolution therefore the evoked power measure<br>may adequately represent the delta EROs\", \"To obtain an estimate of event related phase locked power<br>response ERO EVK the Stransform TFR power matrix was<br>calculated for the averaged event related response single<br>trial data averaged after alignment to the stimulus onset<br>per individual\", \"To obtain an estimate of event related total power response<br>ERO TOT stimulus onset phase locked plus non phase locked<br>oscillations the squared instantaneous amplitudes power of<br>the transform TFR were averaged across single trials for<br>each individual\", \"To obtain estimates of localized power of<br>nonstationaryevoked potential time series we employed<br>recently developed time frequency representation method the<br>transform Stockwell\", \"To summarize the theta and delta post stimulus oscillations<br>are remarkably reduced in adolescent offspring of alcoholics\", \"Total power time frequency distributions for theta and delta<br>band and their topographic spread is illustrated in Figs and\", \"Trial averaging of the ERP waveform will diminish<br>imperfectly phase locked theta band oscillations in the<br>evoked power measure while the total power measure will<br>retain this energy and therefore provide better estimate of<br>evoked theta EROs\", \"Two competing theories have tried to explain the genesis of<br>averaged eventrelated potential ERP features and dominate<br>the current literature Evoked model that ERPs originate from<br>an event related activation of neural assemblies distinct<br>from background dynamics and Phase reset model that ERPs are<br>produced by phase resetting of ongoing oscillatory activity<br>Makeig Tallon Baudry\", \"Two groups of subjects in the age range of years were<br>selected from the COGA and Control families\", \"Two types of time frequency response TFR distributions were<br>created using the transform\", \"Using Go No Go tasks several studies from our laboratory<br>have shown P300 delta and theta power differences in<br>alcoholics and high risk individuals\", \"Using electrophysiological measures as endophenotypes is<br>proving to be very useful tool in the study of psychiatric<br>genetics\", \"Van der Stelt\", \"We have attempted to examine phase locked frequency band<br>changes by examining evoked power in these bands in order to<br>assess nonphase locked contributions which is difficult to<br>quantify we have opted to compare total power which includes<br>both types in these bands\", \"We have previously demonstrated that power in theta and<br>delta bands in the ms window were significantly lower in<br>adult alcoholics when compared with age matched controls\", \"detailed description of the COGA recruitment procedure has<br>been described previously Begleiter\", \"meta analysis concluded that low P300 may have predictive<br>value as an index of vulnerability for alcoholism Polich\"], \"type\": \"bar\", \"x\": [0, 1, 2, 3, 4, 5, 6, 7, 8, 9, 10, 11, 12, 13, 14, 15, 16, 17, 18, 19, 20, 21, 22, 23, 24, 25, 26, 27, 28, 29, 30, 31, 32, 33, 34, 35, 36, 37, 38, 39, 40, 41, 42, 43, 44, 45, 46, 47, 48, 49, 50, 51, 52, 53, 54, 55, 56, 57, 58, 59, 60, 61, 62, 63, 64, 65, 66, 67, 68, 69, 70, 71, 72, 73, 74, 75, 76, 77, 78, 79, 80, 81, 82, 83, 84, 85, 86, 87, 88, 89, 90, 91, 92, 93, 94, 95, 96, 97, 98, 99, 100, 101, 102, 103, 104, 105, 106, 107, 108, 109, 110, 111, 112, 113, 114, 115, 116, 117, 118, 119, 120, 121, 122, 123, 124, 125, 126, 127, 128, 129, 130, 131, 132, 133, 134, 135, 136, 137, 138, 139, 140, 141, 142, 143, 144, 145, 146, 147, 148, 149, 150, 151, 152, 153, 154, 155, 156, 157, 158, 159, 160, 161, 162, 163, 164, 165, 166, 167, 168, 169, 170, 171, 172, 173, 174, 175, 176, 177, 178, 179, 180, 181, 182, 183, 184, 185, 186, 187, 188, 189, 190, 191, 192, 193, 194, 195, 196, 197, 198, 199, 200, 201, 202, 203, 204, 205, 206, 207, 208, 209, 210, 211, 212, 213, 214, 215, 216, 217, 218, 219, 220, 221, 222, 223, 224, 225, 226, 227, 228, 229], \"y\": [0.43528860889270227, 0.47289203610713065, 0.31394032446413206, 0.4632278885527533, 0.4458669188705896, 0.47938027938181554, 0.5397120507262413, 0.547372870205931, 0.5599178124770764, 0.5989662588964273, 0.2909707070290932, 0.2909707070290932, 0.2709013388603957, 0.2709013388603957, 0.2709013388603957, 0.2709013388603957, 0.24431200202350475, 0.24431200202350475, 0.4368124634325827, 0.29451588038470966, 0.285639623745637, 0.2813615010840749, 0.35700288974507516, 0.2817762509769028, 0.3178888980924773, 0.35199082842876545, 0.2864860001824926, 0.27869227605881897, 0.27869227605881897, 0.5590109831462575, 0.429416963261542, 0.3474053650266819, 0.4865388526207229, 0.4108520851588347, 0.25476939847116636, 0.4515259934312344, 0.3400129922949361, 0.4124556908496875, 0.4046441527216939, 0.35976099882517737, 0.5099480955529199, 0.3592020850154853, 0.3846295747530697, 0.35812988174952476, 0.471646522270333, 0.457163416629215, 0.43717027397613656, 0.28313044251845, 0.39631077878943266, 0.4404204111063394, 0.41323941102623385, 0.3971618597620196, 0.38230345532959353, 0.5110397833226219, 0.41091323457897144, 0.43192198184020003, 0.39612785253875615, 0.3728208933907614, 0.2514831843087719, 0.42414400714620404, 0.4828991356806967, 0.4275265705267557, 0.4564949378046349, 0.4329244950274734, 0.4497373949164102, 0.5045875660262938, 0.406126069252264, 0.46753594525570613, 0.4751088931531566, 0.5039803778777188, 0.4740639250226863, 0.2778362882140507, 0.2778362882140507, 0.2778362882140507, 0.443484524436267, 0.39229798898549, 0.3018705599794488, 0.31404484072329947, 0.3332396215596752, 0.2641300138218903, 0.2641300138218903, 0.44316209464051537, 0.5034945240874402, 0.49096434235363684, 0.5718983320656408, 0.5900536884953655, 0.420266699805722, 0.5122859548652516, 0.39088194446169594, 0.4737589820185785, 0.575682570681998, 0.5436749220697713, 0.44897369070782456, 0.5141425094924972, 0.24689763366390235, 0.3321627399142146, 0.437561733019303, 0.5484984652196869, 0.470718748026135, 0.2765448746284333, 0.30200555777263466, 0.49781081510608355, 0.45659844006097666, 0.4560329060165346, 0.24009516920388252, 0.46554295834483966, 0.3422107905388541, 0.349351247315782, 0.5239129835267393, 0.5059184198151384, 0.6759242085004444, 0.498111470941252, 0.39504556812091723, 0.40191032018571243, 0.5930011895596251, 0.37483151808989373, 0.3856907147780044, 0.4285714089083902, 0.5308491448053086, 0.4215445232408173, 0.4547616366729876, 0.41782337396152786, 0.49219646288650226, 0.4561783409408891, 0.4186001091650843, 0.5261770691707338, 0.4154165646121788, 0.594161472711469, 0.4807151851859205, 0.35310316910930056, 0.35982233729729757, 0.28850858348003683, 0.5724584756258664, 0.3626078293815575, 0.43170185170541064, 0.39610852996621454, 0.35341378598829165, 0.47793159612087993, 0.5744344780018015, 0.4655713715291813, 0.39904343590073005, 0.3927219208374444, 0.3440282995069462, 0.5036089908697765, 0.4324573210211137, 0.3920906936957953, 0.44682076617030875, 0.439953145489249, 0.5641013254475941, 0.3594398065247439, 0.455102913873292, 0.5487700550758741, 0.5077798148027016, 0.4080098822478852, 0.30596486558902025, 0.33582201652904065, 0.27896090133696294, 0.4673643029355785, 0.5103260775604301, 0.393852934865568, 0.29529096807345817, 0.4057502527714821, 0.7190380497515356, 0.4809994997904069, 0.31597510941782203, 0.45492669696821175, 0.4248937339223764, 0.44807620895969064, 0.3247545157019014, 0.43183904655655875, 0.49635690636127, 0.2801965253706446, 0.4206956737042978, 0.45025574620614395, 0.3536207508330041, 0.38840611557148025, 0.4495321727114678, 0.4601951115070264, 0.31923253346455627, 0.37258797692241985, 0.37625267219010433, 0.41783409463988774, 0.28949698353096487, 0.28949698353096487, 0.2856611168282384, 0.26344872842268513, 0.3798064293272023, 0.40454178091775117, 0.49074734960195515, 0.5830847712497372, 0.3174728955472029, 0.3063067905447932, 0.34614274867964884, 0.5296594702282179, 0.4860236610532537, 0.5309627842272843, 0.4002100621187237, 0.49492918069426706, 0.4035090001018189, 0.4369003590766799, 0.48089855959860073, 0.3306754628700427, 0.2856656704491479, 0.2986991418162588, 0.43260283870176397, 0.45360678238924956, 0.3808303066705345, 0.38117310780410046, 0.32423367179159895, 0.47772887470172865, 0.4128539110054562, 0.5307966680950621, 0.42739626644069373, 0.3202660539913371, 0.41737103806076137, 0.30193292878075295, 0.3637699893048987, 0.5884066311400352, 0.2919141246948964, 0.3031418709591178, 0.5887460610741663, 0.3819694239385883, 0.323482888111986, 0.4525817499829267, 0.4920109045510774, 0.27140336366768036, 0.39525523735733287, 0.4479309504482182, 0.4475591746366254, 0.5234959039505238]}],\n",
       "                        {\"height\": 280, \"hoverlabel\": {\"bgcolor\": \"white\", \"font\": {\"family\": \"Rockwell\", \"size\": 13}}, \"margin\": {\"b\": 5, \"l\": 5, \"r\": 5, \"t\": 5}, \"template\": {\"data\": {\"bar\": [{\"error_x\": {\"color\": \"#2a3f5f\"}, \"error_y\": {\"color\": \"#2a3f5f\"}, \"marker\": {\"line\": {\"color\": \"#E5ECF6\", \"width\": 0.5}}, \"type\": \"bar\"}], \"barpolar\": [{\"marker\": {\"line\": {\"color\": \"#E5ECF6\", \"width\": 0.5}}, \"type\": \"barpolar\"}], \"carpet\": [{\"aaxis\": {\"endlinecolor\": \"#2a3f5f\", \"gridcolor\": \"white\", \"linecolor\": \"white\", \"minorgridcolor\": \"white\", \"startlinecolor\": \"#2a3f5f\"}, \"baxis\": {\"endlinecolor\": \"#2a3f5f\", \"gridcolor\": \"white\", \"linecolor\": \"white\", \"minorgridcolor\": \"white\", \"startlinecolor\": \"#2a3f5f\"}, \"type\": \"carpet\"}], \"choropleth\": [{\"colorbar\": {\"outlinewidth\": 0, \"ticks\": \"\"}, \"type\": \"choropleth\"}], \"contour\": [{\"colorbar\": {\"outlinewidth\": 0, \"ticks\": \"\"}, \"colorscale\": [[0.0, \"#0d0887\"], [0.1111111111111111, \"#46039f\"], [0.2222222222222222, \"#7201a8\"], [0.3333333333333333, \"#9c179e\"], [0.4444444444444444, \"#bd3786\"], [0.5555555555555556, \"#d8576b\"], [0.6666666666666666, \"#ed7953\"], [0.7777777777777778, \"#fb9f3a\"], [0.8888888888888888, \"#fdca26\"], [1.0, \"#f0f921\"]], \"type\": \"contour\"}], \"contourcarpet\": [{\"colorbar\": {\"outlinewidth\": 0, \"ticks\": \"\"}, \"type\": \"contourcarpet\"}], \"heatmap\": [{\"colorbar\": {\"outlinewidth\": 0, \"ticks\": \"\"}, \"colorscale\": [[0.0, \"#0d0887\"], [0.1111111111111111, \"#46039f\"], [0.2222222222222222, \"#7201a8\"], [0.3333333333333333, \"#9c179e\"], [0.4444444444444444, \"#bd3786\"], [0.5555555555555556, \"#d8576b\"], [0.6666666666666666, \"#ed7953\"], [0.7777777777777778, \"#fb9f3a\"], [0.8888888888888888, \"#fdca26\"], [1.0, \"#f0f921\"]], \"type\": \"heatmap\"}], \"heatmapgl\": [{\"colorbar\": {\"outlinewidth\": 0, \"ticks\": \"\"}, \"colorscale\": [[0.0, \"#0d0887\"], [0.1111111111111111, \"#46039f\"], [0.2222222222222222, \"#7201a8\"], [0.3333333333333333, \"#9c179e\"], [0.4444444444444444, \"#bd3786\"], [0.5555555555555556, \"#d8576b\"], [0.6666666666666666, \"#ed7953\"], [0.7777777777777778, \"#fb9f3a\"], [0.8888888888888888, \"#fdca26\"], [1.0, \"#f0f921\"]], \"type\": \"heatmapgl\"}], \"histogram\": [{\"marker\": {\"colorbar\": {\"outlinewidth\": 0, \"ticks\": \"\"}}, \"type\": \"histogram\"}], \"histogram2d\": [{\"colorbar\": {\"outlinewidth\": 0, \"ticks\": \"\"}, \"colorscale\": [[0.0, \"#0d0887\"], [0.1111111111111111, \"#46039f\"], [0.2222222222222222, \"#7201a8\"], [0.3333333333333333, \"#9c179e\"], [0.4444444444444444, \"#bd3786\"], [0.5555555555555556, \"#d8576b\"], [0.6666666666666666, \"#ed7953\"], [0.7777777777777778, \"#fb9f3a\"], [0.8888888888888888, \"#fdca26\"], [1.0, \"#f0f921\"]], \"type\": \"histogram2d\"}], \"histogram2dcontour\": [{\"colorbar\": {\"outlinewidth\": 0, \"ticks\": \"\"}, \"colorscale\": [[0.0, \"#0d0887\"], [0.1111111111111111, \"#46039f\"], [0.2222222222222222, \"#7201a8\"], [0.3333333333333333, \"#9c179e\"], [0.4444444444444444, \"#bd3786\"], [0.5555555555555556, \"#d8576b\"], [0.6666666666666666, \"#ed7953\"], [0.7777777777777778, \"#fb9f3a\"], [0.8888888888888888, \"#fdca26\"], [1.0, \"#f0f921\"]], \"type\": \"histogram2dcontour\"}], \"mesh3d\": [{\"colorbar\": {\"outlinewidth\": 0, \"ticks\": \"\"}, \"type\": \"mesh3d\"}], \"parcoords\": [{\"line\": {\"colorbar\": {\"outlinewidth\": 0, \"ticks\": \"\"}}, \"type\": \"parcoords\"}], \"pie\": [{\"automargin\": true, \"type\": \"pie\"}], \"scatter\": [{\"marker\": {\"colorbar\": {\"outlinewidth\": 0, \"ticks\": \"\"}}, \"type\": \"scatter\"}], \"scatter3d\": [{\"line\": {\"colorbar\": {\"outlinewidth\": 0, \"ticks\": \"\"}}, \"marker\": {\"colorbar\": {\"outlinewidth\": 0, \"ticks\": \"\"}}, \"type\": \"scatter3d\"}], \"scattercarpet\": [{\"marker\": {\"colorbar\": {\"outlinewidth\": 0, \"ticks\": \"\"}}, \"type\": \"scattercarpet\"}], \"scattergeo\": [{\"marker\": {\"colorbar\": {\"outlinewidth\": 0, \"ticks\": \"\"}}, \"type\": \"scattergeo\"}], \"scattergl\": [{\"marker\": {\"colorbar\": {\"outlinewidth\": 0, \"ticks\": \"\"}}, \"type\": \"scattergl\"}], \"scattermapbox\": [{\"marker\": {\"colorbar\": {\"outlinewidth\": 0, \"ticks\": \"\"}}, \"type\": \"scattermapbox\"}], \"scatterpolar\": [{\"marker\": {\"colorbar\": {\"outlinewidth\": 0, \"ticks\": \"\"}}, \"type\": \"scatterpolar\"}], \"scatterpolargl\": [{\"marker\": {\"colorbar\": {\"outlinewidth\": 0, \"ticks\": \"\"}}, \"type\": \"scatterpolargl\"}], \"scatterternary\": [{\"marker\": {\"colorbar\": {\"outlinewidth\": 0, \"ticks\": \"\"}}, \"type\": \"scatterternary\"}], \"surface\": [{\"colorbar\": {\"outlinewidth\": 0, \"ticks\": \"\"}, \"colorscale\": [[0.0, \"#0d0887\"], [0.1111111111111111, \"#46039f\"], [0.2222222222222222, \"#7201a8\"], [0.3333333333333333, \"#9c179e\"], [0.4444444444444444, \"#bd3786\"], [0.5555555555555556, \"#d8576b\"], [0.6666666666666666, \"#ed7953\"], [0.7777777777777778, \"#fb9f3a\"], [0.8888888888888888, \"#fdca26\"], [1.0, \"#f0f921\"]], \"type\": \"surface\"}], \"table\": [{\"cells\": {\"fill\": {\"color\": \"#EBF0F8\"}, \"line\": {\"color\": \"white\"}}, \"header\": {\"fill\": {\"color\": \"#C8D4E3\"}, \"line\": {\"color\": \"white\"}}, \"type\": \"table\"}]}, \"layout\": {\"annotationdefaults\": {\"arrowcolor\": \"#2a3f5f\", \"arrowhead\": 0, \"arrowwidth\": 1}, \"coloraxis\": {\"colorbar\": {\"outlinewidth\": 0, \"ticks\": \"\"}}, \"colorscale\": {\"diverging\": [[0, \"#8e0152\"], [0.1, \"#c51b7d\"], [0.2, \"#de77ae\"], [0.3, \"#f1b6da\"], [0.4, \"#fde0ef\"], [0.5, \"#f7f7f7\"], [0.6, \"#e6f5d0\"], [0.7, \"#b8e186\"], [0.8, \"#7fbc41\"], [0.9, \"#4d9221\"], [1, \"#276419\"]], \"sequential\": [[0.0, \"#0d0887\"], [0.1111111111111111, \"#46039f\"], [0.2222222222222222, \"#7201a8\"], [0.3333333333333333, \"#9c179e\"], [0.4444444444444444, \"#bd3786\"], [0.5555555555555556, \"#d8576b\"], [0.6666666666666666, \"#ed7953\"], [0.7777777777777778, \"#fb9f3a\"], [0.8888888888888888, \"#fdca26\"], [1.0, \"#f0f921\"]], \"sequentialminus\": [[0.0, \"#0d0887\"], [0.1111111111111111, \"#46039f\"], [0.2222222222222222, \"#7201a8\"], [0.3333333333333333, \"#9c179e\"], [0.4444444444444444, \"#bd3786\"], [0.5555555555555556, \"#d8576b\"], [0.6666666666666666, \"#ed7953\"], [0.7777777777777778, \"#fb9f3a\"], [0.8888888888888888, \"#fdca26\"], [1.0, \"#f0f921\"]]}, \"colorway\": [\"#636efa\", \"#EF553B\", \"#00cc96\", \"#ab63fa\", \"#FFA15A\", \"#19d3f3\", \"#FF6692\", \"#B6E880\", \"#FF97FF\", \"#FECB52\"], \"font\": {\"color\": \"#2a3f5f\"}, \"geo\": {\"bgcolor\": \"white\", \"lakecolor\": \"white\", \"landcolor\": \"#E5ECF6\", \"showlakes\": true, \"showland\": true, \"subunitcolor\": \"white\"}, \"hoverlabel\": {\"align\": \"left\"}, \"hovermode\": \"closest\", \"mapbox\": {\"style\": \"light\"}, \"paper_bgcolor\": \"white\", \"plot_bgcolor\": \"#E5ECF6\", \"polar\": {\"angularaxis\": {\"gridcolor\": \"white\", \"linecolor\": \"white\", \"ticks\": \"\"}, \"bgcolor\": \"#E5ECF6\", \"radialaxis\": {\"gridcolor\": \"white\", \"linecolor\": \"white\", \"ticks\": \"\"}}, \"scene\": {\"xaxis\": {\"backgroundcolor\": \"#E5ECF6\", \"gridcolor\": \"white\", \"gridwidth\": 2, \"linecolor\": \"white\", \"showbackground\": true, \"ticks\": \"\", \"zerolinecolor\": \"white\"}, \"yaxis\": {\"backgroundcolor\": \"#E5ECF6\", \"gridcolor\": \"white\", \"gridwidth\": 2, \"linecolor\": \"white\", \"showbackground\": true, \"ticks\": \"\", \"zerolinecolor\": \"white\"}, \"zaxis\": {\"backgroundcolor\": \"#E5ECF6\", \"gridcolor\": \"white\", \"gridwidth\": 2, \"linecolor\": \"white\", \"showbackground\": true, \"ticks\": \"\", \"zerolinecolor\": \"white\"}}, \"shapedefaults\": {\"line\": {\"color\": \"#2a3f5f\"}}, \"ternary\": {\"aaxis\": {\"gridcolor\": \"white\", \"linecolor\": \"white\", \"ticks\": \"\"}, \"baxis\": {\"gridcolor\": \"white\", \"linecolor\": \"white\", \"ticks\": \"\"}, \"bgcolor\": \"#E5ECF6\", \"caxis\": {\"gridcolor\": \"white\", \"linecolor\": \"white\", \"ticks\": \"\"}}, \"title\": {\"x\": 0.05}, \"xaxis\": {\"automargin\": true, \"gridcolor\": \"white\", \"linecolor\": \"white\", \"ticks\": \"\", \"title\": {\"standoff\": 15}, \"zerolinecolor\": \"white\", \"zerolinewidth\": 2}, \"yaxis\": {\"automargin\": true, \"gridcolor\": \"white\", \"linecolor\": \"white\", \"ticks\": \"\", \"title\": {\"standoff\": 15}, \"zerolinecolor\": \"white\", \"zerolinewidth\": 2}}}, \"title\": {\"text\": \"\"}, \"width\": 400, \"xaxis\": {\"showticklabels\": false, \"title\": {\"text\": \"\"}}, \"yaxis\": {\"title\": {\"text\": \"Similarity to context\"}}},\n",
       "                        {\"responsive\": true}\n",
       "                    ).then(function(){\n",
       "                            \n",
       "var gd = document.getElementById('4f1cf592-2dff-4171-b23f-270bb668c7cd');\n",
       "var x = new MutationObserver(function (mutations, observer) {{\n",
       "        var display = window.getComputedStyle(gd).display;\n",
       "        if (!display || display === 'none') {{\n",
       "            console.log([gd, 'removed!']);\n",
       "            Plotly.purge(gd);\n",
       "            observer.disconnect();\n",
       "        }}\n",
       "}});\n",
       "\n",
       "// Listen for the removal of the full notebook cells\n",
       "var notebookContainer = gd.closest('#notebook-container');\n",
       "if (notebookContainer) {{\n",
       "    x.observe(notebookContainer, {childList: true});\n",
       "}}\n",
       "\n",
       "// Listen for the clearing of the current output cell\n",
       "var outputEl = gd.closest('.output');\n",
       "if (outputEl) {{\n",
       "    x.observe(outputEl, {childList: true});\n",
       "}}\n",
       "\n",
       "                        })\n",
       "                };\n",
       "                });\n",
       "            </script>\n",
       "        </div>"
      ]
     },
     "metadata": {},
     "output_type": "display_data"
    },
    {
     "data": {
      "application/vnd.plotly.v1+json": {
       "config": {
        "plotlyServerURL": "https://plot.ly"
       },
       "data": [
        {
         "hovertext": [
          "Age was not used in the model since preliminary analysis<br>revealed near zero correlation with the total and evoked<br>power data and the groups had narrow age range and no<br>significant mean age difference see Table for mean age for<br>the two groups",
          "Alcoholic probands were recruited from inpatient and<br>outpatient treatment facilities and they and their first<br>degree relatives were interviewed with the SSAGA Semi<br>Structured Assessment of Genetics of Alcoholism semi<br>structured diagnostic psychiatric interview schedule<br>designed by COGA investigators Bucholz Hesselbrock",
          "All six collaborating sites used identical experimental<br>procedures and EEG acquisition hardware and software",
          "Alternatively the differences may arise due to altered<br>topography of the cognitive potentials in younger versus the<br>older subjects",
          "Although an enhancement of EEG power is thought to<br>correspond to an activation of larger number of neural<br>assemblies Lopes da the interpretation of increased<br>intertrial phase locking is more difficult to define",
          "Although there are no significant gender effects analyzing<br>both genders as one sample could increase the variability of<br>P300 amplitudes observed here",
          "Although there are no studies that report developmental<br>changes in the visual modality one could speculate that the<br>changes could be of similar nature to the one reported for<br>auditory modality",
          "An interesting issue that is highlighted by the genetic<br>studies of theta and delta oscillations is that these<br>measures have provided significant clues to associations<br>with transmitter related genes GABA receptor gene and<br>resting EEG beta band Porjesz",
          "Another study reported increased coupling of theta<br>oscillations between prefrontal and parietal cortices during<br>the retention interval of memory tasks Sarnthein",
          "As discussed earlier there is much evidence in the<br>literature on lowered P300 in adolescents associated with<br>family history of alcoholism",
          "Basar",
          "Basar",
          "Basar Eroglu",
          "Basar Eroglu",
          "Basar Eroglu",
          "Basar Eroglu",
          "Basar Eroglu and",
          "Basar Eroglu and",
          "Based on the indications of most past research studies on<br>visual P300 in alcoholism and risk the ERP component of<br>interest in this study was the parietal P300 Porjesz",
          "Begleiter",
          "Benegal",
          "Berman",
          "CHRM2 and theta and delta band for oddball targets",
          "Cohen",
          "Connor Connor",
          "Control families were recruited from HMOs drivers license<br>records and dental clinics with the objective of being<br>representative of the general population at each site",
          "Courchesne",
          "Demiralp",
          "Demiralp",
          "Developmental changes in the event related theta response<br>have been reported by one study for the auditory stimulus<br>response in children between the ages of to years and adults<br>between the ages of and years",
          "During actual retrieval however theta oscillations were<br>reversed and spread from posterior to anterior sites",
          "EEG segments from channels F3 Fz F4 C3 Cz C4 P3 Pz and P4<br>were used in order to assess topographic aspects of the ERO<br>measures",
          "EEG theta power was reported to increase when information is<br>encoded Klimesch or retrieved Klimesch from long term memory",
          "Each subject wore fitted electrode cap Electro Cap<br>International Inc Eaton OH using the channel montage as<br>specified according to the International system FP1 FP2 F7<br>F3 Fz F4 F8 T7 C3 Cz C4 T8 P7 P3 Pz P4 P8 O1 and O2",
          "Ehlers Ehlers",
          "Electrode impedances were always maintained below Electrical<br>activity was amplified times by Sensorium EPA<br>Electrophysiology amplifiers Charlotte VT with band pass<br>between Hz and Hz and digitized on computer Concurrent<br>Computer Corp Atlanta GA",
          "Electrooculogram EOG was recorded from electrodes placed<br>supraorbitally and at the outer canthus of the left eye",
          "Evidence suggests that ERP features arise from<br>superpositioned neuroelectric oscillations modulated or<br>produced by sensory and cognitive processes set into the<br>dynamics of ongoing EEG rhythms",
          "Evoked delta power on the other hand revealed highly<br>significant group differences overall",
          "Evoked power which highlights the phase locked oscillatory<br>components revealed no significant differences between the<br>groups for the theta band although it was observed that the<br>HR had lower values than LR",
          "Evoked theta power was not significantly different between<br>the two groups although few electrode locations in central<br>and parietal regions showed weakly significant differences",
          "Families in which the proband and two additional first<br>degree relatives met lifetime criteria for alcohol<br>dependence by both Feighner and DSM IIIR criteria were<br>designated Stage II and extended family members were also<br>interviewed",
          "Finally the authors also report on increasing phase locking<br>capabilities with age and suggest that the capacity to<br>produce stable enhanced theta responses probably reaches<br>maturity well beyond the age of years",
          "From the Stage II family members blood was drawn for<br>establishing lymphoblastoid cell lines and biochemical<br>analyses and neurophysiological and neuropsychological<br>assessments were conducted",
          "Functionally authors have proposed that the delta response<br>is mainly related to signal detection and decision making",
          "Furthermore these identified genetic locations also have<br>significant associations with the diagnoses of alcohol<br>dependence Wang In addition recent studies suggested that<br>GABRA2 is significantly associated with childhood conduct<br>disorder symptoms as well as with marijuana dependence and<br>illicit drug dependence Agrawal",
          "Gender main effect and Group Gender interaction effect were<br>not significant Table",
          "Hence the EEG segments for the target case only were used<br>for the time frequency analysis and only the parietal leads<br>P3 Pz and P4 were used for P300 amplitude measurements",
          "Hill and colleagues in their studies on developmental<br>patterns of P300 in children and adolescents postulated that<br>developmental delay resulted in the lowered amplitudes of<br>P300 seen in highrisk children Hill",
          "However many studies have established robust visual P300<br>differences in young adult high risk subjects Porjesz",
          "However significant Group main effect was present only for<br>delta band",
          "However the maximal amplitudes of theta in both time windows<br>were always higher for children when compared to the adults",
          "However the topographic locus of group differences between<br>the high risk and their controls in the present study and<br>the alcoholics and controls as reported in the study of<br>Jones were not similar",
          "However these studies have clearly demonstrated that ERP<br>characteristics change substantially from children to adults",
          "However with more difficult visual paradigms the effect<br>sizes for the two age groups converged",
          "In addition our study using logistic regression procedures<br>suggests that each band theta and delta provides unique<br>information and as composite variable effectively<br>discriminates between control and alcohol dependent subjects",
          "In another study the external stimulus processing produced<br>transient highly ordered microstate that did not depend on<br>stimulus modality",
          "In contrast to the theta band the evoked delta power<br>differences were as strong as or marginally stronger than<br>the total power in the delta band",
          "In effect the transform is method of spectral localization<br>with similarities to the continuous wavelet transform except<br>using the concept of frequency instead of scale",
          "In follow up study on adult high risk offspring the same<br>authors report strongly reduced delta band power in the<br>parietal regions only for the Go condition",
          "In the Go condition strong delta band total ERO deficits for<br>alcoholics were observed over frontal parietal and occipital<br>locations however no theta band differences were noted in<br>alcoholics when compared to the controls Kamarajan",
          "In the high risk adult population the results for the same<br>task revealed parietal delta and theta band total power<br>reductions for the Go condition Kamarajan",
          "In the instances where group effect was significant<br>secondary analysis included tests as post hoc analysis for<br>group differences at each electrode position",
          "In the present study HR adolescents show power deficiencies<br>in both delta and theta bands however theta band differences<br>were stronger using the total power measure while delta<br>differences were marginally better for the evoked power<br>measure",
          "In the present study the delta band differences between the<br>HR and LR subjects closely correspond to P300 differences<br>reported in alcoholics and high risk subjects",
          "In the same genetic study mentioned earlier for the theta<br>band we have also reported significant linkage<br>disequilibrium between target case parietal delta band in<br>visual evoked brain oscillations and cholinergic muscarinic<br>receptor gene CHRM2 SNPs on chromosome",
          "In these studies the go trials closely resemble the target<br>trial used in the present study",
          "It has been suggested by Basar that diffuse and distributed<br>theta system exists in the brain",
          "It has been suggested that delta activity is generated by<br>cortico cortical interactions with some subcortical<br>contributions",
          "It has been suggested that the muscarinic autoreceptor M2<br>controls the cortical excitability by influencing<br>cholinergic and glutamatergic neurotransmission Alcantara<br>Mrzljak",
          "Jones have reported significant linkage and linkage<br>disequilibrium between target case frontal theta band in<br>visual evoked brain oscillations and single nucleotide<br>polymorphism SNP from the cholinergic muscarinic receptor<br>gene CHRM2 on chromosome",
          "Kamarajan",
          "Kamarajan",
          "Kamarajan",
          "Kamarajan in study of oscillations in adult high risk<br>offspring in Go No Go P300 paradigm also report strongly<br>reduced theta band power only in the parietal regions for<br>the Go condition",
          "Kamarajan reported study of oscillations in adult alcoholics<br>in Go No Go P300 paradigm",
          "Karakas",
          "Karakas consider the P300 component to be composed of<br>superimposed delta and theta oscillations",
          "Karakas hypothesized that the delta response represents<br>degrees of consciousness involved during conscious stimulus<br>evaluation and memory updating and that the theta<br>oscillation represents different levels and forms of<br>attention",
          "Klimesch",
          "Klimesch",
          "Klimesch and selective attention and shortterm memory Basar<br>Eroglu Basar",
          "LR control subjects had higher total band power for delta<br>and theta bands in all electrodes when compared to the HR<br>offspring of alcoholics",
          "LR subjects had higher mean evoked band power for delta and<br>theta bands in all electrodes when compared to the HR<br>offspring of alcoholics",
          "Lowered total theta power had frontal focus in adult<br>alcoholics while adolescent high risk subjects manifested<br>centroparietal focus",
          "Many of the same risk factors underlie these common<br>psychiatric disorders and can be explained by small number<br>of underlying factors Kendler",
          "Mean values for both total and evoked power were calculated<br>from the respective TFR amplitude envelope within time<br>frequency regions of interest TFROIs Lachaux specified by<br>frequency band ranges and time intervals",
          "Modality independent transient theta dominated state may<br>reflect processing stage that is obligatory for stimulus<br>evaluation Yordanova",
          "Moreover Hill also report gender differences in the P300<br>growth trajectories",
          "Moreover no significant differences were seen in absolute<br>power of theta band when the resting EEG of the HR and LR<br>subjects were examined Rangaswamy unpublished data and we<br>have previously observed and reported theta power<br>differences in the resting EEG only in alcohol dependent<br>subjects Rangaswamy",
          "On the other hand eventrelated theta oscillations are<br>believed to be related to frontolimbic interactions Basar<br>Karakas Miller and are associated with complex set of<br>cognitive processes including alertness arousal or readiness<br>Basar memory related processes episodic encoding and<br>retrieval processes as revealed by event related<br>desynchronizationsynchronization",
          "One of the important criteria for an endophenotype is that<br>in addition to the affected individuals the trait must also<br>be present in the unaffected relatives and children of the<br>International Journal of Psychophysiology<br>www.elsevier.comlocateijpsycho affected individuals at rate<br>higher than the general population",
          "One possible interpretation of the theta band findings could<br>be related to slight trial to trial temporal jitter<br>variation",
          "Previously published and ongoing studies from our group have<br>examined theta and delta oscillations in adult populations<br>both alcohol dependent and high risk for the standard visual<br>oddball and Go No Go tasks Kamarajan Kamarajan",
          "Ramachandran",
          "Ratsma",
          "Regression analysis suggested that this age related decrease<br>in amplitude resulted from developmental decrease of<br>baseline theta amplitudes in the ongoing EEG theta activity",
          "Results from visual targets in the case control study in<br>adult controls and alcohol dependent subjects revealed that<br>total theta band power and evoked delta band power at the<br>frontal locus Fz best predicts the status of alcohol<br>dependence in an adult population",
          "Robust longitudinal studies of normal developmental changes<br>in P300 are lacking",
          "Rodriguez Holguin",
          "Schurmann",
          "Since the proposal by Stampfer and Basar the importance of<br>the underlying delta and theta brain oscillations in the<br>production of the P300 potential to rare target stimulus has<br>been extensively examined Basar",
          "Some authors believe that delta response may be generated by<br>cortico cortical interactions",
          "Some authors have also shown that evoked theta oscillations<br>spread from anterior to posterior regions during combined<br>short and long term memory task Sauseng",
          "Some early studies have indicated that the main portion of<br>P300 power is not within the theta band but within sub delta<br>and delta bands especially as P300 is virtually abolished<br>with high pass setting at Hz Duncanor Hz",
          "Some studies indicate that event related theta activity may<br>not only contribute directly to P300 waveform expression but<br>may also modify P300 via other processes in the theta<br>frequency channel of the EEG Kolev",
          "Specification of the time windows and further sub windowing<br>of the frequency bands was based on visual inspection of<br>grand mean TFR data and the spatial distribution of grand<br>mean ERO estimates over the scalp",
          "Specification of the time windows for the frequency bands<br>was based on peak latency of the P300 ERP response in the<br>target trials",
          "Studies exploring the time course of oscillatory changes<br>underlying the target stimulus response suggest that delta<br>oscillations contribute considerably and mainly to the P300<br>component Basar Eroglu Demiralp Kolev",
          "Studies on normal individuals indicated that the delta<br>response is possibly related to signal detection and<br>decision making generated by distributed network system",
          "Studies relating to externalizing disorders have shown that<br>general vulnerability is what is passed on to the next<br>generation with each disorder representing different<br>expression of this general vulnerability Hicks Slutske<br>Krueger Jacobson Kendler",
          "Studies suggest that separate analysis of event related<br>power and phase locking changes in cognitive tasks might<br>reveal specific insights into the mechanisms underlying<br>different cognitive functions Fell Shah",
          "Subjects responded with button press to the rare target<br>stimulus the responding hand was alternated across subjects<br>to counterbalance any laterality effects due to responding",
          "Subjects under the age of years were administered the<br>childadolescent version of SSAGA called the CSSAGA",
          "Subjects were participants in the ongoing Collaborative<br>Study on the Genetics of Alcoholism COGA multisite multi<br>stage national consortium designed to study the genetics of<br>alcoholism",
          "Subjects were seated comfortably in dimly lit sound<br>attenuated temperature regulated booth Industrial Acoustics<br>Company Bronx NY and instructed to remain relaxed and<br>respond to the target stimulus with button press with their<br>dominant hand",
          "The Bonferroni correction for multiple comparisons retained<br>significance at all three parietal and two central leads",
          "The HR group had parental diagnosis of alcoholism for either<br>or both parents",
          "The High Risk HR group comprised adolescent offspring of<br>alcoholics males and females from COGA families",
          "The LR sample was controlled for alcoholism and substance<br>useabuse and the base rate of other co occurring conditions<br>in the LR and HR sample was maintained",
          "The Low Risk LR group comprised adolescents males and<br>females from control families in which there were no first<br>degree relatives with diagnosis of DSM IIIR alcohol<br>dependence by direct interview",
          "The No Go condition also revealed strong delta and theta<br>band ERO differences",
          "The P300 amplitude decrements do not recover with abstinence<br>therefore suggesting that reduced P300 amplitude antecedes<br>the development of alcoholism",
          "The P300 amplitude in the parietal leads P3 Pz and P4 was<br>also significantly lower in the HR adolescents when analyzed<br>using multivariate model",
          "The P300 amplitude reduction has been replicated under<br>different experimental conditions with and without alcohol<br>administration in both older and younger subjects at risk in<br>male and female offspring and in subjects of different<br>ethnicities",
          "The P300 amplitudes are also reduced in these subjects but<br>the differences are not as strong as seen for the<br>oscillations thus making case for the oscillations as more<br>stable endophenotype in the study of alcoholism and related<br>disorders",
          "The P300 component is positive going wave that occurs<br>between and ms after significant or rare stimulus and is not<br>related to its physical features",
          "The P300 has been proposed to reflect attentional allocation<br>and context updating processes of working memory cognitive<br>closure and is probably associated with activation of<br>inhibitory processes over widespread cortical areas<br>Birbaumer Rockstroh",
          "The P300 or P3b component of the visual event related<br>potential ERP has proved to be successful endophenotype in<br>the study of alcoholism and an associated spectrum of<br>externalizing disorders Iacono Porjesz",
          "The Visual oddball task consisted of the presentation of<br>three types of visual stimuli non target target and novel<br>each stimulus with ms duration and subtending visual angle<br>of",
          "The age range of subjects in the present study spans mid to<br>late adolescence",
          "The amplitude envelope of the complex valued transform TFR<br>is calculated by taking the absolute value",
          "The amplitude of P300 reflects inhibitory processes of<br>irrelevant stimuli Birbaumer Klimesch while its time of<br>occurrence latency reflects mental processing speed the<br>earlier and larger the P300 the easier the processing",
          "The amplitudes of visual P300 have been reported to decrease<br>with age in children and adolescents",
          "The authors also suggested that the visual P300 amplitudes<br>had theoretical point of convergence around the age of for<br>high risk and low risk subjects",
          "The authors have reported robust P300 amplitude reductions<br>in the parietal region of the alcoholic sample for the Go<br>trials Kamarajan",
          "The authors observed significant developmental decreases in<br>theta response amplitudes in the early ms and late ms time<br>windows of the passive non target and target related epochs",
          "The authors speculate that concentrationdependent mechanism<br>in the cholinergic system may underlie the theta and delta<br>oscillations the latter being generated at lower muscarinic<br>activities",
          "The average peak latency of the P300 for all subjects was ms<br>Total and evoked band power in the theta and delta band in<br>channels F3 Fz F4 C3 Cz C4 P3 Pz and P4 were logtransformed<br>and group differences were evaluated using full factorial<br>multivariate design MANOVA SPSS with group and gender main<br>and interaction effects",
          "The cholinergic M2 autoreceptor is preferentially localized<br>to forebrain striatal and hippocampal regions and the<br>function of this receptor is to provide negative feedback<br>limiting the release of acetylcholine",
          "The clinical details of the year olds is tabulated in the<br>Table",
          "The collaborative sites are located at SUNYDownstate Medical<br>Center at Brooklyn University of Connecticut Health Center<br>Washington University School of Medicine in St Louis<br>University of California at San Diego University of Iowa and<br>Indiana University School of Medicine",
          "The control families were interviewed with the SSAGA CSSAGA<br>and underwent the full Stage II protocol",
          "The debate is ongoing however it is likely that both aspects<br>event related activation of neural assemblies and phase<br>resetting of ongoing activity are involved in the generation<br>of late ERP components",
          "The delta band differences reported in alcoholics Kamarajan<br>Jones and offspring of alcoholics and in the present study<br>closely corresponds to P300 differences reported in<br>alcoholics and highrisk subjects",
          "The delta band differences were again widespread whereas the<br>theta band differences were focused in frontal electrode<br>positions",
          "The developmental changes in P300 amplitude and topography<br>have been explored by very few cross sectional normative<br>studies in the visual modality",
          "The developmental increase in phase locking may probably be<br>related to lack of group difference in evoked theta power<br>noted in the present study sample that comprised of<br>adolescent HR",
          "The effect of age is critical in uncovering P300 amplitude<br>differences by alcoholism risk status as suggested by<br>metaanalysis study Polich",
          "The electrophysiological data used in the analysis were<br>derived from visual oddball trials for target cases since<br>our major objective was to compare high risk and controls<br>during target stimulus processing",
          "The evoked response ERO EVK enhances events which are phase<br>locked to the stimulus and reduces all other energy<br>including events which are subject to trial to trial<br>temporal jitter",
          "The exclusion criteria for neurophysiological assessment<br>were as follows Subjects were excluded if breath analyzer<br>test was positive for alcohol hepatic<br>encephalopathycirrhosis of the liver or acutechronic illness<br>were present significant history of head injury seizures or<br>neurosurgical procedures was present uncorrected sensory<br>deficits were manifested tested positive for HIV they were<br>on medication affectinginfluencing brain functioning or had<br>used any psychoactive substances in the past days history or<br>symptom of psychoses was reported symptoms of current<br>depression was present",
          "The finding of low voltage P300 amplitudes in prepubescent<br>sons of alcoholic fathers compared to boys without first or<br>second degree alcoholic relatives in experiments without the<br>administration of alcohol or placebo was first reported by<br>Begleiter",
          "The grand mean waveforms are shown in Fig",
          "The instantaneous amplitude amplitude envelope of the<br>complex valued transform TFR may be calculated by taking the<br>absolute value ST the transform power is the square of the<br>amplitude while the absolutely referenced local phase<br>information can be obtained using arctanð STðt STðt ÞÞ.The<br>transform derived measures used in the analysis presented<br>here were obtained from the single trial and trialaveraged<br>response",
          "The institutional review board at each site approved the<br>research procedures in the COGA study and written consent<br>was obtained from each individual prior to participation",
          "The interstimulus interval was",
          "The largest effect sizes observed were between high and low<br>risk subjects under years old",
          "The lowered P300 amplitude observed in clinical samples of<br>alcoholics has also been established in community samples",
          "The mean P300 amplitudes at P3 and Pz electrode positions<br>were higher in LR individuals when compared to the HR<br>individuals and almost equal at P4",
          "The nose served as reference and the forehead was the ground<br>electrode",
          "The post hoc comparisons test at each electrode revealed<br>interesting differences for delta and theta bands Tables and",
          "The present study strongly indicates adolescent offspring of<br>alcoholics HR appear to have weaker or possibly less<br>organized theta system than the control LR subjects and<br>reduced post stimulus theta power may be strong<br>endophenotype for alcoholism and related disorders",
          "The primary purpose of the present study was to assess if<br>the low theta and delta band power seen previously in the<br>alcohol dependent subjects were trait markers for alcoholism",
          "The protocol of determining and establishing an<br>endophenotype has also been refined in the process Porjesz",
          "The reduction in total power was most prominent for the<br>theta band and the topography was centroparietal the delta<br>band changes were less robust but significant and largely<br>parietal in location",
          "The responses to task unrelated rare stimulus produces the<br>P3a which is more pronounced frontally while the responses<br>to the task related rare stimulus target produces the P3b<br>which has parietal maxima",
          "The responses to the Go condition had reduced delta band<br>power in the parietal occipital and frontal regions",
          "The responses to the Go condition in this task are similar<br>to the oddball target condition although the stimuli used in<br>the task are different",
          "The results from those studies strongly support the present<br>study that extends similar findings into HR adolescent<br>population",
          "The samples were matched for age but not matched on drug use<br>and other Axis conditions since the reported rates for some<br>conditions in subjects with family history of alcoholism are<br>elevated over normal population levels Cuijpers Nurnberger<br>Sher",
          "The sampling rate was Hz",
          "The similar results from our laboratory across two paradigms<br>indicate that the ERO measures are stable and consistent<br>across the two age groups adults and adolescents in<br>discriminating the affected and risk states",
          "The stimulus locked theta state may reflect processing stage<br>during which interfering activations from other frequency<br>networks are minimized Yordanova",
          "The study results show that HR adolescents have reduced<br>total theta Hz and delta Hz power in the to ms time window<br>after the target stimulus",
          "The time window was based on the temporal extent of the P300<br>component in the event related waveform for targets see Figs<br>and",
          "The topography of reduced theta power as reported for<br>alcoholics involves topographically frontal component<br>Kamarajan",
          "The topography of the group differences between HR and LR<br>adolescents in the present study was strongly central and<br>parietal for the total theta power",
          "The total TFR distribution was acquired by calculating an<br>average of each TFR distribution of individual target trials<br>after they were baseline corrected to remove DC shifts",
          "The total TFR representation when compared to the evoked TFR<br>data show greater amounts of energy occurring throughout the<br>trial period at both high and low frequencies",
          "The total epoch length used for analysis was ms this<br>included ms pre stimulus baseline",
          "The total power response ERO TOT enhances events that occur<br>in similar time range as related to the stimulus onset and<br>irrespective of their phase relations",
          "The transform TFR is computed by shifting the window<br>function down the signal in time across range of frequencies",
          "The transform TFR is computed by shifting the window<br>function down the signal in time across range of frequencies",
          "The transform generates time frequency representation TFR of<br>signal by integrating the signal at each time point with<br>series of windowed harmonics of various frequencies",
          "The transform is generalization of the Gabor transform and<br>an extension to the continuous wavelet transform",
          "The transition in the ERP waveform occurs in the midteens<br>and was suggested to reflect differences in the way children<br>and adults categorize events",
          "The trial averaged data for target cases were used to obtain<br>the evoked TFR",
          "The underlying mechanism of impaired organization may<br>involve the cholinergic systems",
          "The usual manifestation of alcoholism is as part of class of<br>disinhibitory disorders which includes co occurring<br>substance abuse and psychiatric disorders",
          "The window function is Gaussian and scales in width<br>according to the examined frequency",
          "The window function is Gaussian with variance and scales in<br>width according to the examined frequency",
          "There is considerable debate if these frequency bands are<br>independent functional entities from the P300 component",
          "There is convincing evidence that EEG oscillations in the<br>theta frequency range about Hz are related to working memory<br>tasks for an extensive review see",
          "Therefore individuals with suppressed delta and theta<br>responses are likely to show deficits in cognitive functions<br>that are mediated by these oscillatory processes",
          "These findings were not observed for the equivalent non<br>target case data suggesting role for the CHRM2 gene in<br>higher cognitive processing in humans",
          "These findings were not observed for the equivalent<br>nontarget case data",
          "These frequency windows theta and delta have been selected<br>based on the well known natural frequencies of brain rhythms<br>i.e delta theta alpha beta and gamma which have been related<br>in the literature to various cognitive functions and brain<br>states",
          "These neuroelectric oscillations when analyzed in the<br>context of stimulus related brain function can be termed<br>event related oscillations or EROs",
          "Theta band differences were stronger and significant at the<br>three central C3 Cz C4 and parietal P3 Pz P4 electrodes",
          "They observe lower starting amplitudes and slower decrease<br>in visual P300 amplitudes with age in high risk boys and<br>faster growth rate and higher amplitudes of P300 in high<br>risk girls in contrast to the respective low risk groups",
          "This implies that it is the oscillations theta and delta<br>rather than the event related potentials P300 that reflect<br>closer association with CNS structure and function<br>associated with the underlying vulnerability i2pf ds where<br>is the time domain signal is frequency is translation<br>parameter the first exponential is the window function and<br>the second exponential is the harmonic function",
          "This inverse dependence of the width of the Gaussian window<br>with frequency provides the frequency dependent resolution",
          "This inverse dependence of the width of the Gaussian window<br>with frequency provides the frequency dependent resolution<br>multiresolution",
          "This issue is underscored by another study from our group<br>when similar analyses were conducted on an adult population<br>significant evoked theta differences were noted",
          "This method has been previously described in genetic linkage<br>study of delta and theta EROs during the same visual oddball<br>paradigm employed in the present study see Appendix",
          "This phasic power enhancement is related to memory<br>performance Klimesch Klimesch as well as to task load Gevins",
          "This reflects the inclusion of energy which is not phase<br>locked to the stimulus onset in the ERO TOT measure total<br>power response",
          "This reflects the inclusion of energy which is not phase<br>locked to the stimulus onset in the total power response",
          "This state was consistently determined by synchronized theta<br>oscillations and had specific anterior distribution",
          "This study focused on TFROI corresponding to the theta Hz<br>and delta Hz frequency band in the to ms time window",
          "This study was designed to evaluate the neural oscillatory<br>activity in the theta and delta frequency ranges within the<br>temporal window of the P300 response to the visual target in<br>adolescent offspring of alcoholics who are considered at<br>high risk for developing alcoholism",
          "This suggests that time locked frequencies in the delta band<br>may contribute strongly to group differences and explain the<br>association with the P300 component",
          "This temporal jitter is less likely to affect the averaging<br>of the lower frequency delta band oscillations due to the<br>lower temporal resolution therefore the evoked power measure<br>may adequately represent the delta EROs",
          "To obtain an estimate of event related phase locked power<br>response ERO EVK the Stransform TFR power matrix was<br>calculated for the averaged event related response single<br>trial data averaged after alignment to the stimulus onset<br>per individual",
          "To obtain an estimate of event related total power response<br>ERO TOT stimulus onset phase locked plus non phase locked<br>oscillations the squared instantaneous amplitudes power of<br>the transform TFR were averaged across single trials for<br>each individual",
          "To obtain estimates of localized power of<br>nonstationaryevoked potential time series we employed<br>recently developed time frequency representation method the<br>transform Stockwell",
          "To summarize the theta and delta post stimulus oscillations<br>are remarkably reduced in adolescent offspring of alcoholics",
          "Total power time frequency distributions for theta and delta<br>band and their topographic spread is illustrated in Figs and",
          "Trial averaging of the ERP waveform will diminish<br>imperfectly phase locked theta band oscillations in the<br>evoked power measure while the total power measure will<br>retain this energy and therefore provide better estimate of<br>evoked theta EROs",
          "Two competing theories have tried to explain the genesis of<br>averaged eventrelated potential ERP features and dominate<br>the current literature Evoked model that ERPs originate from<br>an event related activation of neural assemblies distinct<br>from background dynamics and Phase reset model that ERPs are<br>produced by phase resetting of ongoing oscillatory activity<br>Makeig Tallon Baudry",
          "Two groups of subjects in the age range of years were<br>selected from the COGA and Control families",
          "Two types of time frequency response TFR distributions were<br>created using the transform",
          "Using Go No Go tasks several studies from our laboratory<br>have shown P300 delta and theta power differences in<br>alcoholics and high risk individuals",
          "Using electrophysiological measures as endophenotypes is<br>proving to be very useful tool in the study of psychiatric<br>genetics",
          "Van der Stelt",
          "We have attempted to examine phase locked frequency band<br>changes by examining evoked power in these bands in order to<br>assess nonphase locked contributions which is difficult to<br>quantify we have opted to compare total power which includes<br>both types in these bands",
          "We have previously demonstrated that power in theta and<br>delta bands in the ms window were significantly lower in<br>adult alcoholics when compared with age matched controls",
          "detailed description of the COGA recruitment procedure has<br>been described previously Begleiter",
          "meta analysis concluded that low P300 may have predictive<br>value as an index of vulnerability for alcoholism Polich"
         ],
         "type": "bar",
         "x": [
          0,
          1,
          2,
          3,
          4,
          5,
          6,
          7,
          8,
          9,
          10,
          11,
          12,
          13,
          14,
          15,
          16,
          17,
          18,
          19,
          20,
          21,
          22,
          23,
          24,
          25,
          26,
          27,
          28,
          29,
          30,
          31,
          32,
          33,
          34,
          35,
          36,
          37,
          38,
          39,
          40,
          41,
          42,
          43,
          44,
          45,
          46,
          47,
          48,
          49,
          50,
          51,
          52,
          53,
          54,
          55,
          56,
          57,
          58,
          59,
          60,
          61,
          62,
          63,
          64,
          65,
          66,
          67,
          68,
          69,
          70,
          71,
          72,
          73,
          74,
          75,
          76,
          77,
          78,
          79,
          80,
          81,
          82,
          83,
          84,
          85,
          86,
          87,
          88,
          89,
          90,
          91,
          92,
          93,
          94,
          95,
          96,
          97,
          98,
          99,
          100,
          101,
          102,
          103,
          104,
          105,
          106,
          107,
          108,
          109,
          110,
          111,
          112,
          113,
          114,
          115,
          116,
          117,
          118,
          119,
          120,
          121,
          122,
          123,
          124,
          125,
          126,
          127,
          128,
          129,
          130,
          131,
          132,
          133,
          134,
          135,
          136,
          137,
          138,
          139,
          140,
          141,
          142,
          143,
          144,
          145,
          146,
          147,
          148,
          149,
          150,
          151,
          152,
          153,
          154,
          155,
          156,
          157,
          158,
          159,
          160,
          161,
          162,
          163,
          164,
          165,
          166,
          167,
          168,
          169,
          170,
          171,
          172,
          173,
          174,
          175,
          176,
          177,
          178,
          179,
          180,
          181,
          182,
          183,
          184,
          185,
          186,
          187,
          188,
          189,
          190,
          191,
          192,
          193,
          194,
          195,
          196,
          197,
          198,
          199,
          200,
          201,
          202,
          203,
          204,
          205,
          206,
          207,
          208,
          209,
          210,
          211,
          212,
          213,
          214,
          215,
          216,
          217,
          218,
          219,
          220,
          221,
          222,
          223,
          224,
          225,
          226,
          227,
          228,
          229
         ],
         "y": [
          0.3382900262549403,
          0.38450827059455733,
          0.16184478244091774,
          0.20788758145269887,
          0.2378255338544077,
          0.2730197453412553,
          0.27509154113057527,
          0.49789625972625606,
          0.479221314825822,
          0.5326435684560226,
          0,
          0,
          0,
          0,
          0,
          0,
          0.13976494109949272,
          0.13976494109949272,
          0.5228577407881622,
          0,
          0,
          0,
          0.42240245158666995,
          0,
          0,
          0.22080900327161246,
          0,
          0,
          0,
          0.5512232881617966,
          0.4499504697640746,
          0.2276924710364273,
          0.4834124891669289,
          0.17990683439497449,
          0,
          0.3085358762723174,
          0.26693929640208797,
          0.4212788402975728,
          0.32781164332845114,
          0.4192136931547728,
          0.4887697102810953,
          0.31095103295454113,
          0.45775789534520406,
          0.2773619392768161,
          0.34086063490665236,
          0.37639927685940416,
          0.27223700727261146,
          0.22402956186953446,
          0.34058994328483266,
          0.28017607189545474,
          0.35973893281786395,
          0.45060228520476137,
          0.31645750351898205,
          0.5747601506416047,
          0.23075065685834295,
          0.46771129451352966,
          0.23381530205382378,
          0.4495917307885978,
          0.21889897780592268,
          0.3760468843899049,
          0.4743599262217183,
          0.471930416761266,
          0.33306316988268914,
          0.5177886437810589,
          0.3685109660316094,
          0.4453858251014126,
          0.24645641609309724,
          0.48276378286938604,
          0.3297535591804561,
          0.24805166679016236,
          0.41619794073240124,
          0,
          0,
          0,
          0.4602949516279806,
          0.3172211692110195,
          0,
          0.37944068752697896,
          0.391313433066409,
          0,
          0,
          0.1892959893032505,
          0.5536882005705086,
          0.5287572925309931,
          0.5906901106119694,
          0.347240456507212,
          0.28846914193914075,
          0.4812416734319699,
          0.20860740835132865,
          0.45933802548835395,
          0.4469507703347546,
          0.24563337404707683,
          0.48011746387292287,
          0.49631438001772,
          0,
          0,
          0.45486535415810875,
          0.5386940369412461,
          0.2589556048567885,
          0,
          0,
          0.4728421677760808,
          0.3235622062206234,
          0.4484198241483952,
          0.3585993847815764,
          0.45707251484928885,
          0.28716372899389386,
          0.4603067332873156,
          0.32884146256946745,
          0.36055073495165224,
          0.3653244988024218,
          0.2932995273204581,
          0.293115420471089,
          0.35260791161782595,
          0.44716887604642264,
          0.19765062042378465,
          0.18881291733196812,
          0.40855922472973205,
          0.4742815683482508,
          0.4057852106064587,
          0.40634276418393306,
          0.486029488734109,
          0.39752631888342177,
          0.36539801052881604,
          0.3409829446432809,
          0.42788278315800937,
          0.2724479473042883,
          0.22734982544055485,
          0.4945640381286867,
          0.17555734923740937,
          0.2450709484197714,
          0.1541951969943151,
          0.22041573421536909,
          0.3429442331629027,
          0.2198859071086905,
          0.309615866981581,
          0.4251994420878027,
          0.44941136723439773,
          0.4390608731885858,
          0.2508008564368559,
          0.18964200786728438,
          0.19059758117682504,
          0.2159804083874205,
          0.5285100073357706,
          0.3837642393641201,
          0.46407263199888865,
          0.24577826799756436,
          0.5115053560277225,
          0.42378727655943427,
          0.285440165390214,
          0.1970241996989531,
          0.33317808490725553,
          0.3765286385434461,
          0.25717407219599087,
          0.2240429762810068,
          0.28157170000652537,
          0.2466191698872478,
          0.2454225514246778,
          0.3644734926588406,
          0.20022745960517094,
          0.2635869707315367,
          0.4785989463872634,
          0.7311412231308602,
          0.6159108005550826,
          0.18945444773434278,
          0.4813000492799632,
          0.24623807515271154,
          0.32530900468411084,
          0.17112984342740825,
          0.3869405325678454,
          0.4027454619931274,
          0.2532328518080864,
          0.3676033241384609,
          0.46540709717811135,
          0.4879713324857257,
          0.30009319690610486,
          0.4679454460180428,
          0.5072224149448095,
          0.2705929652729893,
          0.26867970551466247,
          0.298648728678187,
          0.2642391755912156,
          0.24203124218630154,
          0.24203124218630154,
          0.2314285623762667,
          0.1637135246598966,
          0.44142811981907776,
          0.2078414413465956,
          0.20191849280479465,
          0.4655718297574837,
          0.25097015071838596,
          0.24533385498657595,
          0.2725954922143294,
          0.5032406513997989,
          0.49870432653533375,
          0.3342545906419742,
          0.21940905524551604,
          0.5416902900818761,
          0.24374150617907492,
          0.40930916656020894,
          0.27400583170024395,
          0.3795342203144444,
          0.2941891026422058,
          0.29425683234828287,
          0.466020963850442,
          0.4647604881731105,
          0.24100446938405687,
          0.2579419875009017,
          0.20912518004121958,
          0.4890762620588413,
          0.4743683408407467,
          0.659412249347345,
          0.3458891019425456,
          0.282755774595104,
          0.299588701523675,
          0.21062699805114585,
          0.26484451994012154,
          0.6335061365790354,
          0.4030195051659832,
          0.4250736155231217,
          0.4737693988220239,
          0.253337230633948,
          0.2538506871013768,
          0.5369405571725843,
          0.2947654489122998,
          0,
          0.2829027419352299,
          0.5503617035419117,
          0.19179755122396003,
          0.42237144719990394
         ]
        }
       ],
       "layout": {
        "height": 280,
        "hoverlabel": {
         "bgcolor": "white",
         "font": {
          "family": "Rockwell",
          "size": 13
         }
        },
        "margin": {
         "b": 5,
         "l": 5,
         "r": 5,
         "t": 5
        },
        "template": {
         "data": {
          "bar": [
           {
            "error_x": {
             "color": "#2a3f5f"
            },
            "error_y": {
             "color": "#2a3f5f"
            },
            "marker": {
             "line": {
              "color": "#E5ECF6",
              "width": 0.5
             }
            },
            "type": "bar"
           }
          ],
          "barpolar": [
           {
            "marker": {
             "line": {
              "color": "#E5ECF6",
              "width": 0.5
             }
            },
            "type": "barpolar"
           }
          ],
          "carpet": [
           {
            "aaxis": {
             "endlinecolor": "#2a3f5f",
             "gridcolor": "white",
             "linecolor": "white",
             "minorgridcolor": "white",
             "startlinecolor": "#2a3f5f"
            },
            "baxis": {
             "endlinecolor": "#2a3f5f",
             "gridcolor": "white",
             "linecolor": "white",
             "minorgridcolor": "white",
             "startlinecolor": "#2a3f5f"
            },
            "type": "carpet"
           }
          ],
          "choropleth": [
           {
            "colorbar": {
             "outlinewidth": 0,
             "ticks": ""
            },
            "type": "choropleth"
           }
          ],
          "contour": [
           {
            "colorbar": {
             "outlinewidth": 0,
             "ticks": ""
            },
            "colorscale": [
             [
              0,
              "#0d0887"
             ],
             [
              0.1111111111111111,
              "#46039f"
             ],
             [
              0.2222222222222222,
              "#7201a8"
             ],
             [
              0.3333333333333333,
              "#9c179e"
             ],
             [
              0.4444444444444444,
              "#bd3786"
             ],
             [
              0.5555555555555556,
              "#d8576b"
             ],
             [
              0.6666666666666666,
              "#ed7953"
             ],
             [
              0.7777777777777778,
              "#fb9f3a"
             ],
             [
              0.8888888888888888,
              "#fdca26"
             ],
             [
              1,
              "#f0f921"
             ]
            ],
            "type": "contour"
           }
          ],
          "contourcarpet": [
           {
            "colorbar": {
             "outlinewidth": 0,
             "ticks": ""
            },
            "type": "contourcarpet"
           }
          ],
          "heatmap": [
           {
            "colorbar": {
             "outlinewidth": 0,
             "ticks": ""
            },
            "colorscale": [
             [
              0,
              "#0d0887"
             ],
             [
              0.1111111111111111,
              "#46039f"
             ],
             [
              0.2222222222222222,
              "#7201a8"
             ],
             [
              0.3333333333333333,
              "#9c179e"
             ],
             [
              0.4444444444444444,
              "#bd3786"
             ],
             [
              0.5555555555555556,
              "#d8576b"
             ],
             [
              0.6666666666666666,
              "#ed7953"
             ],
             [
              0.7777777777777778,
              "#fb9f3a"
             ],
             [
              0.8888888888888888,
              "#fdca26"
             ],
             [
              1,
              "#f0f921"
             ]
            ],
            "type": "heatmap"
           }
          ],
          "heatmapgl": [
           {
            "colorbar": {
             "outlinewidth": 0,
             "ticks": ""
            },
            "colorscale": [
             [
              0,
              "#0d0887"
             ],
             [
              0.1111111111111111,
              "#46039f"
             ],
             [
              0.2222222222222222,
              "#7201a8"
             ],
             [
              0.3333333333333333,
              "#9c179e"
             ],
             [
              0.4444444444444444,
              "#bd3786"
             ],
             [
              0.5555555555555556,
              "#d8576b"
             ],
             [
              0.6666666666666666,
              "#ed7953"
             ],
             [
              0.7777777777777778,
              "#fb9f3a"
             ],
             [
              0.8888888888888888,
              "#fdca26"
             ],
             [
              1,
              "#f0f921"
             ]
            ],
            "type": "heatmapgl"
           }
          ],
          "histogram": [
           {
            "marker": {
             "colorbar": {
              "outlinewidth": 0,
              "ticks": ""
             }
            },
            "type": "histogram"
           }
          ],
          "histogram2d": [
           {
            "colorbar": {
             "outlinewidth": 0,
             "ticks": ""
            },
            "colorscale": [
             [
              0,
              "#0d0887"
             ],
             [
              0.1111111111111111,
              "#46039f"
             ],
             [
              0.2222222222222222,
              "#7201a8"
             ],
             [
              0.3333333333333333,
              "#9c179e"
             ],
             [
              0.4444444444444444,
              "#bd3786"
             ],
             [
              0.5555555555555556,
              "#d8576b"
             ],
             [
              0.6666666666666666,
              "#ed7953"
             ],
             [
              0.7777777777777778,
              "#fb9f3a"
             ],
             [
              0.8888888888888888,
              "#fdca26"
             ],
             [
              1,
              "#f0f921"
             ]
            ],
            "type": "histogram2d"
           }
          ],
          "histogram2dcontour": [
           {
            "colorbar": {
             "outlinewidth": 0,
             "ticks": ""
            },
            "colorscale": [
             [
              0,
              "#0d0887"
             ],
             [
              0.1111111111111111,
              "#46039f"
             ],
             [
              0.2222222222222222,
              "#7201a8"
             ],
             [
              0.3333333333333333,
              "#9c179e"
             ],
             [
              0.4444444444444444,
              "#bd3786"
             ],
             [
              0.5555555555555556,
              "#d8576b"
             ],
             [
              0.6666666666666666,
              "#ed7953"
             ],
             [
              0.7777777777777778,
              "#fb9f3a"
             ],
             [
              0.8888888888888888,
              "#fdca26"
             ],
             [
              1,
              "#f0f921"
             ]
            ],
            "type": "histogram2dcontour"
           }
          ],
          "mesh3d": [
           {
            "colorbar": {
             "outlinewidth": 0,
             "ticks": ""
            },
            "type": "mesh3d"
           }
          ],
          "parcoords": [
           {
            "line": {
             "colorbar": {
              "outlinewidth": 0,
              "ticks": ""
             }
            },
            "type": "parcoords"
           }
          ],
          "pie": [
           {
            "automargin": true,
            "type": "pie"
           }
          ],
          "scatter": [
           {
            "marker": {
             "colorbar": {
              "outlinewidth": 0,
              "ticks": ""
             }
            },
            "type": "scatter"
           }
          ],
          "scatter3d": [
           {
            "line": {
             "colorbar": {
              "outlinewidth": 0,
              "ticks": ""
             }
            },
            "marker": {
             "colorbar": {
              "outlinewidth": 0,
              "ticks": ""
             }
            },
            "type": "scatter3d"
           }
          ],
          "scattercarpet": [
           {
            "marker": {
             "colorbar": {
              "outlinewidth": 0,
              "ticks": ""
             }
            },
            "type": "scattercarpet"
           }
          ],
          "scattergeo": [
           {
            "marker": {
             "colorbar": {
              "outlinewidth": 0,
              "ticks": ""
             }
            },
            "type": "scattergeo"
           }
          ],
          "scattergl": [
           {
            "marker": {
             "colorbar": {
              "outlinewidth": 0,
              "ticks": ""
             }
            },
            "type": "scattergl"
           }
          ],
          "scattermapbox": [
           {
            "marker": {
             "colorbar": {
              "outlinewidth": 0,
              "ticks": ""
             }
            },
            "type": "scattermapbox"
           }
          ],
          "scatterpolar": [
           {
            "marker": {
             "colorbar": {
              "outlinewidth": 0,
              "ticks": ""
             }
            },
            "type": "scatterpolar"
           }
          ],
          "scatterpolargl": [
           {
            "marker": {
             "colorbar": {
              "outlinewidth": 0,
              "ticks": ""
             }
            },
            "type": "scatterpolargl"
           }
          ],
          "scatterternary": [
           {
            "marker": {
             "colorbar": {
              "outlinewidth": 0,
              "ticks": ""
             }
            },
            "type": "scatterternary"
           }
          ],
          "surface": [
           {
            "colorbar": {
             "outlinewidth": 0,
             "ticks": ""
            },
            "colorscale": [
             [
              0,
              "#0d0887"
             ],
             [
              0.1111111111111111,
              "#46039f"
             ],
             [
              0.2222222222222222,
              "#7201a8"
             ],
             [
              0.3333333333333333,
              "#9c179e"
             ],
             [
              0.4444444444444444,
              "#bd3786"
             ],
             [
              0.5555555555555556,
              "#d8576b"
             ],
             [
              0.6666666666666666,
              "#ed7953"
             ],
             [
              0.7777777777777778,
              "#fb9f3a"
             ],
             [
              0.8888888888888888,
              "#fdca26"
             ],
             [
              1,
              "#f0f921"
             ]
            ],
            "type": "surface"
           }
          ],
          "table": [
           {
            "cells": {
             "fill": {
              "color": "#EBF0F8"
             },
             "line": {
              "color": "white"
             }
            },
            "header": {
             "fill": {
              "color": "#C8D4E3"
             },
             "line": {
              "color": "white"
             }
            },
            "type": "table"
           }
          ]
         },
         "layout": {
          "annotationdefaults": {
           "arrowcolor": "#2a3f5f",
           "arrowhead": 0,
           "arrowwidth": 1
          },
          "coloraxis": {
           "colorbar": {
            "outlinewidth": 0,
            "ticks": ""
           }
          },
          "colorscale": {
           "diverging": [
            [
             0,
             "#8e0152"
            ],
            [
             0.1,
             "#c51b7d"
            ],
            [
             0.2,
             "#de77ae"
            ],
            [
             0.3,
             "#f1b6da"
            ],
            [
             0.4,
             "#fde0ef"
            ],
            [
             0.5,
             "#f7f7f7"
            ],
            [
             0.6,
             "#e6f5d0"
            ],
            [
             0.7,
             "#b8e186"
            ],
            [
             0.8,
             "#7fbc41"
            ],
            [
             0.9,
             "#4d9221"
            ],
            [
             1,
             "#276419"
            ]
           ],
           "sequential": [
            [
             0,
             "#0d0887"
            ],
            [
             0.1111111111111111,
             "#46039f"
            ],
            [
             0.2222222222222222,
             "#7201a8"
            ],
            [
             0.3333333333333333,
             "#9c179e"
            ],
            [
             0.4444444444444444,
             "#bd3786"
            ],
            [
             0.5555555555555556,
             "#d8576b"
            ],
            [
             0.6666666666666666,
             "#ed7953"
            ],
            [
             0.7777777777777778,
             "#fb9f3a"
            ],
            [
             0.8888888888888888,
             "#fdca26"
            ],
            [
             1,
             "#f0f921"
            ]
           ],
           "sequentialminus": [
            [
             0,
             "#0d0887"
            ],
            [
             0.1111111111111111,
             "#46039f"
            ],
            [
             0.2222222222222222,
             "#7201a8"
            ],
            [
             0.3333333333333333,
             "#9c179e"
            ],
            [
             0.4444444444444444,
             "#bd3786"
            ],
            [
             0.5555555555555556,
             "#d8576b"
            ],
            [
             0.6666666666666666,
             "#ed7953"
            ],
            [
             0.7777777777777778,
             "#fb9f3a"
            ],
            [
             0.8888888888888888,
             "#fdca26"
            ],
            [
             1,
             "#f0f921"
            ]
           ]
          },
          "colorway": [
           "#636efa",
           "#EF553B",
           "#00cc96",
           "#ab63fa",
           "#FFA15A",
           "#19d3f3",
           "#FF6692",
           "#B6E880",
           "#FF97FF",
           "#FECB52"
          ],
          "font": {
           "color": "#2a3f5f"
          },
          "geo": {
           "bgcolor": "white",
           "lakecolor": "white",
           "landcolor": "#E5ECF6",
           "showlakes": true,
           "showland": true,
           "subunitcolor": "white"
          },
          "hoverlabel": {
           "align": "left"
          },
          "hovermode": "closest",
          "mapbox": {
           "style": "light"
          },
          "paper_bgcolor": "white",
          "plot_bgcolor": "#E5ECF6",
          "polar": {
           "angularaxis": {
            "gridcolor": "white",
            "linecolor": "white",
            "ticks": ""
           },
           "bgcolor": "#E5ECF6",
           "radialaxis": {
            "gridcolor": "white",
            "linecolor": "white",
            "ticks": ""
           }
          },
          "scene": {
           "xaxis": {
            "backgroundcolor": "#E5ECF6",
            "gridcolor": "white",
            "gridwidth": 2,
            "linecolor": "white",
            "showbackground": true,
            "ticks": "",
            "zerolinecolor": "white"
           },
           "yaxis": {
            "backgroundcolor": "#E5ECF6",
            "gridcolor": "white",
            "gridwidth": 2,
            "linecolor": "white",
            "showbackground": true,
            "ticks": "",
            "zerolinecolor": "white"
           },
           "zaxis": {
            "backgroundcolor": "#E5ECF6",
            "gridcolor": "white",
            "gridwidth": 2,
            "linecolor": "white",
            "showbackground": true,
            "ticks": "",
            "zerolinecolor": "white"
           }
          },
          "shapedefaults": {
           "line": {
            "color": "#2a3f5f"
           }
          },
          "ternary": {
           "aaxis": {
            "gridcolor": "white",
            "linecolor": "white",
            "ticks": ""
           },
           "baxis": {
            "gridcolor": "white",
            "linecolor": "white",
            "ticks": ""
           },
           "bgcolor": "#E5ECF6",
           "caxis": {
            "gridcolor": "white",
            "linecolor": "white",
            "ticks": ""
           }
          },
          "title": {
           "x": 0.05
          },
          "xaxis": {
           "automargin": true,
           "gridcolor": "white",
           "linecolor": "white",
           "ticks": "",
           "title": {
            "standoff": 15
           },
           "zerolinecolor": "white",
           "zerolinewidth": 2
          },
          "yaxis": {
           "automargin": true,
           "gridcolor": "white",
           "linecolor": "white",
           "ticks": "",
           "title": {
            "standoff": 15
           },
           "zerolinecolor": "white",
           "zerolinewidth": 2
          }
         }
        },
        "title": {
         "text": ""
        },
        "width": 400,
        "xaxis": {
         "showticklabels": false,
         "title": {
          "text": ""
         }
        },
        "yaxis": {
         "title": {
          "text": "Similarity to context"
         }
        }
       }
      },
      "text/html": [
       "<div>\n",
       "        \n",
       "        \n",
       "            <div id=\"f3a59e0e-86bc-4c12-a49e-1a493f986f2c\" class=\"plotly-graph-div\" style=\"height:280px; width:400px;\"></div>\n",
       "            <script type=\"text/javascript\">\n",
       "                require([\"plotly\"], function(Plotly) {\n",
       "                    window.PLOTLYENV=window.PLOTLYENV || {};\n",
       "                    \n",
       "                if (document.getElementById(\"f3a59e0e-86bc-4c12-a49e-1a493f986f2c\")) {\n",
       "                    Plotly.newPlot(\n",
       "                        'f3a59e0e-86bc-4c12-a49e-1a493f986f2c',\n",
       "                        [{\"hovertext\": [\"Age was not used in the model since preliminary analysis<br>revealed near zero correlation with the total and evoked<br>power data and the groups had narrow age range and no<br>significant mean age difference see Table for mean age for<br>the two groups\", \"Alcoholic probands were recruited from inpatient and<br>outpatient treatment facilities and they and their first<br>degree relatives were interviewed with the SSAGA Semi<br>Structured Assessment of Genetics of Alcoholism semi<br>structured diagnostic psychiatric interview schedule<br>designed by COGA investigators Bucholz Hesselbrock\", \"All six collaborating sites used identical experimental<br>procedures and EEG acquisition hardware and software\", \"Alternatively the differences may arise due to altered<br>topography of the cognitive potentials in younger versus the<br>older subjects\", \"Although an enhancement of EEG power is thought to<br>correspond to an activation of larger number of neural<br>assemblies Lopes da the interpretation of increased<br>intertrial phase locking is more difficult to define\", \"Although there are no significant gender effects analyzing<br>both genders as one sample could increase the variability of<br>P300 amplitudes observed here\", \"Although there are no studies that report developmental<br>changes in the visual modality one could speculate that the<br>changes could be of similar nature to the one reported for<br>auditory modality\", \"An interesting issue that is highlighted by the genetic<br>studies of theta and delta oscillations is that these<br>measures have provided significant clues to associations<br>with transmitter related genes GABA receptor gene and<br>resting EEG beta band Porjesz\", \"Another study reported increased coupling of theta<br>oscillations between prefrontal and parietal cortices during<br>the retention interval of memory tasks Sarnthein\", \"As discussed earlier there is much evidence in the<br>literature on lowered P300 in adolescents associated with<br>family history of alcoholism\", \"Basar\", \"Basar\", \"Basar Eroglu\", \"Basar Eroglu\", \"Basar Eroglu\", \"Basar Eroglu\", \"Basar Eroglu and\", \"Basar Eroglu and\", \"Based on the indications of most past research studies on<br>visual P300 in alcoholism and risk the ERP component of<br>interest in this study was the parietal P300 Porjesz\", \"Begleiter\", \"Benegal\", \"Berman\", \"CHRM2 and theta and delta band for oddball targets\", \"Cohen\", \"Connor Connor\", \"Control families were recruited from HMOs drivers license<br>records and dental clinics with the objective of being<br>representative of the general population at each site\", \"Courchesne\", \"Demiralp\", \"Demiralp\", \"Developmental changes in the event related theta response<br>have been reported by one study for the auditory stimulus<br>response in children between the ages of to years and adults<br>between the ages of and years\", \"During actual retrieval however theta oscillations were<br>reversed and spread from posterior to anterior sites\", \"EEG segments from channels F3 Fz F4 C3 Cz C4 P3 Pz and P4<br>were used in order to assess topographic aspects of the ERO<br>measures\", \"EEG theta power was reported to increase when information is<br>encoded Klimesch or retrieved Klimesch from long term memory\", \"Each subject wore fitted electrode cap Electro Cap<br>International Inc Eaton OH using the channel montage as<br>specified according to the International system FP1 FP2 F7<br>F3 Fz F4 F8 T7 C3 Cz C4 T8 P7 P3 Pz P4 P8 O1 and O2\", \"Ehlers Ehlers\", \"Electrode impedances were always maintained below Electrical<br>activity was amplified times by Sensorium EPA<br>Electrophysiology amplifiers Charlotte VT with band pass<br>between Hz and Hz and digitized on computer Concurrent<br>Computer Corp Atlanta GA\", \"Electrooculogram EOG was recorded from electrodes placed<br>supraorbitally and at the outer canthus of the left eye\", \"Evidence suggests that ERP features arise from<br>superpositioned neuroelectric oscillations modulated or<br>produced by sensory and cognitive processes set into the<br>dynamics of ongoing EEG rhythms\", \"Evoked delta power on the other hand revealed highly<br>significant group differences overall\", \"Evoked power which highlights the phase locked oscillatory<br>components revealed no significant differences between the<br>groups for the theta band although it was observed that the<br>HR had lower values than LR\", \"Evoked theta power was not significantly different between<br>the two groups although few electrode locations in central<br>and parietal regions showed weakly significant differences\", \"Families in which the proband and two additional first<br>degree relatives met lifetime criteria for alcohol<br>dependence by both Feighner and DSM IIIR criteria were<br>designated Stage II and extended family members were also<br>interviewed\", \"Finally the authors also report on increasing phase locking<br>capabilities with age and suggest that the capacity to<br>produce stable enhanced theta responses probably reaches<br>maturity well beyond the age of years\", \"From the Stage II family members blood was drawn for<br>establishing lymphoblastoid cell lines and biochemical<br>analyses and neurophysiological and neuropsychological<br>assessments were conducted\", \"Functionally authors have proposed that the delta response<br>is mainly related to signal detection and decision making\", \"Furthermore these identified genetic locations also have<br>significant associations with the diagnoses of alcohol<br>dependence Wang In addition recent studies suggested that<br>GABRA2 is significantly associated with childhood conduct<br>disorder symptoms as well as with marijuana dependence and<br>illicit drug dependence Agrawal\", \"Gender main effect and Group Gender interaction effect were<br>not significant Table\", \"Hence the EEG segments for the target case only were used<br>for the time frequency analysis and only the parietal leads<br>P3 Pz and P4 were used for P300 amplitude measurements\", \"Hill and colleagues in their studies on developmental<br>patterns of P300 in children and adolescents postulated that<br>developmental delay resulted in the lowered amplitudes of<br>P300 seen in highrisk children Hill\", \"However many studies have established robust visual P300<br>differences in young adult high risk subjects Porjesz\", \"However significant Group main effect was present only for<br>delta band\", \"However the maximal amplitudes of theta in both time windows<br>were always higher for children when compared to the adults\", \"However the topographic locus of group differences between<br>the high risk and their controls in the present study and<br>the alcoholics and controls as reported in the study of<br>Jones were not similar\", \"However these studies have clearly demonstrated that ERP<br>characteristics change substantially from children to adults\", \"However with more difficult visual paradigms the effect<br>sizes for the two age groups converged\", \"In addition our study using logistic regression procedures<br>suggests that each band theta and delta provides unique<br>information and as composite variable effectively<br>discriminates between control and alcohol dependent subjects\", \"In another study the external stimulus processing produced<br>transient highly ordered microstate that did not depend on<br>stimulus modality\", \"In contrast to the theta band the evoked delta power<br>differences were as strong as or marginally stronger than<br>the total power in the delta band\", \"In effect the transform is method of spectral localization<br>with similarities to the continuous wavelet transform except<br>using the concept of frequency instead of scale\", \"In follow up study on adult high risk offspring the same<br>authors report strongly reduced delta band power in the<br>parietal regions only for the Go condition\", \"In the Go condition strong delta band total ERO deficits for<br>alcoholics were observed over frontal parietal and occipital<br>locations however no theta band differences were noted in<br>alcoholics when compared to the controls Kamarajan\", \"In the high risk adult population the results for the same<br>task revealed parietal delta and theta band total power<br>reductions for the Go condition Kamarajan\", \"In the instances where group effect was significant<br>secondary analysis included tests as post hoc analysis for<br>group differences at each electrode position\", \"In the present study HR adolescents show power deficiencies<br>in both delta and theta bands however theta band differences<br>were stronger using the total power measure while delta<br>differences were marginally better for the evoked power<br>measure\", \"In the present study the delta band differences between the<br>HR and LR subjects closely correspond to P300 differences<br>reported in alcoholics and high risk subjects\", \"In the same genetic study mentioned earlier for the theta<br>band we have also reported significant linkage<br>disequilibrium between target case parietal delta band in<br>visual evoked brain oscillations and cholinergic muscarinic<br>receptor gene CHRM2 SNPs on chromosome\", \"In these studies the go trials closely resemble the target<br>trial used in the present study\", \"It has been suggested by Basar that diffuse and distributed<br>theta system exists in the brain\", \"It has been suggested that delta activity is generated by<br>cortico cortical interactions with some subcortical<br>contributions\", \"It has been suggested that the muscarinic autoreceptor M2<br>controls the cortical excitability by influencing<br>cholinergic and glutamatergic neurotransmission Alcantara<br>Mrzljak\", \"Jones have reported significant linkage and linkage<br>disequilibrium between target case frontal theta band in<br>visual evoked brain oscillations and single nucleotide<br>polymorphism SNP from the cholinergic muscarinic receptor<br>gene CHRM2 on chromosome\", \"Kamarajan\", \"Kamarajan\", \"Kamarajan\", \"Kamarajan in study of oscillations in adult high risk<br>offspring in Go No Go P300 paradigm also report strongly<br>reduced theta band power only in the parietal regions for<br>the Go condition\", \"Kamarajan reported study of oscillations in adult alcoholics<br>in Go No Go P300 paradigm\", \"Karakas\", \"Karakas consider the P300 component to be composed of<br>superimposed delta and theta oscillations\", \"Karakas hypothesized that the delta response represents<br>degrees of consciousness involved during conscious stimulus<br>evaluation and memory updating and that the theta<br>oscillation represents different levels and forms of<br>attention\", \"Klimesch\", \"Klimesch\", \"Klimesch and selective attention and shortterm memory Basar<br>Eroglu Basar\", \"LR control subjects had higher total band power for delta<br>and theta bands in all electrodes when compared to the HR<br>offspring of alcoholics\", \"LR subjects had higher mean evoked band power for delta and<br>theta bands in all electrodes when compared to the HR<br>offspring of alcoholics\", \"Lowered total theta power had frontal focus in adult<br>alcoholics while adolescent high risk subjects manifested<br>centroparietal focus\", \"Many of the same risk factors underlie these common<br>psychiatric disorders and can be explained by small number<br>of underlying factors Kendler\", \"Mean values for both total and evoked power were calculated<br>from the respective TFR amplitude envelope within time<br>frequency regions of interest TFROIs Lachaux specified by<br>frequency band ranges and time intervals\", \"Modality independent transient theta dominated state may<br>reflect processing stage that is obligatory for stimulus<br>evaluation Yordanova\", \"Moreover Hill also report gender differences in the P300<br>growth trajectories\", \"Moreover no significant differences were seen in absolute<br>power of theta band when the resting EEG of the HR and LR<br>subjects were examined Rangaswamy unpublished data and we<br>have previously observed and reported theta power<br>differences in the resting EEG only in alcohol dependent<br>subjects Rangaswamy\", \"On the other hand eventrelated theta oscillations are<br>believed to be related to frontolimbic interactions Basar<br>Karakas Miller and are associated with complex set of<br>cognitive processes including alertness arousal or readiness<br>Basar memory related processes episodic encoding and<br>retrieval processes as revealed by event related<br>desynchronizationsynchronization\", \"One of the important criteria for an endophenotype is that<br>in addition to the affected individuals the trait must also<br>be present in the unaffected relatives and children of the<br>International Journal of Psychophysiology<br>www.elsevier.comlocateijpsycho affected individuals at rate<br>higher than the general population\", \"One possible interpretation of the theta band findings could<br>be related to slight trial to trial temporal jitter<br>variation\", \"Previously published and ongoing studies from our group have<br>examined theta and delta oscillations in adult populations<br>both alcohol dependent and high risk for the standard visual<br>oddball and Go No Go tasks Kamarajan Kamarajan\", \"Ramachandran\", \"Ratsma\", \"Regression analysis suggested that this age related decrease<br>in amplitude resulted from developmental decrease of<br>baseline theta amplitudes in the ongoing EEG theta activity\", \"Results from visual targets in the case control study in<br>adult controls and alcohol dependent subjects revealed that<br>total theta band power and evoked delta band power at the<br>frontal locus Fz best predicts the status of alcohol<br>dependence in an adult population\", \"Robust longitudinal studies of normal developmental changes<br>in P300 are lacking\", \"Rodriguez Holguin\", \"Schurmann\", \"Since the proposal by Stampfer and Basar the importance of<br>the underlying delta and theta brain oscillations in the<br>production of the P300 potential to rare target stimulus has<br>been extensively examined Basar\", \"Some authors believe that delta response may be generated by<br>cortico cortical interactions\", \"Some authors have also shown that evoked theta oscillations<br>spread from anterior to posterior regions during combined<br>short and long term memory task Sauseng\", \"Some early studies have indicated that the main portion of<br>P300 power is not within the theta band but within sub delta<br>and delta bands especially as P300 is virtually abolished<br>with high pass setting at Hz Duncanor Hz\", \"Some studies indicate that event related theta activity may<br>not only contribute directly to P300 waveform expression but<br>may also modify P300 via other processes in the theta<br>frequency channel of the EEG Kolev\", \"Specification of the time windows and further sub windowing<br>of the frequency bands was based on visual inspection of<br>grand mean TFR data and the spatial distribution of grand<br>mean ERO estimates over the scalp\", \"Specification of the time windows for the frequency bands<br>was based on peak latency of the P300 ERP response in the<br>target trials\", \"Studies exploring the time course of oscillatory changes<br>underlying the target stimulus response suggest that delta<br>oscillations contribute considerably and mainly to the P300<br>component Basar Eroglu Demiralp Kolev\", \"Studies on normal individuals indicated that the delta<br>response is possibly related to signal detection and<br>decision making generated by distributed network system\", \"Studies relating to externalizing disorders have shown that<br>general vulnerability is what is passed on to the next<br>generation with each disorder representing different<br>expression of this general vulnerability Hicks Slutske<br>Krueger Jacobson Kendler\", \"Studies suggest that separate analysis of event related<br>power and phase locking changes in cognitive tasks might<br>reveal specific insights into the mechanisms underlying<br>different cognitive functions Fell Shah\", \"Subjects responded with button press to the rare target<br>stimulus the responding hand was alternated across subjects<br>to counterbalance any laterality effects due to responding\", \"Subjects under the age of years were administered the<br>childadolescent version of SSAGA called the CSSAGA\", \"Subjects were participants in the ongoing Collaborative<br>Study on the Genetics of Alcoholism COGA multisite multi<br>stage national consortium designed to study the genetics of<br>alcoholism\", \"Subjects were seated comfortably in dimly lit sound<br>attenuated temperature regulated booth Industrial Acoustics<br>Company Bronx NY and instructed to remain relaxed and<br>respond to the target stimulus with button press with their<br>dominant hand\", \"The Bonferroni correction for multiple comparisons retained<br>significance at all three parietal and two central leads\", \"The HR group had parental diagnosis of alcoholism for either<br>or both parents\", \"The High Risk HR group comprised adolescent offspring of<br>alcoholics males and females from COGA families\", \"The LR sample was controlled for alcoholism and substance<br>useabuse and the base rate of other co occurring conditions<br>in the LR and HR sample was maintained\", \"The Low Risk LR group comprised adolescents males and<br>females from control families in which there were no first<br>degree relatives with diagnosis of DSM IIIR alcohol<br>dependence by direct interview\", \"The No Go condition also revealed strong delta and theta<br>band ERO differences\", \"The P300 amplitude decrements do not recover with abstinence<br>therefore suggesting that reduced P300 amplitude antecedes<br>the development of alcoholism\", \"The P300 amplitude in the parietal leads P3 Pz and P4 was<br>also significantly lower in the HR adolescents when analyzed<br>using multivariate model\", \"The P300 amplitude reduction has been replicated under<br>different experimental conditions with and without alcohol<br>administration in both older and younger subjects at risk in<br>male and female offspring and in subjects of different<br>ethnicities\", \"The P300 amplitudes are also reduced in these subjects but<br>the differences are not as strong as seen for the<br>oscillations thus making case for the oscillations as more<br>stable endophenotype in the study of alcoholism and related<br>disorders\", \"The P300 component is positive going wave that occurs<br>between and ms after significant or rare stimulus and is not<br>related to its physical features\", \"The P300 has been proposed to reflect attentional allocation<br>and context updating processes of working memory cognitive<br>closure and is probably associated with activation of<br>inhibitory processes over widespread cortical areas<br>Birbaumer Rockstroh\", \"The P300 or P3b component of the visual event related<br>potential ERP has proved to be successful endophenotype in<br>the study of alcoholism and an associated spectrum of<br>externalizing disorders Iacono Porjesz\", \"The Visual oddball task consisted of the presentation of<br>three types of visual stimuli non target target and novel<br>each stimulus with ms duration and subtending visual angle<br>of\", \"The age range of subjects in the present study spans mid to<br>late adolescence\", \"The amplitude envelope of the complex valued transform TFR<br>is calculated by taking the absolute value\", \"The amplitude of P300 reflects inhibitory processes of<br>irrelevant stimuli Birbaumer Klimesch while its time of<br>occurrence latency reflects mental processing speed the<br>earlier and larger the P300 the easier the processing\", \"The amplitudes of visual P300 have been reported to decrease<br>with age in children and adolescents\", \"The authors also suggested that the visual P300 amplitudes<br>had theoretical point of convergence around the age of for<br>high risk and low risk subjects\", \"The authors have reported robust P300 amplitude reductions<br>in the parietal region of the alcoholic sample for the Go<br>trials Kamarajan\", \"The authors observed significant developmental decreases in<br>theta response amplitudes in the early ms and late ms time<br>windows of the passive non target and target related epochs\", \"The authors speculate that concentrationdependent mechanism<br>in the cholinergic system may underlie the theta and delta<br>oscillations the latter being generated at lower muscarinic<br>activities\", \"The average peak latency of the P300 for all subjects was ms<br>Total and evoked band power in the theta and delta band in<br>channels F3 Fz F4 C3 Cz C4 P3 Pz and P4 were logtransformed<br>and group differences were evaluated using full factorial<br>multivariate design MANOVA SPSS with group and gender main<br>and interaction effects\", \"The cholinergic M2 autoreceptor is preferentially localized<br>to forebrain striatal and hippocampal regions and the<br>function of this receptor is to provide negative feedback<br>limiting the release of acetylcholine\", \"The clinical details of the year olds is tabulated in the<br>Table\", \"The collaborative sites are located at SUNYDownstate Medical<br>Center at Brooklyn University of Connecticut Health Center<br>Washington University School of Medicine in St Louis<br>University of California at San Diego University of Iowa and<br>Indiana University School of Medicine\", \"The control families were interviewed with the SSAGA CSSAGA<br>and underwent the full Stage II protocol\", \"The debate is ongoing however it is likely that both aspects<br>event related activation of neural assemblies and phase<br>resetting of ongoing activity are involved in the generation<br>of late ERP components\", \"The delta band differences reported in alcoholics Kamarajan<br>Jones and offspring of alcoholics and in the present study<br>closely corresponds to P300 differences reported in<br>alcoholics and highrisk subjects\", \"The delta band differences were again widespread whereas the<br>theta band differences were focused in frontal electrode<br>positions\", \"The developmental changes in P300 amplitude and topography<br>have been explored by very few cross sectional normative<br>studies in the visual modality\", \"The developmental increase in phase locking may probably be<br>related to lack of group difference in evoked theta power<br>noted in the present study sample that comprised of<br>adolescent HR\", \"The effect of age is critical in uncovering P300 amplitude<br>differences by alcoholism risk status as suggested by<br>metaanalysis study Polich\", \"The electrophysiological data used in the analysis were<br>derived from visual oddball trials for target cases since<br>our major objective was to compare high risk and controls<br>during target stimulus processing\", \"The evoked response ERO EVK enhances events which are phase<br>locked to the stimulus and reduces all other energy<br>including events which are subject to trial to trial<br>temporal jitter\", \"The exclusion criteria for neurophysiological assessment<br>were as follows Subjects were excluded if breath analyzer<br>test was positive for alcohol hepatic<br>encephalopathycirrhosis of the liver or acutechronic illness<br>were present significant history of head injury seizures or<br>neurosurgical procedures was present uncorrected sensory<br>deficits were manifested tested positive for HIV they were<br>on medication affectinginfluencing brain functioning or had<br>used any psychoactive substances in the past days history or<br>symptom of psychoses was reported symptoms of current<br>depression was present\", \"The finding of low voltage P300 amplitudes in prepubescent<br>sons of alcoholic fathers compared to boys without first or<br>second degree alcoholic relatives in experiments without the<br>administration of alcohol or placebo was first reported by<br>Begleiter\", \"The grand mean waveforms are shown in Fig\", \"The instantaneous amplitude amplitude envelope of the<br>complex valued transform TFR may be calculated by taking the<br>absolute value ST the transform power is the square of the<br>amplitude while the absolutely referenced local phase<br>information can be obtained using arctan\\u00f0 ST\\u00f0t ST\\u00f0t \\u00de\\u00de.The<br>transform derived measures used in the analysis presented<br>here were obtained from the single trial and trialaveraged<br>response\", \"The institutional review board at each site approved the<br>research procedures in the COGA study and written consent<br>was obtained from each individual prior to participation\", \"The interstimulus interval was\", \"The largest effect sizes observed were between high and low<br>risk subjects under years old\", \"The lowered P300 amplitude observed in clinical samples of<br>alcoholics has also been established in community samples\", \"The mean P300 amplitudes at P3 and Pz electrode positions<br>were higher in LR individuals when compared to the HR<br>individuals and almost equal at P4\", \"The nose served as reference and the forehead was the ground<br>electrode\", \"The post hoc comparisons test at each electrode revealed<br>interesting differences for delta and theta bands Tables and\", \"The present study strongly indicates adolescent offspring of<br>alcoholics HR appear to have weaker or possibly less<br>organized theta system than the control LR subjects and<br>reduced post stimulus theta power may be strong<br>endophenotype for alcoholism and related disorders\", \"The primary purpose of the present study was to assess if<br>the low theta and delta band power seen previously in the<br>alcohol dependent subjects were trait markers for alcoholism\", \"The protocol of determining and establishing an<br>endophenotype has also been refined in the process Porjesz\", \"The reduction in total power was most prominent for the<br>theta band and the topography was centroparietal the delta<br>band changes were less robust but significant and largely<br>parietal in location\", \"The responses to task unrelated rare stimulus produces the<br>P3a which is more pronounced frontally while the responses<br>to the task related rare stimulus target produces the P3b<br>which has parietal maxima\", \"The responses to the Go condition had reduced delta band<br>power in the parietal occipital and frontal regions\", \"The responses to the Go condition in this task are similar<br>to the oddball target condition although the stimuli used in<br>the task are different\", \"The results from those studies strongly support the present<br>study that extends similar findings into HR adolescent<br>population\", \"The samples were matched for age but not matched on drug use<br>and other Axis conditions since the reported rates for some<br>conditions in subjects with family history of alcoholism are<br>elevated over normal population levels Cuijpers Nurnberger<br>Sher\", \"The sampling rate was Hz\", \"The similar results from our laboratory across two paradigms<br>indicate that the ERO measures are stable and consistent<br>across the two age groups adults and adolescents in<br>discriminating the affected and risk states\", \"The stimulus locked theta state may reflect processing stage<br>during which interfering activations from other frequency<br>networks are minimized Yordanova\", \"The study results show that HR adolescents have reduced<br>total theta Hz and delta Hz power in the to ms time window<br>after the target stimulus\", \"The time window was based on the temporal extent of the P300<br>component in the event related waveform for targets see Figs<br>and\", \"The topography of reduced theta power as reported for<br>alcoholics involves topographically frontal component<br>Kamarajan\", \"The topography of the group differences between HR and LR<br>adolescents in the present study was strongly central and<br>parietal for the total theta power\", \"The total TFR distribution was acquired by calculating an<br>average of each TFR distribution of individual target trials<br>after they were baseline corrected to remove DC shifts\", \"The total TFR representation when compared to the evoked TFR<br>data show greater amounts of energy occurring throughout the<br>trial period at both high and low frequencies\", \"The total epoch length used for analysis was ms this<br>included ms pre stimulus baseline\", \"The total power response ERO TOT enhances events that occur<br>in similar time range as related to the stimulus onset and<br>irrespective of their phase relations\", \"The transform TFR is computed by shifting the window<br>function down the signal in time across range of frequencies\", \"The transform TFR is computed by shifting the window<br>function down the signal in time across range of frequencies\", \"The transform generates time frequency representation TFR of<br>signal by integrating the signal at each time point with<br>series of windowed harmonics of various frequencies\", \"The transform is generalization of the Gabor transform and<br>an extension to the continuous wavelet transform\", \"The transition in the ERP waveform occurs in the midteens<br>and was suggested to reflect differences in the way children<br>and adults categorize events\", \"The trial averaged data for target cases were used to obtain<br>the evoked TFR\", \"The underlying mechanism of impaired organization may<br>involve the cholinergic systems\", \"The usual manifestation of alcoholism is as part of class of<br>disinhibitory disorders which includes co occurring<br>substance abuse and psychiatric disorders\", \"The window function is Gaussian and scales in width<br>according to the examined frequency\", \"The window function is Gaussian with variance and scales in<br>width according to the examined frequency\", \"There is considerable debate if these frequency bands are<br>independent functional entities from the P300 component\", \"There is convincing evidence that EEG oscillations in the<br>theta frequency range about Hz are related to working memory<br>tasks for an extensive review see\", \"Therefore individuals with suppressed delta and theta<br>responses are likely to show deficits in cognitive functions<br>that are mediated by these oscillatory processes\", \"These findings were not observed for the equivalent non<br>target case data suggesting role for the CHRM2 gene in<br>higher cognitive processing in humans\", \"These findings were not observed for the equivalent<br>nontarget case data\", \"These frequency windows theta and delta have been selected<br>based on the well known natural frequencies of brain rhythms<br>i.e delta theta alpha beta and gamma which have been related<br>in the literature to various cognitive functions and brain<br>states\", \"These neuroelectric oscillations when analyzed in the<br>context of stimulus related brain function can be termed<br>event related oscillations or EROs\", \"Theta band differences were stronger and significant at the<br>three central C3 Cz C4 and parietal P3 Pz P4 electrodes\", \"They observe lower starting amplitudes and slower decrease<br>in visual P300 amplitudes with age in high risk boys and<br>faster growth rate and higher amplitudes of P300 in high<br>risk girls in contrast to the respective low risk groups\", \"This implies that it is the oscillations theta and delta<br>rather than the event related potentials P300 that reflect<br>closer association with CNS structure and function<br>associated with the underlying vulnerability i2pf ds where<br>is the time domain signal is frequency is translation<br>parameter the first exponential is the window function and<br>the second exponential is the harmonic function\", \"This inverse dependence of the width of the Gaussian window<br>with frequency provides the frequency dependent resolution\", \"This inverse dependence of the width of the Gaussian window<br>with frequency provides the frequency dependent resolution<br>multiresolution\", \"This issue is underscored by another study from our group<br>when similar analyses were conducted on an adult population<br>significant evoked theta differences were noted\", \"This method has been previously described in genetic linkage<br>study of delta and theta EROs during the same visual oddball<br>paradigm employed in the present study see Appendix\", \"This phasic power enhancement is related to memory<br>performance Klimesch Klimesch as well as to task load Gevins\", \"This reflects the inclusion of energy which is not phase<br>locked to the stimulus onset in the ERO TOT measure total<br>power response\", \"This reflects the inclusion of energy which is not phase<br>locked to the stimulus onset in the total power response\", \"This state was consistently determined by synchronized theta<br>oscillations and had specific anterior distribution\", \"This study focused on TFROI corresponding to the theta Hz<br>and delta Hz frequency band in the to ms time window\", \"This study was designed to evaluate the neural oscillatory<br>activity in the theta and delta frequency ranges within the<br>temporal window of the P300 response to the visual target in<br>adolescent offspring of alcoholics who are considered at<br>high risk for developing alcoholism\", \"This suggests that time locked frequencies in the delta band<br>may contribute strongly to group differences and explain the<br>association with the P300 component\", \"This temporal jitter is less likely to affect the averaging<br>of the lower frequency delta band oscillations due to the<br>lower temporal resolution therefore the evoked power measure<br>may adequately represent the delta EROs\", \"To obtain an estimate of event related phase locked power<br>response ERO EVK the Stransform TFR power matrix was<br>calculated for the averaged event related response single<br>trial data averaged after alignment to the stimulus onset<br>per individual\", \"To obtain an estimate of event related total power response<br>ERO TOT stimulus onset phase locked plus non phase locked<br>oscillations the squared instantaneous amplitudes power of<br>the transform TFR were averaged across single trials for<br>each individual\", \"To obtain estimates of localized power of<br>nonstationaryevoked potential time series we employed<br>recently developed time frequency representation method the<br>transform Stockwell\", \"To summarize the theta and delta post stimulus oscillations<br>are remarkably reduced in adolescent offspring of alcoholics\", \"Total power time frequency distributions for theta and delta<br>band and their topographic spread is illustrated in Figs and\", \"Trial averaging of the ERP waveform will diminish<br>imperfectly phase locked theta band oscillations in the<br>evoked power measure while the total power measure will<br>retain this energy and therefore provide better estimate of<br>evoked theta EROs\", \"Two competing theories have tried to explain the genesis of<br>averaged eventrelated potential ERP features and dominate<br>the current literature Evoked model that ERPs originate from<br>an event related activation of neural assemblies distinct<br>from background dynamics and Phase reset model that ERPs are<br>produced by phase resetting of ongoing oscillatory activity<br>Makeig Tallon Baudry\", \"Two groups of subjects in the age range of years were<br>selected from the COGA and Control families\", \"Two types of time frequency response TFR distributions were<br>created using the transform\", \"Using Go No Go tasks several studies from our laboratory<br>have shown P300 delta and theta power differences in<br>alcoholics and high risk individuals\", \"Using electrophysiological measures as endophenotypes is<br>proving to be very useful tool in the study of psychiatric<br>genetics\", \"Van der Stelt\", \"We have attempted to examine phase locked frequency band<br>changes by examining evoked power in these bands in order to<br>assess nonphase locked contributions which is difficult to<br>quantify we have opted to compare total power which includes<br>both types in these bands\", \"We have previously demonstrated that power in theta and<br>delta bands in the ms window were significantly lower in<br>adult alcoholics when compared with age matched controls\", \"detailed description of the COGA recruitment procedure has<br>been described previously Begleiter\", \"meta analysis concluded that low P300 may have predictive<br>value as an index of vulnerability for alcoholism Polich\"], \"type\": \"bar\", \"x\": [0, 1, 2, 3, 4, 5, 6, 7, 8, 9, 10, 11, 12, 13, 14, 15, 16, 17, 18, 19, 20, 21, 22, 23, 24, 25, 26, 27, 28, 29, 30, 31, 32, 33, 34, 35, 36, 37, 38, 39, 40, 41, 42, 43, 44, 45, 46, 47, 48, 49, 50, 51, 52, 53, 54, 55, 56, 57, 58, 59, 60, 61, 62, 63, 64, 65, 66, 67, 68, 69, 70, 71, 72, 73, 74, 75, 76, 77, 78, 79, 80, 81, 82, 83, 84, 85, 86, 87, 88, 89, 90, 91, 92, 93, 94, 95, 96, 97, 98, 99, 100, 101, 102, 103, 104, 105, 106, 107, 108, 109, 110, 111, 112, 113, 114, 115, 116, 117, 118, 119, 120, 121, 122, 123, 124, 125, 126, 127, 128, 129, 130, 131, 132, 133, 134, 135, 136, 137, 138, 139, 140, 141, 142, 143, 144, 145, 146, 147, 148, 149, 150, 151, 152, 153, 154, 155, 156, 157, 158, 159, 160, 161, 162, 163, 164, 165, 166, 167, 168, 169, 170, 171, 172, 173, 174, 175, 176, 177, 178, 179, 180, 181, 182, 183, 184, 185, 186, 187, 188, 189, 190, 191, 192, 193, 194, 195, 196, 197, 198, 199, 200, 201, 202, 203, 204, 205, 206, 207, 208, 209, 210, 211, 212, 213, 214, 215, 216, 217, 218, 219, 220, 221, 222, 223, 224, 225, 226, 227, 228, 229], \"y\": [0.3382900262549403, 0.38450827059455733, 0.16184478244091774, 0.20788758145269887, 0.2378255338544077, 0.2730197453412553, 0.27509154113057527, 0.49789625972625606, 0.479221314825822, 0.5326435684560226, 0.0, 0.0, 0.0, 0.0, 0.0, 0.0, 0.13976494109949272, 0.13976494109949272, 0.5228577407881622, 0.0, 0.0, 0.0, 0.42240245158666995, 0.0, 0.0, 0.22080900327161246, 0.0, 0.0, 0.0, 0.5512232881617966, 0.4499504697640746, 0.2276924710364273, 0.4834124891669289, 0.17990683439497449, 0.0, 0.3085358762723174, 0.26693929640208797, 0.4212788402975728, 0.32781164332845114, 0.4192136931547728, 0.4887697102810953, 0.31095103295454113, 0.45775789534520406, 0.2773619392768161, 0.34086063490665236, 0.37639927685940416, 0.27223700727261146, 0.22402956186953446, 0.34058994328483266, 0.28017607189545474, 0.35973893281786395, 0.45060228520476137, 0.31645750351898205, 0.5747601506416047, 0.23075065685834295, 0.46771129451352966, 0.23381530205382378, 0.4495917307885978, 0.21889897780592268, 0.3760468843899049, 0.4743599262217183, 0.471930416761266, 0.33306316988268914, 0.5177886437810589, 0.3685109660316094, 0.4453858251014126, 0.24645641609309724, 0.48276378286938604, 0.3297535591804561, 0.24805166679016236, 0.41619794073240124, 0.0, 0.0, 0.0, 0.4602949516279806, 0.3172211692110195, 0.0, 0.37944068752697896, 0.391313433066409, 0.0, 0.0, 0.1892959893032505, 0.5536882005705086, 0.5287572925309931, 0.5906901106119694, 0.347240456507212, 0.28846914193914075, 0.4812416734319699, 0.20860740835132865, 0.45933802548835395, 0.4469507703347546, 0.24563337404707683, 0.48011746387292287, 0.49631438001772, 0.0, 0.0, 0.45486535415810875, 0.5386940369412461, 0.2589556048567885, 0.0, 0.0, 0.4728421677760808, 0.3235622062206234, 0.4484198241483952, 0.3585993847815764, 0.45707251484928885, 0.28716372899389386, 0.4603067332873156, 0.32884146256946745, 0.36055073495165224, 0.3653244988024218, 0.2932995273204581, 0.293115420471089, 0.35260791161782595, 0.44716887604642264, 0.19765062042378465, 0.18881291733196812, 0.40855922472973205, 0.4742815683482508, 0.4057852106064587, 0.40634276418393306, 0.486029488734109, 0.39752631888342177, 0.36539801052881604, 0.3409829446432809, 0.42788278315800937, 0.2724479473042883, 0.22734982544055485, 0.4945640381286867, 0.17555734923740937, 0.2450709484197714, 0.1541951969943151, 0.22041573421536909, 0.3429442331629027, 0.2198859071086905, 0.309615866981581, 0.4251994420878027, 0.44941136723439773, 0.4390608731885858, 0.2508008564368559, 0.18964200786728438, 0.19059758117682504, 0.2159804083874205, 0.5285100073357706, 0.3837642393641201, 0.46407263199888865, 0.24577826799756436, 0.5115053560277225, 0.42378727655943427, 0.285440165390214, 0.1970241996989531, 0.33317808490725553, 0.3765286385434461, 0.25717407219599087, 0.2240429762810068, 0.28157170000652537, 0.2466191698872478, 0.2454225514246778, 0.3644734926588406, 0.20022745960517094, 0.2635869707315367, 0.4785989463872634, 0.7311412231308602, 0.6159108005550826, 0.18945444773434278, 0.4813000492799632, 0.24623807515271154, 0.32530900468411084, 0.17112984342740825, 0.3869405325678454, 0.4027454619931274, 0.2532328518080864, 0.3676033241384609, 0.46540709717811135, 0.4879713324857257, 0.30009319690610486, 0.4679454460180428, 0.5072224149448095, 0.2705929652729893, 0.26867970551466247, 0.298648728678187, 0.2642391755912156, 0.24203124218630154, 0.24203124218630154, 0.2314285623762667, 0.1637135246598966, 0.44142811981907776, 0.2078414413465956, 0.20191849280479465, 0.4655718297574837, 0.25097015071838596, 0.24533385498657595, 0.2725954922143294, 0.5032406513997989, 0.49870432653533375, 0.3342545906419742, 0.21940905524551604, 0.5416902900818761, 0.24374150617907492, 0.40930916656020894, 0.27400583170024395, 0.3795342203144444, 0.2941891026422058, 0.29425683234828287, 0.466020963850442, 0.4647604881731105, 0.24100446938405687, 0.2579419875009017, 0.20912518004121958, 0.4890762620588413, 0.4743683408407467, 0.659412249347345, 0.3458891019425456, 0.282755774595104, 0.299588701523675, 0.21062699805114585, 0.26484451994012154, 0.6335061365790354, 0.4030195051659832, 0.4250736155231217, 0.4737693988220239, 0.253337230633948, 0.2538506871013768, 0.5369405571725843, 0.2947654489122998, 0.0, 0.2829027419352299, 0.5503617035419117, 0.19179755122396003, 0.42237144719990394]}],\n",
       "                        {\"height\": 280, \"hoverlabel\": {\"bgcolor\": \"white\", \"font\": {\"family\": \"Rockwell\", \"size\": 13}}, \"margin\": {\"b\": 5, \"l\": 5, \"r\": 5, \"t\": 5}, \"template\": {\"data\": {\"bar\": [{\"error_x\": {\"color\": \"#2a3f5f\"}, \"error_y\": {\"color\": \"#2a3f5f\"}, \"marker\": {\"line\": {\"color\": \"#E5ECF6\", \"width\": 0.5}}, \"type\": \"bar\"}], \"barpolar\": [{\"marker\": {\"line\": {\"color\": \"#E5ECF6\", \"width\": 0.5}}, \"type\": \"barpolar\"}], \"carpet\": [{\"aaxis\": {\"endlinecolor\": \"#2a3f5f\", \"gridcolor\": \"white\", \"linecolor\": \"white\", \"minorgridcolor\": \"white\", \"startlinecolor\": \"#2a3f5f\"}, \"baxis\": {\"endlinecolor\": \"#2a3f5f\", \"gridcolor\": \"white\", \"linecolor\": \"white\", \"minorgridcolor\": \"white\", \"startlinecolor\": \"#2a3f5f\"}, \"type\": \"carpet\"}], \"choropleth\": [{\"colorbar\": {\"outlinewidth\": 0, \"ticks\": \"\"}, \"type\": \"choropleth\"}], \"contour\": [{\"colorbar\": {\"outlinewidth\": 0, \"ticks\": \"\"}, \"colorscale\": [[0.0, \"#0d0887\"], [0.1111111111111111, \"#46039f\"], [0.2222222222222222, \"#7201a8\"], [0.3333333333333333, \"#9c179e\"], [0.4444444444444444, \"#bd3786\"], [0.5555555555555556, \"#d8576b\"], [0.6666666666666666, \"#ed7953\"], [0.7777777777777778, \"#fb9f3a\"], [0.8888888888888888, \"#fdca26\"], [1.0, \"#f0f921\"]], \"type\": \"contour\"}], \"contourcarpet\": [{\"colorbar\": {\"outlinewidth\": 0, \"ticks\": \"\"}, \"type\": \"contourcarpet\"}], \"heatmap\": [{\"colorbar\": {\"outlinewidth\": 0, \"ticks\": \"\"}, \"colorscale\": [[0.0, \"#0d0887\"], [0.1111111111111111, \"#46039f\"], [0.2222222222222222, \"#7201a8\"], [0.3333333333333333, \"#9c179e\"], [0.4444444444444444, \"#bd3786\"], [0.5555555555555556, \"#d8576b\"], [0.6666666666666666, \"#ed7953\"], [0.7777777777777778, \"#fb9f3a\"], [0.8888888888888888, \"#fdca26\"], [1.0, \"#f0f921\"]], \"type\": \"heatmap\"}], \"heatmapgl\": [{\"colorbar\": {\"outlinewidth\": 0, \"ticks\": \"\"}, \"colorscale\": [[0.0, \"#0d0887\"], [0.1111111111111111, \"#46039f\"], [0.2222222222222222, \"#7201a8\"], [0.3333333333333333, \"#9c179e\"], [0.4444444444444444, \"#bd3786\"], [0.5555555555555556, \"#d8576b\"], [0.6666666666666666, \"#ed7953\"], [0.7777777777777778, \"#fb9f3a\"], [0.8888888888888888, \"#fdca26\"], [1.0, \"#f0f921\"]], \"type\": \"heatmapgl\"}], \"histogram\": [{\"marker\": {\"colorbar\": {\"outlinewidth\": 0, \"ticks\": \"\"}}, \"type\": \"histogram\"}], \"histogram2d\": [{\"colorbar\": {\"outlinewidth\": 0, \"ticks\": \"\"}, \"colorscale\": [[0.0, \"#0d0887\"], [0.1111111111111111, \"#46039f\"], [0.2222222222222222, \"#7201a8\"], [0.3333333333333333, \"#9c179e\"], [0.4444444444444444, \"#bd3786\"], [0.5555555555555556, \"#d8576b\"], [0.6666666666666666, \"#ed7953\"], [0.7777777777777778, \"#fb9f3a\"], [0.8888888888888888, \"#fdca26\"], [1.0, \"#f0f921\"]], \"type\": \"histogram2d\"}], \"histogram2dcontour\": [{\"colorbar\": {\"outlinewidth\": 0, \"ticks\": \"\"}, \"colorscale\": [[0.0, \"#0d0887\"], [0.1111111111111111, \"#46039f\"], [0.2222222222222222, \"#7201a8\"], [0.3333333333333333, \"#9c179e\"], [0.4444444444444444, \"#bd3786\"], [0.5555555555555556, \"#d8576b\"], [0.6666666666666666, \"#ed7953\"], [0.7777777777777778, \"#fb9f3a\"], [0.8888888888888888, \"#fdca26\"], [1.0, \"#f0f921\"]], \"type\": \"histogram2dcontour\"}], \"mesh3d\": [{\"colorbar\": {\"outlinewidth\": 0, \"ticks\": \"\"}, \"type\": \"mesh3d\"}], \"parcoords\": [{\"line\": {\"colorbar\": {\"outlinewidth\": 0, \"ticks\": \"\"}}, \"type\": \"parcoords\"}], \"pie\": [{\"automargin\": true, \"type\": \"pie\"}], \"scatter\": [{\"marker\": {\"colorbar\": {\"outlinewidth\": 0, \"ticks\": \"\"}}, \"type\": \"scatter\"}], \"scatter3d\": [{\"line\": {\"colorbar\": {\"outlinewidth\": 0, \"ticks\": \"\"}}, \"marker\": {\"colorbar\": {\"outlinewidth\": 0, \"ticks\": \"\"}}, \"type\": \"scatter3d\"}], \"scattercarpet\": [{\"marker\": {\"colorbar\": {\"outlinewidth\": 0, \"ticks\": \"\"}}, \"type\": \"scattercarpet\"}], \"scattergeo\": [{\"marker\": {\"colorbar\": {\"outlinewidth\": 0, \"ticks\": \"\"}}, \"type\": \"scattergeo\"}], \"scattergl\": [{\"marker\": {\"colorbar\": {\"outlinewidth\": 0, \"ticks\": \"\"}}, \"type\": \"scattergl\"}], \"scattermapbox\": [{\"marker\": {\"colorbar\": {\"outlinewidth\": 0, \"ticks\": \"\"}}, \"type\": \"scattermapbox\"}], \"scatterpolar\": [{\"marker\": {\"colorbar\": {\"outlinewidth\": 0, \"ticks\": \"\"}}, \"type\": \"scatterpolar\"}], \"scatterpolargl\": [{\"marker\": {\"colorbar\": {\"outlinewidth\": 0, \"ticks\": \"\"}}, \"type\": \"scatterpolargl\"}], \"scatterternary\": [{\"marker\": {\"colorbar\": {\"outlinewidth\": 0, \"ticks\": \"\"}}, \"type\": \"scatterternary\"}], \"surface\": [{\"colorbar\": {\"outlinewidth\": 0, \"ticks\": \"\"}, \"colorscale\": [[0.0, \"#0d0887\"], [0.1111111111111111, \"#46039f\"], [0.2222222222222222, \"#7201a8\"], [0.3333333333333333, \"#9c179e\"], [0.4444444444444444, \"#bd3786\"], [0.5555555555555556, \"#d8576b\"], [0.6666666666666666, \"#ed7953\"], [0.7777777777777778, \"#fb9f3a\"], [0.8888888888888888, \"#fdca26\"], [1.0, \"#f0f921\"]], \"type\": \"surface\"}], \"table\": [{\"cells\": {\"fill\": {\"color\": \"#EBF0F8\"}, \"line\": {\"color\": \"white\"}}, \"header\": {\"fill\": {\"color\": \"#C8D4E3\"}, \"line\": {\"color\": \"white\"}}, \"type\": \"table\"}]}, \"layout\": {\"annotationdefaults\": {\"arrowcolor\": \"#2a3f5f\", \"arrowhead\": 0, \"arrowwidth\": 1}, \"coloraxis\": {\"colorbar\": {\"outlinewidth\": 0, \"ticks\": \"\"}}, \"colorscale\": {\"diverging\": [[0, \"#8e0152\"], [0.1, \"#c51b7d\"], [0.2, \"#de77ae\"], [0.3, \"#f1b6da\"], [0.4, \"#fde0ef\"], [0.5, \"#f7f7f7\"], [0.6, \"#e6f5d0\"], [0.7, \"#b8e186\"], [0.8, \"#7fbc41\"], [0.9, \"#4d9221\"], [1, \"#276419\"]], \"sequential\": [[0.0, \"#0d0887\"], [0.1111111111111111, \"#46039f\"], [0.2222222222222222, \"#7201a8\"], [0.3333333333333333, \"#9c179e\"], [0.4444444444444444, \"#bd3786\"], [0.5555555555555556, \"#d8576b\"], [0.6666666666666666, \"#ed7953\"], [0.7777777777777778, \"#fb9f3a\"], [0.8888888888888888, \"#fdca26\"], [1.0, \"#f0f921\"]], \"sequentialminus\": [[0.0, \"#0d0887\"], [0.1111111111111111, \"#46039f\"], [0.2222222222222222, \"#7201a8\"], [0.3333333333333333, \"#9c179e\"], [0.4444444444444444, \"#bd3786\"], [0.5555555555555556, \"#d8576b\"], [0.6666666666666666, \"#ed7953\"], [0.7777777777777778, \"#fb9f3a\"], [0.8888888888888888, \"#fdca26\"], [1.0, \"#f0f921\"]]}, \"colorway\": [\"#636efa\", \"#EF553B\", \"#00cc96\", \"#ab63fa\", \"#FFA15A\", \"#19d3f3\", \"#FF6692\", \"#B6E880\", \"#FF97FF\", \"#FECB52\"], \"font\": {\"color\": \"#2a3f5f\"}, \"geo\": {\"bgcolor\": \"white\", \"lakecolor\": \"white\", \"landcolor\": \"#E5ECF6\", \"showlakes\": true, \"showland\": true, \"subunitcolor\": \"white\"}, \"hoverlabel\": {\"align\": \"left\"}, \"hovermode\": \"closest\", \"mapbox\": {\"style\": \"light\"}, \"paper_bgcolor\": \"white\", \"plot_bgcolor\": \"#E5ECF6\", \"polar\": {\"angularaxis\": {\"gridcolor\": \"white\", \"linecolor\": \"white\", \"ticks\": \"\"}, \"bgcolor\": \"#E5ECF6\", \"radialaxis\": {\"gridcolor\": \"white\", \"linecolor\": \"white\", \"ticks\": \"\"}}, \"scene\": {\"xaxis\": {\"backgroundcolor\": \"#E5ECF6\", \"gridcolor\": \"white\", \"gridwidth\": 2, \"linecolor\": \"white\", \"showbackground\": true, \"ticks\": \"\", \"zerolinecolor\": \"white\"}, \"yaxis\": {\"backgroundcolor\": \"#E5ECF6\", \"gridcolor\": \"white\", \"gridwidth\": 2, \"linecolor\": \"white\", \"showbackground\": true, \"ticks\": \"\", \"zerolinecolor\": \"white\"}, \"zaxis\": {\"backgroundcolor\": \"#E5ECF6\", \"gridcolor\": \"white\", \"gridwidth\": 2, \"linecolor\": \"white\", \"showbackground\": true, \"ticks\": \"\", \"zerolinecolor\": \"white\"}}, \"shapedefaults\": {\"line\": {\"color\": \"#2a3f5f\"}}, \"ternary\": {\"aaxis\": {\"gridcolor\": \"white\", \"linecolor\": \"white\", \"ticks\": \"\"}, \"baxis\": {\"gridcolor\": \"white\", \"linecolor\": \"white\", \"ticks\": \"\"}, \"bgcolor\": \"#E5ECF6\", \"caxis\": {\"gridcolor\": \"white\", \"linecolor\": \"white\", \"ticks\": \"\"}}, \"title\": {\"x\": 0.05}, \"xaxis\": {\"automargin\": true, \"gridcolor\": \"white\", \"linecolor\": \"white\", \"ticks\": \"\", \"title\": {\"standoff\": 15}, \"zerolinecolor\": \"white\", \"zerolinewidth\": 2}, \"yaxis\": {\"automargin\": true, \"gridcolor\": \"white\", \"linecolor\": \"white\", \"ticks\": \"\", \"title\": {\"standoff\": 15}, \"zerolinecolor\": \"white\", \"zerolinewidth\": 2}}}, \"title\": {\"text\": \"\"}, \"width\": 400, \"xaxis\": {\"showticklabels\": false, \"title\": {\"text\": \"\"}}, \"yaxis\": {\"title\": {\"text\": \"Similarity to context\"}}},\n",
       "                        {\"responsive\": true}\n",
       "                    ).then(function(){\n",
       "                            \n",
       "var gd = document.getElementById('f3a59e0e-86bc-4c12-a49e-1a493f986f2c');\n",
       "var x = new MutationObserver(function (mutations, observer) {{\n",
       "        var display = window.getComputedStyle(gd).display;\n",
       "        if (!display || display === 'none') {{\n",
       "            console.log([gd, 'removed!']);\n",
       "            Plotly.purge(gd);\n",
       "            observer.disconnect();\n",
       "        }}\n",
       "}});\n",
       "\n",
       "// Listen for the removal of the full notebook cells\n",
       "var notebookContainer = gd.closest('#notebook-container');\n",
       "if (notebookContainer) {{\n",
       "    x.observe(notebookContainer, {childList: true});\n",
       "}}\n",
       "\n",
       "// Listen for the clearing of the current output cell\n",
       "var outputEl = gd.closest('.output');\n",
       "if (outputEl) {{\n",
       "    x.observe(outputEl, {childList: true});\n",
       "}}\n",
       "\n",
       "                        })\n",
       "                };\n",
       "                });\n",
       "            </script>\n",
       "        </div>"
      ]
     },
     "metadata": {},
     "output_type": "display_data"
    },
    {
     "data": {
      "text/plain": [
       "'[7]'"
      ]
     },
     "execution_count": 247,
     "metadata": {},
     "output_type": "execute_result"
    },
    {
     "data": {
      "text/plain": [
       "'its treatment, such as pain, fatigue, problems with speech and swallowing, and changes in facial appearance. These effects negatively affect their health-related quality of life [6] , and over 25% of HNC survivors suffer from clinical levels of distress [7] . However, in this population, moderate to high levels of PTG have consistently been found [8] [9] [10] , which are comparable to levels of PTG in other cancer populations [11] [12] [13] . In a systematic review including'"
      ]
     },
     "execution_count": 247,
     "metadata": {},
     "output_type": "execute_result"
    },
    {
     "data": {
      "application/vnd.plotly.v1+json": {
       "config": {
        "plotlyServerURL": "https://plot.ly"
       },
       "data": [
        {
         "hovertext": [
          "After eliminating duplicate studies of the identified<br>references the titles and available abstracts of the<br>remaining studies were examined by three reviewers and<br>Studies that possibly met inclusion criteria studies with no<br>abstract and studies that could not clearly be excluded on<br>the basis of the title and abstract were retrieved in full<br>text and scrutinized more extensively for eligibility",
          "After removing duplicates the literature searches yielded<br>records",
          "Also the equal weighing of the items of the bias list may be<br>to some extent arbitrary",
          "Also we were unable to study influences of other variables<br>such as age gender or type of treatment because of lack of<br>information in the majority of the included studies",
          "Although the prevalence of depression appeared to be highest<br>in patients with cancer of the digestive tract the brain<br>female genitalia and patients with hematological<br>malignancies the limited number of studies per cancer type<br>and small sample sizes of specific cancer types hamper us to<br>draw firm conclusions",
          "An explanation for this difference might be that diagnostic<br>interviews are standardized tools and use more stringent<br>criteria according to DSM or ICD for clinical depression<br>than self report instruments",
          "An exploration at symptom level would have been preferable",
          "Another strength was the inclusion of bias assessment and<br>our focus on medium and low bias risk studies",
          "As the prevalence of depression depends on the population<br>under study this list focused on the description of the<br>study population and ii the representativeness of the study<br>populations",
          "As we expected considerable heterogeneity among the studies<br>we decided to calculate the mean point prevalence and CI by<br>using random effects model",
          "Because both instruments are frequently used in cancer<br>research and clinical practice for the assessment of<br>depression we thought it was important to analyse both<br>assessment methods",
          "Because studies with high bias might lead to underestimation<br>or overestimation of overall prevalence of depression we<br>excluded these studies from analysis",
          "Burgess showed point prevalence of depression anxiety or<br>both of at diagnosis at months after diagnosis and at year<br>after treatment",
          "Clearly the prevalence of major depressive disorder in<br>cancer patients is much higher compared with the found in<br>the general population",
          "Consequently Vodermaier previously recommended implementing<br>routine self report for symptoms of depression in cancer<br>patients using valid and reliable self report instruments<br>such as the HADS the CES or the BDI",
          "Conversely in patients with symptoms of depression<br>assessment by diagnostic interviews may lead to<br>underrecognition of unmet needs for psychological support as<br>some oncologists may be insufficiently skilled to identify<br>psychological distress and perceived social support in<br>patients",
          "Depression can easily be overlooked because symptoms of<br>cancer and its treatment resemble neurovegetative symptoms<br>of depression such as fatigue loss of appetite and sleep<br>disturbance",
          "Differences in prevalence of depression were not only found<br>between patients treated for different cancer types but also<br>within patient populations treated for the same cancer type",
          "Figure Half of the studies provided information on reasons<br>for nonresponse or nonparticipation and time since diagnosis",
          "Figure Of the assessed studies studies had high bias risk<br>studies had medium bias risk and another had low bias risk",
          "Figure Through reference search an additional studies were<br>found eligible for inclusion",
          "For each study total bias score was calculated by counting<br>the number of criteria scored positively divided by the<br>total number of bias items i.e",
          "For example our results from relatively large group of<br>breast cancer patients including patients from cohorts<br>showed pooled prevalence of depression of CI as measured by<br>diagnostic interviews and of CI as measured by self report<br>instruments",
          "For that reason we could not perform depression analysis at<br>symptom level",
          "For the pooled analysis we focussed on the HADS and the CES<br>because prevalence of depression assessed by these<br>instruments were reported more than times in the total<br>number of cohorts",
          "For the use of these self report instruments no specific<br>skills are required and in case an increased risk of<br>depression is detected the patient should be able to be<br>referred to specialized psychosocial care provider",
          "Full text articles were retrieved for potentially relevant<br>records of which were excluded",
          "Further our findings show that prevalence of depression<br>assessed by both diagnostic interviews and self report<br>instruments was highest in the acute phase of the disease<br>and respectively and decreases afterwards",
          "Furthermore standardized diagnostic interviews are time<br>consuming and thus relatively expensive which hampers<br>routine implementation in busy oncological settings",
          "Heterogeneity was high",
          "Heterogeneity was high ranging from to Table",
          "Heterogeneity was high ranging from to Table",
          "However the overall prevalence rate of depression in cancer<br>patients remains unclear previous studies reported<br>prevalence rates between and",
          "If study referred to another publication describing relevant<br>information about the first study the additional publication<br>was obtained to score the item of concern",
          "In addition only one third of the studies reported<br>information on history of psychiatric problems",
          "In addition we included papers that were not included by<br>Mitchell",
          "In addition we performed subgroup analyses in which we<br>tested whether there were significant differences in<br>prevalence of depression between different types of<br>depression measurement instruments ii cancer type and iii<br>treatment phase during diagnosis or treatment year<br>posttreatment and year posttreatment",
          "In an earlier meta analysis Mitchell reported pooled<br>prevalence of CI among studies using diagnostic interviews",
          "In case of disagreement between the two reviewers on<br>assigning scores third reviewer was consulted to discuss the<br>item of Krebber al.concern until consensus was reached",
          "In case of incomplete or unclear information or lack of<br>description negative score was given",
          "In clinical practice therefore self report instruments are<br>often used to detect depressive symptoms and to assess<br>severity of symptoms",
          "In nearly million new cases of cancer excluding non melanoma<br>skin cancer were diagnosed worldwide and this number is<br>expected to increase to million by",
          "In the past decades studies have evaluated the prevalence of<br>depression in cancer patients",
          "In the present study we could not determine clear pattern of<br>depression rates at the different treatment phases of<br>specific cancer types because we were unable to disentangle<br>whether differences in prevalence rates were due to<br>treatment phase or to types of cancer included",
          "In the random effects model it is assumed that the included<br>studies are drawn from populations of studies that differ<br>from each other systematically heterogeneity",
          "In this meta analysis we found pooled mean prevalence of<br>depression to be in cancer patients in non palliative care<br>settings during or after treatment and the prevalence<br>differed by the type of instrument used to measure<br>depression cancer type and treatment phase",
          "In this model the prevalence resulting from the included<br>studies not only differs because of the random error within<br>studies fixed effects model but also because of true<br>variation in prevalence from one study to the next",
          "Items for the description of the study population included<br>sociodemographic characteristics at least three of the<br>following four age gender marital status and education and<br>employment or socioeconomic status cancer type tumor status<br>type of treatment time since diagnosis treatment phase<br>inclusion and exclusion criteria and information about<br>history of psychiatric problems of the participants",
          "Items of the representativeness of the study population<br>included sample size presentation of participation or<br>response rate reasons for nonresponse or nonparticipation<br>presented comparison of characteristics of responders and<br>non responders and consecutive sampling method",
          "Larger samples of specific cancer types at precise point in<br>cancer treatment should be examined and information on<br>history of depression is preferable",
          "Lee showed point prevalence of depression of preoperatively<br>at months postoperatively and at year after treatment",
          "Many cancer patients and survivors suffer from psychological<br>problems such as depression",
          "More than of the assessed studies reported cancer type and<br>inclusion and exclusion criteria",
          "Nevertheless because both physiological and psychological<br>symptoms of depression can be diagnostically useful when<br>looking for depression excluding neurovegetative symptoms<br>from depression assessment instruments may impair the<br>ability to diagnose depression in cancer settings",
          "Nevertheless heterogeneity was high and it remained high<br>after analysing subgroups of different instruments cancer<br>types and treatment phase",
          "Nevertheless we recommend that criteria and demands<br>regarding population and sample recruitment in studies<br>should be standardized and followed conscientiously in<br>future research in order to secure psychometrical quality of<br>trials",
          "No meta analysis has been published to quantitatively<br>summarize prevalence of depression in cancer patients as<br>measured by self report instruments and psychiatric<br>interviews",
          "Of all cancer types lung cancer breast cancer colorectal<br>cancer stomach cancer and prostate cancer are the most<br>common worldwide",
          "Of the assessed studies had medium and low bias risk and<br>high bias risk",
          "On the basis of diagnostic interviews the prevalence of<br>depression ranged from in patients with lung cancer to in<br>patients with cancer of the brain",
          "On the basis of self report instruments we also found the<br>highest prevalence of depression in the acute phase of<br>disease with pooled prevalence of CI",
          "On the basis of the title and abstract we excluded records<br>that did not meet our inclusion criteria",
          "Other difficulties to detect depression in cancer patients<br>are the lack of specific skills to diagnose mental disorders<br>lack of time in busy oncological settings and reluctance of<br>the patient to discuss emotional well being",
          "Other prospective studies showed that there are distinct<br>patterns regarding the course of psychological distress<br>ranging from resilience no distress before or after<br>treatment recovery elevated distress followed by return to<br>normal delayed recovery and persisting distress",
          "Pooled mean prevalence of depression in cancer patients<br>during or after treatment ranged between and and depended on<br>the instruments used type of cancer and treatment phase",
          "Pooled mean prevalence was calculated for instruments that<br>were used more than times in the total number of cohorts",
          "Pooled prevalence in the first year posttreatment was CI and<br>it was CI after the first year",
          "Pooled prevalence of depression was CI in cohorts using HADS<br>with cut off CI in cohorts using HADS with cut off and CI in<br>cohorts using CES with cut off",
          "Prevalence of depression Over all studies pooled prevalence<br>of major depressive disorder as measured by semi structured<br>and structured diagnostic interviews was CI",
          "Prevalence of depression differed substantially according to<br>the diagnostic instrument used and was substantially higher<br>when self report instruments were used as compared with the<br>diagnostic instruments",
          "Prevalence of major depressive disorder appeared to be as<br>measured by DSM or ICD",
          "Pubmed was additionally scanned by using the following Mesh<br>terms depression epidemiology psychologicalepidemiology<br>depressive disorderepidemiology and neoplasms",
          "Recent advances in diagnosis and treatment of cancer<br>patients have led to improved survival rates",
          "Recently Mitchell conducted meta analysis on studies to<br>determine the prevalence of depression in cancer patients in<br>oncological hematological and palliative care settings",
          "Regarding treatment phase as measured by diagnostic<br>interviews we found the highest prevalence of depression in<br>the acute phase of disease with pooled prevalence of CI<br>against pooled prevalence of CI in the first year<br>posttreatment and CI year or more posttreatment",
          "Self report instruments have the advantage of being quick<br>easy to administer inexpensive and they rely on<br>psychological and cognitive symptoms rather than<br>physiological symptoms",
          "Self report instruments were used times of which the HADS<br>with cut off was used times the HADS with cut off was used<br>times and CES with cut off was used times",
          "Selfreport instruments are designed to measure an increased<br>risk for or severity of depression instead of diagnosing<br>depressive disorder",
          "Several factors may contribute to this wide range of<br>prevalence rates including the use of different instruments<br>to assess depression with different psychometric properties<br>ii the use of different criteria to define depression and<br>iii differences between included cancer populations with<br>respect to cancer type stage and treatment modality",
          "Studies were identified by combining keywords and text words<br>indicative of epidemiology e.g epidemiologic epidemiological<br>epidemiol preval and inciden depression e.g depressi<br>depression emotion distress depressive disorder and major<br>depression and neoplasms e.g tumor tumors tumorous tumour<br>and carcino",
          "Table Characteristics of the analysed studies are shown in<br>Table Supporting information After excluding studies with<br>high bias risk we found pooled prevalence of major<br>depressive disorder as measured by semi structured and<br>structured diagnostic interviews of CI",
          "Table On the basis of self report instruments HADS with cut<br>off and CES with cut off prevalence of depression ranged<br>from in patients with skin cancer to patients with cancer of<br>the digestive tract",
          "Table Pooled prevalence of depression was CI in cohorts<br>using HADS with cut off CI in cohorts using HADS with cut<br>off and CI in cohorts using CES with cut off",
          "The average bias score was SD on point scale and the scores<br>ranged from highest bias risk to lowest bias risk",
          "The bias risk of each study was assessed using item list<br>adapted from existing criteria lists",
          "The detection of depression in cancer patients is difficult",
          "The eligible studies described total of cohorts comprising<br>patients cohorts on cancer of the breast on cancer of the<br>male genitalia on cancer of the head and neck on<br>hematological malignancies on cancer of the female genitalia<br>on cancer of the digestive tract on cancer of the<br>respiratory tract seven on cancer of the brain three on<br>cancer of the skin two on cancer of the bone and soft tissue<br>two on cancer of the urinary tract and two on cancer of the<br>endocrine system",
          "The majority of the studies did not compare characteristics<br>of responders and nonresponders limiting insight in the<br>generalizability of the results",
          "The reviewers and extracted the following data from the<br>included studies meanmedian age ii sex iii cancer type iv<br>time since diagnosis type of treatment vi treatment phase<br>during treatment year after treatment year after treatment<br>and mixed phases vii instrument for assessment of depression<br>and viii sample size and number of cases of depression more<br>specifically major depressive disorder as measured by<br>diagnostic interviews and increased risk for depression as<br>measured by self report instruments",
          "The reviewers and or independently performed the bias<br>assessments",
          "The small number of cohorts hampered us to disentangle<br>differences in prevalence caused by cancer type and<br>differences caused by treatment phase which may reduce the<br>heterogeneity of studies",
          "The use of self report instruments may overestimate the<br>presence of depression",
          "Therefore we note that the use of self report instruments<br>might overestimate the presence of depression and<br>consequently overrate patients need for psychological<br>treatment",
          "These recommendations are supported by Mitchell who also<br>advised using two step procedure incorporating both<br>screening ruling out non cases and case finding ruling in<br>probable cases by two stem questions",
          "These results are in accordance with the findings of Fann<br>reporting the prevalence of major depressive disorder as<br>measured by structured interviews among breast cancer<br>patients ranging from to",
          "They reported pooled prevalence of major depression in non<br>palliative care settings of CI as measured via psychiatric<br>interviews according to the DSM IV criteria or International<br>Classification of Diseases ICD",
          "This may interfere with the patient ability to cope with the<br>burden of the illness it may decrease acceptance of<br>treatment extend hospitalization reduce quality of life and<br>increase suicide risk",
          "This small difference may be caused by the fact that we<br>searched four databases and included more recently conducted<br>studies up to and we did not include studies examining<br>psychometric properties of instruments nor did we include<br>studies with high bias score in our analysis",
          "This study is meta analysis to estimate the prevalence of<br>depression in patients during or after cancer treatment as<br>assessed by diagnostic interviews and self report<br>instruments",
          "To calculate pooled mean prevalence of depression we used<br>the computer program Comprehensive Meta Analysis version by<br>Borenstein Biostat Englewood New Jersey US",
          "To determine major depression ICD uses similar criteria as<br>DSM III ÀR IV but adding higher threshold categories which<br>might have resulted in lower prevalences of major depression<br>when assessed by ICD acknowledge that cut off points are to<br>some extent arbitrary and prevalence of depression depends<br>on the chosen cut off point per questionnaire",
          "Under recognition may result in undertreatment as two thirds<br>of screen positive cases may develop full blown depression<br>if left untreated",
          "Unfortunately in the current study we were unable to<br>identify the influences of these factors on prevalence rates",
          "Unfortunately the prevalence of depression in the analysed<br>studies was mostly reported as exceeding certain cutoff<br>point rather than score on the individual symptoms of<br>depression",
          "We also calculated the statistic but only report whether<br>this was significant or not",
          "We distinguish between depressive disorders assessed using<br>diagnostic interviews and symptom prevalence as measured by<br>self report instruments",
          "We excluded high bias risk studies from subgroup analysis<br>because these studies might lead to overestimation or<br>underestimation of overall prevalence of depression",
          "We found differences in the prevalence of depression across<br>patients treated for different cancer types",
          "We found minimal difference in prevalence of depression<br>between analysis of all studies and analysis of medium and<br>low bias risk studies only",
          "We included studies that reported the prevalence of<br>depression in adult patients in non palliative care settings<br>during or after cancer treatment ii assessed depression by<br>semi structured or structured diagnostic interviews based on<br>criteria by DSM III ÀR IV or ICD or by self report<br>instruments with good or excellent psychometric quality as<br>rated by Vodermaier that is the Hospital Anxiety and<br>Depression Scale depression subscale HADS the Center for<br>Epidemiologic Studies Depression Scale CES Beck Depression<br>Inventory BDI and Brief Symptom Inventory iii defined<br>depression as major depressive disorder based on criteria by<br>DSM III ÀR IV or ICD and as increased risk of depression by<br>self report instruments and iv were written in English",
          "We tested the heterogeneity under the fixed model using the<br>statistic",
          "We used the mixed effects model which pooled studies within<br>subgroups with the random effects model but tested for<br>significant differences between subgroups with the fixed<br>effects model",
          "Wide ranges in prevalence of depression within groups of<br>patients with similar diagnosis may be caused by the time<br>point of measurement type of cancer treatment number of side<br>effects of cancer treatment and gender",
          "comprehensive literature search was performed up to in four<br>databases Pub Med Psyc INFO EMBASE and CINAHL",
          "describes the variance between studies as proportion of the<br>total variance",
          "history of depression increases the risk of recurrence of<br>depressive episode",
          "minority of the studies provided information on comparison<br>of characteristics between responders and nonresponders and<br>history of psychiatric problems",
          "positive score was given if the study provided adequate<br>information regarding the item of concern",
          "prevalence of depression in breast cancer patients that is<br>from to",
          "similar drop has been found in early breast cancer patients<br>by Burgess and Lee",
          "strength of this study is the inclusion of both diagnostic<br>interviews and self report instruments",
          "structured or semi structured diagnostic interview Table was<br>used times in the cohorts",
          "study was considered of low bias risk if the score was at<br>least of the total possible score and of medium bias risk if<br>the score was between and",
          "value of indicates no observed heterogeneity and larger<br>values show increasing heterogeneity with as low as moderate<br>and as high heterogeneity"
         ],
         "type": "bar",
         "x": [
          0,
          1,
          2,
          3,
          4,
          5,
          6,
          7,
          8,
          9,
          10,
          11,
          12,
          13,
          14,
          15,
          16,
          17,
          18,
          19,
          20,
          21,
          22,
          23,
          24,
          25,
          26,
          27,
          28,
          29,
          30,
          31,
          32,
          33,
          34,
          35,
          36,
          37,
          38,
          39,
          40,
          41,
          42,
          43,
          44,
          45,
          46,
          47,
          48,
          49,
          50,
          51,
          52,
          53,
          54,
          55,
          56,
          57,
          58,
          59,
          60,
          61,
          62,
          63,
          64,
          65,
          66,
          67,
          68,
          69,
          70,
          71,
          72,
          73,
          74,
          75,
          76,
          77,
          78,
          79,
          80,
          81,
          82,
          83,
          84,
          85,
          86,
          87,
          88,
          89,
          90,
          91,
          92,
          93,
          94,
          95,
          96,
          97,
          98,
          99,
          100,
          101,
          102,
          103,
          104,
          105,
          106,
          107,
          108,
          109,
          110,
          111,
          112,
          113,
          114,
          115,
          116,
          117,
          118,
          119,
          120,
          121,
          122,
          123
         ],
         "y": [
          0.09880571286367036,
          0,
          0.09144118389464227,
          0.17282083854135472,
          0.1564295298260227,
          0.18770933667490133,
          0.14587794327063514,
          0.09184202221522798,
          0.15519726005713974,
          0.15396184966522056,
          0.22029477155830993,
          0.13217727398721468,
          0.1636762885906594,
          0.18940586337648713,
          0.1606075864548336,
          0.22736907283769078,
          0.27684252009208604,
          0.1944644994944329,
          0.0888834348927372,
          0.13112281343767884,
          0.1321179123120704,
          0.08536149202484296,
          0.17049079363804126,
          0.1442135931256265,
          0.11259916972626523,
          0.12025267501863951,
          0.1106967005166288,
          0.09527036678370981,
          0.11108557988231607,
          0.12004120209883336,
          0.12800496393062272,
          0.12800496393062272,
          0.17998803535728267,
          0.09163520612298617,
          0.14575841702507866,
          0.0892257152113587,
          0.1800898170842193,
          0.09050052599982913,
          0.09033608761244974,
          0.09308712997765403,
          0.19917582869934328,
          0.17050119016751925,
          0.17498931856198033,
          0.18549473597486857,
          0.17524662266828114,
          0.18062352928765152,
          0.16099722036960093,
          0.19049492361507603,
          0.14343730525997136,
          0.19243513514779909,
          0.15571981972183047,
          0.32409850414915703,
          0.17347847070179548,
          0.15782139412499693,
          0.18105075567671827,
          0.1666973352223583,
          0.16556041532037113,
          0.16852470393031485,
          0.13104645655425487,
          0.17400621949620385,
          0.1289089669244105,
          0.09155455394023373,
          0.1624416186571686,
          0.25833478683661204,
          0.18354845051841134,
          0.09074787682370232,
          0.09684674020462493,
          0.09882274239680634,
          0.11456475421289782,
          0.10343293642051973,
          0.09167167770149504,
          0.08219473951765371,
          0.19573493941445125,
          0.1594027896084965,
          0.1590453630203876,
          0.10356502164739521,
          0.11252291967336045,
          0.09847982657419536,
          0.19104833216697897,
          0.20090554952623302,
          0.13631182921951318,
          0.16559831279881443,
          0.09881707097497719,
          0.10510651028438593,
          0.10355569810587623,
          0.1761612844990488,
          0.15237458269850004,
          0.09159109341457025,
          0.1810822504997189,
          0.0861660871164929,
          0.17653043322430645,
          0.08463381503495614,
          0.15587751040318915,
          0.12091635477789471,
          0.16687570389454295,
          0.09262595269228736,
          0.18075034461624906,
          0.1295585534344626,
          0.18982604882588394,
          0.08590018632383994,
          0.11221172866102679,
          0.0942182194071754,
          0.1206654405973795,
          0.0939494594303536,
          0.09833898516885281,
          0.09058954969225637,
          0.12916920704834997,
          0.1803032181974763,
          0.13235514553109076,
          0.16046785159053603,
          0,
          0.15475346576464097,
          0.20485077041798533,
          0.09148031319692462,
          0.09204462417684257,
          0.08433959588621902,
          0.13678873926631632,
          0.08618997524232014,
          0.17615756645992806,
          0.17998147045585938,
          0.10265575281399957,
          0.08789703741354758,
          0.09213160161265757,
          0.22282312365753465
         ]
        }
       ],
       "layout": {
        "height": 280,
        "hoverlabel": {
         "bgcolor": "white",
         "font": {
          "family": "Rockwell",
          "size": 13
         }
        },
        "margin": {
         "b": 5,
         "l": 5,
         "r": 5,
         "t": 5
        },
        "template": {
         "data": {
          "bar": [
           {
            "error_x": {
             "color": "#2a3f5f"
            },
            "error_y": {
             "color": "#2a3f5f"
            },
            "marker": {
             "line": {
              "color": "#E5ECF6",
              "width": 0.5
             }
            },
            "type": "bar"
           }
          ],
          "barpolar": [
           {
            "marker": {
             "line": {
              "color": "#E5ECF6",
              "width": 0.5
             }
            },
            "type": "barpolar"
           }
          ],
          "carpet": [
           {
            "aaxis": {
             "endlinecolor": "#2a3f5f",
             "gridcolor": "white",
             "linecolor": "white",
             "minorgridcolor": "white",
             "startlinecolor": "#2a3f5f"
            },
            "baxis": {
             "endlinecolor": "#2a3f5f",
             "gridcolor": "white",
             "linecolor": "white",
             "minorgridcolor": "white",
             "startlinecolor": "#2a3f5f"
            },
            "type": "carpet"
           }
          ],
          "choropleth": [
           {
            "colorbar": {
             "outlinewidth": 0,
             "ticks": ""
            },
            "type": "choropleth"
           }
          ],
          "contour": [
           {
            "colorbar": {
             "outlinewidth": 0,
             "ticks": ""
            },
            "colorscale": [
             [
              0,
              "#0d0887"
             ],
             [
              0.1111111111111111,
              "#46039f"
             ],
             [
              0.2222222222222222,
              "#7201a8"
             ],
             [
              0.3333333333333333,
              "#9c179e"
             ],
             [
              0.4444444444444444,
              "#bd3786"
             ],
             [
              0.5555555555555556,
              "#d8576b"
             ],
             [
              0.6666666666666666,
              "#ed7953"
             ],
             [
              0.7777777777777778,
              "#fb9f3a"
             ],
             [
              0.8888888888888888,
              "#fdca26"
             ],
             [
              1,
              "#f0f921"
             ]
            ],
            "type": "contour"
           }
          ],
          "contourcarpet": [
           {
            "colorbar": {
             "outlinewidth": 0,
             "ticks": ""
            },
            "type": "contourcarpet"
           }
          ],
          "heatmap": [
           {
            "colorbar": {
             "outlinewidth": 0,
             "ticks": ""
            },
            "colorscale": [
             [
              0,
              "#0d0887"
             ],
             [
              0.1111111111111111,
              "#46039f"
             ],
             [
              0.2222222222222222,
              "#7201a8"
             ],
             [
              0.3333333333333333,
              "#9c179e"
             ],
             [
              0.4444444444444444,
              "#bd3786"
             ],
             [
              0.5555555555555556,
              "#d8576b"
             ],
             [
              0.6666666666666666,
              "#ed7953"
             ],
             [
              0.7777777777777778,
              "#fb9f3a"
             ],
             [
              0.8888888888888888,
              "#fdca26"
             ],
             [
              1,
              "#f0f921"
             ]
            ],
            "type": "heatmap"
           }
          ],
          "heatmapgl": [
           {
            "colorbar": {
             "outlinewidth": 0,
             "ticks": ""
            },
            "colorscale": [
             [
              0,
              "#0d0887"
             ],
             [
              0.1111111111111111,
              "#46039f"
             ],
             [
              0.2222222222222222,
              "#7201a8"
             ],
             [
              0.3333333333333333,
              "#9c179e"
             ],
             [
              0.4444444444444444,
              "#bd3786"
             ],
             [
              0.5555555555555556,
              "#d8576b"
             ],
             [
              0.6666666666666666,
              "#ed7953"
             ],
             [
              0.7777777777777778,
              "#fb9f3a"
             ],
             [
              0.8888888888888888,
              "#fdca26"
             ],
             [
              1,
              "#f0f921"
             ]
            ],
            "type": "heatmapgl"
           }
          ],
          "histogram": [
           {
            "marker": {
             "colorbar": {
              "outlinewidth": 0,
              "ticks": ""
             }
            },
            "type": "histogram"
           }
          ],
          "histogram2d": [
           {
            "colorbar": {
             "outlinewidth": 0,
             "ticks": ""
            },
            "colorscale": [
             [
              0,
              "#0d0887"
             ],
             [
              0.1111111111111111,
              "#46039f"
             ],
             [
              0.2222222222222222,
              "#7201a8"
             ],
             [
              0.3333333333333333,
              "#9c179e"
             ],
             [
              0.4444444444444444,
              "#bd3786"
             ],
             [
              0.5555555555555556,
              "#d8576b"
             ],
             [
              0.6666666666666666,
              "#ed7953"
             ],
             [
              0.7777777777777778,
              "#fb9f3a"
             ],
             [
              0.8888888888888888,
              "#fdca26"
             ],
             [
              1,
              "#f0f921"
             ]
            ],
            "type": "histogram2d"
           }
          ],
          "histogram2dcontour": [
           {
            "colorbar": {
             "outlinewidth": 0,
             "ticks": ""
            },
            "colorscale": [
             [
              0,
              "#0d0887"
             ],
             [
              0.1111111111111111,
              "#46039f"
             ],
             [
              0.2222222222222222,
              "#7201a8"
             ],
             [
              0.3333333333333333,
              "#9c179e"
             ],
             [
              0.4444444444444444,
              "#bd3786"
             ],
             [
              0.5555555555555556,
              "#d8576b"
             ],
             [
              0.6666666666666666,
              "#ed7953"
             ],
             [
              0.7777777777777778,
              "#fb9f3a"
             ],
             [
              0.8888888888888888,
              "#fdca26"
             ],
             [
              1,
              "#f0f921"
             ]
            ],
            "type": "histogram2dcontour"
           }
          ],
          "mesh3d": [
           {
            "colorbar": {
             "outlinewidth": 0,
             "ticks": ""
            },
            "type": "mesh3d"
           }
          ],
          "parcoords": [
           {
            "line": {
             "colorbar": {
              "outlinewidth": 0,
              "ticks": ""
             }
            },
            "type": "parcoords"
           }
          ],
          "pie": [
           {
            "automargin": true,
            "type": "pie"
           }
          ],
          "scatter": [
           {
            "marker": {
             "colorbar": {
              "outlinewidth": 0,
              "ticks": ""
             }
            },
            "type": "scatter"
           }
          ],
          "scatter3d": [
           {
            "line": {
             "colorbar": {
              "outlinewidth": 0,
              "ticks": ""
             }
            },
            "marker": {
             "colorbar": {
              "outlinewidth": 0,
              "ticks": ""
             }
            },
            "type": "scatter3d"
           }
          ],
          "scattercarpet": [
           {
            "marker": {
             "colorbar": {
              "outlinewidth": 0,
              "ticks": ""
             }
            },
            "type": "scattercarpet"
           }
          ],
          "scattergeo": [
           {
            "marker": {
             "colorbar": {
              "outlinewidth": 0,
              "ticks": ""
             }
            },
            "type": "scattergeo"
           }
          ],
          "scattergl": [
           {
            "marker": {
             "colorbar": {
              "outlinewidth": 0,
              "ticks": ""
             }
            },
            "type": "scattergl"
           }
          ],
          "scattermapbox": [
           {
            "marker": {
             "colorbar": {
              "outlinewidth": 0,
              "ticks": ""
             }
            },
            "type": "scattermapbox"
           }
          ],
          "scatterpolar": [
           {
            "marker": {
             "colorbar": {
              "outlinewidth": 0,
              "ticks": ""
             }
            },
            "type": "scatterpolar"
           }
          ],
          "scatterpolargl": [
           {
            "marker": {
             "colorbar": {
              "outlinewidth": 0,
              "ticks": ""
             }
            },
            "type": "scatterpolargl"
           }
          ],
          "scatterternary": [
           {
            "marker": {
             "colorbar": {
              "outlinewidth": 0,
              "ticks": ""
             }
            },
            "type": "scatterternary"
           }
          ],
          "surface": [
           {
            "colorbar": {
             "outlinewidth": 0,
             "ticks": ""
            },
            "colorscale": [
             [
              0,
              "#0d0887"
             ],
             [
              0.1111111111111111,
              "#46039f"
             ],
             [
              0.2222222222222222,
              "#7201a8"
             ],
             [
              0.3333333333333333,
              "#9c179e"
             ],
             [
              0.4444444444444444,
              "#bd3786"
             ],
             [
              0.5555555555555556,
              "#d8576b"
             ],
             [
              0.6666666666666666,
              "#ed7953"
             ],
             [
              0.7777777777777778,
              "#fb9f3a"
             ],
             [
              0.8888888888888888,
              "#fdca26"
             ],
             [
              1,
              "#f0f921"
             ]
            ],
            "type": "surface"
           }
          ],
          "table": [
           {
            "cells": {
             "fill": {
              "color": "#EBF0F8"
             },
             "line": {
              "color": "white"
             }
            },
            "header": {
             "fill": {
              "color": "#C8D4E3"
             },
             "line": {
              "color": "white"
             }
            },
            "type": "table"
           }
          ]
         },
         "layout": {
          "annotationdefaults": {
           "arrowcolor": "#2a3f5f",
           "arrowhead": 0,
           "arrowwidth": 1
          },
          "coloraxis": {
           "colorbar": {
            "outlinewidth": 0,
            "ticks": ""
           }
          },
          "colorscale": {
           "diverging": [
            [
             0,
             "#8e0152"
            ],
            [
             0.1,
             "#c51b7d"
            ],
            [
             0.2,
             "#de77ae"
            ],
            [
             0.3,
             "#f1b6da"
            ],
            [
             0.4,
             "#fde0ef"
            ],
            [
             0.5,
             "#f7f7f7"
            ],
            [
             0.6,
             "#e6f5d0"
            ],
            [
             0.7,
             "#b8e186"
            ],
            [
             0.8,
             "#7fbc41"
            ],
            [
             0.9,
             "#4d9221"
            ],
            [
             1,
             "#276419"
            ]
           ],
           "sequential": [
            [
             0,
             "#0d0887"
            ],
            [
             0.1111111111111111,
             "#46039f"
            ],
            [
             0.2222222222222222,
             "#7201a8"
            ],
            [
             0.3333333333333333,
             "#9c179e"
            ],
            [
             0.4444444444444444,
             "#bd3786"
            ],
            [
             0.5555555555555556,
             "#d8576b"
            ],
            [
             0.6666666666666666,
             "#ed7953"
            ],
            [
             0.7777777777777778,
             "#fb9f3a"
            ],
            [
             0.8888888888888888,
             "#fdca26"
            ],
            [
             1,
             "#f0f921"
            ]
           ],
           "sequentialminus": [
            [
             0,
             "#0d0887"
            ],
            [
             0.1111111111111111,
             "#46039f"
            ],
            [
             0.2222222222222222,
             "#7201a8"
            ],
            [
             0.3333333333333333,
             "#9c179e"
            ],
            [
             0.4444444444444444,
             "#bd3786"
            ],
            [
             0.5555555555555556,
             "#d8576b"
            ],
            [
             0.6666666666666666,
             "#ed7953"
            ],
            [
             0.7777777777777778,
             "#fb9f3a"
            ],
            [
             0.8888888888888888,
             "#fdca26"
            ],
            [
             1,
             "#f0f921"
            ]
           ]
          },
          "colorway": [
           "#636efa",
           "#EF553B",
           "#00cc96",
           "#ab63fa",
           "#FFA15A",
           "#19d3f3",
           "#FF6692",
           "#B6E880",
           "#FF97FF",
           "#FECB52"
          ],
          "font": {
           "color": "#2a3f5f"
          },
          "geo": {
           "bgcolor": "white",
           "lakecolor": "white",
           "landcolor": "#E5ECF6",
           "showlakes": true,
           "showland": true,
           "subunitcolor": "white"
          },
          "hoverlabel": {
           "align": "left"
          },
          "hovermode": "closest",
          "mapbox": {
           "style": "light"
          },
          "paper_bgcolor": "white",
          "plot_bgcolor": "#E5ECF6",
          "polar": {
           "angularaxis": {
            "gridcolor": "white",
            "linecolor": "white",
            "ticks": ""
           },
           "bgcolor": "#E5ECF6",
           "radialaxis": {
            "gridcolor": "white",
            "linecolor": "white",
            "ticks": ""
           }
          },
          "scene": {
           "xaxis": {
            "backgroundcolor": "#E5ECF6",
            "gridcolor": "white",
            "gridwidth": 2,
            "linecolor": "white",
            "showbackground": true,
            "ticks": "",
            "zerolinecolor": "white"
           },
           "yaxis": {
            "backgroundcolor": "#E5ECF6",
            "gridcolor": "white",
            "gridwidth": 2,
            "linecolor": "white",
            "showbackground": true,
            "ticks": "",
            "zerolinecolor": "white"
           },
           "zaxis": {
            "backgroundcolor": "#E5ECF6",
            "gridcolor": "white",
            "gridwidth": 2,
            "linecolor": "white",
            "showbackground": true,
            "ticks": "",
            "zerolinecolor": "white"
           }
          },
          "shapedefaults": {
           "line": {
            "color": "#2a3f5f"
           }
          },
          "ternary": {
           "aaxis": {
            "gridcolor": "white",
            "linecolor": "white",
            "ticks": ""
           },
           "baxis": {
            "gridcolor": "white",
            "linecolor": "white",
            "ticks": ""
           },
           "bgcolor": "#E5ECF6",
           "caxis": {
            "gridcolor": "white",
            "linecolor": "white",
            "ticks": ""
           }
          },
          "title": {
           "x": 0.05
          },
          "xaxis": {
           "automargin": true,
           "gridcolor": "white",
           "linecolor": "white",
           "ticks": "",
           "title": {
            "standoff": 15
           },
           "zerolinecolor": "white",
           "zerolinewidth": 2
          },
          "yaxis": {
           "automargin": true,
           "gridcolor": "white",
           "linecolor": "white",
           "ticks": "",
           "title": {
            "standoff": 15
           },
           "zerolinecolor": "white",
           "zerolinewidth": 2
          }
         }
        },
        "title": {
         "text": ""
        },
        "width": 400,
        "xaxis": {
         "showticklabels": false,
         "title": {
          "text": ""
         }
        },
        "yaxis": {
         "title": {
          "text": "Similarity to context"
         }
        }
       }
      },
      "text/html": [
       "<div>\n",
       "        \n",
       "        \n",
       "            <div id=\"57d5c8a9-a587-466c-8997-44bb586c6bd8\" class=\"plotly-graph-div\" style=\"height:280px; width:400px;\"></div>\n",
       "            <script type=\"text/javascript\">\n",
       "                require([\"plotly\"], function(Plotly) {\n",
       "                    window.PLOTLYENV=window.PLOTLYENV || {};\n",
       "                    \n",
       "                if (document.getElementById(\"57d5c8a9-a587-466c-8997-44bb586c6bd8\")) {\n",
       "                    Plotly.newPlot(\n",
       "                        '57d5c8a9-a587-466c-8997-44bb586c6bd8',\n",
       "                        [{\"hovertext\": [\"After eliminating duplicate studies of the identified<br>references the titles and available abstracts of the<br>remaining studies were examined by three reviewers and<br>Studies that possibly met inclusion criteria studies with no<br>abstract and studies that could not clearly be excluded on<br>the basis of the title and abstract were retrieved in full<br>text and scrutinized more extensively for eligibility\", \"After removing duplicates the literature searches yielded<br>records\", \"Also the equal weighing of the items of the bias list may be<br>to some extent arbitrary\", \"Also we were unable to study influences of other variables<br>such as age gender or type of treatment because of lack of<br>information in the majority of the included studies\", \"Although the prevalence of depression appeared to be highest<br>in patients with cancer of the digestive tract the brain<br>female genitalia and patients with hematological<br>malignancies the limited number of studies per cancer type<br>and small sample sizes of specific cancer types hamper us to<br>draw firm conclusions\", \"An explanation for this difference might be that diagnostic<br>interviews are standardized tools and use more stringent<br>criteria according to DSM or ICD for clinical depression<br>than self report instruments\", \"An exploration at symptom level would have been preferable\", \"Another strength was the inclusion of bias assessment and<br>our focus on medium and low bias risk studies\", \"As the prevalence of depression depends on the population<br>under study this list focused on the description of the<br>study population and ii the representativeness of the study<br>populations\", \"As we expected considerable heterogeneity among the studies<br>we decided to calculate the mean point prevalence and CI by<br>using random effects model\", \"Because both instruments are frequently used in cancer<br>research and clinical practice for the assessment of<br>depression we thought it was important to analyse both<br>assessment methods\", \"Because studies with high bias might lead to underestimation<br>or overestimation of overall prevalence of depression we<br>excluded these studies from analysis\", \"Burgess showed point prevalence of depression anxiety or<br>both of at diagnosis at months after diagnosis and at year<br>after treatment\", \"Clearly the prevalence of major depressive disorder in<br>cancer patients is much higher compared with the found in<br>the general population\", \"Consequently Vodermaier previously recommended implementing<br>routine self report for symptoms of depression in cancer<br>patients using valid and reliable self report instruments<br>such as the HADS the CES or the BDI\", \"Conversely in patients with symptoms of depression<br>assessment by diagnostic interviews may lead to<br>underrecognition of unmet needs for psychological support as<br>some oncologists may be insufficiently skilled to identify<br>psychological distress and perceived social support in<br>patients\", \"Depression can easily be overlooked because symptoms of<br>cancer and its treatment resemble neurovegetative symptoms<br>of depression such as fatigue loss of appetite and sleep<br>disturbance\", \"Differences in prevalence of depression were not only found<br>between patients treated for different cancer types but also<br>within patient populations treated for the same cancer type\", \"Figure Half of the studies provided information on reasons<br>for nonresponse or nonparticipation and time since diagnosis\", \"Figure Of the assessed studies studies had high bias risk<br>studies had medium bias risk and another had low bias risk\", \"Figure Through reference search an additional studies were<br>found eligible for inclusion\", \"For each study total bias score was calculated by counting<br>the number of criteria scored positively divided by the<br>total number of bias items i.e\", \"For example our results from relatively large group of<br>breast cancer patients including patients from cohorts<br>showed pooled prevalence of depression of CI as measured by<br>diagnostic interviews and of CI as measured by self report<br>instruments\", \"For that reason we could not perform depression analysis at<br>symptom level\", \"For the pooled analysis we focussed on the HADS and the CES<br>because prevalence of depression assessed by these<br>instruments were reported more than times in the total<br>number of cohorts\", \"For the use of these self report instruments no specific<br>skills are required and in case an increased risk of<br>depression is detected the patient should be able to be<br>referred to specialized psychosocial care provider\", \"Full text articles were retrieved for potentially relevant<br>records of which were excluded\", \"Further our findings show that prevalence of depression<br>assessed by both diagnostic interviews and self report<br>instruments was highest in the acute phase of the disease<br>and respectively and decreases afterwards\", \"Furthermore standardized diagnostic interviews are time<br>consuming and thus relatively expensive which hampers<br>routine implementation in busy oncological settings\", \"Heterogeneity was high\", \"Heterogeneity was high ranging from to Table\", \"Heterogeneity was high ranging from to Table\", \"However the overall prevalence rate of depression in cancer<br>patients remains unclear previous studies reported<br>prevalence rates between and\", \"If study referred to another publication describing relevant<br>information about the first study the additional publication<br>was obtained to score the item of concern\", \"In addition only one third of the studies reported<br>information on history of psychiatric problems\", \"In addition we included papers that were not included by<br>Mitchell\", \"In addition we performed subgroup analyses in which we<br>tested whether there were significant differences in<br>prevalence of depression between different types of<br>depression measurement instruments ii cancer type and iii<br>treatment phase during diagnosis or treatment year<br>posttreatment and year posttreatment\", \"In an earlier meta analysis Mitchell reported pooled<br>prevalence of CI among studies using diagnostic interviews\", \"In case of disagreement between the two reviewers on<br>assigning scores third reviewer was consulted to discuss the<br>item of Krebber al.concern until consensus was reached\", \"In case of incomplete or unclear information or lack of<br>description negative score was given\", \"In clinical practice therefore self report instruments are<br>often used to detect depressive symptoms and to assess<br>severity of symptoms\", \"In nearly million new cases of cancer excluding non melanoma<br>skin cancer were diagnosed worldwide and this number is<br>expected to increase to million by\", \"In the past decades studies have evaluated the prevalence of<br>depression in cancer patients\", \"In the present study we could not determine clear pattern of<br>depression rates at the different treatment phases of<br>specific cancer types because we were unable to disentangle<br>whether differences in prevalence rates were due to<br>treatment phase or to types of cancer included\", \"In the random effects model it is assumed that the included<br>studies are drawn from populations of studies that differ<br>from each other systematically heterogeneity\", \"In this meta analysis we found pooled mean prevalence of<br>depression to be in cancer patients in non palliative care<br>settings during or after treatment and the prevalence<br>differed by the type of instrument used to measure<br>depression cancer type and treatment phase\", \"In this model the prevalence resulting from the included<br>studies not only differs because of the random error within<br>studies fixed effects model but also because of true<br>variation in prevalence from one study to the next\", \"Items for the description of the study population included<br>sociodemographic characteristics at least three of the<br>following four age gender marital status and education and<br>employment or socioeconomic status cancer type tumor status<br>type of treatment time since diagnosis treatment phase<br>inclusion and exclusion criteria and information about<br>history of psychiatric problems of the participants\", \"Items of the representativeness of the study population<br>included sample size presentation of participation or<br>response rate reasons for nonresponse or nonparticipation<br>presented comparison of characteristics of responders and<br>non responders and consecutive sampling method\", \"Larger samples of specific cancer types at precise point in<br>cancer treatment should be examined and information on<br>history of depression is preferable\", \"Lee showed point prevalence of depression of preoperatively<br>at months postoperatively and at year after treatment\", \"Many cancer patients and survivors suffer from psychological<br>problems such as depression\", \"More than of the assessed studies reported cancer type and<br>inclusion and exclusion criteria\", \"Nevertheless because both physiological and psychological<br>symptoms of depression can be diagnostically useful when<br>looking for depression excluding neurovegetative symptoms<br>from depression assessment instruments may impair the<br>ability to diagnose depression in cancer settings\", \"Nevertheless heterogeneity was high and it remained high<br>after analysing subgroups of different instruments cancer<br>types and treatment phase\", \"Nevertheless we recommend that criteria and demands<br>regarding population and sample recruitment in studies<br>should be standardized and followed conscientiously in<br>future research in order to secure psychometrical quality of<br>trials\", \"No meta analysis has been published to quantitatively<br>summarize prevalence of depression in cancer patients as<br>measured by self report instruments and psychiatric<br>interviews\", \"Of all cancer types lung cancer breast cancer colorectal<br>cancer stomach cancer and prostate cancer are the most<br>common worldwide\", \"Of the assessed studies had medium and low bias risk and<br>high bias risk\", \"On the basis of diagnostic interviews the prevalence of<br>depression ranged from in patients with lung cancer to in<br>patients with cancer of the brain\", \"On the basis of self report instruments we also found the<br>highest prevalence of depression in the acute phase of<br>disease with pooled prevalence of CI\", \"On the basis of the title and abstract we excluded records<br>that did not meet our inclusion criteria\", \"Other difficulties to detect depression in cancer patients<br>are the lack of specific skills to diagnose mental disorders<br>lack of time in busy oncological settings and reluctance of<br>the patient to discuss emotional well being\", \"Other prospective studies showed that there are distinct<br>patterns regarding the course of psychological distress<br>ranging from resilience no distress before or after<br>treatment recovery elevated distress followed by return to<br>normal delayed recovery and persisting distress\", \"Pooled mean prevalence of depression in cancer patients<br>during or after treatment ranged between and and depended on<br>the instruments used type of cancer and treatment phase\", \"Pooled mean prevalence was calculated for instruments that<br>were used more than times in the total number of cohorts\", \"Pooled prevalence in the first year posttreatment was CI and<br>it was CI after the first year\", \"Pooled prevalence of depression was CI in cohorts using HADS<br>with cut off CI in cohorts using HADS with cut off and CI in<br>cohorts using CES with cut off\", \"Prevalence of depression Over all studies pooled prevalence<br>of major depressive disorder as measured by semi structured<br>and structured diagnostic interviews was CI\", \"Prevalence of depression differed substantially according to<br>the diagnostic instrument used and was substantially higher<br>when self report instruments were used as compared with the<br>diagnostic instruments\", \"Prevalence of major depressive disorder appeared to be as<br>measured by DSM or ICD\", \"Pubmed was additionally scanned by using the following Mesh<br>terms depression epidemiology psychologicalepidemiology<br>depressive disorderepidemiology and neoplasms\", \"Recent advances in diagnosis and treatment of cancer<br>patients have led to improved survival rates\", \"Recently Mitchell conducted meta analysis on studies to<br>determine the prevalence of depression in cancer patients in<br>oncological hematological and palliative care settings\", \"Regarding treatment phase as measured by diagnostic<br>interviews we found the highest prevalence of depression in<br>the acute phase of disease with pooled prevalence of CI<br>against pooled prevalence of CI in the first year<br>posttreatment and CI year or more posttreatment\", \"Self report instruments have the advantage of being quick<br>easy to administer inexpensive and they rely on<br>psychological and cognitive symptoms rather than<br>physiological symptoms\", \"Self report instruments were used times of which the HADS<br>with cut off was used times the HADS with cut off was used<br>times and CES with cut off was used times\", \"Selfreport instruments are designed to measure an increased<br>risk for or severity of depression instead of diagnosing<br>depressive disorder\", \"Several factors may contribute to this wide range of<br>prevalence rates including the use of different instruments<br>to assess depression with different psychometric properties<br>ii the use of different criteria to define depression and<br>iii differences between included cancer populations with<br>respect to cancer type stage and treatment modality\", \"Studies were identified by combining keywords and text words<br>indicative of epidemiology e.g epidemiologic epidemiological<br>epidemiol preval and inciden depression e.g depressi<br>depression emotion distress depressive disorder and major<br>depression and neoplasms e.g tumor tumors tumorous tumour<br>and carcino\", \"Table Characteristics of the analysed studies are shown in<br>Table Supporting information After excluding studies with<br>high bias risk we found pooled prevalence of major<br>depressive disorder as measured by semi structured and<br>structured diagnostic interviews of CI\", \"Table On the basis of self report instruments HADS with cut<br>off and CES with cut off prevalence of depression ranged<br>from in patients with skin cancer to patients with cancer of<br>the digestive tract\", \"Table Pooled prevalence of depression was CI in cohorts<br>using HADS with cut off CI in cohorts using HADS with cut<br>off and CI in cohorts using CES with cut off\", \"The average bias score was SD on point scale and the scores<br>ranged from highest bias risk to lowest bias risk\", \"The bias risk of each study was assessed using item list<br>adapted from existing criteria lists\", \"The detection of depression in cancer patients is difficult\", \"The eligible studies described total of cohorts comprising<br>patients cohorts on cancer of the breast on cancer of the<br>male genitalia on cancer of the head and neck on<br>hematological malignancies on cancer of the female genitalia<br>on cancer of the digestive tract on cancer of the<br>respiratory tract seven on cancer of the brain three on<br>cancer of the skin two on cancer of the bone and soft tissue<br>two on cancer of the urinary tract and two on cancer of the<br>endocrine system\", \"The majority of the studies did not compare characteristics<br>of responders and nonresponders limiting insight in the<br>generalizability of the results\", \"The reviewers and extracted the following data from the<br>included studies meanmedian age ii sex iii cancer type iv<br>time since diagnosis type of treatment vi treatment phase<br>during treatment year after treatment year after treatment<br>and mixed phases vii instrument for assessment of depression<br>and viii sample size and number of cases of depression more<br>specifically major depressive disorder as measured by<br>diagnostic interviews and increased risk for depression as<br>measured by self report instruments\", \"The reviewers and or independently performed the bias<br>assessments\", \"The small number of cohorts hampered us to disentangle<br>differences in prevalence caused by cancer type and<br>differences caused by treatment phase which may reduce the<br>heterogeneity of studies\", \"The use of self report instruments may overestimate the<br>presence of depression\", \"Therefore we note that the use of self report instruments<br>might overestimate the presence of depression and<br>consequently overrate patients need for psychological<br>treatment\", \"These recommendations are supported by Mitchell who also<br>advised using two step procedure incorporating both<br>screening ruling out non cases and case finding ruling in<br>probable cases by two stem questions\", \"These results are in accordance with the findings of Fann<br>reporting the prevalence of major depressive disorder as<br>measured by structured interviews among breast cancer<br>patients ranging from to\", \"They reported pooled prevalence of major depression in non<br>palliative care settings of CI as measured via psychiatric<br>interviews according to the DSM IV criteria or International<br>Classification of Diseases ICD\", \"This may interfere with the patient ability to cope with the<br>burden of the illness it may decrease acceptance of<br>treatment extend hospitalization reduce quality of life and<br>increase suicide risk\", \"This small difference may be caused by the fact that we<br>searched four databases and included more recently conducted<br>studies up to and we did not include studies examining<br>psychometric properties of instruments nor did we include<br>studies with high bias score in our analysis\", \"This study is meta analysis to estimate the prevalence of<br>depression in patients during or after cancer treatment as<br>assessed by diagnostic interviews and self report<br>instruments\", \"To calculate pooled mean prevalence of depression we used<br>the computer program Comprehensive Meta Analysis version by<br>Borenstein Biostat Englewood New Jersey US\", \"To determine major depression ICD uses similar criteria as<br>DSM III \\u00c0R IV but adding higher threshold categories which<br>might have resulted in lower prevalences of major depression<br>when assessed by ICD acknowledge that cut off points are to<br>some extent arbitrary and prevalence of depression depends<br>on the chosen cut off point per questionnaire\", \"Under recognition may result in undertreatment as two thirds<br>of screen positive cases may develop full blown depression<br>if left untreated\", \"Unfortunately in the current study we were unable to<br>identify the influences of these factors on prevalence rates\", \"Unfortunately the prevalence of depression in the analysed<br>studies was mostly reported as exceeding certain cutoff<br>point rather than score on the individual symptoms of<br>depression\", \"We also calculated the statistic but only report whether<br>this was significant or not\", \"We distinguish between depressive disorders assessed using<br>diagnostic interviews and symptom prevalence as measured by<br>self report instruments\", \"We excluded high bias risk studies from subgroup analysis<br>because these studies might lead to overestimation or<br>underestimation of overall prevalence of depression\", \"We found differences in the prevalence of depression across<br>patients treated for different cancer types\", \"We found minimal difference in prevalence of depression<br>between analysis of all studies and analysis of medium and<br>low bias risk studies only\", \"We included studies that reported the prevalence of<br>depression in adult patients in non palliative care settings<br>during or after cancer treatment ii assessed depression by<br>semi structured or structured diagnostic interviews based on<br>criteria by DSM III \\u00c0R IV or ICD or by self report<br>instruments with good or excellent psychometric quality as<br>rated by Vodermaier that is the Hospital Anxiety and<br>Depression Scale depression subscale HADS the Center for<br>Epidemiologic Studies Depression Scale CES Beck Depression<br>Inventory BDI and Brief Symptom Inventory iii defined<br>depression as major depressive disorder based on criteria by<br>DSM III \\u00c0R IV or ICD and as increased risk of depression by<br>self report instruments and iv were written in English\", \"We tested the heterogeneity under the fixed model using the<br>statistic\", \"We used the mixed effects model which pooled studies within<br>subgroups with the random effects model but tested for<br>significant differences between subgroups with the fixed<br>effects model\", \"Wide ranges in prevalence of depression within groups of<br>patients with similar diagnosis may be caused by the time<br>point of measurement type of cancer treatment number of side<br>effects of cancer treatment and gender\", \"comprehensive literature search was performed up to in four<br>databases Pub Med Psyc INFO EMBASE and CINAHL\", \"describes the variance between studies as proportion of the<br>total variance\", \"history of depression increases the risk of recurrence of<br>depressive episode\", \"minority of the studies provided information on comparison<br>of characteristics between responders and nonresponders and<br>history of psychiatric problems\", \"positive score was given if the study provided adequate<br>information regarding the item of concern\", \"prevalence of depression in breast cancer patients that is<br>from to\", \"similar drop has been found in early breast cancer patients<br>by Burgess and Lee\", \"strength of this study is the inclusion of both diagnostic<br>interviews and self report instruments\", \"structured or semi structured diagnostic interview Table was<br>used times in the cohorts\", \"study was considered of low bias risk if the score was at<br>least of the total possible score and of medium bias risk if<br>the score was between and\", \"value of indicates no observed heterogeneity and larger<br>values show increasing heterogeneity with as low as moderate<br>and as high heterogeneity\"], \"type\": \"bar\", \"x\": [0, 1, 2, 3, 4, 5, 6, 7, 8, 9, 10, 11, 12, 13, 14, 15, 16, 17, 18, 19, 20, 21, 22, 23, 24, 25, 26, 27, 28, 29, 30, 31, 32, 33, 34, 35, 36, 37, 38, 39, 40, 41, 42, 43, 44, 45, 46, 47, 48, 49, 50, 51, 52, 53, 54, 55, 56, 57, 58, 59, 60, 61, 62, 63, 64, 65, 66, 67, 68, 69, 70, 71, 72, 73, 74, 75, 76, 77, 78, 79, 80, 81, 82, 83, 84, 85, 86, 87, 88, 89, 90, 91, 92, 93, 94, 95, 96, 97, 98, 99, 100, 101, 102, 103, 104, 105, 106, 107, 108, 109, 110, 111, 112, 113, 114, 115, 116, 117, 118, 119, 120, 121, 122, 123], \"y\": [0.09880571286367036, 0.0, 0.09144118389464227, 0.17282083854135472, 0.1564295298260227, 0.18770933667490133, 0.14587794327063514, 0.09184202221522798, 0.15519726005713974, 0.15396184966522056, 0.22029477155830993, 0.13217727398721468, 0.1636762885906594, 0.18940586337648713, 0.1606075864548336, 0.22736907283769078, 0.27684252009208604, 0.1944644994944329, 0.0888834348927372, 0.13112281343767884, 0.1321179123120704, 0.08536149202484296, 0.17049079363804126, 0.1442135931256265, 0.11259916972626523, 0.12025267501863951, 0.1106967005166288, 0.09527036678370981, 0.11108557988231607, 0.12004120209883336, 0.12800496393062272, 0.12800496393062272, 0.17998803535728267, 0.09163520612298617, 0.14575841702507866, 0.0892257152113587, 0.1800898170842193, 0.09050052599982913, 0.09033608761244974, 0.09308712997765403, 0.19917582869934328, 0.17050119016751925, 0.17498931856198033, 0.18549473597486857, 0.17524662266828114, 0.18062352928765152, 0.16099722036960093, 0.19049492361507603, 0.14343730525997136, 0.19243513514779909, 0.15571981972183047, 0.32409850414915703, 0.17347847070179548, 0.15782139412499693, 0.18105075567671827, 0.1666973352223583, 0.16556041532037113, 0.16852470393031485, 0.13104645655425487, 0.17400621949620385, 0.1289089669244105, 0.09155455394023373, 0.1624416186571686, 0.25833478683661204, 0.18354845051841134, 0.09074787682370232, 0.09684674020462493, 0.09882274239680634, 0.11456475421289782, 0.10343293642051973, 0.09167167770149504, 0.08219473951765371, 0.19573493941445125, 0.1594027896084965, 0.1590453630203876, 0.10356502164739521, 0.11252291967336045, 0.09847982657419536, 0.19104833216697897, 0.20090554952623302, 0.13631182921951318, 0.16559831279881443, 0.09881707097497719, 0.10510651028438593, 0.10355569810587623, 0.1761612844990488, 0.15237458269850004, 0.09159109341457025, 0.1810822504997189, 0.0861660871164929, 0.17653043322430645, 0.08463381503495614, 0.15587751040318915, 0.12091635477789471, 0.16687570389454295, 0.09262595269228736, 0.18075034461624906, 0.1295585534344626, 0.18982604882588394, 0.08590018632383994, 0.11221172866102679, 0.0942182194071754, 0.1206654405973795, 0.0939494594303536, 0.09833898516885281, 0.09058954969225637, 0.12916920704834997, 0.1803032181974763, 0.13235514553109076, 0.16046785159053603, 0.0, 0.15475346576464097, 0.20485077041798533, 0.09148031319692462, 0.09204462417684257, 0.08433959588621902, 0.13678873926631632, 0.08618997524232014, 0.17615756645992806, 0.17998147045585938, 0.10265575281399957, 0.08789703741354758, 0.09213160161265757, 0.22282312365753465]}],\n",
       "                        {\"height\": 280, \"hoverlabel\": {\"bgcolor\": \"white\", \"font\": {\"family\": \"Rockwell\", \"size\": 13}}, \"margin\": {\"b\": 5, \"l\": 5, \"r\": 5, \"t\": 5}, \"template\": {\"data\": {\"bar\": [{\"error_x\": {\"color\": \"#2a3f5f\"}, \"error_y\": {\"color\": \"#2a3f5f\"}, \"marker\": {\"line\": {\"color\": \"#E5ECF6\", \"width\": 0.5}}, \"type\": \"bar\"}], \"barpolar\": [{\"marker\": {\"line\": {\"color\": \"#E5ECF6\", \"width\": 0.5}}, \"type\": \"barpolar\"}], \"carpet\": [{\"aaxis\": {\"endlinecolor\": \"#2a3f5f\", \"gridcolor\": \"white\", \"linecolor\": \"white\", \"minorgridcolor\": \"white\", \"startlinecolor\": \"#2a3f5f\"}, \"baxis\": {\"endlinecolor\": \"#2a3f5f\", \"gridcolor\": \"white\", \"linecolor\": \"white\", \"minorgridcolor\": \"white\", \"startlinecolor\": \"#2a3f5f\"}, \"type\": \"carpet\"}], \"choropleth\": [{\"colorbar\": {\"outlinewidth\": 0, \"ticks\": \"\"}, \"type\": \"choropleth\"}], \"contour\": [{\"colorbar\": {\"outlinewidth\": 0, \"ticks\": \"\"}, \"colorscale\": [[0.0, \"#0d0887\"], [0.1111111111111111, \"#46039f\"], [0.2222222222222222, \"#7201a8\"], [0.3333333333333333, \"#9c179e\"], [0.4444444444444444, \"#bd3786\"], [0.5555555555555556, \"#d8576b\"], [0.6666666666666666, \"#ed7953\"], [0.7777777777777778, \"#fb9f3a\"], [0.8888888888888888, \"#fdca26\"], [1.0, \"#f0f921\"]], \"type\": \"contour\"}], \"contourcarpet\": [{\"colorbar\": {\"outlinewidth\": 0, \"ticks\": \"\"}, \"type\": \"contourcarpet\"}], \"heatmap\": [{\"colorbar\": {\"outlinewidth\": 0, \"ticks\": \"\"}, \"colorscale\": [[0.0, \"#0d0887\"], [0.1111111111111111, \"#46039f\"], [0.2222222222222222, \"#7201a8\"], [0.3333333333333333, \"#9c179e\"], [0.4444444444444444, \"#bd3786\"], [0.5555555555555556, \"#d8576b\"], [0.6666666666666666, \"#ed7953\"], [0.7777777777777778, \"#fb9f3a\"], [0.8888888888888888, \"#fdca26\"], [1.0, \"#f0f921\"]], \"type\": \"heatmap\"}], \"heatmapgl\": [{\"colorbar\": {\"outlinewidth\": 0, \"ticks\": \"\"}, \"colorscale\": [[0.0, \"#0d0887\"], [0.1111111111111111, \"#46039f\"], [0.2222222222222222, \"#7201a8\"], [0.3333333333333333, \"#9c179e\"], [0.4444444444444444, \"#bd3786\"], [0.5555555555555556, \"#d8576b\"], [0.6666666666666666, \"#ed7953\"], [0.7777777777777778, \"#fb9f3a\"], [0.8888888888888888, \"#fdca26\"], [1.0, \"#f0f921\"]], \"type\": \"heatmapgl\"}], \"histogram\": [{\"marker\": {\"colorbar\": {\"outlinewidth\": 0, \"ticks\": \"\"}}, \"type\": \"histogram\"}], \"histogram2d\": [{\"colorbar\": {\"outlinewidth\": 0, \"ticks\": \"\"}, \"colorscale\": [[0.0, \"#0d0887\"], [0.1111111111111111, \"#46039f\"], [0.2222222222222222, \"#7201a8\"], [0.3333333333333333, \"#9c179e\"], [0.4444444444444444, \"#bd3786\"], [0.5555555555555556, \"#d8576b\"], [0.6666666666666666, \"#ed7953\"], [0.7777777777777778, \"#fb9f3a\"], [0.8888888888888888, \"#fdca26\"], [1.0, \"#f0f921\"]], \"type\": \"histogram2d\"}], \"histogram2dcontour\": [{\"colorbar\": {\"outlinewidth\": 0, \"ticks\": \"\"}, \"colorscale\": [[0.0, \"#0d0887\"], [0.1111111111111111, \"#46039f\"], [0.2222222222222222, \"#7201a8\"], [0.3333333333333333, \"#9c179e\"], [0.4444444444444444, \"#bd3786\"], [0.5555555555555556, \"#d8576b\"], [0.6666666666666666, \"#ed7953\"], [0.7777777777777778, \"#fb9f3a\"], [0.8888888888888888, \"#fdca26\"], [1.0, \"#f0f921\"]], \"type\": \"histogram2dcontour\"}], \"mesh3d\": [{\"colorbar\": {\"outlinewidth\": 0, \"ticks\": \"\"}, \"type\": \"mesh3d\"}], \"parcoords\": [{\"line\": {\"colorbar\": {\"outlinewidth\": 0, \"ticks\": \"\"}}, \"type\": \"parcoords\"}], \"pie\": [{\"automargin\": true, \"type\": \"pie\"}], \"scatter\": [{\"marker\": {\"colorbar\": {\"outlinewidth\": 0, \"ticks\": \"\"}}, \"type\": \"scatter\"}], \"scatter3d\": [{\"line\": {\"colorbar\": {\"outlinewidth\": 0, \"ticks\": \"\"}}, \"marker\": {\"colorbar\": {\"outlinewidth\": 0, \"ticks\": \"\"}}, \"type\": \"scatter3d\"}], \"scattercarpet\": [{\"marker\": {\"colorbar\": {\"outlinewidth\": 0, \"ticks\": \"\"}}, \"type\": \"scattercarpet\"}], \"scattergeo\": [{\"marker\": {\"colorbar\": {\"outlinewidth\": 0, \"ticks\": \"\"}}, \"type\": \"scattergeo\"}], \"scattergl\": [{\"marker\": {\"colorbar\": {\"outlinewidth\": 0, \"ticks\": \"\"}}, \"type\": \"scattergl\"}], \"scattermapbox\": [{\"marker\": {\"colorbar\": {\"outlinewidth\": 0, \"ticks\": \"\"}}, \"type\": \"scattermapbox\"}], \"scatterpolar\": [{\"marker\": {\"colorbar\": {\"outlinewidth\": 0, \"ticks\": \"\"}}, \"type\": \"scatterpolar\"}], \"scatterpolargl\": [{\"marker\": {\"colorbar\": {\"outlinewidth\": 0, \"ticks\": \"\"}}, \"type\": \"scatterpolargl\"}], \"scatterternary\": [{\"marker\": {\"colorbar\": {\"outlinewidth\": 0, \"ticks\": \"\"}}, \"type\": \"scatterternary\"}], \"surface\": [{\"colorbar\": {\"outlinewidth\": 0, \"ticks\": \"\"}, \"colorscale\": [[0.0, \"#0d0887\"], [0.1111111111111111, \"#46039f\"], [0.2222222222222222, \"#7201a8\"], [0.3333333333333333, \"#9c179e\"], [0.4444444444444444, \"#bd3786\"], [0.5555555555555556, \"#d8576b\"], [0.6666666666666666, \"#ed7953\"], [0.7777777777777778, \"#fb9f3a\"], [0.8888888888888888, \"#fdca26\"], [1.0, \"#f0f921\"]], \"type\": \"surface\"}], \"table\": [{\"cells\": {\"fill\": {\"color\": \"#EBF0F8\"}, \"line\": {\"color\": \"white\"}}, \"header\": {\"fill\": {\"color\": \"#C8D4E3\"}, \"line\": {\"color\": \"white\"}}, \"type\": \"table\"}]}, \"layout\": {\"annotationdefaults\": {\"arrowcolor\": \"#2a3f5f\", \"arrowhead\": 0, \"arrowwidth\": 1}, \"coloraxis\": {\"colorbar\": {\"outlinewidth\": 0, \"ticks\": \"\"}}, \"colorscale\": {\"diverging\": [[0, \"#8e0152\"], [0.1, \"#c51b7d\"], [0.2, \"#de77ae\"], [0.3, \"#f1b6da\"], [0.4, \"#fde0ef\"], [0.5, \"#f7f7f7\"], [0.6, \"#e6f5d0\"], [0.7, \"#b8e186\"], [0.8, \"#7fbc41\"], [0.9, \"#4d9221\"], [1, \"#276419\"]], \"sequential\": [[0.0, \"#0d0887\"], [0.1111111111111111, \"#46039f\"], [0.2222222222222222, \"#7201a8\"], [0.3333333333333333, \"#9c179e\"], [0.4444444444444444, \"#bd3786\"], [0.5555555555555556, \"#d8576b\"], [0.6666666666666666, \"#ed7953\"], [0.7777777777777778, \"#fb9f3a\"], [0.8888888888888888, \"#fdca26\"], [1.0, \"#f0f921\"]], \"sequentialminus\": [[0.0, \"#0d0887\"], [0.1111111111111111, \"#46039f\"], [0.2222222222222222, \"#7201a8\"], [0.3333333333333333, \"#9c179e\"], [0.4444444444444444, \"#bd3786\"], [0.5555555555555556, \"#d8576b\"], [0.6666666666666666, \"#ed7953\"], [0.7777777777777778, \"#fb9f3a\"], [0.8888888888888888, \"#fdca26\"], [1.0, \"#f0f921\"]]}, \"colorway\": [\"#636efa\", \"#EF553B\", \"#00cc96\", \"#ab63fa\", \"#FFA15A\", \"#19d3f3\", \"#FF6692\", \"#B6E880\", \"#FF97FF\", \"#FECB52\"], \"font\": {\"color\": \"#2a3f5f\"}, \"geo\": {\"bgcolor\": \"white\", \"lakecolor\": \"white\", \"landcolor\": \"#E5ECF6\", \"showlakes\": true, \"showland\": true, \"subunitcolor\": \"white\"}, \"hoverlabel\": {\"align\": \"left\"}, \"hovermode\": \"closest\", \"mapbox\": {\"style\": \"light\"}, \"paper_bgcolor\": \"white\", \"plot_bgcolor\": \"#E5ECF6\", \"polar\": {\"angularaxis\": {\"gridcolor\": \"white\", \"linecolor\": \"white\", \"ticks\": \"\"}, \"bgcolor\": \"#E5ECF6\", \"radialaxis\": {\"gridcolor\": \"white\", \"linecolor\": \"white\", \"ticks\": \"\"}}, \"scene\": {\"xaxis\": {\"backgroundcolor\": \"#E5ECF6\", \"gridcolor\": \"white\", \"gridwidth\": 2, \"linecolor\": \"white\", \"showbackground\": true, \"ticks\": \"\", \"zerolinecolor\": \"white\"}, \"yaxis\": {\"backgroundcolor\": \"#E5ECF6\", \"gridcolor\": \"white\", \"gridwidth\": 2, \"linecolor\": \"white\", \"showbackground\": true, \"ticks\": \"\", \"zerolinecolor\": \"white\"}, \"zaxis\": {\"backgroundcolor\": \"#E5ECF6\", \"gridcolor\": \"white\", \"gridwidth\": 2, \"linecolor\": \"white\", \"showbackground\": true, \"ticks\": \"\", \"zerolinecolor\": \"white\"}}, \"shapedefaults\": {\"line\": {\"color\": \"#2a3f5f\"}}, \"ternary\": {\"aaxis\": {\"gridcolor\": \"white\", \"linecolor\": \"white\", \"ticks\": \"\"}, \"baxis\": {\"gridcolor\": \"white\", \"linecolor\": \"white\", \"ticks\": \"\"}, \"bgcolor\": \"#E5ECF6\", \"caxis\": {\"gridcolor\": \"white\", \"linecolor\": \"white\", \"ticks\": \"\"}}, \"title\": {\"x\": 0.05}, \"xaxis\": {\"automargin\": true, \"gridcolor\": \"white\", \"linecolor\": \"white\", \"ticks\": \"\", \"title\": {\"standoff\": 15}, \"zerolinecolor\": \"white\", \"zerolinewidth\": 2}, \"yaxis\": {\"automargin\": true, \"gridcolor\": \"white\", \"linecolor\": \"white\", \"ticks\": \"\", \"title\": {\"standoff\": 15}, \"zerolinecolor\": \"white\", \"zerolinewidth\": 2}}}, \"title\": {\"text\": \"\"}, \"width\": 400, \"xaxis\": {\"showticklabels\": false, \"title\": {\"text\": \"\"}}, \"yaxis\": {\"title\": {\"text\": \"Similarity to context\"}}},\n",
       "                        {\"responsive\": true}\n",
       "                    ).then(function(){\n",
       "                            \n",
       "var gd = document.getElementById('57d5c8a9-a587-466c-8997-44bb586c6bd8');\n",
       "var x = new MutationObserver(function (mutations, observer) {{\n",
       "        var display = window.getComputedStyle(gd).display;\n",
       "        if (!display || display === 'none') {{\n",
       "            console.log([gd, 'removed!']);\n",
       "            Plotly.purge(gd);\n",
       "            observer.disconnect();\n",
       "        }}\n",
       "}});\n",
       "\n",
       "// Listen for the removal of the full notebook cells\n",
       "var notebookContainer = gd.closest('#notebook-container');\n",
       "if (notebookContainer) {{\n",
       "    x.observe(notebookContainer, {childList: true});\n",
       "}}\n",
       "\n",
       "// Listen for the clearing of the current output cell\n",
       "var outputEl = gd.closest('.output');\n",
       "if (outputEl) {{\n",
       "    x.observe(outputEl, {childList: true});\n",
       "}}\n",
       "\n",
       "                        })\n",
       "                };\n",
       "                });\n",
       "            </script>\n",
       "        </div>"
      ]
     },
     "metadata": {},
     "output_type": "display_data"
    },
    {
     "data": {
      "application/vnd.plotly.v1+json": {
       "config": {
        "plotlyServerURL": "https://plot.ly"
       },
       "data": [
        {
         "hovertext": [
          "After eliminating duplicate studies of the identified<br>references the titles and available abstracts of the<br>remaining studies were examined by three reviewers and<br>Studies that possibly met inclusion criteria studies with no<br>abstract and studies that could not clearly be excluded on<br>the basis of the title and abstract were retrieved in full<br>text and scrutinized more extensively for eligibility",
          "After removing duplicates the literature searches yielded<br>records",
          "Also the equal weighing of the items of the bias list may be<br>to some extent arbitrary",
          "Also we were unable to study influences of other variables<br>such as age gender or type of treatment because of lack of<br>information in the majority of the included studies",
          "Although the prevalence of depression appeared to be highest<br>in patients with cancer of the digestive tract the brain<br>female genitalia and patients with hematological<br>malignancies the limited number of studies per cancer type<br>and small sample sizes of specific cancer types hamper us to<br>draw firm conclusions",
          "An explanation for this difference might be that diagnostic<br>interviews are standardized tools and use more stringent<br>criteria according to DSM or ICD for clinical depression<br>than self report instruments",
          "An exploration at symptom level would have been preferable",
          "Another strength was the inclusion of bias assessment and<br>our focus on medium and low bias risk studies",
          "As the prevalence of depression depends on the population<br>under study this list focused on the description of the<br>study population and ii the representativeness of the study<br>populations",
          "As we expected considerable heterogeneity among the studies<br>we decided to calculate the mean point prevalence and CI by<br>using random effects model",
          "Because both instruments are frequently used in cancer<br>research and clinical practice for the assessment of<br>depression we thought it was important to analyse both<br>assessment methods",
          "Because studies with high bias might lead to underestimation<br>or overestimation of overall prevalence of depression we<br>excluded these studies from analysis",
          "Burgess showed point prevalence of depression anxiety or<br>both of at diagnosis at months after diagnosis and at year<br>after treatment",
          "Clearly the prevalence of major depressive disorder in<br>cancer patients is much higher compared with the found in<br>the general population",
          "Consequently Vodermaier previously recommended implementing<br>routine self report for symptoms of depression in cancer<br>patients using valid and reliable self report instruments<br>such as the HADS the CES or the BDI",
          "Conversely in patients with symptoms of depression<br>assessment by diagnostic interviews may lead to<br>underrecognition of unmet needs for psychological support as<br>some oncologists may be insufficiently skilled to identify<br>psychological distress and perceived social support in<br>patients",
          "Depression can easily be overlooked because symptoms of<br>cancer and its treatment resemble neurovegetative symptoms<br>of depression such as fatigue loss of appetite and sleep<br>disturbance",
          "Differences in prevalence of depression were not only found<br>between patients treated for different cancer types but also<br>within patient populations treated for the same cancer type",
          "Figure Half of the studies provided information on reasons<br>for nonresponse or nonparticipation and time since diagnosis",
          "Figure Of the assessed studies studies had high bias risk<br>studies had medium bias risk and another had low bias risk",
          "Figure Through reference search an additional studies were<br>found eligible for inclusion",
          "For each study total bias score was calculated by counting<br>the number of criteria scored positively divided by the<br>total number of bias items i.e",
          "For example our results from relatively large group of<br>breast cancer patients including patients from cohorts<br>showed pooled prevalence of depression of CI as measured by<br>diagnostic interviews and of CI as measured by self report<br>instruments",
          "For that reason we could not perform depression analysis at<br>symptom level",
          "For the pooled analysis we focussed on the HADS and the CES<br>because prevalence of depression assessed by these<br>instruments were reported more than times in the total<br>number of cohorts",
          "For the use of these self report instruments no specific<br>skills are required and in case an increased risk of<br>depression is detected the patient should be able to be<br>referred to specialized psychosocial care provider",
          "Full text articles were retrieved for potentially relevant<br>records of which were excluded",
          "Further our findings show that prevalence of depression<br>assessed by both diagnostic interviews and self report<br>instruments was highest in the acute phase of the disease<br>and respectively and decreases afterwards",
          "Furthermore standardized diagnostic interviews are time<br>consuming and thus relatively expensive which hampers<br>routine implementation in busy oncological settings",
          "Heterogeneity was high",
          "Heterogeneity was high ranging from to Table",
          "Heterogeneity was high ranging from to Table",
          "However the overall prevalence rate of depression in cancer<br>patients remains unclear previous studies reported<br>prevalence rates between and",
          "If study referred to another publication describing relevant<br>information about the first study the additional publication<br>was obtained to score the item of concern",
          "In addition only one third of the studies reported<br>information on history of psychiatric problems",
          "In addition we included papers that were not included by<br>Mitchell",
          "In addition we performed subgroup analyses in which we<br>tested whether there were significant differences in<br>prevalence of depression between different types of<br>depression measurement instruments ii cancer type and iii<br>treatment phase during diagnosis or treatment year<br>posttreatment and year posttreatment",
          "In an earlier meta analysis Mitchell reported pooled<br>prevalence of CI among studies using diagnostic interviews",
          "In case of disagreement between the two reviewers on<br>assigning scores third reviewer was consulted to discuss the<br>item of Krebber al.concern until consensus was reached",
          "In case of incomplete or unclear information or lack of<br>description negative score was given",
          "In clinical practice therefore self report instruments are<br>often used to detect depressive symptoms and to assess<br>severity of symptoms",
          "In nearly million new cases of cancer excluding non melanoma<br>skin cancer were diagnosed worldwide and this number is<br>expected to increase to million by",
          "In the past decades studies have evaluated the prevalence of<br>depression in cancer patients",
          "In the present study we could not determine clear pattern of<br>depression rates at the different treatment phases of<br>specific cancer types because we were unable to disentangle<br>whether differences in prevalence rates were due to<br>treatment phase or to types of cancer included",
          "In the random effects model it is assumed that the included<br>studies are drawn from populations of studies that differ<br>from each other systematically heterogeneity",
          "In this meta analysis we found pooled mean prevalence of<br>depression to be in cancer patients in non palliative care<br>settings during or after treatment and the prevalence<br>differed by the type of instrument used to measure<br>depression cancer type and treatment phase",
          "In this model the prevalence resulting from the included<br>studies not only differs because of the random error within<br>studies fixed effects model but also because of true<br>variation in prevalence from one study to the next",
          "Items for the description of the study population included<br>sociodemographic characteristics at least three of the<br>following four age gender marital status and education and<br>employment or socioeconomic status cancer type tumor status<br>type of treatment time since diagnosis treatment phase<br>inclusion and exclusion criteria and information about<br>history of psychiatric problems of the participants",
          "Items of the representativeness of the study population<br>included sample size presentation of participation or<br>response rate reasons for nonresponse or nonparticipation<br>presented comparison of characteristics of responders and<br>non responders and consecutive sampling method",
          "Larger samples of specific cancer types at precise point in<br>cancer treatment should be examined and information on<br>history of depression is preferable",
          "Lee showed point prevalence of depression of preoperatively<br>at months postoperatively and at year after treatment",
          "Many cancer patients and survivors suffer from psychological<br>problems such as depression",
          "More than of the assessed studies reported cancer type and<br>inclusion and exclusion criteria",
          "Nevertheless because both physiological and psychological<br>symptoms of depression can be diagnostically useful when<br>looking for depression excluding neurovegetative symptoms<br>from depression assessment instruments may impair the<br>ability to diagnose depression in cancer settings",
          "Nevertheless heterogeneity was high and it remained high<br>after analysing subgroups of different instruments cancer<br>types and treatment phase",
          "Nevertheless we recommend that criteria and demands<br>regarding population and sample recruitment in studies<br>should be standardized and followed conscientiously in<br>future research in order to secure psychometrical quality of<br>trials",
          "No meta analysis has been published to quantitatively<br>summarize prevalence of depression in cancer patients as<br>measured by self report instruments and psychiatric<br>interviews",
          "Of all cancer types lung cancer breast cancer colorectal<br>cancer stomach cancer and prostate cancer are the most<br>common worldwide",
          "Of the assessed studies had medium and low bias risk and<br>high bias risk",
          "On the basis of diagnostic interviews the prevalence of<br>depression ranged from in patients with lung cancer to in<br>patients with cancer of the brain",
          "On the basis of self report instruments we also found the<br>highest prevalence of depression in the acute phase of<br>disease with pooled prevalence of CI",
          "On the basis of the title and abstract we excluded records<br>that did not meet our inclusion criteria",
          "Other difficulties to detect depression in cancer patients<br>are the lack of specific skills to diagnose mental disorders<br>lack of time in busy oncological settings and reluctance of<br>the patient to discuss emotional well being",
          "Other prospective studies showed that there are distinct<br>patterns regarding the course of psychological distress<br>ranging from resilience no distress before or after<br>treatment recovery elevated distress followed by return to<br>normal delayed recovery and persisting distress",
          "Pooled mean prevalence of depression in cancer patients<br>during or after treatment ranged between and and depended on<br>the instruments used type of cancer and treatment phase",
          "Pooled mean prevalence was calculated for instruments that<br>were used more than times in the total number of cohorts",
          "Pooled prevalence in the first year posttreatment was CI and<br>it was CI after the first year",
          "Pooled prevalence of depression was CI in cohorts using HADS<br>with cut off CI in cohorts using HADS with cut off and CI in<br>cohorts using CES with cut off",
          "Prevalence of depression Over all studies pooled prevalence<br>of major depressive disorder as measured by semi structured<br>and structured diagnostic interviews was CI",
          "Prevalence of depression differed substantially according to<br>the diagnostic instrument used and was substantially higher<br>when self report instruments were used as compared with the<br>diagnostic instruments",
          "Prevalence of major depressive disorder appeared to be as<br>measured by DSM or ICD",
          "Pubmed was additionally scanned by using the following Mesh<br>terms depression epidemiology psychologicalepidemiology<br>depressive disorderepidemiology and neoplasms",
          "Recent advances in diagnosis and treatment of cancer<br>patients have led to improved survival rates",
          "Recently Mitchell conducted meta analysis on studies to<br>determine the prevalence of depression in cancer patients in<br>oncological hematological and palliative care settings",
          "Regarding treatment phase as measured by diagnostic<br>interviews we found the highest prevalence of depression in<br>the acute phase of disease with pooled prevalence of CI<br>against pooled prevalence of CI in the first year<br>posttreatment and CI year or more posttreatment",
          "Self report instruments have the advantage of being quick<br>easy to administer inexpensive and they rely on<br>psychological and cognitive symptoms rather than<br>physiological symptoms",
          "Self report instruments were used times of which the HADS<br>with cut off was used times the HADS with cut off was used<br>times and CES with cut off was used times",
          "Selfreport instruments are designed to measure an increased<br>risk for or severity of depression instead of diagnosing<br>depressive disorder",
          "Several factors may contribute to this wide range of<br>prevalence rates including the use of different instruments<br>to assess depression with different psychometric properties<br>ii the use of different criteria to define depression and<br>iii differences between included cancer populations with<br>respect to cancer type stage and treatment modality",
          "Studies were identified by combining keywords and text words<br>indicative of epidemiology e.g epidemiologic epidemiological<br>epidemiol preval and inciden depression e.g depressi<br>depression emotion distress depressive disorder and major<br>depression and neoplasms e.g tumor tumors tumorous tumour<br>and carcino",
          "Table Characteristics of the analysed studies are shown in<br>Table Supporting information After excluding studies with<br>high bias risk we found pooled prevalence of major<br>depressive disorder as measured by semi structured and<br>structured diagnostic interviews of CI",
          "Table On the basis of self report instruments HADS with cut<br>off and CES with cut off prevalence of depression ranged<br>from in patients with skin cancer to patients with cancer of<br>the digestive tract",
          "Table Pooled prevalence of depression was CI in cohorts<br>using HADS with cut off CI in cohorts using HADS with cut<br>off and CI in cohorts using CES with cut off",
          "The average bias score was SD on point scale and the scores<br>ranged from highest bias risk to lowest bias risk",
          "The bias risk of each study was assessed using item list<br>adapted from existing criteria lists",
          "The detection of depression in cancer patients is difficult",
          "The eligible studies described total of cohorts comprising<br>patients cohorts on cancer of the breast on cancer of the<br>male genitalia on cancer of the head and neck on<br>hematological malignancies on cancer of the female genitalia<br>on cancer of the digestive tract on cancer of the<br>respiratory tract seven on cancer of the brain three on<br>cancer of the skin two on cancer of the bone and soft tissue<br>two on cancer of the urinary tract and two on cancer of the<br>endocrine system",
          "The majority of the studies did not compare characteristics<br>of responders and nonresponders limiting insight in the<br>generalizability of the results",
          "The reviewers and extracted the following data from the<br>included studies meanmedian age ii sex iii cancer type iv<br>time since diagnosis type of treatment vi treatment phase<br>during treatment year after treatment year after treatment<br>and mixed phases vii instrument for assessment of depression<br>and viii sample size and number of cases of depression more<br>specifically major depressive disorder as measured by<br>diagnostic interviews and increased risk for depression as<br>measured by self report instruments",
          "The reviewers and or independently performed the bias<br>assessments",
          "The small number of cohorts hampered us to disentangle<br>differences in prevalence caused by cancer type and<br>differences caused by treatment phase which may reduce the<br>heterogeneity of studies",
          "The use of self report instruments may overestimate the<br>presence of depression",
          "Therefore we note that the use of self report instruments<br>might overestimate the presence of depression and<br>consequently overrate patients need for psychological<br>treatment",
          "These recommendations are supported by Mitchell who also<br>advised using two step procedure incorporating both<br>screening ruling out non cases and case finding ruling in<br>probable cases by two stem questions",
          "These results are in accordance with the findings of Fann<br>reporting the prevalence of major depressive disorder as<br>measured by structured interviews among breast cancer<br>patients ranging from to",
          "They reported pooled prevalence of major depression in non<br>palliative care settings of CI as measured via psychiatric<br>interviews according to the DSM IV criteria or International<br>Classification of Diseases ICD",
          "This may interfere with the patient ability to cope with the<br>burden of the illness it may decrease acceptance of<br>treatment extend hospitalization reduce quality of life and<br>increase suicide risk",
          "This small difference may be caused by the fact that we<br>searched four databases and included more recently conducted<br>studies up to and we did not include studies examining<br>psychometric properties of instruments nor did we include<br>studies with high bias score in our analysis",
          "This study is meta analysis to estimate the prevalence of<br>depression in patients during or after cancer treatment as<br>assessed by diagnostic interviews and self report<br>instruments",
          "To calculate pooled mean prevalence of depression we used<br>the computer program Comprehensive Meta Analysis version by<br>Borenstein Biostat Englewood New Jersey US",
          "To determine major depression ICD uses similar criteria as<br>DSM III ÀR IV but adding higher threshold categories which<br>might have resulted in lower prevalences of major depression<br>when assessed by ICD acknowledge that cut off points are to<br>some extent arbitrary and prevalence of depression depends<br>on the chosen cut off point per questionnaire",
          "Under recognition may result in undertreatment as two thirds<br>of screen positive cases may develop full blown depression<br>if left untreated",
          "Unfortunately in the current study we were unable to<br>identify the influences of these factors on prevalence rates",
          "Unfortunately the prevalence of depression in the analysed<br>studies was mostly reported as exceeding certain cutoff<br>point rather than score on the individual symptoms of<br>depression",
          "We also calculated the statistic but only report whether<br>this was significant or not",
          "We distinguish between depressive disorders assessed using<br>diagnostic interviews and symptom prevalence as measured by<br>self report instruments",
          "We excluded high bias risk studies from subgroup analysis<br>because these studies might lead to overestimation or<br>underestimation of overall prevalence of depression",
          "We found differences in the prevalence of depression across<br>patients treated for different cancer types",
          "We found minimal difference in prevalence of depression<br>between analysis of all studies and analysis of medium and<br>low bias risk studies only",
          "We included studies that reported the prevalence of<br>depression in adult patients in non palliative care settings<br>during or after cancer treatment ii assessed depression by<br>semi structured or structured diagnostic interviews based on<br>criteria by DSM III ÀR IV or ICD or by self report<br>instruments with good or excellent psychometric quality as<br>rated by Vodermaier that is the Hospital Anxiety and<br>Depression Scale depression subscale HADS the Center for<br>Epidemiologic Studies Depression Scale CES Beck Depression<br>Inventory BDI and Brief Symptom Inventory iii defined<br>depression as major depressive disorder based on criteria by<br>DSM III ÀR IV or ICD and as increased risk of depression by<br>self report instruments and iv were written in English",
          "We tested the heterogeneity under the fixed model using the<br>statistic",
          "We used the mixed effects model which pooled studies within<br>subgroups with the random effects model but tested for<br>significant differences between subgroups with the fixed<br>effects model",
          "Wide ranges in prevalence of depression within groups of<br>patients with similar diagnosis may be caused by the time<br>point of measurement type of cancer treatment number of side<br>effects of cancer treatment and gender",
          "comprehensive literature search was performed up to in four<br>databases Pub Med Psyc INFO EMBASE and CINAHL",
          "describes the variance between studies as proportion of the<br>total variance",
          "history of depression increases the risk of recurrence of<br>depressive episode",
          "minority of the studies provided information on comparison<br>of characteristics between responders and nonresponders and<br>history of psychiatric problems",
          "positive score was given if the study provided adequate<br>information regarding the item of concern",
          "prevalence of depression in breast cancer patients that is<br>from to",
          "similar drop has been found in early breast cancer patients<br>by Burgess and Lee",
          "strength of this study is the inclusion of both diagnostic<br>interviews and self report instruments",
          "structured or semi structured diagnostic interview Table was<br>used times in the cohorts",
          "study was considered of low bias risk if the score was at<br>least of the total possible score and of medium bias risk if<br>the score was between and",
          "value of indicates no observed heterogeneity and larger<br>values show increasing heterogeneity with as low as moderate<br>and as high heterogeneity"
         ],
         "type": "bar",
         "x": [
          0,
          1,
          2,
          3,
          4,
          5,
          6,
          7,
          8,
          9,
          10,
          11,
          12,
          13,
          14,
          15,
          16,
          17,
          18,
          19,
          20,
          21,
          22,
          23,
          24,
          25,
          26,
          27,
          28,
          29,
          30,
          31,
          32,
          33,
          34,
          35,
          36,
          37,
          38,
          39,
          40,
          41,
          42,
          43,
          44,
          45,
          46,
          47,
          48,
          49,
          50,
          51,
          52,
          53,
          54,
          55,
          56,
          57,
          58,
          59,
          60,
          61,
          62,
          63,
          64,
          65,
          66,
          67,
          68,
          69,
          70,
          71,
          72,
          73,
          74,
          75,
          76,
          77,
          78,
          79,
          80,
          81,
          82,
          83,
          84,
          85,
          86,
          87,
          88,
          89,
          90,
          91,
          92,
          93,
          94,
          95,
          96,
          97,
          98,
          99,
          100,
          101,
          102,
          103,
          104,
          105,
          106,
          107,
          108,
          109,
          110,
          111,
          112,
          113,
          114,
          115,
          116,
          117,
          118,
          119,
          120,
          121,
          122,
          123
         ],
         "y": [
          0.6263578665572812,
          0.5190800775317497,
          0.4418971316256372,
          0.6226541068944429,
          0.5787405343174594,
          0.5016414142398024,
          0.45887555250720286,
          0.5401087223815498,
          0.5894424936556443,
          0.5635264055455024,
          0.5998051659375041,
          0.6950065292793371,
          0.7057429298151691,
          0.6395271025998052,
          0.6283892142763814,
          0.369839832249689,
          0.4468534472504301,
          0.6220835046452715,
          0.6724847930556896,
          0.6047259757096319,
          0.6297517838761636,
          0.468274560091238,
          0.6247572712636038,
          0.6091407907173151,
          0.6748949618124116,
          0.5782586843007983,
          0.5184918224310716,
          0.5852347725931336,
          0.4330148565803445,
          0.4972817572866608,
          0.5792666157382814,
          0.5792666157382814,
          0.5105985715573347,
          0.6247076413232473,
          0.7073093258652587,
          0.4823853943814373,
          0.6806945244177999,
          0.6764234815532076,
          0.49935496709821264,
          0.3505493585328769,
          0.5133004859338324,
          0.5696913445707469,
          0.6586052859952066,
          0.6806333097982372,
          0.5807925289946025,
          0.7436780671624058,
          0.6457674879952334,
          0.6144898353757335,
          0.6570619202433999,
          0.5338321005386877,
          0.6355150457119075,
          0.44150240992388,
          0.7850269694265862,
          0.5448196642036615,
          0.6305958531615417,
          0.45670429458653333,
          0.5043037315961068,
          0.292698491284887,
          0.6889198947490898,
          0.6533702992740017,
          0.7504187250566063,
          0.45867795457677446,
          0.526665083636722,
          0.6184377447851513,
          0.6905024528590974,
          0.6804314414817669,
          0.6099403725158055,
          0.3679917884528071,
          0.7453710158845344,
          0.6916119429027505,
          0.5717893531105378,
          0.5317763105207742,
          0.5213713330190356,
          0.5244871730985728,
          0.6872087218685504,
          0.5305505509305684,
          0.5207308314863747,
          0.5769627797461137,
          0.6471026315496503,
          0.4464943312926032,
          0.7758158048368685,
          0.8123781774669587,
          0.44803354966517445,
          0.6223559214617453,
          0.6449238180496977,
          0.5773800488085911,
          0.4268423219272218,
          0.6671915935565357,
          0.6433331531620141,
          0.5919670898905137,
          0.7380450446055193,
          0.6093628831456942,
          0.6118690333938392,
          0.6430301652637405,
          0.6195007037992426,
          0.7627181340507971,
          0.5253430553814734,
          0.529720501728416,
          0.6791891551093138,
          0.6791615082912399,
          0.5354611261592981,
          0.6457334994455605,
          0.6588859649364287,
          0.7427979375299307,
          0.5046036816862974,
          0.638198040562825,
          0.6623645009158011,
          0.6562840108586531,
          0.6092436534124768,
          0.5950442988967455,
          0.510019126142246,
          0.5516401498941594,
          0.6735114901213438,
          0.5566921803296885,
          0.28408808558983506,
          0.3907981637122872,
          0.7410459723608372,
          0.35084809327840166,
          0.5732050431929936,
          0.5990368404657185,
          0.6533129480157722,
          0.6003771094516624,
          0.44296194727039956,
          0.47351589353836815
         ]
        }
       ],
       "layout": {
        "height": 280,
        "hoverlabel": {
         "bgcolor": "white",
         "font": {
          "family": "Rockwell",
          "size": 13
         }
        },
        "margin": {
         "b": 5,
         "l": 5,
         "r": 5,
         "t": 5
        },
        "template": {
         "data": {
          "bar": [
           {
            "error_x": {
             "color": "#2a3f5f"
            },
            "error_y": {
             "color": "#2a3f5f"
            },
            "marker": {
             "line": {
              "color": "#E5ECF6",
              "width": 0.5
             }
            },
            "type": "bar"
           }
          ],
          "barpolar": [
           {
            "marker": {
             "line": {
              "color": "#E5ECF6",
              "width": 0.5
             }
            },
            "type": "barpolar"
           }
          ],
          "carpet": [
           {
            "aaxis": {
             "endlinecolor": "#2a3f5f",
             "gridcolor": "white",
             "linecolor": "white",
             "minorgridcolor": "white",
             "startlinecolor": "#2a3f5f"
            },
            "baxis": {
             "endlinecolor": "#2a3f5f",
             "gridcolor": "white",
             "linecolor": "white",
             "minorgridcolor": "white",
             "startlinecolor": "#2a3f5f"
            },
            "type": "carpet"
           }
          ],
          "choropleth": [
           {
            "colorbar": {
             "outlinewidth": 0,
             "ticks": ""
            },
            "type": "choropleth"
           }
          ],
          "contour": [
           {
            "colorbar": {
             "outlinewidth": 0,
             "ticks": ""
            },
            "colorscale": [
             [
              0,
              "#0d0887"
             ],
             [
              0.1111111111111111,
              "#46039f"
             ],
             [
              0.2222222222222222,
              "#7201a8"
             ],
             [
              0.3333333333333333,
              "#9c179e"
             ],
             [
              0.4444444444444444,
              "#bd3786"
             ],
             [
              0.5555555555555556,
              "#d8576b"
             ],
             [
              0.6666666666666666,
              "#ed7953"
             ],
             [
              0.7777777777777778,
              "#fb9f3a"
             ],
             [
              0.8888888888888888,
              "#fdca26"
             ],
             [
              1,
              "#f0f921"
             ]
            ],
            "type": "contour"
           }
          ],
          "contourcarpet": [
           {
            "colorbar": {
             "outlinewidth": 0,
             "ticks": ""
            },
            "type": "contourcarpet"
           }
          ],
          "heatmap": [
           {
            "colorbar": {
             "outlinewidth": 0,
             "ticks": ""
            },
            "colorscale": [
             [
              0,
              "#0d0887"
             ],
             [
              0.1111111111111111,
              "#46039f"
             ],
             [
              0.2222222222222222,
              "#7201a8"
             ],
             [
              0.3333333333333333,
              "#9c179e"
             ],
             [
              0.4444444444444444,
              "#bd3786"
             ],
             [
              0.5555555555555556,
              "#d8576b"
             ],
             [
              0.6666666666666666,
              "#ed7953"
             ],
             [
              0.7777777777777778,
              "#fb9f3a"
             ],
             [
              0.8888888888888888,
              "#fdca26"
             ],
             [
              1,
              "#f0f921"
             ]
            ],
            "type": "heatmap"
           }
          ],
          "heatmapgl": [
           {
            "colorbar": {
             "outlinewidth": 0,
             "ticks": ""
            },
            "colorscale": [
             [
              0,
              "#0d0887"
             ],
             [
              0.1111111111111111,
              "#46039f"
             ],
             [
              0.2222222222222222,
              "#7201a8"
             ],
             [
              0.3333333333333333,
              "#9c179e"
             ],
             [
              0.4444444444444444,
              "#bd3786"
             ],
             [
              0.5555555555555556,
              "#d8576b"
             ],
             [
              0.6666666666666666,
              "#ed7953"
             ],
             [
              0.7777777777777778,
              "#fb9f3a"
             ],
             [
              0.8888888888888888,
              "#fdca26"
             ],
             [
              1,
              "#f0f921"
             ]
            ],
            "type": "heatmapgl"
           }
          ],
          "histogram": [
           {
            "marker": {
             "colorbar": {
              "outlinewidth": 0,
              "ticks": ""
             }
            },
            "type": "histogram"
           }
          ],
          "histogram2d": [
           {
            "colorbar": {
             "outlinewidth": 0,
             "ticks": ""
            },
            "colorscale": [
             [
              0,
              "#0d0887"
             ],
             [
              0.1111111111111111,
              "#46039f"
             ],
             [
              0.2222222222222222,
              "#7201a8"
             ],
             [
              0.3333333333333333,
              "#9c179e"
             ],
             [
              0.4444444444444444,
              "#bd3786"
             ],
             [
              0.5555555555555556,
              "#d8576b"
             ],
             [
              0.6666666666666666,
              "#ed7953"
             ],
             [
              0.7777777777777778,
              "#fb9f3a"
             ],
             [
              0.8888888888888888,
              "#fdca26"
             ],
             [
              1,
              "#f0f921"
             ]
            ],
            "type": "histogram2d"
           }
          ],
          "histogram2dcontour": [
           {
            "colorbar": {
             "outlinewidth": 0,
             "ticks": ""
            },
            "colorscale": [
             [
              0,
              "#0d0887"
             ],
             [
              0.1111111111111111,
              "#46039f"
             ],
             [
              0.2222222222222222,
              "#7201a8"
             ],
             [
              0.3333333333333333,
              "#9c179e"
             ],
             [
              0.4444444444444444,
              "#bd3786"
             ],
             [
              0.5555555555555556,
              "#d8576b"
             ],
             [
              0.6666666666666666,
              "#ed7953"
             ],
             [
              0.7777777777777778,
              "#fb9f3a"
             ],
             [
              0.8888888888888888,
              "#fdca26"
             ],
             [
              1,
              "#f0f921"
             ]
            ],
            "type": "histogram2dcontour"
           }
          ],
          "mesh3d": [
           {
            "colorbar": {
             "outlinewidth": 0,
             "ticks": ""
            },
            "type": "mesh3d"
           }
          ],
          "parcoords": [
           {
            "line": {
             "colorbar": {
              "outlinewidth": 0,
              "ticks": ""
             }
            },
            "type": "parcoords"
           }
          ],
          "pie": [
           {
            "automargin": true,
            "type": "pie"
           }
          ],
          "scatter": [
           {
            "marker": {
             "colorbar": {
              "outlinewidth": 0,
              "ticks": ""
             }
            },
            "type": "scatter"
           }
          ],
          "scatter3d": [
           {
            "line": {
             "colorbar": {
              "outlinewidth": 0,
              "ticks": ""
             }
            },
            "marker": {
             "colorbar": {
              "outlinewidth": 0,
              "ticks": ""
             }
            },
            "type": "scatter3d"
           }
          ],
          "scattercarpet": [
           {
            "marker": {
             "colorbar": {
              "outlinewidth": 0,
              "ticks": ""
             }
            },
            "type": "scattercarpet"
           }
          ],
          "scattergeo": [
           {
            "marker": {
             "colorbar": {
              "outlinewidth": 0,
              "ticks": ""
             }
            },
            "type": "scattergeo"
           }
          ],
          "scattergl": [
           {
            "marker": {
             "colorbar": {
              "outlinewidth": 0,
              "ticks": ""
             }
            },
            "type": "scattergl"
           }
          ],
          "scattermapbox": [
           {
            "marker": {
             "colorbar": {
              "outlinewidth": 0,
              "ticks": ""
             }
            },
            "type": "scattermapbox"
           }
          ],
          "scatterpolar": [
           {
            "marker": {
             "colorbar": {
              "outlinewidth": 0,
              "ticks": ""
             }
            },
            "type": "scatterpolar"
           }
          ],
          "scatterpolargl": [
           {
            "marker": {
             "colorbar": {
              "outlinewidth": 0,
              "ticks": ""
             }
            },
            "type": "scatterpolargl"
           }
          ],
          "scatterternary": [
           {
            "marker": {
             "colorbar": {
              "outlinewidth": 0,
              "ticks": ""
             }
            },
            "type": "scatterternary"
           }
          ],
          "surface": [
           {
            "colorbar": {
             "outlinewidth": 0,
             "ticks": ""
            },
            "colorscale": [
             [
              0,
              "#0d0887"
             ],
             [
              0.1111111111111111,
              "#46039f"
             ],
             [
              0.2222222222222222,
              "#7201a8"
             ],
             [
              0.3333333333333333,
              "#9c179e"
             ],
             [
              0.4444444444444444,
              "#bd3786"
             ],
             [
              0.5555555555555556,
              "#d8576b"
             ],
             [
              0.6666666666666666,
              "#ed7953"
             ],
             [
              0.7777777777777778,
              "#fb9f3a"
             ],
             [
              0.8888888888888888,
              "#fdca26"
             ],
             [
              1,
              "#f0f921"
             ]
            ],
            "type": "surface"
           }
          ],
          "table": [
           {
            "cells": {
             "fill": {
              "color": "#EBF0F8"
             },
             "line": {
              "color": "white"
             }
            },
            "header": {
             "fill": {
              "color": "#C8D4E3"
             },
             "line": {
              "color": "white"
             }
            },
            "type": "table"
           }
          ]
         },
         "layout": {
          "annotationdefaults": {
           "arrowcolor": "#2a3f5f",
           "arrowhead": 0,
           "arrowwidth": 1
          },
          "coloraxis": {
           "colorbar": {
            "outlinewidth": 0,
            "ticks": ""
           }
          },
          "colorscale": {
           "diverging": [
            [
             0,
             "#8e0152"
            ],
            [
             0.1,
             "#c51b7d"
            ],
            [
             0.2,
             "#de77ae"
            ],
            [
             0.3,
             "#f1b6da"
            ],
            [
             0.4,
             "#fde0ef"
            ],
            [
             0.5,
             "#f7f7f7"
            ],
            [
             0.6,
             "#e6f5d0"
            ],
            [
             0.7,
             "#b8e186"
            ],
            [
             0.8,
             "#7fbc41"
            ],
            [
             0.9,
             "#4d9221"
            ],
            [
             1,
             "#276419"
            ]
           ],
           "sequential": [
            [
             0,
             "#0d0887"
            ],
            [
             0.1111111111111111,
             "#46039f"
            ],
            [
             0.2222222222222222,
             "#7201a8"
            ],
            [
             0.3333333333333333,
             "#9c179e"
            ],
            [
             0.4444444444444444,
             "#bd3786"
            ],
            [
             0.5555555555555556,
             "#d8576b"
            ],
            [
             0.6666666666666666,
             "#ed7953"
            ],
            [
             0.7777777777777778,
             "#fb9f3a"
            ],
            [
             0.8888888888888888,
             "#fdca26"
            ],
            [
             1,
             "#f0f921"
            ]
           ],
           "sequentialminus": [
            [
             0,
             "#0d0887"
            ],
            [
             0.1111111111111111,
             "#46039f"
            ],
            [
             0.2222222222222222,
             "#7201a8"
            ],
            [
             0.3333333333333333,
             "#9c179e"
            ],
            [
             0.4444444444444444,
             "#bd3786"
            ],
            [
             0.5555555555555556,
             "#d8576b"
            ],
            [
             0.6666666666666666,
             "#ed7953"
            ],
            [
             0.7777777777777778,
             "#fb9f3a"
            ],
            [
             0.8888888888888888,
             "#fdca26"
            ],
            [
             1,
             "#f0f921"
            ]
           ]
          },
          "colorway": [
           "#636efa",
           "#EF553B",
           "#00cc96",
           "#ab63fa",
           "#FFA15A",
           "#19d3f3",
           "#FF6692",
           "#B6E880",
           "#FF97FF",
           "#FECB52"
          ],
          "font": {
           "color": "#2a3f5f"
          },
          "geo": {
           "bgcolor": "white",
           "lakecolor": "white",
           "landcolor": "#E5ECF6",
           "showlakes": true,
           "showland": true,
           "subunitcolor": "white"
          },
          "hoverlabel": {
           "align": "left"
          },
          "hovermode": "closest",
          "mapbox": {
           "style": "light"
          },
          "paper_bgcolor": "white",
          "plot_bgcolor": "#E5ECF6",
          "polar": {
           "angularaxis": {
            "gridcolor": "white",
            "linecolor": "white",
            "ticks": ""
           },
           "bgcolor": "#E5ECF6",
           "radialaxis": {
            "gridcolor": "white",
            "linecolor": "white",
            "ticks": ""
           }
          },
          "scene": {
           "xaxis": {
            "backgroundcolor": "#E5ECF6",
            "gridcolor": "white",
            "gridwidth": 2,
            "linecolor": "white",
            "showbackground": true,
            "ticks": "",
            "zerolinecolor": "white"
           },
           "yaxis": {
            "backgroundcolor": "#E5ECF6",
            "gridcolor": "white",
            "gridwidth": 2,
            "linecolor": "white",
            "showbackground": true,
            "ticks": "",
            "zerolinecolor": "white"
           },
           "zaxis": {
            "backgroundcolor": "#E5ECF6",
            "gridcolor": "white",
            "gridwidth": 2,
            "linecolor": "white",
            "showbackground": true,
            "ticks": "",
            "zerolinecolor": "white"
           }
          },
          "shapedefaults": {
           "line": {
            "color": "#2a3f5f"
           }
          },
          "ternary": {
           "aaxis": {
            "gridcolor": "white",
            "linecolor": "white",
            "ticks": ""
           },
           "baxis": {
            "gridcolor": "white",
            "linecolor": "white",
            "ticks": ""
           },
           "bgcolor": "#E5ECF6",
           "caxis": {
            "gridcolor": "white",
            "linecolor": "white",
            "ticks": ""
           }
          },
          "title": {
           "x": 0.05
          },
          "xaxis": {
           "automargin": true,
           "gridcolor": "white",
           "linecolor": "white",
           "ticks": "",
           "title": {
            "standoff": 15
           },
           "zerolinecolor": "white",
           "zerolinewidth": 2
          },
          "yaxis": {
           "automargin": true,
           "gridcolor": "white",
           "linecolor": "white",
           "ticks": "",
           "title": {
            "standoff": 15
           },
           "zerolinecolor": "white",
           "zerolinewidth": 2
          }
         }
        },
        "title": {
         "text": ""
        },
        "width": 400,
        "xaxis": {
         "showticklabels": false,
         "title": {
          "text": ""
         }
        },
        "yaxis": {
         "title": {
          "text": "Similarity to context"
         }
        }
       }
      },
      "text/html": [
       "<div>\n",
       "        \n",
       "        \n",
       "            <div id=\"b0728d02-a16e-45f3-93e2-ca7463c63ec6\" class=\"plotly-graph-div\" style=\"height:280px; width:400px;\"></div>\n",
       "            <script type=\"text/javascript\">\n",
       "                require([\"plotly\"], function(Plotly) {\n",
       "                    window.PLOTLYENV=window.PLOTLYENV || {};\n",
       "                    \n",
       "                if (document.getElementById(\"b0728d02-a16e-45f3-93e2-ca7463c63ec6\")) {\n",
       "                    Plotly.newPlot(\n",
       "                        'b0728d02-a16e-45f3-93e2-ca7463c63ec6',\n",
       "                        [{\"hovertext\": [\"After eliminating duplicate studies of the identified<br>references the titles and available abstracts of the<br>remaining studies were examined by three reviewers and<br>Studies that possibly met inclusion criteria studies with no<br>abstract and studies that could not clearly be excluded on<br>the basis of the title and abstract were retrieved in full<br>text and scrutinized more extensively for eligibility\", \"After removing duplicates the literature searches yielded<br>records\", \"Also the equal weighing of the items of the bias list may be<br>to some extent arbitrary\", \"Also we were unable to study influences of other variables<br>such as age gender or type of treatment because of lack of<br>information in the majority of the included studies\", \"Although the prevalence of depression appeared to be highest<br>in patients with cancer of the digestive tract the brain<br>female genitalia and patients with hematological<br>malignancies the limited number of studies per cancer type<br>and small sample sizes of specific cancer types hamper us to<br>draw firm conclusions\", \"An explanation for this difference might be that diagnostic<br>interviews are standardized tools and use more stringent<br>criteria according to DSM or ICD for clinical depression<br>than self report instruments\", \"An exploration at symptom level would have been preferable\", \"Another strength was the inclusion of bias assessment and<br>our focus on medium and low bias risk studies\", \"As the prevalence of depression depends on the population<br>under study this list focused on the description of the<br>study population and ii the representativeness of the study<br>populations\", \"As we expected considerable heterogeneity among the studies<br>we decided to calculate the mean point prevalence and CI by<br>using random effects model\", \"Because both instruments are frequently used in cancer<br>research and clinical practice for the assessment of<br>depression we thought it was important to analyse both<br>assessment methods\", \"Because studies with high bias might lead to underestimation<br>or overestimation of overall prevalence of depression we<br>excluded these studies from analysis\", \"Burgess showed point prevalence of depression anxiety or<br>both of at diagnosis at months after diagnosis and at year<br>after treatment\", \"Clearly the prevalence of major depressive disorder in<br>cancer patients is much higher compared with the found in<br>the general population\", \"Consequently Vodermaier previously recommended implementing<br>routine self report for symptoms of depression in cancer<br>patients using valid and reliable self report instruments<br>such as the HADS the CES or the BDI\", \"Conversely in patients with symptoms of depression<br>assessment by diagnostic interviews may lead to<br>underrecognition of unmet needs for psychological support as<br>some oncologists may be insufficiently skilled to identify<br>psychological distress and perceived social support in<br>patients\", \"Depression can easily be overlooked because symptoms of<br>cancer and its treatment resemble neurovegetative symptoms<br>of depression such as fatigue loss of appetite and sleep<br>disturbance\", \"Differences in prevalence of depression were not only found<br>between patients treated for different cancer types but also<br>within patient populations treated for the same cancer type\", \"Figure Half of the studies provided information on reasons<br>for nonresponse or nonparticipation and time since diagnosis\", \"Figure Of the assessed studies studies had high bias risk<br>studies had medium bias risk and another had low bias risk\", \"Figure Through reference search an additional studies were<br>found eligible for inclusion\", \"For each study total bias score was calculated by counting<br>the number of criteria scored positively divided by the<br>total number of bias items i.e\", \"For example our results from relatively large group of<br>breast cancer patients including patients from cohorts<br>showed pooled prevalence of depression of CI as measured by<br>diagnostic interviews and of CI as measured by self report<br>instruments\", \"For that reason we could not perform depression analysis at<br>symptom level\", \"For the pooled analysis we focussed on the HADS and the CES<br>because prevalence of depression assessed by these<br>instruments were reported more than times in the total<br>number of cohorts\", \"For the use of these self report instruments no specific<br>skills are required and in case an increased risk of<br>depression is detected the patient should be able to be<br>referred to specialized psychosocial care provider\", \"Full text articles were retrieved for potentially relevant<br>records of which were excluded\", \"Further our findings show that prevalence of depression<br>assessed by both diagnostic interviews and self report<br>instruments was highest in the acute phase of the disease<br>and respectively and decreases afterwards\", \"Furthermore standardized diagnostic interviews are time<br>consuming and thus relatively expensive which hampers<br>routine implementation in busy oncological settings\", \"Heterogeneity was high\", \"Heterogeneity was high ranging from to Table\", \"Heterogeneity was high ranging from to Table\", \"However the overall prevalence rate of depression in cancer<br>patients remains unclear previous studies reported<br>prevalence rates between and\", \"If study referred to another publication describing relevant<br>information about the first study the additional publication<br>was obtained to score the item of concern\", \"In addition only one third of the studies reported<br>information on history of psychiatric problems\", \"In addition we included papers that were not included by<br>Mitchell\", \"In addition we performed subgroup analyses in which we<br>tested whether there were significant differences in<br>prevalence of depression between different types of<br>depression measurement instruments ii cancer type and iii<br>treatment phase during diagnosis or treatment year<br>posttreatment and year posttreatment\", \"In an earlier meta analysis Mitchell reported pooled<br>prevalence of CI among studies using diagnostic interviews\", \"In case of disagreement between the two reviewers on<br>assigning scores third reviewer was consulted to discuss the<br>item of Krebber al.concern until consensus was reached\", \"In case of incomplete or unclear information or lack of<br>description negative score was given\", \"In clinical practice therefore self report instruments are<br>often used to detect depressive symptoms and to assess<br>severity of symptoms\", \"In nearly million new cases of cancer excluding non melanoma<br>skin cancer were diagnosed worldwide and this number is<br>expected to increase to million by\", \"In the past decades studies have evaluated the prevalence of<br>depression in cancer patients\", \"In the present study we could not determine clear pattern of<br>depression rates at the different treatment phases of<br>specific cancer types because we were unable to disentangle<br>whether differences in prevalence rates were due to<br>treatment phase or to types of cancer included\", \"In the random effects model it is assumed that the included<br>studies are drawn from populations of studies that differ<br>from each other systematically heterogeneity\", \"In this meta analysis we found pooled mean prevalence of<br>depression to be in cancer patients in non palliative care<br>settings during or after treatment and the prevalence<br>differed by the type of instrument used to measure<br>depression cancer type and treatment phase\", \"In this model the prevalence resulting from the included<br>studies not only differs because of the random error within<br>studies fixed effects model but also because of true<br>variation in prevalence from one study to the next\", \"Items for the description of the study population included<br>sociodemographic characteristics at least three of the<br>following four age gender marital status and education and<br>employment or socioeconomic status cancer type tumor status<br>type of treatment time since diagnosis treatment phase<br>inclusion and exclusion criteria and information about<br>history of psychiatric problems of the participants\", \"Items of the representativeness of the study population<br>included sample size presentation of participation or<br>response rate reasons for nonresponse or nonparticipation<br>presented comparison of characteristics of responders and<br>non responders and consecutive sampling method\", \"Larger samples of specific cancer types at precise point in<br>cancer treatment should be examined and information on<br>history of depression is preferable\", \"Lee showed point prevalence of depression of preoperatively<br>at months postoperatively and at year after treatment\", \"Many cancer patients and survivors suffer from psychological<br>problems such as depression\", \"More than of the assessed studies reported cancer type and<br>inclusion and exclusion criteria\", \"Nevertheless because both physiological and psychological<br>symptoms of depression can be diagnostically useful when<br>looking for depression excluding neurovegetative symptoms<br>from depression assessment instruments may impair the<br>ability to diagnose depression in cancer settings\", \"Nevertheless heterogeneity was high and it remained high<br>after analysing subgroups of different instruments cancer<br>types and treatment phase\", \"Nevertheless we recommend that criteria and demands<br>regarding population and sample recruitment in studies<br>should be standardized and followed conscientiously in<br>future research in order to secure psychometrical quality of<br>trials\", \"No meta analysis has been published to quantitatively<br>summarize prevalence of depression in cancer patients as<br>measured by self report instruments and psychiatric<br>interviews\", \"Of all cancer types lung cancer breast cancer colorectal<br>cancer stomach cancer and prostate cancer are the most<br>common worldwide\", \"Of the assessed studies had medium and low bias risk and<br>high bias risk\", \"On the basis of diagnostic interviews the prevalence of<br>depression ranged from in patients with lung cancer to in<br>patients with cancer of the brain\", \"On the basis of self report instruments we also found the<br>highest prevalence of depression in the acute phase of<br>disease with pooled prevalence of CI\", \"On the basis of the title and abstract we excluded records<br>that did not meet our inclusion criteria\", \"Other difficulties to detect depression in cancer patients<br>are the lack of specific skills to diagnose mental disorders<br>lack of time in busy oncological settings and reluctance of<br>the patient to discuss emotional well being\", \"Other prospective studies showed that there are distinct<br>patterns regarding the course of psychological distress<br>ranging from resilience no distress before or after<br>treatment recovery elevated distress followed by return to<br>normal delayed recovery and persisting distress\", \"Pooled mean prevalence of depression in cancer patients<br>during or after treatment ranged between and and depended on<br>the instruments used type of cancer and treatment phase\", \"Pooled mean prevalence was calculated for instruments that<br>were used more than times in the total number of cohorts\", \"Pooled prevalence in the first year posttreatment was CI and<br>it was CI after the first year\", \"Pooled prevalence of depression was CI in cohorts using HADS<br>with cut off CI in cohorts using HADS with cut off and CI in<br>cohorts using CES with cut off\", \"Prevalence of depression Over all studies pooled prevalence<br>of major depressive disorder as measured by semi structured<br>and structured diagnostic interviews was CI\", \"Prevalence of depression differed substantially according to<br>the diagnostic instrument used and was substantially higher<br>when self report instruments were used as compared with the<br>diagnostic instruments\", \"Prevalence of major depressive disorder appeared to be as<br>measured by DSM or ICD\", \"Pubmed was additionally scanned by using the following Mesh<br>terms depression epidemiology psychologicalepidemiology<br>depressive disorderepidemiology and neoplasms\", \"Recent advances in diagnosis and treatment of cancer<br>patients have led to improved survival rates\", \"Recently Mitchell conducted meta analysis on studies to<br>determine the prevalence of depression in cancer patients in<br>oncological hematological and palliative care settings\", \"Regarding treatment phase as measured by diagnostic<br>interviews we found the highest prevalence of depression in<br>the acute phase of disease with pooled prevalence of CI<br>against pooled prevalence of CI in the first year<br>posttreatment and CI year or more posttreatment\", \"Self report instruments have the advantage of being quick<br>easy to administer inexpensive and they rely on<br>psychological and cognitive symptoms rather than<br>physiological symptoms\", \"Self report instruments were used times of which the HADS<br>with cut off was used times the HADS with cut off was used<br>times and CES with cut off was used times\", \"Selfreport instruments are designed to measure an increased<br>risk for or severity of depression instead of diagnosing<br>depressive disorder\", \"Several factors may contribute to this wide range of<br>prevalence rates including the use of different instruments<br>to assess depression with different psychometric properties<br>ii the use of different criteria to define depression and<br>iii differences between included cancer populations with<br>respect to cancer type stage and treatment modality\", \"Studies were identified by combining keywords and text words<br>indicative of epidemiology e.g epidemiologic epidemiological<br>epidemiol preval and inciden depression e.g depressi<br>depression emotion distress depressive disorder and major<br>depression and neoplasms e.g tumor tumors tumorous tumour<br>and carcino\", \"Table Characteristics of the analysed studies are shown in<br>Table Supporting information After excluding studies with<br>high bias risk we found pooled prevalence of major<br>depressive disorder as measured by semi structured and<br>structured diagnostic interviews of CI\", \"Table On the basis of self report instruments HADS with cut<br>off and CES with cut off prevalence of depression ranged<br>from in patients with skin cancer to patients with cancer of<br>the digestive tract\", \"Table Pooled prevalence of depression was CI in cohorts<br>using HADS with cut off CI in cohorts using HADS with cut<br>off and CI in cohorts using CES with cut off\", \"The average bias score was SD on point scale and the scores<br>ranged from highest bias risk to lowest bias risk\", \"The bias risk of each study was assessed using item list<br>adapted from existing criteria lists\", \"The detection of depression in cancer patients is difficult\", \"The eligible studies described total of cohorts comprising<br>patients cohorts on cancer of the breast on cancer of the<br>male genitalia on cancer of the head and neck on<br>hematological malignancies on cancer of the female genitalia<br>on cancer of the digestive tract on cancer of the<br>respiratory tract seven on cancer of the brain three on<br>cancer of the skin two on cancer of the bone and soft tissue<br>two on cancer of the urinary tract and two on cancer of the<br>endocrine system\", \"The majority of the studies did not compare characteristics<br>of responders and nonresponders limiting insight in the<br>generalizability of the results\", \"The reviewers and extracted the following data from the<br>included studies meanmedian age ii sex iii cancer type iv<br>time since diagnosis type of treatment vi treatment phase<br>during treatment year after treatment year after treatment<br>and mixed phases vii instrument for assessment of depression<br>and viii sample size and number of cases of depression more<br>specifically major depressive disorder as measured by<br>diagnostic interviews and increased risk for depression as<br>measured by self report instruments\", \"The reviewers and or independently performed the bias<br>assessments\", \"The small number of cohorts hampered us to disentangle<br>differences in prevalence caused by cancer type and<br>differences caused by treatment phase which may reduce the<br>heterogeneity of studies\", \"The use of self report instruments may overestimate the<br>presence of depression\", \"Therefore we note that the use of self report instruments<br>might overestimate the presence of depression and<br>consequently overrate patients need for psychological<br>treatment\", \"These recommendations are supported by Mitchell who also<br>advised using two step procedure incorporating both<br>screening ruling out non cases and case finding ruling in<br>probable cases by two stem questions\", \"These results are in accordance with the findings of Fann<br>reporting the prevalence of major depressive disorder as<br>measured by structured interviews among breast cancer<br>patients ranging from to\", \"They reported pooled prevalence of major depression in non<br>palliative care settings of CI as measured via psychiatric<br>interviews according to the DSM IV criteria or International<br>Classification of Diseases ICD\", \"This may interfere with the patient ability to cope with the<br>burden of the illness it may decrease acceptance of<br>treatment extend hospitalization reduce quality of life and<br>increase suicide risk\", \"This small difference may be caused by the fact that we<br>searched four databases and included more recently conducted<br>studies up to and we did not include studies examining<br>psychometric properties of instruments nor did we include<br>studies with high bias score in our analysis\", \"This study is meta analysis to estimate the prevalence of<br>depression in patients during or after cancer treatment as<br>assessed by diagnostic interviews and self report<br>instruments\", \"To calculate pooled mean prevalence of depression we used<br>the computer program Comprehensive Meta Analysis version by<br>Borenstein Biostat Englewood New Jersey US\", \"To determine major depression ICD uses similar criteria as<br>DSM III \\u00c0R IV but adding higher threshold categories which<br>might have resulted in lower prevalences of major depression<br>when assessed by ICD acknowledge that cut off points are to<br>some extent arbitrary and prevalence of depression depends<br>on the chosen cut off point per questionnaire\", \"Under recognition may result in undertreatment as two thirds<br>of screen positive cases may develop full blown depression<br>if left untreated\", \"Unfortunately in the current study we were unable to<br>identify the influences of these factors on prevalence rates\", \"Unfortunately the prevalence of depression in the analysed<br>studies was mostly reported as exceeding certain cutoff<br>point rather than score on the individual symptoms of<br>depression\", \"We also calculated the statistic but only report whether<br>this was significant or not\", \"We distinguish between depressive disorders assessed using<br>diagnostic interviews and symptom prevalence as measured by<br>self report instruments\", \"We excluded high bias risk studies from subgroup analysis<br>because these studies might lead to overestimation or<br>underestimation of overall prevalence of depression\", \"We found differences in the prevalence of depression across<br>patients treated for different cancer types\", \"We found minimal difference in prevalence of depression<br>between analysis of all studies and analysis of medium and<br>low bias risk studies only\", \"We included studies that reported the prevalence of<br>depression in adult patients in non palliative care settings<br>during or after cancer treatment ii assessed depression by<br>semi structured or structured diagnostic interviews based on<br>criteria by DSM III \\u00c0R IV or ICD or by self report<br>instruments with good or excellent psychometric quality as<br>rated by Vodermaier that is the Hospital Anxiety and<br>Depression Scale depression subscale HADS the Center for<br>Epidemiologic Studies Depression Scale CES Beck Depression<br>Inventory BDI and Brief Symptom Inventory iii defined<br>depression as major depressive disorder based on criteria by<br>DSM III \\u00c0R IV or ICD and as increased risk of depression by<br>self report instruments and iv were written in English\", \"We tested the heterogeneity under the fixed model using the<br>statistic\", \"We used the mixed effects model which pooled studies within<br>subgroups with the random effects model but tested for<br>significant differences between subgroups with the fixed<br>effects model\", \"Wide ranges in prevalence of depression within groups of<br>patients with similar diagnosis may be caused by the time<br>point of measurement type of cancer treatment number of side<br>effects of cancer treatment and gender\", \"comprehensive literature search was performed up to in four<br>databases Pub Med Psyc INFO EMBASE and CINAHL\", \"describes the variance between studies as proportion of the<br>total variance\", \"history of depression increases the risk of recurrence of<br>depressive episode\", \"minority of the studies provided information on comparison<br>of characteristics between responders and nonresponders and<br>history of psychiatric problems\", \"positive score was given if the study provided adequate<br>information regarding the item of concern\", \"prevalence of depression in breast cancer patients that is<br>from to\", \"similar drop has been found in early breast cancer patients<br>by Burgess and Lee\", \"strength of this study is the inclusion of both diagnostic<br>interviews and self report instruments\", \"structured or semi structured diagnostic interview Table was<br>used times in the cohorts\", \"study was considered of low bias risk if the score was at<br>least of the total possible score and of medium bias risk if<br>the score was between and\", \"value of indicates no observed heterogeneity and larger<br>values show increasing heterogeneity with as low as moderate<br>and as high heterogeneity\"], \"type\": \"bar\", \"x\": [0, 1, 2, 3, 4, 5, 6, 7, 8, 9, 10, 11, 12, 13, 14, 15, 16, 17, 18, 19, 20, 21, 22, 23, 24, 25, 26, 27, 28, 29, 30, 31, 32, 33, 34, 35, 36, 37, 38, 39, 40, 41, 42, 43, 44, 45, 46, 47, 48, 49, 50, 51, 52, 53, 54, 55, 56, 57, 58, 59, 60, 61, 62, 63, 64, 65, 66, 67, 68, 69, 70, 71, 72, 73, 74, 75, 76, 77, 78, 79, 80, 81, 82, 83, 84, 85, 86, 87, 88, 89, 90, 91, 92, 93, 94, 95, 96, 97, 98, 99, 100, 101, 102, 103, 104, 105, 106, 107, 108, 109, 110, 111, 112, 113, 114, 115, 116, 117, 118, 119, 120, 121, 122, 123], \"y\": [0.6263578665572812, 0.5190800775317497, 0.4418971316256372, 0.6226541068944429, 0.5787405343174594, 0.5016414142398024, 0.45887555250720286, 0.5401087223815498, 0.5894424936556443, 0.5635264055455024, 0.5998051659375041, 0.6950065292793371, 0.7057429298151691, 0.6395271025998052, 0.6283892142763814, 0.369839832249689, 0.4468534472504301, 0.6220835046452715, 0.6724847930556896, 0.6047259757096319, 0.6297517838761636, 0.468274560091238, 0.6247572712636038, 0.6091407907173151, 0.6748949618124116, 0.5782586843007983, 0.5184918224310716, 0.5852347725931336, 0.4330148565803445, 0.4972817572866608, 0.5792666157382814, 0.5792666157382814, 0.5105985715573347, 0.6247076413232473, 0.7073093258652587, 0.4823853943814373, 0.6806945244177999, 0.6764234815532076, 0.49935496709821264, 0.3505493585328769, 0.5133004859338324, 0.5696913445707469, 0.6586052859952066, 0.6806333097982372, 0.5807925289946025, 0.7436780671624058, 0.6457674879952334, 0.6144898353757335, 0.6570619202433999, 0.5338321005386877, 0.6355150457119075, 0.44150240992388, 0.7850269694265862, 0.5448196642036615, 0.6305958531615417, 0.45670429458653333, 0.5043037315961068, 0.292698491284887, 0.6889198947490898, 0.6533702992740017, 0.7504187250566063, 0.45867795457677446, 0.526665083636722, 0.6184377447851513, 0.6905024528590974, 0.6804314414817669, 0.6099403725158055, 0.3679917884528071, 0.7453710158845344, 0.6916119429027505, 0.5717893531105378, 0.5317763105207742, 0.5213713330190356, 0.5244871730985728, 0.6872087218685504, 0.5305505509305684, 0.5207308314863747, 0.5769627797461137, 0.6471026315496503, 0.4464943312926032, 0.7758158048368685, 0.8123781774669587, 0.44803354966517445, 0.6223559214617453, 0.6449238180496977, 0.5773800488085911, 0.4268423219272218, 0.6671915935565357, 0.6433331531620141, 0.5919670898905137, 0.7380450446055193, 0.6093628831456942, 0.6118690333938392, 0.6430301652637405, 0.6195007037992426, 0.7627181340507971, 0.5253430553814734, 0.529720501728416, 0.6791891551093138, 0.6791615082912399, 0.5354611261592981, 0.6457334994455605, 0.6588859649364287, 0.7427979375299307, 0.5046036816862974, 0.638198040562825, 0.6623645009158011, 0.6562840108586531, 0.6092436534124768, 0.5950442988967455, 0.510019126142246, 0.5516401498941594, 0.6735114901213438, 0.5566921803296885, 0.28408808558983506, 0.3907981637122872, 0.7410459723608372, 0.35084809327840166, 0.5732050431929936, 0.5990368404657185, 0.6533129480157722, 0.6003771094516624, 0.44296194727039956, 0.47351589353836815]}],\n",
       "                        {\"height\": 280, \"hoverlabel\": {\"bgcolor\": \"white\", \"font\": {\"family\": \"Rockwell\", \"size\": 13}}, \"margin\": {\"b\": 5, \"l\": 5, \"r\": 5, \"t\": 5}, \"template\": {\"data\": {\"bar\": [{\"error_x\": {\"color\": \"#2a3f5f\"}, \"error_y\": {\"color\": \"#2a3f5f\"}, \"marker\": {\"line\": {\"color\": \"#E5ECF6\", \"width\": 0.5}}, \"type\": \"bar\"}], \"barpolar\": [{\"marker\": {\"line\": {\"color\": \"#E5ECF6\", \"width\": 0.5}}, \"type\": \"barpolar\"}], \"carpet\": [{\"aaxis\": {\"endlinecolor\": \"#2a3f5f\", \"gridcolor\": \"white\", \"linecolor\": \"white\", \"minorgridcolor\": \"white\", \"startlinecolor\": \"#2a3f5f\"}, \"baxis\": {\"endlinecolor\": \"#2a3f5f\", \"gridcolor\": \"white\", \"linecolor\": \"white\", \"minorgridcolor\": \"white\", \"startlinecolor\": \"#2a3f5f\"}, \"type\": \"carpet\"}], \"choropleth\": [{\"colorbar\": {\"outlinewidth\": 0, \"ticks\": \"\"}, \"type\": \"choropleth\"}], \"contour\": [{\"colorbar\": {\"outlinewidth\": 0, \"ticks\": \"\"}, \"colorscale\": [[0.0, \"#0d0887\"], [0.1111111111111111, \"#46039f\"], [0.2222222222222222, \"#7201a8\"], [0.3333333333333333, \"#9c179e\"], [0.4444444444444444, \"#bd3786\"], [0.5555555555555556, \"#d8576b\"], [0.6666666666666666, \"#ed7953\"], [0.7777777777777778, \"#fb9f3a\"], [0.8888888888888888, \"#fdca26\"], [1.0, \"#f0f921\"]], \"type\": \"contour\"}], \"contourcarpet\": [{\"colorbar\": {\"outlinewidth\": 0, \"ticks\": \"\"}, \"type\": \"contourcarpet\"}], \"heatmap\": [{\"colorbar\": {\"outlinewidth\": 0, \"ticks\": \"\"}, \"colorscale\": [[0.0, \"#0d0887\"], [0.1111111111111111, \"#46039f\"], [0.2222222222222222, \"#7201a8\"], [0.3333333333333333, \"#9c179e\"], [0.4444444444444444, \"#bd3786\"], [0.5555555555555556, \"#d8576b\"], [0.6666666666666666, \"#ed7953\"], [0.7777777777777778, \"#fb9f3a\"], [0.8888888888888888, \"#fdca26\"], [1.0, \"#f0f921\"]], \"type\": \"heatmap\"}], \"heatmapgl\": [{\"colorbar\": {\"outlinewidth\": 0, \"ticks\": \"\"}, \"colorscale\": [[0.0, \"#0d0887\"], [0.1111111111111111, \"#46039f\"], [0.2222222222222222, \"#7201a8\"], [0.3333333333333333, \"#9c179e\"], [0.4444444444444444, \"#bd3786\"], [0.5555555555555556, \"#d8576b\"], [0.6666666666666666, \"#ed7953\"], [0.7777777777777778, \"#fb9f3a\"], [0.8888888888888888, \"#fdca26\"], [1.0, \"#f0f921\"]], \"type\": \"heatmapgl\"}], \"histogram\": [{\"marker\": {\"colorbar\": {\"outlinewidth\": 0, \"ticks\": \"\"}}, \"type\": \"histogram\"}], \"histogram2d\": [{\"colorbar\": {\"outlinewidth\": 0, \"ticks\": \"\"}, \"colorscale\": [[0.0, \"#0d0887\"], [0.1111111111111111, \"#46039f\"], [0.2222222222222222, \"#7201a8\"], [0.3333333333333333, \"#9c179e\"], [0.4444444444444444, \"#bd3786\"], [0.5555555555555556, \"#d8576b\"], [0.6666666666666666, \"#ed7953\"], [0.7777777777777778, \"#fb9f3a\"], [0.8888888888888888, \"#fdca26\"], [1.0, \"#f0f921\"]], \"type\": \"histogram2d\"}], \"histogram2dcontour\": [{\"colorbar\": {\"outlinewidth\": 0, \"ticks\": \"\"}, \"colorscale\": [[0.0, \"#0d0887\"], [0.1111111111111111, \"#46039f\"], [0.2222222222222222, \"#7201a8\"], [0.3333333333333333, \"#9c179e\"], [0.4444444444444444, \"#bd3786\"], [0.5555555555555556, \"#d8576b\"], [0.6666666666666666, \"#ed7953\"], [0.7777777777777778, \"#fb9f3a\"], [0.8888888888888888, \"#fdca26\"], [1.0, \"#f0f921\"]], \"type\": \"histogram2dcontour\"}], \"mesh3d\": [{\"colorbar\": {\"outlinewidth\": 0, \"ticks\": \"\"}, \"type\": \"mesh3d\"}], \"parcoords\": [{\"line\": {\"colorbar\": {\"outlinewidth\": 0, \"ticks\": \"\"}}, \"type\": \"parcoords\"}], \"pie\": [{\"automargin\": true, \"type\": \"pie\"}], \"scatter\": [{\"marker\": {\"colorbar\": {\"outlinewidth\": 0, \"ticks\": \"\"}}, \"type\": \"scatter\"}], \"scatter3d\": [{\"line\": {\"colorbar\": {\"outlinewidth\": 0, \"ticks\": \"\"}}, \"marker\": {\"colorbar\": {\"outlinewidth\": 0, \"ticks\": \"\"}}, \"type\": \"scatter3d\"}], \"scattercarpet\": [{\"marker\": {\"colorbar\": {\"outlinewidth\": 0, \"ticks\": \"\"}}, \"type\": \"scattercarpet\"}], \"scattergeo\": [{\"marker\": {\"colorbar\": {\"outlinewidth\": 0, \"ticks\": \"\"}}, \"type\": \"scattergeo\"}], \"scattergl\": [{\"marker\": {\"colorbar\": {\"outlinewidth\": 0, \"ticks\": \"\"}}, \"type\": \"scattergl\"}], \"scattermapbox\": [{\"marker\": {\"colorbar\": {\"outlinewidth\": 0, \"ticks\": \"\"}}, \"type\": \"scattermapbox\"}], \"scatterpolar\": [{\"marker\": {\"colorbar\": {\"outlinewidth\": 0, \"ticks\": \"\"}}, \"type\": \"scatterpolar\"}], \"scatterpolargl\": [{\"marker\": {\"colorbar\": {\"outlinewidth\": 0, \"ticks\": \"\"}}, \"type\": \"scatterpolargl\"}], \"scatterternary\": [{\"marker\": {\"colorbar\": {\"outlinewidth\": 0, \"ticks\": \"\"}}, \"type\": \"scatterternary\"}], \"surface\": [{\"colorbar\": {\"outlinewidth\": 0, \"ticks\": \"\"}, \"colorscale\": [[0.0, \"#0d0887\"], [0.1111111111111111, \"#46039f\"], [0.2222222222222222, \"#7201a8\"], [0.3333333333333333, \"#9c179e\"], [0.4444444444444444, \"#bd3786\"], [0.5555555555555556, \"#d8576b\"], [0.6666666666666666, \"#ed7953\"], [0.7777777777777778, \"#fb9f3a\"], [0.8888888888888888, \"#fdca26\"], [1.0, \"#f0f921\"]], \"type\": \"surface\"}], \"table\": [{\"cells\": {\"fill\": {\"color\": \"#EBF0F8\"}, \"line\": {\"color\": \"white\"}}, \"header\": {\"fill\": {\"color\": \"#C8D4E3\"}, \"line\": {\"color\": \"white\"}}, \"type\": \"table\"}]}, \"layout\": {\"annotationdefaults\": {\"arrowcolor\": \"#2a3f5f\", \"arrowhead\": 0, \"arrowwidth\": 1}, \"coloraxis\": {\"colorbar\": {\"outlinewidth\": 0, \"ticks\": \"\"}}, \"colorscale\": {\"diverging\": [[0, \"#8e0152\"], [0.1, \"#c51b7d\"], [0.2, \"#de77ae\"], [0.3, \"#f1b6da\"], [0.4, \"#fde0ef\"], [0.5, \"#f7f7f7\"], [0.6, \"#e6f5d0\"], [0.7, \"#b8e186\"], [0.8, \"#7fbc41\"], [0.9, \"#4d9221\"], [1, \"#276419\"]], \"sequential\": [[0.0, \"#0d0887\"], [0.1111111111111111, \"#46039f\"], [0.2222222222222222, \"#7201a8\"], [0.3333333333333333, \"#9c179e\"], [0.4444444444444444, \"#bd3786\"], [0.5555555555555556, \"#d8576b\"], [0.6666666666666666, \"#ed7953\"], [0.7777777777777778, \"#fb9f3a\"], [0.8888888888888888, \"#fdca26\"], [1.0, \"#f0f921\"]], \"sequentialminus\": [[0.0, \"#0d0887\"], [0.1111111111111111, \"#46039f\"], [0.2222222222222222, \"#7201a8\"], [0.3333333333333333, \"#9c179e\"], [0.4444444444444444, \"#bd3786\"], [0.5555555555555556, \"#d8576b\"], [0.6666666666666666, \"#ed7953\"], [0.7777777777777778, \"#fb9f3a\"], [0.8888888888888888, \"#fdca26\"], [1.0, \"#f0f921\"]]}, \"colorway\": [\"#636efa\", \"#EF553B\", \"#00cc96\", \"#ab63fa\", \"#FFA15A\", \"#19d3f3\", \"#FF6692\", \"#B6E880\", \"#FF97FF\", \"#FECB52\"], \"font\": {\"color\": \"#2a3f5f\"}, \"geo\": {\"bgcolor\": \"white\", \"lakecolor\": \"white\", \"landcolor\": \"#E5ECF6\", \"showlakes\": true, \"showland\": true, \"subunitcolor\": \"white\"}, \"hoverlabel\": {\"align\": \"left\"}, \"hovermode\": \"closest\", \"mapbox\": {\"style\": \"light\"}, \"paper_bgcolor\": \"white\", \"plot_bgcolor\": \"#E5ECF6\", \"polar\": {\"angularaxis\": {\"gridcolor\": \"white\", \"linecolor\": \"white\", \"ticks\": \"\"}, \"bgcolor\": \"#E5ECF6\", \"radialaxis\": {\"gridcolor\": \"white\", \"linecolor\": \"white\", \"ticks\": \"\"}}, \"scene\": {\"xaxis\": {\"backgroundcolor\": \"#E5ECF6\", \"gridcolor\": \"white\", \"gridwidth\": 2, \"linecolor\": \"white\", \"showbackground\": true, \"ticks\": \"\", \"zerolinecolor\": \"white\"}, \"yaxis\": {\"backgroundcolor\": \"#E5ECF6\", \"gridcolor\": \"white\", \"gridwidth\": 2, \"linecolor\": \"white\", \"showbackground\": true, \"ticks\": \"\", \"zerolinecolor\": \"white\"}, \"zaxis\": {\"backgroundcolor\": \"#E5ECF6\", \"gridcolor\": \"white\", \"gridwidth\": 2, \"linecolor\": \"white\", \"showbackground\": true, \"ticks\": \"\", \"zerolinecolor\": \"white\"}}, \"shapedefaults\": {\"line\": {\"color\": \"#2a3f5f\"}}, \"ternary\": {\"aaxis\": {\"gridcolor\": \"white\", \"linecolor\": \"white\", \"ticks\": \"\"}, \"baxis\": {\"gridcolor\": \"white\", \"linecolor\": \"white\", \"ticks\": \"\"}, \"bgcolor\": \"#E5ECF6\", \"caxis\": {\"gridcolor\": \"white\", \"linecolor\": \"white\", \"ticks\": \"\"}}, \"title\": {\"x\": 0.05}, \"xaxis\": {\"automargin\": true, \"gridcolor\": \"white\", \"linecolor\": \"white\", \"ticks\": \"\", \"title\": {\"standoff\": 15}, \"zerolinecolor\": \"white\", \"zerolinewidth\": 2}, \"yaxis\": {\"automargin\": true, \"gridcolor\": \"white\", \"linecolor\": \"white\", \"ticks\": \"\", \"title\": {\"standoff\": 15}, \"zerolinecolor\": \"white\", \"zerolinewidth\": 2}}}, \"title\": {\"text\": \"\"}, \"width\": 400, \"xaxis\": {\"showticklabels\": false, \"title\": {\"text\": \"\"}}, \"yaxis\": {\"title\": {\"text\": \"Similarity to context\"}}},\n",
       "                        {\"responsive\": true}\n",
       "                    ).then(function(){\n",
       "                            \n",
       "var gd = document.getElementById('b0728d02-a16e-45f3-93e2-ca7463c63ec6');\n",
       "var x = new MutationObserver(function (mutations, observer) {{\n",
       "        var display = window.getComputedStyle(gd).display;\n",
       "        if (!display || display === 'none') {{\n",
       "            console.log([gd, 'removed!']);\n",
       "            Plotly.purge(gd);\n",
       "            observer.disconnect();\n",
       "        }}\n",
       "}});\n",
       "\n",
       "// Listen for the removal of the full notebook cells\n",
       "var notebookContainer = gd.closest('#notebook-container');\n",
       "if (notebookContainer) {{\n",
       "    x.observe(notebookContainer, {childList: true});\n",
       "}}\n",
       "\n",
       "// Listen for the clearing of the current output cell\n",
       "var outputEl = gd.closest('.output');\n",
       "if (outputEl) {{\n",
       "    x.observe(outputEl, {childList: true});\n",
       "}}\n",
       "\n",
       "                        })\n",
       "                };\n",
       "                });\n",
       "            </script>\n",
       "        </div>"
      ]
     },
     "metadata": {},
     "output_type": "display_data"
    },
    {
     "data": {
      "application/vnd.plotly.v1+json": {
       "config": {
        "plotlyServerURL": "https://plot.ly"
       },
       "data": [
        {
         "hovertext": [
          "After eliminating duplicate studies of the identified<br>references the titles and available abstracts of the<br>remaining studies were examined by three reviewers and<br>Studies that possibly met inclusion criteria studies with no<br>abstract and studies that could not clearly be excluded on<br>the basis of the title and abstract were retrieved in full<br>text and scrutinized more extensively for eligibility",
          "After removing duplicates the literature searches yielded<br>records",
          "Also the equal weighing of the items of the bias list may be<br>to some extent arbitrary",
          "Also we were unable to study influences of other variables<br>such as age gender or type of treatment because of lack of<br>information in the majority of the included studies",
          "Although the prevalence of depression appeared to be highest<br>in patients with cancer of the digestive tract the brain<br>female genitalia and patients with hematological<br>malignancies the limited number of studies per cancer type<br>and small sample sizes of specific cancer types hamper us to<br>draw firm conclusions",
          "An explanation for this difference might be that diagnostic<br>interviews are standardized tools and use more stringent<br>criteria according to DSM or ICD for clinical depression<br>than self report instruments",
          "An exploration at symptom level would have been preferable",
          "Another strength was the inclusion of bias assessment and<br>our focus on medium and low bias risk studies",
          "As the prevalence of depression depends on the population<br>under study this list focused on the description of the<br>study population and ii the representativeness of the study<br>populations",
          "As we expected considerable heterogeneity among the studies<br>we decided to calculate the mean point prevalence and CI by<br>using random effects model",
          "Because both instruments are frequently used in cancer<br>research and clinical practice for the assessment of<br>depression we thought it was important to analyse both<br>assessment methods",
          "Because studies with high bias might lead to underestimation<br>or overestimation of overall prevalence of depression we<br>excluded these studies from analysis",
          "Burgess showed point prevalence of depression anxiety or<br>both of at diagnosis at months after diagnosis and at year<br>after treatment",
          "Clearly the prevalence of major depressive disorder in<br>cancer patients is much higher compared with the found in<br>the general population",
          "Consequently Vodermaier previously recommended implementing<br>routine self report for symptoms of depression in cancer<br>patients using valid and reliable self report instruments<br>such as the HADS the CES or the BDI",
          "Conversely in patients with symptoms of depression<br>assessment by diagnostic interviews may lead to<br>underrecognition of unmet needs for psychological support as<br>some oncologists may be insufficiently skilled to identify<br>psychological distress and perceived social support in<br>patients",
          "Depression can easily be overlooked because symptoms of<br>cancer and its treatment resemble neurovegetative symptoms<br>of depression such as fatigue loss of appetite and sleep<br>disturbance",
          "Differences in prevalence of depression were not only found<br>between patients treated for different cancer types but also<br>within patient populations treated for the same cancer type",
          "Figure Half of the studies provided information on reasons<br>for nonresponse or nonparticipation and time since diagnosis",
          "Figure Of the assessed studies studies had high bias risk<br>studies had medium bias risk and another had low bias risk",
          "Figure Through reference search an additional studies were<br>found eligible for inclusion",
          "For each study total bias score was calculated by counting<br>the number of criteria scored positively divided by the<br>total number of bias items i.e",
          "For example our results from relatively large group of<br>breast cancer patients including patients from cohorts<br>showed pooled prevalence of depression of CI as measured by<br>diagnostic interviews and of CI as measured by self report<br>instruments",
          "For that reason we could not perform depression analysis at<br>symptom level",
          "For the pooled analysis we focussed on the HADS and the CES<br>because prevalence of depression assessed by these<br>instruments were reported more than times in the total<br>number of cohorts",
          "For the use of these self report instruments no specific<br>skills are required and in case an increased risk of<br>depression is detected the patient should be able to be<br>referred to specialized psychosocial care provider",
          "Full text articles were retrieved for potentially relevant<br>records of which were excluded",
          "Further our findings show that prevalence of depression<br>assessed by both diagnostic interviews and self report<br>instruments was highest in the acute phase of the disease<br>and respectively and decreases afterwards",
          "Furthermore standardized diagnostic interviews are time<br>consuming and thus relatively expensive which hampers<br>routine implementation in busy oncological settings",
          "Heterogeneity was high",
          "Heterogeneity was high ranging from to Table",
          "Heterogeneity was high ranging from to Table",
          "However the overall prevalence rate of depression in cancer<br>patients remains unclear previous studies reported<br>prevalence rates between and",
          "If study referred to another publication describing relevant<br>information about the first study the additional publication<br>was obtained to score the item of concern",
          "In addition only one third of the studies reported<br>information on history of psychiatric problems",
          "In addition we included papers that were not included by<br>Mitchell",
          "In addition we performed subgroup analyses in which we<br>tested whether there were significant differences in<br>prevalence of depression between different types of<br>depression measurement instruments ii cancer type and iii<br>treatment phase during diagnosis or treatment year<br>posttreatment and year posttreatment",
          "In an earlier meta analysis Mitchell reported pooled<br>prevalence of CI among studies using diagnostic interviews",
          "In case of disagreement between the two reviewers on<br>assigning scores third reviewer was consulted to discuss the<br>item of Krebber al.concern until consensus was reached",
          "In case of incomplete or unclear information or lack of<br>description negative score was given",
          "In clinical practice therefore self report instruments are<br>often used to detect depressive symptoms and to assess<br>severity of symptoms",
          "In nearly million new cases of cancer excluding non melanoma<br>skin cancer were diagnosed worldwide and this number is<br>expected to increase to million by",
          "In the past decades studies have evaluated the prevalence of<br>depression in cancer patients",
          "In the present study we could not determine clear pattern of<br>depression rates at the different treatment phases of<br>specific cancer types because we were unable to disentangle<br>whether differences in prevalence rates were due to<br>treatment phase or to types of cancer included",
          "In the random effects model it is assumed that the included<br>studies are drawn from populations of studies that differ<br>from each other systematically heterogeneity",
          "In this meta analysis we found pooled mean prevalence of<br>depression to be in cancer patients in non palliative care<br>settings during or after treatment and the prevalence<br>differed by the type of instrument used to measure<br>depression cancer type and treatment phase",
          "In this model the prevalence resulting from the included<br>studies not only differs because of the random error within<br>studies fixed effects model but also because of true<br>variation in prevalence from one study to the next",
          "Items for the description of the study population included<br>sociodemographic characteristics at least three of the<br>following four age gender marital status and education and<br>employment or socioeconomic status cancer type tumor status<br>type of treatment time since diagnosis treatment phase<br>inclusion and exclusion criteria and information about<br>history of psychiatric problems of the participants",
          "Items of the representativeness of the study population<br>included sample size presentation of participation or<br>response rate reasons for nonresponse or nonparticipation<br>presented comparison of characteristics of responders and<br>non responders and consecutive sampling method",
          "Larger samples of specific cancer types at precise point in<br>cancer treatment should be examined and information on<br>history of depression is preferable",
          "Lee showed point prevalence of depression of preoperatively<br>at months postoperatively and at year after treatment",
          "Many cancer patients and survivors suffer from psychological<br>problems such as depression",
          "More than of the assessed studies reported cancer type and<br>inclusion and exclusion criteria",
          "Nevertheless because both physiological and psychological<br>symptoms of depression can be diagnostically useful when<br>looking for depression excluding neurovegetative symptoms<br>from depression assessment instruments may impair the<br>ability to diagnose depression in cancer settings",
          "Nevertheless heterogeneity was high and it remained high<br>after analysing subgroups of different instruments cancer<br>types and treatment phase",
          "Nevertheless we recommend that criteria and demands<br>regarding population and sample recruitment in studies<br>should be standardized and followed conscientiously in<br>future research in order to secure psychometrical quality of<br>trials",
          "No meta analysis has been published to quantitatively<br>summarize prevalence of depression in cancer patients as<br>measured by self report instruments and psychiatric<br>interviews",
          "Of all cancer types lung cancer breast cancer colorectal<br>cancer stomach cancer and prostate cancer are the most<br>common worldwide",
          "Of the assessed studies had medium and low bias risk and<br>high bias risk",
          "On the basis of diagnostic interviews the prevalence of<br>depression ranged from in patients with lung cancer to in<br>patients with cancer of the brain",
          "On the basis of self report instruments we also found the<br>highest prevalence of depression in the acute phase of<br>disease with pooled prevalence of CI",
          "On the basis of the title and abstract we excluded records<br>that did not meet our inclusion criteria",
          "Other difficulties to detect depression in cancer patients<br>are the lack of specific skills to diagnose mental disorders<br>lack of time in busy oncological settings and reluctance of<br>the patient to discuss emotional well being",
          "Other prospective studies showed that there are distinct<br>patterns regarding the course of psychological distress<br>ranging from resilience no distress before or after<br>treatment recovery elevated distress followed by return to<br>normal delayed recovery and persisting distress",
          "Pooled mean prevalence of depression in cancer patients<br>during or after treatment ranged between and and depended on<br>the instruments used type of cancer and treatment phase",
          "Pooled mean prevalence was calculated for instruments that<br>were used more than times in the total number of cohorts",
          "Pooled prevalence in the first year posttreatment was CI and<br>it was CI after the first year",
          "Pooled prevalence of depression was CI in cohorts using HADS<br>with cut off CI in cohorts using HADS with cut off and CI in<br>cohorts using CES with cut off",
          "Prevalence of depression Over all studies pooled prevalence<br>of major depressive disorder as measured by semi structured<br>and structured diagnostic interviews was CI",
          "Prevalence of depression differed substantially according to<br>the diagnostic instrument used and was substantially higher<br>when self report instruments were used as compared with the<br>diagnostic instruments",
          "Prevalence of major depressive disorder appeared to be as<br>measured by DSM or ICD",
          "Pubmed was additionally scanned by using the following Mesh<br>terms depression epidemiology psychologicalepidemiology<br>depressive disorderepidemiology and neoplasms",
          "Recent advances in diagnosis and treatment of cancer<br>patients have led to improved survival rates",
          "Recently Mitchell conducted meta analysis on studies to<br>determine the prevalence of depression in cancer patients in<br>oncological hematological and palliative care settings",
          "Regarding treatment phase as measured by diagnostic<br>interviews we found the highest prevalence of depression in<br>the acute phase of disease with pooled prevalence of CI<br>against pooled prevalence of CI in the first year<br>posttreatment and CI year or more posttreatment",
          "Self report instruments have the advantage of being quick<br>easy to administer inexpensive and they rely on<br>psychological and cognitive symptoms rather than<br>physiological symptoms",
          "Self report instruments were used times of which the HADS<br>with cut off was used times the HADS with cut off was used<br>times and CES with cut off was used times",
          "Selfreport instruments are designed to measure an increased<br>risk for or severity of depression instead of diagnosing<br>depressive disorder",
          "Several factors may contribute to this wide range of<br>prevalence rates including the use of different instruments<br>to assess depression with different psychometric properties<br>ii the use of different criteria to define depression and<br>iii differences between included cancer populations with<br>respect to cancer type stage and treatment modality",
          "Studies were identified by combining keywords and text words<br>indicative of epidemiology e.g epidemiologic epidemiological<br>epidemiol preval and inciden depression e.g depressi<br>depression emotion distress depressive disorder and major<br>depression and neoplasms e.g tumor tumors tumorous tumour<br>and carcino",
          "Table Characteristics of the analysed studies are shown in<br>Table Supporting information After excluding studies with<br>high bias risk we found pooled prevalence of major<br>depressive disorder as measured by semi structured and<br>structured diagnostic interviews of CI",
          "Table On the basis of self report instruments HADS with cut<br>off and CES with cut off prevalence of depression ranged<br>from in patients with skin cancer to patients with cancer of<br>the digestive tract",
          "Table Pooled prevalence of depression was CI in cohorts<br>using HADS with cut off CI in cohorts using HADS with cut<br>off and CI in cohorts using CES with cut off",
          "The average bias score was SD on point scale and the scores<br>ranged from highest bias risk to lowest bias risk",
          "The bias risk of each study was assessed using item list<br>adapted from existing criteria lists",
          "The detection of depression in cancer patients is difficult",
          "The eligible studies described total of cohorts comprising<br>patients cohorts on cancer of the breast on cancer of the<br>male genitalia on cancer of the head and neck on<br>hematological malignancies on cancer of the female genitalia<br>on cancer of the digestive tract on cancer of the<br>respiratory tract seven on cancer of the brain three on<br>cancer of the skin two on cancer of the bone and soft tissue<br>two on cancer of the urinary tract and two on cancer of the<br>endocrine system",
          "The majority of the studies did not compare characteristics<br>of responders and nonresponders limiting insight in the<br>generalizability of the results",
          "The reviewers and extracted the following data from the<br>included studies meanmedian age ii sex iii cancer type iv<br>time since diagnosis type of treatment vi treatment phase<br>during treatment year after treatment year after treatment<br>and mixed phases vii instrument for assessment of depression<br>and viii sample size and number of cases of depression more<br>specifically major depressive disorder as measured by<br>diagnostic interviews and increased risk for depression as<br>measured by self report instruments",
          "The reviewers and or independently performed the bias<br>assessments",
          "The small number of cohorts hampered us to disentangle<br>differences in prevalence caused by cancer type and<br>differences caused by treatment phase which may reduce the<br>heterogeneity of studies",
          "The use of self report instruments may overestimate the<br>presence of depression",
          "Therefore we note that the use of self report instruments<br>might overestimate the presence of depression and<br>consequently overrate patients need for psychological<br>treatment",
          "These recommendations are supported by Mitchell who also<br>advised using two step procedure incorporating both<br>screening ruling out non cases and case finding ruling in<br>probable cases by two stem questions",
          "These results are in accordance with the findings of Fann<br>reporting the prevalence of major depressive disorder as<br>measured by structured interviews among breast cancer<br>patients ranging from to",
          "They reported pooled prevalence of major depression in non<br>palliative care settings of CI as measured via psychiatric<br>interviews according to the DSM IV criteria or International<br>Classification of Diseases ICD",
          "This may interfere with the patient ability to cope with the<br>burden of the illness it may decrease acceptance of<br>treatment extend hospitalization reduce quality of life and<br>increase suicide risk",
          "This small difference may be caused by the fact that we<br>searched four databases and included more recently conducted<br>studies up to and we did not include studies examining<br>psychometric properties of instruments nor did we include<br>studies with high bias score in our analysis",
          "This study is meta analysis to estimate the prevalence of<br>depression in patients during or after cancer treatment as<br>assessed by diagnostic interviews and self report<br>instruments",
          "To calculate pooled mean prevalence of depression we used<br>the computer program Comprehensive Meta Analysis version by<br>Borenstein Biostat Englewood New Jersey US",
          "To determine major depression ICD uses similar criteria as<br>DSM III ÀR IV but adding higher threshold categories which<br>might have resulted in lower prevalences of major depression<br>when assessed by ICD acknowledge that cut off points are to<br>some extent arbitrary and prevalence of depression depends<br>on the chosen cut off point per questionnaire",
          "Under recognition may result in undertreatment as two thirds<br>of screen positive cases may develop full blown depression<br>if left untreated",
          "Unfortunately in the current study we were unable to<br>identify the influences of these factors on prevalence rates",
          "Unfortunately the prevalence of depression in the analysed<br>studies was mostly reported as exceeding certain cutoff<br>point rather than score on the individual symptoms of<br>depression",
          "We also calculated the statistic but only report whether<br>this was significant or not",
          "We distinguish between depressive disorders assessed using<br>diagnostic interviews and symptom prevalence as measured by<br>self report instruments",
          "We excluded high bias risk studies from subgroup analysis<br>because these studies might lead to overestimation or<br>underestimation of overall prevalence of depression",
          "We found differences in the prevalence of depression across<br>patients treated for different cancer types",
          "We found minimal difference in prevalence of depression<br>between analysis of all studies and analysis of medium and<br>low bias risk studies only",
          "We included studies that reported the prevalence of<br>depression in adult patients in non palliative care settings<br>during or after cancer treatment ii assessed depression by<br>semi structured or structured diagnostic interviews based on<br>criteria by DSM III ÀR IV or ICD or by self report<br>instruments with good or excellent psychometric quality as<br>rated by Vodermaier that is the Hospital Anxiety and<br>Depression Scale depression subscale HADS the Center for<br>Epidemiologic Studies Depression Scale CES Beck Depression<br>Inventory BDI and Brief Symptom Inventory iii defined<br>depression as major depressive disorder based on criteria by<br>DSM III ÀR IV or ICD and as increased risk of depression by<br>self report instruments and iv were written in English",
          "We tested the heterogeneity under the fixed model using the<br>statistic",
          "We used the mixed effects model which pooled studies within<br>subgroups with the random effects model but tested for<br>significant differences between subgroups with the fixed<br>effects model",
          "Wide ranges in prevalence of depression within groups of<br>patients with similar diagnosis may be caused by the time<br>point of measurement type of cancer treatment number of side<br>effects of cancer treatment and gender",
          "comprehensive literature search was performed up to in four<br>databases Pub Med Psyc INFO EMBASE and CINAHL",
          "describes the variance between studies as proportion of the<br>total variance",
          "history of depression increases the risk of recurrence of<br>depressive episode",
          "minority of the studies provided information on comparison<br>of characteristics between responders and nonresponders and<br>history of psychiatric problems",
          "positive score was given if the study provided adequate<br>information regarding the item of concern",
          "prevalence of depression in breast cancer patients that is<br>from to",
          "similar drop has been found in early breast cancer patients<br>by Burgess and Lee",
          "strength of this study is the inclusion of both diagnostic<br>interviews and self report instruments",
          "structured or semi structured diagnostic interview Table was<br>used times in the cohorts",
          "study was considered of low bias risk if the score was at<br>least of the total possible score and of medium bias risk if<br>the score was between and",
          "value of indicates no observed heterogeneity and larger<br>values show increasing heterogeneity with as low as moderate<br>and as high heterogeneity"
         ],
         "type": "bar",
         "x": [
          0,
          1,
          2,
          3,
          4,
          5,
          6,
          7,
          8,
          9,
          10,
          11,
          12,
          13,
          14,
          15,
          16,
          17,
          18,
          19,
          20,
          21,
          22,
          23,
          24,
          25,
          26,
          27,
          28,
          29,
          30,
          31,
          32,
          33,
          34,
          35,
          36,
          37,
          38,
          39,
          40,
          41,
          42,
          43,
          44,
          45,
          46,
          47,
          48,
          49,
          50,
          51,
          52,
          53,
          54,
          55,
          56,
          57,
          58,
          59,
          60,
          61,
          62,
          63,
          64,
          65,
          66,
          67,
          68,
          69,
          70,
          71,
          72,
          73,
          74,
          75,
          76,
          77,
          78,
          79,
          80,
          81,
          82,
          83,
          84,
          85,
          86,
          87,
          88,
          89,
          90,
          91,
          92,
          93,
          94,
          95,
          96,
          97,
          98,
          99,
          100,
          101,
          102,
          103,
          104,
          105,
          106,
          107,
          108,
          109,
          110,
          111,
          112,
          113,
          114,
          115,
          116,
          117,
          118,
          119,
          120,
          121,
          122,
          123
         ],
         "y": [
          0.24877245730377767,
          0,
          0.20101640946821936,
          0.32803598106719317,
          0.30088554248175725,
          0.3068595397174621,
          0.25872731169501045,
          0.22272107506835698,
          0.30245637698121686,
          0.29455316622467115,
          0.3635023273786519,
          0.303090858396386,
          0.33987259885322485,
          0.3480376172493131,
          0.3176854970866295,
          0.2899829990828064,
          0.3517215296916654,
          0.34781195691721906,
          0.24448467911082125,
          0.2815907869478197,
          0.28844668651333283,
          0.19993152609497347,
          0.32636691469704593,
          0.2963889035519537,
          0.2756675758091927,
          0.2636989830089035,
          0.23957323303736044,
          0.23612609224634376,
          0.21932101231046125,
          0.2443241697550839,
          0.2723031440394925,
          0.2723031440394925,
          0.303152822435879,
          0.239259719717424,
          0.3210861063409559,
          0.20746368795815107,
          0.35012305321505355,
          0.24742004946891635,
          0.2123906166889114,
          0.1806422810455325,
          0.31974528871845265,
          0.3116617594082512,
          0.33948326939279255,
          0.3553222426146792,
          0.31903280266655,
          0.36650478461364305,
          0.3224387857753658,
          0.34213622177743913,
          0.3069970541041974,
          0.3205121720206517,
          0.31458272099524015,
          0.3782727463545021,
          0.3690328957095686,
          0.29323062417035256,
          0.3378903013427612,
          0.27591917093993673,
          0.28895109491168985,
          0.2220966604535859,
          0.3004671547051332,
          0.3371802125092342,
          0.31102363673486355,
          0.2049245117927462,
          0.29249329680552033,
          0.39970486983621695,
          0.35600653828469175,
          0.24849086228383047,
          0.24304472180516565,
          0.19069860438506572,
          0.2922212299478421,
          0.26746112636780006,
          0.228947350479309,
          0.20906748988045457,
          0.3194535745314374,
          0.28914480542763843,
          0.3306015133667119,
          0.23440665368577268,
          0.24206229264960608,
          0.23836777149850386,
          0.3516075631985521,
          0.29950490645177813,
          0.3251966658727029,
          0.3667812093647986,
          0.21041236436206526,
          0.25576094123158727,
          0.2584289770966939,
          0.31892320555620424,
          0.25502925456056846,
          0.2472019570530392,
          0.3413154189245746,
          0.225848373555363,
          0.36095347548301143,
          0.22709624730787664,
          0.30883105675795863,
          0.27884200471937276,
          0.3215270066567712,
          0.2657959627273124,
          0.30814921434583364,
          0.2619729412143768,
          0.35906516639712,
          0.2415369539142979,
          0.24512245632971896,
          0.24665737477181782,
          0.2819658937929971,
          0.2641693863734376,
          0.2227604407642823,
          0.24044557203048403,
          0.29250144847550774,
          0.3439914522329917,
          0.28396572400784886,
          0.3090072495025926,
          0,
          0.2921784130476569,
          0.37144225343480053,
          0.22566872847348332,
          0.16170584736253374,
          0.18154822830468703,
          0.31838144465031315,
          0.17389533769909032,
          0.3177647014560234,
          0.32835275452514795,
          0.258971682818204,
          0.22972019774436536,
          0.20201681527903434,
          0.32482347590608013
         ]
        }
       ],
       "layout": {
        "height": 280,
        "hoverlabel": {
         "bgcolor": "white",
         "font": {
          "family": "Rockwell",
          "size": 13
         }
        },
        "margin": {
         "b": 5,
         "l": 5,
         "r": 5,
         "t": 5
        },
        "template": {
         "data": {
          "bar": [
           {
            "error_x": {
             "color": "#2a3f5f"
            },
            "error_y": {
             "color": "#2a3f5f"
            },
            "marker": {
             "line": {
              "color": "#E5ECF6",
              "width": 0.5
             }
            },
            "type": "bar"
           }
          ],
          "barpolar": [
           {
            "marker": {
             "line": {
              "color": "#E5ECF6",
              "width": 0.5
             }
            },
            "type": "barpolar"
           }
          ],
          "carpet": [
           {
            "aaxis": {
             "endlinecolor": "#2a3f5f",
             "gridcolor": "white",
             "linecolor": "white",
             "minorgridcolor": "white",
             "startlinecolor": "#2a3f5f"
            },
            "baxis": {
             "endlinecolor": "#2a3f5f",
             "gridcolor": "white",
             "linecolor": "white",
             "minorgridcolor": "white",
             "startlinecolor": "#2a3f5f"
            },
            "type": "carpet"
           }
          ],
          "choropleth": [
           {
            "colorbar": {
             "outlinewidth": 0,
             "ticks": ""
            },
            "type": "choropleth"
           }
          ],
          "contour": [
           {
            "colorbar": {
             "outlinewidth": 0,
             "ticks": ""
            },
            "colorscale": [
             [
              0,
              "#0d0887"
             ],
             [
              0.1111111111111111,
              "#46039f"
             ],
             [
              0.2222222222222222,
              "#7201a8"
             ],
             [
              0.3333333333333333,
              "#9c179e"
             ],
             [
              0.4444444444444444,
              "#bd3786"
             ],
             [
              0.5555555555555556,
              "#d8576b"
             ],
             [
              0.6666666666666666,
              "#ed7953"
             ],
             [
              0.7777777777777778,
              "#fb9f3a"
             ],
             [
              0.8888888888888888,
              "#fdca26"
             ],
             [
              1,
              "#f0f921"
             ]
            ],
            "type": "contour"
           }
          ],
          "contourcarpet": [
           {
            "colorbar": {
             "outlinewidth": 0,
             "ticks": ""
            },
            "type": "contourcarpet"
           }
          ],
          "heatmap": [
           {
            "colorbar": {
             "outlinewidth": 0,
             "ticks": ""
            },
            "colorscale": [
             [
              0,
              "#0d0887"
             ],
             [
              0.1111111111111111,
              "#46039f"
             ],
             [
              0.2222222222222222,
              "#7201a8"
             ],
             [
              0.3333333333333333,
              "#9c179e"
             ],
             [
              0.4444444444444444,
              "#bd3786"
             ],
             [
              0.5555555555555556,
              "#d8576b"
             ],
             [
              0.6666666666666666,
              "#ed7953"
             ],
             [
              0.7777777777777778,
              "#fb9f3a"
             ],
             [
              0.8888888888888888,
              "#fdca26"
             ],
             [
              1,
              "#f0f921"
             ]
            ],
            "type": "heatmap"
           }
          ],
          "heatmapgl": [
           {
            "colorbar": {
             "outlinewidth": 0,
             "ticks": ""
            },
            "colorscale": [
             [
              0,
              "#0d0887"
             ],
             [
              0.1111111111111111,
              "#46039f"
             ],
             [
              0.2222222222222222,
              "#7201a8"
             ],
             [
              0.3333333333333333,
              "#9c179e"
             ],
             [
              0.4444444444444444,
              "#bd3786"
             ],
             [
              0.5555555555555556,
              "#d8576b"
             ],
             [
              0.6666666666666666,
              "#ed7953"
             ],
             [
              0.7777777777777778,
              "#fb9f3a"
             ],
             [
              0.8888888888888888,
              "#fdca26"
             ],
             [
              1,
              "#f0f921"
             ]
            ],
            "type": "heatmapgl"
           }
          ],
          "histogram": [
           {
            "marker": {
             "colorbar": {
              "outlinewidth": 0,
              "ticks": ""
             }
            },
            "type": "histogram"
           }
          ],
          "histogram2d": [
           {
            "colorbar": {
             "outlinewidth": 0,
             "ticks": ""
            },
            "colorscale": [
             [
              0,
              "#0d0887"
             ],
             [
              0.1111111111111111,
              "#46039f"
             ],
             [
              0.2222222222222222,
              "#7201a8"
             ],
             [
              0.3333333333333333,
              "#9c179e"
             ],
             [
              0.4444444444444444,
              "#bd3786"
             ],
             [
              0.5555555555555556,
              "#d8576b"
             ],
             [
              0.6666666666666666,
              "#ed7953"
             ],
             [
              0.7777777777777778,
              "#fb9f3a"
             ],
             [
              0.8888888888888888,
              "#fdca26"
             ],
             [
              1,
              "#f0f921"
             ]
            ],
            "type": "histogram2d"
           }
          ],
          "histogram2dcontour": [
           {
            "colorbar": {
             "outlinewidth": 0,
             "ticks": ""
            },
            "colorscale": [
             [
              0,
              "#0d0887"
             ],
             [
              0.1111111111111111,
              "#46039f"
             ],
             [
              0.2222222222222222,
              "#7201a8"
             ],
             [
              0.3333333333333333,
              "#9c179e"
             ],
             [
              0.4444444444444444,
              "#bd3786"
             ],
             [
              0.5555555555555556,
              "#d8576b"
             ],
             [
              0.6666666666666666,
              "#ed7953"
             ],
             [
              0.7777777777777778,
              "#fb9f3a"
             ],
             [
              0.8888888888888888,
              "#fdca26"
             ],
             [
              1,
              "#f0f921"
             ]
            ],
            "type": "histogram2dcontour"
           }
          ],
          "mesh3d": [
           {
            "colorbar": {
             "outlinewidth": 0,
             "ticks": ""
            },
            "type": "mesh3d"
           }
          ],
          "parcoords": [
           {
            "line": {
             "colorbar": {
              "outlinewidth": 0,
              "ticks": ""
             }
            },
            "type": "parcoords"
           }
          ],
          "pie": [
           {
            "automargin": true,
            "type": "pie"
           }
          ],
          "scatter": [
           {
            "marker": {
             "colorbar": {
              "outlinewidth": 0,
              "ticks": ""
             }
            },
            "type": "scatter"
           }
          ],
          "scatter3d": [
           {
            "line": {
             "colorbar": {
              "outlinewidth": 0,
              "ticks": ""
             }
            },
            "marker": {
             "colorbar": {
              "outlinewidth": 0,
              "ticks": ""
             }
            },
            "type": "scatter3d"
           }
          ],
          "scattercarpet": [
           {
            "marker": {
             "colorbar": {
              "outlinewidth": 0,
              "ticks": ""
             }
            },
            "type": "scattercarpet"
           }
          ],
          "scattergeo": [
           {
            "marker": {
             "colorbar": {
              "outlinewidth": 0,
              "ticks": ""
             }
            },
            "type": "scattergeo"
           }
          ],
          "scattergl": [
           {
            "marker": {
             "colorbar": {
              "outlinewidth": 0,
              "ticks": ""
             }
            },
            "type": "scattergl"
           }
          ],
          "scattermapbox": [
           {
            "marker": {
             "colorbar": {
              "outlinewidth": 0,
              "ticks": ""
             }
            },
            "type": "scattermapbox"
           }
          ],
          "scatterpolar": [
           {
            "marker": {
             "colorbar": {
              "outlinewidth": 0,
              "ticks": ""
             }
            },
            "type": "scatterpolar"
           }
          ],
          "scatterpolargl": [
           {
            "marker": {
             "colorbar": {
              "outlinewidth": 0,
              "ticks": ""
             }
            },
            "type": "scatterpolargl"
           }
          ],
          "scatterternary": [
           {
            "marker": {
             "colorbar": {
              "outlinewidth": 0,
              "ticks": ""
             }
            },
            "type": "scatterternary"
           }
          ],
          "surface": [
           {
            "colorbar": {
             "outlinewidth": 0,
             "ticks": ""
            },
            "colorscale": [
             [
              0,
              "#0d0887"
             ],
             [
              0.1111111111111111,
              "#46039f"
             ],
             [
              0.2222222222222222,
              "#7201a8"
             ],
             [
              0.3333333333333333,
              "#9c179e"
             ],
             [
              0.4444444444444444,
              "#bd3786"
             ],
             [
              0.5555555555555556,
              "#d8576b"
             ],
             [
              0.6666666666666666,
              "#ed7953"
             ],
             [
              0.7777777777777778,
              "#fb9f3a"
             ],
             [
              0.8888888888888888,
              "#fdca26"
             ],
             [
              1,
              "#f0f921"
             ]
            ],
            "type": "surface"
           }
          ],
          "table": [
           {
            "cells": {
             "fill": {
              "color": "#EBF0F8"
             },
             "line": {
              "color": "white"
             }
            },
            "header": {
             "fill": {
              "color": "#C8D4E3"
             },
             "line": {
              "color": "white"
             }
            },
            "type": "table"
           }
          ]
         },
         "layout": {
          "annotationdefaults": {
           "arrowcolor": "#2a3f5f",
           "arrowhead": 0,
           "arrowwidth": 1
          },
          "coloraxis": {
           "colorbar": {
            "outlinewidth": 0,
            "ticks": ""
           }
          },
          "colorscale": {
           "diverging": [
            [
             0,
             "#8e0152"
            ],
            [
             0.1,
             "#c51b7d"
            ],
            [
             0.2,
             "#de77ae"
            ],
            [
             0.3,
             "#f1b6da"
            ],
            [
             0.4,
             "#fde0ef"
            ],
            [
             0.5,
             "#f7f7f7"
            ],
            [
             0.6,
             "#e6f5d0"
            ],
            [
             0.7,
             "#b8e186"
            ],
            [
             0.8,
             "#7fbc41"
            ],
            [
             0.9,
             "#4d9221"
            ],
            [
             1,
             "#276419"
            ]
           ],
           "sequential": [
            [
             0,
             "#0d0887"
            ],
            [
             0.1111111111111111,
             "#46039f"
            ],
            [
             0.2222222222222222,
             "#7201a8"
            ],
            [
             0.3333333333333333,
             "#9c179e"
            ],
            [
             0.4444444444444444,
             "#bd3786"
            ],
            [
             0.5555555555555556,
             "#d8576b"
            ],
            [
             0.6666666666666666,
             "#ed7953"
            ],
            [
             0.7777777777777778,
             "#fb9f3a"
            ],
            [
             0.8888888888888888,
             "#fdca26"
            ],
            [
             1,
             "#f0f921"
            ]
           ],
           "sequentialminus": [
            [
             0,
             "#0d0887"
            ],
            [
             0.1111111111111111,
             "#46039f"
            ],
            [
             0.2222222222222222,
             "#7201a8"
            ],
            [
             0.3333333333333333,
             "#9c179e"
            ],
            [
             0.4444444444444444,
             "#bd3786"
            ],
            [
             0.5555555555555556,
             "#d8576b"
            ],
            [
             0.6666666666666666,
             "#ed7953"
            ],
            [
             0.7777777777777778,
             "#fb9f3a"
            ],
            [
             0.8888888888888888,
             "#fdca26"
            ],
            [
             1,
             "#f0f921"
            ]
           ]
          },
          "colorway": [
           "#636efa",
           "#EF553B",
           "#00cc96",
           "#ab63fa",
           "#FFA15A",
           "#19d3f3",
           "#FF6692",
           "#B6E880",
           "#FF97FF",
           "#FECB52"
          ],
          "font": {
           "color": "#2a3f5f"
          },
          "geo": {
           "bgcolor": "white",
           "lakecolor": "white",
           "landcolor": "#E5ECF6",
           "showlakes": true,
           "showland": true,
           "subunitcolor": "white"
          },
          "hoverlabel": {
           "align": "left"
          },
          "hovermode": "closest",
          "mapbox": {
           "style": "light"
          },
          "paper_bgcolor": "white",
          "plot_bgcolor": "#E5ECF6",
          "polar": {
           "angularaxis": {
            "gridcolor": "white",
            "linecolor": "white",
            "ticks": ""
           },
           "bgcolor": "#E5ECF6",
           "radialaxis": {
            "gridcolor": "white",
            "linecolor": "white",
            "ticks": ""
           }
          },
          "scene": {
           "xaxis": {
            "backgroundcolor": "#E5ECF6",
            "gridcolor": "white",
            "gridwidth": 2,
            "linecolor": "white",
            "showbackground": true,
            "ticks": "",
            "zerolinecolor": "white"
           },
           "yaxis": {
            "backgroundcolor": "#E5ECF6",
            "gridcolor": "white",
            "gridwidth": 2,
            "linecolor": "white",
            "showbackground": true,
            "ticks": "",
            "zerolinecolor": "white"
           },
           "zaxis": {
            "backgroundcolor": "#E5ECF6",
            "gridcolor": "white",
            "gridwidth": 2,
            "linecolor": "white",
            "showbackground": true,
            "ticks": "",
            "zerolinecolor": "white"
           }
          },
          "shapedefaults": {
           "line": {
            "color": "#2a3f5f"
           }
          },
          "ternary": {
           "aaxis": {
            "gridcolor": "white",
            "linecolor": "white",
            "ticks": ""
           },
           "baxis": {
            "gridcolor": "white",
            "linecolor": "white",
            "ticks": ""
           },
           "bgcolor": "#E5ECF6",
           "caxis": {
            "gridcolor": "white",
            "linecolor": "white",
            "ticks": ""
           }
          },
          "title": {
           "x": 0.05
          },
          "xaxis": {
           "automargin": true,
           "gridcolor": "white",
           "linecolor": "white",
           "ticks": "",
           "title": {
            "standoff": 15
           },
           "zerolinecolor": "white",
           "zerolinewidth": 2
          },
          "yaxis": {
           "automargin": true,
           "gridcolor": "white",
           "linecolor": "white",
           "ticks": "",
           "title": {
            "standoff": 15
           },
           "zerolinecolor": "white",
           "zerolinewidth": 2
          }
         }
        },
        "title": {
         "text": ""
        },
        "width": 400,
        "xaxis": {
         "showticklabels": false,
         "title": {
          "text": ""
         }
        },
        "yaxis": {
         "title": {
          "text": "Similarity to context"
         }
        }
       }
      },
      "text/html": [
       "<div>\n",
       "        \n",
       "        \n",
       "            <div id=\"36e70572-23a2-4592-8471-8c6580dcc072\" class=\"plotly-graph-div\" style=\"height:280px; width:400px;\"></div>\n",
       "            <script type=\"text/javascript\">\n",
       "                require([\"plotly\"], function(Plotly) {\n",
       "                    window.PLOTLYENV=window.PLOTLYENV || {};\n",
       "                    \n",
       "                if (document.getElementById(\"36e70572-23a2-4592-8471-8c6580dcc072\")) {\n",
       "                    Plotly.newPlot(\n",
       "                        '36e70572-23a2-4592-8471-8c6580dcc072',\n",
       "                        [{\"hovertext\": [\"After eliminating duplicate studies of the identified<br>references the titles and available abstracts of the<br>remaining studies were examined by three reviewers and<br>Studies that possibly met inclusion criteria studies with no<br>abstract and studies that could not clearly be excluded on<br>the basis of the title and abstract were retrieved in full<br>text and scrutinized more extensively for eligibility\", \"After removing duplicates the literature searches yielded<br>records\", \"Also the equal weighing of the items of the bias list may be<br>to some extent arbitrary\", \"Also we were unable to study influences of other variables<br>such as age gender or type of treatment because of lack of<br>information in the majority of the included studies\", \"Although the prevalence of depression appeared to be highest<br>in patients with cancer of the digestive tract the brain<br>female genitalia and patients with hematological<br>malignancies the limited number of studies per cancer type<br>and small sample sizes of specific cancer types hamper us to<br>draw firm conclusions\", \"An explanation for this difference might be that diagnostic<br>interviews are standardized tools and use more stringent<br>criteria according to DSM or ICD for clinical depression<br>than self report instruments\", \"An exploration at symptom level would have been preferable\", \"Another strength was the inclusion of bias assessment and<br>our focus on medium and low bias risk studies\", \"As the prevalence of depression depends on the population<br>under study this list focused on the description of the<br>study population and ii the representativeness of the study<br>populations\", \"As we expected considerable heterogeneity among the studies<br>we decided to calculate the mean point prevalence and CI by<br>using random effects model\", \"Because both instruments are frequently used in cancer<br>research and clinical practice for the assessment of<br>depression we thought it was important to analyse both<br>assessment methods\", \"Because studies with high bias might lead to underestimation<br>or overestimation of overall prevalence of depression we<br>excluded these studies from analysis\", \"Burgess showed point prevalence of depression anxiety or<br>both of at diagnosis at months after diagnosis and at year<br>after treatment\", \"Clearly the prevalence of major depressive disorder in<br>cancer patients is much higher compared with the found in<br>the general population\", \"Consequently Vodermaier previously recommended implementing<br>routine self report for symptoms of depression in cancer<br>patients using valid and reliable self report instruments<br>such as the HADS the CES or the BDI\", \"Conversely in patients with symptoms of depression<br>assessment by diagnostic interviews may lead to<br>underrecognition of unmet needs for psychological support as<br>some oncologists may be insufficiently skilled to identify<br>psychological distress and perceived social support in<br>patients\", \"Depression can easily be overlooked because symptoms of<br>cancer and its treatment resemble neurovegetative symptoms<br>of depression such as fatigue loss of appetite and sleep<br>disturbance\", \"Differences in prevalence of depression were not only found<br>between patients treated for different cancer types but also<br>within patient populations treated for the same cancer type\", \"Figure Half of the studies provided information on reasons<br>for nonresponse or nonparticipation and time since diagnosis\", \"Figure Of the assessed studies studies had high bias risk<br>studies had medium bias risk and another had low bias risk\", \"Figure Through reference search an additional studies were<br>found eligible for inclusion\", \"For each study total bias score was calculated by counting<br>the number of criteria scored positively divided by the<br>total number of bias items i.e\", \"For example our results from relatively large group of<br>breast cancer patients including patients from cohorts<br>showed pooled prevalence of depression of CI as measured by<br>diagnostic interviews and of CI as measured by self report<br>instruments\", \"For that reason we could not perform depression analysis at<br>symptom level\", \"For the pooled analysis we focussed on the HADS and the CES<br>because prevalence of depression assessed by these<br>instruments were reported more than times in the total<br>number of cohorts\", \"For the use of these self report instruments no specific<br>skills are required and in case an increased risk of<br>depression is detected the patient should be able to be<br>referred to specialized psychosocial care provider\", \"Full text articles were retrieved for potentially relevant<br>records of which were excluded\", \"Further our findings show that prevalence of depression<br>assessed by both diagnostic interviews and self report<br>instruments was highest in the acute phase of the disease<br>and respectively and decreases afterwards\", \"Furthermore standardized diagnostic interviews are time<br>consuming and thus relatively expensive which hampers<br>routine implementation in busy oncological settings\", \"Heterogeneity was high\", \"Heterogeneity was high ranging from to Table\", \"Heterogeneity was high ranging from to Table\", \"However the overall prevalence rate of depression in cancer<br>patients remains unclear previous studies reported<br>prevalence rates between and\", \"If study referred to another publication describing relevant<br>information about the first study the additional publication<br>was obtained to score the item of concern\", \"In addition only one third of the studies reported<br>information on history of psychiatric problems\", \"In addition we included papers that were not included by<br>Mitchell\", \"In addition we performed subgroup analyses in which we<br>tested whether there were significant differences in<br>prevalence of depression between different types of<br>depression measurement instruments ii cancer type and iii<br>treatment phase during diagnosis or treatment year<br>posttreatment and year posttreatment\", \"In an earlier meta analysis Mitchell reported pooled<br>prevalence of CI among studies using diagnostic interviews\", \"In case of disagreement between the two reviewers on<br>assigning scores third reviewer was consulted to discuss the<br>item of Krebber al.concern until consensus was reached\", \"In case of incomplete or unclear information or lack of<br>description negative score was given\", \"In clinical practice therefore self report instruments are<br>often used to detect depressive symptoms and to assess<br>severity of symptoms\", \"In nearly million new cases of cancer excluding non melanoma<br>skin cancer were diagnosed worldwide and this number is<br>expected to increase to million by\", \"In the past decades studies have evaluated the prevalence of<br>depression in cancer patients\", \"In the present study we could not determine clear pattern of<br>depression rates at the different treatment phases of<br>specific cancer types because we were unable to disentangle<br>whether differences in prevalence rates were due to<br>treatment phase or to types of cancer included\", \"In the random effects model it is assumed that the included<br>studies are drawn from populations of studies that differ<br>from each other systematically heterogeneity\", \"In this meta analysis we found pooled mean prevalence of<br>depression to be in cancer patients in non palliative care<br>settings during or after treatment and the prevalence<br>differed by the type of instrument used to measure<br>depression cancer type and treatment phase\", \"In this model the prevalence resulting from the included<br>studies not only differs because of the random error within<br>studies fixed effects model but also because of true<br>variation in prevalence from one study to the next\", \"Items for the description of the study population included<br>sociodemographic characteristics at least three of the<br>following four age gender marital status and education and<br>employment or socioeconomic status cancer type tumor status<br>type of treatment time since diagnosis treatment phase<br>inclusion and exclusion criteria and information about<br>history of psychiatric problems of the participants\", \"Items of the representativeness of the study population<br>included sample size presentation of participation or<br>response rate reasons for nonresponse or nonparticipation<br>presented comparison of characteristics of responders and<br>non responders and consecutive sampling method\", \"Larger samples of specific cancer types at precise point in<br>cancer treatment should be examined and information on<br>history of depression is preferable\", \"Lee showed point prevalence of depression of preoperatively<br>at months postoperatively and at year after treatment\", \"Many cancer patients and survivors suffer from psychological<br>problems such as depression\", \"More than of the assessed studies reported cancer type and<br>inclusion and exclusion criteria\", \"Nevertheless because both physiological and psychological<br>symptoms of depression can be diagnostically useful when<br>looking for depression excluding neurovegetative symptoms<br>from depression assessment instruments may impair the<br>ability to diagnose depression in cancer settings\", \"Nevertheless heterogeneity was high and it remained high<br>after analysing subgroups of different instruments cancer<br>types and treatment phase\", \"Nevertheless we recommend that criteria and demands<br>regarding population and sample recruitment in studies<br>should be standardized and followed conscientiously in<br>future research in order to secure psychometrical quality of<br>trials\", \"No meta analysis has been published to quantitatively<br>summarize prevalence of depression in cancer patients as<br>measured by self report instruments and psychiatric<br>interviews\", \"Of all cancer types lung cancer breast cancer colorectal<br>cancer stomach cancer and prostate cancer are the most<br>common worldwide\", \"Of the assessed studies had medium and low bias risk and<br>high bias risk\", \"On the basis of diagnostic interviews the prevalence of<br>depression ranged from in patients with lung cancer to in<br>patients with cancer of the brain\", \"On the basis of self report instruments we also found the<br>highest prevalence of depression in the acute phase of<br>disease with pooled prevalence of CI\", \"On the basis of the title and abstract we excluded records<br>that did not meet our inclusion criteria\", \"Other difficulties to detect depression in cancer patients<br>are the lack of specific skills to diagnose mental disorders<br>lack of time in busy oncological settings and reluctance of<br>the patient to discuss emotional well being\", \"Other prospective studies showed that there are distinct<br>patterns regarding the course of psychological distress<br>ranging from resilience no distress before or after<br>treatment recovery elevated distress followed by return to<br>normal delayed recovery and persisting distress\", \"Pooled mean prevalence of depression in cancer patients<br>during or after treatment ranged between and and depended on<br>the instruments used type of cancer and treatment phase\", \"Pooled mean prevalence was calculated for instruments that<br>were used more than times in the total number of cohorts\", \"Pooled prevalence in the first year posttreatment was CI and<br>it was CI after the first year\", \"Pooled prevalence of depression was CI in cohorts using HADS<br>with cut off CI in cohorts using HADS with cut off and CI in<br>cohorts using CES with cut off\", \"Prevalence of depression Over all studies pooled prevalence<br>of major depressive disorder as measured by semi structured<br>and structured diagnostic interviews was CI\", \"Prevalence of depression differed substantially according to<br>the diagnostic instrument used and was substantially higher<br>when self report instruments were used as compared with the<br>diagnostic instruments\", \"Prevalence of major depressive disorder appeared to be as<br>measured by DSM or ICD\", \"Pubmed was additionally scanned by using the following Mesh<br>terms depression epidemiology psychologicalepidemiology<br>depressive disorderepidemiology and neoplasms\", \"Recent advances in diagnosis and treatment of cancer<br>patients have led to improved survival rates\", \"Recently Mitchell conducted meta analysis on studies to<br>determine the prevalence of depression in cancer patients in<br>oncological hematological and palliative care settings\", \"Regarding treatment phase as measured by diagnostic<br>interviews we found the highest prevalence of depression in<br>the acute phase of disease with pooled prevalence of CI<br>against pooled prevalence of CI in the first year<br>posttreatment and CI year or more posttreatment\", \"Self report instruments have the advantage of being quick<br>easy to administer inexpensive and they rely on<br>psychological and cognitive symptoms rather than<br>physiological symptoms\", \"Self report instruments were used times of which the HADS<br>with cut off was used times the HADS with cut off was used<br>times and CES with cut off was used times\", \"Selfreport instruments are designed to measure an increased<br>risk for or severity of depression instead of diagnosing<br>depressive disorder\", \"Several factors may contribute to this wide range of<br>prevalence rates including the use of different instruments<br>to assess depression with different psychometric properties<br>ii the use of different criteria to define depression and<br>iii differences between included cancer populations with<br>respect to cancer type stage and treatment modality\", \"Studies were identified by combining keywords and text words<br>indicative of epidemiology e.g epidemiologic epidemiological<br>epidemiol preval and inciden depression e.g depressi<br>depression emotion distress depressive disorder and major<br>depression and neoplasms e.g tumor tumors tumorous tumour<br>and carcino\", \"Table Characteristics of the analysed studies are shown in<br>Table Supporting information After excluding studies with<br>high bias risk we found pooled prevalence of major<br>depressive disorder as measured by semi structured and<br>structured diagnostic interviews of CI\", \"Table On the basis of self report instruments HADS with cut<br>off and CES with cut off prevalence of depression ranged<br>from in patients with skin cancer to patients with cancer of<br>the digestive tract\", \"Table Pooled prevalence of depression was CI in cohorts<br>using HADS with cut off CI in cohorts using HADS with cut<br>off and CI in cohorts using CES with cut off\", \"The average bias score was SD on point scale and the scores<br>ranged from highest bias risk to lowest bias risk\", \"The bias risk of each study was assessed using item list<br>adapted from existing criteria lists\", \"The detection of depression in cancer patients is difficult\", \"The eligible studies described total of cohorts comprising<br>patients cohorts on cancer of the breast on cancer of the<br>male genitalia on cancer of the head and neck on<br>hematological malignancies on cancer of the female genitalia<br>on cancer of the digestive tract on cancer of the<br>respiratory tract seven on cancer of the brain three on<br>cancer of the skin two on cancer of the bone and soft tissue<br>two on cancer of the urinary tract and two on cancer of the<br>endocrine system\", \"The majority of the studies did not compare characteristics<br>of responders and nonresponders limiting insight in the<br>generalizability of the results\", \"The reviewers and extracted the following data from the<br>included studies meanmedian age ii sex iii cancer type iv<br>time since diagnosis type of treatment vi treatment phase<br>during treatment year after treatment year after treatment<br>and mixed phases vii instrument for assessment of depression<br>and viii sample size and number of cases of depression more<br>specifically major depressive disorder as measured by<br>diagnostic interviews and increased risk for depression as<br>measured by self report instruments\", \"The reviewers and or independently performed the bias<br>assessments\", \"The small number of cohorts hampered us to disentangle<br>differences in prevalence caused by cancer type and<br>differences caused by treatment phase which may reduce the<br>heterogeneity of studies\", \"The use of self report instruments may overestimate the<br>presence of depression\", \"Therefore we note that the use of self report instruments<br>might overestimate the presence of depression and<br>consequently overrate patients need for psychological<br>treatment\", \"These recommendations are supported by Mitchell who also<br>advised using two step procedure incorporating both<br>screening ruling out non cases and case finding ruling in<br>probable cases by two stem questions\", \"These results are in accordance with the findings of Fann<br>reporting the prevalence of major depressive disorder as<br>measured by structured interviews among breast cancer<br>patients ranging from to\", \"They reported pooled prevalence of major depression in non<br>palliative care settings of CI as measured via psychiatric<br>interviews according to the DSM IV criteria or International<br>Classification of Diseases ICD\", \"This may interfere with the patient ability to cope with the<br>burden of the illness it may decrease acceptance of<br>treatment extend hospitalization reduce quality of life and<br>increase suicide risk\", \"This small difference may be caused by the fact that we<br>searched four databases and included more recently conducted<br>studies up to and we did not include studies examining<br>psychometric properties of instruments nor did we include<br>studies with high bias score in our analysis\", \"This study is meta analysis to estimate the prevalence of<br>depression in patients during or after cancer treatment as<br>assessed by diagnostic interviews and self report<br>instruments\", \"To calculate pooled mean prevalence of depression we used<br>the computer program Comprehensive Meta Analysis version by<br>Borenstein Biostat Englewood New Jersey US\", \"To determine major depression ICD uses similar criteria as<br>DSM III \\u00c0R IV but adding higher threshold categories which<br>might have resulted in lower prevalences of major depression<br>when assessed by ICD acknowledge that cut off points are to<br>some extent arbitrary and prevalence of depression depends<br>on the chosen cut off point per questionnaire\", \"Under recognition may result in undertreatment as two thirds<br>of screen positive cases may develop full blown depression<br>if left untreated\", \"Unfortunately in the current study we were unable to<br>identify the influences of these factors on prevalence rates\", \"Unfortunately the prevalence of depression in the analysed<br>studies was mostly reported as exceeding certain cutoff<br>point rather than score on the individual symptoms of<br>depression\", \"We also calculated the statistic but only report whether<br>this was significant or not\", \"We distinguish between depressive disorders assessed using<br>diagnostic interviews and symptom prevalence as measured by<br>self report instruments\", \"We excluded high bias risk studies from subgroup analysis<br>because these studies might lead to overestimation or<br>underestimation of overall prevalence of depression\", \"We found differences in the prevalence of depression across<br>patients treated for different cancer types\", \"We found minimal difference in prevalence of depression<br>between analysis of all studies and analysis of medium and<br>low bias risk studies only\", \"We included studies that reported the prevalence of<br>depression in adult patients in non palliative care settings<br>during or after cancer treatment ii assessed depression by<br>semi structured or structured diagnostic interviews based on<br>criteria by DSM III \\u00c0R IV or ICD or by self report<br>instruments with good or excellent psychometric quality as<br>rated by Vodermaier that is the Hospital Anxiety and<br>Depression Scale depression subscale HADS the Center for<br>Epidemiologic Studies Depression Scale CES Beck Depression<br>Inventory BDI and Brief Symptom Inventory iii defined<br>depression as major depressive disorder based on criteria by<br>DSM III \\u00c0R IV or ICD and as increased risk of depression by<br>self report instruments and iv were written in English\", \"We tested the heterogeneity under the fixed model using the<br>statistic\", \"We used the mixed effects model which pooled studies within<br>subgroups with the random effects model but tested for<br>significant differences between subgroups with the fixed<br>effects model\", \"Wide ranges in prevalence of depression within groups of<br>patients with similar diagnosis may be caused by the time<br>point of measurement type of cancer treatment number of side<br>effects of cancer treatment and gender\", \"comprehensive literature search was performed up to in four<br>databases Pub Med Psyc INFO EMBASE and CINAHL\", \"describes the variance between studies as proportion of the<br>total variance\", \"history of depression increases the risk of recurrence of<br>depressive episode\", \"minority of the studies provided information on comparison<br>of characteristics between responders and nonresponders and<br>history of psychiatric problems\", \"positive score was given if the study provided adequate<br>information regarding the item of concern\", \"prevalence of depression in breast cancer patients that is<br>from to\", \"similar drop has been found in early breast cancer patients<br>by Burgess and Lee\", \"strength of this study is the inclusion of both diagnostic<br>interviews and self report instruments\", \"structured or semi structured diagnostic interview Table was<br>used times in the cohorts\", \"study was considered of low bias risk if the score was at<br>least of the total possible score and of medium bias risk if<br>the score was between and\", \"value of indicates no observed heterogeneity and larger<br>values show increasing heterogeneity with as low as moderate<br>and as high heterogeneity\"], \"type\": \"bar\", \"x\": [0, 1, 2, 3, 4, 5, 6, 7, 8, 9, 10, 11, 12, 13, 14, 15, 16, 17, 18, 19, 20, 21, 22, 23, 24, 25, 26, 27, 28, 29, 30, 31, 32, 33, 34, 35, 36, 37, 38, 39, 40, 41, 42, 43, 44, 45, 46, 47, 48, 49, 50, 51, 52, 53, 54, 55, 56, 57, 58, 59, 60, 61, 62, 63, 64, 65, 66, 67, 68, 69, 70, 71, 72, 73, 74, 75, 76, 77, 78, 79, 80, 81, 82, 83, 84, 85, 86, 87, 88, 89, 90, 91, 92, 93, 94, 95, 96, 97, 98, 99, 100, 101, 102, 103, 104, 105, 106, 107, 108, 109, 110, 111, 112, 113, 114, 115, 116, 117, 118, 119, 120, 121, 122, 123], \"y\": [0.24877245730377767, 0.0, 0.20101640946821936, 0.32803598106719317, 0.30088554248175725, 0.3068595397174621, 0.25872731169501045, 0.22272107506835698, 0.30245637698121686, 0.29455316622467115, 0.3635023273786519, 0.303090858396386, 0.33987259885322485, 0.3480376172493131, 0.3176854970866295, 0.2899829990828064, 0.3517215296916654, 0.34781195691721906, 0.24448467911082125, 0.2815907869478197, 0.28844668651333283, 0.19993152609497347, 0.32636691469704593, 0.2963889035519537, 0.2756675758091927, 0.2636989830089035, 0.23957323303736044, 0.23612609224634376, 0.21932101231046125, 0.2443241697550839, 0.2723031440394925, 0.2723031440394925, 0.303152822435879, 0.239259719717424, 0.3210861063409559, 0.20746368795815107, 0.35012305321505355, 0.24742004946891635, 0.2123906166889114, 0.1806422810455325, 0.31974528871845265, 0.3116617594082512, 0.33948326939279255, 0.3553222426146792, 0.31903280266655, 0.36650478461364305, 0.3224387857753658, 0.34213622177743913, 0.3069970541041974, 0.3205121720206517, 0.31458272099524015, 0.3782727463545021, 0.3690328957095686, 0.29323062417035256, 0.3378903013427612, 0.27591917093993673, 0.28895109491168985, 0.2220966604535859, 0.3004671547051332, 0.3371802125092342, 0.31102363673486355, 0.2049245117927462, 0.29249329680552033, 0.39970486983621695, 0.35600653828469175, 0.24849086228383047, 0.24304472180516565, 0.19069860438506572, 0.2922212299478421, 0.26746112636780006, 0.228947350479309, 0.20906748988045457, 0.3194535745314374, 0.28914480542763843, 0.3306015133667119, 0.23440665368577268, 0.24206229264960608, 0.23836777149850386, 0.3516075631985521, 0.29950490645177813, 0.3251966658727029, 0.3667812093647986, 0.21041236436206526, 0.25576094123158727, 0.2584289770966939, 0.31892320555620424, 0.25502925456056846, 0.2472019570530392, 0.3413154189245746, 0.225848373555363, 0.36095347548301143, 0.22709624730787664, 0.30883105675795863, 0.27884200471937276, 0.3215270066567712, 0.2657959627273124, 0.30814921434583364, 0.2619729412143768, 0.35906516639712, 0.2415369539142979, 0.24512245632971896, 0.24665737477181782, 0.2819658937929971, 0.2641693863734376, 0.2227604407642823, 0.24044557203048403, 0.29250144847550774, 0.3439914522329917, 0.28396572400784886, 0.3090072495025926, 0.0, 0.2921784130476569, 0.37144225343480053, 0.22566872847348332, 0.16170584736253374, 0.18154822830468703, 0.31838144465031315, 0.17389533769909032, 0.3177647014560234, 0.32835275452514795, 0.258971682818204, 0.22972019774436536, 0.20201681527903434, 0.32482347590608013]}],\n",
       "                        {\"height\": 280, \"hoverlabel\": {\"bgcolor\": \"white\", \"font\": {\"family\": \"Rockwell\", \"size\": 13}}, \"margin\": {\"b\": 5, \"l\": 5, \"r\": 5, \"t\": 5}, \"template\": {\"data\": {\"bar\": [{\"error_x\": {\"color\": \"#2a3f5f\"}, \"error_y\": {\"color\": \"#2a3f5f\"}, \"marker\": {\"line\": {\"color\": \"#E5ECF6\", \"width\": 0.5}}, \"type\": \"bar\"}], \"barpolar\": [{\"marker\": {\"line\": {\"color\": \"#E5ECF6\", \"width\": 0.5}}, \"type\": \"barpolar\"}], \"carpet\": [{\"aaxis\": {\"endlinecolor\": \"#2a3f5f\", \"gridcolor\": \"white\", \"linecolor\": \"white\", \"minorgridcolor\": \"white\", \"startlinecolor\": \"#2a3f5f\"}, \"baxis\": {\"endlinecolor\": \"#2a3f5f\", \"gridcolor\": \"white\", \"linecolor\": \"white\", \"minorgridcolor\": \"white\", \"startlinecolor\": \"#2a3f5f\"}, \"type\": \"carpet\"}], \"choropleth\": [{\"colorbar\": {\"outlinewidth\": 0, \"ticks\": \"\"}, \"type\": \"choropleth\"}], \"contour\": [{\"colorbar\": {\"outlinewidth\": 0, \"ticks\": \"\"}, \"colorscale\": [[0.0, \"#0d0887\"], [0.1111111111111111, \"#46039f\"], [0.2222222222222222, \"#7201a8\"], [0.3333333333333333, \"#9c179e\"], [0.4444444444444444, \"#bd3786\"], [0.5555555555555556, \"#d8576b\"], [0.6666666666666666, \"#ed7953\"], [0.7777777777777778, \"#fb9f3a\"], [0.8888888888888888, \"#fdca26\"], [1.0, \"#f0f921\"]], \"type\": \"contour\"}], \"contourcarpet\": [{\"colorbar\": {\"outlinewidth\": 0, \"ticks\": \"\"}, \"type\": \"contourcarpet\"}], \"heatmap\": [{\"colorbar\": {\"outlinewidth\": 0, \"ticks\": \"\"}, \"colorscale\": [[0.0, \"#0d0887\"], [0.1111111111111111, \"#46039f\"], [0.2222222222222222, \"#7201a8\"], [0.3333333333333333, \"#9c179e\"], [0.4444444444444444, \"#bd3786\"], [0.5555555555555556, \"#d8576b\"], [0.6666666666666666, \"#ed7953\"], [0.7777777777777778, \"#fb9f3a\"], [0.8888888888888888, \"#fdca26\"], [1.0, \"#f0f921\"]], \"type\": \"heatmap\"}], \"heatmapgl\": [{\"colorbar\": {\"outlinewidth\": 0, \"ticks\": \"\"}, \"colorscale\": [[0.0, \"#0d0887\"], [0.1111111111111111, \"#46039f\"], [0.2222222222222222, \"#7201a8\"], [0.3333333333333333, \"#9c179e\"], [0.4444444444444444, \"#bd3786\"], [0.5555555555555556, \"#d8576b\"], [0.6666666666666666, \"#ed7953\"], [0.7777777777777778, \"#fb9f3a\"], [0.8888888888888888, \"#fdca26\"], [1.0, \"#f0f921\"]], \"type\": \"heatmapgl\"}], \"histogram\": [{\"marker\": {\"colorbar\": {\"outlinewidth\": 0, \"ticks\": \"\"}}, \"type\": \"histogram\"}], \"histogram2d\": [{\"colorbar\": {\"outlinewidth\": 0, \"ticks\": \"\"}, \"colorscale\": [[0.0, \"#0d0887\"], [0.1111111111111111, \"#46039f\"], [0.2222222222222222, \"#7201a8\"], [0.3333333333333333, \"#9c179e\"], [0.4444444444444444, \"#bd3786\"], [0.5555555555555556, \"#d8576b\"], [0.6666666666666666, \"#ed7953\"], [0.7777777777777778, \"#fb9f3a\"], [0.8888888888888888, \"#fdca26\"], [1.0, \"#f0f921\"]], \"type\": \"histogram2d\"}], \"histogram2dcontour\": [{\"colorbar\": {\"outlinewidth\": 0, \"ticks\": \"\"}, \"colorscale\": [[0.0, \"#0d0887\"], [0.1111111111111111, \"#46039f\"], [0.2222222222222222, \"#7201a8\"], [0.3333333333333333, \"#9c179e\"], [0.4444444444444444, \"#bd3786\"], [0.5555555555555556, \"#d8576b\"], [0.6666666666666666, \"#ed7953\"], [0.7777777777777778, \"#fb9f3a\"], [0.8888888888888888, \"#fdca26\"], [1.0, \"#f0f921\"]], \"type\": \"histogram2dcontour\"}], \"mesh3d\": [{\"colorbar\": {\"outlinewidth\": 0, \"ticks\": \"\"}, \"type\": \"mesh3d\"}], \"parcoords\": [{\"line\": {\"colorbar\": {\"outlinewidth\": 0, \"ticks\": \"\"}}, \"type\": \"parcoords\"}], \"pie\": [{\"automargin\": true, \"type\": \"pie\"}], \"scatter\": [{\"marker\": {\"colorbar\": {\"outlinewidth\": 0, \"ticks\": \"\"}}, \"type\": \"scatter\"}], \"scatter3d\": [{\"line\": {\"colorbar\": {\"outlinewidth\": 0, \"ticks\": \"\"}}, \"marker\": {\"colorbar\": {\"outlinewidth\": 0, \"ticks\": \"\"}}, \"type\": \"scatter3d\"}], \"scattercarpet\": [{\"marker\": {\"colorbar\": {\"outlinewidth\": 0, \"ticks\": \"\"}}, \"type\": \"scattercarpet\"}], \"scattergeo\": [{\"marker\": {\"colorbar\": {\"outlinewidth\": 0, \"ticks\": \"\"}}, \"type\": \"scattergeo\"}], \"scattergl\": [{\"marker\": {\"colorbar\": {\"outlinewidth\": 0, \"ticks\": \"\"}}, \"type\": \"scattergl\"}], \"scattermapbox\": [{\"marker\": {\"colorbar\": {\"outlinewidth\": 0, \"ticks\": \"\"}}, \"type\": \"scattermapbox\"}], \"scatterpolar\": [{\"marker\": {\"colorbar\": {\"outlinewidth\": 0, \"ticks\": \"\"}}, \"type\": \"scatterpolar\"}], \"scatterpolargl\": [{\"marker\": {\"colorbar\": {\"outlinewidth\": 0, \"ticks\": \"\"}}, \"type\": \"scatterpolargl\"}], \"scatterternary\": [{\"marker\": {\"colorbar\": {\"outlinewidth\": 0, \"ticks\": \"\"}}, \"type\": \"scatterternary\"}], \"surface\": [{\"colorbar\": {\"outlinewidth\": 0, \"ticks\": \"\"}, \"colorscale\": [[0.0, \"#0d0887\"], [0.1111111111111111, \"#46039f\"], [0.2222222222222222, \"#7201a8\"], [0.3333333333333333, \"#9c179e\"], [0.4444444444444444, \"#bd3786\"], [0.5555555555555556, \"#d8576b\"], [0.6666666666666666, \"#ed7953\"], [0.7777777777777778, \"#fb9f3a\"], [0.8888888888888888, \"#fdca26\"], [1.0, \"#f0f921\"]], \"type\": \"surface\"}], \"table\": [{\"cells\": {\"fill\": {\"color\": \"#EBF0F8\"}, \"line\": {\"color\": \"white\"}}, \"header\": {\"fill\": {\"color\": \"#C8D4E3\"}, \"line\": {\"color\": \"white\"}}, \"type\": \"table\"}]}, \"layout\": {\"annotationdefaults\": {\"arrowcolor\": \"#2a3f5f\", \"arrowhead\": 0, \"arrowwidth\": 1}, \"coloraxis\": {\"colorbar\": {\"outlinewidth\": 0, \"ticks\": \"\"}}, \"colorscale\": {\"diverging\": [[0, \"#8e0152\"], [0.1, \"#c51b7d\"], [0.2, \"#de77ae\"], [0.3, \"#f1b6da\"], [0.4, \"#fde0ef\"], [0.5, \"#f7f7f7\"], [0.6, \"#e6f5d0\"], [0.7, \"#b8e186\"], [0.8, \"#7fbc41\"], [0.9, \"#4d9221\"], [1, \"#276419\"]], \"sequential\": [[0.0, \"#0d0887\"], [0.1111111111111111, \"#46039f\"], [0.2222222222222222, \"#7201a8\"], [0.3333333333333333, \"#9c179e\"], [0.4444444444444444, \"#bd3786\"], [0.5555555555555556, \"#d8576b\"], [0.6666666666666666, \"#ed7953\"], [0.7777777777777778, \"#fb9f3a\"], [0.8888888888888888, \"#fdca26\"], [1.0, \"#f0f921\"]], \"sequentialminus\": [[0.0, \"#0d0887\"], [0.1111111111111111, \"#46039f\"], [0.2222222222222222, \"#7201a8\"], [0.3333333333333333, \"#9c179e\"], [0.4444444444444444, \"#bd3786\"], [0.5555555555555556, \"#d8576b\"], [0.6666666666666666, \"#ed7953\"], [0.7777777777777778, \"#fb9f3a\"], [0.8888888888888888, \"#fdca26\"], [1.0, \"#f0f921\"]]}, \"colorway\": [\"#636efa\", \"#EF553B\", \"#00cc96\", \"#ab63fa\", \"#FFA15A\", \"#19d3f3\", \"#FF6692\", \"#B6E880\", \"#FF97FF\", \"#FECB52\"], \"font\": {\"color\": \"#2a3f5f\"}, \"geo\": {\"bgcolor\": \"white\", \"lakecolor\": \"white\", \"landcolor\": \"#E5ECF6\", \"showlakes\": true, \"showland\": true, \"subunitcolor\": \"white\"}, \"hoverlabel\": {\"align\": \"left\"}, \"hovermode\": \"closest\", \"mapbox\": {\"style\": \"light\"}, \"paper_bgcolor\": \"white\", \"plot_bgcolor\": \"#E5ECF6\", \"polar\": {\"angularaxis\": {\"gridcolor\": \"white\", \"linecolor\": \"white\", \"ticks\": \"\"}, \"bgcolor\": \"#E5ECF6\", \"radialaxis\": {\"gridcolor\": \"white\", \"linecolor\": \"white\", \"ticks\": \"\"}}, \"scene\": {\"xaxis\": {\"backgroundcolor\": \"#E5ECF6\", \"gridcolor\": \"white\", \"gridwidth\": 2, \"linecolor\": \"white\", \"showbackground\": true, \"ticks\": \"\", \"zerolinecolor\": \"white\"}, \"yaxis\": {\"backgroundcolor\": \"#E5ECF6\", \"gridcolor\": \"white\", \"gridwidth\": 2, \"linecolor\": \"white\", \"showbackground\": true, \"ticks\": \"\", \"zerolinecolor\": \"white\"}, \"zaxis\": {\"backgroundcolor\": \"#E5ECF6\", \"gridcolor\": \"white\", \"gridwidth\": 2, \"linecolor\": \"white\", \"showbackground\": true, \"ticks\": \"\", \"zerolinecolor\": \"white\"}}, \"shapedefaults\": {\"line\": {\"color\": \"#2a3f5f\"}}, \"ternary\": {\"aaxis\": {\"gridcolor\": \"white\", \"linecolor\": \"white\", \"ticks\": \"\"}, \"baxis\": {\"gridcolor\": \"white\", \"linecolor\": \"white\", \"ticks\": \"\"}, \"bgcolor\": \"#E5ECF6\", \"caxis\": {\"gridcolor\": \"white\", \"linecolor\": \"white\", \"ticks\": \"\"}}, \"title\": {\"x\": 0.05}, \"xaxis\": {\"automargin\": true, \"gridcolor\": \"white\", \"linecolor\": \"white\", \"ticks\": \"\", \"title\": {\"standoff\": 15}, \"zerolinecolor\": \"white\", \"zerolinewidth\": 2}, \"yaxis\": {\"automargin\": true, \"gridcolor\": \"white\", \"linecolor\": \"white\", \"ticks\": \"\", \"title\": {\"standoff\": 15}, \"zerolinecolor\": \"white\", \"zerolinewidth\": 2}}}, \"title\": {\"text\": \"\"}, \"width\": 400, \"xaxis\": {\"showticklabels\": false, \"title\": {\"text\": \"\"}}, \"yaxis\": {\"title\": {\"text\": \"Similarity to context\"}}},\n",
       "                        {\"responsive\": true}\n",
       "                    ).then(function(){\n",
       "                            \n",
       "var gd = document.getElementById('36e70572-23a2-4592-8471-8c6580dcc072');\n",
       "var x = new MutationObserver(function (mutations, observer) {{\n",
       "        var display = window.getComputedStyle(gd).display;\n",
       "        if (!display || display === 'none') {{\n",
       "            console.log([gd, 'removed!']);\n",
       "            Plotly.purge(gd);\n",
       "            observer.disconnect();\n",
       "        }}\n",
       "}});\n",
       "\n",
       "// Listen for the removal of the full notebook cells\n",
       "var notebookContainer = gd.closest('#notebook-container');\n",
       "if (notebookContainer) {{\n",
       "    x.observe(notebookContainer, {childList: true});\n",
       "}}\n",
       "\n",
       "// Listen for the clearing of the current output cell\n",
       "var outputEl = gd.closest('.output');\n",
       "if (outputEl) {{\n",
       "    x.observe(outputEl, {childList: true});\n",
       "}}\n",
       "\n",
       "                        })\n",
       "                };\n",
       "                });\n",
       "            </script>\n",
       "        </div>"
      ]
     },
     "metadata": {},
     "output_type": "display_data"
    }
   ],
   "source": [
    "\n",
    "\n",
    "\n",
    "for result in processed_test_results:\n",
    "    result['citing_str']\n",
    "    result['citing_context']\n",
    "    df = result['data']['original']\n",
    "    _ = plot_text_sim(df['bow_itf_original'], df.index)\n",
    "#     _ = plot_text_sim(df['bert_original_cos_ampl'], df.index, title='bert_cos')\n",
    "    _ = plot_text_sim(df['bert_original_ts_ss'], df.index)\n",
    "#     _ = plot_text_sim(df['comb_bow_itf_bert_cos'], df.index, title='comb_bow_itf_bert_cos')\n",
    "    _ = plot_text_sim(df['comb_bow_itf_bert_ts_ss'], df.index)\n",
    "\n"
   ]
  },
  {
   "cell_type": "code",
   "execution_count": 108,
   "metadata": {
    "ExecuteTime": {
     "end_time": "2020-08-31T13:50:18.469718Z",
     "start_time": "2020-08-31T13:50:18.466881Z"
    },
    "scrolled": false
   },
   "outputs": [],
   "source": [
    "# links[109]\n",
    "# [(i, doc['cited_paper']['metadata']['title']) for i, doc in enumerate(links)]\n"
   ]
  }
 ],
 "metadata": {
  "kernelspec": {
   "display_name": "cogsci_python",
   "language": "python",
   "name": "cogsci_python"
  },
  "language_info": {
   "codemirror_mode": {
    "name": "ipython",
    "version": 3
   },
   "file_extension": ".py",
   "mimetype": "text/x-python",
   "name": "python",
   "nbconvert_exporter": "python",
   "pygments_lexer": "ipython3",
   "version": "3.8.2"
  }
 },
 "nbformat": 4,
 "nbformat_minor": 4
}
