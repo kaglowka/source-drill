{
 "cells": [
  {
   "cell_type": "code",
   "execution_count": null,
   "metadata": {
    "ExecuteTime": {
     "end_time": "2020-06-28T14:09:44.202926Z",
     "start_time": "2020-06-28T14:09:43.833650Z"
    }
   },
   "outputs": [],
   "source": [
    "### Imports and configuration\n",
    "\n",
    "# setup variables\n",
    "\n",
    "import os\n",
    "import json\n",
    "import tqdm\n",
    "from s2orc.config import CURRENT_VERSION\n",
    "\n",
    "# jsonlines https://jsonlines.readthedocs.io/en/latest/#api\n",
    "import jsonlines\n",
    "import gzip\n",
    "import numpy as np\n",
    "import matplotlib.pyplot as plt\n",
    "import hiplot # <3\n",
    "\n",
    "LOCAL_S2ORC_DIR = 's2orc-data'\n",
    "\n",
    "psychology_paper_dir = os.path.join(LOCAL_S2ORC_DIR, CURRENT_VERSION, 'psychology')\n",
    "psychology_paper_suffix = 'psych.text.jsonl'\n",
    "\n",
    "links_dir = os.path.join(LOCAL_S2ORC_DIR, CURRENT_VERSION, 'psych_links')\n",
    "links_suffix = 'psych.text.link.jsonl'\n"
   ]
  },
  {
   "cell_type": "code",
   "execution_count": null,
   "metadata": {
    "ExecuteTime": {
     "end_time": "2020-06-28T14:09:46.522765Z",
     "start_time": "2020-06-28T14:09:44.205114Z"
    }
   },
   "outputs": [],
   "source": [
    "## Get corpus into memory\n",
    "\n",
    "start = 0\n",
    "span = 100 # all: 1700\n",
    "\n",
    "links = []\n",
    "\n",
    "links_files = sorted(os.listdir(links_dir), key=lambda f: int(f.split('.')[0]))[start:(start+span)]\n",
    "for link_file in tqdm.tqdm(links_files):\n",
    "    with gzip.open(os.path.join(links_dir, link_file), 'rb') as f_in:\n",
    "        batch_links = list(jsonlines.Reader(f_in))\n",
    "        for link in batch_links:\n",
    "            if link['citing_paper']['grobid_parse'].get('body_text') is not None and link['cited_paper']['grobid_parse'].get('body_text') is not None:\n",
    "                links.append(link)\n",
    "\n",
    "np.random.seed(2134234)\n",
    "links = np.array(links)\n",
    "np.random.shuffle(links)"
   ]
  },
  {
   "cell_type": "code",
   "execution_count": null,
   "metadata": {
    "ExecuteTime": {
     "end_time": "2020-06-28T14:09:46.534183Z",
     "start_time": "2020-06-28T14:09:46.525832Z"
    }
   },
   "outputs": [],
   "source": [
    "n_train_links = int(0.5 * len(links))\n",
    "n_validation_links = int(0.2 * len(links))\n",
    "n_test_links = len(links) - n_train_links - n_validation_links\n",
    "train_links = links[:15]\n",
    "#validation_links = links[n_train_links:n_train_links + n_validation_links]\n",
    "#test_links = links[-n_test_links:]\n",
    "links = None"
   ]
  },
  {
   "cell_type": "markdown",
   "metadata": {},
   "source": [
    "# work on the data"
   ]
  },
  {
   "cell_type": "code",
   "execution_count": null,
   "metadata": {
    "ExecuteTime": {
     "end_time": "2020-06-28T14:09:50.293946Z",
     "start_time": "2020-06-28T14:09:46.541520Z"
    }
   },
   "outputs": [],
   "source": [
    "from syntok.segmenter import split\n",
    "from syntok.tokenizer import Tokenizer\n",
    "import json\n",
    "from flair.embeddings import WordEmbeddings, FlairEmbeddings, DocumentPoolEmbeddings, StackedEmbeddings, TransformerDocumentEmbeddings\n",
    "from flair.data import Sentence\n",
    "import pandas as pd\n",
    "import numpy as np\n",
    "import tqdm\n",
    "import sys\n"
   ]
  },
  {
   "cell_type": "code",
   "execution_count": null,
   "metadata": {
    "ExecuteTime": {
     "end_time": "2020-06-28T15:46:08.299373Z",
     "start_time": "2020-06-28T15:46:08.293705Z"
    }
   },
   "outputs": [],
   "source": [
    "def process_section_to_chunks(text):\n",
    "    chunksize = 1\n",
    "    tokenized_sents = list(split(Tokenizer().tokenize(text)))\n",
    "    sents = [' '.join(str(token) for token in sent) for sent in tokenized_sents]\n",
    "    sents = [' '.join(sents[i:i+chunksize]) for i in range(len(sents)-chunksize)]\n",
    "    sentences = [s for s in [Sentence(sent, use_tokenizer=True) for sent in sents]\\\n",
    "                 if len(s.tokens) > 0]\n",
    "    return sentences\n",
    "                "
   ]
  },
  {
   "cell_type": "code",
   "execution_count": null,
   "metadata": {
    "ExecuteTime": {
     "end_time": "2020-06-28T15:53:03.014829Z",
     "start_time": "2020-06-28T15:53:03.009902Z"
    }
   },
   "outputs": [],
   "source": [
    "def partition_get_whole_section(text):\n",
    "    return [text]\n",
    "\n",
    "def process_link(link, process_section):\n",
    "    context = link['citation_context']\n",
    "    citing_paper = link['citing_paper']\n",
    "    cited_paper = link['cited_paper']\n",
    "    \n",
    "    parts = []\n",
    "    for text_chunk in cited_paper['grobid_parse']['body_text']:\n",
    "        text = text_chunk.get('text')\n",
    "        if text is not None:\n",
    "            chunk_parts = process_section(text)\n",
    "            parts.extend(chunk_parts)\n",
    "    citing_string = ''.join([context['pre_context'], context['context_string'], context['post_context']])\n",
    "    return {\n",
    "        'citing_str': context['context_string'],\n",
    "        'citing_context': citing_string,\n",
    "        'cited_text_parts': parts,\n",
    "    }\n",
    "\n",
    "# process_link(train_links[0], process_section_to_chunks)\n",
    "\n",
    "\n"
   ]
  },
  {
   "cell_type": "code",
   "execution_count": null,
   "metadata": {
    "ExecuteTime": {
     "end_time": "2020-06-28T14:09:50.326046Z",
     "start_time": "2020-06-28T14:09:50.316848Z"
    }
   },
   "outputs": [],
   "source": [
    "def calc_embedding_scores(link, metrics, embedding_name, embedding):\n",
    "    all_sim = {}\n",
    "    \n",
    "    s = Sentence(link['citing_context'], use_tokenizer=True)\n",
    "    embedding.embed(s)\n",
    "    citation_embedding = s.embedding.detach().numpy()\n",
    "\n",
    "    sentences = link['cited_text_parts']\n",
    "    for sentence in sentences:\n",
    "        embedding.embed(sentence)\n",
    "    for sentence in sentences:\n",
    "        all_sim[sentence.to_plain_string()] = {}\n",
    "        for name, metric in metrics.items():\n",
    "            sim = metric(sentence.embedding.detach().numpy(), citation_embedding)\n",
    "            full_name = '_'.join([embedding_name, name])\n",
    "            all_sim[sentence.to_plain_string()][full_name] = sim\n",
    "    for sentence in sentences:\n",
    "        sentence.clear_embeddings()\n",
    "    \n",
    "    return pd.DataFrame(all_sim).T\n"
   ]
  },
  {
   "cell_type": "code",
   "execution_count": 226,
   "metadata": {
    "ExecuteTime": {
     "end_time": "2020-06-28T21:01:40.993681Z",
     "start_time": "2020-06-28T21:01:40.987715Z"
    }
   },
   "outputs": [],
   "source": [
    "def calc_bow_occurrence_score(link, name):\n",
    "    scores = []\n",
    "    s = Sentence(link['citing_context'], use_tokenizer=True)\n",
    "    context_token_set = set(token.text for token in s.tokens)\n",
    "#     print (context_token_set)\n",
    "    sentences = link['cited_text_parts']\n",
    "#     print('SENTS')\n",
    "    for sentence in sentences:\n",
    "        sent_token_set = set(token.text for token in sentence.tokens)\n",
    "#         print (sent_token_set)\n",
    "        \n",
    "        score = len(sent_token_set.intersection(context_token_set)) / len(context_token_set)            \n",
    "        scores.append(score)\n",
    "    return pd.DataFrame({\n",
    "        name: scores\n",
    "    }, index=[sent.to_plain_string() for sent in sentences])"
   ]
  },
  {
   "cell_type": "code",
   "execution_count": 255,
   "metadata": {
    "ExecuteTime": {
     "end_time": "2020-06-28T21:56:11.079582Z",
     "start_time": "2020-06-28T21:56:11.069373Z"
    }
   },
   "outputs": [],
   "source": [
    "from wordfreq import word_frequency\n",
    "import regex\n",
    "from collections import defaultdict\n",
    "\n",
    "def get_word_itf(string_tokens, weights: dict):\n",
    "    min_val = 10e-7\n",
    "    return [weights[token] * 1./max(min_val, word_frequency(token, 'en')) for token in string_tokens]\n",
    "\n",
    "science_blacklist = {'al', 'al.', 'et'}\n",
    "\n",
    "token_re = r'^\\p{L}(\\p{L}|\\.|[0-9])+$'\n",
    "def process_tokens(string_tokens):\n",
    "    return [token.lower() for token in string_tokens if regex.match(token_re, token) and token not in science_blacklist]\n",
    "\n",
    "def calc_bow_itf_score(link, name):\n",
    "    \"\"\"\n",
    "    Score using term frequency\n",
    "    \"\"\"\n",
    "    scores = []\n",
    "    s = Sentence(link['citing_context'], use_tokenizer=True)\n",
    "    s_tokens = [token.text for token in s.tokens]\n",
    "    processed_tokens = process_tokens(s_tokens)\n",
    "    print(processed_tokens)\n",
    "#     weights = defaultdict(float)\n",
    "#     for i, token in enumerate(processed_tokens):\n",
    "#         weight = i - len(processed_tokens)/2.          \n",
    "#         weights[token] = max(weight, weights.get(token, 0))\n",
    "    weights = defaultdict(lambda: 1)\n",
    "    context_token_set = set(processed_tokens)\n",
    "    total_denominator = np.sum(get_word_itf(context_token_set, weights=defaultdict(lambda: 1)))\n",
    "    sentences = link['cited_text_parts']\n",
    "    for sentence in sentences:\n",
    "        sent_tokens = [token.text for token in sentence.tokens]\n",
    "        sent_token_set = set(process_tokens(sent_tokens))\n",
    "#         print (sent_token_set)\n",
    "        matching = sent_token_set.intersection(context_token_set)\n",
    "        token_sum = np.sum([get_word_itf(matching, weights=weights)]) * len(matching) / len(sent_token_set)\n",
    "        score = token_sum/total_denominator #/  np.sum(list(weights.values()))\n",
    "        scores.append(score)\n",
    "    return pd.DataFrame({\n",
    "        name: scores\n",
    "    }, index=[sent.to_plain_string() for sent in sentences])"
   ]
  },
  {
   "cell_type": "code",
   "execution_count": null,
   "metadata": {
    "ExecuteTime": {
     "end_time": "2020-06-28T16:09:28.939382Z",
     "start_time": "2020-06-28T16:09:28.932499Z"
    }
   },
   "outputs": [],
   "source": [
    "from scipy.spatial import distance\n",
    "from scipy.linalg import norm\n",
    "from Vector_Similarity import *\n",
    "\n",
    "def TS_SS(vec1, vec2) :\n",
    "    return Triangle(vec1, vec2) * Sector(vec1, vec2)\n",
    "\n",
    "def Triangle(vec1, vec2) :\n",
    "    theta = math.radians(Theta(vec1,vec2))\n",
    "    return (norm(vec1) * norm(vec2) * math.sin(theta)) / 2\n",
    "\n",
    "def Theta(vec1, vec2) :\n",
    "    return math.acos(1 - distance.cosine(vec1, vec2)) + math.radians(10)\n",
    "\n",
    "def Magnitude_Difference(vec1, vec2) :\n",
    "    return abs(norm(vec1) - norm(vec2))\n",
    "\n",
    "def Sector(vec1, vec2) :\n",
    "    ED = distance.euclidean(vec1, vec2)\n",
    "    MD = Magnitude_Difference(vec1, vec2)\n",
    "    theta = Theta(vec1, vec2)\n",
    "    return math.pi * math.pow((ED+MD),2) * theta/360"
   ]
  },
  {
   "cell_type": "markdown",
   "metadata": {},
   "source": [
    "### cool pipelines with cool plots and coolest hiplots"
   ]
  },
  {
   "cell_type": "code",
   "execution_count": null,
   "metadata": {
    "ExecuteTime": {
     "end_time": "2020-06-28T14:10:06.530171Z",
     "start_time": "2020-06-28T14:09:50.349412Z"
    }
   },
   "outputs": [],
   "source": [
    "bert_embedding = TransformerDocumentEmbeddings('bert-base-uncased', fine_tune=False)\n",
    "roberta_embedding = TransformerDocumentEmbeddings('roberta-base', fine_tune=False)\n",
    "glove_embedding = DocumentPoolEmbeddings([WordEmbeddings('glove')])"
   ]
  },
  {
   "cell_type": "code",
   "execution_count": 256,
   "metadata": {
    "ExecuteTime": {
     "end_time": "2020-06-28T21:56:57.560469Z",
     "start_time": "2020-06-28T21:56:17.960024Z"
    },
    "scrolled": false
   },
   "outputs": [
    {
     "name": "stdout",
     "output_type": "stream",
     "text": [
      "['performance', 'to', 'controls', 'this', 'has', 'been', 'accompanied', 'by', 'altered', 'electrophysiology', 'or', 'increased', 'activation', 'of', 'brain', 'regions', 'indicating', 'that', 'users', 'may', 'require', 'increased', 'neural', 'effort', 'in', 'order', 'to', 'maintain', 'adequate', 'performance', 'levels', 'battisti', 'hester', 'tapert', 'deficits', 'have', 'been', 'identified', 'in', 'small', 'number', 'of', 'studies', 'that', 'used', 'tasks', 'specifically', 'designed', 'to', 'measure', 'risky', 'or', 'impulsive', 'decision', 'making', 'such', 'as', 'the', 'matching', 'familiar', 'figures', 'task', 'mfft', 'kagan', 'or', 'the', 'iowa', 'gambling', 'task', 'igt']\n"
     ]
    },
    {
     "name": "stderr",
     "output_type": "stream",
     "text": [
      "<ipython-input-255-e1aa35d2a579>:37: RuntimeWarning:\n",
      "\n",
      "invalid value encountered in double_scalars\n",
      "\n"
     ]
    }
   ],
   "source": [
    "from plot_text_sim import plot_text_sim \n",
    "from scipy.spatial import distance\n",
    "metrics = {\"cos\" : distance.cosine, \"ts_ss\" : TS_SS}\n",
    "\n",
    "# do it in a function to prevent memory leaks\n",
    "def calculate_similarities(links):\n",
    "    preprocessed_links = []\n",
    "    for link in links:\n",
    "        preprocessed_link = process_link(link, process_section_to_chunks)\n",
    "        preprocessed_links.append(preprocessed_link)\n",
    "    results = []\n",
    "    for link in preprocessed_links:\n",
    "        \n",
    "        glove_sim = calc_embedding_scores(link, metrics, embedding_name='glove', embedding = glove_embedding)\n",
    "        bert_sim = calc_embedding_scores(link, metrics, embedding_name='bert', embedding = bert_embedding)\n",
    "        roberta_sim = calc_embedding_scores(link, metrics, embedding_name='roberta', embedding = roberta_embedding)\n",
    "        bow_occurrence_sim = calc_bow_occurrence_score(link, name='bow_occurrence_sim')\n",
    "        bow_itf_sim = calc_bow_itf_score(link, name='bow_itf_sim')\n",
    "        \n",
    "        data = pd.merge(glove_sim, bert_sim, left_index = True, right_index = True)\n",
    "        \n",
    "        data = pd.merge(data, roberta_sim, left_index = True, right_index = True)\n",
    "        data = pd.merge(data, bow_occurrence_sim, left_index = True, right_index = True)\n",
    "        data = pd.merge(data, bow_itf_sim, left_index = True, right_index = True)\n",
    "        \n",
    "        results.append({\n",
    "            'citing_str': link['citing_str'],\n",
    "            'citing_context': link['citing_context'],\n",
    "            'data': data,\n",
    "        })\n",
    "    \n",
    "#     print(bow_itf_sim)\n",
    "#     print(glove_sim)\n",
    "#     print(set(bow_itf_sim.index).intersection(set(glove_sim.index)))\n",
    "#     print(bow_itf_sim.index[0])\n",
    "#     print(glove_sim.index[0])\n",
    "\n",
    "    return results\n",
    "\n",
    "\n",
    "start = 12\n",
    "span = 1\n",
    "results = calculate_similarities(train_links[start:start+span])\n"
   ]
  },
  {
   "cell_type": "code",
   "execution_count": 258,
   "metadata": {
    "ExecuteTime": {
     "end_time": "2020-06-28T21:57:38.501542Z",
     "start_time": "2020-06-28T21:57:38.358833Z"
    }
   },
   "outputs": [
    {
     "data": {
      "text/plain": [
       "'Tapert et al. 2007'"
      ]
     },
     "execution_count": 258,
     "metadata": {},
     "output_type": "execute_result"
    }
   ],
   "source": [
    "process_link(train_links[start], process_section_to_chunks)['citing_str'] "
   ]
  },
  {
   "cell_type": "code",
   "execution_count": null,
   "metadata": {
    "ExecuteTime": {
     "end_time": "2020-06-28T19:49:18.501895Z",
     "start_time": "2020-06-28T19:49:18.468571Z"
    },
    "scrolled": false
   },
   "outputs": [],
   "source": [
    "result_df = results[0]\n",
    "import hiplot as hip\n",
    "result_df = result_df['data'].assign(text_beginning = lambda df: df.index.str[:10])\n",
    "exp = hip.Experiment.from_dataframe(result_df)\n",
    "displayed_exp = exp.display()\n"
   ]
  },
  {
   "cell_type": "code",
   "execution_count": null,
   "metadata": {
    "ExecuteTime": {
     "end_time": "2020-06-28T19:49:01.450204Z",
     "start_time": "2020-06-28T19:49:01.337877Z"
    }
   },
   "outputs": [],
   "source": [
    "from IPython.display import clear_output\n",
    "\n",
    "selected = displayed_exp.get_selected()\n",
    "idx = np.array([int(data_point.uid) for data_point in selected])\n",
    "clear_output(wait=True)\n",
    "print(*list(zip(idx, df.iloc[idx, :].index.to_list())), sep='\\n')\n"
   ]
  },
  {
   "cell_type": "code",
   "execution_count": null,
   "metadata": {
    "ExecuteTime": {
     "end_time": "2020-06-28T20:59:47.975079Z",
     "start_time": "2020-06-28T20:59:47.952169Z"
    },
    "scrolled": false
   },
   "outputs": [],
   "source": [
    "result_df = results[0]\n",
    "result_df['citing_context']\n",
    "_ = plot_text_sim(result_df['data']['bow_itf_sim'], result_df['data'].index)"
   ]
  },
  {
   "cell_type": "code",
   "execution_count": 257,
   "metadata": {
    "ExecuteTime": {
     "end_time": "2020-06-28T21:56:57.871443Z",
     "start_time": "2020-06-28T21:56:57.562785Z"
    },
    "scrolled": false
   },
   "outputs": [
    {
     "data": {
      "text/plain": [
       "'performance to controls, this has been accompanied by altered electrophysiology or increased activation of brain regions, indicating that users may require increased neural effort in order to maintain adequate performance levels (Battisti et al. 2010; Hester et al. 2009; Tapert et al. 2007 ).Cannabis-related deficits have been identified in a small number of studies that used tasks specifically designed to measure risky or impulsive decision making, such as the Matching Familiar Figures Task (MFFT) (Kagan 1966) or the Iowa Gambling Task (IGT;'"
      ]
     },
     "execution_count": 257,
     "metadata": {},
     "output_type": "execute_result"
    },
    {
     "data": {
      "application/vnd.plotly.v1+json": {
       "config": {
        "plotlyServerURL": "https://plot.ly"
       },
       "data": [
        {
         "hovertext": [
          "Many individuals first experiment with alcohol and drugs<br>during adolescence ( SAMHSA 2003 ) , and marijuana is the<br>most commonly used illicit substance among teenagers (<br>Johnston et al . 2005 ) .",
          "Nearly half of 12th graders have tried marijuana , and 6 %<br>disclose daily use ( Johnston et al . 2005 ) .",
          "Adolescence is also a period of continued neurodevelopment ,<br>including frontal lobe myelination and synaptic pruning that<br>subserve improved executive functioning ( Gogtay et al .<br>2004 ; Sowell et al . 2002 ) , including abilities such as<br>decision making , inhibitory processing , and impulse<br>control .",
          "The influence of marijuana use on these maturational<br>processes is unknown , although executive dysfunction may<br>affect the development and maintenance of substance use and<br>problems during adolescence ( Tapert et al . 2002a ) .",
          "Adults with heavy marijuana use histories have demonstrated<br>abnormalities in executive functioning ( Fletcher et al .<br>1996 ; Pope and Yurgelun Todd 1996 ; Solowij et al . 2002 )<br>and indices of frontal lobe operation ( Block et al . 2000 ;<br>Kanayama et al . 2004 ; Lundqvist et al . 2001 ; Solowij et<br>al . 1991 Solowij et al . , 1995 Struve et al . 1998 ) .",
          "To determine if cognitive deficits in marijuana users are<br>transient or persistent , Pope et al . ( 2001 ) tested 63<br>current marijuana users ( > 5,000 lifetime uses ) , 45<br>former users ( > 5,000 lifetime uses ) , and 72 normal<br>controls ( 1-50 lifetime uses ) , all ages 30-55 .",
          "Participants were abstinent for 28 days , verified by urine<br>drug screens and given neuropsychological tests on days 0 ,<br>1 , 7 , and 28 of abstinence .",
          "Current users showed some deficits relative to controls on<br>days 0 , 1 , and 7 , but groups did not differ on any test<br>by day 28 .",
          "In contrast , a study ( Bolla et al . 2002 ) that<br>hospitalized 22 marijuana -using adults ( > 2 years of<br>marijuana use ) for 28 days to assure abstinence found<br>greater marijuana intake linked to poorer performance on<br>tests of inhibition , problem solving , learning , and<br>reaction time .",
          "Disinhibition , i.e . , the impaired ability to inhibit a<br>potentially inappropriate response , is a common feature of<br>substance misuse ( Chen et al . 2007 ; Kamarajan et al .<br>2006 ; Kirisci et al . 2006 ; Verdejo -Garcia et al . 2006 )<br>.",
          "Neuroimaging studies have reported both prefrontal and<br>posterior parietal cortical involvement during inhibitory<br>processing in healthy volunteers ( Liu et al . 2004 ) ,<br>which may be overactive in populations with impulse control<br>problems ( Schulz et al . 2004 ) .",
          "Few studies have examined inhibitory processing in marijuana<br>users .",
          "Functional magnetic resonance imaging ( f MRI )<br>characterized the neural correlates of inhibition during a<br>Stroop task , in which heavy marijuana -using adults and non<br>-users were asked to inhibit the automatic process of<br>reading words and , instead , name the colors of words<br>printed in incongruent ink ( Gruber and Yurgelun Todd 2005 )<br>.",
          "Marijuana users not only showed greater midcingulate and<br>reduced anterior cingulate blood oxygen level dependent (<br>BOLD ) response but also more widespread bilateral<br>dorsolateral prefrontal activation during inhibition<br>relative to color naming trials .",
          "The investigators speculated that the altered activation<br>pattern in marijuana users reflects compensation and use of<br>alternate strategies .",
          "The same investigators had shown in a previous f MRI study<br>using a working memory task before and after a 28 -day<br>abstinence period ( Yurgelun -Todd et al . 1998 ) that adult<br>users demonstrated less prefrontal and more anterior<br>cingulate response than controls after just 24 h of non -use<br>.",
          "Although users showed some normalization of prefrontal<br>functioning after 28 days of abstinence , they still showed<br>anterior cingulate dysfunction , which is supportive of<br>persisting neural processing abnormalities .",
          "These results support the hypothesis that adult marijuana<br>users show abnormal neural inhibitory processing ,<br>compensatory hyper -activity , and altered neural processing<br>differences in the absence of the intoxicating agent .",
          "Few studies have examined neurocognitive effects of<br>marijuana use among adolescents , but some reports<br>identified decrements in attention ( Tapert et al . 2002b )<br>, and learning and memory ( Millsaps et al . 1994 ; Schwartz<br>et al . 1989 ) associated with early marijuana use .",
          "We previously demonstrated increased dorsolateral prefrontal<br>and decreased inferior frontal f MRI response during a<br>spatial working memory task among teens with comorbid<br>alcohol and marijuana use disorders compared to those with<br>alcohol use disorders alone and to non -using controls ,<br>suggesting a marijuana use -related increase in dorsolateral<br>prefrontal effort ( Schweinsburg et al . 2005b ) .",
          "However , most studies of adolescent marijuana users were<br>conducted after several days of abstinence , so effects<br>could be transitory .",
          "Jacobsen et al . ( 2004 ) addressed this concern by<br>evaluating seven adolescent marijuana users , seven<br>demographically similar tobacco smokers , and seven non<br>-users with a working memory task during f MRI acquisition<br>after about a month of abstinence .",
          "Marijuana users were less accurate on the task and showed<br>increased BOLD response in the right hippocampus relative to<br>other groups .",
          "The authors suggested that marijuana users might have failed<br>to inhibit hippocampal activity during the task , perhaps<br>due to cannabis -induced changes in inhibitory<br>neurotransmission or apoptosis in the hippocampus .",
          "These researchers then compared 15 adolescents with and 18<br>without histories of cannabis use during nicotine withdrawal<br>.",
          "Cannabis users , but not non -users , showed nicotine<br>withdrawal -precipitated increases in parietal activation<br>and disruptions in frontoparietal connectivity during a<br>verbal working memory task",
          "( Jacobsen et al . 2007 ). Collectively , existing data<br>indicate some executive impairment and neural dysfunction<br>associated with adolescent marijuana use , although the<br>neural substrates specific to inhibitory processing have not<br>yet been examined in teenage marijuana users .",
          "In the current study , we performed BOLD f MRI during a<br>go/no -go task to characterize response inhibition among<br>adolescent marijuana users and non -using controls .",
          "Because studies of marijuana -using adults have suggested<br>improvements in cognitive and neural functioning after 28<br>days of abstinence ( Pope et al . 2001 ) , we required<br>participants to complete 28 days of monitored abstinence<br>before scanning to ensure that any group differences were<br>not due to recent use .",
          "The go/no -go task ( Anderson et al . 2005 ; Schweinsburg et<br>al . 2004b ) was designed to assess inhibitory processing by<br>asking participants to withhold a response to an<br>infrequently occurring stimulus .",
          "Previous studies have observed activation in dorsolateral<br>prefrontal , inferior frontal , anterior cingulate , and<br>posterior parietal regions among adolescents using this task<br>( Anderson et al . 2005 ; Schweinsburg et al . 2004a ) and<br>similar inhibition paradigms ( Adleman et al . 2002 ; Luna<br>et al . 2001 ; Tamm et al . 2002 ) .",
          "Participants were 16 -to 18 -year -olds enrolled in an<br>ongoing study of adolescents recruited from local high<br>schools and colleges ( Medina et al . 2007a , b ; Nagel et<br>al . 2006 ; Schweinsburg et al . 2005a ) .",
          "Sixteen adolescents were marijuana users ( MJ ) with at<br>least 60 lifetime episodes of cannabis use and limited<br>histories of other drug use , and 17 adolescents were<br>demographically similar non -using controls ( see Table 1<br>for demographic characteristics ) with less than five<br>lifetime episodes of cannabis use .",
          "Written assent and consent were obtained from adolescents<br>and their parent/legal guardians in accordance with the<br>University of California San Diego Human Research<br>Protections Program .",
          "Eligibility was ascertained through separate , private<br>telephone screening interviews with the youth and the parent<br>.",
          "Exclusionary criteria included left handedness ; history of<br>head injury with loss of consciousness > 2 min , learning<br>disabilities , medical or neurological problem , DSM -IV (<br>APA 1994 ) Axis I psychiatric disorder ( i.e . , mood ,<br>anxiety , psychotic , attention , and conduct disorders ) as<br>assessed by the computerized NIMH Diagnostic Interview<br>Schedule for Children Predictive Scales ( DISC -PS -4.32b ;<br>Lucas et al . 2001 ; Shaffer et al . 2000 ) Youth and Parent<br>versions , and use of any psychotropic medication ;<br>significant maternal drinking ( more that two drinks on an<br>occasion or more than four drinks in a week ) or other drug<br>use during pregnancy ; family history of bipolar I or<br>psychotic disorders determined by the Family History<br>Assessment Module ( Rice et al . 1995 ) ; and MRI<br>contraindications . MJ youth disclosed using marijuana an<br>average of ∼ 500 times in their lives",
          "( see Table 1 ), and three control youth had experience with<br>marijuana ( less than five times ) .",
          "MJ youth used marijuana every other day on average , before<br>being asked to remain abstinent for the 28 days before<br>scanning .",
          "Most MJ youth were current users , as all but three used in<br>the month before monitored abstinence .",
          "Substance use assessment Substance involvement was<br>ascertained using the Customary Drinking and Drug Use Record<br>( Brown et al . 1998 ) , an interview that obtains<br>information on lifetime and past 3 -month use of marijuana ,<br>alcohol , nicotine , other illicit drugs , and misuse of<br>prescription and over -the -counter medications , and<br>negative consequences associated with substance use .",
          "Strong internal consistency , test -retest , and inter<br>-rater reliability have been demonstrated with adolescents (<br>Brown et al . 1998 ; Stewart and Brown 1995 ) .",
          "The Fagerstrom Test for Nicotine Dependence ( FTND ;<br>Heatherton et al . 1991 ) indicated that no participant was<br>dependent on nicotine .",
          "The Timeline Followback ( Sobell and Sobell 1992 ) collected<br>details on substance use patterns for the month before and<br>during the 28 -day abstinence period .",
          "Continuous indices of level of internalizing and<br>externalizing psychopathological syndromes were assessed by<br>the 113 -item Child Behavior Checklist ( CBCL ; Achenbach<br>and Rescorla 2001 ) , administered to parents ( typically<br>biological mothers ) covering youth behaviors in the past 6<br>months .",
          "Eight -factor T scores ( rulebreaking behavior , aggressive<br>behavior , withdrawn/depressed , anxious/depressed , somatic<br>complaints , attention problems , social problems , and<br>thought problems ) and summary T scores ( externalizing ,<br>internalizing ) are provided .",
          "Personality Disinhibition and substance use may relate to<br>personality traits .",
          "Thus , all participants completed the NEO Five -Factor<br>Inventory ( NEO -FFI ; Costa and Mc Crae 1992 ) , a 60 -item<br>self -report personality questionnaire that assesses five<br>domains of personality : neuroticism , extraversion ,<br>openness , agreeableness , and conscientiousness .",
          "This factor structure has been replicated in adolescent<br>samples ( Fruyt et al . 2000 ) .",
          "Go/no -go task Participants performed a go/no -go task<br>during f MRI scanning ( Anderson et al . 2005 ; Schweinsburg<br>et al . 2004b ) .",
          "The task alternated between active blocks and resting blocks<br>.",
          "During resting blocks , participants viewed a \"+\" in the<br>center of the screen .",
          "During active blocks , a large square , small square , large<br>circle , and small circle were presented one at a time for<br>200 ms every 1,500 ms . Participants were instructed to<br>press a button as fast as possible every time they saw a<br>shape ( go stimuli ) except for the small square ( no -go<br>stimulus ) , thus requiring response inhibition .",
          "The task lasted 6 min and 24 s .",
          "Participants additionally performed the entire task before<br>scanning to ensure adequate comprehension of instructions<br>and to resolve potential practice effects",
          "To confirm that participants did not use substances in the 4<br>weeks before scanning , all participants ( controls and<br>marijuana users ) provided at least nine urine toxicology<br>screens ( two to three times per week ) during these 28 days<br>.",
          "Urine toxicology procedures can reliably detect evidence of<br>marijuana use 4 to 25 days after last use ( Fraser et al .<br>2002 ; Huestis and Cone 1998 ) , sometimes longer ( Lafolie<br>et al . 1991 ) , depending on pattern of use , body lipid<br>content , and metabolic features .",
          "Each urine sample was evaluated for metabolites indicating<br>recent use of cannabis , amphetamines , methamphetamines ,<br>barbiturates , benzodiazepines , cocaine , codeine ,<br>morphine , phencyclidine , and ethanol using cloned enzyme<br>donor immunoassay ( CEDIA DAU , Microgenics , Fremont , CA ,<br>USA ) .",
          "Observed urine sample collection procedures reduced the<br>possibility of participant tampering .",
          "Tetrahydrocannabinol ( THC ) values were monitored over the<br>28 -day period to ensure that levels decreased .",
          "Initial samples testing positive for THC metabolites were<br>assumed to reflect residual use if values decreased with<br>each subsequent sample collected .",
          "If levels increased or a positive screen was obtained after<br>a negative screen , the participant was given the option to<br>restart the 28 -day screening process or be dropped from the<br>study .",
          "Breathalyzers ( Alco Sensor IV , Intoximeter , St . Louis ,<br>MO , USA ) were conducted at each visit .",
          "To confirm urine results , a hair sample collected on the<br>scan day was analyzed for THC and other drug metabolites<br>suggestive of past month use ( Psychemedics , Culver City ,<br>CA , USA ) .",
          "Seven users , not described in this paper , were unable to<br>complete the 28 -day abstinence protocol .",
          "In preparation for scanning , each participant lay on the<br>scanner bed .",
          "Foam pads were arranged around the head to minimize motion .",
          "A mirror above the participant 's eyes enabled viewing of a<br>screen at the foot of the scanner bed , on which the task<br>was rear -projected from a laptop .",
          "Behavioral responses during the task were collected through<br>a fiber -optic button box ( Lumi Touch , Vancouver , BC ,<br>Canada ) .",
          "Imaging data were acquired on a 1.5 Tesla Signa LX ( General<br>Electric , Madison , WI , USA ) system .",
          "A structural image was collected in the sagittal plane using<br>an inversion recovery prepared T1 -weighted 3D spiral fast<br>spin echo sequence ( repetition time 2,000 ms , echo time 16<br>ms , field of view 240 mm , 128 continuous slices ,<br>resolution 0.9375×0.9375 × 1.328 mm , acquisition time 8:36<br>; Wong et al . 2000 ) .",
          "Data were processed and analyzed using Analysis of<br>Functional Neuro Images ( AFNI ; http://www.afni.nimh.nih .<br>gov ; Cox 1996 ) .",
          "First , an automated motion correction algorithm was applied<br>to the time series datasets ( Cox and Jesmanowicz 1999 ) .",
          "Two raters examined the time series data and removed<br>repetitions containing residual visible head motions .",
          "If > 18 % of repetitions were removed , the participant was<br>not included ( n=3 not described in this paper ) .",
          "Groups did not differ in the number of repetitions removed (<br>p=0.87 ) or absolute mean rotational or translational<br>adjustments applied .",
          "Average rotational ( roll , pitch , and yaw ) and<br>translational ( superior , left , and posterior ) movement ,<br>respectively , was 0.04 , 0.11 , and 0.05°and 0.07 , 0.04 ,<br>and 0.04 mm for MJ users , and 0.06 , 0.12 , 0.06°and 0.10 ,<br>0.04 , and 0.06 mm for controls .",
          "No significant differences between groups were found for<br>task -correlated motion",
          "( rs for the correlation between the task reference function<br>and each motion parameter were − 0.08 , − 0.10 , − 0.02 , −<br>0.11 , − 0.07 , and − 0.07 for MJ users and − 0.04 , − 0.06<br>, − 0.04 , − 0.10 , − 0.08 , and − 0.06 for controls ) .Next<br>, time series datasets were deconvolved with a reference<br>function representing the timing of go , no -go , and rest<br>stimuli presentation over the course of the task ( Ward 2002<br>) while accounting for hemodynamic delays ( Bandettini et al<br>. 1993 ; Boynton et al . 1996 ) and covarying for motion<br>adjustments applied and linear trends .",
          "This yielded fit coefficients representing the BOLD response<br>for ( 1 ) inhibition ( no -go ) trials relative to baseline<br>and ( 2 ) go trials relative to baseline in each voxel of<br>the brain for each subject .",
          "Data were transformed to standard space ( Lancaster et al .<br>2000 ; Talairach and Tournoux 1988 ) , resampled into<br>isotropic 3.5 -mm voxels , and spatially smoothed with a<br>Gaussian filter ( 3.5 mm full width half maximum ) to<br>account for anatomic variability between subjects .",
          "We determined regions of significant BOLD response<br>differences between MJ and control adolescents using<br>independent samples t tests in each voxel of the brain ,<br>performed separately on the BOLD response contrast for no<br>-go and for go trials .",
          "To control for type I error , we used a combination of t<br>statistic magnitude and cluster volume thresholding ( Forman<br>et al . 1995 ; Ward 1997 ) by only interpreting clusters<br>comprised of at least 22 contiguously activated voxels at<br>a<.05 ( ≥ 943 μl in volume ) .",
          "Anatomic localization was confirmed using the Talairach<br>Daemon ( Lancaster et al . 2000 ; Ward 1997 ) and AFNI (<br>Ward 1997 ) .",
          "Normality of distribution was evaluated for key variables (<br>Tabachnick and Fidell 2007 ) .",
          "No outliers or non -normal distributions were found for BOLD<br>response contrast in clusters showing group differences .",
          "However , five variables ( marijuana hits per month ,<br>lifetime other drug use , cigarettes smoked per month , FTND<br>total , and BDI total ) were positively skewed and kurtotic<br>, so were inverse transformed [ i.e . , 1/ ( 1 + the skewed<br>variable ) ; Tabachnick and Fidell 2007 ] .",
          "Group comparison results were further examined in analyses<br>of covariance ( ANCOVAs ) that controlled for potential<br>confound variables that differed between groups .",
          "Follow -up regression analyses were conducted among the MJ<br>users ( n=16 ) to examine BOLD response contrast to no -go<br>trials , averaged across the cluster , in the regions that<br>continued to differentiate users from controls in the above<br>ANCOVAs .",
          "BOLD response contrast to no -go trials was the dependent<br>variable , and variables indexing marijuana use , other<br>substance use , and risk factors for substance involvement<br>were the predictors .",
          "Groups did not differ significantly on mood state measures",
          "( see Table 1 ), but MJ users showed a trend for higher BDI<br>scores ( p=0.08 ) .",
          "Groups were similar and in the normal range on all CBCL<br>factor T scores , except that the MJ group was higher on<br>Rule -Breaking Behavior ( 53.00±8.23 MJ , 45.21±5.19<br>controls , p<0.005 ) .",
          "On the NEO -FFI , MJ youth demonstrated greater scores on<br>Openness ( 44.25 ± 3.11 MJ , 41.18±4.88 controls , p<0.05 )<br>but were statistically equivalent on other personality<br>scores .",
          "MJ youth committed more errors than controls on several<br>cognitive tests : more sequencing errors across all DKEFS<br>Trails conditions ( p<0.01 ) , more intrusion errors on a<br>word list learning task ( p<0.05 ) , and more repetition<br>errors on DKEFS Verbal Fluency ( p<0.05 ) .Task performance<br>data were available for 15 MJ and 15 control adolescents .",
          "No group differences or group by condition interactions were<br>found .",
          "As expected , participants responded more accurately (<br>p<.001 ) to go trials ( 98.97 ± 1.88 % MJ , 98.70±1.62 %<br>controls ) than no -go trials ( 82.92 ± 9.57 % MJ ,<br>81.64±10.73 % controls ) .",
          "Groups were equivalent on reaction time to go trials (<br>588.11±40.44 MJ , 606.13 ± 74.35 controls , p=.38 ) .",
          "D ′ , a signal detection index that considers the<br>probability of correct and incorrect responses ( i.e . , the<br>ability to separate go stimuli from the no -go stimulus ) ,<br>was also similar between groups ( 3.30±0.49 MJ , 3.04±0.84<br>controls , p=0.54 ) .",
          "Exit interview data showed that groups were equivalent on<br>task effort , motivation , and perceived errors , but MJ<br>users indicated use of more perceptual strategies ( e.g . ,<br>\" look for the small square to show up \" ) , while controls<br>tended to endorse cognitive strategies ( \" remember to hold<br>off when I see that shape \" or \" concentrate\" ) .f MRI<br>response Whole brain analyses showed that during inhibitory<br>trials relative to baseline , control adolescents showed<br>significantly increased activation in superior medial<br>frontal cortex and the left parahippocampal gyrus , and<br>decreased activation in bilateral posterior parietal and<br>inferior frontal regions .",
          "MJ users also showed increased inhibition -related<br>activation in superior frontal areas , as well as in<br>additional regions compared to controls , including numerous<br>left and medial prefrontal clusters , left posterior<br>parietal cortex , and multiple bilateral cerebellar regions<br>.",
          "MJ users showed decreased BOLD response during no -go trials<br>relative to baseline in right posterior parietal , inferior<br>frontal , and middle temporal cortices .",
          "Between -group comparisons revealed several clusters in<br>which MJ users showed significantly more BOLD response<br>during inhibition trials than controls : right anterior<br>superior and middle frontal gyri ( BA 10 , 46 ) , right<br>superior middle frontal gyrus extending down to the anterior<br>insula ( BA 6 , 13 ) , left anterior middle and superior<br>frontal gyri ( BA 10 ) , medial prefrontal cortex ( BA 6 ) ,<br>right and left posterior parietal cortex ( BA 7 , 40 ) , and<br>right lingual gyrus",
          "( BA 18 ; see Table 2 and Fig . 1 ). There were no clusters<br>in which MJ users showed significantly less inhibitory brain<br>response than controls .",
          "For go trials relative to baseline , controls showed<br>significant BOLD response in the bilateral ventral<br>prefrontal cortex , bilateral medial posterior parietal<br>cortex and cuneus , anterior cingulate , precentral gyrus ,<br>right anterior insula , and medial cerebellum .",
          "MJ users had multiple clusters of significant response to go<br>trials relative to baseline , including increased activation<br>in substantial portions of bilateral ventral prefrontal<br>cortex , bilateral medial superior frontal cortex , right<br>posterior parietal cortex , bilateral temporal cortex ,<br>anterior cingulate , precentral gyrus , left insula , and<br>bilateral cerebellum .",
          "Between -group comparisons indicated that MJ users had<br>significantly more BOLD response during go trials relative<br>to baseline than did controls in the right inferior frontal<br>gyrus and anterior insula ( BA 44 , 13 ) , right superior<br>frontal gyrus ( BA 9 , 10 ) , right superior parietal lobule<br>( BA 7 ) , right inferior parietal lobule ( BA 40 ) , and<br>medial precuneus",
          "( BA 7 ; see Table 3 ). There were no clusters in which MJ<br>users had significantly less go response than controls .",
          "To determine whether the group differences reported above<br>were due to differences in other substance use or factors<br>that could predate marijuana use , secondary analyses using<br>ANCOVAs separately ( due to limited power ) controlled for<br>lifetime alcohol consumption , days since last drink ,<br>drinks per month , years of regular drinking , time since<br>last cigarette , past week cigarettes per smoking day ,<br>cigarettes per month , FTND total , number of lifetime other<br>drug use episodes , family history of substance use<br>disorders , family history of psychiatric disorders , each<br>NEO -FFI score , and BDI total .",
          "For all analyses , groups continued to differ on BOLD<br>response in all clusters ( p range , 0.001 to 0.0001 ) .To<br>determine whether differences between groups were due to<br>duration and intensity of exposure to THC or related to the<br>recency of marijuana use , we conducted a series of<br>exploratory regression analyses among MJ users ( n=16 ) .",
          "Duration of regular marijuana use was negatively related to<br>no -go brain response in the right anterior superior frontal<br>gyrus ( BA 10 ; β=−0.73 , p<0.001 ; plotted in Fig . 2 ) ,<br>right superior middle frontal gyrus ( BA 6 ; β=−0.58 ,<br>p<0.025 ) , and left anterior superior frontal gyrus ( BA 10<br>; β=−0.58 , p < 0.025 ) , suggesting that youth with longer<br>durations of marijuana involvement had less no -go brain<br>response .",
          "Similarly , early age of onset of regular marijuana use ( β<br>= 0.66 , p<0.01 ) and more lifetime marijuana use episodes (<br>β=−.62 , p<0.025 ) related to less inhibitory response in<br>the right anterior superior frontal gyrus ( BA 10 ) .",
          "Typical number of marijuana hits per month also was<br>negatively related to brain response in the right anterior<br>superior frontal gyrus ( BA 10 ; β=−0.73 , p<.005 ) , right<br>superior middle frontal gyrus ( BA 6 ; β=−0.71 , p<0.005 ) ,<br>left anterior superior frontal gyrus ( BA 10 ; β=−0.68 ,<br>p<0.01 ) , and left posterior parietal cortex ( BA 40 ;<br>β=−0.62 , p < 0.025 ) .",
          "Days since last marijuana use ( range , 28 to 240 ) , age ,<br>and neuropsychological test performance were not associated<br>with brain response in any region demonstrating a group<br>difference .",
          "Number of lifetime other drug use episodes ( primarily pain<br>medications ) was positively associated with BOLD response<br>contrast to no -go trials in the right anterior superior<br>frontal gyrus ( BA 10 ; β=0.57 , p < 0.025 ) and right<br>middle frontal gyrus ( BA 6 , β=0.56 , p < 0.025 ) .",
          "In this study , marijuana -using adolescents showed<br>increased BOLD response during both inhibitory and non<br>-inhibitory trials of a go/no -go task , even after a 28<br>-day washout period of abstinence from cannabis , as<br>compared to control adolescents with limited substance use<br>histories .",
          "Differences were prominent in dorsolateral prefrontal and<br>parietal areas .",
          "Our findings with adolescent marijuana users extend those of<br>others ( Gruber and Yurgelun -Todd 2005 ) , who Fig . 1<br>Inhibition trial differences in BOLD response contrast<br>between marijuana -using ( n=16 ) and non -using ( n=17 )<br>adolescents after 28 days of monitored abstinence .",
          "Blue areas show where users had more significantly BOLD<br>response during inhibition ( no -go ) trials relative to<br>baseline than non -users ( p<0.05 , clusters > 943 μl ) ; no<br>clusters in which users showed significantly less activation<br>than controls were found ( see Table 2 ) showed that adult<br>marijuana users exhibited increased prefrontal response<br>during inhibition tasks .",
          "The present results thus suggest that the effects of<br>cannabis use on brain function in adolescents may persist<br>after a period of abstinence .",
          "A pattern of increased activation yet comparable performance<br>is consistent with functional compensation and<br>dedifferentiation ( Rajah and D 'Esposito 2005 ) , which<br>supposes that loci of functional activity are spread to more<br>and larger regions .",
          "Therefore , adolescent marijuana users appear to recruit<br>more neural tissue in executive control areas to adequately<br>perform the task , which is consistent with other studies<br>showing increased dorsolateral prefrontal activation in MJ<br>users during inhibition ( Gruber and Yurgelun -Todd 2005 )<br>and other ( Schweinsburg et al . 2005b ) cognitive tasks .",
          "Repeated cannabinoid use may alter neuromaturation in<br>regions with high CB1 densities , such as prefrontal cortex<br>( Eggan and Lewis 2007 ) .",
          "Synaptic pruning and gray matter sculpting occurs late in<br>some of the regions showing increased BOLD signal among<br>users , such as bilateral dorsolateral prefrontal cortex ,<br>where cortical thickness peaks at age 11.5 on average (<br>Gogtay et al . 2004 ; Sowell et al . 2003 ) .",
          "If prefrontal synaptic pruning is slowed by adolescent<br>marijuana use , greater activation may reflect excess neural<br>firing caused by a larger number of synaptic links .",
          "In their study of heavy marijuana -using adults , Gruber and<br>Yurgelun -Todd ( 2005 ) reported that heavy users had<br>increased prefrontal response to an inhibition task , as<br>seen in this study of adolescents , but also showed reduced<br>anterior cingulate response , which we did not observe in<br>this study .",
          "One possible explanation for this difference is the duration<br>of marijuana use in our cohort .",
          "It may take a longer period of use to evidence such changes<br>in cingulate responding .",
          "The increased parietal activation among marijuana -using<br>adolescents is consistent with findings from Jacobsen et al<br>. ( 2007 ) of heightened parietal response in marijuana<br>-involved youth during a verbal working memory task while<br>undergoing nicotine withdrawal , although here , nicotine<br>use rates were relatively low .",
          "As right dorsolateral prefrontal and parietal regions have<br>been implicated in sustained attention ( Drummond et al .<br>2005 ) , perhaps , users had a greater cognitive load<br>associated with attending to the stimuli in general and in<br>identifying the no -go stimulus in particular .",
          "Both go and no -go trials require sustained attention , and<br>overlap was observed for the right prefrontal/insular and<br>parietal regions where users showed greater BOLD response<br>than controls for both conditions .",
          "Adolescents with later onsets ( age , 16-18 ) and briefer<br>durations ( 1-2 years ) of regular marijuana use showed the<br>greatest divergence from normal controls in BOLD response to<br>the inhibition trials .",
          "Similarly , Chang et al . ( 2006 ) reported that adults who<br>started marijuana use in late adolescence had more frontal<br>activation during a visual attention task than adults who<br>started in early adolescence .",
          "Although our data do not address the molecular mechanism of<br>this difference , we can speculate about the nature of this<br>finding .",
          "For example , increased prefrontal activation during an<br>inhibitory task in adolescent users with a more recent onset<br>may reflect a stage of neural and behavioral compensation .",
          "This compensatory response may occur within the first few<br>years of regular adolescent marijuana use and may later be<br>followed by neuroadaptation or other processes , possibly<br>related to downregulation of cannabinoid ( CB1 ) receptors .",
          "Therefore , an inverted U -shaped response pattern may<br>emerge over time , which eventually results in brain<br>activation patterns that are indistinguishable from non<br>-users ( suggested in Fig . 2 ) . BOLD response is<br>influenced by cerebral blood flow , often abnormal in<br>marijuana users acutely and subacutely .",
          "Up to 36 h since last use , THC intake is associated with<br>increased cerebral blood flow ( Mathew et al . 2002 ) and<br>volume ( Sneider et al . 2006 ) in frontal , insular ,<br>anterior cingulate , cerebellum , temporal , and paralimbic<br>regions ; reductions in auditory and visual cortex ,<br>parietal lobe , and thalamus ; and no change in nucleus<br>accumbens , basal ganglia , or the hippocampus ( O 'Leary et<br>al . 2002 ) .",
          "Although increases in blood flow velocity and<br>cerebrovascular resistance dissipate from 3 to 28 days of<br>abstinence in adults with marijuana use levels consistent<br>with this sample ( i.e . , 15.9 days per month ) , very<br>heavy users remained abnormally elevated ( Herning et al .<br>2005 ) .",
          "Thus , increased BOLD response in adolescent marijuana users<br>could reflect residual cerebrovasculature abnormalities ,<br>although increased blood flow or volume would likely yield<br>lower BOLD response ( Brown et al . 2003 ) , not greater ,<br>as seen here .",
          "This study had several limitations .",
          "While groups were equivalent on many demographic variables ,<br>intelligence , Fig . 2 Marijuana using adolescents ( n=16 )<br>show more BOLD response ( y -axis displays fit coefficients<br>) during inhibition trials relative to baseline than control<br>adolescents ( n=17 ) in right dorsolateral prefrontal cortex<br>, largely accounted for by users with 1 to 3 years of<br>regular ( weekly ) marijuana use and task performance ,<br>marijuana users had greater alcohol and other substance<br>histories and a trend for more depressed symptomatology .",
          "Although activation patterns remained after controlling for<br>these factors , substance and affective differences pose the<br>possibility of synergistic effects , and we have previously<br>found adolescent heavy drinking to be related to abnormal<br>activation patterns on a spatial working memory task",
          "( Caldwell et al . 2005 ;",
          "Schweinsburg et al .",
          "2005b ;",
          "Tapert et al . 2001 Tapert et al . , 2004 .",
          "Reduced educational engagement or altered sleep quality<br>related to marijuana use might account for the differences .",
          "Critically , the current data cannot ascertain if marijuana<br>use during adolescence produces the observed differences or<br>if abnormalities existed before the onset of regular use .",
          "Groups did not differ on proportion with a family history of<br>substance use disorder , and youths with psychiatric<br>diagnosis ( e.g . , conduct disorder , attention<br>-deficit/hyperactivity disorder ) were excluded from the<br>study .",
          "Groups were similar with regard to most personality and<br>psychopathological syndrome dimensions but did differ on<br>openness to new experiences and parent report of delinquent<br>behaviors , which also may predate or result from adolescent<br>marijuana use , but did not account for group differences in<br>brain response .",
          "On the other hand , the adolescents who diverged most from<br>normal controls may simply differ on unmeasured risk factors<br>related to the initiation and escalation of substance use .",
          "Altered inhibitory processing may make adolescents<br>vulnerable to substance use initiation and escalation .",
          "The indication of extra neural effort required to inhibit<br>responses has important implications for adolescent<br>development and future substance involvement .",
          "Demands for inhibitory control increases substantially over<br>the course of late adolescence , particularly in school and<br>work environments as well as social and intimate<br>relationships .",
          "Consequently , youth required to exert extra neurocognitive<br>effort may be disadvantaged or become less successful in<br>maneuvering the normal transitions of adolescence and young<br>adulthood .",
          "Additionally , it may be harder for these youth to inhibit<br>the use of substances , particularly in situations where<br>cognitive demands are strained due to conflicting goals ,<br>distractions , peers , substance -relevant cues , or low<br>mood states ."
         ],
         "type": "bar",
         "x": [
          0,
          1,
          2,
          3,
          4,
          5,
          6,
          7,
          8,
          9,
          10,
          11,
          12,
          13,
          14,
          15,
          16,
          17,
          18,
          19,
          20,
          21,
          22,
          23,
          24,
          25,
          26,
          27,
          28,
          29,
          30,
          31,
          32,
          33,
          34,
          35,
          36,
          37,
          38,
          39,
          40,
          41,
          42,
          43,
          44,
          45,
          46,
          47,
          48,
          49,
          50,
          51,
          52,
          53,
          54,
          55,
          56,
          57,
          58,
          59,
          60,
          61,
          62,
          63,
          64,
          65,
          66,
          67,
          68,
          69,
          70,
          71,
          72,
          73,
          74,
          75,
          76,
          77,
          78,
          79,
          80,
          81,
          82,
          83,
          84,
          85,
          86,
          87,
          88,
          89,
          90,
          91,
          92,
          93,
          94,
          95,
          96,
          97,
          98,
          99,
          100,
          101,
          102,
          103,
          104,
          105,
          106,
          107,
          108,
          109,
          110,
          111,
          112,
          113,
          114,
          115,
          116,
          117,
          118,
          119,
          120,
          121,
          122,
          123,
          124,
          125,
          126,
          127,
          128,
          129,
          130,
          131,
          132,
          133,
          134,
          135,
          136,
          137,
          138,
          139,
          140,
          141,
          142,
          143,
          144,
          145,
          146,
          147,
          148,
          149,
          150,
          151,
          152,
          153,
          154,
          155
         ],
         "y": [
          0.7155648872646532,
          0.6326604499841794,
          0.8140491491248727,
          0.8201035088735731,
          0.5415290868255416,
          0.6930447709428301,
          0.5661776037612356,
          0.7263862223937875,
          0.8067645962269735,
          0.712257809270673,
          0.7216693438656092,
          0.37737854406384935,
          0.7670420531963416,
          0.59640116906869,
          0.629684584311929,
          0.7625927651528339,
          0.5319295341091532,
          0.616008587898156,
          0.7530777816079872,
          0.7232727671850453,
          0.6453563005514831,
          0.7276994390261332,
          0.7099185952084868,
          0.6500181488253418,
          0.6012775299283645,
          0.5801628239077535,
          0.8032362596094323,
          0.7288917874546954,
          0.8075908517358193,
          0.7747836176523666,
          0.5628336368327143,
          0.5657449721321828,
          0.690294957110486,
          0.5679456143719764,
          0.5366651664589935,
          0.7832278079119298,
          0.6360384465559559,
          0.5380683281942694,
          0.6496319447350639,
          0.685554238660573,
          0.6379196339055101,
          0.6803782299626644,
          0.6348888021977397,
          0.7371759111409567,
          0.6270524422646659,
          0.3143065940520806,
          0.625722742520683,
          0.7316149221828867,
          0.5192923975465512,
          0.3414852506536781,
          0.5424028974051376,
          0.6852684838678959,
          0.3459623929064421,
          0.5105530355784234,
          0.6979383195544222,
          0.8416773661059752,
          0.4418325864537661,
          0.32584357948032394,
          0.6465615792996469,
          0.4756762055983044,
          0.6740841259987066,
          0.47004692231120837,
          0.692442669230186,
          0.6947283090167953,
          0.46611319234467663,
          0.3546809700793046,
          0.507139558572559,
          0.6339518351953956,
          0.4615327590691068,
          0.6349336635138986,
          0.541387195074512,
          0.6479889834381594,
          0.4765131390623641,
          0.6527038988151207,
          0.5740102305261385,
          0.2434036071540279,
          0.591649816120978,
          0.6617183522070471,
          0.7379325172854264,
          0.63621369857421,
          0.7579052616535115,
          0.7590441409445905,
          0.5308101857627061,
          0.6490126718543475,
          0.6299798682533564,
          0.6726850726335751,
          0.66623804659712,
          0.7814902056989265,
          0.7167148815068131,
          0.4568841069163312,
          0.4548168391444585,
          0.6887687736452612,
          0.5356423040056898,
          0.6259432909797693,
          0.5378898128043503,
          0.3975912692421337,
          0.647098650888627,
          0.6950719665246494,
          0.7936844656625626,
          0.5453334924915548,
          0.4935862962911954,
          0.4857454809072628,
          0.7162792601594212,
          0.19420144761690053,
          0.250677331305808,
          0.5595018002800273,
          0.7063764690252065,
          0.7329211456207771,
          0.8127703526049873,
          0.5454608573789083,
          0.5212084772444956,
          0.2886888264822158,
          0.7991216546984278,
          0.5278294200833958,
          0.7142871941756218,
          0.1910679175449226,
          0.7018770689338957,
          0.750188442008771,
          0.7097115716471201,
          0.8243668211838708,
          0.8593623513354609,
          0.6606788066941783,
          0.736192353178312,
          0.49868698912179776,
          0.8140372007770873,
          0.6156469862613283,
          0.7309248780963651,
          0.7693847536692878,
          0.7986511245204133,
          0.6999204499334093,
          0.7523299079269238,
          0.7155072520791718,
          0.6163375914449626,
          0.672298226729093,
          0.766120016541851,
          0.7979612433686547,
          0.6437815116879392,
          0.760972258447266,
          0.8192888913521974,
          0.5624969068637562,
          0.8126164425671023,
          0.651194675053897,
          0.2497866117770071,
          0.07402955459807861,
          0.10395323881268831,
          0.17805414899281674,
          0.6106842403640098,
          0.646858565209331,
          0.6938734520663687,
          0.7570193793710679,
          0.716852062930065,
          0.4532416406889677,
          0.5546442954973642,
          0.6662042900832832,
          0.5887321998830377,
          0.7166389961998153
         ]
        }
       ],
       "layout": {
        "hoverlabel": {
         "bgcolor": "white",
         "font": {
          "family": "Rockwell",
          "size": 13
         }
        },
        "template": {
         "data": {
          "bar": [
           {
            "error_x": {
             "color": "#2a3f5f"
            },
            "error_y": {
             "color": "#2a3f5f"
            },
            "marker": {
             "line": {
              "color": "#E5ECF6",
              "width": 0.5
             }
            },
            "type": "bar"
           }
          ],
          "barpolar": [
           {
            "marker": {
             "line": {
              "color": "#E5ECF6",
              "width": 0.5
             }
            },
            "type": "barpolar"
           }
          ],
          "carpet": [
           {
            "aaxis": {
             "endlinecolor": "#2a3f5f",
             "gridcolor": "white",
             "linecolor": "white",
             "minorgridcolor": "white",
             "startlinecolor": "#2a3f5f"
            },
            "baxis": {
             "endlinecolor": "#2a3f5f",
             "gridcolor": "white",
             "linecolor": "white",
             "minorgridcolor": "white",
             "startlinecolor": "#2a3f5f"
            },
            "type": "carpet"
           }
          ],
          "choropleth": [
           {
            "colorbar": {
             "outlinewidth": 0,
             "ticks": ""
            },
            "type": "choropleth"
           }
          ],
          "contour": [
           {
            "colorbar": {
             "outlinewidth": 0,
             "ticks": ""
            },
            "colorscale": [
             [
              0,
              "#0d0887"
             ],
             [
              0.1111111111111111,
              "#46039f"
             ],
             [
              0.2222222222222222,
              "#7201a8"
             ],
             [
              0.3333333333333333,
              "#9c179e"
             ],
             [
              0.4444444444444444,
              "#bd3786"
             ],
             [
              0.5555555555555556,
              "#d8576b"
             ],
             [
              0.6666666666666666,
              "#ed7953"
             ],
             [
              0.7777777777777778,
              "#fb9f3a"
             ],
             [
              0.8888888888888888,
              "#fdca26"
             ],
             [
              1,
              "#f0f921"
             ]
            ],
            "type": "contour"
           }
          ],
          "contourcarpet": [
           {
            "colorbar": {
             "outlinewidth": 0,
             "ticks": ""
            },
            "type": "contourcarpet"
           }
          ],
          "heatmap": [
           {
            "colorbar": {
             "outlinewidth": 0,
             "ticks": ""
            },
            "colorscale": [
             [
              0,
              "#0d0887"
             ],
             [
              0.1111111111111111,
              "#46039f"
             ],
             [
              0.2222222222222222,
              "#7201a8"
             ],
             [
              0.3333333333333333,
              "#9c179e"
             ],
             [
              0.4444444444444444,
              "#bd3786"
             ],
             [
              0.5555555555555556,
              "#d8576b"
             ],
             [
              0.6666666666666666,
              "#ed7953"
             ],
             [
              0.7777777777777778,
              "#fb9f3a"
             ],
             [
              0.8888888888888888,
              "#fdca26"
             ],
             [
              1,
              "#f0f921"
             ]
            ],
            "type": "heatmap"
           }
          ],
          "heatmapgl": [
           {
            "colorbar": {
             "outlinewidth": 0,
             "ticks": ""
            },
            "colorscale": [
             [
              0,
              "#0d0887"
             ],
             [
              0.1111111111111111,
              "#46039f"
             ],
             [
              0.2222222222222222,
              "#7201a8"
             ],
             [
              0.3333333333333333,
              "#9c179e"
             ],
             [
              0.4444444444444444,
              "#bd3786"
             ],
             [
              0.5555555555555556,
              "#d8576b"
             ],
             [
              0.6666666666666666,
              "#ed7953"
             ],
             [
              0.7777777777777778,
              "#fb9f3a"
             ],
             [
              0.8888888888888888,
              "#fdca26"
             ],
             [
              1,
              "#f0f921"
             ]
            ],
            "type": "heatmapgl"
           }
          ],
          "histogram": [
           {
            "marker": {
             "colorbar": {
              "outlinewidth": 0,
              "ticks": ""
             }
            },
            "type": "histogram"
           }
          ],
          "histogram2d": [
           {
            "colorbar": {
             "outlinewidth": 0,
             "ticks": ""
            },
            "colorscale": [
             [
              0,
              "#0d0887"
             ],
             [
              0.1111111111111111,
              "#46039f"
             ],
             [
              0.2222222222222222,
              "#7201a8"
             ],
             [
              0.3333333333333333,
              "#9c179e"
             ],
             [
              0.4444444444444444,
              "#bd3786"
             ],
             [
              0.5555555555555556,
              "#d8576b"
             ],
             [
              0.6666666666666666,
              "#ed7953"
             ],
             [
              0.7777777777777778,
              "#fb9f3a"
             ],
             [
              0.8888888888888888,
              "#fdca26"
             ],
             [
              1,
              "#f0f921"
             ]
            ],
            "type": "histogram2d"
           }
          ],
          "histogram2dcontour": [
           {
            "colorbar": {
             "outlinewidth": 0,
             "ticks": ""
            },
            "colorscale": [
             [
              0,
              "#0d0887"
             ],
             [
              0.1111111111111111,
              "#46039f"
             ],
             [
              0.2222222222222222,
              "#7201a8"
             ],
             [
              0.3333333333333333,
              "#9c179e"
             ],
             [
              0.4444444444444444,
              "#bd3786"
             ],
             [
              0.5555555555555556,
              "#d8576b"
             ],
             [
              0.6666666666666666,
              "#ed7953"
             ],
             [
              0.7777777777777778,
              "#fb9f3a"
             ],
             [
              0.8888888888888888,
              "#fdca26"
             ],
             [
              1,
              "#f0f921"
             ]
            ],
            "type": "histogram2dcontour"
           }
          ],
          "mesh3d": [
           {
            "colorbar": {
             "outlinewidth": 0,
             "ticks": ""
            },
            "type": "mesh3d"
           }
          ],
          "parcoords": [
           {
            "line": {
             "colorbar": {
              "outlinewidth": 0,
              "ticks": ""
             }
            },
            "type": "parcoords"
           }
          ],
          "pie": [
           {
            "automargin": true,
            "type": "pie"
           }
          ],
          "scatter": [
           {
            "marker": {
             "colorbar": {
              "outlinewidth": 0,
              "ticks": ""
             }
            },
            "type": "scatter"
           }
          ],
          "scatter3d": [
           {
            "line": {
             "colorbar": {
              "outlinewidth": 0,
              "ticks": ""
             }
            },
            "marker": {
             "colorbar": {
              "outlinewidth": 0,
              "ticks": ""
             }
            },
            "type": "scatter3d"
           }
          ],
          "scattercarpet": [
           {
            "marker": {
             "colorbar": {
              "outlinewidth": 0,
              "ticks": ""
             }
            },
            "type": "scattercarpet"
           }
          ],
          "scattergeo": [
           {
            "marker": {
             "colorbar": {
              "outlinewidth": 0,
              "ticks": ""
             }
            },
            "type": "scattergeo"
           }
          ],
          "scattergl": [
           {
            "marker": {
             "colorbar": {
              "outlinewidth": 0,
              "ticks": ""
             }
            },
            "type": "scattergl"
           }
          ],
          "scattermapbox": [
           {
            "marker": {
             "colorbar": {
              "outlinewidth": 0,
              "ticks": ""
             }
            },
            "type": "scattermapbox"
           }
          ],
          "scatterpolar": [
           {
            "marker": {
             "colorbar": {
              "outlinewidth": 0,
              "ticks": ""
             }
            },
            "type": "scatterpolar"
           }
          ],
          "scatterpolargl": [
           {
            "marker": {
             "colorbar": {
              "outlinewidth": 0,
              "ticks": ""
             }
            },
            "type": "scatterpolargl"
           }
          ],
          "scatterternary": [
           {
            "marker": {
             "colorbar": {
              "outlinewidth": 0,
              "ticks": ""
             }
            },
            "type": "scatterternary"
           }
          ],
          "surface": [
           {
            "colorbar": {
             "outlinewidth": 0,
             "ticks": ""
            },
            "colorscale": [
             [
              0,
              "#0d0887"
             ],
             [
              0.1111111111111111,
              "#46039f"
             ],
             [
              0.2222222222222222,
              "#7201a8"
             ],
             [
              0.3333333333333333,
              "#9c179e"
             ],
             [
              0.4444444444444444,
              "#bd3786"
             ],
             [
              0.5555555555555556,
              "#d8576b"
             ],
             [
              0.6666666666666666,
              "#ed7953"
             ],
             [
              0.7777777777777778,
              "#fb9f3a"
             ],
             [
              0.8888888888888888,
              "#fdca26"
             ],
             [
              1,
              "#f0f921"
             ]
            ],
            "type": "surface"
           }
          ],
          "table": [
           {
            "cells": {
             "fill": {
              "color": "#EBF0F8"
             },
             "line": {
              "color": "white"
             }
            },
            "header": {
             "fill": {
              "color": "#C8D4E3"
             },
             "line": {
              "color": "white"
             }
            },
            "type": "table"
           }
          ]
         },
         "layout": {
          "annotationdefaults": {
           "arrowcolor": "#2a3f5f",
           "arrowhead": 0,
           "arrowwidth": 1
          },
          "coloraxis": {
           "colorbar": {
            "outlinewidth": 0,
            "ticks": ""
           }
          },
          "colorscale": {
           "diverging": [
            [
             0,
             "#8e0152"
            ],
            [
             0.1,
             "#c51b7d"
            ],
            [
             0.2,
             "#de77ae"
            ],
            [
             0.3,
             "#f1b6da"
            ],
            [
             0.4,
             "#fde0ef"
            ],
            [
             0.5,
             "#f7f7f7"
            ],
            [
             0.6,
             "#e6f5d0"
            ],
            [
             0.7,
             "#b8e186"
            ],
            [
             0.8,
             "#7fbc41"
            ],
            [
             0.9,
             "#4d9221"
            ],
            [
             1,
             "#276419"
            ]
           ],
           "sequential": [
            [
             0,
             "#0d0887"
            ],
            [
             0.1111111111111111,
             "#46039f"
            ],
            [
             0.2222222222222222,
             "#7201a8"
            ],
            [
             0.3333333333333333,
             "#9c179e"
            ],
            [
             0.4444444444444444,
             "#bd3786"
            ],
            [
             0.5555555555555556,
             "#d8576b"
            ],
            [
             0.6666666666666666,
             "#ed7953"
            ],
            [
             0.7777777777777778,
             "#fb9f3a"
            ],
            [
             0.8888888888888888,
             "#fdca26"
            ],
            [
             1,
             "#f0f921"
            ]
           ],
           "sequentialminus": [
            [
             0,
             "#0d0887"
            ],
            [
             0.1111111111111111,
             "#46039f"
            ],
            [
             0.2222222222222222,
             "#7201a8"
            ],
            [
             0.3333333333333333,
             "#9c179e"
            ],
            [
             0.4444444444444444,
             "#bd3786"
            ],
            [
             0.5555555555555556,
             "#d8576b"
            ],
            [
             0.6666666666666666,
             "#ed7953"
            ],
            [
             0.7777777777777778,
             "#fb9f3a"
            ],
            [
             0.8888888888888888,
             "#fdca26"
            ],
            [
             1,
             "#f0f921"
            ]
           ]
          },
          "colorway": [
           "#636efa",
           "#EF553B",
           "#00cc96",
           "#ab63fa",
           "#FFA15A",
           "#19d3f3",
           "#FF6692",
           "#B6E880",
           "#FF97FF",
           "#FECB52"
          ],
          "font": {
           "color": "#2a3f5f"
          },
          "geo": {
           "bgcolor": "white",
           "lakecolor": "white",
           "landcolor": "#E5ECF6",
           "showlakes": true,
           "showland": true,
           "subunitcolor": "white"
          },
          "hoverlabel": {
           "align": "left"
          },
          "hovermode": "closest",
          "mapbox": {
           "style": "light"
          },
          "paper_bgcolor": "white",
          "plot_bgcolor": "#E5ECF6",
          "polar": {
           "angularaxis": {
            "gridcolor": "white",
            "linecolor": "white",
            "ticks": ""
           },
           "bgcolor": "#E5ECF6",
           "radialaxis": {
            "gridcolor": "white",
            "linecolor": "white",
            "ticks": ""
           }
          },
          "scene": {
           "xaxis": {
            "backgroundcolor": "#E5ECF6",
            "gridcolor": "white",
            "gridwidth": 2,
            "linecolor": "white",
            "showbackground": true,
            "ticks": "",
            "zerolinecolor": "white"
           },
           "yaxis": {
            "backgroundcolor": "#E5ECF6",
            "gridcolor": "white",
            "gridwidth": 2,
            "linecolor": "white",
            "showbackground": true,
            "ticks": "",
            "zerolinecolor": "white"
           },
           "zaxis": {
            "backgroundcolor": "#E5ECF6",
            "gridcolor": "white",
            "gridwidth": 2,
            "linecolor": "white",
            "showbackground": true,
            "ticks": "",
            "zerolinecolor": "white"
           }
          },
          "shapedefaults": {
           "line": {
            "color": "#2a3f5f"
           }
          },
          "ternary": {
           "aaxis": {
            "gridcolor": "white",
            "linecolor": "white",
            "ticks": ""
           },
           "baxis": {
            "gridcolor": "white",
            "linecolor": "white",
            "ticks": ""
           },
           "bgcolor": "#E5ECF6",
           "caxis": {
            "gridcolor": "white",
            "linecolor": "white",
            "ticks": ""
           }
          },
          "title": {
           "x": 0.05
          },
          "xaxis": {
           "automargin": true,
           "gridcolor": "white",
           "linecolor": "white",
           "ticks": "",
           "title": {
            "standoff": 15
           },
           "zerolinecolor": "white",
           "zerolinewidth": 2
          },
          "yaxis": {
           "automargin": true,
           "gridcolor": "white",
           "linecolor": "white",
           "ticks": "",
           "title": {
            "standoff": 15
           },
           "zerolinecolor": "white",
           "zerolinewidth": 2
          }
         }
        }
       }
      },
      "text/html": [
       "<div>\n",
       "        \n",
       "        \n",
       "            <div id=\"19151f89-c017-49d4-9e22-7c2573de2c5c\" class=\"plotly-graph-div\" style=\"height:525px; width:100%;\"></div>\n",
       "            <script type=\"text/javascript\">\n",
       "                require([\"plotly\"], function(Plotly) {\n",
       "                    window.PLOTLYENV=window.PLOTLYENV || {};\n",
       "                    \n",
       "                if (document.getElementById(\"19151f89-c017-49d4-9e22-7c2573de2c5c\")) {\n",
       "                    Plotly.newPlot(\n",
       "                        '19151f89-c017-49d4-9e22-7c2573de2c5c',\n",
       "                        [{\"hovertext\": [\"Many individuals first experiment with alcohol and drugs<br>during adolescence ( SAMHSA 2003 ) , and marijuana is the<br>most commonly used illicit substance among teenagers (<br>Johnston et al . 2005 ) .\", \"Nearly half of 12th graders have tried marijuana , and 6 %<br>disclose daily use ( Johnston et al . 2005 ) .\", \"Adolescence is also a period of continued neurodevelopment ,<br>including frontal lobe myelination and synaptic pruning that<br>subserve improved executive functioning ( Gogtay et al .<br>2004 ; Sowell et al . 2002 ) , including abilities such as<br>decision making , inhibitory processing , and impulse<br>control .\", \"The influence of marijuana use on these maturational<br>processes is unknown , although executive dysfunction may<br>affect the development and maintenance of substance use and<br>problems during adolescence ( Tapert et al . 2002a ) .\", \"Adults with heavy marijuana use histories have demonstrated<br>abnormalities in executive functioning ( Fletcher et al .<br>1996 ; Pope and Yurgelun Todd 1996 ; Solowij et al . 2002 )<br>and indices of frontal lobe operation ( Block et al . 2000 ;<br>Kanayama et al . 2004 ; Lundqvist et al . 2001 ; Solowij et<br>al . 1991 Solowij et al . , 1995 Struve et al . 1998 ) .\", \"To determine if cognitive deficits in marijuana users are<br>transient or persistent , Pope et al . ( 2001 ) tested 63<br>current marijuana users ( > 5,000 lifetime uses ) , 45<br>former users ( > 5,000 lifetime uses ) , and 72 normal<br>controls ( 1-50 lifetime uses ) , all ages 30-55 .\", \"Participants were abstinent for 28 days , verified by urine<br>drug screens and given neuropsychological tests on days 0 ,<br>1 , 7 , and 28 of abstinence .\", \"Current users showed some deficits relative to controls on<br>days 0 , 1 , and 7 , but groups did not differ on any test<br>by day 28 .\", \"In contrast , a study ( Bolla et al . 2002 ) that<br>hospitalized 22 marijuana -using adults ( > 2 years of<br>marijuana use ) for 28 days to assure abstinence found<br>greater marijuana intake linked to poorer performance on<br>tests of inhibition , problem solving , learning , and<br>reaction time .\", \"Disinhibition , i.e . , the impaired ability to inhibit a<br>potentially inappropriate response , is a common feature of<br>substance misuse ( Chen et al . 2007 ; Kamarajan et al .<br>2006 ; Kirisci et al . 2006 ; Verdejo -Garcia et al . 2006 )<br>.\", \"Neuroimaging studies have reported both prefrontal and<br>posterior parietal cortical involvement during inhibitory<br>processing in healthy volunteers ( Liu et al . 2004 ) ,<br>which may be overactive in populations with impulse control<br>problems ( Schulz et al . 2004 ) .\", \"Few studies have examined inhibitory processing in marijuana<br>users .\", \"Functional magnetic resonance imaging ( f MRI )<br>characterized the neural correlates of inhibition during a<br>Stroop task , in which heavy marijuana -using adults and non<br>-users were asked to inhibit the automatic process of<br>reading words and , instead , name the colors of words<br>printed in incongruent ink ( Gruber and Yurgelun Todd 2005 )<br>.\", \"Marijuana users not only showed greater midcingulate and<br>reduced anterior cingulate blood oxygen level dependent (<br>BOLD ) response but also more widespread bilateral<br>dorsolateral prefrontal activation during inhibition<br>relative to color naming trials .\", \"The investigators speculated that the altered activation<br>pattern in marijuana users reflects compensation and use of<br>alternate strategies .\", \"The same investigators had shown in a previous f MRI study<br>using a working memory task before and after a 28 -day<br>abstinence period ( Yurgelun -Todd et al . 1998 ) that adult<br>users demonstrated less prefrontal and more anterior<br>cingulate response than controls after just 24 h of non -use<br>.\", \"Although users showed some normalization of prefrontal<br>functioning after 28 days of abstinence , they still showed<br>anterior cingulate dysfunction , which is supportive of<br>persisting neural processing abnormalities .\", \"These results support the hypothesis that adult marijuana<br>users show abnormal neural inhibitory processing ,<br>compensatory hyper -activity , and altered neural processing<br>differences in the absence of the intoxicating agent .\", \"Few studies have examined neurocognitive effects of<br>marijuana use among adolescents , but some reports<br>identified decrements in attention ( Tapert et al . 2002b )<br>, and learning and memory ( Millsaps et al . 1994 ; Schwartz<br>et al . 1989 ) associated with early marijuana use .\", \"We previously demonstrated increased dorsolateral prefrontal<br>and decreased inferior frontal f MRI response during a<br>spatial working memory task among teens with comorbid<br>alcohol and marijuana use disorders compared to those with<br>alcohol use disorders alone and to non -using controls ,<br>suggesting a marijuana use -related increase in dorsolateral<br>prefrontal effort ( Schweinsburg et al . 2005b ) .\", \"However , most studies of adolescent marijuana users were<br>conducted after several days of abstinence , so effects<br>could be transitory .\", \"Jacobsen et al . ( 2004 ) addressed this concern by<br>evaluating seven adolescent marijuana users , seven<br>demographically similar tobacco smokers , and seven non<br>-users with a working memory task during f MRI acquisition<br>after about a month of abstinence .\", \"Marijuana users were less accurate on the task and showed<br>increased BOLD response in the right hippocampus relative to<br>other groups .\", \"The authors suggested that marijuana users might have failed<br>to inhibit hippocampal activity during the task , perhaps<br>due to cannabis -induced changes in inhibitory<br>neurotransmission or apoptosis in the hippocampus .\", \"These researchers then compared 15 adolescents with and 18<br>without histories of cannabis use during nicotine withdrawal<br>.\", \"Cannabis users , but not non -users , showed nicotine<br>withdrawal -precipitated increases in parietal activation<br>and disruptions in frontoparietal connectivity during a<br>verbal working memory task\", \"( Jacobsen et al . 2007 ). Collectively , existing data<br>indicate some executive impairment and neural dysfunction<br>associated with adolescent marijuana use , although the<br>neural substrates specific to inhibitory processing have not<br>yet been examined in teenage marijuana users .\", \"In the current study , we performed BOLD f MRI during a<br>go/no -go task to characterize response inhibition among<br>adolescent marijuana users and non -using controls .\", \"Because studies of marijuana -using adults have suggested<br>improvements in cognitive and neural functioning after 28<br>days of abstinence ( Pope et al . 2001 ) , we required<br>participants to complete 28 days of monitored abstinence<br>before scanning to ensure that any group differences were<br>not due to recent use .\", \"The go/no -go task ( Anderson et al . 2005 ; Schweinsburg et<br>al . 2004b ) was designed to assess inhibitory processing by<br>asking participants to withhold a response to an<br>infrequently occurring stimulus .\", \"Previous studies have observed activation in dorsolateral<br>prefrontal , inferior frontal , anterior cingulate , and<br>posterior parietal regions among adolescents using this task<br>( Anderson et al . 2005 ; Schweinsburg et al . 2004a ) and<br>similar inhibition paradigms ( Adleman et al . 2002 ; Luna<br>et al . 2001 ; Tamm et al . 2002 ) .\", \"Participants were 16 -to 18 -year -olds enrolled in an<br>ongoing study of adolescents recruited from local high<br>schools and colleges ( Medina et al . 2007a , b ; Nagel et<br>al . 2006 ; Schweinsburg et al . 2005a ) .\", \"Sixteen adolescents were marijuana users ( MJ ) with at<br>least 60 lifetime episodes of cannabis use and limited<br>histories of other drug use , and 17 adolescents were<br>demographically similar non -using controls ( see Table 1<br>for demographic characteristics ) with less than five<br>lifetime episodes of cannabis use .\", \"Written assent and consent were obtained from adolescents<br>and their parent/legal guardians in accordance with the<br>University of California San Diego Human Research<br>Protections Program .\", \"Eligibility was ascertained through separate , private<br>telephone screening interviews with the youth and the parent<br>.\", \"Exclusionary criteria included left handedness ; history of<br>head injury with loss of consciousness > 2 min , learning<br>disabilities , medical or neurological problem , DSM -IV (<br>APA 1994 ) Axis I psychiatric disorder ( i.e . , mood ,<br>anxiety , psychotic , attention , and conduct disorders ) as<br>assessed by the computerized NIMH Diagnostic Interview<br>Schedule for Children Predictive Scales ( DISC -PS -4.32b ;<br>Lucas et al . 2001 ; Shaffer et al . 2000 ) Youth and Parent<br>versions , and use of any psychotropic medication ;<br>significant maternal drinking ( more that two drinks on an<br>occasion or more than four drinks in a week ) or other drug<br>use during pregnancy ; family history of bipolar I or<br>psychotic disorders determined by the Family History<br>Assessment Module ( Rice et al . 1995 ) ; and MRI<br>contraindications . MJ youth disclosed using marijuana an<br>average of \\u223c 500 times in their lives\", \"( see Table 1 ), and three control youth had experience with<br>marijuana ( less than five times ) .\", \"MJ youth used marijuana every other day on average , before<br>being asked to remain abstinent for the 28 days before<br>scanning .\", \"Most MJ youth were current users , as all but three used in<br>the month before monitored abstinence .\", \"Substance use assessment Substance involvement was<br>ascertained using the Customary Drinking and Drug Use Record<br>( Brown et al . 1998 ) , an interview that obtains<br>information on lifetime and past 3 -month use of marijuana ,<br>alcohol , nicotine , other illicit drugs , and misuse of<br>prescription and over -the -counter medications , and<br>negative consequences associated with substance use .\", \"Strong internal consistency , test -retest , and inter<br>-rater reliability have been demonstrated with adolescents (<br>Brown et al . 1998 ; Stewart and Brown 1995 ) .\", \"The Fagerstrom Test for Nicotine Dependence ( FTND ;<br>Heatherton et al . 1991 ) indicated that no participant was<br>dependent on nicotine .\", \"The Timeline Followback ( Sobell and Sobell 1992 ) collected<br>details on substance use patterns for the month before and<br>during the 28 -day abstinence period .\", \"Continuous indices of level of internalizing and<br>externalizing psychopathological syndromes were assessed by<br>the 113 -item Child Behavior Checklist ( CBCL ; Achenbach<br>and Rescorla 2001 ) , administered to parents ( typically<br>biological mothers ) covering youth behaviors in the past 6<br>months .\", \"Eight -factor T scores ( rulebreaking behavior , aggressive<br>behavior , withdrawn/depressed , anxious/depressed , somatic<br>complaints , attention problems , social problems , and<br>thought problems ) and summary T scores ( externalizing ,<br>internalizing ) are provided .\", \"Personality Disinhibition and substance use may relate to<br>personality traits .\", \"Thus , all participants completed the NEO Five -Factor<br>Inventory ( NEO -FFI ; Costa and Mc Crae 1992 ) , a 60 -item<br>self -report personality questionnaire that assesses five<br>domains of personality : neuroticism , extraversion ,<br>openness , agreeableness , and conscientiousness .\", \"This factor structure has been replicated in adolescent<br>samples ( Fruyt et al . 2000 ) .\", \"Go/no -go task Participants performed a go/no -go task<br>during f MRI scanning ( Anderson et al . 2005 ; Schweinsburg<br>et al . 2004b ) .\", \"The task alternated between active blocks and resting blocks<br>.\", \"During resting blocks , participants viewed a \\\"+\\\" in the<br>center of the screen .\", \"During active blocks , a large square , small square , large<br>circle , and small circle were presented one at a time for<br>200 ms every 1,500 ms . Participants were instructed to<br>press a button as fast as possible every time they saw a<br>shape ( go stimuli ) except for the small square ( no -go<br>stimulus ) , thus requiring response inhibition .\", \"The task lasted 6 min and 24 s .\", \"Participants additionally performed the entire task before<br>scanning to ensure adequate comprehension of instructions<br>and to resolve potential practice effects\", \"To confirm that participants did not use substances in the 4<br>weeks before scanning , all participants ( controls and<br>marijuana users ) provided at least nine urine toxicology<br>screens ( two to three times per week ) during these 28 days<br>.\", \"Urine toxicology procedures can reliably detect evidence of<br>marijuana use 4 to 25 days after last use ( Fraser et al .<br>2002 ; Huestis and Cone 1998 ) , sometimes longer ( Lafolie<br>et al . 1991 ) , depending on pattern of use , body lipid<br>content , and metabolic features .\", \"Each urine sample was evaluated for metabolites indicating<br>recent use of cannabis , amphetamines , methamphetamines ,<br>barbiturates , benzodiazepines , cocaine , codeine ,<br>morphine , phencyclidine , and ethanol using cloned enzyme<br>donor immunoassay ( CEDIA DAU , Microgenics , Fremont , CA ,<br>USA ) .\", \"Observed urine sample collection procedures reduced the<br>possibility of participant tampering .\", \"Tetrahydrocannabinol ( THC ) values were monitored over the<br>28 -day period to ensure that levels decreased .\", \"Initial samples testing positive for THC metabolites were<br>assumed to reflect residual use if values decreased with<br>each subsequent sample collected .\", \"If levels increased or a positive screen was obtained after<br>a negative screen , the participant was given the option to<br>restart the 28 -day screening process or be dropped from the<br>study .\", \"Breathalyzers ( Alco Sensor IV , Intoximeter , St . Louis ,<br>MO , USA ) were conducted at each visit .\", \"To confirm urine results , a hair sample collected on the<br>scan day was analyzed for THC and other drug metabolites<br>suggestive of past month use ( Psychemedics , Culver City ,<br>CA , USA ) .\", \"Seven users , not described in this paper , were unable to<br>complete the 28 -day abstinence protocol .\", \"In preparation for scanning , each participant lay on the<br>scanner bed .\", \"Foam pads were arranged around the head to minimize motion .\", \"A mirror above the participant 's eyes enabled viewing of a<br>screen at the foot of the scanner bed , on which the task<br>was rear -projected from a laptop .\", \"Behavioral responses during the task were collected through<br>a fiber -optic button box ( Lumi Touch , Vancouver , BC ,<br>Canada ) .\", \"Imaging data were acquired on a 1.5 Tesla Signa LX ( General<br>Electric , Madison , WI , USA ) system .\", \"A structural image was collected in the sagittal plane using<br>an inversion recovery prepared T1 -weighted 3D spiral fast<br>spin echo sequence ( repetition time 2,000 ms , echo time 16<br>ms , field of view 240 mm , 128 continuous slices ,<br>resolution 0.9375\\u00d70.9375 \\u00d7 1.328 mm , acquisition time 8:36<br>; Wong et al . 2000 ) .\", \"Data were processed and analyzed using Analysis of<br>Functional Neuro Images ( AFNI ; http://www.afni.nimh.nih .<br>gov ; Cox 1996 ) .\", \"First , an automated motion correction algorithm was applied<br>to the time series datasets ( Cox and Jesmanowicz 1999 ) .\", \"Two raters examined the time series data and removed<br>repetitions containing residual visible head motions .\", \"If > 18 % of repetitions were removed , the participant was<br>not included ( n=3 not described in this paper ) .\", \"Groups did not differ in the number of repetitions removed (<br>p=0.87 ) or absolute mean rotational or translational<br>adjustments applied .\", \"Average rotational ( roll , pitch , and yaw ) and<br>translational ( superior , left , and posterior ) movement ,<br>respectively , was 0.04 , 0.11 , and 0.05\\u00b0and 0.07 , 0.04 ,<br>and 0.04 mm for MJ users , and 0.06 , 0.12 , 0.06\\u00b0and 0.10 ,<br>0.04 , and 0.06 mm for controls .\", \"No significant differences between groups were found for<br>task -correlated motion\", \"( rs for the correlation between the task reference function<br>and each motion parameter were \\u2212 0.08 , \\u2212 0.10 , \\u2212 0.02 , \\u2212<br>0.11 , \\u2212 0.07 , and \\u2212 0.07 for MJ users and \\u2212 0.04 , \\u2212 0.06<br>, \\u2212 0.04 , \\u2212 0.10 , \\u2212 0.08 , and \\u2212 0.06 for controls ) .Next<br>, time series datasets were deconvolved with a reference<br>function representing the timing of go , no -go , and rest<br>stimuli presentation over the course of the task ( Ward 2002<br>) while accounting for hemodynamic delays ( Bandettini et al<br>. 1993 ; Boynton et al . 1996 ) and covarying for motion<br>adjustments applied and linear trends .\", \"This yielded fit coefficients representing the BOLD response<br>for ( 1 ) inhibition ( no -go ) trials relative to baseline<br>and ( 2 ) go trials relative to baseline in each voxel of<br>the brain for each subject .\", \"Data were transformed to standard space ( Lancaster et al .<br>2000 ; Talairach and Tournoux 1988 ) , resampled into<br>isotropic 3.5 -mm voxels , and spatially smoothed with a<br>Gaussian filter ( 3.5 mm full width half maximum ) to<br>account for anatomic variability between subjects .\", \"We determined regions of significant BOLD response<br>differences between MJ and control adolescents using<br>independent samples t tests in each voxel of the brain ,<br>performed separately on the BOLD response contrast for no<br>-go and for go trials .\", \"To control for type I error , we used a combination of t<br>statistic magnitude and cluster volume thresholding ( Forman<br>et al . 1995 ; Ward 1997 ) by only interpreting clusters<br>comprised of at least 22 contiguously activated voxels at<br>a<.05 ( \\u2265 943 \\u03bcl in volume ) .\", \"Anatomic localization was confirmed using the Talairach<br>Daemon ( Lancaster et al . 2000 ; Ward 1997 ) and AFNI (<br>Ward 1997 ) .\", \"Normality of distribution was evaluated for key variables (<br>Tabachnick and Fidell 2007 ) .\", \"No outliers or non -normal distributions were found for BOLD<br>response contrast in clusters showing group differences .\", \"However , five variables ( marijuana hits per month ,<br>lifetime other drug use , cigarettes smoked per month , FTND<br>total , and BDI total ) were positively skewed and kurtotic<br>, so were inverse transformed [ i.e . , 1/ ( 1 + the skewed<br>variable ) ; Tabachnick and Fidell 2007 ] .\", \"Group comparison results were further examined in analyses<br>of covariance ( ANCOVAs ) that controlled for potential<br>confound variables that differed between groups .\", \"Follow -up regression analyses were conducted among the MJ<br>users ( n=16 ) to examine BOLD response contrast to no -go<br>trials , averaged across the cluster , in the regions that<br>continued to differentiate users from controls in the above<br>ANCOVAs .\", \"BOLD response contrast to no -go trials was the dependent<br>variable , and variables indexing marijuana use , other<br>substance use , and risk factors for substance involvement<br>were the predictors .\", \"Groups did not differ significantly on mood state measures\", \"( see Table 1 ), but MJ users showed a trend for higher BDI<br>scores ( p=0.08 ) .\", \"Groups were similar and in the normal range on all CBCL<br>factor T scores , except that the MJ group was higher on<br>Rule -Breaking Behavior ( 53.00\\u00b18.23 MJ , 45.21\\u00b15.19<br>controls , p<0.005 ) .\", \"On the NEO -FFI , MJ youth demonstrated greater scores on<br>Openness ( 44.25 \\u00b1 3.11 MJ , 41.18\\u00b14.88 controls , p<0.05 )<br>but were statistically equivalent on other personality<br>scores .\", \"MJ youth committed more errors than controls on several<br>cognitive tests : more sequencing errors across all DKEFS<br>Trails conditions ( p<0.01 ) , more intrusion errors on a<br>word list learning task ( p<0.05 ) , and more repetition<br>errors on DKEFS Verbal Fluency ( p<0.05 ) .Task performance<br>data were available for 15 MJ and 15 control adolescents .\", \"No group differences or group by condition interactions were<br>found .\", \"As expected , participants responded more accurately (<br>p<.001 ) to go trials ( 98.97 \\u00b1 1.88 % MJ , 98.70\\u00b11.62 %<br>controls ) than no -go trials ( 82.92 \\u00b1 9.57 % MJ ,<br>81.64\\u00b110.73 % controls ) .\", \"Groups were equivalent on reaction time to go trials (<br>588.11\\u00b140.44 MJ , 606.13 \\u00b1 74.35 controls , p=.38 ) .\", \"D \\u2032 , a signal detection index that considers the<br>probability of correct and incorrect responses ( i.e . , the<br>ability to separate go stimuli from the no -go stimulus ) ,<br>was also similar between groups ( 3.30\\u00b10.49 MJ , 3.04\\u00b10.84<br>controls , p=0.54 ) .\", \"Exit interview data showed that groups were equivalent on<br>task effort , motivation , and perceived errors , but MJ<br>users indicated use of more perceptual strategies ( e.g . ,<br>\\\" look for the small square to show up \\\" ) , while controls<br>tended to endorse cognitive strategies ( \\\" remember to hold<br>off when I see that shape \\\" or \\\" concentrate\\\" ) .f MRI<br>response Whole brain analyses showed that during inhibitory<br>trials relative to baseline , control adolescents showed<br>significantly increased activation in superior medial<br>frontal cortex and the left parahippocampal gyrus , and<br>decreased activation in bilateral posterior parietal and<br>inferior frontal regions .\", \"MJ users also showed increased inhibition -related<br>activation in superior frontal areas , as well as in<br>additional regions compared to controls , including numerous<br>left and medial prefrontal clusters , left posterior<br>parietal cortex , and multiple bilateral cerebellar regions<br>.\", \"MJ users showed decreased BOLD response during no -go trials<br>relative to baseline in right posterior parietal , inferior<br>frontal , and middle temporal cortices .\", \"Between -group comparisons revealed several clusters in<br>which MJ users showed significantly more BOLD response<br>during inhibition trials than controls : right anterior<br>superior and middle frontal gyri ( BA 10 , 46 ) , right<br>superior middle frontal gyrus extending down to the anterior<br>insula ( BA 6 , 13 ) , left anterior middle and superior<br>frontal gyri ( BA 10 ) , medial prefrontal cortex ( BA 6 ) ,<br>right and left posterior parietal cortex ( BA 7 , 40 ) , and<br>right lingual gyrus\", \"( BA 18 ; see Table 2 and Fig . 1 ). There were no clusters<br>in which MJ users showed significantly less inhibitory brain<br>response than controls .\", \"For go trials relative to baseline , controls showed<br>significant BOLD response in the bilateral ventral<br>prefrontal cortex , bilateral medial posterior parietal<br>cortex and cuneus , anterior cingulate , precentral gyrus ,<br>right anterior insula , and medial cerebellum .\", \"MJ users had multiple clusters of significant response to go<br>trials relative to baseline , including increased activation<br>in substantial portions of bilateral ventral prefrontal<br>cortex , bilateral medial superior frontal cortex , right<br>posterior parietal cortex , bilateral temporal cortex ,<br>anterior cingulate , precentral gyrus , left insula , and<br>bilateral cerebellum .\", \"Between -group comparisons indicated that MJ users had<br>significantly more BOLD response during go trials relative<br>to baseline than did controls in the right inferior frontal<br>gyrus and anterior insula ( BA 44 , 13 ) , right superior<br>frontal gyrus ( BA 9 , 10 ) , right superior parietal lobule<br>( BA 7 ) , right inferior parietal lobule ( BA 40 ) , and<br>medial precuneus\", \"( BA 7 ; see Table 3 ). There were no clusters in which MJ<br>users had significantly less go response than controls .\", \"To determine whether the group differences reported above<br>were due to differences in other substance use or factors<br>that could predate marijuana use , secondary analyses using<br>ANCOVAs separately ( due to limited power ) controlled for<br>lifetime alcohol consumption , days since last drink ,<br>drinks per month , years of regular drinking , time since<br>last cigarette , past week cigarettes per smoking day ,<br>cigarettes per month , FTND total , number of lifetime other<br>drug use episodes , family history of substance use<br>disorders , family history of psychiatric disorders , each<br>NEO -FFI score , and BDI total .\", \"For all analyses , groups continued to differ on BOLD<br>response in all clusters ( p range , 0.001 to 0.0001 ) .To<br>determine whether differences between groups were due to<br>duration and intensity of exposure to THC or related to the<br>recency of marijuana use , we conducted a series of<br>exploratory regression analyses among MJ users ( n=16 ) .\", \"Duration of regular marijuana use was negatively related to<br>no -go brain response in the right anterior superior frontal<br>gyrus ( BA 10 ; \\u03b2=\\u22120.73 , p<0.001 ; plotted in Fig . 2 ) ,<br>right superior middle frontal gyrus ( BA 6 ; \\u03b2=\\u22120.58 ,<br>p<0.025 ) , and left anterior superior frontal gyrus ( BA 10<br>; \\u03b2=\\u22120.58 , p < 0.025 ) , suggesting that youth with longer<br>durations of marijuana involvement had less no -go brain<br>response .\", \"Similarly , early age of onset of regular marijuana use ( \\u03b2<br>= 0.66 , p<0.01 ) and more lifetime marijuana use episodes (<br>\\u03b2=\\u2212.62 , p<0.025 ) related to less inhibitory response in<br>the right anterior superior frontal gyrus ( BA 10 ) .\", \"Typical number of marijuana hits per month also was<br>negatively related to brain response in the right anterior<br>superior frontal gyrus ( BA 10 ; \\u03b2=\\u22120.73 , p<.005 ) , right<br>superior middle frontal gyrus ( BA 6 ; \\u03b2=\\u22120.71 , p<0.005 ) ,<br>left anterior superior frontal gyrus ( BA 10 ; \\u03b2=\\u22120.68 ,<br>p<0.01 ) , and left posterior parietal cortex ( BA 40 ;<br>\\u03b2=\\u22120.62 , p < 0.025 ) .\", \"Days since last marijuana use ( range , 28 to 240 ) , age ,<br>and neuropsychological test performance were not associated<br>with brain response in any region demonstrating a group<br>difference .\", \"Number of lifetime other drug use episodes ( primarily pain<br>medications ) was positively associated with BOLD response<br>contrast to no -go trials in the right anterior superior<br>frontal gyrus ( BA 10 ; \\u03b2=0.57 , p < 0.025 ) and right<br>middle frontal gyrus ( BA 6 , \\u03b2=0.56 , p < 0.025 ) .\", \"In this study , marijuana -using adolescents showed<br>increased BOLD response during both inhibitory and non<br>-inhibitory trials of a go/no -go task , even after a 28<br>-day washout period of abstinence from cannabis , as<br>compared to control adolescents with limited substance use<br>histories .\", \"Differences were prominent in dorsolateral prefrontal and<br>parietal areas .\", \"Our findings with adolescent marijuana users extend those of<br>others ( Gruber and Yurgelun -Todd 2005 ) , who Fig . 1<br>Inhibition trial differences in BOLD response contrast<br>between marijuana -using ( n=16 ) and non -using ( n=17 )<br>adolescents after 28 days of monitored abstinence .\", \"Blue areas show where users had more significantly BOLD<br>response during inhibition ( no -go ) trials relative to<br>baseline than non -users ( p<0.05 , clusters > 943 \\u03bcl ) ; no<br>clusters in which users showed significantly less activation<br>than controls were found ( see Table 2 ) showed that adult<br>marijuana users exhibited increased prefrontal response<br>during inhibition tasks .\", \"The present results thus suggest that the effects of<br>cannabis use on brain function in adolescents may persist<br>after a period of abstinence .\", \"A pattern of increased activation yet comparable performance<br>is consistent with functional compensation and<br>dedifferentiation ( Rajah and D 'Esposito 2005 ) , which<br>supposes that loci of functional activity are spread to more<br>and larger regions .\", \"Therefore , adolescent marijuana users appear to recruit<br>more neural tissue in executive control areas to adequately<br>perform the task , which is consistent with other studies<br>showing increased dorsolateral prefrontal activation in MJ<br>users during inhibition ( Gruber and Yurgelun -Todd 2005 )<br>and other ( Schweinsburg et al . 2005b ) cognitive tasks .\", \"Repeated cannabinoid use may alter neuromaturation in<br>regions with high CB1 densities , such as prefrontal cortex<br>( Eggan and Lewis 2007 ) .\", \"Synaptic pruning and gray matter sculpting occurs late in<br>some of the regions showing increased BOLD signal among<br>users , such as bilateral dorsolateral prefrontal cortex ,<br>where cortical thickness peaks at age 11.5 on average (<br>Gogtay et al . 2004 ; Sowell et al . 2003 ) .\", \"If prefrontal synaptic pruning is slowed by adolescent<br>marijuana use , greater activation may reflect excess neural<br>firing caused by a larger number of synaptic links .\", \"In their study of heavy marijuana -using adults , Gruber and<br>Yurgelun -Todd ( 2005 ) reported that heavy users had<br>increased prefrontal response to an inhibition task , as<br>seen in this study of adolescents , but also showed reduced<br>anterior cingulate response , which we did not observe in<br>this study .\", \"One possible explanation for this difference is the duration<br>of marijuana use in our cohort .\", \"It may take a longer period of use to evidence such changes<br>in cingulate responding .\", \"The increased parietal activation among marijuana -using<br>adolescents is consistent with findings from Jacobsen et al<br>. ( 2007 ) of heightened parietal response in marijuana<br>-involved youth during a verbal working memory task while<br>undergoing nicotine withdrawal , although here , nicotine<br>use rates were relatively low .\", \"As right dorsolateral prefrontal and parietal regions have<br>been implicated in sustained attention ( Drummond et al .<br>2005 ) , perhaps , users had a greater cognitive load<br>associated with attending to the stimuli in general and in<br>identifying the no -go stimulus in particular .\", \"Both go and no -go trials require sustained attention , and<br>overlap was observed for the right prefrontal/insular and<br>parietal regions where users showed greater BOLD response<br>than controls for both conditions .\", \"Adolescents with later onsets ( age , 16-18 ) and briefer<br>durations ( 1-2 years ) of regular marijuana use showed the<br>greatest divergence from normal controls in BOLD response to<br>the inhibition trials .\", \"Similarly , Chang et al . ( 2006 ) reported that adults who<br>started marijuana use in late adolescence had more frontal<br>activation during a visual attention task than adults who<br>started in early adolescence .\", \"Although our data do not address the molecular mechanism of<br>this difference , we can speculate about the nature of this<br>finding .\", \"For example , increased prefrontal activation during an<br>inhibitory task in adolescent users with a more recent onset<br>may reflect a stage of neural and behavioral compensation .\", \"This compensatory response may occur within the first few<br>years of regular adolescent marijuana use and may later be<br>followed by neuroadaptation or other processes , possibly<br>related to downregulation of cannabinoid ( CB1 ) receptors .\", \"Therefore , an inverted U -shaped response pattern may<br>emerge over time , which eventually results in brain<br>activation patterns that are indistinguishable from non<br>-users ( suggested in Fig . 2 ) . BOLD response is<br>influenced by cerebral blood flow , often abnormal in<br>marijuana users acutely and subacutely .\", \"Up to 36 h since last use , THC intake is associated with<br>increased cerebral blood flow ( Mathew et al . 2002 ) and<br>volume ( Sneider et al . 2006 ) in frontal , insular ,<br>anterior cingulate , cerebellum , temporal , and paralimbic<br>regions ; reductions in auditory and visual cortex ,<br>parietal lobe , and thalamus ; and no change in nucleus<br>accumbens , basal ganglia , or the hippocampus ( O 'Leary et<br>al . 2002 ) .\", \"Although increases in blood flow velocity and<br>cerebrovascular resistance dissipate from 3 to 28 days of<br>abstinence in adults with marijuana use levels consistent<br>with this sample ( i.e . , 15.9 days per month ) , very<br>heavy users remained abnormally elevated ( Herning et al .<br>2005 ) .\", \"Thus , increased BOLD response in adolescent marijuana users<br>could reflect residual cerebrovasculature abnormalities ,<br>although increased blood flow or volume would likely yield<br>lower BOLD response ( Brown et al . 2003 ) , not greater ,<br>as seen here .\", \"This study had several limitations .\", \"While groups were equivalent on many demographic variables ,<br>intelligence , Fig . 2 Marijuana using adolescents ( n=16 )<br>show more BOLD response ( y -axis displays fit coefficients<br>) during inhibition trials relative to baseline than control<br>adolescents ( n=17 ) in right dorsolateral prefrontal cortex<br>, largely accounted for by users with 1 to 3 years of<br>regular ( weekly ) marijuana use and task performance ,<br>marijuana users had greater alcohol and other substance<br>histories and a trend for more depressed symptomatology .\", \"Although activation patterns remained after controlling for<br>these factors , substance and affective differences pose the<br>possibility of synergistic effects , and we have previously<br>found adolescent heavy drinking to be related to abnormal<br>activation patterns on a spatial working memory task\", \"( Caldwell et al . 2005 ;\", \"Schweinsburg et al .\", \"2005b ;\", \"Tapert et al . 2001 Tapert et al . , 2004 .\", \"Reduced educational engagement or altered sleep quality<br>related to marijuana use might account for the differences .\", \"Critically , the current data cannot ascertain if marijuana<br>use during adolescence produces the observed differences or<br>if abnormalities existed before the onset of regular use .\", \"Groups did not differ on proportion with a family history of<br>substance use disorder , and youths with psychiatric<br>diagnosis ( e.g . , conduct disorder , attention<br>-deficit/hyperactivity disorder ) were excluded from the<br>study .\", \"Groups were similar with regard to most personality and<br>psychopathological syndrome dimensions but did differ on<br>openness to new experiences and parent report of delinquent<br>behaviors , which also may predate or result from adolescent<br>marijuana use , but did not account for group differences in<br>brain response .\", \"On the other hand , the adolescents who diverged most from<br>normal controls may simply differ on unmeasured risk factors<br>related to the initiation and escalation of substance use .\", \"Altered inhibitory processing may make adolescents<br>vulnerable to substance use initiation and escalation .\", \"The indication of extra neural effort required to inhibit<br>responses has important implications for adolescent<br>development and future substance involvement .\", \"Demands for inhibitory control increases substantially over<br>the course of late adolescence , particularly in school and<br>work environments as well as social and intimate<br>relationships .\", \"Consequently , youth required to exert extra neurocognitive<br>effort may be disadvantaged or become less successful in<br>maneuvering the normal transitions of adolescence and young<br>adulthood .\", \"Additionally , it may be harder for these youth to inhibit<br>the use of substances , particularly in situations where<br>cognitive demands are strained due to conflicting goals ,<br>distractions , peers , substance -relevant cues , or low<br>mood states .\"], \"type\": \"bar\", \"x\": [0, 1, 2, 3, 4, 5, 6, 7, 8, 9, 10, 11, 12, 13, 14, 15, 16, 17, 18, 19, 20, 21, 22, 23, 24, 25, 26, 27, 28, 29, 30, 31, 32, 33, 34, 35, 36, 37, 38, 39, 40, 41, 42, 43, 44, 45, 46, 47, 48, 49, 50, 51, 52, 53, 54, 55, 56, 57, 58, 59, 60, 61, 62, 63, 64, 65, 66, 67, 68, 69, 70, 71, 72, 73, 74, 75, 76, 77, 78, 79, 80, 81, 82, 83, 84, 85, 86, 87, 88, 89, 90, 91, 92, 93, 94, 95, 96, 97, 98, 99, 100, 101, 102, 103, 104, 105, 106, 107, 108, 109, 110, 111, 112, 113, 114, 115, 116, 117, 118, 119, 120, 121, 122, 123, 124, 125, 126, 127, 128, 129, 130, 131, 132, 133, 134, 135, 136, 137, 138, 139, 140, 141, 142, 143, 144, 145, 146, 147, 148, 149, 150, 151, 152, 153, 154, 155], \"y\": [0.7155648872646532, 0.6326604499841794, 0.8140491491248727, 0.8201035088735731, 0.5415290868255416, 0.6930447709428301, 0.5661776037612356, 0.7263862223937875, 0.8067645962269735, 0.712257809270673, 0.7216693438656092, 0.37737854406384935, 0.7670420531963416, 0.59640116906869, 0.629684584311929, 0.7625927651528339, 0.5319295341091532, 0.616008587898156, 0.7530777816079872, 0.7232727671850453, 0.6453563005514831, 0.7276994390261332, 0.7099185952084868, 0.6500181488253418, 0.6012775299283645, 0.5801628239077535, 0.8032362596094323, 0.7288917874546954, 0.8075908517358193, 0.7747836176523666, 0.5628336368327143, 0.5657449721321828, 0.690294957110486, 0.5679456143719764, 0.5366651664589935, 0.7832278079119298, 0.6360384465559559, 0.5380683281942694, 0.6496319447350639, 0.685554238660573, 0.6379196339055101, 0.6803782299626644, 0.6348888021977397, 0.7371759111409567, 0.6270524422646659, 0.3143065940520806, 0.625722742520683, 0.7316149221828867, 0.5192923975465512, 0.3414852506536781, 0.5424028974051376, 0.6852684838678959, 0.3459623929064421, 0.5105530355784234, 0.6979383195544222, 0.8416773661059752, 0.4418325864537661, 0.32584357948032394, 0.6465615792996469, 0.4756762055983044, 0.6740841259987066, 0.47004692231120837, 0.692442669230186, 0.6947283090167953, 0.46611319234467663, 0.3546809700793046, 0.507139558572559, 0.6339518351953956, 0.4615327590691068, 0.6349336635138986, 0.541387195074512, 0.6479889834381594, 0.4765131390623641, 0.6527038988151207, 0.5740102305261385, 0.2434036071540279, 0.591649816120978, 0.6617183522070471, 0.7379325172854264, 0.63621369857421, 0.7579052616535115, 0.7590441409445905, 0.5308101857627061, 0.6490126718543475, 0.6299798682533564, 0.6726850726335751, 0.66623804659712, 0.7814902056989265, 0.7167148815068131, 0.4568841069163312, 0.4548168391444585, 0.6887687736452612, 0.5356423040056898, 0.6259432909797693, 0.5378898128043503, 0.3975912692421337, 0.647098650888627, 0.6950719665246494, 0.7936844656625626, 0.5453334924915548, 0.4935862962911954, 0.4857454809072628, 0.7162792601594212, 0.19420144761690053, 0.250677331305808, 0.5595018002800273, 0.7063764690252065, 0.7329211456207771, 0.8127703526049873, 0.5454608573789083, 0.5212084772444956, 0.2886888264822158, 0.7991216546984278, 0.5278294200833958, 0.7142871941756218, 0.1910679175449226, 0.7018770689338957, 0.750188442008771, 0.7097115716471201, 0.8243668211838708, 0.8593623513354609, 0.6606788066941783, 0.736192353178312, 0.49868698912179776, 0.8140372007770873, 0.6156469862613283, 0.7309248780963651, 0.7693847536692878, 0.7986511245204133, 0.6999204499334093, 0.7523299079269238, 0.7155072520791718, 0.6163375914449626, 0.672298226729093, 0.766120016541851, 0.7979612433686547, 0.6437815116879392, 0.760972258447266, 0.8192888913521974, 0.5624969068637562, 0.8126164425671023, 0.651194675053897, 0.2497866117770071, 0.07402955459807861, 0.10395323881268831, 0.17805414899281674, 0.6106842403640098, 0.646858565209331, 0.6938734520663687, 0.7570193793710679, 0.716852062930065, 0.4532416406889677, 0.5546442954973642, 0.6662042900832832, 0.5887321998830377, 0.7166389961998153]}],\n",
       "                        {\"hoverlabel\": {\"bgcolor\": \"white\", \"font\": {\"family\": \"Rockwell\", \"size\": 13}}, \"template\": {\"data\": {\"bar\": [{\"error_x\": {\"color\": \"#2a3f5f\"}, \"error_y\": {\"color\": \"#2a3f5f\"}, \"marker\": {\"line\": {\"color\": \"#E5ECF6\", \"width\": 0.5}}, \"type\": \"bar\"}], \"barpolar\": [{\"marker\": {\"line\": {\"color\": \"#E5ECF6\", \"width\": 0.5}}, \"type\": \"barpolar\"}], \"carpet\": [{\"aaxis\": {\"endlinecolor\": \"#2a3f5f\", \"gridcolor\": \"white\", \"linecolor\": \"white\", \"minorgridcolor\": \"white\", \"startlinecolor\": \"#2a3f5f\"}, \"baxis\": {\"endlinecolor\": \"#2a3f5f\", \"gridcolor\": \"white\", \"linecolor\": \"white\", \"minorgridcolor\": \"white\", \"startlinecolor\": \"#2a3f5f\"}, \"type\": \"carpet\"}], \"choropleth\": [{\"colorbar\": {\"outlinewidth\": 0, \"ticks\": \"\"}, \"type\": \"choropleth\"}], \"contour\": [{\"colorbar\": {\"outlinewidth\": 0, \"ticks\": \"\"}, \"colorscale\": [[0.0, \"#0d0887\"], [0.1111111111111111, \"#46039f\"], [0.2222222222222222, \"#7201a8\"], [0.3333333333333333, \"#9c179e\"], [0.4444444444444444, \"#bd3786\"], [0.5555555555555556, \"#d8576b\"], [0.6666666666666666, \"#ed7953\"], [0.7777777777777778, \"#fb9f3a\"], [0.8888888888888888, \"#fdca26\"], [1.0, \"#f0f921\"]], \"type\": \"contour\"}], \"contourcarpet\": [{\"colorbar\": {\"outlinewidth\": 0, \"ticks\": \"\"}, \"type\": \"contourcarpet\"}], \"heatmap\": [{\"colorbar\": {\"outlinewidth\": 0, \"ticks\": \"\"}, \"colorscale\": [[0.0, \"#0d0887\"], [0.1111111111111111, \"#46039f\"], [0.2222222222222222, \"#7201a8\"], [0.3333333333333333, \"#9c179e\"], [0.4444444444444444, \"#bd3786\"], [0.5555555555555556, \"#d8576b\"], [0.6666666666666666, \"#ed7953\"], [0.7777777777777778, \"#fb9f3a\"], [0.8888888888888888, \"#fdca26\"], [1.0, \"#f0f921\"]], \"type\": \"heatmap\"}], \"heatmapgl\": [{\"colorbar\": {\"outlinewidth\": 0, \"ticks\": \"\"}, \"colorscale\": [[0.0, \"#0d0887\"], [0.1111111111111111, \"#46039f\"], [0.2222222222222222, \"#7201a8\"], [0.3333333333333333, \"#9c179e\"], [0.4444444444444444, \"#bd3786\"], [0.5555555555555556, \"#d8576b\"], [0.6666666666666666, \"#ed7953\"], [0.7777777777777778, \"#fb9f3a\"], [0.8888888888888888, \"#fdca26\"], [1.0, \"#f0f921\"]], \"type\": \"heatmapgl\"}], \"histogram\": [{\"marker\": {\"colorbar\": {\"outlinewidth\": 0, \"ticks\": \"\"}}, \"type\": \"histogram\"}], \"histogram2d\": [{\"colorbar\": {\"outlinewidth\": 0, \"ticks\": \"\"}, \"colorscale\": [[0.0, \"#0d0887\"], [0.1111111111111111, \"#46039f\"], [0.2222222222222222, \"#7201a8\"], [0.3333333333333333, \"#9c179e\"], [0.4444444444444444, \"#bd3786\"], [0.5555555555555556, \"#d8576b\"], [0.6666666666666666, \"#ed7953\"], [0.7777777777777778, \"#fb9f3a\"], [0.8888888888888888, \"#fdca26\"], [1.0, \"#f0f921\"]], \"type\": \"histogram2d\"}], \"histogram2dcontour\": [{\"colorbar\": {\"outlinewidth\": 0, \"ticks\": \"\"}, \"colorscale\": [[0.0, \"#0d0887\"], [0.1111111111111111, \"#46039f\"], [0.2222222222222222, \"#7201a8\"], [0.3333333333333333, \"#9c179e\"], [0.4444444444444444, \"#bd3786\"], [0.5555555555555556, \"#d8576b\"], [0.6666666666666666, \"#ed7953\"], [0.7777777777777778, \"#fb9f3a\"], [0.8888888888888888, \"#fdca26\"], [1.0, \"#f0f921\"]], \"type\": \"histogram2dcontour\"}], \"mesh3d\": [{\"colorbar\": {\"outlinewidth\": 0, \"ticks\": \"\"}, \"type\": \"mesh3d\"}], \"parcoords\": [{\"line\": {\"colorbar\": {\"outlinewidth\": 0, \"ticks\": \"\"}}, \"type\": \"parcoords\"}], \"pie\": [{\"automargin\": true, \"type\": \"pie\"}], \"scatter\": [{\"marker\": {\"colorbar\": {\"outlinewidth\": 0, \"ticks\": \"\"}}, \"type\": \"scatter\"}], \"scatter3d\": [{\"line\": {\"colorbar\": {\"outlinewidth\": 0, \"ticks\": \"\"}}, \"marker\": {\"colorbar\": {\"outlinewidth\": 0, \"ticks\": \"\"}}, \"type\": \"scatter3d\"}], \"scattercarpet\": [{\"marker\": {\"colorbar\": {\"outlinewidth\": 0, \"ticks\": \"\"}}, \"type\": \"scattercarpet\"}], \"scattergeo\": [{\"marker\": {\"colorbar\": {\"outlinewidth\": 0, \"ticks\": \"\"}}, \"type\": \"scattergeo\"}], \"scattergl\": [{\"marker\": {\"colorbar\": {\"outlinewidth\": 0, \"ticks\": \"\"}}, \"type\": \"scattergl\"}], \"scattermapbox\": [{\"marker\": {\"colorbar\": {\"outlinewidth\": 0, \"ticks\": \"\"}}, \"type\": \"scattermapbox\"}], \"scatterpolar\": [{\"marker\": {\"colorbar\": {\"outlinewidth\": 0, \"ticks\": \"\"}}, \"type\": \"scatterpolar\"}], \"scatterpolargl\": [{\"marker\": {\"colorbar\": {\"outlinewidth\": 0, \"ticks\": \"\"}}, \"type\": \"scatterpolargl\"}], \"scatterternary\": [{\"marker\": {\"colorbar\": {\"outlinewidth\": 0, \"ticks\": \"\"}}, \"type\": \"scatterternary\"}], \"surface\": [{\"colorbar\": {\"outlinewidth\": 0, \"ticks\": \"\"}, \"colorscale\": [[0.0, \"#0d0887\"], [0.1111111111111111, \"#46039f\"], [0.2222222222222222, \"#7201a8\"], [0.3333333333333333, \"#9c179e\"], [0.4444444444444444, \"#bd3786\"], [0.5555555555555556, \"#d8576b\"], [0.6666666666666666, \"#ed7953\"], [0.7777777777777778, \"#fb9f3a\"], [0.8888888888888888, \"#fdca26\"], [1.0, \"#f0f921\"]], \"type\": \"surface\"}], \"table\": [{\"cells\": {\"fill\": {\"color\": \"#EBF0F8\"}, \"line\": {\"color\": \"white\"}}, \"header\": {\"fill\": {\"color\": \"#C8D4E3\"}, \"line\": {\"color\": \"white\"}}, \"type\": \"table\"}]}, \"layout\": {\"annotationdefaults\": {\"arrowcolor\": \"#2a3f5f\", \"arrowhead\": 0, \"arrowwidth\": 1}, \"coloraxis\": {\"colorbar\": {\"outlinewidth\": 0, \"ticks\": \"\"}}, \"colorscale\": {\"diverging\": [[0, \"#8e0152\"], [0.1, \"#c51b7d\"], [0.2, \"#de77ae\"], [0.3, \"#f1b6da\"], [0.4, \"#fde0ef\"], [0.5, \"#f7f7f7\"], [0.6, \"#e6f5d0\"], [0.7, \"#b8e186\"], [0.8, \"#7fbc41\"], [0.9, \"#4d9221\"], [1, \"#276419\"]], \"sequential\": [[0.0, \"#0d0887\"], [0.1111111111111111, \"#46039f\"], [0.2222222222222222, \"#7201a8\"], [0.3333333333333333, \"#9c179e\"], [0.4444444444444444, \"#bd3786\"], [0.5555555555555556, \"#d8576b\"], [0.6666666666666666, \"#ed7953\"], [0.7777777777777778, \"#fb9f3a\"], [0.8888888888888888, \"#fdca26\"], [1.0, \"#f0f921\"]], \"sequentialminus\": [[0.0, \"#0d0887\"], [0.1111111111111111, \"#46039f\"], [0.2222222222222222, \"#7201a8\"], [0.3333333333333333, \"#9c179e\"], [0.4444444444444444, \"#bd3786\"], [0.5555555555555556, \"#d8576b\"], [0.6666666666666666, \"#ed7953\"], [0.7777777777777778, \"#fb9f3a\"], [0.8888888888888888, \"#fdca26\"], [1.0, \"#f0f921\"]]}, \"colorway\": [\"#636efa\", \"#EF553B\", \"#00cc96\", \"#ab63fa\", \"#FFA15A\", \"#19d3f3\", \"#FF6692\", \"#B6E880\", \"#FF97FF\", \"#FECB52\"], \"font\": {\"color\": \"#2a3f5f\"}, \"geo\": {\"bgcolor\": \"white\", \"lakecolor\": \"white\", \"landcolor\": \"#E5ECF6\", \"showlakes\": true, \"showland\": true, \"subunitcolor\": \"white\"}, \"hoverlabel\": {\"align\": \"left\"}, \"hovermode\": \"closest\", \"mapbox\": {\"style\": \"light\"}, \"paper_bgcolor\": \"white\", \"plot_bgcolor\": \"#E5ECF6\", \"polar\": {\"angularaxis\": {\"gridcolor\": \"white\", \"linecolor\": \"white\", \"ticks\": \"\"}, \"bgcolor\": \"#E5ECF6\", \"radialaxis\": {\"gridcolor\": \"white\", \"linecolor\": \"white\", \"ticks\": \"\"}}, \"scene\": {\"xaxis\": {\"backgroundcolor\": \"#E5ECF6\", \"gridcolor\": \"white\", \"gridwidth\": 2, \"linecolor\": \"white\", \"showbackground\": true, \"ticks\": \"\", \"zerolinecolor\": \"white\"}, \"yaxis\": {\"backgroundcolor\": \"#E5ECF6\", \"gridcolor\": \"white\", \"gridwidth\": 2, \"linecolor\": \"white\", \"showbackground\": true, \"ticks\": \"\", \"zerolinecolor\": \"white\"}, \"zaxis\": {\"backgroundcolor\": \"#E5ECF6\", \"gridcolor\": \"white\", \"gridwidth\": 2, \"linecolor\": \"white\", \"showbackground\": true, \"ticks\": \"\", \"zerolinecolor\": \"white\"}}, \"shapedefaults\": {\"line\": {\"color\": \"#2a3f5f\"}}, \"ternary\": {\"aaxis\": {\"gridcolor\": \"white\", \"linecolor\": \"white\", \"ticks\": \"\"}, \"baxis\": {\"gridcolor\": \"white\", \"linecolor\": \"white\", \"ticks\": \"\"}, \"bgcolor\": \"#E5ECF6\", \"caxis\": {\"gridcolor\": \"white\", \"linecolor\": \"white\", \"ticks\": \"\"}}, \"title\": {\"x\": 0.05}, \"xaxis\": {\"automargin\": true, \"gridcolor\": \"white\", \"linecolor\": \"white\", \"ticks\": \"\", \"title\": {\"standoff\": 15}, \"zerolinecolor\": \"white\", \"zerolinewidth\": 2}, \"yaxis\": {\"automargin\": true, \"gridcolor\": \"white\", \"linecolor\": \"white\", \"ticks\": \"\", \"title\": {\"standoff\": 15}, \"zerolinecolor\": \"white\", \"zerolinewidth\": 2}}}},\n",
       "                        {\"responsive\": true}\n",
       "                    ).then(function(){\n",
       "                            \n",
       "var gd = document.getElementById('19151f89-c017-49d4-9e22-7c2573de2c5c');\n",
       "var x = new MutationObserver(function (mutations, observer) {{\n",
       "        var display = window.getComputedStyle(gd).display;\n",
       "        if (!display || display === 'none') {{\n",
       "            console.log([gd, 'removed!']);\n",
       "            Plotly.purge(gd);\n",
       "            observer.disconnect();\n",
       "        }}\n",
       "}});\n",
       "\n",
       "// Listen for the removal of the full notebook cells\n",
       "var notebookContainer = gd.closest('#notebook-container');\n",
       "if (notebookContainer) {{\n",
       "    x.observe(notebookContainer, {childList: true});\n",
       "}}\n",
       "\n",
       "// Listen for the clearing of the current output cell\n",
       "var outputEl = gd.closest('.output');\n",
       "if (outputEl) {{\n",
       "    x.observe(outputEl, {childList: true});\n",
       "}}\n",
       "\n",
       "                        })\n",
       "                };\n",
       "                });\n",
       "            </script>\n",
       "        </div>"
      ]
     },
     "metadata": {},
     "output_type": "display_data"
    },
    {
     "data": {
      "application/vnd.plotly.v1+json": {
       "config": {
        "plotlyServerURL": "https://plot.ly"
       },
       "data": [
        {
         "hovertext": [
          "Many individuals first experiment with alcohol and drugs<br>during adolescence ( SAMHSA 2003 ) , and marijuana is the<br>most commonly used illicit substance among teenagers (<br>Johnston et al . 2005 ) .",
          "Nearly half of 12th graders have tried marijuana , and 6 %<br>disclose daily use ( Johnston et al . 2005 ) .",
          "Adolescence is also a period of continued neurodevelopment ,<br>including frontal lobe myelination and synaptic pruning that<br>subserve improved executive functioning ( Gogtay et al .<br>2004 ; Sowell et al . 2002 ) , including abilities such as<br>decision making , inhibitory processing , and impulse<br>control .",
          "The influence of marijuana use on these maturational<br>processes is unknown , although executive dysfunction may<br>affect the development and maintenance of substance use and<br>problems during adolescence ( Tapert et al . 2002a ) .",
          "Adults with heavy marijuana use histories have demonstrated<br>abnormalities in executive functioning ( Fletcher et al .<br>1996 ; Pope and Yurgelun Todd 1996 ; Solowij et al . 2002 )<br>and indices of frontal lobe operation ( Block et al . 2000 ;<br>Kanayama et al . 2004 ; Lundqvist et al . 2001 ; Solowij et<br>al . 1991 Solowij et al . , 1995 Struve et al . 1998 ) .",
          "To determine if cognitive deficits in marijuana users are<br>transient or persistent , Pope et al . ( 2001 ) tested 63<br>current marijuana users ( > 5,000 lifetime uses ) , 45<br>former users ( > 5,000 lifetime uses ) , and 72 normal<br>controls ( 1-50 lifetime uses ) , all ages 30-55 .",
          "Participants were abstinent for 28 days , verified by urine<br>drug screens and given neuropsychological tests on days 0 ,<br>1 , 7 , and 28 of abstinence .",
          "Current users showed some deficits relative to controls on<br>days 0 , 1 , and 7 , but groups did not differ on any test<br>by day 28 .",
          "In contrast , a study ( Bolla et al . 2002 ) that<br>hospitalized 22 marijuana -using adults ( > 2 years of<br>marijuana use ) for 28 days to assure abstinence found<br>greater marijuana intake linked to poorer performance on<br>tests of inhibition , problem solving , learning , and<br>reaction time .",
          "Disinhibition , i.e . , the impaired ability to inhibit a<br>potentially inappropriate response , is a common feature of<br>substance misuse ( Chen et al . 2007 ; Kamarajan et al .<br>2006 ; Kirisci et al . 2006 ; Verdejo -Garcia et al . 2006 )<br>.",
          "Neuroimaging studies have reported both prefrontal and<br>posterior parietal cortical involvement during inhibitory<br>processing in healthy volunteers ( Liu et al . 2004 ) ,<br>which may be overactive in populations with impulse control<br>problems ( Schulz et al . 2004 ) .",
          "Few studies have examined inhibitory processing in marijuana<br>users .",
          "Functional magnetic resonance imaging ( f MRI )<br>characterized the neural correlates of inhibition during a<br>Stroop task , in which heavy marijuana -using adults and non<br>-users were asked to inhibit the automatic process of<br>reading words and , instead , name the colors of words<br>printed in incongruent ink ( Gruber and Yurgelun Todd 2005 )<br>.",
          "Marijuana users not only showed greater midcingulate and<br>reduced anterior cingulate blood oxygen level dependent (<br>BOLD ) response but also more widespread bilateral<br>dorsolateral prefrontal activation during inhibition<br>relative to color naming trials .",
          "The investigators speculated that the altered activation<br>pattern in marijuana users reflects compensation and use of<br>alternate strategies .",
          "The same investigators had shown in a previous f MRI study<br>using a working memory task before and after a 28 -day<br>abstinence period ( Yurgelun -Todd et al . 1998 ) that adult<br>users demonstrated less prefrontal and more anterior<br>cingulate response than controls after just 24 h of non -use<br>.",
          "Although users showed some normalization of prefrontal<br>functioning after 28 days of abstinence , they still showed<br>anterior cingulate dysfunction , which is supportive of<br>persisting neural processing abnormalities .",
          "These results support the hypothesis that adult marijuana<br>users show abnormal neural inhibitory processing ,<br>compensatory hyper -activity , and altered neural processing<br>differences in the absence of the intoxicating agent .",
          "Few studies have examined neurocognitive effects of<br>marijuana use among adolescents , but some reports<br>identified decrements in attention ( Tapert et al . 2002b )<br>, and learning and memory ( Millsaps et al . 1994 ; Schwartz<br>et al . 1989 ) associated with early marijuana use .",
          "We previously demonstrated increased dorsolateral prefrontal<br>and decreased inferior frontal f MRI response during a<br>spatial working memory task among teens with comorbid<br>alcohol and marijuana use disorders compared to those with<br>alcohol use disorders alone and to non -using controls ,<br>suggesting a marijuana use -related increase in dorsolateral<br>prefrontal effort ( Schweinsburg et al . 2005b ) .",
          "However , most studies of adolescent marijuana users were<br>conducted after several days of abstinence , so effects<br>could be transitory .",
          "Jacobsen et al . ( 2004 ) addressed this concern by<br>evaluating seven adolescent marijuana users , seven<br>demographically similar tobacco smokers , and seven non<br>-users with a working memory task during f MRI acquisition<br>after about a month of abstinence .",
          "Marijuana users were less accurate on the task and showed<br>increased BOLD response in the right hippocampus relative to<br>other groups .",
          "The authors suggested that marijuana users might have failed<br>to inhibit hippocampal activity during the task , perhaps<br>due to cannabis -induced changes in inhibitory<br>neurotransmission or apoptosis in the hippocampus .",
          "These researchers then compared 15 adolescents with and 18<br>without histories of cannabis use during nicotine withdrawal<br>.",
          "Cannabis users , but not non -users , showed nicotine<br>withdrawal -precipitated increases in parietal activation<br>and disruptions in frontoparietal connectivity during a<br>verbal working memory task",
          "( Jacobsen et al . 2007 ). Collectively , existing data<br>indicate some executive impairment and neural dysfunction<br>associated with adolescent marijuana use , although the<br>neural substrates specific to inhibitory processing have not<br>yet been examined in teenage marijuana users .",
          "In the current study , we performed BOLD f MRI during a<br>go/no -go task to characterize response inhibition among<br>adolescent marijuana users and non -using controls .",
          "Because studies of marijuana -using adults have suggested<br>improvements in cognitive and neural functioning after 28<br>days of abstinence ( Pope et al . 2001 ) , we required<br>participants to complete 28 days of monitored abstinence<br>before scanning to ensure that any group differences were<br>not due to recent use .",
          "The go/no -go task ( Anderson et al . 2005 ; Schweinsburg et<br>al . 2004b ) was designed to assess inhibitory processing by<br>asking participants to withhold a response to an<br>infrequently occurring stimulus .",
          "Previous studies have observed activation in dorsolateral<br>prefrontal , inferior frontal , anterior cingulate , and<br>posterior parietal regions among adolescents using this task<br>( Anderson et al . 2005 ; Schweinsburg et al . 2004a ) and<br>similar inhibition paradigms ( Adleman et al . 2002 ; Luna<br>et al . 2001 ; Tamm et al . 2002 ) .",
          "Participants were 16 -to 18 -year -olds enrolled in an<br>ongoing study of adolescents recruited from local high<br>schools and colleges ( Medina et al . 2007a , b ; Nagel et<br>al . 2006 ; Schweinsburg et al . 2005a ) .",
          "Sixteen adolescents were marijuana users ( MJ ) with at<br>least 60 lifetime episodes of cannabis use and limited<br>histories of other drug use , and 17 adolescents were<br>demographically similar non -using controls ( see Table 1<br>for demographic characteristics ) with less than five<br>lifetime episodes of cannabis use .",
          "Written assent and consent were obtained from adolescents<br>and their parent/legal guardians in accordance with the<br>University of California San Diego Human Research<br>Protections Program .",
          "Eligibility was ascertained through separate , private<br>telephone screening interviews with the youth and the parent<br>.",
          "Exclusionary criteria included left handedness ; history of<br>head injury with loss of consciousness > 2 min , learning<br>disabilities , medical or neurological problem , DSM -IV (<br>APA 1994 ) Axis I psychiatric disorder ( i.e . , mood ,<br>anxiety , psychotic , attention , and conduct disorders ) as<br>assessed by the computerized NIMH Diagnostic Interview<br>Schedule for Children Predictive Scales ( DISC -PS -4.32b ;<br>Lucas et al . 2001 ; Shaffer et al . 2000 ) Youth and Parent<br>versions , and use of any psychotropic medication ;<br>significant maternal drinking ( more that two drinks on an<br>occasion or more than four drinks in a week ) or other drug<br>use during pregnancy ; family history of bipolar I or<br>psychotic disorders determined by the Family History<br>Assessment Module ( Rice et al . 1995 ) ; and MRI<br>contraindications . MJ youth disclosed using marijuana an<br>average of ∼ 500 times in their lives",
          "( see Table 1 ), and three control youth had experience with<br>marijuana ( less than five times ) .",
          "MJ youth used marijuana every other day on average , before<br>being asked to remain abstinent for the 28 days before<br>scanning .",
          "Most MJ youth were current users , as all but three used in<br>the month before monitored abstinence .",
          "Substance use assessment Substance involvement was<br>ascertained using the Customary Drinking and Drug Use Record<br>( Brown et al . 1998 ) , an interview that obtains<br>information on lifetime and past 3 -month use of marijuana ,<br>alcohol , nicotine , other illicit drugs , and misuse of<br>prescription and over -the -counter medications , and<br>negative consequences associated with substance use .",
          "Strong internal consistency , test -retest , and inter<br>-rater reliability have been demonstrated with adolescents (<br>Brown et al . 1998 ; Stewart and Brown 1995 ) .",
          "The Fagerstrom Test for Nicotine Dependence ( FTND ;<br>Heatherton et al . 1991 ) indicated that no participant was<br>dependent on nicotine .",
          "The Timeline Followback ( Sobell and Sobell 1992 ) collected<br>details on substance use patterns for the month before and<br>during the 28 -day abstinence period .",
          "Continuous indices of level of internalizing and<br>externalizing psychopathological syndromes were assessed by<br>the 113 -item Child Behavior Checklist ( CBCL ; Achenbach<br>and Rescorla 2001 ) , administered to parents ( typically<br>biological mothers ) covering youth behaviors in the past 6<br>months .",
          "Eight -factor T scores ( rulebreaking behavior , aggressive<br>behavior , withdrawn/depressed , anxious/depressed , somatic<br>complaints , attention problems , social problems , and<br>thought problems ) and summary T scores ( externalizing ,<br>internalizing ) are provided .",
          "Personality Disinhibition and substance use may relate to<br>personality traits .",
          "Thus , all participants completed the NEO Five -Factor<br>Inventory ( NEO -FFI ; Costa and Mc Crae 1992 ) , a 60 -item<br>self -report personality questionnaire that assesses five<br>domains of personality : neuroticism , extraversion ,<br>openness , agreeableness , and conscientiousness .",
          "This factor structure has been replicated in adolescent<br>samples ( Fruyt et al . 2000 ) .",
          "Go/no -go task Participants performed a go/no -go task<br>during f MRI scanning ( Anderson et al . 2005 ; Schweinsburg<br>et al . 2004b ) .",
          "The task alternated between active blocks and resting blocks<br>.",
          "During resting blocks , participants viewed a \"+\" in the<br>center of the screen .",
          "During active blocks , a large square , small square , large<br>circle , and small circle were presented one at a time for<br>200 ms every 1,500 ms . Participants were instructed to<br>press a button as fast as possible every time they saw a<br>shape ( go stimuli ) except for the small square ( no -go<br>stimulus ) , thus requiring response inhibition .",
          "The task lasted 6 min and 24 s .",
          "Participants additionally performed the entire task before<br>scanning to ensure adequate comprehension of instructions<br>and to resolve potential practice effects",
          "To confirm that participants did not use substances in the 4<br>weeks before scanning , all participants ( controls and<br>marijuana users ) provided at least nine urine toxicology<br>screens ( two to three times per week ) during these 28 days<br>.",
          "Urine toxicology procedures can reliably detect evidence of<br>marijuana use 4 to 25 days after last use ( Fraser et al .<br>2002 ; Huestis and Cone 1998 ) , sometimes longer ( Lafolie<br>et al . 1991 ) , depending on pattern of use , body lipid<br>content , and metabolic features .",
          "Each urine sample was evaluated for metabolites indicating<br>recent use of cannabis , amphetamines , methamphetamines ,<br>barbiturates , benzodiazepines , cocaine , codeine ,<br>morphine , phencyclidine , and ethanol using cloned enzyme<br>donor immunoassay ( CEDIA DAU , Microgenics , Fremont , CA ,<br>USA ) .",
          "Observed urine sample collection procedures reduced the<br>possibility of participant tampering .",
          "Tetrahydrocannabinol ( THC ) values were monitored over the<br>28 -day period to ensure that levels decreased .",
          "Initial samples testing positive for THC metabolites were<br>assumed to reflect residual use if values decreased with<br>each subsequent sample collected .",
          "If levels increased or a positive screen was obtained after<br>a negative screen , the participant was given the option to<br>restart the 28 -day screening process or be dropped from the<br>study .",
          "Breathalyzers ( Alco Sensor IV , Intoximeter , St . Louis ,<br>MO , USA ) were conducted at each visit .",
          "To confirm urine results , a hair sample collected on the<br>scan day was analyzed for THC and other drug metabolites<br>suggestive of past month use ( Psychemedics , Culver City ,<br>CA , USA ) .",
          "Seven users , not described in this paper , were unable to<br>complete the 28 -day abstinence protocol .",
          "In preparation for scanning , each participant lay on the<br>scanner bed .",
          "Foam pads were arranged around the head to minimize motion .",
          "A mirror above the participant 's eyes enabled viewing of a<br>screen at the foot of the scanner bed , on which the task<br>was rear -projected from a laptop .",
          "Behavioral responses during the task were collected through<br>a fiber -optic button box ( Lumi Touch , Vancouver , BC ,<br>Canada ) .",
          "Imaging data were acquired on a 1.5 Tesla Signa LX ( General<br>Electric , Madison , WI , USA ) system .",
          "A structural image was collected in the sagittal plane using<br>an inversion recovery prepared T1 -weighted 3D spiral fast<br>spin echo sequence ( repetition time 2,000 ms , echo time 16<br>ms , field of view 240 mm , 128 continuous slices ,<br>resolution 0.9375×0.9375 × 1.328 mm , acquisition time 8:36<br>; Wong et al . 2000 ) .",
          "Data were processed and analyzed using Analysis of<br>Functional Neuro Images ( AFNI ; http://www.afni.nimh.nih .<br>gov ; Cox 1996 ) .",
          "First , an automated motion correction algorithm was applied<br>to the time series datasets ( Cox and Jesmanowicz 1999 ) .",
          "Two raters examined the time series data and removed<br>repetitions containing residual visible head motions .",
          "If > 18 % of repetitions were removed , the participant was<br>not included ( n=3 not described in this paper ) .",
          "Groups did not differ in the number of repetitions removed (<br>p=0.87 ) or absolute mean rotational or translational<br>adjustments applied .",
          "Average rotational ( roll , pitch , and yaw ) and<br>translational ( superior , left , and posterior ) movement ,<br>respectively , was 0.04 , 0.11 , and 0.05°and 0.07 , 0.04 ,<br>and 0.04 mm for MJ users , and 0.06 , 0.12 , 0.06°and 0.10 ,<br>0.04 , and 0.06 mm for controls .",
          "No significant differences between groups were found for<br>task -correlated motion",
          "( rs for the correlation between the task reference function<br>and each motion parameter were − 0.08 , − 0.10 , − 0.02 , −<br>0.11 , − 0.07 , and − 0.07 for MJ users and − 0.04 , − 0.06<br>, − 0.04 , − 0.10 , − 0.08 , and − 0.06 for controls ) .Next<br>, time series datasets were deconvolved with a reference<br>function representing the timing of go , no -go , and rest<br>stimuli presentation over the course of the task ( Ward 2002<br>) while accounting for hemodynamic delays ( Bandettini et al<br>. 1993 ; Boynton et al . 1996 ) and covarying for motion<br>adjustments applied and linear trends .",
          "This yielded fit coefficients representing the BOLD response<br>for ( 1 ) inhibition ( no -go ) trials relative to baseline<br>and ( 2 ) go trials relative to baseline in each voxel of<br>the brain for each subject .",
          "Data were transformed to standard space ( Lancaster et al .<br>2000 ; Talairach and Tournoux 1988 ) , resampled into<br>isotropic 3.5 -mm voxels , and spatially smoothed with a<br>Gaussian filter ( 3.5 mm full width half maximum ) to<br>account for anatomic variability between subjects .",
          "We determined regions of significant BOLD response<br>differences between MJ and control adolescents using<br>independent samples t tests in each voxel of the brain ,<br>performed separately on the BOLD response contrast for no<br>-go and for go trials .",
          "To control for type I error , we used a combination of t<br>statistic magnitude and cluster volume thresholding ( Forman<br>et al . 1995 ; Ward 1997 ) by only interpreting clusters<br>comprised of at least 22 contiguously activated voxels at<br>a<.05 ( ≥ 943 μl in volume ) .",
          "Anatomic localization was confirmed using the Talairach<br>Daemon ( Lancaster et al . 2000 ; Ward 1997 ) and AFNI (<br>Ward 1997 ) .",
          "Normality of distribution was evaluated for key variables (<br>Tabachnick and Fidell 2007 ) .",
          "No outliers or non -normal distributions were found for BOLD<br>response contrast in clusters showing group differences .",
          "However , five variables ( marijuana hits per month ,<br>lifetime other drug use , cigarettes smoked per month , FTND<br>total , and BDI total ) were positively skewed and kurtotic<br>, so were inverse transformed [ i.e . , 1/ ( 1 + the skewed<br>variable ) ; Tabachnick and Fidell 2007 ] .",
          "Group comparison results were further examined in analyses<br>of covariance ( ANCOVAs ) that controlled for potential<br>confound variables that differed between groups .",
          "Follow -up regression analyses were conducted among the MJ<br>users ( n=16 ) to examine BOLD response contrast to no -go<br>trials , averaged across the cluster , in the regions that<br>continued to differentiate users from controls in the above<br>ANCOVAs .",
          "BOLD response contrast to no -go trials was the dependent<br>variable , and variables indexing marijuana use , other<br>substance use , and risk factors for substance involvement<br>were the predictors .",
          "Groups did not differ significantly on mood state measures",
          "( see Table 1 ), but MJ users showed a trend for higher BDI<br>scores ( p=0.08 ) .",
          "Groups were similar and in the normal range on all CBCL<br>factor T scores , except that the MJ group was higher on<br>Rule -Breaking Behavior ( 53.00±8.23 MJ , 45.21±5.19<br>controls , p<0.005 ) .",
          "On the NEO -FFI , MJ youth demonstrated greater scores on<br>Openness ( 44.25 ± 3.11 MJ , 41.18±4.88 controls , p<0.05 )<br>but were statistically equivalent on other personality<br>scores .",
          "MJ youth committed more errors than controls on several<br>cognitive tests : more sequencing errors across all DKEFS<br>Trails conditions ( p<0.01 ) , more intrusion errors on a<br>word list learning task ( p<0.05 ) , and more repetition<br>errors on DKEFS Verbal Fluency ( p<0.05 ) .Task performance<br>data were available for 15 MJ and 15 control adolescents .",
          "No group differences or group by condition interactions were<br>found .",
          "As expected , participants responded more accurately (<br>p<.001 ) to go trials ( 98.97 ± 1.88 % MJ , 98.70±1.62 %<br>controls ) than no -go trials ( 82.92 ± 9.57 % MJ ,<br>81.64±10.73 % controls ) .",
          "Groups were equivalent on reaction time to go trials (<br>588.11±40.44 MJ , 606.13 ± 74.35 controls , p=.38 ) .",
          "D ′ , a signal detection index that considers the<br>probability of correct and incorrect responses ( i.e . , the<br>ability to separate go stimuli from the no -go stimulus ) ,<br>was also similar between groups ( 3.30±0.49 MJ , 3.04±0.84<br>controls , p=0.54 ) .",
          "Exit interview data showed that groups were equivalent on<br>task effort , motivation , and perceived errors , but MJ<br>users indicated use of more perceptual strategies ( e.g . ,<br>\" look for the small square to show up \" ) , while controls<br>tended to endorse cognitive strategies ( \" remember to hold<br>off when I see that shape \" or \" concentrate\" ) .f MRI<br>response Whole brain analyses showed that during inhibitory<br>trials relative to baseline , control adolescents showed<br>significantly increased activation in superior medial<br>frontal cortex and the left parahippocampal gyrus , and<br>decreased activation in bilateral posterior parietal and<br>inferior frontal regions .",
          "MJ users also showed increased inhibition -related<br>activation in superior frontal areas , as well as in<br>additional regions compared to controls , including numerous<br>left and medial prefrontal clusters , left posterior<br>parietal cortex , and multiple bilateral cerebellar regions<br>.",
          "MJ users showed decreased BOLD response during no -go trials<br>relative to baseline in right posterior parietal , inferior<br>frontal , and middle temporal cortices .",
          "Between -group comparisons revealed several clusters in<br>which MJ users showed significantly more BOLD response<br>during inhibition trials than controls : right anterior<br>superior and middle frontal gyri ( BA 10 , 46 ) , right<br>superior middle frontal gyrus extending down to the anterior<br>insula ( BA 6 , 13 ) , left anterior middle and superior<br>frontal gyri ( BA 10 ) , medial prefrontal cortex ( BA 6 ) ,<br>right and left posterior parietal cortex ( BA 7 , 40 ) , and<br>right lingual gyrus",
          "( BA 18 ; see Table 2 and Fig . 1 ). There were no clusters<br>in which MJ users showed significantly less inhibitory brain<br>response than controls .",
          "For go trials relative to baseline , controls showed<br>significant BOLD response in the bilateral ventral<br>prefrontal cortex , bilateral medial posterior parietal<br>cortex and cuneus , anterior cingulate , precentral gyrus ,<br>right anterior insula , and medial cerebellum .",
          "MJ users had multiple clusters of significant response to go<br>trials relative to baseline , including increased activation<br>in substantial portions of bilateral ventral prefrontal<br>cortex , bilateral medial superior frontal cortex , right<br>posterior parietal cortex , bilateral temporal cortex ,<br>anterior cingulate , precentral gyrus , left insula , and<br>bilateral cerebellum .",
          "Between -group comparisons indicated that MJ users had<br>significantly more BOLD response during go trials relative<br>to baseline than did controls in the right inferior frontal<br>gyrus and anterior insula ( BA 44 , 13 ) , right superior<br>frontal gyrus ( BA 9 , 10 ) , right superior parietal lobule<br>( BA 7 ) , right inferior parietal lobule ( BA 40 ) , and<br>medial precuneus",
          "( BA 7 ; see Table 3 ). There were no clusters in which MJ<br>users had significantly less go response than controls .",
          "To determine whether the group differences reported above<br>were due to differences in other substance use or factors<br>that could predate marijuana use , secondary analyses using<br>ANCOVAs separately ( due to limited power ) controlled for<br>lifetime alcohol consumption , days since last drink ,<br>drinks per month , years of regular drinking , time since<br>last cigarette , past week cigarettes per smoking day ,<br>cigarettes per month , FTND total , number of lifetime other<br>drug use episodes , family history of substance use<br>disorders , family history of psychiatric disorders , each<br>NEO -FFI score , and BDI total .",
          "For all analyses , groups continued to differ on BOLD<br>response in all clusters ( p range , 0.001 to 0.0001 ) .To<br>determine whether differences between groups were due to<br>duration and intensity of exposure to THC or related to the<br>recency of marijuana use , we conducted a series of<br>exploratory regression analyses among MJ users ( n=16 ) .",
          "Duration of regular marijuana use was negatively related to<br>no -go brain response in the right anterior superior frontal<br>gyrus ( BA 10 ; β=−0.73 , p<0.001 ; plotted in Fig . 2 ) ,<br>right superior middle frontal gyrus ( BA 6 ; β=−0.58 ,<br>p<0.025 ) , and left anterior superior frontal gyrus ( BA 10<br>; β=−0.58 , p < 0.025 ) , suggesting that youth with longer<br>durations of marijuana involvement had less no -go brain<br>response .",
          "Similarly , early age of onset of regular marijuana use ( β<br>= 0.66 , p<0.01 ) and more lifetime marijuana use episodes (<br>β=−.62 , p<0.025 ) related to less inhibitory response in<br>the right anterior superior frontal gyrus ( BA 10 ) .",
          "Typical number of marijuana hits per month also was<br>negatively related to brain response in the right anterior<br>superior frontal gyrus ( BA 10 ; β=−0.73 , p<.005 ) , right<br>superior middle frontal gyrus ( BA 6 ; β=−0.71 , p<0.005 ) ,<br>left anterior superior frontal gyrus ( BA 10 ; β=−0.68 ,<br>p<0.01 ) , and left posterior parietal cortex ( BA 40 ;<br>β=−0.62 , p < 0.025 ) .",
          "Days since last marijuana use ( range , 28 to 240 ) , age ,<br>and neuropsychological test performance were not associated<br>with brain response in any region demonstrating a group<br>difference .",
          "Number of lifetime other drug use episodes ( primarily pain<br>medications ) was positively associated with BOLD response<br>contrast to no -go trials in the right anterior superior<br>frontal gyrus ( BA 10 ; β=0.57 , p < 0.025 ) and right<br>middle frontal gyrus ( BA 6 , β=0.56 , p < 0.025 ) .",
          "In this study , marijuana -using adolescents showed<br>increased BOLD response during both inhibitory and non<br>-inhibitory trials of a go/no -go task , even after a 28<br>-day washout period of abstinence from cannabis , as<br>compared to control adolescents with limited substance use<br>histories .",
          "Differences were prominent in dorsolateral prefrontal and<br>parietal areas .",
          "Our findings with adolescent marijuana users extend those of<br>others ( Gruber and Yurgelun -Todd 2005 ) , who Fig . 1<br>Inhibition trial differences in BOLD response contrast<br>between marijuana -using ( n=16 ) and non -using ( n=17 )<br>adolescents after 28 days of monitored abstinence .",
          "Blue areas show where users had more significantly BOLD<br>response during inhibition ( no -go ) trials relative to<br>baseline than non -users ( p<0.05 , clusters > 943 μl ) ; no<br>clusters in which users showed significantly less activation<br>than controls were found ( see Table 2 ) showed that adult<br>marijuana users exhibited increased prefrontal response<br>during inhibition tasks .",
          "The present results thus suggest that the effects of<br>cannabis use on brain function in adolescents may persist<br>after a period of abstinence .",
          "A pattern of increased activation yet comparable performance<br>is consistent with functional compensation and<br>dedifferentiation ( Rajah and D 'Esposito 2005 ) , which<br>supposes that loci of functional activity are spread to more<br>and larger regions .",
          "Therefore , adolescent marijuana users appear to recruit<br>more neural tissue in executive control areas to adequately<br>perform the task , which is consistent with other studies<br>showing increased dorsolateral prefrontal activation in MJ<br>users during inhibition ( Gruber and Yurgelun -Todd 2005 )<br>and other ( Schweinsburg et al . 2005b ) cognitive tasks .",
          "Repeated cannabinoid use may alter neuromaturation in<br>regions with high CB1 densities , such as prefrontal cortex<br>( Eggan and Lewis 2007 ) .",
          "Synaptic pruning and gray matter sculpting occurs late in<br>some of the regions showing increased BOLD signal among<br>users , such as bilateral dorsolateral prefrontal cortex ,<br>where cortical thickness peaks at age 11.5 on average (<br>Gogtay et al . 2004 ; Sowell et al . 2003 ) .",
          "If prefrontal synaptic pruning is slowed by adolescent<br>marijuana use , greater activation may reflect excess neural<br>firing caused by a larger number of synaptic links .",
          "In their study of heavy marijuana -using adults , Gruber and<br>Yurgelun -Todd ( 2005 ) reported that heavy users had<br>increased prefrontal response to an inhibition task , as<br>seen in this study of adolescents , but also showed reduced<br>anterior cingulate response , which we did not observe in<br>this study .",
          "One possible explanation for this difference is the duration<br>of marijuana use in our cohort .",
          "It may take a longer period of use to evidence such changes<br>in cingulate responding .",
          "The increased parietal activation among marijuana -using<br>adolescents is consistent with findings from Jacobsen et al<br>. ( 2007 ) of heightened parietal response in marijuana<br>-involved youth during a verbal working memory task while<br>undergoing nicotine withdrawal , although here , nicotine<br>use rates were relatively low .",
          "As right dorsolateral prefrontal and parietal regions have<br>been implicated in sustained attention ( Drummond et al .<br>2005 ) , perhaps , users had a greater cognitive load<br>associated with attending to the stimuli in general and in<br>identifying the no -go stimulus in particular .",
          "Both go and no -go trials require sustained attention , and<br>overlap was observed for the right prefrontal/insular and<br>parietal regions where users showed greater BOLD response<br>than controls for both conditions .",
          "Adolescents with later onsets ( age , 16-18 ) and briefer<br>durations ( 1-2 years ) of regular marijuana use showed the<br>greatest divergence from normal controls in BOLD response to<br>the inhibition trials .",
          "Similarly , Chang et al . ( 2006 ) reported that adults who<br>started marijuana use in late adolescence had more frontal<br>activation during a visual attention task than adults who<br>started in early adolescence .",
          "Although our data do not address the molecular mechanism of<br>this difference , we can speculate about the nature of this<br>finding .",
          "For example , increased prefrontal activation during an<br>inhibitory task in adolescent users with a more recent onset<br>may reflect a stage of neural and behavioral compensation .",
          "This compensatory response may occur within the first few<br>years of regular adolescent marijuana use and may later be<br>followed by neuroadaptation or other processes , possibly<br>related to downregulation of cannabinoid ( CB1 ) receptors .",
          "Therefore , an inverted U -shaped response pattern may<br>emerge over time , which eventually results in brain<br>activation patterns that are indistinguishable from non<br>-users ( suggested in Fig . 2 ) . BOLD response is<br>influenced by cerebral blood flow , often abnormal in<br>marijuana users acutely and subacutely .",
          "Up to 36 h since last use , THC intake is associated with<br>increased cerebral blood flow ( Mathew et al . 2002 ) and<br>volume ( Sneider et al . 2006 ) in frontal , insular ,<br>anterior cingulate , cerebellum , temporal , and paralimbic<br>regions ; reductions in auditory and visual cortex ,<br>parietal lobe , and thalamus ; and no change in nucleus<br>accumbens , basal ganglia , or the hippocampus ( O 'Leary et<br>al . 2002 ) .",
          "Although increases in blood flow velocity and<br>cerebrovascular resistance dissipate from 3 to 28 days of<br>abstinence in adults with marijuana use levels consistent<br>with this sample ( i.e . , 15.9 days per month ) , very<br>heavy users remained abnormally elevated ( Herning et al .<br>2005 ) .",
          "Thus , increased BOLD response in adolescent marijuana users<br>could reflect residual cerebrovasculature abnormalities ,<br>although increased blood flow or volume would likely yield<br>lower BOLD response ( Brown et al . 2003 ) , not greater ,<br>as seen here .",
          "This study had several limitations .",
          "While groups were equivalent on many demographic variables ,<br>intelligence , Fig . 2 Marijuana using adolescents ( n=16 )<br>show more BOLD response ( y -axis displays fit coefficients<br>) during inhibition trials relative to baseline than control<br>adolescents ( n=17 ) in right dorsolateral prefrontal cortex<br>, largely accounted for by users with 1 to 3 years of<br>regular ( weekly ) marijuana use and task performance ,<br>marijuana users had greater alcohol and other substance<br>histories and a trend for more depressed symptomatology .",
          "Although activation patterns remained after controlling for<br>these factors , substance and affective differences pose the<br>possibility of synergistic effects , and we have previously<br>found adolescent heavy drinking to be related to abnormal<br>activation patterns on a spatial working memory task",
          "( Caldwell et al . 2005 ;",
          "Schweinsburg et al .",
          "2005b ;",
          "Tapert et al . 2001 Tapert et al . , 2004 .",
          "Reduced educational engagement or altered sleep quality<br>related to marijuana use might account for the differences .",
          "Critically , the current data cannot ascertain if marijuana<br>use during adolescence produces the observed differences or<br>if abnormalities existed before the onset of regular use .",
          "Groups did not differ on proportion with a family history of<br>substance use disorder , and youths with psychiatric<br>diagnosis ( e.g . , conduct disorder , attention<br>-deficit/hyperactivity disorder ) were excluded from the<br>study .",
          "Groups were similar with regard to most personality and<br>psychopathological syndrome dimensions but did differ on<br>openness to new experiences and parent report of delinquent<br>behaviors , which also may predate or result from adolescent<br>marijuana use , but did not account for group differences in<br>brain response .",
          "On the other hand , the adolescents who diverged most from<br>normal controls may simply differ on unmeasured risk factors<br>related to the initiation and escalation of substance use .",
          "Altered inhibitory processing may make adolescents<br>vulnerable to substance use initiation and escalation .",
          "The indication of extra neural effort required to inhibit<br>responses has important implications for adolescent<br>development and future substance involvement .",
          "Demands for inhibitory control increases substantially over<br>the course of late adolescence , particularly in school and<br>work environments as well as social and intimate<br>relationships .",
          "Consequently , youth required to exert extra neurocognitive<br>effort may be disadvantaged or become less successful in<br>maneuvering the normal transitions of adolescence and young<br>adulthood .",
          "Additionally , it may be harder for these youth to inhibit<br>the use of substances , particularly in situations where<br>cognitive demands are strained due to conflicting goals ,<br>distractions , peers , substance -relevant cues , or low<br>mood states ."
         ],
         "type": "bar",
         "x": [
          0,
          1,
          2,
          3,
          4,
          5,
          6,
          7,
          8,
          9,
          10,
          11,
          12,
          13,
          14,
          15,
          16,
          17,
          18,
          19,
          20,
          21,
          22,
          23,
          24,
          25,
          26,
          27,
          28,
          29,
          30,
          31,
          32,
          33,
          34,
          35,
          36,
          37,
          38,
          39,
          40,
          41,
          42,
          43,
          44,
          45,
          46,
          47,
          48,
          49,
          50,
          51,
          52,
          53,
          54,
          55,
          56,
          57,
          58,
          59,
          60,
          61,
          62,
          63,
          64,
          65,
          66,
          67,
          68,
          69,
          70,
          71,
          72,
          73,
          74,
          75,
          76,
          77,
          78,
          79,
          80,
          81,
          82,
          83,
          84,
          85,
          86,
          87,
          88,
          89,
          90,
          91,
          92,
          93,
          94,
          95,
          96,
          97,
          98,
          99,
          100,
          101,
          102,
          103,
          104,
          105,
          106,
          107,
          108,
          109,
          110,
          111,
          112,
          113,
          114,
          115,
          116,
          117,
          118,
          119,
          120,
          121,
          122,
          123,
          124,
          125,
          126,
          127,
          128,
          129,
          130,
          131,
          132,
          133,
          134,
          135,
          136,
          137,
          138,
          139,
          140,
          141,
          142,
          143,
          144,
          145,
          146,
          147,
          148,
          149,
          150,
          151,
          152,
          153,
          154,
          155
         ],
         "y": [
          1.5441070250494336e-05,
          4.349663383116496e-06,
          0.00025368584458639076,
          0.01852345217976634,
          3.5324026082997264e-06,
          0.009172251312866015,
          3.190095067804619e-06,
          0.008786446448258134,
          0.00012949663937056102,
          1.4084852177418105e-06,
          0.00016114393376113776,
          0.0011994783470823044,
          0.00534384543173814,
          0.002009927680441912,
          0.013189313395189028,
          0.001539880548102824,
          0.003692420217730535,
          0.010892172564610692,
          0.025426997516577895,
          0.0014258474060191834,
          0.00044581814080525825,
          0.0007036549155366327,
          0.0015374289669941679,
          0.0012221855955467412,
          2.6247291236872797e-07,
          0.004301267924592271,
          0.00641211822306966,
          0.002032223729893848,
          0.005378849951272273,
          0.0008244239260009196,
          0.006227094977834388,
          1.863824655986939e-06,
          0.0005536056943058866,
          1.3818874901379795e-06,
          1.346423016395488e-07,
          7.3276019995374035e-06,
          0,
          2.7456171058601968e-05,
          0.0005509434463286871,
          1.261230358762346e-06,
          1.0036213047324797e-05,
          1.6611867971172776e-06,
          1.0472179016409349e-07,
          6.051836576718684e-06,
          0,
          2.5085860296295026e-05,
          1.7567137139904106e-06,
          5.1545895878096936e-05,
          0.00022160886613168052,
          0.0005544934133849398,
          3.454718725344949e-06,
          3.8847881908727337e-05,
          0.0008871894614159036,
          0.0022272016168175886,
          0.0010769782121843657,
          5.499589173268269e-07,
          0.0005472996707775509,
          1.0585610742699278e-06,
          0.0003447102694034614,
          1.922528864622891e-07,
          0.0005315867005035403,
          0,
          1.0199375714682076e-06,
          0.0005696263345422197,
          1.3779337089004082e-06,
          1.1844605677323507e-06,
          0.0003174158210321842,
          0.0002609380768870305,
          0,
          1.0795996016702965e-06,
          2.460683553456825e-07,
          7.402878548327192e-07,
          1.2566614819691217e-07,
          8.317423249040559e-06,
          8.752231640211948e-05,
          0.0006556878124715474,
          0.00020146260557425504,
          0.0009230796658487747,
          0.00037342465113054707,
          1.3457702052360236e-07,
          0.0006999046072135188,
          3.531267972422929e-05,
          1.5708268524614023e-07,
          3.5791760777553815e-07,
          4.434073020942089e-06,
          6.499973182598908e-08,
          3.0306968425433067e-06,
          0.002033028482457209,
          4.935252365551461e-07,
          0,
          0.00015269707321134912,
          0.0007373347914910372,
          0.0004968714704872987,
          0.0006583770639977107,
          1.2261042642848342e-05,
          0.000979281764722166,
          0.0007682836031881443,
          0.0007574921093211971,
          0.007007457636094242,
          0.007422857272977801,
          0.00022035635988476698,
          0.0007210739339339739,
          0.0013914660621142231,
          0.000583881165921896,
          0.0035788816008788704,
          0.0009872300278356686,
          0.000984480659236654,
          3.362014870720586e-05,
          0.0002657256650041601,
          0.00024418968328034817,
          2.488486352030598e-06,
          0.00035741358847728264,
          0.00036876339336839675,
          4.348664659369437e-05,
          0.0006588962398919009,
          6.326270195553956e-07,
          0.00016348050408255193,
          0.006741241333382938,
          0.0004587754707711827,
          0.006374043972180347,
          0.014991200714748368,
          0.0008066344842041707,
          0.0013392554699769466,
          0.012755591622819522,
          0.0012251792325979692,
          7.762928365771186e-06,
          9.485425160676595e-05,
          0.0038667531127497875,
          0.0011447917488740605,
          0.0019673263025476273,
          0.0008148222205037071,
          0.0039977963070341955,
          3.902889699273899e-06,
          0.017204033551302875,
          4.3237058385565154e-05,
          0.0042334893776155265,
          0.0005523547878669736,
          0.0005274401520740479,
          0.0005272754880217312,
          3.5190504574317573e-06,
          0.0005817540061357952,
          0.003772051271981831,
          0,
          0,
          null,
          0.11102604193197194,
          0.0026529567589416423,
          5.402580487213401e-06,
          4.312656228507113e-07,
          0.00022183227948237332,
          0.0008680461928321796,
          0.0024661834907905907,
          0.008414367149605266,
          5.132213103607442e-06,
          0.00042616897400638286,
          2.7599660809379998e-05
         ]
        }
       ],
       "layout": {
        "hoverlabel": {
         "bgcolor": "white",
         "font": {
          "family": "Rockwell",
          "size": 13
         }
        },
        "template": {
         "data": {
          "bar": [
           {
            "error_x": {
             "color": "#2a3f5f"
            },
            "error_y": {
             "color": "#2a3f5f"
            },
            "marker": {
             "line": {
              "color": "#E5ECF6",
              "width": 0.5
             }
            },
            "type": "bar"
           }
          ],
          "barpolar": [
           {
            "marker": {
             "line": {
              "color": "#E5ECF6",
              "width": 0.5
             }
            },
            "type": "barpolar"
           }
          ],
          "carpet": [
           {
            "aaxis": {
             "endlinecolor": "#2a3f5f",
             "gridcolor": "white",
             "linecolor": "white",
             "minorgridcolor": "white",
             "startlinecolor": "#2a3f5f"
            },
            "baxis": {
             "endlinecolor": "#2a3f5f",
             "gridcolor": "white",
             "linecolor": "white",
             "minorgridcolor": "white",
             "startlinecolor": "#2a3f5f"
            },
            "type": "carpet"
           }
          ],
          "choropleth": [
           {
            "colorbar": {
             "outlinewidth": 0,
             "ticks": ""
            },
            "type": "choropleth"
           }
          ],
          "contour": [
           {
            "colorbar": {
             "outlinewidth": 0,
             "ticks": ""
            },
            "colorscale": [
             [
              0,
              "#0d0887"
             ],
             [
              0.1111111111111111,
              "#46039f"
             ],
             [
              0.2222222222222222,
              "#7201a8"
             ],
             [
              0.3333333333333333,
              "#9c179e"
             ],
             [
              0.4444444444444444,
              "#bd3786"
             ],
             [
              0.5555555555555556,
              "#d8576b"
             ],
             [
              0.6666666666666666,
              "#ed7953"
             ],
             [
              0.7777777777777778,
              "#fb9f3a"
             ],
             [
              0.8888888888888888,
              "#fdca26"
             ],
             [
              1,
              "#f0f921"
             ]
            ],
            "type": "contour"
           }
          ],
          "contourcarpet": [
           {
            "colorbar": {
             "outlinewidth": 0,
             "ticks": ""
            },
            "type": "contourcarpet"
           }
          ],
          "heatmap": [
           {
            "colorbar": {
             "outlinewidth": 0,
             "ticks": ""
            },
            "colorscale": [
             [
              0,
              "#0d0887"
             ],
             [
              0.1111111111111111,
              "#46039f"
             ],
             [
              0.2222222222222222,
              "#7201a8"
             ],
             [
              0.3333333333333333,
              "#9c179e"
             ],
             [
              0.4444444444444444,
              "#bd3786"
             ],
             [
              0.5555555555555556,
              "#d8576b"
             ],
             [
              0.6666666666666666,
              "#ed7953"
             ],
             [
              0.7777777777777778,
              "#fb9f3a"
             ],
             [
              0.8888888888888888,
              "#fdca26"
             ],
             [
              1,
              "#f0f921"
             ]
            ],
            "type": "heatmap"
           }
          ],
          "heatmapgl": [
           {
            "colorbar": {
             "outlinewidth": 0,
             "ticks": ""
            },
            "colorscale": [
             [
              0,
              "#0d0887"
             ],
             [
              0.1111111111111111,
              "#46039f"
             ],
             [
              0.2222222222222222,
              "#7201a8"
             ],
             [
              0.3333333333333333,
              "#9c179e"
             ],
             [
              0.4444444444444444,
              "#bd3786"
             ],
             [
              0.5555555555555556,
              "#d8576b"
             ],
             [
              0.6666666666666666,
              "#ed7953"
             ],
             [
              0.7777777777777778,
              "#fb9f3a"
             ],
             [
              0.8888888888888888,
              "#fdca26"
             ],
             [
              1,
              "#f0f921"
             ]
            ],
            "type": "heatmapgl"
           }
          ],
          "histogram": [
           {
            "marker": {
             "colorbar": {
              "outlinewidth": 0,
              "ticks": ""
             }
            },
            "type": "histogram"
           }
          ],
          "histogram2d": [
           {
            "colorbar": {
             "outlinewidth": 0,
             "ticks": ""
            },
            "colorscale": [
             [
              0,
              "#0d0887"
             ],
             [
              0.1111111111111111,
              "#46039f"
             ],
             [
              0.2222222222222222,
              "#7201a8"
             ],
             [
              0.3333333333333333,
              "#9c179e"
             ],
             [
              0.4444444444444444,
              "#bd3786"
             ],
             [
              0.5555555555555556,
              "#d8576b"
             ],
             [
              0.6666666666666666,
              "#ed7953"
             ],
             [
              0.7777777777777778,
              "#fb9f3a"
             ],
             [
              0.8888888888888888,
              "#fdca26"
             ],
             [
              1,
              "#f0f921"
             ]
            ],
            "type": "histogram2d"
           }
          ],
          "histogram2dcontour": [
           {
            "colorbar": {
             "outlinewidth": 0,
             "ticks": ""
            },
            "colorscale": [
             [
              0,
              "#0d0887"
             ],
             [
              0.1111111111111111,
              "#46039f"
             ],
             [
              0.2222222222222222,
              "#7201a8"
             ],
             [
              0.3333333333333333,
              "#9c179e"
             ],
             [
              0.4444444444444444,
              "#bd3786"
             ],
             [
              0.5555555555555556,
              "#d8576b"
             ],
             [
              0.6666666666666666,
              "#ed7953"
             ],
             [
              0.7777777777777778,
              "#fb9f3a"
             ],
             [
              0.8888888888888888,
              "#fdca26"
             ],
             [
              1,
              "#f0f921"
             ]
            ],
            "type": "histogram2dcontour"
           }
          ],
          "mesh3d": [
           {
            "colorbar": {
             "outlinewidth": 0,
             "ticks": ""
            },
            "type": "mesh3d"
           }
          ],
          "parcoords": [
           {
            "line": {
             "colorbar": {
              "outlinewidth": 0,
              "ticks": ""
             }
            },
            "type": "parcoords"
           }
          ],
          "pie": [
           {
            "automargin": true,
            "type": "pie"
           }
          ],
          "scatter": [
           {
            "marker": {
             "colorbar": {
              "outlinewidth": 0,
              "ticks": ""
             }
            },
            "type": "scatter"
           }
          ],
          "scatter3d": [
           {
            "line": {
             "colorbar": {
              "outlinewidth": 0,
              "ticks": ""
             }
            },
            "marker": {
             "colorbar": {
              "outlinewidth": 0,
              "ticks": ""
             }
            },
            "type": "scatter3d"
           }
          ],
          "scattercarpet": [
           {
            "marker": {
             "colorbar": {
              "outlinewidth": 0,
              "ticks": ""
             }
            },
            "type": "scattercarpet"
           }
          ],
          "scattergeo": [
           {
            "marker": {
             "colorbar": {
              "outlinewidth": 0,
              "ticks": ""
             }
            },
            "type": "scattergeo"
           }
          ],
          "scattergl": [
           {
            "marker": {
             "colorbar": {
              "outlinewidth": 0,
              "ticks": ""
             }
            },
            "type": "scattergl"
           }
          ],
          "scattermapbox": [
           {
            "marker": {
             "colorbar": {
              "outlinewidth": 0,
              "ticks": ""
             }
            },
            "type": "scattermapbox"
           }
          ],
          "scatterpolar": [
           {
            "marker": {
             "colorbar": {
              "outlinewidth": 0,
              "ticks": ""
             }
            },
            "type": "scatterpolar"
           }
          ],
          "scatterpolargl": [
           {
            "marker": {
             "colorbar": {
              "outlinewidth": 0,
              "ticks": ""
             }
            },
            "type": "scatterpolargl"
           }
          ],
          "scatterternary": [
           {
            "marker": {
             "colorbar": {
              "outlinewidth": 0,
              "ticks": ""
             }
            },
            "type": "scatterternary"
           }
          ],
          "surface": [
           {
            "colorbar": {
             "outlinewidth": 0,
             "ticks": ""
            },
            "colorscale": [
             [
              0,
              "#0d0887"
             ],
             [
              0.1111111111111111,
              "#46039f"
             ],
             [
              0.2222222222222222,
              "#7201a8"
             ],
             [
              0.3333333333333333,
              "#9c179e"
             ],
             [
              0.4444444444444444,
              "#bd3786"
             ],
             [
              0.5555555555555556,
              "#d8576b"
             ],
             [
              0.6666666666666666,
              "#ed7953"
             ],
             [
              0.7777777777777778,
              "#fb9f3a"
             ],
             [
              0.8888888888888888,
              "#fdca26"
             ],
             [
              1,
              "#f0f921"
             ]
            ],
            "type": "surface"
           }
          ],
          "table": [
           {
            "cells": {
             "fill": {
              "color": "#EBF0F8"
             },
             "line": {
              "color": "white"
             }
            },
            "header": {
             "fill": {
              "color": "#C8D4E3"
             },
             "line": {
              "color": "white"
             }
            },
            "type": "table"
           }
          ]
         },
         "layout": {
          "annotationdefaults": {
           "arrowcolor": "#2a3f5f",
           "arrowhead": 0,
           "arrowwidth": 1
          },
          "coloraxis": {
           "colorbar": {
            "outlinewidth": 0,
            "ticks": ""
           }
          },
          "colorscale": {
           "diverging": [
            [
             0,
             "#8e0152"
            ],
            [
             0.1,
             "#c51b7d"
            ],
            [
             0.2,
             "#de77ae"
            ],
            [
             0.3,
             "#f1b6da"
            ],
            [
             0.4,
             "#fde0ef"
            ],
            [
             0.5,
             "#f7f7f7"
            ],
            [
             0.6,
             "#e6f5d0"
            ],
            [
             0.7,
             "#b8e186"
            ],
            [
             0.8,
             "#7fbc41"
            ],
            [
             0.9,
             "#4d9221"
            ],
            [
             1,
             "#276419"
            ]
           ],
           "sequential": [
            [
             0,
             "#0d0887"
            ],
            [
             0.1111111111111111,
             "#46039f"
            ],
            [
             0.2222222222222222,
             "#7201a8"
            ],
            [
             0.3333333333333333,
             "#9c179e"
            ],
            [
             0.4444444444444444,
             "#bd3786"
            ],
            [
             0.5555555555555556,
             "#d8576b"
            ],
            [
             0.6666666666666666,
             "#ed7953"
            ],
            [
             0.7777777777777778,
             "#fb9f3a"
            ],
            [
             0.8888888888888888,
             "#fdca26"
            ],
            [
             1,
             "#f0f921"
            ]
           ],
           "sequentialminus": [
            [
             0,
             "#0d0887"
            ],
            [
             0.1111111111111111,
             "#46039f"
            ],
            [
             0.2222222222222222,
             "#7201a8"
            ],
            [
             0.3333333333333333,
             "#9c179e"
            ],
            [
             0.4444444444444444,
             "#bd3786"
            ],
            [
             0.5555555555555556,
             "#d8576b"
            ],
            [
             0.6666666666666666,
             "#ed7953"
            ],
            [
             0.7777777777777778,
             "#fb9f3a"
            ],
            [
             0.8888888888888888,
             "#fdca26"
            ],
            [
             1,
             "#f0f921"
            ]
           ]
          },
          "colorway": [
           "#636efa",
           "#EF553B",
           "#00cc96",
           "#ab63fa",
           "#FFA15A",
           "#19d3f3",
           "#FF6692",
           "#B6E880",
           "#FF97FF",
           "#FECB52"
          ],
          "font": {
           "color": "#2a3f5f"
          },
          "geo": {
           "bgcolor": "white",
           "lakecolor": "white",
           "landcolor": "#E5ECF6",
           "showlakes": true,
           "showland": true,
           "subunitcolor": "white"
          },
          "hoverlabel": {
           "align": "left"
          },
          "hovermode": "closest",
          "mapbox": {
           "style": "light"
          },
          "paper_bgcolor": "white",
          "plot_bgcolor": "#E5ECF6",
          "polar": {
           "angularaxis": {
            "gridcolor": "white",
            "linecolor": "white",
            "ticks": ""
           },
           "bgcolor": "#E5ECF6",
           "radialaxis": {
            "gridcolor": "white",
            "linecolor": "white",
            "ticks": ""
           }
          },
          "scene": {
           "xaxis": {
            "backgroundcolor": "#E5ECF6",
            "gridcolor": "white",
            "gridwidth": 2,
            "linecolor": "white",
            "showbackground": true,
            "ticks": "",
            "zerolinecolor": "white"
           },
           "yaxis": {
            "backgroundcolor": "#E5ECF6",
            "gridcolor": "white",
            "gridwidth": 2,
            "linecolor": "white",
            "showbackground": true,
            "ticks": "",
            "zerolinecolor": "white"
           },
           "zaxis": {
            "backgroundcolor": "#E5ECF6",
            "gridcolor": "white",
            "gridwidth": 2,
            "linecolor": "white",
            "showbackground": true,
            "ticks": "",
            "zerolinecolor": "white"
           }
          },
          "shapedefaults": {
           "line": {
            "color": "#2a3f5f"
           }
          },
          "ternary": {
           "aaxis": {
            "gridcolor": "white",
            "linecolor": "white",
            "ticks": ""
           },
           "baxis": {
            "gridcolor": "white",
            "linecolor": "white",
            "ticks": ""
           },
           "bgcolor": "#E5ECF6",
           "caxis": {
            "gridcolor": "white",
            "linecolor": "white",
            "ticks": ""
           }
          },
          "title": {
           "x": 0.05
          },
          "xaxis": {
           "automargin": true,
           "gridcolor": "white",
           "linecolor": "white",
           "ticks": "",
           "title": {
            "standoff": 15
           },
           "zerolinecolor": "white",
           "zerolinewidth": 2
          },
          "yaxis": {
           "automargin": true,
           "gridcolor": "white",
           "linecolor": "white",
           "ticks": "",
           "title": {
            "standoff": 15
           },
           "zerolinecolor": "white",
           "zerolinewidth": 2
          }
         }
        }
       }
      },
      "text/html": [
       "<div>\n",
       "        \n",
       "        \n",
       "            <div id=\"9e056aff-0fe3-4a0c-bcb5-e8325eedfded\" class=\"plotly-graph-div\" style=\"height:525px; width:100%;\"></div>\n",
       "            <script type=\"text/javascript\">\n",
       "                require([\"plotly\"], function(Plotly) {\n",
       "                    window.PLOTLYENV=window.PLOTLYENV || {};\n",
       "                    \n",
       "                if (document.getElementById(\"9e056aff-0fe3-4a0c-bcb5-e8325eedfded\")) {\n",
       "                    Plotly.newPlot(\n",
       "                        '9e056aff-0fe3-4a0c-bcb5-e8325eedfded',\n",
       "                        [{\"hovertext\": [\"Many individuals first experiment with alcohol and drugs<br>during adolescence ( SAMHSA 2003 ) , and marijuana is the<br>most commonly used illicit substance among teenagers (<br>Johnston et al . 2005 ) .\", \"Nearly half of 12th graders have tried marijuana , and 6 %<br>disclose daily use ( Johnston et al . 2005 ) .\", \"Adolescence is also a period of continued neurodevelopment ,<br>including frontal lobe myelination and synaptic pruning that<br>subserve improved executive functioning ( Gogtay et al .<br>2004 ; Sowell et al . 2002 ) , including abilities such as<br>decision making , inhibitory processing , and impulse<br>control .\", \"The influence of marijuana use on these maturational<br>processes is unknown , although executive dysfunction may<br>affect the development and maintenance of substance use and<br>problems during adolescence ( Tapert et al . 2002a ) .\", \"Adults with heavy marijuana use histories have demonstrated<br>abnormalities in executive functioning ( Fletcher et al .<br>1996 ; Pope and Yurgelun Todd 1996 ; Solowij et al . 2002 )<br>and indices of frontal lobe operation ( Block et al . 2000 ;<br>Kanayama et al . 2004 ; Lundqvist et al . 2001 ; Solowij et<br>al . 1991 Solowij et al . , 1995 Struve et al . 1998 ) .\", \"To determine if cognitive deficits in marijuana users are<br>transient or persistent , Pope et al . ( 2001 ) tested 63<br>current marijuana users ( > 5,000 lifetime uses ) , 45<br>former users ( > 5,000 lifetime uses ) , and 72 normal<br>controls ( 1-50 lifetime uses ) , all ages 30-55 .\", \"Participants were abstinent for 28 days , verified by urine<br>drug screens and given neuropsychological tests on days 0 ,<br>1 , 7 , and 28 of abstinence .\", \"Current users showed some deficits relative to controls on<br>days 0 , 1 , and 7 , but groups did not differ on any test<br>by day 28 .\", \"In contrast , a study ( Bolla et al . 2002 ) that<br>hospitalized 22 marijuana -using adults ( > 2 years of<br>marijuana use ) for 28 days to assure abstinence found<br>greater marijuana intake linked to poorer performance on<br>tests of inhibition , problem solving , learning , and<br>reaction time .\", \"Disinhibition , i.e . , the impaired ability to inhibit a<br>potentially inappropriate response , is a common feature of<br>substance misuse ( Chen et al . 2007 ; Kamarajan et al .<br>2006 ; Kirisci et al . 2006 ; Verdejo -Garcia et al . 2006 )<br>.\", \"Neuroimaging studies have reported both prefrontal and<br>posterior parietal cortical involvement during inhibitory<br>processing in healthy volunteers ( Liu et al . 2004 ) ,<br>which may be overactive in populations with impulse control<br>problems ( Schulz et al . 2004 ) .\", \"Few studies have examined inhibitory processing in marijuana<br>users .\", \"Functional magnetic resonance imaging ( f MRI )<br>characterized the neural correlates of inhibition during a<br>Stroop task , in which heavy marijuana -using adults and non<br>-users were asked to inhibit the automatic process of<br>reading words and , instead , name the colors of words<br>printed in incongruent ink ( Gruber and Yurgelun Todd 2005 )<br>.\", \"Marijuana users not only showed greater midcingulate and<br>reduced anterior cingulate blood oxygen level dependent (<br>BOLD ) response but also more widespread bilateral<br>dorsolateral prefrontal activation during inhibition<br>relative to color naming trials .\", \"The investigators speculated that the altered activation<br>pattern in marijuana users reflects compensation and use of<br>alternate strategies .\", \"The same investigators had shown in a previous f MRI study<br>using a working memory task before and after a 28 -day<br>abstinence period ( Yurgelun -Todd et al . 1998 ) that adult<br>users demonstrated less prefrontal and more anterior<br>cingulate response than controls after just 24 h of non -use<br>.\", \"Although users showed some normalization of prefrontal<br>functioning after 28 days of abstinence , they still showed<br>anterior cingulate dysfunction , which is supportive of<br>persisting neural processing abnormalities .\", \"These results support the hypothesis that adult marijuana<br>users show abnormal neural inhibitory processing ,<br>compensatory hyper -activity , and altered neural processing<br>differences in the absence of the intoxicating agent .\", \"Few studies have examined neurocognitive effects of<br>marijuana use among adolescents , but some reports<br>identified decrements in attention ( Tapert et al . 2002b )<br>, and learning and memory ( Millsaps et al . 1994 ; Schwartz<br>et al . 1989 ) associated with early marijuana use .\", \"We previously demonstrated increased dorsolateral prefrontal<br>and decreased inferior frontal f MRI response during a<br>spatial working memory task among teens with comorbid<br>alcohol and marijuana use disorders compared to those with<br>alcohol use disorders alone and to non -using controls ,<br>suggesting a marijuana use -related increase in dorsolateral<br>prefrontal effort ( Schweinsburg et al . 2005b ) .\", \"However , most studies of adolescent marijuana users were<br>conducted after several days of abstinence , so effects<br>could be transitory .\", \"Jacobsen et al . ( 2004 ) addressed this concern by<br>evaluating seven adolescent marijuana users , seven<br>demographically similar tobacco smokers , and seven non<br>-users with a working memory task during f MRI acquisition<br>after about a month of abstinence .\", \"Marijuana users were less accurate on the task and showed<br>increased BOLD response in the right hippocampus relative to<br>other groups .\", \"The authors suggested that marijuana users might have failed<br>to inhibit hippocampal activity during the task , perhaps<br>due to cannabis -induced changes in inhibitory<br>neurotransmission or apoptosis in the hippocampus .\", \"These researchers then compared 15 adolescents with and 18<br>without histories of cannabis use during nicotine withdrawal<br>.\", \"Cannabis users , but not non -users , showed nicotine<br>withdrawal -precipitated increases in parietal activation<br>and disruptions in frontoparietal connectivity during a<br>verbal working memory task\", \"( Jacobsen et al . 2007 ). Collectively , existing data<br>indicate some executive impairment and neural dysfunction<br>associated with adolescent marijuana use , although the<br>neural substrates specific to inhibitory processing have not<br>yet been examined in teenage marijuana users .\", \"In the current study , we performed BOLD f MRI during a<br>go/no -go task to characterize response inhibition among<br>adolescent marijuana users and non -using controls .\", \"Because studies of marijuana -using adults have suggested<br>improvements in cognitive and neural functioning after 28<br>days of abstinence ( Pope et al . 2001 ) , we required<br>participants to complete 28 days of monitored abstinence<br>before scanning to ensure that any group differences were<br>not due to recent use .\", \"The go/no -go task ( Anderson et al . 2005 ; Schweinsburg et<br>al . 2004b ) was designed to assess inhibitory processing by<br>asking participants to withhold a response to an<br>infrequently occurring stimulus .\", \"Previous studies have observed activation in dorsolateral<br>prefrontal , inferior frontal , anterior cingulate , and<br>posterior parietal regions among adolescents using this task<br>( Anderson et al . 2005 ; Schweinsburg et al . 2004a ) and<br>similar inhibition paradigms ( Adleman et al . 2002 ; Luna<br>et al . 2001 ; Tamm et al . 2002 ) .\", \"Participants were 16 -to 18 -year -olds enrolled in an<br>ongoing study of adolescents recruited from local high<br>schools and colleges ( Medina et al . 2007a , b ; Nagel et<br>al . 2006 ; Schweinsburg et al . 2005a ) .\", \"Sixteen adolescents were marijuana users ( MJ ) with at<br>least 60 lifetime episodes of cannabis use and limited<br>histories of other drug use , and 17 adolescents were<br>demographically similar non -using controls ( see Table 1<br>for demographic characteristics ) with less than five<br>lifetime episodes of cannabis use .\", \"Written assent and consent were obtained from adolescents<br>and their parent/legal guardians in accordance with the<br>University of California San Diego Human Research<br>Protections Program .\", \"Eligibility was ascertained through separate , private<br>telephone screening interviews with the youth and the parent<br>.\", \"Exclusionary criteria included left handedness ; history of<br>head injury with loss of consciousness > 2 min , learning<br>disabilities , medical or neurological problem , DSM -IV (<br>APA 1994 ) Axis I psychiatric disorder ( i.e . , mood ,<br>anxiety , psychotic , attention , and conduct disorders ) as<br>assessed by the computerized NIMH Diagnostic Interview<br>Schedule for Children Predictive Scales ( DISC -PS -4.32b ;<br>Lucas et al . 2001 ; Shaffer et al . 2000 ) Youth and Parent<br>versions , and use of any psychotropic medication ;<br>significant maternal drinking ( more that two drinks on an<br>occasion or more than four drinks in a week ) or other drug<br>use during pregnancy ; family history of bipolar I or<br>psychotic disorders determined by the Family History<br>Assessment Module ( Rice et al . 1995 ) ; and MRI<br>contraindications . MJ youth disclosed using marijuana an<br>average of \\u223c 500 times in their lives\", \"( see Table 1 ), and three control youth had experience with<br>marijuana ( less than five times ) .\", \"MJ youth used marijuana every other day on average , before<br>being asked to remain abstinent for the 28 days before<br>scanning .\", \"Most MJ youth were current users , as all but three used in<br>the month before monitored abstinence .\", \"Substance use assessment Substance involvement was<br>ascertained using the Customary Drinking and Drug Use Record<br>( Brown et al . 1998 ) , an interview that obtains<br>information on lifetime and past 3 -month use of marijuana ,<br>alcohol , nicotine , other illicit drugs , and misuse of<br>prescription and over -the -counter medications , and<br>negative consequences associated with substance use .\", \"Strong internal consistency , test -retest , and inter<br>-rater reliability have been demonstrated with adolescents (<br>Brown et al . 1998 ; Stewart and Brown 1995 ) .\", \"The Fagerstrom Test for Nicotine Dependence ( FTND ;<br>Heatherton et al . 1991 ) indicated that no participant was<br>dependent on nicotine .\", \"The Timeline Followback ( Sobell and Sobell 1992 ) collected<br>details on substance use patterns for the month before and<br>during the 28 -day abstinence period .\", \"Continuous indices of level of internalizing and<br>externalizing psychopathological syndromes were assessed by<br>the 113 -item Child Behavior Checklist ( CBCL ; Achenbach<br>and Rescorla 2001 ) , administered to parents ( typically<br>biological mothers ) covering youth behaviors in the past 6<br>months .\", \"Eight -factor T scores ( rulebreaking behavior , aggressive<br>behavior , withdrawn/depressed , anxious/depressed , somatic<br>complaints , attention problems , social problems , and<br>thought problems ) and summary T scores ( externalizing ,<br>internalizing ) are provided .\", \"Personality Disinhibition and substance use may relate to<br>personality traits .\", \"Thus , all participants completed the NEO Five -Factor<br>Inventory ( NEO -FFI ; Costa and Mc Crae 1992 ) , a 60 -item<br>self -report personality questionnaire that assesses five<br>domains of personality : neuroticism , extraversion ,<br>openness , agreeableness , and conscientiousness .\", \"This factor structure has been replicated in adolescent<br>samples ( Fruyt et al . 2000 ) .\", \"Go/no -go task Participants performed a go/no -go task<br>during f MRI scanning ( Anderson et al . 2005 ; Schweinsburg<br>et al . 2004b ) .\", \"The task alternated between active blocks and resting blocks<br>.\", \"During resting blocks , participants viewed a \\\"+\\\" in the<br>center of the screen .\", \"During active blocks , a large square , small square , large<br>circle , and small circle were presented one at a time for<br>200 ms every 1,500 ms . Participants were instructed to<br>press a button as fast as possible every time they saw a<br>shape ( go stimuli ) except for the small square ( no -go<br>stimulus ) , thus requiring response inhibition .\", \"The task lasted 6 min and 24 s .\", \"Participants additionally performed the entire task before<br>scanning to ensure adequate comprehension of instructions<br>and to resolve potential practice effects\", \"To confirm that participants did not use substances in the 4<br>weeks before scanning , all participants ( controls and<br>marijuana users ) provided at least nine urine toxicology<br>screens ( two to three times per week ) during these 28 days<br>.\", \"Urine toxicology procedures can reliably detect evidence of<br>marijuana use 4 to 25 days after last use ( Fraser et al .<br>2002 ; Huestis and Cone 1998 ) , sometimes longer ( Lafolie<br>et al . 1991 ) , depending on pattern of use , body lipid<br>content , and metabolic features .\", \"Each urine sample was evaluated for metabolites indicating<br>recent use of cannabis , amphetamines , methamphetamines ,<br>barbiturates , benzodiazepines , cocaine , codeine ,<br>morphine , phencyclidine , and ethanol using cloned enzyme<br>donor immunoassay ( CEDIA DAU , Microgenics , Fremont , CA ,<br>USA ) .\", \"Observed urine sample collection procedures reduced the<br>possibility of participant tampering .\", \"Tetrahydrocannabinol ( THC ) values were monitored over the<br>28 -day period to ensure that levels decreased .\", \"Initial samples testing positive for THC metabolites were<br>assumed to reflect residual use if values decreased with<br>each subsequent sample collected .\", \"If levels increased or a positive screen was obtained after<br>a negative screen , the participant was given the option to<br>restart the 28 -day screening process or be dropped from the<br>study .\", \"Breathalyzers ( Alco Sensor IV , Intoximeter , St . Louis ,<br>MO , USA ) were conducted at each visit .\", \"To confirm urine results , a hair sample collected on the<br>scan day was analyzed for THC and other drug metabolites<br>suggestive of past month use ( Psychemedics , Culver City ,<br>CA , USA ) .\", \"Seven users , not described in this paper , were unable to<br>complete the 28 -day abstinence protocol .\", \"In preparation for scanning , each participant lay on the<br>scanner bed .\", \"Foam pads were arranged around the head to minimize motion .\", \"A mirror above the participant 's eyes enabled viewing of a<br>screen at the foot of the scanner bed , on which the task<br>was rear -projected from a laptop .\", \"Behavioral responses during the task were collected through<br>a fiber -optic button box ( Lumi Touch , Vancouver , BC ,<br>Canada ) .\", \"Imaging data were acquired on a 1.5 Tesla Signa LX ( General<br>Electric , Madison , WI , USA ) system .\", \"A structural image was collected in the sagittal plane using<br>an inversion recovery prepared T1 -weighted 3D spiral fast<br>spin echo sequence ( repetition time 2,000 ms , echo time 16<br>ms , field of view 240 mm , 128 continuous slices ,<br>resolution 0.9375\\u00d70.9375 \\u00d7 1.328 mm , acquisition time 8:36<br>; Wong et al . 2000 ) .\", \"Data were processed and analyzed using Analysis of<br>Functional Neuro Images ( AFNI ; http://www.afni.nimh.nih .<br>gov ; Cox 1996 ) .\", \"First , an automated motion correction algorithm was applied<br>to the time series datasets ( Cox and Jesmanowicz 1999 ) .\", \"Two raters examined the time series data and removed<br>repetitions containing residual visible head motions .\", \"If > 18 % of repetitions were removed , the participant was<br>not included ( n=3 not described in this paper ) .\", \"Groups did not differ in the number of repetitions removed (<br>p=0.87 ) or absolute mean rotational or translational<br>adjustments applied .\", \"Average rotational ( roll , pitch , and yaw ) and<br>translational ( superior , left , and posterior ) movement ,<br>respectively , was 0.04 , 0.11 , and 0.05\\u00b0and 0.07 , 0.04 ,<br>and 0.04 mm for MJ users , and 0.06 , 0.12 , 0.06\\u00b0and 0.10 ,<br>0.04 , and 0.06 mm for controls .\", \"No significant differences between groups were found for<br>task -correlated motion\", \"( rs for the correlation between the task reference function<br>and each motion parameter were \\u2212 0.08 , \\u2212 0.10 , \\u2212 0.02 , \\u2212<br>0.11 , \\u2212 0.07 , and \\u2212 0.07 for MJ users and \\u2212 0.04 , \\u2212 0.06<br>, \\u2212 0.04 , \\u2212 0.10 , \\u2212 0.08 , and \\u2212 0.06 for controls ) .Next<br>, time series datasets were deconvolved with a reference<br>function representing the timing of go , no -go , and rest<br>stimuli presentation over the course of the task ( Ward 2002<br>) while accounting for hemodynamic delays ( Bandettini et al<br>. 1993 ; Boynton et al . 1996 ) and covarying for motion<br>adjustments applied and linear trends .\", \"This yielded fit coefficients representing the BOLD response<br>for ( 1 ) inhibition ( no -go ) trials relative to baseline<br>and ( 2 ) go trials relative to baseline in each voxel of<br>the brain for each subject .\", \"Data were transformed to standard space ( Lancaster et al .<br>2000 ; Talairach and Tournoux 1988 ) , resampled into<br>isotropic 3.5 -mm voxels , and spatially smoothed with a<br>Gaussian filter ( 3.5 mm full width half maximum ) to<br>account for anatomic variability between subjects .\", \"We determined regions of significant BOLD response<br>differences between MJ and control adolescents using<br>independent samples t tests in each voxel of the brain ,<br>performed separately on the BOLD response contrast for no<br>-go and for go trials .\", \"To control for type I error , we used a combination of t<br>statistic magnitude and cluster volume thresholding ( Forman<br>et al . 1995 ; Ward 1997 ) by only interpreting clusters<br>comprised of at least 22 contiguously activated voxels at<br>a<.05 ( \\u2265 943 \\u03bcl in volume ) .\", \"Anatomic localization was confirmed using the Talairach<br>Daemon ( Lancaster et al . 2000 ; Ward 1997 ) and AFNI (<br>Ward 1997 ) .\", \"Normality of distribution was evaluated for key variables (<br>Tabachnick and Fidell 2007 ) .\", \"No outliers or non -normal distributions were found for BOLD<br>response contrast in clusters showing group differences .\", \"However , five variables ( marijuana hits per month ,<br>lifetime other drug use , cigarettes smoked per month , FTND<br>total , and BDI total ) were positively skewed and kurtotic<br>, so were inverse transformed [ i.e . , 1/ ( 1 + the skewed<br>variable ) ; Tabachnick and Fidell 2007 ] .\", \"Group comparison results were further examined in analyses<br>of covariance ( ANCOVAs ) that controlled for potential<br>confound variables that differed between groups .\", \"Follow -up regression analyses were conducted among the MJ<br>users ( n=16 ) to examine BOLD response contrast to no -go<br>trials , averaged across the cluster , in the regions that<br>continued to differentiate users from controls in the above<br>ANCOVAs .\", \"BOLD response contrast to no -go trials was the dependent<br>variable , and variables indexing marijuana use , other<br>substance use , and risk factors for substance involvement<br>were the predictors .\", \"Groups did not differ significantly on mood state measures\", \"( see Table 1 ), but MJ users showed a trend for higher BDI<br>scores ( p=0.08 ) .\", \"Groups were similar and in the normal range on all CBCL<br>factor T scores , except that the MJ group was higher on<br>Rule -Breaking Behavior ( 53.00\\u00b18.23 MJ , 45.21\\u00b15.19<br>controls , p<0.005 ) .\", \"On the NEO -FFI , MJ youth demonstrated greater scores on<br>Openness ( 44.25 \\u00b1 3.11 MJ , 41.18\\u00b14.88 controls , p<0.05 )<br>but were statistically equivalent on other personality<br>scores .\", \"MJ youth committed more errors than controls on several<br>cognitive tests : more sequencing errors across all DKEFS<br>Trails conditions ( p<0.01 ) , more intrusion errors on a<br>word list learning task ( p<0.05 ) , and more repetition<br>errors on DKEFS Verbal Fluency ( p<0.05 ) .Task performance<br>data were available for 15 MJ and 15 control adolescents .\", \"No group differences or group by condition interactions were<br>found .\", \"As expected , participants responded more accurately (<br>p<.001 ) to go trials ( 98.97 \\u00b1 1.88 % MJ , 98.70\\u00b11.62 %<br>controls ) than no -go trials ( 82.92 \\u00b1 9.57 % MJ ,<br>81.64\\u00b110.73 % controls ) .\", \"Groups were equivalent on reaction time to go trials (<br>588.11\\u00b140.44 MJ , 606.13 \\u00b1 74.35 controls , p=.38 ) .\", \"D \\u2032 , a signal detection index that considers the<br>probability of correct and incorrect responses ( i.e . , the<br>ability to separate go stimuli from the no -go stimulus ) ,<br>was also similar between groups ( 3.30\\u00b10.49 MJ , 3.04\\u00b10.84<br>controls , p=0.54 ) .\", \"Exit interview data showed that groups were equivalent on<br>task effort , motivation , and perceived errors , but MJ<br>users indicated use of more perceptual strategies ( e.g . ,<br>\\\" look for the small square to show up \\\" ) , while controls<br>tended to endorse cognitive strategies ( \\\" remember to hold<br>off when I see that shape \\\" or \\\" concentrate\\\" ) .f MRI<br>response Whole brain analyses showed that during inhibitory<br>trials relative to baseline , control adolescents showed<br>significantly increased activation in superior medial<br>frontal cortex and the left parahippocampal gyrus , and<br>decreased activation in bilateral posterior parietal and<br>inferior frontal regions .\", \"MJ users also showed increased inhibition -related<br>activation in superior frontal areas , as well as in<br>additional regions compared to controls , including numerous<br>left and medial prefrontal clusters , left posterior<br>parietal cortex , and multiple bilateral cerebellar regions<br>.\", \"MJ users showed decreased BOLD response during no -go trials<br>relative to baseline in right posterior parietal , inferior<br>frontal , and middle temporal cortices .\", \"Between -group comparisons revealed several clusters in<br>which MJ users showed significantly more BOLD response<br>during inhibition trials than controls : right anterior<br>superior and middle frontal gyri ( BA 10 , 46 ) , right<br>superior middle frontal gyrus extending down to the anterior<br>insula ( BA 6 , 13 ) , left anterior middle and superior<br>frontal gyri ( BA 10 ) , medial prefrontal cortex ( BA 6 ) ,<br>right and left posterior parietal cortex ( BA 7 , 40 ) , and<br>right lingual gyrus\", \"( BA 18 ; see Table 2 and Fig . 1 ). There were no clusters<br>in which MJ users showed significantly less inhibitory brain<br>response than controls .\", \"For go trials relative to baseline , controls showed<br>significant BOLD response in the bilateral ventral<br>prefrontal cortex , bilateral medial posterior parietal<br>cortex and cuneus , anterior cingulate , precentral gyrus ,<br>right anterior insula , and medial cerebellum .\", \"MJ users had multiple clusters of significant response to go<br>trials relative to baseline , including increased activation<br>in substantial portions of bilateral ventral prefrontal<br>cortex , bilateral medial superior frontal cortex , right<br>posterior parietal cortex , bilateral temporal cortex ,<br>anterior cingulate , precentral gyrus , left insula , and<br>bilateral cerebellum .\", \"Between -group comparisons indicated that MJ users had<br>significantly more BOLD response during go trials relative<br>to baseline than did controls in the right inferior frontal<br>gyrus and anterior insula ( BA 44 , 13 ) , right superior<br>frontal gyrus ( BA 9 , 10 ) , right superior parietal lobule<br>( BA 7 ) , right inferior parietal lobule ( BA 40 ) , and<br>medial precuneus\", \"( BA 7 ; see Table 3 ). There were no clusters in which MJ<br>users had significantly less go response than controls .\", \"To determine whether the group differences reported above<br>were due to differences in other substance use or factors<br>that could predate marijuana use , secondary analyses using<br>ANCOVAs separately ( due to limited power ) controlled for<br>lifetime alcohol consumption , days since last drink ,<br>drinks per month , years of regular drinking , time since<br>last cigarette , past week cigarettes per smoking day ,<br>cigarettes per month , FTND total , number of lifetime other<br>drug use episodes , family history of substance use<br>disorders , family history of psychiatric disorders , each<br>NEO -FFI score , and BDI total .\", \"For all analyses , groups continued to differ on BOLD<br>response in all clusters ( p range , 0.001 to 0.0001 ) .To<br>determine whether differences between groups were due to<br>duration and intensity of exposure to THC or related to the<br>recency of marijuana use , we conducted a series of<br>exploratory regression analyses among MJ users ( n=16 ) .\", \"Duration of regular marijuana use was negatively related to<br>no -go brain response in the right anterior superior frontal<br>gyrus ( BA 10 ; \\u03b2=\\u22120.73 , p<0.001 ; plotted in Fig . 2 ) ,<br>right superior middle frontal gyrus ( BA 6 ; \\u03b2=\\u22120.58 ,<br>p<0.025 ) , and left anterior superior frontal gyrus ( BA 10<br>; \\u03b2=\\u22120.58 , p < 0.025 ) , suggesting that youth with longer<br>durations of marijuana involvement had less no -go brain<br>response .\", \"Similarly , early age of onset of regular marijuana use ( \\u03b2<br>= 0.66 , p<0.01 ) and more lifetime marijuana use episodes (<br>\\u03b2=\\u2212.62 , p<0.025 ) related to less inhibitory response in<br>the right anterior superior frontal gyrus ( BA 10 ) .\", \"Typical number of marijuana hits per month also was<br>negatively related to brain response in the right anterior<br>superior frontal gyrus ( BA 10 ; \\u03b2=\\u22120.73 , p<.005 ) , right<br>superior middle frontal gyrus ( BA 6 ; \\u03b2=\\u22120.71 , p<0.005 ) ,<br>left anterior superior frontal gyrus ( BA 10 ; \\u03b2=\\u22120.68 ,<br>p<0.01 ) , and left posterior parietal cortex ( BA 40 ;<br>\\u03b2=\\u22120.62 , p < 0.025 ) .\", \"Days since last marijuana use ( range , 28 to 240 ) , age ,<br>and neuropsychological test performance were not associated<br>with brain response in any region demonstrating a group<br>difference .\", \"Number of lifetime other drug use episodes ( primarily pain<br>medications ) was positively associated with BOLD response<br>contrast to no -go trials in the right anterior superior<br>frontal gyrus ( BA 10 ; \\u03b2=0.57 , p < 0.025 ) and right<br>middle frontal gyrus ( BA 6 , \\u03b2=0.56 , p < 0.025 ) .\", \"In this study , marijuana -using adolescents showed<br>increased BOLD response during both inhibitory and non<br>-inhibitory trials of a go/no -go task , even after a 28<br>-day washout period of abstinence from cannabis , as<br>compared to control adolescents with limited substance use<br>histories .\", \"Differences were prominent in dorsolateral prefrontal and<br>parietal areas .\", \"Our findings with adolescent marijuana users extend those of<br>others ( Gruber and Yurgelun -Todd 2005 ) , who Fig . 1<br>Inhibition trial differences in BOLD response contrast<br>between marijuana -using ( n=16 ) and non -using ( n=17 )<br>adolescents after 28 days of monitored abstinence .\", \"Blue areas show where users had more significantly BOLD<br>response during inhibition ( no -go ) trials relative to<br>baseline than non -users ( p<0.05 , clusters > 943 \\u03bcl ) ; no<br>clusters in which users showed significantly less activation<br>than controls were found ( see Table 2 ) showed that adult<br>marijuana users exhibited increased prefrontal response<br>during inhibition tasks .\", \"The present results thus suggest that the effects of<br>cannabis use on brain function in adolescents may persist<br>after a period of abstinence .\", \"A pattern of increased activation yet comparable performance<br>is consistent with functional compensation and<br>dedifferentiation ( Rajah and D 'Esposito 2005 ) , which<br>supposes that loci of functional activity are spread to more<br>and larger regions .\", \"Therefore , adolescent marijuana users appear to recruit<br>more neural tissue in executive control areas to adequately<br>perform the task , which is consistent with other studies<br>showing increased dorsolateral prefrontal activation in MJ<br>users during inhibition ( Gruber and Yurgelun -Todd 2005 )<br>and other ( Schweinsburg et al . 2005b ) cognitive tasks .\", \"Repeated cannabinoid use may alter neuromaturation in<br>regions with high CB1 densities , such as prefrontal cortex<br>( Eggan and Lewis 2007 ) .\", \"Synaptic pruning and gray matter sculpting occurs late in<br>some of the regions showing increased BOLD signal among<br>users , such as bilateral dorsolateral prefrontal cortex ,<br>where cortical thickness peaks at age 11.5 on average (<br>Gogtay et al . 2004 ; Sowell et al . 2003 ) .\", \"If prefrontal synaptic pruning is slowed by adolescent<br>marijuana use , greater activation may reflect excess neural<br>firing caused by a larger number of synaptic links .\", \"In their study of heavy marijuana -using adults , Gruber and<br>Yurgelun -Todd ( 2005 ) reported that heavy users had<br>increased prefrontal response to an inhibition task , as<br>seen in this study of adolescents , but also showed reduced<br>anterior cingulate response , which we did not observe in<br>this study .\", \"One possible explanation for this difference is the duration<br>of marijuana use in our cohort .\", \"It may take a longer period of use to evidence such changes<br>in cingulate responding .\", \"The increased parietal activation among marijuana -using<br>adolescents is consistent with findings from Jacobsen et al<br>. ( 2007 ) of heightened parietal response in marijuana<br>-involved youth during a verbal working memory task while<br>undergoing nicotine withdrawal , although here , nicotine<br>use rates were relatively low .\", \"As right dorsolateral prefrontal and parietal regions have<br>been implicated in sustained attention ( Drummond et al .<br>2005 ) , perhaps , users had a greater cognitive load<br>associated with attending to the stimuli in general and in<br>identifying the no -go stimulus in particular .\", \"Both go and no -go trials require sustained attention , and<br>overlap was observed for the right prefrontal/insular and<br>parietal regions where users showed greater BOLD response<br>than controls for both conditions .\", \"Adolescents with later onsets ( age , 16-18 ) and briefer<br>durations ( 1-2 years ) of regular marijuana use showed the<br>greatest divergence from normal controls in BOLD response to<br>the inhibition trials .\", \"Similarly , Chang et al . ( 2006 ) reported that adults who<br>started marijuana use in late adolescence had more frontal<br>activation during a visual attention task than adults who<br>started in early adolescence .\", \"Although our data do not address the molecular mechanism of<br>this difference , we can speculate about the nature of this<br>finding .\", \"For example , increased prefrontal activation during an<br>inhibitory task in adolescent users with a more recent onset<br>may reflect a stage of neural and behavioral compensation .\", \"This compensatory response may occur within the first few<br>years of regular adolescent marijuana use and may later be<br>followed by neuroadaptation or other processes , possibly<br>related to downregulation of cannabinoid ( CB1 ) receptors .\", \"Therefore , an inverted U -shaped response pattern may<br>emerge over time , which eventually results in brain<br>activation patterns that are indistinguishable from non<br>-users ( suggested in Fig . 2 ) . BOLD response is<br>influenced by cerebral blood flow , often abnormal in<br>marijuana users acutely and subacutely .\", \"Up to 36 h since last use , THC intake is associated with<br>increased cerebral blood flow ( Mathew et al . 2002 ) and<br>volume ( Sneider et al . 2006 ) in frontal , insular ,<br>anterior cingulate , cerebellum , temporal , and paralimbic<br>regions ; reductions in auditory and visual cortex ,<br>parietal lobe , and thalamus ; and no change in nucleus<br>accumbens , basal ganglia , or the hippocampus ( O 'Leary et<br>al . 2002 ) .\", \"Although increases in blood flow velocity and<br>cerebrovascular resistance dissipate from 3 to 28 days of<br>abstinence in adults with marijuana use levels consistent<br>with this sample ( i.e . , 15.9 days per month ) , very<br>heavy users remained abnormally elevated ( Herning et al .<br>2005 ) .\", \"Thus , increased BOLD response in adolescent marijuana users<br>could reflect residual cerebrovasculature abnormalities ,<br>although increased blood flow or volume would likely yield<br>lower BOLD response ( Brown et al . 2003 ) , not greater ,<br>as seen here .\", \"This study had several limitations .\", \"While groups were equivalent on many demographic variables ,<br>intelligence , Fig . 2 Marijuana using adolescents ( n=16 )<br>show more BOLD response ( y -axis displays fit coefficients<br>) during inhibition trials relative to baseline than control<br>adolescents ( n=17 ) in right dorsolateral prefrontal cortex<br>, largely accounted for by users with 1 to 3 years of<br>regular ( weekly ) marijuana use and task performance ,<br>marijuana users had greater alcohol and other substance<br>histories and a trend for more depressed symptomatology .\", \"Although activation patterns remained after controlling for<br>these factors , substance and affective differences pose the<br>possibility of synergistic effects , and we have previously<br>found adolescent heavy drinking to be related to abnormal<br>activation patterns on a spatial working memory task\", \"( Caldwell et al . 2005 ;\", \"Schweinsburg et al .\", \"2005b ;\", \"Tapert et al . 2001 Tapert et al . , 2004 .\", \"Reduced educational engagement or altered sleep quality<br>related to marijuana use might account for the differences .\", \"Critically , the current data cannot ascertain if marijuana<br>use during adolescence produces the observed differences or<br>if abnormalities existed before the onset of regular use .\", \"Groups did not differ on proportion with a family history of<br>substance use disorder , and youths with psychiatric<br>diagnosis ( e.g . , conduct disorder , attention<br>-deficit/hyperactivity disorder ) were excluded from the<br>study .\", \"Groups were similar with regard to most personality and<br>psychopathological syndrome dimensions but did differ on<br>openness to new experiences and parent report of delinquent<br>behaviors , which also may predate or result from adolescent<br>marijuana use , but did not account for group differences in<br>brain response .\", \"On the other hand , the adolescents who diverged most from<br>normal controls may simply differ on unmeasured risk factors<br>related to the initiation and escalation of substance use .\", \"Altered inhibitory processing may make adolescents<br>vulnerable to substance use initiation and escalation .\", \"The indication of extra neural effort required to inhibit<br>responses has important implications for adolescent<br>development and future substance involvement .\", \"Demands for inhibitory control increases substantially over<br>the course of late adolescence , particularly in school and<br>work environments as well as social and intimate<br>relationships .\", \"Consequently , youth required to exert extra neurocognitive<br>effort may be disadvantaged or become less successful in<br>maneuvering the normal transitions of adolescence and young<br>adulthood .\", \"Additionally , it may be harder for these youth to inhibit<br>the use of substances , particularly in situations where<br>cognitive demands are strained due to conflicting goals ,<br>distractions , peers , substance -relevant cues , or low<br>mood states .\"], \"type\": \"bar\", \"x\": [0, 1, 2, 3, 4, 5, 6, 7, 8, 9, 10, 11, 12, 13, 14, 15, 16, 17, 18, 19, 20, 21, 22, 23, 24, 25, 26, 27, 28, 29, 30, 31, 32, 33, 34, 35, 36, 37, 38, 39, 40, 41, 42, 43, 44, 45, 46, 47, 48, 49, 50, 51, 52, 53, 54, 55, 56, 57, 58, 59, 60, 61, 62, 63, 64, 65, 66, 67, 68, 69, 70, 71, 72, 73, 74, 75, 76, 77, 78, 79, 80, 81, 82, 83, 84, 85, 86, 87, 88, 89, 90, 91, 92, 93, 94, 95, 96, 97, 98, 99, 100, 101, 102, 103, 104, 105, 106, 107, 108, 109, 110, 111, 112, 113, 114, 115, 116, 117, 118, 119, 120, 121, 122, 123, 124, 125, 126, 127, 128, 129, 130, 131, 132, 133, 134, 135, 136, 137, 138, 139, 140, 141, 142, 143, 144, 145, 146, 147, 148, 149, 150, 151, 152, 153, 154, 155], \"y\": [1.5441070250494336e-05, 4.349663383116496e-06, 0.00025368584458639076, 0.01852345217976634, 3.5324026082997264e-06, 0.009172251312866015, 3.190095067804619e-06, 0.008786446448258134, 0.00012949663937056102, 1.4084852177418105e-06, 0.00016114393376113776, 0.0011994783470823044, 0.00534384543173814, 0.002009927680441912, 0.013189313395189028, 0.001539880548102824, 0.003692420217730535, 0.010892172564610692, 0.025426997516577895, 0.0014258474060191834, 0.00044581814080525825, 0.0007036549155366327, 0.0015374289669941679, 0.0012221855955467412, 2.6247291236872797e-07, 0.004301267924592271, 0.00641211822306966, 0.002032223729893848, 0.005378849951272273, 0.0008244239260009196, 0.006227094977834388, 1.863824655986939e-06, 0.0005536056943058866, 1.3818874901379795e-06, 1.346423016395488e-07, 7.3276019995374035e-06, 0.0, 2.7456171058601968e-05, 0.0005509434463286871, 1.261230358762346e-06, 1.0036213047324797e-05, 1.6611867971172776e-06, 1.0472179016409349e-07, 6.051836576718684e-06, 0.0, 2.5085860296295026e-05, 1.7567137139904106e-06, 5.1545895878096936e-05, 0.00022160886613168052, 0.0005544934133849398, 3.454718725344949e-06, 3.8847881908727337e-05, 0.0008871894614159036, 0.0022272016168175886, 0.0010769782121843657, 5.499589173268269e-07, 0.0005472996707775509, 1.0585610742699278e-06, 0.0003447102694034614, 1.922528864622891e-07, 0.0005315867005035403, 0.0, 1.0199375714682076e-06, 0.0005696263345422197, 1.3779337089004082e-06, 1.1844605677323507e-06, 0.0003174158210321842, 0.0002609380768870305, 0.0, 1.0795996016702965e-06, 2.460683553456825e-07, 7.402878548327192e-07, 1.2566614819691217e-07, 8.317423249040559e-06, 8.752231640211948e-05, 0.0006556878124715474, 0.00020146260557425504, 0.0009230796658487747, 0.00037342465113054707, 1.3457702052360236e-07, 0.0006999046072135188, 3.531267972422929e-05, 1.5708268524614023e-07, 3.5791760777553815e-07, 4.434073020942089e-06, 6.499973182598908e-08, 3.0306968425433067e-06, 0.002033028482457209, 4.935252365551461e-07, 0.0, 0.00015269707321134912, 0.0007373347914910372, 0.0004968714704872987, 0.0006583770639977107, 1.2261042642848342e-05, 0.000979281764722166, 0.0007682836031881443, 0.0007574921093211971, 0.007007457636094242, 0.007422857272977801, 0.00022035635988476698, 0.0007210739339339739, 0.0013914660621142231, 0.000583881165921896, 0.0035788816008788704, 0.0009872300278356686, 0.000984480659236654, 3.362014870720586e-05, 0.0002657256650041601, 0.00024418968328034817, 2.488486352030598e-06, 0.00035741358847728264, 0.00036876339336839675, 4.348664659369437e-05, 0.0006588962398919009, 6.326270195553956e-07, 0.00016348050408255193, 0.006741241333382938, 0.0004587754707711827, 0.006374043972180347, 0.014991200714748368, 0.0008066344842041707, 0.0013392554699769466, 0.012755591622819522, 0.0012251792325979692, 7.762928365771186e-06, 9.485425160676595e-05, 0.0038667531127497875, 0.0011447917488740605, 0.0019673263025476273, 0.0008148222205037071, 0.0039977963070341955, 3.902889699273899e-06, 0.017204033551302875, 4.3237058385565154e-05, 0.0042334893776155265, 0.0005523547878669736, 0.0005274401520740479, 0.0005272754880217312, 3.5190504574317573e-06, 0.0005817540061357952, 0.003772051271981831, 0.0, 0.0, null, 0.11102604193197194, 0.0026529567589416423, 5.402580487213401e-06, 4.312656228507113e-07, 0.00022183227948237332, 0.0008680461928321796, 0.0024661834907905907, 0.008414367149605266, 5.132213103607442e-06, 0.00042616897400638286, 2.7599660809379998e-05]}],\n",
       "                        {\"hoverlabel\": {\"bgcolor\": \"white\", \"font\": {\"family\": \"Rockwell\", \"size\": 13}}, \"template\": {\"data\": {\"bar\": [{\"error_x\": {\"color\": \"#2a3f5f\"}, \"error_y\": {\"color\": \"#2a3f5f\"}, \"marker\": {\"line\": {\"color\": \"#E5ECF6\", \"width\": 0.5}}, \"type\": \"bar\"}], \"barpolar\": [{\"marker\": {\"line\": {\"color\": \"#E5ECF6\", \"width\": 0.5}}, \"type\": \"barpolar\"}], \"carpet\": [{\"aaxis\": {\"endlinecolor\": \"#2a3f5f\", \"gridcolor\": \"white\", \"linecolor\": \"white\", \"minorgridcolor\": \"white\", \"startlinecolor\": \"#2a3f5f\"}, \"baxis\": {\"endlinecolor\": \"#2a3f5f\", \"gridcolor\": \"white\", \"linecolor\": \"white\", \"minorgridcolor\": \"white\", \"startlinecolor\": \"#2a3f5f\"}, \"type\": \"carpet\"}], \"choropleth\": [{\"colorbar\": {\"outlinewidth\": 0, \"ticks\": \"\"}, \"type\": \"choropleth\"}], \"contour\": [{\"colorbar\": {\"outlinewidth\": 0, \"ticks\": \"\"}, \"colorscale\": [[0.0, \"#0d0887\"], [0.1111111111111111, \"#46039f\"], [0.2222222222222222, \"#7201a8\"], [0.3333333333333333, \"#9c179e\"], [0.4444444444444444, \"#bd3786\"], [0.5555555555555556, \"#d8576b\"], [0.6666666666666666, \"#ed7953\"], [0.7777777777777778, \"#fb9f3a\"], [0.8888888888888888, \"#fdca26\"], [1.0, \"#f0f921\"]], \"type\": \"contour\"}], \"contourcarpet\": [{\"colorbar\": {\"outlinewidth\": 0, \"ticks\": \"\"}, \"type\": \"contourcarpet\"}], \"heatmap\": [{\"colorbar\": {\"outlinewidth\": 0, \"ticks\": \"\"}, \"colorscale\": [[0.0, \"#0d0887\"], [0.1111111111111111, \"#46039f\"], [0.2222222222222222, \"#7201a8\"], [0.3333333333333333, \"#9c179e\"], [0.4444444444444444, \"#bd3786\"], [0.5555555555555556, \"#d8576b\"], [0.6666666666666666, \"#ed7953\"], [0.7777777777777778, \"#fb9f3a\"], [0.8888888888888888, \"#fdca26\"], [1.0, \"#f0f921\"]], \"type\": \"heatmap\"}], \"heatmapgl\": [{\"colorbar\": {\"outlinewidth\": 0, \"ticks\": \"\"}, \"colorscale\": [[0.0, \"#0d0887\"], [0.1111111111111111, \"#46039f\"], [0.2222222222222222, \"#7201a8\"], [0.3333333333333333, \"#9c179e\"], [0.4444444444444444, \"#bd3786\"], [0.5555555555555556, \"#d8576b\"], [0.6666666666666666, \"#ed7953\"], [0.7777777777777778, \"#fb9f3a\"], [0.8888888888888888, \"#fdca26\"], [1.0, \"#f0f921\"]], \"type\": \"heatmapgl\"}], \"histogram\": [{\"marker\": {\"colorbar\": {\"outlinewidth\": 0, \"ticks\": \"\"}}, \"type\": \"histogram\"}], \"histogram2d\": [{\"colorbar\": {\"outlinewidth\": 0, \"ticks\": \"\"}, \"colorscale\": [[0.0, \"#0d0887\"], [0.1111111111111111, \"#46039f\"], [0.2222222222222222, \"#7201a8\"], [0.3333333333333333, \"#9c179e\"], [0.4444444444444444, \"#bd3786\"], [0.5555555555555556, \"#d8576b\"], [0.6666666666666666, \"#ed7953\"], [0.7777777777777778, \"#fb9f3a\"], [0.8888888888888888, \"#fdca26\"], [1.0, \"#f0f921\"]], \"type\": \"histogram2d\"}], \"histogram2dcontour\": [{\"colorbar\": {\"outlinewidth\": 0, \"ticks\": \"\"}, \"colorscale\": [[0.0, \"#0d0887\"], [0.1111111111111111, \"#46039f\"], [0.2222222222222222, \"#7201a8\"], [0.3333333333333333, \"#9c179e\"], [0.4444444444444444, \"#bd3786\"], [0.5555555555555556, \"#d8576b\"], [0.6666666666666666, \"#ed7953\"], [0.7777777777777778, \"#fb9f3a\"], [0.8888888888888888, \"#fdca26\"], [1.0, \"#f0f921\"]], \"type\": \"histogram2dcontour\"}], \"mesh3d\": [{\"colorbar\": {\"outlinewidth\": 0, \"ticks\": \"\"}, \"type\": \"mesh3d\"}], \"parcoords\": [{\"line\": {\"colorbar\": {\"outlinewidth\": 0, \"ticks\": \"\"}}, \"type\": \"parcoords\"}], \"pie\": [{\"automargin\": true, \"type\": \"pie\"}], \"scatter\": [{\"marker\": {\"colorbar\": {\"outlinewidth\": 0, \"ticks\": \"\"}}, \"type\": \"scatter\"}], \"scatter3d\": [{\"line\": {\"colorbar\": {\"outlinewidth\": 0, \"ticks\": \"\"}}, \"marker\": {\"colorbar\": {\"outlinewidth\": 0, \"ticks\": \"\"}}, \"type\": \"scatter3d\"}], \"scattercarpet\": [{\"marker\": {\"colorbar\": {\"outlinewidth\": 0, \"ticks\": \"\"}}, \"type\": \"scattercarpet\"}], \"scattergeo\": [{\"marker\": {\"colorbar\": {\"outlinewidth\": 0, \"ticks\": \"\"}}, \"type\": \"scattergeo\"}], \"scattergl\": [{\"marker\": {\"colorbar\": {\"outlinewidth\": 0, \"ticks\": \"\"}}, \"type\": \"scattergl\"}], \"scattermapbox\": [{\"marker\": {\"colorbar\": {\"outlinewidth\": 0, \"ticks\": \"\"}}, \"type\": \"scattermapbox\"}], \"scatterpolar\": [{\"marker\": {\"colorbar\": {\"outlinewidth\": 0, \"ticks\": \"\"}}, \"type\": \"scatterpolar\"}], \"scatterpolargl\": [{\"marker\": {\"colorbar\": {\"outlinewidth\": 0, \"ticks\": \"\"}}, \"type\": \"scatterpolargl\"}], \"scatterternary\": [{\"marker\": {\"colorbar\": {\"outlinewidth\": 0, \"ticks\": \"\"}}, \"type\": \"scatterternary\"}], \"surface\": [{\"colorbar\": {\"outlinewidth\": 0, \"ticks\": \"\"}, \"colorscale\": [[0.0, \"#0d0887\"], [0.1111111111111111, \"#46039f\"], [0.2222222222222222, \"#7201a8\"], [0.3333333333333333, \"#9c179e\"], [0.4444444444444444, \"#bd3786\"], [0.5555555555555556, \"#d8576b\"], [0.6666666666666666, \"#ed7953\"], [0.7777777777777778, \"#fb9f3a\"], [0.8888888888888888, \"#fdca26\"], [1.0, \"#f0f921\"]], \"type\": \"surface\"}], \"table\": [{\"cells\": {\"fill\": {\"color\": \"#EBF0F8\"}, \"line\": {\"color\": \"white\"}}, \"header\": {\"fill\": {\"color\": \"#C8D4E3\"}, \"line\": {\"color\": \"white\"}}, \"type\": \"table\"}]}, \"layout\": {\"annotationdefaults\": {\"arrowcolor\": \"#2a3f5f\", \"arrowhead\": 0, \"arrowwidth\": 1}, \"coloraxis\": {\"colorbar\": {\"outlinewidth\": 0, \"ticks\": \"\"}}, \"colorscale\": {\"diverging\": [[0, \"#8e0152\"], [0.1, \"#c51b7d\"], [0.2, \"#de77ae\"], [0.3, \"#f1b6da\"], [0.4, \"#fde0ef\"], [0.5, \"#f7f7f7\"], [0.6, \"#e6f5d0\"], [0.7, \"#b8e186\"], [0.8, \"#7fbc41\"], [0.9, \"#4d9221\"], [1, \"#276419\"]], \"sequential\": [[0.0, \"#0d0887\"], [0.1111111111111111, \"#46039f\"], [0.2222222222222222, \"#7201a8\"], [0.3333333333333333, \"#9c179e\"], [0.4444444444444444, \"#bd3786\"], [0.5555555555555556, \"#d8576b\"], [0.6666666666666666, \"#ed7953\"], [0.7777777777777778, \"#fb9f3a\"], [0.8888888888888888, \"#fdca26\"], [1.0, \"#f0f921\"]], \"sequentialminus\": [[0.0, \"#0d0887\"], [0.1111111111111111, \"#46039f\"], [0.2222222222222222, \"#7201a8\"], [0.3333333333333333, \"#9c179e\"], [0.4444444444444444, \"#bd3786\"], [0.5555555555555556, \"#d8576b\"], [0.6666666666666666, \"#ed7953\"], [0.7777777777777778, \"#fb9f3a\"], [0.8888888888888888, \"#fdca26\"], [1.0, \"#f0f921\"]]}, \"colorway\": [\"#636efa\", \"#EF553B\", \"#00cc96\", \"#ab63fa\", \"#FFA15A\", \"#19d3f3\", \"#FF6692\", \"#B6E880\", \"#FF97FF\", \"#FECB52\"], \"font\": {\"color\": \"#2a3f5f\"}, \"geo\": {\"bgcolor\": \"white\", \"lakecolor\": \"white\", \"landcolor\": \"#E5ECF6\", \"showlakes\": true, \"showland\": true, \"subunitcolor\": \"white\"}, \"hoverlabel\": {\"align\": \"left\"}, \"hovermode\": \"closest\", \"mapbox\": {\"style\": \"light\"}, \"paper_bgcolor\": \"white\", \"plot_bgcolor\": \"#E5ECF6\", \"polar\": {\"angularaxis\": {\"gridcolor\": \"white\", \"linecolor\": \"white\", \"ticks\": \"\"}, \"bgcolor\": \"#E5ECF6\", \"radialaxis\": {\"gridcolor\": \"white\", \"linecolor\": \"white\", \"ticks\": \"\"}}, \"scene\": {\"xaxis\": {\"backgroundcolor\": \"#E5ECF6\", \"gridcolor\": \"white\", \"gridwidth\": 2, \"linecolor\": \"white\", \"showbackground\": true, \"ticks\": \"\", \"zerolinecolor\": \"white\"}, \"yaxis\": {\"backgroundcolor\": \"#E5ECF6\", \"gridcolor\": \"white\", \"gridwidth\": 2, \"linecolor\": \"white\", \"showbackground\": true, \"ticks\": \"\", \"zerolinecolor\": \"white\"}, \"zaxis\": {\"backgroundcolor\": \"#E5ECF6\", \"gridcolor\": \"white\", \"gridwidth\": 2, \"linecolor\": \"white\", \"showbackground\": true, \"ticks\": \"\", \"zerolinecolor\": \"white\"}}, \"shapedefaults\": {\"line\": {\"color\": \"#2a3f5f\"}}, \"ternary\": {\"aaxis\": {\"gridcolor\": \"white\", \"linecolor\": \"white\", \"ticks\": \"\"}, \"baxis\": {\"gridcolor\": \"white\", \"linecolor\": \"white\", \"ticks\": \"\"}, \"bgcolor\": \"#E5ECF6\", \"caxis\": {\"gridcolor\": \"white\", \"linecolor\": \"white\", \"ticks\": \"\"}}, \"title\": {\"x\": 0.05}, \"xaxis\": {\"automargin\": true, \"gridcolor\": \"white\", \"linecolor\": \"white\", \"ticks\": \"\", \"title\": {\"standoff\": 15}, \"zerolinecolor\": \"white\", \"zerolinewidth\": 2}, \"yaxis\": {\"automargin\": true, \"gridcolor\": \"white\", \"linecolor\": \"white\", \"ticks\": \"\", \"title\": {\"standoff\": 15}, \"zerolinecolor\": \"white\", \"zerolinewidth\": 2}}}},\n",
       "                        {\"responsive\": true}\n",
       "                    ).then(function(){\n",
       "                            \n",
       "var gd = document.getElementById('9e056aff-0fe3-4a0c-bcb5-e8325eedfded');\n",
       "var x = new MutationObserver(function (mutations, observer) {{\n",
       "        var display = window.getComputedStyle(gd).display;\n",
       "        if (!display || display === 'none') {{\n",
       "            console.log([gd, 'removed!']);\n",
       "            Plotly.purge(gd);\n",
       "            observer.disconnect();\n",
       "        }}\n",
       "}});\n",
       "\n",
       "// Listen for the removal of the full notebook cells\n",
       "var notebookContainer = gd.closest('#notebook-container');\n",
       "if (notebookContainer) {{\n",
       "    x.observe(notebookContainer, {childList: true});\n",
       "}}\n",
       "\n",
       "// Listen for the clearing of the current output cell\n",
       "var outputEl = gd.closest('.output');\n",
       "if (outputEl) {{\n",
       "    x.observe(outputEl, {childList: true});\n",
       "}}\n",
       "\n",
       "                        })\n",
       "                };\n",
       "                });\n",
       "            </script>\n",
       "        </div>"
      ]
     },
     "metadata": {},
     "output_type": "display_data"
    },
    {
     "data": {
      "application/vnd.plotly.v1+json": {
       "config": {
        "plotlyServerURL": "https://plot.ly"
       },
       "data": [
        {
         "hovertext": [
          "Many individuals first experiment with alcohol and drugs<br>during adolescence ( SAMHSA 2003 ) , and marijuana is the<br>most commonly used illicit substance among teenagers (<br>Johnston et al . 2005 ) .",
          "Nearly half of 12th graders have tried marijuana , and 6 %<br>disclose daily use ( Johnston et al . 2005 ) .",
          "Adolescence is also a period of continued neurodevelopment ,<br>including frontal lobe myelination and synaptic pruning that<br>subserve improved executive functioning ( Gogtay et al .<br>2004 ; Sowell et al . 2002 ) , including abilities such as<br>decision making , inhibitory processing , and impulse<br>control .",
          "The influence of marijuana use on these maturational<br>processes is unknown , although executive dysfunction may<br>affect the development and maintenance of substance use and<br>problems during adolescence ( Tapert et al . 2002a ) .",
          "Adults with heavy marijuana use histories have demonstrated<br>abnormalities in executive functioning ( Fletcher et al .<br>1996 ; Pope and Yurgelun Todd 1996 ; Solowij et al . 2002 )<br>and indices of frontal lobe operation ( Block et al . 2000 ;<br>Kanayama et al . 2004 ; Lundqvist et al . 2001 ; Solowij et<br>al . 1991 Solowij et al . , 1995 Struve et al . 1998 ) .",
          "To determine if cognitive deficits in marijuana users are<br>transient or persistent , Pope et al . ( 2001 ) tested 63<br>current marijuana users ( > 5,000 lifetime uses ) , 45<br>former users ( > 5,000 lifetime uses ) , and 72 normal<br>controls ( 1-50 lifetime uses ) , all ages 30-55 .",
          "Participants were abstinent for 28 days , verified by urine<br>drug screens and given neuropsychological tests on days 0 ,<br>1 , 7 , and 28 of abstinence .",
          "Current users showed some deficits relative to controls on<br>days 0 , 1 , and 7 , but groups did not differ on any test<br>by day 28 .",
          "In contrast , a study ( Bolla et al . 2002 ) that<br>hospitalized 22 marijuana -using adults ( > 2 years of<br>marijuana use ) for 28 days to assure abstinence found<br>greater marijuana intake linked to poorer performance on<br>tests of inhibition , problem solving , learning , and<br>reaction time .",
          "Disinhibition , i.e . , the impaired ability to inhibit a<br>potentially inappropriate response , is a common feature of<br>substance misuse ( Chen et al . 2007 ; Kamarajan et al .<br>2006 ; Kirisci et al . 2006 ; Verdejo -Garcia et al . 2006 )<br>.",
          "Neuroimaging studies have reported both prefrontal and<br>posterior parietal cortical involvement during inhibitory<br>processing in healthy volunteers ( Liu et al . 2004 ) ,<br>which may be overactive in populations with impulse control<br>problems ( Schulz et al . 2004 ) .",
          "Few studies have examined inhibitory processing in marijuana<br>users .",
          "Functional magnetic resonance imaging ( f MRI )<br>characterized the neural correlates of inhibition during a<br>Stroop task , in which heavy marijuana -using adults and non<br>-users were asked to inhibit the automatic process of<br>reading words and , instead , name the colors of words<br>printed in incongruent ink ( Gruber and Yurgelun Todd 2005 )<br>.",
          "Marijuana users not only showed greater midcingulate and<br>reduced anterior cingulate blood oxygen level dependent (<br>BOLD ) response but also more widespread bilateral<br>dorsolateral prefrontal activation during inhibition<br>relative to color naming trials .",
          "The investigators speculated that the altered activation<br>pattern in marijuana users reflects compensation and use of<br>alternate strategies .",
          "The same investigators had shown in a previous f MRI study<br>using a working memory task before and after a 28 -day<br>abstinence period ( Yurgelun -Todd et al . 1998 ) that adult<br>users demonstrated less prefrontal and more anterior<br>cingulate response than controls after just 24 h of non -use<br>.",
          "Although users showed some normalization of prefrontal<br>functioning after 28 days of abstinence , they still showed<br>anterior cingulate dysfunction , which is supportive of<br>persisting neural processing abnormalities .",
          "These results support the hypothesis that adult marijuana<br>users show abnormal neural inhibitory processing ,<br>compensatory hyper -activity , and altered neural processing<br>differences in the absence of the intoxicating agent .",
          "Few studies have examined neurocognitive effects of<br>marijuana use among adolescents , but some reports<br>identified decrements in attention ( Tapert et al . 2002b )<br>, and learning and memory ( Millsaps et al . 1994 ; Schwartz<br>et al . 1989 ) associated with early marijuana use .",
          "We previously demonstrated increased dorsolateral prefrontal<br>and decreased inferior frontal f MRI response during a<br>spatial working memory task among teens with comorbid<br>alcohol and marijuana use disorders compared to those with<br>alcohol use disorders alone and to non -using controls ,<br>suggesting a marijuana use -related increase in dorsolateral<br>prefrontal effort ( Schweinsburg et al . 2005b ) .",
          "However , most studies of adolescent marijuana users were<br>conducted after several days of abstinence , so effects<br>could be transitory .",
          "Jacobsen et al . ( 2004 ) addressed this concern by<br>evaluating seven adolescent marijuana users , seven<br>demographically similar tobacco smokers , and seven non<br>-users with a working memory task during f MRI acquisition<br>after about a month of abstinence .",
          "Marijuana users were less accurate on the task and showed<br>increased BOLD response in the right hippocampus relative to<br>other groups .",
          "The authors suggested that marijuana users might have failed<br>to inhibit hippocampal activity during the task , perhaps<br>due to cannabis -induced changes in inhibitory<br>neurotransmission or apoptosis in the hippocampus .",
          "These researchers then compared 15 adolescents with and 18<br>without histories of cannabis use during nicotine withdrawal<br>.",
          "Cannabis users , but not non -users , showed nicotine<br>withdrawal -precipitated increases in parietal activation<br>and disruptions in frontoparietal connectivity during a<br>verbal working memory task",
          "( Jacobsen et al . 2007 ). Collectively , existing data<br>indicate some executive impairment and neural dysfunction<br>associated with adolescent marijuana use , although the<br>neural substrates specific to inhibitory processing have not<br>yet been examined in teenage marijuana users .",
          "In the current study , we performed BOLD f MRI during a<br>go/no -go task to characterize response inhibition among<br>adolescent marijuana users and non -using controls .",
          "Because studies of marijuana -using adults have suggested<br>improvements in cognitive and neural functioning after 28<br>days of abstinence ( Pope et al . 2001 ) , we required<br>participants to complete 28 days of monitored abstinence<br>before scanning to ensure that any group differences were<br>not due to recent use .",
          "The go/no -go task ( Anderson et al . 2005 ; Schweinsburg et<br>al . 2004b ) was designed to assess inhibitory processing by<br>asking participants to withhold a response to an<br>infrequently occurring stimulus .",
          "Previous studies have observed activation in dorsolateral<br>prefrontal , inferior frontal , anterior cingulate , and<br>posterior parietal regions among adolescents using this task<br>( Anderson et al . 2005 ; Schweinsburg et al . 2004a ) and<br>similar inhibition paradigms ( Adleman et al . 2002 ; Luna<br>et al . 2001 ; Tamm et al . 2002 ) .",
          "Participants were 16 -to 18 -year -olds enrolled in an<br>ongoing study of adolescents recruited from local high<br>schools and colleges ( Medina et al . 2007a , b ; Nagel et<br>al . 2006 ; Schweinsburg et al . 2005a ) .",
          "Sixteen adolescents were marijuana users ( MJ ) with at<br>least 60 lifetime episodes of cannabis use and limited<br>histories of other drug use , and 17 adolescents were<br>demographically similar non -using controls ( see Table 1<br>for demographic characteristics ) with less than five<br>lifetime episodes of cannabis use .",
          "Written assent and consent were obtained from adolescents<br>and their parent/legal guardians in accordance with the<br>University of California San Diego Human Research<br>Protections Program .",
          "Eligibility was ascertained through separate , private<br>telephone screening interviews with the youth and the parent<br>.",
          "Exclusionary criteria included left handedness ; history of<br>head injury with loss of consciousness > 2 min , learning<br>disabilities , medical or neurological problem , DSM -IV (<br>APA 1994 ) Axis I psychiatric disorder ( i.e . , mood ,<br>anxiety , psychotic , attention , and conduct disorders ) as<br>assessed by the computerized NIMH Diagnostic Interview<br>Schedule for Children Predictive Scales ( DISC -PS -4.32b ;<br>Lucas et al . 2001 ; Shaffer et al . 2000 ) Youth and Parent<br>versions , and use of any psychotropic medication ;<br>significant maternal drinking ( more that two drinks on an<br>occasion or more than four drinks in a week ) or other drug<br>use during pregnancy ; family history of bipolar I or<br>psychotic disorders determined by the Family History<br>Assessment Module ( Rice et al . 1995 ) ; and MRI<br>contraindications . MJ youth disclosed using marijuana an<br>average of ∼ 500 times in their lives",
          "( see Table 1 ), and three control youth had experience with<br>marijuana ( less than five times ) .",
          "MJ youth used marijuana every other day on average , before<br>being asked to remain abstinent for the 28 days before<br>scanning .",
          "Most MJ youth were current users , as all but three used in<br>the month before monitored abstinence .",
          "Substance use assessment Substance involvement was<br>ascertained using the Customary Drinking and Drug Use Record<br>( Brown et al . 1998 ) , an interview that obtains<br>information on lifetime and past 3 -month use of marijuana ,<br>alcohol , nicotine , other illicit drugs , and misuse of<br>prescription and over -the -counter medications , and<br>negative consequences associated with substance use .",
          "Strong internal consistency , test -retest , and inter<br>-rater reliability have been demonstrated with adolescents (<br>Brown et al . 1998 ; Stewart and Brown 1995 ) .",
          "The Fagerstrom Test for Nicotine Dependence ( FTND ;<br>Heatherton et al . 1991 ) indicated that no participant was<br>dependent on nicotine .",
          "The Timeline Followback ( Sobell and Sobell 1992 ) collected<br>details on substance use patterns for the month before and<br>during the 28 -day abstinence period .",
          "Continuous indices of level of internalizing and<br>externalizing psychopathological syndromes were assessed by<br>the 113 -item Child Behavior Checklist ( CBCL ; Achenbach<br>and Rescorla 2001 ) , administered to parents ( typically<br>biological mothers ) covering youth behaviors in the past 6<br>months .",
          "Eight -factor T scores ( rulebreaking behavior , aggressive<br>behavior , withdrawn/depressed , anxious/depressed , somatic<br>complaints , attention problems , social problems , and<br>thought problems ) and summary T scores ( externalizing ,<br>internalizing ) are provided .",
          "Personality Disinhibition and substance use may relate to<br>personality traits .",
          "Thus , all participants completed the NEO Five -Factor<br>Inventory ( NEO -FFI ; Costa and Mc Crae 1992 ) , a 60 -item<br>self -report personality questionnaire that assesses five<br>domains of personality : neuroticism , extraversion ,<br>openness , agreeableness , and conscientiousness .",
          "This factor structure has been replicated in adolescent<br>samples ( Fruyt et al . 2000 ) .",
          "Go/no -go task Participants performed a go/no -go task<br>during f MRI scanning ( Anderson et al . 2005 ; Schweinsburg<br>et al . 2004b ) .",
          "The task alternated between active blocks and resting blocks<br>.",
          "During resting blocks , participants viewed a \"+\" in the<br>center of the screen .",
          "During active blocks , a large square , small square , large<br>circle , and small circle were presented one at a time for<br>200 ms every 1,500 ms . Participants were instructed to<br>press a button as fast as possible every time they saw a<br>shape ( go stimuli ) except for the small square ( no -go<br>stimulus ) , thus requiring response inhibition .",
          "The task lasted 6 min and 24 s .",
          "Participants additionally performed the entire task before<br>scanning to ensure adequate comprehension of instructions<br>and to resolve potential practice effects",
          "To confirm that participants did not use substances in the 4<br>weeks before scanning , all participants ( controls and<br>marijuana users ) provided at least nine urine toxicology<br>screens ( two to three times per week ) during these 28 days<br>.",
          "Urine toxicology procedures can reliably detect evidence of<br>marijuana use 4 to 25 days after last use ( Fraser et al .<br>2002 ; Huestis and Cone 1998 ) , sometimes longer ( Lafolie<br>et al . 1991 ) , depending on pattern of use , body lipid<br>content , and metabolic features .",
          "Each urine sample was evaluated for metabolites indicating<br>recent use of cannabis , amphetamines , methamphetamines ,<br>barbiturates , benzodiazepines , cocaine , codeine ,<br>morphine , phencyclidine , and ethanol using cloned enzyme<br>donor immunoassay ( CEDIA DAU , Microgenics , Fremont , CA ,<br>USA ) .",
          "Observed urine sample collection procedures reduced the<br>possibility of participant tampering .",
          "Tetrahydrocannabinol ( THC ) values were monitored over the<br>28 -day period to ensure that levels decreased .",
          "Initial samples testing positive for THC metabolites were<br>assumed to reflect residual use if values decreased with<br>each subsequent sample collected .",
          "If levels increased or a positive screen was obtained after<br>a negative screen , the participant was given the option to<br>restart the 28 -day screening process or be dropped from the<br>study .",
          "Breathalyzers ( Alco Sensor IV , Intoximeter , St . Louis ,<br>MO , USA ) were conducted at each visit .",
          "To confirm urine results , a hair sample collected on the<br>scan day was analyzed for THC and other drug metabolites<br>suggestive of past month use ( Psychemedics , Culver City ,<br>CA , USA ) .",
          "Seven users , not described in this paper , were unable to<br>complete the 28 -day abstinence protocol .",
          "In preparation for scanning , each participant lay on the<br>scanner bed .",
          "Foam pads were arranged around the head to minimize motion .",
          "A mirror above the participant 's eyes enabled viewing of a<br>screen at the foot of the scanner bed , on which the task<br>was rear -projected from a laptop .",
          "Behavioral responses during the task were collected through<br>a fiber -optic button box ( Lumi Touch , Vancouver , BC ,<br>Canada ) .",
          "Imaging data were acquired on a 1.5 Tesla Signa LX ( General<br>Electric , Madison , WI , USA ) system .",
          "A structural image was collected in the sagittal plane using<br>an inversion recovery prepared T1 -weighted 3D spiral fast<br>spin echo sequence ( repetition time 2,000 ms , echo time 16<br>ms , field of view 240 mm , 128 continuous slices ,<br>resolution 0.9375×0.9375 × 1.328 mm , acquisition time 8:36<br>; Wong et al . 2000 ) .",
          "Data were processed and analyzed using Analysis of<br>Functional Neuro Images ( AFNI ; http://www.afni.nimh.nih .<br>gov ; Cox 1996 ) .",
          "First , an automated motion correction algorithm was applied<br>to the time series datasets ( Cox and Jesmanowicz 1999 ) .",
          "Two raters examined the time series data and removed<br>repetitions containing residual visible head motions .",
          "If > 18 % of repetitions were removed , the participant was<br>not included ( n=3 not described in this paper ) .",
          "Groups did not differ in the number of repetitions removed (<br>p=0.87 ) or absolute mean rotational or translational<br>adjustments applied .",
          "Average rotational ( roll , pitch , and yaw ) and<br>translational ( superior , left , and posterior ) movement ,<br>respectively , was 0.04 , 0.11 , and 0.05°and 0.07 , 0.04 ,<br>and 0.04 mm for MJ users , and 0.06 , 0.12 , 0.06°and 0.10 ,<br>0.04 , and 0.06 mm for controls .",
          "No significant differences between groups were found for<br>task -correlated motion",
          "( rs for the correlation between the task reference function<br>and each motion parameter were − 0.08 , − 0.10 , − 0.02 , −<br>0.11 , − 0.07 , and − 0.07 for MJ users and − 0.04 , − 0.06<br>, − 0.04 , − 0.10 , − 0.08 , and − 0.06 for controls ) .Next<br>, time series datasets were deconvolved with a reference<br>function representing the timing of go , no -go , and rest<br>stimuli presentation over the course of the task ( Ward 2002<br>) while accounting for hemodynamic delays ( Bandettini et al<br>. 1993 ; Boynton et al . 1996 ) and covarying for motion<br>adjustments applied and linear trends .",
          "This yielded fit coefficients representing the BOLD response<br>for ( 1 ) inhibition ( no -go ) trials relative to baseline<br>and ( 2 ) go trials relative to baseline in each voxel of<br>the brain for each subject .",
          "Data were transformed to standard space ( Lancaster et al .<br>2000 ; Talairach and Tournoux 1988 ) , resampled into<br>isotropic 3.5 -mm voxels , and spatially smoothed with a<br>Gaussian filter ( 3.5 mm full width half maximum ) to<br>account for anatomic variability between subjects .",
          "We determined regions of significant BOLD response<br>differences between MJ and control adolescents using<br>independent samples t tests in each voxel of the brain ,<br>performed separately on the BOLD response contrast for no<br>-go and for go trials .",
          "To control for type I error , we used a combination of t<br>statistic magnitude and cluster volume thresholding ( Forman<br>et al . 1995 ; Ward 1997 ) by only interpreting clusters<br>comprised of at least 22 contiguously activated voxels at<br>a<.05 ( ≥ 943 μl in volume ) .",
          "Anatomic localization was confirmed using the Talairach<br>Daemon ( Lancaster et al . 2000 ; Ward 1997 ) and AFNI (<br>Ward 1997 ) .",
          "Normality of distribution was evaluated for key variables (<br>Tabachnick and Fidell 2007 ) .",
          "No outliers or non -normal distributions were found for BOLD<br>response contrast in clusters showing group differences .",
          "However , five variables ( marijuana hits per month ,<br>lifetime other drug use , cigarettes smoked per month , FTND<br>total , and BDI total ) were positively skewed and kurtotic<br>, so were inverse transformed [ i.e . , 1/ ( 1 + the skewed<br>variable ) ; Tabachnick and Fidell 2007 ] .",
          "Group comparison results were further examined in analyses<br>of covariance ( ANCOVAs ) that controlled for potential<br>confound variables that differed between groups .",
          "Follow -up regression analyses were conducted among the MJ<br>users ( n=16 ) to examine BOLD response contrast to no -go<br>trials , averaged across the cluster , in the regions that<br>continued to differentiate users from controls in the above<br>ANCOVAs .",
          "BOLD response contrast to no -go trials was the dependent<br>variable , and variables indexing marijuana use , other<br>substance use , and risk factors for substance involvement<br>were the predictors .",
          "Groups did not differ significantly on mood state measures",
          "( see Table 1 ), but MJ users showed a trend for higher BDI<br>scores ( p=0.08 ) .",
          "Groups were similar and in the normal range on all CBCL<br>factor T scores , except that the MJ group was higher on<br>Rule -Breaking Behavior ( 53.00±8.23 MJ , 45.21±5.19<br>controls , p<0.005 ) .",
          "On the NEO -FFI , MJ youth demonstrated greater scores on<br>Openness ( 44.25 ± 3.11 MJ , 41.18±4.88 controls , p<0.05 )<br>but were statistically equivalent on other personality<br>scores .",
          "MJ youth committed more errors than controls on several<br>cognitive tests : more sequencing errors across all DKEFS<br>Trails conditions ( p<0.01 ) , more intrusion errors on a<br>word list learning task ( p<0.05 ) , and more repetition<br>errors on DKEFS Verbal Fluency ( p<0.05 ) .Task performance<br>data were available for 15 MJ and 15 control adolescents .",
          "No group differences or group by condition interactions were<br>found .",
          "As expected , participants responded more accurately (<br>p<.001 ) to go trials ( 98.97 ± 1.88 % MJ , 98.70±1.62 %<br>controls ) than no -go trials ( 82.92 ± 9.57 % MJ ,<br>81.64±10.73 % controls ) .",
          "Groups were equivalent on reaction time to go trials (<br>588.11±40.44 MJ , 606.13 ± 74.35 controls , p=.38 ) .",
          "D ′ , a signal detection index that considers the<br>probability of correct and incorrect responses ( i.e . , the<br>ability to separate go stimuli from the no -go stimulus ) ,<br>was also similar between groups ( 3.30±0.49 MJ , 3.04±0.84<br>controls , p=0.54 ) .",
          "Exit interview data showed that groups were equivalent on<br>task effort , motivation , and perceived errors , but MJ<br>users indicated use of more perceptual strategies ( e.g . ,<br>\" look for the small square to show up \" ) , while controls<br>tended to endorse cognitive strategies ( \" remember to hold<br>off when I see that shape \" or \" concentrate\" ) .f MRI<br>response Whole brain analyses showed that during inhibitory<br>trials relative to baseline , control adolescents showed<br>significantly increased activation in superior medial<br>frontal cortex and the left parahippocampal gyrus , and<br>decreased activation in bilateral posterior parietal and<br>inferior frontal regions .",
          "MJ users also showed increased inhibition -related<br>activation in superior frontal areas , as well as in<br>additional regions compared to controls , including numerous<br>left and medial prefrontal clusters , left posterior<br>parietal cortex , and multiple bilateral cerebellar regions<br>.",
          "MJ users showed decreased BOLD response during no -go trials<br>relative to baseline in right posterior parietal , inferior<br>frontal , and middle temporal cortices .",
          "Between -group comparisons revealed several clusters in<br>which MJ users showed significantly more BOLD response<br>during inhibition trials than controls : right anterior<br>superior and middle frontal gyri ( BA 10 , 46 ) , right<br>superior middle frontal gyrus extending down to the anterior<br>insula ( BA 6 , 13 ) , left anterior middle and superior<br>frontal gyri ( BA 10 ) , medial prefrontal cortex ( BA 6 ) ,<br>right and left posterior parietal cortex ( BA 7 , 40 ) , and<br>right lingual gyrus",
          "( BA 18 ; see Table 2 and Fig . 1 ). There were no clusters<br>in which MJ users showed significantly less inhibitory brain<br>response than controls .",
          "For go trials relative to baseline , controls showed<br>significant BOLD response in the bilateral ventral<br>prefrontal cortex , bilateral medial posterior parietal<br>cortex and cuneus , anterior cingulate , precentral gyrus ,<br>right anterior insula , and medial cerebellum .",
          "MJ users had multiple clusters of significant response to go<br>trials relative to baseline , including increased activation<br>in substantial portions of bilateral ventral prefrontal<br>cortex , bilateral medial superior frontal cortex , right<br>posterior parietal cortex , bilateral temporal cortex ,<br>anterior cingulate , precentral gyrus , left insula , and<br>bilateral cerebellum .",
          "Between -group comparisons indicated that MJ users had<br>significantly more BOLD response during go trials relative<br>to baseline than did controls in the right inferior frontal<br>gyrus and anterior insula ( BA 44 , 13 ) , right superior<br>frontal gyrus ( BA 9 , 10 ) , right superior parietal lobule<br>( BA 7 ) , right inferior parietal lobule ( BA 40 ) , and<br>medial precuneus",
          "( BA 7 ; see Table 3 ). There were no clusters in which MJ<br>users had significantly less go response than controls .",
          "To determine whether the group differences reported above<br>were due to differences in other substance use or factors<br>that could predate marijuana use , secondary analyses using<br>ANCOVAs separately ( due to limited power ) controlled for<br>lifetime alcohol consumption , days since last drink ,<br>drinks per month , years of regular drinking , time since<br>last cigarette , past week cigarettes per smoking day ,<br>cigarettes per month , FTND total , number of lifetime other<br>drug use episodes , family history of substance use<br>disorders , family history of psychiatric disorders , each<br>NEO -FFI score , and BDI total .",
          "For all analyses , groups continued to differ on BOLD<br>response in all clusters ( p range , 0.001 to 0.0001 ) .To<br>determine whether differences between groups were due to<br>duration and intensity of exposure to THC or related to the<br>recency of marijuana use , we conducted a series of<br>exploratory regression analyses among MJ users ( n=16 ) .",
          "Duration of regular marijuana use was negatively related to<br>no -go brain response in the right anterior superior frontal<br>gyrus ( BA 10 ; β=−0.73 , p<0.001 ; plotted in Fig . 2 ) ,<br>right superior middle frontal gyrus ( BA 6 ; β=−0.58 ,<br>p<0.025 ) , and left anterior superior frontal gyrus ( BA 10<br>; β=−0.58 , p < 0.025 ) , suggesting that youth with longer<br>durations of marijuana involvement had less no -go brain<br>response .",
          "Similarly , early age of onset of regular marijuana use ( β<br>= 0.66 , p<0.01 ) and more lifetime marijuana use episodes (<br>β=−.62 , p<0.025 ) related to less inhibitory response in<br>the right anterior superior frontal gyrus ( BA 10 ) .",
          "Typical number of marijuana hits per month also was<br>negatively related to brain response in the right anterior<br>superior frontal gyrus ( BA 10 ; β=−0.73 , p<.005 ) , right<br>superior middle frontal gyrus ( BA 6 ; β=−0.71 , p<0.005 ) ,<br>left anterior superior frontal gyrus ( BA 10 ; β=−0.68 ,<br>p<0.01 ) , and left posterior parietal cortex ( BA 40 ;<br>β=−0.62 , p < 0.025 ) .",
          "Days since last marijuana use ( range , 28 to 240 ) , age ,<br>and neuropsychological test performance were not associated<br>with brain response in any region demonstrating a group<br>difference .",
          "Number of lifetime other drug use episodes ( primarily pain<br>medications ) was positively associated with BOLD response<br>contrast to no -go trials in the right anterior superior<br>frontal gyrus ( BA 10 ; β=0.57 , p < 0.025 ) and right<br>middle frontal gyrus ( BA 6 , β=0.56 , p < 0.025 ) .",
          "In this study , marijuana -using adolescents showed<br>increased BOLD response during both inhibitory and non<br>-inhibitory trials of a go/no -go task , even after a 28<br>-day washout period of abstinence from cannabis , as<br>compared to control adolescents with limited substance use<br>histories .",
          "Differences were prominent in dorsolateral prefrontal and<br>parietal areas .",
          "Our findings with adolescent marijuana users extend those of<br>others ( Gruber and Yurgelun -Todd 2005 ) , who Fig . 1<br>Inhibition trial differences in BOLD response contrast<br>between marijuana -using ( n=16 ) and non -using ( n=17 )<br>adolescents after 28 days of monitored abstinence .",
          "Blue areas show where users had more significantly BOLD<br>response during inhibition ( no -go ) trials relative to<br>baseline than non -users ( p<0.05 , clusters > 943 μl ) ; no<br>clusters in which users showed significantly less activation<br>than controls were found ( see Table 2 ) showed that adult<br>marijuana users exhibited increased prefrontal response<br>during inhibition tasks .",
          "The present results thus suggest that the effects of<br>cannabis use on brain function in adolescents may persist<br>after a period of abstinence .",
          "A pattern of increased activation yet comparable performance<br>is consistent with functional compensation and<br>dedifferentiation ( Rajah and D 'Esposito 2005 ) , which<br>supposes that loci of functional activity are spread to more<br>and larger regions .",
          "Therefore , adolescent marijuana users appear to recruit<br>more neural tissue in executive control areas to adequately<br>perform the task , which is consistent with other studies<br>showing increased dorsolateral prefrontal activation in MJ<br>users during inhibition ( Gruber and Yurgelun -Todd 2005 )<br>and other ( Schweinsburg et al . 2005b ) cognitive tasks .",
          "Repeated cannabinoid use may alter neuromaturation in<br>regions with high CB1 densities , such as prefrontal cortex<br>( Eggan and Lewis 2007 ) .",
          "Synaptic pruning and gray matter sculpting occurs late in<br>some of the regions showing increased BOLD signal among<br>users , such as bilateral dorsolateral prefrontal cortex ,<br>where cortical thickness peaks at age 11.5 on average (<br>Gogtay et al . 2004 ; Sowell et al . 2003 ) .",
          "If prefrontal synaptic pruning is slowed by adolescent<br>marijuana use , greater activation may reflect excess neural<br>firing caused by a larger number of synaptic links .",
          "In their study of heavy marijuana -using adults , Gruber and<br>Yurgelun -Todd ( 2005 ) reported that heavy users had<br>increased prefrontal response to an inhibition task , as<br>seen in this study of adolescents , but also showed reduced<br>anterior cingulate response , which we did not observe in<br>this study .",
          "One possible explanation for this difference is the duration<br>of marijuana use in our cohort .",
          "It may take a longer period of use to evidence such changes<br>in cingulate responding .",
          "The increased parietal activation among marijuana -using<br>adolescents is consistent with findings from Jacobsen et al<br>. ( 2007 ) of heightened parietal response in marijuana<br>-involved youth during a verbal working memory task while<br>undergoing nicotine withdrawal , although here , nicotine<br>use rates were relatively low .",
          "As right dorsolateral prefrontal and parietal regions have<br>been implicated in sustained attention ( Drummond et al .<br>2005 ) , perhaps , users had a greater cognitive load<br>associated with attending to the stimuli in general and in<br>identifying the no -go stimulus in particular .",
          "Both go and no -go trials require sustained attention , and<br>overlap was observed for the right prefrontal/insular and<br>parietal regions where users showed greater BOLD response<br>than controls for both conditions .",
          "Adolescents with later onsets ( age , 16-18 ) and briefer<br>durations ( 1-2 years ) of regular marijuana use showed the<br>greatest divergence from normal controls in BOLD response to<br>the inhibition trials .",
          "Similarly , Chang et al . ( 2006 ) reported that adults who<br>started marijuana use in late adolescence had more frontal<br>activation during a visual attention task than adults who<br>started in early adolescence .",
          "Although our data do not address the molecular mechanism of<br>this difference , we can speculate about the nature of this<br>finding .",
          "For example , increased prefrontal activation during an<br>inhibitory task in adolescent users with a more recent onset<br>may reflect a stage of neural and behavioral compensation .",
          "This compensatory response may occur within the first few<br>years of regular adolescent marijuana use and may later be<br>followed by neuroadaptation or other processes , possibly<br>related to downregulation of cannabinoid ( CB1 ) receptors .",
          "Therefore , an inverted U -shaped response pattern may<br>emerge over time , which eventually results in brain<br>activation patterns that are indistinguishable from non<br>-users ( suggested in Fig . 2 ) . BOLD response is<br>influenced by cerebral blood flow , often abnormal in<br>marijuana users acutely and subacutely .",
          "Up to 36 h since last use , THC intake is associated with<br>increased cerebral blood flow ( Mathew et al . 2002 ) and<br>volume ( Sneider et al . 2006 ) in frontal , insular ,<br>anterior cingulate , cerebellum , temporal , and paralimbic<br>regions ; reductions in auditory and visual cortex ,<br>parietal lobe , and thalamus ; and no change in nucleus<br>accumbens , basal ganglia , or the hippocampus ( O 'Leary et<br>al . 2002 ) .",
          "Although increases in blood flow velocity and<br>cerebrovascular resistance dissipate from 3 to 28 days of<br>abstinence in adults with marijuana use levels consistent<br>with this sample ( i.e . , 15.9 days per month ) , very<br>heavy users remained abnormally elevated ( Herning et al .<br>2005 ) .",
          "Thus , increased BOLD response in adolescent marijuana users<br>could reflect residual cerebrovasculature abnormalities ,<br>although increased blood flow or volume would likely yield<br>lower BOLD response ( Brown et al . 2003 ) , not greater ,<br>as seen here .",
          "This study had several limitations .",
          "While groups were equivalent on many demographic variables ,<br>intelligence , Fig . 2 Marijuana using adolescents ( n=16 )<br>show more BOLD response ( y -axis displays fit coefficients<br>) during inhibition trials relative to baseline than control<br>adolescents ( n=17 ) in right dorsolateral prefrontal cortex<br>, largely accounted for by users with 1 to 3 years of<br>regular ( weekly ) marijuana use and task performance ,<br>marijuana users had greater alcohol and other substance<br>histories and a trend for more depressed symptomatology .",
          "Although activation patterns remained after controlling for<br>these factors , substance and affective differences pose the<br>possibility of synergistic effects , and we have previously<br>found adolescent heavy drinking to be related to abnormal<br>activation patterns on a spatial working memory task",
          "( Caldwell et al . 2005 ;",
          "Schweinsburg et al .",
          "2005b ;",
          "Tapert et al . 2001 Tapert et al . , 2004 .",
          "Reduced educational engagement or altered sleep quality<br>related to marijuana use might account for the differences .",
          "Critically , the current data cannot ascertain if marijuana<br>use during adolescence produces the observed differences or<br>if abnormalities existed before the onset of regular use .",
          "Groups did not differ on proportion with a family history of<br>substance use disorder , and youths with psychiatric<br>diagnosis ( e.g . , conduct disorder , attention<br>-deficit/hyperactivity disorder ) were excluded from the<br>study .",
          "Groups were similar with regard to most personality and<br>psychopathological syndrome dimensions but did differ on<br>openness to new experiences and parent report of delinquent<br>behaviors , which also may predate or result from adolescent<br>marijuana use , but did not account for group differences in<br>brain response .",
          "On the other hand , the adolescents who diverged most from<br>normal controls may simply differ on unmeasured risk factors<br>related to the initiation and escalation of substance use .",
          "Altered inhibitory processing may make adolescents<br>vulnerable to substance use initiation and escalation .",
          "The indication of extra neural effort required to inhibit<br>responses has important implications for adolescent<br>development and future substance involvement .",
          "Demands for inhibitory control increases substantially over<br>the course of late adolescence , particularly in school and<br>work environments as well as social and intimate<br>relationships .",
          "Consequently , youth required to exert extra neurocognitive<br>effort may be disadvantaged or become less successful in<br>maneuvering the normal transitions of adolescence and young<br>adulthood .",
          "Additionally , it may be harder for these youth to inhibit<br>the use of substances , particularly in situations where<br>cognitive demands are strained due to conflicting goals ,<br>distractions , peers , substance -relevant cues , or low<br>mood states ."
         ],
         "type": "bar",
         "x": [
          0,
          1,
          2,
          3,
          4,
          5,
          6,
          7,
          8,
          9,
          10,
          11,
          12,
          13,
          14,
          15,
          16,
          17,
          18,
          19,
          20,
          21,
          22,
          23,
          24,
          25,
          26,
          27,
          28,
          29,
          30,
          31,
          32,
          33,
          34,
          35,
          36,
          37,
          38,
          39,
          40,
          41,
          42,
          43,
          44,
          45,
          46,
          47,
          48,
          49,
          50,
          51,
          52,
          53,
          54,
          55,
          56,
          57,
          58,
          59,
          60,
          61,
          62,
          63,
          64,
          65,
          66,
          67,
          68,
          69,
          70,
          71,
          72,
          73,
          74,
          75,
          76,
          77,
          78,
          79,
          80,
          81,
          82,
          83,
          84,
          85,
          86,
          87,
          88,
          89,
          90,
          91,
          92,
          93,
          94,
          95,
          96,
          97,
          98,
          99,
          100,
          101,
          102,
          103,
          104,
          105,
          106,
          107,
          108,
          109,
          110,
          111,
          112,
          113,
          114,
          115,
          116,
          117,
          118,
          119,
          120,
          121,
          122,
          123,
          124,
          125,
          126,
          127,
          128,
          129,
          130,
          131,
          132,
          133,
          134,
          135,
          136,
          137,
          138,
          139,
          140,
          141,
          142,
          143,
          144,
          145,
          146,
          147,
          148,
          149,
          150,
          151,
          152,
          153,
          154,
          155
         ],
         "y": [
          1.1049087693040569e-05,
          2.7518599932421903e-06,
          0.00020651274593057607,
          0.015191148129078211,
          1.912898758772712e-06,
          0.006356780810155301,
          1.8061603812601555e-06,
          0.006382353643815537,
          0.00010447330397454066,
          1.0032045955789087e-06,
          0.00011629263694532347,
          0.0004526573922580326,
          0.0040989541719243135,
          0.0011987232183590765,
          0.00830510732260936,
          0.001174301765182794,
          0.0019641073661526218,
          0.006709671840668869,
          0.019148506882736283,
          0.0010312765989351136,
          0.00028771154606882163,
          0.0005120492873039887,
          0.0010914494124813347,
          0.0007944428183382907,
          1.5781906442217283e-07,
          0.0024954357455152943,
          0.0051504458576719534,
          0.001481271186990175,
          0.004343910013507145,
          0.0006387501518661595,
          0.0035048185132772586,
          1.054449428060606e-06,
          0.00038215121900700286,
          7.848369395793633e-07,
          7.225783322181047e-08,
          5.7391816513487545e-06,
          0,
          1.4773296060117845e-05,
          0.0003579104624775433,
          8.646418183769214e-07,
          6.402297352947139e-06,
          1.130235332660001e-06,
          6.648669192128435e-08,
          4.461268142518764e-06,
          0,
          7.884651308594808e-06,
          1.0992157229417745e-06,
          3.771174660170107e-05,
          0.0001150797994110931,
          0.00018935132225556968,
          1.8738494463468839e-06,
          2.6621229137072643e-05,
          0.0003069341890328236,
          0.0011371045463113923,
          0.0007516643636086821,
          4.628879730021374e-07,
          0.00024181482910494,
          3.449253295386503e-07,
          0.00022287641618630875,
          9.145012354770331e-08,
          0.00035833415640146516,
          0,
          7.062482944355994e-07,
          0.00039573554016795163,
          6.422730798949096e-07,
          4.20105623183994e-07,
          0.0001609741193622083,
          0.00016542217271489022,
          0,
          6.85474130216667e-07,
          1.3321825669719737e-07,
          4.796983745046694e-07,
          5.988157075118686e-08,
          5.428814582744302e-06,
          5.023870501416224e-05,
          0.00015959677872250843,
          0.00011919531354326111,
          0.0006108187554412828,
          0.00027556219282519676,
          8.561974397041841e-08,
          0.0005304613844626601,
          2.6803882645729083e-05,
          8.338108933560839e-08,
          2.322930629261184e-07,
          2.7933767375588592e-06,
          4.372434932452837e-08,
          2.019165544204112e-06,
          0.0015887918469472604,
          3.5371688143824345e-07,
          0,
          6.944920018459578e-05,
          0.0005078531801012661,
          0.00026614537924651177,
          0.0004121067061443252,
          6.595089931947852e-06,
          0.0003893538797815626,
          0.0004971552831229014,
          0.0005265115300527892,
          0.005561710269556502,
          0.004047932680939323,
          0.00010876487953973188,
          0.00035025840480845005,
          0.000996678281508119,
          0.00011339056765827589,
          0.0008971444887677731,
          0.000552356977864558,
          0.0006954139718951952,
          2.4640917906426206e-05,
          0.00021597394244162593,
          0.00013319591400518278,
          1.2970201821855777e-06,
          0.00010318130942630432,
          0.00029468681310076045,
          2.295353145292128e-05,
          0.0004706411464452533,
          1.2087472720910048e-07,
          0.00011474321703329732,
          0.005057201333095676,
          0.00032559826039416345,
          0.005254550367432526,
          0.012882873495568,
          0.0005329263084623855,
          0.0009859496359492545,
          0.006361047580851094,
          0.0009973414729542707,
          4.779223452949609e-06,
          6.933133229259735e-05,
          0.002975020891152947,
          0.000914289217579959,
          0.0013769719108449657,
          0.0006130151261283655,
          0.002860452250018298,
          2.405497636925829e-06,
          0.011566241249128743,
          3.312477588557015e-05,
          0.0033781604475500776,
          0.00035559580032107124,
          0.0004013673237195577,
          0.000431990950018513,
          1.9794549974028497e-06,
          0.0004727428709152301,
          0.0024563397023448473,
          0,
          0,
          null,
          0.01976864741223805,
          0.0016201188830528423,
          3.4947054623867894e-06,
          2.992437664849757e-07,
          0.00016793133453821553,
          0.0006222607040503369,
          0.001117777051605973,
          0.004666980739748977,
          3.419102387244919e-06,
          0.0002508993975886749,
          1.9778993217889464e-05
         ]
        }
       ],
       "layout": {
        "hoverlabel": {
         "bgcolor": "white",
         "font": {
          "family": "Rockwell",
          "size": 13
         }
        },
        "template": {
         "data": {
          "bar": [
           {
            "error_x": {
             "color": "#2a3f5f"
            },
            "error_y": {
             "color": "#2a3f5f"
            },
            "marker": {
             "line": {
              "color": "#E5ECF6",
              "width": 0.5
             }
            },
            "type": "bar"
           }
          ],
          "barpolar": [
           {
            "marker": {
             "line": {
              "color": "#E5ECF6",
              "width": 0.5
             }
            },
            "type": "barpolar"
           }
          ],
          "carpet": [
           {
            "aaxis": {
             "endlinecolor": "#2a3f5f",
             "gridcolor": "white",
             "linecolor": "white",
             "minorgridcolor": "white",
             "startlinecolor": "#2a3f5f"
            },
            "baxis": {
             "endlinecolor": "#2a3f5f",
             "gridcolor": "white",
             "linecolor": "white",
             "minorgridcolor": "white",
             "startlinecolor": "#2a3f5f"
            },
            "type": "carpet"
           }
          ],
          "choropleth": [
           {
            "colorbar": {
             "outlinewidth": 0,
             "ticks": ""
            },
            "type": "choropleth"
           }
          ],
          "contour": [
           {
            "colorbar": {
             "outlinewidth": 0,
             "ticks": ""
            },
            "colorscale": [
             [
              0,
              "#0d0887"
             ],
             [
              0.1111111111111111,
              "#46039f"
             ],
             [
              0.2222222222222222,
              "#7201a8"
             ],
             [
              0.3333333333333333,
              "#9c179e"
             ],
             [
              0.4444444444444444,
              "#bd3786"
             ],
             [
              0.5555555555555556,
              "#d8576b"
             ],
             [
              0.6666666666666666,
              "#ed7953"
             ],
             [
              0.7777777777777778,
              "#fb9f3a"
             ],
             [
              0.8888888888888888,
              "#fdca26"
             ],
             [
              1,
              "#f0f921"
             ]
            ],
            "type": "contour"
           }
          ],
          "contourcarpet": [
           {
            "colorbar": {
             "outlinewidth": 0,
             "ticks": ""
            },
            "type": "contourcarpet"
           }
          ],
          "heatmap": [
           {
            "colorbar": {
             "outlinewidth": 0,
             "ticks": ""
            },
            "colorscale": [
             [
              0,
              "#0d0887"
             ],
             [
              0.1111111111111111,
              "#46039f"
             ],
             [
              0.2222222222222222,
              "#7201a8"
             ],
             [
              0.3333333333333333,
              "#9c179e"
             ],
             [
              0.4444444444444444,
              "#bd3786"
             ],
             [
              0.5555555555555556,
              "#d8576b"
             ],
             [
              0.6666666666666666,
              "#ed7953"
             ],
             [
              0.7777777777777778,
              "#fb9f3a"
             ],
             [
              0.8888888888888888,
              "#fdca26"
             ],
             [
              1,
              "#f0f921"
             ]
            ],
            "type": "heatmap"
           }
          ],
          "heatmapgl": [
           {
            "colorbar": {
             "outlinewidth": 0,
             "ticks": ""
            },
            "colorscale": [
             [
              0,
              "#0d0887"
             ],
             [
              0.1111111111111111,
              "#46039f"
             ],
             [
              0.2222222222222222,
              "#7201a8"
             ],
             [
              0.3333333333333333,
              "#9c179e"
             ],
             [
              0.4444444444444444,
              "#bd3786"
             ],
             [
              0.5555555555555556,
              "#d8576b"
             ],
             [
              0.6666666666666666,
              "#ed7953"
             ],
             [
              0.7777777777777778,
              "#fb9f3a"
             ],
             [
              0.8888888888888888,
              "#fdca26"
             ],
             [
              1,
              "#f0f921"
             ]
            ],
            "type": "heatmapgl"
           }
          ],
          "histogram": [
           {
            "marker": {
             "colorbar": {
              "outlinewidth": 0,
              "ticks": ""
             }
            },
            "type": "histogram"
           }
          ],
          "histogram2d": [
           {
            "colorbar": {
             "outlinewidth": 0,
             "ticks": ""
            },
            "colorscale": [
             [
              0,
              "#0d0887"
             ],
             [
              0.1111111111111111,
              "#46039f"
             ],
             [
              0.2222222222222222,
              "#7201a8"
             ],
             [
              0.3333333333333333,
              "#9c179e"
             ],
             [
              0.4444444444444444,
              "#bd3786"
             ],
             [
              0.5555555555555556,
              "#d8576b"
             ],
             [
              0.6666666666666666,
              "#ed7953"
             ],
             [
              0.7777777777777778,
              "#fb9f3a"
             ],
             [
              0.8888888888888888,
              "#fdca26"
             ],
             [
              1,
              "#f0f921"
             ]
            ],
            "type": "histogram2d"
           }
          ],
          "histogram2dcontour": [
           {
            "colorbar": {
             "outlinewidth": 0,
             "ticks": ""
            },
            "colorscale": [
             [
              0,
              "#0d0887"
             ],
             [
              0.1111111111111111,
              "#46039f"
             ],
             [
              0.2222222222222222,
              "#7201a8"
             ],
             [
              0.3333333333333333,
              "#9c179e"
             ],
             [
              0.4444444444444444,
              "#bd3786"
             ],
             [
              0.5555555555555556,
              "#d8576b"
             ],
             [
              0.6666666666666666,
              "#ed7953"
             ],
             [
              0.7777777777777778,
              "#fb9f3a"
             ],
             [
              0.8888888888888888,
              "#fdca26"
             ],
             [
              1,
              "#f0f921"
             ]
            ],
            "type": "histogram2dcontour"
           }
          ],
          "mesh3d": [
           {
            "colorbar": {
             "outlinewidth": 0,
             "ticks": ""
            },
            "type": "mesh3d"
           }
          ],
          "parcoords": [
           {
            "line": {
             "colorbar": {
              "outlinewidth": 0,
              "ticks": ""
             }
            },
            "type": "parcoords"
           }
          ],
          "pie": [
           {
            "automargin": true,
            "type": "pie"
           }
          ],
          "scatter": [
           {
            "marker": {
             "colorbar": {
              "outlinewidth": 0,
              "ticks": ""
             }
            },
            "type": "scatter"
           }
          ],
          "scatter3d": [
           {
            "line": {
             "colorbar": {
              "outlinewidth": 0,
              "ticks": ""
             }
            },
            "marker": {
             "colorbar": {
              "outlinewidth": 0,
              "ticks": ""
             }
            },
            "type": "scatter3d"
           }
          ],
          "scattercarpet": [
           {
            "marker": {
             "colorbar": {
              "outlinewidth": 0,
              "ticks": ""
             }
            },
            "type": "scattercarpet"
           }
          ],
          "scattergeo": [
           {
            "marker": {
             "colorbar": {
              "outlinewidth": 0,
              "ticks": ""
             }
            },
            "type": "scattergeo"
           }
          ],
          "scattergl": [
           {
            "marker": {
             "colorbar": {
              "outlinewidth": 0,
              "ticks": ""
             }
            },
            "type": "scattergl"
           }
          ],
          "scattermapbox": [
           {
            "marker": {
             "colorbar": {
              "outlinewidth": 0,
              "ticks": ""
             }
            },
            "type": "scattermapbox"
           }
          ],
          "scatterpolar": [
           {
            "marker": {
             "colorbar": {
              "outlinewidth": 0,
              "ticks": ""
             }
            },
            "type": "scatterpolar"
           }
          ],
          "scatterpolargl": [
           {
            "marker": {
             "colorbar": {
              "outlinewidth": 0,
              "ticks": ""
             }
            },
            "type": "scatterpolargl"
           }
          ],
          "scatterternary": [
           {
            "marker": {
             "colorbar": {
              "outlinewidth": 0,
              "ticks": ""
             }
            },
            "type": "scatterternary"
           }
          ],
          "surface": [
           {
            "colorbar": {
             "outlinewidth": 0,
             "ticks": ""
            },
            "colorscale": [
             [
              0,
              "#0d0887"
             ],
             [
              0.1111111111111111,
              "#46039f"
             ],
             [
              0.2222222222222222,
              "#7201a8"
             ],
             [
              0.3333333333333333,
              "#9c179e"
             ],
             [
              0.4444444444444444,
              "#bd3786"
             ],
             [
              0.5555555555555556,
              "#d8576b"
             ],
             [
              0.6666666666666666,
              "#ed7953"
             ],
             [
              0.7777777777777778,
              "#fb9f3a"
             ],
             [
              0.8888888888888888,
              "#fdca26"
             ],
             [
              1,
              "#f0f921"
             ]
            ],
            "type": "surface"
           }
          ],
          "table": [
           {
            "cells": {
             "fill": {
              "color": "#EBF0F8"
             },
             "line": {
              "color": "white"
             }
            },
            "header": {
             "fill": {
              "color": "#C8D4E3"
             },
             "line": {
              "color": "white"
             }
            },
            "type": "table"
           }
          ]
         },
         "layout": {
          "annotationdefaults": {
           "arrowcolor": "#2a3f5f",
           "arrowhead": 0,
           "arrowwidth": 1
          },
          "coloraxis": {
           "colorbar": {
            "outlinewidth": 0,
            "ticks": ""
           }
          },
          "colorscale": {
           "diverging": [
            [
             0,
             "#8e0152"
            ],
            [
             0.1,
             "#c51b7d"
            ],
            [
             0.2,
             "#de77ae"
            ],
            [
             0.3,
             "#f1b6da"
            ],
            [
             0.4,
             "#fde0ef"
            ],
            [
             0.5,
             "#f7f7f7"
            ],
            [
             0.6,
             "#e6f5d0"
            ],
            [
             0.7,
             "#b8e186"
            ],
            [
             0.8,
             "#7fbc41"
            ],
            [
             0.9,
             "#4d9221"
            ],
            [
             1,
             "#276419"
            ]
           ],
           "sequential": [
            [
             0,
             "#0d0887"
            ],
            [
             0.1111111111111111,
             "#46039f"
            ],
            [
             0.2222222222222222,
             "#7201a8"
            ],
            [
             0.3333333333333333,
             "#9c179e"
            ],
            [
             0.4444444444444444,
             "#bd3786"
            ],
            [
             0.5555555555555556,
             "#d8576b"
            ],
            [
             0.6666666666666666,
             "#ed7953"
            ],
            [
             0.7777777777777778,
             "#fb9f3a"
            ],
            [
             0.8888888888888888,
             "#fdca26"
            ],
            [
             1,
             "#f0f921"
            ]
           ],
           "sequentialminus": [
            [
             0,
             "#0d0887"
            ],
            [
             0.1111111111111111,
             "#46039f"
            ],
            [
             0.2222222222222222,
             "#7201a8"
            ],
            [
             0.3333333333333333,
             "#9c179e"
            ],
            [
             0.4444444444444444,
             "#bd3786"
            ],
            [
             0.5555555555555556,
             "#d8576b"
            ],
            [
             0.6666666666666666,
             "#ed7953"
            ],
            [
             0.7777777777777778,
             "#fb9f3a"
            ],
            [
             0.8888888888888888,
             "#fdca26"
            ],
            [
             1,
             "#f0f921"
            ]
           ]
          },
          "colorway": [
           "#636efa",
           "#EF553B",
           "#00cc96",
           "#ab63fa",
           "#FFA15A",
           "#19d3f3",
           "#FF6692",
           "#B6E880",
           "#FF97FF",
           "#FECB52"
          ],
          "font": {
           "color": "#2a3f5f"
          },
          "geo": {
           "bgcolor": "white",
           "lakecolor": "white",
           "landcolor": "#E5ECF6",
           "showlakes": true,
           "showland": true,
           "subunitcolor": "white"
          },
          "hoverlabel": {
           "align": "left"
          },
          "hovermode": "closest",
          "mapbox": {
           "style": "light"
          },
          "paper_bgcolor": "white",
          "plot_bgcolor": "#E5ECF6",
          "polar": {
           "angularaxis": {
            "gridcolor": "white",
            "linecolor": "white",
            "ticks": ""
           },
           "bgcolor": "#E5ECF6",
           "radialaxis": {
            "gridcolor": "white",
            "linecolor": "white",
            "ticks": ""
           }
          },
          "scene": {
           "xaxis": {
            "backgroundcolor": "#E5ECF6",
            "gridcolor": "white",
            "gridwidth": 2,
            "linecolor": "white",
            "showbackground": true,
            "ticks": "",
            "zerolinecolor": "white"
           },
           "yaxis": {
            "backgroundcolor": "#E5ECF6",
            "gridcolor": "white",
            "gridwidth": 2,
            "linecolor": "white",
            "showbackground": true,
            "ticks": "",
            "zerolinecolor": "white"
           },
           "zaxis": {
            "backgroundcolor": "#E5ECF6",
            "gridcolor": "white",
            "gridwidth": 2,
            "linecolor": "white",
            "showbackground": true,
            "ticks": "",
            "zerolinecolor": "white"
           }
          },
          "shapedefaults": {
           "line": {
            "color": "#2a3f5f"
           }
          },
          "ternary": {
           "aaxis": {
            "gridcolor": "white",
            "linecolor": "white",
            "ticks": ""
           },
           "baxis": {
            "gridcolor": "white",
            "linecolor": "white",
            "ticks": ""
           },
           "bgcolor": "#E5ECF6",
           "caxis": {
            "gridcolor": "white",
            "linecolor": "white",
            "ticks": ""
           }
          },
          "title": {
           "x": 0.05
          },
          "xaxis": {
           "automargin": true,
           "gridcolor": "white",
           "linecolor": "white",
           "ticks": "",
           "title": {
            "standoff": 15
           },
           "zerolinecolor": "white",
           "zerolinewidth": 2
          },
          "yaxis": {
           "automargin": true,
           "gridcolor": "white",
           "linecolor": "white",
           "ticks": "",
           "title": {
            "standoff": 15
           },
           "zerolinecolor": "white",
           "zerolinewidth": 2
          }
         }
        }
       }
      },
      "text/html": [
       "<div>\n",
       "        \n",
       "        \n",
       "            <div id=\"7c318320-84dd-46d8-9f53-a8e5c31cf9ce\" class=\"plotly-graph-div\" style=\"height:525px; width:100%;\"></div>\n",
       "            <script type=\"text/javascript\">\n",
       "                require([\"plotly\"], function(Plotly) {\n",
       "                    window.PLOTLYENV=window.PLOTLYENV || {};\n",
       "                    \n",
       "                if (document.getElementById(\"7c318320-84dd-46d8-9f53-a8e5c31cf9ce\")) {\n",
       "                    Plotly.newPlot(\n",
       "                        '7c318320-84dd-46d8-9f53-a8e5c31cf9ce',\n",
       "                        [{\"hovertext\": [\"Many individuals first experiment with alcohol and drugs<br>during adolescence ( SAMHSA 2003 ) , and marijuana is the<br>most commonly used illicit substance among teenagers (<br>Johnston et al . 2005 ) .\", \"Nearly half of 12th graders have tried marijuana , and 6 %<br>disclose daily use ( Johnston et al . 2005 ) .\", \"Adolescence is also a period of continued neurodevelopment ,<br>including frontal lobe myelination and synaptic pruning that<br>subserve improved executive functioning ( Gogtay et al .<br>2004 ; Sowell et al . 2002 ) , including abilities such as<br>decision making , inhibitory processing , and impulse<br>control .\", \"The influence of marijuana use on these maturational<br>processes is unknown , although executive dysfunction may<br>affect the development and maintenance of substance use and<br>problems during adolescence ( Tapert et al . 2002a ) .\", \"Adults with heavy marijuana use histories have demonstrated<br>abnormalities in executive functioning ( Fletcher et al .<br>1996 ; Pope and Yurgelun Todd 1996 ; Solowij et al . 2002 )<br>and indices of frontal lobe operation ( Block et al . 2000 ;<br>Kanayama et al . 2004 ; Lundqvist et al . 2001 ; Solowij et<br>al . 1991 Solowij et al . , 1995 Struve et al . 1998 ) .\", \"To determine if cognitive deficits in marijuana users are<br>transient or persistent , Pope et al . ( 2001 ) tested 63<br>current marijuana users ( > 5,000 lifetime uses ) , 45<br>former users ( > 5,000 lifetime uses ) , and 72 normal<br>controls ( 1-50 lifetime uses ) , all ages 30-55 .\", \"Participants were abstinent for 28 days , verified by urine<br>drug screens and given neuropsychological tests on days 0 ,<br>1 , 7 , and 28 of abstinence .\", \"Current users showed some deficits relative to controls on<br>days 0 , 1 , and 7 , but groups did not differ on any test<br>by day 28 .\", \"In contrast , a study ( Bolla et al . 2002 ) that<br>hospitalized 22 marijuana -using adults ( > 2 years of<br>marijuana use ) for 28 days to assure abstinence found<br>greater marijuana intake linked to poorer performance on<br>tests of inhibition , problem solving , learning , and<br>reaction time .\", \"Disinhibition , i.e . , the impaired ability to inhibit a<br>potentially inappropriate response , is a common feature of<br>substance misuse ( Chen et al . 2007 ; Kamarajan et al .<br>2006 ; Kirisci et al . 2006 ; Verdejo -Garcia et al . 2006 )<br>.\", \"Neuroimaging studies have reported both prefrontal and<br>posterior parietal cortical involvement during inhibitory<br>processing in healthy volunteers ( Liu et al . 2004 ) ,<br>which may be overactive in populations with impulse control<br>problems ( Schulz et al . 2004 ) .\", \"Few studies have examined inhibitory processing in marijuana<br>users .\", \"Functional magnetic resonance imaging ( f MRI )<br>characterized the neural correlates of inhibition during a<br>Stroop task , in which heavy marijuana -using adults and non<br>-users were asked to inhibit the automatic process of<br>reading words and , instead , name the colors of words<br>printed in incongruent ink ( Gruber and Yurgelun Todd 2005 )<br>.\", \"Marijuana users not only showed greater midcingulate and<br>reduced anterior cingulate blood oxygen level dependent (<br>BOLD ) response but also more widespread bilateral<br>dorsolateral prefrontal activation during inhibition<br>relative to color naming trials .\", \"The investigators speculated that the altered activation<br>pattern in marijuana users reflects compensation and use of<br>alternate strategies .\", \"The same investigators had shown in a previous f MRI study<br>using a working memory task before and after a 28 -day<br>abstinence period ( Yurgelun -Todd et al . 1998 ) that adult<br>users demonstrated less prefrontal and more anterior<br>cingulate response than controls after just 24 h of non -use<br>.\", \"Although users showed some normalization of prefrontal<br>functioning after 28 days of abstinence , they still showed<br>anterior cingulate dysfunction , which is supportive of<br>persisting neural processing abnormalities .\", \"These results support the hypothesis that adult marijuana<br>users show abnormal neural inhibitory processing ,<br>compensatory hyper -activity , and altered neural processing<br>differences in the absence of the intoxicating agent .\", \"Few studies have examined neurocognitive effects of<br>marijuana use among adolescents , but some reports<br>identified decrements in attention ( Tapert et al . 2002b )<br>, and learning and memory ( Millsaps et al . 1994 ; Schwartz<br>et al . 1989 ) associated with early marijuana use .\", \"We previously demonstrated increased dorsolateral prefrontal<br>and decreased inferior frontal f MRI response during a<br>spatial working memory task among teens with comorbid<br>alcohol and marijuana use disorders compared to those with<br>alcohol use disorders alone and to non -using controls ,<br>suggesting a marijuana use -related increase in dorsolateral<br>prefrontal effort ( Schweinsburg et al . 2005b ) .\", \"However , most studies of adolescent marijuana users were<br>conducted after several days of abstinence , so effects<br>could be transitory .\", \"Jacobsen et al . ( 2004 ) addressed this concern by<br>evaluating seven adolescent marijuana users , seven<br>demographically similar tobacco smokers , and seven non<br>-users with a working memory task during f MRI acquisition<br>after about a month of abstinence .\", \"Marijuana users were less accurate on the task and showed<br>increased BOLD response in the right hippocampus relative to<br>other groups .\", \"The authors suggested that marijuana users might have failed<br>to inhibit hippocampal activity during the task , perhaps<br>due to cannabis -induced changes in inhibitory<br>neurotransmission or apoptosis in the hippocampus .\", \"These researchers then compared 15 adolescents with and 18<br>without histories of cannabis use during nicotine withdrawal<br>.\", \"Cannabis users , but not non -users , showed nicotine<br>withdrawal -precipitated increases in parietal activation<br>and disruptions in frontoparietal connectivity during a<br>verbal working memory task\", \"( Jacobsen et al . 2007 ). Collectively , existing data<br>indicate some executive impairment and neural dysfunction<br>associated with adolescent marijuana use , although the<br>neural substrates specific to inhibitory processing have not<br>yet been examined in teenage marijuana users .\", \"In the current study , we performed BOLD f MRI during a<br>go/no -go task to characterize response inhibition among<br>adolescent marijuana users and non -using controls .\", \"Because studies of marijuana -using adults have suggested<br>improvements in cognitive and neural functioning after 28<br>days of abstinence ( Pope et al . 2001 ) , we required<br>participants to complete 28 days of monitored abstinence<br>before scanning to ensure that any group differences were<br>not due to recent use .\", \"The go/no -go task ( Anderson et al . 2005 ; Schweinsburg et<br>al . 2004b ) was designed to assess inhibitory processing by<br>asking participants to withhold a response to an<br>infrequently occurring stimulus .\", \"Previous studies have observed activation in dorsolateral<br>prefrontal , inferior frontal , anterior cingulate , and<br>posterior parietal regions among adolescents using this task<br>( Anderson et al . 2005 ; Schweinsburg et al . 2004a ) and<br>similar inhibition paradigms ( Adleman et al . 2002 ; Luna<br>et al . 2001 ; Tamm et al . 2002 ) .\", \"Participants were 16 -to 18 -year -olds enrolled in an<br>ongoing study of adolescents recruited from local high<br>schools and colleges ( Medina et al . 2007a , b ; Nagel et<br>al . 2006 ; Schweinsburg et al . 2005a ) .\", \"Sixteen adolescents were marijuana users ( MJ ) with at<br>least 60 lifetime episodes of cannabis use and limited<br>histories of other drug use , and 17 adolescents were<br>demographically similar non -using controls ( see Table 1<br>for demographic characteristics ) with less than five<br>lifetime episodes of cannabis use .\", \"Written assent and consent were obtained from adolescents<br>and their parent/legal guardians in accordance with the<br>University of California San Diego Human Research<br>Protections Program .\", \"Eligibility was ascertained through separate , private<br>telephone screening interviews with the youth and the parent<br>.\", \"Exclusionary criteria included left handedness ; history of<br>head injury with loss of consciousness > 2 min , learning<br>disabilities , medical or neurological problem , DSM -IV (<br>APA 1994 ) Axis I psychiatric disorder ( i.e . , mood ,<br>anxiety , psychotic , attention , and conduct disorders ) as<br>assessed by the computerized NIMH Diagnostic Interview<br>Schedule for Children Predictive Scales ( DISC -PS -4.32b ;<br>Lucas et al . 2001 ; Shaffer et al . 2000 ) Youth and Parent<br>versions , and use of any psychotropic medication ;<br>significant maternal drinking ( more that two drinks on an<br>occasion or more than four drinks in a week ) or other drug<br>use during pregnancy ; family history of bipolar I or<br>psychotic disorders determined by the Family History<br>Assessment Module ( Rice et al . 1995 ) ; and MRI<br>contraindications . MJ youth disclosed using marijuana an<br>average of \\u223c 500 times in their lives\", \"( see Table 1 ), and three control youth had experience with<br>marijuana ( less than five times ) .\", \"MJ youth used marijuana every other day on average , before<br>being asked to remain abstinent for the 28 days before<br>scanning .\", \"Most MJ youth were current users , as all but three used in<br>the month before monitored abstinence .\", \"Substance use assessment Substance involvement was<br>ascertained using the Customary Drinking and Drug Use Record<br>( Brown et al . 1998 ) , an interview that obtains<br>information on lifetime and past 3 -month use of marijuana ,<br>alcohol , nicotine , other illicit drugs , and misuse of<br>prescription and over -the -counter medications , and<br>negative consequences associated with substance use .\", \"Strong internal consistency , test -retest , and inter<br>-rater reliability have been demonstrated with adolescents (<br>Brown et al . 1998 ; Stewart and Brown 1995 ) .\", \"The Fagerstrom Test for Nicotine Dependence ( FTND ;<br>Heatherton et al . 1991 ) indicated that no participant was<br>dependent on nicotine .\", \"The Timeline Followback ( Sobell and Sobell 1992 ) collected<br>details on substance use patterns for the month before and<br>during the 28 -day abstinence period .\", \"Continuous indices of level of internalizing and<br>externalizing psychopathological syndromes were assessed by<br>the 113 -item Child Behavior Checklist ( CBCL ; Achenbach<br>and Rescorla 2001 ) , administered to parents ( typically<br>biological mothers ) covering youth behaviors in the past 6<br>months .\", \"Eight -factor T scores ( rulebreaking behavior , aggressive<br>behavior , withdrawn/depressed , anxious/depressed , somatic<br>complaints , attention problems , social problems , and<br>thought problems ) and summary T scores ( externalizing ,<br>internalizing ) are provided .\", \"Personality Disinhibition and substance use may relate to<br>personality traits .\", \"Thus , all participants completed the NEO Five -Factor<br>Inventory ( NEO -FFI ; Costa and Mc Crae 1992 ) , a 60 -item<br>self -report personality questionnaire that assesses five<br>domains of personality : neuroticism , extraversion ,<br>openness , agreeableness , and conscientiousness .\", \"This factor structure has been replicated in adolescent<br>samples ( Fruyt et al . 2000 ) .\", \"Go/no -go task Participants performed a go/no -go task<br>during f MRI scanning ( Anderson et al . 2005 ; Schweinsburg<br>et al . 2004b ) .\", \"The task alternated between active blocks and resting blocks<br>.\", \"During resting blocks , participants viewed a \\\"+\\\" in the<br>center of the screen .\", \"During active blocks , a large square , small square , large<br>circle , and small circle were presented one at a time for<br>200 ms every 1,500 ms . Participants were instructed to<br>press a button as fast as possible every time they saw a<br>shape ( go stimuli ) except for the small square ( no -go<br>stimulus ) , thus requiring response inhibition .\", \"The task lasted 6 min and 24 s .\", \"Participants additionally performed the entire task before<br>scanning to ensure adequate comprehension of instructions<br>and to resolve potential practice effects\", \"To confirm that participants did not use substances in the 4<br>weeks before scanning , all participants ( controls and<br>marijuana users ) provided at least nine urine toxicology<br>screens ( two to three times per week ) during these 28 days<br>.\", \"Urine toxicology procedures can reliably detect evidence of<br>marijuana use 4 to 25 days after last use ( Fraser et al .<br>2002 ; Huestis and Cone 1998 ) , sometimes longer ( Lafolie<br>et al . 1991 ) , depending on pattern of use , body lipid<br>content , and metabolic features .\", \"Each urine sample was evaluated for metabolites indicating<br>recent use of cannabis , amphetamines , methamphetamines ,<br>barbiturates , benzodiazepines , cocaine , codeine ,<br>morphine , phencyclidine , and ethanol using cloned enzyme<br>donor immunoassay ( CEDIA DAU , Microgenics , Fremont , CA ,<br>USA ) .\", \"Observed urine sample collection procedures reduced the<br>possibility of participant tampering .\", \"Tetrahydrocannabinol ( THC ) values were monitored over the<br>28 -day period to ensure that levels decreased .\", \"Initial samples testing positive for THC metabolites were<br>assumed to reflect residual use if values decreased with<br>each subsequent sample collected .\", \"If levels increased or a positive screen was obtained after<br>a negative screen , the participant was given the option to<br>restart the 28 -day screening process or be dropped from the<br>study .\", \"Breathalyzers ( Alco Sensor IV , Intoximeter , St . Louis ,<br>MO , USA ) were conducted at each visit .\", \"To confirm urine results , a hair sample collected on the<br>scan day was analyzed for THC and other drug metabolites<br>suggestive of past month use ( Psychemedics , Culver City ,<br>CA , USA ) .\", \"Seven users , not described in this paper , were unable to<br>complete the 28 -day abstinence protocol .\", \"In preparation for scanning , each participant lay on the<br>scanner bed .\", \"Foam pads were arranged around the head to minimize motion .\", \"A mirror above the participant 's eyes enabled viewing of a<br>screen at the foot of the scanner bed , on which the task<br>was rear -projected from a laptop .\", \"Behavioral responses during the task were collected through<br>a fiber -optic button box ( Lumi Touch , Vancouver , BC ,<br>Canada ) .\", \"Imaging data were acquired on a 1.5 Tesla Signa LX ( General<br>Electric , Madison , WI , USA ) system .\", \"A structural image was collected in the sagittal plane using<br>an inversion recovery prepared T1 -weighted 3D spiral fast<br>spin echo sequence ( repetition time 2,000 ms , echo time 16<br>ms , field of view 240 mm , 128 continuous slices ,<br>resolution 0.9375\\u00d70.9375 \\u00d7 1.328 mm , acquisition time 8:36<br>; Wong et al . 2000 ) .\", \"Data were processed and analyzed using Analysis of<br>Functional Neuro Images ( AFNI ; http://www.afni.nimh.nih .<br>gov ; Cox 1996 ) .\", \"First , an automated motion correction algorithm was applied<br>to the time series datasets ( Cox and Jesmanowicz 1999 ) .\", \"Two raters examined the time series data and removed<br>repetitions containing residual visible head motions .\", \"If > 18 % of repetitions were removed , the participant was<br>not included ( n=3 not described in this paper ) .\", \"Groups did not differ in the number of repetitions removed (<br>p=0.87 ) or absolute mean rotational or translational<br>adjustments applied .\", \"Average rotational ( roll , pitch , and yaw ) and<br>translational ( superior , left , and posterior ) movement ,<br>respectively , was 0.04 , 0.11 , and 0.05\\u00b0and 0.07 , 0.04 ,<br>and 0.04 mm for MJ users , and 0.06 , 0.12 , 0.06\\u00b0and 0.10 ,<br>0.04 , and 0.06 mm for controls .\", \"No significant differences between groups were found for<br>task -correlated motion\", \"( rs for the correlation between the task reference function<br>and each motion parameter were \\u2212 0.08 , \\u2212 0.10 , \\u2212 0.02 , \\u2212<br>0.11 , \\u2212 0.07 , and \\u2212 0.07 for MJ users and \\u2212 0.04 , \\u2212 0.06<br>, \\u2212 0.04 , \\u2212 0.10 , \\u2212 0.08 , and \\u2212 0.06 for controls ) .Next<br>, time series datasets were deconvolved with a reference<br>function representing the timing of go , no -go , and rest<br>stimuli presentation over the course of the task ( Ward 2002<br>) while accounting for hemodynamic delays ( Bandettini et al<br>. 1993 ; Boynton et al . 1996 ) and covarying for motion<br>adjustments applied and linear trends .\", \"This yielded fit coefficients representing the BOLD response<br>for ( 1 ) inhibition ( no -go ) trials relative to baseline<br>and ( 2 ) go trials relative to baseline in each voxel of<br>the brain for each subject .\", \"Data were transformed to standard space ( Lancaster et al .<br>2000 ; Talairach and Tournoux 1988 ) , resampled into<br>isotropic 3.5 -mm voxels , and spatially smoothed with a<br>Gaussian filter ( 3.5 mm full width half maximum ) to<br>account for anatomic variability between subjects .\", \"We determined regions of significant BOLD response<br>differences between MJ and control adolescents using<br>independent samples t tests in each voxel of the brain ,<br>performed separately on the BOLD response contrast for no<br>-go and for go trials .\", \"To control for type I error , we used a combination of t<br>statistic magnitude and cluster volume thresholding ( Forman<br>et al . 1995 ; Ward 1997 ) by only interpreting clusters<br>comprised of at least 22 contiguously activated voxels at<br>a<.05 ( \\u2265 943 \\u03bcl in volume ) .\", \"Anatomic localization was confirmed using the Talairach<br>Daemon ( Lancaster et al . 2000 ; Ward 1997 ) and AFNI (<br>Ward 1997 ) .\", \"Normality of distribution was evaluated for key variables (<br>Tabachnick and Fidell 2007 ) .\", \"No outliers or non -normal distributions were found for BOLD<br>response contrast in clusters showing group differences .\", \"However , five variables ( marijuana hits per month ,<br>lifetime other drug use , cigarettes smoked per month , FTND<br>total , and BDI total ) were positively skewed and kurtotic<br>, so were inverse transformed [ i.e . , 1/ ( 1 + the skewed<br>variable ) ; Tabachnick and Fidell 2007 ] .\", \"Group comparison results were further examined in analyses<br>of covariance ( ANCOVAs ) that controlled for potential<br>confound variables that differed between groups .\", \"Follow -up regression analyses were conducted among the MJ<br>users ( n=16 ) to examine BOLD response contrast to no -go<br>trials , averaged across the cluster , in the regions that<br>continued to differentiate users from controls in the above<br>ANCOVAs .\", \"BOLD response contrast to no -go trials was the dependent<br>variable , and variables indexing marijuana use , other<br>substance use , and risk factors for substance involvement<br>were the predictors .\", \"Groups did not differ significantly on mood state measures\", \"( see Table 1 ), but MJ users showed a trend for higher BDI<br>scores ( p=0.08 ) .\", \"Groups were similar and in the normal range on all CBCL<br>factor T scores , except that the MJ group was higher on<br>Rule -Breaking Behavior ( 53.00\\u00b18.23 MJ , 45.21\\u00b15.19<br>controls , p<0.005 ) .\", \"On the NEO -FFI , MJ youth demonstrated greater scores on<br>Openness ( 44.25 \\u00b1 3.11 MJ , 41.18\\u00b14.88 controls , p<0.05 )<br>but were statistically equivalent on other personality<br>scores .\", \"MJ youth committed more errors than controls on several<br>cognitive tests : more sequencing errors across all DKEFS<br>Trails conditions ( p<0.01 ) , more intrusion errors on a<br>word list learning task ( p<0.05 ) , and more repetition<br>errors on DKEFS Verbal Fluency ( p<0.05 ) .Task performance<br>data were available for 15 MJ and 15 control adolescents .\", \"No group differences or group by condition interactions were<br>found .\", \"As expected , participants responded more accurately (<br>p<.001 ) to go trials ( 98.97 \\u00b1 1.88 % MJ , 98.70\\u00b11.62 %<br>controls ) than no -go trials ( 82.92 \\u00b1 9.57 % MJ ,<br>81.64\\u00b110.73 % controls ) .\", \"Groups were equivalent on reaction time to go trials (<br>588.11\\u00b140.44 MJ , 606.13 \\u00b1 74.35 controls , p=.38 ) .\", \"D \\u2032 , a signal detection index that considers the<br>probability of correct and incorrect responses ( i.e . , the<br>ability to separate go stimuli from the no -go stimulus ) ,<br>was also similar between groups ( 3.30\\u00b10.49 MJ , 3.04\\u00b10.84<br>controls , p=0.54 ) .\", \"Exit interview data showed that groups were equivalent on<br>task effort , motivation , and perceived errors , but MJ<br>users indicated use of more perceptual strategies ( e.g . ,<br>\\\" look for the small square to show up \\\" ) , while controls<br>tended to endorse cognitive strategies ( \\\" remember to hold<br>off when I see that shape \\\" or \\\" concentrate\\\" ) .f MRI<br>response Whole brain analyses showed that during inhibitory<br>trials relative to baseline , control adolescents showed<br>significantly increased activation in superior medial<br>frontal cortex and the left parahippocampal gyrus , and<br>decreased activation in bilateral posterior parietal and<br>inferior frontal regions .\", \"MJ users also showed increased inhibition -related<br>activation in superior frontal areas , as well as in<br>additional regions compared to controls , including numerous<br>left and medial prefrontal clusters , left posterior<br>parietal cortex , and multiple bilateral cerebellar regions<br>.\", \"MJ users showed decreased BOLD response during no -go trials<br>relative to baseline in right posterior parietal , inferior<br>frontal , and middle temporal cortices .\", \"Between -group comparisons revealed several clusters in<br>which MJ users showed significantly more BOLD response<br>during inhibition trials than controls : right anterior<br>superior and middle frontal gyri ( BA 10 , 46 ) , right<br>superior middle frontal gyrus extending down to the anterior<br>insula ( BA 6 , 13 ) , left anterior middle and superior<br>frontal gyri ( BA 10 ) , medial prefrontal cortex ( BA 6 ) ,<br>right and left posterior parietal cortex ( BA 7 , 40 ) , and<br>right lingual gyrus\", \"( BA 18 ; see Table 2 and Fig . 1 ). There were no clusters<br>in which MJ users showed significantly less inhibitory brain<br>response than controls .\", \"For go trials relative to baseline , controls showed<br>significant BOLD response in the bilateral ventral<br>prefrontal cortex , bilateral medial posterior parietal<br>cortex and cuneus , anterior cingulate , precentral gyrus ,<br>right anterior insula , and medial cerebellum .\", \"MJ users had multiple clusters of significant response to go<br>trials relative to baseline , including increased activation<br>in substantial portions of bilateral ventral prefrontal<br>cortex , bilateral medial superior frontal cortex , right<br>posterior parietal cortex , bilateral temporal cortex ,<br>anterior cingulate , precentral gyrus , left insula , and<br>bilateral cerebellum .\", \"Between -group comparisons indicated that MJ users had<br>significantly more BOLD response during go trials relative<br>to baseline than did controls in the right inferior frontal<br>gyrus and anterior insula ( BA 44 , 13 ) , right superior<br>frontal gyrus ( BA 9 , 10 ) , right superior parietal lobule<br>( BA 7 ) , right inferior parietal lobule ( BA 40 ) , and<br>medial precuneus\", \"( BA 7 ; see Table 3 ). There were no clusters in which MJ<br>users had significantly less go response than controls .\", \"To determine whether the group differences reported above<br>were due to differences in other substance use or factors<br>that could predate marijuana use , secondary analyses using<br>ANCOVAs separately ( due to limited power ) controlled for<br>lifetime alcohol consumption , days since last drink ,<br>drinks per month , years of regular drinking , time since<br>last cigarette , past week cigarettes per smoking day ,<br>cigarettes per month , FTND total , number of lifetime other<br>drug use episodes , family history of substance use<br>disorders , family history of psychiatric disorders , each<br>NEO -FFI score , and BDI total .\", \"For all analyses , groups continued to differ on BOLD<br>response in all clusters ( p range , 0.001 to 0.0001 ) .To<br>determine whether differences between groups were due to<br>duration and intensity of exposure to THC or related to the<br>recency of marijuana use , we conducted a series of<br>exploratory regression analyses among MJ users ( n=16 ) .\", \"Duration of regular marijuana use was negatively related to<br>no -go brain response in the right anterior superior frontal<br>gyrus ( BA 10 ; \\u03b2=\\u22120.73 , p<0.001 ; plotted in Fig . 2 ) ,<br>right superior middle frontal gyrus ( BA 6 ; \\u03b2=\\u22120.58 ,<br>p<0.025 ) , and left anterior superior frontal gyrus ( BA 10<br>; \\u03b2=\\u22120.58 , p < 0.025 ) , suggesting that youth with longer<br>durations of marijuana involvement had less no -go brain<br>response .\", \"Similarly , early age of onset of regular marijuana use ( \\u03b2<br>= 0.66 , p<0.01 ) and more lifetime marijuana use episodes (<br>\\u03b2=\\u2212.62 , p<0.025 ) related to less inhibitory response in<br>the right anterior superior frontal gyrus ( BA 10 ) .\", \"Typical number of marijuana hits per month also was<br>negatively related to brain response in the right anterior<br>superior frontal gyrus ( BA 10 ; \\u03b2=\\u22120.73 , p<.005 ) , right<br>superior middle frontal gyrus ( BA 6 ; \\u03b2=\\u22120.71 , p<0.005 ) ,<br>left anterior superior frontal gyrus ( BA 10 ; \\u03b2=\\u22120.68 ,<br>p<0.01 ) , and left posterior parietal cortex ( BA 40 ;<br>\\u03b2=\\u22120.62 , p < 0.025 ) .\", \"Days since last marijuana use ( range , 28 to 240 ) , age ,<br>and neuropsychological test performance were not associated<br>with brain response in any region demonstrating a group<br>difference .\", \"Number of lifetime other drug use episodes ( primarily pain<br>medications ) was positively associated with BOLD response<br>contrast to no -go trials in the right anterior superior<br>frontal gyrus ( BA 10 ; \\u03b2=0.57 , p < 0.025 ) and right<br>middle frontal gyrus ( BA 6 , \\u03b2=0.56 , p < 0.025 ) .\", \"In this study , marijuana -using adolescents showed<br>increased BOLD response during both inhibitory and non<br>-inhibitory trials of a go/no -go task , even after a 28<br>-day washout period of abstinence from cannabis , as<br>compared to control adolescents with limited substance use<br>histories .\", \"Differences were prominent in dorsolateral prefrontal and<br>parietal areas .\", \"Our findings with adolescent marijuana users extend those of<br>others ( Gruber and Yurgelun -Todd 2005 ) , who Fig . 1<br>Inhibition trial differences in BOLD response contrast<br>between marijuana -using ( n=16 ) and non -using ( n=17 )<br>adolescents after 28 days of monitored abstinence .\", \"Blue areas show where users had more significantly BOLD<br>response during inhibition ( no -go ) trials relative to<br>baseline than non -users ( p<0.05 , clusters > 943 \\u03bcl ) ; no<br>clusters in which users showed significantly less activation<br>than controls were found ( see Table 2 ) showed that adult<br>marijuana users exhibited increased prefrontal response<br>during inhibition tasks .\", \"The present results thus suggest that the effects of<br>cannabis use on brain function in adolescents may persist<br>after a period of abstinence .\", \"A pattern of increased activation yet comparable performance<br>is consistent with functional compensation and<br>dedifferentiation ( Rajah and D 'Esposito 2005 ) , which<br>supposes that loci of functional activity are spread to more<br>and larger regions .\", \"Therefore , adolescent marijuana users appear to recruit<br>more neural tissue in executive control areas to adequately<br>perform the task , which is consistent with other studies<br>showing increased dorsolateral prefrontal activation in MJ<br>users during inhibition ( Gruber and Yurgelun -Todd 2005 )<br>and other ( Schweinsburg et al . 2005b ) cognitive tasks .\", \"Repeated cannabinoid use may alter neuromaturation in<br>regions with high CB1 densities , such as prefrontal cortex<br>( Eggan and Lewis 2007 ) .\", \"Synaptic pruning and gray matter sculpting occurs late in<br>some of the regions showing increased BOLD signal among<br>users , such as bilateral dorsolateral prefrontal cortex ,<br>where cortical thickness peaks at age 11.5 on average (<br>Gogtay et al . 2004 ; Sowell et al . 2003 ) .\", \"If prefrontal synaptic pruning is slowed by adolescent<br>marijuana use , greater activation may reflect excess neural<br>firing caused by a larger number of synaptic links .\", \"In their study of heavy marijuana -using adults , Gruber and<br>Yurgelun -Todd ( 2005 ) reported that heavy users had<br>increased prefrontal response to an inhibition task , as<br>seen in this study of adolescents , but also showed reduced<br>anterior cingulate response , which we did not observe in<br>this study .\", \"One possible explanation for this difference is the duration<br>of marijuana use in our cohort .\", \"It may take a longer period of use to evidence such changes<br>in cingulate responding .\", \"The increased parietal activation among marijuana -using<br>adolescents is consistent with findings from Jacobsen et al<br>. ( 2007 ) of heightened parietal response in marijuana<br>-involved youth during a verbal working memory task while<br>undergoing nicotine withdrawal , although here , nicotine<br>use rates were relatively low .\", \"As right dorsolateral prefrontal and parietal regions have<br>been implicated in sustained attention ( Drummond et al .<br>2005 ) , perhaps , users had a greater cognitive load<br>associated with attending to the stimuli in general and in<br>identifying the no -go stimulus in particular .\", \"Both go and no -go trials require sustained attention , and<br>overlap was observed for the right prefrontal/insular and<br>parietal regions where users showed greater BOLD response<br>than controls for both conditions .\", \"Adolescents with later onsets ( age , 16-18 ) and briefer<br>durations ( 1-2 years ) of regular marijuana use showed the<br>greatest divergence from normal controls in BOLD response to<br>the inhibition trials .\", \"Similarly , Chang et al . ( 2006 ) reported that adults who<br>started marijuana use in late adolescence had more frontal<br>activation during a visual attention task than adults who<br>started in early adolescence .\", \"Although our data do not address the molecular mechanism of<br>this difference , we can speculate about the nature of this<br>finding .\", \"For example , increased prefrontal activation during an<br>inhibitory task in adolescent users with a more recent onset<br>may reflect a stage of neural and behavioral compensation .\", \"This compensatory response may occur within the first few<br>years of regular adolescent marijuana use and may later be<br>followed by neuroadaptation or other processes , possibly<br>related to downregulation of cannabinoid ( CB1 ) receptors .\", \"Therefore , an inverted U -shaped response pattern may<br>emerge over time , which eventually results in brain<br>activation patterns that are indistinguishable from non<br>-users ( suggested in Fig . 2 ) . BOLD response is<br>influenced by cerebral blood flow , often abnormal in<br>marijuana users acutely and subacutely .\", \"Up to 36 h since last use , THC intake is associated with<br>increased cerebral blood flow ( Mathew et al . 2002 ) and<br>volume ( Sneider et al . 2006 ) in frontal , insular ,<br>anterior cingulate , cerebellum , temporal , and paralimbic<br>regions ; reductions in auditory and visual cortex ,<br>parietal lobe , and thalamus ; and no change in nucleus<br>accumbens , basal ganglia , or the hippocampus ( O 'Leary et<br>al . 2002 ) .\", \"Although increases in blood flow velocity and<br>cerebrovascular resistance dissipate from 3 to 28 days of<br>abstinence in adults with marijuana use levels consistent<br>with this sample ( i.e . , 15.9 days per month ) , very<br>heavy users remained abnormally elevated ( Herning et al .<br>2005 ) .\", \"Thus , increased BOLD response in adolescent marijuana users<br>could reflect residual cerebrovasculature abnormalities ,<br>although increased blood flow or volume would likely yield<br>lower BOLD response ( Brown et al . 2003 ) , not greater ,<br>as seen here .\", \"This study had several limitations .\", \"While groups were equivalent on many demographic variables ,<br>intelligence , Fig . 2 Marijuana using adolescents ( n=16 )<br>show more BOLD response ( y -axis displays fit coefficients<br>) during inhibition trials relative to baseline than control<br>adolescents ( n=17 ) in right dorsolateral prefrontal cortex<br>, largely accounted for by users with 1 to 3 years of<br>regular ( weekly ) marijuana use and task performance ,<br>marijuana users had greater alcohol and other substance<br>histories and a trend for more depressed symptomatology .\", \"Although activation patterns remained after controlling for<br>these factors , substance and affective differences pose the<br>possibility of synergistic effects , and we have previously<br>found adolescent heavy drinking to be related to abnormal<br>activation patterns on a spatial working memory task\", \"( Caldwell et al . 2005 ;\", \"Schweinsburg et al .\", \"2005b ;\", \"Tapert et al . 2001 Tapert et al . , 2004 .\", \"Reduced educational engagement or altered sleep quality<br>related to marijuana use might account for the differences .\", \"Critically , the current data cannot ascertain if marijuana<br>use during adolescence produces the observed differences or<br>if abnormalities existed before the onset of regular use .\", \"Groups did not differ on proportion with a family history of<br>substance use disorder , and youths with psychiatric<br>diagnosis ( e.g . , conduct disorder , attention<br>-deficit/hyperactivity disorder ) were excluded from the<br>study .\", \"Groups were similar with regard to most personality and<br>psychopathological syndrome dimensions but did differ on<br>openness to new experiences and parent report of delinquent<br>behaviors , which also may predate or result from adolescent<br>marijuana use , but did not account for group differences in<br>brain response .\", \"On the other hand , the adolescents who diverged most from<br>normal controls may simply differ on unmeasured risk factors<br>related to the initiation and escalation of substance use .\", \"Altered inhibitory processing may make adolescents<br>vulnerable to substance use initiation and escalation .\", \"The indication of extra neural effort required to inhibit<br>responses has important implications for adolescent<br>development and future substance involvement .\", \"Demands for inhibitory control increases substantially over<br>the course of late adolescence , particularly in school and<br>work environments as well as social and intimate<br>relationships .\", \"Consequently , youth required to exert extra neurocognitive<br>effort may be disadvantaged or become less successful in<br>maneuvering the normal transitions of adolescence and young<br>adulthood .\", \"Additionally , it may be harder for these youth to inhibit<br>the use of substances , particularly in situations where<br>cognitive demands are strained due to conflicting goals ,<br>distractions , peers , substance -relevant cues , or low<br>mood states .\"], \"type\": \"bar\", \"x\": [0, 1, 2, 3, 4, 5, 6, 7, 8, 9, 10, 11, 12, 13, 14, 15, 16, 17, 18, 19, 20, 21, 22, 23, 24, 25, 26, 27, 28, 29, 30, 31, 32, 33, 34, 35, 36, 37, 38, 39, 40, 41, 42, 43, 44, 45, 46, 47, 48, 49, 50, 51, 52, 53, 54, 55, 56, 57, 58, 59, 60, 61, 62, 63, 64, 65, 66, 67, 68, 69, 70, 71, 72, 73, 74, 75, 76, 77, 78, 79, 80, 81, 82, 83, 84, 85, 86, 87, 88, 89, 90, 91, 92, 93, 94, 95, 96, 97, 98, 99, 100, 101, 102, 103, 104, 105, 106, 107, 108, 109, 110, 111, 112, 113, 114, 115, 116, 117, 118, 119, 120, 121, 122, 123, 124, 125, 126, 127, 128, 129, 130, 131, 132, 133, 134, 135, 136, 137, 138, 139, 140, 141, 142, 143, 144, 145, 146, 147, 148, 149, 150, 151, 152, 153, 154, 155], \"y\": [1.1049087693040569e-05, 2.7518599932421903e-06, 0.00020651274593057607, 0.015191148129078211, 1.912898758772712e-06, 0.006356780810155301, 1.8061603812601555e-06, 0.006382353643815537, 0.00010447330397454066, 1.0032045955789087e-06, 0.00011629263694532347, 0.0004526573922580326, 0.0040989541719243135, 0.0011987232183590765, 0.00830510732260936, 0.001174301765182794, 0.0019641073661526218, 0.006709671840668869, 0.019148506882736283, 0.0010312765989351136, 0.00028771154606882163, 0.0005120492873039887, 0.0010914494124813347, 0.0007944428183382907, 1.5781906442217283e-07, 0.0024954357455152943, 0.0051504458576719534, 0.001481271186990175, 0.004343910013507145, 0.0006387501518661595, 0.0035048185132772586, 1.054449428060606e-06, 0.00038215121900700286, 7.848369395793633e-07, 7.225783322181047e-08, 5.7391816513487545e-06, 0.0, 1.4773296060117845e-05, 0.0003579104624775433, 8.646418183769214e-07, 6.402297352947139e-06, 1.130235332660001e-06, 6.648669192128435e-08, 4.461268142518764e-06, 0.0, 7.884651308594808e-06, 1.0992157229417745e-06, 3.771174660170107e-05, 0.0001150797994110931, 0.00018935132225556968, 1.8738494463468839e-06, 2.6621229137072643e-05, 0.0003069341890328236, 0.0011371045463113923, 0.0007516643636086821, 4.628879730021374e-07, 0.00024181482910494, 3.449253295386503e-07, 0.00022287641618630875, 9.145012354770331e-08, 0.00035833415640146516, 0.0, 7.062482944355994e-07, 0.00039573554016795163, 6.422730798949096e-07, 4.20105623183994e-07, 0.0001609741193622083, 0.00016542217271489022, 0.0, 6.85474130216667e-07, 1.3321825669719737e-07, 4.796983745046694e-07, 5.988157075118686e-08, 5.428814582744302e-06, 5.023870501416224e-05, 0.00015959677872250843, 0.00011919531354326111, 0.0006108187554412828, 0.00027556219282519676, 8.561974397041841e-08, 0.0005304613844626601, 2.6803882645729083e-05, 8.338108933560839e-08, 2.322930629261184e-07, 2.7933767375588592e-06, 4.372434932452837e-08, 2.019165544204112e-06, 0.0015887918469472604, 3.5371688143824345e-07, 0.0, 6.944920018459578e-05, 0.0005078531801012661, 0.00026614537924651177, 0.0004121067061443252, 6.595089931947852e-06, 0.0003893538797815626, 0.0004971552831229014, 0.0005265115300527892, 0.005561710269556502, 0.004047932680939323, 0.00010876487953973188, 0.00035025840480845005, 0.000996678281508119, 0.00011339056765827589, 0.0008971444887677731, 0.000552356977864558, 0.0006954139718951952, 2.4640917906426206e-05, 0.00021597394244162593, 0.00013319591400518278, 1.2970201821855777e-06, 0.00010318130942630432, 0.00029468681310076045, 2.295353145292128e-05, 0.0004706411464452533, 1.2087472720910048e-07, 0.00011474321703329732, 0.005057201333095676, 0.00032559826039416345, 0.005254550367432526, 0.012882873495568, 0.0005329263084623855, 0.0009859496359492545, 0.006361047580851094, 0.0009973414729542707, 4.779223452949609e-06, 6.933133229259735e-05, 0.002975020891152947, 0.000914289217579959, 0.0013769719108449657, 0.0006130151261283655, 0.002860452250018298, 2.405497636925829e-06, 0.011566241249128743, 3.312477588557015e-05, 0.0033781604475500776, 0.00035559580032107124, 0.0004013673237195577, 0.000431990950018513, 1.9794549974028497e-06, 0.0004727428709152301, 0.0024563397023448473, 0.0, 0.0, null, 0.01976864741223805, 0.0016201188830528423, 3.4947054623867894e-06, 2.992437664849757e-07, 0.00016793133453821553, 0.0006222607040503369, 0.001117777051605973, 0.004666980739748977, 3.419102387244919e-06, 0.0002508993975886749, 1.9778993217889464e-05]}],\n",
       "                        {\"hoverlabel\": {\"bgcolor\": \"white\", \"font\": {\"family\": \"Rockwell\", \"size\": 13}}, \"template\": {\"data\": {\"bar\": [{\"error_x\": {\"color\": \"#2a3f5f\"}, \"error_y\": {\"color\": \"#2a3f5f\"}, \"marker\": {\"line\": {\"color\": \"#E5ECF6\", \"width\": 0.5}}, \"type\": \"bar\"}], \"barpolar\": [{\"marker\": {\"line\": {\"color\": \"#E5ECF6\", \"width\": 0.5}}, \"type\": \"barpolar\"}], \"carpet\": [{\"aaxis\": {\"endlinecolor\": \"#2a3f5f\", \"gridcolor\": \"white\", \"linecolor\": \"white\", \"minorgridcolor\": \"white\", \"startlinecolor\": \"#2a3f5f\"}, \"baxis\": {\"endlinecolor\": \"#2a3f5f\", \"gridcolor\": \"white\", \"linecolor\": \"white\", \"minorgridcolor\": \"white\", \"startlinecolor\": \"#2a3f5f\"}, \"type\": \"carpet\"}], \"choropleth\": [{\"colorbar\": {\"outlinewidth\": 0, \"ticks\": \"\"}, \"type\": \"choropleth\"}], \"contour\": [{\"colorbar\": {\"outlinewidth\": 0, \"ticks\": \"\"}, \"colorscale\": [[0.0, \"#0d0887\"], [0.1111111111111111, \"#46039f\"], [0.2222222222222222, \"#7201a8\"], [0.3333333333333333, \"#9c179e\"], [0.4444444444444444, \"#bd3786\"], [0.5555555555555556, \"#d8576b\"], [0.6666666666666666, \"#ed7953\"], [0.7777777777777778, \"#fb9f3a\"], [0.8888888888888888, \"#fdca26\"], [1.0, \"#f0f921\"]], \"type\": \"contour\"}], \"contourcarpet\": [{\"colorbar\": {\"outlinewidth\": 0, \"ticks\": \"\"}, \"type\": \"contourcarpet\"}], \"heatmap\": [{\"colorbar\": {\"outlinewidth\": 0, \"ticks\": \"\"}, \"colorscale\": [[0.0, \"#0d0887\"], [0.1111111111111111, \"#46039f\"], [0.2222222222222222, \"#7201a8\"], [0.3333333333333333, \"#9c179e\"], [0.4444444444444444, \"#bd3786\"], [0.5555555555555556, \"#d8576b\"], [0.6666666666666666, \"#ed7953\"], [0.7777777777777778, \"#fb9f3a\"], [0.8888888888888888, \"#fdca26\"], [1.0, \"#f0f921\"]], \"type\": \"heatmap\"}], \"heatmapgl\": [{\"colorbar\": {\"outlinewidth\": 0, \"ticks\": \"\"}, \"colorscale\": [[0.0, \"#0d0887\"], [0.1111111111111111, \"#46039f\"], [0.2222222222222222, \"#7201a8\"], [0.3333333333333333, \"#9c179e\"], [0.4444444444444444, \"#bd3786\"], [0.5555555555555556, \"#d8576b\"], [0.6666666666666666, \"#ed7953\"], [0.7777777777777778, \"#fb9f3a\"], [0.8888888888888888, \"#fdca26\"], [1.0, \"#f0f921\"]], \"type\": \"heatmapgl\"}], \"histogram\": [{\"marker\": {\"colorbar\": {\"outlinewidth\": 0, \"ticks\": \"\"}}, \"type\": \"histogram\"}], \"histogram2d\": [{\"colorbar\": {\"outlinewidth\": 0, \"ticks\": \"\"}, \"colorscale\": [[0.0, \"#0d0887\"], [0.1111111111111111, \"#46039f\"], [0.2222222222222222, \"#7201a8\"], [0.3333333333333333, \"#9c179e\"], [0.4444444444444444, \"#bd3786\"], [0.5555555555555556, \"#d8576b\"], [0.6666666666666666, \"#ed7953\"], [0.7777777777777778, \"#fb9f3a\"], [0.8888888888888888, \"#fdca26\"], [1.0, \"#f0f921\"]], \"type\": \"histogram2d\"}], \"histogram2dcontour\": [{\"colorbar\": {\"outlinewidth\": 0, \"ticks\": \"\"}, \"colorscale\": [[0.0, \"#0d0887\"], [0.1111111111111111, \"#46039f\"], [0.2222222222222222, \"#7201a8\"], [0.3333333333333333, \"#9c179e\"], [0.4444444444444444, \"#bd3786\"], [0.5555555555555556, \"#d8576b\"], [0.6666666666666666, \"#ed7953\"], [0.7777777777777778, \"#fb9f3a\"], [0.8888888888888888, \"#fdca26\"], [1.0, \"#f0f921\"]], \"type\": \"histogram2dcontour\"}], \"mesh3d\": [{\"colorbar\": {\"outlinewidth\": 0, \"ticks\": \"\"}, \"type\": \"mesh3d\"}], \"parcoords\": [{\"line\": {\"colorbar\": {\"outlinewidth\": 0, \"ticks\": \"\"}}, \"type\": \"parcoords\"}], \"pie\": [{\"automargin\": true, \"type\": \"pie\"}], \"scatter\": [{\"marker\": {\"colorbar\": {\"outlinewidth\": 0, \"ticks\": \"\"}}, \"type\": \"scatter\"}], \"scatter3d\": [{\"line\": {\"colorbar\": {\"outlinewidth\": 0, \"ticks\": \"\"}}, \"marker\": {\"colorbar\": {\"outlinewidth\": 0, \"ticks\": \"\"}}, \"type\": \"scatter3d\"}], \"scattercarpet\": [{\"marker\": {\"colorbar\": {\"outlinewidth\": 0, \"ticks\": \"\"}}, \"type\": \"scattercarpet\"}], \"scattergeo\": [{\"marker\": {\"colorbar\": {\"outlinewidth\": 0, \"ticks\": \"\"}}, \"type\": \"scattergeo\"}], \"scattergl\": [{\"marker\": {\"colorbar\": {\"outlinewidth\": 0, \"ticks\": \"\"}}, \"type\": \"scattergl\"}], \"scattermapbox\": [{\"marker\": {\"colorbar\": {\"outlinewidth\": 0, \"ticks\": \"\"}}, \"type\": \"scattermapbox\"}], \"scatterpolar\": [{\"marker\": {\"colorbar\": {\"outlinewidth\": 0, \"ticks\": \"\"}}, \"type\": \"scatterpolar\"}], \"scatterpolargl\": [{\"marker\": {\"colorbar\": {\"outlinewidth\": 0, \"ticks\": \"\"}}, \"type\": \"scatterpolargl\"}], \"scatterternary\": [{\"marker\": {\"colorbar\": {\"outlinewidth\": 0, \"ticks\": \"\"}}, \"type\": \"scatterternary\"}], \"surface\": [{\"colorbar\": {\"outlinewidth\": 0, \"ticks\": \"\"}, \"colorscale\": [[0.0, \"#0d0887\"], [0.1111111111111111, \"#46039f\"], [0.2222222222222222, \"#7201a8\"], [0.3333333333333333, \"#9c179e\"], [0.4444444444444444, \"#bd3786\"], [0.5555555555555556, \"#d8576b\"], [0.6666666666666666, \"#ed7953\"], [0.7777777777777778, \"#fb9f3a\"], [0.8888888888888888, \"#fdca26\"], [1.0, \"#f0f921\"]], \"type\": \"surface\"}], \"table\": [{\"cells\": {\"fill\": {\"color\": \"#EBF0F8\"}, \"line\": {\"color\": \"white\"}}, \"header\": {\"fill\": {\"color\": \"#C8D4E3\"}, \"line\": {\"color\": \"white\"}}, \"type\": \"table\"}]}, \"layout\": {\"annotationdefaults\": {\"arrowcolor\": \"#2a3f5f\", \"arrowhead\": 0, \"arrowwidth\": 1}, \"coloraxis\": {\"colorbar\": {\"outlinewidth\": 0, \"ticks\": \"\"}}, \"colorscale\": {\"diverging\": [[0, \"#8e0152\"], [0.1, \"#c51b7d\"], [0.2, \"#de77ae\"], [0.3, \"#f1b6da\"], [0.4, \"#fde0ef\"], [0.5, \"#f7f7f7\"], [0.6, \"#e6f5d0\"], [0.7, \"#b8e186\"], [0.8, \"#7fbc41\"], [0.9, \"#4d9221\"], [1, \"#276419\"]], \"sequential\": [[0.0, \"#0d0887\"], [0.1111111111111111, \"#46039f\"], [0.2222222222222222, \"#7201a8\"], [0.3333333333333333, \"#9c179e\"], [0.4444444444444444, \"#bd3786\"], [0.5555555555555556, \"#d8576b\"], [0.6666666666666666, \"#ed7953\"], [0.7777777777777778, \"#fb9f3a\"], [0.8888888888888888, \"#fdca26\"], [1.0, \"#f0f921\"]], \"sequentialminus\": [[0.0, \"#0d0887\"], [0.1111111111111111, \"#46039f\"], [0.2222222222222222, \"#7201a8\"], [0.3333333333333333, \"#9c179e\"], [0.4444444444444444, \"#bd3786\"], [0.5555555555555556, \"#d8576b\"], [0.6666666666666666, \"#ed7953\"], [0.7777777777777778, \"#fb9f3a\"], [0.8888888888888888, \"#fdca26\"], [1.0, \"#f0f921\"]]}, \"colorway\": [\"#636efa\", \"#EF553B\", \"#00cc96\", \"#ab63fa\", \"#FFA15A\", \"#19d3f3\", \"#FF6692\", \"#B6E880\", \"#FF97FF\", \"#FECB52\"], \"font\": {\"color\": \"#2a3f5f\"}, \"geo\": {\"bgcolor\": \"white\", \"lakecolor\": \"white\", \"landcolor\": \"#E5ECF6\", \"showlakes\": true, \"showland\": true, \"subunitcolor\": \"white\"}, \"hoverlabel\": {\"align\": \"left\"}, \"hovermode\": \"closest\", \"mapbox\": {\"style\": \"light\"}, \"paper_bgcolor\": \"white\", \"plot_bgcolor\": \"#E5ECF6\", \"polar\": {\"angularaxis\": {\"gridcolor\": \"white\", \"linecolor\": \"white\", \"ticks\": \"\"}, \"bgcolor\": \"#E5ECF6\", \"radialaxis\": {\"gridcolor\": \"white\", \"linecolor\": \"white\", \"ticks\": \"\"}}, \"scene\": {\"xaxis\": {\"backgroundcolor\": \"#E5ECF6\", \"gridcolor\": \"white\", \"gridwidth\": 2, \"linecolor\": \"white\", \"showbackground\": true, \"ticks\": \"\", \"zerolinecolor\": \"white\"}, \"yaxis\": {\"backgroundcolor\": \"#E5ECF6\", \"gridcolor\": \"white\", \"gridwidth\": 2, \"linecolor\": \"white\", \"showbackground\": true, \"ticks\": \"\", \"zerolinecolor\": \"white\"}, \"zaxis\": {\"backgroundcolor\": \"#E5ECF6\", \"gridcolor\": \"white\", \"gridwidth\": 2, \"linecolor\": \"white\", \"showbackground\": true, \"ticks\": \"\", \"zerolinecolor\": \"white\"}}, \"shapedefaults\": {\"line\": {\"color\": \"#2a3f5f\"}}, \"ternary\": {\"aaxis\": {\"gridcolor\": \"white\", \"linecolor\": \"white\", \"ticks\": \"\"}, \"baxis\": {\"gridcolor\": \"white\", \"linecolor\": \"white\", \"ticks\": \"\"}, \"bgcolor\": \"#E5ECF6\", \"caxis\": {\"gridcolor\": \"white\", \"linecolor\": \"white\", \"ticks\": \"\"}}, \"title\": {\"x\": 0.05}, \"xaxis\": {\"automargin\": true, \"gridcolor\": \"white\", \"linecolor\": \"white\", \"ticks\": \"\", \"title\": {\"standoff\": 15}, \"zerolinecolor\": \"white\", \"zerolinewidth\": 2}, \"yaxis\": {\"automargin\": true, \"gridcolor\": \"white\", \"linecolor\": \"white\", \"ticks\": \"\", \"title\": {\"standoff\": 15}, \"zerolinecolor\": \"white\", \"zerolinewidth\": 2}}}},\n",
       "                        {\"responsive\": true}\n",
       "                    ).then(function(){\n",
       "                            \n",
       "var gd = document.getElementById('7c318320-84dd-46d8-9f53-a8e5c31cf9ce');\n",
       "var x = new MutationObserver(function (mutations, observer) {{\n",
       "        var display = window.getComputedStyle(gd).display;\n",
       "        if (!display || display === 'none') {{\n",
       "            console.log([gd, 'removed!']);\n",
       "            Plotly.purge(gd);\n",
       "            observer.disconnect();\n",
       "        }}\n",
       "}});\n",
       "\n",
       "// Listen for the removal of the full notebook cells\n",
       "var notebookContainer = gd.closest('#notebook-container');\n",
       "if (notebookContainer) {{\n",
       "    x.observe(notebookContainer, {childList: true});\n",
       "}}\n",
       "\n",
       "// Listen for the clearing of the current output cell\n",
       "var outputEl = gd.closest('.output');\n",
       "if (outputEl) {{\n",
       "    x.observe(outputEl, {childList: true});\n",
       "}}\n",
       "\n",
       "                        })\n",
       "                };\n",
       "                });\n",
       "            </script>\n",
       "        </div>"
      ]
     },
     "metadata": {},
     "output_type": "display_data"
    },
    {
     "data": {
      "application/vnd.plotly.v1+json": {
       "config": {
        "plotlyServerURL": "https://plot.ly"
       },
       "data": [
        {
         "hovertext": [
          "Many individuals first experiment with alcohol and drugs<br>during adolescence ( SAMHSA 2003 ) , and marijuana is the<br>most commonly used illicit substance among teenagers (<br>Johnston et al . 2005 ) .",
          "Nearly half of 12th graders have tried marijuana , and 6 %<br>disclose daily use ( Johnston et al . 2005 ) .",
          "Adolescence is also a period of continued neurodevelopment ,<br>including frontal lobe myelination and synaptic pruning that<br>subserve improved executive functioning ( Gogtay et al .<br>2004 ; Sowell et al . 2002 ) , including abilities such as<br>decision making , inhibitory processing , and impulse<br>control .",
          "The influence of marijuana use on these maturational<br>processes is unknown , although executive dysfunction may<br>affect the development and maintenance of substance use and<br>problems during adolescence ( Tapert et al . 2002a ) .",
          "Adults with heavy marijuana use histories have demonstrated<br>abnormalities in executive functioning ( Fletcher et al .<br>1996 ; Pope and Yurgelun Todd 1996 ; Solowij et al . 2002 )<br>and indices of frontal lobe operation ( Block et al . 2000 ;<br>Kanayama et al . 2004 ; Lundqvist et al . 2001 ; Solowij et<br>al . 1991 Solowij et al . , 1995 Struve et al . 1998 ) .",
          "To determine if cognitive deficits in marijuana users are<br>transient or persistent , Pope et al . ( 2001 ) tested 63<br>current marijuana users ( > 5,000 lifetime uses ) , 45<br>former users ( > 5,000 lifetime uses ) , and 72 normal<br>controls ( 1-50 lifetime uses ) , all ages 30-55 .",
          "Participants were abstinent for 28 days , verified by urine<br>drug screens and given neuropsychological tests on days 0 ,<br>1 , 7 , and 28 of abstinence .",
          "Current users showed some deficits relative to controls on<br>days 0 , 1 , and 7 , but groups did not differ on any test<br>by day 28 .",
          "In contrast , a study ( Bolla et al . 2002 ) that<br>hospitalized 22 marijuana -using adults ( > 2 years of<br>marijuana use ) for 28 days to assure abstinence found<br>greater marijuana intake linked to poorer performance on<br>tests of inhibition , problem solving , learning , and<br>reaction time .",
          "Disinhibition , i.e . , the impaired ability to inhibit a<br>potentially inappropriate response , is a common feature of<br>substance misuse ( Chen et al . 2007 ; Kamarajan et al .<br>2006 ; Kirisci et al . 2006 ; Verdejo -Garcia et al . 2006 )<br>.",
          "Neuroimaging studies have reported both prefrontal and<br>posterior parietal cortical involvement during inhibitory<br>processing in healthy volunteers ( Liu et al . 2004 ) ,<br>which may be overactive in populations with impulse control<br>problems ( Schulz et al . 2004 ) .",
          "Few studies have examined inhibitory processing in marijuana<br>users .",
          "Functional magnetic resonance imaging ( f MRI )<br>characterized the neural correlates of inhibition during a<br>Stroop task , in which heavy marijuana -using adults and non<br>-users were asked to inhibit the automatic process of<br>reading words and , instead , name the colors of words<br>printed in incongruent ink ( Gruber and Yurgelun Todd 2005 )<br>.",
          "Marijuana users not only showed greater midcingulate and<br>reduced anterior cingulate blood oxygen level dependent (<br>BOLD ) response but also more widespread bilateral<br>dorsolateral prefrontal activation during inhibition<br>relative to color naming trials .",
          "The investigators speculated that the altered activation<br>pattern in marijuana users reflects compensation and use of<br>alternate strategies .",
          "The same investigators had shown in a previous f MRI study<br>using a working memory task before and after a 28 -day<br>abstinence period ( Yurgelun -Todd et al . 1998 ) that adult<br>users demonstrated less prefrontal and more anterior<br>cingulate response than controls after just 24 h of non -use<br>.",
          "Although users showed some normalization of prefrontal<br>functioning after 28 days of abstinence , they still showed<br>anterior cingulate dysfunction , which is supportive of<br>persisting neural processing abnormalities .",
          "These results support the hypothesis that adult marijuana<br>users show abnormal neural inhibitory processing ,<br>compensatory hyper -activity , and altered neural processing<br>differences in the absence of the intoxicating agent .",
          "Few studies have examined neurocognitive effects of<br>marijuana use among adolescents , but some reports<br>identified decrements in attention ( Tapert et al . 2002b )<br>, and learning and memory ( Millsaps et al . 1994 ; Schwartz<br>et al . 1989 ) associated with early marijuana use .",
          "We previously demonstrated increased dorsolateral prefrontal<br>and decreased inferior frontal f MRI response during a<br>spatial working memory task among teens with comorbid<br>alcohol and marijuana use disorders compared to those with<br>alcohol use disorders alone and to non -using controls ,<br>suggesting a marijuana use -related increase in dorsolateral<br>prefrontal effort ( Schweinsburg et al . 2005b ) .",
          "However , most studies of adolescent marijuana users were<br>conducted after several days of abstinence , so effects<br>could be transitory .",
          "Jacobsen et al . ( 2004 ) addressed this concern by<br>evaluating seven adolescent marijuana users , seven<br>demographically similar tobacco smokers , and seven non<br>-users with a working memory task during f MRI acquisition<br>after about a month of abstinence .",
          "Marijuana users were less accurate on the task and showed<br>increased BOLD response in the right hippocampus relative to<br>other groups .",
          "The authors suggested that marijuana users might have failed<br>to inhibit hippocampal activity during the task , perhaps<br>due to cannabis -induced changes in inhibitory<br>neurotransmission or apoptosis in the hippocampus .",
          "These researchers then compared 15 adolescents with and 18<br>without histories of cannabis use during nicotine withdrawal<br>.",
          "Cannabis users , but not non -users , showed nicotine<br>withdrawal -precipitated increases in parietal activation<br>and disruptions in frontoparietal connectivity during a<br>verbal working memory task",
          "( Jacobsen et al . 2007 ). Collectively , existing data<br>indicate some executive impairment and neural dysfunction<br>associated with adolescent marijuana use , although the<br>neural substrates specific to inhibitory processing have not<br>yet been examined in teenage marijuana users .",
          "In the current study , we performed BOLD f MRI during a<br>go/no -go task to characterize response inhibition among<br>adolescent marijuana users and non -using controls .",
          "Because studies of marijuana -using adults have suggested<br>improvements in cognitive and neural functioning after 28<br>days of abstinence ( Pope et al . 2001 ) , we required<br>participants to complete 28 days of monitored abstinence<br>before scanning to ensure that any group differences were<br>not due to recent use .",
          "The go/no -go task ( Anderson et al . 2005 ; Schweinsburg et<br>al . 2004b ) was designed to assess inhibitory processing by<br>asking participants to withhold a response to an<br>infrequently occurring stimulus .",
          "Previous studies have observed activation in dorsolateral<br>prefrontal , inferior frontal , anterior cingulate , and<br>posterior parietal regions among adolescents using this task<br>( Anderson et al . 2005 ; Schweinsburg et al . 2004a ) and<br>similar inhibition paradigms ( Adleman et al . 2002 ; Luna<br>et al . 2001 ; Tamm et al . 2002 ) .",
          "Participants were 16 -to 18 -year -olds enrolled in an<br>ongoing study of adolescents recruited from local high<br>schools and colleges ( Medina et al . 2007a , b ; Nagel et<br>al . 2006 ; Schweinsburg et al . 2005a ) .",
          "Sixteen adolescents were marijuana users ( MJ ) with at<br>least 60 lifetime episodes of cannabis use and limited<br>histories of other drug use , and 17 adolescents were<br>demographically similar non -using controls ( see Table 1<br>for demographic characteristics ) with less than five<br>lifetime episodes of cannabis use .",
          "Written assent and consent were obtained from adolescents<br>and their parent/legal guardians in accordance with the<br>University of California San Diego Human Research<br>Protections Program .",
          "Eligibility was ascertained through separate , private<br>telephone screening interviews with the youth and the parent<br>.",
          "Exclusionary criteria included left handedness ; history of<br>head injury with loss of consciousness > 2 min , learning<br>disabilities , medical or neurological problem , DSM -IV (<br>APA 1994 ) Axis I psychiatric disorder ( i.e . , mood ,<br>anxiety , psychotic , attention , and conduct disorders ) as<br>assessed by the computerized NIMH Diagnostic Interview<br>Schedule for Children Predictive Scales ( DISC -PS -4.32b ;<br>Lucas et al . 2001 ; Shaffer et al . 2000 ) Youth and Parent<br>versions , and use of any psychotropic medication ;<br>significant maternal drinking ( more that two drinks on an<br>occasion or more than four drinks in a week ) or other drug<br>use during pregnancy ; family history of bipolar I or<br>psychotic disorders determined by the Family History<br>Assessment Module ( Rice et al . 1995 ) ; and MRI<br>contraindications . MJ youth disclosed using marijuana an<br>average of ∼ 500 times in their lives",
          "( see Table 1 ), and three control youth had experience with<br>marijuana ( less than five times ) .",
          "MJ youth used marijuana every other day on average , before<br>being asked to remain abstinent for the 28 days before<br>scanning .",
          "Most MJ youth were current users , as all but three used in<br>the month before monitored abstinence .",
          "Substance use assessment Substance involvement was<br>ascertained using the Customary Drinking and Drug Use Record<br>( Brown et al . 1998 ) , an interview that obtains<br>information on lifetime and past 3 -month use of marijuana ,<br>alcohol , nicotine , other illicit drugs , and misuse of<br>prescription and over -the -counter medications , and<br>negative consequences associated with substance use .",
          "Strong internal consistency , test -retest , and inter<br>-rater reliability have been demonstrated with adolescents (<br>Brown et al . 1998 ; Stewart and Brown 1995 ) .",
          "The Fagerstrom Test for Nicotine Dependence ( FTND ;<br>Heatherton et al . 1991 ) indicated that no participant was<br>dependent on nicotine .",
          "The Timeline Followback ( Sobell and Sobell 1992 ) collected<br>details on substance use patterns for the month before and<br>during the 28 -day abstinence period .",
          "Continuous indices of level of internalizing and<br>externalizing psychopathological syndromes were assessed by<br>the 113 -item Child Behavior Checklist ( CBCL ; Achenbach<br>and Rescorla 2001 ) , administered to parents ( typically<br>biological mothers ) covering youth behaviors in the past 6<br>months .",
          "Eight -factor T scores ( rulebreaking behavior , aggressive<br>behavior , withdrawn/depressed , anxious/depressed , somatic<br>complaints , attention problems , social problems , and<br>thought problems ) and summary T scores ( externalizing ,<br>internalizing ) are provided .",
          "Personality Disinhibition and substance use may relate to<br>personality traits .",
          "Thus , all participants completed the NEO Five -Factor<br>Inventory ( NEO -FFI ; Costa and Mc Crae 1992 ) , a 60 -item<br>self -report personality questionnaire that assesses five<br>domains of personality : neuroticism , extraversion ,<br>openness , agreeableness , and conscientiousness .",
          "This factor structure has been replicated in adolescent<br>samples ( Fruyt et al . 2000 ) .",
          "Go/no -go task Participants performed a go/no -go task<br>during f MRI scanning ( Anderson et al . 2005 ; Schweinsburg<br>et al . 2004b ) .",
          "The task alternated between active blocks and resting blocks<br>.",
          "During resting blocks , participants viewed a \"+\" in the<br>center of the screen .",
          "During active blocks , a large square , small square , large<br>circle , and small circle were presented one at a time for<br>200 ms every 1,500 ms . Participants were instructed to<br>press a button as fast as possible every time they saw a<br>shape ( go stimuli ) except for the small square ( no -go<br>stimulus ) , thus requiring response inhibition .",
          "The task lasted 6 min and 24 s .",
          "Participants additionally performed the entire task before<br>scanning to ensure adequate comprehension of instructions<br>and to resolve potential practice effects",
          "To confirm that participants did not use substances in the 4<br>weeks before scanning , all participants ( controls and<br>marijuana users ) provided at least nine urine toxicology<br>screens ( two to three times per week ) during these 28 days<br>.",
          "Urine toxicology procedures can reliably detect evidence of<br>marijuana use 4 to 25 days after last use ( Fraser et al .<br>2002 ; Huestis and Cone 1998 ) , sometimes longer ( Lafolie<br>et al . 1991 ) , depending on pattern of use , body lipid<br>content , and metabolic features .",
          "Each urine sample was evaluated for metabolites indicating<br>recent use of cannabis , amphetamines , methamphetamines ,<br>barbiturates , benzodiazepines , cocaine , codeine ,<br>morphine , phencyclidine , and ethanol using cloned enzyme<br>donor immunoassay ( CEDIA DAU , Microgenics , Fremont , CA ,<br>USA ) .",
          "Observed urine sample collection procedures reduced the<br>possibility of participant tampering .",
          "Tetrahydrocannabinol ( THC ) values were monitored over the<br>28 -day period to ensure that levels decreased .",
          "Initial samples testing positive for THC metabolites were<br>assumed to reflect residual use if values decreased with<br>each subsequent sample collected .",
          "If levels increased or a positive screen was obtained after<br>a negative screen , the participant was given the option to<br>restart the 28 -day screening process or be dropped from the<br>study .",
          "Breathalyzers ( Alco Sensor IV , Intoximeter , St . Louis ,<br>MO , USA ) were conducted at each visit .",
          "To confirm urine results , a hair sample collected on the<br>scan day was analyzed for THC and other drug metabolites<br>suggestive of past month use ( Psychemedics , Culver City ,<br>CA , USA ) .",
          "Seven users , not described in this paper , were unable to<br>complete the 28 -day abstinence protocol .",
          "In preparation for scanning , each participant lay on the<br>scanner bed .",
          "Foam pads were arranged around the head to minimize motion .",
          "A mirror above the participant 's eyes enabled viewing of a<br>screen at the foot of the scanner bed , on which the task<br>was rear -projected from a laptop .",
          "Behavioral responses during the task were collected through<br>a fiber -optic button box ( Lumi Touch , Vancouver , BC ,<br>Canada ) .",
          "Imaging data were acquired on a 1.5 Tesla Signa LX ( General<br>Electric , Madison , WI , USA ) system .",
          "A structural image was collected in the sagittal plane using<br>an inversion recovery prepared T1 -weighted 3D spiral fast<br>spin echo sequence ( repetition time 2,000 ms , echo time 16<br>ms , field of view 240 mm , 128 continuous slices ,<br>resolution 0.9375×0.9375 × 1.328 mm , acquisition time 8:36<br>; Wong et al . 2000 ) .",
          "Data were processed and analyzed using Analysis of<br>Functional Neuro Images ( AFNI ; http://www.afni.nimh.nih .<br>gov ; Cox 1996 ) .",
          "First , an automated motion correction algorithm was applied<br>to the time series datasets ( Cox and Jesmanowicz 1999 ) .",
          "Two raters examined the time series data and removed<br>repetitions containing residual visible head motions .",
          "If > 18 % of repetitions were removed , the participant was<br>not included ( n=3 not described in this paper ) .",
          "Groups did not differ in the number of repetitions removed (<br>p=0.87 ) or absolute mean rotational or translational<br>adjustments applied .",
          "Average rotational ( roll , pitch , and yaw ) and<br>translational ( superior , left , and posterior ) movement ,<br>respectively , was 0.04 , 0.11 , and 0.05°and 0.07 , 0.04 ,<br>and 0.04 mm for MJ users , and 0.06 , 0.12 , 0.06°and 0.10 ,<br>0.04 , and 0.06 mm for controls .",
          "No significant differences between groups were found for<br>task -correlated motion",
          "( rs for the correlation between the task reference function<br>and each motion parameter were − 0.08 , − 0.10 , − 0.02 , −<br>0.11 , − 0.07 , and − 0.07 for MJ users and − 0.04 , − 0.06<br>, − 0.04 , − 0.10 , − 0.08 , and − 0.06 for controls ) .Next<br>, time series datasets were deconvolved with a reference<br>function representing the timing of go , no -go , and rest<br>stimuli presentation over the course of the task ( Ward 2002<br>) while accounting for hemodynamic delays ( Bandettini et al<br>. 1993 ; Boynton et al . 1996 ) and covarying for motion<br>adjustments applied and linear trends .",
          "This yielded fit coefficients representing the BOLD response<br>for ( 1 ) inhibition ( no -go ) trials relative to baseline<br>and ( 2 ) go trials relative to baseline in each voxel of<br>the brain for each subject .",
          "Data were transformed to standard space ( Lancaster et al .<br>2000 ; Talairach and Tournoux 1988 ) , resampled into<br>isotropic 3.5 -mm voxels , and spatially smoothed with a<br>Gaussian filter ( 3.5 mm full width half maximum ) to<br>account for anatomic variability between subjects .",
          "We determined regions of significant BOLD response<br>differences between MJ and control adolescents using<br>independent samples t tests in each voxel of the brain ,<br>performed separately on the BOLD response contrast for no<br>-go and for go trials .",
          "To control for type I error , we used a combination of t<br>statistic magnitude and cluster volume thresholding ( Forman<br>et al . 1995 ; Ward 1997 ) by only interpreting clusters<br>comprised of at least 22 contiguously activated voxels at<br>a<.05 ( ≥ 943 μl in volume ) .",
          "Anatomic localization was confirmed using the Talairach<br>Daemon ( Lancaster et al . 2000 ; Ward 1997 ) and AFNI (<br>Ward 1997 ) .",
          "Normality of distribution was evaluated for key variables (<br>Tabachnick and Fidell 2007 ) .",
          "No outliers or non -normal distributions were found for BOLD<br>response contrast in clusters showing group differences .",
          "However , five variables ( marijuana hits per month ,<br>lifetime other drug use , cigarettes smoked per month , FTND<br>total , and BDI total ) were positively skewed and kurtotic<br>, so were inverse transformed [ i.e . , 1/ ( 1 + the skewed<br>variable ) ; Tabachnick and Fidell 2007 ] .",
          "Group comparison results were further examined in analyses<br>of covariance ( ANCOVAs ) that controlled for potential<br>confound variables that differed between groups .",
          "Follow -up regression analyses were conducted among the MJ<br>users ( n=16 ) to examine BOLD response contrast to no -go<br>trials , averaged across the cluster , in the regions that<br>continued to differentiate users from controls in the above<br>ANCOVAs .",
          "BOLD response contrast to no -go trials was the dependent<br>variable , and variables indexing marijuana use , other<br>substance use , and risk factors for substance involvement<br>were the predictors .",
          "Groups did not differ significantly on mood state measures",
          "( see Table 1 ), but MJ users showed a trend for higher BDI<br>scores ( p=0.08 ) .",
          "Groups were similar and in the normal range on all CBCL<br>factor T scores , except that the MJ group was higher on<br>Rule -Breaking Behavior ( 53.00±8.23 MJ , 45.21±5.19<br>controls , p<0.005 ) .",
          "On the NEO -FFI , MJ youth demonstrated greater scores on<br>Openness ( 44.25 ± 3.11 MJ , 41.18±4.88 controls , p<0.05 )<br>but were statistically equivalent on other personality<br>scores .",
          "MJ youth committed more errors than controls on several<br>cognitive tests : more sequencing errors across all DKEFS<br>Trails conditions ( p<0.01 ) , more intrusion errors on a<br>word list learning task ( p<0.05 ) , and more repetition<br>errors on DKEFS Verbal Fluency ( p<0.05 ) .Task performance<br>data were available for 15 MJ and 15 control adolescents .",
          "No group differences or group by condition interactions were<br>found .",
          "As expected , participants responded more accurately (<br>p<.001 ) to go trials ( 98.97 ± 1.88 % MJ , 98.70±1.62 %<br>controls ) than no -go trials ( 82.92 ± 9.57 % MJ ,<br>81.64±10.73 % controls ) .",
          "Groups were equivalent on reaction time to go trials (<br>588.11±40.44 MJ , 606.13 ± 74.35 controls , p=.38 ) .",
          "D ′ , a signal detection index that considers the<br>probability of correct and incorrect responses ( i.e . , the<br>ability to separate go stimuli from the no -go stimulus ) ,<br>was also similar between groups ( 3.30±0.49 MJ , 3.04±0.84<br>controls , p=0.54 ) .",
          "Exit interview data showed that groups were equivalent on<br>task effort , motivation , and perceived errors , but MJ<br>users indicated use of more perceptual strategies ( e.g . ,<br>\" look for the small square to show up \" ) , while controls<br>tended to endorse cognitive strategies ( \" remember to hold<br>off when I see that shape \" or \" concentrate\" ) .f MRI<br>response Whole brain analyses showed that during inhibitory<br>trials relative to baseline , control adolescents showed<br>significantly increased activation in superior medial<br>frontal cortex and the left parahippocampal gyrus , and<br>decreased activation in bilateral posterior parietal and<br>inferior frontal regions .",
          "MJ users also showed increased inhibition -related<br>activation in superior frontal areas , as well as in<br>additional regions compared to controls , including numerous<br>left and medial prefrontal clusters , left posterior<br>parietal cortex , and multiple bilateral cerebellar regions<br>.",
          "MJ users showed decreased BOLD response during no -go trials<br>relative to baseline in right posterior parietal , inferior<br>frontal , and middle temporal cortices .",
          "Between -group comparisons revealed several clusters in<br>which MJ users showed significantly more BOLD response<br>during inhibition trials than controls : right anterior<br>superior and middle frontal gyri ( BA 10 , 46 ) , right<br>superior middle frontal gyrus extending down to the anterior<br>insula ( BA 6 , 13 ) , left anterior middle and superior<br>frontal gyri ( BA 10 ) , medial prefrontal cortex ( BA 6 ) ,<br>right and left posterior parietal cortex ( BA 7 , 40 ) , and<br>right lingual gyrus",
          "( BA 18 ; see Table 2 and Fig . 1 ). There were no clusters<br>in which MJ users showed significantly less inhibitory brain<br>response than controls .",
          "For go trials relative to baseline , controls showed<br>significant BOLD response in the bilateral ventral<br>prefrontal cortex , bilateral medial posterior parietal<br>cortex and cuneus , anterior cingulate , precentral gyrus ,<br>right anterior insula , and medial cerebellum .",
          "MJ users had multiple clusters of significant response to go<br>trials relative to baseline , including increased activation<br>in substantial portions of bilateral ventral prefrontal<br>cortex , bilateral medial superior frontal cortex , right<br>posterior parietal cortex , bilateral temporal cortex ,<br>anterior cingulate , precentral gyrus , left insula , and<br>bilateral cerebellum .",
          "Between -group comparisons indicated that MJ users had<br>significantly more BOLD response during go trials relative<br>to baseline than did controls in the right inferior frontal<br>gyrus and anterior insula ( BA 44 , 13 ) , right superior<br>frontal gyrus ( BA 9 , 10 ) , right superior parietal lobule<br>( BA 7 ) , right inferior parietal lobule ( BA 40 ) , and<br>medial precuneus",
          "( BA 7 ; see Table 3 ). There were no clusters in which MJ<br>users had significantly less go response than controls .",
          "To determine whether the group differences reported above<br>were due to differences in other substance use or factors<br>that could predate marijuana use , secondary analyses using<br>ANCOVAs separately ( due to limited power ) controlled for<br>lifetime alcohol consumption , days since last drink ,<br>drinks per month , years of regular drinking , time since<br>last cigarette , past week cigarettes per smoking day ,<br>cigarettes per month , FTND total , number of lifetime other<br>drug use episodes , family history of substance use<br>disorders , family history of psychiatric disorders , each<br>NEO -FFI score , and BDI total .",
          "For all analyses , groups continued to differ on BOLD<br>response in all clusters ( p range , 0.001 to 0.0001 ) .To<br>determine whether differences between groups were due to<br>duration and intensity of exposure to THC or related to the<br>recency of marijuana use , we conducted a series of<br>exploratory regression analyses among MJ users ( n=16 ) .",
          "Duration of regular marijuana use was negatively related to<br>no -go brain response in the right anterior superior frontal<br>gyrus ( BA 10 ; β=−0.73 , p<0.001 ; plotted in Fig . 2 ) ,<br>right superior middle frontal gyrus ( BA 6 ; β=−0.58 ,<br>p<0.025 ) , and left anterior superior frontal gyrus ( BA 10<br>; β=−0.58 , p < 0.025 ) , suggesting that youth with longer<br>durations of marijuana involvement had less no -go brain<br>response .",
          "Similarly , early age of onset of regular marijuana use ( β<br>= 0.66 , p<0.01 ) and more lifetime marijuana use episodes (<br>β=−.62 , p<0.025 ) related to less inhibitory response in<br>the right anterior superior frontal gyrus ( BA 10 ) .",
          "Typical number of marijuana hits per month also was<br>negatively related to brain response in the right anterior<br>superior frontal gyrus ( BA 10 ; β=−0.73 , p<.005 ) , right<br>superior middle frontal gyrus ( BA 6 ; β=−0.71 , p<0.005 ) ,<br>left anterior superior frontal gyrus ( BA 10 ; β=−0.68 ,<br>p<0.01 ) , and left posterior parietal cortex ( BA 40 ;<br>β=−0.62 , p < 0.025 ) .",
          "Days since last marijuana use ( range , 28 to 240 ) , age ,<br>and neuropsychological test performance were not associated<br>with brain response in any region demonstrating a group<br>difference .",
          "Number of lifetime other drug use episodes ( primarily pain<br>medications ) was positively associated with BOLD response<br>contrast to no -go trials in the right anterior superior<br>frontal gyrus ( BA 10 ; β=0.57 , p < 0.025 ) and right<br>middle frontal gyrus ( BA 6 , β=0.56 , p < 0.025 ) .",
          "In this study , marijuana -using adolescents showed<br>increased BOLD response during both inhibitory and non<br>-inhibitory trials of a go/no -go task , even after a 28<br>-day washout period of abstinence from cannabis , as<br>compared to control adolescents with limited substance use<br>histories .",
          "Differences were prominent in dorsolateral prefrontal and<br>parietal areas .",
          "Our findings with adolescent marijuana users extend those of<br>others ( Gruber and Yurgelun -Todd 2005 ) , who Fig . 1<br>Inhibition trial differences in BOLD response contrast<br>between marijuana -using ( n=16 ) and non -using ( n=17 )<br>adolescents after 28 days of monitored abstinence .",
          "Blue areas show where users had more significantly BOLD<br>response during inhibition ( no -go ) trials relative to<br>baseline than non -users ( p<0.05 , clusters > 943 μl ) ; no<br>clusters in which users showed significantly less activation<br>than controls were found ( see Table 2 ) showed that adult<br>marijuana users exhibited increased prefrontal response<br>during inhibition tasks .",
          "The present results thus suggest that the effects of<br>cannabis use on brain function in adolescents may persist<br>after a period of abstinence .",
          "A pattern of increased activation yet comparable performance<br>is consistent with functional compensation and<br>dedifferentiation ( Rajah and D 'Esposito 2005 ) , which<br>supposes that loci of functional activity are spread to more<br>and larger regions .",
          "Therefore , adolescent marijuana users appear to recruit<br>more neural tissue in executive control areas to adequately<br>perform the task , which is consistent with other studies<br>showing increased dorsolateral prefrontal activation in MJ<br>users during inhibition ( Gruber and Yurgelun -Todd 2005 )<br>and other ( Schweinsburg et al . 2005b ) cognitive tasks .",
          "Repeated cannabinoid use may alter neuromaturation in<br>regions with high CB1 densities , such as prefrontal cortex<br>( Eggan and Lewis 2007 ) .",
          "Synaptic pruning and gray matter sculpting occurs late in<br>some of the regions showing increased BOLD signal among<br>users , such as bilateral dorsolateral prefrontal cortex ,<br>where cortical thickness peaks at age 11.5 on average (<br>Gogtay et al . 2004 ; Sowell et al . 2003 ) .",
          "If prefrontal synaptic pruning is slowed by adolescent<br>marijuana use , greater activation may reflect excess neural<br>firing caused by a larger number of synaptic links .",
          "In their study of heavy marijuana -using adults , Gruber and<br>Yurgelun -Todd ( 2005 ) reported that heavy users had<br>increased prefrontal response to an inhibition task , as<br>seen in this study of adolescents , but also showed reduced<br>anterior cingulate response , which we did not observe in<br>this study .",
          "One possible explanation for this difference is the duration<br>of marijuana use in our cohort .",
          "It may take a longer period of use to evidence such changes<br>in cingulate responding .",
          "The increased parietal activation among marijuana -using<br>adolescents is consistent with findings from Jacobsen et al<br>. ( 2007 ) of heightened parietal response in marijuana<br>-involved youth during a verbal working memory task while<br>undergoing nicotine withdrawal , although here , nicotine<br>use rates were relatively low .",
          "As right dorsolateral prefrontal and parietal regions have<br>been implicated in sustained attention ( Drummond et al .<br>2005 ) , perhaps , users had a greater cognitive load<br>associated with attending to the stimuli in general and in<br>identifying the no -go stimulus in particular .",
          "Both go and no -go trials require sustained attention , and<br>overlap was observed for the right prefrontal/insular and<br>parietal regions where users showed greater BOLD response<br>than controls for both conditions .",
          "Adolescents with later onsets ( age , 16-18 ) and briefer<br>durations ( 1-2 years ) of regular marijuana use showed the<br>greatest divergence from normal controls in BOLD response to<br>the inhibition trials .",
          "Similarly , Chang et al . ( 2006 ) reported that adults who<br>started marijuana use in late adolescence had more frontal<br>activation during a visual attention task than adults who<br>started in early adolescence .",
          "Although our data do not address the molecular mechanism of<br>this difference , we can speculate about the nature of this<br>finding .",
          "For example , increased prefrontal activation during an<br>inhibitory task in adolescent users with a more recent onset<br>may reflect a stage of neural and behavioral compensation .",
          "This compensatory response may occur within the first few<br>years of regular adolescent marijuana use and may later be<br>followed by neuroadaptation or other processes , possibly<br>related to downregulation of cannabinoid ( CB1 ) receptors .",
          "Therefore , an inverted U -shaped response pattern may<br>emerge over time , which eventually results in brain<br>activation patterns that are indistinguishable from non<br>-users ( suggested in Fig . 2 ) . BOLD response is<br>influenced by cerebral blood flow , often abnormal in<br>marijuana users acutely and subacutely .",
          "Up to 36 h since last use , THC intake is associated with<br>increased cerebral blood flow ( Mathew et al . 2002 ) and<br>volume ( Sneider et al . 2006 ) in frontal , insular ,<br>anterior cingulate , cerebellum , temporal , and paralimbic<br>regions ; reductions in auditory and visual cortex ,<br>parietal lobe , and thalamus ; and no change in nucleus<br>accumbens , basal ganglia , or the hippocampus ( O 'Leary et<br>al . 2002 ) .",
          "Although increases in blood flow velocity and<br>cerebrovascular resistance dissipate from 3 to 28 days of<br>abstinence in adults with marijuana use levels consistent<br>with this sample ( i.e . , 15.9 days per month ) , very<br>heavy users remained abnormally elevated ( Herning et al .<br>2005 ) .",
          "Thus , increased BOLD response in adolescent marijuana users<br>could reflect residual cerebrovasculature abnormalities ,<br>although increased blood flow or volume would likely yield<br>lower BOLD response ( Brown et al . 2003 ) , not greater ,<br>as seen here .",
          "This study had several limitations .",
          "While groups were equivalent on many demographic variables ,<br>intelligence , Fig . 2 Marijuana using adolescents ( n=16 )<br>show more BOLD response ( y -axis displays fit coefficients<br>) during inhibition trials relative to baseline than control<br>adolescents ( n=17 ) in right dorsolateral prefrontal cortex<br>, largely accounted for by users with 1 to 3 years of<br>regular ( weekly ) marijuana use and task performance ,<br>marijuana users had greater alcohol and other substance<br>histories and a trend for more depressed symptomatology .",
          "Although activation patterns remained after controlling for<br>these factors , substance and affective differences pose the<br>possibility of synergistic effects , and we have previously<br>found adolescent heavy drinking to be related to abnormal<br>activation patterns on a spatial working memory task",
          "( Caldwell et al . 2005 ;",
          "Schweinsburg et al .",
          "2005b ;",
          "Tapert et al . 2001 Tapert et al . , 2004 .",
          "Reduced educational engagement or altered sleep quality<br>related to marijuana use might account for the differences .",
          "Critically , the current data cannot ascertain if marijuana<br>use during adolescence produces the observed differences or<br>if abnormalities existed before the onset of regular use .",
          "Groups did not differ on proportion with a family history of<br>substance use disorder , and youths with psychiatric<br>diagnosis ( e.g . , conduct disorder , attention<br>-deficit/hyperactivity disorder ) were excluded from the<br>study .",
          "Groups were similar with regard to most personality and<br>psychopathological syndrome dimensions but did differ on<br>openness to new experiences and parent report of delinquent<br>behaviors , which also may predate or result from adolescent<br>marijuana use , but did not account for group differences in<br>brain response .",
          "On the other hand , the adolescents who diverged most from<br>normal controls may simply differ on unmeasured risk factors<br>related to the initiation and escalation of substance use .",
          "Altered inhibitory processing may make adolescents<br>vulnerable to substance use initiation and escalation .",
          "The indication of extra neural effort required to inhibit<br>responses has important implications for adolescent<br>development and future substance involvement .",
          "Demands for inhibitory control increases substantially over<br>the course of late adolescence , particularly in school and<br>work environments as well as social and intimate<br>relationships .",
          "Consequently , youth required to exert extra neurocognitive<br>effort may be disadvantaged or become less successful in<br>maneuvering the normal transitions of adolescence and young<br>adulthood .",
          "Additionally , it may be harder for these youth to inhibit<br>the use of substances , particularly in situations where<br>cognitive demands are strained due to conflicting goals ,<br>distractions , peers , substance -relevant cues , or low<br>mood states ."
         ],
         "type": "bar",
         "x": [
          0,
          1,
          2,
          3,
          4,
          5,
          6,
          7,
          8,
          9,
          10,
          11,
          12,
          13,
          14,
          15,
          16,
          17,
          18,
          19,
          20,
          21,
          22,
          23,
          24,
          25,
          26,
          27,
          28,
          29,
          30,
          31,
          32,
          33,
          34,
          35,
          36,
          37,
          38,
          39,
          40,
          41,
          42,
          43,
          44,
          45,
          46,
          47,
          48,
          49,
          50,
          51,
          52,
          53,
          54,
          55,
          56,
          57,
          58,
          59,
          60,
          61,
          62,
          63,
          64,
          65,
          66,
          67,
          68,
          69,
          70,
          71,
          72,
          73,
          74,
          75,
          76,
          77,
          78,
          79,
          80,
          81,
          82,
          83,
          84,
          85,
          86,
          87,
          88,
          89,
          90,
          91,
          92,
          93,
          94,
          95,
          96,
          97,
          98,
          99,
          100,
          101,
          102,
          103,
          104,
          105,
          106,
          107,
          108,
          109,
          110,
          111,
          112,
          113,
          114,
          115,
          116,
          117,
          118,
          119,
          120,
          121,
          122,
          123,
          124,
          125,
          126,
          127,
          128,
          129,
          130,
          131,
          132,
          133,
          134,
          135,
          136,
          137,
          138,
          139,
          140,
          141,
          142,
          143,
          144,
          145,
          146,
          147,
          148,
          149,
          150,
          151,
          152,
          153,
          154,
          155
         ],
         "y": [
          6.813042988510782e-08,
          4.4518491528253915e-09,
          5.944816683849338e-07,
          8.711058086295017e-05,
          9.953196138127789e-08,
          0.00019292243586655565,
          1.2404006779396002e-08,
          0.00017653124130790327,
          2.8124874977124403e-06,
          3.033292155648654e-08,
          3.941849597397663e-06,
          4.17749764119507e-06,
          0.0001675496219649232,
          2.4770361232863712e-05,
          0.0001432231728516664,
          6.701680694960552e-05,
          3.240856195833569e-05,
          0.0001471697725963986,
          0.00033123931190794906,
          3.179453653096594e-05,
          7.693220614409964e-06,
          2.399665552166026e-05,
          1.2436600526632768e-05,
          1.7227375215401727e-05,
          3.946767267364657e-09,
          3.5246716946150804e-05,
          0.00014673094326374513,
          4.5051046897012674e-05,
          0.00010852696491250199,
          5.6603615740397424e-05,
          0.000159764913604923,
          9.644131213809108e-09,
          7.041690498770102e-07,
          7.185542187871521e-10,
          1.8823937342871803e-10,
          7.042430779655644e-08,
          0,
          6.703958620264552e-08,
          8.003093805265065e-07,
          1.1219563356478597e-08,
          1.2230094210507908e-07,
          2.6940421365160112e-08,
          1.118711640675189e-09,
          6.6272318487943e-08,
          0,
          3.851356362671871e-08,
          1.7740528308326817e-08,
          5.323828929185611e-07,
          1.6444042496422038e-05,
          1.155613147075787e-06,
          1.4693338584716588e-08,
          3.462632392990348e-07,
          9.028034428515698e-07,
          1.1415897672160893e-05,
          8.415534096160893e-06,
          1.3380547517164231e-08,
          1.7451790471158044e-06,
          3.6268311979525116e-09,
          2.5944189084127823e-07,
          6.045800902226133e-09,
          5.5510220451126e-06,
          0,
          7.024313842797763e-09,
          6.728786036510408e-06,
          2.194104829892748e-09,
          4.360344405937277e-10,
          7.702128996198473e-07,
          1.0792132618907025e-06,
          0,
          7.929214457337389e-09,
          2.8875024269330617e-09,
          5.771205231592029e-09,
          9.250839091268941e-10,
          4.656505663237576e-08,
          1.9055224307159594e-07,
          3.3684985096499407e-06,
          2.461416896644299e-06,
          1.9750423138704884e-05,
          4.761811374228086e-06,
          7.286390425210126e-10,
          1.258507474198757e-05,
          1.1258614317658856e-06,
          1.1883626740551154e-09,
          1.5665501008205166e-09,
          4.598063402432231e-08,
          6.185229386218717e-10,
          6.229374771452392e-08,
          4.645118679201766e-05,
          2.9914664804295953e-09,
          0,
          2.735567429012116e-06,
          9.27333781897399e-06,
          1.0183614139389887e-05,
          3.7583984540173087e-06,
          1.57066030798639e-08,
          1.127499320613459e-05,
          5.69463805408028e-06,
          8.075445120789518e-06,
          0.00019461681648105255,
          8.31044340236884e-05,
          5.632091003849332e-06,
          1.7133427161196992e-05,
          4.252551089464134e-05,
          7.119217891244011e-06,
          4.235324151711172e-05,
          2.7873837543079923e-05,
          2.6926599199986886e-05,
          3.2956049086840637e-07,
          9.734157287054954e-06,
          1.6070837581155654e-06,
          4.8465162026392815e-08,
          1.6894772305130697e-06,
          1.8204569090411436e-06,
          6.675250131812649e-07,
          8.864756572919775e-06,
          1.3919120057615278e-09,
          3.153053752042596e-06,
          0.0001091497352786953,
          5.556337704723122e-06,
          0.000200503113476873,
          0.0006476695412873096,
          8.693552394433565e-06,
          4.475486589423819e-05,
          0.00021974534016707314,
          4.3222252583703214e-05,
          7.855425571056666e-08,
          1.6618035620833422e-06,
          5.189308619419311e-05,
          2.69718779420851e-05,
          6.358726900603672e-05,
          7.714990013725228e-06,
          6.210548738755732e-05,
          1.9493423293997285e-08,
          0.0002063992469404909,
          2.652219454059957e-07,
          0.00017276529839528587,
          9.97374518879308e-06,
          8.156202216707502e-06,
          8.686392696940114e-06,
          3.944885543494082e-09,
          7.92373336625384e-06,
          8.705451271094326e-05,
          0,
          0,
          null,
          0.00010202290213465864,
          2.6558243446738333e-05,
          4.022352432800992e-08,
          2.128143249805266e-09,
          1.7518865598513454e-06,
          2.850921673102657e-05,
          7.543938674835133e-06,
          6.003398661632336e-05,
          8.434135008161892e-09,
          2.906404821232288e-06,
          1.4643029177636943e-07
         ]
        }
       ],
       "layout": {
        "hoverlabel": {
         "bgcolor": "white",
         "font": {
          "family": "Rockwell",
          "size": 13
         }
        },
        "template": {
         "data": {
          "bar": [
           {
            "error_x": {
             "color": "#2a3f5f"
            },
            "error_y": {
             "color": "#2a3f5f"
            },
            "marker": {
             "line": {
              "color": "#E5ECF6",
              "width": 0.5
             }
            },
            "type": "bar"
           }
          ],
          "barpolar": [
           {
            "marker": {
             "line": {
              "color": "#E5ECF6",
              "width": 0.5
             }
            },
            "type": "barpolar"
           }
          ],
          "carpet": [
           {
            "aaxis": {
             "endlinecolor": "#2a3f5f",
             "gridcolor": "white",
             "linecolor": "white",
             "minorgridcolor": "white",
             "startlinecolor": "#2a3f5f"
            },
            "baxis": {
             "endlinecolor": "#2a3f5f",
             "gridcolor": "white",
             "linecolor": "white",
             "minorgridcolor": "white",
             "startlinecolor": "#2a3f5f"
            },
            "type": "carpet"
           }
          ],
          "choropleth": [
           {
            "colorbar": {
             "outlinewidth": 0,
             "ticks": ""
            },
            "type": "choropleth"
           }
          ],
          "contour": [
           {
            "colorbar": {
             "outlinewidth": 0,
             "ticks": ""
            },
            "colorscale": [
             [
              0,
              "#0d0887"
             ],
             [
              0.1111111111111111,
              "#46039f"
             ],
             [
              0.2222222222222222,
              "#7201a8"
             ],
             [
              0.3333333333333333,
              "#9c179e"
             ],
             [
              0.4444444444444444,
              "#bd3786"
             ],
             [
              0.5555555555555556,
              "#d8576b"
             ],
             [
              0.6666666666666666,
              "#ed7953"
             ],
             [
              0.7777777777777778,
              "#fb9f3a"
             ],
             [
              0.8888888888888888,
              "#fdca26"
             ],
             [
              1,
              "#f0f921"
             ]
            ],
            "type": "contour"
           }
          ],
          "contourcarpet": [
           {
            "colorbar": {
             "outlinewidth": 0,
             "ticks": ""
            },
            "type": "contourcarpet"
           }
          ],
          "heatmap": [
           {
            "colorbar": {
             "outlinewidth": 0,
             "ticks": ""
            },
            "colorscale": [
             [
              0,
              "#0d0887"
             ],
             [
              0.1111111111111111,
              "#46039f"
             ],
             [
              0.2222222222222222,
              "#7201a8"
             ],
             [
              0.3333333333333333,
              "#9c179e"
             ],
             [
              0.4444444444444444,
              "#bd3786"
             ],
             [
              0.5555555555555556,
              "#d8576b"
             ],
             [
              0.6666666666666666,
              "#ed7953"
             ],
             [
              0.7777777777777778,
              "#fb9f3a"
             ],
             [
              0.8888888888888888,
              "#fdca26"
             ],
             [
              1,
              "#f0f921"
             ]
            ],
            "type": "heatmap"
           }
          ],
          "heatmapgl": [
           {
            "colorbar": {
             "outlinewidth": 0,
             "ticks": ""
            },
            "colorscale": [
             [
              0,
              "#0d0887"
             ],
             [
              0.1111111111111111,
              "#46039f"
             ],
             [
              0.2222222222222222,
              "#7201a8"
             ],
             [
              0.3333333333333333,
              "#9c179e"
             ],
             [
              0.4444444444444444,
              "#bd3786"
             ],
             [
              0.5555555555555556,
              "#d8576b"
             ],
             [
              0.6666666666666666,
              "#ed7953"
             ],
             [
              0.7777777777777778,
              "#fb9f3a"
             ],
             [
              0.8888888888888888,
              "#fdca26"
             ],
             [
              1,
              "#f0f921"
             ]
            ],
            "type": "heatmapgl"
           }
          ],
          "histogram": [
           {
            "marker": {
             "colorbar": {
              "outlinewidth": 0,
              "ticks": ""
             }
            },
            "type": "histogram"
           }
          ],
          "histogram2d": [
           {
            "colorbar": {
             "outlinewidth": 0,
             "ticks": ""
            },
            "colorscale": [
             [
              0,
              "#0d0887"
             ],
             [
              0.1111111111111111,
              "#46039f"
             ],
             [
              0.2222222222222222,
              "#7201a8"
             ],
             [
              0.3333333333333333,
              "#9c179e"
             ],
             [
              0.4444444444444444,
              "#bd3786"
             ],
             [
              0.5555555555555556,
              "#d8576b"
             ],
             [
              0.6666666666666666,
              "#ed7953"
             ],
             [
              0.7777777777777778,
              "#fb9f3a"
             ],
             [
              0.8888888888888888,
              "#fdca26"
             ],
             [
              1,
              "#f0f921"
             ]
            ],
            "type": "histogram2d"
           }
          ],
          "histogram2dcontour": [
           {
            "colorbar": {
             "outlinewidth": 0,
             "ticks": ""
            },
            "colorscale": [
             [
              0,
              "#0d0887"
             ],
             [
              0.1111111111111111,
              "#46039f"
             ],
             [
              0.2222222222222222,
              "#7201a8"
             ],
             [
              0.3333333333333333,
              "#9c179e"
             ],
             [
              0.4444444444444444,
              "#bd3786"
             ],
             [
              0.5555555555555556,
              "#d8576b"
             ],
             [
              0.6666666666666666,
              "#ed7953"
             ],
             [
              0.7777777777777778,
              "#fb9f3a"
             ],
             [
              0.8888888888888888,
              "#fdca26"
             ],
             [
              1,
              "#f0f921"
             ]
            ],
            "type": "histogram2dcontour"
           }
          ],
          "mesh3d": [
           {
            "colorbar": {
             "outlinewidth": 0,
             "ticks": ""
            },
            "type": "mesh3d"
           }
          ],
          "parcoords": [
           {
            "line": {
             "colorbar": {
              "outlinewidth": 0,
              "ticks": ""
             }
            },
            "type": "parcoords"
           }
          ],
          "pie": [
           {
            "automargin": true,
            "type": "pie"
           }
          ],
          "scatter": [
           {
            "marker": {
             "colorbar": {
              "outlinewidth": 0,
              "ticks": ""
             }
            },
            "type": "scatter"
           }
          ],
          "scatter3d": [
           {
            "line": {
             "colorbar": {
              "outlinewidth": 0,
              "ticks": ""
             }
            },
            "marker": {
             "colorbar": {
              "outlinewidth": 0,
              "ticks": ""
             }
            },
            "type": "scatter3d"
           }
          ],
          "scattercarpet": [
           {
            "marker": {
             "colorbar": {
              "outlinewidth": 0,
              "ticks": ""
             }
            },
            "type": "scattercarpet"
           }
          ],
          "scattergeo": [
           {
            "marker": {
             "colorbar": {
              "outlinewidth": 0,
              "ticks": ""
             }
            },
            "type": "scattergeo"
           }
          ],
          "scattergl": [
           {
            "marker": {
             "colorbar": {
              "outlinewidth": 0,
              "ticks": ""
             }
            },
            "type": "scattergl"
           }
          ],
          "scattermapbox": [
           {
            "marker": {
             "colorbar": {
              "outlinewidth": 0,
              "ticks": ""
             }
            },
            "type": "scattermapbox"
           }
          ],
          "scatterpolar": [
           {
            "marker": {
             "colorbar": {
              "outlinewidth": 0,
              "ticks": ""
             }
            },
            "type": "scatterpolar"
           }
          ],
          "scatterpolargl": [
           {
            "marker": {
             "colorbar": {
              "outlinewidth": 0,
              "ticks": ""
             }
            },
            "type": "scatterpolargl"
           }
          ],
          "scatterternary": [
           {
            "marker": {
             "colorbar": {
              "outlinewidth": 0,
              "ticks": ""
             }
            },
            "type": "scatterternary"
           }
          ],
          "surface": [
           {
            "colorbar": {
             "outlinewidth": 0,
             "ticks": ""
            },
            "colorscale": [
             [
              0,
              "#0d0887"
             ],
             [
              0.1111111111111111,
              "#46039f"
             ],
             [
              0.2222222222222222,
              "#7201a8"
             ],
             [
              0.3333333333333333,
              "#9c179e"
             ],
             [
              0.4444444444444444,
              "#bd3786"
             ],
             [
              0.5555555555555556,
              "#d8576b"
             ],
             [
              0.6666666666666666,
              "#ed7953"
             ],
             [
              0.7777777777777778,
              "#fb9f3a"
             ],
             [
              0.8888888888888888,
              "#fdca26"
             ],
             [
              1,
              "#f0f921"
             ]
            ],
            "type": "surface"
           }
          ],
          "table": [
           {
            "cells": {
             "fill": {
              "color": "#EBF0F8"
             },
             "line": {
              "color": "white"
             }
            },
            "header": {
             "fill": {
              "color": "#C8D4E3"
             },
             "line": {
              "color": "white"
             }
            },
            "type": "table"
           }
          ]
         },
         "layout": {
          "annotationdefaults": {
           "arrowcolor": "#2a3f5f",
           "arrowhead": 0,
           "arrowwidth": 1
          },
          "coloraxis": {
           "colorbar": {
            "outlinewidth": 0,
            "ticks": ""
           }
          },
          "colorscale": {
           "diverging": [
            [
             0,
             "#8e0152"
            ],
            [
             0.1,
             "#c51b7d"
            ],
            [
             0.2,
             "#de77ae"
            ],
            [
             0.3,
             "#f1b6da"
            ],
            [
             0.4,
             "#fde0ef"
            ],
            [
             0.5,
             "#f7f7f7"
            ],
            [
             0.6,
             "#e6f5d0"
            ],
            [
             0.7,
             "#b8e186"
            ],
            [
             0.8,
             "#7fbc41"
            ],
            [
             0.9,
             "#4d9221"
            ],
            [
             1,
             "#276419"
            ]
           ],
           "sequential": [
            [
             0,
             "#0d0887"
            ],
            [
             0.1111111111111111,
             "#46039f"
            ],
            [
             0.2222222222222222,
             "#7201a8"
            ],
            [
             0.3333333333333333,
             "#9c179e"
            ],
            [
             0.4444444444444444,
             "#bd3786"
            ],
            [
             0.5555555555555556,
             "#d8576b"
            ],
            [
             0.6666666666666666,
             "#ed7953"
            ],
            [
             0.7777777777777778,
             "#fb9f3a"
            ],
            [
             0.8888888888888888,
             "#fdca26"
            ],
            [
             1,
             "#f0f921"
            ]
           ],
           "sequentialminus": [
            [
             0,
             "#0d0887"
            ],
            [
             0.1111111111111111,
             "#46039f"
            ],
            [
             0.2222222222222222,
             "#7201a8"
            ],
            [
             0.3333333333333333,
             "#9c179e"
            ],
            [
             0.4444444444444444,
             "#bd3786"
            ],
            [
             0.5555555555555556,
             "#d8576b"
            ],
            [
             0.6666666666666666,
             "#ed7953"
            ],
            [
             0.7777777777777778,
             "#fb9f3a"
            ],
            [
             0.8888888888888888,
             "#fdca26"
            ],
            [
             1,
             "#f0f921"
            ]
           ]
          },
          "colorway": [
           "#636efa",
           "#EF553B",
           "#00cc96",
           "#ab63fa",
           "#FFA15A",
           "#19d3f3",
           "#FF6692",
           "#B6E880",
           "#FF97FF",
           "#FECB52"
          ],
          "font": {
           "color": "#2a3f5f"
          },
          "geo": {
           "bgcolor": "white",
           "lakecolor": "white",
           "landcolor": "#E5ECF6",
           "showlakes": true,
           "showland": true,
           "subunitcolor": "white"
          },
          "hoverlabel": {
           "align": "left"
          },
          "hovermode": "closest",
          "mapbox": {
           "style": "light"
          },
          "paper_bgcolor": "white",
          "plot_bgcolor": "#E5ECF6",
          "polar": {
           "angularaxis": {
            "gridcolor": "white",
            "linecolor": "white",
            "ticks": ""
           },
           "bgcolor": "#E5ECF6",
           "radialaxis": {
            "gridcolor": "white",
            "linecolor": "white",
            "ticks": ""
           }
          },
          "scene": {
           "xaxis": {
            "backgroundcolor": "#E5ECF6",
            "gridcolor": "white",
            "gridwidth": 2,
            "linecolor": "white",
            "showbackground": true,
            "ticks": "",
            "zerolinecolor": "white"
           },
           "yaxis": {
            "backgroundcolor": "#E5ECF6",
            "gridcolor": "white",
            "gridwidth": 2,
            "linecolor": "white",
            "showbackground": true,
            "ticks": "",
            "zerolinecolor": "white"
           },
           "zaxis": {
            "backgroundcolor": "#E5ECF6",
            "gridcolor": "white",
            "gridwidth": 2,
            "linecolor": "white",
            "showbackground": true,
            "ticks": "",
            "zerolinecolor": "white"
           }
          },
          "shapedefaults": {
           "line": {
            "color": "#2a3f5f"
           }
          },
          "ternary": {
           "aaxis": {
            "gridcolor": "white",
            "linecolor": "white",
            "ticks": ""
           },
           "baxis": {
            "gridcolor": "white",
            "linecolor": "white",
            "ticks": ""
           },
           "bgcolor": "#E5ECF6",
           "caxis": {
            "gridcolor": "white",
            "linecolor": "white",
            "ticks": ""
           }
          },
          "title": {
           "x": 0.05
          },
          "xaxis": {
           "automargin": true,
           "gridcolor": "white",
           "linecolor": "white",
           "ticks": "",
           "title": {
            "standoff": 15
           },
           "zerolinecolor": "white",
           "zerolinewidth": 2
          },
          "yaxis": {
           "automargin": true,
           "gridcolor": "white",
           "linecolor": "white",
           "ticks": "",
           "title": {
            "standoff": 15
           },
           "zerolinecolor": "white",
           "zerolinewidth": 2
          }
         }
        }
       }
      },
      "text/html": [
       "<div>\n",
       "        \n",
       "        \n",
       "            <div id=\"0c3be947-baa2-4d0c-89e3-9b9929bf120e\" class=\"plotly-graph-div\" style=\"height:525px; width:100%;\"></div>\n",
       "            <script type=\"text/javascript\">\n",
       "                require([\"plotly\"], function(Plotly) {\n",
       "                    window.PLOTLYENV=window.PLOTLYENV || {};\n",
       "                    \n",
       "                if (document.getElementById(\"0c3be947-baa2-4d0c-89e3-9b9929bf120e\")) {\n",
       "                    Plotly.newPlot(\n",
       "                        '0c3be947-baa2-4d0c-89e3-9b9929bf120e',\n",
       "                        [{\"hovertext\": [\"Many individuals first experiment with alcohol and drugs<br>during adolescence ( SAMHSA 2003 ) , and marijuana is the<br>most commonly used illicit substance among teenagers (<br>Johnston et al . 2005 ) .\", \"Nearly half of 12th graders have tried marijuana , and 6 %<br>disclose daily use ( Johnston et al . 2005 ) .\", \"Adolescence is also a period of continued neurodevelopment ,<br>including frontal lobe myelination and synaptic pruning that<br>subserve improved executive functioning ( Gogtay et al .<br>2004 ; Sowell et al . 2002 ) , including abilities such as<br>decision making , inhibitory processing , and impulse<br>control .\", \"The influence of marijuana use on these maturational<br>processes is unknown , although executive dysfunction may<br>affect the development and maintenance of substance use and<br>problems during adolescence ( Tapert et al . 2002a ) .\", \"Adults with heavy marijuana use histories have demonstrated<br>abnormalities in executive functioning ( Fletcher et al .<br>1996 ; Pope and Yurgelun Todd 1996 ; Solowij et al . 2002 )<br>and indices of frontal lobe operation ( Block et al . 2000 ;<br>Kanayama et al . 2004 ; Lundqvist et al . 2001 ; Solowij et<br>al . 1991 Solowij et al . , 1995 Struve et al . 1998 ) .\", \"To determine if cognitive deficits in marijuana users are<br>transient or persistent , Pope et al . ( 2001 ) tested 63<br>current marijuana users ( > 5,000 lifetime uses ) , 45<br>former users ( > 5,000 lifetime uses ) , and 72 normal<br>controls ( 1-50 lifetime uses ) , all ages 30-55 .\", \"Participants were abstinent for 28 days , verified by urine<br>drug screens and given neuropsychological tests on days 0 ,<br>1 , 7 , and 28 of abstinence .\", \"Current users showed some deficits relative to controls on<br>days 0 , 1 , and 7 , but groups did not differ on any test<br>by day 28 .\", \"In contrast , a study ( Bolla et al . 2002 ) that<br>hospitalized 22 marijuana -using adults ( > 2 years of<br>marijuana use ) for 28 days to assure abstinence found<br>greater marijuana intake linked to poorer performance on<br>tests of inhibition , problem solving , learning , and<br>reaction time .\", \"Disinhibition , i.e . , the impaired ability to inhibit a<br>potentially inappropriate response , is a common feature of<br>substance misuse ( Chen et al . 2007 ; Kamarajan et al .<br>2006 ; Kirisci et al . 2006 ; Verdejo -Garcia et al . 2006 )<br>.\", \"Neuroimaging studies have reported both prefrontal and<br>posterior parietal cortical involvement during inhibitory<br>processing in healthy volunteers ( Liu et al . 2004 ) ,<br>which may be overactive in populations with impulse control<br>problems ( Schulz et al . 2004 ) .\", \"Few studies have examined inhibitory processing in marijuana<br>users .\", \"Functional magnetic resonance imaging ( f MRI )<br>characterized the neural correlates of inhibition during a<br>Stroop task , in which heavy marijuana -using adults and non<br>-users were asked to inhibit the automatic process of<br>reading words and , instead , name the colors of words<br>printed in incongruent ink ( Gruber and Yurgelun Todd 2005 )<br>.\", \"Marijuana users not only showed greater midcingulate and<br>reduced anterior cingulate blood oxygen level dependent (<br>BOLD ) response but also more widespread bilateral<br>dorsolateral prefrontal activation during inhibition<br>relative to color naming trials .\", \"The investigators speculated that the altered activation<br>pattern in marijuana users reflects compensation and use of<br>alternate strategies .\", \"The same investigators had shown in a previous f MRI study<br>using a working memory task before and after a 28 -day<br>abstinence period ( Yurgelun -Todd et al . 1998 ) that adult<br>users demonstrated less prefrontal and more anterior<br>cingulate response than controls after just 24 h of non -use<br>.\", \"Although users showed some normalization of prefrontal<br>functioning after 28 days of abstinence , they still showed<br>anterior cingulate dysfunction , which is supportive of<br>persisting neural processing abnormalities .\", \"These results support the hypothesis that adult marijuana<br>users show abnormal neural inhibitory processing ,<br>compensatory hyper -activity , and altered neural processing<br>differences in the absence of the intoxicating agent .\", \"Few studies have examined neurocognitive effects of<br>marijuana use among adolescents , but some reports<br>identified decrements in attention ( Tapert et al . 2002b )<br>, and learning and memory ( Millsaps et al . 1994 ; Schwartz<br>et al . 1989 ) associated with early marijuana use .\", \"We previously demonstrated increased dorsolateral prefrontal<br>and decreased inferior frontal f MRI response during a<br>spatial working memory task among teens with comorbid<br>alcohol and marijuana use disorders compared to those with<br>alcohol use disorders alone and to non -using controls ,<br>suggesting a marijuana use -related increase in dorsolateral<br>prefrontal effort ( Schweinsburg et al . 2005b ) .\", \"However , most studies of adolescent marijuana users were<br>conducted after several days of abstinence , so effects<br>could be transitory .\", \"Jacobsen et al . ( 2004 ) addressed this concern by<br>evaluating seven adolescent marijuana users , seven<br>demographically similar tobacco smokers , and seven non<br>-users with a working memory task during f MRI acquisition<br>after about a month of abstinence .\", \"Marijuana users were less accurate on the task and showed<br>increased BOLD response in the right hippocampus relative to<br>other groups .\", \"The authors suggested that marijuana users might have failed<br>to inhibit hippocampal activity during the task , perhaps<br>due to cannabis -induced changes in inhibitory<br>neurotransmission or apoptosis in the hippocampus .\", \"These researchers then compared 15 adolescents with and 18<br>without histories of cannabis use during nicotine withdrawal<br>.\", \"Cannabis users , but not non -users , showed nicotine<br>withdrawal -precipitated increases in parietal activation<br>and disruptions in frontoparietal connectivity during a<br>verbal working memory task\", \"( Jacobsen et al . 2007 ). Collectively , existing data<br>indicate some executive impairment and neural dysfunction<br>associated with adolescent marijuana use , although the<br>neural substrates specific to inhibitory processing have not<br>yet been examined in teenage marijuana users .\", \"In the current study , we performed BOLD f MRI during a<br>go/no -go task to characterize response inhibition among<br>adolescent marijuana users and non -using controls .\", \"Because studies of marijuana -using adults have suggested<br>improvements in cognitive and neural functioning after 28<br>days of abstinence ( Pope et al . 2001 ) , we required<br>participants to complete 28 days of monitored abstinence<br>before scanning to ensure that any group differences were<br>not due to recent use .\", \"The go/no -go task ( Anderson et al . 2005 ; Schweinsburg et<br>al . 2004b ) was designed to assess inhibitory processing by<br>asking participants to withhold a response to an<br>infrequently occurring stimulus .\", \"Previous studies have observed activation in dorsolateral<br>prefrontal , inferior frontal , anterior cingulate , and<br>posterior parietal regions among adolescents using this task<br>( Anderson et al . 2005 ; Schweinsburg et al . 2004a ) and<br>similar inhibition paradigms ( Adleman et al . 2002 ; Luna<br>et al . 2001 ; Tamm et al . 2002 ) .\", \"Participants were 16 -to 18 -year -olds enrolled in an<br>ongoing study of adolescents recruited from local high<br>schools and colleges ( Medina et al . 2007a , b ; Nagel et<br>al . 2006 ; Schweinsburg et al . 2005a ) .\", \"Sixteen adolescents were marijuana users ( MJ ) with at<br>least 60 lifetime episodes of cannabis use and limited<br>histories of other drug use , and 17 adolescents were<br>demographically similar non -using controls ( see Table 1<br>for demographic characteristics ) with less than five<br>lifetime episodes of cannabis use .\", \"Written assent and consent were obtained from adolescents<br>and their parent/legal guardians in accordance with the<br>University of California San Diego Human Research<br>Protections Program .\", \"Eligibility was ascertained through separate , private<br>telephone screening interviews with the youth and the parent<br>.\", \"Exclusionary criteria included left handedness ; history of<br>head injury with loss of consciousness > 2 min , learning<br>disabilities , medical or neurological problem , DSM -IV (<br>APA 1994 ) Axis I psychiatric disorder ( i.e . , mood ,<br>anxiety , psychotic , attention , and conduct disorders ) as<br>assessed by the computerized NIMH Diagnostic Interview<br>Schedule for Children Predictive Scales ( DISC -PS -4.32b ;<br>Lucas et al . 2001 ; Shaffer et al . 2000 ) Youth and Parent<br>versions , and use of any psychotropic medication ;<br>significant maternal drinking ( more that two drinks on an<br>occasion or more than four drinks in a week ) or other drug<br>use during pregnancy ; family history of bipolar I or<br>psychotic disorders determined by the Family History<br>Assessment Module ( Rice et al . 1995 ) ; and MRI<br>contraindications . MJ youth disclosed using marijuana an<br>average of \\u223c 500 times in their lives\", \"( see Table 1 ), and three control youth had experience with<br>marijuana ( less than five times ) .\", \"MJ youth used marijuana every other day on average , before<br>being asked to remain abstinent for the 28 days before<br>scanning .\", \"Most MJ youth were current users , as all but three used in<br>the month before monitored abstinence .\", \"Substance use assessment Substance involvement was<br>ascertained using the Customary Drinking and Drug Use Record<br>( Brown et al . 1998 ) , an interview that obtains<br>information on lifetime and past 3 -month use of marijuana ,<br>alcohol , nicotine , other illicit drugs , and misuse of<br>prescription and over -the -counter medications , and<br>negative consequences associated with substance use .\", \"Strong internal consistency , test -retest , and inter<br>-rater reliability have been demonstrated with adolescents (<br>Brown et al . 1998 ; Stewart and Brown 1995 ) .\", \"The Fagerstrom Test for Nicotine Dependence ( FTND ;<br>Heatherton et al . 1991 ) indicated that no participant was<br>dependent on nicotine .\", \"The Timeline Followback ( Sobell and Sobell 1992 ) collected<br>details on substance use patterns for the month before and<br>during the 28 -day abstinence period .\", \"Continuous indices of level of internalizing and<br>externalizing psychopathological syndromes were assessed by<br>the 113 -item Child Behavior Checklist ( CBCL ; Achenbach<br>and Rescorla 2001 ) , administered to parents ( typically<br>biological mothers ) covering youth behaviors in the past 6<br>months .\", \"Eight -factor T scores ( rulebreaking behavior , aggressive<br>behavior , withdrawn/depressed , anxious/depressed , somatic<br>complaints , attention problems , social problems , and<br>thought problems ) and summary T scores ( externalizing ,<br>internalizing ) are provided .\", \"Personality Disinhibition and substance use may relate to<br>personality traits .\", \"Thus , all participants completed the NEO Five -Factor<br>Inventory ( NEO -FFI ; Costa and Mc Crae 1992 ) , a 60 -item<br>self -report personality questionnaire that assesses five<br>domains of personality : neuroticism , extraversion ,<br>openness , agreeableness , and conscientiousness .\", \"This factor structure has been replicated in adolescent<br>samples ( Fruyt et al . 2000 ) .\", \"Go/no -go task Participants performed a go/no -go task<br>during f MRI scanning ( Anderson et al . 2005 ; Schweinsburg<br>et al . 2004b ) .\", \"The task alternated between active blocks and resting blocks<br>.\", \"During resting blocks , participants viewed a \\\"+\\\" in the<br>center of the screen .\", \"During active blocks , a large square , small square , large<br>circle , and small circle were presented one at a time for<br>200 ms every 1,500 ms . Participants were instructed to<br>press a button as fast as possible every time they saw a<br>shape ( go stimuli ) except for the small square ( no -go<br>stimulus ) , thus requiring response inhibition .\", \"The task lasted 6 min and 24 s .\", \"Participants additionally performed the entire task before<br>scanning to ensure adequate comprehension of instructions<br>and to resolve potential practice effects\", \"To confirm that participants did not use substances in the 4<br>weeks before scanning , all participants ( controls and<br>marijuana users ) provided at least nine urine toxicology<br>screens ( two to three times per week ) during these 28 days<br>.\", \"Urine toxicology procedures can reliably detect evidence of<br>marijuana use 4 to 25 days after last use ( Fraser et al .<br>2002 ; Huestis and Cone 1998 ) , sometimes longer ( Lafolie<br>et al . 1991 ) , depending on pattern of use , body lipid<br>content , and metabolic features .\", \"Each urine sample was evaluated for metabolites indicating<br>recent use of cannabis , amphetamines , methamphetamines ,<br>barbiturates , benzodiazepines , cocaine , codeine ,<br>morphine , phencyclidine , and ethanol using cloned enzyme<br>donor immunoassay ( CEDIA DAU , Microgenics , Fremont , CA ,<br>USA ) .\", \"Observed urine sample collection procedures reduced the<br>possibility of participant tampering .\", \"Tetrahydrocannabinol ( THC ) values were monitored over the<br>28 -day period to ensure that levels decreased .\", \"Initial samples testing positive for THC metabolites were<br>assumed to reflect residual use if values decreased with<br>each subsequent sample collected .\", \"If levels increased or a positive screen was obtained after<br>a negative screen , the participant was given the option to<br>restart the 28 -day screening process or be dropped from the<br>study .\", \"Breathalyzers ( Alco Sensor IV , Intoximeter , St . Louis ,<br>MO , USA ) were conducted at each visit .\", \"To confirm urine results , a hair sample collected on the<br>scan day was analyzed for THC and other drug metabolites<br>suggestive of past month use ( Psychemedics , Culver City ,<br>CA , USA ) .\", \"Seven users , not described in this paper , were unable to<br>complete the 28 -day abstinence protocol .\", \"In preparation for scanning , each participant lay on the<br>scanner bed .\", \"Foam pads were arranged around the head to minimize motion .\", \"A mirror above the participant 's eyes enabled viewing of a<br>screen at the foot of the scanner bed , on which the task<br>was rear -projected from a laptop .\", \"Behavioral responses during the task were collected through<br>a fiber -optic button box ( Lumi Touch , Vancouver , BC ,<br>Canada ) .\", \"Imaging data were acquired on a 1.5 Tesla Signa LX ( General<br>Electric , Madison , WI , USA ) system .\", \"A structural image was collected in the sagittal plane using<br>an inversion recovery prepared T1 -weighted 3D spiral fast<br>spin echo sequence ( repetition time 2,000 ms , echo time 16<br>ms , field of view 240 mm , 128 continuous slices ,<br>resolution 0.9375\\u00d70.9375 \\u00d7 1.328 mm , acquisition time 8:36<br>; Wong et al . 2000 ) .\", \"Data were processed and analyzed using Analysis of<br>Functional Neuro Images ( AFNI ; http://www.afni.nimh.nih .<br>gov ; Cox 1996 ) .\", \"First , an automated motion correction algorithm was applied<br>to the time series datasets ( Cox and Jesmanowicz 1999 ) .\", \"Two raters examined the time series data and removed<br>repetitions containing residual visible head motions .\", \"If > 18 % of repetitions were removed , the participant was<br>not included ( n=3 not described in this paper ) .\", \"Groups did not differ in the number of repetitions removed (<br>p=0.87 ) or absolute mean rotational or translational<br>adjustments applied .\", \"Average rotational ( roll , pitch , and yaw ) and<br>translational ( superior , left , and posterior ) movement ,<br>respectively , was 0.04 , 0.11 , and 0.05\\u00b0and 0.07 , 0.04 ,<br>and 0.04 mm for MJ users , and 0.06 , 0.12 , 0.06\\u00b0and 0.10 ,<br>0.04 , and 0.06 mm for controls .\", \"No significant differences between groups were found for<br>task -correlated motion\", \"( rs for the correlation between the task reference function<br>and each motion parameter were \\u2212 0.08 , \\u2212 0.10 , \\u2212 0.02 , \\u2212<br>0.11 , \\u2212 0.07 , and \\u2212 0.07 for MJ users and \\u2212 0.04 , \\u2212 0.06<br>, \\u2212 0.04 , \\u2212 0.10 , \\u2212 0.08 , and \\u2212 0.06 for controls ) .Next<br>, time series datasets were deconvolved with a reference<br>function representing the timing of go , no -go , and rest<br>stimuli presentation over the course of the task ( Ward 2002<br>) while accounting for hemodynamic delays ( Bandettini et al<br>. 1993 ; Boynton et al . 1996 ) and covarying for motion<br>adjustments applied and linear trends .\", \"This yielded fit coefficients representing the BOLD response<br>for ( 1 ) inhibition ( no -go ) trials relative to baseline<br>and ( 2 ) go trials relative to baseline in each voxel of<br>the brain for each subject .\", \"Data were transformed to standard space ( Lancaster et al .<br>2000 ; Talairach and Tournoux 1988 ) , resampled into<br>isotropic 3.5 -mm voxels , and spatially smoothed with a<br>Gaussian filter ( 3.5 mm full width half maximum ) to<br>account for anatomic variability between subjects .\", \"We determined regions of significant BOLD response<br>differences between MJ and control adolescents using<br>independent samples t tests in each voxel of the brain ,<br>performed separately on the BOLD response contrast for no<br>-go and for go trials .\", \"To control for type I error , we used a combination of t<br>statistic magnitude and cluster volume thresholding ( Forman<br>et al . 1995 ; Ward 1997 ) by only interpreting clusters<br>comprised of at least 22 contiguously activated voxels at<br>a<.05 ( \\u2265 943 \\u03bcl in volume ) .\", \"Anatomic localization was confirmed using the Talairach<br>Daemon ( Lancaster et al . 2000 ; Ward 1997 ) and AFNI (<br>Ward 1997 ) .\", \"Normality of distribution was evaluated for key variables (<br>Tabachnick and Fidell 2007 ) .\", \"No outliers or non -normal distributions were found for BOLD<br>response contrast in clusters showing group differences .\", \"However , five variables ( marijuana hits per month ,<br>lifetime other drug use , cigarettes smoked per month , FTND<br>total , and BDI total ) were positively skewed and kurtotic<br>, so were inverse transformed [ i.e . , 1/ ( 1 + the skewed<br>variable ) ; Tabachnick and Fidell 2007 ] .\", \"Group comparison results were further examined in analyses<br>of covariance ( ANCOVAs ) that controlled for potential<br>confound variables that differed between groups .\", \"Follow -up regression analyses were conducted among the MJ<br>users ( n=16 ) to examine BOLD response contrast to no -go<br>trials , averaged across the cluster , in the regions that<br>continued to differentiate users from controls in the above<br>ANCOVAs .\", \"BOLD response contrast to no -go trials was the dependent<br>variable , and variables indexing marijuana use , other<br>substance use , and risk factors for substance involvement<br>were the predictors .\", \"Groups did not differ significantly on mood state measures\", \"( see Table 1 ), but MJ users showed a trend for higher BDI<br>scores ( p=0.08 ) .\", \"Groups were similar and in the normal range on all CBCL<br>factor T scores , except that the MJ group was higher on<br>Rule -Breaking Behavior ( 53.00\\u00b18.23 MJ , 45.21\\u00b15.19<br>controls , p<0.005 ) .\", \"On the NEO -FFI , MJ youth demonstrated greater scores on<br>Openness ( 44.25 \\u00b1 3.11 MJ , 41.18\\u00b14.88 controls , p<0.05 )<br>but were statistically equivalent on other personality<br>scores .\", \"MJ youth committed more errors than controls on several<br>cognitive tests : more sequencing errors across all DKEFS<br>Trails conditions ( p<0.01 ) , more intrusion errors on a<br>word list learning task ( p<0.05 ) , and more repetition<br>errors on DKEFS Verbal Fluency ( p<0.05 ) .Task performance<br>data were available for 15 MJ and 15 control adolescents .\", \"No group differences or group by condition interactions were<br>found .\", \"As expected , participants responded more accurately (<br>p<.001 ) to go trials ( 98.97 \\u00b1 1.88 % MJ , 98.70\\u00b11.62 %<br>controls ) than no -go trials ( 82.92 \\u00b1 9.57 % MJ ,<br>81.64\\u00b110.73 % controls ) .\", \"Groups were equivalent on reaction time to go trials (<br>588.11\\u00b140.44 MJ , 606.13 \\u00b1 74.35 controls , p=.38 ) .\", \"D \\u2032 , a signal detection index that considers the<br>probability of correct and incorrect responses ( i.e . , the<br>ability to separate go stimuli from the no -go stimulus ) ,<br>was also similar between groups ( 3.30\\u00b10.49 MJ , 3.04\\u00b10.84<br>controls , p=0.54 ) .\", \"Exit interview data showed that groups were equivalent on<br>task effort , motivation , and perceived errors , but MJ<br>users indicated use of more perceptual strategies ( e.g . ,<br>\\\" look for the small square to show up \\\" ) , while controls<br>tended to endorse cognitive strategies ( \\\" remember to hold<br>off when I see that shape \\\" or \\\" concentrate\\\" ) .f MRI<br>response Whole brain analyses showed that during inhibitory<br>trials relative to baseline , control adolescents showed<br>significantly increased activation in superior medial<br>frontal cortex and the left parahippocampal gyrus , and<br>decreased activation in bilateral posterior parietal and<br>inferior frontal regions .\", \"MJ users also showed increased inhibition -related<br>activation in superior frontal areas , as well as in<br>additional regions compared to controls , including numerous<br>left and medial prefrontal clusters , left posterior<br>parietal cortex , and multiple bilateral cerebellar regions<br>.\", \"MJ users showed decreased BOLD response during no -go trials<br>relative to baseline in right posterior parietal , inferior<br>frontal , and middle temporal cortices .\", \"Between -group comparisons revealed several clusters in<br>which MJ users showed significantly more BOLD response<br>during inhibition trials than controls : right anterior<br>superior and middle frontal gyri ( BA 10 , 46 ) , right<br>superior middle frontal gyrus extending down to the anterior<br>insula ( BA 6 , 13 ) , left anterior middle and superior<br>frontal gyri ( BA 10 ) , medial prefrontal cortex ( BA 6 ) ,<br>right and left posterior parietal cortex ( BA 7 , 40 ) , and<br>right lingual gyrus\", \"( BA 18 ; see Table 2 and Fig . 1 ). There were no clusters<br>in which MJ users showed significantly less inhibitory brain<br>response than controls .\", \"For go trials relative to baseline , controls showed<br>significant BOLD response in the bilateral ventral<br>prefrontal cortex , bilateral medial posterior parietal<br>cortex and cuneus , anterior cingulate , precentral gyrus ,<br>right anterior insula , and medial cerebellum .\", \"MJ users had multiple clusters of significant response to go<br>trials relative to baseline , including increased activation<br>in substantial portions of bilateral ventral prefrontal<br>cortex , bilateral medial superior frontal cortex , right<br>posterior parietal cortex , bilateral temporal cortex ,<br>anterior cingulate , precentral gyrus , left insula , and<br>bilateral cerebellum .\", \"Between -group comparisons indicated that MJ users had<br>significantly more BOLD response during go trials relative<br>to baseline than did controls in the right inferior frontal<br>gyrus and anterior insula ( BA 44 , 13 ) , right superior<br>frontal gyrus ( BA 9 , 10 ) , right superior parietal lobule<br>( BA 7 ) , right inferior parietal lobule ( BA 40 ) , and<br>medial precuneus\", \"( BA 7 ; see Table 3 ). There were no clusters in which MJ<br>users had significantly less go response than controls .\", \"To determine whether the group differences reported above<br>were due to differences in other substance use or factors<br>that could predate marijuana use , secondary analyses using<br>ANCOVAs separately ( due to limited power ) controlled for<br>lifetime alcohol consumption , days since last drink ,<br>drinks per month , years of regular drinking , time since<br>last cigarette , past week cigarettes per smoking day ,<br>cigarettes per month , FTND total , number of lifetime other<br>drug use episodes , family history of substance use<br>disorders , family history of psychiatric disorders , each<br>NEO -FFI score , and BDI total .\", \"For all analyses , groups continued to differ on BOLD<br>response in all clusters ( p range , 0.001 to 0.0001 ) .To<br>determine whether differences between groups were due to<br>duration and intensity of exposure to THC or related to the<br>recency of marijuana use , we conducted a series of<br>exploratory regression analyses among MJ users ( n=16 ) .\", \"Duration of regular marijuana use was negatively related to<br>no -go brain response in the right anterior superior frontal<br>gyrus ( BA 10 ; \\u03b2=\\u22120.73 , p<0.001 ; plotted in Fig . 2 ) ,<br>right superior middle frontal gyrus ( BA 6 ; \\u03b2=\\u22120.58 ,<br>p<0.025 ) , and left anterior superior frontal gyrus ( BA 10<br>; \\u03b2=\\u22120.58 , p < 0.025 ) , suggesting that youth with longer<br>durations of marijuana involvement had less no -go brain<br>response .\", \"Similarly , early age of onset of regular marijuana use ( \\u03b2<br>= 0.66 , p<0.01 ) and more lifetime marijuana use episodes (<br>\\u03b2=\\u2212.62 , p<0.025 ) related to less inhibitory response in<br>the right anterior superior frontal gyrus ( BA 10 ) .\", \"Typical number of marijuana hits per month also was<br>negatively related to brain response in the right anterior<br>superior frontal gyrus ( BA 10 ; \\u03b2=\\u22120.73 , p<.005 ) , right<br>superior middle frontal gyrus ( BA 6 ; \\u03b2=\\u22120.71 , p<0.005 ) ,<br>left anterior superior frontal gyrus ( BA 10 ; \\u03b2=\\u22120.68 ,<br>p<0.01 ) , and left posterior parietal cortex ( BA 40 ;<br>\\u03b2=\\u22120.62 , p < 0.025 ) .\", \"Days since last marijuana use ( range , 28 to 240 ) , age ,<br>and neuropsychological test performance were not associated<br>with brain response in any region demonstrating a group<br>difference .\", \"Number of lifetime other drug use episodes ( primarily pain<br>medications ) was positively associated with BOLD response<br>contrast to no -go trials in the right anterior superior<br>frontal gyrus ( BA 10 ; \\u03b2=0.57 , p < 0.025 ) and right<br>middle frontal gyrus ( BA 6 , \\u03b2=0.56 , p < 0.025 ) .\", \"In this study , marijuana -using adolescents showed<br>increased BOLD response during both inhibitory and non<br>-inhibitory trials of a go/no -go task , even after a 28<br>-day washout period of abstinence from cannabis , as<br>compared to control adolescents with limited substance use<br>histories .\", \"Differences were prominent in dorsolateral prefrontal and<br>parietal areas .\", \"Our findings with adolescent marijuana users extend those of<br>others ( Gruber and Yurgelun -Todd 2005 ) , who Fig . 1<br>Inhibition trial differences in BOLD response contrast<br>between marijuana -using ( n=16 ) and non -using ( n=17 )<br>adolescents after 28 days of monitored abstinence .\", \"Blue areas show where users had more significantly BOLD<br>response during inhibition ( no -go ) trials relative to<br>baseline than non -users ( p<0.05 , clusters > 943 \\u03bcl ) ; no<br>clusters in which users showed significantly less activation<br>than controls were found ( see Table 2 ) showed that adult<br>marijuana users exhibited increased prefrontal response<br>during inhibition tasks .\", \"The present results thus suggest that the effects of<br>cannabis use on brain function in adolescents may persist<br>after a period of abstinence .\", \"A pattern of increased activation yet comparable performance<br>is consistent with functional compensation and<br>dedifferentiation ( Rajah and D 'Esposito 2005 ) , which<br>supposes that loci of functional activity are spread to more<br>and larger regions .\", \"Therefore , adolescent marijuana users appear to recruit<br>more neural tissue in executive control areas to adequately<br>perform the task , which is consistent with other studies<br>showing increased dorsolateral prefrontal activation in MJ<br>users during inhibition ( Gruber and Yurgelun -Todd 2005 )<br>and other ( Schweinsburg et al . 2005b ) cognitive tasks .\", \"Repeated cannabinoid use may alter neuromaturation in<br>regions with high CB1 densities , such as prefrontal cortex<br>( Eggan and Lewis 2007 ) .\", \"Synaptic pruning and gray matter sculpting occurs late in<br>some of the regions showing increased BOLD signal among<br>users , such as bilateral dorsolateral prefrontal cortex ,<br>where cortical thickness peaks at age 11.5 on average (<br>Gogtay et al . 2004 ; Sowell et al . 2003 ) .\", \"If prefrontal synaptic pruning is slowed by adolescent<br>marijuana use , greater activation may reflect excess neural<br>firing caused by a larger number of synaptic links .\", \"In their study of heavy marijuana -using adults , Gruber and<br>Yurgelun -Todd ( 2005 ) reported that heavy users had<br>increased prefrontal response to an inhibition task , as<br>seen in this study of adolescents , but also showed reduced<br>anterior cingulate response , which we did not observe in<br>this study .\", \"One possible explanation for this difference is the duration<br>of marijuana use in our cohort .\", \"It may take a longer period of use to evidence such changes<br>in cingulate responding .\", \"The increased parietal activation among marijuana -using<br>adolescents is consistent with findings from Jacobsen et al<br>. ( 2007 ) of heightened parietal response in marijuana<br>-involved youth during a verbal working memory task while<br>undergoing nicotine withdrawal , although here , nicotine<br>use rates were relatively low .\", \"As right dorsolateral prefrontal and parietal regions have<br>been implicated in sustained attention ( Drummond et al .<br>2005 ) , perhaps , users had a greater cognitive load<br>associated with attending to the stimuli in general and in<br>identifying the no -go stimulus in particular .\", \"Both go and no -go trials require sustained attention , and<br>overlap was observed for the right prefrontal/insular and<br>parietal regions where users showed greater BOLD response<br>than controls for both conditions .\", \"Adolescents with later onsets ( age , 16-18 ) and briefer<br>durations ( 1-2 years ) of regular marijuana use showed the<br>greatest divergence from normal controls in BOLD response to<br>the inhibition trials .\", \"Similarly , Chang et al . ( 2006 ) reported that adults who<br>started marijuana use in late adolescence had more frontal<br>activation during a visual attention task than adults who<br>started in early adolescence .\", \"Although our data do not address the molecular mechanism of<br>this difference , we can speculate about the nature of this<br>finding .\", \"For example , increased prefrontal activation during an<br>inhibitory task in adolescent users with a more recent onset<br>may reflect a stage of neural and behavioral compensation .\", \"This compensatory response may occur within the first few<br>years of regular adolescent marijuana use and may later be<br>followed by neuroadaptation or other processes , possibly<br>related to downregulation of cannabinoid ( CB1 ) receptors .\", \"Therefore , an inverted U -shaped response pattern may<br>emerge over time , which eventually results in brain<br>activation patterns that are indistinguishable from non<br>-users ( suggested in Fig . 2 ) . BOLD response is<br>influenced by cerebral blood flow , often abnormal in<br>marijuana users acutely and subacutely .\", \"Up to 36 h since last use , THC intake is associated with<br>increased cerebral blood flow ( Mathew et al . 2002 ) and<br>volume ( Sneider et al . 2006 ) in frontal , insular ,<br>anterior cingulate , cerebellum , temporal , and paralimbic<br>regions ; reductions in auditory and visual cortex ,<br>parietal lobe , and thalamus ; and no change in nucleus<br>accumbens , basal ganglia , or the hippocampus ( O 'Leary et<br>al . 2002 ) .\", \"Although increases in blood flow velocity and<br>cerebrovascular resistance dissipate from 3 to 28 days of<br>abstinence in adults with marijuana use levels consistent<br>with this sample ( i.e . , 15.9 days per month ) , very<br>heavy users remained abnormally elevated ( Herning et al .<br>2005 ) .\", \"Thus , increased BOLD response in adolescent marijuana users<br>could reflect residual cerebrovasculature abnormalities ,<br>although increased blood flow or volume would likely yield<br>lower BOLD response ( Brown et al . 2003 ) , not greater ,<br>as seen here .\", \"This study had several limitations .\", \"While groups were equivalent on many demographic variables ,<br>intelligence , Fig . 2 Marijuana using adolescents ( n=16 )<br>show more BOLD response ( y -axis displays fit coefficients<br>) during inhibition trials relative to baseline than control<br>adolescents ( n=17 ) in right dorsolateral prefrontal cortex<br>, largely accounted for by users with 1 to 3 years of<br>regular ( weekly ) marijuana use and task performance ,<br>marijuana users had greater alcohol and other substance<br>histories and a trend for more depressed symptomatology .\", \"Although activation patterns remained after controlling for<br>these factors , substance and affective differences pose the<br>possibility of synergistic effects , and we have previously<br>found adolescent heavy drinking to be related to abnormal<br>activation patterns on a spatial working memory task\", \"( Caldwell et al . 2005 ;\", \"Schweinsburg et al .\", \"2005b ;\", \"Tapert et al . 2001 Tapert et al . , 2004 .\", \"Reduced educational engagement or altered sleep quality<br>related to marijuana use might account for the differences .\", \"Critically , the current data cannot ascertain if marijuana<br>use during adolescence produces the observed differences or<br>if abnormalities existed before the onset of regular use .\", \"Groups did not differ on proportion with a family history of<br>substance use disorder , and youths with psychiatric<br>diagnosis ( e.g . , conduct disorder , attention<br>-deficit/hyperactivity disorder ) were excluded from the<br>study .\", \"Groups were similar with regard to most personality and<br>psychopathological syndrome dimensions but did differ on<br>openness to new experiences and parent report of delinquent<br>behaviors , which also may predate or result from adolescent<br>marijuana use , but did not account for group differences in<br>brain response .\", \"On the other hand , the adolescents who diverged most from<br>normal controls may simply differ on unmeasured risk factors<br>related to the initiation and escalation of substance use .\", \"Altered inhibitory processing may make adolescents<br>vulnerable to substance use initiation and escalation .\", \"The indication of extra neural effort required to inhibit<br>responses has important implications for adolescent<br>development and future substance involvement .\", \"Demands for inhibitory control increases substantially over<br>the course of late adolescence , particularly in school and<br>work environments as well as social and intimate<br>relationships .\", \"Consequently , youth required to exert extra neurocognitive<br>effort may be disadvantaged or become less successful in<br>maneuvering the normal transitions of adolescence and young<br>adulthood .\", \"Additionally , it may be harder for these youth to inhibit<br>the use of substances , particularly in situations where<br>cognitive demands are strained due to conflicting goals ,<br>distractions , peers , substance -relevant cues , or low<br>mood states .\"], \"type\": \"bar\", \"x\": [0, 1, 2, 3, 4, 5, 6, 7, 8, 9, 10, 11, 12, 13, 14, 15, 16, 17, 18, 19, 20, 21, 22, 23, 24, 25, 26, 27, 28, 29, 30, 31, 32, 33, 34, 35, 36, 37, 38, 39, 40, 41, 42, 43, 44, 45, 46, 47, 48, 49, 50, 51, 52, 53, 54, 55, 56, 57, 58, 59, 60, 61, 62, 63, 64, 65, 66, 67, 68, 69, 70, 71, 72, 73, 74, 75, 76, 77, 78, 79, 80, 81, 82, 83, 84, 85, 86, 87, 88, 89, 90, 91, 92, 93, 94, 95, 96, 97, 98, 99, 100, 101, 102, 103, 104, 105, 106, 107, 108, 109, 110, 111, 112, 113, 114, 115, 116, 117, 118, 119, 120, 121, 122, 123, 124, 125, 126, 127, 128, 129, 130, 131, 132, 133, 134, 135, 136, 137, 138, 139, 140, 141, 142, 143, 144, 145, 146, 147, 148, 149, 150, 151, 152, 153, 154, 155], \"y\": [6.813042988510782e-08, 4.4518491528253915e-09, 5.944816683849338e-07, 8.711058086295017e-05, 9.953196138127789e-08, 0.00019292243586655565, 1.2404006779396002e-08, 0.00017653124130790327, 2.8124874977124403e-06, 3.033292155648654e-08, 3.941849597397663e-06, 4.17749764119507e-06, 0.0001675496219649232, 2.4770361232863712e-05, 0.0001432231728516664, 6.701680694960552e-05, 3.240856195833569e-05, 0.0001471697725963986, 0.00033123931190794906, 3.179453653096594e-05, 7.693220614409964e-06, 2.399665552166026e-05, 1.2436600526632768e-05, 1.7227375215401727e-05, 3.946767267364657e-09, 3.5246716946150804e-05, 0.00014673094326374513, 4.5051046897012674e-05, 0.00010852696491250199, 5.6603615740397424e-05, 0.000159764913604923, 9.644131213809108e-09, 7.041690498770102e-07, 7.185542187871521e-10, 1.8823937342871803e-10, 7.042430779655644e-08, 0.0, 6.703958620264552e-08, 8.003093805265065e-07, 1.1219563356478597e-08, 1.2230094210507908e-07, 2.6940421365160112e-08, 1.118711640675189e-09, 6.6272318487943e-08, 0.0, 3.851356362671871e-08, 1.7740528308326817e-08, 5.323828929185611e-07, 1.6444042496422038e-05, 1.155613147075787e-06, 1.4693338584716588e-08, 3.462632392990348e-07, 9.028034428515698e-07, 1.1415897672160893e-05, 8.415534096160893e-06, 1.3380547517164231e-08, 1.7451790471158044e-06, 3.6268311979525116e-09, 2.5944189084127823e-07, 6.045800902226133e-09, 5.5510220451126e-06, 0.0, 7.024313842797763e-09, 6.728786036510408e-06, 2.194104829892748e-09, 4.360344405937277e-10, 7.702128996198473e-07, 1.0792132618907025e-06, 0.0, 7.929214457337389e-09, 2.8875024269330617e-09, 5.771205231592029e-09, 9.250839091268941e-10, 4.656505663237576e-08, 1.9055224307159594e-07, 3.3684985096499407e-06, 2.461416896644299e-06, 1.9750423138704884e-05, 4.761811374228086e-06, 7.286390425210126e-10, 1.258507474198757e-05, 1.1258614317658856e-06, 1.1883626740551154e-09, 1.5665501008205166e-09, 4.598063402432231e-08, 6.185229386218717e-10, 6.229374771452392e-08, 4.645118679201766e-05, 2.9914664804295953e-09, 0.0, 2.735567429012116e-06, 9.27333781897399e-06, 1.0183614139389887e-05, 3.7583984540173087e-06, 1.57066030798639e-08, 1.127499320613459e-05, 5.69463805408028e-06, 8.075445120789518e-06, 0.00019461681648105255, 8.31044340236884e-05, 5.632091003849332e-06, 1.7133427161196992e-05, 4.252551089464134e-05, 7.119217891244011e-06, 4.235324151711172e-05, 2.7873837543079923e-05, 2.6926599199986886e-05, 3.2956049086840637e-07, 9.734157287054954e-06, 1.6070837581155654e-06, 4.8465162026392815e-08, 1.6894772305130697e-06, 1.8204569090411436e-06, 6.675250131812649e-07, 8.864756572919775e-06, 1.3919120057615278e-09, 3.153053752042596e-06, 0.0001091497352786953, 5.556337704723122e-06, 0.000200503113476873, 0.0006476695412873096, 8.693552394433565e-06, 4.475486589423819e-05, 0.00021974534016707314, 4.3222252583703214e-05, 7.855425571056666e-08, 1.6618035620833422e-06, 5.189308619419311e-05, 2.69718779420851e-05, 6.358726900603672e-05, 7.714990013725228e-06, 6.210548738755732e-05, 1.9493423293997285e-08, 0.0002063992469404909, 2.652219454059957e-07, 0.00017276529839528587, 9.97374518879308e-06, 8.156202216707502e-06, 8.686392696940114e-06, 3.944885543494082e-09, 7.92373336625384e-06, 8.705451271094326e-05, 0.0, 0.0, null, 0.00010202290213465864, 2.6558243446738333e-05, 4.022352432800992e-08, 2.128143249805266e-09, 1.7518865598513454e-06, 2.850921673102657e-05, 7.543938674835133e-06, 6.003398661632336e-05, 8.434135008161892e-09, 2.906404821232288e-06, 1.4643029177636943e-07]}],\n",
       "                        {\"hoverlabel\": {\"bgcolor\": \"white\", \"font\": {\"family\": \"Rockwell\", \"size\": 13}}, \"template\": {\"data\": {\"bar\": [{\"error_x\": {\"color\": \"#2a3f5f\"}, \"error_y\": {\"color\": \"#2a3f5f\"}, \"marker\": {\"line\": {\"color\": \"#E5ECF6\", \"width\": 0.5}}, \"type\": \"bar\"}], \"barpolar\": [{\"marker\": {\"line\": {\"color\": \"#E5ECF6\", \"width\": 0.5}}, \"type\": \"barpolar\"}], \"carpet\": [{\"aaxis\": {\"endlinecolor\": \"#2a3f5f\", \"gridcolor\": \"white\", \"linecolor\": \"white\", \"minorgridcolor\": \"white\", \"startlinecolor\": \"#2a3f5f\"}, \"baxis\": {\"endlinecolor\": \"#2a3f5f\", \"gridcolor\": \"white\", \"linecolor\": \"white\", \"minorgridcolor\": \"white\", \"startlinecolor\": \"#2a3f5f\"}, \"type\": \"carpet\"}], \"choropleth\": [{\"colorbar\": {\"outlinewidth\": 0, \"ticks\": \"\"}, \"type\": \"choropleth\"}], \"contour\": [{\"colorbar\": {\"outlinewidth\": 0, \"ticks\": \"\"}, \"colorscale\": [[0.0, \"#0d0887\"], [0.1111111111111111, \"#46039f\"], [0.2222222222222222, \"#7201a8\"], [0.3333333333333333, \"#9c179e\"], [0.4444444444444444, \"#bd3786\"], [0.5555555555555556, \"#d8576b\"], [0.6666666666666666, \"#ed7953\"], [0.7777777777777778, \"#fb9f3a\"], [0.8888888888888888, \"#fdca26\"], [1.0, \"#f0f921\"]], \"type\": \"contour\"}], \"contourcarpet\": [{\"colorbar\": {\"outlinewidth\": 0, \"ticks\": \"\"}, \"type\": \"contourcarpet\"}], \"heatmap\": [{\"colorbar\": {\"outlinewidth\": 0, \"ticks\": \"\"}, \"colorscale\": [[0.0, \"#0d0887\"], [0.1111111111111111, \"#46039f\"], [0.2222222222222222, \"#7201a8\"], [0.3333333333333333, \"#9c179e\"], [0.4444444444444444, \"#bd3786\"], [0.5555555555555556, \"#d8576b\"], [0.6666666666666666, \"#ed7953\"], [0.7777777777777778, \"#fb9f3a\"], [0.8888888888888888, \"#fdca26\"], [1.0, \"#f0f921\"]], \"type\": \"heatmap\"}], \"heatmapgl\": [{\"colorbar\": {\"outlinewidth\": 0, \"ticks\": \"\"}, \"colorscale\": [[0.0, \"#0d0887\"], [0.1111111111111111, \"#46039f\"], [0.2222222222222222, \"#7201a8\"], [0.3333333333333333, \"#9c179e\"], [0.4444444444444444, \"#bd3786\"], [0.5555555555555556, \"#d8576b\"], [0.6666666666666666, \"#ed7953\"], [0.7777777777777778, \"#fb9f3a\"], [0.8888888888888888, \"#fdca26\"], [1.0, \"#f0f921\"]], \"type\": \"heatmapgl\"}], \"histogram\": [{\"marker\": {\"colorbar\": {\"outlinewidth\": 0, \"ticks\": \"\"}}, \"type\": \"histogram\"}], \"histogram2d\": [{\"colorbar\": {\"outlinewidth\": 0, \"ticks\": \"\"}, \"colorscale\": [[0.0, \"#0d0887\"], [0.1111111111111111, \"#46039f\"], [0.2222222222222222, \"#7201a8\"], [0.3333333333333333, \"#9c179e\"], [0.4444444444444444, \"#bd3786\"], [0.5555555555555556, \"#d8576b\"], [0.6666666666666666, \"#ed7953\"], [0.7777777777777778, \"#fb9f3a\"], [0.8888888888888888, \"#fdca26\"], [1.0, \"#f0f921\"]], \"type\": \"histogram2d\"}], \"histogram2dcontour\": [{\"colorbar\": {\"outlinewidth\": 0, \"ticks\": \"\"}, \"colorscale\": [[0.0, \"#0d0887\"], [0.1111111111111111, \"#46039f\"], [0.2222222222222222, \"#7201a8\"], [0.3333333333333333, \"#9c179e\"], [0.4444444444444444, \"#bd3786\"], [0.5555555555555556, \"#d8576b\"], [0.6666666666666666, \"#ed7953\"], [0.7777777777777778, \"#fb9f3a\"], [0.8888888888888888, \"#fdca26\"], [1.0, \"#f0f921\"]], \"type\": \"histogram2dcontour\"}], \"mesh3d\": [{\"colorbar\": {\"outlinewidth\": 0, \"ticks\": \"\"}, \"type\": \"mesh3d\"}], \"parcoords\": [{\"line\": {\"colorbar\": {\"outlinewidth\": 0, \"ticks\": \"\"}}, \"type\": \"parcoords\"}], \"pie\": [{\"automargin\": true, \"type\": \"pie\"}], \"scatter\": [{\"marker\": {\"colorbar\": {\"outlinewidth\": 0, \"ticks\": \"\"}}, \"type\": \"scatter\"}], \"scatter3d\": [{\"line\": {\"colorbar\": {\"outlinewidth\": 0, \"ticks\": \"\"}}, \"marker\": {\"colorbar\": {\"outlinewidth\": 0, \"ticks\": \"\"}}, \"type\": \"scatter3d\"}], \"scattercarpet\": [{\"marker\": {\"colorbar\": {\"outlinewidth\": 0, \"ticks\": \"\"}}, \"type\": \"scattercarpet\"}], \"scattergeo\": [{\"marker\": {\"colorbar\": {\"outlinewidth\": 0, \"ticks\": \"\"}}, \"type\": \"scattergeo\"}], \"scattergl\": [{\"marker\": {\"colorbar\": {\"outlinewidth\": 0, \"ticks\": \"\"}}, \"type\": \"scattergl\"}], \"scattermapbox\": [{\"marker\": {\"colorbar\": {\"outlinewidth\": 0, \"ticks\": \"\"}}, \"type\": \"scattermapbox\"}], \"scatterpolar\": [{\"marker\": {\"colorbar\": {\"outlinewidth\": 0, \"ticks\": \"\"}}, \"type\": \"scatterpolar\"}], \"scatterpolargl\": [{\"marker\": {\"colorbar\": {\"outlinewidth\": 0, \"ticks\": \"\"}}, \"type\": \"scatterpolargl\"}], \"scatterternary\": [{\"marker\": {\"colorbar\": {\"outlinewidth\": 0, \"ticks\": \"\"}}, \"type\": \"scatterternary\"}], \"surface\": [{\"colorbar\": {\"outlinewidth\": 0, \"ticks\": \"\"}, \"colorscale\": [[0.0, \"#0d0887\"], [0.1111111111111111, \"#46039f\"], [0.2222222222222222, \"#7201a8\"], [0.3333333333333333, \"#9c179e\"], [0.4444444444444444, \"#bd3786\"], [0.5555555555555556, \"#d8576b\"], [0.6666666666666666, \"#ed7953\"], [0.7777777777777778, \"#fb9f3a\"], [0.8888888888888888, \"#fdca26\"], [1.0, \"#f0f921\"]], \"type\": \"surface\"}], \"table\": [{\"cells\": {\"fill\": {\"color\": \"#EBF0F8\"}, \"line\": {\"color\": \"white\"}}, \"header\": {\"fill\": {\"color\": \"#C8D4E3\"}, \"line\": {\"color\": \"white\"}}, \"type\": \"table\"}]}, \"layout\": {\"annotationdefaults\": {\"arrowcolor\": \"#2a3f5f\", \"arrowhead\": 0, \"arrowwidth\": 1}, \"coloraxis\": {\"colorbar\": {\"outlinewidth\": 0, \"ticks\": \"\"}}, \"colorscale\": {\"diverging\": [[0, \"#8e0152\"], [0.1, \"#c51b7d\"], [0.2, \"#de77ae\"], [0.3, \"#f1b6da\"], [0.4, \"#fde0ef\"], [0.5, \"#f7f7f7\"], [0.6, \"#e6f5d0\"], [0.7, \"#b8e186\"], [0.8, \"#7fbc41\"], [0.9, \"#4d9221\"], [1, \"#276419\"]], \"sequential\": [[0.0, \"#0d0887\"], [0.1111111111111111, \"#46039f\"], [0.2222222222222222, \"#7201a8\"], [0.3333333333333333, \"#9c179e\"], [0.4444444444444444, \"#bd3786\"], [0.5555555555555556, \"#d8576b\"], [0.6666666666666666, \"#ed7953\"], [0.7777777777777778, \"#fb9f3a\"], [0.8888888888888888, \"#fdca26\"], [1.0, \"#f0f921\"]], \"sequentialminus\": [[0.0, \"#0d0887\"], [0.1111111111111111, \"#46039f\"], [0.2222222222222222, \"#7201a8\"], [0.3333333333333333, \"#9c179e\"], [0.4444444444444444, \"#bd3786\"], [0.5555555555555556, \"#d8576b\"], [0.6666666666666666, \"#ed7953\"], [0.7777777777777778, \"#fb9f3a\"], [0.8888888888888888, \"#fdca26\"], [1.0, \"#f0f921\"]]}, \"colorway\": [\"#636efa\", \"#EF553B\", \"#00cc96\", \"#ab63fa\", \"#FFA15A\", \"#19d3f3\", \"#FF6692\", \"#B6E880\", \"#FF97FF\", \"#FECB52\"], \"font\": {\"color\": \"#2a3f5f\"}, \"geo\": {\"bgcolor\": \"white\", \"lakecolor\": \"white\", \"landcolor\": \"#E5ECF6\", \"showlakes\": true, \"showland\": true, \"subunitcolor\": \"white\"}, \"hoverlabel\": {\"align\": \"left\"}, \"hovermode\": \"closest\", \"mapbox\": {\"style\": \"light\"}, \"paper_bgcolor\": \"white\", \"plot_bgcolor\": \"#E5ECF6\", \"polar\": {\"angularaxis\": {\"gridcolor\": \"white\", \"linecolor\": \"white\", \"ticks\": \"\"}, \"bgcolor\": \"#E5ECF6\", \"radialaxis\": {\"gridcolor\": \"white\", \"linecolor\": \"white\", \"ticks\": \"\"}}, \"scene\": {\"xaxis\": {\"backgroundcolor\": \"#E5ECF6\", \"gridcolor\": \"white\", \"gridwidth\": 2, \"linecolor\": \"white\", \"showbackground\": true, \"ticks\": \"\", \"zerolinecolor\": \"white\"}, \"yaxis\": {\"backgroundcolor\": \"#E5ECF6\", \"gridcolor\": \"white\", \"gridwidth\": 2, \"linecolor\": \"white\", \"showbackground\": true, \"ticks\": \"\", \"zerolinecolor\": \"white\"}, \"zaxis\": {\"backgroundcolor\": \"#E5ECF6\", \"gridcolor\": \"white\", \"gridwidth\": 2, \"linecolor\": \"white\", \"showbackground\": true, \"ticks\": \"\", \"zerolinecolor\": \"white\"}}, \"shapedefaults\": {\"line\": {\"color\": \"#2a3f5f\"}}, \"ternary\": {\"aaxis\": {\"gridcolor\": \"white\", \"linecolor\": \"white\", \"ticks\": \"\"}, \"baxis\": {\"gridcolor\": \"white\", \"linecolor\": \"white\", \"ticks\": \"\"}, \"bgcolor\": \"#E5ECF6\", \"caxis\": {\"gridcolor\": \"white\", \"linecolor\": \"white\", \"ticks\": \"\"}}, \"title\": {\"x\": 0.05}, \"xaxis\": {\"automargin\": true, \"gridcolor\": \"white\", \"linecolor\": \"white\", \"ticks\": \"\", \"title\": {\"standoff\": 15}, \"zerolinecolor\": \"white\", \"zerolinewidth\": 2}, \"yaxis\": {\"automargin\": true, \"gridcolor\": \"white\", \"linecolor\": \"white\", \"ticks\": \"\", \"title\": {\"standoff\": 15}, \"zerolinecolor\": \"white\", \"zerolinewidth\": 2}}}},\n",
       "                        {\"responsive\": true}\n",
       "                    ).then(function(){\n",
       "                            \n",
       "var gd = document.getElementById('0c3be947-baa2-4d0c-89e3-9b9929bf120e');\n",
       "var x = new MutationObserver(function (mutations, observer) {{\n",
       "        var display = window.getComputedStyle(gd).display;\n",
       "        if (!display || display === 'none') {{\n",
       "            console.log([gd, 'removed!']);\n",
       "            Plotly.purge(gd);\n",
       "            observer.disconnect();\n",
       "        }}\n",
       "}});\n",
       "\n",
       "// Listen for the removal of the full notebook cells\n",
       "var notebookContainer = gd.closest('#notebook-container');\n",
       "if (notebookContainer) {{\n",
       "    x.observe(notebookContainer, {childList: true});\n",
       "}}\n",
       "\n",
       "// Listen for the clearing of the current output cell\n",
       "var outputEl = gd.closest('.output');\n",
       "if (outputEl) {{\n",
       "    x.observe(outputEl, {childList: true});\n",
       "}}\n",
       "\n",
       "                        })\n",
       "                };\n",
       "                });\n",
       "            </script>\n",
       "        </div>"
      ]
     },
     "metadata": {},
     "output_type": "display_data"
    },
    {
     "data": {
      "application/vnd.plotly.v1+json": {
       "config": {
        "plotlyServerURL": "https://plot.ly"
       },
       "data": [
        {
         "hovertext": [
          "Many individuals first experiment with alcohol and drugs<br>during adolescence ( SAMHSA 2003 ) , and marijuana is the<br>most commonly used illicit substance among teenagers (<br>Johnston et al . 2005 ) .",
          "Nearly half of 12th graders have tried marijuana , and 6 %<br>disclose daily use ( Johnston et al . 2005 ) .",
          "Adolescence is also a period of continued neurodevelopment ,<br>including frontal lobe myelination and synaptic pruning that<br>subserve improved executive functioning ( Gogtay et al .<br>2004 ; Sowell et al . 2002 ) , including abilities such as<br>decision making , inhibitory processing , and impulse<br>control .",
          "The influence of marijuana use on these maturational<br>processes is unknown , although executive dysfunction may<br>affect the development and maintenance of substance use and<br>problems during adolescence ( Tapert et al . 2002a ) .",
          "Adults with heavy marijuana use histories have demonstrated<br>abnormalities in executive functioning ( Fletcher et al .<br>1996 ; Pope and Yurgelun Todd 1996 ; Solowij et al . 2002 )<br>and indices of frontal lobe operation ( Block et al . 2000 ;<br>Kanayama et al . 2004 ; Lundqvist et al . 2001 ; Solowij et<br>al . 1991 Solowij et al . , 1995 Struve et al . 1998 ) .",
          "To determine if cognitive deficits in marijuana users are<br>transient or persistent , Pope et al . ( 2001 ) tested 63<br>current marijuana users ( > 5,000 lifetime uses ) , 45<br>former users ( > 5,000 lifetime uses ) , and 72 normal<br>controls ( 1-50 lifetime uses ) , all ages 30-55 .",
          "Participants were abstinent for 28 days , verified by urine<br>drug screens and given neuropsychological tests on days 0 ,<br>1 , 7 , and 28 of abstinence .",
          "Current users showed some deficits relative to controls on<br>days 0 , 1 , and 7 , but groups did not differ on any test<br>by day 28 .",
          "In contrast , a study ( Bolla et al . 2002 ) that<br>hospitalized 22 marijuana -using adults ( > 2 years of<br>marijuana use ) for 28 days to assure abstinence found<br>greater marijuana intake linked to poorer performance on<br>tests of inhibition , problem solving , learning , and<br>reaction time .",
          "Disinhibition , i.e . , the impaired ability to inhibit a<br>potentially inappropriate response , is a common feature of<br>substance misuse ( Chen et al . 2007 ; Kamarajan et al .<br>2006 ; Kirisci et al . 2006 ; Verdejo -Garcia et al . 2006 )<br>.",
          "Neuroimaging studies have reported both prefrontal and<br>posterior parietal cortical involvement during inhibitory<br>processing in healthy volunteers ( Liu et al . 2004 ) ,<br>which may be overactive in populations with impulse control<br>problems ( Schulz et al . 2004 ) .",
          "Few studies have examined inhibitory processing in marijuana<br>users .",
          "Functional magnetic resonance imaging ( f MRI )<br>characterized the neural correlates of inhibition during a<br>Stroop task , in which heavy marijuana -using adults and non<br>-users were asked to inhibit the automatic process of<br>reading words and , instead , name the colors of words<br>printed in incongruent ink ( Gruber and Yurgelun Todd 2005 )<br>.",
          "Marijuana users not only showed greater midcingulate and<br>reduced anterior cingulate blood oxygen level dependent (<br>BOLD ) response but also more widespread bilateral<br>dorsolateral prefrontal activation during inhibition<br>relative to color naming trials .",
          "The investigators speculated that the altered activation<br>pattern in marijuana users reflects compensation and use of<br>alternate strategies .",
          "The same investigators had shown in a previous f MRI study<br>using a working memory task before and after a 28 -day<br>abstinence period ( Yurgelun -Todd et al . 1998 ) that adult<br>users demonstrated less prefrontal and more anterior<br>cingulate response than controls after just 24 h of non -use<br>.",
          "Although users showed some normalization of prefrontal<br>functioning after 28 days of abstinence , they still showed<br>anterior cingulate dysfunction , which is supportive of<br>persisting neural processing abnormalities .",
          "These results support the hypothesis that adult marijuana<br>users show abnormal neural inhibitory processing ,<br>compensatory hyper -activity , and altered neural processing<br>differences in the absence of the intoxicating agent .",
          "Few studies have examined neurocognitive effects of<br>marijuana use among adolescents , but some reports<br>identified decrements in attention ( Tapert et al . 2002b )<br>, and learning and memory ( Millsaps et al . 1994 ; Schwartz<br>et al . 1989 ) associated with early marijuana use .",
          "We previously demonstrated increased dorsolateral prefrontal<br>and decreased inferior frontal f MRI response during a<br>spatial working memory task among teens with comorbid<br>alcohol and marijuana use disorders compared to those with<br>alcohol use disorders alone and to non -using controls ,<br>suggesting a marijuana use -related increase in dorsolateral<br>prefrontal effort ( Schweinsburg et al . 2005b ) .",
          "However , most studies of adolescent marijuana users were<br>conducted after several days of abstinence , so effects<br>could be transitory .",
          "Jacobsen et al . ( 2004 ) addressed this concern by<br>evaluating seven adolescent marijuana users , seven<br>demographically similar tobacco smokers , and seven non<br>-users with a working memory task during f MRI acquisition<br>after about a month of abstinence .",
          "Marijuana users were less accurate on the task and showed<br>increased BOLD response in the right hippocampus relative to<br>other groups .",
          "The authors suggested that marijuana users might have failed<br>to inhibit hippocampal activity during the task , perhaps<br>due to cannabis -induced changes in inhibitory<br>neurotransmission or apoptosis in the hippocampus .",
          "These researchers then compared 15 adolescents with and 18<br>without histories of cannabis use during nicotine withdrawal<br>.",
          "Cannabis users , but not non -users , showed nicotine<br>withdrawal -precipitated increases in parietal activation<br>and disruptions in frontoparietal connectivity during a<br>verbal working memory task",
          "( Jacobsen et al . 2007 ). Collectively , existing data<br>indicate some executive impairment and neural dysfunction<br>associated with adolescent marijuana use , although the<br>neural substrates specific to inhibitory processing have not<br>yet been examined in teenage marijuana users .",
          "In the current study , we performed BOLD f MRI during a<br>go/no -go task to characterize response inhibition among<br>adolescent marijuana users and non -using controls .",
          "Because studies of marijuana -using adults have suggested<br>improvements in cognitive and neural functioning after 28<br>days of abstinence ( Pope et al . 2001 ) , we required<br>participants to complete 28 days of monitored abstinence<br>before scanning to ensure that any group differences were<br>not due to recent use .",
          "The go/no -go task ( Anderson et al . 2005 ; Schweinsburg et<br>al . 2004b ) was designed to assess inhibitory processing by<br>asking participants to withhold a response to an<br>infrequently occurring stimulus .",
          "Previous studies have observed activation in dorsolateral<br>prefrontal , inferior frontal , anterior cingulate , and<br>posterior parietal regions among adolescents using this task<br>( Anderson et al . 2005 ; Schweinsburg et al . 2004a ) and<br>similar inhibition paradigms ( Adleman et al . 2002 ; Luna<br>et al . 2001 ; Tamm et al . 2002 ) .",
          "Participants were 16 -to 18 -year -olds enrolled in an<br>ongoing study of adolescents recruited from local high<br>schools and colleges ( Medina et al . 2007a , b ; Nagel et<br>al . 2006 ; Schweinsburg et al . 2005a ) .",
          "Sixteen adolescents were marijuana users ( MJ ) with at<br>least 60 lifetime episodes of cannabis use and limited<br>histories of other drug use , and 17 adolescents were<br>demographically similar non -using controls ( see Table 1<br>for demographic characteristics ) with less than five<br>lifetime episodes of cannabis use .",
          "Written assent and consent were obtained from adolescents<br>and their parent/legal guardians in accordance with the<br>University of California San Diego Human Research<br>Protections Program .",
          "Eligibility was ascertained through separate , private<br>telephone screening interviews with the youth and the parent<br>.",
          "Exclusionary criteria included left handedness ; history of<br>head injury with loss of consciousness > 2 min , learning<br>disabilities , medical or neurological problem , DSM -IV (<br>APA 1994 ) Axis I psychiatric disorder ( i.e . , mood ,<br>anxiety , psychotic , attention , and conduct disorders ) as<br>assessed by the computerized NIMH Diagnostic Interview<br>Schedule for Children Predictive Scales ( DISC -PS -4.32b ;<br>Lucas et al . 2001 ; Shaffer et al . 2000 ) Youth and Parent<br>versions , and use of any psychotropic medication ;<br>significant maternal drinking ( more that two drinks on an<br>occasion or more than four drinks in a week ) or other drug<br>use during pregnancy ; family history of bipolar I or<br>psychotic disorders determined by the Family History<br>Assessment Module ( Rice et al . 1995 ) ; and MRI<br>contraindications . MJ youth disclosed using marijuana an<br>average of ∼ 500 times in their lives",
          "( see Table 1 ), and three control youth had experience with<br>marijuana ( less than five times ) .",
          "MJ youth used marijuana every other day on average , before<br>being asked to remain abstinent for the 28 days before<br>scanning .",
          "Most MJ youth were current users , as all but three used in<br>the month before monitored abstinence .",
          "Substance use assessment Substance involvement was<br>ascertained using the Customary Drinking and Drug Use Record<br>( Brown et al . 1998 ) , an interview that obtains<br>information on lifetime and past 3 -month use of marijuana ,<br>alcohol , nicotine , other illicit drugs , and misuse of<br>prescription and over -the -counter medications , and<br>negative consequences associated with substance use .",
          "Strong internal consistency , test -retest , and inter<br>-rater reliability have been demonstrated with adolescents (<br>Brown et al . 1998 ; Stewart and Brown 1995 ) .",
          "The Fagerstrom Test for Nicotine Dependence ( FTND ;<br>Heatherton et al . 1991 ) indicated that no participant was<br>dependent on nicotine .",
          "The Timeline Followback ( Sobell and Sobell 1992 ) collected<br>details on substance use patterns for the month before and<br>during the 28 -day abstinence period .",
          "Continuous indices of level of internalizing and<br>externalizing psychopathological syndromes were assessed by<br>the 113 -item Child Behavior Checklist ( CBCL ; Achenbach<br>and Rescorla 2001 ) , administered to parents ( typically<br>biological mothers ) covering youth behaviors in the past 6<br>months .",
          "Eight -factor T scores ( rulebreaking behavior , aggressive<br>behavior , withdrawn/depressed , anxious/depressed , somatic<br>complaints , attention problems , social problems , and<br>thought problems ) and summary T scores ( externalizing ,<br>internalizing ) are provided .",
          "Personality Disinhibition and substance use may relate to<br>personality traits .",
          "Thus , all participants completed the NEO Five -Factor<br>Inventory ( NEO -FFI ; Costa and Mc Crae 1992 ) , a 60 -item<br>self -report personality questionnaire that assesses five<br>domains of personality : neuroticism , extraversion ,<br>openness , agreeableness , and conscientiousness .",
          "This factor structure has been replicated in adolescent<br>samples ( Fruyt et al . 2000 ) .",
          "Go/no -go task Participants performed a go/no -go task<br>during f MRI scanning ( Anderson et al . 2005 ; Schweinsburg<br>et al . 2004b ) .",
          "The task alternated between active blocks and resting blocks<br>.",
          "During resting blocks , participants viewed a \"+\" in the<br>center of the screen .",
          "During active blocks , a large square , small square , large<br>circle , and small circle were presented one at a time for<br>200 ms every 1,500 ms . Participants were instructed to<br>press a button as fast as possible every time they saw a<br>shape ( go stimuli ) except for the small square ( no -go<br>stimulus ) , thus requiring response inhibition .",
          "The task lasted 6 min and 24 s .",
          "Participants additionally performed the entire task before<br>scanning to ensure adequate comprehension of instructions<br>and to resolve potential practice effects",
          "To confirm that participants did not use substances in the 4<br>weeks before scanning , all participants ( controls and<br>marijuana users ) provided at least nine urine toxicology<br>screens ( two to three times per week ) during these 28 days<br>.",
          "Urine toxicology procedures can reliably detect evidence of<br>marijuana use 4 to 25 days after last use ( Fraser et al .<br>2002 ; Huestis and Cone 1998 ) , sometimes longer ( Lafolie<br>et al . 1991 ) , depending on pattern of use , body lipid<br>content , and metabolic features .",
          "Each urine sample was evaluated for metabolites indicating<br>recent use of cannabis , amphetamines , methamphetamines ,<br>barbiturates , benzodiazepines , cocaine , codeine ,<br>morphine , phencyclidine , and ethanol using cloned enzyme<br>donor immunoassay ( CEDIA DAU , Microgenics , Fremont , CA ,<br>USA ) .",
          "Observed urine sample collection procedures reduced the<br>possibility of participant tampering .",
          "Tetrahydrocannabinol ( THC ) values were monitored over the<br>28 -day period to ensure that levels decreased .",
          "Initial samples testing positive for THC metabolites were<br>assumed to reflect residual use if values decreased with<br>each subsequent sample collected .",
          "If levels increased or a positive screen was obtained after<br>a negative screen , the participant was given the option to<br>restart the 28 -day screening process or be dropped from the<br>study .",
          "Breathalyzers ( Alco Sensor IV , Intoximeter , St . Louis ,<br>MO , USA ) were conducted at each visit .",
          "To confirm urine results , a hair sample collected on the<br>scan day was analyzed for THC and other drug metabolites<br>suggestive of past month use ( Psychemedics , Culver City ,<br>CA , USA ) .",
          "Seven users , not described in this paper , were unable to<br>complete the 28 -day abstinence protocol .",
          "In preparation for scanning , each participant lay on the<br>scanner bed .",
          "Foam pads were arranged around the head to minimize motion .",
          "A mirror above the participant 's eyes enabled viewing of a<br>screen at the foot of the scanner bed , on which the task<br>was rear -projected from a laptop .",
          "Behavioral responses during the task were collected through<br>a fiber -optic button box ( Lumi Touch , Vancouver , BC ,<br>Canada ) .",
          "Imaging data were acquired on a 1.5 Tesla Signa LX ( General<br>Electric , Madison , WI , USA ) system .",
          "A structural image was collected in the sagittal plane using<br>an inversion recovery prepared T1 -weighted 3D spiral fast<br>spin echo sequence ( repetition time 2,000 ms , echo time 16<br>ms , field of view 240 mm , 128 continuous slices ,<br>resolution 0.9375×0.9375 × 1.328 mm , acquisition time 8:36<br>; Wong et al . 2000 ) .",
          "Data were processed and analyzed using Analysis of<br>Functional Neuro Images ( AFNI ; http://www.afni.nimh.nih .<br>gov ; Cox 1996 ) .",
          "First , an automated motion correction algorithm was applied<br>to the time series datasets ( Cox and Jesmanowicz 1999 ) .",
          "Two raters examined the time series data and removed<br>repetitions containing residual visible head motions .",
          "If > 18 % of repetitions were removed , the participant was<br>not included ( n=3 not described in this paper ) .",
          "Groups did not differ in the number of repetitions removed (<br>p=0.87 ) or absolute mean rotational or translational<br>adjustments applied .",
          "Average rotational ( roll , pitch , and yaw ) and<br>translational ( superior , left , and posterior ) movement ,<br>respectively , was 0.04 , 0.11 , and 0.05°and 0.07 , 0.04 ,<br>and 0.04 mm for MJ users , and 0.06 , 0.12 , 0.06°and 0.10 ,<br>0.04 , and 0.06 mm for controls .",
          "No significant differences between groups were found for<br>task -correlated motion",
          "( rs for the correlation between the task reference function<br>and each motion parameter were − 0.08 , − 0.10 , − 0.02 , −<br>0.11 , − 0.07 , and − 0.07 for MJ users and − 0.04 , − 0.06<br>, − 0.04 , − 0.10 , − 0.08 , and − 0.06 for controls ) .Next<br>, time series datasets were deconvolved with a reference<br>function representing the timing of go , no -go , and rest<br>stimuli presentation over the course of the task ( Ward 2002<br>) while accounting for hemodynamic delays ( Bandettini et al<br>. 1993 ; Boynton et al . 1996 ) and covarying for motion<br>adjustments applied and linear trends .",
          "This yielded fit coefficients representing the BOLD response<br>for ( 1 ) inhibition ( no -go ) trials relative to baseline<br>and ( 2 ) go trials relative to baseline in each voxel of<br>the brain for each subject .",
          "Data were transformed to standard space ( Lancaster et al .<br>2000 ; Talairach and Tournoux 1988 ) , resampled into<br>isotropic 3.5 -mm voxels , and spatially smoothed with a<br>Gaussian filter ( 3.5 mm full width half maximum ) to<br>account for anatomic variability between subjects .",
          "We determined regions of significant BOLD response<br>differences between MJ and control adolescents using<br>independent samples t tests in each voxel of the brain ,<br>performed separately on the BOLD response contrast for no<br>-go and for go trials .",
          "To control for type I error , we used a combination of t<br>statistic magnitude and cluster volume thresholding ( Forman<br>et al . 1995 ; Ward 1997 ) by only interpreting clusters<br>comprised of at least 22 contiguously activated voxels at<br>a<.05 ( ≥ 943 μl in volume ) .",
          "Anatomic localization was confirmed using the Talairach<br>Daemon ( Lancaster et al . 2000 ; Ward 1997 ) and AFNI (<br>Ward 1997 ) .",
          "Normality of distribution was evaluated for key variables (<br>Tabachnick and Fidell 2007 ) .",
          "No outliers or non -normal distributions were found for BOLD<br>response contrast in clusters showing group differences .",
          "However , five variables ( marijuana hits per month ,<br>lifetime other drug use , cigarettes smoked per month , FTND<br>total , and BDI total ) were positively skewed and kurtotic<br>, so were inverse transformed [ i.e . , 1/ ( 1 + the skewed<br>variable ) ; Tabachnick and Fidell 2007 ] .",
          "Group comparison results were further examined in analyses<br>of covariance ( ANCOVAs ) that controlled for potential<br>confound variables that differed between groups .",
          "Follow -up regression analyses were conducted among the MJ<br>users ( n=16 ) to examine BOLD response contrast to no -go<br>trials , averaged across the cluster , in the regions that<br>continued to differentiate users from controls in the above<br>ANCOVAs .",
          "BOLD response contrast to no -go trials was the dependent<br>variable , and variables indexing marijuana use , other<br>substance use , and risk factors for substance involvement<br>were the predictors .",
          "Groups did not differ significantly on mood state measures",
          "( see Table 1 ), but MJ users showed a trend for higher BDI<br>scores ( p=0.08 ) .",
          "Groups were similar and in the normal range on all CBCL<br>factor T scores , except that the MJ group was higher on<br>Rule -Breaking Behavior ( 53.00±8.23 MJ , 45.21±5.19<br>controls , p<0.005 ) .",
          "On the NEO -FFI , MJ youth demonstrated greater scores on<br>Openness ( 44.25 ± 3.11 MJ , 41.18±4.88 controls , p<0.05 )<br>but were statistically equivalent on other personality<br>scores .",
          "MJ youth committed more errors than controls on several<br>cognitive tests : more sequencing errors across all DKEFS<br>Trails conditions ( p<0.01 ) , more intrusion errors on a<br>word list learning task ( p<0.05 ) , and more repetition<br>errors on DKEFS Verbal Fluency ( p<0.05 ) .Task performance<br>data were available for 15 MJ and 15 control adolescents .",
          "No group differences or group by condition interactions were<br>found .",
          "As expected , participants responded more accurately (<br>p<.001 ) to go trials ( 98.97 ± 1.88 % MJ , 98.70±1.62 %<br>controls ) than no -go trials ( 82.92 ± 9.57 % MJ ,<br>81.64±10.73 % controls ) .",
          "Groups were equivalent on reaction time to go trials (<br>588.11±40.44 MJ , 606.13 ± 74.35 controls , p=.38 ) .",
          "D ′ , a signal detection index that considers the<br>probability of correct and incorrect responses ( i.e . , the<br>ability to separate go stimuli from the no -go stimulus ) ,<br>was also similar between groups ( 3.30±0.49 MJ , 3.04±0.84<br>controls , p=0.54 ) .",
          "Exit interview data showed that groups were equivalent on<br>task effort , motivation , and perceived errors , but MJ<br>users indicated use of more perceptual strategies ( e.g . ,<br>\" look for the small square to show up \" ) , while controls<br>tended to endorse cognitive strategies ( \" remember to hold<br>off when I see that shape \" or \" concentrate\" ) .f MRI<br>response Whole brain analyses showed that during inhibitory<br>trials relative to baseline , control adolescents showed<br>significantly increased activation in superior medial<br>frontal cortex and the left parahippocampal gyrus , and<br>decreased activation in bilateral posterior parietal and<br>inferior frontal regions .",
          "MJ users also showed increased inhibition -related<br>activation in superior frontal areas , as well as in<br>additional regions compared to controls , including numerous<br>left and medial prefrontal clusters , left posterior<br>parietal cortex , and multiple bilateral cerebellar regions<br>.",
          "MJ users showed decreased BOLD response during no -go trials<br>relative to baseline in right posterior parietal , inferior<br>frontal , and middle temporal cortices .",
          "Between -group comparisons revealed several clusters in<br>which MJ users showed significantly more BOLD response<br>during inhibition trials than controls : right anterior<br>superior and middle frontal gyri ( BA 10 , 46 ) , right<br>superior middle frontal gyrus extending down to the anterior<br>insula ( BA 6 , 13 ) , left anterior middle and superior<br>frontal gyri ( BA 10 ) , medial prefrontal cortex ( BA 6 ) ,<br>right and left posterior parietal cortex ( BA 7 , 40 ) , and<br>right lingual gyrus",
          "( BA 18 ; see Table 2 and Fig . 1 ). There were no clusters<br>in which MJ users showed significantly less inhibitory brain<br>response than controls .",
          "For go trials relative to baseline , controls showed<br>significant BOLD response in the bilateral ventral<br>prefrontal cortex , bilateral medial posterior parietal<br>cortex and cuneus , anterior cingulate , precentral gyrus ,<br>right anterior insula , and medial cerebellum .",
          "MJ users had multiple clusters of significant response to go<br>trials relative to baseline , including increased activation<br>in substantial portions of bilateral ventral prefrontal<br>cortex , bilateral medial superior frontal cortex , right<br>posterior parietal cortex , bilateral temporal cortex ,<br>anterior cingulate , precentral gyrus , left insula , and<br>bilateral cerebellum .",
          "Between -group comparisons indicated that MJ users had<br>significantly more BOLD response during go trials relative<br>to baseline than did controls in the right inferior frontal<br>gyrus and anterior insula ( BA 44 , 13 ) , right superior<br>frontal gyrus ( BA 9 , 10 ) , right superior parietal lobule<br>( BA 7 ) , right inferior parietal lobule ( BA 40 ) , and<br>medial precuneus",
          "( BA 7 ; see Table 3 ). There were no clusters in which MJ<br>users had significantly less go response than controls .",
          "To determine whether the group differences reported above<br>were due to differences in other substance use or factors<br>that could predate marijuana use , secondary analyses using<br>ANCOVAs separately ( due to limited power ) controlled for<br>lifetime alcohol consumption , days since last drink ,<br>drinks per month , years of regular drinking , time since<br>last cigarette , past week cigarettes per smoking day ,<br>cigarettes per month , FTND total , number of lifetime other<br>drug use episodes , family history of substance use<br>disorders , family history of psychiatric disorders , each<br>NEO -FFI score , and BDI total .",
          "For all analyses , groups continued to differ on BOLD<br>response in all clusters ( p range , 0.001 to 0.0001 ) .To<br>determine whether differences between groups were due to<br>duration and intensity of exposure to THC or related to the<br>recency of marijuana use , we conducted a series of<br>exploratory regression analyses among MJ users ( n=16 ) .",
          "Duration of regular marijuana use was negatively related to<br>no -go brain response in the right anterior superior frontal<br>gyrus ( BA 10 ; β=−0.73 , p<0.001 ; plotted in Fig . 2 ) ,<br>right superior middle frontal gyrus ( BA 6 ; β=−0.58 ,<br>p<0.025 ) , and left anterior superior frontal gyrus ( BA 10<br>; β=−0.58 , p < 0.025 ) , suggesting that youth with longer<br>durations of marijuana involvement had less no -go brain<br>response .",
          "Similarly , early age of onset of regular marijuana use ( β<br>= 0.66 , p<0.01 ) and more lifetime marijuana use episodes (<br>β=−.62 , p<0.025 ) related to less inhibitory response in<br>the right anterior superior frontal gyrus ( BA 10 ) .",
          "Typical number of marijuana hits per month also was<br>negatively related to brain response in the right anterior<br>superior frontal gyrus ( BA 10 ; β=−0.73 , p<.005 ) , right<br>superior middle frontal gyrus ( BA 6 ; β=−0.71 , p<0.005 ) ,<br>left anterior superior frontal gyrus ( BA 10 ; β=−0.68 ,<br>p<0.01 ) , and left posterior parietal cortex ( BA 40 ;<br>β=−0.62 , p < 0.025 ) .",
          "Days since last marijuana use ( range , 28 to 240 ) , age ,<br>and neuropsychological test performance were not associated<br>with brain response in any region demonstrating a group<br>difference .",
          "Number of lifetime other drug use episodes ( primarily pain<br>medications ) was positively associated with BOLD response<br>contrast to no -go trials in the right anterior superior<br>frontal gyrus ( BA 10 ; β=0.57 , p < 0.025 ) and right<br>middle frontal gyrus ( BA 6 , β=0.56 , p < 0.025 ) .",
          "In this study , marijuana -using adolescents showed<br>increased BOLD response during both inhibitory and non<br>-inhibitory trials of a go/no -go task , even after a 28<br>-day washout period of abstinence from cannabis , as<br>compared to control adolescents with limited substance use<br>histories .",
          "Differences were prominent in dorsolateral prefrontal and<br>parietal areas .",
          "Our findings with adolescent marijuana users extend those of<br>others ( Gruber and Yurgelun -Todd 2005 ) , who Fig . 1<br>Inhibition trial differences in BOLD response contrast<br>between marijuana -using ( n=16 ) and non -using ( n=17 )<br>adolescents after 28 days of monitored abstinence .",
          "Blue areas show where users had more significantly BOLD<br>response during inhibition ( no -go ) trials relative to<br>baseline than non -users ( p<0.05 , clusters > 943 μl ) ; no<br>clusters in which users showed significantly less activation<br>than controls were found ( see Table 2 ) showed that adult<br>marijuana users exhibited increased prefrontal response<br>during inhibition tasks .",
          "The present results thus suggest that the effects of<br>cannabis use on brain function in adolescents may persist<br>after a period of abstinence .",
          "A pattern of increased activation yet comparable performance<br>is consistent with functional compensation and<br>dedifferentiation ( Rajah and D 'Esposito 2005 ) , which<br>supposes that loci of functional activity are spread to more<br>and larger regions .",
          "Therefore , adolescent marijuana users appear to recruit<br>more neural tissue in executive control areas to adequately<br>perform the task , which is consistent with other studies<br>showing increased dorsolateral prefrontal activation in MJ<br>users during inhibition ( Gruber and Yurgelun -Todd 2005 )<br>and other ( Schweinsburg et al . 2005b ) cognitive tasks .",
          "Repeated cannabinoid use may alter neuromaturation in<br>regions with high CB1 densities , such as prefrontal cortex<br>( Eggan and Lewis 2007 ) .",
          "Synaptic pruning and gray matter sculpting occurs late in<br>some of the regions showing increased BOLD signal among<br>users , such as bilateral dorsolateral prefrontal cortex ,<br>where cortical thickness peaks at age 11.5 on average (<br>Gogtay et al . 2004 ; Sowell et al . 2003 ) .",
          "If prefrontal synaptic pruning is slowed by adolescent<br>marijuana use , greater activation may reflect excess neural<br>firing caused by a larger number of synaptic links .",
          "In their study of heavy marijuana -using adults , Gruber and<br>Yurgelun -Todd ( 2005 ) reported that heavy users had<br>increased prefrontal response to an inhibition task , as<br>seen in this study of adolescents , but also showed reduced<br>anterior cingulate response , which we did not observe in<br>this study .",
          "One possible explanation for this difference is the duration<br>of marijuana use in our cohort .",
          "It may take a longer period of use to evidence such changes<br>in cingulate responding .",
          "The increased parietal activation among marijuana -using<br>adolescents is consistent with findings from Jacobsen et al<br>. ( 2007 ) of heightened parietal response in marijuana<br>-involved youth during a verbal working memory task while<br>undergoing nicotine withdrawal , although here , nicotine<br>use rates were relatively low .",
          "As right dorsolateral prefrontal and parietal regions have<br>been implicated in sustained attention ( Drummond et al .<br>2005 ) , perhaps , users had a greater cognitive load<br>associated with attending to the stimuli in general and in<br>identifying the no -go stimulus in particular .",
          "Both go and no -go trials require sustained attention , and<br>overlap was observed for the right prefrontal/insular and<br>parietal regions where users showed greater BOLD response<br>than controls for both conditions .",
          "Adolescents with later onsets ( age , 16-18 ) and briefer<br>durations ( 1-2 years ) of regular marijuana use showed the<br>greatest divergence from normal controls in BOLD response to<br>the inhibition trials .",
          "Similarly , Chang et al . ( 2006 ) reported that adults who<br>started marijuana use in late adolescence had more frontal<br>activation during a visual attention task than adults who<br>started in early adolescence .",
          "Although our data do not address the molecular mechanism of<br>this difference , we can speculate about the nature of this<br>finding .",
          "For example , increased prefrontal activation during an<br>inhibitory task in adolescent users with a more recent onset<br>may reflect a stage of neural and behavioral compensation .",
          "This compensatory response may occur within the first few<br>years of regular adolescent marijuana use and may later be<br>followed by neuroadaptation or other processes , possibly<br>related to downregulation of cannabinoid ( CB1 ) receptors .",
          "Therefore , an inverted U -shaped response pattern may<br>emerge over time , which eventually results in brain<br>activation patterns that are indistinguishable from non<br>-users ( suggested in Fig . 2 ) . BOLD response is<br>influenced by cerebral blood flow , often abnormal in<br>marijuana users acutely and subacutely .",
          "Up to 36 h since last use , THC intake is associated with<br>increased cerebral blood flow ( Mathew et al . 2002 ) and<br>volume ( Sneider et al . 2006 ) in frontal , insular ,<br>anterior cingulate , cerebellum , temporal , and paralimbic<br>regions ; reductions in auditory and visual cortex ,<br>parietal lobe , and thalamus ; and no change in nucleus<br>accumbens , basal ganglia , or the hippocampus ( O 'Leary et<br>al . 2002 ) .",
          "Although increases in blood flow velocity and<br>cerebrovascular resistance dissipate from 3 to 28 days of<br>abstinence in adults with marijuana use levels consistent<br>with this sample ( i.e . , 15.9 days per month ) , very<br>heavy users remained abnormally elevated ( Herning et al .<br>2005 ) .",
          "Thus , increased BOLD response in adolescent marijuana users<br>could reflect residual cerebrovasculature abnormalities ,<br>although increased blood flow or volume would likely yield<br>lower BOLD response ( Brown et al . 2003 ) , not greater ,<br>as seen here .",
          "This study had several limitations .",
          "While groups were equivalent on many demographic variables ,<br>intelligence , Fig . 2 Marijuana using adolescents ( n=16 )<br>show more BOLD response ( y -axis displays fit coefficients<br>) during inhibition trials relative to baseline than control<br>adolescents ( n=17 ) in right dorsolateral prefrontal cortex<br>, largely accounted for by users with 1 to 3 years of<br>regular ( weekly ) marijuana use and task performance ,<br>marijuana users had greater alcohol and other substance<br>histories and a trend for more depressed symptomatology .",
          "Although activation patterns remained after controlling for<br>these factors , substance and affective differences pose the<br>possibility of synergistic effects , and we have previously<br>found adolescent heavy drinking to be related to abnormal<br>activation patterns on a spatial working memory task",
          "( Caldwell et al . 2005 ;",
          "Schweinsburg et al .",
          "2005b ;",
          "Tapert et al . 2001 Tapert et al . , 2004 .",
          "Reduced educational engagement or altered sleep quality<br>related to marijuana use might account for the differences .",
          "Critically , the current data cannot ascertain if marijuana<br>use during adolescence produces the observed differences or<br>if abnormalities existed before the onset of regular use .",
          "Groups did not differ on proportion with a family history of<br>substance use disorder , and youths with psychiatric<br>diagnosis ( e.g . , conduct disorder , attention<br>-deficit/hyperactivity disorder ) were excluded from the<br>study .",
          "Groups were similar with regard to most personality and<br>psychopathological syndrome dimensions but did differ on<br>openness to new experiences and parent report of delinquent<br>behaviors , which also may predate or result from adolescent<br>marijuana use , but did not account for group differences in<br>brain response .",
          "On the other hand , the adolescents who diverged most from<br>normal controls may simply differ on unmeasured risk factors<br>related to the initiation and escalation of substance use .",
          "Altered inhibitory processing may make adolescents<br>vulnerable to substance use initiation and escalation .",
          "The indication of extra neural effort required to inhibit<br>responses has important implications for adolescent<br>development and future substance involvement .",
          "Demands for inhibitory control increases substantially over<br>the course of late adolescence , particularly in school and<br>work environments as well as social and intimate<br>relationships .",
          "Consequently , youth required to exert extra neurocognitive<br>effort may be disadvantaged or become less successful in<br>maneuvering the normal transitions of adolescence and young<br>adulthood .",
          "Additionally , it may be harder for these youth to inhibit<br>the use of substances , particularly in situations where<br>cognitive demands are strained due to conflicting goals ,<br>distractions , peers , substance -relevant cues , or low<br>mood states ."
         ],
         "type": "bar",
         "x": [
          0,
          1,
          2,
          3,
          4,
          5,
          6,
          7,
          8,
          9,
          10,
          11,
          12,
          13,
          14,
          15,
          16,
          17,
          18,
          19,
          20,
          21,
          22,
          23,
          24,
          25,
          26,
          27,
          28,
          29,
          30,
          31,
          32,
          33,
          34,
          35,
          36,
          37,
          38,
          39,
          40,
          41,
          42,
          43,
          44,
          45,
          46,
          47,
          48,
          49,
          50,
          51,
          52,
          53,
          54,
          55,
          56,
          57,
          58,
          59,
          60,
          61,
          62,
          63,
          64,
          65,
          66,
          67,
          68,
          69,
          70,
          71,
          72,
          73,
          74,
          75,
          76,
          77,
          78,
          79,
          80,
          81,
          82,
          83,
          84,
          85,
          86,
          87,
          88,
          89,
          90,
          91,
          92,
          93,
          94,
          95,
          96,
          97,
          98,
          99,
          100,
          101,
          102,
          103,
          104,
          105,
          106,
          107,
          108,
          109,
          110,
          111,
          112,
          113,
          114,
          115,
          116,
          117,
          118,
          119,
          120,
          121,
          122,
          123,
          124,
          125,
          126,
          127,
          128,
          129,
          130,
          131,
          132,
          133,
          134,
          135,
          136,
          137,
          138,
          139,
          140,
          141,
          142,
          143,
          144,
          145,
          146,
          147,
          148,
          149,
          150,
          151,
          152,
          153,
          154,
          155
         ],
         "y": [
          1.5068979572819175e-05,
          4.238020423657442e-06,
          0.0002490036061579851,
          0.018215781873066838,
          3.4772573492116717e-06,
          0.008995996434662567,
          3.107325710833046e-06,
          0.008572242617771704,
          0.0001272345376802613,
          1.3851878947040036e-06,
          0.00015892181366464902,
          0.0011772036015669412,
          0.005253649219260044,
          0.0019696233822915957,
          0.012941562157379311,
          0.001514063992614503,
          0.003613556088173205,
          0.01069501647130238,
          0.025004242717954022,
          0.001403887916497407,
          0.0004355763946150308,
          0.0006927735663157962,
          0.0015067262658812965,
          0.001199685825185538,
          2.566578361526186e-07,
          0.004202666249092135,
          0.00631034946611473,
          0.00199272077233656,
          0.005283960595646025,
          0.0008127587339755315,
          0.006132307564563663,
          1.8214635296312026e-06,
          0.0005402556385495426,
          1.3333397156695287e-06,
          1.3073644305716885e-07,
          7.131150330623839e-06,
          0,
          2.6537613756717016e-05,
          0.0005314191916338363,
          1.23757045420911e-06,
          9.854329075451173e-06,
          1.6358896504888543e-06,
          1.0239683583435773e-07,
          5.920495288120525e-06,
          0,
          2.4576807057874106e-05,
          1.7198697622582737e-06,
          5.051714401179129e-05,
          0.00021765843255587902,
          0.0005410531094069874,
          3.3514719930988076e-06,
          3.770178788071615e-05,
          0.0008610505402349044,
          0.002154462369349886,
          0.0010520698211657802,
          5.392841221948642e-07,
          0.0005353675098723989,
          1.0316924608239456e-06,
          0.00033508651011786164,
          1.869982943258984e-07,
          0.0005161309919092982,
          0,
          9.966815320107932e-07,
          0.0005568832472828508,
          1.339960837077077e-06,
          1.1488377393518572e-06,
          0.0003074603508121179,
          0.00025426988365578017,
          0,
          1.0493122757582588e-06,
          2.401955913000518e-07,
          7.242995156119331e-07,
          1.2263662191755597e-07,
          8.10178438865592e-06,
          8.528921900732058e-05,
          0.0006340869395439156,
          0.00019457847987443958,
          0.0009037862494426978,
          0.0003658856089757299,
          1.3125580666244475e-07,
          0.0006824756639076417,
          3.460600752064264e-05,
          1.5357226673533924e-07,
          3.503970163727669e-07,
          4.34078357664525e-06,
          6.367808035125621e-08,
          2.96546124736016e-06,
          0.001987123837961509,
          4.822036606944584e-07,
          0,
          0.00014982791527062272,
          0.0007213964336470273,
          0.00048529392952240856,
          0.0006413947047600894,
          1.2000090289554645e-05,
          0.0009548880388443075,
          0.0007487860955926939,
          0.000742099107223964,
          0.00686795752037472,
          0.007267968231392508,
          0.00021626302243297145,
          0.0007048632681931673,
          0.0013664969919778979,
          0.0005703978723431582,
          0.0034947115854362058,
          0.0009642949527530518,
          0.0009678182945911192,
          3.293065560478145e-05,
          0.00026026425466392554,
          0.0002397813644997109,
          2.439455492835638e-06,
          0.0003495126535631615,
          0.00036182555752924296,
          4.263057947660067e-05,
          0.0006463858914239197,
          6.142647585799106e-07,
          0.00016045097716081675,
          0.0066135436955166585,
          0.00044914423587221717,
          0.006250358558520001,
          0.014788163934732115,
          0.0007944744922869628,
          0.0013172454958596165,
          0.01249683919739437,
          0.0012017457788735212,
          7.587696589014135e-06,
          9.249578578142992e-05,
          0.003797567869525189,
          0.0011268915703930656,
          0.0019321271640847081,
          0.0007983558062719983,
          0.0039233007560943904,
          3.800380715792524e-06,
          0.016879836099668883,
          4.223773671463172e-05,
          0.004153436404140646,
          0.0005425683212218153,
          0.0005175249210423198,
          0.0005189096591643056,
          3.435695991458802e-06,
          0.0005700973127864754,
          0.003705160695396343,
          0,
          0,
          null,
          0.10757109739378445,
          0.0025945639449778796,
          5.281631184534894e-06,
          4.221602382270485e-07,
          0.00021676641064012064,
          0.0008519588371469483,
          0.0024122165091584307,
          0.008235894100256337,
          5.005981892029189e-06,
          0.0004155128344366257,
          2.7042143071385413e-05
         ]
        }
       ],
       "layout": {
        "hoverlabel": {
         "bgcolor": "white",
         "font": {
          "family": "Rockwell",
          "size": 13
         }
        },
        "template": {
         "data": {
          "bar": [
           {
            "error_x": {
             "color": "#2a3f5f"
            },
            "error_y": {
             "color": "#2a3f5f"
            },
            "marker": {
             "line": {
              "color": "#E5ECF6",
              "width": 0.5
             }
            },
            "type": "bar"
           }
          ],
          "barpolar": [
           {
            "marker": {
             "line": {
              "color": "#E5ECF6",
              "width": 0.5
             }
            },
            "type": "barpolar"
           }
          ],
          "carpet": [
           {
            "aaxis": {
             "endlinecolor": "#2a3f5f",
             "gridcolor": "white",
             "linecolor": "white",
             "minorgridcolor": "white",
             "startlinecolor": "#2a3f5f"
            },
            "baxis": {
             "endlinecolor": "#2a3f5f",
             "gridcolor": "white",
             "linecolor": "white",
             "minorgridcolor": "white",
             "startlinecolor": "#2a3f5f"
            },
            "type": "carpet"
           }
          ],
          "choropleth": [
           {
            "colorbar": {
             "outlinewidth": 0,
             "ticks": ""
            },
            "type": "choropleth"
           }
          ],
          "contour": [
           {
            "colorbar": {
             "outlinewidth": 0,
             "ticks": ""
            },
            "colorscale": [
             [
              0,
              "#0d0887"
             ],
             [
              0.1111111111111111,
              "#46039f"
             ],
             [
              0.2222222222222222,
              "#7201a8"
             ],
             [
              0.3333333333333333,
              "#9c179e"
             ],
             [
              0.4444444444444444,
              "#bd3786"
             ],
             [
              0.5555555555555556,
              "#d8576b"
             ],
             [
              0.6666666666666666,
              "#ed7953"
             ],
             [
              0.7777777777777778,
              "#fb9f3a"
             ],
             [
              0.8888888888888888,
              "#fdca26"
             ],
             [
              1,
              "#f0f921"
             ]
            ],
            "type": "contour"
           }
          ],
          "contourcarpet": [
           {
            "colorbar": {
             "outlinewidth": 0,
             "ticks": ""
            },
            "type": "contourcarpet"
           }
          ],
          "heatmap": [
           {
            "colorbar": {
             "outlinewidth": 0,
             "ticks": ""
            },
            "colorscale": [
             [
              0,
              "#0d0887"
             ],
             [
              0.1111111111111111,
              "#46039f"
             ],
             [
              0.2222222222222222,
              "#7201a8"
             ],
             [
              0.3333333333333333,
              "#9c179e"
             ],
             [
              0.4444444444444444,
              "#bd3786"
             ],
             [
              0.5555555555555556,
              "#d8576b"
             ],
             [
              0.6666666666666666,
              "#ed7953"
             ],
             [
              0.7777777777777778,
              "#fb9f3a"
             ],
             [
              0.8888888888888888,
              "#fdca26"
             ],
             [
              1,
              "#f0f921"
             ]
            ],
            "type": "heatmap"
           }
          ],
          "heatmapgl": [
           {
            "colorbar": {
             "outlinewidth": 0,
             "ticks": ""
            },
            "colorscale": [
             [
              0,
              "#0d0887"
             ],
             [
              0.1111111111111111,
              "#46039f"
             ],
             [
              0.2222222222222222,
              "#7201a8"
             ],
             [
              0.3333333333333333,
              "#9c179e"
             ],
             [
              0.4444444444444444,
              "#bd3786"
             ],
             [
              0.5555555555555556,
              "#d8576b"
             ],
             [
              0.6666666666666666,
              "#ed7953"
             ],
             [
              0.7777777777777778,
              "#fb9f3a"
             ],
             [
              0.8888888888888888,
              "#fdca26"
             ],
             [
              1,
              "#f0f921"
             ]
            ],
            "type": "heatmapgl"
           }
          ],
          "histogram": [
           {
            "marker": {
             "colorbar": {
              "outlinewidth": 0,
              "ticks": ""
             }
            },
            "type": "histogram"
           }
          ],
          "histogram2d": [
           {
            "colorbar": {
             "outlinewidth": 0,
             "ticks": ""
            },
            "colorscale": [
             [
              0,
              "#0d0887"
             ],
             [
              0.1111111111111111,
              "#46039f"
             ],
             [
              0.2222222222222222,
              "#7201a8"
             ],
             [
              0.3333333333333333,
              "#9c179e"
             ],
             [
              0.4444444444444444,
              "#bd3786"
             ],
             [
              0.5555555555555556,
              "#d8576b"
             ],
             [
              0.6666666666666666,
              "#ed7953"
             ],
             [
              0.7777777777777778,
              "#fb9f3a"
             ],
             [
              0.8888888888888888,
              "#fdca26"
             ],
             [
              1,
              "#f0f921"
             ]
            ],
            "type": "histogram2d"
           }
          ],
          "histogram2dcontour": [
           {
            "colorbar": {
             "outlinewidth": 0,
             "ticks": ""
            },
            "colorscale": [
             [
              0,
              "#0d0887"
             ],
             [
              0.1111111111111111,
              "#46039f"
             ],
             [
              0.2222222222222222,
              "#7201a8"
             ],
             [
              0.3333333333333333,
              "#9c179e"
             ],
             [
              0.4444444444444444,
              "#bd3786"
             ],
             [
              0.5555555555555556,
              "#d8576b"
             ],
             [
              0.6666666666666666,
              "#ed7953"
             ],
             [
              0.7777777777777778,
              "#fb9f3a"
             ],
             [
              0.8888888888888888,
              "#fdca26"
             ],
             [
              1,
              "#f0f921"
             ]
            ],
            "type": "histogram2dcontour"
           }
          ],
          "mesh3d": [
           {
            "colorbar": {
             "outlinewidth": 0,
             "ticks": ""
            },
            "type": "mesh3d"
           }
          ],
          "parcoords": [
           {
            "line": {
             "colorbar": {
              "outlinewidth": 0,
              "ticks": ""
             }
            },
            "type": "parcoords"
           }
          ],
          "pie": [
           {
            "automargin": true,
            "type": "pie"
           }
          ],
          "scatter": [
           {
            "marker": {
             "colorbar": {
              "outlinewidth": 0,
              "ticks": ""
             }
            },
            "type": "scatter"
           }
          ],
          "scatter3d": [
           {
            "line": {
             "colorbar": {
              "outlinewidth": 0,
              "ticks": ""
             }
            },
            "marker": {
             "colorbar": {
              "outlinewidth": 0,
              "ticks": ""
             }
            },
            "type": "scatter3d"
           }
          ],
          "scattercarpet": [
           {
            "marker": {
             "colorbar": {
              "outlinewidth": 0,
              "ticks": ""
             }
            },
            "type": "scattercarpet"
           }
          ],
          "scattergeo": [
           {
            "marker": {
             "colorbar": {
              "outlinewidth": 0,
              "ticks": ""
             }
            },
            "type": "scattergeo"
           }
          ],
          "scattergl": [
           {
            "marker": {
             "colorbar": {
              "outlinewidth": 0,
              "ticks": ""
             }
            },
            "type": "scattergl"
           }
          ],
          "scattermapbox": [
           {
            "marker": {
             "colorbar": {
              "outlinewidth": 0,
              "ticks": ""
             }
            },
            "type": "scattermapbox"
           }
          ],
          "scatterpolar": [
           {
            "marker": {
             "colorbar": {
              "outlinewidth": 0,
              "ticks": ""
             }
            },
            "type": "scatterpolar"
           }
          ],
          "scatterpolargl": [
           {
            "marker": {
             "colorbar": {
              "outlinewidth": 0,
              "ticks": ""
             }
            },
            "type": "scatterpolargl"
           }
          ],
          "scatterternary": [
           {
            "marker": {
             "colorbar": {
              "outlinewidth": 0,
              "ticks": ""
             }
            },
            "type": "scatterternary"
           }
          ],
          "surface": [
           {
            "colorbar": {
             "outlinewidth": 0,
             "ticks": ""
            },
            "colorscale": [
             [
              0,
              "#0d0887"
             ],
             [
              0.1111111111111111,
              "#46039f"
             ],
             [
              0.2222222222222222,
              "#7201a8"
             ],
             [
              0.3333333333333333,
              "#9c179e"
             ],
             [
              0.4444444444444444,
              "#bd3786"
             ],
             [
              0.5555555555555556,
              "#d8576b"
             ],
             [
              0.6666666666666666,
              "#ed7953"
             ],
             [
              0.7777777777777778,
              "#fb9f3a"
             ],
             [
              0.8888888888888888,
              "#fdca26"
             ],
             [
              1,
              "#f0f921"
             ]
            ],
            "type": "surface"
           }
          ],
          "table": [
           {
            "cells": {
             "fill": {
              "color": "#EBF0F8"
             },
             "line": {
              "color": "white"
             }
            },
            "header": {
             "fill": {
              "color": "#C8D4E3"
             },
             "line": {
              "color": "white"
             }
            },
            "type": "table"
           }
          ]
         },
         "layout": {
          "annotationdefaults": {
           "arrowcolor": "#2a3f5f",
           "arrowhead": 0,
           "arrowwidth": 1
          },
          "coloraxis": {
           "colorbar": {
            "outlinewidth": 0,
            "ticks": ""
           }
          },
          "colorscale": {
           "diverging": [
            [
             0,
             "#8e0152"
            ],
            [
             0.1,
             "#c51b7d"
            ],
            [
             0.2,
             "#de77ae"
            ],
            [
             0.3,
             "#f1b6da"
            ],
            [
             0.4,
             "#fde0ef"
            ],
            [
             0.5,
             "#f7f7f7"
            ],
            [
             0.6,
             "#e6f5d0"
            ],
            [
             0.7,
             "#b8e186"
            ],
            [
             0.8,
             "#7fbc41"
            ],
            [
             0.9,
             "#4d9221"
            ],
            [
             1,
             "#276419"
            ]
           ],
           "sequential": [
            [
             0,
             "#0d0887"
            ],
            [
             0.1111111111111111,
             "#46039f"
            ],
            [
             0.2222222222222222,
             "#7201a8"
            ],
            [
             0.3333333333333333,
             "#9c179e"
            ],
            [
             0.4444444444444444,
             "#bd3786"
            ],
            [
             0.5555555555555556,
             "#d8576b"
            ],
            [
             0.6666666666666666,
             "#ed7953"
            ],
            [
             0.7777777777777778,
             "#fb9f3a"
            ],
            [
             0.8888888888888888,
             "#fdca26"
            ],
            [
             1,
             "#f0f921"
            ]
           ],
           "sequentialminus": [
            [
             0,
             "#0d0887"
            ],
            [
             0.1111111111111111,
             "#46039f"
            ],
            [
             0.2222222222222222,
             "#7201a8"
            ],
            [
             0.3333333333333333,
             "#9c179e"
            ],
            [
             0.4444444444444444,
             "#bd3786"
            ],
            [
             0.5555555555555556,
             "#d8576b"
            ],
            [
             0.6666666666666666,
             "#ed7953"
            ],
            [
             0.7777777777777778,
             "#fb9f3a"
            ],
            [
             0.8888888888888888,
             "#fdca26"
            ],
            [
             1,
             "#f0f921"
            ]
           ]
          },
          "colorway": [
           "#636efa",
           "#EF553B",
           "#00cc96",
           "#ab63fa",
           "#FFA15A",
           "#19d3f3",
           "#FF6692",
           "#B6E880",
           "#FF97FF",
           "#FECB52"
          ],
          "font": {
           "color": "#2a3f5f"
          },
          "geo": {
           "bgcolor": "white",
           "lakecolor": "white",
           "landcolor": "#E5ECF6",
           "showlakes": true,
           "showland": true,
           "subunitcolor": "white"
          },
          "hoverlabel": {
           "align": "left"
          },
          "hovermode": "closest",
          "mapbox": {
           "style": "light"
          },
          "paper_bgcolor": "white",
          "plot_bgcolor": "#E5ECF6",
          "polar": {
           "angularaxis": {
            "gridcolor": "white",
            "linecolor": "white",
            "ticks": ""
           },
           "bgcolor": "#E5ECF6",
           "radialaxis": {
            "gridcolor": "white",
            "linecolor": "white",
            "ticks": ""
           }
          },
          "scene": {
           "xaxis": {
            "backgroundcolor": "#E5ECF6",
            "gridcolor": "white",
            "gridwidth": 2,
            "linecolor": "white",
            "showbackground": true,
            "ticks": "",
            "zerolinecolor": "white"
           },
           "yaxis": {
            "backgroundcolor": "#E5ECF6",
            "gridcolor": "white",
            "gridwidth": 2,
            "linecolor": "white",
            "showbackground": true,
            "ticks": "",
            "zerolinecolor": "white"
           },
           "zaxis": {
            "backgroundcolor": "#E5ECF6",
            "gridcolor": "white",
            "gridwidth": 2,
            "linecolor": "white",
            "showbackground": true,
            "ticks": "",
            "zerolinecolor": "white"
           }
          },
          "shapedefaults": {
           "line": {
            "color": "#2a3f5f"
           }
          },
          "ternary": {
           "aaxis": {
            "gridcolor": "white",
            "linecolor": "white",
            "ticks": ""
           },
           "baxis": {
            "gridcolor": "white",
            "linecolor": "white",
            "ticks": ""
           },
           "bgcolor": "#E5ECF6",
           "caxis": {
            "gridcolor": "white",
            "linecolor": "white",
            "ticks": ""
           }
          },
          "title": {
           "x": 0.05
          },
          "xaxis": {
           "automargin": true,
           "gridcolor": "white",
           "linecolor": "white",
           "ticks": "",
           "title": {
            "standoff": 15
           },
           "zerolinecolor": "white",
           "zerolinewidth": 2
          },
          "yaxis": {
           "automargin": true,
           "gridcolor": "white",
           "linecolor": "white",
           "ticks": "",
           "title": {
            "standoff": 15
           },
           "zerolinecolor": "white",
           "zerolinewidth": 2
          }
         }
        }
       }
      },
      "text/html": [
       "<div>\n",
       "        \n",
       "        \n",
       "            <div id=\"cc7cd2a7-220b-4543-b039-2c479a4cbe40\" class=\"plotly-graph-div\" style=\"height:525px; width:100%;\"></div>\n",
       "            <script type=\"text/javascript\">\n",
       "                require([\"plotly\"], function(Plotly) {\n",
       "                    window.PLOTLYENV=window.PLOTLYENV || {};\n",
       "                    \n",
       "                if (document.getElementById(\"cc7cd2a7-220b-4543-b039-2c479a4cbe40\")) {\n",
       "                    Plotly.newPlot(\n",
       "                        'cc7cd2a7-220b-4543-b039-2c479a4cbe40',\n",
       "                        [{\"hovertext\": [\"Many individuals first experiment with alcohol and drugs<br>during adolescence ( SAMHSA 2003 ) , and marijuana is the<br>most commonly used illicit substance among teenagers (<br>Johnston et al . 2005 ) .\", \"Nearly half of 12th graders have tried marijuana , and 6 %<br>disclose daily use ( Johnston et al . 2005 ) .\", \"Adolescence is also a period of continued neurodevelopment ,<br>including frontal lobe myelination and synaptic pruning that<br>subserve improved executive functioning ( Gogtay et al .<br>2004 ; Sowell et al . 2002 ) , including abilities such as<br>decision making , inhibitory processing , and impulse<br>control .\", \"The influence of marijuana use on these maturational<br>processes is unknown , although executive dysfunction may<br>affect the development and maintenance of substance use and<br>problems during adolescence ( Tapert et al . 2002a ) .\", \"Adults with heavy marijuana use histories have demonstrated<br>abnormalities in executive functioning ( Fletcher et al .<br>1996 ; Pope and Yurgelun Todd 1996 ; Solowij et al . 2002 )<br>and indices of frontal lobe operation ( Block et al . 2000 ;<br>Kanayama et al . 2004 ; Lundqvist et al . 2001 ; Solowij et<br>al . 1991 Solowij et al . , 1995 Struve et al . 1998 ) .\", \"To determine if cognitive deficits in marijuana users are<br>transient or persistent , Pope et al . ( 2001 ) tested 63<br>current marijuana users ( > 5,000 lifetime uses ) , 45<br>former users ( > 5,000 lifetime uses ) , and 72 normal<br>controls ( 1-50 lifetime uses ) , all ages 30-55 .\", \"Participants were abstinent for 28 days , verified by urine<br>drug screens and given neuropsychological tests on days 0 ,<br>1 , 7 , and 28 of abstinence .\", \"Current users showed some deficits relative to controls on<br>days 0 , 1 , and 7 , but groups did not differ on any test<br>by day 28 .\", \"In contrast , a study ( Bolla et al . 2002 ) that<br>hospitalized 22 marijuana -using adults ( > 2 years of<br>marijuana use ) for 28 days to assure abstinence found<br>greater marijuana intake linked to poorer performance on<br>tests of inhibition , problem solving , learning , and<br>reaction time .\", \"Disinhibition , i.e . , the impaired ability to inhibit a<br>potentially inappropriate response , is a common feature of<br>substance misuse ( Chen et al . 2007 ; Kamarajan et al .<br>2006 ; Kirisci et al . 2006 ; Verdejo -Garcia et al . 2006 )<br>.\", \"Neuroimaging studies have reported both prefrontal and<br>posterior parietal cortical involvement during inhibitory<br>processing in healthy volunteers ( Liu et al . 2004 ) ,<br>which may be overactive in populations with impulse control<br>problems ( Schulz et al . 2004 ) .\", \"Few studies have examined inhibitory processing in marijuana<br>users .\", \"Functional magnetic resonance imaging ( f MRI )<br>characterized the neural correlates of inhibition during a<br>Stroop task , in which heavy marijuana -using adults and non<br>-users were asked to inhibit the automatic process of<br>reading words and , instead , name the colors of words<br>printed in incongruent ink ( Gruber and Yurgelun Todd 2005 )<br>.\", \"Marijuana users not only showed greater midcingulate and<br>reduced anterior cingulate blood oxygen level dependent (<br>BOLD ) response but also more widespread bilateral<br>dorsolateral prefrontal activation during inhibition<br>relative to color naming trials .\", \"The investigators speculated that the altered activation<br>pattern in marijuana users reflects compensation and use of<br>alternate strategies .\", \"The same investigators had shown in a previous f MRI study<br>using a working memory task before and after a 28 -day<br>abstinence period ( Yurgelun -Todd et al . 1998 ) that adult<br>users demonstrated less prefrontal and more anterior<br>cingulate response than controls after just 24 h of non -use<br>.\", \"Although users showed some normalization of prefrontal<br>functioning after 28 days of abstinence , they still showed<br>anterior cingulate dysfunction , which is supportive of<br>persisting neural processing abnormalities .\", \"These results support the hypothesis that adult marijuana<br>users show abnormal neural inhibitory processing ,<br>compensatory hyper -activity , and altered neural processing<br>differences in the absence of the intoxicating agent .\", \"Few studies have examined neurocognitive effects of<br>marijuana use among adolescents , but some reports<br>identified decrements in attention ( Tapert et al . 2002b )<br>, and learning and memory ( Millsaps et al . 1994 ; Schwartz<br>et al . 1989 ) associated with early marijuana use .\", \"We previously demonstrated increased dorsolateral prefrontal<br>and decreased inferior frontal f MRI response during a<br>spatial working memory task among teens with comorbid<br>alcohol and marijuana use disorders compared to those with<br>alcohol use disorders alone and to non -using controls ,<br>suggesting a marijuana use -related increase in dorsolateral<br>prefrontal effort ( Schweinsburg et al . 2005b ) .\", \"However , most studies of adolescent marijuana users were<br>conducted after several days of abstinence , so effects<br>could be transitory .\", \"Jacobsen et al . ( 2004 ) addressed this concern by<br>evaluating seven adolescent marijuana users , seven<br>demographically similar tobacco smokers , and seven non<br>-users with a working memory task during f MRI acquisition<br>after about a month of abstinence .\", \"Marijuana users were less accurate on the task and showed<br>increased BOLD response in the right hippocampus relative to<br>other groups .\", \"The authors suggested that marijuana users might have failed<br>to inhibit hippocampal activity during the task , perhaps<br>due to cannabis -induced changes in inhibitory<br>neurotransmission or apoptosis in the hippocampus .\", \"These researchers then compared 15 adolescents with and 18<br>without histories of cannabis use during nicotine withdrawal<br>.\", \"Cannabis users , but not non -users , showed nicotine<br>withdrawal -precipitated increases in parietal activation<br>and disruptions in frontoparietal connectivity during a<br>verbal working memory task\", \"( Jacobsen et al . 2007 ). Collectively , existing data<br>indicate some executive impairment and neural dysfunction<br>associated with adolescent marijuana use , although the<br>neural substrates specific to inhibitory processing have not<br>yet been examined in teenage marijuana users .\", \"In the current study , we performed BOLD f MRI during a<br>go/no -go task to characterize response inhibition among<br>adolescent marijuana users and non -using controls .\", \"Because studies of marijuana -using adults have suggested<br>improvements in cognitive and neural functioning after 28<br>days of abstinence ( Pope et al . 2001 ) , we required<br>participants to complete 28 days of monitored abstinence<br>before scanning to ensure that any group differences were<br>not due to recent use .\", \"The go/no -go task ( Anderson et al . 2005 ; Schweinsburg et<br>al . 2004b ) was designed to assess inhibitory processing by<br>asking participants to withhold a response to an<br>infrequently occurring stimulus .\", \"Previous studies have observed activation in dorsolateral<br>prefrontal , inferior frontal , anterior cingulate , and<br>posterior parietal regions among adolescents using this task<br>( Anderson et al . 2005 ; Schweinsburg et al . 2004a ) and<br>similar inhibition paradigms ( Adleman et al . 2002 ; Luna<br>et al . 2001 ; Tamm et al . 2002 ) .\", \"Participants were 16 -to 18 -year -olds enrolled in an<br>ongoing study of adolescents recruited from local high<br>schools and colleges ( Medina et al . 2007a , b ; Nagel et<br>al . 2006 ; Schweinsburg et al . 2005a ) .\", \"Sixteen adolescents were marijuana users ( MJ ) with at<br>least 60 lifetime episodes of cannabis use and limited<br>histories of other drug use , and 17 adolescents were<br>demographically similar non -using controls ( see Table 1<br>for demographic characteristics ) with less than five<br>lifetime episodes of cannabis use .\", \"Written assent and consent were obtained from adolescents<br>and their parent/legal guardians in accordance with the<br>University of California San Diego Human Research<br>Protections Program .\", \"Eligibility was ascertained through separate , private<br>telephone screening interviews with the youth and the parent<br>.\", \"Exclusionary criteria included left handedness ; history of<br>head injury with loss of consciousness > 2 min , learning<br>disabilities , medical or neurological problem , DSM -IV (<br>APA 1994 ) Axis I psychiatric disorder ( i.e . , mood ,<br>anxiety , psychotic , attention , and conduct disorders ) as<br>assessed by the computerized NIMH Diagnostic Interview<br>Schedule for Children Predictive Scales ( DISC -PS -4.32b ;<br>Lucas et al . 2001 ; Shaffer et al . 2000 ) Youth and Parent<br>versions , and use of any psychotropic medication ;<br>significant maternal drinking ( more that two drinks on an<br>occasion or more than four drinks in a week ) or other drug<br>use during pregnancy ; family history of bipolar I or<br>psychotic disorders determined by the Family History<br>Assessment Module ( Rice et al . 1995 ) ; and MRI<br>contraindications . MJ youth disclosed using marijuana an<br>average of \\u223c 500 times in their lives\", \"( see Table 1 ), and three control youth had experience with<br>marijuana ( less than five times ) .\", \"MJ youth used marijuana every other day on average , before<br>being asked to remain abstinent for the 28 days before<br>scanning .\", \"Most MJ youth were current users , as all but three used in<br>the month before monitored abstinence .\", \"Substance use assessment Substance involvement was<br>ascertained using the Customary Drinking and Drug Use Record<br>( Brown et al . 1998 ) , an interview that obtains<br>information on lifetime and past 3 -month use of marijuana ,<br>alcohol , nicotine , other illicit drugs , and misuse of<br>prescription and over -the -counter medications , and<br>negative consequences associated with substance use .\", \"Strong internal consistency , test -retest , and inter<br>-rater reliability have been demonstrated with adolescents (<br>Brown et al . 1998 ; Stewart and Brown 1995 ) .\", \"The Fagerstrom Test for Nicotine Dependence ( FTND ;<br>Heatherton et al . 1991 ) indicated that no participant was<br>dependent on nicotine .\", \"The Timeline Followback ( Sobell and Sobell 1992 ) collected<br>details on substance use patterns for the month before and<br>during the 28 -day abstinence period .\", \"Continuous indices of level of internalizing and<br>externalizing psychopathological syndromes were assessed by<br>the 113 -item Child Behavior Checklist ( CBCL ; Achenbach<br>and Rescorla 2001 ) , administered to parents ( typically<br>biological mothers ) covering youth behaviors in the past 6<br>months .\", \"Eight -factor T scores ( rulebreaking behavior , aggressive<br>behavior , withdrawn/depressed , anxious/depressed , somatic<br>complaints , attention problems , social problems , and<br>thought problems ) and summary T scores ( externalizing ,<br>internalizing ) are provided .\", \"Personality Disinhibition and substance use may relate to<br>personality traits .\", \"Thus , all participants completed the NEO Five -Factor<br>Inventory ( NEO -FFI ; Costa and Mc Crae 1992 ) , a 60 -item<br>self -report personality questionnaire that assesses five<br>domains of personality : neuroticism , extraversion ,<br>openness , agreeableness , and conscientiousness .\", \"This factor structure has been replicated in adolescent<br>samples ( Fruyt et al . 2000 ) .\", \"Go/no -go task Participants performed a go/no -go task<br>during f MRI scanning ( Anderson et al . 2005 ; Schweinsburg<br>et al . 2004b ) .\", \"The task alternated between active blocks and resting blocks<br>.\", \"During resting blocks , participants viewed a \\\"+\\\" in the<br>center of the screen .\", \"During active blocks , a large square , small square , large<br>circle , and small circle were presented one at a time for<br>200 ms every 1,500 ms . Participants were instructed to<br>press a button as fast as possible every time they saw a<br>shape ( go stimuli ) except for the small square ( no -go<br>stimulus ) , thus requiring response inhibition .\", \"The task lasted 6 min and 24 s .\", \"Participants additionally performed the entire task before<br>scanning to ensure adequate comprehension of instructions<br>and to resolve potential practice effects\", \"To confirm that participants did not use substances in the 4<br>weeks before scanning , all participants ( controls and<br>marijuana users ) provided at least nine urine toxicology<br>screens ( two to three times per week ) during these 28 days<br>.\", \"Urine toxicology procedures can reliably detect evidence of<br>marijuana use 4 to 25 days after last use ( Fraser et al .<br>2002 ; Huestis and Cone 1998 ) , sometimes longer ( Lafolie<br>et al . 1991 ) , depending on pattern of use , body lipid<br>content , and metabolic features .\", \"Each urine sample was evaluated for metabolites indicating<br>recent use of cannabis , amphetamines , methamphetamines ,<br>barbiturates , benzodiazepines , cocaine , codeine ,<br>morphine , phencyclidine , and ethanol using cloned enzyme<br>donor immunoassay ( CEDIA DAU , Microgenics , Fremont , CA ,<br>USA ) .\", \"Observed urine sample collection procedures reduced the<br>possibility of participant tampering .\", \"Tetrahydrocannabinol ( THC ) values were monitored over the<br>28 -day period to ensure that levels decreased .\", \"Initial samples testing positive for THC metabolites were<br>assumed to reflect residual use if values decreased with<br>each subsequent sample collected .\", \"If levels increased or a positive screen was obtained after<br>a negative screen , the participant was given the option to<br>restart the 28 -day screening process or be dropped from the<br>study .\", \"Breathalyzers ( Alco Sensor IV , Intoximeter , St . Louis ,<br>MO , USA ) were conducted at each visit .\", \"To confirm urine results , a hair sample collected on the<br>scan day was analyzed for THC and other drug metabolites<br>suggestive of past month use ( Psychemedics , Culver City ,<br>CA , USA ) .\", \"Seven users , not described in this paper , were unable to<br>complete the 28 -day abstinence protocol .\", \"In preparation for scanning , each participant lay on the<br>scanner bed .\", \"Foam pads were arranged around the head to minimize motion .\", \"A mirror above the participant 's eyes enabled viewing of a<br>screen at the foot of the scanner bed , on which the task<br>was rear -projected from a laptop .\", \"Behavioral responses during the task were collected through<br>a fiber -optic button box ( Lumi Touch , Vancouver , BC ,<br>Canada ) .\", \"Imaging data were acquired on a 1.5 Tesla Signa LX ( General<br>Electric , Madison , WI , USA ) system .\", \"A structural image was collected in the sagittal plane using<br>an inversion recovery prepared T1 -weighted 3D spiral fast<br>spin echo sequence ( repetition time 2,000 ms , echo time 16<br>ms , field of view 240 mm , 128 continuous slices ,<br>resolution 0.9375\\u00d70.9375 \\u00d7 1.328 mm , acquisition time 8:36<br>; Wong et al . 2000 ) .\", \"Data were processed and analyzed using Analysis of<br>Functional Neuro Images ( AFNI ; http://www.afni.nimh.nih .<br>gov ; Cox 1996 ) .\", \"First , an automated motion correction algorithm was applied<br>to the time series datasets ( Cox and Jesmanowicz 1999 ) .\", \"Two raters examined the time series data and removed<br>repetitions containing residual visible head motions .\", \"If > 18 % of repetitions were removed , the participant was<br>not included ( n=3 not described in this paper ) .\", \"Groups did not differ in the number of repetitions removed (<br>p=0.87 ) or absolute mean rotational or translational<br>adjustments applied .\", \"Average rotational ( roll , pitch , and yaw ) and<br>translational ( superior , left , and posterior ) movement ,<br>respectively , was 0.04 , 0.11 , and 0.05\\u00b0and 0.07 , 0.04 ,<br>and 0.04 mm for MJ users , and 0.06 , 0.12 , 0.06\\u00b0and 0.10 ,<br>0.04 , and 0.06 mm for controls .\", \"No significant differences between groups were found for<br>task -correlated motion\", \"( rs for the correlation between the task reference function<br>and each motion parameter were \\u2212 0.08 , \\u2212 0.10 , \\u2212 0.02 , \\u2212<br>0.11 , \\u2212 0.07 , and \\u2212 0.07 for MJ users and \\u2212 0.04 , \\u2212 0.06<br>, \\u2212 0.04 , \\u2212 0.10 , \\u2212 0.08 , and \\u2212 0.06 for controls ) .Next<br>, time series datasets were deconvolved with a reference<br>function representing the timing of go , no -go , and rest<br>stimuli presentation over the course of the task ( Ward 2002<br>) while accounting for hemodynamic delays ( Bandettini et al<br>. 1993 ; Boynton et al . 1996 ) and covarying for motion<br>adjustments applied and linear trends .\", \"This yielded fit coefficients representing the BOLD response<br>for ( 1 ) inhibition ( no -go ) trials relative to baseline<br>and ( 2 ) go trials relative to baseline in each voxel of<br>the brain for each subject .\", \"Data were transformed to standard space ( Lancaster et al .<br>2000 ; Talairach and Tournoux 1988 ) , resampled into<br>isotropic 3.5 -mm voxels , and spatially smoothed with a<br>Gaussian filter ( 3.5 mm full width half maximum ) to<br>account for anatomic variability between subjects .\", \"We determined regions of significant BOLD response<br>differences between MJ and control adolescents using<br>independent samples t tests in each voxel of the brain ,<br>performed separately on the BOLD response contrast for no<br>-go and for go trials .\", \"To control for type I error , we used a combination of t<br>statistic magnitude and cluster volume thresholding ( Forman<br>et al . 1995 ; Ward 1997 ) by only interpreting clusters<br>comprised of at least 22 contiguously activated voxels at<br>a<.05 ( \\u2265 943 \\u03bcl in volume ) .\", \"Anatomic localization was confirmed using the Talairach<br>Daemon ( Lancaster et al . 2000 ; Ward 1997 ) and AFNI (<br>Ward 1997 ) .\", \"Normality of distribution was evaluated for key variables (<br>Tabachnick and Fidell 2007 ) .\", \"No outliers or non -normal distributions were found for BOLD<br>response contrast in clusters showing group differences .\", \"However , five variables ( marijuana hits per month ,<br>lifetime other drug use , cigarettes smoked per month , FTND<br>total , and BDI total ) were positively skewed and kurtotic<br>, so were inverse transformed [ i.e . , 1/ ( 1 + the skewed<br>variable ) ; Tabachnick and Fidell 2007 ] .\", \"Group comparison results were further examined in analyses<br>of covariance ( ANCOVAs ) that controlled for potential<br>confound variables that differed between groups .\", \"Follow -up regression analyses were conducted among the MJ<br>users ( n=16 ) to examine BOLD response contrast to no -go<br>trials , averaged across the cluster , in the regions that<br>continued to differentiate users from controls in the above<br>ANCOVAs .\", \"BOLD response contrast to no -go trials was the dependent<br>variable , and variables indexing marijuana use , other<br>substance use , and risk factors for substance involvement<br>were the predictors .\", \"Groups did not differ significantly on mood state measures\", \"( see Table 1 ), but MJ users showed a trend for higher BDI<br>scores ( p=0.08 ) .\", \"Groups were similar and in the normal range on all CBCL<br>factor T scores , except that the MJ group was higher on<br>Rule -Breaking Behavior ( 53.00\\u00b18.23 MJ , 45.21\\u00b15.19<br>controls , p<0.005 ) .\", \"On the NEO -FFI , MJ youth demonstrated greater scores on<br>Openness ( 44.25 \\u00b1 3.11 MJ , 41.18\\u00b14.88 controls , p<0.05 )<br>but were statistically equivalent on other personality<br>scores .\", \"MJ youth committed more errors than controls on several<br>cognitive tests : more sequencing errors across all DKEFS<br>Trails conditions ( p<0.01 ) , more intrusion errors on a<br>word list learning task ( p<0.05 ) , and more repetition<br>errors on DKEFS Verbal Fluency ( p<0.05 ) .Task performance<br>data were available for 15 MJ and 15 control adolescents .\", \"No group differences or group by condition interactions were<br>found .\", \"As expected , participants responded more accurately (<br>p<.001 ) to go trials ( 98.97 \\u00b1 1.88 % MJ , 98.70\\u00b11.62 %<br>controls ) than no -go trials ( 82.92 \\u00b1 9.57 % MJ ,<br>81.64\\u00b110.73 % controls ) .\", \"Groups were equivalent on reaction time to go trials (<br>588.11\\u00b140.44 MJ , 606.13 \\u00b1 74.35 controls , p=.38 ) .\", \"D \\u2032 , a signal detection index that considers the<br>probability of correct and incorrect responses ( i.e . , the<br>ability to separate go stimuli from the no -go stimulus ) ,<br>was also similar between groups ( 3.30\\u00b10.49 MJ , 3.04\\u00b10.84<br>controls , p=0.54 ) .\", \"Exit interview data showed that groups were equivalent on<br>task effort , motivation , and perceived errors , but MJ<br>users indicated use of more perceptual strategies ( e.g . ,<br>\\\" look for the small square to show up \\\" ) , while controls<br>tended to endorse cognitive strategies ( \\\" remember to hold<br>off when I see that shape \\\" or \\\" concentrate\\\" ) .f MRI<br>response Whole brain analyses showed that during inhibitory<br>trials relative to baseline , control adolescents showed<br>significantly increased activation in superior medial<br>frontal cortex and the left parahippocampal gyrus , and<br>decreased activation in bilateral posterior parietal and<br>inferior frontal regions .\", \"MJ users also showed increased inhibition -related<br>activation in superior frontal areas , as well as in<br>additional regions compared to controls , including numerous<br>left and medial prefrontal clusters , left posterior<br>parietal cortex , and multiple bilateral cerebellar regions<br>.\", \"MJ users showed decreased BOLD response during no -go trials<br>relative to baseline in right posterior parietal , inferior<br>frontal , and middle temporal cortices .\", \"Between -group comparisons revealed several clusters in<br>which MJ users showed significantly more BOLD response<br>during inhibition trials than controls : right anterior<br>superior and middle frontal gyri ( BA 10 , 46 ) , right<br>superior middle frontal gyrus extending down to the anterior<br>insula ( BA 6 , 13 ) , left anterior middle and superior<br>frontal gyri ( BA 10 ) , medial prefrontal cortex ( BA 6 ) ,<br>right and left posterior parietal cortex ( BA 7 , 40 ) , and<br>right lingual gyrus\", \"( BA 18 ; see Table 2 and Fig . 1 ). There were no clusters<br>in which MJ users showed significantly less inhibitory brain<br>response than controls .\", \"For go trials relative to baseline , controls showed<br>significant BOLD response in the bilateral ventral<br>prefrontal cortex , bilateral medial posterior parietal<br>cortex and cuneus , anterior cingulate , precentral gyrus ,<br>right anterior insula , and medial cerebellum .\", \"MJ users had multiple clusters of significant response to go<br>trials relative to baseline , including increased activation<br>in substantial portions of bilateral ventral prefrontal<br>cortex , bilateral medial superior frontal cortex , right<br>posterior parietal cortex , bilateral temporal cortex ,<br>anterior cingulate , precentral gyrus , left insula , and<br>bilateral cerebellum .\", \"Between -group comparisons indicated that MJ users had<br>significantly more BOLD response during go trials relative<br>to baseline than did controls in the right inferior frontal<br>gyrus and anterior insula ( BA 44 , 13 ) , right superior<br>frontal gyrus ( BA 9 , 10 ) , right superior parietal lobule<br>( BA 7 ) , right inferior parietal lobule ( BA 40 ) , and<br>medial precuneus\", \"( BA 7 ; see Table 3 ). There were no clusters in which MJ<br>users had significantly less go response than controls .\", \"To determine whether the group differences reported above<br>were due to differences in other substance use or factors<br>that could predate marijuana use , secondary analyses using<br>ANCOVAs separately ( due to limited power ) controlled for<br>lifetime alcohol consumption , days since last drink ,<br>drinks per month , years of regular drinking , time since<br>last cigarette , past week cigarettes per smoking day ,<br>cigarettes per month , FTND total , number of lifetime other<br>drug use episodes , family history of substance use<br>disorders , family history of psychiatric disorders , each<br>NEO -FFI score , and BDI total .\", \"For all analyses , groups continued to differ on BOLD<br>response in all clusters ( p range , 0.001 to 0.0001 ) .To<br>determine whether differences between groups were due to<br>duration and intensity of exposure to THC or related to the<br>recency of marijuana use , we conducted a series of<br>exploratory regression analyses among MJ users ( n=16 ) .\", \"Duration of regular marijuana use was negatively related to<br>no -go brain response in the right anterior superior frontal<br>gyrus ( BA 10 ; \\u03b2=\\u22120.73 , p<0.001 ; plotted in Fig . 2 ) ,<br>right superior middle frontal gyrus ( BA 6 ; \\u03b2=\\u22120.58 ,<br>p<0.025 ) , and left anterior superior frontal gyrus ( BA 10<br>; \\u03b2=\\u22120.58 , p < 0.025 ) , suggesting that youth with longer<br>durations of marijuana involvement had less no -go brain<br>response .\", \"Similarly , early age of onset of regular marijuana use ( \\u03b2<br>= 0.66 , p<0.01 ) and more lifetime marijuana use episodes (<br>\\u03b2=\\u2212.62 , p<0.025 ) related to less inhibitory response in<br>the right anterior superior frontal gyrus ( BA 10 ) .\", \"Typical number of marijuana hits per month also was<br>negatively related to brain response in the right anterior<br>superior frontal gyrus ( BA 10 ; \\u03b2=\\u22120.73 , p<.005 ) , right<br>superior middle frontal gyrus ( BA 6 ; \\u03b2=\\u22120.71 , p<0.005 ) ,<br>left anterior superior frontal gyrus ( BA 10 ; \\u03b2=\\u22120.68 ,<br>p<0.01 ) , and left posterior parietal cortex ( BA 40 ;<br>\\u03b2=\\u22120.62 , p < 0.025 ) .\", \"Days since last marijuana use ( range , 28 to 240 ) , age ,<br>and neuropsychological test performance were not associated<br>with brain response in any region demonstrating a group<br>difference .\", \"Number of lifetime other drug use episodes ( primarily pain<br>medications ) was positively associated with BOLD response<br>contrast to no -go trials in the right anterior superior<br>frontal gyrus ( BA 10 ; \\u03b2=0.57 , p < 0.025 ) and right<br>middle frontal gyrus ( BA 6 , \\u03b2=0.56 , p < 0.025 ) .\", \"In this study , marijuana -using adolescents showed<br>increased BOLD response during both inhibitory and non<br>-inhibitory trials of a go/no -go task , even after a 28<br>-day washout period of abstinence from cannabis , as<br>compared to control adolescents with limited substance use<br>histories .\", \"Differences were prominent in dorsolateral prefrontal and<br>parietal areas .\", \"Our findings with adolescent marijuana users extend those of<br>others ( Gruber and Yurgelun -Todd 2005 ) , who Fig . 1<br>Inhibition trial differences in BOLD response contrast<br>between marijuana -using ( n=16 ) and non -using ( n=17 )<br>adolescents after 28 days of monitored abstinence .\", \"Blue areas show where users had more significantly BOLD<br>response during inhibition ( no -go ) trials relative to<br>baseline than non -users ( p<0.05 , clusters > 943 \\u03bcl ) ; no<br>clusters in which users showed significantly less activation<br>than controls were found ( see Table 2 ) showed that adult<br>marijuana users exhibited increased prefrontal response<br>during inhibition tasks .\", \"The present results thus suggest that the effects of<br>cannabis use on brain function in adolescents may persist<br>after a period of abstinence .\", \"A pattern of increased activation yet comparable performance<br>is consistent with functional compensation and<br>dedifferentiation ( Rajah and D 'Esposito 2005 ) , which<br>supposes that loci of functional activity are spread to more<br>and larger regions .\", \"Therefore , adolescent marijuana users appear to recruit<br>more neural tissue in executive control areas to adequately<br>perform the task , which is consistent with other studies<br>showing increased dorsolateral prefrontal activation in MJ<br>users during inhibition ( Gruber and Yurgelun -Todd 2005 )<br>and other ( Schweinsburg et al . 2005b ) cognitive tasks .\", \"Repeated cannabinoid use may alter neuromaturation in<br>regions with high CB1 densities , such as prefrontal cortex<br>( Eggan and Lewis 2007 ) .\", \"Synaptic pruning and gray matter sculpting occurs late in<br>some of the regions showing increased BOLD signal among<br>users , such as bilateral dorsolateral prefrontal cortex ,<br>where cortical thickness peaks at age 11.5 on average (<br>Gogtay et al . 2004 ; Sowell et al . 2003 ) .\", \"If prefrontal synaptic pruning is slowed by adolescent<br>marijuana use , greater activation may reflect excess neural<br>firing caused by a larger number of synaptic links .\", \"In their study of heavy marijuana -using adults , Gruber and<br>Yurgelun -Todd ( 2005 ) reported that heavy users had<br>increased prefrontal response to an inhibition task , as<br>seen in this study of adolescents , but also showed reduced<br>anterior cingulate response , which we did not observe in<br>this study .\", \"One possible explanation for this difference is the duration<br>of marijuana use in our cohort .\", \"It may take a longer period of use to evidence such changes<br>in cingulate responding .\", \"The increased parietal activation among marijuana -using<br>adolescents is consistent with findings from Jacobsen et al<br>. ( 2007 ) of heightened parietal response in marijuana<br>-involved youth during a verbal working memory task while<br>undergoing nicotine withdrawal , although here , nicotine<br>use rates were relatively low .\", \"As right dorsolateral prefrontal and parietal regions have<br>been implicated in sustained attention ( Drummond et al .<br>2005 ) , perhaps , users had a greater cognitive load<br>associated with attending to the stimuli in general and in<br>identifying the no -go stimulus in particular .\", \"Both go and no -go trials require sustained attention , and<br>overlap was observed for the right prefrontal/insular and<br>parietal regions where users showed greater BOLD response<br>than controls for both conditions .\", \"Adolescents with later onsets ( age , 16-18 ) and briefer<br>durations ( 1-2 years ) of regular marijuana use showed the<br>greatest divergence from normal controls in BOLD response to<br>the inhibition trials .\", \"Similarly , Chang et al . ( 2006 ) reported that adults who<br>started marijuana use in late adolescence had more frontal<br>activation during a visual attention task than adults who<br>started in early adolescence .\", \"Although our data do not address the molecular mechanism of<br>this difference , we can speculate about the nature of this<br>finding .\", \"For example , increased prefrontal activation during an<br>inhibitory task in adolescent users with a more recent onset<br>may reflect a stage of neural and behavioral compensation .\", \"This compensatory response may occur within the first few<br>years of regular adolescent marijuana use and may later be<br>followed by neuroadaptation or other processes , possibly<br>related to downregulation of cannabinoid ( CB1 ) receptors .\", \"Therefore , an inverted U -shaped response pattern may<br>emerge over time , which eventually results in brain<br>activation patterns that are indistinguishable from non<br>-users ( suggested in Fig . 2 ) . BOLD response is<br>influenced by cerebral blood flow , often abnormal in<br>marijuana users acutely and subacutely .\", \"Up to 36 h since last use , THC intake is associated with<br>increased cerebral blood flow ( Mathew et al . 2002 ) and<br>volume ( Sneider et al . 2006 ) in frontal , insular ,<br>anterior cingulate , cerebellum , temporal , and paralimbic<br>regions ; reductions in auditory and visual cortex ,<br>parietal lobe , and thalamus ; and no change in nucleus<br>accumbens , basal ganglia , or the hippocampus ( O 'Leary et<br>al . 2002 ) .\", \"Although increases in blood flow velocity and<br>cerebrovascular resistance dissipate from 3 to 28 days of<br>abstinence in adults with marijuana use levels consistent<br>with this sample ( i.e . , 15.9 days per month ) , very<br>heavy users remained abnormally elevated ( Herning et al .<br>2005 ) .\", \"Thus , increased BOLD response in adolescent marijuana users<br>could reflect residual cerebrovasculature abnormalities ,<br>although increased blood flow or volume would likely yield<br>lower BOLD response ( Brown et al . 2003 ) , not greater ,<br>as seen here .\", \"This study had several limitations .\", \"While groups were equivalent on many demographic variables ,<br>intelligence , Fig . 2 Marijuana using adolescents ( n=16 )<br>show more BOLD response ( y -axis displays fit coefficients<br>) during inhibition trials relative to baseline than control<br>adolescents ( n=17 ) in right dorsolateral prefrontal cortex<br>, largely accounted for by users with 1 to 3 years of<br>regular ( weekly ) marijuana use and task performance ,<br>marijuana users had greater alcohol and other substance<br>histories and a trend for more depressed symptomatology .\", \"Although activation patterns remained after controlling for<br>these factors , substance and affective differences pose the<br>possibility of synergistic effects , and we have previously<br>found adolescent heavy drinking to be related to abnormal<br>activation patterns on a spatial working memory task\", \"( Caldwell et al . 2005 ;\", \"Schweinsburg et al .\", \"2005b ;\", \"Tapert et al . 2001 Tapert et al . , 2004 .\", \"Reduced educational engagement or altered sleep quality<br>related to marijuana use might account for the differences .\", \"Critically , the current data cannot ascertain if marijuana<br>use during adolescence produces the observed differences or<br>if abnormalities existed before the onset of regular use .\", \"Groups did not differ on proportion with a family history of<br>substance use disorder , and youths with psychiatric<br>diagnosis ( e.g . , conduct disorder , attention<br>-deficit/hyperactivity disorder ) were excluded from the<br>study .\", \"Groups were similar with regard to most personality and<br>psychopathological syndrome dimensions but did differ on<br>openness to new experiences and parent report of delinquent<br>behaviors , which also may predate or result from adolescent<br>marijuana use , but did not account for group differences in<br>brain response .\", \"On the other hand , the adolescents who diverged most from<br>normal controls may simply differ on unmeasured risk factors<br>related to the initiation and escalation of substance use .\", \"Altered inhibitory processing may make adolescents<br>vulnerable to substance use initiation and escalation .\", \"The indication of extra neural effort required to inhibit<br>responses has important implications for adolescent<br>development and future substance involvement .\", \"Demands for inhibitory control increases substantially over<br>the course of late adolescence , particularly in school and<br>work environments as well as social and intimate<br>relationships .\", \"Consequently , youth required to exert extra neurocognitive<br>effort may be disadvantaged or become less successful in<br>maneuvering the normal transitions of adolescence and young<br>adulthood .\", \"Additionally , it may be harder for these youth to inhibit<br>the use of substances , particularly in situations where<br>cognitive demands are strained due to conflicting goals ,<br>distractions , peers , substance -relevant cues , or low<br>mood states .\"], \"type\": \"bar\", \"x\": [0, 1, 2, 3, 4, 5, 6, 7, 8, 9, 10, 11, 12, 13, 14, 15, 16, 17, 18, 19, 20, 21, 22, 23, 24, 25, 26, 27, 28, 29, 30, 31, 32, 33, 34, 35, 36, 37, 38, 39, 40, 41, 42, 43, 44, 45, 46, 47, 48, 49, 50, 51, 52, 53, 54, 55, 56, 57, 58, 59, 60, 61, 62, 63, 64, 65, 66, 67, 68, 69, 70, 71, 72, 73, 74, 75, 76, 77, 78, 79, 80, 81, 82, 83, 84, 85, 86, 87, 88, 89, 90, 91, 92, 93, 94, 95, 96, 97, 98, 99, 100, 101, 102, 103, 104, 105, 106, 107, 108, 109, 110, 111, 112, 113, 114, 115, 116, 117, 118, 119, 120, 121, 122, 123, 124, 125, 126, 127, 128, 129, 130, 131, 132, 133, 134, 135, 136, 137, 138, 139, 140, 141, 142, 143, 144, 145, 146, 147, 148, 149, 150, 151, 152, 153, 154, 155], \"y\": [1.5068979572819175e-05, 4.238020423657442e-06, 0.0002490036061579851, 0.018215781873066838, 3.4772573492116717e-06, 0.008995996434662567, 3.107325710833046e-06, 0.008572242617771704, 0.0001272345376802613, 1.3851878947040036e-06, 0.00015892181366464902, 0.0011772036015669412, 0.005253649219260044, 0.0019696233822915957, 0.012941562157379311, 0.001514063992614503, 0.003613556088173205, 0.01069501647130238, 0.025004242717954022, 0.001403887916497407, 0.0004355763946150308, 0.0006927735663157962, 0.0015067262658812965, 0.001199685825185538, 2.566578361526186e-07, 0.004202666249092135, 0.00631034946611473, 0.00199272077233656, 0.005283960595646025, 0.0008127587339755315, 0.006132307564563663, 1.8214635296312026e-06, 0.0005402556385495426, 1.3333397156695287e-06, 1.3073644305716885e-07, 7.131150330623839e-06, 0.0, 2.6537613756717016e-05, 0.0005314191916338363, 1.23757045420911e-06, 9.854329075451173e-06, 1.6358896504888543e-06, 1.0239683583435773e-07, 5.920495288120525e-06, 0.0, 2.4576807057874106e-05, 1.7198697622582737e-06, 5.051714401179129e-05, 0.00021765843255587902, 0.0005410531094069874, 3.3514719930988076e-06, 3.770178788071615e-05, 0.0008610505402349044, 0.002154462369349886, 0.0010520698211657802, 5.392841221948642e-07, 0.0005353675098723989, 1.0316924608239456e-06, 0.00033508651011786164, 1.869982943258984e-07, 0.0005161309919092982, 0.0, 9.966815320107932e-07, 0.0005568832472828508, 1.339960837077077e-06, 1.1488377393518572e-06, 0.0003074603508121179, 0.00025426988365578017, 0.0, 1.0493122757582588e-06, 2.401955913000518e-07, 7.242995156119331e-07, 1.2263662191755597e-07, 8.10178438865592e-06, 8.528921900732058e-05, 0.0006340869395439156, 0.00019457847987443958, 0.0009037862494426978, 0.0003658856089757299, 1.3125580666244475e-07, 0.0006824756639076417, 3.460600752064264e-05, 1.5357226673533924e-07, 3.503970163727669e-07, 4.34078357664525e-06, 6.367808035125621e-08, 2.96546124736016e-06, 0.001987123837961509, 4.822036606944584e-07, 0.0, 0.00014982791527062272, 0.0007213964336470273, 0.00048529392952240856, 0.0006413947047600894, 1.2000090289554645e-05, 0.0009548880388443075, 0.0007487860955926939, 0.000742099107223964, 0.00686795752037472, 0.007267968231392508, 0.00021626302243297145, 0.0007048632681931673, 0.0013664969919778979, 0.0005703978723431582, 0.0034947115854362058, 0.0009642949527530518, 0.0009678182945911192, 3.293065560478145e-05, 0.00026026425466392554, 0.0002397813644997109, 2.439455492835638e-06, 0.0003495126535631615, 0.00036182555752924296, 4.263057947660067e-05, 0.0006463858914239197, 6.142647585799106e-07, 0.00016045097716081675, 0.0066135436955166585, 0.00044914423587221717, 0.006250358558520001, 0.014788163934732115, 0.0007944744922869628, 0.0013172454958596165, 0.01249683919739437, 0.0012017457788735212, 7.587696589014135e-06, 9.249578578142992e-05, 0.003797567869525189, 0.0011268915703930656, 0.0019321271640847081, 0.0007983558062719983, 0.0039233007560943904, 3.800380715792524e-06, 0.016879836099668883, 4.223773671463172e-05, 0.004153436404140646, 0.0005425683212218153, 0.0005175249210423198, 0.0005189096591643056, 3.435695991458802e-06, 0.0005700973127864754, 0.003705160695396343, 0.0, 0.0, null, 0.10757109739378445, 0.0025945639449778796, 5.281631184534894e-06, 4.221602382270485e-07, 0.00021676641064012064, 0.0008519588371469483, 0.0024122165091584307, 0.008235894100256337, 5.005981892029189e-06, 0.0004155128344366257, 2.7042143071385413e-05]}],\n",
       "                        {\"hoverlabel\": {\"bgcolor\": \"white\", \"font\": {\"family\": \"Rockwell\", \"size\": 13}}, \"template\": {\"data\": {\"bar\": [{\"error_x\": {\"color\": \"#2a3f5f\"}, \"error_y\": {\"color\": \"#2a3f5f\"}, \"marker\": {\"line\": {\"color\": \"#E5ECF6\", \"width\": 0.5}}, \"type\": \"bar\"}], \"barpolar\": [{\"marker\": {\"line\": {\"color\": \"#E5ECF6\", \"width\": 0.5}}, \"type\": \"barpolar\"}], \"carpet\": [{\"aaxis\": {\"endlinecolor\": \"#2a3f5f\", \"gridcolor\": \"white\", \"linecolor\": \"white\", \"minorgridcolor\": \"white\", \"startlinecolor\": \"#2a3f5f\"}, \"baxis\": {\"endlinecolor\": \"#2a3f5f\", \"gridcolor\": \"white\", \"linecolor\": \"white\", \"minorgridcolor\": \"white\", \"startlinecolor\": \"#2a3f5f\"}, \"type\": \"carpet\"}], \"choropleth\": [{\"colorbar\": {\"outlinewidth\": 0, \"ticks\": \"\"}, \"type\": \"choropleth\"}], \"contour\": [{\"colorbar\": {\"outlinewidth\": 0, \"ticks\": \"\"}, \"colorscale\": [[0.0, \"#0d0887\"], [0.1111111111111111, \"#46039f\"], [0.2222222222222222, \"#7201a8\"], [0.3333333333333333, \"#9c179e\"], [0.4444444444444444, \"#bd3786\"], [0.5555555555555556, \"#d8576b\"], [0.6666666666666666, \"#ed7953\"], [0.7777777777777778, \"#fb9f3a\"], [0.8888888888888888, \"#fdca26\"], [1.0, \"#f0f921\"]], \"type\": \"contour\"}], \"contourcarpet\": [{\"colorbar\": {\"outlinewidth\": 0, \"ticks\": \"\"}, \"type\": \"contourcarpet\"}], \"heatmap\": [{\"colorbar\": {\"outlinewidth\": 0, \"ticks\": \"\"}, \"colorscale\": [[0.0, \"#0d0887\"], [0.1111111111111111, \"#46039f\"], [0.2222222222222222, \"#7201a8\"], [0.3333333333333333, \"#9c179e\"], [0.4444444444444444, \"#bd3786\"], [0.5555555555555556, \"#d8576b\"], [0.6666666666666666, \"#ed7953\"], [0.7777777777777778, \"#fb9f3a\"], [0.8888888888888888, \"#fdca26\"], [1.0, \"#f0f921\"]], \"type\": \"heatmap\"}], \"heatmapgl\": [{\"colorbar\": {\"outlinewidth\": 0, \"ticks\": \"\"}, \"colorscale\": [[0.0, \"#0d0887\"], [0.1111111111111111, \"#46039f\"], [0.2222222222222222, \"#7201a8\"], [0.3333333333333333, \"#9c179e\"], [0.4444444444444444, \"#bd3786\"], [0.5555555555555556, \"#d8576b\"], [0.6666666666666666, \"#ed7953\"], [0.7777777777777778, \"#fb9f3a\"], [0.8888888888888888, \"#fdca26\"], [1.0, \"#f0f921\"]], \"type\": \"heatmapgl\"}], \"histogram\": [{\"marker\": {\"colorbar\": {\"outlinewidth\": 0, \"ticks\": \"\"}}, \"type\": \"histogram\"}], \"histogram2d\": [{\"colorbar\": {\"outlinewidth\": 0, \"ticks\": \"\"}, \"colorscale\": [[0.0, \"#0d0887\"], [0.1111111111111111, \"#46039f\"], [0.2222222222222222, \"#7201a8\"], [0.3333333333333333, \"#9c179e\"], [0.4444444444444444, \"#bd3786\"], [0.5555555555555556, \"#d8576b\"], [0.6666666666666666, \"#ed7953\"], [0.7777777777777778, \"#fb9f3a\"], [0.8888888888888888, \"#fdca26\"], [1.0, \"#f0f921\"]], \"type\": \"histogram2d\"}], \"histogram2dcontour\": [{\"colorbar\": {\"outlinewidth\": 0, \"ticks\": \"\"}, \"colorscale\": [[0.0, \"#0d0887\"], [0.1111111111111111, \"#46039f\"], [0.2222222222222222, \"#7201a8\"], [0.3333333333333333, \"#9c179e\"], [0.4444444444444444, \"#bd3786\"], [0.5555555555555556, \"#d8576b\"], [0.6666666666666666, \"#ed7953\"], [0.7777777777777778, \"#fb9f3a\"], [0.8888888888888888, \"#fdca26\"], [1.0, \"#f0f921\"]], \"type\": \"histogram2dcontour\"}], \"mesh3d\": [{\"colorbar\": {\"outlinewidth\": 0, \"ticks\": \"\"}, \"type\": \"mesh3d\"}], \"parcoords\": [{\"line\": {\"colorbar\": {\"outlinewidth\": 0, \"ticks\": \"\"}}, \"type\": \"parcoords\"}], \"pie\": [{\"automargin\": true, \"type\": \"pie\"}], \"scatter\": [{\"marker\": {\"colorbar\": {\"outlinewidth\": 0, \"ticks\": \"\"}}, \"type\": \"scatter\"}], \"scatter3d\": [{\"line\": {\"colorbar\": {\"outlinewidth\": 0, \"ticks\": \"\"}}, \"marker\": {\"colorbar\": {\"outlinewidth\": 0, \"ticks\": \"\"}}, \"type\": \"scatter3d\"}], \"scattercarpet\": [{\"marker\": {\"colorbar\": {\"outlinewidth\": 0, \"ticks\": \"\"}}, \"type\": \"scattercarpet\"}], \"scattergeo\": [{\"marker\": {\"colorbar\": {\"outlinewidth\": 0, \"ticks\": \"\"}}, \"type\": \"scattergeo\"}], \"scattergl\": [{\"marker\": {\"colorbar\": {\"outlinewidth\": 0, \"ticks\": \"\"}}, \"type\": \"scattergl\"}], \"scattermapbox\": [{\"marker\": {\"colorbar\": {\"outlinewidth\": 0, \"ticks\": \"\"}}, \"type\": \"scattermapbox\"}], \"scatterpolar\": [{\"marker\": {\"colorbar\": {\"outlinewidth\": 0, \"ticks\": \"\"}}, \"type\": \"scatterpolar\"}], \"scatterpolargl\": [{\"marker\": {\"colorbar\": {\"outlinewidth\": 0, \"ticks\": \"\"}}, \"type\": \"scatterpolargl\"}], \"scatterternary\": [{\"marker\": {\"colorbar\": {\"outlinewidth\": 0, \"ticks\": \"\"}}, \"type\": \"scatterternary\"}], \"surface\": [{\"colorbar\": {\"outlinewidth\": 0, \"ticks\": \"\"}, \"colorscale\": [[0.0, \"#0d0887\"], [0.1111111111111111, \"#46039f\"], [0.2222222222222222, \"#7201a8\"], [0.3333333333333333, \"#9c179e\"], [0.4444444444444444, \"#bd3786\"], [0.5555555555555556, \"#d8576b\"], [0.6666666666666666, \"#ed7953\"], [0.7777777777777778, \"#fb9f3a\"], [0.8888888888888888, \"#fdca26\"], [1.0, \"#f0f921\"]], \"type\": \"surface\"}], \"table\": [{\"cells\": {\"fill\": {\"color\": \"#EBF0F8\"}, \"line\": {\"color\": \"white\"}}, \"header\": {\"fill\": {\"color\": \"#C8D4E3\"}, \"line\": {\"color\": \"white\"}}, \"type\": \"table\"}]}, \"layout\": {\"annotationdefaults\": {\"arrowcolor\": \"#2a3f5f\", \"arrowhead\": 0, \"arrowwidth\": 1}, \"coloraxis\": {\"colorbar\": {\"outlinewidth\": 0, \"ticks\": \"\"}}, \"colorscale\": {\"diverging\": [[0, \"#8e0152\"], [0.1, \"#c51b7d\"], [0.2, \"#de77ae\"], [0.3, \"#f1b6da\"], [0.4, \"#fde0ef\"], [0.5, \"#f7f7f7\"], [0.6, \"#e6f5d0\"], [0.7, \"#b8e186\"], [0.8, \"#7fbc41\"], [0.9, \"#4d9221\"], [1, \"#276419\"]], \"sequential\": [[0.0, \"#0d0887\"], [0.1111111111111111, \"#46039f\"], [0.2222222222222222, \"#7201a8\"], [0.3333333333333333, \"#9c179e\"], [0.4444444444444444, \"#bd3786\"], [0.5555555555555556, \"#d8576b\"], [0.6666666666666666, \"#ed7953\"], [0.7777777777777778, \"#fb9f3a\"], [0.8888888888888888, \"#fdca26\"], [1.0, \"#f0f921\"]], \"sequentialminus\": [[0.0, \"#0d0887\"], [0.1111111111111111, \"#46039f\"], [0.2222222222222222, \"#7201a8\"], [0.3333333333333333, \"#9c179e\"], [0.4444444444444444, \"#bd3786\"], [0.5555555555555556, \"#d8576b\"], [0.6666666666666666, \"#ed7953\"], [0.7777777777777778, \"#fb9f3a\"], [0.8888888888888888, \"#fdca26\"], [1.0, \"#f0f921\"]]}, \"colorway\": [\"#636efa\", \"#EF553B\", \"#00cc96\", \"#ab63fa\", \"#FFA15A\", \"#19d3f3\", \"#FF6692\", \"#B6E880\", \"#FF97FF\", \"#FECB52\"], \"font\": {\"color\": \"#2a3f5f\"}, \"geo\": {\"bgcolor\": \"white\", \"lakecolor\": \"white\", \"landcolor\": \"#E5ECF6\", \"showlakes\": true, \"showland\": true, \"subunitcolor\": \"white\"}, \"hoverlabel\": {\"align\": \"left\"}, \"hovermode\": \"closest\", \"mapbox\": {\"style\": \"light\"}, \"paper_bgcolor\": \"white\", \"plot_bgcolor\": \"#E5ECF6\", \"polar\": {\"angularaxis\": {\"gridcolor\": \"white\", \"linecolor\": \"white\", \"ticks\": \"\"}, \"bgcolor\": \"#E5ECF6\", \"radialaxis\": {\"gridcolor\": \"white\", \"linecolor\": \"white\", \"ticks\": \"\"}}, \"scene\": {\"xaxis\": {\"backgroundcolor\": \"#E5ECF6\", \"gridcolor\": \"white\", \"gridwidth\": 2, \"linecolor\": \"white\", \"showbackground\": true, \"ticks\": \"\", \"zerolinecolor\": \"white\"}, \"yaxis\": {\"backgroundcolor\": \"#E5ECF6\", \"gridcolor\": \"white\", \"gridwidth\": 2, \"linecolor\": \"white\", \"showbackground\": true, \"ticks\": \"\", \"zerolinecolor\": \"white\"}, \"zaxis\": {\"backgroundcolor\": \"#E5ECF6\", \"gridcolor\": \"white\", \"gridwidth\": 2, \"linecolor\": \"white\", \"showbackground\": true, \"ticks\": \"\", \"zerolinecolor\": \"white\"}}, \"shapedefaults\": {\"line\": {\"color\": \"#2a3f5f\"}}, \"ternary\": {\"aaxis\": {\"gridcolor\": \"white\", \"linecolor\": \"white\", \"ticks\": \"\"}, \"baxis\": {\"gridcolor\": \"white\", \"linecolor\": \"white\", \"ticks\": \"\"}, \"bgcolor\": \"#E5ECF6\", \"caxis\": {\"gridcolor\": \"white\", \"linecolor\": \"white\", \"ticks\": \"\"}}, \"title\": {\"x\": 0.05}, \"xaxis\": {\"automargin\": true, \"gridcolor\": \"white\", \"linecolor\": \"white\", \"ticks\": \"\", \"title\": {\"standoff\": 15}, \"zerolinecolor\": \"white\", \"zerolinewidth\": 2}, \"yaxis\": {\"automargin\": true, \"gridcolor\": \"white\", \"linecolor\": \"white\", \"ticks\": \"\", \"title\": {\"standoff\": 15}, \"zerolinecolor\": \"white\", \"zerolinewidth\": 2}}}},\n",
       "                        {\"responsive\": true}\n",
       "                    ).then(function(){\n",
       "                            \n",
       "var gd = document.getElementById('cc7cd2a7-220b-4543-b039-2c479a4cbe40');\n",
       "var x = new MutationObserver(function (mutations, observer) {{\n",
       "        var display = window.getComputedStyle(gd).display;\n",
       "        if (!display || display === 'none') {{\n",
       "            console.log([gd, 'removed!']);\n",
       "            Plotly.purge(gd);\n",
       "            observer.disconnect();\n",
       "        }}\n",
       "}});\n",
       "\n",
       "// Listen for the removal of the full notebook cells\n",
       "var notebookContainer = gd.closest('#notebook-container');\n",
       "if (notebookContainer) {{\n",
       "    x.observe(notebookContainer, {childList: true});\n",
       "}}\n",
       "\n",
       "// Listen for the clearing of the current output cell\n",
       "var outputEl = gd.closest('.output');\n",
       "if (outputEl) {{\n",
       "    x.observe(outputEl, {childList: true});\n",
       "}}\n",
       "\n",
       "                        })\n",
       "                };\n",
       "                });\n",
       "            </script>\n",
       "        </div>"
      ]
     },
     "metadata": {},
     "output_type": "display_data"
    }
   ],
   "source": [
    "result_df = results[0]\n",
    "result_df['citing_context']\n",
    "df = result_df['data']\n",
    "_ = plot_text_sim(df['glove_cos']**8, df.index)\n",
    "_ = plot_text_sim(df['bow_itf_sim'], df.index)\n",
    "_ = plot_text_sim(df['bow_itf_sim'] * df['glove_cos']**8, df.index)\n",
    "_ = plot_text_sim(df['bow_itf_sim'] * df['bert_cos']**8, df.index)\n",
    "_ = plot_text_sim(df['bow_itf_sim'] * df['roberta_cos']**8, df.index)"
   ]
  },
  {
   "cell_type": "code",
   "execution_count": null,
   "metadata": {
    "ExecuteTime": {
     "end_time": "2020-06-28T17:13:43.692487Z",
     "start_time": "2020-06-28T17:13:43.687179Z"
    }
   },
   "outputs": [],
   "source": []
  },
  {
   "cell_type": "markdown",
   "metadata": {},
   "source": [
    "# TODO\n",
    " ## Dimensionality reduction of embeddings!!!!!!!!!!!!!!!!!1"
   ]
  }
 ],
 "metadata": {
  "kernelspec": {
   "display_name": "cogsci_python",
   "language": "python",
   "name": "cogsci_python"
  },
  "language_info": {
   "codemirror_mode": {
    "name": "ipython",
    "version": 3
   },
   "file_extension": ".py",
   "mimetype": "text/x-python",
   "name": "python",
   "nbconvert_exporter": "python",
   "pygments_lexer": "ipython3",
   "version": "3.8.2"
  }
 },
 "nbformat": 4,
 "nbformat_minor": 4
}
