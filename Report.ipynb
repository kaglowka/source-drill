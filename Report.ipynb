{
 "cells": [
  {
   "cell_type": "markdown",
   "metadata": {},
   "source": [
    "# SourceDrill – Project Report\n",
    "#### Krzysztof Główka, Katarzyna Koprowska"
   ]
  },
  {
   "cell_type": "markdown",
   "metadata": {},
   "source": [
    "The project idea was to automatically find the content of cited scientific article related the most to the citation context. We used [corpus] with annotated pairs of papers, narrowing it down to only one field: psychology."
   ]
  },
  {
   "cell_type": "markdown",
   "metadata": {},
   "source": [
    "## Data"
   ]
  },
  {
   "cell_type": "markdown",
   "metadata": {},
   "source": [
    "## Analysis"
   ]
  },
  {
   "cell_type": "markdown",
   "metadata": {},
   "source": [
    "### Embeddings"
   ]
  },
  {
   "cell_type": "code",
   "execution_count": 6,
   "metadata": {
    "hide_input": true
   },
   "outputs": [],
   "source": [
    "import ipyplot"
   ]
  },
  {
   "cell_type": "markdown",
   "metadata": {
    "hide_input": true
   },
   "source": [
    "We started by calculating cosine distance between GloVe embedding representing citation context and embeddings of cited text chunks. Displayed below are examples of 1-cosine distance on single sentences."
   ]
  },
  {
   "cell_type": "code",
   "execution_count": 5,
   "metadata": {
    "hide_input": true
   },
   "outputs": [
    {
     "data": {
      "text/html": [
       "<div style=\"display: inline-block; width: 320px; vertical-align: top; text-align: center;\"><h4 style=\"font-size: 12px\">0</h4><h4 style=\"font-size: 9px; padding-left: 10px; padding-right: 10px; width: 90%; word-wrap: break-word; white-space: normal;\">figures/sentence_0.png</h4><img src=\"figures/sentence_0.png\" style=\"margin: 1px; width: 300px; border: 2px solid #ddd;\"/></div><div style=\"display: inline-block; width: 320px; vertical-align: top; text-align: center;\"><h4 style=\"font-size: 12px\">1</h4><h4 style=\"font-size: 9px; padding-left: 10px; padding-right: 10px; width: 90%; word-wrap: break-word; white-space: normal;\">figures/sentence_1.png</h4><img src=\"figures/sentence_1.png\" style=\"margin: 1px; width: 300px; border: 2px solid #ddd;\"/></div><div style=\"display: inline-block; width: 320px; vertical-align: top; text-align: center;\"><h4 style=\"font-size: 12px\">2</h4><h4 style=\"font-size: 9px; padding-left: 10px; padding-right: 10px; width: 90%; word-wrap: break-word; white-space: normal;\">figures/sentence_2.png</h4><img src=\"figures/sentence_2.png\" style=\"margin: 1px; width: 300px; border: 2px solid #ddd;\"/></div>"
      ],
      "text/plain": [
       "<IPython.core.display.HTML object>"
      ]
     },
     "metadata": {},
     "output_type": "display_data"
    }
   ],
   "source": [
    "images_list = [\"figures/sentence_\"+str(i)+\".png\" for i in range(3)]\n",
    "ipyplot.plot_images(images_list, max_images=3, img_width=300)"
   ]
  },
  {
   "cell_type": "markdown",
   "metadata": {},
   "source": [
    "#### We tried to compare it with different chunk sizes."
   ]
  },
  {
   "cell_type": "markdown",
   "metadata": {},
   "source": [
    "Whole sections:"
   ]
  },
  {
   "cell_type": "code",
   "execution_count": 4,
   "metadata": {
    "hide_input": true,
    "scrolled": true
   },
   "outputs": [
    {
     "data": {
      "text/html": [
       "<div style=\"display: inline-block; width: 320px; vertical-align: top; text-align: center;\"><h4 style=\"font-size: 12px\">0</h4><h4 style=\"font-size: 9px; padding-left: 10px; padding-right: 10px; width: 90%; word-wrap: break-word; white-space: normal;\">figures/section_0.png</h4><img src=\"figures/section_0.png\" style=\"margin: 1px; width: 300px; border: 2px solid #ddd;\"/></div><div style=\"display: inline-block; width: 320px; vertical-align: top; text-align: center;\"><h4 style=\"font-size: 12px\">1</h4><h4 style=\"font-size: 9px; padding-left: 10px; padding-right: 10px; width: 90%; word-wrap: break-word; white-space: normal;\">figures/section_1.png</h4><img src=\"figures/section_1.png\" style=\"margin: 1px; width: 300px; border: 2px solid #ddd;\"/></div><div style=\"display: inline-block; width: 320px; vertical-align: top; text-align: center;\"><h4 style=\"font-size: 12px\">2</h4><h4 style=\"font-size: 9px; padding-left: 10px; padding-right: 10px; width: 90%; word-wrap: break-word; white-space: normal;\">figures/section_2.png</h4><img src=\"figures/section_2.png\" style=\"margin: 1px; width: 300px; border: 2px solid #ddd;\"/></div>"
      ],
      "text/plain": [
       "<IPython.core.display.HTML object>"
      ]
     },
     "metadata": {},
     "output_type": "display_data"
    }
   ],
   "source": [
    "images_list = [\"figures/section_\"+str(i)+\".png\" for i in range(3)]\n",
    "ipyplot.plot_images(images_list, max_images=3, img_width=300)"
   ]
  },
  {
   "cell_type": "markdown",
   "metadata": {},
   "source": [
    "3 sentences per chunk:"
   ]
  },
  {
   "cell_type": "code",
   "execution_count": 8,
   "metadata": {
    "hide_input": true,
    "scrolled": false
   },
   "outputs": [
    {
     "data": {
      "text/html": [
       "<div style=\"display: inline-block; width: 320px; vertical-align: top; text-align: center;\"><h4 style=\"font-size: 12px\">0</h4><h4 style=\"font-size: 9px; padding-left: 10px; padding-right: 10px; width: 90%; word-wrap: break-word; white-space: normal;\">figures/3_sent_0.png</h4><img src=\"figures/3_sent_0.png\" style=\"margin: 1px; width: 300px; border: 2px solid #ddd;\"/></div><div style=\"display: inline-block; width: 320px; vertical-align: top; text-align: center;\"><h4 style=\"font-size: 12px\">1</h4><h4 style=\"font-size: 9px; padding-left: 10px; padding-right: 10px; width: 90%; word-wrap: break-word; white-space: normal;\">figures/3_sent_1.png</h4><img src=\"figures/3_sent_1.png\" style=\"margin: 1px; width: 300px; border: 2px solid #ddd;\"/></div><div style=\"display: inline-block; width: 320px; vertical-align: top; text-align: center;\"><h4 style=\"font-size: 12px\">2</h4><h4 style=\"font-size: 9px; padding-left: 10px; padding-right: 10px; width: 90%; word-wrap: break-word; white-space: normal;\">figures/3_sent_2.png</h4><img src=\"figures/3_sent_2.png\" style=\"margin: 1px; width: 300px; border: 2px solid #ddd;\"/></div>"
      ],
      "text/plain": [
       "<IPython.core.display.HTML object>"
      ]
     },
     "metadata": {},
     "output_type": "display_data"
    }
   ],
   "source": [
    "images_list = [\"figures/3_sent_\"+str(i)+\".png\" for i in range(3)]\n",
    "ipyplot.plot_images(images_list, max_images=3, img_width=300)"
   ]
  },
  {
   "cell_type": "markdown",
   "metadata": {},
   "source": [
    "### Example"
   ]
  },
  {
   "cell_type": "code",
   "execution_count": 46,
   "metadata": {
    "hide_input": false
   },
   "outputs": [],
   "source": [
    "import pickle\n",
    "import warnings\n",
    "warnings.filterwarnings(\"ignore\")\n",
    "with open(\"first_results.p\", \"rb\") as file:\n",
    "    results = pickle.load(file)\n",
    "with open(\"preprocessed.p\", \"rb\") as file:\n",
    "    preprocessed = pickle.load(file)"
   ]
  },
  {
   "cell_type": "code",
   "execution_count": 47,
   "metadata": {},
   "outputs": [
    {
     "data": {
      "text/plain": [
       "'et al., 1985) , and Self-Efficacy (SE), which demonstrates whether an individual believes they can engage in or sustain a behavior change during difficult situations (Bandura, 1977) . Though educational interventions to increase patient motivation to pursue LDKT exist, Waterman et al. (2015) presents the development of the first theoretically consistent and validated TTM measures to assess the motivation of kidney patients to pursue LDKT. Further psychometric analysis, such as testing measurement invariance, could support the use of these measures across important'"
      ]
     },
     "execution_count": 47,
     "metadata": {},
     "output_type": "execute_result"
    }
   ],
   "source": [
    "preprocessed[\"original\"][\"citing_context\"]"
   ]
  },
  {
   "cell_type": "code",
   "execution_count": 48,
   "metadata": {},
   "outputs": [
    {
     "data": {
      "text/plain": [
       "\". Sleep deprivation has serious negative consequences for people's health and well-being: it causes hormonal and immunological disruptions that put people at risk for developing diabetes, obesity, cancer, cardiovascular disease, chronic infections, and neuropsychiatric diseases (Strine and Chapman, 2005; Irwin, 2015) . Sleep deprivation reduces health-related quality of life (Paiva et al., 2015) and contributes to increased mortality (Gallicchio and Kalesan, 2009 ). Sleep researchers have long focused on identifying medical causes for sleep insufficiency (e.g., sleep apnea, insomnia), but\""
      ]
     },
     "execution_count": 48,
     "metadata": {},
     "output_type": "execute_result"
    }
   ],
   "source": [
    "preprocessed[\"val_orig_paper_0\"][\"citing_context\"]"
   ]
  },
  {
   "cell_type": "code",
   "execution_count": 49,
   "metadata": {},
   "outputs": [
    {
     "data": {
      "text/plain": [
       "'significant or marginal (p < .10, two-tailed) differences in normative valence or arousal across all trial types in the experiment.Day 1: preexposure. In the preexposure session, participants first received training in reappraisal using psychological distancing (Ochsner & Gross, 2008; Trope & Liberman, 2010) . They were told that they would see a number of trials, each beginning with an instruction cue word presented in the center of a computer screen: either \"LOOK\" or \"DECREASE.\" The experimenter explained that when the cue was'"
      ]
     },
     "execution_count": 49,
     "metadata": {},
     "output_type": "execute_result"
    }
   ],
   "source": [
    "preprocessed[\"val_orig_paper_1\"][\"citing_context\"]"
   ]
  },
  {
   "cell_type": "markdown",
   "metadata": {},
   "source": [
    "#### Original: citing context linked to the cited paper"
   ]
  },
  {
   "cell_type": "code",
   "execution_count": 50,
   "metadata": {
    "hide_input": false,
    "scrolled": true
   },
   "outputs": [
    {
     "data": {
      "application/vnd.plotly.v1+json": {
       "config": {
        "plotlyServerURL": "https://plot.ly"
       },
       "data": [
        {
         "hovertext": [
          "Over the past decade , the incidence and prevalence of end<br>-stage renal disease ( ESRD ) , a condition where a patient<br>loses his or her kidney function , has continued to increase<br>in almost every country in the world ( United States Renal<br>Data System , 2012 ) .",
          "In the United States , for example , nearly 600,000 people<br>with ESRD must decide whether to continue life on dialysis<br>or have a deceased donor kidney transplant ( DDKT ) or<br>living donor kidney transplant ( LDKT ) ( United States<br>Renal Data System , 2012 )",
          ". Compared with life on dialysis , transplant is widely<br>recognized as the optimal treatment due to its association<br>with superior patient survival and quality of life ( Neipp<br>et al . , 2006 ; Orr et al . , 2007 ; United States Renal<br>Data System , 2012 ) .",
          "Patients who are able to receive a LDKT from a family member<br>or friend have the best treatment outcomes , living 46<br>percent longer than if they remained on dialysis and 8<br>percent longer than if they got a DDKT ( United States Renal<br>Data System , 2012 ) .",
          "With a shortage of deceased donor kidneys available for<br>transplant internationally ( United States Renal Data System<br>, 2012 ) , LDKT is also the only transplant option with the<br>potential for continued growth .",
          "For these reasons , community nephrologists , dialysis<br>professionals , and transplant staff are having<br>conversations with ESRD patients and their support networks<br>regularly about the treatment option of LDKT .",
          "The decision whether to pursue LDKT is complex .",
          "ESRD patients pursuing LDKT must complete a battery of<br>medical and psychological evaluations , weigh the risks and<br>benefits of LDKT for themselves and any donors , be ready<br>and willing to have another person in their life donate to<br>them , feel confident making efforts to find potential<br>living donors , and be willing to have surgery and adhere to<br>a postoperative care regimen .",
          "In addition to concerns and questions that patients have<br>about undergoing transplant surgery themselves ( Kurz et al<br>. , 2007 ; Waterman and Brennan , 2007 ; Waterman et al . ,<br>2006 ) , accepting a kidney from a living donor , especially<br>from a child of the patient , can be very difficult (<br>Waterman et al . , 2006 ) .",
          "Research also has shown that many patients feel vulnerable<br>asking others to donate a kidney to them ( Rodrigue et al .<br>, 2008a ) , and find taking specific actions like having<br>discussions with one 's family or friends to be very<br>challenging ( Boulware et al . , 2012 ; Waterman et al . ,<br>2006 ) .",
          "Finally , patients also have high levels of concern about<br>living donors losing their remaining kidney function ,<br>financial costs incurred by donors , and donors '<br>disappointment if the transplant fails ( Waterman et al . ,<br>2006 ) .",
          "Challenges to successful pursuit of LDKT also may be<br>heightened for ethnic/racial minority patients .",
          "Studies have shown that non -Whites feel very uncomfortable<br>discussing LDKT with others ( Rodrigue et al . , 2008a ;<br>Waterman et al . , 2006 ) .",
          "In addition , Black kidney patients are more likely to have<br>illnesses like diabetes and hypertension that run in<br>families , reducing the likelihood of locating potential<br>living donors within their families ( Waterman et al . ,<br>2010b ) .",
          "Mistrust of health -care providers is also more common for<br>Blacks than Whites ( Boulware et al . , 2003 ) , which may<br>affect their trust in physicians ' recommendations for LDKT<br>and cause suspicion of LDKT itself",
          "( Boulware et al . , 2002",
          "( Boulware et al . , , 2003 .",
          "Currently , minority patients are less likely to receive<br>LDKTs compared to White patients ( Gore et al . , 2009 ) .",
          "Educational interventions to increase transplant knowledge<br>and motivation to pursue LDKT have shown some success at<br>increasing rates of LDKT ( Boulware et al . , 2012 ;<br>Rodrigue et al . , 2008b ) .",
          "However , as providers initiate conversations about the<br>possibility of LDKT , having the ability to accurately<br>assess individual patients ' readiness to pursue LDKT ,<br>weighing of the risks and benefits of LDKT , and confidence<br>in their own ability to find a living donor is very<br>important .",
          "One theory of behavioral change , the transtheoretical model<br>( TTM ) , has already been successfully applied to<br>transplant decision -making , specifically organ donation<br>decision -making ( Hall et al . , 2007 ; Robbins et al . ,<br>2001 ) and whether ESRD patients would pursue DDKT (<br>Waterman et al . , 2010a ) .",
          "The TTM explains motivation and intentional behavior change<br>based on thoughts , experiences , and behaviors and<br>comprises four key constructs : Stage of Change ( SOC ) ,<br>which measures how patients ' motivation to take specific<br>behavior changes through time ( Prochaska and Di Clemente ,<br>1983 ) ;",
          "Decisional Balance ( DB ) , an assessment of how a patient<br>weighs the Pros and Cons of behavior change ( Velicer et al<br>. , 1985 ) ;",
          "Self -Efficacy ( SE ) , which captures whether an individual<br>believes they can make or sustain a behavior change in<br>difficult situations ( Bandura , 1977 ) ; and Processes of<br>Change , which capture experiential and behavioral<br>strategies used to facilitate behavior change .",
          "The validity and reliability of these decision -making<br>constructs have been well evidenced ( Hall and Rossi , 2008<br>) .",
          "This study focuses on the SOC , DB , and SE constructs of<br>the TTM which , to date , have never been examined for their<br>efficacy in measuring the LDKT decision -making of ESRD<br>patients .",
          "We recruited two independent , racially diverse samples of<br>ESRD patients from dialysis centers and Barnes -Jewish<br>Transplant Center ( BJTC ) in St Louis , Missouri , to<br>evaluate the fit of the TTM and its constructs for measuring<br>patients ' LDKT decision -making ( Sample 1 and Sample 2 ) .",
          "Patients were invited to participate in the study by<br>telephone if they were 18 years or older , English -speaking<br>, could hear and cognitively understand the terms of consent<br>, had not received a previous kidney transplant or were told<br>they were ineligible to receive a transplant , and who had<br>poor kidney function requiring dialysis or immediate pursuit<br>of transplant .",
          "Each patient volunteered to participate in the study without<br>remuneration .",
          "Recruitment and survey procedures were approved by the<br>Internal Review Board ( # 09-1294 ) at Washington University<br>School of Medicine in St Louis , Missouri .",
          "In addition , Medical Directors and dialysis center Clinical<br>Research Departments approved participation by dialysis<br>patients .",
          "Sample 1 -Telephone surveys of Sample 1 were conducted from<br>November 2009 to August 2011 .",
          "Telephone contact information for Sample 1 was obtained for<br>627 patients who were in all phases of transplant evaluation<br>at BJTC ( n = 393 ) and receiving dialysis care within<br>participating local centers ( n = 234 ) .",
          "Overall , 30 percent ( n = 187 ) could not be reached after<br>multiple attempts .",
          "Among the 440 patients reached , 279 ( 63.4 % ) completed<br>the survey , 64 ( 14.5 % ) refused , and 99 ( 22.5 % ) were<br>ineligible based on study exclusion criteria .",
          "The majority of participants were on dialysis ( 82 % ) and<br>male ( 50.2 % ) , with an average age of 54 years ( standard<br>deviation ( SD ) = 12.6 years ) .",
          "Patients varied by race/ethnicity : from 49.6 percent White<br>, 47.4 percent Black , 1.1 percent Hispanic/Latino , 0.4<br>percent Asian , 0.7 percent American Indian or Alaska native<br>, and 0.8 percent multiracial/other .",
          "Educational level varied , with some having a college degree<br>or postcollege training ( 25.4 % ) , a high school diploma<br>or some college or vocational school training ( 60.2 % ) ,<br>or less than a high school education ( 14.4% ) .Sample 2<br>-Telephone surveys of Sample 2 were conducted between<br>January and April 2012 .",
          "Contact information was obtained for 478 patients , 12.8<br>percent ( n = 61 ) of whom could not be reached .",
          "Among the remaining 417 patients reached , 204 ( 48.9 % )<br>completed the survey , 124 ( 29.7 % ) refused , and 89 (<br>21.3 % ) were ineligible based on study exclusion criteria .",
          "Most participants were on dialysis ( 74 % ) , male ( 65 % )<br>, and had a mean age of 54 years ( SD = 12.4 years ) .",
          "Patients were 64.7 percent White , 33.3 percent Black , 0.5<br>percent Hispanic / Latino , 0.5 percent Vietnamese , and 1.0<br>percent multiracial/other .",
          "A group of health psychologists and professionals with<br>expertise in measure development , TTM , kidney<br>transplantation , and organ donation reviewed previous LDKT<br>formative research",
          "( Waterman et al . , 2004a",
          "( Waterman et al . , , 2004b and developed a set of<br>preliminary measures of LDKT SOC , DB , and SE .",
          "A detailed description of the development of identical TTM<br>constructs for DDKT decision -making has been previously<br>published by the authors ( Waterman et al . , 2010a ) .",
          "Demographics and clinical characteristics -Patients '<br>demographic and clinic characteristics were collected ,<br>including age , sex , race and ethnicity , level of<br>education , and the length of time the patient was on<br>dialysis . SOC -Sample 1 -SOC assesses patients ' readiness<br>to pursue LDKT .",
          "Consistent with past research ( Prochaska and Di Clemente ,<br>1983 ) , a series of questions were developed to determine<br>patients ' stage of readiness to pursue LDKT .",
          "In Sample 1 , pursuing LDKT was defined as a person being<br>willing to do three things : ( 1 ) accept a kidney from a<br>living donor , ( 2 ) be evaluated for transplant , and ( 3 )<br>take actions to get the word out about their need for a<br>living donor .",
          "After hearing this general LDKT description , patients chose<br>one of four mutually exclusive categories that defined their<br>own stage of readiness to get a LDKT : Precontemplation (<br>not considering getting a LDKT in the next 6 months ) ,<br>Contemplation ( considering taking actions to get a LDKT in<br>the next 6 months ) , Preparation ( preparing to take<br>actions to get a LDKT in the next 30 days ) , and Action (<br>taking actions to find living donors and get a LDKT ) .",
          "Following the SOC algorithm , participants were presented<br>with a list of seven possible LDKT actions ( e.g . accept<br>someone 's offer to be a living donor , share need for<br>living donor with large community ) and , for each action ,<br>indicated whether they were willing to take this action (<br>yes/no ) .SOC -Sample 2 -Participant feedback suggested that<br>the wording and order of the SOC assessment questions were<br>somewhat confusing .",
          "To further improve the clarity of the SOC algorithm and ease<br>of administration , for Sample 2 , participants were first<br>presented with a list of seven LDKT actions ( Table 1 ; for<br>example , accept someone 's offer to be a living donor ,<br>share need for living donor with large community ) and for<br>each possible LDKT action asked whether they have \" already<br>done this , \" \" are planning to do this , \" or \" do not plan<br>to do this . \"",
          "Then , patients were asked to choose one of the four<br>following categories to define their readiness to take LDKT<br>actions : Precontemplation ( I am not considering taking<br>actions in the next 6 months to pursue living donation ) ,<br>Contemplation ( I am considering taking actions in the next<br>6 months to pursue living donation ) , Preparation ( I am<br>preparing to take actions in the next 30 days to pursue<br>living donation ) , Action ( I am taking actions to pursue<br>living donation ) .DB -Consistent with previous research , a<br>24 -item DB measure was created to assess the Pros and Cons<br>of pursuing LDKT ( Velicer et al . , 1985 ) and administered<br>in Sample 1 .",
          "This measure provides information about the relative<br>importance an individual places on specific positive<br>outcomes ( e.g . living donation can happen more quickly<br>than deceased donation ) and negative outcomes ( e.g . the<br>living donor could be harmed by surgery ) .",
          "Patients were asked to rate , \" How important is this<br>statement to your decision about living donor transplant ? \"<br>on a 5 -point scale ranging from , \" not important \" ( 1 )<br>to \" extremely important \" ( 5 ) .",
          "Sample 2 administered only a reduced measure set of 12 items<br>determined after analysis of Sample 1 ( Table 2 ) .",
          "SE -SE captures whether an individual believes they can make<br>or sustain a behavior change in difficult situations (<br>Bandura , 1977 ; Velicer et al . , 1990 ) .",
          "For Sample 1 , an 11 -item measure was created to assess an<br>individual 's degree of confidence in their ability to<br>pursue LDKT in a variety of difficult situations ( e.g . You<br>asked someone to donate and they turned you down ) .",
          "Patients were asked to rate , \" How confident are you that<br>you could get a living donor transplant ? \" on a 5 -point<br>scale , ranging from \" not at all confident \" ( 1 ) to \"<br>completely confident \" ( 5 ) .",
          "We conducted four phases of analysis using a sequential<br>method for scale development ( Comrey , 1988 ; Goldberg and<br>Velicer , 2006 ; Jackson , 1971 ; Redding et al . , 2006 )<br>to assess the reliability and validity of the new SOC , DB ,<br>and SE measures for LDKT : ( 1 ) SOC measure development , (<br>2 ) exploratory analyses for DB and SE , ( 3 ) confirmatory<br>analyses for DB and SE , and ( 4 ) external validation with<br>the SOC measure . SOC measure development ( Samples 1 and 2<br>) -After focus groups were conducted to understand patients<br>' readiness to pursue LDKT generally and take specific<br>actions to find living donors , two different measures were<br>created to measure SOC and assessed with different samples<br>of patients to ensure clarity ( Waterman et al . , 2006 ) .",
          "Descriptive analyses were conducted to examine the<br>proportion of individuals in each SOC in Samples 1 and 2 .",
          "Then , each of the seven possible LDKT actions in Sample 2<br>was collapsed into two categories ( \" already done \" vs \"<br>have not done \" ( planning to do this or not planning to do<br>this ) ) .",
          "A series of chi -square tests were conducted to assess<br>whether individuals in different stages of LDKT readiness<br>differed significantly on whether they had completed each<br>behavior .",
          "In addition , all seven possible LDKT actions were included<br>in a logistic regression model to determine which actions<br>were the strongest predictors of being in the Action stage<br>compared to one of the pre -Action stages ( Precontemplation<br>, Contemplation , or Preparation ) .Exploratory phase (<br>Sample 1 ) -Exploratory factor analysis for the DB and SE<br>item sets was conducted using principle components analysis<br>( PCA ) with varimax rotation on the item intercorrelation<br>matrices for a random half of participants from Sample 1 ( n<br>= 134 ) .",
          "The number of components retained was determined using the<br>minimum average partial procedure ( MAP ) ( Velicer , 1976 )<br>and parallel analysis ( Horn , 1965 ; Zwick and Velicer ,<br>1986 ) .",
          "The dimensional and psychometric properties of each measure<br>were assessed .",
          "The aims of these exploratory analyses were to : ( 1 )<br>determine the number of components present and estimate the<br>correlation between them ; ( 2 ) provide estimates of the<br>factor loadings , eliminate complex items ( component<br>loadings ≥ 0.40 on both components ) , and items with poor<br>loadings ( < 0.40 on both components ) ; and ( 3 ) estimate<br>internal consistency for each component using Cronbach 's<br>alpha .",
          "Furthermore , final item selection was determined on the<br>basis of item clarity , simple expression of the idea ,<br>minimization of redundancy with other selected items , and<br>being representative of the conceptual definitions of the<br>constructs .",
          "Confirmatory phase ( Samples 1 and 2 ) -Confirmatory factor<br>analysis for the DB and SE scales using structural equation<br>modeling in EQS Structural Equation Modeling Software (<br>Bentler and Wu , 1993 ) was conducted on the second random<br>50 percent of Sample 1 ( n = 145 ) and also reconfirmed with<br>all participants from Sample 2 ( N = 204 ) .",
          "Multiple models were tested and compared to determine the<br>best fitting model using maximum likelihood ( ML ) as the<br>estimator of fit .",
          "Four different fit indices were examined for each of the<br>alternative models .",
          "These included ( 1 ) the likelihood ratio chi -square test<br>statistic ; ( 2 ) the goodness -of -fit index ( GFI ) ; ( 3<br>) the comparative fit index ( CFI ) ; and ( 4 ) the average<br>absolute standardized residual ( AASR ) statistic .",
          "Traditionally , values of GFI and CFI above 0.80 indicate<br>good fit , while values above 0.90 indicate excellent fit",
          "( Tabachnick and Fidell , 2001 ). For AASR , values below<br>0.06 indicate excellent fit",
          "( Tabachnick and Fidell , 2001 ). All four fit indices were<br>compared across models .",
          "External validation -SOC was further validated using Sample<br>2 data by examining the relationships of SOC with DB and SE<br>via multivariate analysis of variance ( MANOVA ) and<br>analysis of variance .",
          "The 279 patients from Sample 1 were classified by their LDKT<br>SOC , with patients ranging from Precontemplation ( 29.5 % )<br>, Contemplation ( 20.5 % ) , Preparation ( 9.4 % ) , to<br>Action ( 40.6 % ) .",
          "After modification of the SOC wording , the 204 patients<br>from Sample 2 ranged in stages of LDKT readiness similarly ,<br>from Precontemplation ( 28.2 % ) , Contemplation ( 19.8 % )<br>, Preparation ( 11.9 % ) , to Action ( 40.1% ) .A series of<br>chi -square tests revealed that individuals in different<br>stages of readiness to receive a living donor transplant<br>differed significantly on whether they had completed each of<br>the seven LDKT behaviors , with patients in Action being<br>most likely to have done five of the seven behaviors",
          "( p < 0.05 ; Table 1 ). Only one LDKT behavior , \" Send a<br>letter or email about your interest in living donation to<br>important people in your life ? \" did not vary significantly<br>by SOC.Using logistic regression , a test of the full model<br>against a constant only model was statistically significant<br>, indicating that the seven possible LDKT actions as a set<br>reliably distinguished between being pre -Action versus<br>Action SOC ( chi -square = 34.77 , p < 0.001 with df = 7 ) .",
          "Nagelkerke 's R 2 of 0.214 indicated a moderate relationship<br>between prediction and grouping .",
          "The Wald criterion demonstrated that only three behaviors<br>made a significant contribution to prediction of being in<br>Action versus pre -Action : \" Accept someone 's offer to<br>donate a kidney if they volunteered \" ( odds ratio ( OR ) =<br>2.23 ( 1.07 , 4.65 ) , p < 0.05 ) ;",
          "\" Share your need for a living donor with a large community<br>through a general announcement \" ( OR = 2.38 ( 1.11 , 5.10 )<br>, p < 0.05 ) ; and \" Ask a potential donor directly to be<br>tested \" ( OR = 2.47 ( 1.22 , 4.98 ) , p < 0.05 ) .",
          "DB -The pool of 24 items was reduced to 12 items .",
          "MAP and parallel analysis indicated that a two -component<br>solution best described the Pros and Cons factors .",
          "Table 2 presents the items , exploratory factor loadings ,<br>and coefficient alpha for the Pros and Cons scales .",
          "The two factors had good item loadings ranging from 0.6 to<br>0.8 and contained a satisfactory number of items ( 6 ) (<br>Guadagnoli and Velicer , 1988 ; Velicer , 1976 )",
          ". Scale scores were derived from the sum of the individual<br>item scores .",
          "These scales were shown to be internally consistent and<br>correlated ( r = 0.28 ) .",
          "This final two -component solution showed good stability and<br>accounted for 51.26 percent of the total item variance .",
          "Table 3 presents the means and SDs for Pros and Cons by SOC<br>.",
          "SE -The pool of 11 items was reduced to 6 items .",
          "MAP and parallel analysis indicated that a one -component<br>solution best described the data .",
          "Table 2 presents the items , exploratory factor loadings ,<br>and coefficient alpha for the SE scale .",
          "This final one -component solution showed good stability and<br>accounted for 67.83 percent of the total item variance .",
          "DB -In both the random half of Sample 1 and in all of Sample<br>2 , four models were tested: ( 1 ) null model ( suggesting<br>no latent factors and used as a comparative model ) , ( 2 )<br>one factor , ( 3 ) two uncorrelated Pros and Cons factors ,<br>and ( 4 ) two correlated Pros and Cons factors .",
          "In Sample 1 , the two -factor correlated model demonstrated<br>the best fit , χ 2 ( 53 ) = 68.45 , p > 0.05 , CFI = 0.97 ,<br>GFI = 0.92 , and AASR = 0.04 .",
          "The correlation between the Pros and Cons scales was 0.25 .",
          "In Sample 2 , the two -factor uncorrelated model<br>demonstrated the best fit , χ 2 ( 54 ) = 94.06 , p < 0.01 ,<br>CFI = 0.95 , GFI = 0.93 , and AASR = 0.04 .",
          "The confirmatory factor loadings and coefficient alpha from<br>both samples are presented in Table 2 , and Table 3 presents<br>the means and SDs SOC .",
          "SE -In both the second random half of Sample 1 and in all of<br>Sample 2 , two models were tested : the null model and a one<br>-factor model .",
          "In Sample 1 , the one -factor model demonstrated the best<br>fit .",
          "Results produced strong factor loadings and excellent model<br>fit , ( χ 2 ( 9 ) = 26.501 , p < 0.01 , CFI = 0.96 , GFI =<br>0.94 , and AASR = 0.02 ) .",
          "Similarly , in Sample 2 , the one -factor model demonstrated<br>the best fit with strong factor loadings and excellent model<br>fit , ( χ 2 ( 9 ) = 43.45 , p < 0.01 , CFI = 0.95 , GFI =<br>0.93 , and AASR = 0.04 ) .",
          "Results indicated that the Pros increased 0.92 SD , Cons<br>decreased 0.29 SD , and SE increased 0.80 SD from<br>Precontemplation to Action , which is consistent with the<br>typical changes found across behaviors in meta -analytic<br>research ( Hall and Rossi , 2004 ; Prochaska et al . , 1994<br>) ( see Figure 1 )",
          "While educational interventions to increase ESRD patient<br>motivation to pursue LDKT are underway in transplant and<br>dialysis centers nationally ( Boulware et al . , 2012 ;<br>Rodrigue et al . , 2008a ) , there are no validated measures<br>of LDKT decision -making .",
          "Using the TTM of Behavioral Change as a theoretical<br>foundation , we developed three new measures of SOC , DB ,<br>and SE .",
          "This study is the first to demonstrate that the TTM<br>theoretical foundation and key TTM constructs are well<br>suited to assess the decision -making of kidney patients<br>considering whether to pursue LDKT.Successful receipt of<br>LDKT requires the involvement of another person -a matching<br>living donor .",
          "One important question raised by this study is whether<br>patient decision -making related to this type of behavior<br>could be guided by the constructs of the TTM .",
          "We found that the staging assessment for pursuit of LDKT is<br>consistent with staging assessments for many other complex<br>behaviors .",
          "The measure development process led to a clear and ordered<br>assessment of LDKT SOC , where patients in Action for LDKT<br>readiness reported taking specific actions like asking a<br>potential living donor to be evaluated .",
          "These actions may or may not result in finding a matching<br>living donor , thus patients can shift in their LDKT<br>readiness over time .",
          "In both Samples 1 and 2 , despite slight variation in<br>question wording and order differences , there was<br>remarkable similarity between the percentage of patients in<br>each SOC across ESRD patients , suggesting the readiness<br>construct meaningfully applies to LDKT decision -making and<br>is robust enough to withstand variation in measurement .",
          "The validated SOC measure asks how ready a patient is to<br>take LDKT actions generally , and then provides additional<br>clarity on the specific LDKT actions an individual patient<br>is willing to take .",
          "Some behaviors , like generally talking to people about one<br>'s interest in transplant , sharing educational materials<br>about living donation with people in one 's life , and<br>allowing others to share their need for a living donor<br>kidney , are generally more common for all patients to be<br>ready to take .",
          "However , three LDKT actions , accepting someone 's offer to<br>donate a kidney , sharing their need for a living donor with<br>a large community through a general announcement , and<br>asking a potential donor to be tested , are significantly<br>more likely to be taken when a patient is in Action ,<br>compared to patients in pre -Action stages .",
          "Thus , when tailoring discussion and educational feedback<br>for patients in early stages of readiness , recommendations<br>to take more common LDKT actions like generally talking to<br>people about their interest in living donation and sharing<br>educational materials about LDKT with people in their life<br>may be more ideal .",
          "However , patients in Action will more likely benefit from<br>additional discussion and practical assistance with doing<br>behaviors like getting the word out about their need for a<br>living donor to large groups of individuals , asking<br>potential donors directly to be evaluated , and accepting<br>someone 's offer to donate .",
          "Future research must continue to learn more about the<br>different patterns of LDKT actions and how they relate to<br>pursuit and successful receipt of LDKT.In addition , brief ,<br>internally consistent measures of DB and SE for pursuit of<br>LDKT were developed .",
          "Using data from Sample 1 , evaluations of the DB Pros , Cons<br>, and SE scales by stage were largely consistent with<br>previous TTM research in DDKT ( Waterman et al . , 2010a )<br>and in other health behavior applications ( Hall and Rossi ,<br>2008 ) .",
          "Study 2 results found that increases in Pros of LDKT from<br>Precontemplation ( 0.92 SD found ; 1 SD expected ) and<br>decreases in Cons of LDKT from Precontemplation ( 0.29 SD<br>found ; 0.5 SD expected ) were consistent with patterns<br>shown in other meta -analytic work with many other behaviors<br>( Hall and Rossi , 2004 ; Prochaska et al . , 1994 ) .",
          "Although they build upon the DB measure developed for<br>pursuit of DDKT ( Waterman et al . , 2010a ) , the Pros and<br>Cons of LDKT pursuit focus more on the elements ( i.e .<br>interpersonal challenges ) that are specific to the living<br>donor process .",
          "After an assessment of DB , a discussion with ESRD patients<br>that emphasizes the LDKT Pros and de -emphasizes the Cons<br>may help them become more ready to pursue LDKT.As predicted<br>, the SE measure developed in this study emerged as a single<br>, brief internally consistent scale assessing situational SE<br>or confidence to pursue LDKT in a variety of difficult<br>situations .",
          "In their 2001 meta -analysis examining SE in 25 studies<br>across 10 health behaviors , Rossi and Redding ( 2001 )<br>found that SE increased significantly in a linear or<br>curvilinear fashion across stages of change for the majority<br>of these studies .",
          "Across both samples presented here , scores on the SE<br>measure increased approximately 0.80 SD from<br>Precontemplation to Action .",
          "The items in the scale most reflect the challenges that<br>patients will likely face if they actively pursue LDKT with<br>particular emphasis on reaching out to potential donors .",
          "This study had several limitations .",
          "First , although our SOC measure regards patients ' overall<br>pursuit of LDKT , this behavior can be divided into three<br>separate behaviors : acceptance of any kidney transplant (<br>regardless of the organ source ) , getting evaluated for<br>transplant , and taking actions to find a living donor .",
          "Future research should examine how well our measure<br>adequately represents these separate behaviors .",
          "Second , our samples were both crosssectional .",
          "Although previous longitudinal studies investigating the<br>behavior of TTM constructs have supported the findings of<br>other cross -sectional studies ( Prochaska , 1994 ) , future<br>longitudinal studies should be conducted to examine the<br>measures developed here .",
          "Third , our primarily White and Black ESRD patient samples<br>were recruited from a single transplant center and a few<br>dialysis centers in the midwestern United States and may not<br>represent the attitudes and dispositions of ESRD patients<br>nationally .",
          "Further validation of these measures with a nationally<br>representative sample of ESRD patients , particularly<br>Hispanics/Latinos , is an important next step .",
          "Invariance testing of these measures across important<br>demographic subgroups ( e.g . Black versus White ) groups<br>should also occur .",
          "Finally , while our research strongly supports the<br>application of the TTM constructs to pursuit of LDKT ,<br>future research on ESRD patients ' and their support<br>networks ' views and attitudes on LDKT may yield other<br>relevant dimensions for study as well as introduce new items<br>that may improve the LDKT Pros , Cons , and SE measures .",
          "Further research may also lead to refinements of the<br>assessment of LDKT action steps .",
          "To treat the growing number of ESRD patients optimally , we<br>must increase the rates of LDKT nationally .",
          "Valid TTM -based measures that let us accurately assess<br>patients ' initial LDKT readiness , DB , and SE and track<br>shifts in decision -making as their kidney function worsens<br>may help clinicians have more effective conversations with<br>patients .",
          "Building upon the DDKT decision -making measures previously<br>developed by this team ( Waterman et al . , 2010a ) , after<br>this study , a complete set of theoretically consistent<br>transplant decision -making measures have now been validated<br>.",
          "These LDKT patient decision -making measures can be<br>incorporated into LDKT interventions to better honor the<br>needs of individual kidney patients and assess the<br>effectiveness of these interventions .",
          "Pros , Cons and Self -Efficacy to pursue living donation by<br>Stage of Change to pursue living donation ( Sample 2 ) .",
          "PC : Precontemplation ;",
          "C : Contemplation ;",
          "PR : Preparation ;",
          "A : Action .",
          "T -scores were weighted based on Stage of Change proportions<br>to equalize the distribution and allow for more accurate<br>comparisons across the Stages of Change ."
         ],
         "type": "bar",
         "x": [
          0,
          1,
          2,
          3,
          4,
          5,
          6,
          7,
          8,
          9,
          10,
          11,
          12,
          13,
          14,
          15,
          16,
          17,
          18,
          19,
          20,
          21,
          22,
          23,
          24,
          25,
          26,
          27,
          28,
          29,
          30,
          31,
          32,
          33,
          34,
          35,
          36,
          37,
          38,
          39,
          40,
          41,
          42,
          43,
          44,
          45,
          46,
          47,
          48,
          49,
          50,
          51,
          52,
          53,
          54,
          55,
          56,
          57,
          58,
          59,
          60,
          61,
          62,
          63,
          64,
          65,
          66,
          67,
          68,
          69,
          70,
          71,
          72,
          73,
          74,
          75,
          76,
          77,
          78,
          79,
          80,
          81,
          82,
          83,
          84,
          85,
          86,
          87,
          88,
          89,
          90,
          91,
          92,
          93,
          94,
          95,
          96,
          97,
          98,
          99,
          100,
          101,
          102,
          103,
          104,
          105,
          106,
          107,
          108,
          109,
          110,
          111,
          112,
          113,
          114,
          115,
          116,
          117,
          118,
          119,
          120,
          121,
          122,
          123,
          124,
          125,
          126,
          127,
          128,
          129,
          130,
          131,
          132,
          133,
          134,
          135,
          136,
          137,
          138,
          139,
          140,
          141,
          142,
          143,
          144
         ],
         "y": [
          0.2792033553123474,
          0.22682446241378784,
          0.17109721899032593,
          0.2071765661239624,
          0.24566876888275146,
          0.21410119533538818,
          0.34826260805130005,
          0.2154369354248047,
          0.2195056676864624,
          0.18495476245880127,
          0.18358302116394043,
          0.20430994033813477,
          0.24664926528930664,
          0.19736546277999878,
          0.22831541299819946,
          0.4064366817474365,
          0.38605308532714844,
          0.20725053548812866,
          0.19356966018676758,
          0.1576351523399353,
          0.13986092805862427,
          0.3450545072555542,
          0.21924006938934326,
          0.19073867797851562,
          0.206895112991333,
          0.22055739164352417,
          0.2373315691947937,
          0.28294771909713745,
          0.32318490743637085,
          0.3432871699333191,
          0.3187199831008911,
          0.33931195735931396,
          0.2957591414451599,
          0.3001285791397095,
          0.3064400553703308,
          0.3506295084953308,
          0.3547496199607849,
          0.30840176343917847,
          0.31713563203811646,
          0.3037635087966919,
          0.32378530502319336,
          0.3667028546333313,
          0.2510647177696228,
          0.3498905301094055,
          0.24398499727249146,
          0.2161300778388977,
          0.2121906280517578,
          0.19254076480865479,
          0.18561482429504395,
          0.19522589445114136,
          0.2117701768875122,
          0.21885448694229126,
          0.18268811702728271,
          0.17850106954574585,
          0.27670806646347046,
          0.30564093589782715,
          0.21140331029891968,
          0.1922627091407776,
          0.2831871509552002,
          0.1709344983100891,
          0.28931623697280884,
          0.2990797758102417,
          0.2445969581604004,
          0.22612255811691284,
          0.26784002780914307,
          0.35099029541015625,
          0.20952081680297852,
          0.23886501789093018,
          0.26261645555496216,
          0.2857629656791687,
          0.31821197271347046,
          0.24312537908554077,
          0.27845025062561035,
          0.24913686513900757,
          0.25817155838012695,
          0.2448430061340332,
          0.30304473638534546,
          0.20464807748794556,
          0.2185412049293518,
          0.27662956714630127,
          0.42202281951904297,
          0.32467514276504517,
          0.3691040873527527,
          0.23927587270736694,
          0.30021756887435913,
          0.27712541818618774,
          0.34862035512924194,
          0.26088178157806396,
          0.27426427602767944,
          0.33175718784332275,
          0.3808753490447998,
          0.2788347601890564,
          0.30910712480545044,
          0.2751534581184387,
          0.2483583688735962,
          0.26771920919418335,
          0.3372771143913269,
          0.2773711681365967,
          0.2641134262084961,
          0.2749205231666565,
          0.3138977885246277,
          0.29262202978134155,
          0.26566559076309204,
          0.2079285979270935,
          0.152066171169281,
          0.23787826299667358,
          0.16015201807022095,
          0.2396058440208435,
          0.19649463891983032,
          0.19708269834518433,
          0.19279223680496216,
          0.20678532123565674,
          0.1705833077430725,
          0.21926343441009521,
          0.17675131559371948,
          0.17008143663406372,
          0.1866641640663147,
          0.14465320110321045,
          0.19277191162109375,
          0.20053225755691528,
          0.1423162817955017,
          0.14063739776611328,
          0.1975671648979187,
          0.2699306607246399,
          0.25440454483032227,
          0.3946763873100281,
          0.1688922643661499,
          0.28671252727508545,
          0.335125207901001,
          0.22269964218139648,
          0.2425398826599121,
          0.2325795292854309,
          0.22793126106262207,
          0.19439268112182617,
          0.2394128441810608,
          0.2668530344963074,
          0.17280948162078857,
          0.22679626941680908,
          0.1873357892036438,
          0.2436770796775818,
          0.3614935874938965,
          0.36513322591781616,
          0.3783084750175476,
          0.39317214488983154,
          0.2938203811645508
         ]
        }
       ],
       "layout": {
        "hoverlabel": {
         "bgcolor": "white",
         "font": {
          "family": "Rockwell",
          "size": 13
         }
        },
        "template": {
         "data": {
          "bar": [
           {
            "error_x": {
             "color": "#2a3f5f"
            },
            "error_y": {
             "color": "#2a3f5f"
            },
            "marker": {
             "line": {
              "color": "#E5ECF6",
              "width": 0.5
             }
            },
            "type": "bar"
           }
          ],
          "barpolar": [
           {
            "marker": {
             "line": {
              "color": "#E5ECF6",
              "width": 0.5
             }
            },
            "type": "barpolar"
           }
          ],
          "carpet": [
           {
            "aaxis": {
             "endlinecolor": "#2a3f5f",
             "gridcolor": "white",
             "linecolor": "white",
             "minorgridcolor": "white",
             "startlinecolor": "#2a3f5f"
            },
            "baxis": {
             "endlinecolor": "#2a3f5f",
             "gridcolor": "white",
             "linecolor": "white",
             "minorgridcolor": "white",
             "startlinecolor": "#2a3f5f"
            },
            "type": "carpet"
           }
          ],
          "choropleth": [
           {
            "colorbar": {
             "outlinewidth": 0,
             "ticks": ""
            },
            "type": "choropleth"
           }
          ],
          "contour": [
           {
            "colorbar": {
             "outlinewidth": 0,
             "ticks": ""
            },
            "colorscale": [
             [
              0,
              "#0d0887"
             ],
             [
              0.1111111111111111,
              "#46039f"
             ],
             [
              0.2222222222222222,
              "#7201a8"
             ],
             [
              0.3333333333333333,
              "#9c179e"
             ],
             [
              0.4444444444444444,
              "#bd3786"
             ],
             [
              0.5555555555555556,
              "#d8576b"
             ],
             [
              0.6666666666666666,
              "#ed7953"
             ],
             [
              0.7777777777777778,
              "#fb9f3a"
             ],
             [
              0.8888888888888888,
              "#fdca26"
             ],
             [
              1,
              "#f0f921"
             ]
            ],
            "type": "contour"
           }
          ],
          "contourcarpet": [
           {
            "colorbar": {
             "outlinewidth": 0,
             "ticks": ""
            },
            "type": "contourcarpet"
           }
          ],
          "heatmap": [
           {
            "colorbar": {
             "outlinewidth": 0,
             "ticks": ""
            },
            "colorscale": [
             [
              0,
              "#0d0887"
             ],
             [
              0.1111111111111111,
              "#46039f"
             ],
             [
              0.2222222222222222,
              "#7201a8"
             ],
             [
              0.3333333333333333,
              "#9c179e"
             ],
             [
              0.4444444444444444,
              "#bd3786"
             ],
             [
              0.5555555555555556,
              "#d8576b"
             ],
             [
              0.6666666666666666,
              "#ed7953"
             ],
             [
              0.7777777777777778,
              "#fb9f3a"
             ],
             [
              0.8888888888888888,
              "#fdca26"
             ],
             [
              1,
              "#f0f921"
             ]
            ],
            "type": "heatmap"
           }
          ],
          "heatmapgl": [
           {
            "colorbar": {
             "outlinewidth": 0,
             "ticks": ""
            },
            "colorscale": [
             [
              0,
              "#0d0887"
             ],
             [
              0.1111111111111111,
              "#46039f"
             ],
             [
              0.2222222222222222,
              "#7201a8"
             ],
             [
              0.3333333333333333,
              "#9c179e"
             ],
             [
              0.4444444444444444,
              "#bd3786"
             ],
             [
              0.5555555555555556,
              "#d8576b"
             ],
             [
              0.6666666666666666,
              "#ed7953"
             ],
             [
              0.7777777777777778,
              "#fb9f3a"
             ],
             [
              0.8888888888888888,
              "#fdca26"
             ],
             [
              1,
              "#f0f921"
             ]
            ],
            "type": "heatmapgl"
           }
          ],
          "histogram": [
           {
            "marker": {
             "colorbar": {
              "outlinewidth": 0,
              "ticks": ""
             }
            },
            "type": "histogram"
           }
          ],
          "histogram2d": [
           {
            "colorbar": {
             "outlinewidth": 0,
             "ticks": ""
            },
            "colorscale": [
             [
              0,
              "#0d0887"
             ],
             [
              0.1111111111111111,
              "#46039f"
             ],
             [
              0.2222222222222222,
              "#7201a8"
             ],
             [
              0.3333333333333333,
              "#9c179e"
             ],
             [
              0.4444444444444444,
              "#bd3786"
             ],
             [
              0.5555555555555556,
              "#d8576b"
             ],
             [
              0.6666666666666666,
              "#ed7953"
             ],
             [
              0.7777777777777778,
              "#fb9f3a"
             ],
             [
              0.8888888888888888,
              "#fdca26"
             ],
             [
              1,
              "#f0f921"
             ]
            ],
            "type": "histogram2d"
           }
          ],
          "histogram2dcontour": [
           {
            "colorbar": {
             "outlinewidth": 0,
             "ticks": ""
            },
            "colorscale": [
             [
              0,
              "#0d0887"
             ],
             [
              0.1111111111111111,
              "#46039f"
             ],
             [
              0.2222222222222222,
              "#7201a8"
             ],
             [
              0.3333333333333333,
              "#9c179e"
             ],
             [
              0.4444444444444444,
              "#bd3786"
             ],
             [
              0.5555555555555556,
              "#d8576b"
             ],
             [
              0.6666666666666666,
              "#ed7953"
             ],
             [
              0.7777777777777778,
              "#fb9f3a"
             ],
             [
              0.8888888888888888,
              "#fdca26"
             ],
             [
              1,
              "#f0f921"
             ]
            ],
            "type": "histogram2dcontour"
           }
          ],
          "mesh3d": [
           {
            "colorbar": {
             "outlinewidth": 0,
             "ticks": ""
            },
            "type": "mesh3d"
           }
          ],
          "parcoords": [
           {
            "line": {
             "colorbar": {
              "outlinewidth": 0,
              "ticks": ""
             }
            },
            "type": "parcoords"
           }
          ],
          "pie": [
           {
            "automargin": true,
            "type": "pie"
           }
          ],
          "scatter": [
           {
            "marker": {
             "colorbar": {
              "outlinewidth": 0,
              "ticks": ""
             }
            },
            "type": "scatter"
           }
          ],
          "scatter3d": [
           {
            "line": {
             "colorbar": {
              "outlinewidth": 0,
              "ticks": ""
             }
            },
            "marker": {
             "colorbar": {
              "outlinewidth": 0,
              "ticks": ""
             }
            },
            "type": "scatter3d"
           }
          ],
          "scattercarpet": [
           {
            "marker": {
             "colorbar": {
              "outlinewidth": 0,
              "ticks": ""
             }
            },
            "type": "scattercarpet"
           }
          ],
          "scattergeo": [
           {
            "marker": {
             "colorbar": {
              "outlinewidth": 0,
              "ticks": ""
             }
            },
            "type": "scattergeo"
           }
          ],
          "scattergl": [
           {
            "marker": {
             "colorbar": {
              "outlinewidth": 0,
              "ticks": ""
             }
            },
            "type": "scattergl"
           }
          ],
          "scattermapbox": [
           {
            "marker": {
             "colorbar": {
              "outlinewidth": 0,
              "ticks": ""
             }
            },
            "type": "scattermapbox"
           }
          ],
          "scatterpolar": [
           {
            "marker": {
             "colorbar": {
              "outlinewidth": 0,
              "ticks": ""
             }
            },
            "type": "scatterpolar"
           }
          ],
          "scatterpolargl": [
           {
            "marker": {
             "colorbar": {
              "outlinewidth": 0,
              "ticks": ""
             }
            },
            "type": "scatterpolargl"
           }
          ],
          "scatterternary": [
           {
            "marker": {
             "colorbar": {
              "outlinewidth": 0,
              "ticks": ""
             }
            },
            "type": "scatterternary"
           }
          ],
          "surface": [
           {
            "colorbar": {
             "outlinewidth": 0,
             "ticks": ""
            },
            "colorscale": [
             [
              0,
              "#0d0887"
             ],
             [
              0.1111111111111111,
              "#46039f"
             ],
             [
              0.2222222222222222,
              "#7201a8"
             ],
             [
              0.3333333333333333,
              "#9c179e"
             ],
             [
              0.4444444444444444,
              "#bd3786"
             ],
             [
              0.5555555555555556,
              "#d8576b"
             ],
             [
              0.6666666666666666,
              "#ed7953"
             ],
             [
              0.7777777777777778,
              "#fb9f3a"
             ],
             [
              0.8888888888888888,
              "#fdca26"
             ],
             [
              1,
              "#f0f921"
             ]
            ],
            "type": "surface"
           }
          ],
          "table": [
           {
            "cells": {
             "fill": {
              "color": "#EBF0F8"
             },
             "line": {
              "color": "white"
             }
            },
            "header": {
             "fill": {
              "color": "#C8D4E3"
             },
             "line": {
              "color": "white"
             }
            },
            "type": "table"
           }
          ]
         },
         "layout": {
          "annotationdefaults": {
           "arrowcolor": "#2a3f5f",
           "arrowhead": 0,
           "arrowwidth": 1
          },
          "coloraxis": {
           "colorbar": {
            "outlinewidth": 0,
            "ticks": ""
           }
          },
          "colorscale": {
           "diverging": [
            [
             0,
             "#8e0152"
            ],
            [
             0.1,
             "#c51b7d"
            ],
            [
             0.2,
             "#de77ae"
            ],
            [
             0.3,
             "#f1b6da"
            ],
            [
             0.4,
             "#fde0ef"
            ],
            [
             0.5,
             "#f7f7f7"
            ],
            [
             0.6,
             "#e6f5d0"
            ],
            [
             0.7,
             "#b8e186"
            ],
            [
             0.8,
             "#7fbc41"
            ],
            [
             0.9,
             "#4d9221"
            ],
            [
             1,
             "#276419"
            ]
           ],
           "sequential": [
            [
             0,
             "#0d0887"
            ],
            [
             0.1111111111111111,
             "#46039f"
            ],
            [
             0.2222222222222222,
             "#7201a8"
            ],
            [
             0.3333333333333333,
             "#9c179e"
            ],
            [
             0.4444444444444444,
             "#bd3786"
            ],
            [
             0.5555555555555556,
             "#d8576b"
            ],
            [
             0.6666666666666666,
             "#ed7953"
            ],
            [
             0.7777777777777778,
             "#fb9f3a"
            ],
            [
             0.8888888888888888,
             "#fdca26"
            ],
            [
             1,
             "#f0f921"
            ]
           ],
           "sequentialminus": [
            [
             0,
             "#0d0887"
            ],
            [
             0.1111111111111111,
             "#46039f"
            ],
            [
             0.2222222222222222,
             "#7201a8"
            ],
            [
             0.3333333333333333,
             "#9c179e"
            ],
            [
             0.4444444444444444,
             "#bd3786"
            ],
            [
             0.5555555555555556,
             "#d8576b"
            ],
            [
             0.6666666666666666,
             "#ed7953"
            ],
            [
             0.7777777777777778,
             "#fb9f3a"
            ],
            [
             0.8888888888888888,
             "#fdca26"
            ],
            [
             1,
             "#f0f921"
            ]
           ]
          },
          "colorway": [
           "#636efa",
           "#EF553B",
           "#00cc96",
           "#ab63fa",
           "#FFA15A",
           "#19d3f3",
           "#FF6692",
           "#B6E880",
           "#FF97FF",
           "#FECB52"
          ],
          "font": {
           "color": "#2a3f5f"
          },
          "geo": {
           "bgcolor": "white",
           "lakecolor": "white",
           "landcolor": "#E5ECF6",
           "showlakes": true,
           "showland": true,
           "subunitcolor": "white"
          },
          "hoverlabel": {
           "align": "left"
          },
          "hovermode": "closest",
          "mapbox": {
           "style": "light"
          },
          "paper_bgcolor": "white",
          "plot_bgcolor": "#E5ECF6",
          "polar": {
           "angularaxis": {
            "gridcolor": "white",
            "linecolor": "white",
            "ticks": ""
           },
           "bgcolor": "#E5ECF6",
           "radialaxis": {
            "gridcolor": "white",
            "linecolor": "white",
            "ticks": ""
           }
          },
          "scene": {
           "xaxis": {
            "backgroundcolor": "#E5ECF6",
            "gridcolor": "white",
            "gridwidth": 2,
            "linecolor": "white",
            "showbackground": true,
            "ticks": "",
            "zerolinecolor": "white"
           },
           "yaxis": {
            "backgroundcolor": "#E5ECF6",
            "gridcolor": "white",
            "gridwidth": 2,
            "linecolor": "white",
            "showbackground": true,
            "ticks": "",
            "zerolinecolor": "white"
           },
           "zaxis": {
            "backgroundcolor": "#E5ECF6",
            "gridcolor": "white",
            "gridwidth": 2,
            "linecolor": "white",
            "showbackground": true,
            "ticks": "",
            "zerolinecolor": "white"
           }
          },
          "shapedefaults": {
           "line": {
            "color": "#2a3f5f"
           }
          },
          "ternary": {
           "aaxis": {
            "gridcolor": "white",
            "linecolor": "white",
            "ticks": ""
           },
           "baxis": {
            "gridcolor": "white",
            "linecolor": "white",
            "ticks": ""
           },
           "bgcolor": "#E5ECF6",
           "caxis": {
            "gridcolor": "white",
            "linecolor": "white",
            "ticks": ""
           }
          },
          "title": {
           "x": 0.05
          },
          "xaxis": {
           "automargin": true,
           "gridcolor": "white",
           "linecolor": "white",
           "ticks": "",
           "title": {
            "standoff": 15
           },
           "zerolinecolor": "white",
           "zerolinewidth": 2
          },
          "yaxis": {
           "automargin": true,
           "gridcolor": "white",
           "linecolor": "white",
           "ticks": "",
           "title": {
            "standoff": 15
           },
           "zerolinecolor": "white",
           "zerolinewidth": 2
          }
         }
        }
       }
      },
      "text/html": [
       "<div>\n",
       "        \n",
       "        \n",
       "            <div id=\"8cb640df-3344-4d9b-ab28-4d0a225c9d2f\" class=\"plotly-graph-div\" style=\"height:525px; width:100%;\"></div>\n",
       "            <script type=\"text/javascript\">\n",
       "                require([\"plotly\"], function(Plotly) {\n",
       "                    window.PLOTLYENV=window.PLOTLYENV || {};\n",
       "                    \n",
       "                if (document.getElementById(\"8cb640df-3344-4d9b-ab28-4d0a225c9d2f\")) {\n",
       "                    Plotly.newPlot(\n",
       "                        '8cb640df-3344-4d9b-ab28-4d0a225c9d2f',\n",
       "                        [{\"hovertext\": [\"Over the past decade , the incidence and prevalence of end<br>-stage renal disease ( ESRD ) , a condition where a patient<br>loses his or her kidney function , has continued to increase<br>in almost every country in the world ( United States Renal<br>Data System , 2012 ) .\", \"In the United States , for example , nearly 600,000 people<br>with ESRD must decide whether to continue life on dialysis<br>or have a deceased donor kidney transplant ( DDKT ) or<br>living donor kidney transplant ( LDKT ) ( United States<br>Renal Data System , 2012 )\", \". Compared with life on dialysis , transplant is widely<br>recognized as the optimal treatment due to its association<br>with superior patient survival and quality of life ( Neipp<br>et al . , 2006 ; Orr et al . , 2007 ; United States Renal<br>Data System , 2012 ) .\", \"Patients who are able to receive a LDKT from a family member<br>or friend have the best treatment outcomes , living 46<br>percent longer than if they remained on dialysis and 8<br>percent longer than if they got a DDKT ( United States Renal<br>Data System , 2012 ) .\", \"With a shortage of deceased donor kidneys available for<br>transplant internationally ( United States Renal Data System<br>, 2012 ) , LDKT is also the only transplant option with the<br>potential for continued growth .\", \"For these reasons , community nephrologists , dialysis<br>professionals , and transplant staff are having<br>conversations with ESRD patients and their support networks<br>regularly about the treatment option of LDKT .\", \"The decision whether to pursue LDKT is complex .\", \"ESRD patients pursuing LDKT must complete a battery of<br>medical and psychological evaluations , weigh the risks and<br>benefits of LDKT for themselves and any donors , be ready<br>and willing to have another person in their life donate to<br>them , feel confident making efforts to find potential<br>living donors , and be willing to have surgery and adhere to<br>a postoperative care regimen .\", \"In addition to concerns and questions that patients have<br>about undergoing transplant surgery themselves ( Kurz et al<br>. , 2007 ; Waterman and Brennan , 2007 ; Waterman et al . ,<br>2006 ) , accepting a kidney from a living donor , especially<br>from a child of the patient , can be very difficult (<br>Waterman et al . , 2006 ) .\", \"Research also has shown that many patients feel vulnerable<br>asking others to donate a kidney to them ( Rodrigue et al .<br>, 2008a ) , and find taking specific actions like having<br>discussions with one 's family or friends to be very<br>challenging ( Boulware et al . , 2012 ; Waterman et al . ,<br>2006 ) .\", \"Finally , patients also have high levels of concern about<br>living donors losing their remaining kidney function ,<br>financial costs incurred by donors , and donors '<br>disappointment if the transplant fails ( Waterman et al . ,<br>2006 ) .\", \"Challenges to successful pursuit of LDKT also may be<br>heightened for ethnic/racial minority patients .\", \"Studies have shown that non -Whites feel very uncomfortable<br>discussing LDKT with others ( Rodrigue et al . , 2008a ;<br>Waterman et al . , 2006 ) .\", \"In addition , Black kidney patients are more likely to have<br>illnesses like diabetes and hypertension that run in<br>families , reducing the likelihood of locating potential<br>living donors within their families ( Waterman et al . ,<br>2010b ) .\", \"Mistrust of health -care providers is also more common for<br>Blacks than Whites ( Boulware et al . , 2003 ) , which may<br>affect their trust in physicians ' recommendations for LDKT<br>and cause suspicion of LDKT itself\", \"( Boulware et al . , 2002\", \"( Boulware et al . , , 2003 .\", \"Currently , minority patients are less likely to receive<br>LDKTs compared to White patients ( Gore et al . , 2009 ) .\", \"Educational interventions to increase transplant knowledge<br>and motivation to pursue LDKT have shown some success at<br>increasing rates of LDKT ( Boulware et al . , 2012 ;<br>Rodrigue et al . , 2008b ) .\", \"However , as providers initiate conversations about the<br>possibility of LDKT , having the ability to accurately<br>assess individual patients ' readiness to pursue LDKT ,<br>weighing of the risks and benefits of LDKT , and confidence<br>in their own ability to find a living donor is very<br>important .\", \"One theory of behavioral change , the transtheoretical model<br>( TTM ) , has already been successfully applied to<br>transplant decision -making , specifically organ donation<br>decision -making ( Hall et al . , 2007 ; Robbins et al . ,<br>2001 ) and whether ESRD patients would pursue DDKT (<br>Waterman et al . , 2010a ) .\", \"The TTM explains motivation and intentional behavior change<br>based on thoughts , experiences , and behaviors and<br>comprises four key constructs : Stage of Change ( SOC ) ,<br>which measures how patients ' motivation to take specific<br>behavior changes through time ( Prochaska and Di Clemente ,<br>1983 ) ;\", \"Decisional Balance ( DB ) , an assessment of how a patient<br>weighs the Pros and Cons of behavior change ( Velicer et al<br>. , 1985 ) ;\", \"Self -Efficacy ( SE ) , which captures whether an individual<br>believes they can make or sustain a behavior change in<br>difficult situations ( Bandura , 1977 ) ; and Processes of<br>Change , which capture experiential and behavioral<br>strategies used to facilitate behavior change .\", \"The validity and reliability of these decision -making<br>constructs have been well evidenced ( Hall and Rossi , 2008<br>) .\", \"This study focuses on the SOC , DB , and SE constructs of<br>the TTM which , to date , have never been examined for their<br>efficacy in measuring the LDKT decision -making of ESRD<br>patients .\", \"We recruited two independent , racially diverse samples of<br>ESRD patients from dialysis centers and Barnes -Jewish<br>Transplant Center ( BJTC ) in St Louis , Missouri , to<br>evaluate the fit of the TTM and its constructs for measuring<br>patients ' LDKT decision -making ( Sample 1 and Sample 2 ) .\", \"Patients were invited to participate in the study by<br>telephone if they were 18 years or older , English -speaking<br>, could hear and cognitively understand the terms of consent<br>, had not received a previous kidney transplant or were told<br>they were ineligible to receive a transplant , and who had<br>poor kidney function requiring dialysis or immediate pursuit<br>of transplant .\", \"Each patient volunteered to participate in the study without<br>remuneration .\", \"Recruitment and survey procedures were approved by the<br>Internal Review Board ( # 09-1294 ) at Washington University<br>School of Medicine in St Louis , Missouri .\", \"In addition , Medical Directors and dialysis center Clinical<br>Research Departments approved participation by dialysis<br>patients .\", \"Sample 1 -Telephone surveys of Sample 1 were conducted from<br>November 2009 to August 2011 .\", \"Telephone contact information for Sample 1 was obtained for<br>627 patients who were in all phases of transplant evaluation<br>at BJTC ( n = 393 ) and receiving dialysis care within<br>participating local centers ( n = 234 ) .\", \"Overall , 30 percent ( n = 187 ) could not be reached after<br>multiple attempts .\", \"Among the 440 patients reached , 279 ( 63.4 % ) completed<br>the survey , 64 ( 14.5 % ) refused , and 99 ( 22.5 % ) were<br>ineligible based on study exclusion criteria .\", \"The majority of participants were on dialysis ( 82 % ) and<br>male ( 50.2 % ) , with an average age of 54 years ( standard<br>deviation ( SD ) = 12.6 years ) .\", \"Patients varied by race/ethnicity : from 49.6 percent White<br>, 47.4 percent Black , 1.1 percent Hispanic/Latino , 0.4<br>percent Asian , 0.7 percent American Indian or Alaska native<br>, and 0.8 percent multiracial/other .\", \"Educational level varied , with some having a college degree<br>or postcollege training ( 25.4 % ) , a high school diploma<br>or some college or vocational school training ( 60.2 % ) ,<br>or less than a high school education ( 14.4% ) .Sample 2<br>-Telephone surveys of Sample 2 were conducted between<br>January and April 2012 .\", \"Contact information was obtained for 478 patients , 12.8<br>percent ( n = 61 ) of whom could not be reached .\", \"Among the remaining 417 patients reached , 204 ( 48.9 % )<br>completed the survey , 124 ( 29.7 % ) refused , and 89 (<br>21.3 % ) were ineligible based on study exclusion criteria .\", \"Most participants were on dialysis ( 74 % ) , male ( 65 % )<br>, and had a mean age of 54 years ( SD = 12.4 years ) .\", \"Patients were 64.7 percent White , 33.3 percent Black , 0.5<br>percent Hispanic / Latino , 0.5 percent Vietnamese , and 1.0<br>percent multiracial/other .\", \"A group of health psychologists and professionals with<br>expertise in measure development , TTM , kidney<br>transplantation , and organ donation reviewed previous LDKT<br>formative research\", \"( Waterman et al . , 2004a\", \"( Waterman et al . , , 2004b and developed a set of<br>preliminary measures of LDKT SOC , DB , and SE .\", \"A detailed description of the development of identical TTM<br>constructs for DDKT decision -making has been previously<br>published by the authors ( Waterman et al . , 2010a ) .\", \"Demographics and clinical characteristics -Patients '<br>demographic and clinic characteristics were collected ,<br>including age , sex , race and ethnicity , level of<br>education , and the length of time the patient was on<br>dialysis . SOC -Sample 1 -SOC assesses patients ' readiness<br>to pursue LDKT .\", \"Consistent with past research ( Prochaska and Di Clemente ,<br>1983 ) , a series of questions were developed to determine<br>patients ' stage of readiness to pursue LDKT .\", \"In Sample 1 , pursuing LDKT was defined as a person being<br>willing to do three things : ( 1 ) accept a kidney from a<br>living donor , ( 2 ) be evaluated for transplant , and ( 3 )<br>take actions to get the word out about their need for a<br>living donor .\", \"After hearing this general LDKT description , patients chose<br>one of four mutually exclusive categories that defined their<br>own stage of readiness to get a LDKT : Precontemplation (<br>not considering getting a LDKT in the next 6 months ) ,<br>Contemplation ( considering taking actions to get a LDKT in<br>the next 6 months ) , Preparation ( preparing to take<br>actions to get a LDKT in the next 30 days ) , and Action (<br>taking actions to find living donors and get a LDKT ) .\", \"Following the SOC algorithm , participants were presented<br>with a list of seven possible LDKT actions ( e.g . accept<br>someone 's offer to be a living donor , share need for<br>living donor with large community ) and , for each action ,<br>indicated whether they were willing to take this action (<br>yes/no ) .SOC -Sample 2 -Participant feedback suggested that<br>the wording and order of the SOC assessment questions were<br>somewhat confusing .\", \"To further improve the clarity of the SOC algorithm and ease<br>of administration , for Sample 2 , participants were first<br>presented with a list of seven LDKT actions ( Table 1 ; for<br>example , accept someone 's offer to be a living donor ,<br>share need for living donor with large community ) and for<br>each possible LDKT action asked whether they have \\\" already<br>done this , \\\" \\\" are planning to do this , \\\" or \\\" do not plan<br>to do this . \\\"\", \"Then , patients were asked to choose one of the four<br>following categories to define their readiness to take LDKT<br>actions : Precontemplation ( I am not considering taking<br>actions in the next 6 months to pursue living donation ) ,<br>Contemplation ( I am considering taking actions in the next<br>6 months to pursue living donation ) , Preparation ( I am<br>preparing to take actions in the next 30 days to pursue<br>living donation ) , Action ( I am taking actions to pursue<br>living donation ) .DB -Consistent with previous research , a<br>24 -item DB measure was created to assess the Pros and Cons<br>of pursuing LDKT ( Velicer et al . , 1985 ) and administered<br>in Sample 1 .\", \"This measure provides information about the relative<br>importance an individual places on specific positive<br>outcomes ( e.g . living donation can happen more quickly<br>than deceased donation ) and negative outcomes ( e.g . the<br>living donor could be harmed by surgery ) .\", \"Patients were asked to rate , \\\" How important is this<br>statement to your decision about living donor transplant ? \\\"<br>on a 5 -point scale ranging from , \\\" not important \\\" ( 1 )<br>to \\\" extremely important \\\" ( 5 ) .\", \"Sample 2 administered only a reduced measure set of 12 items<br>determined after analysis of Sample 1 ( Table 2 ) .\", \"SE -SE captures whether an individual believes they can make<br>or sustain a behavior change in difficult situations (<br>Bandura , 1977 ; Velicer et al . , 1990 ) .\", \"For Sample 1 , an 11 -item measure was created to assess an<br>individual 's degree of confidence in their ability to<br>pursue LDKT in a variety of difficult situations ( e.g . You<br>asked someone to donate and they turned you down ) .\", \"Patients were asked to rate , \\\" How confident are you that<br>you could get a living donor transplant ? \\\" on a 5 -point<br>scale , ranging from \\\" not at all confident \\\" ( 1 ) to \\\"<br>completely confident \\\" ( 5 ) .\", \"We conducted four phases of analysis using a sequential<br>method for scale development ( Comrey , 1988 ; Goldberg and<br>Velicer , 2006 ; Jackson , 1971 ; Redding et al . , 2006 )<br>to assess the reliability and validity of the new SOC , DB ,<br>and SE measures for LDKT : ( 1 ) SOC measure development , (<br>2 ) exploratory analyses for DB and SE , ( 3 ) confirmatory<br>analyses for DB and SE , and ( 4 ) external validation with<br>the SOC measure . SOC measure development ( Samples 1 and 2<br>) -After focus groups were conducted to understand patients<br>' readiness to pursue LDKT generally and take specific<br>actions to find living donors , two different measures were<br>created to measure SOC and assessed with different samples<br>of patients to ensure clarity ( Waterman et al . , 2006 ) .\", \"Descriptive analyses were conducted to examine the<br>proportion of individuals in each SOC in Samples 1 and 2 .\", \"Then , each of the seven possible LDKT actions in Sample 2<br>was collapsed into two categories ( \\\" already done \\\" vs \\\"<br>have not done \\\" ( planning to do this or not planning to do<br>this ) ) .\", \"A series of chi -square tests were conducted to assess<br>whether individuals in different stages of LDKT readiness<br>differed significantly on whether they had completed each<br>behavior .\", \"In addition , all seven possible LDKT actions were included<br>in a logistic regression model to determine which actions<br>were the strongest predictors of being in the Action stage<br>compared to one of the pre -Action stages ( Precontemplation<br>, Contemplation , or Preparation ) .Exploratory phase (<br>Sample 1 ) -Exploratory factor analysis for the DB and SE<br>item sets was conducted using principle components analysis<br>( PCA ) with varimax rotation on the item intercorrelation<br>matrices for a random half of participants from Sample 1 ( n<br>= 134 ) .\", \"The number of components retained was determined using the<br>minimum average partial procedure ( MAP ) ( Velicer , 1976 )<br>and parallel analysis ( Horn , 1965 ; Zwick and Velicer ,<br>1986 ) .\", \"The dimensional and psychometric properties of each measure<br>were assessed .\", \"The aims of these exploratory analyses were to : ( 1 )<br>determine the number of components present and estimate the<br>correlation between them ; ( 2 ) provide estimates of the<br>factor loadings , eliminate complex items ( component<br>loadings \\u2265 0.40 on both components ) , and items with poor<br>loadings ( < 0.40 on both components ) ; and ( 3 ) estimate<br>internal consistency for each component using Cronbach 's<br>alpha .\", \"Furthermore , final item selection was determined on the<br>basis of item clarity , simple expression of the idea ,<br>minimization of redundancy with other selected items , and<br>being representative of the conceptual definitions of the<br>constructs .\", \"Confirmatory phase ( Samples 1 and 2 ) -Confirmatory factor<br>analysis for the DB and SE scales using structural equation<br>modeling in EQS Structural Equation Modeling Software (<br>Bentler and Wu , 1993 ) was conducted on the second random<br>50 percent of Sample 1 ( n = 145 ) and also reconfirmed with<br>all participants from Sample 2 ( N = 204 ) .\", \"Multiple models were tested and compared to determine the<br>best fitting model using maximum likelihood ( ML ) as the<br>estimator of fit .\", \"Four different fit indices were examined for each of the<br>alternative models .\", \"These included ( 1 ) the likelihood ratio chi -square test<br>statistic ; ( 2 ) the goodness -of -fit index ( GFI ) ; ( 3<br>) the comparative fit index ( CFI ) ; and ( 4 ) the average<br>absolute standardized residual ( AASR ) statistic .\", \"Traditionally , values of GFI and CFI above 0.80 indicate<br>good fit , while values above 0.90 indicate excellent fit\", \"( Tabachnick and Fidell , 2001 ). For AASR , values below<br>0.06 indicate excellent fit\", \"( Tabachnick and Fidell , 2001 ). All four fit indices were<br>compared across models .\", \"External validation -SOC was further validated using Sample<br>2 data by examining the relationships of SOC with DB and SE<br>via multivariate analysis of variance ( MANOVA ) and<br>analysis of variance .\", \"The 279 patients from Sample 1 were classified by their LDKT<br>SOC , with patients ranging from Precontemplation ( 29.5 % )<br>, Contemplation ( 20.5 % ) , Preparation ( 9.4 % ) , to<br>Action ( 40.6 % ) .\", \"After modification of the SOC wording , the 204 patients<br>from Sample 2 ranged in stages of LDKT readiness similarly ,<br>from Precontemplation ( 28.2 % ) , Contemplation ( 19.8 % )<br>, Preparation ( 11.9 % ) , to Action ( 40.1% ) .A series of<br>chi -square tests revealed that individuals in different<br>stages of readiness to receive a living donor transplant<br>differed significantly on whether they had completed each of<br>the seven LDKT behaviors , with patients in Action being<br>most likely to have done five of the seven behaviors\", \"( p < 0.05 ; Table 1 ). Only one LDKT behavior , \\\" Send a<br>letter or email about your interest in living donation to<br>important people in your life ? \\\" did not vary significantly<br>by SOC.Using logistic regression , a test of the full model<br>against a constant only model was statistically significant<br>, indicating that the seven possible LDKT actions as a set<br>reliably distinguished between being pre -Action versus<br>Action SOC ( chi -square = 34.77 , p < 0.001 with df = 7 ) .\", \"Nagelkerke 's R 2 of 0.214 indicated a moderate relationship<br>between prediction and grouping .\", \"The Wald criterion demonstrated that only three behaviors<br>made a significant contribution to prediction of being in<br>Action versus pre -Action : \\\" Accept someone 's offer to<br>donate a kidney if they volunteered \\\" ( odds ratio ( OR ) =<br>2.23 ( 1.07 , 4.65 ) , p < 0.05 ) ;\", \"\\\" Share your need for a living donor with a large community<br>through a general announcement \\\" ( OR = 2.38 ( 1.11 , 5.10 )<br>, p < 0.05 ) ; and \\\" Ask a potential donor directly to be<br>tested \\\" ( OR = 2.47 ( 1.22 , 4.98 ) , p < 0.05 ) .\", \"DB -The pool of 24 items was reduced to 12 items .\", \"MAP and parallel analysis indicated that a two -component<br>solution best described the Pros and Cons factors .\", \"Table 2 presents the items , exploratory factor loadings ,<br>and coefficient alpha for the Pros and Cons scales .\", \"The two factors had good item loadings ranging from 0.6 to<br>0.8 and contained a satisfactory number of items ( 6 ) (<br>Guadagnoli and Velicer , 1988 ; Velicer , 1976 )\", \". Scale scores were derived from the sum of the individual<br>item scores .\", \"These scales were shown to be internally consistent and<br>correlated ( r = 0.28 ) .\", \"This final two -component solution showed good stability and<br>accounted for 51.26 percent of the total item variance .\", \"Table 3 presents the means and SDs for Pros and Cons by SOC<br>.\", \"SE -The pool of 11 items was reduced to 6 items .\", \"MAP and parallel analysis indicated that a one -component<br>solution best described the data .\", \"Table 2 presents the items , exploratory factor loadings ,<br>and coefficient alpha for the SE scale .\", \"This final one -component solution showed good stability and<br>accounted for 67.83 percent of the total item variance .\", \"DB -In both the random half of Sample 1 and in all of Sample<br>2 , four models were tested: ( 1 ) null model ( suggesting<br>no latent factors and used as a comparative model ) , ( 2 )<br>one factor , ( 3 ) two uncorrelated Pros and Cons factors ,<br>and ( 4 ) two correlated Pros and Cons factors .\", \"In Sample 1 , the two -factor correlated model demonstrated<br>the best fit , \\u03c7 2 ( 53 ) = 68.45 , p > 0.05 , CFI = 0.97 ,<br>GFI = 0.92 , and AASR = 0.04 .\", \"The correlation between the Pros and Cons scales was 0.25 .\", \"In Sample 2 , the two -factor uncorrelated model<br>demonstrated the best fit , \\u03c7 2 ( 54 ) = 94.06 , p < 0.01 ,<br>CFI = 0.95 , GFI = 0.93 , and AASR = 0.04 .\", \"The confirmatory factor loadings and coefficient alpha from<br>both samples are presented in Table 2 , and Table 3 presents<br>the means and SDs SOC .\", \"SE -In both the second random half of Sample 1 and in all of<br>Sample 2 , two models were tested : the null model and a one<br>-factor model .\", \"In Sample 1 , the one -factor model demonstrated the best<br>fit .\", \"Results produced strong factor loadings and excellent model<br>fit , ( \\u03c7 2 ( 9 ) = 26.501 , p < 0.01 , CFI = 0.96 , GFI =<br>0.94 , and AASR = 0.02 ) .\", \"Similarly , in Sample 2 , the one -factor model demonstrated<br>the best fit with strong factor loadings and excellent model<br>fit , ( \\u03c7 2 ( 9 ) = 43.45 , p < 0.01 , CFI = 0.95 , GFI =<br>0.93 , and AASR = 0.04 ) .\", \"Results indicated that the Pros increased 0.92 SD , Cons<br>decreased 0.29 SD , and SE increased 0.80 SD from<br>Precontemplation to Action , which is consistent with the<br>typical changes found across behaviors in meta -analytic<br>research ( Hall and Rossi , 2004 ; Prochaska et al . , 1994<br>) ( see Figure 1 )\", \"While educational interventions to increase ESRD patient<br>motivation to pursue LDKT are underway in transplant and<br>dialysis centers nationally ( Boulware et al . , 2012 ;<br>Rodrigue et al . , 2008a ) , there are no validated measures<br>of LDKT decision -making .\", \"Using the TTM of Behavioral Change as a theoretical<br>foundation , we developed three new measures of SOC , DB ,<br>and SE .\", \"This study is the first to demonstrate that the TTM<br>theoretical foundation and key TTM constructs are well<br>suited to assess the decision -making of kidney patients<br>considering whether to pursue LDKT.Successful receipt of<br>LDKT requires the involvement of another person -a matching<br>living donor .\", \"One important question raised by this study is whether<br>patient decision -making related to this type of behavior<br>could be guided by the constructs of the TTM .\", \"We found that the staging assessment for pursuit of LDKT is<br>consistent with staging assessments for many other complex<br>behaviors .\", \"The measure development process led to a clear and ordered<br>assessment of LDKT SOC , where patients in Action for LDKT<br>readiness reported taking specific actions like asking a<br>potential living donor to be evaluated .\", \"These actions may or may not result in finding a matching<br>living donor , thus patients can shift in their LDKT<br>readiness over time .\", \"In both Samples 1 and 2 , despite slight variation in<br>question wording and order differences , there was<br>remarkable similarity between the percentage of patients in<br>each SOC across ESRD patients , suggesting the readiness<br>construct meaningfully applies to LDKT decision -making and<br>is robust enough to withstand variation in measurement .\", \"The validated SOC measure asks how ready a patient is to<br>take LDKT actions generally , and then provides additional<br>clarity on the specific LDKT actions an individual patient<br>is willing to take .\", \"Some behaviors , like generally talking to people about one<br>'s interest in transplant , sharing educational materials<br>about living donation with people in one 's life , and<br>allowing others to share their need for a living donor<br>kidney , are generally more common for all patients to be<br>ready to take .\", \"However , three LDKT actions , accepting someone 's offer to<br>donate a kidney , sharing their need for a living donor with<br>a large community through a general announcement , and<br>asking a potential donor to be tested , are significantly<br>more likely to be taken when a patient is in Action ,<br>compared to patients in pre -Action stages .\", \"Thus , when tailoring discussion and educational feedback<br>for patients in early stages of readiness , recommendations<br>to take more common LDKT actions like generally talking to<br>people about their interest in living donation and sharing<br>educational materials about LDKT with people in their life<br>may be more ideal .\", \"However , patients in Action will more likely benefit from<br>additional discussion and practical assistance with doing<br>behaviors like getting the word out about their need for a<br>living donor to large groups of individuals , asking<br>potential donors directly to be evaluated , and accepting<br>someone 's offer to donate .\", \"Future research must continue to learn more about the<br>different patterns of LDKT actions and how they relate to<br>pursuit and successful receipt of LDKT.In addition , brief ,<br>internally consistent measures of DB and SE for pursuit of<br>LDKT were developed .\", \"Using data from Sample 1 , evaluations of the DB Pros , Cons<br>, and SE scales by stage were largely consistent with<br>previous TTM research in DDKT ( Waterman et al . , 2010a )<br>and in other health behavior applications ( Hall and Rossi ,<br>2008 ) .\", \"Study 2 results found that increases in Pros of LDKT from<br>Precontemplation ( 0.92 SD found ; 1 SD expected ) and<br>decreases in Cons of LDKT from Precontemplation ( 0.29 SD<br>found ; 0.5 SD expected ) were consistent with patterns<br>shown in other meta -analytic work with many other behaviors<br>( Hall and Rossi , 2004 ; Prochaska et al . , 1994 ) .\", \"Although they build upon the DB measure developed for<br>pursuit of DDKT ( Waterman et al . , 2010a ) , the Pros and<br>Cons of LDKT pursuit focus more on the elements ( i.e .<br>interpersonal challenges ) that are specific to the living<br>donor process .\", \"After an assessment of DB , a discussion with ESRD patients<br>that emphasizes the LDKT Pros and de -emphasizes the Cons<br>may help them become more ready to pursue LDKT.As predicted<br>, the SE measure developed in this study emerged as a single<br>, brief internally consistent scale assessing situational SE<br>or confidence to pursue LDKT in a variety of difficult<br>situations .\", \"In their 2001 meta -analysis examining SE in 25 studies<br>across 10 health behaviors , Rossi and Redding ( 2001 )<br>found that SE increased significantly in a linear or<br>curvilinear fashion across stages of change for the majority<br>of these studies .\", \"Across both samples presented here , scores on the SE<br>measure increased approximately 0.80 SD from<br>Precontemplation to Action .\", \"The items in the scale most reflect the challenges that<br>patients will likely face if they actively pursue LDKT with<br>particular emphasis on reaching out to potential donors .\", \"This study had several limitations .\", \"First , although our SOC measure regards patients ' overall<br>pursuit of LDKT , this behavior can be divided into three<br>separate behaviors : acceptance of any kidney transplant (<br>regardless of the organ source ) , getting evaluated for<br>transplant , and taking actions to find a living donor .\", \"Future research should examine how well our measure<br>adequately represents these separate behaviors .\", \"Second , our samples were both crosssectional .\", \"Although previous longitudinal studies investigating the<br>behavior of TTM constructs have supported the findings of<br>other cross -sectional studies ( Prochaska , 1994 ) , future<br>longitudinal studies should be conducted to examine the<br>measures developed here .\", \"Third , our primarily White and Black ESRD patient samples<br>were recruited from a single transplant center and a few<br>dialysis centers in the midwestern United States and may not<br>represent the attitudes and dispositions of ESRD patients<br>nationally .\", \"Further validation of these measures with a nationally<br>representative sample of ESRD patients , particularly<br>Hispanics/Latinos , is an important next step .\", \"Invariance testing of these measures across important<br>demographic subgroups ( e.g . Black versus White ) groups<br>should also occur .\", \"Finally , while our research strongly supports the<br>application of the TTM constructs to pursuit of LDKT ,<br>future research on ESRD patients ' and their support<br>networks ' views and attitudes on LDKT may yield other<br>relevant dimensions for study as well as introduce new items<br>that may improve the LDKT Pros , Cons , and SE measures .\", \"Further research may also lead to refinements of the<br>assessment of LDKT action steps .\", \"To treat the growing number of ESRD patients optimally , we<br>must increase the rates of LDKT nationally .\", \"Valid TTM -based measures that let us accurately assess<br>patients ' initial LDKT readiness , DB , and SE and track<br>shifts in decision -making as their kidney function worsens<br>may help clinicians have more effective conversations with<br>patients .\", \"Building upon the DDKT decision -making measures previously<br>developed by this team ( Waterman et al . , 2010a ) , after<br>this study , a complete set of theoretically consistent<br>transplant decision -making measures have now been validated<br>.\", \"These LDKT patient decision -making measures can be<br>incorporated into LDKT interventions to better honor the<br>needs of individual kidney patients and assess the<br>effectiveness of these interventions .\", \"Pros , Cons and Self -Efficacy to pursue living donation by<br>Stage of Change to pursue living donation ( Sample 2 ) .\", \"PC : Precontemplation ;\", \"C : Contemplation ;\", \"PR : Preparation ;\", \"A : Action .\", \"T -scores were weighted based on Stage of Change proportions<br>to equalize the distribution and allow for more accurate<br>comparisons across the Stages of Change .\"], \"type\": \"bar\", \"x\": [0, 1, 2, 3, 4, 5, 6, 7, 8, 9, 10, 11, 12, 13, 14, 15, 16, 17, 18, 19, 20, 21, 22, 23, 24, 25, 26, 27, 28, 29, 30, 31, 32, 33, 34, 35, 36, 37, 38, 39, 40, 41, 42, 43, 44, 45, 46, 47, 48, 49, 50, 51, 52, 53, 54, 55, 56, 57, 58, 59, 60, 61, 62, 63, 64, 65, 66, 67, 68, 69, 70, 71, 72, 73, 74, 75, 76, 77, 78, 79, 80, 81, 82, 83, 84, 85, 86, 87, 88, 89, 90, 91, 92, 93, 94, 95, 96, 97, 98, 99, 100, 101, 102, 103, 104, 105, 106, 107, 108, 109, 110, 111, 112, 113, 114, 115, 116, 117, 118, 119, 120, 121, 122, 123, 124, 125, 126, 127, 128, 129, 130, 131, 132, 133, 134, 135, 136, 137, 138, 139, 140, 141, 142, 143, 144], \"y\": [0.2792033553123474, 0.22682446241378784, 0.17109721899032593, 0.2071765661239624, 0.24566876888275146, 0.21410119533538818, 0.34826260805130005, 0.2154369354248047, 0.2195056676864624, 0.18495476245880127, 0.18358302116394043, 0.20430994033813477, 0.24664926528930664, 0.19736546277999878, 0.22831541299819946, 0.4064366817474365, 0.38605308532714844, 0.20725053548812866, 0.19356966018676758, 0.1576351523399353, 0.13986092805862427, 0.3450545072555542, 0.21924006938934326, 0.19073867797851562, 0.206895112991333, 0.22055739164352417, 0.2373315691947937, 0.28294771909713745, 0.32318490743637085, 0.3432871699333191, 0.3187199831008911, 0.33931195735931396, 0.2957591414451599, 0.3001285791397095, 0.3064400553703308, 0.3506295084953308, 0.3547496199607849, 0.30840176343917847, 0.31713563203811646, 0.3037635087966919, 0.32378530502319336, 0.3667028546333313, 0.2510647177696228, 0.3498905301094055, 0.24398499727249146, 0.2161300778388977, 0.2121906280517578, 0.19254076480865479, 0.18561482429504395, 0.19522589445114136, 0.2117701768875122, 0.21885448694229126, 0.18268811702728271, 0.17850106954574585, 0.27670806646347046, 0.30564093589782715, 0.21140331029891968, 0.1922627091407776, 0.2831871509552002, 0.1709344983100891, 0.28931623697280884, 0.2990797758102417, 0.2445969581604004, 0.22612255811691284, 0.26784002780914307, 0.35099029541015625, 0.20952081680297852, 0.23886501789093018, 0.26261645555496216, 0.2857629656791687, 0.31821197271347046, 0.24312537908554077, 0.27845025062561035, 0.24913686513900757, 0.25817155838012695, 0.2448430061340332, 0.30304473638534546, 0.20464807748794556, 0.2185412049293518, 0.27662956714630127, 0.42202281951904297, 0.32467514276504517, 0.3691040873527527, 0.23927587270736694, 0.30021756887435913, 0.27712541818618774, 0.34862035512924194, 0.26088178157806396, 0.27426427602767944, 0.33175718784332275, 0.3808753490447998, 0.2788347601890564, 0.30910712480545044, 0.2751534581184387, 0.2483583688735962, 0.26771920919418335, 0.3372771143913269, 0.2773711681365967, 0.2641134262084961, 0.2749205231666565, 0.3138977885246277, 0.29262202978134155, 0.26566559076309204, 0.2079285979270935, 0.152066171169281, 0.23787826299667358, 0.16015201807022095, 0.2396058440208435, 0.19649463891983032, 0.19708269834518433, 0.19279223680496216, 0.20678532123565674, 0.1705833077430725, 0.21926343441009521, 0.17675131559371948, 0.17008143663406372, 0.1866641640663147, 0.14465320110321045, 0.19277191162109375, 0.20053225755691528, 0.1423162817955017, 0.14063739776611328, 0.1975671648979187, 0.2699306607246399, 0.25440454483032227, 0.3946763873100281, 0.1688922643661499, 0.28671252727508545, 0.335125207901001, 0.22269964218139648, 0.2425398826599121, 0.2325795292854309, 0.22793126106262207, 0.19439268112182617, 0.2394128441810608, 0.2668530344963074, 0.17280948162078857, 0.22679626941680908, 0.1873357892036438, 0.2436770796775818, 0.3614935874938965, 0.36513322591781616, 0.3783084750175476, 0.39317214488983154, 0.2938203811645508]}],\n",
       "                        {\"hoverlabel\": {\"bgcolor\": \"white\", \"font\": {\"family\": \"Rockwell\", \"size\": 13}}, \"template\": {\"data\": {\"bar\": [{\"error_x\": {\"color\": \"#2a3f5f\"}, \"error_y\": {\"color\": \"#2a3f5f\"}, \"marker\": {\"line\": {\"color\": \"#E5ECF6\", \"width\": 0.5}}, \"type\": \"bar\"}], \"barpolar\": [{\"marker\": {\"line\": {\"color\": \"#E5ECF6\", \"width\": 0.5}}, \"type\": \"barpolar\"}], \"carpet\": [{\"aaxis\": {\"endlinecolor\": \"#2a3f5f\", \"gridcolor\": \"white\", \"linecolor\": \"white\", \"minorgridcolor\": \"white\", \"startlinecolor\": \"#2a3f5f\"}, \"baxis\": {\"endlinecolor\": \"#2a3f5f\", \"gridcolor\": \"white\", \"linecolor\": \"white\", \"minorgridcolor\": \"white\", \"startlinecolor\": \"#2a3f5f\"}, \"type\": \"carpet\"}], \"choropleth\": [{\"colorbar\": {\"outlinewidth\": 0, \"ticks\": \"\"}, \"type\": \"choropleth\"}], \"contour\": [{\"colorbar\": {\"outlinewidth\": 0, \"ticks\": \"\"}, \"colorscale\": [[0.0, \"#0d0887\"], [0.1111111111111111, \"#46039f\"], [0.2222222222222222, \"#7201a8\"], [0.3333333333333333, \"#9c179e\"], [0.4444444444444444, \"#bd3786\"], [0.5555555555555556, \"#d8576b\"], [0.6666666666666666, \"#ed7953\"], [0.7777777777777778, \"#fb9f3a\"], [0.8888888888888888, \"#fdca26\"], [1.0, \"#f0f921\"]], \"type\": \"contour\"}], \"contourcarpet\": [{\"colorbar\": {\"outlinewidth\": 0, \"ticks\": \"\"}, \"type\": \"contourcarpet\"}], \"heatmap\": [{\"colorbar\": {\"outlinewidth\": 0, \"ticks\": \"\"}, \"colorscale\": [[0.0, \"#0d0887\"], [0.1111111111111111, \"#46039f\"], [0.2222222222222222, \"#7201a8\"], [0.3333333333333333, \"#9c179e\"], [0.4444444444444444, \"#bd3786\"], [0.5555555555555556, \"#d8576b\"], [0.6666666666666666, \"#ed7953\"], [0.7777777777777778, \"#fb9f3a\"], [0.8888888888888888, \"#fdca26\"], [1.0, \"#f0f921\"]], \"type\": \"heatmap\"}], \"heatmapgl\": [{\"colorbar\": {\"outlinewidth\": 0, \"ticks\": \"\"}, \"colorscale\": [[0.0, \"#0d0887\"], [0.1111111111111111, \"#46039f\"], [0.2222222222222222, \"#7201a8\"], [0.3333333333333333, \"#9c179e\"], [0.4444444444444444, \"#bd3786\"], [0.5555555555555556, \"#d8576b\"], [0.6666666666666666, \"#ed7953\"], [0.7777777777777778, \"#fb9f3a\"], [0.8888888888888888, \"#fdca26\"], [1.0, \"#f0f921\"]], \"type\": \"heatmapgl\"}], \"histogram\": [{\"marker\": {\"colorbar\": {\"outlinewidth\": 0, \"ticks\": \"\"}}, \"type\": \"histogram\"}], \"histogram2d\": [{\"colorbar\": {\"outlinewidth\": 0, \"ticks\": \"\"}, \"colorscale\": [[0.0, \"#0d0887\"], [0.1111111111111111, \"#46039f\"], [0.2222222222222222, \"#7201a8\"], [0.3333333333333333, \"#9c179e\"], [0.4444444444444444, \"#bd3786\"], [0.5555555555555556, \"#d8576b\"], [0.6666666666666666, \"#ed7953\"], [0.7777777777777778, \"#fb9f3a\"], [0.8888888888888888, \"#fdca26\"], [1.0, \"#f0f921\"]], \"type\": \"histogram2d\"}], \"histogram2dcontour\": [{\"colorbar\": {\"outlinewidth\": 0, \"ticks\": \"\"}, \"colorscale\": [[0.0, \"#0d0887\"], [0.1111111111111111, \"#46039f\"], [0.2222222222222222, \"#7201a8\"], [0.3333333333333333, \"#9c179e\"], [0.4444444444444444, \"#bd3786\"], [0.5555555555555556, \"#d8576b\"], [0.6666666666666666, \"#ed7953\"], [0.7777777777777778, \"#fb9f3a\"], [0.8888888888888888, \"#fdca26\"], [1.0, \"#f0f921\"]], \"type\": \"histogram2dcontour\"}], \"mesh3d\": [{\"colorbar\": {\"outlinewidth\": 0, \"ticks\": \"\"}, \"type\": \"mesh3d\"}], \"parcoords\": [{\"line\": {\"colorbar\": {\"outlinewidth\": 0, \"ticks\": \"\"}}, \"type\": \"parcoords\"}], \"pie\": [{\"automargin\": true, \"type\": \"pie\"}], \"scatter\": [{\"marker\": {\"colorbar\": {\"outlinewidth\": 0, \"ticks\": \"\"}}, \"type\": \"scatter\"}], \"scatter3d\": [{\"line\": {\"colorbar\": {\"outlinewidth\": 0, \"ticks\": \"\"}}, \"marker\": {\"colorbar\": {\"outlinewidth\": 0, \"ticks\": \"\"}}, \"type\": \"scatter3d\"}], \"scattercarpet\": [{\"marker\": {\"colorbar\": {\"outlinewidth\": 0, \"ticks\": \"\"}}, \"type\": \"scattercarpet\"}], \"scattergeo\": [{\"marker\": {\"colorbar\": {\"outlinewidth\": 0, \"ticks\": \"\"}}, \"type\": \"scattergeo\"}], \"scattergl\": [{\"marker\": {\"colorbar\": {\"outlinewidth\": 0, \"ticks\": \"\"}}, \"type\": \"scattergl\"}], \"scattermapbox\": [{\"marker\": {\"colorbar\": {\"outlinewidth\": 0, \"ticks\": \"\"}}, \"type\": \"scattermapbox\"}], \"scatterpolar\": [{\"marker\": {\"colorbar\": {\"outlinewidth\": 0, \"ticks\": \"\"}}, \"type\": \"scatterpolar\"}], \"scatterpolargl\": [{\"marker\": {\"colorbar\": {\"outlinewidth\": 0, \"ticks\": \"\"}}, \"type\": \"scatterpolargl\"}], \"scatterternary\": [{\"marker\": {\"colorbar\": {\"outlinewidth\": 0, \"ticks\": \"\"}}, \"type\": \"scatterternary\"}], \"surface\": [{\"colorbar\": {\"outlinewidth\": 0, \"ticks\": \"\"}, \"colorscale\": [[0.0, \"#0d0887\"], [0.1111111111111111, \"#46039f\"], [0.2222222222222222, \"#7201a8\"], [0.3333333333333333, \"#9c179e\"], [0.4444444444444444, \"#bd3786\"], [0.5555555555555556, \"#d8576b\"], [0.6666666666666666, \"#ed7953\"], [0.7777777777777778, \"#fb9f3a\"], [0.8888888888888888, \"#fdca26\"], [1.0, \"#f0f921\"]], \"type\": \"surface\"}], \"table\": [{\"cells\": {\"fill\": {\"color\": \"#EBF0F8\"}, \"line\": {\"color\": \"white\"}}, \"header\": {\"fill\": {\"color\": \"#C8D4E3\"}, \"line\": {\"color\": \"white\"}}, \"type\": \"table\"}]}, \"layout\": {\"annotationdefaults\": {\"arrowcolor\": \"#2a3f5f\", \"arrowhead\": 0, \"arrowwidth\": 1}, \"coloraxis\": {\"colorbar\": {\"outlinewidth\": 0, \"ticks\": \"\"}}, \"colorscale\": {\"diverging\": [[0, \"#8e0152\"], [0.1, \"#c51b7d\"], [0.2, \"#de77ae\"], [0.3, \"#f1b6da\"], [0.4, \"#fde0ef\"], [0.5, \"#f7f7f7\"], [0.6, \"#e6f5d0\"], [0.7, \"#b8e186\"], [0.8, \"#7fbc41\"], [0.9, \"#4d9221\"], [1, \"#276419\"]], \"sequential\": [[0.0, \"#0d0887\"], [0.1111111111111111, \"#46039f\"], [0.2222222222222222, \"#7201a8\"], [0.3333333333333333, \"#9c179e\"], [0.4444444444444444, \"#bd3786\"], [0.5555555555555556, \"#d8576b\"], [0.6666666666666666, \"#ed7953\"], [0.7777777777777778, \"#fb9f3a\"], [0.8888888888888888, \"#fdca26\"], [1.0, \"#f0f921\"]], \"sequentialminus\": [[0.0, \"#0d0887\"], [0.1111111111111111, \"#46039f\"], [0.2222222222222222, \"#7201a8\"], [0.3333333333333333, \"#9c179e\"], [0.4444444444444444, \"#bd3786\"], [0.5555555555555556, \"#d8576b\"], [0.6666666666666666, \"#ed7953\"], [0.7777777777777778, \"#fb9f3a\"], [0.8888888888888888, \"#fdca26\"], [1.0, \"#f0f921\"]]}, \"colorway\": [\"#636efa\", \"#EF553B\", \"#00cc96\", \"#ab63fa\", \"#FFA15A\", \"#19d3f3\", \"#FF6692\", \"#B6E880\", \"#FF97FF\", \"#FECB52\"], \"font\": {\"color\": \"#2a3f5f\"}, \"geo\": {\"bgcolor\": \"white\", \"lakecolor\": \"white\", \"landcolor\": \"#E5ECF6\", \"showlakes\": true, \"showland\": true, \"subunitcolor\": \"white\"}, \"hoverlabel\": {\"align\": \"left\"}, \"hovermode\": \"closest\", \"mapbox\": {\"style\": \"light\"}, \"paper_bgcolor\": \"white\", \"plot_bgcolor\": \"#E5ECF6\", \"polar\": {\"angularaxis\": {\"gridcolor\": \"white\", \"linecolor\": \"white\", \"ticks\": \"\"}, \"bgcolor\": \"#E5ECF6\", \"radialaxis\": {\"gridcolor\": \"white\", \"linecolor\": \"white\", \"ticks\": \"\"}}, \"scene\": {\"xaxis\": {\"backgroundcolor\": \"#E5ECF6\", \"gridcolor\": \"white\", \"gridwidth\": 2, \"linecolor\": \"white\", \"showbackground\": true, \"ticks\": \"\", \"zerolinecolor\": \"white\"}, \"yaxis\": {\"backgroundcolor\": \"#E5ECF6\", \"gridcolor\": \"white\", \"gridwidth\": 2, \"linecolor\": \"white\", \"showbackground\": true, \"ticks\": \"\", \"zerolinecolor\": \"white\"}, \"zaxis\": {\"backgroundcolor\": \"#E5ECF6\", \"gridcolor\": \"white\", \"gridwidth\": 2, \"linecolor\": \"white\", \"showbackground\": true, \"ticks\": \"\", \"zerolinecolor\": \"white\"}}, \"shapedefaults\": {\"line\": {\"color\": \"#2a3f5f\"}}, \"ternary\": {\"aaxis\": {\"gridcolor\": \"white\", \"linecolor\": \"white\", \"ticks\": \"\"}, \"baxis\": {\"gridcolor\": \"white\", \"linecolor\": \"white\", \"ticks\": \"\"}, \"bgcolor\": \"#E5ECF6\", \"caxis\": {\"gridcolor\": \"white\", \"linecolor\": \"white\", \"ticks\": \"\"}}, \"title\": {\"x\": 0.05}, \"xaxis\": {\"automargin\": true, \"gridcolor\": \"white\", \"linecolor\": \"white\", \"ticks\": \"\", \"title\": {\"standoff\": 15}, \"zerolinecolor\": \"white\", \"zerolinewidth\": 2}, \"yaxis\": {\"automargin\": true, \"gridcolor\": \"white\", \"linecolor\": \"white\", \"ticks\": \"\", \"title\": {\"standoff\": 15}, \"zerolinecolor\": \"white\", \"zerolinewidth\": 2}}}},\n",
       "                        {\"responsive\": true}\n",
       "                    ).then(function(){\n",
       "                            \n",
       "var gd = document.getElementById('8cb640df-3344-4d9b-ab28-4d0a225c9d2f');\n",
       "var x = new MutationObserver(function (mutations, observer) {{\n",
       "        var display = window.getComputedStyle(gd).display;\n",
       "        if (!display || display === 'none') {{\n",
       "            console.log([gd, 'removed!']);\n",
       "            Plotly.purge(gd);\n",
       "            observer.disconnect();\n",
       "        }}\n",
       "}});\n",
       "\n",
       "// Listen for the removal of the full notebook cells\n",
       "var notebookContainer = gd.closest('#notebook-container');\n",
       "if (notebookContainer) {{\n",
       "    x.observe(notebookContainer, {childList: true});\n",
       "}}\n",
       "\n",
       "// Listen for the clearing of the current output cell\n",
       "var outputEl = gd.closest('.output');\n",
       "if (outputEl) {{\n",
       "    x.observe(outputEl, {childList: true});\n",
       "}}\n",
       "\n",
       "                        })\n",
       "                };\n",
       "                });\n",
       "            </script>\n",
       "        </div>"
      ]
     },
     "metadata": {},
     "output_type": "display_data"
    }
   ],
   "source": [
    "from plot_text_sim import *\n",
    "results[0][\"original\"]['text_beginning'] = results[0][\"original\"].index.str[:10]\n",
    "_ = plot_text_sim(results[0][\"original\"]['bert_original_cos'], results[0][\"original\"].index)"
   ]
  },
  {
   "cell_type": "markdown",
   "metadata": {},
   "source": [
    "#### Validation 2: random paper citing context with original cited paper"
   ]
  },
  {
   "cell_type": "code",
   "execution_count": 55,
   "metadata": {
    "hide_input": false,
    "scrolled": true
   },
   "outputs": [
    {
     "data": {
      "application/vnd.plotly.v1+json": {
       "config": {
        "plotlyServerURL": "https://plot.ly"
       },
       "data": [
        {
         "hovertext": [
          "Over the past decade , the incidence and prevalence of end<br>-stage renal disease ( ESRD ) , a condition where a patient<br>loses his or her kidney function , has continued to increase<br>in almost every country in the world ( United States Renal<br>Data System , 2012 ) .",
          "In the United States , for example , nearly 600,000 people<br>with ESRD must decide whether to continue life on dialysis<br>or have a deceased donor kidney transplant ( DDKT ) or<br>living donor kidney transplant ( LDKT ) ( United States<br>Renal Data System , 2012 )",
          ". Compared with life on dialysis , transplant is widely<br>recognized as the optimal treatment due to its association<br>with superior patient survival and quality of life ( Neipp<br>et al . , 2006 ; Orr et al . , 2007 ; United States Renal<br>Data System , 2012 ) .",
          "Patients who are able to receive a LDKT from a family member<br>or friend have the best treatment outcomes , living 46<br>percent longer than if they remained on dialysis and 8<br>percent longer than if they got a DDKT ( United States Renal<br>Data System , 2012 ) .",
          "With a shortage of deceased donor kidneys available for<br>transplant internationally ( United States Renal Data System<br>, 2012 ) , LDKT is also the only transplant option with the<br>potential for continued growth .",
          "For these reasons , community nephrologists , dialysis<br>professionals , and transplant staff are having<br>conversations with ESRD patients and their support networks<br>regularly about the treatment option of LDKT .",
          "The decision whether to pursue LDKT is complex .",
          "ESRD patients pursuing LDKT must complete a battery of<br>medical and psychological evaluations , weigh the risks and<br>benefits of LDKT for themselves and any donors , be ready<br>and willing to have another person in their life donate to<br>them , feel confident making efforts to find potential<br>living donors , and be willing to have surgery and adhere to<br>a postoperative care regimen .",
          "In addition to concerns and questions that patients have<br>about undergoing transplant surgery themselves ( Kurz et al<br>. , 2007 ; Waterman and Brennan , 2007 ; Waterman et al . ,<br>2006 ) , accepting a kidney from a living donor , especially<br>from a child of the patient , can be very difficult (<br>Waterman et al . , 2006 ) .",
          "Research also has shown that many patients feel vulnerable<br>asking others to donate a kidney to them ( Rodrigue et al .<br>, 2008a ) , and find taking specific actions like having<br>discussions with one 's family or friends to be very<br>challenging ( Boulware et al . , 2012 ; Waterman et al . ,<br>2006 ) .",
          "Finally , patients also have high levels of concern about<br>living donors losing their remaining kidney function ,<br>financial costs incurred by donors , and donors '<br>disappointment if the transplant fails ( Waterman et al . ,<br>2006 ) .",
          "Challenges to successful pursuit of LDKT also may be<br>heightened for ethnic/racial minority patients .",
          "Studies have shown that non -Whites feel very uncomfortable<br>discussing LDKT with others ( Rodrigue et al . , 2008a ;<br>Waterman et al . , 2006 ) .",
          "In addition , Black kidney patients are more likely to have<br>illnesses like diabetes and hypertension that run in<br>families , reducing the likelihood of locating potential<br>living donors within their families ( Waterman et al . ,<br>2010b ) .",
          "Mistrust of health -care providers is also more common for<br>Blacks than Whites ( Boulware et al . , 2003 ) , which may<br>affect their trust in physicians ' recommendations for LDKT<br>and cause suspicion of LDKT itself",
          "( Boulware et al . , 2002",
          "( Boulware et al . , , 2003 .",
          "Currently , minority patients are less likely to receive<br>LDKTs compared to White patients ( Gore et al . , 2009 ) .",
          "Educational interventions to increase transplant knowledge<br>and motivation to pursue LDKT have shown some success at<br>increasing rates of LDKT ( Boulware et al . , 2012 ;<br>Rodrigue et al . , 2008b ) .",
          "However , as providers initiate conversations about the<br>possibility of LDKT , having the ability to accurately<br>assess individual patients ' readiness to pursue LDKT ,<br>weighing of the risks and benefits of LDKT , and confidence<br>in their own ability to find a living donor is very<br>important .",
          "One theory of behavioral change , the transtheoretical model<br>( TTM ) , has already been successfully applied to<br>transplant decision -making , specifically organ donation<br>decision -making ( Hall et al . , 2007 ; Robbins et al . ,<br>2001 ) and whether ESRD patients would pursue DDKT (<br>Waterman et al . , 2010a ) .",
          "The TTM explains motivation and intentional behavior change<br>based on thoughts , experiences , and behaviors and<br>comprises four key constructs : Stage of Change ( SOC ) ,<br>which measures how patients ' motivation to take specific<br>behavior changes through time ( Prochaska and Di Clemente ,<br>1983 ) ;",
          "Decisional Balance ( DB ) , an assessment of how a patient<br>weighs the Pros and Cons of behavior change ( Velicer et al<br>. , 1985 ) ;",
          "Self -Efficacy ( SE ) , which captures whether an individual<br>believes they can make or sustain a behavior change in<br>difficult situations ( Bandura , 1977 ) ; and Processes of<br>Change , which capture experiential and behavioral<br>strategies used to facilitate behavior change .",
          "The validity and reliability of these decision -making<br>constructs have been well evidenced ( Hall and Rossi , 2008<br>) .",
          "This study focuses on the SOC , DB , and SE constructs of<br>the TTM which , to date , have never been examined for their<br>efficacy in measuring the LDKT decision -making of ESRD<br>patients .",
          "We recruited two independent , racially diverse samples of<br>ESRD patients from dialysis centers and Barnes -Jewish<br>Transplant Center ( BJTC ) in St Louis , Missouri , to<br>evaluate the fit of the TTM and its constructs for measuring<br>patients ' LDKT decision -making ( Sample 1 and Sample 2 ) .",
          "Patients were invited to participate in the study by<br>telephone if they were 18 years or older , English -speaking<br>, could hear and cognitively understand the terms of consent<br>, had not received a previous kidney transplant or were told<br>they were ineligible to receive a transplant , and who had<br>poor kidney function requiring dialysis or immediate pursuit<br>of transplant .",
          "Each patient volunteered to participate in the study without<br>remuneration .",
          "Recruitment and survey procedures were approved by the<br>Internal Review Board ( # 09-1294 ) at Washington University<br>School of Medicine in St Louis , Missouri .",
          "In addition , Medical Directors and dialysis center Clinical<br>Research Departments approved participation by dialysis<br>patients .",
          "Sample 1 -Telephone surveys of Sample 1 were conducted from<br>November 2009 to August 2011 .",
          "Telephone contact information for Sample 1 was obtained for<br>627 patients who were in all phases of transplant evaluation<br>at BJTC ( n = 393 ) and receiving dialysis care within<br>participating local centers ( n = 234 ) .",
          "Overall , 30 percent ( n = 187 ) could not be reached after<br>multiple attempts .",
          "Among the 440 patients reached , 279 ( 63.4 % ) completed<br>the survey , 64 ( 14.5 % ) refused , and 99 ( 22.5 % ) were<br>ineligible based on study exclusion criteria .",
          "The majority of participants were on dialysis ( 82 % ) and<br>male ( 50.2 % ) , with an average age of 54 years ( standard<br>deviation ( SD ) = 12.6 years ) .",
          "Patients varied by race/ethnicity : from 49.6 percent White<br>, 47.4 percent Black , 1.1 percent Hispanic/Latino , 0.4<br>percent Asian , 0.7 percent American Indian or Alaska native<br>, and 0.8 percent multiracial/other .",
          "Educational level varied , with some having a college degree<br>or postcollege training ( 25.4 % ) , a high school diploma<br>or some college or vocational school training ( 60.2 % ) ,<br>or less than a high school education ( 14.4% ) .Sample 2<br>-Telephone surveys of Sample 2 were conducted between<br>January and April 2012 .",
          "Contact information was obtained for 478 patients , 12.8<br>percent ( n = 61 ) of whom could not be reached .",
          "Among the remaining 417 patients reached , 204 ( 48.9 % )<br>completed the survey , 124 ( 29.7 % ) refused , and 89 (<br>21.3 % ) were ineligible based on study exclusion criteria .",
          "Most participants were on dialysis ( 74 % ) , male ( 65 % )<br>, and had a mean age of 54 years ( SD = 12.4 years ) .",
          "Patients were 64.7 percent White , 33.3 percent Black , 0.5<br>percent Hispanic / Latino , 0.5 percent Vietnamese , and 1.0<br>percent multiracial/other .",
          "A group of health psychologists and professionals with<br>expertise in measure development , TTM , kidney<br>transplantation , and organ donation reviewed previous LDKT<br>formative research",
          "( Waterman et al . , 2004a",
          "( Waterman et al . , , 2004b and developed a set of<br>preliminary measures of LDKT SOC , DB , and SE .",
          "A detailed description of the development of identical TTM<br>constructs for DDKT decision -making has been previously<br>published by the authors ( Waterman et al . , 2010a ) .",
          "Demographics and clinical characteristics -Patients '<br>demographic and clinic characteristics were collected ,<br>including age , sex , race and ethnicity , level of<br>education , and the length of time the patient was on<br>dialysis . SOC -Sample 1 -SOC assesses patients ' readiness<br>to pursue LDKT .",
          "Consistent with past research ( Prochaska and Di Clemente ,<br>1983 ) , a series of questions were developed to determine<br>patients ' stage of readiness to pursue LDKT .",
          "In Sample 1 , pursuing LDKT was defined as a person being<br>willing to do three things : ( 1 ) accept a kidney from a<br>living donor , ( 2 ) be evaluated for transplant , and ( 3 )<br>take actions to get the word out about their need for a<br>living donor .",
          "After hearing this general LDKT description , patients chose<br>one of four mutually exclusive categories that defined their<br>own stage of readiness to get a LDKT : Precontemplation (<br>not considering getting a LDKT in the next 6 months ) ,<br>Contemplation ( considering taking actions to get a LDKT in<br>the next 6 months ) , Preparation ( preparing to take<br>actions to get a LDKT in the next 30 days ) , and Action (<br>taking actions to find living donors and get a LDKT ) .",
          "Following the SOC algorithm , participants were presented<br>with a list of seven possible LDKT actions ( e.g . accept<br>someone 's offer to be a living donor , share need for<br>living donor with large community ) and , for each action ,<br>indicated whether they were willing to take this action (<br>yes/no ) .SOC -Sample 2 -Participant feedback suggested that<br>the wording and order of the SOC assessment questions were<br>somewhat confusing .",
          "To further improve the clarity of the SOC algorithm and ease<br>of administration , for Sample 2 , participants were first<br>presented with a list of seven LDKT actions ( Table 1 ; for<br>example , accept someone 's offer to be a living donor ,<br>share need for living donor with large community ) and for<br>each possible LDKT action asked whether they have \" already<br>done this , \" \" are planning to do this , \" or \" do not plan<br>to do this . \"",
          "Then , patients were asked to choose one of the four<br>following categories to define their readiness to take LDKT<br>actions : Precontemplation ( I am not considering taking<br>actions in the next 6 months to pursue living donation ) ,<br>Contemplation ( I am considering taking actions in the next<br>6 months to pursue living donation ) , Preparation ( I am<br>preparing to take actions in the next 30 days to pursue<br>living donation ) , Action ( I am taking actions to pursue<br>living donation ) .DB -Consistent with previous research , a<br>24 -item DB measure was created to assess the Pros and Cons<br>of pursuing LDKT ( Velicer et al . , 1985 ) and administered<br>in Sample 1 .",
          "This measure provides information about the relative<br>importance an individual places on specific positive<br>outcomes ( e.g . living donation can happen more quickly<br>than deceased donation ) and negative outcomes ( e.g . the<br>living donor could be harmed by surgery ) .",
          "Patients were asked to rate , \" How important is this<br>statement to your decision about living donor transplant ? \"<br>on a 5 -point scale ranging from , \" not important \" ( 1 )<br>to \" extremely important \" ( 5 ) .",
          "Sample 2 administered only a reduced measure set of 12 items<br>determined after analysis of Sample 1 ( Table 2 ) .",
          "SE -SE captures whether an individual believes they can make<br>or sustain a behavior change in difficult situations (<br>Bandura , 1977 ; Velicer et al . , 1990 ) .",
          "For Sample 1 , an 11 -item measure was created to assess an<br>individual 's degree of confidence in their ability to<br>pursue LDKT in a variety of difficult situations ( e.g . You<br>asked someone to donate and they turned you down ) .",
          "Patients were asked to rate , \" How confident are you that<br>you could get a living donor transplant ? \" on a 5 -point<br>scale , ranging from \" not at all confident \" ( 1 ) to \"<br>completely confident \" ( 5 ) .",
          "We conducted four phases of analysis using a sequential<br>method for scale development ( Comrey , 1988 ; Goldberg and<br>Velicer , 2006 ; Jackson , 1971 ; Redding et al . , 2006 )<br>to assess the reliability and validity of the new SOC , DB ,<br>and SE measures for LDKT : ( 1 ) SOC measure development , (<br>2 ) exploratory analyses for DB and SE , ( 3 ) confirmatory<br>analyses for DB and SE , and ( 4 ) external validation with<br>the SOC measure . SOC measure development ( Samples 1 and 2<br>) -After focus groups were conducted to understand patients<br>' readiness to pursue LDKT generally and take specific<br>actions to find living donors , two different measures were<br>created to measure SOC and assessed with different samples<br>of patients to ensure clarity ( Waterman et al . , 2006 ) .",
          "Descriptive analyses were conducted to examine the<br>proportion of individuals in each SOC in Samples 1 and 2 .",
          "Then , each of the seven possible LDKT actions in Sample 2<br>was collapsed into two categories ( \" already done \" vs \"<br>have not done \" ( planning to do this or not planning to do<br>this ) ) .",
          "A series of chi -square tests were conducted to assess<br>whether individuals in different stages of LDKT readiness<br>differed significantly on whether they had completed each<br>behavior .",
          "In addition , all seven possible LDKT actions were included<br>in a logistic regression model to determine which actions<br>were the strongest predictors of being in the Action stage<br>compared to one of the pre -Action stages ( Precontemplation<br>, Contemplation , or Preparation ) .Exploratory phase (<br>Sample 1 ) -Exploratory factor analysis for the DB and SE<br>item sets was conducted using principle components analysis<br>( PCA ) with varimax rotation on the item intercorrelation<br>matrices for a random half of participants from Sample 1 ( n<br>= 134 ) .",
          "The number of components retained was determined using the<br>minimum average partial procedure ( MAP ) ( Velicer , 1976 )<br>and parallel analysis ( Horn , 1965 ; Zwick and Velicer ,<br>1986 ) .",
          "The dimensional and psychometric properties of each measure<br>were assessed .",
          "The aims of these exploratory analyses were to : ( 1 )<br>determine the number of components present and estimate the<br>correlation between them ; ( 2 ) provide estimates of the<br>factor loadings , eliminate complex items ( component<br>loadings ≥ 0.40 on both components ) , and items with poor<br>loadings ( < 0.40 on both components ) ; and ( 3 ) estimate<br>internal consistency for each component using Cronbach 's<br>alpha .",
          "Furthermore , final item selection was determined on the<br>basis of item clarity , simple expression of the idea ,<br>minimization of redundancy with other selected items , and<br>being representative of the conceptual definitions of the<br>constructs .",
          "Confirmatory phase ( Samples 1 and 2 ) -Confirmatory factor<br>analysis for the DB and SE scales using structural equation<br>modeling in EQS Structural Equation Modeling Software (<br>Bentler and Wu , 1993 ) was conducted on the second random<br>50 percent of Sample 1 ( n = 145 ) and also reconfirmed with<br>all participants from Sample 2 ( N = 204 ) .",
          "Multiple models were tested and compared to determine the<br>best fitting model using maximum likelihood ( ML ) as the<br>estimator of fit .",
          "Four different fit indices were examined for each of the<br>alternative models .",
          "These included ( 1 ) the likelihood ratio chi -square test<br>statistic ; ( 2 ) the goodness -of -fit index ( GFI ) ; ( 3<br>) the comparative fit index ( CFI ) ; and ( 4 ) the average<br>absolute standardized residual ( AASR ) statistic .",
          "Traditionally , values of GFI and CFI above 0.80 indicate<br>good fit , while values above 0.90 indicate excellent fit",
          "( Tabachnick and Fidell , 2001 ). For AASR , values below<br>0.06 indicate excellent fit",
          "( Tabachnick and Fidell , 2001 ). All four fit indices were<br>compared across models .",
          "External validation -SOC was further validated using Sample<br>2 data by examining the relationships of SOC with DB and SE<br>via multivariate analysis of variance ( MANOVA ) and<br>analysis of variance .",
          "The 279 patients from Sample 1 were classified by their LDKT<br>SOC , with patients ranging from Precontemplation ( 29.5 % )<br>, Contemplation ( 20.5 % ) , Preparation ( 9.4 % ) , to<br>Action ( 40.6 % ) .",
          "After modification of the SOC wording , the 204 patients<br>from Sample 2 ranged in stages of LDKT readiness similarly ,<br>from Precontemplation ( 28.2 % ) , Contemplation ( 19.8 % )<br>, Preparation ( 11.9 % ) , to Action ( 40.1% ) .A series of<br>chi -square tests revealed that individuals in different<br>stages of readiness to receive a living donor transplant<br>differed significantly on whether they had completed each of<br>the seven LDKT behaviors , with patients in Action being<br>most likely to have done five of the seven behaviors",
          "( p < 0.05 ; Table 1 ). Only one LDKT behavior , \" Send a<br>letter or email about your interest in living donation to<br>important people in your life ? \" did not vary significantly<br>by SOC.Using logistic regression , a test of the full model<br>against a constant only model was statistically significant<br>, indicating that the seven possible LDKT actions as a set<br>reliably distinguished between being pre -Action versus<br>Action SOC ( chi -square = 34.77 , p < 0.001 with df = 7 ) .",
          "Nagelkerke 's R 2 of 0.214 indicated a moderate relationship<br>between prediction and grouping .",
          "The Wald criterion demonstrated that only three behaviors<br>made a significant contribution to prediction of being in<br>Action versus pre -Action : \" Accept someone 's offer to<br>donate a kidney if they volunteered \" ( odds ratio ( OR ) =<br>2.23 ( 1.07 , 4.65 ) , p < 0.05 ) ;",
          "\" Share your need for a living donor with a large community<br>through a general announcement \" ( OR = 2.38 ( 1.11 , 5.10 )<br>, p < 0.05 ) ; and \" Ask a potential donor directly to be<br>tested \" ( OR = 2.47 ( 1.22 , 4.98 ) , p < 0.05 ) .",
          "DB -The pool of 24 items was reduced to 12 items .",
          "MAP and parallel analysis indicated that a two -component<br>solution best described the Pros and Cons factors .",
          "Table 2 presents the items , exploratory factor loadings ,<br>and coefficient alpha for the Pros and Cons scales .",
          "The two factors had good item loadings ranging from 0.6 to<br>0.8 and contained a satisfactory number of items ( 6 ) (<br>Guadagnoli and Velicer , 1988 ; Velicer , 1976 )",
          ". Scale scores were derived from the sum of the individual<br>item scores .",
          "These scales were shown to be internally consistent and<br>correlated ( r = 0.28 ) .",
          "This final two -component solution showed good stability and<br>accounted for 51.26 percent of the total item variance .",
          "Table 3 presents the means and SDs for Pros and Cons by SOC<br>.",
          "SE -The pool of 11 items was reduced to 6 items .",
          "MAP and parallel analysis indicated that a one -component<br>solution best described the data .",
          "Table 2 presents the items , exploratory factor loadings ,<br>and coefficient alpha for the SE scale .",
          "This final one -component solution showed good stability and<br>accounted for 67.83 percent of the total item variance .",
          "DB -In both the random half of Sample 1 and in all of Sample<br>2 , four models were tested: ( 1 ) null model ( suggesting<br>no latent factors and used as a comparative model ) , ( 2 )<br>one factor , ( 3 ) two uncorrelated Pros and Cons factors ,<br>and ( 4 ) two correlated Pros and Cons factors .",
          "In Sample 1 , the two -factor correlated model demonstrated<br>the best fit , χ 2 ( 53 ) = 68.45 , p > 0.05 , CFI = 0.97 ,<br>GFI = 0.92 , and AASR = 0.04 .",
          "The correlation between the Pros and Cons scales was 0.25 .",
          "In Sample 2 , the two -factor uncorrelated model<br>demonstrated the best fit , χ 2 ( 54 ) = 94.06 , p < 0.01 ,<br>CFI = 0.95 , GFI = 0.93 , and AASR = 0.04 .",
          "The confirmatory factor loadings and coefficient alpha from<br>both samples are presented in Table 2 , and Table 3 presents<br>the means and SDs SOC .",
          "SE -In both the second random half of Sample 1 and in all of<br>Sample 2 , two models were tested : the null model and a one<br>-factor model .",
          "In Sample 1 , the one -factor model demonstrated the best<br>fit .",
          "Results produced strong factor loadings and excellent model<br>fit , ( χ 2 ( 9 ) = 26.501 , p < 0.01 , CFI = 0.96 , GFI =<br>0.94 , and AASR = 0.02 ) .",
          "Similarly , in Sample 2 , the one -factor model demonstrated<br>the best fit with strong factor loadings and excellent model<br>fit , ( χ 2 ( 9 ) = 43.45 , p < 0.01 , CFI = 0.95 , GFI =<br>0.93 , and AASR = 0.04 ) .",
          "Results indicated that the Pros increased 0.92 SD , Cons<br>decreased 0.29 SD , and SE increased 0.80 SD from<br>Precontemplation to Action , which is consistent with the<br>typical changes found across behaviors in meta -analytic<br>research ( Hall and Rossi , 2004 ; Prochaska et al . , 1994<br>) ( see Figure 1 )",
          "While educational interventions to increase ESRD patient<br>motivation to pursue LDKT are underway in transplant and<br>dialysis centers nationally ( Boulware et al . , 2012 ;<br>Rodrigue et al . , 2008a ) , there are no validated measures<br>of LDKT decision -making .",
          "Using the TTM of Behavioral Change as a theoretical<br>foundation , we developed three new measures of SOC , DB ,<br>and SE .",
          "This study is the first to demonstrate that the TTM<br>theoretical foundation and key TTM constructs are well<br>suited to assess the decision -making of kidney patients<br>considering whether to pursue LDKT.Successful receipt of<br>LDKT requires the involvement of another person -a matching<br>living donor .",
          "One important question raised by this study is whether<br>patient decision -making related to this type of behavior<br>could be guided by the constructs of the TTM .",
          "We found that the staging assessment for pursuit of LDKT is<br>consistent with staging assessments for many other complex<br>behaviors .",
          "The measure development process led to a clear and ordered<br>assessment of LDKT SOC , where patients in Action for LDKT<br>readiness reported taking specific actions like asking a<br>potential living donor to be evaluated .",
          "These actions may or may not result in finding a matching<br>living donor , thus patients can shift in their LDKT<br>readiness over time .",
          "In both Samples 1 and 2 , despite slight variation in<br>question wording and order differences , there was<br>remarkable similarity between the percentage of patients in<br>each SOC across ESRD patients , suggesting the readiness<br>construct meaningfully applies to LDKT decision -making and<br>is robust enough to withstand variation in measurement .",
          "The validated SOC measure asks how ready a patient is to<br>take LDKT actions generally , and then provides additional<br>clarity on the specific LDKT actions an individual patient<br>is willing to take .",
          "Some behaviors , like generally talking to people about one<br>'s interest in transplant , sharing educational materials<br>about living donation with people in one 's life , and<br>allowing others to share their need for a living donor<br>kidney , are generally more common for all patients to be<br>ready to take .",
          "However , three LDKT actions , accepting someone 's offer to<br>donate a kidney , sharing their need for a living donor with<br>a large community through a general announcement , and<br>asking a potential donor to be tested , are significantly<br>more likely to be taken when a patient is in Action ,<br>compared to patients in pre -Action stages .",
          "Thus , when tailoring discussion and educational feedback<br>for patients in early stages of readiness , recommendations<br>to take more common LDKT actions like generally talking to<br>people about their interest in living donation and sharing<br>educational materials about LDKT with people in their life<br>may be more ideal .",
          "However , patients in Action will more likely benefit from<br>additional discussion and practical assistance with doing<br>behaviors like getting the word out about their need for a<br>living donor to large groups of individuals , asking<br>potential donors directly to be evaluated , and accepting<br>someone 's offer to donate .",
          "Future research must continue to learn more about the<br>different patterns of LDKT actions and how they relate to<br>pursuit and successful receipt of LDKT.In addition , brief ,<br>internally consistent measures of DB and SE for pursuit of<br>LDKT were developed .",
          "Using data from Sample 1 , evaluations of the DB Pros , Cons<br>, and SE scales by stage were largely consistent with<br>previous TTM research in DDKT ( Waterman et al . , 2010a )<br>and in other health behavior applications ( Hall and Rossi ,<br>2008 ) .",
          "Study 2 results found that increases in Pros of LDKT from<br>Precontemplation ( 0.92 SD found ; 1 SD expected ) and<br>decreases in Cons of LDKT from Precontemplation ( 0.29 SD<br>found ; 0.5 SD expected ) were consistent with patterns<br>shown in other meta -analytic work with many other behaviors<br>( Hall and Rossi , 2004 ; Prochaska et al . , 1994 ) .",
          "Although they build upon the DB measure developed for<br>pursuit of DDKT ( Waterman et al . , 2010a ) , the Pros and<br>Cons of LDKT pursuit focus more on the elements ( i.e .<br>interpersonal challenges ) that are specific to the living<br>donor process .",
          "After an assessment of DB , a discussion with ESRD patients<br>that emphasizes the LDKT Pros and de -emphasizes the Cons<br>may help them become more ready to pursue LDKT.As predicted<br>, the SE measure developed in this study emerged as a single<br>, brief internally consistent scale assessing situational SE<br>or confidence to pursue LDKT in a variety of difficult<br>situations .",
          "In their 2001 meta -analysis examining SE in 25 studies<br>across 10 health behaviors , Rossi and Redding ( 2001 )<br>found that SE increased significantly in a linear or<br>curvilinear fashion across stages of change for the majority<br>of these studies .",
          "Across both samples presented here , scores on the SE<br>measure increased approximately 0.80 SD from<br>Precontemplation to Action .",
          "The items in the scale most reflect the challenges that<br>patients will likely face if they actively pursue LDKT with<br>particular emphasis on reaching out to potential donors .",
          "This study had several limitations .",
          "First , although our SOC measure regards patients ' overall<br>pursuit of LDKT , this behavior can be divided into three<br>separate behaviors : acceptance of any kidney transplant (<br>regardless of the organ source ) , getting evaluated for<br>transplant , and taking actions to find a living donor .",
          "Future research should examine how well our measure<br>adequately represents these separate behaviors .",
          "Second , our samples were both crosssectional .",
          "Although previous longitudinal studies investigating the<br>behavior of TTM constructs have supported the findings of<br>other cross -sectional studies ( Prochaska , 1994 ) , future<br>longitudinal studies should be conducted to examine the<br>measures developed here .",
          "Third , our primarily White and Black ESRD patient samples<br>were recruited from a single transplant center and a few<br>dialysis centers in the midwestern United States and may not<br>represent the attitudes and dispositions of ESRD patients<br>nationally .",
          "Further validation of these measures with a nationally<br>representative sample of ESRD patients , particularly<br>Hispanics/Latinos , is an important next step .",
          "Invariance testing of these measures across important<br>demographic subgroups ( e.g . Black versus White ) groups<br>should also occur .",
          "Finally , while our research strongly supports the<br>application of the TTM constructs to pursuit of LDKT ,<br>future research on ESRD patients ' and their support<br>networks ' views and attitudes on LDKT may yield other<br>relevant dimensions for study as well as introduce new items<br>that may improve the LDKT Pros , Cons , and SE measures .",
          "Further research may also lead to refinements of the<br>assessment of LDKT action steps .",
          "To treat the growing number of ESRD patients optimally , we<br>must increase the rates of LDKT nationally .",
          "Valid TTM -based measures that let us accurately assess<br>patients ' initial LDKT readiness , DB , and SE and track<br>shifts in decision -making as their kidney function worsens<br>may help clinicians have more effective conversations with<br>patients .",
          "Building upon the DDKT decision -making measures previously<br>developed by this team ( Waterman et al . , 2010a ) , after<br>this study , a complete set of theoretically consistent<br>transplant decision -making measures have now been validated<br>.",
          "These LDKT patient decision -making measures can be<br>incorporated into LDKT interventions to better honor the<br>needs of individual kidney patients and assess the<br>effectiveness of these interventions .",
          "Pros , Cons and Self -Efficacy to pursue living donation by<br>Stage of Change to pursue living donation ( Sample 2 ) .",
          "PC : Precontemplation ;",
          "C : Contemplation ;",
          "PR : Preparation ;",
          "A : Action .",
          "T -scores were weighted based on Stage of Change proportions<br>to equalize the distribution and allow for more accurate<br>comparisons across the Stages of Change ."
         ],
         "type": "bar",
         "x": [
          0,
          1,
          2,
          3,
          4,
          5,
          6,
          7,
          8,
          9,
          10,
          11,
          12,
          13,
          14,
          15,
          16,
          17,
          18,
          19,
          20,
          21,
          22,
          23,
          24,
          25,
          26,
          27,
          28,
          29,
          30,
          31,
          32,
          33,
          34,
          35,
          36,
          37,
          38,
          39,
          40,
          41,
          42,
          43,
          44,
          45,
          46,
          47,
          48,
          49,
          50,
          51,
          52,
          53,
          54,
          55,
          56,
          57,
          58,
          59,
          60,
          61,
          62,
          63,
          64,
          65,
          66,
          67,
          68,
          69,
          70,
          71,
          72,
          73,
          74,
          75,
          76,
          77,
          78,
          79,
          80,
          81,
          82,
          83,
          84,
          85,
          86,
          87,
          88,
          89,
          90,
          91,
          92,
          93,
          94,
          95,
          96,
          97,
          98,
          99,
          100,
          101,
          102,
          103,
          104,
          105,
          106,
          107,
          108,
          109,
          110,
          111,
          112,
          113,
          114,
          115,
          116,
          117,
          118,
          119,
          120,
          121,
          122,
          123,
          124,
          125,
          126,
          127,
          128,
          129,
          130,
          131,
          132,
          133,
          134,
          135,
          136,
          137,
          138,
          139,
          140,
          141,
          142,
          143,
          144
         ],
         "y": [
          0.16645723581314087,
          0.20211327075958252,
          0.16196805238723755,
          0.1776328682899475,
          0.22621309757232666,
          0.17023825645446777,
          0.2597208023071289,
          0.20548319816589355,
          0.16090738773345947,
          0.12961655855178833,
          0.16989833116531372,
          0.16821777820587158,
          0.2109147310256958,
          0.14154958724975586,
          0.13991910219192505,
          0.32240331172943115,
          0.30861741304397583,
          0.15881484746932983,
          0.16499567031860352,
          0.15568149089813232,
          0.15352469682693481,
          0.4896869659423828,
          0.24815237522125244,
          0.27683138847351074,
          0.18328368663787842,
          0.23496019840240479,
          0.26344209909439087,
          0.273639976978302,
          0.2701343894004822,
          0.2930160164833069,
          0.26981842517852783,
          0.34452134370803833,
          0.3118314743041992,
          0.2647278904914856,
          0.31192123889923096,
          0.29573172330856323,
          0.2737199664115906,
          0.3307104706764221,
          0.28189533948898315,
          0.3062671422958374,
          0.27713876962661743,
          0.3137439489364624,
          0.3340594172477722,
          0.29881155490875244,
          0.2671970725059509,
          0.25604695081710815,
          0.2669222950935364,
          0.24082428216934204,
          0.2447667121887207,
          0.2349429726600647,
          0.28022444248199463,
          0.26420438289642334,
          0.2842928171157837,
          0.18116343021392822,
          0.28027141094207764,
          0.315807044506073,
          0.24490052461624146,
          0.2383386492729187,
          0.27955567836761475,
          0.30798178911209106,
          0.2762964963912964,
          0.29389625787734985,
          0.2645280361175537,
          0.3754279613494873,
          0.2713412046432495,
          0.31024831533432007,
          0.2828987240791321,
          0.2902412414550781,
          0.3527601361274719,
          0.28816378116607666,
          0.2968956232070923,
          0.27127301692962646,
          0.2371079921722412,
          0.2444469928741455,
          0.2585780620574951,
          0.33944571018218994,
          0.2939358949661255,
          0.3051287531852722,
          0.3154814839363098,
          0.2601252794265747,
          0.5761336982250214,
          0.43855756521224976,
          0.3140079379081726,
          0.26860886812210083,
          0.3011547923088074,
          0.29536867141723633,
          0.3060821294784546,
          0.27971214056015015,
          0.2837327718734741,
          0.33304363489151,
          0.3311787247657776,
          0.2508389949798584,
          0.2919943928718567,
          0.2820912003517151,
          0.29415571689605713,
          0.3103334307670593,
          0.3255119323730469,
          0.315446674823761,
          0.33489686250686646,
          0.3142136335372925,
          0.3029542565345764,
          0.2781355381011963,
          0.2950328588485718,
          0.23518061637878418,
          0.156272292137146,
          0.24161142110824585,
          0.23682481050491333,
          0.21880453824996948,
          0.20038843154907227,
          0.2584298253059387,
          0.18664604425430298,
          0.28614479303359985,
          0.22813206911087036,
          0.1491575837135315,
          0.15778040885925293,
          0.196114182472229,
          0.15834611654281616,
          0.20903682708740234,
          0.22426098585128784,
          0.25250500440597534,
          0.20112836360931396,
          0.24366146326065063,
          0.21564608812332153,
          0.2767940163612366,
          0.24943768978118896,
          0.28232163190841675,
          0.20883256196975708,
          0.21806859970092773,
          0.3045254349708557,
          0.20605182647705078,
          0.24079996347427368,
          0.20399755239486694,
          0.21065360307693481,
          0.20095819234848022,
          0.22122728824615479,
          0.2111983299255371,
          0.16549444198608398,
          0.2382602095603943,
          0.18628519773483276,
          0.2712039351463318,
          0.2957003116607666,
          0.2963540554046631,
          0.3144078254699707,
          0.32768046855926514,
          0.2674214243888855
         ]
        }
       ],
       "layout": {
        "hoverlabel": {
         "bgcolor": "white",
         "font": {
          "family": "Rockwell",
          "size": 13
         }
        },
        "template": {
         "data": {
          "bar": [
           {
            "error_x": {
             "color": "#2a3f5f"
            },
            "error_y": {
             "color": "#2a3f5f"
            },
            "marker": {
             "line": {
              "color": "#E5ECF6",
              "width": 0.5
             }
            },
            "type": "bar"
           }
          ],
          "barpolar": [
           {
            "marker": {
             "line": {
              "color": "#E5ECF6",
              "width": 0.5
             }
            },
            "type": "barpolar"
           }
          ],
          "carpet": [
           {
            "aaxis": {
             "endlinecolor": "#2a3f5f",
             "gridcolor": "white",
             "linecolor": "white",
             "minorgridcolor": "white",
             "startlinecolor": "#2a3f5f"
            },
            "baxis": {
             "endlinecolor": "#2a3f5f",
             "gridcolor": "white",
             "linecolor": "white",
             "minorgridcolor": "white",
             "startlinecolor": "#2a3f5f"
            },
            "type": "carpet"
           }
          ],
          "choropleth": [
           {
            "colorbar": {
             "outlinewidth": 0,
             "ticks": ""
            },
            "type": "choropleth"
           }
          ],
          "contour": [
           {
            "colorbar": {
             "outlinewidth": 0,
             "ticks": ""
            },
            "colorscale": [
             [
              0,
              "#0d0887"
             ],
             [
              0.1111111111111111,
              "#46039f"
             ],
             [
              0.2222222222222222,
              "#7201a8"
             ],
             [
              0.3333333333333333,
              "#9c179e"
             ],
             [
              0.4444444444444444,
              "#bd3786"
             ],
             [
              0.5555555555555556,
              "#d8576b"
             ],
             [
              0.6666666666666666,
              "#ed7953"
             ],
             [
              0.7777777777777778,
              "#fb9f3a"
             ],
             [
              0.8888888888888888,
              "#fdca26"
             ],
             [
              1,
              "#f0f921"
             ]
            ],
            "type": "contour"
           }
          ],
          "contourcarpet": [
           {
            "colorbar": {
             "outlinewidth": 0,
             "ticks": ""
            },
            "type": "contourcarpet"
           }
          ],
          "heatmap": [
           {
            "colorbar": {
             "outlinewidth": 0,
             "ticks": ""
            },
            "colorscale": [
             [
              0,
              "#0d0887"
             ],
             [
              0.1111111111111111,
              "#46039f"
             ],
             [
              0.2222222222222222,
              "#7201a8"
             ],
             [
              0.3333333333333333,
              "#9c179e"
             ],
             [
              0.4444444444444444,
              "#bd3786"
             ],
             [
              0.5555555555555556,
              "#d8576b"
             ],
             [
              0.6666666666666666,
              "#ed7953"
             ],
             [
              0.7777777777777778,
              "#fb9f3a"
             ],
             [
              0.8888888888888888,
              "#fdca26"
             ],
             [
              1,
              "#f0f921"
             ]
            ],
            "type": "heatmap"
           }
          ],
          "heatmapgl": [
           {
            "colorbar": {
             "outlinewidth": 0,
             "ticks": ""
            },
            "colorscale": [
             [
              0,
              "#0d0887"
             ],
             [
              0.1111111111111111,
              "#46039f"
             ],
             [
              0.2222222222222222,
              "#7201a8"
             ],
             [
              0.3333333333333333,
              "#9c179e"
             ],
             [
              0.4444444444444444,
              "#bd3786"
             ],
             [
              0.5555555555555556,
              "#d8576b"
             ],
             [
              0.6666666666666666,
              "#ed7953"
             ],
             [
              0.7777777777777778,
              "#fb9f3a"
             ],
             [
              0.8888888888888888,
              "#fdca26"
             ],
             [
              1,
              "#f0f921"
             ]
            ],
            "type": "heatmapgl"
           }
          ],
          "histogram": [
           {
            "marker": {
             "colorbar": {
              "outlinewidth": 0,
              "ticks": ""
             }
            },
            "type": "histogram"
           }
          ],
          "histogram2d": [
           {
            "colorbar": {
             "outlinewidth": 0,
             "ticks": ""
            },
            "colorscale": [
             [
              0,
              "#0d0887"
             ],
             [
              0.1111111111111111,
              "#46039f"
             ],
             [
              0.2222222222222222,
              "#7201a8"
             ],
             [
              0.3333333333333333,
              "#9c179e"
             ],
             [
              0.4444444444444444,
              "#bd3786"
             ],
             [
              0.5555555555555556,
              "#d8576b"
             ],
             [
              0.6666666666666666,
              "#ed7953"
             ],
             [
              0.7777777777777778,
              "#fb9f3a"
             ],
             [
              0.8888888888888888,
              "#fdca26"
             ],
             [
              1,
              "#f0f921"
             ]
            ],
            "type": "histogram2d"
           }
          ],
          "histogram2dcontour": [
           {
            "colorbar": {
             "outlinewidth": 0,
             "ticks": ""
            },
            "colorscale": [
             [
              0,
              "#0d0887"
             ],
             [
              0.1111111111111111,
              "#46039f"
             ],
             [
              0.2222222222222222,
              "#7201a8"
             ],
             [
              0.3333333333333333,
              "#9c179e"
             ],
             [
              0.4444444444444444,
              "#bd3786"
             ],
             [
              0.5555555555555556,
              "#d8576b"
             ],
             [
              0.6666666666666666,
              "#ed7953"
             ],
             [
              0.7777777777777778,
              "#fb9f3a"
             ],
             [
              0.8888888888888888,
              "#fdca26"
             ],
             [
              1,
              "#f0f921"
             ]
            ],
            "type": "histogram2dcontour"
           }
          ],
          "mesh3d": [
           {
            "colorbar": {
             "outlinewidth": 0,
             "ticks": ""
            },
            "type": "mesh3d"
           }
          ],
          "parcoords": [
           {
            "line": {
             "colorbar": {
              "outlinewidth": 0,
              "ticks": ""
             }
            },
            "type": "parcoords"
           }
          ],
          "pie": [
           {
            "automargin": true,
            "type": "pie"
           }
          ],
          "scatter": [
           {
            "marker": {
             "colorbar": {
              "outlinewidth": 0,
              "ticks": ""
             }
            },
            "type": "scatter"
           }
          ],
          "scatter3d": [
           {
            "line": {
             "colorbar": {
              "outlinewidth": 0,
              "ticks": ""
             }
            },
            "marker": {
             "colorbar": {
              "outlinewidth": 0,
              "ticks": ""
             }
            },
            "type": "scatter3d"
           }
          ],
          "scattercarpet": [
           {
            "marker": {
             "colorbar": {
              "outlinewidth": 0,
              "ticks": ""
             }
            },
            "type": "scattercarpet"
           }
          ],
          "scattergeo": [
           {
            "marker": {
             "colorbar": {
              "outlinewidth": 0,
              "ticks": ""
             }
            },
            "type": "scattergeo"
           }
          ],
          "scattergl": [
           {
            "marker": {
             "colorbar": {
              "outlinewidth": 0,
              "ticks": ""
             }
            },
            "type": "scattergl"
           }
          ],
          "scattermapbox": [
           {
            "marker": {
             "colorbar": {
              "outlinewidth": 0,
              "ticks": ""
             }
            },
            "type": "scattermapbox"
           }
          ],
          "scatterpolar": [
           {
            "marker": {
             "colorbar": {
              "outlinewidth": 0,
              "ticks": ""
             }
            },
            "type": "scatterpolar"
           }
          ],
          "scatterpolargl": [
           {
            "marker": {
             "colorbar": {
              "outlinewidth": 0,
              "ticks": ""
             }
            },
            "type": "scatterpolargl"
           }
          ],
          "scatterternary": [
           {
            "marker": {
             "colorbar": {
              "outlinewidth": 0,
              "ticks": ""
             }
            },
            "type": "scatterternary"
           }
          ],
          "surface": [
           {
            "colorbar": {
             "outlinewidth": 0,
             "ticks": ""
            },
            "colorscale": [
             [
              0,
              "#0d0887"
             ],
             [
              0.1111111111111111,
              "#46039f"
             ],
             [
              0.2222222222222222,
              "#7201a8"
             ],
             [
              0.3333333333333333,
              "#9c179e"
             ],
             [
              0.4444444444444444,
              "#bd3786"
             ],
             [
              0.5555555555555556,
              "#d8576b"
             ],
             [
              0.6666666666666666,
              "#ed7953"
             ],
             [
              0.7777777777777778,
              "#fb9f3a"
             ],
             [
              0.8888888888888888,
              "#fdca26"
             ],
             [
              1,
              "#f0f921"
             ]
            ],
            "type": "surface"
           }
          ],
          "table": [
           {
            "cells": {
             "fill": {
              "color": "#EBF0F8"
             },
             "line": {
              "color": "white"
             }
            },
            "header": {
             "fill": {
              "color": "#C8D4E3"
             },
             "line": {
              "color": "white"
             }
            },
            "type": "table"
           }
          ]
         },
         "layout": {
          "annotationdefaults": {
           "arrowcolor": "#2a3f5f",
           "arrowhead": 0,
           "arrowwidth": 1
          },
          "coloraxis": {
           "colorbar": {
            "outlinewidth": 0,
            "ticks": ""
           }
          },
          "colorscale": {
           "diverging": [
            [
             0,
             "#8e0152"
            ],
            [
             0.1,
             "#c51b7d"
            ],
            [
             0.2,
             "#de77ae"
            ],
            [
             0.3,
             "#f1b6da"
            ],
            [
             0.4,
             "#fde0ef"
            ],
            [
             0.5,
             "#f7f7f7"
            ],
            [
             0.6,
             "#e6f5d0"
            ],
            [
             0.7,
             "#b8e186"
            ],
            [
             0.8,
             "#7fbc41"
            ],
            [
             0.9,
             "#4d9221"
            ],
            [
             1,
             "#276419"
            ]
           ],
           "sequential": [
            [
             0,
             "#0d0887"
            ],
            [
             0.1111111111111111,
             "#46039f"
            ],
            [
             0.2222222222222222,
             "#7201a8"
            ],
            [
             0.3333333333333333,
             "#9c179e"
            ],
            [
             0.4444444444444444,
             "#bd3786"
            ],
            [
             0.5555555555555556,
             "#d8576b"
            ],
            [
             0.6666666666666666,
             "#ed7953"
            ],
            [
             0.7777777777777778,
             "#fb9f3a"
            ],
            [
             0.8888888888888888,
             "#fdca26"
            ],
            [
             1,
             "#f0f921"
            ]
           ],
           "sequentialminus": [
            [
             0,
             "#0d0887"
            ],
            [
             0.1111111111111111,
             "#46039f"
            ],
            [
             0.2222222222222222,
             "#7201a8"
            ],
            [
             0.3333333333333333,
             "#9c179e"
            ],
            [
             0.4444444444444444,
             "#bd3786"
            ],
            [
             0.5555555555555556,
             "#d8576b"
            ],
            [
             0.6666666666666666,
             "#ed7953"
            ],
            [
             0.7777777777777778,
             "#fb9f3a"
            ],
            [
             0.8888888888888888,
             "#fdca26"
            ],
            [
             1,
             "#f0f921"
            ]
           ]
          },
          "colorway": [
           "#636efa",
           "#EF553B",
           "#00cc96",
           "#ab63fa",
           "#FFA15A",
           "#19d3f3",
           "#FF6692",
           "#B6E880",
           "#FF97FF",
           "#FECB52"
          ],
          "font": {
           "color": "#2a3f5f"
          },
          "geo": {
           "bgcolor": "white",
           "lakecolor": "white",
           "landcolor": "#E5ECF6",
           "showlakes": true,
           "showland": true,
           "subunitcolor": "white"
          },
          "hoverlabel": {
           "align": "left"
          },
          "hovermode": "closest",
          "mapbox": {
           "style": "light"
          },
          "paper_bgcolor": "white",
          "plot_bgcolor": "#E5ECF6",
          "polar": {
           "angularaxis": {
            "gridcolor": "white",
            "linecolor": "white",
            "ticks": ""
           },
           "bgcolor": "#E5ECF6",
           "radialaxis": {
            "gridcolor": "white",
            "linecolor": "white",
            "ticks": ""
           }
          },
          "scene": {
           "xaxis": {
            "backgroundcolor": "#E5ECF6",
            "gridcolor": "white",
            "gridwidth": 2,
            "linecolor": "white",
            "showbackground": true,
            "ticks": "",
            "zerolinecolor": "white"
           },
           "yaxis": {
            "backgroundcolor": "#E5ECF6",
            "gridcolor": "white",
            "gridwidth": 2,
            "linecolor": "white",
            "showbackground": true,
            "ticks": "",
            "zerolinecolor": "white"
           },
           "zaxis": {
            "backgroundcolor": "#E5ECF6",
            "gridcolor": "white",
            "gridwidth": 2,
            "linecolor": "white",
            "showbackground": true,
            "ticks": "",
            "zerolinecolor": "white"
           }
          },
          "shapedefaults": {
           "line": {
            "color": "#2a3f5f"
           }
          },
          "ternary": {
           "aaxis": {
            "gridcolor": "white",
            "linecolor": "white",
            "ticks": ""
           },
           "baxis": {
            "gridcolor": "white",
            "linecolor": "white",
            "ticks": ""
           },
           "bgcolor": "#E5ECF6",
           "caxis": {
            "gridcolor": "white",
            "linecolor": "white",
            "ticks": ""
           }
          },
          "title": {
           "x": 0.05
          },
          "xaxis": {
           "automargin": true,
           "gridcolor": "white",
           "linecolor": "white",
           "ticks": "",
           "title": {
            "standoff": 15
           },
           "zerolinecolor": "white",
           "zerolinewidth": 2
          },
          "yaxis": {
           "automargin": true,
           "gridcolor": "white",
           "linecolor": "white",
           "ticks": "",
           "title": {
            "standoff": 15
           },
           "zerolinecolor": "white",
           "zerolinewidth": 2
          }
         }
        }
       }
      },
      "text/html": [
       "<div>\n",
       "        \n",
       "        \n",
       "            <div id=\"0c5e0b27-e4a4-4480-b7e9-6b66fe863739\" class=\"plotly-graph-div\" style=\"height:525px; width:100%;\"></div>\n",
       "            <script type=\"text/javascript\">\n",
       "                require([\"plotly\"], function(Plotly) {\n",
       "                    window.PLOTLYENV=window.PLOTLYENV || {};\n",
       "                    \n",
       "                if (document.getElementById(\"0c5e0b27-e4a4-4480-b7e9-6b66fe863739\")) {\n",
       "                    Plotly.newPlot(\n",
       "                        '0c5e0b27-e4a4-4480-b7e9-6b66fe863739',\n",
       "                        [{\"hovertext\": [\"Over the past decade , the incidence and prevalence of end<br>-stage renal disease ( ESRD ) , a condition where a patient<br>loses his or her kidney function , has continued to increase<br>in almost every country in the world ( United States Renal<br>Data System , 2012 ) .\", \"In the United States , for example , nearly 600,000 people<br>with ESRD must decide whether to continue life on dialysis<br>or have a deceased donor kidney transplant ( DDKT ) or<br>living donor kidney transplant ( LDKT ) ( United States<br>Renal Data System , 2012 )\", \". Compared with life on dialysis , transplant is widely<br>recognized as the optimal treatment due to its association<br>with superior patient survival and quality of life ( Neipp<br>et al . , 2006 ; Orr et al . , 2007 ; United States Renal<br>Data System , 2012 ) .\", \"Patients who are able to receive a LDKT from a family member<br>or friend have the best treatment outcomes , living 46<br>percent longer than if they remained on dialysis and 8<br>percent longer than if they got a DDKT ( United States Renal<br>Data System , 2012 ) .\", \"With a shortage of deceased donor kidneys available for<br>transplant internationally ( United States Renal Data System<br>, 2012 ) , LDKT is also the only transplant option with the<br>potential for continued growth .\", \"For these reasons , community nephrologists , dialysis<br>professionals , and transplant staff are having<br>conversations with ESRD patients and their support networks<br>regularly about the treatment option of LDKT .\", \"The decision whether to pursue LDKT is complex .\", \"ESRD patients pursuing LDKT must complete a battery of<br>medical and psychological evaluations , weigh the risks and<br>benefits of LDKT for themselves and any donors , be ready<br>and willing to have another person in their life donate to<br>them , feel confident making efforts to find potential<br>living donors , and be willing to have surgery and adhere to<br>a postoperative care regimen .\", \"In addition to concerns and questions that patients have<br>about undergoing transplant surgery themselves ( Kurz et al<br>. , 2007 ; Waterman and Brennan , 2007 ; Waterman et al . ,<br>2006 ) , accepting a kidney from a living donor , especially<br>from a child of the patient , can be very difficult (<br>Waterman et al . , 2006 ) .\", \"Research also has shown that many patients feel vulnerable<br>asking others to donate a kidney to them ( Rodrigue et al .<br>, 2008a ) , and find taking specific actions like having<br>discussions with one 's family or friends to be very<br>challenging ( Boulware et al . , 2012 ; Waterman et al . ,<br>2006 ) .\", \"Finally , patients also have high levels of concern about<br>living donors losing their remaining kidney function ,<br>financial costs incurred by donors , and donors '<br>disappointment if the transplant fails ( Waterman et al . ,<br>2006 ) .\", \"Challenges to successful pursuit of LDKT also may be<br>heightened for ethnic/racial minority patients .\", \"Studies have shown that non -Whites feel very uncomfortable<br>discussing LDKT with others ( Rodrigue et al . , 2008a ;<br>Waterman et al . , 2006 ) .\", \"In addition , Black kidney patients are more likely to have<br>illnesses like diabetes and hypertension that run in<br>families , reducing the likelihood of locating potential<br>living donors within their families ( Waterman et al . ,<br>2010b ) .\", \"Mistrust of health -care providers is also more common for<br>Blacks than Whites ( Boulware et al . , 2003 ) , which may<br>affect their trust in physicians ' recommendations for LDKT<br>and cause suspicion of LDKT itself\", \"( Boulware et al . , 2002\", \"( Boulware et al . , , 2003 .\", \"Currently , minority patients are less likely to receive<br>LDKTs compared to White patients ( Gore et al . , 2009 ) .\", \"Educational interventions to increase transplant knowledge<br>and motivation to pursue LDKT have shown some success at<br>increasing rates of LDKT ( Boulware et al . , 2012 ;<br>Rodrigue et al . , 2008b ) .\", \"However , as providers initiate conversations about the<br>possibility of LDKT , having the ability to accurately<br>assess individual patients ' readiness to pursue LDKT ,<br>weighing of the risks and benefits of LDKT , and confidence<br>in their own ability to find a living donor is very<br>important .\", \"One theory of behavioral change , the transtheoretical model<br>( TTM ) , has already been successfully applied to<br>transplant decision -making , specifically organ donation<br>decision -making ( Hall et al . , 2007 ; Robbins et al . ,<br>2001 ) and whether ESRD patients would pursue DDKT (<br>Waterman et al . , 2010a ) .\", \"The TTM explains motivation and intentional behavior change<br>based on thoughts , experiences , and behaviors and<br>comprises four key constructs : Stage of Change ( SOC ) ,<br>which measures how patients ' motivation to take specific<br>behavior changes through time ( Prochaska and Di Clemente ,<br>1983 ) ;\", \"Decisional Balance ( DB ) , an assessment of how a patient<br>weighs the Pros and Cons of behavior change ( Velicer et al<br>. , 1985 ) ;\", \"Self -Efficacy ( SE ) , which captures whether an individual<br>believes they can make or sustain a behavior change in<br>difficult situations ( Bandura , 1977 ) ; and Processes of<br>Change , which capture experiential and behavioral<br>strategies used to facilitate behavior change .\", \"The validity and reliability of these decision -making<br>constructs have been well evidenced ( Hall and Rossi , 2008<br>) .\", \"This study focuses on the SOC , DB , and SE constructs of<br>the TTM which , to date , have never been examined for their<br>efficacy in measuring the LDKT decision -making of ESRD<br>patients .\", \"We recruited two independent , racially diverse samples of<br>ESRD patients from dialysis centers and Barnes -Jewish<br>Transplant Center ( BJTC ) in St Louis , Missouri , to<br>evaluate the fit of the TTM and its constructs for measuring<br>patients ' LDKT decision -making ( Sample 1 and Sample 2 ) .\", \"Patients were invited to participate in the study by<br>telephone if they were 18 years or older , English -speaking<br>, could hear and cognitively understand the terms of consent<br>, had not received a previous kidney transplant or were told<br>they were ineligible to receive a transplant , and who had<br>poor kidney function requiring dialysis or immediate pursuit<br>of transplant .\", \"Each patient volunteered to participate in the study without<br>remuneration .\", \"Recruitment and survey procedures were approved by the<br>Internal Review Board ( # 09-1294 ) at Washington University<br>School of Medicine in St Louis , Missouri .\", \"In addition , Medical Directors and dialysis center Clinical<br>Research Departments approved participation by dialysis<br>patients .\", \"Sample 1 -Telephone surveys of Sample 1 were conducted from<br>November 2009 to August 2011 .\", \"Telephone contact information for Sample 1 was obtained for<br>627 patients who were in all phases of transplant evaluation<br>at BJTC ( n = 393 ) and receiving dialysis care within<br>participating local centers ( n = 234 ) .\", \"Overall , 30 percent ( n = 187 ) could not be reached after<br>multiple attempts .\", \"Among the 440 patients reached , 279 ( 63.4 % ) completed<br>the survey , 64 ( 14.5 % ) refused , and 99 ( 22.5 % ) were<br>ineligible based on study exclusion criteria .\", \"The majority of participants were on dialysis ( 82 % ) and<br>male ( 50.2 % ) , with an average age of 54 years ( standard<br>deviation ( SD ) = 12.6 years ) .\", \"Patients varied by race/ethnicity : from 49.6 percent White<br>, 47.4 percent Black , 1.1 percent Hispanic/Latino , 0.4<br>percent Asian , 0.7 percent American Indian or Alaska native<br>, and 0.8 percent multiracial/other .\", \"Educational level varied , with some having a college degree<br>or postcollege training ( 25.4 % ) , a high school diploma<br>or some college or vocational school training ( 60.2 % ) ,<br>or less than a high school education ( 14.4% ) .Sample 2<br>-Telephone surveys of Sample 2 were conducted between<br>January and April 2012 .\", \"Contact information was obtained for 478 patients , 12.8<br>percent ( n = 61 ) of whom could not be reached .\", \"Among the remaining 417 patients reached , 204 ( 48.9 % )<br>completed the survey , 124 ( 29.7 % ) refused , and 89 (<br>21.3 % ) were ineligible based on study exclusion criteria .\", \"Most participants were on dialysis ( 74 % ) , male ( 65 % )<br>, and had a mean age of 54 years ( SD = 12.4 years ) .\", \"Patients were 64.7 percent White , 33.3 percent Black , 0.5<br>percent Hispanic / Latino , 0.5 percent Vietnamese , and 1.0<br>percent multiracial/other .\", \"A group of health psychologists and professionals with<br>expertise in measure development , TTM , kidney<br>transplantation , and organ donation reviewed previous LDKT<br>formative research\", \"( Waterman et al . , 2004a\", \"( Waterman et al . , , 2004b and developed a set of<br>preliminary measures of LDKT SOC , DB , and SE .\", \"A detailed description of the development of identical TTM<br>constructs for DDKT decision -making has been previously<br>published by the authors ( Waterman et al . , 2010a ) .\", \"Demographics and clinical characteristics -Patients '<br>demographic and clinic characteristics were collected ,<br>including age , sex , race and ethnicity , level of<br>education , and the length of time the patient was on<br>dialysis . SOC -Sample 1 -SOC assesses patients ' readiness<br>to pursue LDKT .\", \"Consistent with past research ( Prochaska and Di Clemente ,<br>1983 ) , a series of questions were developed to determine<br>patients ' stage of readiness to pursue LDKT .\", \"In Sample 1 , pursuing LDKT was defined as a person being<br>willing to do three things : ( 1 ) accept a kidney from a<br>living donor , ( 2 ) be evaluated for transplant , and ( 3 )<br>take actions to get the word out about their need for a<br>living donor .\", \"After hearing this general LDKT description , patients chose<br>one of four mutually exclusive categories that defined their<br>own stage of readiness to get a LDKT : Precontemplation (<br>not considering getting a LDKT in the next 6 months ) ,<br>Contemplation ( considering taking actions to get a LDKT in<br>the next 6 months ) , Preparation ( preparing to take<br>actions to get a LDKT in the next 30 days ) , and Action (<br>taking actions to find living donors and get a LDKT ) .\", \"Following the SOC algorithm , participants were presented<br>with a list of seven possible LDKT actions ( e.g . accept<br>someone 's offer to be a living donor , share need for<br>living donor with large community ) and , for each action ,<br>indicated whether they were willing to take this action (<br>yes/no ) .SOC -Sample 2 -Participant feedback suggested that<br>the wording and order of the SOC assessment questions were<br>somewhat confusing .\", \"To further improve the clarity of the SOC algorithm and ease<br>of administration , for Sample 2 , participants were first<br>presented with a list of seven LDKT actions ( Table 1 ; for<br>example , accept someone 's offer to be a living donor ,<br>share need for living donor with large community ) and for<br>each possible LDKT action asked whether they have \\\" already<br>done this , \\\" \\\" are planning to do this , \\\" or \\\" do not plan<br>to do this . \\\"\", \"Then , patients were asked to choose one of the four<br>following categories to define their readiness to take LDKT<br>actions : Precontemplation ( I am not considering taking<br>actions in the next 6 months to pursue living donation ) ,<br>Contemplation ( I am considering taking actions in the next<br>6 months to pursue living donation ) , Preparation ( I am<br>preparing to take actions in the next 30 days to pursue<br>living donation ) , Action ( I am taking actions to pursue<br>living donation ) .DB -Consistent with previous research , a<br>24 -item DB measure was created to assess the Pros and Cons<br>of pursuing LDKT ( Velicer et al . , 1985 ) and administered<br>in Sample 1 .\", \"This measure provides information about the relative<br>importance an individual places on specific positive<br>outcomes ( e.g . living donation can happen more quickly<br>than deceased donation ) and negative outcomes ( e.g . the<br>living donor could be harmed by surgery ) .\", \"Patients were asked to rate , \\\" How important is this<br>statement to your decision about living donor transplant ? \\\"<br>on a 5 -point scale ranging from , \\\" not important \\\" ( 1 )<br>to \\\" extremely important \\\" ( 5 ) .\", \"Sample 2 administered only a reduced measure set of 12 items<br>determined after analysis of Sample 1 ( Table 2 ) .\", \"SE -SE captures whether an individual believes they can make<br>or sustain a behavior change in difficult situations (<br>Bandura , 1977 ; Velicer et al . , 1990 ) .\", \"For Sample 1 , an 11 -item measure was created to assess an<br>individual 's degree of confidence in their ability to<br>pursue LDKT in a variety of difficult situations ( e.g . You<br>asked someone to donate and they turned you down ) .\", \"Patients were asked to rate , \\\" How confident are you that<br>you could get a living donor transplant ? \\\" on a 5 -point<br>scale , ranging from \\\" not at all confident \\\" ( 1 ) to \\\"<br>completely confident \\\" ( 5 ) .\", \"We conducted four phases of analysis using a sequential<br>method for scale development ( Comrey , 1988 ; Goldberg and<br>Velicer , 2006 ; Jackson , 1971 ; Redding et al . , 2006 )<br>to assess the reliability and validity of the new SOC , DB ,<br>and SE measures for LDKT : ( 1 ) SOC measure development , (<br>2 ) exploratory analyses for DB and SE , ( 3 ) confirmatory<br>analyses for DB and SE , and ( 4 ) external validation with<br>the SOC measure . SOC measure development ( Samples 1 and 2<br>) -After focus groups were conducted to understand patients<br>' readiness to pursue LDKT generally and take specific<br>actions to find living donors , two different measures were<br>created to measure SOC and assessed with different samples<br>of patients to ensure clarity ( Waterman et al . , 2006 ) .\", \"Descriptive analyses were conducted to examine the<br>proportion of individuals in each SOC in Samples 1 and 2 .\", \"Then , each of the seven possible LDKT actions in Sample 2<br>was collapsed into two categories ( \\\" already done \\\" vs \\\"<br>have not done \\\" ( planning to do this or not planning to do<br>this ) ) .\", \"A series of chi -square tests were conducted to assess<br>whether individuals in different stages of LDKT readiness<br>differed significantly on whether they had completed each<br>behavior .\", \"In addition , all seven possible LDKT actions were included<br>in a logistic regression model to determine which actions<br>were the strongest predictors of being in the Action stage<br>compared to one of the pre -Action stages ( Precontemplation<br>, Contemplation , or Preparation ) .Exploratory phase (<br>Sample 1 ) -Exploratory factor analysis for the DB and SE<br>item sets was conducted using principle components analysis<br>( PCA ) with varimax rotation on the item intercorrelation<br>matrices for a random half of participants from Sample 1 ( n<br>= 134 ) .\", \"The number of components retained was determined using the<br>minimum average partial procedure ( MAP ) ( Velicer , 1976 )<br>and parallel analysis ( Horn , 1965 ; Zwick and Velicer ,<br>1986 ) .\", \"The dimensional and psychometric properties of each measure<br>were assessed .\", \"The aims of these exploratory analyses were to : ( 1 )<br>determine the number of components present and estimate the<br>correlation between them ; ( 2 ) provide estimates of the<br>factor loadings , eliminate complex items ( component<br>loadings \\u2265 0.40 on both components ) , and items with poor<br>loadings ( < 0.40 on both components ) ; and ( 3 ) estimate<br>internal consistency for each component using Cronbach 's<br>alpha .\", \"Furthermore , final item selection was determined on the<br>basis of item clarity , simple expression of the idea ,<br>minimization of redundancy with other selected items , and<br>being representative of the conceptual definitions of the<br>constructs .\", \"Confirmatory phase ( Samples 1 and 2 ) -Confirmatory factor<br>analysis for the DB and SE scales using structural equation<br>modeling in EQS Structural Equation Modeling Software (<br>Bentler and Wu , 1993 ) was conducted on the second random<br>50 percent of Sample 1 ( n = 145 ) and also reconfirmed with<br>all participants from Sample 2 ( N = 204 ) .\", \"Multiple models were tested and compared to determine the<br>best fitting model using maximum likelihood ( ML ) as the<br>estimator of fit .\", \"Four different fit indices were examined for each of the<br>alternative models .\", \"These included ( 1 ) the likelihood ratio chi -square test<br>statistic ; ( 2 ) the goodness -of -fit index ( GFI ) ; ( 3<br>) the comparative fit index ( CFI ) ; and ( 4 ) the average<br>absolute standardized residual ( AASR ) statistic .\", \"Traditionally , values of GFI and CFI above 0.80 indicate<br>good fit , while values above 0.90 indicate excellent fit\", \"( Tabachnick and Fidell , 2001 ). For AASR , values below<br>0.06 indicate excellent fit\", \"( Tabachnick and Fidell , 2001 ). All four fit indices were<br>compared across models .\", \"External validation -SOC was further validated using Sample<br>2 data by examining the relationships of SOC with DB and SE<br>via multivariate analysis of variance ( MANOVA ) and<br>analysis of variance .\", \"The 279 patients from Sample 1 were classified by their LDKT<br>SOC , with patients ranging from Precontemplation ( 29.5 % )<br>, Contemplation ( 20.5 % ) , Preparation ( 9.4 % ) , to<br>Action ( 40.6 % ) .\", \"After modification of the SOC wording , the 204 patients<br>from Sample 2 ranged in stages of LDKT readiness similarly ,<br>from Precontemplation ( 28.2 % ) , Contemplation ( 19.8 % )<br>, Preparation ( 11.9 % ) , to Action ( 40.1% ) .A series of<br>chi -square tests revealed that individuals in different<br>stages of readiness to receive a living donor transplant<br>differed significantly on whether they had completed each of<br>the seven LDKT behaviors , with patients in Action being<br>most likely to have done five of the seven behaviors\", \"( p < 0.05 ; Table 1 ). Only one LDKT behavior , \\\" Send a<br>letter or email about your interest in living donation to<br>important people in your life ? \\\" did not vary significantly<br>by SOC.Using logistic regression , a test of the full model<br>against a constant only model was statistically significant<br>, indicating that the seven possible LDKT actions as a set<br>reliably distinguished between being pre -Action versus<br>Action SOC ( chi -square = 34.77 , p < 0.001 with df = 7 ) .\", \"Nagelkerke 's R 2 of 0.214 indicated a moderate relationship<br>between prediction and grouping .\", \"The Wald criterion demonstrated that only three behaviors<br>made a significant contribution to prediction of being in<br>Action versus pre -Action : \\\" Accept someone 's offer to<br>donate a kidney if they volunteered \\\" ( odds ratio ( OR ) =<br>2.23 ( 1.07 , 4.65 ) , p < 0.05 ) ;\", \"\\\" Share your need for a living donor with a large community<br>through a general announcement \\\" ( OR = 2.38 ( 1.11 , 5.10 )<br>, p < 0.05 ) ; and \\\" Ask a potential donor directly to be<br>tested \\\" ( OR = 2.47 ( 1.22 , 4.98 ) , p < 0.05 ) .\", \"DB -The pool of 24 items was reduced to 12 items .\", \"MAP and parallel analysis indicated that a two -component<br>solution best described the Pros and Cons factors .\", \"Table 2 presents the items , exploratory factor loadings ,<br>and coefficient alpha for the Pros and Cons scales .\", \"The two factors had good item loadings ranging from 0.6 to<br>0.8 and contained a satisfactory number of items ( 6 ) (<br>Guadagnoli and Velicer , 1988 ; Velicer , 1976 )\", \". Scale scores were derived from the sum of the individual<br>item scores .\", \"These scales were shown to be internally consistent and<br>correlated ( r = 0.28 ) .\", \"This final two -component solution showed good stability and<br>accounted for 51.26 percent of the total item variance .\", \"Table 3 presents the means and SDs for Pros and Cons by SOC<br>.\", \"SE -The pool of 11 items was reduced to 6 items .\", \"MAP and parallel analysis indicated that a one -component<br>solution best described the data .\", \"Table 2 presents the items , exploratory factor loadings ,<br>and coefficient alpha for the SE scale .\", \"This final one -component solution showed good stability and<br>accounted for 67.83 percent of the total item variance .\", \"DB -In both the random half of Sample 1 and in all of Sample<br>2 , four models were tested: ( 1 ) null model ( suggesting<br>no latent factors and used as a comparative model ) , ( 2 )<br>one factor , ( 3 ) two uncorrelated Pros and Cons factors ,<br>and ( 4 ) two correlated Pros and Cons factors .\", \"In Sample 1 , the two -factor correlated model demonstrated<br>the best fit , \\u03c7 2 ( 53 ) = 68.45 , p > 0.05 , CFI = 0.97 ,<br>GFI = 0.92 , and AASR = 0.04 .\", \"The correlation between the Pros and Cons scales was 0.25 .\", \"In Sample 2 , the two -factor uncorrelated model<br>demonstrated the best fit , \\u03c7 2 ( 54 ) = 94.06 , p < 0.01 ,<br>CFI = 0.95 , GFI = 0.93 , and AASR = 0.04 .\", \"The confirmatory factor loadings and coefficient alpha from<br>both samples are presented in Table 2 , and Table 3 presents<br>the means and SDs SOC .\", \"SE -In both the second random half of Sample 1 and in all of<br>Sample 2 , two models were tested : the null model and a one<br>-factor model .\", \"In Sample 1 , the one -factor model demonstrated the best<br>fit .\", \"Results produced strong factor loadings and excellent model<br>fit , ( \\u03c7 2 ( 9 ) = 26.501 , p < 0.01 , CFI = 0.96 , GFI =<br>0.94 , and AASR = 0.02 ) .\", \"Similarly , in Sample 2 , the one -factor model demonstrated<br>the best fit with strong factor loadings and excellent model<br>fit , ( \\u03c7 2 ( 9 ) = 43.45 , p < 0.01 , CFI = 0.95 , GFI =<br>0.93 , and AASR = 0.04 ) .\", \"Results indicated that the Pros increased 0.92 SD , Cons<br>decreased 0.29 SD , and SE increased 0.80 SD from<br>Precontemplation to Action , which is consistent with the<br>typical changes found across behaviors in meta -analytic<br>research ( Hall and Rossi , 2004 ; Prochaska et al . , 1994<br>) ( see Figure 1 )\", \"While educational interventions to increase ESRD patient<br>motivation to pursue LDKT are underway in transplant and<br>dialysis centers nationally ( Boulware et al . , 2012 ;<br>Rodrigue et al . , 2008a ) , there are no validated measures<br>of LDKT decision -making .\", \"Using the TTM of Behavioral Change as a theoretical<br>foundation , we developed three new measures of SOC , DB ,<br>and SE .\", \"This study is the first to demonstrate that the TTM<br>theoretical foundation and key TTM constructs are well<br>suited to assess the decision -making of kidney patients<br>considering whether to pursue LDKT.Successful receipt of<br>LDKT requires the involvement of another person -a matching<br>living donor .\", \"One important question raised by this study is whether<br>patient decision -making related to this type of behavior<br>could be guided by the constructs of the TTM .\", \"We found that the staging assessment for pursuit of LDKT is<br>consistent with staging assessments for many other complex<br>behaviors .\", \"The measure development process led to a clear and ordered<br>assessment of LDKT SOC , where patients in Action for LDKT<br>readiness reported taking specific actions like asking a<br>potential living donor to be evaluated .\", \"These actions may or may not result in finding a matching<br>living donor , thus patients can shift in their LDKT<br>readiness over time .\", \"In both Samples 1 and 2 , despite slight variation in<br>question wording and order differences , there was<br>remarkable similarity between the percentage of patients in<br>each SOC across ESRD patients , suggesting the readiness<br>construct meaningfully applies to LDKT decision -making and<br>is robust enough to withstand variation in measurement .\", \"The validated SOC measure asks how ready a patient is to<br>take LDKT actions generally , and then provides additional<br>clarity on the specific LDKT actions an individual patient<br>is willing to take .\", \"Some behaviors , like generally talking to people about one<br>'s interest in transplant , sharing educational materials<br>about living donation with people in one 's life , and<br>allowing others to share their need for a living donor<br>kidney , are generally more common for all patients to be<br>ready to take .\", \"However , three LDKT actions , accepting someone 's offer to<br>donate a kidney , sharing their need for a living donor with<br>a large community through a general announcement , and<br>asking a potential donor to be tested , are significantly<br>more likely to be taken when a patient is in Action ,<br>compared to patients in pre -Action stages .\", \"Thus , when tailoring discussion and educational feedback<br>for patients in early stages of readiness , recommendations<br>to take more common LDKT actions like generally talking to<br>people about their interest in living donation and sharing<br>educational materials about LDKT with people in their life<br>may be more ideal .\", \"However , patients in Action will more likely benefit from<br>additional discussion and practical assistance with doing<br>behaviors like getting the word out about their need for a<br>living donor to large groups of individuals , asking<br>potential donors directly to be evaluated , and accepting<br>someone 's offer to donate .\", \"Future research must continue to learn more about the<br>different patterns of LDKT actions and how they relate to<br>pursuit and successful receipt of LDKT.In addition , brief ,<br>internally consistent measures of DB and SE for pursuit of<br>LDKT were developed .\", \"Using data from Sample 1 , evaluations of the DB Pros , Cons<br>, and SE scales by stage were largely consistent with<br>previous TTM research in DDKT ( Waterman et al . , 2010a )<br>and in other health behavior applications ( Hall and Rossi ,<br>2008 ) .\", \"Study 2 results found that increases in Pros of LDKT from<br>Precontemplation ( 0.92 SD found ; 1 SD expected ) and<br>decreases in Cons of LDKT from Precontemplation ( 0.29 SD<br>found ; 0.5 SD expected ) were consistent with patterns<br>shown in other meta -analytic work with many other behaviors<br>( Hall and Rossi , 2004 ; Prochaska et al . , 1994 ) .\", \"Although they build upon the DB measure developed for<br>pursuit of DDKT ( Waterman et al . , 2010a ) , the Pros and<br>Cons of LDKT pursuit focus more on the elements ( i.e .<br>interpersonal challenges ) that are specific to the living<br>donor process .\", \"After an assessment of DB , a discussion with ESRD patients<br>that emphasizes the LDKT Pros and de -emphasizes the Cons<br>may help them become more ready to pursue LDKT.As predicted<br>, the SE measure developed in this study emerged as a single<br>, brief internally consistent scale assessing situational SE<br>or confidence to pursue LDKT in a variety of difficult<br>situations .\", \"In their 2001 meta -analysis examining SE in 25 studies<br>across 10 health behaviors , Rossi and Redding ( 2001 )<br>found that SE increased significantly in a linear or<br>curvilinear fashion across stages of change for the majority<br>of these studies .\", \"Across both samples presented here , scores on the SE<br>measure increased approximately 0.80 SD from<br>Precontemplation to Action .\", \"The items in the scale most reflect the challenges that<br>patients will likely face if they actively pursue LDKT with<br>particular emphasis on reaching out to potential donors .\", \"This study had several limitations .\", \"First , although our SOC measure regards patients ' overall<br>pursuit of LDKT , this behavior can be divided into three<br>separate behaviors : acceptance of any kidney transplant (<br>regardless of the organ source ) , getting evaluated for<br>transplant , and taking actions to find a living donor .\", \"Future research should examine how well our measure<br>adequately represents these separate behaviors .\", \"Second , our samples were both crosssectional .\", \"Although previous longitudinal studies investigating the<br>behavior of TTM constructs have supported the findings of<br>other cross -sectional studies ( Prochaska , 1994 ) , future<br>longitudinal studies should be conducted to examine the<br>measures developed here .\", \"Third , our primarily White and Black ESRD patient samples<br>were recruited from a single transplant center and a few<br>dialysis centers in the midwestern United States and may not<br>represent the attitudes and dispositions of ESRD patients<br>nationally .\", \"Further validation of these measures with a nationally<br>representative sample of ESRD patients , particularly<br>Hispanics/Latinos , is an important next step .\", \"Invariance testing of these measures across important<br>demographic subgroups ( e.g . Black versus White ) groups<br>should also occur .\", \"Finally , while our research strongly supports the<br>application of the TTM constructs to pursuit of LDKT ,<br>future research on ESRD patients ' and their support<br>networks ' views and attitudes on LDKT may yield other<br>relevant dimensions for study as well as introduce new items<br>that may improve the LDKT Pros , Cons , and SE measures .\", \"Further research may also lead to refinements of the<br>assessment of LDKT action steps .\", \"To treat the growing number of ESRD patients optimally , we<br>must increase the rates of LDKT nationally .\", \"Valid TTM -based measures that let us accurately assess<br>patients ' initial LDKT readiness , DB , and SE and track<br>shifts in decision -making as their kidney function worsens<br>may help clinicians have more effective conversations with<br>patients .\", \"Building upon the DDKT decision -making measures previously<br>developed by this team ( Waterman et al . , 2010a ) , after<br>this study , a complete set of theoretically consistent<br>transplant decision -making measures have now been validated<br>.\", \"These LDKT patient decision -making measures can be<br>incorporated into LDKT interventions to better honor the<br>needs of individual kidney patients and assess the<br>effectiveness of these interventions .\", \"Pros , Cons and Self -Efficacy to pursue living donation by<br>Stage of Change to pursue living donation ( Sample 2 ) .\", \"PC : Precontemplation ;\", \"C : Contemplation ;\", \"PR : Preparation ;\", \"A : Action .\", \"T -scores were weighted based on Stage of Change proportions<br>to equalize the distribution and allow for more accurate<br>comparisons across the Stages of Change .\"], \"type\": \"bar\", \"x\": [0, 1, 2, 3, 4, 5, 6, 7, 8, 9, 10, 11, 12, 13, 14, 15, 16, 17, 18, 19, 20, 21, 22, 23, 24, 25, 26, 27, 28, 29, 30, 31, 32, 33, 34, 35, 36, 37, 38, 39, 40, 41, 42, 43, 44, 45, 46, 47, 48, 49, 50, 51, 52, 53, 54, 55, 56, 57, 58, 59, 60, 61, 62, 63, 64, 65, 66, 67, 68, 69, 70, 71, 72, 73, 74, 75, 76, 77, 78, 79, 80, 81, 82, 83, 84, 85, 86, 87, 88, 89, 90, 91, 92, 93, 94, 95, 96, 97, 98, 99, 100, 101, 102, 103, 104, 105, 106, 107, 108, 109, 110, 111, 112, 113, 114, 115, 116, 117, 118, 119, 120, 121, 122, 123, 124, 125, 126, 127, 128, 129, 130, 131, 132, 133, 134, 135, 136, 137, 138, 139, 140, 141, 142, 143, 144], \"y\": [0.16645723581314087, 0.20211327075958252, 0.16196805238723755, 0.1776328682899475, 0.22621309757232666, 0.17023825645446777, 0.2597208023071289, 0.20548319816589355, 0.16090738773345947, 0.12961655855178833, 0.16989833116531372, 0.16821777820587158, 0.2109147310256958, 0.14154958724975586, 0.13991910219192505, 0.32240331172943115, 0.30861741304397583, 0.15881484746932983, 0.16499567031860352, 0.15568149089813232, 0.15352469682693481, 0.4896869659423828, 0.24815237522125244, 0.27683138847351074, 0.18328368663787842, 0.23496019840240479, 0.26344209909439087, 0.273639976978302, 0.2701343894004822, 0.2930160164833069, 0.26981842517852783, 0.34452134370803833, 0.3118314743041992, 0.2647278904914856, 0.31192123889923096, 0.29573172330856323, 0.2737199664115906, 0.3307104706764221, 0.28189533948898315, 0.3062671422958374, 0.27713876962661743, 0.3137439489364624, 0.3340594172477722, 0.29881155490875244, 0.2671970725059509, 0.25604695081710815, 0.2669222950935364, 0.24082428216934204, 0.2447667121887207, 0.2349429726600647, 0.28022444248199463, 0.26420438289642334, 0.2842928171157837, 0.18116343021392822, 0.28027141094207764, 0.315807044506073, 0.24490052461624146, 0.2383386492729187, 0.27955567836761475, 0.30798178911209106, 0.2762964963912964, 0.29389625787734985, 0.2645280361175537, 0.3754279613494873, 0.2713412046432495, 0.31024831533432007, 0.2828987240791321, 0.2902412414550781, 0.3527601361274719, 0.28816378116607666, 0.2968956232070923, 0.27127301692962646, 0.2371079921722412, 0.2444469928741455, 0.2585780620574951, 0.33944571018218994, 0.2939358949661255, 0.3051287531852722, 0.3154814839363098, 0.2601252794265747, 0.5761336982250214, 0.43855756521224976, 0.3140079379081726, 0.26860886812210083, 0.3011547923088074, 0.29536867141723633, 0.3060821294784546, 0.27971214056015015, 0.2837327718734741, 0.33304363489151, 0.3311787247657776, 0.2508389949798584, 0.2919943928718567, 0.2820912003517151, 0.29415571689605713, 0.3103334307670593, 0.3255119323730469, 0.315446674823761, 0.33489686250686646, 0.3142136335372925, 0.3029542565345764, 0.2781355381011963, 0.2950328588485718, 0.23518061637878418, 0.156272292137146, 0.24161142110824585, 0.23682481050491333, 0.21880453824996948, 0.20038843154907227, 0.2584298253059387, 0.18664604425430298, 0.28614479303359985, 0.22813206911087036, 0.1491575837135315, 0.15778040885925293, 0.196114182472229, 0.15834611654281616, 0.20903682708740234, 0.22426098585128784, 0.25250500440597534, 0.20112836360931396, 0.24366146326065063, 0.21564608812332153, 0.2767940163612366, 0.24943768978118896, 0.28232163190841675, 0.20883256196975708, 0.21806859970092773, 0.3045254349708557, 0.20605182647705078, 0.24079996347427368, 0.20399755239486694, 0.21065360307693481, 0.20095819234848022, 0.22122728824615479, 0.2111983299255371, 0.16549444198608398, 0.2382602095603943, 0.18628519773483276, 0.2712039351463318, 0.2957003116607666, 0.2963540554046631, 0.3144078254699707, 0.32768046855926514, 0.2674214243888855]}],\n",
       "                        {\"hoverlabel\": {\"bgcolor\": \"white\", \"font\": {\"family\": \"Rockwell\", \"size\": 13}}, \"template\": {\"data\": {\"bar\": [{\"error_x\": {\"color\": \"#2a3f5f\"}, \"error_y\": {\"color\": \"#2a3f5f\"}, \"marker\": {\"line\": {\"color\": \"#E5ECF6\", \"width\": 0.5}}, \"type\": \"bar\"}], \"barpolar\": [{\"marker\": {\"line\": {\"color\": \"#E5ECF6\", \"width\": 0.5}}, \"type\": \"barpolar\"}], \"carpet\": [{\"aaxis\": {\"endlinecolor\": \"#2a3f5f\", \"gridcolor\": \"white\", \"linecolor\": \"white\", \"minorgridcolor\": \"white\", \"startlinecolor\": \"#2a3f5f\"}, \"baxis\": {\"endlinecolor\": \"#2a3f5f\", \"gridcolor\": \"white\", \"linecolor\": \"white\", \"minorgridcolor\": \"white\", \"startlinecolor\": \"#2a3f5f\"}, \"type\": \"carpet\"}], \"choropleth\": [{\"colorbar\": {\"outlinewidth\": 0, \"ticks\": \"\"}, \"type\": \"choropleth\"}], \"contour\": [{\"colorbar\": {\"outlinewidth\": 0, \"ticks\": \"\"}, \"colorscale\": [[0.0, \"#0d0887\"], [0.1111111111111111, \"#46039f\"], [0.2222222222222222, \"#7201a8\"], [0.3333333333333333, \"#9c179e\"], [0.4444444444444444, \"#bd3786\"], [0.5555555555555556, \"#d8576b\"], [0.6666666666666666, \"#ed7953\"], [0.7777777777777778, \"#fb9f3a\"], [0.8888888888888888, \"#fdca26\"], [1.0, \"#f0f921\"]], \"type\": \"contour\"}], \"contourcarpet\": [{\"colorbar\": {\"outlinewidth\": 0, \"ticks\": \"\"}, \"type\": \"contourcarpet\"}], \"heatmap\": [{\"colorbar\": {\"outlinewidth\": 0, \"ticks\": \"\"}, \"colorscale\": [[0.0, \"#0d0887\"], [0.1111111111111111, \"#46039f\"], [0.2222222222222222, \"#7201a8\"], [0.3333333333333333, \"#9c179e\"], [0.4444444444444444, \"#bd3786\"], [0.5555555555555556, \"#d8576b\"], [0.6666666666666666, \"#ed7953\"], [0.7777777777777778, \"#fb9f3a\"], [0.8888888888888888, \"#fdca26\"], [1.0, \"#f0f921\"]], \"type\": \"heatmap\"}], \"heatmapgl\": [{\"colorbar\": {\"outlinewidth\": 0, \"ticks\": \"\"}, \"colorscale\": [[0.0, \"#0d0887\"], [0.1111111111111111, \"#46039f\"], [0.2222222222222222, \"#7201a8\"], [0.3333333333333333, \"#9c179e\"], [0.4444444444444444, \"#bd3786\"], [0.5555555555555556, \"#d8576b\"], [0.6666666666666666, \"#ed7953\"], [0.7777777777777778, \"#fb9f3a\"], [0.8888888888888888, \"#fdca26\"], [1.0, \"#f0f921\"]], \"type\": \"heatmapgl\"}], \"histogram\": [{\"marker\": {\"colorbar\": {\"outlinewidth\": 0, \"ticks\": \"\"}}, \"type\": \"histogram\"}], \"histogram2d\": [{\"colorbar\": {\"outlinewidth\": 0, \"ticks\": \"\"}, \"colorscale\": [[0.0, \"#0d0887\"], [0.1111111111111111, \"#46039f\"], [0.2222222222222222, \"#7201a8\"], [0.3333333333333333, \"#9c179e\"], [0.4444444444444444, \"#bd3786\"], [0.5555555555555556, \"#d8576b\"], [0.6666666666666666, \"#ed7953\"], [0.7777777777777778, \"#fb9f3a\"], [0.8888888888888888, \"#fdca26\"], [1.0, \"#f0f921\"]], \"type\": \"histogram2d\"}], \"histogram2dcontour\": [{\"colorbar\": {\"outlinewidth\": 0, \"ticks\": \"\"}, \"colorscale\": [[0.0, \"#0d0887\"], [0.1111111111111111, \"#46039f\"], [0.2222222222222222, \"#7201a8\"], [0.3333333333333333, \"#9c179e\"], [0.4444444444444444, \"#bd3786\"], [0.5555555555555556, \"#d8576b\"], [0.6666666666666666, \"#ed7953\"], [0.7777777777777778, \"#fb9f3a\"], [0.8888888888888888, \"#fdca26\"], [1.0, \"#f0f921\"]], \"type\": \"histogram2dcontour\"}], \"mesh3d\": [{\"colorbar\": {\"outlinewidth\": 0, \"ticks\": \"\"}, \"type\": \"mesh3d\"}], \"parcoords\": [{\"line\": {\"colorbar\": {\"outlinewidth\": 0, \"ticks\": \"\"}}, \"type\": \"parcoords\"}], \"pie\": [{\"automargin\": true, \"type\": \"pie\"}], \"scatter\": [{\"marker\": {\"colorbar\": {\"outlinewidth\": 0, \"ticks\": \"\"}}, \"type\": \"scatter\"}], \"scatter3d\": [{\"line\": {\"colorbar\": {\"outlinewidth\": 0, \"ticks\": \"\"}}, \"marker\": {\"colorbar\": {\"outlinewidth\": 0, \"ticks\": \"\"}}, \"type\": \"scatter3d\"}], \"scattercarpet\": [{\"marker\": {\"colorbar\": {\"outlinewidth\": 0, \"ticks\": \"\"}}, \"type\": \"scattercarpet\"}], \"scattergeo\": [{\"marker\": {\"colorbar\": {\"outlinewidth\": 0, \"ticks\": \"\"}}, \"type\": \"scattergeo\"}], \"scattergl\": [{\"marker\": {\"colorbar\": {\"outlinewidth\": 0, \"ticks\": \"\"}}, \"type\": \"scattergl\"}], \"scattermapbox\": [{\"marker\": {\"colorbar\": {\"outlinewidth\": 0, \"ticks\": \"\"}}, \"type\": \"scattermapbox\"}], \"scatterpolar\": [{\"marker\": {\"colorbar\": {\"outlinewidth\": 0, \"ticks\": \"\"}}, \"type\": \"scatterpolar\"}], \"scatterpolargl\": [{\"marker\": {\"colorbar\": {\"outlinewidth\": 0, \"ticks\": \"\"}}, \"type\": \"scatterpolargl\"}], \"scatterternary\": [{\"marker\": {\"colorbar\": {\"outlinewidth\": 0, \"ticks\": \"\"}}, \"type\": \"scatterternary\"}], \"surface\": [{\"colorbar\": {\"outlinewidth\": 0, \"ticks\": \"\"}, \"colorscale\": [[0.0, \"#0d0887\"], [0.1111111111111111, \"#46039f\"], [0.2222222222222222, \"#7201a8\"], [0.3333333333333333, \"#9c179e\"], [0.4444444444444444, \"#bd3786\"], [0.5555555555555556, \"#d8576b\"], [0.6666666666666666, \"#ed7953\"], [0.7777777777777778, \"#fb9f3a\"], [0.8888888888888888, \"#fdca26\"], [1.0, \"#f0f921\"]], \"type\": \"surface\"}], \"table\": [{\"cells\": {\"fill\": {\"color\": \"#EBF0F8\"}, \"line\": {\"color\": \"white\"}}, \"header\": {\"fill\": {\"color\": \"#C8D4E3\"}, \"line\": {\"color\": \"white\"}}, \"type\": \"table\"}]}, \"layout\": {\"annotationdefaults\": {\"arrowcolor\": \"#2a3f5f\", \"arrowhead\": 0, \"arrowwidth\": 1}, \"coloraxis\": {\"colorbar\": {\"outlinewidth\": 0, \"ticks\": \"\"}}, \"colorscale\": {\"diverging\": [[0, \"#8e0152\"], [0.1, \"#c51b7d\"], [0.2, \"#de77ae\"], [0.3, \"#f1b6da\"], [0.4, \"#fde0ef\"], [0.5, \"#f7f7f7\"], [0.6, \"#e6f5d0\"], [0.7, \"#b8e186\"], [0.8, \"#7fbc41\"], [0.9, \"#4d9221\"], [1, \"#276419\"]], \"sequential\": [[0.0, \"#0d0887\"], [0.1111111111111111, \"#46039f\"], [0.2222222222222222, \"#7201a8\"], [0.3333333333333333, \"#9c179e\"], [0.4444444444444444, \"#bd3786\"], [0.5555555555555556, \"#d8576b\"], [0.6666666666666666, \"#ed7953\"], [0.7777777777777778, \"#fb9f3a\"], [0.8888888888888888, \"#fdca26\"], [1.0, \"#f0f921\"]], \"sequentialminus\": [[0.0, \"#0d0887\"], [0.1111111111111111, \"#46039f\"], [0.2222222222222222, \"#7201a8\"], [0.3333333333333333, \"#9c179e\"], [0.4444444444444444, \"#bd3786\"], [0.5555555555555556, \"#d8576b\"], [0.6666666666666666, \"#ed7953\"], [0.7777777777777778, \"#fb9f3a\"], [0.8888888888888888, \"#fdca26\"], [1.0, \"#f0f921\"]]}, \"colorway\": [\"#636efa\", \"#EF553B\", \"#00cc96\", \"#ab63fa\", \"#FFA15A\", \"#19d3f3\", \"#FF6692\", \"#B6E880\", \"#FF97FF\", \"#FECB52\"], \"font\": {\"color\": \"#2a3f5f\"}, \"geo\": {\"bgcolor\": \"white\", \"lakecolor\": \"white\", \"landcolor\": \"#E5ECF6\", \"showlakes\": true, \"showland\": true, \"subunitcolor\": \"white\"}, \"hoverlabel\": {\"align\": \"left\"}, \"hovermode\": \"closest\", \"mapbox\": {\"style\": \"light\"}, \"paper_bgcolor\": \"white\", \"plot_bgcolor\": \"#E5ECF6\", \"polar\": {\"angularaxis\": {\"gridcolor\": \"white\", \"linecolor\": \"white\", \"ticks\": \"\"}, \"bgcolor\": \"#E5ECF6\", \"radialaxis\": {\"gridcolor\": \"white\", \"linecolor\": \"white\", \"ticks\": \"\"}}, \"scene\": {\"xaxis\": {\"backgroundcolor\": \"#E5ECF6\", \"gridcolor\": \"white\", \"gridwidth\": 2, \"linecolor\": \"white\", \"showbackground\": true, \"ticks\": \"\", \"zerolinecolor\": \"white\"}, \"yaxis\": {\"backgroundcolor\": \"#E5ECF6\", \"gridcolor\": \"white\", \"gridwidth\": 2, \"linecolor\": \"white\", \"showbackground\": true, \"ticks\": \"\", \"zerolinecolor\": \"white\"}, \"zaxis\": {\"backgroundcolor\": \"#E5ECF6\", \"gridcolor\": \"white\", \"gridwidth\": 2, \"linecolor\": \"white\", \"showbackground\": true, \"ticks\": \"\", \"zerolinecolor\": \"white\"}}, \"shapedefaults\": {\"line\": {\"color\": \"#2a3f5f\"}}, \"ternary\": {\"aaxis\": {\"gridcolor\": \"white\", \"linecolor\": \"white\", \"ticks\": \"\"}, \"baxis\": {\"gridcolor\": \"white\", \"linecolor\": \"white\", \"ticks\": \"\"}, \"bgcolor\": \"#E5ECF6\", \"caxis\": {\"gridcolor\": \"white\", \"linecolor\": \"white\", \"ticks\": \"\"}}, \"title\": {\"x\": 0.05}, \"xaxis\": {\"automargin\": true, \"gridcolor\": \"white\", \"linecolor\": \"white\", \"ticks\": \"\", \"title\": {\"standoff\": 15}, \"zerolinecolor\": \"white\", \"zerolinewidth\": 2}, \"yaxis\": {\"automargin\": true, \"gridcolor\": \"white\", \"linecolor\": \"white\", \"ticks\": \"\", \"title\": {\"standoff\": 15}, \"zerolinecolor\": \"white\", \"zerolinewidth\": 2}}}},\n",
       "                        {\"responsive\": true}\n",
       "                    ).then(function(){\n",
       "                            \n",
       "var gd = document.getElementById('0c5e0b27-e4a4-4480-b7e9-6b66fe863739');\n",
       "var x = new MutationObserver(function (mutations, observer) {{\n",
       "        var display = window.getComputedStyle(gd).display;\n",
       "        if (!display || display === 'none') {{\n",
       "            console.log([gd, 'removed!']);\n",
       "            Plotly.purge(gd);\n",
       "            observer.disconnect();\n",
       "        }}\n",
       "}});\n",
       "\n",
       "// Listen for the removal of the full notebook cells\n",
       "var notebookContainer = gd.closest('#notebook-container');\n",
       "if (notebookContainer) {{\n",
       "    x.observe(notebookContainer, {childList: true});\n",
       "}}\n",
       "\n",
       "// Listen for the clearing of the current output cell\n",
       "var outputEl = gd.closest('.output');\n",
       "if (outputEl) {{\n",
       "    x.observe(outputEl, {childList: true});\n",
       "}}\n",
       "\n",
       "                        })\n",
       "                };\n",
       "                });\n",
       "            </script>\n",
       "        </div>"
      ]
     },
     "metadata": {},
     "output_type": "display_data"
    }
   ],
   "source": [
    "results[0][\"val_orig_paper_0\"]['text_beginning'] = results[0][\"val_orig_paper_0\"].index.str[:10]\n",
    "_ = plot_text_sim(results[0][\"val_orig_paper_0\"]['bert_val_orig_paper_0_cos'], results[0][\"val_orig_paper_0\"].index)"
   ]
  },
  {
   "cell_type": "code",
   "execution_count": 62,
   "metadata": {},
   "outputs": [
    {
     "data": {
      "text/plain": [
       "SpearmanrResult(correlation=0.7943434104865374, pvalue=9.240931089598628e-33)"
      ]
     },
     "execution_count": 62,
     "metadata": {},
     "output_type": "execute_result"
    }
   ],
   "source": [
    "from scipy.stats import spearmanr\n",
    "spearmanr(results[0][\"val_orig_paper_0\"]['roberta_val_orig_paper_0_cos'], results[0][\"original\"]['roberta_original_cos'])"
   ]
  },
  {
   "cell_type": "markdown",
   "metadata": {},
   "source": [
    "#### Validation 1: original citing context with random paper"
   ]
  },
  {
   "cell_type": "code",
   "execution_count": 54,
   "metadata": {
    "hide_input": false,
    "scrolled": true
   },
   "outputs": [
    {
     "data": {
      "application/vnd.plotly.v1+json": {
       "config": {
        "plotlyServerURL": "https://plot.ly"
       },
       "data": [
        {
         "hovertext": [
          "Over the past decade , there has been an explosion of<br>research on the role of sleep in health , with compelling<br>evidence that disturbances of sleep including insomnia<br>complaints and extremes of sleep duration adversely<br>influence risk of infectious and inflammatory disease and<br>contribute to allcause mortality",
          "( Dew et al . 2003 , Kripke et al . 2002 , Mallon et al .<br>2002 , Vgontzas et al . 2013 ). These findings have<br>substantial public health implications because about 25 % of<br>the population of the United States report insomnia<br>complaints ), and nearly 10 % fulfill diagnostic criteria<br>for chronic insomnia",
          "( Morin et al .",
          "2006b ;",
          "Ohayon 1996 Ohayon , 2002 , which is persistent for as long<br>as three years in nearly 50 % of patients ). Importantly ,<br>sleep disturbance is a modifiable risk factor : Substantial<br>evidence shows that behavioral treatments have robust<br>efficacy , with remission of insomnia sustained in the long<br>term",
          "( Irwin et al .",
          "2006a , Morin et al .",
          "2006a ). Increasingly , research on sleep and health has<br>focused on the biological mechanisms underlying these<br>effects , which might identify those at greatest risk for<br>adverse health consequences or might be targeted to<br>attenuate , or even prevent , morbidity .",
          "The purpose of the present review is to provide an<br>integrated understanding of how sleep health ( Buysse 2014 )<br>affects one salient biological mechanism , the immune system<br>, with implications for infectious and inflammatory disease<br>risk .",
          "This review considers ( a ) the restorative role of sleep on<br>the immune system ; ( b ) the influence of sleep disturbance<br>on adaptive and innate immunity ; and ( c ) the role of<br>sleep disturbance in risk of infectious disease and three<br>inflammation -related disorders : cardiovascular disease ,<br>cancer , and major depression .",
          "Furthermore , behavioral regulation of the immune system is<br>embedded in a conceptual model in which inflammatory<br>cytokines also have a reciprocal influence on sleep .",
          "Sleep is first and foremost a behavior , which is<br>characterized by changes in body posture and eye state ; it<br>is dimensionally evaluated by self -report , behavioral ,<br>physiological , circuit , cellular , and genetic levels of<br>analysis ( Buysse 2014 ) .",
          "Whereas such analyses can be used to differentiate arousal<br>states along a continuum from fully awake to deep sleep , it<br>is widely recognized that the electroencephalogram ( EEG )<br>or polysomnography is the gold standard for the objective<br>assessment of sleep .",
          "Polysomnography records sleep continuity , sleep<br>architecture , and rapid eye movement ( REM ) sleep .",
          "Sleep continuity measures include the duration of sleep (<br>i.e . , total sleep time ) , the length of time from turning<br>off the lights until sleep onset ( i.e . , sleep onset<br>latency ) , and the degree to which sleep is maintained<br>continuously throughout the night ( i.e . , sleep efficiency<br>or the ratio of wake time to time in bed ; awake time after<br>sleep onset ) .",
          "Sleep architecture measures categorically divide sleep into<br>two major phases , non -rapid eye movement ( NREM ) and REM<br>sleep , with further subdivision of NREM sleep into stages 1<br>, 2 , 3 , and 4 , although recent research has combined<br>stages 3 and 4 into slow -wave sleep ( SWS ) because of the<br>inherent difficulties in distinguishing these latter two<br>stages of deep sleep .",
          "Stage 1 is the transition between wakefulness and sleep ,<br>whereas sleep onset is generally defined to occur when<br>spindles and K -complexes characteristically appear during<br>stage 2 .",
          "SWS is identified by a preponderance of high -amplitude ,<br>low -frequency components as measured by EEG .",
          "Finally , REM sleep is defined by a rapid and low -voltage<br>EEG , similar to the activity of the brain during waking<br>hours , with rapid and random movement of the eyes and low<br>muscle tone .",
          "Despite the widespread use of criteria to define stages of<br>sleep , sleep is not quantal but rather shows a continuous<br>progression from wakefulness to NREM and REM sleep .",
          "Spectral analyses provide a continuous evaluation of shifts<br>from mixed EEG frequencies to predominately lower EEG<br>frequencies occurring during sleep .",
          "In humans , the transition from wakefulness to sleep occurs<br>by entry into NREM sleep and a later transition to REM .",
          "After a period of REM sleep , a brief arousal or awakening<br>may occur before entry again into NREM sleep .",
          "Over the course of the night , four to six cycles of NREM to<br>REM sleep typically occur , with each cycle lasting about 80<br>to 110 minutes .",
          "SWS predominates in the early part of the night , whereas<br>more REM sleep occurs in the later part of the night .",
          "Polysomnography provides a laboratory -based objective<br>measure of sleep .",
          "Despite being the gold standard for sleep assessment ,<br>polysomnography may not adequately characterize sleep<br>occurring at home or disturbances of sleep over time .",
          "To estimate sleep patterns in a natural sleep setting<br>without the invasiveness of polysomnography , sleep<br>actigraphy is used .",
          "The watch -shaped actigraph estimates sleep patterns and<br>circadian rhythms and is coupled with a sleep diary , in<br>which the patient reports sleep onset and morning awakening<br>.",
          "As such , actigraphy provides reasonably accurate sleep<br>continuity indices as compared to polysomnography ( Ancoli<br>-Israel et al . 2003 ) .",
          "In addition to the evaluation of sleep by polysomnography ,<br>actigraphy , and sleep diaries , the patient 's own sleep<br>perceptions play a critical role in the assessment of sleep<br>disturbance and diagnosis of insomnia .",
          "Indeed , in a study of insomniacs and controls ,<br>polysomnography testing provided little information to<br>confirm or exclude insomnia , and a large multicenter field<br>trial resulted in similar findings ( for a review , see<br>Vgontzas et al . 2013 ) .",
          "The American Academy of Sleep Medicine does not recommend<br>polysomnography for the routine assessment of insomnia ,<br>although it is helpful in the evaluation of other sleep<br>disorders such as sleep apnea ( Littner et al . 2003 ) .",
          "Consistent with these clinical perspectives , the diagnosis<br>of insomnia disorder in the fifth edition of the Diagnostic<br>and Statistical Manual of Mental Disorders ( DSM -5 ) is<br>based solely on subjective complaints of difficulty<br>initiating or maintaining sleep , early awakening ,<br>interrupted or nonrestorative sleep , and associated<br>impairments in daytime functioning , which must be present<br>at least three nights per week and last for three months or<br>longer ( Am . Psychiatr . Assoc . 2013 ) ( Table 1 )",
          "A predominant complaint of dissatisfaction with sleep<br>quantity or quality , associated with one ( or more ) of the<br>following symptoms:1 .",
          "Difficulty initiating sleep .",
          "( In children , this may manifest as difficulty initiating<br>sleep without caregiver intervention. ) 2 .",
          "Difficulty maintaining sleep , characterized by frequent<br>awakenings or problems returning to sleep after awakenings .",
          "( In children , this may manifest as difficulty returning to<br>sleep without caregiver intervention. ) 3 .",
          "The sleep disturbance causes clinically significant distress<br>or impairment in social , occupational , educational ,<br>academic , behavioral , or other important areas of<br>functioning . C .",
          "The insomnia is not attributable to the physiological<br>effects of a substance ( e.g . , a drug of abuse , a<br>medication ) . as being a potentially more severe phenotype<br>( Vgontzas et al . 2013 ) .",
          "Importantly , insomnia is common in other disorders such as<br>depression , and DSM -5 classification acknowledges this<br>comorbidity without assigning casual attributions inherent<br>in primary and secondary labels .",
          "In recognition that insomnia symptoms are often prodromal to<br>the development of insomnia disorder , there has been much<br>interest in brief and valid self -report instruments to<br>screen for insomnia complaints and assess symptom severity .",
          "One example is the Insomnia Severity Index , which assesses<br>sleep quality , fatigue , psychological symptoms , and<br>quality of life , with a high sensitivity and specificity<br>for the detection of insomnia cases ( Morin et al . 2011 ) .",
          "The Pittsburgh Sleep Quality Index , a 19 -item self -report<br>questionnaire that evaluates seven clinically derived<br>domains of sleep difficulties ( i.e . , quality , latency ,<br>duration , habitual efficiency , sleep disturbances , use of<br>sleeping medications , and daytime dysfunction ) , is used<br>to identify clinically significant sleep impairment ( Cole<br>et al . 2006 ) .",
          "Despite the validity and reliability of these simple<br>questionnaires , assessment of sleep disturbance in many<br>large -scale epidemiologic or naturalistic field studies is<br>limited to evaluation of one or more questions about<br>complaints , sleep quality , or sleep duration .",
          "Adaptive immunity leads to the differentiation and<br>proliferation of microbial -specific white blood cells ( i.e<br>. , lymphocytes ) that serve to eliminate microbes based on<br>an immunological memory of having responded to a specific<br>pathogen or antigen in the past .",
          "As such , the adaptive immune system coordinates a specific<br>response to an infectious challenge by a sequence of<br>coordinated steps ( Murphy 2011 ) .",
          "In response to an infectious challenge , antigen -presenting<br>cells ( APCs ) such as macrophages or dendritic cells are<br>attracted to a site of intrusion , take up invading antigen<br>, and then migrate to local lymph nodes .",
          "Within the lymph node , the APCs present antigen to T helper<br>( Th ) cells followed by release of proinflammatory<br>cytokines such as interleukin ( IL ) -6 from the APCs .",
          "In response to these inflammatory signals , Th cells<br>activate , proliferate , and differentiate into one of two<br>predominant cell types , which serve to help B cells become<br>antibody -producing cells ( i.e . , plasma cells ) or leave<br>the lymph node to coordinate cytotoxic cell responses that ,<br>if successful , eliminate the pathogen .",
          "Once complete , a fraction of these antigen -specific Th<br>cells as well as cytotoxic T cells and B cells survive to<br>provide an immunological memory that achieves a more rapid<br>response when that specific infectious challenge occurs<br>again .",
          "This multicellular response is tightly regulated by both<br>costimulatory signals ( e.g . , proinflammatory cytokines<br>such as IL -6 ) and inhibitory signals ( e.g . , anti<br>-inflammatory cytokines such as IL -10 ) .",
          "Additionally , if exposure involves an intracellular<br>pathogen such as a virus , then transcription factors such<br>as interferon ( IFN ) regulatory factors are activated .",
          "These transcription factors induce antiviral immune response<br>genes such as type I IFN genes , which through the<br>translation of IFN can activate signal transducer and<br>activator of transcription ( STAT ) -1 , leading to the<br>production of proinflammatory cytokines .",
          "A failure of these regulatory mechanisms can lead to an<br>inadequate immune response ( e.g . , immune deficiency ) or<br>a response that is too robust and results in damage to the<br>host ( e.g . , autoimmunity , septic shock ) .",
          "IL -1 , IL -6 , and tumor necrosis factor -α ( TNF -α )<br>promote the differentiation of lymphocytes into cytotoxic T<br>cells , which kill pathogens that are introduced into the<br>body during physical wounding .",
          "Inflammatory cytokines promote vascular permeability and<br>cellular adhesion , which makes it possible for immune cells<br>to leave the blood vessels and migrate to tissues where they<br>can eliminate pathogens .",
          "For example , IL -1 activates the endothelial adhesion<br>molecule intercellular adhesion molecule -1 that facilitates<br>adherence of immune cells to the endothelium and migration<br>into tissues .",
          "Innate immunity is evolutionally older than adaptive<br>immunity and serves as the body 's first line of defense<br>against tissue damage and microbial infection ( Medzhitov<br>2008 ) .",
          "Composed of immune cells such as monocytes , macrophages ,<br>and dendritic cells that constantly circulate in the body ,<br>the innate immune system uses invariant receptors to detect<br>a wide variety of pathogens .",
          "Activation of these cells leads to a rapid ( i.e . , minutes<br>to hours ) cascade of inflammatory processes that help<br>contain an infection and ultimately promote healing and<br>recovery ( Medzhitov 2008 ) .",
          "When receptors of innate immune cells recognize hard -wired<br>and highly conserved features of microbes or pathogen<br>-associated molecular patterns , the acute -phase response<br>is triggered , which leads to an increase in inflammatory<br>activity that can occur both locally ( i.e . , at the site<br>of tissue injury or infection ) and systemically .",
          "This recognition strategy , which uses a relatively small<br>number of immune cell types to detect and generate a<br>response to a wide range of microbial diversity , is termed<br>pattern recognition , and innate immune receptors that use<br>this strategy are called pattern recognition receptors (<br>Medzhitov 2008 ) .",
          "Among pattern recognition receptors , Toll -like receptors (<br>TLRs ) are found on macrophages , neutrophils , and<br>dendritic cells that drive inflammation ( Medzhitov 2008 ) .",
          "Whereas TLRs recognize conserved components of microbes<br>including bacteria , viruses , and fungi , there is some<br>specificity of ligand recognition within this family of TLRs<br>.",
          "For example , lipopolysaccharide , an endotoxin that is the<br>major component of the outer membrane of Gram -negative<br>bacteria , binds to TLR4 ( Medzhitov 2008 ) .",
          "Following binding of one of the TLR4 , a conserved signaling<br>cascade is initiated that is characterized by activation of<br>key intracellular transcription factors such as nuclear<br>factor -κ B ( NF -κ B ) and activator protein 1 ( AP -1 ) (<br>Karin 2006 )",
          ". Activation of NF -κ B , for example , leads to the<br>transcription of proinflammatory immune response genes such<br>as TNF -α and IL -1 and the translation and production of<br>proinflammatory cytokines that serve to coordinate the<br>inflammatory response ( Karin 2006 ) .",
          "Hence , intracellular processes that occur at the level of<br>the genome most proximally regulate the inflammatory<br>response .",
          "Sleep influences the two primary effector systems , the<br>hypothalamus -pituitary -adrenal ( HPA ) axis and the<br>sympathetic nervous system ( SNS ) , which in turn regulate<br>adaptive and innate immune responses .",
          "During sleep , blood levels of cortisol , epinephrine , and<br>norepinephrine drop ( Besedovsky et al . 2012 ) , whereas<br>mediators that subserve cell growth such as growth hormone ,<br>prolactin , and the pineal hormone melatonin show a steep<br>increase in their blood levels .",
          "( For characterization of these latter neuroendocrine<br>responses , which is beyond the scope of this review , see<br>Besedovsky et al . 2012 . )",
          "In contrast , chronic sleep disturbance leads to activation<br>of the HPA and SNS pathways ( Vgontzas et al . 2013 ) ,<br>which together contribute to an increased proinflammatory<br>and reduced antiviral skewing of the basal gene expression<br>profile , termed the basal transcriptome .",
          "Such a conserved transcriptional response to adversity , of<br>which sleep disturbance is one type , has been extensively<br>discussed in prior reviews",
          "( Irwin & Cole 2011 , Slavich & Irwin 2014 .",
          "Briefly , activation of the HPA axis releases cortisol that<br>suppresses proinflammatory and antiviral immune responses by<br>three mechanisms .",
          "First , glucocorticoids bind to the glucocorticoid receptor<br>of gene promoter sequences and interrupt transcription of<br>proinflammatory and antiviral genes .",
          "Second , activation of the glucocorticoid receptor induces<br>transcription of certain anti -inflammatory genes , which<br>serves to interfere with activation of the transcription<br>factor NF -κ B and leads to a blockade of the inflammatory<br>cascade .",
          "Finally , protein -protein interactions interfere with<br>proinflammatory transcription factors such as NF -κ B and AP<br>-1 and antagonize inflammatory gene transcription ( Irwin &<br>Cole 2011 ) .",
          "The second effector pathway is the SNS .",
          "In contrast to HPA activation , the SNS \" steers \" immune<br>responses between antiviral and proinflammatory immune<br>responses ( Irwin & Cole 2011 ) .",
          "Immune response gene transcription is regulated via<br>stimulation of β -adrenergic receptors by the release of<br>neurotransmitter norepinephrine into peripheral tissues ,<br>primary and secondary lymphoid organs , and all other major<br>organ systems ( including the vasculature and perivascular<br>tissues )",
          "( Irwin & Cole 2011 ). This adrenergic signaling cascade<br>suppresses transcription of antiviral type I IFN genes (<br>Cole et al . 1998 ) and upregulates transcription of the<br>proinflammatory immune response genes IL1B , TNF , and IL6 ,<br>leading to increases in systemic inflammatory activity",
          "Nocturnal sleep has a homeostatic role in the regulation of<br>immunity , which is separate from the influence of circadian<br>processes .",
          "In a series of elegant studies , the profile of immune<br>measures during a regular 24 -hour sleep -wake cycle has<br>been compared to a 24 -hour cycle of continuous nocturnal<br>wakefulness to evaluate the influence of sleep versus<br>circadian oscillators on nocturnal , as well as daytime ,<br>levels of immunity",
          "( Born et al . 1997 , Lange et al . 2010 .",
          "Circadian factors play a predominant role in regulating the<br>distribution of immune cells .",
          "Regardless of nocturnal sleep , the numbers of leukocytes ,<br>granulocytes , and monocytes as well as the major lymphocyte<br>subsets , including T -helper cells ( CD4 + ) , cytotoxic T<br>cells ( CD8 + ) , activated T cells ( HLA -DR + ) , and B<br>cells ( CD19 + ) , reach a maximum in the evening or early<br>night and then decline throughout the remaining night to<br>reach a minimum in the morning hours ( Born et al . 1997 ) .",
          "In humans , this circadian rhythm of T cells in blood is<br>independent of sleep and is coupled to the rhythm of<br>cortisol such that the peak in cortisol in the beginning of<br>the wake period precedes a decrease in blood T cell number<br>by about 3 hours .",
          "In contrast to circadian factors , nocturnal sleep plays a<br>predominant role in the regulation of adaptive immune<br>responses .",
          "During nocturnal sleep , but not during a period of<br>nocturnal wakefulness , T cell production of IL -2 ( Lissoni<br>et al . 1998 ) , as well as IFN -γ ( Petrovsky et al . 1998<br>) , is enhanced .",
          "Even a modest amount of sleep can increase IL -2 production<br>, as levels of IL -2 are similar during a night of<br>uninterrupted sleep or partial sleep loss ( Irwin et al .<br>1999 ) .",
          "Nocturnal sleep also enhances the production of IL -12 by<br>precursor dendritic cells as well as by monocytes",
          "( Lange et al .",
          "2006b",
          "( Lange et al . , 2010 ;",
          "IL -12 is a key cytokine for the induction of Th1 -type<br>adaptive immune responses .",
          "Finally , nocturnal sleep favors a shift toward Th1 (<br>predominance of IFN -γ ) , with a peak around 03:00 h (<br>Petrovsky & Harrison 1997 ) or even at 06:30 h ( Redwine et<br>al . 2003 ) , along with a reduction in production of the<br>anti -inflammatory cytokine IL -10 by monocytes",
          "2006b ). The ratio of IFN -γ to IL -10 production is thought<br>to be a determinant for the selection of the effector<br>mechanisms of immune defense , in which Th1 cell release of<br>mainly IFN -γ enhances response to intracellular viral and<br>bacterial challenges and supports various cellular responses<br>( i.e . , type 1 ) , including macrophage activation and<br>antigen presentation .",
          "Nocturnal sleep , as opposed to circadian processes ,<br>regulates aspects of innate immunity .",
          "For example , the nocturnal increase of natural killer ( NK<br>) cell activity , a type of cytotoxic lymphocyte critical to<br>the innate immune system , is dependent in part on sleep .",
          "Counts of NK cells and NK activity are at a minimum during<br>the early part of the night and reach a maximum in the late<br>morning hours ( Kronfol et al . 1997 ) ; this nocturnal<br>increase is attenuated in persons who evidence sleep<br>disturbance",
          "( Irwin et al . 1996 , Redwine et al . 2003 .",
          "In contrast , both circadian -and sleep -dependent processes<br>contribute to a nocturnal increase in inflammatory measures<br>.",
          "Circulating concentrations of IL -6 show two peaks , at<br>19:00 and again at 05:00",
          "( Vgontzas et al . 1999 ). Yet , early night sleep<br>deprivation delays the nocturnal increase of IL -6 ( Redwine<br>et al . 2000 ) , and total night sleep deprivation<br>diminishes the increase in IL -6 by about half ( Vgontzas et<br>al . 1999 ) .",
          "Nevertheless , circadian factors also contribute , as a<br>transient peak in IL -6 occurs at 01:00 even in the absence<br>of sleep ( Redwine et al . 2000 ) , with evidence that<br>monocyte production of IL -6 also peaks at 02:00 even when<br>the subject is awake ( Dimitrov et al . 2006 ) .",
          "Nocturnal sleep also plays a critical role in the regulation<br>of IL -6 signaling of neural functions .",
          "An integrated action of IL -6 on brain and nonimmune tissues<br>requires the release of IL -6R because binding of IL -6 with<br>IL -6R is required to activate cells that lack membrane<br>-bound IL -6R .",
          "Nocturnal sleep is associated with a robust ( 70 % )<br>increase in levels of soluble IL -6R ( Dimitrov et al . 2006<br>) , which is most pronounced during the late part of the<br>night , consistent with relative increases in REM sleep<br>amounts and increases in IL -6 ( Redwine et al . 2000 ) .",
          "However , nocturnal increases in another proinflammatory<br>cytokine , TNF , and its soluble receptor appear to be<br>driven primarily by circadian factors ( Born et al . 1997 )<br>.",
          "The signals that drive nocturnal increases in<br>proinflammatory cytokines are not known , although it is<br>speculated that danger signals such as reactive oxygen<br>species , nucleotides ( e.g . , adenosine triphosphate ) ,<br>and heat shock proteins accumulate during the wake period<br>and act like classical immunological stimulants for the<br>production of proinflammatory cytokines , which then support<br>the initiation of adaptive immune responses ( Besedovsky et<br>al . 2012 ) .",
          "Alternatively , sleep induces the release of growth hormone<br>( GH ) and prolactin during the early night , and GH and<br>prolactin are well known to enhance the proliferation and<br>differentiation of T cells as well as to promote type 1<br>cytokine activity ( Lange et al . 2006a ) .",
          "Interestingly , peaks of proinflammatory cytokines during<br>the rest period have been observed , often during the early<br>SWS -dominated portion of sleep , in humans as well as in<br>animals , on the m RNA and protein levels in different<br>tissues including the brain , adipose tissue , and lymph<br>nodes",
          "Given that nocturnal sleep is a prominent regulator of<br>adaptive immune responses , it is logical to consider the<br>effects of sleep disturbance on this branch of the immune<br>system during the day and after a period of sleep<br>disturbance .",
          "However , in some instances when sleep loss is prolonged or<br>severe , such as total night sleep deprivation for several<br>nights , the immune effects may not be specific to sleep<br>disturbance , as there can be marked activation of stress<br>response pathways such as the HPA axis during such profound<br>sleep loss .",
          "Yet , when the sleep loss is limited to a single night or<br>part of the night , or when sleep is fragmented as often<br>occurs in naturalistic settings , activation of stress<br>pathways appears limited to increases of SNS activity",
          "( Irwin et al . 1999 , Irwin & Ziegler 2005 .",
          "Adrenergic signaling then steers immune responses with the<br>suppression of antiviral immune response genes and increases<br>in inflammatory response genes as noted above ( Irwin & Cole<br>2011 )",
          "Experimental sleep loss , as defined by experimentally<br>induced deprivation of sleep during all or part of the night<br>, has minimal effects on immune cell numbers , in part due<br>to the predominant circadian regulation of almost all white<br>blood cell subpopulations .",
          "For example , the relative distribution of most major<br>lymphocyte subsets does not change in response to sleep loss<br>, with the exception of decreases in the numbers and<br>relative percentage of NK cells",
          "( Born et al . 1997 , Irwin et al . 1996 .",
          "However , when sleep loss is extended beyond a single night<br>of sleep deprivation , numbers of circulating granulocytes<br>and monocytes increase",
          "( Dinges et al . 1994 , Irwin et al . 1996 .",
          "In contrast , experimental sleep loss during all or part of<br>the night has robust effects on the production of cytokines<br>important in the regulation of adaptive immunity .",
          "Both partial -and totalnight sleep deprivation reduce T cell<br>production of IL -2 , and this effect is independent of the<br>total number of circulating T cells",
          "( Born et al . 1997 ;",
          "Irwin et al . 1996 Irwin et al . , 1999 .",
          "In addition , a night of wakefulness is associated with a<br>shift in the Th1 to Th2 cytokine balance toward increased<br>Th2 cytokine activity , especially in the morning hours",
          "( Dimitrov et al . 2004 , Lange et al .",
          "2006a .",
          "Sleep deprivation also reduces monocyte production of IL -12<br>, a cytokine that supports Th1 responses , whereas sleep<br>loss increases the production of IL -10 , a cytokine that<br>promotes Th2 responses",
          "Naturalistic sleep disturbance , in contrast to experimental<br>sleep loss , is associated with alterations in the relative<br>distribution of immune cells ; marked decreases in the<br>numbers of CD3 + , CD4 + , and CD8 + T cells have been<br>reported in patients with chronic insomnia ( Savard et al .<br>2003 ) .",
          "Research on the effects of sleep loss on vaccine responses<br>provides a translational perspective on the sleep -related<br>changes in adaptive immunity by identifying clinically<br>relevant endpoints related to infectious disease risk<br>including immunologic response to vaccination .",
          "Hypothalamus animals that were not sleep deprived ( Brown et<br>al . 1989 ) , although three subsequent studies have failed<br>to replicate these initial findings",
          "( Renegar et al .",
          "1998a",
          "( Renegar et al . , b , 2000 .",
          "In humans , partial sleep deprivation mimics the ubiquitous<br>sleep disturbance found in persons exposed to social<br>adversity or who are aged and most vulnerable to infectious<br>diseases .",
          "Following a night of partial sleep loss , immunologic<br>response to an influenza A vaccination was reported to be<br>reduced by over 50 % as compared to the response in those<br>who maintained a regular sleep schedule ( Spiegel et al .<br>2002 ) .",
          "Similar results were found in response to immunization with<br>the hepatitis A vaccine , in which total sleep deprivation<br>also reduced virus -specific antibody titers ( Lange et al .<br>2003 ) .",
          "Furthermore , the effects of sleep loss were persistent for<br>up to one year ; these effects included a reduced frequency<br>of antigen -specific Th cells as well as reduced levels of<br>antigen Ag -specific immunoglobulin G1 ( Lange et al . 2011<br>) .",
          "Naturalistic sleep disturbance has also been found to be<br>associated with a reduced magnitude of immune response to<br>several types of vaccines .",
          "Initial studies focused on the link between psychological<br>stress and vaccine response and revealed that sleep amounts<br>partially explained the impaired vaccine responses .",
          "Miller et al . ( 2004 ) found an association between fewer<br>hours of sleep , as indexed by ambulatory monitoring , and<br>lower antibody response to the influenza vaccine , which<br>accounted in part for the association between daily measures<br>of psychological stress and the reduced response to the<br>influenza vaccine .",
          "Likewise , Pressman et al . ( 2005 ) found that loneliness<br>and poor sleep efficiency were associated with poorer<br>antibody response to influenza vaccine .",
          "Recent research has examined the association between sleep<br>amounts and vaccine response .",
          "Prather et al . ( 2012 ) found that shorter sleep duration (<br>i.e . , less than six hours per night as confirmed by<br>actigraphy ) was strongly linked to a decreased likelihood<br>of protection from a hepatitis B vaccination in 125 midlife<br>adults .",
          "Importantly , this adverse effect of sleep disturbance<br>persisted even when three doses of the vaccine were given ,<br>including a booster dose at six months .",
          "Together , these experimental and prospective observations<br>demonstrate that variations in sleep duration decrease the<br>immunologic protection offered by standard , clinical<br>vaccines ( i.e . , influenza , hepatitis ) and suggest the<br>possibility that short sleep duration might increase<br>infectious disease risk by increasing susceptibility to<br>viral pathogens or expression of symptoms , or both .",
          "Sleep disturbance and adaptive immunity .",
          "The hypothalamus -pituitary -adrenal axis distributes<br>glucocorticoid hormones through the blood to regulate gene<br>expression in virtually every cell of the body .",
          "Sleep disturbance results in hormone activation of the<br>glucocorticoid receptor in leukocytes , which leads to a<br>profound suppression of antiviral gene programs [ e.g . ,<br>interferon regulatory factor ( IRF ) -mediated transcription<br>of type I interferons ( IFNs ) such as the IFNA and IFNB<br>genes ] .",
          "Sleep disturbance also activates nerve fibers from the<br>sympathetic nervous system ( SNS ) to release the<br>neurotransmitter norepinephrine into primary and secondary<br>lymphoid organs , all other major organ systems including<br>the vasculature and perivascular tissues as well as many<br>other peripheral tissues .",
          "SNS neural fibers can also stimulate the adrenal gland to<br>release stored epinephrine into the systemic circulation .",
          "Both neuromediators stimulate leukocyte adrenergic receptors<br>( e.g . , ADRB2 ) to repress IRF -mediated antiviral IFN<br>response gene ( IRG ) programs .",
          "Sleep also induces the release of growth hormone during the<br>early part of the night , and this hormone acts to enhance<br>the proliferation and differentiation of T cells as well as<br>to promote type 1 cytokine activity ; when sleep is<br>disrupted , a reduced amount of growth hormone is released .",
          "Suppression of IRF -mediated IRG programs leads to a shift<br>in Th1 to Th2 balance , with decreases in Th1 cell<br>production of IFN and increases in Th2 cell production of<br>interleukin -10 ( IL -10 ) .",
          "This suppression of adaptive immune response is thought to<br>contribute to increased susceptibility to infectious disease<br>and decreased response to vaccines .",
          "Dashed lines from the CNS to the leukocyte indicate release<br>of hormone ( i.e . , growth hormone , ACTH , glucocorticoid<br>epinephrine ) into the systemic circulations , whereas the<br>solid line indicates a neural connection ( i.e . ,<br>norepinephrine ) .",
          "Abbreviations : ACTH , adrenocorticotropic hormone ;",
          "Extremes of sleep duration are related to infectious disease<br>risk , with epidemiologic evidence that both reduced ( e.g .<br>, < 5 h ) and prolonged ( e.g . , > 9 h ) habitual sleep<br>duration are correlated with an increased risk of pneumonia<br>( Patel et al . 2012 ) .",
          "Also , Cohen et al . ( 2009 ) found that self -reported<br>shorter sleep duration and sleep fragmentation were<br>associated with susceptibility to the common cold .",
          "In experimental studies in which healthy adults are<br>inoculated with a rhinovirus that produces symptoms of the<br>common cold , poor sleep efficiency was associated with<br>increased susceptibility to the common cold and greater<br>symptom reporting",
          "( Cohen et al . 2009 ). Whether it is possible to modify<br>infectious disease risk profiles in persons with sleep<br>problems is not known , although Irwin et al . ( 2013 )<br>recently reported that treatment of depressed older adults<br>with a selective serotonin reuptake inhibitor normalizes<br>attenuated vaccine responses to the zoster vaccine .",
          "The age and depression status of older adults contribute to<br>shorter sleep duration along with blunted viral -specific<br>immune response to vaccines and an increased risk of herpes<br>zoster as well as influenza .",
          "The reasons that sleep contributes to dynamic variations in<br>the adaptive immune system and response to vaccine are not<br>known , although it is thought that the quiescent period of<br>sleep serves to reallocate energy resources from functions<br>related to wakefulness to processes that , for example ,<br>facilitate and promote immune responses to infectious<br>challenge",
          "( Besedovsky et al . 2012 , Motivala & Irwin 2007 .",
          "As immune cells move out of the circulatory system during<br>the nocturnal period , naive T and B cells relocate to the<br>lymph nodes and are exposed to foreign antigens , which<br>initiates an adaptive immune response .",
          "The subsequent immune cell division and differentiation<br>require metabolic resources , which appear to be supported<br>during sleep , especially SWS .",
          "For example , Lange et al . ( 2003 ) found that EEG slow<br>-wave activity on the night after vaccination against<br>hepatitis A correlated with the percentage of antigen<br>-specific Th cells measured one year after vaccination ,<br>with evidence that increased release of growth hormone and<br>prolactin but decreased cortisol mediated these effects .",
          "The release of growth hormone , as well as prolactin ,<br>primarily occurs early in the night , at the time that SWS<br>is most prominent .",
          "Hence , the link between SWS and the formation of<br>immunological memory , as well as neurobehavioral memories ,<br>provides insight into the role of sleep in the cross -links<br>between the brain and the immune system and the function of<br>sleep in supporting the organism 's strategic adaptation to<br>different kinds of environmental stressors ( i.e . ,<br>behavioral , immunological ) .",
          "Another potential mechanism involves activation of<br>adrenergic signaling that suppresses adaptive immunity .",
          "Whereas sleep disturbance induces increases in SNS outflow",
          "( Irwin et al . 1999 , Irwin & Ziegler 2005 , further<br>research is needed to test explicitly whether antagonism of<br>β -adrenergic signaling abrogates the effects of sleep<br>disturbance on adaptive immunity , similar to the effects of<br>β -adrenergic antagonism of stress -induced reduction of<br>adaptive immune responses",
          "Nocturnal sleep , as described above , serves to prime the<br>immune system to infectious challenge and to induce<br>nocturnal activation of inflammatory signaling .",
          "Hence , in the absence of sleep , nocturnal levels of<br>inflammatory cytokines are lower during the night",
          "( Besedovsky et al . 2012 , Redwine et al . 2000 .",
          "However , loss of sleep also induces an activation of<br>sympathetic outflow , and in the aftermath of sleep<br>disruption , such adrenergic signaling is thought to steer<br>inflammatory gene expression and lead to increases in<br>daytime levels of markers of innate immunity and<br>inflammation .",
          "Over a decade ago , early data suggested that prolonged<br>sleep deprivation induced an activation of innate immunity ,<br>although measures of circulating levels of cytokines relied<br>on bioassays that lacked specificity and it was not known<br>what cytokine contributed to reported increases in IL -1<br>-like and IL -2 -like activity",
          "( Moldofsky et al . 1989 ). However , the advent of cellular<br>and molecular assays of inflammatory biology has<br>exponentially increased interest in the role of sleep<br>disturbance on inflammatory markers , with implications for<br>understanding the association between sleep complaints and<br>inflammatory disorders .",
          "Partial -night sleep deprivation , when repeated for several<br>nights ( i.e . , 10 nights ) , induces robust increases in C<br>-reactive protein ( CRP ) ( Meier -Ewert et al . 2004 ) and<br>IL -6",
          "( Haack et al . 2007 ). Even shorter periods of sleep<br>restriction ( i.e . , seven nights ) induce increases in<br>plasma concentrations of IL -6 in men and women , increases<br>of TNF in men only ( Vgontzas et al . 2004a )",
          "( Faraut et al . 2011 , Shearer et al . 2001 , circulating<br>levels of inflammatory markers do not appear to change .",
          "Yet , in a vulnerable population of individuals who report<br>chronic sleep disturbance , a single night of sleep loss<br>triggers an activation of inflammation with increases in IL<br>-6 and TNF , which is not found in those who have no<br>underlying sleep problems ( Irwin et al . 2004 ) .",
          "Total -night sleep deprivation is also reported to induce<br>increases in circulating markers of inflammation , with<br>evidence of a dose response relationship in which<br>progressive loss of sleep over four nights led to cumulative<br>increases of CRP",
          "( Meier -Ewert et al . 2004 ). Increases of TNF emerge as<br>early as after one or two nights ( Chennaoui et al . 2011 )<br>, although elevations in IL -6 do not appear to occur until<br>after four nights ( Shearer et al . 2001 ) .",
          "Importantly , in healthy adults , an intervening nap appears<br>to be protective , as increases of IL -6 following four<br>nights of sleep restriction are reversed by a two -hour nap",
          "( Vgontzas et al . 2007 ). Activation of vascular<br>endothelial markers ( i.e . , E -selectin , s ICAM -1 ) ,<br>which typically follows increases in inflammation , also<br>occurs after a single night of sleep loss",
          "( Frey et al . 2007 , Sauvet et al . 2010 .",
          "Finally , consistent with the notion that nocturnal sleep<br>primes inflammatory signaling but sleep loss leads to<br>daytime increases of inflammation , Vgontzas et al . ( 1999<br>) have found that sleep deprivation shifts the temporal<br>pattern of circadian IL -6 secretion , with lower levels of<br>IL -6 during the night and higher levels during the day .",
          "Another component of the innate immunity that is altered by<br>sleep loss is NK activity , although changes in NK activity<br>parallel the suppressive effects of sleep loss on adaptive<br>immunity , with robust reductions in NK activity , Irwin et<br>al . 1996 and in the ability of NK cells to become activated<br>by IL -2 activation ( Irwin et al . 1996 ) .",
          "Additionally , sleep disturbance appears to be a critical<br>pathway by which psychological stress and major depression<br>lead to a reduction in NK activity",
          "Cellular production of IL -6 and TNF is thought to be due in<br>part to aberrant increases of TLR activity , which in turn<br>have been linked to inflammatory diseases such as rheumatoid<br>arthritis ( Andreakos et al . 2004 ) and heart failure (<br>Satoh et al . 2005 ) .",
          "Hence , to understand the functional basis for altered<br>inflammatory response after sleep loss , research has<br>examined the production of proinflammatory cytokines by<br>monocytes following ligation of TLR -4 with<br>lipopolysaccharide",
          "in production of proinflammatory cytokines throughout the<br>day following sleep loss .",
          "Additionally , sleep loss induces an increase in<br>transcription of IL -6 and TNF ( Irwin et al . 2006b ) due<br>an activation of NF -κ B , the key transcription control<br>pathway in the inflammatory signaling cascade",
          "2008b ). Moreover , sleep has effects on transcriptome<br>dynamics and induces an upregulation of a gene ensemble that<br>includes the master circadian regulator , several immediate<br>early genes marking cellular signal transduction , and<br>multiple inflammatory response genes .",
          "Transcription factor binding motifs that were<br>overrepresented in the sleep -deprivation condition included<br>the promoters of genes involved in regulation by cyclic<br>adenosine monophosphate/protein kinase A ( c AMP/PKA )<br>-induced transcription factors of the c AMP response element<br>-binding protein/activating transcription factor ( CREB/ATF<br>) family , the protein kinase C -induced AP -1 family , the<br>proinflammatory NF -κ B/Rel family , and the mitogen<br>-activated protein kinase -inducible E26 transformation<br>-specific ( ETS ) transcription factor family typified by<br>ELK1 .",
          "Three prominent epidemiologic studies have specifically<br>tested the cross -sectional relationship between insomnia<br>complaints and elevated levels of CRP , a marker of systemic<br>inflammation , and have found mixed results .",
          "The Nord -Trondelag Health Study ( n = 8,547 ) found no<br>significant relationship between insomnia symptoms and CRP<br>after adjustment for cardiovascular risk factors ( Laugsand<br>et al . 2012 ) , whereas the Northern Finland 1966 Birth<br>Cohort study ( n = 4,011 ) showed insomnia was associated<br>with higher levels of CRP in men , but not in women , and<br>that these relationships were apparent only if insomnia at<br>least moderate to severe",
          "( Liukkonen et al . 2007 ). However , recent findings from<br>the National Health and Nutrition Examination Survey (<br>NHANES ) ( n = 10,908 ) showed that complaints of<br>nonrestorative sleep , as opposed to nocturnal insomnia<br>symptoms , were associated with higher levels of CRP in both<br>sexes ( Zhang et al . 2013a ) .",
          "Naturalistic studies that have assessed sleep disturbance<br>using validated sleep questionnaires such as the Pittsburgh<br>Sleep Quality Index ( PSQI ) or that have diagnostically<br>categorized insomnia have reported a more consistent effect<br>of sleep disturbance on inflammation than have epidemiologic<br>studies that have relied on one or two questions about sleep<br>disturbance .",
          "Indeed , when sleep disturbance is defined by questionnaire<br>threshold scores ( i.e . , PSQI > 5 ) , high levels of CRP<br>have been found among poor sleepers in clinical",
          "( Chiu et al . 2009 ), adult",
          "( Okun et al . 2009 ), and older adult ( Christian et al .<br>2011 ) Sleep disturbance and innate immunity .",
          "Following a night of sleep loss , or during a period of<br>sleep disturbance , nerve fibers from the sympathetic<br>nervous system ( SNS ) release the neurotransmitter<br>norepinephrine into primary and secondary lymphoid organs<br>and stimulate the adrenal gland to release stored<br>epinephrine into systemic circulation .",
          "Both neuromediators stimulate leukocyte adrenergic receptors<br>( e.g . , ADRB2 ) and activate nuclear factor ( NF ) -κ B<br>-mediated inflammatory programs .",
          "Intrinsic circuits detect microbes via pattern recognition<br>receptors ( PRRs ) such as the Toll -like receptor -4 ( TLR4<br>) and stimulate inflammatory gene expression via<br>transcription factors such as NF -κ B .",
          "The production of proinflammatory cytokines interleukin ( IL<br>) -6 and tumor necrosis factor -α ( TNF -α ) occurs .",
          "Bidirectional links between the brain and periphery allow<br>the brain to regulate inflammatory activity , and<br>inflammatory activity in turn can influence neural processes<br>in the brain and alter sleep .",
          "are also reported in persons who report sleep impairment",
          "( Erten et al . 2005 , although not all studies have<br>confirmed these findings ( van Mark et al . 2010 ) .",
          "Likewise , among patients with insomnia disorder , increases<br>in daytime circulating levels of CRP ( Razeghi et al . 2012<br>) and IL -6 are found ( Vgontzas et al . 2002 ) , with<br>elevated levels of IL -6 , for example , extending into the<br>mid -afternoon and early evening ( Vgontzas et al . 2002 )<br>and even into the night ( Burgos et al . 2006 ) .",
          "Finally , given that women appear to be especially<br>vulnerable to the effects of sleep loss on cellular<br>inflammation ( as noted above )",
          "2008b",
          "( Irwin et al . , 2010 , it is interesting to note that<br>Suarez ( 2008 ) found that overall poor sleep quality was<br>associated with increases in inflammatory biomarkers , but<br>only for women , similar to the findings of Friedman et al .<br>( 2005 ) in older adults .",
          "Certain aspects of sleep disturbance , as well as sex<br>differences , differentially impact inflammation , with<br>evidence that poor sleep efficiency may be salient in the<br>association with higher levels of CRP and IL -6 ( Friedman<br>et al . 2005 ) , especially in women with poor social<br>relationships .",
          "Further research should evaluate whether social ties might<br>buffer the adverse effects of sleep disturbance on<br>inflammation .",
          "Moreover , self -reported sleep duration may also impact<br>inflammatory markers .",
          "Again , sex differences emerge with evidence that women ,<br>but not men , are more likely to show elevated levels of<br>inflammation in association with short sleep duration .",
          "For example , in the Whitehall II epidemiologic study ( n =<br>4,677 )",
          "( Miller et al . 2009 ), women , but not men , who slept<br>less than eight hours tended to have higher levels of IL -6<br>as well as higher levels of CRP .",
          "Other studies have focused solely on women and found that<br>postpartum sleep duration of less than five hours was<br>prospectively associated with increases of IL -6 and CRP one<br>to three years later ( Taveras et al . 2011 ) ; shorter<br>sleep duration was also associated with increases of CRP in<br>adolescent girls ( Larkin et al . 2005 ) .",
          "Extreme sleep habits , i.e . , short and long sleep duration<br>, have been linked to adverse health outcomes ( Youngstedt &<br>Kripke 2004 ) , with similar effects on inflammation .",
          "In the populationbased In CHIANTI study ( n = 751 ) , levels<br>of TNF , but not IL -6 or CRP , were increased at extremes<br>of both short and long sleep as compared to those who slept<br>seven to eight hours ( Stenholm et al . 2011 ) .",
          "However , in a five -year prospective observational study of<br>an older adult Taiwanese population , only longer sleep (<br>greater than eight hours ) was associated with increases in<br>markers of inflammation ( Dowd et al . 2011 ) , although<br>this study only tested the prospective role of inflammation<br>on sleep as opposed to sleep duration on inflammation .",
          "To further complicate these observations , the effects of<br>sleep duration might depend on the proinflammatory cytokine<br>;",
          "Patel et al . ( 2009 ) found that each additional hour of<br>sleep duration resulted in an increase in CRP and an<br>increase in IL -6 , whereas a shorter sleep duration was<br>associated with an increase in TNF .",
          "Given these mixed results , it is important to note that<br>several high -quality studies have found no relationship<br>between self -reported and objective ( i.e . ,<br>polysomnographic ) sleep duration and markers of<br>inflammation",
          "Activation of the sympathetic nervous system and β<br>-adrenergic signaling activate the inflammatory cascade to<br>induce increases in NF -κ B , inflammatory gene expression ,<br>and production of proinflammatory cytokines , along with<br>increases in markers of systemic inflammation such as CRP (<br>Irwin & Cole 2011 ) .",
          "Given that normal nocturnal sleep is associated with a drop<br>in sympathetic outflow ( Irwin et al . 1999 ) , one<br>biologically plausible mechanism to explain the associations<br>between sleep disturbance , short sleep duration , and<br>increases in markers of inflammation is activation of<br>sympathetic effector pathways .",
          "Sleep and sleep depth regulate sympathetic outflow .",
          "In the transition from wakefulness to sleep , there is a<br>shift from sympathetic to parasympathetic outflow , which is<br>dependent on the stage of sleep as well as sleep depth (<br>Boudreau et al . 2013 ) .",
          "During NREM or SWS , sympathetic activity is decreased ;<br>during REM sleep , SNS outflow is higher , similar to<br>daytime levels ( Somers et al . 1993 ) .",
          "Changes in plasma levels of the sympathetic<br>neurotransmitters show a similar pattern ( Irwin et al .<br>1999 ) .",
          "In contrast , increases in norepinephrine , epinephrine ,<br>and other markers of sympathetic outflow ( as measured by<br>blood pressure , heart rate variability , and impedance<br>cardiography ) are found in patients with insomnia ( Bonnet<br>& Arand 1997 , De Zambotti et al . 2011 , Lanfranchi et al .<br>2009 , Riemann 2010 , Vgontzas et al . 2013 ) and following<br>sleep deprivation",
          "Furthermore , patients with insomnia with short sleep<br>duration are more likely to show increases in urinary<br>catecholamines and levels of their metabolites than are<br>insomniacs without objective sleep disturbance , similar to<br>the greater activation of inflammatory biomarkers in this<br>more severe phenotype",
          "Inflammation has been found to have a fundamental role in<br>mediating all stages of atherosclerosis , from its<br>initiation through progression to cardiovascular disease ,<br>with evidence that the prospective risk for acute coronary<br>syndromes as well as risk for other atherosclerotic<br>complications is defined in part by high levels of CRP (<br>Libby et al . 2002 ) .",
          "In addition , sleep complaints -possibly through effects on<br>inflammation -contribute to cardiovascular disease risk",
          "( Mullington et al . 2009 ). Finally , depression is well<br>known to be a potent risk factor for cardiovascular disease<br>( Joynt et al . 2003 ) , with recent findings indicating<br>that sleep disturbance has a critical role in mediating the<br>association between depressive symptoms and hypertension<br>incidence ( Gangwisch et al . 2010 ) as well as allcause and<br>cardiovascular disease mortality",
          "( Azevedo Da Silva et al . 2014 ). However , no study has<br>systematically evaluated whether elevated levels of<br>inflammation mediate the association between sleep<br>disturbance and cardiovascular disease , so the following<br>section primarily describes the associations between sleep<br>disturbance , hypertension , and cardiovascular outcomes .",
          "Those who report sleep complaints and/or have short sleep<br>duration appear to be at greatest risk of cardiovascular<br>disease ( Vgontzas et al . 2013 ) .",
          "For example , a recent meta -analysis of 11 prospective<br>studies ( Meng et al . 2013 ) found that short sleep<br>duration , as well as complaints of sleep maintenance and<br>early -morning awakening , but not difficulty falling asleep<br>, predicted an increased risk of hypertension ; another<br>systematic review ( Palagini et al . 2013 ) as well as a<br>largescale epidemiologic study ( n = 4,794 ) ( Suka et al .<br>2003 ) had similar conclusions .",
          "The salient role of insomnia complaints combined with short<br>sleep duration in predicting cardiovascular disease , and<br>especially hypertension , has also been examined by<br>polysomnography in a study of more than 1,700 adults",
          "( Vgontzas et al . 2009 ). Those who reported insomnia<br>lasting more than one year and who also had short sleep<br>duration ( ≤ 5 h ) had a fivefold greater risk of having<br>hypertension ( Vgontzas et al . 2009 ) , with prospective<br>findings showing that this combination led to a fourfold<br>increased risk of incident hypertension",
          "( Fernandez -Mendoza et al . 2012 ). In addition , in a<br>nationwide study in Taiwan ( n = 98,198 ) , clinically<br>significant insomnia disorder was associated with an<br>increased risk of acute coronary syndrome , and this<br>relationship was especially robust in young adult men",
          "( Chung et al . 2013 ). However , not all studies have<br>demonstrated a relationship between insomnia complaints and<br>objective measures of hypertension ( Vozoris 2013 ) , and<br>some have found only modest or no associations when insomnia<br>complaints are reported in the absence of short sleep<br>duration",
          "( Phillips et al . 2009 , Phillips & Mannino 2007 .",
          "Short sleep duration alone appears to have a robust effect<br>on cardiovascular disease risk , similar to the effects of<br>short sleep duration on inflammation",
          "( Ayas et al . 2003 , Hoevenaar -Blom et al . 2011 , Mallon<br>et al . 2002 .",
          "In a meta -analysis of 6 prospective ( n = 9,959 ) and 17<br>cross -sectional ( n = 105,432 ) studies , short sleep<br>duration was associated with an increased risk of prevalent<br>hypertension , particularly in adults younger than 65 years<br>old , and with increased risk of incident hypertension (<br>Wang et al . 2012 ) .",
          "In addition to effects on hypertension ( Grandner & Perlis<br>2013 ) , another meta -analysis reported that short sleep<br>duration is associated with morbidity and mortality from<br>coronary heart disease and stroke but not with total<br>cardiovascular disease ( Cappuccio et al . 2011 ) .",
          "Those sleeping less than five hours appear to show the<br>greatest risk for cardiovascular events ( Sabanayagam et al<br>. 2011 ) , although even sleeping less than seven hours per<br>night entailed increased risk of cardiovascular mortality (<br>Heslop et al . 2002 ) , with a linear relationship between<br>sleep duration and prospective risk of cardiovascular<br>disease ( Chien et al . 2010 ) that indicates an optimal<br>sleep duration between seven and eight hours .",
          "Extremes of sleep may contribute to cardiovascular disease ,<br>similar to the effects of sleep extremes on inflammation .",
          "Indeed , both meta -analyses noted above",
          "( Cappuccio et al . 2011 , Wang et al . 2012 found that long<br>duration of sleep was also associated with prevalent<br>hypertension ( Wang et al . 2012 ) as well as a greater risk<br>of other cardiovascular disease , Wang et al . 2012 , with a<br>U -shaped risk profile in both men and women",
          "( Cappuccio et al . 2011 , Ikehara et al . 2009 , Wang et al<br>. 2012 .",
          "One study found that extremes of sleep duration are more<br>robustly associated with cardiovascular morbidity and<br>mortality in women but not in men , whereas other data<br>suggest that only long sleep duration is associated with<br>cardiovascular disease risk",
          "Inflammation is increasingly thought to have a prominent<br>role in cancer incidence and cancer recurrence .",
          "Elevated levels of CRP and other markers of inflammation are<br>prospectively associated with increases in mortality and<br>site -specific cancer mortality for lung , colorectal ,<br>liver , and prostate ( Ko et al . 2012 ) , especially in men<br>( Baune et al . 2011 ) , with other data showing that<br>inflammation is linked to breast cancer incidence ( Touvier<br>et al . 2013 ) and interacts with other factors ( e.g . ,<br>smoking ) to increase lung cancer risk",
          "( Shiels et al . 2013 , Siemes et al . 2006 ). In addition ,<br>inflammation appears to be a prognostic factor predicting<br>breast cancer recurrence",
          "( Cole 2009 , Pierce et al . 2009 ). Inflammatory responses<br>are thought to be linked to 15-20 % of all deaths from<br>cancer worldwide ( Mantovani et al . 2008 ) , in part due to<br>cancer -related activation of NF -κ B and multiple<br>inflammatory cytokines ( such as IL -1β , IL -6 , and TNF -α<br>) ( Karin 2006 )",
          ". As with cardiovascular disease , no prospective study has<br>examined whether sleep disruption elevates inflammation to<br>mediate the relationships between sleep and cancer as<br>described below .",
          "Although beyond the scope of this review , circadian rhythm<br>disturbances ( i.e . , shift work ) and co -occurring sleep<br>disturbance are implicated in cancer risk ( for a review ,<br>see Haus & Smolensky 2013 ) .",
          "Shift work and related circadian disruption contribute to an<br>epigenetic modification of circadian genes , which serve as<br>transcriptional regulators that affect the expression of<br>many cancerrelated genes and participate in regulating cell<br>division and DNA repair .",
          "In longtime night workers and shift workers , slightly to<br>moderately increased risk for breast , prostate , colon ,<br>and endometrial epithelial malignancies plus non -Hodgkin 's<br>lymphoma is found ( Conlon et al . 2007 ; Kubo et al . 2006<br>Kubo et al . , 2011 Parent et al . 2012 ) , although other<br>studies have reported no association",
          "( Schwartzbaum et al . 2007 ). The International Agency for<br>Research on Cancer has concluded that there is sufficient<br>experimental evidence in animals to support the<br>carcinogenicity of circadian disruption , with adequate<br>evidence in humans to denote long -term shift work as a<br>probable carcinogen in humans ( Haus & Smolensky 2013 ) .",
          "Given the associations between shift work and recurrent<br>sleep disturbance , the association between sleep<br>disturbance and cancer risk is being explicitly tested .",
          "In the Age , Gene/Environment Susceptibility ( AGES )<br>-Reykjavik cohort ( n = 2,102 ) , men who had problems<br>falling and staying asleep had a significantly increased<br>risk of prostate cancer compared to men without such sleep<br>problems ( Sigurdardottir et al . 2013 ) , with an even more<br>robust association among those with advanced prostate cancer<br>.",
          "However , no prospective association between sleep<br>complaints or sleep duration and risk of incident breast<br>cancer was found in the Women 's Health Initiative ( n =<br>110,011 ) ( Vogtmann et al . 2013 )",
          ". Short sleep duration alone may contribute to cancer risk",
          "( von Ruesten et al . 2012 ). In the European Prospective<br>Investigation into Cancer and Nutrition ( EPIC ) -Potsdam<br>study ( n = 23,620 ) , those who reported a sleep duration<br>of < 6 h had a significantly increased risk of cancer as<br>compared with those who reported 7 h of sleep , similar to<br>the increased risk of stroke and overall chronic diseases",
          "( von Ruesten et al . 2012 ). Yet other data suggest that<br>extremes of sleep duration , not simply short sleep duration<br>, are associated with cancer risk .",
          "For example , compared with those with 7 h of sleep , both<br>short sleep ( < 5 h ) and long sleep ( > 9 h ) were<br>associated with an increased risk of colorectal cancer in<br>the 11.3 -year follow -up of the Women 's Health Initiative<br>observational study ( n = 75,828 postmenopausal women ) (<br>Jiao et al . 2013 ) , although one other large -scale<br>prospective report found that only long sleep duration ( > 9<br>h ) was associated with the risk of colorectal cancer in the<br>Health Professionals Follow -Up Study ( n = 30,121 ) and the<br>Nurses ' Health Study ( n = 76,368 ) , with the risk being<br>relatively more robust in men than in women",
          "( Zhang et al .",
          "Inflammation plays a prominent role in depression , which<br>may be instigated in part by sleep disturbance .",
          "Multiple links exist between inflammation and depression (<br>for a review , see Slavich & Irwin 2014 ) .",
          "First , in patients with an inflammatory disorder ,<br>depression comorbidity is high .",
          "Second , markers of inflammation are elevated in depressed<br>compared to nondepressed individuals , with prospective<br>findings showing that increases of CRP and IL -6 predict the<br>occurrence of depression",
          "( Gimeno et al . 2009 ). Third , experimental activation of<br>inflammation induces increases of depressive symptoms along<br>with activation of brain sites that regulate positive and<br>negative affect",
          "( Eisenberger et al . 2009",
          "( Eisenberger et al . , 2010a .",
          "Finally , antagonism of endogenous inflammation shows<br>promise in reducing depressive symptoms and possibly in the<br>remission of depression in groups of depressed patients with<br>high levels of inflammation",
          "( Raison et al . 2013 , Tyring et al . 2006 .",
          "Symptoms of insomnia , including difficulties initiating and<br>maintaining sleep , commonly cooccur with depression .",
          "However , insomnia is not simply a symptom of depression but<br>rather may have a role in predicting depression incidence .",
          "Ford & Kamerow ( 1989 ) were among the first to note such a<br>relationship in a longitudinal epidemiologic study , and to<br>date more than 40 studies have been published that have<br>tested the role of insomnia in the onset of depression ( for<br>a review , see Riemann 2010 ) , with meta -analytic findings<br>showing that sleep disturbance yields a twofold increased<br>risk of depression ( Baglioni et al . 2011 ) or is one of<br>the first clinical signs of a depressive disorder ( Dryman &<br>Eaton 1991 ) .",
          "Persistent insomnia is particularly potent in increasing the<br>risk of depression , with a 14 -fold greater risk of<br>depression in the year following insomnia that had persisted<br>for up to one year",
          "( Lee et al . 2013 ). In addition , this association appears<br>to be specific to those with a history of depression ( Cho<br>et al . 2008 ) , although persistent insomnia was found to<br>predict risk for depressive symptoms over six years even in<br>those without a depression history ( Jaussent et al . 2011 )<br>.",
          "Together , these findings have strong clinical implications<br>for the development of studies to prevent the development of<br>depression by targeting sleep disturbance , and some<br>research has already found that adding cognitive behavioral<br>therapy for insomnia to standard antidepressant treatment<br>generates a more rapid and durable remission of depression<br>than does standard treatment alone ( Manber et al . 2008 ) .",
          "Whereas this review has primarily focused on the role of<br>sleep disturbance in the regulation of immunity , the<br>reciprocal links between the immune system and the brain (<br>Irwin & Cole 2011 ) and their effects on sleep also require<br>consideration , although a detailed discussion of these<br>mechanisms is beyond the scope of this review .",
          "Extensive basic animal research has found that Th1 ( i.e . ,<br>IFN ) and inflammatory cytokines are involved in the<br>regulation of sleep ; inflammatory cytokines increase<br>amounts of NREM sleep , and specific antagonists to these<br>cytokines decrease amounts of NREM sleep",
          "( Imeri & Opp 2009 ). In contrast , anti -inflammatory<br>cytokines such as IL -4 and IL -10 act in the opposite<br>direction and reduce the amount of NREM sleep ( Imeri & Opp<br>2009 ) .",
          "However , findings in humans contrast with those in animal<br>research , as some proinflammatory cytokines that promote<br>NREM sleep in animals appear to suppress NREM sleep or sleep<br>depth in humans .",
          "Acute administration of either IL -6 or IFN -α suppressed<br>SWS during the early part of the night and reduced amounts<br>of REM sleep",
          "( Spath -Schwalbe et al . 1998 , whereas an acute dose of<br>the T cell , IL -2 , showed no effect on sleep amounts or<br>measures of sleep architecture ( Lange et al . 2002 ) .",
          "When exposure to an inflammatory cytokine is chronic ( i.e .<br>, IFN -alpha treatment ) , a similar suppression of SWS<br>along with disturbances in sleep maintenance are found (<br>Raison et al . 2010 ) .",
          "However , large and rapid increases in proinflammatory<br>cytokine activity ( i.e . , single cytokine or endotoxin<br>challenge )",
          "( Bauer et al . 1995 , Pollmacher et al . 2000 may not be a<br>physiologically relevant signal for sleep regulation .",
          "To address this issue , cytokine antagonists that block<br>physiologic levels of cytokines have been tested , and<br>blockade of TNF has been found to induce a short -term<br>normalization of REM sleep in alcohol -dependent patients<br>with high levels of REM sleep ); the decrease in REM sleep<br>correlated with pharmacologic neutralization of biologically<br>active TNF .",
          "In addition , Zamarron et al . ( 2004 ) found that TNF<br>blockade improved sleep continuity and increased sleep depth<br>in patients with rheumatoid arthritis .",
          "Finally , TNF antagonism has been found to reduce daytime<br>sleepiness in patients with sleep apnea ( Vgontzas et al .<br>2004b ) and possibly improves other depressive symptoms<br>among those with high levels of inflammation",
          "Several treatment options are available for patients with<br>sleep disturbance and insomnia , including psychological and<br>behavioral approaches ( e.g . , cognitive behavioral therapy<br>for insomnia ) and mind -body or relaxation -based therapies<br>( e.g . , tai chi and yoga ) as well as various classes of<br>medications .",
          "Here we focus on behavioral and mind -body interventions<br>because of their potential to modulate certain aspects of<br>the immune system , including adaptive and innate immune<br>-response elements .",
          "Among the various treatments for insomnia , cognitive<br>behavioral therapies have a robust efficacy profile as<br>compared with other approaches , including therapies that<br>primarily target hyperarousal mechanisms using relaxation<br>-based treatments",
          "2006a ). Nevertheless , a number of studies have now<br>demonstrated that these relaxation -based approaches ( e.g .<br>, tai chi , yoga ) , which target stress -response pathways<br>that are activated in association with insomnia , influence<br>adaptive and innate immune responses and also improve<br>insomnia symptoms .",
          "For example , tai chi has been found to improve insomnia<br>complaints in older adults ( Irwin et al . 2008a ) , augment<br>vaccine responses to the herpes zoster virus ), and reduce<br>inflammation ( i.e . , levels of IL -6 ) ( Irwin & Olmstead<br>2012 )",
          ". Similarly , delivery of cognitive behavioral therapy in<br>patients with rheumatoid arthritis improved depressive<br>symptoms including insomnia complaints and reduced the<br>stimulated production of the proinflammatory cytokine IL -6",
          "( Zautra et al . 2008 ). More recent findings suggest that<br>mindfulness -based meditation can reduce<br>proinflammatoryresponse gene profiles ( Creswell et al .<br>2012 ) , and additional evidence indicates that yogic<br>meditation reverses increased NF -κ B -related transcription<br>of proinflammatory cytokines and decreased interferon<br>regulatory factor 1 -related transcription of innate<br>antiviral response genes ( Black et al . 2013 ) .",
          "Together , behavioral approaches might provide a strategy<br>for redirecting the leukocyte transcriptome via the<br>induction of multiple trans -acting transcription factors<br>via β -adrenergic receptor signaling that is activated in<br>association with life adversity and sleep loss .",
          "Recently , we have focused on patients with insomnia<br>complaints and tested whether behavioral interventions that<br>target sleep complaints might reverse the activation of<br>inflammatory pathways associates with insomnia .",
          "Along with inducing a remission of insomnia disorder ,<br>cognitive behavioral therapy was associated with decreases<br>in CRP : Levels of this marker of inflammatory risk were 50<br>% lower one year after treatment among those who showed<br>insomnia remission .",
          "Decreases in CRP following insomnia treatment were<br>comparable to the benefits reported with vigorous physical<br>activity ( Ford 2002 ) or weight loss ( Esposito et al .<br>2003 ) .",
          "Similar findings are reported in a study of the effects of<br>exercise training on sleep quality and inflammation in men<br>on hemodialysis who had sleep problems ( Afshar et al . 2011<br>) .",
          "Important directions for future research include<br>investigation of the environmental and personalized genomic<br>inputs that contribute to the varying influence of sleep on<br>immunity and inflammatory biological mechanisms and how<br>distinct aspects of sleep map onto immunological signatures<br>.",
          "1 . Insomnia complaints are highly prevalent , occurring in<br>nearly 25 % of the US population , and adversely influence<br>morbidity and mortality risk.2 . Sleep can be assessed<br>objectively by polysomnography ; other evaluations of sleep<br>are provided by actigraphy , sleep diaries , and self<br>-report questionnaires as well as clinicianbased diagnosis<br>of insomnia disorder.3 . Sleep influences the two primary<br>effector systems , the hypothalamus -pituitary -adrenal axis<br>and the sympathetic nervous system , which in turn regulate<br>adaptive and innate immune responses.4 . Nocturnal sleep is<br>associated with increases in adaptive and innate system<br>activity ( i.e . , inflammation ) , which occur against the<br>background of the strong circadian rhythm of cortisol and<br>its suppressive effects on these aspects of the immune<br>system , and a nocturnal decline in sympathetic outflow.5 .<br>Sleep deprivation and naturalistic disturbance of sleep (<br>i.e . , short sleep duration or reduced sleep efficiency )<br>[...]",
          "Decreases in growth hormone during slow wave sleep and<br>increases of sympathetic activation are two mechanisms<br>implicated in the link between sleep disturbance and reduced<br>antiviral immune responses.6 . Sleep loss , short sleep<br>duration , and complaints of sleep disturbance are<br>associated with increases in inflammation , which are<br>thought to be due to the effects of sleep disruption on<br>adrenergic signaling that steers inflammatory gene<br>expression .",
          "Women appear to be more vulnerable to the effects of sleep<br>disturbance on inflammatory dynamics , whereas men appear to<br>be more at risk for cardiovascular disease and cancer , but<br>not depression , in association with sleep disturbance ,<br>especially short sleep duration ."
         ],
         "type": "bar",
         "x": [
          0,
          1,
          2,
          3,
          4,
          5,
          6,
          7,
          8,
          9,
          10,
          11,
          12,
          13,
          14,
          15,
          16,
          17,
          18,
          19,
          20,
          21,
          22,
          23,
          24,
          25,
          26,
          27,
          28,
          29,
          30,
          31,
          32,
          33,
          34,
          35,
          36,
          37,
          38,
          39,
          40,
          41,
          42,
          43,
          44,
          45,
          46,
          47,
          48,
          49,
          50,
          51,
          52,
          53,
          54,
          55,
          56,
          57,
          58,
          59,
          60,
          61,
          62,
          63,
          64,
          65,
          66,
          67,
          68,
          69,
          70,
          71,
          72,
          73,
          74,
          75,
          76,
          77,
          78,
          79,
          80,
          81,
          82,
          83,
          84,
          85,
          86,
          87,
          88,
          89,
          90,
          91,
          92,
          93,
          94,
          95,
          96,
          97,
          98,
          99,
          100,
          101,
          102,
          103,
          104,
          105,
          106,
          107,
          108,
          109,
          110,
          111,
          112,
          113,
          114,
          115,
          116,
          117,
          118,
          119,
          120,
          121,
          122,
          123,
          124,
          125,
          126,
          127,
          128,
          129,
          130,
          131,
          132,
          133,
          134,
          135,
          136,
          137,
          138,
          139,
          140,
          141,
          142,
          143,
          144,
          145,
          146,
          147,
          148,
          149,
          150,
          151,
          152,
          153,
          154,
          155,
          156,
          157,
          158,
          159,
          160,
          161,
          162,
          163,
          164,
          165,
          166,
          167,
          168,
          169,
          170,
          171,
          172,
          173,
          174,
          175,
          176,
          177,
          178,
          179,
          180,
          181,
          182,
          183,
          184,
          185,
          186,
          187,
          188,
          189,
          190,
          191,
          192,
          193,
          194,
          195,
          196,
          197,
          198,
          199,
          200,
          201,
          202,
          203,
          204,
          205,
          206,
          207,
          208,
          209,
          210,
          211,
          212,
          213,
          214,
          215,
          216,
          217,
          218,
          219,
          220,
          221,
          222,
          223,
          224,
          225,
          226,
          227,
          228,
          229,
          230,
          231,
          232,
          233,
          234,
          235,
          236,
          237,
          238,
          239,
          240,
          241,
          242,
          243,
          244,
          245,
          246,
          247,
          248,
          249,
          250,
          251,
          252,
          253,
          254,
          255,
          256,
          257,
          258,
          259,
          260,
          261,
          262,
          263,
          264,
          265,
          266,
          267,
          268,
          269,
          270,
          271,
          272,
          273,
          274,
          275,
          276,
          277,
          278,
          279,
          280,
          281,
          282,
          283,
          284,
          285,
          286,
          287,
          288,
          289,
          290,
          291,
          292,
          293,
          294,
          295,
          296,
          297,
          298,
          299,
          300,
          301,
          302,
          303,
          304,
          305,
          306,
          307,
          308,
          309,
          310,
          311,
          312,
          313,
          314,
          315,
          316,
          317,
          318,
          319,
          320
         ],
         "y": [
          0.27592581510543823,
          0.17513322830200195,
          0.40224945545196533,
          0.4571627378463745,
          0.17286133766174316,
          0.40528517961502075,
          0.4595942497253418,
          0.1806768774986267,
          0.23576068878173828,
          0.3372466564178467,
          0.2601845860481262,
          0.24724674224853516,
          0.2177518606185913,
          0.28630125522613525,
          0.2999734878540039,
          0.2540814280509949,
          0.2548289895057678,
          0.27845853567123413,
          0.24970418214797974,
          0.2757348418235779,
          0.22244399785995483,
          0.3103923797607422,
          0.32964181900024414,
          0.2872989773750305,
          0.3068941831588745,
          0.2798479199409485,
          0.2224063277244568,
          0.24242925643920898,
          0.30455249547958374,
          0.17444533109664917,
          0.2426324486732483,
          0.22068816423416138,
          0.2687233090400696,
          0.28324973583221436,
          0.35521918535232544,
          0.41511088609695435,
          0.3304731249809265,
          0.41561824083328247,
          0.32139402627944946,
          0.40620267391204834,
          0.21890491247177124,
          0.2639384865760803,
          0.20724493265151978,
          0.1757548451423645,
          0.23882591724395752,
          0.1959666609764099,
          0.294242799282074,
          0.21504318714141846,
          0.2836799621582031,
          0.28629857301712036,
          0.2573474645614624,
          0.24820095300674438,
          0.2842828035354614,
          0.23454910516738892,
          0.30746012926101685,
          0.2496907114982605,
          0.31432902812957764,
          0.30137062072753906,
          0.2733776569366455,
          0.29442036151885986,
          0.298122763633728,
          0.2477971315383911,
          0.27370554208755493,
          0.27244657278060913,
          0.28529226779937744,
          0.28169816732406616,
          0.25462573766708374,
          0.3032229542732239,
          0.23917007446289062,
          0.25414127111434937,
          0.3165307641029358,
          0.2524494528770447,
          0.2455490231513977,
          0.2230381965637207,
          0.22600144147872925,
          0.41079914569854736,
          0.25784093141555786,
          0.25257277488708496,
          0.2727476954460144,
          0.2056559920310974,
          0.3201364278793335,
          0.2279229760169983,
          0.33147692680358887,
          0.22425031661987305,
          0.3070595860481262,
          0.1996530294418335,
          0.3510388135910034,
          0.2974010109901428,
          0.26006579399108887,
          0.3009844422340393,
          0.2898189425468445,
          0.24588358402252197,
          0.24713486433029175,
          0.3214479684829712,
          0.3924671411514282,
          0.48925328254699707,
          0.32985854148864746,
          0.3586816191673279,
          0.2408556342124939,
          0.19493979215621948,
          0.3159778118133545,
          0.2784895896911621,
          0.26088976860046387,
          0.3854500651359558,
          0.2439294457435608,
          0.33030563592910767,
          0.20107179880142212,
          0.2374071478843689,
          0.32107406854629517,
          0.2954081892967224,
          0.24985957145690918,
          0.22395944595336914,
          0.25576621294021606,
          0.26257890462875366,
          0.2711247205734253,
          0.2443467378616333,
          0.24719876050949097,
          0.21272879838943481,
          0.3751768469810486,
          0.24505764245986938,
          0.2811460494995117,
          0.21081870794296265,
          0.3586236834526062,
          0.2779637575149536,
          0.36788398027420044,
          0.2531678080558777,
          0.28701090812683105,
          0.359100878238678,
          0.35559695959091187,
          0.26873916387557983,
          0.3381558060646057,
          0.45982640981674194,
          0.3085499405860901,
          0.2220274806022644,
          0.2531450390815735,
          0.21365314722061157,
          0.39999741315841675,
          0.4834299683570862,
          0.39030390977859497,
          0.25955915451049805,
          0.2497854232788086,
          0.22309058904647827,
          0.24828094244003296,
          0.25025302171707153,
          0.2549557685852051,
          0.21724379062652588,
          0.2123194932937622,
          0.24017804861068726,
          0.230587899684906,
          0.295707106590271,
          0.1871010661125183,
          0.30284833908081055,
          0.30462217330932617,
          0.27929407358169556,
          0.3292110562324524,
          0.29402393102645874,
          0.261346697807312,
          0.3357087969779968,
          0.271553635597229,
          0.3081698417663574,
          0.29681169986724854,
          0.35677289962768555,
          0.27253711223602295,
          0.22768539190292358,
          0.25989967584609985,
          0.21545571088790894,
          0.2901409864425659,
          0.2511947751045227,
          0.36300063133239746,
          0.3002867102622986,
          0.27042579650878906,
          0.1874799132347107,
          0.3129052519798279,
          0.22730278968811035,
          0.27505016326904297,
          0.2680177688598633,
          0.20920485258102417,
          0.27615272998809814,
          0.2909906506538391,
          0.36549532413482666,
          0.2664549946784973,
          0.2726523280143738,
          0.1925797462463379,
          0.2431929111480713,
          0.1991141438484192,
          0.22171878814697266,
          0.219554603099823,
          0.25373101234436035,
          0.19782495498657227,
          0.26857656240463257,
          0.2075454592704773,
          0.357288122177124,
          0.21364820003509521,
          0.26732414960861206,
          0.2766317129135132,
          0.25422030687332153,
          0.2475917935371399,
          0.34865808486938477,
          0.2825281620025635,
          0.20849347114562988,
          0.3032878637313843,
          0.21467894315719604,
          0.24060797691345215,
          0.18725669384002686,
          0.2572324872016907,
          0.21047264337539673,
          0.2945225238800049,
          0.17735373973846436,
          0.3255469799041748,
          0.2857024073600769,
          0.2979217767715454,
          0.37703412771224976,
          0.3141641616821289,
          0.3576101064682007,
          0.2714623212814331,
          0.2283286452293396,
          0.2697194814682007,
          0.4788835644721985,
          0.20518594980239868,
          0.2251431941986084,
          0.28048640489578247,
          0.24909037351608276,
          0.21613913774490356,
          0.2553948760032654,
          0.23332631587982178,
          0.21930968761444092,
          0.23461896181106567,
          0.2298579216003418,
          0.20853590965270996,
          0.27155637741088867,
          0.22814476490020752,
          0.21719932556152344,
          0.26539814472198486,
          0.2271420955657959,
          0.3208528161048889,
          0.24450552463531494,
          0.23190146684646606,
          0.22067981958389282,
          0.20347195863723755,
          0.2469695806503296,
          0.1950589418411255,
          0.2731438875198364,
          0.178655743598938,
          0.22734969854354858,
          0.23157918453216553,
          0.17078012228012085,
          0.2248234748840332,
          0.22519999742507935,
          0.19089877605438232,
          0.2060105800628662,
          0.37194937467575073,
          0.26615649461746216,
          0.314333975315094,
          0.20179104804992676,
          0.19739341735839844,
          0.23316717147827148,
          0.28981858491897583,
          0.37497478723526,
          0.22145932912826538,
          0.3276626467704773,
          0.27583348751068115,
          0.318376362323761,
          0.25239503383636475,
          0.1608244776725769,
          0.19922232627868652,
          0.23725807666778564,
          0.21923434734344482,
          0.29123610258102417,
          0.2189021110534668,
          0.18446320295333862,
          0.2296099066734314,
          0.24704551696777344,
          0.23206478357315063,
          0.3094860315322876,
          0.2349848747253418,
          0.17693406343460083,
          0.25164908170700073,
          0.3736079931259155,
          0.31134867668151855,
          0.25384002923965454,
          0.2312251329421997,
          0.21860790252685547,
          0.18134647607803345,
          0.3786957263946533,
          0.35737502574920654,
          0.24705129861831665,
          0.35947465896606445,
          0.3330317735671997,
          0.24326056241989136,
          0.1960884928703308,
          0.2962648868560791,
          0.20565026998519897,
          0.2325509786605835,
          0.22370469570159912,
          0.27138614654541016,
          0.19909942150115967,
          0.23490315675735474,
          0.3314850926399231,
          0.19832628965377808,
          0.2234291434288025,
          0.26347631216049194,
          0.2741715908050537,
          0.23987352848052979,
          0.23351025581359863,
          0.2358100414276123,
          0.31538891792297363,
          0.22255361080169678,
          0.23655778169631958,
          0.14531153440475464,
          0.2188243269920349,
          0.25493019819259644,
          0.20095908641815186,
          0.18986546993255615,
          0.22003906965255737,
          0.2400253415107727,
          0.21080493927001953,
          0.20276743173599243,
          0.2378319501876831,
          0.23234659433364868,
          0.25189411640167236,
          0.2829785943031311
         ]
        }
       ],
       "layout": {
        "hoverlabel": {
         "bgcolor": "white",
         "font": {
          "family": "Rockwell",
          "size": 13
         }
        },
        "template": {
         "data": {
          "bar": [
           {
            "error_x": {
             "color": "#2a3f5f"
            },
            "error_y": {
             "color": "#2a3f5f"
            },
            "marker": {
             "line": {
              "color": "#E5ECF6",
              "width": 0.5
             }
            },
            "type": "bar"
           }
          ],
          "barpolar": [
           {
            "marker": {
             "line": {
              "color": "#E5ECF6",
              "width": 0.5
             }
            },
            "type": "barpolar"
           }
          ],
          "carpet": [
           {
            "aaxis": {
             "endlinecolor": "#2a3f5f",
             "gridcolor": "white",
             "linecolor": "white",
             "minorgridcolor": "white",
             "startlinecolor": "#2a3f5f"
            },
            "baxis": {
             "endlinecolor": "#2a3f5f",
             "gridcolor": "white",
             "linecolor": "white",
             "minorgridcolor": "white",
             "startlinecolor": "#2a3f5f"
            },
            "type": "carpet"
           }
          ],
          "choropleth": [
           {
            "colorbar": {
             "outlinewidth": 0,
             "ticks": ""
            },
            "type": "choropleth"
           }
          ],
          "contour": [
           {
            "colorbar": {
             "outlinewidth": 0,
             "ticks": ""
            },
            "colorscale": [
             [
              0,
              "#0d0887"
             ],
             [
              0.1111111111111111,
              "#46039f"
             ],
             [
              0.2222222222222222,
              "#7201a8"
             ],
             [
              0.3333333333333333,
              "#9c179e"
             ],
             [
              0.4444444444444444,
              "#bd3786"
             ],
             [
              0.5555555555555556,
              "#d8576b"
             ],
             [
              0.6666666666666666,
              "#ed7953"
             ],
             [
              0.7777777777777778,
              "#fb9f3a"
             ],
             [
              0.8888888888888888,
              "#fdca26"
             ],
             [
              1,
              "#f0f921"
             ]
            ],
            "type": "contour"
           }
          ],
          "contourcarpet": [
           {
            "colorbar": {
             "outlinewidth": 0,
             "ticks": ""
            },
            "type": "contourcarpet"
           }
          ],
          "heatmap": [
           {
            "colorbar": {
             "outlinewidth": 0,
             "ticks": ""
            },
            "colorscale": [
             [
              0,
              "#0d0887"
             ],
             [
              0.1111111111111111,
              "#46039f"
             ],
             [
              0.2222222222222222,
              "#7201a8"
             ],
             [
              0.3333333333333333,
              "#9c179e"
             ],
             [
              0.4444444444444444,
              "#bd3786"
             ],
             [
              0.5555555555555556,
              "#d8576b"
             ],
             [
              0.6666666666666666,
              "#ed7953"
             ],
             [
              0.7777777777777778,
              "#fb9f3a"
             ],
             [
              0.8888888888888888,
              "#fdca26"
             ],
             [
              1,
              "#f0f921"
             ]
            ],
            "type": "heatmap"
           }
          ],
          "heatmapgl": [
           {
            "colorbar": {
             "outlinewidth": 0,
             "ticks": ""
            },
            "colorscale": [
             [
              0,
              "#0d0887"
             ],
             [
              0.1111111111111111,
              "#46039f"
             ],
             [
              0.2222222222222222,
              "#7201a8"
             ],
             [
              0.3333333333333333,
              "#9c179e"
             ],
             [
              0.4444444444444444,
              "#bd3786"
             ],
             [
              0.5555555555555556,
              "#d8576b"
             ],
             [
              0.6666666666666666,
              "#ed7953"
             ],
             [
              0.7777777777777778,
              "#fb9f3a"
             ],
             [
              0.8888888888888888,
              "#fdca26"
             ],
             [
              1,
              "#f0f921"
             ]
            ],
            "type": "heatmapgl"
           }
          ],
          "histogram": [
           {
            "marker": {
             "colorbar": {
              "outlinewidth": 0,
              "ticks": ""
             }
            },
            "type": "histogram"
           }
          ],
          "histogram2d": [
           {
            "colorbar": {
             "outlinewidth": 0,
             "ticks": ""
            },
            "colorscale": [
             [
              0,
              "#0d0887"
             ],
             [
              0.1111111111111111,
              "#46039f"
             ],
             [
              0.2222222222222222,
              "#7201a8"
             ],
             [
              0.3333333333333333,
              "#9c179e"
             ],
             [
              0.4444444444444444,
              "#bd3786"
             ],
             [
              0.5555555555555556,
              "#d8576b"
             ],
             [
              0.6666666666666666,
              "#ed7953"
             ],
             [
              0.7777777777777778,
              "#fb9f3a"
             ],
             [
              0.8888888888888888,
              "#fdca26"
             ],
             [
              1,
              "#f0f921"
             ]
            ],
            "type": "histogram2d"
           }
          ],
          "histogram2dcontour": [
           {
            "colorbar": {
             "outlinewidth": 0,
             "ticks": ""
            },
            "colorscale": [
             [
              0,
              "#0d0887"
             ],
             [
              0.1111111111111111,
              "#46039f"
             ],
             [
              0.2222222222222222,
              "#7201a8"
             ],
             [
              0.3333333333333333,
              "#9c179e"
             ],
             [
              0.4444444444444444,
              "#bd3786"
             ],
             [
              0.5555555555555556,
              "#d8576b"
             ],
             [
              0.6666666666666666,
              "#ed7953"
             ],
             [
              0.7777777777777778,
              "#fb9f3a"
             ],
             [
              0.8888888888888888,
              "#fdca26"
             ],
             [
              1,
              "#f0f921"
             ]
            ],
            "type": "histogram2dcontour"
           }
          ],
          "mesh3d": [
           {
            "colorbar": {
             "outlinewidth": 0,
             "ticks": ""
            },
            "type": "mesh3d"
           }
          ],
          "parcoords": [
           {
            "line": {
             "colorbar": {
              "outlinewidth": 0,
              "ticks": ""
             }
            },
            "type": "parcoords"
           }
          ],
          "pie": [
           {
            "automargin": true,
            "type": "pie"
           }
          ],
          "scatter": [
           {
            "marker": {
             "colorbar": {
              "outlinewidth": 0,
              "ticks": ""
             }
            },
            "type": "scatter"
           }
          ],
          "scatter3d": [
           {
            "line": {
             "colorbar": {
              "outlinewidth": 0,
              "ticks": ""
             }
            },
            "marker": {
             "colorbar": {
              "outlinewidth": 0,
              "ticks": ""
             }
            },
            "type": "scatter3d"
           }
          ],
          "scattercarpet": [
           {
            "marker": {
             "colorbar": {
              "outlinewidth": 0,
              "ticks": ""
             }
            },
            "type": "scattercarpet"
           }
          ],
          "scattergeo": [
           {
            "marker": {
             "colorbar": {
              "outlinewidth": 0,
              "ticks": ""
             }
            },
            "type": "scattergeo"
           }
          ],
          "scattergl": [
           {
            "marker": {
             "colorbar": {
              "outlinewidth": 0,
              "ticks": ""
             }
            },
            "type": "scattergl"
           }
          ],
          "scattermapbox": [
           {
            "marker": {
             "colorbar": {
              "outlinewidth": 0,
              "ticks": ""
             }
            },
            "type": "scattermapbox"
           }
          ],
          "scatterpolar": [
           {
            "marker": {
             "colorbar": {
              "outlinewidth": 0,
              "ticks": ""
             }
            },
            "type": "scatterpolar"
           }
          ],
          "scatterpolargl": [
           {
            "marker": {
             "colorbar": {
              "outlinewidth": 0,
              "ticks": ""
             }
            },
            "type": "scatterpolargl"
           }
          ],
          "scatterternary": [
           {
            "marker": {
             "colorbar": {
              "outlinewidth": 0,
              "ticks": ""
             }
            },
            "type": "scatterternary"
           }
          ],
          "surface": [
           {
            "colorbar": {
             "outlinewidth": 0,
             "ticks": ""
            },
            "colorscale": [
             [
              0,
              "#0d0887"
             ],
             [
              0.1111111111111111,
              "#46039f"
             ],
             [
              0.2222222222222222,
              "#7201a8"
             ],
             [
              0.3333333333333333,
              "#9c179e"
             ],
             [
              0.4444444444444444,
              "#bd3786"
             ],
             [
              0.5555555555555556,
              "#d8576b"
             ],
             [
              0.6666666666666666,
              "#ed7953"
             ],
             [
              0.7777777777777778,
              "#fb9f3a"
             ],
             [
              0.8888888888888888,
              "#fdca26"
             ],
             [
              1,
              "#f0f921"
             ]
            ],
            "type": "surface"
           }
          ],
          "table": [
           {
            "cells": {
             "fill": {
              "color": "#EBF0F8"
             },
             "line": {
              "color": "white"
             }
            },
            "header": {
             "fill": {
              "color": "#C8D4E3"
             },
             "line": {
              "color": "white"
             }
            },
            "type": "table"
           }
          ]
         },
         "layout": {
          "annotationdefaults": {
           "arrowcolor": "#2a3f5f",
           "arrowhead": 0,
           "arrowwidth": 1
          },
          "coloraxis": {
           "colorbar": {
            "outlinewidth": 0,
            "ticks": ""
           }
          },
          "colorscale": {
           "diverging": [
            [
             0,
             "#8e0152"
            ],
            [
             0.1,
             "#c51b7d"
            ],
            [
             0.2,
             "#de77ae"
            ],
            [
             0.3,
             "#f1b6da"
            ],
            [
             0.4,
             "#fde0ef"
            ],
            [
             0.5,
             "#f7f7f7"
            ],
            [
             0.6,
             "#e6f5d0"
            ],
            [
             0.7,
             "#b8e186"
            ],
            [
             0.8,
             "#7fbc41"
            ],
            [
             0.9,
             "#4d9221"
            ],
            [
             1,
             "#276419"
            ]
           ],
           "sequential": [
            [
             0,
             "#0d0887"
            ],
            [
             0.1111111111111111,
             "#46039f"
            ],
            [
             0.2222222222222222,
             "#7201a8"
            ],
            [
             0.3333333333333333,
             "#9c179e"
            ],
            [
             0.4444444444444444,
             "#bd3786"
            ],
            [
             0.5555555555555556,
             "#d8576b"
            ],
            [
             0.6666666666666666,
             "#ed7953"
            ],
            [
             0.7777777777777778,
             "#fb9f3a"
            ],
            [
             0.8888888888888888,
             "#fdca26"
            ],
            [
             1,
             "#f0f921"
            ]
           ],
           "sequentialminus": [
            [
             0,
             "#0d0887"
            ],
            [
             0.1111111111111111,
             "#46039f"
            ],
            [
             0.2222222222222222,
             "#7201a8"
            ],
            [
             0.3333333333333333,
             "#9c179e"
            ],
            [
             0.4444444444444444,
             "#bd3786"
            ],
            [
             0.5555555555555556,
             "#d8576b"
            ],
            [
             0.6666666666666666,
             "#ed7953"
            ],
            [
             0.7777777777777778,
             "#fb9f3a"
            ],
            [
             0.8888888888888888,
             "#fdca26"
            ],
            [
             1,
             "#f0f921"
            ]
           ]
          },
          "colorway": [
           "#636efa",
           "#EF553B",
           "#00cc96",
           "#ab63fa",
           "#FFA15A",
           "#19d3f3",
           "#FF6692",
           "#B6E880",
           "#FF97FF",
           "#FECB52"
          ],
          "font": {
           "color": "#2a3f5f"
          },
          "geo": {
           "bgcolor": "white",
           "lakecolor": "white",
           "landcolor": "#E5ECF6",
           "showlakes": true,
           "showland": true,
           "subunitcolor": "white"
          },
          "hoverlabel": {
           "align": "left"
          },
          "hovermode": "closest",
          "mapbox": {
           "style": "light"
          },
          "paper_bgcolor": "white",
          "plot_bgcolor": "#E5ECF6",
          "polar": {
           "angularaxis": {
            "gridcolor": "white",
            "linecolor": "white",
            "ticks": ""
           },
           "bgcolor": "#E5ECF6",
           "radialaxis": {
            "gridcolor": "white",
            "linecolor": "white",
            "ticks": ""
           }
          },
          "scene": {
           "xaxis": {
            "backgroundcolor": "#E5ECF6",
            "gridcolor": "white",
            "gridwidth": 2,
            "linecolor": "white",
            "showbackground": true,
            "ticks": "",
            "zerolinecolor": "white"
           },
           "yaxis": {
            "backgroundcolor": "#E5ECF6",
            "gridcolor": "white",
            "gridwidth": 2,
            "linecolor": "white",
            "showbackground": true,
            "ticks": "",
            "zerolinecolor": "white"
           },
           "zaxis": {
            "backgroundcolor": "#E5ECF6",
            "gridcolor": "white",
            "gridwidth": 2,
            "linecolor": "white",
            "showbackground": true,
            "ticks": "",
            "zerolinecolor": "white"
           }
          },
          "shapedefaults": {
           "line": {
            "color": "#2a3f5f"
           }
          },
          "ternary": {
           "aaxis": {
            "gridcolor": "white",
            "linecolor": "white",
            "ticks": ""
           },
           "baxis": {
            "gridcolor": "white",
            "linecolor": "white",
            "ticks": ""
           },
           "bgcolor": "#E5ECF6",
           "caxis": {
            "gridcolor": "white",
            "linecolor": "white",
            "ticks": ""
           }
          },
          "title": {
           "x": 0.05
          },
          "xaxis": {
           "automargin": true,
           "gridcolor": "white",
           "linecolor": "white",
           "ticks": "",
           "title": {
            "standoff": 15
           },
           "zerolinecolor": "white",
           "zerolinewidth": 2
          },
          "yaxis": {
           "automargin": true,
           "gridcolor": "white",
           "linecolor": "white",
           "ticks": "",
           "title": {
            "standoff": 15
           },
           "zerolinecolor": "white",
           "zerolinewidth": 2
          }
         }
        }
       }
      },
      "text/html": [
       "<div>\n",
       "        \n",
       "        \n",
       "            <div id=\"1280a37a-0597-4847-a719-6bb6c7a795b7\" class=\"plotly-graph-div\" style=\"height:525px; width:100%;\"></div>\n",
       "            <script type=\"text/javascript\">\n",
       "                require([\"plotly\"], function(Plotly) {\n",
       "                    window.PLOTLYENV=window.PLOTLYENV || {};\n",
       "                    \n",
       "                if (document.getElementById(\"1280a37a-0597-4847-a719-6bb6c7a795b7\")) {\n",
       "                    Plotly.newPlot(\n",
       "                        '1280a37a-0597-4847-a719-6bb6c7a795b7',\n",
       "                        [{\"hovertext\": [\"Over the past decade , there has been an explosion of<br>research on the role of sleep in health , with compelling<br>evidence that disturbances of sleep including insomnia<br>complaints and extremes of sleep duration adversely<br>influence risk of infectious and inflammatory disease and<br>contribute to allcause mortality\", \"( Dew et al . 2003 , Kripke et al . 2002 , Mallon et al .<br>2002 , Vgontzas et al . 2013 ). These findings have<br>substantial public health implications because about 25 % of<br>the population of the United States report insomnia<br>complaints ), and nearly 10 % fulfill diagnostic criteria<br>for chronic insomnia\", \"( Morin et al .\", \"2006b ;\", \"Ohayon 1996 Ohayon , 2002 , which is persistent for as long<br>as three years in nearly 50 % of patients ). Importantly ,<br>sleep disturbance is a modifiable risk factor : Substantial<br>evidence shows that behavioral treatments have robust<br>efficacy , with remission of insomnia sustained in the long<br>term\", \"( Irwin et al .\", \"2006a , Morin et al .\", \"2006a ). Increasingly , research on sleep and health has<br>focused on the biological mechanisms underlying these<br>effects , which might identify those at greatest risk for<br>adverse health consequences or might be targeted to<br>attenuate , or even prevent , morbidity .\", \"The purpose of the present review is to provide an<br>integrated understanding of how sleep health ( Buysse 2014 )<br>affects one salient biological mechanism , the immune system<br>, with implications for infectious and inflammatory disease<br>risk .\", \"This review considers ( a ) the restorative role of sleep on<br>the immune system ; ( b ) the influence of sleep disturbance<br>on adaptive and innate immunity ; and ( c ) the role of<br>sleep disturbance in risk of infectious disease and three<br>inflammation -related disorders : cardiovascular disease ,<br>cancer , and major depression .\", \"Furthermore , behavioral regulation of the immune system is<br>embedded in a conceptual model in which inflammatory<br>cytokines also have a reciprocal influence on sleep .\", \"Sleep is first and foremost a behavior , which is<br>characterized by changes in body posture and eye state ; it<br>is dimensionally evaluated by self -report , behavioral ,<br>physiological , circuit , cellular , and genetic levels of<br>analysis ( Buysse 2014 ) .\", \"Whereas such analyses can be used to differentiate arousal<br>states along a continuum from fully awake to deep sleep , it<br>is widely recognized that the electroencephalogram ( EEG )<br>or polysomnography is the gold standard for the objective<br>assessment of sleep .\", \"Polysomnography records sleep continuity , sleep<br>architecture , and rapid eye movement ( REM ) sleep .\", \"Sleep continuity measures include the duration of sleep (<br>i.e . , total sleep time ) , the length of time from turning<br>off the lights until sleep onset ( i.e . , sleep onset<br>latency ) , and the degree to which sleep is maintained<br>continuously throughout the night ( i.e . , sleep efficiency<br>or the ratio of wake time to time in bed ; awake time after<br>sleep onset ) .\", \"Sleep architecture measures categorically divide sleep into<br>two major phases , non -rapid eye movement ( NREM ) and REM<br>sleep , with further subdivision of NREM sleep into stages 1<br>, 2 , 3 , and 4 , although recent research has combined<br>stages 3 and 4 into slow -wave sleep ( SWS ) because of the<br>inherent difficulties in distinguishing these latter two<br>stages of deep sleep .\", \"Stage 1 is the transition between wakefulness and sleep ,<br>whereas sleep onset is generally defined to occur when<br>spindles and K -complexes characteristically appear during<br>stage 2 .\", \"SWS is identified by a preponderance of high -amplitude ,<br>low -frequency components as measured by EEG .\", \"Finally , REM sleep is defined by a rapid and low -voltage<br>EEG , similar to the activity of the brain during waking<br>hours , with rapid and random movement of the eyes and low<br>muscle tone .\", \"Despite the widespread use of criteria to define stages of<br>sleep , sleep is not quantal but rather shows a continuous<br>progression from wakefulness to NREM and REM sleep .\", \"Spectral analyses provide a continuous evaluation of shifts<br>from mixed EEG frequencies to predominately lower EEG<br>frequencies occurring during sleep .\", \"In humans , the transition from wakefulness to sleep occurs<br>by entry into NREM sleep and a later transition to REM .\", \"After a period of REM sleep , a brief arousal or awakening<br>may occur before entry again into NREM sleep .\", \"Over the course of the night , four to six cycles of NREM to<br>REM sleep typically occur , with each cycle lasting about 80<br>to 110 minutes .\", \"SWS predominates in the early part of the night , whereas<br>more REM sleep occurs in the later part of the night .\", \"Polysomnography provides a laboratory -based objective<br>measure of sleep .\", \"Despite being the gold standard for sleep assessment ,<br>polysomnography may not adequately characterize sleep<br>occurring at home or disturbances of sleep over time .\", \"To estimate sleep patterns in a natural sleep setting<br>without the invasiveness of polysomnography , sleep<br>actigraphy is used .\", \"The watch -shaped actigraph estimates sleep patterns and<br>circadian rhythms and is coupled with a sleep diary , in<br>which the patient reports sleep onset and morning awakening<br>.\", \"As such , actigraphy provides reasonably accurate sleep<br>continuity indices as compared to polysomnography ( Ancoli<br>-Israel et al . 2003 ) .\", \"In addition to the evaluation of sleep by polysomnography ,<br>actigraphy , and sleep diaries , the patient 's own sleep<br>perceptions play a critical role in the assessment of sleep<br>disturbance and diagnosis of insomnia .\", \"Indeed , in a study of insomniacs and controls ,<br>polysomnography testing provided little information to<br>confirm or exclude insomnia , and a large multicenter field<br>trial resulted in similar findings ( for a review , see<br>Vgontzas et al . 2013 ) .\", \"The American Academy of Sleep Medicine does not recommend<br>polysomnography for the routine assessment of insomnia ,<br>although it is helpful in the evaluation of other sleep<br>disorders such as sleep apnea ( Littner et al . 2003 ) .\", \"Consistent with these clinical perspectives , the diagnosis<br>of insomnia disorder in the fifth edition of the Diagnostic<br>and Statistical Manual of Mental Disorders ( DSM -5 ) is<br>based solely on subjective complaints of difficulty<br>initiating or maintaining sleep , early awakening ,<br>interrupted or nonrestorative sleep , and associated<br>impairments in daytime functioning , which must be present<br>at least three nights per week and last for three months or<br>longer ( Am . Psychiatr . Assoc . 2013 ) ( Table 1 )\", \"A predominant complaint of dissatisfaction with sleep<br>quantity or quality , associated with one ( or more ) of the<br>following symptoms:1 .\", \"Difficulty initiating sleep .\", \"( In children , this may manifest as difficulty initiating<br>sleep without caregiver intervention. ) 2 .\", \"Difficulty maintaining sleep , characterized by frequent<br>awakenings or problems returning to sleep after awakenings .\", \"( In children , this may manifest as difficulty returning to<br>sleep without caregiver intervention. ) 3 .\", \"The sleep disturbance causes clinically significant distress<br>or impairment in social , occupational , educational ,<br>academic , behavioral , or other important areas of<br>functioning . C .\", \"The insomnia is not attributable to the physiological<br>effects of a substance ( e.g . , a drug of abuse , a<br>medication ) . as being a potentially more severe phenotype<br>( Vgontzas et al . 2013 ) .\", \"Importantly , insomnia is common in other disorders such as<br>depression , and DSM -5 classification acknowledges this<br>comorbidity without assigning casual attributions inherent<br>in primary and secondary labels .\", \"In recognition that insomnia symptoms are often prodromal to<br>the development of insomnia disorder , there has been much<br>interest in brief and valid self -report instruments to<br>screen for insomnia complaints and assess symptom severity .\", \"One example is the Insomnia Severity Index , which assesses<br>sleep quality , fatigue , psychological symptoms , and<br>quality of life , with a high sensitivity and specificity<br>for the detection of insomnia cases ( Morin et al . 2011 ) .\", \"The Pittsburgh Sleep Quality Index , a 19 -item self -report<br>questionnaire that evaluates seven clinically derived<br>domains of sleep difficulties ( i.e . , quality , latency ,<br>duration , habitual efficiency , sleep disturbances , use of<br>sleeping medications , and daytime dysfunction ) , is used<br>to identify clinically significant sleep impairment ( Cole<br>et al . 2006 ) .\", \"Despite the validity and reliability of these simple<br>questionnaires , assessment of sleep disturbance in many<br>large -scale epidemiologic or naturalistic field studies is<br>limited to evaluation of one or more questions about<br>complaints , sleep quality , or sleep duration .\", \"Adaptive immunity leads to the differentiation and<br>proliferation of microbial -specific white blood cells ( i.e<br>. , lymphocytes ) that serve to eliminate microbes based on<br>an immunological memory of having responded to a specific<br>pathogen or antigen in the past .\", \"As such , the adaptive immune system coordinates a specific<br>response to an infectious challenge by a sequence of<br>coordinated steps ( Murphy 2011 ) .\", \"In response to an infectious challenge , antigen -presenting<br>cells ( APCs ) such as macrophages or dendritic cells are<br>attracted to a site of intrusion , take up invading antigen<br>, and then migrate to local lymph nodes .\", \"Within the lymph node , the APCs present antigen to T helper<br>( Th ) cells followed by release of proinflammatory<br>cytokines such as interleukin ( IL ) -6 from the APCs .\", \"In response to these inflammatory signals , Th cells<br>activate , proliferate , and differentiate into one of two<br>predominant cell types , which serve to help B cells become<br>antibody -producing cells ( i.e . , plasma cells ) or leave<br>the lymph node to coordinate cytotoxic cell responses that ,<br>if successful , eliminate the pathogen .\", \"Once complete , a fraction of these antigen -specific Th<br>cells as well as cytotoxic T cells and B cells survive to<br>provide an immunological memory that achieves a more rapid<br>response when that specific infectious challenge occurs<br>again .\", \"This multicellular response is tightly regulated by both<br>costimulatory signals ( e.g . , proinflammatory cytokines<br>such as IL -6 ) and inhibitory signals ( e.g . , anti<br>-inflammatory cytokines such as IL -10 ) .\", \"Additionally , if exposure involves an intracellular<br>pathogen such as a virus , then transcription factors such<br>as interferon ( IFN ) regulatory factors are activated .\", \"These transcription factors induce antiviral immune response<br>genes such as type I IFN genes , which through the<br>translation of IFN can activate signal transducer and<br>activator of transcription ( STAT ) -1 , leading to the<br>production of proinflammatory cytokines .\", \"A failure of these regulatory mechanisms can lead to an<br>inadequate immune response ( e.g . , immune deficiency ) or<br>a response that is too robust and results in damage to the<br>host ( e.g . , autoimmunity , septic shock ) .\", \"IL -1 , IL -6 , and tumor necrosis factor -\\u03b1 ( TNF -\\u03b1 )<br>promote the differentiation of lymphocytes into cytotoxic T<br>cells , which kill pathogens that are introduced into the<br>body during physical wounding .\", \"Inflammatory cytokines promote vascular permeability and<br>cellular adhesion , which makes it possible for immune cells<br>to leave the blood vessels and migrate to tissues where they<br>can eliminate pathogens .\", \"For example , IL -1 activates the endothelial adhesion<br>molecule intercellular adhesion molecule -1 that facilitates<br>adherence of immune cells to the endothelium and migration<br>into tissues .\", \"Innate immunity is evolutionally older than adaptive<br>immunity and serves as the body 's first line of defense<br>against tissue damage and microbial infection ( Medzhitov<br>2008 ) .\", \"Composed of immune cells such as monocytes , macrophages ,<br>and dendritic cells that constantly circulate in the body ,<br>the innate immune system uses invariant receptors to detect<br>a wide variety of pathogens .\", \"Activation of these cells leads to a rapid ( i.e . , minutes<br>to hours ) cascade of inflammatory processes that help<br>contain an infection and ultimately promote healing and<br>recovery ( Medzhitov 2008 ) .\", \"When receptors of innate immune cells recognize hard -wired<br>and highly conserved features of microbes or pathogen<br>-associated molecular patterns , the acute -phase response<br>is triggered , which leads to an increase in inflammatory<br>activity that can occur both locally ( i.e . , at the site<br>of tissue injury or infection ) and systemically .\", \"This recognition strategy , which uses a relatively small<br>number of immune cell types to detect and generate a<br>response to a wide range of microbial diversity , is termed<br>pattern recognition , and innate immune receptors that use<br>this strategy are called pattern recognition receptors (<br>Medzhitov 2008 ) .\", \"Among pattern recognition receptors , Toll -like receptors (<br>TLRs ) are found on macrophages , neutrophils , and<br>dendritic cells that drive inflammation ( Medzhitov 2008 ) .\", \"Whereas TLRs recognize conserved components of microbes<br>including bacteria , viruses , and fungi , there is some<br>specificity of ligand recognition within this family of TLRs<br>.\", \"For example , lipopolysaccharide , an endotoxin that is the<br>major component of the outer membrane of Gram -negative<br>bacteria , binds to TLR4 ( Medzhitov 2008 ) .\", \"Following binding of one of the TLR4 , a conserved signaling<br>cascade is initiated that is characterized by activation of<br>key intracellular transcription factors such as nuclear<br>factor -\\u03ba B ( NF -\\u03ba B ) and activator protein 1 ( AP -1 ) (<br>Karin 2006 )\", \". Activation of NF -\\u03ba B , for example , leads to the<br>transcription of proinflammatory immune response genes such<br>as TNF -\\u03b1 and IL -1 and the translation and production of<br>proinflammatory cytokines that serve to coordinate the<br>inflammatory response ( Karin 2006 ) .\", \"Hence , intracellular processes that occur at the level of<br>the genome most proximally regulate the inflammatory<br>response .\", \"Sleep influences the two primary effector systems , the<br>hypothalamus -pituitary -adrenal ( HPA ) axis and the<br>sympathetic nervous system ( SNS ) , which in turn regulate<br>adaptive and innate immune responses .\", \"During sleep , blood levels of cortisol , epinephrine , and<br>norepinephrine drop ( Besedovsky et al . 2012 ) , whereas<br>mediators that subserve cell growth such as growth hormone ,<br>prolactin , and the pineal hormone melatonin show a steep<br>increase in their blood levels .\", \"( For characterization of these latter neuroendocrine<br>responses , which is beyond the scope of this review , see<br>Besedovsky et al . 2012 . )\", \"In contrast , chronic sleep disturbance leads to activation<br>of the HPA and SNS pathways ( Vgontzas et al . 2013 ) ,<br>which together contribute to an increased proinflammatory<br>and reduced antiviral skewing of the basal gene expression<br>profile , termed the basal transcriptome .\", \"Such a conserved transcriptional response to adversity , of<br>which sleep disturbance is one type , has been extensively<br>discussed in prior reviews\", \"( Irwin & Cole 2011 , Slavich & Irwin 2014 .\", \"Briefly , activation of the HPA axis releases cortisol that<br>suppresses proinflammatory and antiviral immune responses by<br>three mechanisms .\", \"First , glucocorticoids bind to the glucocorticoid receptor<br>of gene promoter sequences and interrupt transcription of<br>proinflammatory and antiviral genes .\", \"Second , activation of the glucocorticoid receptor induces<br>transcription of certain anti -inflammatory genes , which<br>serves to interfere with activation of the transcription<br>factor NF -\\u03ba B and leads to a blockade of the inflammatory<br>cascade .\", \"Finally , protein -protein interactions interfere with<br>proinflammatory transcription factors such as NF -\\u03ba B and AP<br>-1 and antagonize inflammatory gene transcription ( Irwin &<br>Cole 2011 ) .\", \"The second effector pathway is the SNS .\", \"In contrast to HPA activation , the SNS \\\" steers \\\" immune<br>responses between antiviral and proinflammatory immune<br>responses ( Irwin & Cole 2011 ) .\", \"Immune response gene transcription is regulated via<br>stimulation of \\u03b2 -adrenergic receptors by the release of<br>neurotransmitter norepinephrine into peripheral tissues ,<br>primary and secondary lymphoid organs , and all other major<br>organ systems ( including the vasculature and perivascular<br>tissues )\", \"( Irwin & Cole 2011 ). This adrenergic signaling cascade<br>suppresses transcription of antiviral type I IFN genes (<br>Cole et al . 1998 ) and upregulates transcription of the<br>proinflammatory immune response genes IL1B , TNF , and IL6 ,<br>leading to increases in systemic inflammatory activity\", \"Nocturnal sleep has a homeostatic role in the regulation of<br>immunity , which is separate from the influence of circadian<br>processes .\", \"In a series of elegant studies , the profile of immune<br>measures during a regular 24 -hour sleep -wake cycle has<br>been compared to a 24 -hour cycle of continuous nocturnal<br>wakefulness to evaluate the influence of sleep versus<br>circadian oscillators on nocturnal , as well as daytime ,<br>levels of immunity\", \"( Born et al . 1997 , Lange et al . 2010 .\", \"Circadian factors play a predominant role in regulating the<br>distribution of immune cells .\", \"Regardless of nocturnal sleep , the numbers of leukocytes ,<br>granulocytes , and monocytes as well as the major lymphocyte<br>subsets , including T -helper cells ( CD4 + ) , cytotoxic T<br>cells ( CD8 + ) , activated T cells ( HLA -DR + ) , and B<br>cells ( CD19 + ) , reach a maximum in the evening or early<br>night and then decline throughout the remaining night to<br>reach a minimum in the morning hours ( Born et al . 1997 ) .\", \"In humans , this circadian rhythm of T cells in blood is<br>independent of sleep and is coupled to the rhythm of<br>cortisol such that the peak in cortisol in the beginning of<br>the wake period precedes a decrease in blood T cell number<br>by about 3 hours .\", \"In contrast to circadian factors , nocturnal sleep plays a<br>predominant role in the regulation of adaptive immune<br>responses .\", \"During nocturnal sleep , but not during a period of<br>nocturnal wakefulness , T cell production of IL -2 ( Lissoni<br>et al . 1998 ) , as well as IFN -\\u03b3 ( Petrovsky et al . 1998<br>) , is enhanced .\", \"Even a modest amount of sleep can increase IL -2 production<br>, as levels of IL -2 are similar during a night of<br>uninterrupted sleep or partial sleep loss ( Irwin et al .<br>1999 ) .\", \"Nocturnal sleep also enhances the production of IL -12 by<br>precursor dendritic cells as well as by monocytes\", \"( Lange et al .\", \"2006b\", \"( Lange et al . , 2010 ;\", \"IL -12 is a key cytokine for the induction of Th1 -type<br>adaptive immune responses .\", \"Finally , nocturnal sleep favors a shift toward Th1 (<br>predominance of IFN -\\u03b3 ) , with a peak around 03:00 h (<br>Petrovsky & Harrison 1997 ) or even at 06:30 h ( Redwine et<br>al . 2003 ) , along with a reduction in production of the<br>anti -inflammatory cytokine IL -10 by monocytes\", \"2006b ). The ratio of IFN -\\u03b3 to IL -10 production is thought<br>to be a determinant for the selection of the effector<br>mechanisms of immune defense , in which Th1 cell release of<br>mainly IFN -\\u03b3 enhances response to intracellular viral and<br>bacterial challenges and supports various cellular responses<br>( i.e . , type 1 ) , including macrophage activation and<br>antigen presentation .\", \"Nocturnal sleep , as opposed to circadian processes ,<br>regulates aspects of innate immunity .\", \"For example , the nocturnal increase of natural killer ( NK<br>) cell activity , a type of cytotoxic lymphocyte critical to<br>the innate immune system , is dependent in part on sleep .\", \"Counts of NK cells and NK activity are at a minimum during<br>the early part of the night and reach a maximum in the late<br>morning hours ( Kronfol et al . 1997 ) ; this nocturnal<br>increase is attenuated in persons who evidence sleep<br>disturbance\", \"( Irwin et al . 1996 , Redwine et al . 2003 .\", \"In contrast , both circadian -and sleep -dependent processes<br>contribute to a nocturnal increase in inflammatory measures<br>.\", \"Circulating concentrations of IL -6 show two peaks , at<br>19:00 and again at 05:00\", \"( Vgontzas et al . 1999 ). Yet , early night sleep<br>deprivation delays the nocturnal increase of IL -6 ( Redwine<br>et al . 2000 ) , and total night sleep deprivation<br>diminishes the increase in IL -6 by about half ( Vgontzas et<br>al . 1999 ) .\", \"Nevertheless , circadian factors also contribute , as a<br>transient peak in IL -6 occurs at 01:00 even in the absence<br>of sleep ( Redwine et al . 2000 ) , with evidence that<br>monocyte production of IL -6 also peaks at 02:00 even when<br>the subject is awake ( Dimitrov et al . 2006 ) .\", \"Nocturnal sleep also plays a critical role in the regulation<br>of IL -6 signaling of neural functions .\", \"An integrated action of IL -6 on brain and nonimmune tissues<br>requires the release of IL -6R because binding of IL -6 with<br>IL -6R is required to activate cells that lack membrane<br>-bound IL -6R .\", \"Nocturnal sleep is associated with a robust ( 70 % )<br>increase in levels of soluble IL -6R ( Dimitrov et al . 2006<br>) , which is most pronounced during the late part of the<br>night , consistent with relative increases in REM sleep<br>amounts and increases in IL -6 ( Redwine et al . 2000 ) .\", \"However , nocturnal increases in another proinflammatory<br>cytokine , TNF , and its soluble receptor appear to be<br>driven primarily by circadian factors ( Born et al . 1997 )<br>.\", \"The signals that drive nocturnal increases in<br>proinflammatory cytokines are not known , although it is<br>speculated that danger signals such as reactive oxygen<br>species , nucleotides ( e.g . , adenosine triphosphate ) ,<br>and heat shock proteins accumulate during the wake period<br>and act like classical immunological stimulants for the<br>production of proinflammatory cytokines , which then support<br>the initiation of adaptive immune responses ( Besedovsky et<br>al . 2012 ) .\", \"Alternatively , sleep induces the release of growth hormone<br>( GH ) and prolactin during the early night , and GH and<br>prolactin are well known to enhance the proliferation and<br>differentiation of T cells as well as to promote type 1<br>cytokine activity ( Lange et al . 2006a ) .\", \"Interestingly , peaks of proinflammatory cytokines during<br>the rest period have been observed , often during the early<br>SWS -dominated portion of sleep , in humans as well as in<br>animals , on the m RNA and protein levels in different<br>tissues including the brain , adipose tissue , and lymph<br>nodes\", \"Given that nocturnal sleep is a prominent regulator of<br>adaptive immune responses , it is logical to consider the<br>effects of sleep disturbance on this branch of the immune<br>system during the day and after a period of sleep<br>disturbance .\", \"However , in some instances when sleep loss is prolonged or<br>severe , such as total night sleep deprivation for several<br>nights , the immune effects may not be specific to sleep<br>disturbance , as there can be marked activation of stress<br>response pathways such as the HPA axis during such profound<br>sleep loss .\", \"Yet , when the sleep loss is limited to a single night or<br>part of the night , or when sleep is fragmented as often<br>occurs in naturalistic settings , activation of stress<br>pathways appears limited to increases of SNS activity\", \"( Irwin et al . 1999 , Irwin & Ziegler 2005 .\", \"Adrenergic signaling then steers immune responses with the<br>suppression of antiviral immune response genes and increases<br>in inflammatory response genes as noted above ( Irwin & Cole<br>2011 )\", \"Experimental sleep loss , as defined by experimentally<br>induced deprivation of sleep during all or part of the night<br>, has minimal effects on immune cell numbers , in part due<br>to the predominant circadian regulation of almost all white<br>blood cell subpopulations .\", \"For example , the relative distribution of most major<br>lymphocyte subsets does not change in response to sleep loss<br>, with the exception of decreases in the numbers and<br>relative percentage of NK cells\", \"( Born et al . 1997 , Irwin et al . 1996 .\", \"However , when sleep loss is extended beyond a single night<br>of sleep deprivation , numbers of circulating granulocytes<br>and monocytes increase\", \"( Dinges et al . 1994 , Irwin et al . 1996 .\", \"In contrast , experimental sleep loss during all or part of<br>the night has robust effects on the production of cytokines<br>important in the regulation of adaptive immunity .\", \"Both partial -and totalnight sleep deprivation reduce T cell<br>production of IL -2 , and this effect is independent of the<br>total number of circulating T cells\", \"( Born et al . 1997 ;\", \"Irwin et al . 1996 Irwin et al . , 1999 .\", \"In addition , a night of wakefulness is associated with a<br>shift in the Th1 to Th2 cytokine balance toward increased<br>Th2 cytokine activity , especially in the morning hours\", \"( Dimitrov et al . 2004 , Lange et al .\", \"2006a .\", \"Sleep deprivation also reduces monocyte production of IL -12<br>, a cytokine that supports Th1 responses , whereas sleep<br>loss increases the production of IL -10 , a cytokine that<br>promotes Th2 responses\", \"Naturalistic sleep disturbance , in contrast to experimental<br>sleep loss , is associated with alterations in the relative<br>distribution of immune cells ; marked decreases in the<br>numbers of CD3 + , CD4 + , and CD8 + T cells have been<br>reported in patients with chronic insomnia ( Savard et al .<br>2003 ) .\", \"Research on the effects of sleep loss on vaccine responses<br>provides a translational perspective on the sleep -related<br>changes in adaptive immunity by identifying clinically<br>relevant endpoints related to infectious disease risk<br>including immunologic response to vaccination .\", \"Hypothalamus animals that were not sleep deprived ( Brown et<br>al . 1989 ) , although three subsequent studies have failed<br>to replicate these initial findings\", \"( Renegar et al .\", \"1998a\", \"( Renegar et al . , b , 2000 .\", \"In humans , partial sleep deprivation mimics the ubiquitous<br>sleep disturbance found in persons exposed to social<br>adversity or who are aged and most vulnerable to infectious<br>diseases .\", \"Following a night of partial sleep loss , immunologic<br>response to an influenza A vaccination was reported to be<br>reduced by over 50 % as compared to the response in those<br>who maintained a regular sleep schedule ( Spiegel et al .<br>2002 ) .\", \"Similar results were found in response to immunization with<br>the hepatitis A vaccine , in which total sleep deprivation<br>also reduced virus -specific antibody titers ( Lange et al .<br>2003 ) .\", \"Furthermore , the effects of sleep loss were persistent for<br>up to one year ; these effects included a reduced frequency<br>of antigen -specific Th cells as well as reduced levels of<br>antigen Ag -specific immunoglobulin G1 ( Lange et al . 2011<br>) .\", \"Naturalistic sleep disturbance has also been found to be<br>associated with a reduced magnitude of immune response to<br>several types of vaccines .\", \"Initial studies focused on the link between psychological<br>stress and vaccine response and revealed that sleep amounts<br>partially explained the impaired vaccine responses .\", \"Miller et al . ( 2004 ) found an association between fewer<br>hours of sleep , as indexed by ambulatory monitoring , and<br>lower antibody response to the influenza vaccine , which<br>accounted in part for the association between daily measures<br>of psychological stress and the reduced response to the<br>influenza vaccine .\", \"Likewise , Pressman et al . ( 2005 ) found that loneliness<br>and poor sleep efficiency were associated with poorer<br>antibody response to influenza vaccine .\", \"Recent research has examined the association between sleep<br>amounts and vaccine response .\", \"Prather et al . ( 2012 ) found that shorter sleep duration (<br>i.e . , less than six hours per night as confirmed by<br>actigraphy ) was strongly linked to a decreased likelihood<br>of protection from a hepatitis B vaccination in 125 midlife<br>adults .\", \"Importantly , this adverse effect of sleep disturbance<br>persisted even when three doses of the vaccine were given ,<br>including a booster dose at six months .\", \"Together , these experimental and prospective observations<br>demonstrate that variations in sleep duration decrease the<br>immunologic protection offered by standard , clinical<br>vaccines ( i.e . , influenza , hepatitis ) and suggest the<br>possibility that short sleep duration might increase<br>infectious disease risk by increasing susceptibility to<br>viral pathogens or expression of symptoms , or both .\", \"Sleep disturbance and adaptive immunity .\", \"The hypothalamus -pituitary -adrenal axis distributes<br>glucocorticoid hormones through the blood to regulate gene<br>expression in virtually every cell of the body .\", \"Sleep disturbance results in hormone activation of the<br>glucocorticoid receptor in leukocytes , which leads to a<br>profound suppression of antiviral gene programs [ e.g . ,<br>interferon regulatory factor ( IRF ) -mediated transcription<br>of type I interferons ( IFNs ) such as the IFNA and IFNB<br>genes ] .\", \"Sleep disturbance also activates nerve fibers from the<br>sympathetic nervous system ( SNS ) to release the<br>neurotransmitter norepinephrine into primary and secondary<br>lymphoid organs , all other major organ systems including<br>the vasculature and perivascular tissues as well as many<br>other peripheral tissues .\", \"SNS neural fibers can also stimulate the adrenal gland to<br>release stored epinephrine into the systemic circulation .\", \"Both neuromediators stimulate leukocyte adrenergic receptors<br>( e.g . , ADRB2 ) to repress IRF -mediated antiviral IFN<br>response gene ( IRG ) programs .\", \"Sleep also induces the release of growth hormone during the<br>early part of the night , and this hormone acts to enhance<br>the proliferation and differentiation of T cells as well as<br>to promote type 1 cytokine activity ; when sleep is<br>disrupted , a reduced amount of growth hormone is released .\", \"Suppression of IRF -mediated IRG programs leads to a shift<br>in Th1 to Th2 balance , with decreases in Th1 cell<br>production of IFN and increases in Th2 cell production of<br>interleukin -10 ( IL -10 ) .\", \"This suppression of adaptive immune response is thought to<br>contribute to increased susceptibility to infectious disease<br>and decreased response to vaccines .\", \"Dashed lines from the CNS to the leukocyte indicate release<br>of hormone ( i.e . , growth hormone , ACTH , glucocorticoid<br>epinephrine ) into the systemic circulations , whereas the<br>solid line indicates a neural connection ( i.e . ,<br>norepinephrine ) .\", \"Abbreviations : ACTH , adrenocorticotropic hormone ;\", \"Extremes of sleep duration are related to infectious disease<br>risk , with epidemiologic evidence that both reduced ( e.g .<br>, < 5 h ) and prolonged ( e.g . , > 9 h ) habitual sleep<br>duration are correlated with an increased risk of pneumonia<br>( Patel et al . 2012 ) .\", \"Also , Cohen et al . ( 2009 ) found that self -reported<br>shorter sleep duration and sleep fragmentation were<br>associated with susceptibility to the common cold .\", \"In experimental studies in which healthy adults are<br>inoculated with a rhinovirus that produces symptoms of the<br>common cold , poor sleep efficiency was associated with<br>increased susceptibility to the common cold and greater<br>symptom reporting\", \"( Cohen et al . 2009 ). Whether it is possible to modify<br>infectious disease risk profiles in persons with sleep<br>problems is not known , although Irwin et al . ( 2013 )<br>recently reported that treatment of depressed older adults<br>with a selective serotonin reuptake inhibitor normalizes<br>attenuated vaccine responses to the zoster vaccine .\", \"The age and depression status of older adults contribute to<br>shorter sleep duration along with blunted viral -specific<br>immune response to vaccines and an increased risk of herpes<br>zoster as well as influenza .\", \"The reasons that sleep contributes to dynamic variations in<br>the adaptive immune system and response to vaccine are not<br>known , although it is thought that the quiescent period of<br>sleep serves to reallocate energy resources from functions<br>related to wakefulness to processes that , for example ,<br>facilitate and promote immune responses to infectious<br>challenge\", \"( Besedovsky et al . 2012 , Motivala & Irwin 2007 .\", \"As immune cells move out of the circulatory system during<br>the nocturnal period , naive T and B cells relocate to the<br>lymph nodes and are exposed to foreign antigens , which<br>initiates an adaptive immune response .\", \"The subsequent immune cell division and differentiation<br>require metabolic resources , which appear to be supported<br>during sleep , especially SWS .\", \"For example , Lange et al . ( 2003 ) found that EEG slow<br>-wave activity on the night after vaccination against<br>hepatitis A correlated with the percentage of antigen<br>-specific Th cells measured one year after vaccination ,<br>with evidence that increased release of growth hormone and<br>prolactin but decreased cortisol mediated these effects .\", \"The release of growth hormone , as well as prolactin ,<br>primarily occurs early in the night , at the time that SWS<br>is most prominent .\", \"Hence , the link between SWS and the formation of<br>immunological memory , as well as neurobehavioral memories ,<br>provides insight into the role of sleep in the cross -links<br>between the brain and the immune system and the function of<br>sleep in supporting the organism 's strategic adaptation to<br>different kinds of environmental stressors ( i.e . ,<br>behavioral , immunological ) .\", \"Another potential mechanism involves activation of<br>adrenergic signaling that suppresses adaptive immunity .\", \"Whereas sleep disturbance induces increases in SNS outflow\", \"( Irwin et al . 1999 , Irwin & Ziegler 2005 , further<br>research is needed to test explicitly whether antagonism of<br>\\u03b2 -adrenergic signaling abrogates the effects of sleep<br>disturbance on adaptive immunity , similar to the effects of<br>\\u03b2 -adrenergic antagonism of stress -induced reduction of<br>adaptive immune responses\", \"Nocturnal sleep , as described above , serves to prime the<br>immune system to infectious challenge and to induce<br>nocturnal activation of inflammatory signaling .\", \"Hence , in the absence of sleep , nocturnal levels of<br>inflammatory cytokines are lower during the night\", \"( Besedovsky et al . 2012 , Redwine et al . 2000 .\", \"However , loss of sleep also induces an activation of<br>sympathetic outflow , and in the aftermath of sleep<br>disruption , such adrenergic signaling is thought to steer<br>inflammatory gene expression and lead to increases in<br>daytime levels of markers of innate immunity and<br>inflammation .\", \"Over a decade ago , early data suggested that prolonged<br>sleep deprivation induced an activation of innate immunity ,<br>although measures of circulating levels of cytokines relied<br>on bioassays that lacked specificity and it was not known<br>what cytokine contributed to reported increases in IL -1<br>-like and IL -2 -like activity\", \"( Moldofsky et al . 1989 ). However , the advent of cellular<br>and molecular assays of inflammatory biology has<br>exponentially increased interest in the role of sleep<br>disturbance on inflammatory markers , with implications for<br>understanding the association between sleep complaints and<br>inflammatory disorders .\", \"Partial -night sleep deprivation , when repeated for several<br>nights ( i.e . , 10 nights ) , induces robust increases in C<br>-reactive protein ( CRP ) ( Meier -Ewert et al . 2004 ) and<br>IL -6\", \"( Haack et al . 2007 ). Even shorter periods of sleep<br>restriction ( i.e . , seven nights ) induce increases in<br>plasma concentrations of IL -6 in men and women , increases<br>of TNF in men only ( Vgontzas et al . 2004a )\", \"( Faraut et al . 2011 , Shearer et al . 2001 , circulating<br>levels of inflammatory markers do not appear to change .\", \"Yet , in a vulnerable population of individuals who report<br>chronic sleep disturbance , a single night of sleep loss<br>triggers an activation of inflammation with increases in IL<br>-6 and TNF , which is not found in those who have no<br>underlying sleep problems ( Irwin et al . 2004 ) .\", \"Total -night sleep deprivation is also reported to induce<br>increases in circulating markers of inflammation , with<br>evidence of a dose response relationship in which<br>progressive loss of sleep over four nights led to cumulative<br>increases of CRP\", \"( Meier -Ewert et al . 2004 ). Increases of TNF emerge as<br>early as after one or two nights ( Chennaoui et al . 2011 )<br>, although elevations in IL -6 do not appear to occur until<br>after four nights ( Shearer et al . 2001 ) .\", \"Importantly , in healthy adults , an intervening nap appears<br>to be protective , as increases of IL -6 following four<br>nights of sleep restriction are reversed by a two -hour nap\", \"( Vgontzas et al . 2007 ). Activation of vascular<br>endothelial markers ( i.e . , E -selectin , s ICAM -1 ) ,<br>which typically follows increases in inflammation , also<br>occurs after a single night of sleep loss\", \"( Frey et al . 2007 , Sauvet et al . 2010 .\", \"Finally , consistent with the notion that nocturnal sleep<br>primes inflammatory signaling but sleep loss leads to<br>daytime increases of inflammation , Vgontzas et al . ( 1999<br>) have found that sleep deprivation shifts the temporal<br>pattern of circadian IL -6 secretion , with lower levels of<br>IL -6 during the night and higher levels during the day .\", \"Another component of the innate immunity that is altered by<br>sleep loss is NK activity , although changes in NK activity<br>parallel the suppressive effects of sleep loss on adaptive<br>immunity , with robust reductions in NK activity , Irwin et<br>al . 1996 and in the ability of NK cells to become activated<br>by IL -2 activation ( Irwin et al . 1996 ) .\", \"Additionally , sleep disturbance appears to be a critical<br>pathway by which psychological stress and major depression<br>lead to a reduction in NK activity\", \"Cellular production of IL -6 and TNF is thought to be due in<br>part to aberrant increases of TLR activity , which in turn<br>have been linked to inflammatory diseases such as rheumatoid<br>arthritis ( Andreakos et al . 2004 ) and heart failure (<br>Satoh et al . 2005 ) .\", \"Hence , to understand the functional basis for altered<br>inflammatory response after sleep loss , research has<br>examined the production of proinflammatory cytokines by<br>monocytes following ligation of TLR -4 with<br>lipopolysaccharide\", \"in production of proinflammatory cytokines throughout the<br>day following sleep loss .\", \"Additionally , sleep loss induces an increase in<br>transcription of IL -6 and TNF ( Irwin et al . 2006b ) due<br>an activation of NF -\\u03ba B , the key transcription control<br>pathway in the inflammatory signaling cascade\", \"2008b ). Moreover , sleep has effects on transcriptome<br>dynamics and induces an upregulation of a gene ensemble that<br>includes the master circadian regulator , several immediate<br>early genes marking cellular signal transduction , and<br>multiple inflammatory response genes .\", \"Transcription factor binding motifs that were<br>overrepresented in the sleep -deprivation condition included<br>the promoters of genes involved in regulation by cyclic<br>adenosine monophosphate/protein kinase A ( c AMP/PKA )<br>-induced transcription factors of the c AMP response element<br>-binding protein/activating transcription factor ( CREB/ATF<br>) family , the protein kinase C -induced AP -1 family , the<br>proinflammatory NF -\\u03ba B/Rel family , and the mitogen<br>-activated protein kinase -inducible E26 transformation<br>-specific ( ETS ) transcription factor family typified by<br>ELK1 .\", \"Three prominent epidemiologic studies have specifically<br>tested the cross -sectional relationship between insomnia<br>complaints and elevated levels of CRP , a marker of systemic<br>inflammation , and have found mixed results .\", \"The Nord -Trondelag Health Study ( n = 8,547 ) found no<br>significant relationship between insomnia symptoms and CRP<br>after adjustment for cardiovascular risk factors ( Laugsand<br>et al . 2012 ) , whereas the Northern Finland 1966 Birth<br>Cohort study ( n = 4,011 ) showed insomnia was associated<br>with higher levels of CRP in men , but not in women , and<br>that these relationships were apparent only if insomnia at<br>least moderate to severe\", \"( Liukkonen et al . 2007 ). However , recent findings from<br>the National Health and Nutrition Examination Survey (<br>NHANES ) ( n = 10,908 ) showed that complaints of<br>nonrestorative sleep , as opposed to nocturnal insomnia<br>symptoms , were associated with higher levels of CRP in both<br>sexes ( Zhang et al . 2013a ) .\", \"Naturalistic studies that have assessed sleep disturbance<br>using validated sleep questionnaires such as the Pittsburgh<br>Sleep Quality Index ( PSQI ) or that have diagnostically<br>categorized insomnia have reported a more consistent effect<br>of sleep disturbance on inflammation than have epidemiologic<br>studies that have relied on one or two questions about sleep<br>disturbance .\", \"Indeed , when sleep disturbance is defined by questionnaire<br>threshold scores ( i.e . , PSQI > 5 ) , high levels of CRP<br>have been found among poor sleepers in clinical\", \"( Chiu et al . 2009 ), adult\", \"( Okun et al . 2009 ), and older adult ( Christian et al .<br>2011 ) Sleep disturbance and innate immunity .\", \"Following a night of sleep loss , or during a period of<br>sleep disturbance , nerve fibers from the sympathetic<br>nervous system ( SNS ) release the neurotransmitter<br>norepinephrine into primary and secondary lymphoid organs<br>and stimulate the adrenal gland to release stored<br>epinephrine into systemic circulation .\", \"Both neuromediators stimulate leukocyte adrenergic receptors<br>( e.g . , ADRB2 ) and activate nuclear factor ( NF ) -\\u03ba B<br>-mediated inflammatory programs .\", \"Intrinsic circuits detect microbes via pattern recognition<br>receptors ( PRRs ) such as the Toll -like receptor -4 ( TLR4<br>) and stimulate inflammatory gene expression via<br>transcription factors such as NF -\\u03ba B .\", \"The production of proinflammatory cytokines interleukin ( IL<br>) -6 and tumor necrosis factor -\\u03b1 ( TNF -\\u03b1 ) occurs .\", \"Bidirectional links between the brain and periphery allow<br>the brain to regulate inflammatory activity , and<br>inflammatory activity in turn can influence neural processes<br>in the brain and alter sleep .\", \"are also reported in persons who report sleep impairment\", \"( Erten et al . 2005 , although not all studies have<br>confirmed these findings ( van Mark et al . 2010 ) .\", \"Likewise , among patients with insomnia disorder , increases<br>in daytime circulating levels of CRP ( Razeghi et al . 2012<br>) and IL -6 are found ( Vgontzas et al . 2002 ) , with<br>elevated levels of IL -6 , for example , extending into the<br>mid -afternoon and early evening ( Vgontzas et al . 2002 )<br>and even into the night ( Burgos et al . 2006 ) .\", \"Finally , given that women appear to be especially<br>vulnerable to the effects of sleep loss on cellular<br>inflammation ( as noted above )\", \"2008b\", \"( Irwin et al . , 2010 , it is interesting to note that<br>Suarez ( 2008 ) found that overall poor sleep quality was<br>associated with increases in inflammatory biomarkers , but<br>only for women , similar to the findings of Friedman et al .<br>( 2005 ) in older adults .\", \"Certain aspects of sleep disturbance , as well as sex<br>differences , differentially impact inflammation , with<br>evidence that poor sleep efficiency may be salient in the<br>association with higher levels of CRP and IL -6 ( Friedman<br>et al . 2005 ) , especially in women with poor social<br>relationships .\", \"Further research should evaluate whether social ties might<br>buffer the adverse effects of sleep disturbance on<br>inflammation .\", \"Moreover , self -reported sleep duration may also impact<br>inflammatory markers .\", \"Again , sex differences emerge with evidence that women ,<br>but not men , are more likely to show elevated levels of<br>inflammation in association with short sleep duration .\", \"For example , in the Whitehall II epidemiologic study ( n =<br>4,677 )\", \"( Miller et al . 2009 ), women , but not men , who slept<br>less than eight hours tended to have higher levels of IL -6<br>as well as higher levels of CRP .\", \"Other studies have focused solely on women and found that<br>postpartum sleep duration of less than five hours was<br>prospectively associated with increases of IL -6 and CRP one<br>to three years later ( Taveras et al . 2011 ) ; shorter<br>sleep duration was also associated with increases of CRP in<br>adolescent girls ( Larkin et al . 2005 ) .\", \"Extreme sleep habits , i.e . , short and long sleep duration<br>, have been linked to adverse health outcomes ( Youngstedt &<br>Kripke 2004 ) , with similar effects on inflammation .\", \"In the populationbased In CHIANTI study ( n = 751 ) , levels<br>of TNF , but not IL -6 or CRP , were increased at extremes<br>of both short and long sleep as compared to those who slept<br>seven to eight hours ( Stenholm et al . 2011 ) .\", \"However , in a five -year prospective observational study of<br>an older adult Taiwanese population , only longer sleep (<br>greater than eight hours ) was associated with increases in<br>markers of inflammation ( Dowd et al . 2011 ) , although<br>this study only tested the prospective role of inflammation<br>on sleep as opposed to sleep duration on inflammation .\", \"To further complicate these observations , the effects of<br>sleep duration might depend on the proinflammatory cytokine<br>;\", \"Patel et al . ( 2009 ) found that each additional hour of<br>sleep duration resulted in an increase in CRP and an<br>increase in IL -6 , whereas a shorter sleep duration was<br>associated with an increase in TNF .\", \"Given these mixed results , it is important to note that<br>several high -quality studies have found no relationship<br>between self -reported and objective ( i.e . ,<br>polysomnographic ) sleep duration and markers of<br>inflammation\", \"Activation of the sympathetic nervous system and \\u03b2<br>-adrenergic signaling activate the inflammatory cascade to<br>induce increases in NF -\\u03ba B , inflammatory gene expression ,<br>and production of proinflammatory cytokines , along with<br>increases in markers of systemic inflammation such as CRP (<br>Irwin & Cole 2011 ) .\", \"Given that normal nocturnal sleep is associated with a drop<br>in sympathetic outflow ( Irwin et al . 1999 ) , one<br>biologically plausible mechanism to explain the associations<br>between sleep disturbance , short sleep duration , and<br>increases in markers of inflammation is activation of<br>sympathetic effector pathways .\", \"Sleep and sleep depth regulate sympathetic outflow .\", \"In the transition from wakefulness to sleep , there is a<br>shift from sympathetic to parasympathetic outflow , which is<br>dependent on the stage of sleep as well as sleep depth (<br>Boudreau et al . 2013 ) .\", \"During NREM or SWS , sympathetic activity is decreased ;<br>during REM sleep , SNS outflow is higher , similar to<br>daytime levels ( Somers et al . 1993 ) .\", \"Changes in plasma levels of the sympathetic<br>neurotransmitters show a similar pattern ( Irwin et al .<br>1999 ) .\", \"In contrast , increases in norepinephrine , epinephrine ,<br>and other markers of sympathetic outflow ( as measured by<br>blood pressure , heart rate variability , and impedance<br>cardiography ) are found in patients with insomnia ( Bonnet<br>& Arand 1997 , De Zambotti et al . 2011 , Lanfranchi et al .<br>2009 , Riemann 2010 , Vgontzas et al . 2013 ) and following<br>sleep deprivation\", \"Furthermore , patients with insomnia with short sleep<br>duration are more likely to show increases in urinary<br>catecholamines and levels of their metabolites than are<br>insomniacs without objective sleep disturbance , similar to<br>the greater activation of inflammatory biomarkers in this<br>more severe phenotype\", \"Inflammation has been found to have a fundamental role in<br>mediating all stages of atherosclerosis , from its<br>initiation through progression to cardiovascular disease ,<br>with evidence that the prospective risk for acute coronary<br>syndromes as well as risk for other atherosclerotic<br>complications is defined in part by high levels of CRP (<br>Libby et al . 2002 ) .\", \"In addition , sleep complaints -possibly through effects on<br>inflammation -contribute to cardiovascular disease risk\", \"( Mullington et al . 2009 ). Finally , depression is well<br>known to be a potent risk factor for cardiovascular disease<br>( Joynt et al . 2003 ) , with recent findings indicating<br>that sleep disturbance has a critical role in mediating the<br>association between depressive symptoms and hypertension<br>incidence ( Gangwisch et al . 2010 ) as well as allcause and<br>cardiovascular disease mortality\", \"( Azevedo Da Silva et al . 2014 ). However , no study has<br>systematically evaluated whether elevated levels of<br>inflammation mediate the association between sleep<br>disturbance and cardiovascular disease , so the following<br>section primarily describes the associations between sleep<br>disturbance , hypertension , and cardiovascular outcomes .\", \"Those who report sleep complaints and/or have short sleep<br>duration appear to be at greatest risk of cardiovascular<br>disease ( Vgontzas et al . 2013 ) .\", \"For example , a recent meta -analysis of 11 prospective<br>studies ( Meng et al . 2013 ) found that short sleep<br>duration , as well as complaints of sleep maintenance and<br>early -morning awakening , but not difficulty falling asleep<br>, predicted an increased risk of hypertension ; another<br>systematic review ( Palagini et al . 2013 ) as well as a<br>largescale epidemiologic study ( n = 4,794 ) ( Suka et al .<br>2003 ) had similar conclusions .\", \"The salient role of insomnia complaints combined with short<br>sleep duration in predicting cardiovascular disease , and<br>especially hypertension , has also been examined by<br>polysomnography in a study of more than 1,700 adults\", \"( Vgontzas et al . 2009 ). Those who reported insomnia<br>lasting more than one year and who also had short sleep<br>duration ( \\u2264 5 h ) had a fivefold greater risk of having<br>hypertension ( Vgontzas et al . 2009 ) , with prospective<br>findings showing that this combination led to a fourfold<br>increased risk of incident hypertension\", \"( Fernandez -Mendoza et al . 2012 ). In addition , in a<br>nationwide study in Taiwan ( n = 98,198 ) , clinically<br>significant insomnia disorder was associated with an<br>increased risk of acute coronary syndrome , and this<br>relationship was especially robust in young adult men\", \"( Chung et al . 2013 ). However , not all studies have<br>demonstrated a relationship between insomnia complaints and<br>objective measures of hypertension ( Vozoris 2013 ) , and<br>some have found only modest or no associations when insomnia<br>complaints are reported in the absence of short sleep<br>duration\", \"( Phillips et al . 2009 , Phillips & Mannino 2007 .\", \"Short sleep duration alone appears to have a robust effect<br>on cardiovascular disease risk , similar to the effects of<br>short sleep duration on inflammation\", \"( Ayas et al . 2003 , Hoevenaar -Blom et al . 2011 , Mallon<br>et al . 2002 .\", \"In a meta -analysis of 6 prospective ( n = 9,959 ) and 17<br>cross -sectional ( n = 105,432 ) studies , short sleep<br>duration was associated with an increased risk of prevalent<br>hypertension , particularly in adults younger than 65 years<br>old , and with increased risk of incident hypertension (<br>Wang et al . 2012 ) .\", \"In addition to effects on hypertension ( Grandner & Perlis<br>2013 ) , another meta -analysis reported that short sleep<br>duration is associated with morbidity and mortality from<br>coronary heart disease and stroke but not with total<br>cardiovascular disease ( Cappuccio et al . 2011 ) .\", \"Those sleeping less than five hours appear to show the<br>greatest risk for cardiovascular events ( Sabanayagam et al<br>. 2011 ) , although even sleeping less than seven hours per<br>night entailed increased risk of cardiovascular mortality (<br>Heslop et al . 2002 ) , with a linear relationship between<br>sleep duration and prospective risk of cardiovascular<br>disease ( Chien et al . 2010 ) that indicates an optimal<br>sleep duration between seven and eight hours .\", \"Extremes of sleep may contribute to cardiovascular disease ,<br>similar to the effects of sleep extremes on inflammation .\", \"Indeed , both meta -analyses noted above\", \"( Cappuccio et al . 2011 , Wang et al . 2012 found that long<br>duration of sleep was also associated with prevalent<br>hypertension ( Wang et al . 2012 ) as well as a greater risk<br>of other cardiovascular disease , Wang et al . 2012 , with a<br>U -shaped risk profile in both men and women\", \"( Cappuccio et al . 2011 , Ikehara et al . 2009 , Wang et al<br>. 2012 .\", \"One study found that extremes of sleep duration are more<br>robustly associated with cardiovascular morbidity and<br>mortality in women but not in men , whereas other data<br>suggest that only long sleep duration is associated with<br>cardiovascular disease risk\", \"Inflammation is increasingly thought to have a prominent<br>role in cancer incidence and cancer recurrence .\", \"Elevated levels of CRP and other markers of inflammation are<br>prospectively associated with increases in mortality and<br>site -specific cancer mortality for lung , colorectal ,<br>liver , and prostate ( Ko et al . 2012 ) , especially in men<br>( Baune et al . 2011 ) , with other data showing that<br>inflammation is linked to breast cancer incidence ( Touvier<br>et al . 2013 ) and interacts with other factors ( e.g . ,<br>smoking ) to increase lung cancer risk\", \"( Shiels et al . 2013 , Siemes et al . 2006 ). In addition ,<br>inflammation appears to be a prognostic factor predicting<br>breast cancer recurrence\", \"( Cole 2009 , Pierce et al . 2009 ). Inflammatory responses<br>are thought to be linked to 15-20 % of all deaths from<br>cancer worldwide ( Mantovani et al . 2008 ) , in part due to<br>cancer -related activation of NF -\\u03ba B and multiple<br>inflammatory cytokines ( such as IL -1\\u03b2 , IL -6 , and TNF -\\u03b1<br>) ( Karin 2006 )\", \". As with cardiovascular disease , no prospective study has<br>examined whether sleep disruption elevates inflammation to<br>mediate the relationships between sleep and cancer as<br>described below .\", \"Although beyond the scope of this review , circadian rhythm<br>disturbances ( i.e . , shift work ) and co -occurring sleep<br>disturbance are implicated in cancer risk ( for a review ,<br>see Haus & Smolensky 2013 ) .\", \"Shift work and related circadian disruption contribute to an<br>epigenetic modification of circadian genes , which serve as<br>transcriptional regulators that affect the expression of<br>many cancerrelated genes and participate in regulating cell<br>division and DNA repair .\", \"In longtime night workers and shift workers , slightly to<br>moderately increased risk for breast , prostate , colon ,<br>and endometrial epithelial malignancies plus non -Hodgkin 's<br>lymphoma is found ( Conlon et al . 2007 ; Kubo et al . 2006<br>Kubo et al . , 2011 Parent et al . 2012 ) , although other<br>studies have reported no association\", \"( Schwartzbaum et al . 2007 ). The International Agency for<br>Research on Cancer has concluded that there is sufficient<br>experimental evidence in animals to support the<br>carcinogenicity of circadian disruption , with adequate<br>evidence in humans to denote long -term shift work as a<br>probable carcinogen in humans ( Haus & Smolensky 2013 ) .\", \"Given the associations between shift work and recurrent<br>sleep disturbance , the association between sleep<br>disturbance and cancer risk is being explicitly tested .\", \"In the Age , Gene/Environment Susceptibility ( AGES )<br>-Reykjavik cohort ( n = 2,102 ) , men who had problems<br>falling and staying asleep had a significantly increased<br>risk of prostate cancer compared to men without such sleep<br>problems ( Sigurdardottir et al . 2013 ) , with an even more<br>robust association among those with advanced prostate cancer<br>.\", \"However , no prospective association between sleep<br>complaints or sleep duration and risk of incident breast<br>cancer was found in the Women 's Health Initiative ( n =<br>110,011 ) ( Vogtmann et al . 2013 )\", \". Short sleep duration alone may contribute to cancer risk\", \"( von Ruesten et al . 2012 ). In the European Prospective<br>Investigation into Cancer and Nutrition ( EPIC ) -Potsdam<br>study ( n = 23,620 ) , those who reported a sleep duration<br>of < 6 h had a significantly increased risk of cancer as<br>compared with those who reported 7 h of sleep , similar to<br>the increased risk of stroke and overall chronic diseases\", \"( von Ruesten et al . 2012 ). Yet other data suggest that<br>extremes of sleep duration , not simply short sleep duration<br>, are associated with cancer risk .\", \"For example , compared with those with 7 h of sleep , both<br>short sleep ( < 5 h ) and long sleep ( > 9 h ) were<br>associated with an increased risk of colorectal cancer in<br>the 11.3 -year follow -up of the Women 's Health Initiative<br>observational study ( n = 75,828 postmenopausal women ) (<br>Jiao et al . 2013 ) , although one other large -scale<br>prospective report found that only long sleep duration ( > 9<br>h ) was associated with the risk of colorectal cancer in the<br>Health Professionals Follow -Up Study ( n = 30,121 ) and the<br>Nurses ' Health Study ( n = 76,368 ) , with the risk being<br>relatively more robust in men than in women\", \"( Zhang et al .\", \"Inflammation plays a prominent role in depression , which<br>may be instigated in part by sleep disturbance .\", \"Multiple links exist between inflammation and depression (<br>for a review , see Slavich & Irwin 2014 ) .\", \"First , in patients with an inflammatory disorder ,<br>depression comorbidity is high .\", \"Second , markers of inflammation are elevated in depressed<br>compared to nondepressed individuals , with prospective<br>findings showing that increases of CRP and IL -6 predict the<br>occurrence of depression\", \"( Gimeno et al . 2009 ). Third , experimental activation of<br>inflammation induces increases of depressive symptoms along<br>with activation of brain sites that regulate positive and<br>negative affect\", \"( Eisenberger et al . 2009\", \"( Eisenberger et al . , 2010a .\", \"Finally , antagonism of endogenous inflammation shows<br>promise in reducing depressive symptoms and possibly in the<br>remission of depression in groups of depressed patients with<br>high levels of inflammation\", \"( Raison et al . 2013 , Tyring et al . 2006 .\", \"Symptoms of insomnia , including difficulties initiating and<br>maintaining sleep , commonly cooccur with depression .\", \"However , insomnia is not simply a symptom of depression but<br>rather may have a role in predicting depression incidence .\", \"Ford & Kamerow ( 1989 ) were among the first to note such a<br>relationship in a longitudinal epidemiologic study , and to<br>date more than 40 studies have been published that have<br>tested the role of insomnia in the onset of depression ( for<br>a review , see Riemann 2010 ) , with meta -analytic findings<br>showing that sleep disturbance yields a twofold increased<br>risk of depression ( Baglioni et al . 2011 ) or is one of<br>the first clinical signs of a depressive disorder ( Dryman &<br>Eaton 1991 ) .\", \"Persistent insomnia is particularly potent in increasing the<br>risk of depression , with a 14 -fold greater risk of<br>depression in the year following insomnia that had persisted<br>for up to one year\", \"( Lee et al . 2013 ). In addition , this association appears<br>to be specific to those with a history of depression ( Cho<br>et al . 2008 ) , although persistent insomnia was found to<br>predict risk for depressive symptoms over six years even in<br>those without a depression history ( Jaussent et al . 2011 )<br>.\", \"Together , these findings have strong clinical implications<br>for the development of studies to prevent the development of<br>depression by targeting sleep disturbance , and some<br>research has already found that adding cognitive behavioral<br>therapy for insomnia to standard antidepressant treatment<br>generates a more rapid and durable remission of depression<br>than does standard treatment alone ( Manber et al . 2008 ) .\", \"Whereas this review has primarily focused on the role of<br>sleep disturbance in the regulation of immunity , the<br>reciprocal links between the immune system and the brain (<br>Irwin & Cole 2011 ) and their effects on sleep also require<br>consideration , although a detailed discussion of these<br>mechanisms is beyond the scope of this review .\", \"Extensive basic animal research has found that Th1 ( i.e . ,<br>IFN ) and inflammatory cytokines are involved in the<br>regulation of sleep ; inflammatory cytokines increase<br>amounts of NREM sleep , and specific antagonists to these<br>cytokines decrease amounts of NREM sleep\", \"( Imeri & Opp 2009 ). In contrast , anti -inflammatory<br>cytokines such as IL -4 and IL -10 act in the opposite<br>direction and reduce the amount of NREM sleep ( Imeri & Opp<br>2009 ) .\", \"However , findings in humans contrast with those in animal<br>research , as some proinflammatory cytokines that promote<br>NREM sleep in animals appear to suppress NREM sleep or sleep<br>depth in humans .\", \"Acute administration of either IL -6 or IFN -\\u03b1 suppressed<br>SWS during the early part of the night and reduced amounts<br>of REM sleep\", \"( Spath -Schwalbe et al . 1998 , whereas an acute dose of<br>the T cell , IL -2 , showed no effect on sleep amounts or<br>measures of sleep architecture ( Lange et al . 2002 ) .\", \"When exposure to an inflammatory cytokine is chronic ( i.e .<br>, IFN -alpha treatment ) , a similar suppression of SWS<br>along with disturbances in sleep maintenance are found (<br>Raison et al . 2010 ) .\", \"However , large and rapid increases in proinflammatory<br>cytokine activity ( i.e . , single cytokine or endotoxin<br>challenge )\", \"( Bauer et al . 1995 , Pollmacher et al . 2000 may not be a<br>physiologically relevant signal for sleep regulation .\", \"To address this issue , cytokine antagonists that block<br>physiologic levels of cytokines have been tested , and<br>blockade of TNF has been found to induce a short -term<br>normalization of REM sleep in alcohol -dependent patients<br>with high levels of REM sleep ); the decrease in REM sleep<br>correlated with pharmacologic neutralization of biologically<br>active TNF .\", \"In addition , Zamarron et al . ( 2004 ) found that TNF<br>blockade improved sleep continuity and increased sleep depth<br>in patients with rheumatoid arthritis .\", \"Finally , TNF antagonism has been found to reduce daytime<br>sleepiness in patients with sleep apnea ( Vgontzas et al .<br>2004b ) and possibly improves other depressive symptoms<br>among those with high levels of inflammation\", \"Several treatment options are available for patients with<br>sleep disturbance and insomnia , including psychological and<br>behavioral approaches ( e.g . , cognitive behavioral therapy<br>for insomnia ) and mind -body or relaxation -based therapies<br>( e.g . , tai chi and yoga ) as well as various classes of<br>medications .\", \"Here we focus on behavioral and mind -body interventions<br>because of their potential to modulate certain aspects of<br>the immune system , including adaptive and innate immune<br>-response elements .\", \"Among the various treatments for insomnia , cognitive<br>behavioral therapies have a robust efficacy profile as<br>compared with other approaches , including therapies that<br>primarily target hyperarousal mechanisms using relaxation<br>-based treatments\", \"2006a ). Nevertheless , a number of studies have now<br>demonstrated that these relaxation -based approaches ( e.g .<br>, tai chi , yoga ) , which target stress -response pathways<br>that are activated in association with insomnia , influence<br>adaptive and innate immune responses and also improve<br>insomnia symptoms .\", \"For example , tai chi has been found to improve insomnia<br>complaints in older adults ( Irwin et al . 2008a ) , augment<br>vaccine responses to the herpes zoster virus ), and reduce<br>inflammation ( i.e . , levels of IL -6 ) ( Irwin & Olmstead<br>2012 )\", \". Similarly , delivery of cognitive behavioral therapy in<br>patients with rheumatoid arthritis improved depressive<br>symptoms including insomnia complaints and reduced the<br>stimulated production of the proinflammatory cytokine IL -6\", \"( Zautra et al . 2008 ). More recent findings suggest that<br>mindfulness -based meditation can reduce<br>proinflammatoryresponse gene profiles ( Creswell et al .<br>2012 ) , and additional evidence indicates that yogic<br>meditation reverses increased NF -\\u03ba B -related transcription<br>of proinflammatory cytokines and decreased interferon<br>regulatory factor 1 -related transcription of innate<br>antiviral response genes ( Black et al . 2013 ) .\", \"Together , behavioral approaches might provide a strategy<br>for redirecting the leukocyte transcriptome via the<br>induction of multiple trans -acting transcription factors<br>via \\u03b2 -adrenergic receptor signaling that is activated in<br>association with life adversity and sleep loss .\", \"Recently , we have focused on patients with insomnia<br>complaints and tested whether behavioral interventions that<br>target sleep complaints might reverse the activation of<br>inflammatory pathways associates with insomnia .\", \"Along with inducing a remission of insomnia disorder ,<br>cognitive behavioral therapy was associated with decreases<br>in CRP : Levels of this marker of inflammatory risk were 50<br>% lower one year after treatment among those who showed<br>insomnia remission .\", \"Decreases in CRP following insomnia treatment were<br>comparable to the benefits reported with vigorous physical<br>activity ( Ford 2002 ) or weight loss ( Esposito et al .<br>2003 ) .\", \"Similar findings are reported in a study of the effects of<br>exercise training on sleep quality and inflammation in men<br>on hemodialysis who had sleep problems ( Afshar et al . 2011<br>) .\", \"Important directions for future research include<br>investigation of the environmental and personalized genomic<br>inputs that contribute to the varying influence of sleep on<br>immunity and inflammatory biological mechanisms and how<br>distinct aspects of sleep map onto immunological signatures<br>.\", \"1 . Insomnia complaints are highly prevalent , occurring in<br>nearly 25 % of the US population , and adversely influence<br>morbidity and mortality risk.2 . Sleep can be assessed<br>objectively by polysomnography ; other evaluations of sleep<br>are provided by actigraphy , sleep diaries , and self<br>-report questionnaires as well as clinicianbased diagnosis<br>of insomnia disorder.3 . Sleep influences the two primary<br>effector systems , the hypothalamus -pituitary -adrenal axis<br>and the sympathetic nervous system , which in turn regulate<br>adaptive and innate immune responses.4 . Nocturnal sleep is<br>associated with increases in adaptive and innate system<br>activity ( i.e . , inflammation ) , which occur against the<br>background of the strong circadian rhythm of cortisol and<br>its suppressive effects on these aspects of the immune<br>system , and a nocturnal decline in sympathetic outflow.5 .<br>Sleep deprivation and naturalistic disturbance of sleep (<br>i.e . , short sleep duration or reduced sleep efficiency )<br>[...]\", \"Decreases in growth hormone during slow wave sleep and<br>increases of sympathetic activation are two mechanisms<br>implicated in the link between sleep disturbance and reduced<br>antiviral immune responses.6 . Sleep loss , short sleep<br>duration , and complaints of sleep disturbance are<br>associated with increases in inflammation , which are<br>thought to be due to the effects of sleep disruption on<br>adrenergic signaling that steers inflammatory gene<br>expression .\", \"Women appear to be more vulnerable to the effects of sleep<br>disturbance on inflammatory dynamics , whereas men appear to<br>be more at risk for cardiovascular disease and cancer , but<br>not depression , in association with sleep disturbance ,<br>especially short sleep duration .\"], \"type\": \"bar\", \"x\": [0, 1, 2, 3, 4, 5, 6, 7, 8, 9, 10, 11, 12, 13, 14, 15, 16, 17, 18, 19, 20, 21, 22, 23, 24, 25, 26, 27, 28, 29, 30, 31, 32, 33, 34, 35, 36, 37, 38, 39, 40, 41, 42, 43, 44, 45, 46, 47, 48, 49, 50, 51, 52, 53, 54, 55, 56, 57, 58, 59, 60, 61, 62, 63, 64, 65, 66, 67, 68, 69, 70, 71, 72, 73, 74, 75, 76, 77, 78, 79, 80, 81, 82, 83, 84, 85, 86, 87, 88, 89, 90, 91, 92, 93, 94, 95, 96, 97, 98, 99, 100, 101, 102, 103, 104, 105, 106, 107, 108, 109, 110, 111, 112, 113, 114, 115, 116, 117, 118, 119, 120, 121, 122, 123, 124, 125, 126, 127, 128, 129, 130, 131, 132, 133, 134, 135, 136, 137, 138, 139, 140, 141, 142, 143, 144, 145, 146, 147, 148, 149, 150, 151, 152, 153, 154, 155, 156, 157, 158, 159, 160, 161, 162, 163, 164, 165, 166, 167, 168, 169, 170, 171, 172, 173, 174, 175, 176, 177, 178, 179, 180, 181, 182, 183, 184, 185, 186, 187, 188, 189, 190, 191, 192, 193, 194, 195, 196, 197, 198, 199, 200, 201, 202, 203, 204, 205, 206, 207, 208, 209, 210, 211, 212, 213, 214, 215, 216, 217, 218, 219, 220, 221, 222, 223, 224, 225, 226, 227, 228, 229, 230, 231, 232, 233, 234, 235, 236, 237, 238, 239, 240, 241, 242, 243, 244, 245, 246, 247, 248, 249, 250, 251, 252, 253, 254, 255, 256, 257, 258, 259, 260, 261, 262, 263, 264, 265, 266, 267, 268, 269, 270, 271, 272, 273, 274, 275, 276, 277, 278, 279, 280, 281, 282, 283, 284, 285, 286, 287, 288, 289, 290, 291, 292, 293, 294, 295, 296, 297, 298, 299, 300, 301, 302, 303, 304, 305, 306, 307, 308, 309, 310, 311, 312, 313, 314, 315, 316, 317, 318, 319, 320], \"y\": [0.27592581510543823, 0.17513322830200195, 0.40224945545196533, 0.4571627378463745, 0.17286133766174316, 0.40528517961502075, 0.4595942497253418, 0.1806768774986267, 0.23576068878173828, 0.3372466564178467, 0.2601845860481262, 0.24724674224853516, 0.2177518606185913, 0.28630125522613525, 0.2999734878540039, 0.2540814280509949, 0.2548289895057678, 0.27845853567123413, 0.24970418214797974, 0.2757348418235779, 0.22244399785995483, 0.3103923797607422, 0.32964181900024414, 0.2872989773750305, 0.3068941831588745, 0.2798479199409485, 0.2224063277244568, 0.24242925643920898, 0.30455249547958374, 0.17444533109664917, 0.2426324486732483, 0.22068816423416138, 0.2687233090400696, 0.28324973583221436, 0.35521918535232544, 0.41511088609695435, 0.3304731249809265, 0.41561824083328247, 0.32139402627944946, 0.40620267391204834, 0.21890491247177124, 0.2639384865760803, 0.20724493265151978, 0.1757548451423645, 0.23882591724395752, 0.1959666609764099, 0.294242799282074, 0.21504318714141846, 0.2836799621582031, 0.28629857301712036, 0.2573474645614624, 0.24820095300674438, 0.2842828035354614, 0.23454910516738892, 0.30746012926101685, 0.2496907114982605, 0.31432902812957764, 0.30137062072753906, 0.2733776569366455, 0.29442036151885986, 0.298122763633728, 0.2477971315383911, 0.27370554208755493, 0.27244657278060913, 0.28529226779937744, 0.28169816732406616, 0.25462573766708374, 0.3032229542732239, 0.23917007446289062, 0.25414127111434937, 0.3165307641029358, 0.2524494528770447, 0.2455490231513977, 0.2230381965637207, 0.22600144147872925, 0.41079914569854736, 0.25784093141555786, 0.25257277488708496, 0.2727476954460144, 0.2056559920310974, 0.3201364278793335, 0.2279229760169983, 0.33147692680358887, 0.22425031661987305, 0.3070595860481262, 0.1996530294418335, 0.3510388135910034, 0.2974010109901428, 0.26006579399108887, 0.3009844422340393, 0.2898189425468445, 0.24588358402252197, 0.24713486433029175, 0.3214479684829712, 0.3924671411514282, 0.48925328254699707, 0.32985854148864746, 0.3586816191673279, 0.2408556342124939, 0.19493979215621948, 0.3159778118133545, 0.2784895896911621, 0.26088976860046387, 0.3854500651359558, 0.2439294457435608, 0.33030563592910767, 0.20107179880142212, 0.2374071478843689, 0.32107406854629517, 0.2954081892967224, 0.24985957145690918, 0.22395944595336914, 0.25576621294021606, 0.26257890462875366, 0.2711247205734253, 0.2443467378616333, 0.24719876050949097, 0.21272879838943481, 0.3751768469810486, 0.24505764245986938, 0.2811460494995117, 0.21081870794296265, 0.3586236834526062, 0.2779637575149536, 0.36788398027420044, 0.2531678080558777, 0.28701090812683105, 0.359100878238678, 0.35559695959091187, 0.26873916387557983, 0.3381558060646057, 0.45982640981674194, 0.3085499405860901, 0.2220274806022644, 0.2531450390815735, 0.21365314722061157, 0.39999741315841675, 0.4834299683570862, 0.39030390977859497, 0.25955915451049805, 0.2497854232788086, 0.22309058904647827, 0.24828094244003296, 0.25025302171707153, 0.2549557685852051, 0.21724379062652588, 0.2123194932937622, 0.24017804861068726, 0.230587899684906, 0.295707106590271, 0.1871010661125183, 0.30284833908081055, 0.30462217330932617, 0.27929407358169556, 0.3292110562324524, 0.29402393102645874, 0.261346697807312, 0.3357087969779968, 0.271553635597229, 0.3081698417663574, 0.29681169986724854, 0.35677289962768555, 0.27253711223602295, 0.22768539190292358, 0.25989967584609985, 0.21545571088790894, 0.2901409864425659, 0.2511947751045227, 0.36300063133239746, 0.3002867102622986, 0.27042579650878906, 0.1874799132347107, 0.3129052519798279, 0.22730278968811035, 0.27505016326904297, 0.2680177688598633, 0.20920485258102417, 0.27615272998809814, 0.2909906506538391, 0.36549532413482666, 0.2664549946784973, 0.2726523280143738, 0.1925797462463379, 0.2431929111480713, 0.1991141438484192, 0.22171878814697266, 0.219554603099823, 0.25373101234436035, 0.19782495498657227, 0.26857656240463257, 0.2075454592704773, 0.357288122177124, 0.21364820003509521, 0.26732414960861206, 0.2766317129135132, 0.25422030687332153, 0.2475917935371399, 0.34865808486938477, 0.2825281620025635, 0.20849347114562988, 0.3032878637313843, 0.21467894315719604, 0.24060797691345215, 0.18725669384002686, 0.2572324872016907, 0.21047264337539673, 0.2945225238800049, 0.17735373973846436, 0.3255469799041748, 0.2857024073600769, 0.2979217767715454, 0.37703412771224976, 0.3141641616821289, 0.3576101064682007, 0.2714623212814331, 0.2283286452293396, 0.2697194814682007, 0.4788835644721985, 0.20518594980239868, 0.2251431941986084, 0.28048640489578247, 0.24909037351608276, 0.21613913774490356, 0.2553948760032654, 0.23332631587982178, 0.21930968761444092, 0.23461896181106567, 0.2298579216003418, 0.20853590965270996, 0.27155637741088867, 0.22814476490020752, 0.21719932556152344, 0.26539814472198486, 0.2271420955657959, 0.3208528161048889, 0.24450552463531494, 0.23190146684646606, 0.22067981958389282, 0.20347195863723755, 0.2469695806503296, 0.1950589418411255, 0.2731438875198364, 0.178655743598938, 0.22734969854354858, 0.23157918453216553, 0.17078012228012085, 0.2248234748840332, 0.22519999742507935, 0.19089877605438232, 0.2060105800628662, 0.37194937467575073, 0.26615649461746216, 0.314333975315094, 0.20179104804992676, 0.19739341735839844, 0.23316717147827148, 0.28981858491897583, 0.37497478723526, 0.22145932912826538, 0.3276626467704773, 0.27583348751068115, 0.318376362323761, 0.25239503383636475, 0.1608244776725769, 0.19922232627868652, 0.23725807666778564, 0.21923434734344482, 0.29123610258102417, 0.2189021110534668, 0.18446320295333862, 0.2296099066734314, 0.24704551696777344, 0.23206478357315063, 0.3094860315322876, 0.2349848747253418, 0.17693406343460083, 0.25164908170700073, 0.3736079931259155, 0.31134867668151855, 0.25384002923965454, 0.2312251329421997, 0.21860790252685547, 0.18134647607803345, 0.3786957263946533, 0.35737502574920654, 0.24705129861831665, 0.35947465896606445, 0.3330317735671997, 0.24326056241989136, 0.1960884928703308, 0.2962648868560791, 0.20565026998519897, 0.2325509786605835, 0.22370469570159912, 0.27138614654541016, 0.19909942150115967, 0.23490315675735474, 0.3314850926399231, 0.19832628965377808, 0.2234291434288025, 0.26347631216049194, 0.2741715908050537, 0.23987352848052979, 0.23351025581359863, 0.2358100414276123, 0.31538891792297363, 0.22255361080169678, 0.23655778169631958, 0.14531153440475464, 0.2188243269920349, 0.25493019819259644, 0.20095908641815186, 0.18986546993255615, 0.22003906965255737, 0.2400253415107727, 0.21080493927001953, 0.20276743173599243, 0.2378319501876831, 0.23234659433364868, 0.25189411640167236, 0.2829785943031311]}],\n",
       "                        {\"hoverlabel\": {\"bgcolor\": \"white\", \"font\": {\"family\": \"Rockwell\", \"size\": 13}}, \"template\": {\"data\": {\"bar\": [{\"error_x\": {\"color\": \"#2a3f5f\"}, \"error_y\": {\"color\": \"#2a3f5f\"}, \"marker\": {\"line\": {\"color\": \"#E5ECF6\", \"width\": 0.5}}, \"type\": \"bar\"}], \"barpolar\": [{\"marker\": {\"line\": {\"color\": \"#E5ECF6\", \"width\": 0.5}}, \"type\": \"barpolar\"}], \"carpet\": [{\"aaxis\": {\"endlinecolor\": \"#2a3f5f\", \"gridcolor\": \"white\", \"linecolor\": \"white\", \"minorgridcolor\": \"white\", \"startlinecolor\": \"#2a3f5f\"}, \"baxis\": {\"endlinecolor\": \"#2a3f5f\", \"gridcolor\": \"white\", \"linecolor\": \"white\", \"minorgridcolor\": \"white\", \"startlinecolor\": \"#2a3f5f\"}, \"type\": \"carpet\"}], \"choropleth\": [{\"colorbar\": {\"outlinewidth\": 0, \"ticks\": \"\"}, \"type\": \"choropleth\"}], \"contour\": [{\"colorbar\": {\"outlinewidth\": 0, \"ticks\": \"\"}, \"colorscale\": [[0.0, \"#0d0887\"], [0.1111111111111111, \"#46039f\"], [0.2222222222222222, \"#7201a8\"], [0.3333333333333333, \"#9c179e\"], [0.4444444444444444, \"#bd3786\"], [0.5555555555555556, \"#d8576b\"], [0.6666666666666666, \"#ed7953\"], [0.7777777777777778, \"#fb9f3a\"], [0.8888888888888888, \"#fdca26\"], [1.0, \"#f0f921\"]], \"type\": \"contour\"}], \"contourcarpet\": [{\"colorbar\": {\"outlinewidth\": 0, \"ticks\": \"\"}, \"type\": \"contourcarpet\"}], \"heatmap\": [{\"colorbar\": {\"outlinewidth\": 0, \"ticks\": \"\"}, \"colorscale\": [[0.0, \"#0d0887\"], [0.1111111111111111, \"#46039f\"], [0.2222222222222222, \"#7201a8\"], [0.3333333333333333, \"#9c179e\"], [0.4444444444444444, \"#bd3786\"], [0.5555555555555556, \"#d8576b\"], [0.6666666666666666, \"#ed7953\"], [0.7777777777777778, \"#fb9f3a\"], [0.8888888888888888, \"#fdca26\"], [1.0, \"#f0f921\"]], \"type\": \"heatmap\"}], \"heatmapgl\": [{\"colorbar\": {\"outlinewidth\": 0, \"ticks\": \"\"}, \"colorscale\": [[0.0, \"#0d0887\"], [0.1111111111111111, \"#46039f\"], [0.2222222222222222, \"#7201a8\"], [0.3333333333333333, \"#9c179e\"], [0.4444444444444444, \"#bd3786\"], [0.5555555555555556, \"#d8576b\"], [0.6666666666666666, \"#ed7953\"], [0.7777777777777778, \"#fb9f3a\"], [0.8888888888888888, \"#fdca26\"], [1.0, \"#f0f921\"]], \"type\": \"heatmapgl\"}], \"histogram\": [{\"marker\": {\"colorbar\": {\"outlinewidth\": 0, \"ticks\": \"\"}}, \"type\": \"histogram\"}], \"histogram2d\": [{\"colorbar\": {\"outlinewidth\": 0, \"ticks\": \"\"}, \"colorscale\": [[0.0, \"#0d0887\"], [0.1111111111111111, \"#46039f\"], [0.2222222222222222, \"#7201a8\"], [0.3333333333333333, \"#9c179e\"], [0.4444444444444444, \"#bd3786\"], [0.5555555555555556, \"#d8576b\"], [0.6666666666666666, \"#ed7953\"], [0.7777777777777778, \"#fb9f3a\"], [0.8888888888888888, \"#fdca26\"], [1.0, \"#f0f921\"]], \"type\": \"histogram2d\"}], \"histogram2dcontour\": [{\"colorbar\": {\"outlinewidth\": 0, \"ticks\": \"\"}, \"colorscale\": [[0.0, \"#0d0887\"], [0.1111111111111111, \"#46039f\"], [0.2222222222222222, \"#7201a8\"], [0.3333333333333333, \"#9c179e\"], [0.4444444444444444, \"#bd3786\"], [0.5555555555555556, \"#d8576b\"], [0.6666666666666666, \"#ed7953\"], [0.7777777777777778, \"#fb9f3a\"], [0.8888888888888888, \"#fdca26\"], [1.0, \"#f0f921\"]], \"type\": \"histogram2dcontour\"}], \"mesh3d\": [{\"colorbar\": {\"outlinewidth\": 0, \"ticks\": \"\"}, \"type\": \"mesh3d\"}], \"parcoords\": [{\"line\": {\"colorbar\": {\"outlinewidth\": 0, \"ticks\": \"\"}}, \"type\": \"parcoords\"}], \"pie\": [{\"automargin\": true, \"type\": \"pie\"}], \"scatter\": [{\"marker\": {\"colorbar\": {\"outlinewidth\": 0, \"ticks\": \"\"}}, \"type\": \"scatter\"}], \"scatter3d\": [{\"line\": {\"colorbar\": {\"outlinewidth\": 0, \"ticks\": \"\"}}, \"marker\": {\"colorbar\": {\"outlinewidth\": 0, \"ticks\": \"\"}}, \"type\": \"scatter3d\"}], \"scattercarpet\": [{\"marker\": {\"colorbar\": {\"outlinewidth\": 0, \"ticks\": \"\"}}, \"type\": \"scattercarpet\"}], \"scattergeo\": [{\"marker\": {\"colorbar\": {\"outlinewidth\": 0, \"ticks\": \"\"}}, \"type\": \"scattergeo\"}], \"scattergl\": [{\"marker\": {\"colorbar\": {\"outlinewidth\": 0, \"ticks\": \"\"}}, \"type\": \"scattergl\"}], \"scattermapbox\": [{\"marker\": {\"colorbar\": {\"outlinewidth\": 0, \"ticks\": \"\"}}, \"type\": \"scattermapbox\"}], \"scatterpolar\": [{\"marker\": {\"colorbar\": {\"outlinewidth\": 0, \"ticks\": \"\"}}, \"type\": \"scatterpolar\"}], \"scatterpolargl\": [{\"marker\": {\"colorbar\": {\"outlinewidth\": 0, \"ticks\": \"\"}}, \"type\": \"scatterpolargl\"}], \"scatterternary\": [{\"marker\": {\"colorbar\": {\"outlinewidth\": 0, \"ticks\": \"\"}}, \"type\": \"scatterternary\"}], \"surface\": [{\"colorbar\": {\"outlinewidth\": 0, \"ticks\": \"\"}, \"colorscale\": [[0.0, \"#0d0887\"], [0.1111111111111111, \"#46039f\"], [0.2222222222222222, \"#7201a8\"], [0.3333333333333333, \"#9c179e\"], [0.4444444444444444, \"#bd3786\"], [0.5555555555555556, \"#d8576b\"], [0.6666666666666666, \"#ed7953\"], [0.7777777777777778, \"#fb9f3a\"], [0.8888888888888888, \"#fdca26\"], [1.0, \"#f0f921\"]], \"type\": \"surface\"}], \"table\": [{\"cells\": {\"fill\": {\"color\": \"#EBF0F8\"}, \"line\": {\"color\": \"white\"}}, \"header\": {\"fill\": {\"color\": \"#C8D4E3\"}, \"line\": {\"color\": \"white\"}}, \"type\": \"table\"}]}, \"layout\": {\"annotationdefaults\": {\"arrowcolor\": \"#2a3f5f\", \"arrowhead\": 0, \"arrowwidth\": 1}, \"coloraxis\": {\"colorbar\": {\"outlinewidth\": 0, \"ticks\": \"\"}}, \"colorscale\": {\"diverging\": [[0, \"#8e0152\"], [0.1, \"#c51b7d\"], [0.2, \"#de77ae\"], [0.3, \"#f1b6da\"], [0.4, \"#fde0ef\"], [0.5, \"#f7f7f7\"], [0.6, \"#e6f5d0\"], [0.7, \"#b8e186\"], [0.8, \"#7fbc41\"], [0.9, \"#4d9221\"], [1, \"#276419\"]], \"sequential\": [[0.0, \"#0d0887\"], [0.1111111111111111, \"#46039f\"], [0.2222222222222222, \"#7201a8\"], [0.3333333333333333, \"#9c179e\"], [0.4444444444444444, \"#bd3786\"], [0.5555555555555556, \"#d8576b\"], [0.6666666666666666, \"#ed7953\"], [0.7777777777777778, \"#fb9f3a\"], [0.8888888888888888, \"#fdca26\"], [1.0, \"#f0f921\"]], \"sequentialminus\": [[0.0, \"#0d0887\"], [0.1111111111111111, \"#46039f\"], [0.2222222222222222, \"#7201a8\"], [0.3333333333333333, \"#9c179e\"], [0.4444444444444444, \"#bd3786\"], [0.5555555555555556, \"#d8576b\"], [0.6666666666666666, \"#ed7953\"], [0.7777777777777778, \"#fb9f3a\"], [0.8888888888888888, \"#fdca26\"], [1.0, \"#f0f921\"]]}, \"colorway\": [\"#636efa\", \"#EF553B\", \"#00cc96\", \"#ab63fa\", \"#FFA15A\", \"#19d3f3\", \"#FF6692\", \"#B6E880\", \"#FF97FF\", \"#FECB52\"], \"font\": {\"color\": \"#2a3f5f\"}, \"geo\": {\"bgcolor\": \"white\", \"lakecolor\": \"white\", \"landcolor\": \"#E5ECF6\", \"showlakes\": true, \"showland\": true, \"subunitcolor\": \"white\"}, \"hoverlabel\": {\"align\": \"left\"}, \"hovermode\": \"closest\", \"mapbox\": {\"style\": \"light\"}, \"paper_bgcolor\": \"white\", \"plot_bgcolor\": \"#E5ECF6\", \"polar\": {\"angularaxis\": {\"gridcolor\": \"white\", \"linecolor\": \"white\", \"ticks\": \"\"}, \"bgcolor\": \"#E5ECF6\", \"radialaxis\": {\"gridcolor\": \"white\", \"linecolor\": \"white\", \"ticks\": \"\"}}, \"scene\": {\"xaxis\": {\"backgroundcolor\": \"#E5ECF6\", \"gridcolor\": \"white\", \"gridwidth\": 2, \"linecolor\": \"white\", \"showbackground\": true, \"ticks\": \"\", \"zerolinecolor\": \"white\"}, \"yaxis\": {\"backgroundcolor\": \"#E5ECF6\", \"gridcolor\": \"white\", \"gridwidth\": 2, \"linecolor\": \"white\", \"showbackground\": true, \"ticks\": \"\", \"zerolinecolor\": \"white\"}, \"zaxis\": {\"backgroundcolor\": \"#E5ECF6\", \"gridcolor\": \"white\", \"gridwidth\": 2, \"linecolor\": \"white\", \"showbackground\": true, \"ticks\": \"\", \"zerolinecolor\": \"white\"}}, \"shapedefaults\": {\"line\": {\"color\": \"#2a3f5f\"}}, \"ternary\": {\"aaxis\": {\"gridcolor\": \"white\", \"linecolor\": \"white\", \"ticks\": \"\"}, \"baxis\": {\"gridcolor\": \"white\", \"linecolor\": \"white\", \"ticks\": \"\"}, \"bgcolor\": \"#E5ECF6\", \"caxis\": {\"gridcolor\": \"white\", \"linecolor\": \"white\", \"ticks\": \"\"}}, \"title\": {\"x\": 0.05}, \"xaxis\": {\"automargin\": true, \"gridcolor\": \"white\", \"linecolor\": \"white\", \"ticks\": \"\", \"title\": {\"standoff\": 15}, \"zerolinecolor\": \"white\", \"zerolinewidth\": 2}, \"yaxis\": {\"automargin\": true, \"gridcolor\": \"white\", \"linecolor\": \"white\", \"ticks\": \"\", \"title\": {\"standoff\": 15}, \"zerolinecolor\": \"white\", \"zerolinewidth\": 2}}}},\n",
       "                        {\"responsive\": true}\n",
       "                    ).then(function(){\n",
       "                            \n",
       "var gd = document.getElementById('1280a37a-0597-4847-a719-6bb6c7a795b7');\n",
       "var x = new MutationObserver(function (mutations, observer) {{\n",
       "        var display = window.getComputedStyle(gd).display;\n",
       "        if (!display || display === 'none') {{\n",
       "            console.log([gd, 'removed!']);\n",
       "            Plotly.purge(gd);\n",
       "            observer.disconnect();\n",
       "        }}\n",
       "}});\n",
       "\n",
       "// Listen for the removal of the full notebook cells\n",
       "var notebookContainer = gd.closest('#notebook-container');\n",
       "if (notebookContainer) {{\n",
       "    x.observe(notebookContainer, {childList: true});\n",
       "}}\n",
       "\n",
       "// Listen for the clearing of the current output cell\n",
       "var outputEl = gd.closest('.output');\n",
       "if (outputEl) {{\n",
       "    x.observe(outputEl, {childList: true});\n",
       "}}\n",
       "\n",
       "                        })\n",
       "                };\n",
       "                });\n",
       "            </script>\n",
       "        </div>"
      ]
     },
     "metadata": {},
     "output_type": "display_data"
    }
   ],
   "source": [
    "results[0][\"val_orig_context_0\"]['text_beginning'] = results[0][\"val_orig_context_0\"].index.str[:10]\n",
    "_ = plot_text_sim(results[0][\"val_orig_context_0\"]['bert_val_orig_context_0_cos'], results[0][\"val_orig_context_0\"].index)\n"
   ]
  },
  {
   "cell_type": "code",
   "execution_count": 57,
   "metadata": {
    "hide_input": false
   },
   "outputs": [],
   "source": [
    "with open(\"first_results_mean.p\", \"rb\") as file:\n",
    "    mean_res = pickle.load(file)"
   ]
  },
  {
   "cell_type": "code",
   "execution_count": 58,
   "metadata": {
    "hide_input": false,
    "scrolled": true
   },
   "outputs": [
    {
     "data": {
      "text/plain": [
       "<BarContainer object of 30 artists>"
      ]
     },
     "execution_count": 58,
     "metadata": {},
     "output_type": "execute_result"
    },
    {
     "data": {
      "image/png": "[encoded data removed]",
      "text/plain": [
       "<Figure size 1080x720 with 1 Axes>"
      ]
     },
     "metadata": {
      "needs_background": "light"
     },
     "output_type": "display_data"
    }
   ],
   "source": [
    "import pandas as pd\n",
    "import matplotlib.pyplot as plt\n",
    "data = {i : j for subdict in mean_res.values() for i, j in subdict.items()}\n",
    "data = pd.DataFrame(data.values(), index = data.keys()).rename(columns={0 : \"score\"})\n",
    "fig = plt.figure(figsize=(15, 10))\n",
    "plt.xticks(rotation=60)\n",
    "plt.bar(data.index, data[\"score\"])"
   ]
  },
  {
   "cell_type": "code",
   "execution_count": 59,
   "metadata": {},
   "outputs": [
    {
     "data": {
      "text/html": [
       "<div>\n",
       "<style scoped>\n",
       "    .dataframe tbody tr th:only-of-type {\n",
       "        vertical-align: middle;\n",
       "    }\n",
       "\n",
       "    .dataframe tbody tr th {\n",
       "        vertical-align: top;\n",
       "    }\n",
       "\n",
       "    .dataframe thead th {\n",
       "        text-align: right;\n",
       "    }\n",
       "</style>\n",
       "<table border=\"1\" class=\"dataframe\">\n",
       "  <thead>\n",
       "    <tr style=\"text-align: right;\">\n",
       "      <th></th>\n",
       "      <th>score</th>\n",
       "    </tr>\n",
       "  </thead>\n",
       "  <tbody>\n",
       "    <tr>\n",
       "      <th>glove_original_cos</th>\n",
       "      <td>0.064573</td>\n",
       "    </tr>\n",
       "    <tr>\n",
       "      <th>glove_original_ts_ss</th>\n",
       "      <td>0.001059</td>\n",
       "    </tr>\n",
       "    <tr>\n",
       "      <th>bert_original_cos</th>\n",
       "      <td>0.255802</td>\n",
       "    </tr>\n",
       "    <tr>\n",
       "      <th>bert_original_ts_ss</th>\n",
       "      <td>1.924498</td>\n",
       "    </tr>\n",
       "    <tr>\n",
       "      <th>roberta_original_cos</th>\n",
       "      <td>0.003507</td>\n",
       "    </tr>\n",
       "    <tr>\n",
       "      <th>roberta_original_ts_ss</th>\n",
       "      <td>0.000749</td>\n",
       "    </tr>\n",
       "    <tr>\n",
       "      <th>glove_val_orig_context_0_cos</th>\n",
       "      <td>0.083000</td>\n",
       "    </tr>\n",
       "    <tr>\n",
       "      <th>glove_val_orig_context_0_ts_ss</th>\n",
       "      <td>0.001745</td>\n",
       "    </tr>\n",
       "    <tr>\n",
       "      <th>bert_val_orig_context_0_cos</th>\n",
       "      <td>0.268017</td>\n",
       "    </tr>\n",
       "    <tr>\n",
       "      <th>bert_val_orig_context_0_ts_ss</th>\n",
       "      <td>2.120458</td>\n",
       "    </tr>\n",
       "    <tr>\n",
       "      <th>roberta_val_orig_context_0_cos</th>\n",
       "      <td>0.004252</td>\n",
       "    </tr>\n",
       "    <tr>\n",
       "      <th>roberta_val_orig_context_0_ts_ss</th>\n",
       "      <td>0.001577</td>\n",
       "    </tr>\n",
       "    <tr>\n",
       "      <th>glove_val_orig_paper_0_cos</th>\n",
       "      <td>0.101174</td>\n",
       "    </tr>\n",
       "    <tr>\n",
       "      <th>glove_val_orig_paper_0_ts_ss</th>\n",
       "      <td>0.001820</td>\n",
       "    </tr>\n",
       "    <tr>\n",
       "      <th>bert_val_orig_paper_0_cos</th>\n",
       "      <td>0.259969</td>\n",
       "    </tr>\n",
       "    <tr>\n",
       "      <th>bert_val_orig_paper_0_ts_ss</th>\n",
       "      <td>2.061616</td>\n",
       "    </tr>\n",
       "    <tr>\n",
       "      <th>roberta_val_orig_paper_0_cos</th>\n",
       "      <td>0.004459</td>\n",
       "    </tr>\n",
       "    <tr>\n",
       "      <th>roberta_val_orig_paper_0_ts_ss</th>\n",
       "      <td>0.001026</td>\n",
       "    </tr>\n",
       "    <tr>\n",
       "      <th>glove_val_orig_context_1_cos</th>\n",
       "      <td>0.054018</td>\n",
       "    </tr>\n",
       "    <tr>\n",
       "      <th>glove_val_orig_context_1_ts_ss</th>\n",
       "      <td>0.000955</td>\n",
       "    </tr>\n",
       "    <tr>\n",
       "      <th>bert_val_orig_context_1_cos</th>\n",
       "      <td>0.263514</td>\n",
       "    </tr>\n",
       "    <tr>\n",
       "      <th>bert_val_orig_context_1_ts_ss</th>\n",
       "      <td>2.011877</td>\n",
       "    </tr>\n",
       "    <tr>\n",
       "      <th>roberta_val_orig_context_1_cos</th>\n",
       "      <td>0.004039</td>\n",
       "    </tr>\n",
       "    <tr>\n",
       "      <th>roberta_val_orig_context_1_ts_ss</th>\n",
       "      <td>0.001108</td>\n",
       "    </tr>\n",
       "    <tr>\n",
       "      <th>glove_val_orig_paper_1_cos</th>\n",
       "      <td>0.058432</td>\n",
       "    </tr>\n",
       "    <tr>\n",
       "      <th>glove_val_orig_paper_1_ts_ss</th>\n",
       "      <td>0.000856</td>\n",
       "    </tr>\n",
       "    <tr>\n",
       "      <th>bert_val_orig_paper_1_cos</th>\n",
       "      <td>0.193805</td>\n",
       "    </tr>\n",
       "    <tr>\n",
       "      <th>bert_val_orig_paper_1_ts_ss</th>\n",
       "      <td>1.025380</td>\n",
       "    </tr>\n",
       "    <tr>\n",
       "      <th>roberta_val_orig_paper_1_cos</th>\n",
       "      <td>0.003768</td>\n",
       "    </tr>\n",
       "    <tr>\n",
       "      <th>roberta_val_orig_paper_1_ts_ss</th>\n",
       "      <td>0.000815</td>\n",
       "    </tr>\n",
       "  </tbody>\n",
       "</table>\n",
       "</div>"
      ],
      "text/plain": [
       "                                     score\n",
       "glove_original_cos                0.064573\n",
       "glove_original_ts_ss              0.001059\n",
       "bert_original_cos                 0.255802\n",
       "bert_original_ts_ss               1.924498\n",
       "roberta_original_cos              0.003507\n",
       "roberta_original_ts_ss            0.000749\n",
       "glove_val_orig_context_0_cos      0.083000\n",
       "glove_val_orig_context_0_ts_ss    0.001745\n",
       "bert_val_orig_context_0_cos       0.268017\n",
       "bert_val_orig_context_0_ts_ss     2.120458\n",
       "roberta_val_orig_context_0_cos    0.004252\n",
       "roberta_val_orig_context_0_ts_ss  0.001577\n",
       "glove_val_orig_paper_0_cos        0.101174\n",
       "glove_val_orig_paper_0_ts_ss      0.001820\n",
       "bert_val_orig_paper_0_cos         0.259969\n",
       "bert_val_orig_paper_0_ts_ss       2.061616\n",
       "roberta_val_orig_paper_0_cos      0.004459\n",
       "roberta_val_orig_paper_0_ts_ss    0.001026\n",
       "glove_val_orig_context_1_cos      0.054018\n",
       "glove_val_orig_context_1_ts_ss    0.000955\n",
       "bert_val_orig_context_1_cos       0.263514\n",
       "bert_val_orig_context_1_ts_ss     2.011877\n",
       "roberta_val_orig_context_1_cos    0.004039\n",
       "roberta_val_orig_context_1_ts_ss  0.001108\n",
       "glove_val_orig_paper_1_cos        0.058432\n",
       "glove_val_orig_paper_1_ts_ss      0.000856\n",
       "bert_val_orig_paper_1_cos         0.193805\n",
       "bert_val_orig_paper_1_ts_ss       1.025380\n",
       "roberta_val_orig_paper_1_cos      0.003768\n",
       "roberta_val_orig_paper_1_ts_ss    0.000815"
      ]
     },
     "execution_count": 59,
     "metadata": {},
     "output_type": "execute_result"
    }
   ],
   "source": [
    "data"
   ]
  },
  {
   "cell_type": "markdown",
   "metadata": {},
   "source": [
    "### Bag-Of-Words"
   ]
  },
  {
   "cell_type": "markdown",
   "metadata": {},
   "source": [
    "### Metrics comparison"
   ]
  },
  {
   "cell_type": "markdown",
   "metadata": {},
   "source": [
    "HIPLOT"
   ]
  },
  {
   "cell_type": "markdown",
   "metadata": {},
   "source": [
    "## Conclusions"
   ]
  }
 ],
 "metadata": {
  "kernelspec": {
   "display_name": "Python 3",
   "language": "python",
   "name": "python3"
  },
  "language_info": {
   "codemirror_mode": {
    "name": "ipython",
    "version": 3
   },
   "file_extension": ".py",
   "mimetype": "text/x-python",
   "name": "python",
   "nbconvert_exporter": "python",
   "pygments_lexer": "ipython3",
   "version": "3.6.8"
  }
 },
 "nbformat": 4,
 "nbformat_minor": 4
}
