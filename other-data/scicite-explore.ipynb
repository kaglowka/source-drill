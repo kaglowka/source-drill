{
 "cells": [
  {
   "cell_type": "code",
   "execution_count": 2,
   "metadata": {
    "ExecuteTime": {
     "end_time": "2020-05-11T13:39:37.778717Z",
     "start_time": "2020-05-11T13:39:35.504554Z"
    }
   },
   "outputs": [],
   "source": [
    "import json\n",
    "import jsonlines\n",
    "\n",
    "# with open('fileName.jsonl', 'rb') as f: # opening file in binary(rb) mode    \n",
    "#    for item in json_lines.reader(f):\n",
    "#        print(item) #or use print(item['X']) for printing specific data\n",
    "        \n",
    "with open('scicite/scaffolds/cite-worthiness-scaffold-train.jsonl') as f:\n",
    "    data = list(jsonlines.Reader(f))\n"
   ]
  },
  {
   "cell_type": "code",
   "execution_count": 3,
   "metadata": {
    "ExecuteTime": {
     "end_time": "2020-05-11T13:39:39.847832Z",
     "start_time": "2020-05-11T13:39:39.745915Z"
    },
    "scrolled": true
   },
   "outputs": [
    {
     "data": {
      "text/plain": [
       "73484"
      ]
     },
     "execution_count": 3,
     "metadata": {},
     "output_type": "execute_result"
    },
    {
     "data": {
      "text/plain": [
       "10532"
      ]
     },
     "execution_count": 3,
     "metadata": {},
     "output_type": "execute_result"
    },
    {
     "data": {
      "text/plain": [
       "{'text': 'resource discovery, interaction with HTTP, and security are all the important features provided by CoAP [7], [38].',\n",
       " 'citing_paper_id': 'cd3d4459ff0ff590a3e3258b0f774d6963cd4c90',\n",
       " 'cited_paper_id': None,\n",
       " 'citing_paper_year': None,\n",
       " 'cited_paper_year': None,\n",
       " 'citing_paper_title': None,\n",
       " 'cited_paper_title': None,\n",
       " 'cited_author_ids': None,\n",
       " 'citing_author_ids': None,\n",
       " 'extended_context': None,\n",
       " 'section_number': None,\n",
       " 'section_title': None,\n",
       " 'intent': None,\n",
       " 'cite_marker_offset': None,\n",
       " 'sents_before': None,\n",
       " 'sents_after': None,\n",
       " 'cleaned_cite_text': 'resource discovery, interaction with HTTP, and security are all the important features provided by CoAP [7], [38].',\n",
       " 'citation_id': 'cd3d4459ff0ff590a3e3258b0f774d6963cd4c90_47',\n",
       " 'citation_excerpt_index': None,\n",
       " 'section_name': None,\n",
       " 'is_citation': True}"
      ]
     },
     "execution_count": 3,
     "metadata": {},
     "output_type": "execute_result"
    }
   ],
   "source": [
    "filtered = list(filter(lambda item: item['citing_paper_id'] is not None, data))\n",
    "len(data)\n",
    "len(filtered)\n",
    "\n",
    "filtered[0]\n",
    "\n",
    "\n"
   ]
  },
  {
   "cell_type": "code",
   "execution_count": 11,
   "metadata": {
    "ExecuteTime": {
     "end_time": "2020-05-01T12:06:18.727416Z",
     "start_time": "2020-05-01T12:06:18.694021Z"
    }
   },
   "outputs": [
    {
     "data": {
      "text/plain": [
       "{'text': 'The churn rate is high, with many  members leaving regularly to be replaced by new faces.',\n",
       " 'citing_paper_id': None,\n",
       " 'cited_paper_id': None,\n",
       " 'citing_paper_year': None,\n",
       " 'cited_paper_year': None,\n",
       " 'citing_paper_title': None,\n",
       " 'cited_paper_title': None,\n",
       " 'cited_author_ids': None,\n",
       " 'citing_author_ids': None,\n",
       " 'extended_context': None,\n",
       " 'section_number': None,\n",
       " 'section_title': None,\n",
       " 'intent': None,\n",
       " 'cite_marker_offset': None,\n",
       " 'sents_before': None,\n",
       " 'sents_after': None,\n",
       " 'cleaned_cite_text': 'The churn rate is high, with many  members leaving regularly to be replaced by new faces.',\n",
       " 'citation_id': None,\n",
       " 'citation_excerpt_index': None,\n",
       " 'section_name': None,\n",
       " 'is_citation': False}"
      ]
     },
     "execution_count": 11,
     "metadata": {},
     "output_type": "execute_result"
    },
    {
     "data": {
      "text/plain": [
       "62952"
      ]
     },
     "execution_count": 11,
     "metadata": {},
     "output_type": "execute_result"
    }
   ],
   "source": [
    "not_citation = list(filter(lambda item: not item['is_citation'], data))\n",
    "not_citation[0]\n",
    "len(not_citation)"
   ]
  },
  {
   "cell_type": "code",
   "execution_count": null,
   "metadata": {},
   "outputs": [],
   "source": []
  },
  {
   "cell_type": "code",
   "execution_count": 5,
   "metadata": {
    "ExecuteTime": {
     "end_time": "2020-05-11T13:40:07.234308Z",
     "start_time": "2020-05-11T13:40:06.776334Z"
    }
   },
   "outputs": [
    {
     "data": {
      "text/plain": [
       "8243"
      ]
     },
     "execution_count": 5,
     "metadata": {},
     "output_type": "execute_result"
    },
    {
     "data": {
      "text/plain": [
       "{'source': 'explicit',\n",
       " 'citeStart': 16,\n",
       " 'sectionName': 'Novel Quantitative Trait Loci for Seminal Root Traits in Barley',\n",
       " 'string': 'In the study by Hickey et al. (2012), spikes were sampled from the field at the point of physiological\\nrobinson et al.: genomic regions influencing root traits in barley 11 of 13\\nmaturity, dried, grain threshed by hand, and stored at −20C to preserve grain dormancy before germination testing.',\n",
       " 'citeEnd': 36,\n",
       " 'label': 'background',\n",
       " 'label_confidence': 1.0,\n",
       " 'citingPaperId': 'ce1d09a4a3a8d7fd3405b9328f65f00c952cf64b',\n",
       " 'citedPaperId': 'b6642e19efb8db5623b3cc4eef1c5822a6151107',\n",
       " 'isKeyCitation': True,\n",
       " 'id': 'ce1d09a4a3a8d7fd3405b9328f65f00c952cf64b>b6642e19efb8db5623b3cc4eef1c5822a6151107',\n",
       " 'unique_id': 'ce1d09a4a3a8d7fd3405b9328f65f00c952cf64b>b6642e19efb8db5623b3cc4eef1c5822a6151107_2',\n",
       " 'excerpt_index': 2}"
      ]
     },
     "execution_count": 5,
     "metadata": {},
     "output_type": "execute_result"
    },
    {
     "data": {
      "text/plain": [
       "1861"
      ]
     },
     "execution_count": 5,
     "metadata": {},
     "output_type": "execute_result"
    },
    {
     "data": {
      "text/plain": [
       "{'source': 'explicit',\n",
       " 'citeEnd': 166.0,\n",
       " 'sectionName': 'Discussion',\n",
       " 'citeStart': 156.0,\n",
       " 'string': 'In addition, the result of the present study supports previous studies, which did not find increased rates of first-born children among individual with OCD (20,31,34).',\n",
       " 'label': 'result',\n",
       " 'label2': 'supportive',\n",
       " 'citingPaperId': 'fa7145adc9f8cfb8af7a189d9040c13c84ced094',\n",
       " 'citedPaperId': '20e23b4f76761d246a7c3b00b80e139e2008f77d',\n",
       " 'isKeyCitation': False,\n",
       " 'id': 'fa7145adc9f8cfb8af7a189d9040c13c84ced094>20e23b4f76761d246a7c3b00b80e139e2008f77d',\n",
       " 'unique_id': 'fa7145adc9f8cfb8af7a189d9040c13c84ced094>20e23b4f76761d246a7c3b00b80e139e2008f77d_0',\n",
       " 'excerpt_index': 0}"
      ]
     },
     "execution_count": 5,
     "metadata": {},
     "output_type": "execute_result"
    }
   ],
   "source": [
    "import json\n",
    "import jsonlines\n",
    "\n",
    "# with open('fileName.jsonl', 'rb') as f: # opening file in binary(rb) mode    \n",
    "#    for item in json_lines.reader(f):\n",
    "#        print(item) #or use print(item['X']) for printing specific data\n",
    "        \n",
    "with open('scicite/train.jsonl') as f:\n",
    "    data = list(jsonlines.Reader(f))\n",
    "len(data)\n",
    "data[1]\n",
    "\n",
    "with open('scicite/test.jsonl') as f:\n",
    "    data = list(jsonlines.Reader(f))\n",
    "len(data)\n",
    "data[1]"
   ]
  }
 ],
 "metadata": {
  "kernelspec": {
   "display_name": "cogsci_python",
   "language": "python",
   "name": "cogsci_python"
  },
  "language_info": {
   "codemirror_mode": {
    "name": "ipython",
    "version": 3
   },
   "file_extension": ".py",
   "mimetype": "text/x-python",
   "name": "python",
   "nbconvert_exporter": "python",
   "pygments_lexer": "ipython3",
   "version": "3.8.2"
  }
 },
 "nbformat": 4,
 "nbformat_minor": 4
}
